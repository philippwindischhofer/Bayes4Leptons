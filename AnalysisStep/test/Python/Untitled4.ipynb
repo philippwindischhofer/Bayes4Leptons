{
 "cells": [
  {
   "cell_type": "code",
   "execution_count": 33,
   "metadata": {
    "collapsed": true
   },
   "outputs": [],
   "source": [
    "import os\n",
    "import re\n",
    "import subprocess as sp"
   ]
  },
  {
   "cell_type": "code",
   "execution_count": 27,
   "metadata": {
    "collapsed": true
   },
   "outputs": [],
   "source": [
    "root_file_name = \"ZZ4lAnalysis.root\""
   ]
  },
  {
   "cell_type": "code",
   "execution_count": 4,
   "metadata": {
    "collapsed": true
   },
   "outputs": [],
   "source": [
    "run_dir = \"/data_CMS/cms/wind/180507_bkg_cat_ZXonly_manyepochs/number_layers_2.0_number_neurons_64.0/\""
   ]
  },
  {
   "cell_type": "code",
   "execution_count": 7,
   "metadata": {
    "collapsed": false
   },
   "outputs": [],
   "source": [
    "augmentation_training_chunks_dir = os.path.join(run_dir, \"augmentation_training_chunks\")\n",
    "augmentation_validation_chunks_dir = os.path.join(run_dir, \"augmentation_validation_chunks\")\n",
    "augmentation_test_chunks_dir = os.path.join(run_dir, \"augmentation_test_chunks\")"
   ]
  },
  {
   "cell_type": "code",
   "execution_count": 13,
   "metadata": {
    "collapsed": true
   },
   "outputs": [],
   "source": [
    "augmentation_training_dir = os.path.join(run_dir, \"augmentation_training\")\n",
    "augmentation_validation_dir = os.path.join(run_dir, \"augmentation_validation\")\n",
    "augmentation_test_dir = os.path.join(run_dir, \"augmentation_test\")"
   ]
  },
  {
   "cell_type": "code",
   "execution_count": null,
   "metadata": {
    "collapsed": true
   },
   "outputs": [],
   "source": []
  },
  {
   "cell_type": "code",
   "execution_count": 36,
   "metadata": {
    "collapsed": true
   },
   "outputs": [],
   "source": [
    "def merge_chunks(source_dir, dest_dir):\n",
    "    if not os.path.exists(dest_dir):\n",
    "        os.makedirs(dest_dir)\n",
    "        \n",
    "    available_dirs = next(os.walk(source_dir))[1]\n",
    "    merged_dirs = list(set(map(lambda x: re.sub('_chunk_.*$', '', x), available_dirs)))\n",
    "    \n",
    "    for merged_dir in merged_dirs:\n",
    "        chunks = sorted([cur_dir for cur_dir in available_dirs if merged_dir in cur_dir])\n",
    "    \n",
    "        dest_folder = os.path.join(dest_dir, merged_dir)\n",
    "        #if not os.path.exists(dest_folder):\n",
    "        #    os.path.makedirs(dest_folder)\n",
    "    \n",
    "        dest_file = os.path.join(dest_folder, root_file_name)\n",
    "        \n",
    "        source_files = [os.path.join(source_dir, chunk, root_file_name) for chunk in chunks]\n",
    "        \n",
    "        print \"merging \" + \" \".join(chunks) + \" into \" + merged_dir\n",
    "\n",
    "        # do the raw merging\n",
    "        #output = sp.check_output([\"hadd\", dest_file] + source_files)\n",
    "        #print output\n",
    "    \n",
    "        # now, need to ensure that the metadata is corrected (as hadd also modfies it in a way that is incorrect here)\n",
    "        command = [\"rootcp\", \"--replace\", source_files[0] + \":ClassTree/Counters\", dest_file + \":/ClassTree/Counters\"]\n",
    "        print \" \".join(command)\n",
    "        #output = sp.check_output(command)\n",
    "        #print output"
   ]
  },
  {
   "cell_type": "code",
   "execution_count": 37,
   "metadata": {
    "collapsed": false
   },
   "outputs": [
    {
     "name": "stdout",
     "output_type": "stream",
     "text": [
      "merging ttH125_chunk_0 ttH125_chunk_1 ttH125_chunk_2 into ttH125\n",
      "rootcp --replace /data_CMS/cms/wind/180507_bkg_cat_ZXonly_manyepochs/number_layers_2.0_number_neurons_64.0/augmentation_training_chunks/ttH125_chunk_0/ZZ4lAnalysis.root:ClassTree/Counters /data_CMS/cms/wind/180507_bkg_cat_ZXonly_manyepochs/number_layers_2.0_number_neurons_64.0/augmentation_training/ttH125/ZZ4lAnalysis.root:/ClassTree/Counters\n",
      "merging ZH125_chunk_0 ZH125_chunk_1 ZH125_chunk_2 ZH125_chunk_3 into ZH125\n",
      "rootcp --replace /data_CMS/cms/wind/180507_bkg_cat_ZXonly_manyepochs/number_layers_2.0_number_neurons_64.0/augmentation_training_chunks/ZH125_chunk_0/ZZ4lAnalysis.root:ClassTree/Counters /data_CMS/cms/wind/180507_bkg_cat_ZXonly_manyepochs/number_layers_2.0_number_neurons_64.0/augmentation_training/ZH125/ZZ4lAnalysis.root:/ClassTree/Counters\n",
      "merging ggH125_chunk_0 ggH125_chunk_1 ggH125_chunk_2 ggH125_chunk_3 ggH125_chunk_4 ggH125_chunk_5 into ggH125\n",
      "rootcp --replace /data_CMS/cms/wind/180507_bkg_cat_ZXonly_manyepochs/number_layers_2.0_number_neurons_64.0/augmentation_training_chunks/ggH125_chunk_0/ZZ4lAnalysis.root:ClassTree/Counters /data_CMS/cms/wind/180507_bkg_cat_ZXonly_manyepochs/number_layers_2.0_number_neurons_64.0/augmentation_training/ggH125/ZZ4lAnalysis.root:/ClassTree/Counters\n",
      "merging WplusH125_chunk_0 into WplusH125\n",
      "rootcp --replace /data_CMS/cms/wind/180507_bkg_cat_ZXonly_manyepochs/number_layers_2.0_number_neurons_64.0/augmentation_training_chunks/WplusH125_chunk_0/ZZ4lAnalysis.root:ClassTree/Counters /data_CMS/cms/wind/180507_bkg_cat_ZXonly_manyepochs/number_layers_2.0_number_neurons_64.0/augmentation_training/WplusH125/ZZ4lAnalysis.root:/ClassTree/Counters\n",
      "merging WminusH125_chunk_0 into WminusH125\n",
      "rootcp --replace /data_CMS/cms/wind/180507_bkg_cat_ZXonly_manyepochs/number_layers_2.0_number_neurons_64.0/augmentation_training_chunks/WminusH125_chunk_0/ZZ4lAnalysis.root:ClassTree/Counters /data_CMS/cms/wind/180507_bkg_cat_ZXonly_manyepochs/number_layers_2.0_number_neurons_64.0/augmentation_training/WminusH125/ZZ4lAnalysis.root:/ClassTree/Counters\n",
      "merging AllData_chunk_0 AllData_chunk_1 into AllData\n",
      "rootcp --replace /data_CMS/cms/wind/180507_bkg_cat_ZXonly_manyepochs/number_layers_2.0_number_neurons_64.0/augmentation_training_chunks/AllData_chunk_0/ZZ4lAnalysis.root:ClassTree/Counters /data_CMS/cms/wind/180507_bkg_cat_ZXonly_manyepochs/number_layers_2.0_number_neurons_64.0/augmentation_training/AllData/ZZ4lAnalysis.root:/ClassTree/Counters\n",
      "merging VBFH125_chunk_0 VBFH125_chunk_1 VBFH125_chunk_2 VBFH125_chunk_3 into VBFH125\n",
      "rootcp --replace /data_CMS/cms/wind/180507_bkg_cat_ZXonly_manyepochs/number_layers_2.0_number_neurons_64.0/augmentation_training_chunks/VBFH125_chunk_0/ZZ4lAnalysis.root:ClassTree/Counters /data_CMS/cms/wind/180507_bkg_cat_ZXonly_manyepochs/number_layers_2.0_number_neurons_64.0/augmentation_training/VBFH125/ZZ4lAnalysis.root:/ClassTree/Counters\n"
     ]
    }
   ],
   "source": [
    "merge_chunks(augmentation_training_chunks_dir, augmentation_training_dir)"
   ]
  },
  {
   "cell_type": "code",
   "execution_count": 23,
   "metadata": {
    "collapsed": false
   },
   "outputs": [],
   "source": []
  },
  {
   "cell_type": "code",
   "execution_count": 24,
   "metadata": {
    "collapsed": false
   },
   "outputs": [
    {
     "data": {
      "text/plain": [
       "['ttH125', 'ZH125', 'ggH125', 'WplusH125', 'WminusH125', 'AllData', 'VBFH125']"
      ]
     },
     "execution_count": 24,
     "metadata": {},
     "output_type": "execute_result"
    }
   ],
   "source": [
    "merged_dirs"
   ]
  },
  {
   "cell_type": "code",
   "execution_count": 26,
   "metadata": {
    "collapsed": false
   },
   "outputs": [
    {
     "name": "stdout",
     "output_type": "stream",
     "text": [
      "['ttH125_chunk_0', 'ttH125_chunk_1', 'ttH125_chunk_2']\n",
      "['ZH125_chunk_0', 'ZH125_chunk_1', 'ZH125_chunk_2', 'ZH125_chunk_3']\n",
      "['ggH125_chunk_0', 'ggH125_chunk_1', 'ggH125_chunk_2', 'ggH125_chunk_3', 'ggH125_chunk_4', 'ggH125_chunk_5']\n",
      "['WplusH125_chunk_0']\n",
      "['WminusH125_chunk_0']\n",
      "['AllData_chunk_0', 'AllData_chunk_1']\n",
      "['VBFH125_chunk_0', 'VBFH125_chunk_1', 'VBFH125_chunk_2', 'VBFH125_chunk_3']\n"
     ]
    }
   ],
   "source": []
  },
  {
   "cell_type": "code",
   "execution_count": null,
   "metadata": {
    "collapsed": true
   },
   "outputs": [],
   "source": []
  }
 ],
 "metadata": {
  "kernelspec": {
   "display_name": "Python 2",
   "language": "python",
   "name": "python2"
  },
  "language_info": {
   "codemirror_mode": {
    "name": "ipython",
    "version": 2
   },
   "file_extension": ".py",
   "mimetype": "text/x-python",
   "name": "python",
   "nbconvert_exporter": "python",
   "pygments_lexer": "ipython2",
   "version": "2.7.11"
  }
 },
 "nbformat": 4,
 "nbformat_minor": 2
}
