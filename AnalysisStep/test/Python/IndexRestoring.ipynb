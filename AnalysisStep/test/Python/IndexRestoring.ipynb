{
 "cells": [
  {
   "cell_type": "code",
   "execution_count": 1,
   "metadata": {
    "collapsed": false
   },
   "outputs": [
    {
     "name": "stdout",
     "output_type": "stream",
     "text": [
      "Welcome to JupyROOT 6.10/09\n"
     ]
    }
   ],
   "source": [
    "from trainlib.FileCollection import FileCollection\n",
    "from trainlib.utils import read_data\n",
    "from trainlib.PCAWhiteningPreprocessor import PCAWhiteningPreprocessor\n",
    "from trainlib.config import Config\n",
    "import pandas as pd"
   ]
  },
  {
   "cell_type": "code",
   "execution_count": 8,
   "metadata": {
    "collapsed": false
   },
   "outputs": [
    {
     "name": "stdout",
     "output_type": "stream",
     "text": [
      "skimming /data_CMS/cms/wind/CJLST_NTuples/WplusH125/ZZ4lAnalysis.root\n",
      "collection set up: 1 files, 32401 entries in total, 32401 of which will be used\n"
     ]
    }
   ],
   "source": [
    "fcoll = FileCollection([\"/data_CMS/cms/wind/CJLST_NTuples/WplusH125/ZZ4lAnalysis.root\"], 0.0, 1.0)"
   ]
  },
  {
   "cell_type": "code",
   "execution_count": 3,
   "metadata": {
    "collapsed": true
   },
   "outputs": [],
   "source": [
    "def countNeutrinos(row):\n",
    "    number_neutrinos = 0\n",
    "    associated_particles = row[\"LHEAssociatedParticleId\"]\n",
    "    \n",
    "    if associated_particles is not None:\n",
    "        for pdg_code in associated_particles:\n",
    "            if abs(pdg_code) == 12 or abs(pdg_code) == 14 or abs(pdg_code) == 16:\n",
    "                number_neutrinos += 1\n",
    "                \n",
    "    return number_neutrinos"
   ]
  },
  {
   "cell_type": "code",
   "execution_count": 4,
   "metadata": {
    "collapsed": true
   },
   "outputs": [],
   "source": [
    "def countAssocLeptons(row):\n",
    "    if row[\"GenAssocLep1Id\"] == 0 and row[\"GenAssocLep2Id\"] == 0:\n",
    "        return 0\n",
    "    elif (row[\"GenAssocLep1Id\"] != 0 and row[\"GenAssocLep2Id\"] == 0) or (row[\"GenAssocLep1Id\"] == 0 and row[\"GenAssocLep2Id\"] != 0):\n",
    "        return 1\n",
    "    elif row[\"GenAssocLep1Id\"] != 0 and row[\"GenAssocLep2Id\"] != 0:\n",
    "        return 2\n",
    "    \n",
    "    return 0"
   ]
  },
  {
   "cell_type": "code",
   "execution_count": 15,
   "metadata": {
    "collapsed": false
   },
   "outputs": [],
   "source": [
    "processed_columns = [\"PFMET\", \"nCleanedJetsPt30\", \"nCleanedJetsPt30BTagged_bTagSF\", \"nExtraLep\", \"D_VBF2j_ggH_ME\"]\n",
    "cuts = lambda row: row[\"nCleanedJetsPt30\"] >= 2 and row[\"ZZMass\"] > 120.0 and countAssocLeptons(row) >= 1\n",
    "\n",
    "pre2 = PCAWhiteningPreprocessor(processed_columns = processed_columns, cuts = cuts)\n",
    "pre2.load(\"/home/llr/cms/wind/\", \"sample_pre.pkl\")"
   ]
  },
  {
   "cell_type": "code",
   "execution_count": 16,
   "metadata": {
    "collapsed": true
   },
   "outputs": [],
   "source": [
    "indata = read_data(fcoll, start = 0, stop = 100, branches = Config.branches)"
   ]
  },
  {
   "cell_type": "code",
   "execution_count": 17,
   "metadata": {
    "collapsed": false
   },
   "outputs": [
    {
     "data": {
      "text/html": [
       "<div>\n",
       "<style>\n",
       "    .dataframe thead tr:only-child th {\n",
       "        text-align: right;\n",
       "    }\n",
       "\n",
       "    .dataframe thead th {\n",
       "        text-align: left;\n",
       "    }\n",
       "\n",
       "    .dataframe tbody tr th {\n",
       "        vertical-align: top;\n",
       "    }\n",
       "</style>\n",
       "<table border=\"1\" class=\"dataframe\">\n",
       "  <thead>\n",
       "    <tr style=\"text-align: right;\">\n",
       "      <th></th>\n",
       "      <th>PFMET</th>\n",
       "      <th>nCleanedJetsPt30</th>\n",
       "      <th>nCleanedJetsPt30BTagged_bTagSF</th>\n",
       "      <th>nExtraLep</th>\n",
       "      <th>ZZMass</th>\n",
       "      <th>LHEAssociatedParticleId</th>\n",
       "      <th>GenAssocLep1Id</th>\n",
       "      <th>GenAssocLep2Id</th>\n",
       "      <th>D_VBF2j_ggH_ME</th>\n",
       "      <th>D_VBF1j_ggH_ME</th>\n",
       "      <th>D_WHh_ggH_ME</th>\n",
       "      <th>D_ZHh_ggH_ME</th>\n",
       "      <th>D_WHh_ZHh_ME</th>\n",
       "      <th>D_VBF2j_WHh_ME</th>\n",
       "      <th>D_VBF2j_ZHh_ME</th>\n",
       "    </tr>\n",
       "  </thead>\n",
       "  <tbody>\n",
       "    <tr>\n",
       "      <th>4</th>\n",
       "      <td>117.625648</td>\n",
       "      <td>3</td>\n",
       "      <td>0</td>\n",
       "      <td>0</td>\n",
       "      <td>124.248848</td>\n",
       "      <td>[-15, 21, 21, 16]</td>\n",
       "      <td>-15</td>\n",
       "      <td>0</td>\n",
       "      <td>0.098514</td>\n",
       "      <td>0.220828</td>\n",
       "      <td>0.987014</td>\n",
       "      <td>0.960443</td>\n",
       "      <td>0.757899</td>\n",
       "      <td>0.001436</td>\n",
       "      <td>0.004481</td>\n",
       "    </tr>\n",
       "    <tr>\n",
       "      <th>7</th>\n",
       "      <td>54.169739</td>\n",
       "      <td>2</td>\n",
       "      <td>0</td>\n",
       "      <td>1</td>\n",
       "      <td>125.632874</td>\n",
       "      <td>[-2, -11, 12, 21]</td>\n",
       "      <td>-11</td>\n",
       "      <td>0</td>\n",
       "      <td>0.035193</td>\n",
       "      <td>0.220958</td>\n",
       "      <td>0.005600</td>\n",
       "      <td>0.004085</td>\n",
       "      <td>0.578586</td>\n",
       "      <td>0.866264</td>\n",
       "      <td>0.898921</td>\n",
       "    </tr>\n",
       "    <tr>\n",
       "      <th>13</th>\n",
       "      <td>90.698059</td>\n",
       "      <td>3</td>\n",
       "      <td>0</td>\n",
       "      <td>0</td>\n",
       "      <td>144.862228</td>\n",
       "      <td>[1, 21, 12, -11]</td>\n",
       "      <td>-11</td>\n",
       "      <td>0</td>\n",
       "      <td>0.047992</td>\n",
       "      <td>0.247933</td>\n",
       "      <td>0.640451</td>\n",
       "      <td>0.513259</td>\n",
       "      <td>0.628147</td>\n",
       "      <td>0.027522</td>\n",
       "      <td>0.045626</td>\n",
       "    </tr>\n",
       "    <tr>\n",
       "      <th>32</th>\n",
       "      <td>34.020985</td>\n",
       "      <td>2</td>\n",
       "      <td>0</td>\n",
       "      <td>0</td>\n",
       "      <td>126.305573</td>\n",
       "      <td>[21, -15, 16, 21]</td>\n",
       "      <td>-15</td>\n",
       "      <td>0</td>\n",
       "      <td>0.072049</td>\n",
       "      <td>0.221390</td>\n",
       "      <td>0.994960</td>\n",
       "      <td>0.986424</td>\n",
       "      <td>0.730945</td>\n",
       "      <td>0.000393</td>\n",
       "      <td>0.001067</td>\n",
       "    </tr>\n",
       "    <tr>\n",
       "      <th>78</th>\n",
       "      <td>12.983487</td>\n",
       "      <td>2</td>\n",
       "      <td>0</td>\n",
       "      <td>0</td>\n",
       "      <td>120.013527</td>\n",
       "      <td>[-15, 21, 21, 16]</td>\n",
       "      <td>-15</td>\n",
       "      <td>0</td>\n",
       "      <td>0.019024</td>\n",
       "      <td>0.226287</td>\n",
       "      <td>0.884929</td>\n",
       "      <td>0.624822</td>\n",
       "      <td>0.821990</td>\n",
       "      <td>0.002515</td>\n",
       "      <td>0.011511</td>\n",
       "    </tr>\n",
       "  </tbody>\n",
       "</table>\n",
       "</div>"
      ],
      "text/plain": [
       "         PFMET  nCleanedJetsPt30  nCleanedJetsPt30BTagged_bTagSF  nExtraLep  \\\n",
       "4   117.625648                 3                               0          0   \n",
       "7    54.169739                 2                               0          1   \n",
       "13   90.698059                 3                               0          0   \n",
       "32   34.020985                 2                               0          0   \n",
       "78   12.983487                 2                               0          0   \n",
       "\n",
       "        ZZMass LHEAssociatedParticleId  GenAssocLep1Id  GenAssocLep2Id  \\\n",
       "4   124.248848       [-15, 21, 21, 16]             -15               0   \n",
       "7   125.632874       [-2, -11, 12, 21]             -11               0   \n",
       "13  144.862228        [1, 21, 12, -11]             -11               0   \n",
       "32  126.305573       [21, -15, 16, 21]             -15               0   \n",
       "78  120.013527       [-15, 21, 21, 16]             -15               0   \n",
       "\n",
       "    D_VBF2j_ggH_ME  D_VBF1j_ggH_ME  D_WHh_ggH_ME  D_ZHh_ggH_ME  D_WHh_ZHh_ME  \\\n",
       "4         0.098514        0.220828      0.987014      0.960443      0.757899   \n",
       "7         0.035193        0.220958      0.005600      0.004085      0.578586   \n",
       "13        0.047992        0.247933      0.640451      0.513259      0.628147   \n",
       "32        0.072049        0.221390      0.994960      0.986424      0.730945   \n",
       "78        0.019024        0.226287      0.884929      0.624822      0.821990   \n",
       "\n",
       "    D_VBF2j_WHh_ME  D_VBF2j_ZHh_ME  \n",
       "4         0.001436        0.004481  \n",
       "7         0.866264        0.898921  \n",
       "13        0.027522        0.045626  \n",
       "32        0.000393        0.001067  \n",
       "78        0.002515        0.011511  "
      ]
     },
     "execution_count": 17,
     "metadata": {},
     "output_type": "execute_result"
    }
   ],
   "source": [
    "indata.loc[indata.apply(cuts, axis = 1)]"
   ]
  },
  {
   "cell_type": "code",
   "execution_count": 18,
   "metadata": {
    "collapsed": false
   },
   "outputs": [],
   "source": [
    "outdata = pre2.process(indata)[\"PCA_w_0\"]"
   ]
  },
  {
   "cell_type": "code",
   "execution_count": 14,
   "metadata": {
    "collapsed": false
   },
   "outputs": [
    {
     "data": {
      "text/plain": [
       "Int64Index([ 0,  1,  2,  3,  4,  5,  6,  7,  8,  9, 10, 11, 12, 13, 14, 15, 16,\n",
       "            17, 18, 19, 20, 21, 22, 23, 24, 25, 26, 27, 28, 29, 30, 31, 32, 33,\n",
       "            34, 35, 36, 37, 38, 39, 40, 41, 42, 43, 44, 45, 46, 47, 48, 49, 50,\n",
       "            51, 52, 53, 54, 55, 56, 57, 58, 59, 60, 61, 62, 63, 64, 65, 66, 67,\n",
       "            68, 69, 70, 71, 72, 73, 74, 75, 76, 77, 78, 79, 80, 81, 82, 83, 84,\n",
       "            85, 86, 87, 88, 89, 90, 91, 92, 93, 94, 95, 96, 97, 98, 99],\n",
       "           dtype='int64')"
      ]
     },
     "execution_count": 14,
     "metadata": {},
     "output_type": "execute_result"
    }
   ],
   "source": [
    "indata.index"
   ]
  },
  {
   "cell_type": "code",
   "execution_count": 20,
   "metadata": {
    "collapsed": false
   },
   "outputs": [
    {
     "data": {
      "text/plain": [
       "Int64Index([ 0,  1,  2,  3,  4,  5,  7,  8, 12, 16, 17, 20, 24, 25, 28, 30, 32,\n",
       "            34, 35, 41, 48, 49, 52, 53, 61, 63, 65, 66, 67, 69, 71, 72, 73, 74,\n",
       "            75, 76, 77, 81, 88, 92, 97, 98, 99],\n",
       "           dtype='int64')"
      ]
     },
     "execution_count": 20,
     "metadata": {},
     "output_type": "execute_result"
    }
   ],
   "source": [
    "outdata.index"
   ]
  },
  {
   "cell_type": "code",
   "execution_count": 23,
   "metadata": {
    "collapsed": false
   },
   "outputs": [],
   "source": [
    "missed_indices = [ind for ind in indata.index if ind not in outdata.index]"
   ]
  },
  {
   "cell_type": "code",
   "execution_count": 27,
   "metadata": {
    "collapsed": false
   },
   "outputs": [],
   "source": [
    "missed_outdata = pd.Series(0.0, index = missed_indices)"
   ]
  },
  {
   "cell_type": "code",
   "execution_count": 30,
   "metadata": {
    "collapsed": false
   },
   "outputs": [
    {
     "data": {
      "text/plain": [
       "0     1.197417\n",
       "1    -0.475494\n",
       "2     1.058973\n",
       "3    -0.776113\n",
       "4     0.242395\n",
       "5    -0.503223\n",
       "6     0.000000\n",
       "7     0.838380\n",
       "8    -0.920595\n",
       "9     0.000000\n",
       "10    0.000000\n",
       "11    0.000000\n",
       "12   -0.758167\n",
       "13    0.000000\n",
       "14    0.000000\n",
       "15    0.000000\n",
       "16    0.717080\n",
       "17    0.442967\n",
       "18    0.000000\n",
       "19    0.000000\n",
       "20    0.401404\n",
       "21    0.000000\n",
       "22    0.000000\n",
       "23    0.000000\n",
       "24   -0.272584\n",
       "25    1.442952\n",
       "26    0.000000\n",
       "27    0.000000\n",
       "28    0.052920\n",
       "29    0.000000\n",
       "        ...   \n",
       "70    0.000000\n",
       "71   -0.640253\n",
       "72   -1.200286\n",
       "73    3.342651\n",
       "74   -1.274001\n",
       "75   -0.516456\n",
       "76   -0.557556\n",
       "77    1.105944\n",
       "78    0.000000\n",
       "79    0.000000\n",
       "80    0.000000\n",
       "81    0.070442\n",
       "82    0.000000\n",
       "83    0.000000\n",
       "84    0.000000\n",
       "85    0.000000\n",
       "86    0.000000\n",
       "87    0.000000\n",
       "88   -0.104277\n",
       "89    0.000000\n",
       "90    0.000000\n",
       "91    0.000000\n",
       "92    1.739923\n",
       "93    0.000000\n",
       "94    0.000000\n",
       "95    0.000000\n",
       "96    0.000000\n",
       "97    0.466456\n",
       "98    0.673819\n",
       "99   -1.259476\n",
       "Length: 100, dtype: float64"
      ]
     },
     "execution_count": 30,
     "metadata": {},
     "output_type": "execute_result"
    }
   ],
   "source": [
    "pd.concat([outdata, missed_outdata]).sort_index()"
   ]
  },
  {
   "cell_type": "code",
   "execution_count": 31,
   "metadata": {
    "collapsed": false
   },
   "outputs": [
    {
     "data": {
      "text/plain": [
       "[6,\n",
       " 9,\n",
       " 10,\n",
       " 11,\n",
       " 13,\n",
       " 14,\n",
       " 15,\n",
       " 18,\n",
       " 19,\n",
       " 21,\n",
       " 22,\n",
       " 23,\n",
       " 26,\n",
       " 27,\n",
       " 29,\n",
       " 31,\n",
       " 33,\n",
       " 36,\n",
       " 37,\n",
       " 38,\n",
       " 39,\n",
       " 40,\n",
       " 42,\n",
       " 43,\n",
       " 44,\n",
       " 45,\n",
       " 46,\n",
       " 47,\n",
       " 50,\n",
       " 51,\n",
       " 54,\n",
       " 55,\n",
       " 56,\n",
       " 57,\n",
       " 58,\n",
       " 59,\n",
       " 60,\n",
       " 62,\n",
       " 64,\n",
       " 68,\n",
       " 70,\n",
       " 78,\n",
       " 79,\n",
       " 80,\n",
       " 82,\n",
       " 83,\n",
       " 84,\n",
       " 85,\n",
       " 86,\n",
       " 87,\n",
       " 89,\n",
       " 90,\n",
       " 91,\n",
       " 93,\n",
       " 94,\n",
       " 95,\n",
       " 96]"
      ]
     },
     "execution_count": 31,
     "metadata": {},
     "output_type": "execute_result"
    }
   ],
   "source": [
    "missed_indices"
   ]
  },
  {
   "cell_type": "code",
   "execution_count": 6,
   "metadata": {
    "collapsed": false
   },
   "outputs": [
    {
     "data": {
      "text/plain": [
       "5"
      ]
     },
     "execution_count": 6,
     "metadata": {},
     "output_type": "execute_result"
    }
   ],
   "source": [
    "abs(-5)"
   ]
  },
  {
   "cell_type": "code",
   "execution_count": null,
   "metadata": {
    "collapsed": true
   },
   "outputs": [],
   "source": []
  }
 ],
 "metadata": {
  "kernelspec": {
   "display_name": "Python 2",
   "language": "python",
   "name": "python2"
  },
  "language_info": {
   "codemirror_mode": {
    "name": "ipython",
    "version": 2
   },
   "file_extension": ".py",
   "mimetype": "text/x-python",
   "name": "python",
   "nbconvert_exporter": "python",
   "pygments_lexer": "ipython2",
   "version": "2.7.11"
  }
 },
 "nbformat": 4,
 "nbformat_minor": 2
}
