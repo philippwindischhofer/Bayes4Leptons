{
 "cells": [
  {
   "cell_type": "code",
   "execution_count": 1,
   "metadata": {
    "collapsed": true
   },
   "outputs": [],
   "source": [
    "import warnings\n",
    "warnings.filterwarnings('ignore')"
   ]
  },
  {
   "cell_type": "code",
   "execution_count": 2,
   "metadata": {
    "collapsed": false
   },
   "outputs": [
    {
     "name": "stdout",
     "output_type": "stream",
     "text": [
      "Welcome to JupyROOT 6.10/09\n"
     ]
    }
   ],
   "source": [
    "from trainlib.FileCollection import FileCollection\n",
    "from trainlib.config import Config\n",
    "from trainlib.ConfigFileHandler import ConfigFileHandler\n",
    "from trainlib.ConfigFileUtils import ConfigFileUtils\n",
    "import trainlib.cuts as cuts\n",
    "import numpy as np\n",
    "import matplotlib.pyplot as plt\n",
    "import matplotlib.ticker as ticker\n",
    "import pandas as pd\n",
    "import copy\n",
    "import re\n",
    "from scipy import interpolate\n",
    "import scipy.integrate as integrate\n",
    "import pickle\n",
    "import os"
   ]
  },
  {
   "cell_type": "code",
   "execution_count": 3,
   "metadata": {
    "collapsed": false
   },
   "outputs": [
    {
     "name": "stderr",
     "output_type": "stream",
     "text": [
      "/cvmfs/cms.cern.ch/slc6_amd64_gcc630/external/py2-pippkgs_depscipy/3.0-fmblme3/lib/python2.7/site-packages/sklearn/cross_validation.py:44: DeprecationWarning: This module was deprecated in version 0.18 in favor of the model_selection module into which all the refactored classes and functions are moved. Also note that the interface of the new CV iterators are different from that of this module. This module will be removed in 0.20.\n",
      "  \"This module will be removed in 0.20.\", DeprecationWarning)\n"
     ]
    }
   ],
   "source": [
    "import xgboost as xgb\n",
    "from sklearn.metrics import mean_squared_error"
   ]
  },
  {
   "cell_type": "code",
   "execution_count": 4,
   "metadata": {
    "collapsed": true
   },
   "outputs": [],
   "source": [
    "#candidate_branches = [\"PFMET\", \"nCleanedJetsPt30\", \"nCleanedJetsPt30BTagged_bTagSF\", \"nExtraLep\", \"ZZMass\", \"nExtraZ\", \"Z1Mass\", \"Z2Mass\", \"Z1Pt\", \"Z2Pt\", \"ZZMassErr\", \"ZZPt\", \"ZZEta\", \"ZZPhi\", \"Z1Flav\", \"Z2Flav\", \"costhetastar\", \"helphi\", \"helcosthetaZ1\", \"helcosthetaZ2\", \"phistarZ1\", \"phistarZ2\", \"xi\", \"xistar\"]\n",
    "candidate_branches = [\"PFMET\", \"nCleanedJetsPt30\", \"nCleanedJetsPt30BTagged_bTagSF\", \"nExtraLep\", \"ZZMass\", \"nExtraZ\", \"Z1Mass\", \"Z2Mass\", \"Z1Pt\", \"Z2Pt\", \"ZZMassErr\", \"ZZPt\", \"ZZEta\", \"ZZPhi\", \"Z1Flav\", \"Z2Flav\", \"D_VBF2j_ggH_ME\", \"D_VBF1j_ggH_ME\", \"D_WHh_ggH_ME\", \"D_ZHh_ggH_ME\", \"D_WHh_ZHh_ME\", \"D_VBF2j_WHh_ME\", \"D_VBF2j_ZHh_ME\"]\n",
    "#list_branches = [\"Jet\", \"Lep\", \"ExtraLep\"]\n",
    "MELA_branches = []\n",
    "list_branches = [\"Jet\", \"ExtraLep\"]\n",
    "pt_limits = [30.0, 0.0, 0.0]"
   ]
  },
  {
   "cell_type": "code",
   "execution_count": 5,
   "metadata": {
    "collapsed": true
   },
   "outputs": [],
   "source": [
    "allbranches = [\"JetPt\", \"JetEta\", \"JetPhi\", \"LepPt\", \"LepEta\", \"LepPhi\", \"ExtraLepPt\", \"ExtraLepEta\", \"ExtraLepPhi\"] + candidate_branches + MELA_branches + [\"LHEAssociatedParticleId\", \"GenAssocLep1Id\", \"GenAssocLep2Id\", \"training_weight\"]"
   ]
  },
  {
   "cell_type": "code",
   "execution_count": 6,
   "metadata": {
    "collapsed": true
   },
   "outputs": [],
   "source": [
    "#MC_path = \"/data_CMS/cms/wind/CJLST_NTuples_randomizeda/\"\n",
    "MC_path = \"/data_CMS/cms/wind/CJLST_NTuples/\""
   ]
  },
  {
   "cell_type": "raw",
   "metadata": {
    "collapsed": true
   },
   "source": [
    "def WHhadr0j_cut(row):\n",
    "    return cuts.WHhadr_cut(row) and row[\"nCleanedJetsPt30\"] == 0\n",
    "\n",
    "def WHhadr01j_cut(row):\n",
    "    return cuts.WHhadr_cut(row) and (row[\"nCleanedJetsPt30\"] == 0 or row[\"nCleanedJetsPt30\"] == 1)\n",
    "\n",
    "def WHhadr1j_cut(row):\n",
    "    return cuts.WHhadr_cut(row) and row[\"nCleanedJetsPt30\"] == 1\n",
    "\n",
    "def WHhadr2j_cut(row):\n",
    "    return cuts.WHhadr_cut(row) and row[\"nCleanedJetsPt30\"] >= 2\n",
    "\n",
    "def ZHhadr0j_cut(row):\n",
    "    return cuts.ZHhadr_cut(row) and row[\"nCleanedJetsPt30\"] == 0\n",
    "\n",
    "def ZHhadr01j_cut(row):\n",
    "    return cuts.ZHhadr_cut(row) and (row[\"nCleanedJetsPt30\"] == 0 or row[\"nCleanedJetsPt30\"] == 1)\n",
    "\n",
    "def ZHhadr1j_cut(row):\n",
    "    return cuts.ZHhadr_cut(row) and row[\"nCleanedJetsPt30\"] == 1\n",
    "\n",
    "def ZHhadr2j_cut(row):\n",
    "    return cuts.ZHhadr_cut(row) and row[\"nCleanedJetsPt30\"] >= 2\n",
    "\n",
    "def mZZ0j_cut(row):\n",
    "    return cuts.mZZ_cut(row) and row[\"nCleanedJetsPt30\"] == 0\n",
    "\n",
    "def mZZ01j_cut(row):\n",
    "    return cuts.mZZ_cut(row) and (row[\"nCleanedJetsPt30\"] == 0 or row[\"nCleanedJetsPt30\"] == 1)\n",
    "\n",
    "def mZZ1j_cut(row):\n",
    "    return cuts.mZZ_cut(row) and row[\"nCleanedJetsPt30\"] == 1\n",
    "\n",
    "def mZZ2j_cut(row):\n",
    "    return cuts.mZZ_cut(row) and row[\"nCleanedJetsPt30\"] >= 2"
   ]
  },
  {
   "cell_type": "code",
   "execution_count": 7,
   "metadata": {
    "collapsed": true
   },
   "outputs": [],
   "source": [
    "# these are the cuts without any m4l restriction imposed\n",
    "def WHhadr0j_cut(row):\n",
    "    return cuts.WHhadr_cut(row) and row[\"nCleanedJetsPt30\"] == 0\n",
    "\n",
    "def WHhadr01j_cut(row):\n",
    "    return cuts.WHhadr_cut(row) and (row[\"nCleanedJetsPt30\"] == 0 or row[\"nCleanedJetsPt30\"] == 1)\n",
    "\n",
    "def WHhadr1j_cut(row):\n",
    "    return cuts.WHhadr_cut(row) and row[\"nCleanedJetsPt30\"] == 1\n",
    "\n",
    "def WHhadr2j_cut(row):\n",
    "    return cuts.WHhadr_cut(row) and row[\"nCleanedJetsPt30\"] >= 2\n",
    "\n",
    "def ZHhadr0j_cut(row):\n",
    "    return cuts.ZHhadr_cut(row) and row[\"nCleanedJetsPt30\"] == 0\n",
    "\n",
    "def ZHhadr01j_cut(row):\n",
    "    return cuts.ZHhadr_cut(row) and (row[\"nCleanedJetsPt30\"] == 0 or row[\"nCleanedJetsPt30\"] == 1)\n",
    "\n",
    "def ZHhadr1j_cut(row):\n",
    "    return cuts.ZHhadr_cut(row) and row[\"nCleanedJetsPt30\"] == 1\n",
    "\n",
    "def ZHhadr2j_cut(row):\n",
    "    return cuts.ZHhadr_cut(row) and row[\"nCleanedJetsPt30\"] >= 2\n",
    "\n",
    "def mZZ0j_cut(row):\n",
    "    return row[\"nCleanedJetsPt30\"] == 0\n",
    "\n",
    "def mZZ01j_cut(row):\n",
    "    return (row[\"nCleanedJetsPt30\"] == 0 or row[\"nCleanedJetsPt30\"] == 1)\n",
    "\n",
    "def mZZ1j_cut(row):\n",
    "    return row[\"nCleanedJetsPt30\"] == 1\n",
    "\n",
    "def mZZ2j_cut(row):\n",
    "    return row[\"nCleanedJetsPt30\"] >= 2"
   ]
  },
  {
   "cell_type": "raw",
   "metadata": {
    "collapsed": false
   },
   "source": [
    "collections = {\"VBF2j\": {MC_path + \"VBFH125/ZZ4lAnalysis.root\": mZZ2j_cut},\n",
    "            \"VBF1j\": {MC_path + \"VBFH125/ZZ4lAnalysis.root\": mZZ1j_cut},\n",
    "            \"VBF0j\": {MC_path + \"VBFH125/ZZ4lAnalysis.root\": mZZ0j_cut},\n",
    "            \"VBF01j\": {MC_path + \"VBFH125/ZZ4lAnalysis.root\": mZZ01j_cut},\n",
    "            \"VBF\": {MC_path + \"VBFH125/ZZ4lAnalysis.root\": cuts.mZZ_cut},\n",
    "            \"ggH2j\": {MC_path + \"ggH125/ZZ4lAnalysis.root\": mZZ2j_cut},\n",
    "            \"ggH1j\": {MC_path + \"ggH125/ZZ4lAnalysis.root\": mZZ1j_cut},\n",
    "            \"ggH0j\": {MC_path + \"ggH125/ZZ4lAnalysis.root\": mZZ0j_cut},\n",
    "            \"ggH01j\": {MC_path + \"ggH125/ZZ4lAnalysis.root\": mZZ01j_cut},\n",
    "            \"ggH\" : {MC_path + \"ggH125/ZZ4lAnalysis.root\": cuts.mZZ_cut},\n",
    "            \"WHh2j\": {MC_path + \"WplusH125/ZZ4lAnalysis.root\": WHhadr2j_cut, MC_path + \"WminusH125/ZZ4lAnalysis.root\": WHhadr2j_cut},\n",
    "            \"WHh1j\": {MC_path + \"WplusH125/ZZ4lAnalysis.root\": WHhadr1j_cut, MC_path + \"WminusH125/ZZ4lAnalysis.root\": WHhadr1j_cut},\n",
    "            \"WHh0j\": {MC_path + \"WplusH125/ZZ4lAnalysis.root\": WHhadr0j_cut, MC_path + \"WminusH125/ZZ4lAnalysis.root\": WHhadr0j_cut},\n",
    "            \"WHh\": {MC_path + \"WplusH125/ZZ4lAnalysis.root\": cuts.WHhadr_cut, MC_path + \"WminusH125/ZZ4lAnalysis.root\": cuts.WHhadr_cut},\n",
    "            \"WHh01j\": {MC_path + \"WplusH125/ZZ4lAnalysis.root\": WHhadr01j_cut, MC_path + \"WminusH125/ZZ4lAnalysis.root\": WHhadr01j_cut},\n",
    "            \"WHl\": {MC_path + \"WplusH125/ZZ4lAnalysis.root\": cuts.WHlept_cut, MC_path + \"WminusH125/ZZ4lAnalysis.root\": cuts.WHlept_cut},\n",
    "            \"ZHh2j\": {MC_path + \"ZH125/ZZ4lAnalysis.root\": ZHhadr2j_cut},\n",
    "            \"ZHh1j\": {MC_path + \"ZH125/ZZ4lAnalysis.root\": ZHhadr1j_cut},\n",
    "            \"ZHh01j\": {MC_path + \"ZH125/ZZ4lAnalysis.root\": ZHhadr01j_cut},\n",
    "            \"ZHh0j\": {MC_path + \"ZH125/ZZ4lAnalysis.root\": ZHhadr0j_cut},\n",
    "            \"ZHh\": {MC_path + \"ZH125/ZZ4lAnalysis.root\": cuts.ZHhadr_cut},\n",
    "            \"ZHl\": {MC_path + \"ZH125/ZZ4lAnalysis.root\": cuts.ZHlept_cut},\n",
    "            \"ttHh\": {MC_path + \"ttH125/ZZ4lAnalysis.root\": cuts.ttHhadr_cut},\n",
    "            \"ttHl\": {MC_path + \"ttH125/ZZ4lAnalysis.root\": cuts.ttHlept_cut},\n",
    "            \"ZHMET\": {MC_path + \"ZH125/ZZ4lAnalysis.root\": cuts.ZHMET_cut}\n",
    "          }"
   ]
  },
  {
   "cell_type": "code",
   "execution_count": 8,
   "metadata": {
    "collapsed": false
   },
   "outputs": [],
   "source": [
    "collections = {\"VBF2j\": {MC_path + \"VBFH125/ZZ4lAnalysis.root\": mZZ2j_cut},\n",
    "            \"VBF1j\": {MC_path + \"VBFH125/ZZ4lAnalysis.root\": mZZ1j_cut},\n",
    "            \"VBF0j\": {MC_path + \"VBFH125/ZZ4lAnalysis.root\": mZZ0j_cut},\n",
    "            \"VBF01j\": {MC_path + \"VBFH125/ZZ4lAnalysis.root\": mZZ01j_cut},\n",
    "            \"VBF\": {MC_path + \"VBFH125/ZZ4lAnalysis.root\": cuts.no_cut},\n",
    "            \"ggH2j\": {MC_path + \"ggH125/ZZ4lAnalysis.root\": mZZ2j_cut},\n",
    "            \"ggH1j\": {MC_path + \"ggH125/ZZ4lAnalysis.root\": mZZ1j_cut},\n",
    "            \"ggH0j\": {MC_path + \"ggH125/ZZ4lAnalysis.root\": mZZ0j_cut},\n",
    "            \"ggH01j\": {MC_path + \"ggH125/ZZ4lAnalysis.root\": mZZ01j_cut},\n",
    "            \"ggH\" : {MC_path + \"ggH125/ZZ4lAnalysis.root\": cuts.no_cut},\n",
    "            \"WHh2j\": {MC_path + \"WplusH125/ZZ4lAnalysis.root\": WHhadr2j_cut, MC_path + \"WminusH125/ZZ4lAnalysis.root\": WHhadr2j_cut},\n",
    "            \"WHh1j\": {MC_path + \"WplusH125/ZZ4lAnalysis.root\": WHhadr1j_cut, MC_path + \"WminusH125/ZZ4lAnalysis.root\": WHhadr1j_cut},\n",
    "            \"WHh0j\": {MC_path + \"WplusH125/ZZ4lAnalysis.root\": WHhadr0j_cut, MC_path + \"WminusH125/ZZ4lAnalysis.root\": WHhadr0j_cut},\n",
    "            \"WHh\": {MC_path + \"WplusH125/ZZ4lAnalysis.root\": cuts.WHhadr_cut, MC_path + \"WminusH125/ZZ4lAnalysis.root\": cuts.WHhadr_cut},\n",
    "            \"WHh01j\": {MC_path + \"WplusH125/ZZ4lAnalysis.root\": WHhadr01j_cut, MC_path + \"WminusH125/ZZ4lAnalysis.root\": WHhadr01j_cut},\n",
    "            \"WHl\": {MC_path + \"WplusH125/ZZ4lAnalysis.root\": cuts.WHlept_cut, MC_path + \"WminusH125/ZZ4lAnalysis.root\": cuts.WHlept_cut},\n",
    "            \"ZHh2j\": {MC_path + \"ZH125/ZZ4lAnalysis.root\": ZHhadr2j_cut},\n",
    "            \"ZHh1j\": {MC_path + \"ZH125/ZZ4lAnalysis.root\": ZHhadr1j_cut},\n",
    "            \"ZHh01j\": {MC_path + \"ZH125/ZZ4lAnalysis.root\": ZHhadr01j_cut},\n",
    "            \"ZHh0j\": {MC_path + \"ZH125/ZZ4lAnalysis.root\": ZHhadr0j_cut},\n",
    "            \"ZHh\": {MC_path + \"ZH125/ZZ4lAnalysis.root\": cuts.ZHhadr_cut},\n",
    "            \"ZHl\": {MC_path + \"ZH125/ZZ4lAnalysis.root\": cuts.ZHlept_cut},\n",
    "            \"ttHh\": {MC_path + \"ttH125/ZZ4lAnalysis.root\": cuts.ttHhadr_cut},\n",
    "            \"ttHl\": {MC_path + \"ttH125/ZZ4lAnalysis.root\": cuts.ttHlept_cut},\n",
    "            \"ZHMET\": {MC_path + \"ZH125/ZZ4lAnalysis.root\": cuts.ZHMET_cut}\n",
    "          }"
   ]
  },
  {
   "cell_type": "code",
   "execution_count": 9,
   "metadata": {
    "collapsed": true
   },
   "outputs": [],
   "source": [
    "# all the model combinations for which neural networks are currently trained\n",
    "discriminant_pairs = [(\"VBF\", \"ggH\"), (\"WHh\", \"ggH\"), (\"ZHh\", \"ggH\"), (\"WHh\", \"ZHh\"), (\"VBF\", \"WHh\"),\n",
    "                     (\"VBF\", \"ZHh\"), (\"WHl\", \"ggH\"), (\"WHl\", \"VBF\"), (\"WHl\", \"WHh\"), (\"WHl\", \"ZHh\"),\n",
    "                     (\"WHl\", \"ZHl\"), (\"WHl\", \"ZHMET\"), (\"WHl\", \"ttHh\"), (\"WHl\", \"ttHl\"), (\"ZHh\", \"ZHl\"),\n",
    "                     (\"ZHh\", \"ZHMET\"), (\"ZHh\", \"ttHh\"), (\"ZHh\", \"ttHl\"), (\"ZHl\", \"ggH\"), (\"ZHl\", \"VBF\"),\n",
    "                     (\"ZHl\", \"WHh\"), (\"ZHl\", \"ZHMET\"), (\"ZHl\", \"ttHh\"), (\"ZHl\", \"ttHl\"), (\"ZHMET\", \"ggH\"),\n",
    "                     (\"ZHMET\", \"VBF\"), (\"ZHMET\", \"WHh\"), (\"ZHMET\", \"ttHh\"), (\"ZHMET\", \"ttHl\"), (\"ttHh\", \"ggH\"),\n",
    "                      (\"ttHh\", \"VBF\"), (\"ttHh\", \"WHh\"), (\"ttHh\", \"ttHl\"), (\"ttHl\", \"ggH\"), (\"ttHl\", \"VBF\"),\n",
    "                     (\"ttHl\", \"WHh\")]"
   ]
  },
  {
   "cell_type": "code",
   "execution_count": 10,
   "metadata": {
    "collapsed": true
   },
   "outputs": [],
   "source": [
    "def extract_order(df, col_basename, sorted_column, columns, order):\n",
    "    def get_index(row, order, col_basename, sorted_column):\n",
    "        sorted_column = row[col_basename + sorted_column]\n",
    "        if order >= len(sorted_column):\n",
    "            return -1\n",
    "        else:\n",
    "            return np.flipud(np.argsort(sorted_column))[order]\n",
    "    \n",
    "    index_column = pd.DataFrame(df.transform(lambda row: get_index(row, order, col_basename, sorted_column), axis = 1, raw = True))\n",
    "    index_column.columns = [\"index\"]\n",
    "    df_temp = pd.concat([index_column, df], axis = 1)\n",
    "    \n",
    "    def get_element(row, column_name):\n",
    "        if row[\"index\"] == -1:\n",
    "            return 0\n",
    "        else:\n",
    "            return row[column_name][row[\"index\"]]\n",
    "        \n",
    "    extracted_cols = pd.DataFrame()\n",
    "    for column in columns:\n",
    "        extracted_col = pd.DataFrame(df_temp.transform(lambda row: get_element(row, col_basename + column), axis = 1, raw = True))\n",
    "        extracted_col.columns = [col_basename + column + \"(\" + col_basename + \"Pt|\" + str(order) + \")\"]\n",
    "        extracted_cols = pd.concat([extracted_cols, extracted_col], axis = 1)\n",
    "        \n",
    "    return extracted_cols"
   ]
  },
  {
   "cell_type": "code",
   "execution_count": 11,
   "metadata": {
    "collapsed": true
   },
   "outputs": [],
   "source": [
    "def prepare_data(df, col_basenames, sorted_column, columns, orders, pt_limits):\n",
    "    all_extracted = pd.DataFrame()\n",
    "    for col_basename, pt_limit in zip(col_basenames, pt_limits):\n",
    "        for order in orders:\n",
    "            extracted = extract_order(df, col_basename, sorted_column, columns, order)\n",
    "            mask = extracted[col_basename + \"Pt(\" + col_basename + \"Pt|\" + str(order) + \")\"] < pt_limit\n",
    "            extracted[mask] = 0.0\n",
    "\n",
    "            all_extracted = pd.concat([all_extracted, extracted], axis = 1)\n",
    "            \n",
    "    return all_extracted"
   ]
  },
  {
   "cell_type": "code",
   "execution_count": 12,
   "metadata": {
    "collapsed": false
   },
   "outputs": [],
   "source": [
    "def get_data(H1_coll, H0_coll, read_branches, input_branches, list_branches, pt_limits):\n",
    "    H1_df = H1_coll.get_data(read_branches, 0.0, 1.0)\n",
    "    H0_df = H0_coll.get_data(read_branches, 0.0, 1.0)\n",
    "    \n",
    "    H1_list_df = prepare_data(H1_df, list_branches, \"Pt\", [\"Pt\", \"Eta\", \"Phi\"], range(4), pt_limits)\n",
    "    H0_list_df = prepare_data(H0_df, list_branches, \"Pt\", [\"Pt\", \"Eta\", \"Phi\"], range(4), pt_limits)\n",
    "    \n",
    "    list_branches_unrolled = H1_list_df.columns\n",
    "            \n",
    "    H1_df = pd.concat([H1_df, H1_list_df], axis = 1)\n",
    "    H0_df = pd.concat([H0_df, H0_list_df], axis = 1)        \n",
    "    \n",
    "    complete_input_branches = np.concatenate([input_branches, list_branches_unrolled])\n",
    "            \n",
    "    H1_df = H1_df[complete_input_branches]\n",
    "    H0_df = H0_df[complete_input_branches]\n",
    "    \n",
    "    return H1_df, H0_df"
   ]
  },
  {
   "cell_type": "code",
   "execution_count": 13,
   "metadata": {
    "collapsed": true
   },
   "outputs": [],
   "source": [
    "def get_data_dmatrix(H1_coll, H0_coll, read_branches, input_branches, list_branches, pt_limits):\n",
    "    H1_df, H0_df = get_data(H1_coll, H0_coll, read_branches, input_branches, list_branches, pt_limits)\n",
    "    \n",
    "    complete_input_branches = H1_df.columns\n",
    "    print \"number of input variables: \" + str(len(complete_input_branches))\n",
    "    print \"final list of inputs: \" + str(complete_input_branches)\n",
    "    \n",
    "    # try with the same weights as used later in the neural network training, to balance out some (very)\n",
    "    # unbalanced datasets\n",
    "    H1_class_weight = 1.0 + float(len(H0_df)) / float(len(H1_df))\n",
    "    H0_class_weight = 1.0 + float(len(H1_df)) / float(len(H0_df))\n",
    "    \n",
    "    print \"using class weights: \" + str(H1_class_weight) + \" (H1), \" + str(H0_class_weight) + \" (H0)\"\n",
    "    \n",
    "    H1_weights = np.full(len(H1_df), H1_class_weight)\n",
    "    H0_weights = np.full(len(H0_df), H0_class_weight)\n",
    "    \n",
    "    H1_data = H1_df.as_matrix()\n",
    "    H0_data = H0_df.as_matrix()\n",
    "    H1_target = np.ones(np.shape(H1_data)[0])\n",
    "    H0_target = np.zeros(np.shape(H0_data)[0])\n",
    "    \n",
    "    target = np.concatenate([H1_target, H0_target])\n",
    "    data = np.concatenate([H1_data, H0_data])\n",
    "    weights = np.concatenate([H1_weights, H0_weights])\n",
    "    \n",
    "    dmatrix = xgb.DMatrix(data, label = target, feature_names = complete_input_branches, weight = weights)\n",
    "    \n",
    "    return dmatrix"
   ]
  },
  {
   "cell_type": "code",
   "execution_count": 14,
   "metadata": {
    "collapsed": true
   },
   "outputs": [],
   "source": [
    "def get_feature_correlation(source, corr_branches, mandatory_branches, optional_branches, list_branches, pt_limits):    \n",
    "    coll = FileCollection(collections[source], 0.0, 0.5)\n",
    "    \n",
    "    input_branches = [branch for branch in mandatory_branches]\n",
    "    \n",
    "    for optional_branch in optional_branches:\n",
    "        if \"0j\" in source and (\"0j\" in optional_branch):\n",
    "            input_branches.append(optional_branch)\n",
    "            \n",
    "        if \"1j\" in source and (\"1j\" in optional_branch):\n",
    "            input_branches.append(optional_branch)\n",
    "            \n",
    "        if \"2j\" in source and (\"2j\" in optional_branch):\n",
    "            input_branches.append(optional_branch)\n",
    "\n",
    "    df, _ = get_data(coll, coll, allbranches, input_branches, list_branches, pt_limits)\n",
    "\n",
    "    df = df[corr_branches]\n",
    "    \n",
    "    fig = plt.figure(figsize=(10,15))\n",
    "    ax = fig.add_subplot(111)\n",
    "    \n",
    "    cax = ax.matshow(df.corr(), vmin = -1.0, vmax = 1.0, cmap = \"RdBu\")\n",
    "    \n",
    "    fig.colorbar(cax)\n",
    "    \n",
    "    ax.xaxis.set_major_locator(ticker.MultipleLocator(1))\n",
    "    ax.yaxis.set_major_locator(ticker.MultipleLocator(1))\n",
    "    \n",
    "    ax.set_yticklabels([''] + corr_branches)\n",
    "    ax.set_xticklabels([''] + corr_branches, rotation = 'vertical')\n",
    "    \n",
    "    return fig"
   ]
  },
  {
   "cell_type": "code",
   "execution_count": 15,
   "metadata": {
    "collapsed": true
   },
   "outputs": [],
   "source": [
    "def get_interpolating_function(data, bins):\n",
    "    bin_centers = [np.mean([bins[i], bins[i + 1]]) for i in range(len(bins) - 1)]\n",
    "    intf = interpolate.interp1d(bin_centers, data, kind = \"linear\")\n",
    "    interpolated_function = lambda x: intf(x) if x > bin_centers[0] and x < bin_centers[-1] else 0\n",
    "    \n",
    "    return interpolated_function"
   ]
  },
  {
   "cell_type": "code",
   "execution_count": 16,
   "metadata": {
    "collapsed": true
   },
   "outputs": [],
   "source": [
    "def get_binned_data(df, branch):\n",
    "    data = df[branch].as_matrix()\n",
    "    weights = df[\"training_weight\"].as_matrix()\n",
    "    \n",
    "    # set the bin width\n",
    "    q75, q25 = np.percentile(data, [75, 25])\n",
    "    bin_width = max(2 * (q75 - q25) / len(data)**0.33, 0.005)\n",
    "\n",
    "    data_max = np.max(data)\n",
    "    data_min = np.min(data)\n",
    "    bins = np.arange(data_min, data_max + bin_width, bin_width)\n",
    "    \n",
    "    weights = weights / (np.sum(weights) * bin_width)\n",
    "    \n",
    "    hist = np.histogram(data, bins = bins, weights = weights)\n",
    "    return hist"
   ]
  },
  {
   "cell_type": "code",
   "execution_count": 17,
   "metadata": {
    "collapsed": false
   },
   "outputs": [],
   "source": [
    "def get_feature_importance_list_BDT(disc_pair, mandatory_branches, optional_branches, list_branches, pt_limits):\n",
    "    H1_name = disc_pair[0]\n",
    "    H0_name = disc_pair[1]\n",
    "    \n",
    "    # first assemble the list of branches that can serve as input: it will *always* contain the mandatory branches,\n",
    "    # and *can* contain some of the optional branches, if the name of the categories allows it\n",
    "    input_branches = [branch for branch in mandatory_branches]\n",
    "    \n",
    "    for optional_branch in optional_branches:\n",
    "        if (\"0j\" in H1_name or \"0j\" in H0_name) and (\"0j\" in optional_branch):\n",
    "            input_branches.append(optional_branch)  \n",
    "        elif (\"1j\" in H1_name or \"1j\" in H0_name) and (\"1j\" in optional_branch):\n",
    "            input_branches.append(optional_branch)\n",
    "        elif (\"2j\" in H1_name or \"2j\" in H0_name) and not (\"1j\" in optional_branch):\n",
    "            input_branches.append(optional_branch)\n",
    "            \n",
    "        # the fully inclusive categories (i.e. those with NO \"xxj\" in their name, can not use MELA, since there may\n",
    "        # be events with low number of jets contained)\n",
    "    \n",
    "    # get the training data for the BDT ...\n",
    "    H1_coll_train = FileCollection(collections[H1_name], 0.0, 0.5)\n",
    "    H0_coll_train = FileCollection(collections[H0_name], 0.0, 0.5)\n",
    "    \n",
    "    dtrain = get_data_dmatrix(H1_coll_train, H0_coll_train, allbranches, input_branches, list_branches, pt_limits)\n",
    "    \n",
    "    # ... and the validation data as well\n",
    "    H1_coll_val = FileCollection(collections[H1_name], 0.5, 1.0)\n",
    "    H0_coll_val = FileCollection(collections[H0_name], 0.5, 1.0)\n",
    "    dval = get_data_dmatrix(H1_coll_val, H0_coll_val, allbranches, input_branches, list_branches, pt_limits)\n",
    "    \n",
    "    evallist = [(dtrain, 'train'), (dval, 'eval')]\n",
    "    \n",
    "    # perform the training\n",
    "    # try different tree depths and choose the one that gives the best RMSE (i.e. avoid too deep trees to start with)\n",
    "        \n",
    "    params = {'eta': 0.01, 'silent': 1, 'gamma': 0.5, 'objective': 'binary:logistic'}\n",
    "    params['nthread'] = 4\n",
    "    params['eval_metric'] = 'rmse'\n",
    "    max_num_rounds = 2000\n",
    "    \n",
    "    best_loss = 1e6\n",
    "    best_imp = None\n",
    "    best_params = None\n",
    "    for tree_depth in range(1,8):\n",
    "        params['max_depth'] = tree_depth\n",
    "        \n",
    "        bst = xgb.train(params, dtrain, max_num_rounds, evals = evallist, early_stopping_rounds = 10, verbose_eval = False)\n",
    "    \n",
    "        pred = bst.predict(dval)\n",
    "        cur_loss = np.sqrt(mean_squared_error(pred, dval.get_label()))\n",
    "        cur_imp = bst.get_fscore()\n",
    "\n",
    "        print \"for max_depth = \" + str(params['max_depth']) + \": loss = \" + str(cur_loss)\n",
    "        \n",
    "        if cur_loss < best_loss:\n",
    "            best_loss = cur_loss\n",
    "            best_imp = copy.copy(cur_imp)\n",
    "            best_params = copy.copy(params)\n",
    "            \n",
    "    # normalize the usage score w.r.t. the total score (i.e. sum of all individuals)\n",
    "    score_sum = sum([val for key, val in best_imp.iteritems()])\n",
    "    used_variables = {key: val / float(score_sum) for key, val in sorted(best_imp.iteritems(), key = lambda x: x[1], reverse = True)}           \n",
    "    return best_params, dtrain.feature_names, used_variables"
   ]
  },
  {
   "cell_type": "code",
   "execution_count": 18,
   "metadata": {
    "collapsed": false
   },
   "outputs": [],
   "source": [
    "def get_histogram(df, branch, label):\n",
    "    data = df[branch].as_matrix()\n",
    "    weights = df[\"training_weight\"].as_matrix()\n",
    "    \n",
    "    # set the bin width\n",
    "    q75, q25 = np.percentile(data, [75, 25])\n",
    "    bin_width = max(2 * (q75 - q25) / len(data)**0.33, 0.005)\n",
    "\n",
    "    data_max = np.max(data)\n",
    "    data_min = np.min(data)\n",
    "    bins = np.arange(data_min, data_max + bin_width, bin_width)\n",
    "    \n",
    "    weights = weights / (np.sum(weights) * bin_width)\n",
    "    \n",
    "    fig = plt.hist(data, bins = bins, weights = weights, alpha = 0.5, label = label)\n",
    "    return fig"
   ]
  },
  {
   "cell_type": "code",
   "execution_count": 19,
   "metadata": {
    "collapsed": true
   },
   "outputs": [],
   "source": [
    "def plot_branch(disc_pair, branch, start_fraction = 0.0, end_fraction = 1.0):\n",
    "    H1_name = disc_pair[0]\n",
    "    H0_name = disc_pair[1]\n",
    "    \n",
    "    # get the training data for the BDT ...\n",
    "    H1_coll = FileCollection(collections[H1_name], start_fraction, end_fraction)\n",
    "    H0_coll = FileCollection(collections[H0_name], start_fraction, end_fraction)\n",
    "    \n",
    "    H1_df, H0_df = get_data(H1_coll, H0_coll, allbranches, allbranches, list_branches, pt_limits)\n",
    "    \n",
    "    plt.figure()\n",
    "    H1_hist = get_histogram(H1_df, branch, H1_name)\n",
    "    H0_hist = get_histogram(H0_df, branch, H0_name)\n",
    "    \n",
    "    plt.legend(loc = 'upper right')\n",
    "    plt.show()"
   ]
  },
  {
   "cell_type": "code",
   "execution_count": 20,
   "metadata": {
    "collapsed": false
   },
   "outputs": [],
   "source": [
    "def plot_variables(discs):\n",
    "    plotframe = pd.DataFrame()\n",
    "    \n",
    "    for disc in discs:\n",
    "        _, _, implist = get_feature_importance_list_BDT(disc, candidate_branches, MELA_branches, list_branches, pt_limits)\n",
    "        \n",
    "        # cut the list to select only the 95% most important variables\n",
    "        cutimplist = {key: val for key, val in implist.iteritems() if val > 0.00}\n",
    "        curframe = pd.DataFrame(cutimplist, index = [len(plotframe)])\n",
    "        \n",
    "        plotframe = pd.concat([plotframe, curframe])\n",
    "        \n",
    "    plotframe = plotframe.fillna(0.0)\n",
    "    \n",
    "    print plotframe\n",
    "    print \"number of pre-selected input variables = \" + str(len(plotframe.columns))\n",
    "    \n",
    "    # start the plotting\n",
    "    parameters = plotframe.columns\n",
    "    plotdata = np.transpose(plotframe.as_matrix())\n",
    "    \n",
    "    plt.close('all')\n",
    "    fig = plt.figure(figsize=(10,15))\n",
    "    ax = fig.add_subplot(111)\n",
    "    cax = ax.matshow(plotdata, cmap = 'Blues')\n",
    "    \n",
    "    # make axis labels\n",
    "    disclabels = []\n",
    "    for disc in discs:\n",
    "        if \"0j\" in disc[0] or \"0j\" in disc[1]:\n",
    "            disclabels.append('D_' + re.sub('0j', '', disc[0]) + \"_\" + re.sub('0j', '', disc[1]) + \"_0j\")\n",
    "        elif \"01j\" in disc[0] or \"01j\" in disc[1]:\n",
    "            disclabels.append('D_' + re.sub('01j', '', disc[0]) + \"_\" + re.sub('01j', '', disc[1]) + \"_01j\")\n",
    "        elif \"1j\" in disc[0] or \"1j\" in disc[1]:\n",
    "            disclabels.append('D_' + re.sub('1j', '', disc[0]) + \"_\" + re.sub('1j', '', disc[1]) + \"_1j\")\n",
    "        elif \"2j\" in disc[0] or \"2j\" in disc[1]:\n",
    "            disclabels.append('D_' + re.sub('2j', '', disc[0]) + \"_\" + re.sub('2j', '', disc[1]) + \"_2j\")\n",
    "        else:\n",
    "            disclabels.append('D_' + disc[0] + \"_\" + disc[1] + \"_2j\")\n",
    "            \n",
    "    disclabels = np.concatenate([[''], np.array(disclabels)])\n",
    "    parameters = np.concatenate([[''], np.array(parameters)])\n",
    "        \n",
    "    ax.set_xticklabels(disclabels, rotation = 'vertical')\n",
    "    ax.set_yticklabels(parameters)\n",
    "    \n",
    "    ax.xaxis.set_major_locator(ticker.MultipleLocator(1))\n",
    "    ax.yaxis.set_major_locator(ticker.MultipleLocator(1))\n",
    "    \n",
    "    # sort the used variables according to their importance\n",
    "    sorted_implist = []\n",
    "    for key, val in sorted(cutimplist.iteritems(), key = lambda x: x[1], reverse = True):\n",
    "        sorted_implist.append((key, val))\n",
    "    \n",
    "    return fig, sorted_implist"
   ]
  },
  {
   "cell_type": "code",
   "execution_count": 21,
   "metadata": {
    "collapsed": true
   },
   "outputs": [],
   "source": [
    "def append_variables(confhandler, impdict, threshold_fscore):\n",
    "    confhandler.new_section(impdict[\"discriminant\"])\n",
    "    cur_sec = confhandler.get_section(impdict[\"discriminant\"])\n",
    "\n",
    "    periodic_inputs = []\n",
    "    nonperiodic_inputs = []\n",
    "    for key, val in impdict.iteritems():\n",
    "        if val[0] > threshold_fscore and key is not \"discriminant\":\n",
    "            if \"phi\" in key or \"Phi\" in key:\n",
    "                periodic_inputs.append(key)\n",
    "            else:\n",
    "                nonperiodic_inputs.append(key)\n",
    "    cur_sec[\"nonperiodic_columns\"] = ConfigFileUtils.serialize_list(nonperiodic_inputs, lambda x: x)\n",
    "    cur_sec[\"periodic_columns\"] = ConfigFileUtils.serialize_list(periodic_inputs, lambda x: x)"
   ]
  },
  {
   "cell_type": "code",
   "execution_count": 22,
   "metadata": {
    "collapsed": true
   },
   "outputs": [],
   "source": [
    "def convert_varname(raw):\n",
    "    raw = raw.replace('(', '[')\n",
    "    raw = raw.replace(')', ']')\n",
    "    return raw"
   ]
  },
  {
   "cell_type": "code",
   "execution_count": 23,
   "metadata": {
    "collapsed": true
   },
   "outputs": [],
   "source": [
    "df = pd.DataFrame()"
   ]
  },
  {
   "cell_type": "code",
   "execution_count": 24,
   "metadata": {
    "collapsed": false
   },
   "outputs": [],
   "source": [
    "out_dir = \"/data_CMS/cms/wind/InputConfigurations/\"\n",
    "out_path = os.path.join(out_dir, \"inclusive_99_fullmassrange.conf\")\n",
    "threshold_fscore = 0.01"
   ]
  },
  {
   "cell_type": "code",
   "execution_count": 25,
   "metadata": {
    "collapsed": true
   },
   "outputs": [],
   "source": [
    "confhandler = ConfigFileHandler()"
   ]
  },
  {
   "cell_type": "code",
   "execution_count": 26,
   "metadata": {
    "collapsed": false,
    "scrolled": false
   },
   "outputs": [],
   "source": [
    "%%capture\n",
    "fig, implist = plot_variables([(\"VBF\", \"ggH\")])"
   ]
  },
  {
   "cell_type": "code",
   "execution_count": 27,
   "metadata": {
    "collapsed": false
   },
   "outputs": [],
   "source": [
    "impdict = {convert_varname(entry[0]): [entry[1]] for entry in implist}\n",
    "impdict[\"discriminant\"] = \"D_VBF_ggH_ML\"\n",
    "df = df.append(pd.DataFrame.from_dict(impdict))"
   ]
  },
  {
   "cell_type": "code",
   "execution_count": 28,
   "metadata": {
    "collapsed": true
   },
   "outputs": [],
   "source": [
    "append_variables(confhandler, impdict, threshold_fscore)"
   ]
  },
  {
   "cell_type": "code",
   "execution_count": 29,
   "metadata": {
    "collapsed": false
   },
   "outputs": [
    {
     "data": {
      "text/plain": [
       "[('ZZPt', 0.08845336323620479),\n",
       " ('JetEta(JetPt|0)', 0.08286331151985807),\n",
       " ('JetPt(JetPt|0)', 0.06100520510803528),\n",
       " ('ZZEta', 0.05874575306699694),\n",
       " ('PFMET', 0.055766623709183415),\n",
       " ('ZZMass', 0.04984183835712731),\n",
       " ('Z1Pt', 0.047984066678940236),\n",
       " ('D_VBF2j_ggH_ME', 0.046929655726455674),\n",
       " ('ZZPhi', 0.04234380491723711),\n",
       " ('Z2Mass', 0.0414232874190363),\n",
       " ('Z1Mass', 0.03976635592227485),\n",
       " ('Z2Pt', 0.03784163751694589),\n",
       " ('ZZMassErr', 0.0374566938358801),\n",
       " ('JetPt(JetPt|1)', 0.03526418852198363),\n",
       " ('JetPhi(JetPt|0)', 0.03166580193810775),\n",
       " ('D_VBF1j_ggH_ME', 0.02970761016920785),\n",
       " ('JetEta(JetPt|1)', 0.02510502267820382),\n",
       " ('JetPhi(JetPt|1)', 0.02384977154429363),\n",
       " ('D_ZHh_ggH_ME', 0.022008736547892014),\n",
       " ('D_WHh_ggH_ME', 0.020686538686839947),\n",
       " ('JetEta(JetPt|2)', 0.02003380809720665),\n",
       " ('D_WHh_ZHh_ME', 0.01979949455221008),\n",
       " ('JetPt(JetPt|2)', 0.018594453463656294),\n",
       " ('D_VBF2j_ZHh_ME', 0.01703794205760766),\n",
       " ('D_VBF2j_WHh_ME', 0.01621784465011967),\n",
       " ('JetPhi(JetPt|2)', 0.00826792080202179),\n",
       " ('JetPhi(JetPt|3)', 0.004083750355654488),\n",
       " ('nCleanedJetsPt30', 0.004016803628512611),\n",
       " ('ExtraLepPhi(ExtraLepPt|0)', 0.002209241995681936),\n",
       " ('ExtraLepEta(ExtraLepPt|0)', 0.002058611859612713),\n",
       " ('Z2Flav', 0.0018577716781870827),\n",
       " ('JetPt(JetPt|3)', 0.0017908249510452058),\n",
       " ('nCleanedJetsPt30BTagged_bTagSF', 0.0016234581331905137),\n",
       " ('JetEta(JetPt|3)', 0.0015565114060486368),\n",
       " ('Z1Flav', 0.0014393546335503523),\n",
       " ('ExtraLepPt(ExtraLepPt|0)', 0.0006359939078478301),\n",
       " ('nExtraLep', 6.694672714187685e-05)]"
      ]
     },
     "execution_count": 29,
     "metadata": {},
     "output_type": "execute_result"
    }
   ],
   "source": [
    "implist"
   ]
  },
  {
   "cell_type": "code",
   "execution_count": 30,
   "metadata": {
    "collapsed": false,
    "scrolled": false
   },
   "outputs": [],
   "source": [
    "%%capture\n",
    "fig, implist = plot_variables([(\"WHh\", \"ggH\")])"
   ]
  },
  {
   "cell_type": "code",
   "execution_count": 31,
   "metadata": {
    "collapsed": true
   },
   "outputs": [],
   "source": [
    "impdict = {convert_varname(entry[0]): [entry[1]] for entry in implist}\n",
    "impdict[\"discriminant\"] = \"D_WHh_ggH_ML\"\n",
    "df = df.append(pd.DataFrame.from_dict(impdict))"
   ]
  },
  {
   "cell_type": "code",
   "execution_count": 32,
   "metadata": {
    "collapsed": true
   },
   "outputs": [],
   "source": [
    "append_variables(confhandler, impdict, threshold_fscore)"
   ]
  },
  {
   "cell_type": "code",
   "execution_count": 33,
   "metadata": {
    "collapsed": false
   },
   "outputs": [
    {
     "data": {
      "text/plain": [
       "[('ZZEta', 0.08010279001468429),\n",
       " ('JetEta(JetPt|0)', 0.07851688693098385),\n",
       " ('ZZPt', 0.07795888399412629),\n",
       " ('ZZMass', 0.05804698972099853),\n",
       " ('JetPt(JetPt|0)', 0.05697503671071953),\n",
       " ('PFMET', 0.05568281938325991),\n",
       " ('ZZMassErr', 0.05568281938325991),\n",
       " ('Z1Pt', 0.0555359765051395),\n",
       " ('ZZPhi', 0.04615271659324523),\n",
       " ('Z2Mass', 0.044963289280469894),\n",
       " ('Z2Pt', 0.04315712187958884),\n",
       " ('Z1Mass', 0.04196769456681351),\n",
       " ('JetPhi(JetPt|0)', 0.02882525697503671),\n",
       " ('JetPt(JetPt|1)', 0.02684287812041116),\n",
       " ('D_WHh_ggH_ME', 0.02681350954478708),\n",
       " ('D_VBF1j_ggH_ME', 0.02591776798825257),\n",
       " ('D_VBF2j_ggH_ME', 0.02433186490455213),\n",
       " ('JetEta(JetPt|2)', 0.023083700440528633),\n",
       " ('JetEta(JetPt|1)', 0.020822320117474303),\n",
       " ('D_WHh_ZHh_ME', 0.01709251101321586),\n",
       " ('D_ZHh_ggH_ME', 0.015580029368575624),\n",
       " ('JetPt(JetPt|2)', 0.015183553597650513),\n",
       " ('JetPhi(JetPt|1)', 0.014185022026431718),\n",
       " ('JetPhi(JetPt|2)', 0.011336270190895741),\n",
       " ('D_VBF2j_ZHh_ME', 0.011160058737151249),\n",
       " ('D_VBF2j_WHh_ME', 0.009897209985315712),\n",
       " ('JetEta(JetPt|3)', 0.005829662261380323),\n",
       " ('nCleanedJetsPt30', 0.004713656387665199),\n",
       " ('JetPt(JetPt|3)', 0.004067547723935389),\n",
       " ('JetPhi(JetPt|3)', 0.003671071953010279),\n",
       " ('Z1Flav', 0.0032011747430249634),\n",
       " ('nCleanedJetsPt30BTagged_bTagSF', 0.0028928046989721),\n",
       " ('ExtraLepPt(ExtraLepPt|0)', 0.0027459618208516886),\n",
       " ('Z2Flav', 0.002511013215859031),\n",
       " ('ExtraLepEta(ExtraLepPt|0)', 0.0022173274596182083),\n",
       " ('ExtraLepPhi(ExtraLepPt|0)', 0.0020851688693098386),\n",
       " ('nExtraLep', 0.000249632892804699)]"
      ]
     },
     "execution_count": 33,
     "metadata": {},
     "output_type": "execute_result"
    }
   ],
   "source": [
    "implist"
   ]
  },
  {
   "cell_type": "code",
   "execution_count": 34,
   "metadata": {
    "collapsed": false,
    "scrolled": false
   },
   "outputs": [],
   "source": [
    "%%capture\n",
    "fig, implist = plot_variables([(\"ZHh\", \"ggH\")])"
   ]
  },
  {
   "cell_type": "code",
   "execution_count": 35,
   "metadata": {
    "collapsed": true
   },
   "outputs": [],
   "source": [
    "impdict = {convert_varname(entry[0]): [entry[1]] for entry in implist}\n",
    "impdict[\"discriminant\"] = \"D_ZHh_ggH_ML\"\n",
    "df = df.append(pd.DataFrame.from_dict(impdict))"
   ]
  },
  {
   "cell_type": "code",
   "execution_count": 36,
   "metadata": {
    "collapsed": true
   },
   "outputs": [],
   "source": [
    "append_variables(confhandler, impdict, threshold_fscore)"
   ]
  },
  {
   "cell_type": "code",
   "execution_count": 37,
   "metadata": {
    "collapsed": false
   },
   "outputs": [
    {
     "data": {
      "text/plain": [
       "[('ZZPt', 0.08632427291385093),\n",
       " ('ZZEta', 0.06690193722781199),\n",
       " ('JetEta(JetPt|0)', 0.06464934674876108),\n",
       " ('ZZPhi', 0.06202132452320168),\n",
       " ('JetPt(JetPt|0)', 0.0591680432497372),\n",
       " ('PFMET', 0.05679030885518346),\n",
       " ('Z2Mass', 0.05563898483255744),\n",
       " ('Z1Pt', 0.05556389848325574),\n",
       " ('Z1Mass', 0.0435751113780848),\n",
       " ('ZZMass', 0.04287430545126896),\n",
       " ('Z2Pt', 0.040796916453922014),\n",
       " ('ZZMassErr', 0.03924513190168694),\n",
       " ('D_ZHh_ggH_ME', 0.03371377083646193),\n",
       " ('nCleanedJetsPt30BTagged_bTagSF', 0.03246233168143365),\n",
       " ('D_VBF1j_ggH_ME', 0.03078540321369575),\n",
       " ('JetPt(JetPt|1)', 0.027756920458527307),\n",
       " ('JetEta(JetPt|1)', 0.025404214847074134),\n",
       " ('D_VBF2j_ggH_ME', 0.020748861190368926),\n",
       " ('JetPhi(JetPt|0)', 0.020248285528357612),\n",
       " ('JetEta(JetPt|2)', 0.017344946688691996),\n",
       " ('JetPt(JetPt|2)', 0.016443910497071633),\n",
       " ('D_WHh_ZHh_ME', 0.01381588827151224),\n",
       " ('JetPhi(JetPt|2)', 0.012189017369975472),\n",
       " ('D_WHh_ggH_ME', 0.012013815888271513),\n",
       " ('JetPhi(JetPt|1)', 0.010136657155729088),\n",
       " ('D_VBF2j_WHh_ME', 0.010036542023326826),\n",
       " ('D_VBF2j_ZHh_ME', 0.008810131651399109),\n",
       " ('ExtraLepPt(ExtraLepPt|0)', 0.008059268158382139),\n",
       " ('JetEta(JetPt|3)', 0.008009210592181008),\n",
       " ('JetPt(JetPt|3)', 0.004680382439805776),\n",
       " ('JetPhi(JetPt|3)', 0.004405065825699554),\n",
       " ('Z1Flav', 0.0029784251889673125),\n",
       " ('nCleanedJetsPt30', 0.0021274465635480804),\n",
       " ('Z2Flav', 0.0015267557691345046),\n",
       " ('ExtraLepEta(ExtraLepPt|0)', 0.0014516694198328077),\n",
       " ('ExtraLepPhi(ExtraLepPt|0)', 0.0007758922761175351),\n",
       " ('nExtraLep', 0.0005256044451118786)]"
      ]
     },
     "execution_count": 37,
     "metadata": {},
     "output_type": "execute_result"
    }
   ],
   "source": [
    "implist"
   ]
  },
  {
   "cell_type": "code",
   "execution_count": 38,
   "metadata": {
    "collapsed": false,
    "scrolled": false
   },
   "outputs": [],
   "source": [
    "%%capture\n",
    "fig, implist = plot_variables([(\"WHh\", \"ZHh\")])"
   ]
  },
  {
   "cell_type": "code",
   "execution_count": 39,
   "metadata": {
    "collapsed": true
   },
   "outputs": [],
   "source": [
    "impdict = {convert_varname(entry[0]): [entry[1]] for entry in implist}\n",
    "impdict[\"discriminant\"] = \"D_WHh_ZHh_ML\"\n",
    "df = df.append(pd.DataFrame.from_dict(impdict))"
   ]
  },
  {
   "cell_type": "code",
   "execution_count": 40,
   "metadata": {
    "collapsed": true
   },
   "outputs": [],
   "source": [
    "append_variables(confhandler, impdict, threshold_fscore)"
   ]
  },
  {
   "cell_type": "code",
   "execution_count": 41,
   "metadata": {
    "collapsed": false
   },
   "outputs": [
    {
     "data": {
      "text/plain": [
       "[('PFMET', 0.05654778887303852),\n",
       " ('D_WHh_ZHh_ME', 0.05609129814550642),\n",
       " ('ZZMassErr', 0.05352353780313837),\n",
       " ('JetPt(JetPt|0)', 0.047075606276747506),\n",
       " ('Z2Mass', 0.04553495007132668),\n",
       " ('JetEta(JetPt|0)', 0.044907275320970046),\n",
       " ('JetPhi(JetPt|1)', 0.04456490727532097),\n",
       " ('ZZMass', 0.04433666191155492),\n",
       " ('Z1Pt', 0.04365192582025677),\n",
       " ('JetPhi(JetPt|0)', 0.042738944365192585),\n",
       " ('Z1Mass', 0.04251069900142653),\n",
       " ('D_WHh_ggH_ME', 0.0385734664764622),\n",
       " ('ZZEta', 0.03754636233951498),\n",
       " ('JetEta(JetPt|1)', 0.035606276747503565),\n",
       " ('ZZPhi', 0.034293865905848785),\n",
       " ('JetPt(JetPt|1)', 0.03372325249643367),\n",
       " ('Z2Pt', 0.03320970042796006),\n",
       " ('D_ZHh_ggH_ME', 0.032924393723252496),\n",
       " ('ZZPt', 0.030813124108416547),\n",
       " ('JetPt(JetPt|2)', 0.02579172610556348),\n",
       " ('nCleanedJetsPt30BTagged_bTagSF', 0.025677603423680456),\n",
       " ('JetPhi(JetPt|2)', 0.024308131241084167),\n",
       " ('D_VBF2j_ggH_ME', 0.021854493580599144),\n",
       " ('D_VBF2j_WHh_ME', 0.019514978601997145),\n",
       " ('JetEta(JetPt|2)', 0.018716119828815977),\n",
       " ('D_VBF2j_ZHh_ME', 0.014607703281027104),\n",
       " ('JetPhi(JetPt|3)', 0.013980028530670471),\n",
       " ('D_VBF1j_ggH_ME', 0.00804564907275321),\n",
       " ('nCleanedJetsPt30', 0.0077603423680456494),\n",
       " ('JetEta(JetPt|3)', 0.0077603423680456494),\n",
       " ('Z1Flav', 0.005078459343794579),\n",
       " ('JetPt(JetPt|3)', 0.0038801711840228247),\n",
       " ('Z2Flav', 0.0015977175463623395),\n",
       " ('ExtraLepEta(ExtraLepPt|0)', 0.0014265335235378032),\n",
       " ('ExtraLepPt(ExtraLepPt|0)', 0.0012553495007132669),\n",
       " ('nExtraLep', 0.00034236804564907275),\n",
       " ('ExtraLepPhi(ExtraLepPt|0)', 0.0002282453637660485)]"
      ]
     },
     "execution_count": 41,
     "metadata": {},
     "output_type": "execute_result"
    }
   ],
   "source": [
    "implist"
   ]
  },
  {
   "cell_type": "code",
   "execution_count": 42,
   "metadata": {
    "collapsed": false,
    "scrolled": false
   },
   "outputs": [],
   "source": [
    "%%capture\n",
    "fig, implist = plot_variables([(\"VBF\", \"WHh\")])"
   ]
  },
  {
   "cell_type": "code",
   "execution_count": 43,
   "metadata": {
    "collapsed": true
   },
   "outputs": [],
   "source": [
    "impdict = {convert_varname(entry[0]): [entry[1]] for entry in implist}\n",
    "impdict[\"discriminant\"] = \"D_VBF_WHh_ML\"\n",
    "df = df.append(pd.DataFrame.from_dict(impdict))"
   ]
  },
  {
   "cell_type": "code",
   "execution_count": 44,
   "metadata": {
    "collapsed": true
   },
   "outputs": [],
   "source": [
    "append_variables(confhandler, impdict, threshold_fscore)"
   ]
  },
  {
   "cell_type": "code",
   "execution_count": 45,
   "metadata": {
    "collapsed": false
   },
   "outputs": [
    {
     "data": {
      "text/plain": [
       "[('JetEta(JetPt|0)', 0.11353795560427514),\n",
       " ('ZZEta', 0.08503699643738011),\n",
       " ('JetEta(JetPt|2)', 0.06363387229377912),\n",
       " ('JetPt(JetPt|0)', 0.0562893943546177),\n",
       " ('D_VBF2j_ggH_ME', 0.054343655796108524),\n",
       " ('JetEta(JetPt|1)', 0.039380652233488626),\n",
       " ('ZZMass', 0.03798300904357358),\n",
       " ('ZZPt', 0.03757193751712798),\n",
       " ('PFMET', 0.035955056179775284),\n",
       " ('Z1Mass', 0.034365579610852286),\n",
       " ('JetPhi(JetPt|0)', 0.03214579336804604),\n",
       " ('JetPt(JetPt|2)', 0.03189915045217868),\n",
       " ('Z2Mass', 0.03113181693614689),\n",
       " ('Z1Pt', 0.03080295971499041),\n",
       " ('ZZPhi', 0.030391888188544807),\n",
       " ('ZZMassErr', 0.03017265004110715),\n",
       " ('D_ZHh_ggH_ME', 0.029926007125239792),\n",
       " ('Z2Pt', 0.029213483146067417),\n",
       " ('D_WHh_ggH_ME', 0.027898054261441492),\n",
       " ('D_VBF1j_ggH_ME', 0.027158125513839407),\n",
       " ('D_WHh_ZHh_ME', 0.02170457659632776),\n",
       " ('JetPt(JetPt|1)', 0.019375171279802685),\n",
       " ('D_VBF2j_ZHh_ME', 0.016525075363113182),\n",
       " ('JetPhi(JetPt|1)', 0.015894765689229925),\n",
       " ('D_VBF2j_WHh_ME', 0.012030693340641272),\n",
       " ('JetPt(JetPt|3)', 0.010660454919155933),\n",
       " ('JetEta(JetPt|3)', 0.009564264181967663),\n",
       " ('JetPhi(JetPt|2)', 0.009345026034530008),\n",
       " ('nCleanedJetsPt30', 0.006768977802137572),\n",
       " ('JetPhi(JetPt|3)', 0.005480953685941353),\n",
       " ('ExtraLepPt(ExtraLepPt|0)', 0.0036448342011510004),\n",
       " ('ExtraLepEta(ExtraLepPt|0)', 0.0031515483694162785),\n",
       " ('Z1Flav', 0.0023294053165250754),\n",
       " ('nCleanedJetsPt30BTagged_bTagSF', 0.0018361194847903535),\n",
       " ('ExtraLepPhi(ExtraLepPt|0)', 0.0014798574952041654),\n",
       " ('Z2Flav', 0.0013702384214853384)]"
      ]
     },
     "execution_count": 45,
     "metadata": {},
     "output_type": "execute_result"
    }
   ],
   "source": [
    "implist"
   ]
  },
  {
   "cell_type": "code",
   "execution_count": 46,
   "metadata": {
    "collapsed": false,
    "scrolled": false
   },
   "outputs": [],
   "source": [
    "%%capture\n",
    "fig, implist = plot_variables([(\"VBF\", \"ZHh\")])"
   ]
  },
  {
   "cell_type": "code",
   "execution_count": 47,
   "metadata": {
    "collapsed": true
   },
   "outputs": [],
   "source": [
    "impdict = {convert_varname(entry[0]): [entry[1]] for entry in implist}\n",
    "impdict[\"discriminant\"] = \"D_VBF_ZHh_ML\"\n",
    "df = df.append(pd.DataFrame.from_dict(impdict))"
   ]
  },
  {
   "cell_type": "code",
   "execution_count": 48,
   "metadata": {
    "collapsed": true
   },
   "outputs": [],
   "source": [
    "append_variables(confhandler, impdict, threshold_fscore)"
   ]
  },
  {
   "cell_type": "code",
   "execution_count": 49,
   "metadata": {
    "collapsed": false
   },
   "outputs": [
    {
     "data": {
      "text/plain": [
       "[('JetEta(JetPt|0)', 0.09752560101964576),\n",
       " ('ZZEta', 0.08308794444688612),\n",
       " ('JetEta(JetPt|2)', 0.057442974552806225),\n",
       " ('D_VBF2j_ggH_ME', 0.05412473080472905),\n",
       " ('PFMET', 0.04891662637893904),\n",
       " ('JetPt(JetPt|0)', 0.04014855183931789),\n",
       " ('D_ZHh_ggH_ME', 0.03797301454753219),\n",
       " ('JetEta(JetPt|1)', 0.03757746231266207),\n",
       " ('Z2Mass', 0.03570957675910869),\n",
       " ('ZZMass', 0.03524809915176021),\n",
       " ('ZZPt', 0.03291873599085835),\n",
       " ('JetPhi(JetPt|0)', 0.03261108425262603),\n",
       " ('ZZMassErr', 0.030281721091724167),\n",
       " ('Z1Mass', 0.03017184547092691),\n",
       " ('nCleanedJetsPt30BTagged_bTagSF', 0.029073089262954335),\n",
       " ('JetPt(JetPt|2)', 0.028567661407286952),\n",
       " ('Z2Pt', 0.027710631565068342),\n",
       " ('JetPt(JetPt|1)', 0.026985452467806443),\n",
       " ('D_WHh_ZHh_ME', 0.026567925108776865),\n",
       " ('Z1Pt', 0.02518349228673142),\n",
       " ('ZZPhi', 0.024546213686107328),\n",
       " ('D_VBF2j_ZHh_ME', 0.023469432602294203),\n",
       " ('D_WHh_ggH_ME', 0.020986243572276183),\n",
       " ('JetPhi(JetPt|1)', 0.019294159011998418),\n",
       " ('D_VBF2j_WHh_ME', 0.018678855535533775),\n",
       " ('JetPhi(JetPt|2)', 0.018547004790577068),\n",
       " ('D_VBF1j_ggH_ME', 0.013360875488946513),\n",
       " ('JetPt(JetPt|3)', 0.01114138794884191),\n",
       " ('JetEta(JetPt|3)', 0.008372522304751022),\n",
       " ('JetPhi(JetPt|3)', 0.007581417835010768),\n",
       " ('nCleanedJetsPt30', 0.005405880543225069),\n",
       " ('ExtraLepPt(ExtraLepPt|0)', 0.0038016964795851097),\n",
       " ('Z2Flav', 0.0022194875401046017),\n",
       " ('Z1Flav', 0.0019557860501911834),\n",
       " ('ExtraLepPhi(ExtraLepPt|0)', 0.001362457697885993),\n",
       " ('ExtraLepEta(ExtraLepPt|0)', 0.001230606952929284),\n",
       " ('nExtraLep', 0.000219751241594515)]"
      ]
     },
     "execution_count": 49,
     "metadata": {},
     "output_type": "execute_result"
    }
   ],
   "source": [
    "implist"
   ]
  },
  {
   "cell_type": "code",
   "execution_count": 50,
   "metadata": {
    "collapsed": false,
    "scrolled": false
   },
   "outputs": [],
   "source": [
    "%%capture\n",
    "fig, implist = plot_variables([(\"WHl\", \"ggH\")])"
   ]
  },
  {
   "cell_type": "code",
   "execution_count": 51,
   "metadata": {
    "collapsed": true
   },
   "outputs": [],
   "source": [
    "impdict = {convert_varname(entry[0]): [entry[1]] for entry in implist}\n",
    "impdict[\"discriminant\"] = \"D_WHl_ggH_ML\"\n",
    "df = df.append(pd.DataFrame.from_dict(impdict))"
   ]
  },
  {
   "cell_type": "code",
   "execution_count": 52,
   "metadata": {
    "collapsed": true
   },
   "outputs": [],
   "source": [
    "append_variables(confhandler, impdict, threshold_fscore)"
   ]
  },
  {
   "cell_type": "code",
   "execution_count": 53,
   "metadata": {
    "collapsed": false
   },
   "outputs": [
    {
     "data": {
      "text/plain": [
       "[('PFMET', 0.11870082035827892),\n",
       " ('ZZMass', 0.11156454043194375),\n",
       " ('ZZPt', 0.0882303699983258),\n",
       " ('Z1Mass', 0.06470785200066968),\n",
       " ('ZZMassErr', 0.060334003013561024),\n",
       " ('ZZEta', 0.05275824543780345),\n",
       " ('Z2Pt', 0.051272392432613424),\n",
       " ('Z1Pt', 0.05051900217646074),\n",
       " ('JetPt(JetPt|0)', 0.04999581449857693),\n",
       " ('ZZPhi', 0.047170601038004356),\n",
       " ('D_VBF1j_ggH_ME', 0.04497321279089235),\n",
       " ('Z2Mass', 0.04124811652435962),\n",
       " ('ExtraLepPt(ExtraLepPt|0)', 0.03894609074167085),\n",
       " ('JetEta(JetPt|0)', 0.033588648920140636),\n",
       " ('JetPhi(JetPt|0)', 0.02592918131592165),\n",
       " ('ExtraLepEta(ExtraLepPt|0)', 0.015632847815168258),\n",
       " ('ExtraLepPhi(ExtraLepPt|0)', 0.013707517160555835),\n",
       " ('D_WHh_ZHh_ME', 0.010798593671521849),\n",
       " ('nCleanedJetsPt30BTagged_bTagSF', 0.010568391093252971),\n",
       " ('JetEta(JetPt|1)', 0.008810480495563369),\n",
       " ('JetPt(JetPt|1)', 0.006717729784028127),\n",
       " ('JetPhi(JetPt|1)', 0.006654947262682069),\n",
       " ('D_VBF2j_WHh_ME', 0.006027122049221497),\n",
       " ('D_VBF2j_ggH_ME', 0.005838774485183325),\n",
       " ('ExtraLepPhi(ExtraLepPt|1)', 0.0051900217646074),\n",
       " ('JetPhi(JetPt|2)', 0.003850661309224845),\n",
       " ('D_VBF2j_ZHh_ME', 0.0032228360957642726),\n",
       " ('nExtraLep', 0.0030344885317261008),\n",
       " ('JetEta(JetPt|2)', 0.0030344885317261008),\n",
       " ('Z2Flav', 0.002741503432111167),\n",
       " ('Z1Flav', 0.002636865896534405),\n",
       " ('nCleanedJetsPt30', 0.0025113008538422904),\n",
       " ('D_WHh_ggH_ME', 0.0024694458396115854),\n",
       " ('D_ZHh_ggH_ME', 0.0023857358111501756),\n",
       " ('JetPt(JetPt|3)', 0.0013393604553825547),\n",
       " ('JetPt(JetPt|2)', 0.0009835928344215637),\n",
       " ('nExtraZ', 0.0008371002846140967),\n",
       " ('JetEta(JetPt|3)', 0.0006068977063452202),\n",
       " ('ExtraLepEta(ExtraLepPt|1)', 0.00029298509961493387),\n",
       " ('JetPhi(JetPt|3)', 0.00016742005692281934)]"
      ]
     },
     "execution_count": 53,
     "metadata": {},
     "output_type": "execute_result"
    }
   ],
   "source": [
    "implist"
   ]
  },
  {
   "cell_type": "code",
   "execution_count": 54,
   "metadata": {
    "collapsed": false,
    "scrolled": false
   },
   "outputs": [],
   "source": [
    "%%capture\n",
    "fig, implist = plot_variables([(\"WHl\", \"VBF\")])"
   ]
  },
  {
   "cell_type": "code",
   "execution_count": 55,
   "metadata": {
    "collapsed": true
   },
   "outputs": [],
   "source": [
    "impdict = {convert_varname(entry[0]): [entry[1]] for entry in implist}\n",
    "impdict[\"discriminant\"] = \"D_WHl_VBF_ML\"\n",
    "df = df.append(pd.DataFrame.from_dict(impdict))"
   ]
  },
  {
   "cell_type": "code",
   "execution_count": 56,
   "metadata": {
    "collapsed": true
   },
   "outputs": [],
   "source": [
    "append_variables(confhandler, impdict, threshold_fscore)"
   ]
  },
  {
   "cell_type": "code",
   "execution_count": 57,
   "metadata": {
    "collapsed": false
   },
   "outputs": [
    {
     "data": {
      "text/plain": [
       "[('PFMET', 0.10766624311732317),\n",
       " ('ZZMass', 0.08235916984328674),\n",
       " ('ZZEta', 0.06361711139347734),\n",
       " ('JetEta(JetPt|0)', 0.06304531977975435),\n",
       " ('JetPt(JetPt|0)', 0.05622617534942821),\n",
       " ('D_VBF1j_ggH_ME', 0.052244811520542146),\n",
       " ('ZZMassErr', 0.044684455739093604),\n",
       " ('ZZPt', 0.043244387971198645),\n",
       " ('Z1Mass', 0.04273612875900042),\n",
       " ('Z1Pt', 0.04133841592545531),\n",
       " ('ExtraLepEta(ExtraLepPt|0)', 0.03979246082168573),\n",
       " ('ExtraLepPt(ExtraLepPt|0)', 0.03962304108428632),\n",
       " ('Z2Mass', 0.03888182973316391),\n",
       " ('Z2Pt', 0.035959339263024144),\n",
       " ('D_VBF2j_ggH_ME', 0.03202033036848793),\n",
       " ('ZZPhi', 0.030199068191444304),\n",
       " ('JetPhi(JetPt|0)', 0.0295425667090216),\n",
       " ('JetPt(JetPt|1)', 0.017598475222363404),\n",
       " ('D_VBF2j_ZHh_ME', 0.017090216010165183),\n",
       " ('D_WHh_ZHh_ME', 0.016412537060567556),\n",
       " ('JetEta(JetPt|1)', 0.015607793307920373),\n",
       " ('JetEta(JetPt|2)', 0.015523083439220669),\n",
       " ('JetPhi(JetPt|1)', 0.0120288013553579),\n",
       " ('ExtraLepPhi(ExtraLepPt|0)', 0.01012282930961457),\n",
       " ('D_VBF2j_WHh_ME', 0.009783989834815756),\n",
       " ('D_WHh_ggH_ME', 0.008767471410419314),\n",
       " ('D_ZHh_ggH_ME', 0.008386277001270648),\n",
       " ('JetPt(JetPt|2)', 0.004955527318932656),\n",
       " ('JetPhi(JetPt|2)', 0.004108428631935621),\n",
       " ('nCleanedJetsPt30BTagged_bTagSF', 0.0030919102075391783),\n",
       " ('Z2Flav', 0.00277424819991529),\n",
       " ('Z1Flav', 0.0022024565861922915),\n",
       " ('JetPt(JetPt|3)', 0.002075391783142736),\n",
       " ('JetPhi(JetPt|3)', 0.0019695044472681066),\n",
       " ('nExtraLep', 0.0016094875052943668),\n",
       " ('nCleanedJetsPt30', 0.001037695891571368),\n",
       " ('ExtraLepEta(ExtraLepPt|1)', 0.0008682761541719611),\n",
       " ('JetEta(JetPt|3)', 0.0008047437526471834)]"
      ]
     },
     "execution_count": 57,
     "metadata": {},
     "output_type": "execute_result"
    }
   ],
   "source": [
    "implist"
   ]
  },
  {
   "cell_type": "code",
   "execution_count": 58,
   "metadata": {
    "collapsed": false,
    "scrolled": false
   },
   "outputs": [],
   "source": [
    "%%capture\n",
    "fig, implist = plot_variables([(\"WHl\", \"WHh\")])"
   ]
  },
  {
   "cell_type": "code",
   "execution_count": 59,
   "metadata": {
    "collapsed": true
   },
   "outputs": [],
   "source": [
    "impdict = {convert_varname(entry[0]): [entry[1]] for entry in implist}\n",
    "impdict[\"discriminant\"] = \"D_WHl_WHh_ML\"\n",
    "df = df.append(pd.DataFrame.from_dict(impdict))"
   ]
  },
  {
   "cell_type": "code",
   "execution_count": 60,
   "metadata": {
    "collapsed": true
   },
   "outputs": [],
   "source": [
    "append_variables(confhandler, impdict, threshold_fscore)"
   ]
  },
  {
   "cell_type": "code",
   "execution_count": 61,
   "metadata": {
    "collapsed": false
   },
   "outputs": [
    {
     "data": {
      "text/plain": [
       "[('PFMET', 0.1185586181247159),\n",
       " ('ZZMass', 0.09886772180668622),\n",
       " ('ZZPt', 0.061469482210008676),\n",
       " ('JetPt(JetPt|0)', 0.05785363031530229),\n",
       " ('ZZMassErr', 0.05204760527294516),\n",
       " ('Z1Mass', 0.05045663043927435),\n",
       " ('Z2Pt', 0.04646886234968387),\n",
       " ('Z2Mass', 0.046386214306376294),\n",
       " ('JetEta(JetPt|0)', 0.045353113765031615),\n",
       " ('ExtraLepPt(ExtraLepPt|0)', 0.04353485681226497),\n",
       " ('Z1Pt', 0.04225381214099756),\n",
       " ('ZZPhi', 0.03721228149923551),\n",
       " ('ZZEta', 0.037191619488408614),\n",
       " ('JetPhi(JetPt|0)', 0.03467085416752758),\n",
       " ('D_VBF1j_ggH_ME', 0.02570354146865573),\n",
       " ('D_WHh_ggH_ME', 0.022087689573949337),\n",
       " ('D_ZHh_ggH_ME', 0.021013265010950865),\n",
       " ('JetPhi(JetPt|1)', 0.015393198066035787),\n",
       " ('ExtraLepEta(ExtraLepPt|0)', 0.015289888011901318),\n",
       " ('JetPt(JetPt|1)', 0.014752675730402082),\n",
       " ('D_VBF2j_WHh_ME', 0.013698913178230505),\n",
       " ('JetEta(JetPt|1)', 0.012789784701847183),\n",
       " ('ExtraLepPhi(ExtraLepPt|0)', 0.012727798669366503),\n",
       " ('D_WHh_ZHh_ME', 0.012107938344559692),\n",
       " ('D_VBF2j_ggH_ME', 0.009917765196908963),\n",
       " ('JetPt(JetPt|2)', 0.00966982106698624),\n",
       " ('D_VBF2j_ZHh_ME', 0.008864002644737386),\n",
       " ('JetEta(JetPt|2)', 0.007500309930162403),\n",
       " ('nCleanedJetsPt30', 0.0050415306417620565),\n",
       " ('JetPhi(JetPt|2)', 0.004855572544320013),\n",
       " ('nExtraLep', 0.004772924501012439),\n",
       " ('nCleanedJetsPt30BTagged_bTagSF', 0.00342989379726435),\n",
       " ('Z1Flav', 0.0022934832017851977),\n",
       " ('JetEta(JetPt|3)', 0.0017356089094590686),\n",
       " ('JetPhi(JetPt|3)', 0.001714946898632175),\n",
       " ('Z2Flav', 0.0014463407578825572),\n",
       " ('JetPt(JetPt|3)', 0.0008678044547295343)]"
      ]
     },
     "execution_count": 61,
     "metadata": {},
     "output_type": "execute_result"
    }
   ],
   "source": [
    "implist"
   ]
  },
  {
   "cell_type": "code",
   "execution_count": 62,
   "metadata": {
    "collapsed": false,
    "scrolled": false
   },
   "outputs": [],
   "source": [
    "%%capture\n",
    "fig, implist = plot_variables([(\"WHl\", \"ZHh\")])"
   ]
  },
  {
   "cell_type": "code",
   "execution_count": 63,
   "metadata": {
    "collapsed": true
   },
   "outputs": [],
   "source": [
    "impdict = {convert_varname(entry[0]): [entry[1]] for entry in implist}\n",
    "impdict[\"discriminant\"] = \"D_WHl_ZHh_ML\"\n",
    "df = df.append(pd.DataFrame.from_dict(impdict))"
   ]
  },
  {
   "cell_type": "code",
   "execution_count": 64,
   "metadata": {
    "collapsed": true
   },
   "outputs": [],
   "source": [
    "append_variables(confhandler, impdict, threshold_fscore)"
   ]
  },
  {
   "cell_type": "code",
   "execution_count": 65,
   "metadata": {
    "collapsed": false
   },
   "outputs": [
    {
     "data": {
      "text/plain": [
       "[('PFMET', 0.12824846234831275),\n",
       " ('ZZMass', 0.10544688867955893),\n",
       " ('Z2Pt', 0.05859699673075858),\n",
       " ('ZZPhi', 0.04757023327976949),\n",
       " ('JetPt(JetPt|0)', 0.046739070205574336),\n",
       " ('JetEta(JetPt|0)', 0.046489721283315785),\n",
       " ('D_VBF1j_ggH_ME', 0.04435640272621488),\n",
       " ('JetPhi(JetPt|0)', 0.04258325483459855),\n",
       " ('ZZMassErr', 0.04191832437524242),\n",
       " ('Z1Pt', 0.04039452540588463),\n",
       " ('Z1Mass', 0.03984041668975453),\n",
       " ('ZZPt', 0.03981271125394802),\n",
       " ('ExtraLepPt(ExtraLepPt|0)', 0.03657117526458691),\n",
       " ('nCleanedJetsPt30BTagged_bTagSF', 0.03637723721394138),\n",
       " ('ZZEta', 0.035352136089100684),\n",
       " ('Z2Mass', 0.026929683603923088),\n",
       " ('D_ZHh_ggH_ME', 0.023798969357787997),\n",
       " ('ExtraLepEta(ExtraLepPt|0)', 0.01883969634842356),\n",
       " ('D_WHh_ggH_ME', 0.017315897379065772),\n",
       " ('ExtraLepPhi(ExtraLepPt|0)', 0.015902920152934007),\n",
       " ('JetPt(JetPt|1)', 0.01576439297390148),\n",
       " ('D_VBF2j_WHh_ME', 0.009586080789050811),\n",
       " ('D_WHh_ZHh_ME', 0.009586080789050811),\n",
       " ('JetPt(JetPt|2)', 0.009198204687759738),\n",
       " ('JetPhi(JetPt|1)', 0.009142793816146728),\n",
       " ('JetEta(JetPt|1)', 0.008228514434532055),\n",
       " ('D_VBF2j_ZHh_ME', 0.007840638333240982),\n",
       " ('JetEta(JetPt|2)', 0.006593893721948246),\n",
       " ('nExtraLep', 0.0057904360835595945),\n",
       " ('nCleanedJetsPt30', 0.0057904360835595945),\n",
       " ('D_VBF2j_ggH_ME', 0.0050700947525904585),\n",
       " ('Z1Flav', 0.004377458857427827),\n",
       " ('JetPhi(JetPt|2)', 0.004155815370975785),\n",
       " ('Z2Flav', 0.003989582756136754),\n",
       " ('JetEta(JetPt|3)', 0.0009973956890341885),\n",
       " ('JetPhi(JetPt|3)', 0.0006372250235496204),\n",
       " ('JetPt(JetPt|3)', 0.00016623261483903143)]"
      ]
     },
     "execution_count": 65,
     "metadata": {},
     "output_type": "execute_result"
    }
   ],
   "source": [
    "implist"
   ]
  },
  {
   "cell_type": "code",
   "execution_count": 66,
   "metadata": {
    "collapsed": false,
    "scrolled": false
   },
   "outputs": [],
   "source": [
    "%%capture\n",
    "fig, implist = plot_variables([(\"WHl\", \"ZHl\")])"
   ]
  },
  {
   "cell_type": "code",
   "execution_count": 67,
   "metadata": {
    "collapsed": true
   },
   "outputs": [],
   "source": [
    "impdict = {convert_varname(entry[0]): [entry[1]] for entry in implist}\n",
    "impdict[\"discriminant\"] = \"D_WHl_ZHl_ML\"\n",
    "df = df.append(pd.DataFrame.from_dict(impdict))"
   ]
  },
  {
   "cell_type": "code",
   "execution_count": 68,
   "metadata": {
    "collapsed": true
   },
   "outputs": [],
   "source": [
    "append_variables(confhandler, impdict, threshold_fscore)"
   ]
  },
  {
   "cell_type": "code",
   "execution_count": 69,
   "metadata": {
    "collapsed": false
   },
   "outputs": [
    {
     "data": {
      "text/plain": [
       "[('PFMET', 0.10454989259910173),\n",
       " ('ZZMass', 0.10015621948838117),\n",
       " ('Z2Mass', 0.09193516891232181),\n",
       " ('Z1Mass', 0.08808826401093536),\n",
       " ('Z2Pt', 0.06992774848662371),\n",
       " ('Z1Pt', 0.0568638937707479),\n",
       " ('ZZPt', 0.05264596758445616),\n",
       " ('ZZEta', 0.05036125756688147),\n",
       " ('ZZMassErr', 0.0431361062292521),\n",
       " ('JetPt(JetPt|0)', 0.03690685413005272),\n",
       " ('ZZPhi', 0.03669205233352861),\n",
       " ('ExtraLepPt(ExtraLepPt|0)', 0.03141964460066393),\n",
       " ('JetEta(JetPt|0)', 0.02472173403632103),\n",
       " ('JetPhi(JetPt|0)', 0.02327670376879516),\n",
       " ('ExtraLepEta(ExtraLepPt|0)', 0.023159539152509276),\n",
       " ('D_VBF1j_ggH_ME', 0.01816051552431166),\n",
       " ('ExtraLepPhi(ExtraLepPt|0)', 0.01527045498925991),\n",
       " ('nExtraLep', 0.012087482913493458),\n",
       " ('JetPhi(JetPt|1)', 0.010076157000585824),\n",
       " ('D_ZHh_ggH_ME', 0.01003710212849053),\n",
       " ('JetEta(JetPt|1)', 0.010017574692442882),\n",
       " ('D_VBF2j_ggH_ME', 0.009529388791251708),\n",
       " ('ExtraLepPt(ExtraLepPt|1)', 0.007830501855106425),\n",
       " ('nExtraZ', 0.007459480570201133),\n",
       " ('nCleanedJetsPt30BTagged_bTagSF', 0.007322788517867604),\n",
       " ('JetPt(JetPt|1)', 0.007303261081819957),\n",
       " ('D_WHh_ggH_ME', 0.006092560046865847),\n",
       " ('D_WHh_ZHh_ME', 0.006014450302675259),\n",
       " ('Z2Flav', 0.00581917594219879),\n",
       " ('JetEta(JetPt|2)', 0.005311462604959969),\n",
       " ('Z1Flav', 0.004081234133958211),\n",
       " ('ExtraLepEta(ExtraLepPt|1)', 0.004081234133958211),\n",
       " ('D_VBF2j_ZHh_ME', 0.0036321031048623317),\n",
       " ('JetPhi(JetPt|2)', 0.0032610818199570396),\n",
       " ('nCleanedJetsPt30', 0.0028900605350517476),\n",
       " ('ExtraLepPhi(ExtraLepPt|1)', 0.002851005662956454),\n",
       " ('JetPt(JetPt|2)', 0.0026557313024799844),\n",
       " ('D_VBF2j_WHh_ME', 0.0022261277094317517),\n",
       " ('JetPt(JetPt|3)', 0.0013669205233352861),\n",
       " ('JetPhi(JetPt|3)', 0.0005077133372388206),\n",
       " ('JetEta(JetPt|3)', 0.0002733841046670572)]"
      ]
     },
     "execution_count": 69,
     "metadata": {},
     "output_type": "execute_result"
    }
   ],
   "source": [
    "implist"
   ]
  },
  {
   "cell_type": "code",
   "execution_count": 70,
   "metadata": {
    "collapsed": false,
    "scrolled": false
   },
   "outputs": [],
   "source": [
    "%%capture\n",
    "fig, implist = plot_variables([(\"WHl\", \"ZHMET\")])"
   ]
  },
  {
   "cell_type": "code",
   "execution_count": 71,
   "metadata": {
    "collapsed": true
   },
   "outputs": [],
   "source": [
    "impdict = {convert_varname(entry[0]): [entry[1]] for entry in implist}\n",
    "impdict[\"discriminant\"] = \"D_WHl_ZHMET_ML\"\n",
    "df = df.append(pd.DataFrame.from_dict(impdict))"
   ]
  },
  {
   "cell_type": "code",
   "execution_count": 72,
   "metadata": {
    "collapsed": true
   },
   "outputs": [],
   "source": [
    "append_variables(confhandler, impdict, threshold_fscore)"
   ]
  },
  {
   "cell_type": "code",
   "execution_count": 73,
   "metadata": {
    "collapsed": false
   },
   "outputs": [
    {
     "data": {
      "text/plain": [
       "[('ZZMass', 0.13284155715348375),\n",
       " ('PFMET', 0.11796429456979916),\n",
       " ('ZZPt', 0.08269278452764692),\n",
       " ('Z1Mass', 0.07122489461939004),\n",
       " ('Z1Pt', 0.060190924869823956),\n",
       " ('ZZMassErr', 0.05145053310190925),\n",
       " ('Z2Mass', 0.05083064716092239),\n",
       " ('ZZEta', 0.04704934292090256),\n",
       " ('Z2Pt', 0.046925365732705185),\n",
       " ('ExtraLepPt(ExtraLepPt|0)', 0.044817753533349866),\n",
       " ('ZZPhi', 0.04456979915695512),\n",
       " ('JetPt(JetPt|0)', 0.03973468881725763),\n",
       " ('JetEta(JetPt|0)', 0.03880485990577734),\n",
       " ('ExtraLepEta(ExtraLepPt|0)', 0.025477312174559882),\n",
       " ('D_VBF1j_ggH_ME', 0.024547483263079595),\n",
       " ('JetPhi(JetPt|0)', 0.0205802132407637),\n",
       " ('JetEta(JetPt|1)', 0.013079593354822713),\n",
       " ('JetPhi(JetPt|1)', 0.011839821472848996),\n",
       " ('ExtraLepPhi(ExtraLepPt|1)', 0.01177783287875031),\n",
       " ('nExtraLep', 0.010538060996776594),\n",
       " ('JetPt(JetPt|1)', 0.0065707909744607),\n",
       " ('D_ZHh_ggH_ME', 0.006446813786263328),\n",
       " ('D_VBF2j_ggH_ME', 0.0061988594098685845),\n",
       " ('D_VBF2j_WHh_ME', 0.006012893627572527),\n",
       " ('ExtraLepPhi(ExtraLepPt|0)', 0.004153235804611952),\n",
       " ('D_WHh_ZHh_ME', 0.003657327051822465),\n",
       " ('ExtraLepEta(ExtraLepPt|1)', 0.0030994297049342923),\n",
       " ('JetEta(JetPt|2)', 0.0030994297049342923),\n",
       " ('nExtraZ', 0.002355566575750062),\n",
       " ('Z2Flav', 0.002045623605256633),\n",
       " ('JetPhi(JetPt|2)', 0.001983635011157947),\n",
       " ('JetPt(JetPt|2)', 0.0019216464170592612),\n",
       " ('nCleanedJetsPt30', 0.0019216464170592612),\n",
       " ('D_WHh_ggH_ME', 0.0011157946937763452),\n",
       " ('D_VBF2j_ZHh_ME', 0.0009298289114802877),\n",
       " ('JetPhi(JetPt|3)', 0.0005578973468881726),\n",
       " ('Z1Flav', 0.0004959087527894868),\n",
       " ('JetEta(JetPt|3)', 0.00037193156459211507),\n",
       " ('nCleanedJetsPt30BTagged_bTagSF', 0.0001239771881973717)]"
      ]
     },
     "execution_count": 73,
     "metadata": {},
     "output_type": "execute_result"
    }
   ],
   "source": [
    "implist"
   ]
  },
  {
   "cell_type": "code",
   "execution_count": 74,
   "metadata": {
    "collapsed": false,
    "scrolled": false
   },
   "outputs": [],
   "source": [
    "%%capture\n",
    "fig, implist = plot_variables([(\"WHl\", \"ttHh\")])"
   ]
  },
  {
   "cell_type": "code",
   "execution_count": 75,
   "metadata": {
    "collapsed": true
   },
   "outputs": [],
   "source": [
    "impdict = {convert_varname(entry[0]): [entry[1]] for entry in implist}\n",
    "impdict[\"discriminant\"] = \"D_WHl_ttHh_ML\"\n",
    "df = df.append(pd.DataFrame.from_dict(impdict))"
   ]
  },
  {
   "cell_type": "code",
   "execution_count": 76,
   "metadata": {
    "collapsed": true
   },
   "outputs": [],
   "source": [
    "append_variables(confhandler, impdict, threshold_fscore)"
   ]
  },
  {
   "cell_type": "code",
   "execution_count": 77,
   "metadata": {
    "collapsed": false
   },
   "outputs": [
    {
     "data": {
      "text/plain": [
       "[('PFMET', 0.12721868365180466),\n",
       " ('JetPt(JetPt|0)', 0.06900212314225053),\n",
       " ('ExtraLepPt(ExtraLepPt|0)', 0.06768577494692145),\n",
       " ('nCleanedJetsPt30BTagged_bTagSF', 0.060764331210191085),\n",
       " ('ZZMass', 0.05549893842887473),\n",
       " ('Z1Mass', 0.039193205944798304),\n",
       " ('ZZMassErr', 0.03707006369426752),\n",
       " ('ZZEta', 0.03592356687898089),\n",
       " ('Z2Mass', 0.0326963906581741),\n",
       " ('JetPt(JetPt|1)', 0.03150743099787686),\n",
       " ('D_WHh_ggH_ME', 0.030658174097664543),\n",
       " ('JetPt(JetPt|2)', 0.02781316348195329),\n",
       " ('ZZPhi', 0.026454352441613586),\n",
       " ('Z2Pt', 0.02543524416135881),\n",
       " ('JetPhi(JetPt|0)', 0.024670912951167728),\n",
       " ('JetEta(JetPt|0)', 0.02416135881104034),\n",
       " ('JetEta(JetPt|1)', 0.02394904458598726),\n",
       " ('JetPt(JetPt|3)', 0.023524416135881104),\n",
       " ('D_WHh_ZHh_ME', 0.0229723991507431),\n",
       " ('ZZPt', 0.020552016985138005),\n",
       " ('D_VBF1j_ggH_ME', 0.019787685774946922),\n",
       " ('Z1Pt', 0.019447983014861996),\n",
       " ('D_ZHh_ggH_ME', 0.018004246284501063),\n",
       " ('D_VBF2j_ggH_ME', 0.017579617834394906),\n",
       " ('JetEta(JetPt|2)', 0.017494692144373672),\n",
       " ('nCleanedJetsPt30', 0.0170276008492569),\n",
       " ('ExtraLepEta(ExtraLepPt|0)', 0.016645435244161358),\n",
       " ('JetPhi(JetPt|1)', 0.009936305732484076),\n",
       " ('ExtraLepPhi(ExtraLepPt|0)', 0.009723991507430998),\n",
       " ('JetPhi(JetPt|2)', 0.009171974522292993),\n",
       " ('JetEta(JetPt|3)', 0.009129511677282378),\n",
       " ('D_VBF2j_ZHh_ME', 0.009002123142250532),\n",
       " ('D_VBF2j_WHh_ME', 0.006199575371549894),\n",
       " ('nExtraLep', 0.005562632696390658),\n",
       " ('JetPhi(JetPt|3)', 0.0050106157112526535),\n",
       " ('Z1Flav', 0.0027176220806794057),\n",
       " ('Z2Flav', 0.0008067940552016985)]"
      ]
     },
     "execution_count": 77,
     "metadata": {},
     "output_type": "execute_result"
    }
   ],
   "source": [
    "implist"
   ]
  },
  {
   "cell_type": "code",
   "execution_count": 78,
   "metadata": {
    "collapsed": false,
    "scrolled": false
   },
   "outputs": [],
   "source": [
    "%%capture\n",
    "fig, implist = plot_variables([(\"WHl\", \"ttHl\")])"
   ]
  },
  {
   "cell_type": "code",
   "execution_count": 79,
   "metadata": {
    "collapsed": true
   },
   "outputs": [],
   "source": [
    "impdict = {convert_varname(entry[0]): [entry[1]] for entry in implist}\n",
    "impdict[\"discriminant\"] = \"D_WHl_ttHl_ML\"\n",
    "df = df.append(pd.DataFrame.from_dict(impdict))"
   ]
  },
  {
   "cell_type": "code",
   "execution_count": 80,
   "metadata": {
    "collapsed": true
   },
   "outputs": [],
   "source": [
    "append_variables(confhandler, impdict, threshold_fscore)"
   ]
  },
  {
   "cell_type": "code",
   "execution_count": 81,
   "metadata": {
    "collapsed": false
   },
   "outputs": [
    {
     "data": {
      "text/plain": [
       "[('ZZMass', 0.12014992120618424),\n",
       " ('JetPt(JetPt|0)', 0.07087184292346352),\n",
       " ('PFMET', 0.07036074790238085),\n",
       " ('ZZEta', 0.055283444780442094),\n",
       " ('ZZPt', 0.05081136334596874),\n",
       " ('Z2Pt', 0.04420971932365092),\n",
       " ('nCleanedJetsPt30BTagged_bTagSF', 0.04344307679202692),\n",
       " ('Z1Mass', 0.03603219898632821),\n",
       " ('JetPhi(JetPt|0)', 0.03185825631415307),\n",
       " ('JetPt(JetPt|1)', 0.03130457004131351),\n",
       " ('JetEta(JetPt|0)', 0.030239788747391284),\n",
       " ('Z2Mass', 0.029089824949955278),\n",
       " ('ExtraLepEta(ExtraLepPt|0)', 0.026321393585757486),\n",
       " ('Z1Pt', 0.02615102857872993),\n",
       " ('D_VBF2j_ggH_ME', 0.02559734230589037),\n",
       " ('D_WHh_ZHh_ME', 0.024489969760211252),\n",
       " ('ZZMassErr', 0.02372332722858725),\n",
       " ('ZZPhi', 0.0211678521231739),\n",
       " ('ExtraLepPt(ExtraLepPt|0)', 0.020358618339793008),\n",
       " ('ExtraLepPt(ExtraLepPt|1)', 0.02018825333276545),\n",
       " ('JetEta(JetPt|1)', 0.018867924528301886),\n",
       " ('D_ZHh_ggH_ME', 0.018867924528301886),\n",
       " ('JetPt(JetPt|2)', 0.017888325737893437),\n",
       " ('JetPhi(JetPt|1)', 0.0176327782273521),\n",
       " ('D_VBF1j_ggH_ME', 0.01720686570978321),\n",
       " ('nExtraLep', 0.01533285063248009),\n",
       " ('ExtraLepPhi(ExtraLepPt|0)', 0.013884748072745859),\n",
       " ('nCleanedJetsPt30', 0.013544018058690745),\n",
       " ('JetPt(JetPt|3)', 0.012053324247199626),\n",
       " ('D_WHh_ggH_ME', 0.009966352911112057),\n",
       " ('JetEta(JetPt|2)', 0.009540440393543166),\n",
       " ('JetPhi(JetPt|2)', 0.006133140252992036),\n",
       " ('D_VBF2j_WHh_ME', 0.004770220196771583),\n",
       " ('JetEta(JetPt|3)', 0.0040461689169044674),\n",
       " ('D_VBF2j_ZHh_ME', 0.0038758039098769114),\n",
       " ('JetPhi(JetPt|3)', 0.0036628476510924654),\n",
       " ('Z2Flav', 0.0026832488606840154),\n",
       " ('nExtraZ', 0.002555475105413348),\n",
       " ('ExtraLepEta(ExtraLepPt|1)', 0.002512883853656459),\n",
       " ('Z1Flav', 0.0019591975808169004),\n",
       " ('ExtraLepPhi(ExtraLepPt|1)', 0.0013629200562204522)]"
      ]
     },
     "execution_count": 81,
     "metadata": {},
     "output_type": "execute_result"
    }
   ],
   "source": [
    "implist"
   ]
  },
  {
   "cell_type": "code",
   "execution_count": 82,
   "metadata": {
    "collapsed": false,
    "scrolled": false
   },
   "outputs": [],
   "source": [
    "%%capture\n",
    "fig, implist = plot_variables([(\"ZHh\", \"ZHl\")])"
   ]
  },
  {
   "cell_type": "code",
   "execution_count": 83,
   "metadata": {
    "collapsed": true
   },
   "outputs": [],
   "source": [
    "impdict = {convert_varname(entry[0]): [entry[1]] for entry in implist}\n",
    "impdict[\"discriminant\"] = \"D_ZHh_ZHl_ML\"\n",
    "df = df.append(pd.DataFrame.from_dict(impdict))"
   ]
  },
  {
   "cell_type": "code",
   "execution_count": 84,
   "metadata": {
    "collapsed": true
   },
   "outputs": [],
   "source": [
    "append_variables(confhandler, impdict, threshold_fscore)"
   ]
  },
  {
   "cell_type": "code",
   "execution_count": 85,
   "metadata": {
    "collapsed": false
   },
   "outputs": [
    {
     "data": {
      "text/plain": [
       "[('ZZMass', 0.14115536995395653),\n",
       " ('Z1Mass', 0.10865724381625441),\n",
       " ('ZZMassErr', 0.07690866259770854),\n",
       " ('Z2Pt', 0.07463325837884142),\n",
       " ('Z2Mass', 0.06850305171859943),\n",
       " ('PFMET', 0.06799443195202913),\n",
       " ('JetPt(JetPt|0)', 0.05080843773423279),\n",
       " ('ZZPt', 0.04920227005032659),\n",
       " ('ZZPhi', 0.04063604240282685),\n",
       " ('Z1Pt', 0.040555734018631544),\n",
       " ('JetPhi(JetPt|0)', 0.039458186101295645),\n",
       " ('JetEta(JetPt|0)', 0.031079344683584965),\n",
       " ('ZZEta', 0.0300085662276475),\n",
       " ('ExtraLepPt(ExtraLepPt|0)', 0.02623407217046793),\n",
       " ('D_VBF1j_ggH_ME', 0.02422636256558518),\n",
       " ('nCleanedJetsPt30BTagged_bTagSF', 0.015660134918085447),\n",
       " ('D_WHh_ggH_ME', 0.014401970232358926),\n",
       " ('D_ZHh_ggH_ME', 0.010333012099796552),\n",
       " ('ExtraLepPhi(ExtraLepPt|0)', 0.009074847414070029),\n",
       " ('JetEta(JetPt|1)', 0.00851268872470286),\n",
       " ('JetPhi(JetPt|1)', 0.008325302494913802),\n",
       " ('ExtraLepEta(ExtraLepPt|0)', 0.007896991112538816),\n",
       " ('D_VBF2j_ggH_ME', 0.006478209658421673),\n",
       " ('nCleanedJetsPt30', 0.0064514401970232355),\n",
       " ('nExtraLep', 0.006156976121640433),\n",
       " ('D_WHh_ZHh_ME', 0.0059428204304529395),\n",
       " ('D_VBF2j_WHh_ME', 0.005434200663882643),\n",
       " ('Z2Flav', 0.005273583895492023),\n",
       " ('JetPt(JetPt|1)', 0.003988649748367063),\n",
       " ('JetEta(JetPt|2)', 0.0036138772887889495),\n",
       " ('JetPhi(JetPt|2)', 0.0034532605203983296),\n",
       " ('JetPt(JetPt|2)', 0.0029714102152264697),\n",
       " ('D_VBF2j_ZHh_ME', 0.0017935539136952564),\n",
       " ('Z1Flav', 0.0013384730699218333),\n",
       " ('JetEta(JetPt|3)', 0.001177856301531213),\n",
       " ('JetPhi(JetPt|3)', 0.0009369311489452832),\n",
       " ('JetPt(JetPt|3)', 0.0007227754577577899)]"
      ]
     },
     "execution_count": 85,
     "metadata": {},
     "output_type": "execute_result"
    }
   ],
   "source": [
    "implist"
   ]
  },
  {
   "cell_type": "code",
   "execution_count": 86,
   "metadata": {
    "collapsed": false,
    "scrolled": false
   },
   "outputs": [],
   "source": [
    "%%capture\n",
    "fig, implist = plot_variables([(\"ZHh\", \"ZHMET\")])"
   ]
  },
  {
   "cell_type": "code",
   "execution_count": 87,
   "metadata": {
    "collapsed": true
   },
   "outputs": [],
   "source": [
    "impdict = {convert_varname(entry[0]): [entry[1]] for entry in implist}\n",
    "impdict[\"discriminant\"] = \"D_ZHh_ZHMET_ML\"\n",
    "df = df.append(pd.DataFrame.from_dict(impdict))"
   ]
  },
  {
   "cell_type": "code",
   "execution_count": 88,
   "metadata": {
    "collapsed": true
   },
   "outputs": [],
   "source": [
    "append_variables(confhandler, impdict, threshold_fscore)"
   ]
  },
  {
   "cell_type": "code",
   "execution_count": 89,
   "metadata": {
    "collapsed": false
   },
   "outputs": [
    {
     "data": {
      "text/plain": [
       "[('PFMET', 0.13909844290014492),\n",
       " ('ZZPt', 0.0678211750715374),\n",
       " ('ZZMass', 0.06187520903786837),\n",
       " ('JetPt(JetPt|0)', 0.058121817979114795),\n",
       " ('Z1Pt', 0.05641235274443495),\n",
       " ('ZZEta', 0.05418261548180906),\n",
       " ('Z2Pt', 0.04968597866884685),\n",
       " ('ZZPhi', 0.046601508788881044),\n",
       " ('Z2Mass', 0.0448920435542012),\n",
       " ('Z1Mass', 0.04318257831952135),\n",
       " ('JetEta(JetPt|0)', 0.04132446393399978),\n",
       " ('D_VBF1j_ggH_ME', 0.03597309450369765),\n",
       " ('nCleanedJetsPt30BTagged_bTagSF', 0.032108216581812773),\n",
       " ('D_WHh_ggH_ME', 0.029358207291240848),\n",
       " ('D_WHh_ZHh_ME', 0.02917239585268869),\n",
       " ('ZZMassErr', 0.02909807127726783),\n",
       " ('D_ZHh_ggH_ME', 0.026794009439221077),\n",
       " ('JetPhi(JetPt|0)', 0.0204392582407373),\n",
       " ('JetEta(JetPt|1)', 0.018692630718347023),\n",
       " ('D_VBF2j_ggH_ME', 0.017986547251848825),\n",
       " ('JetPt(JetPt|1)', 0.01791222267642796),\n",
       " ('JetPhi(JetPt|1)', 0.015645323126091643),\n",
       " ('JetPt(JetPt|2)', 0.015459511687539484),\n",
       " ('D_VBF2j_ZHh_ME', 0.01047976513434167),\n",
       " ('nCleanedJetsPt30', 0.006875023226429819),\n",
       " ('D_VBF2j_WHh_ME', 0.0063547511984837785),\n",
       " ('JetEta(JetPt|2)', 0.005648667731985581),\n",
       " ('JetEta(JetPt|3)', 0.004310825374410049),\n",
       " ('JetPhi(JetPt|2)', 0.0034932550447805567),\n",
       " ('ExtraLepPt(ExtraLepPt|0)', 0.0025641978520197705),\n",
       " ('Z1Flav', 0.0024898732765989075),\n",
       " ('JetPhi(JetPt|3)', 0.00230406183804675),\n",
       " ('Z2Flav', 0.0015236537961276896),\n",
       " ('ExtraLepEta(ExtraLepPt|0)', 0.0011891932067338066),\n",
       " ('JetPt(JetPt|3)', 0.0007060834664981976),\n",
       " ('nExtraLep', 0.00018581143855215726),\n",
       " ('ExtraLepPhi(ExtraLepPt|0)', 3.7162287710431455e-05)]"
      ]
     },
     "execution_count": 89,
     "metadata": {},
     "output_type": "execute_result"
    }
   ],
   "source": [
    "implist"
   ]
  },
  {
   "cell_type": "code",
   "execution_count": 90,
   "metadata": {
    "collapsed": false,
    "scrolled": false
   },
   "outputs": [],
   "source": [
    "%%capture\n",
    "fig, implist = plot_variables([(\"ZHh\", \"ttHh\")])"
   ]
  },
  {
   "cell_type": "code",
   "execution_count": 91,
   "metadata": {
    "collapsed": true
   },
   "outputs": [],
   "source": [
    "impdict = {convert_varname(entry[0]): [entry[1]] for entry in implist}\n",
    "impdict[\"discriminant\"] = \"D_ZHh_ttHh_ML\"\n",
    "df = df.append(pd.DataFrame.from_dict(impdict))"
   ]
  },
  {
   "cell_type": "code",
   "execution_count": 92,
   "metadata": {
    "collapsed": true
   },
   "outputs": [],
   "source": [
    "append_variables(confhandler, impdict, threshold_fscore)"
   ]
  },
  {
   "cell_type": "code",
   "execution_count": 93,
   "metadata": {
    "collapsed": false
   },
   "outputs": [
    {
     "data": {
      "text/plain": [
       "[('nCleanedJetsPt30BTagged_bTagSF', 0.09059597119298612),\n",
       " ('PFMET', 0.06502452771109488),\n",
       " ('ZZMass', 0.061371464356538986),\n",
       " ('JetPt(JetPt|0)', 0.060223358730821415),\n",
       " ('nCleanedJetsPt30', 0.05970149253731343),\n",
       " ('JetPt(JetPt|2)', 0.0472810771318234),\n",
       " ('ZZEta', 0.04185366871934036),\n",
       " ('JetPt(JetPt|1)', 0.040809936332324395),\n",
       " ('JetEta(JetPt|2)', 0.040183696900114814),\n",
       " ('JetPt(JetPt|3)', 0.03757436593257489),\n",
       " ('D_WHh_ggH_ME', 0.03653063354555892),\n",
       " ('ZZPt', 0.03548690115854295),\n",
       " ('D_VBF2j_ZHh_ME', 0.034338795532825386),\n",
       " ('Z1Pt', 0.030476985700866297),\n",
       " ('JetEta(JetPt|1)', 0.027972027972027972),\n",
       " ('D_ZHh_ggH_ME', 0.027554535017221583),\n",
       " ('D_VBF1j_ggH_ME', 0.027137042062415198),\n",
       " ('D_WHh_ZHh_ME', 0.022231499843440142),\n",
       " ('JetEta(JetPt|0)', 0.021396513933827365),\n",
       " ('Z2Mass', 0.020874647740319382),\n",
       " ('ExtraLepPhi(ExtraLepPt|0)', 0.018995929443690638),\n",
       " ('ExtraLepPt(ExtraLepPt|0)', 0.018995929443690638),\n",
       " ('Z1Mass', 0.016073478760045924),\n",
       " ('Z2Pt', 0.013986013986013986),\n",
       " ('D_VBF2j_ggH_ME', 0.013568521031207599),\n",
       " ('ZZPhi', 0.012942281598998016),\n",
       " ('JetPhi(JetPt|1)', 0.01283790836029642),\n",
       " ('JetPhi(JetPt|3)', 0.011898549211982048),\n",
       " ('nExtraLep', 0.010019830915353304),\n",
       " ('D_VBF2j_WHh_ME', 0.009393591483143723),\n",
       " ('JetPhi(JetPt|2)', 0.009393591483143723),\n",
       " ('JetPhi(JetPt|0)', 0.008349859096127753),\n",
       " ('ZZMassErr', 0.0062623943220958146),\n",
       " ('JetEta(JetPt|3)', 0.006158021083394217),\n",
       " ('ExtraLepEta(ExtraLepPt|0)', 0.001148105625717566),\n",
       " ('Z1Flav', 0.0009393591483143722),\n",
       " ('Z2Flav', 0.00041749295480638765)]"
      ]
     },
     "execution_count": 93,
     "metadata": {},
     "output_type": "execute_result"
    }
   ],
   "source": [
    "implist"
   ]
  },
  {
   "cell_type": "code",
   "execution_count": 94,
   "metadata": {
    "collapsed": false,
    "scrolled": false
   },
   "outputs": [],
   "source": [
    "%%capture\n",
    "fig, implist = plot_variables([(\"ZHh\", \"ttHl\")])"
   ]
  },
  {
   "cell_type": "code",
   "execution_count": 95,
   "metadata": {
    "collapsed": true
   },
   "outputs": [],
   "source": [
    "impdict = {convert_varname(entry[0]): [entry[1]] for entry in implist}\n",
    "impdict[\"discriminant\"] = \"D_ZHh_ttHl_ML\"\n",
    "df = df.append(pd.DataFrame.from_dict(impdict))"
   ]
  },
  {
   "cell_type": "code",
   "execution_count": 96,
   "metadata": {
    "collapsed": true
   },
   "outputs": [],
   "source": [
    "append_variables(confhandler, impdict, threshold_fscore)"
   ]
  },
  {
   "cell_type": "code",
   "execution_count": 97,
   "metadata": {
    "collapsed": false
   },
   "outputs": [
    {
     "data": {
      "text/plain": [
       "[('PFMET', 0.11440391320185253),\n",
       " ('ZZMass', 0.11021491387833689),\n",
       " ('Z1Mass', 0.05711089139824114),\n",
       " ('Z2Pt', 0.053858562730915334),\n",
       " ('ZZPhi', 0.045220377790498),\n",
       " ('ExtraLepPt(ExtraLepPt|0)', 0.044726023833064475),\n",
       " ('nCleanedJetsPt30BTagged_bTagSF', 0.03921007441327991),\n",
       " ('ZZEta', 0.039001925378571056),\n",
       " ('D_VBF1j_ggH_ME', 0.03829942238642868),\n",
       " ('ZZPt', 0.03369412499349534),\n",
       " ('JetPt(JetPt|0)', 0.03171670916376125),\n",
       " ('D_VBF2j_ZHh_ME', 0.031638653275745436),\n",
       " ('ZZMassErr', 0.030832075766248634),\n",
       " ('Z2Mass', 0.026955299994796275),\n",
       " ('JetPhi(JetPt|0)', 0.021621480980381955),\n",
       " ('JetEta(JetPt|0)', 0.02128323879898007),\n",
       " ('JetPt(JetPt|2)', 0.0193838788572618),\n",
       " ('Z1Pt', 0.018551282718426394),\n",
       " ('JetPt(JetPt|3)', 0.018525264089087785),\n",
       " ('D_WHh_ZHh_ME', 0.01829109642504033),\n",
       " ('D_VBF2j_WHh_ME', 0.01652182963001509),\n",
       " ('D_VBF2j_ggH_ME', 0.01639173648332206),\n",
       " ('JetPt(JetPt|1)', 0.015897382525888536),\n",
       " ('ExtraLepEta(ExtraLepPt|0)', 0.014544413800281002),\n",
       " ('ExtraLepPhi(ExtraLepPt|0)', 0.013998022584170267),\n",
       " ('D_WHh_ggH_ME', 0.013763854920122809),\n",
       " ('JetPhi(JetPt|1)', 0.01280116563459437),\n",
       " ('D_ZHh_ggH_ME', 0.012254774418483634),\n",
       " ('JetEta(JetPt|2)', 0.012124681271790602),\n",
       " ('JetPhi(JetPt|2)', 0.011292085132955196),\n",
       " ('JetEta(JetPt|1)', 0.009704948743300202),\n",
       " ('nCleanedJetsPt30', 0.009340687932559712),\n",
       " ('nExtraLep', 0.009236613415205286),\n",
       " ('JetEta(JetPt|3)', 0.006452620075974398),\n",
       " ('JetPhi(JetPt|3)', 0.006426601446635791),\n",
       " ('Z2Flav', 0.0028620492272467086),\n",
       " ('Z1Flav', 0.0018473226830410573)]"
      ]
     },
     "execution_count": 97,
     "metadata": {},
     "output_type": "execute_result"
    }
   ],
   "source": [
    "implist"
   ]
  },
  {
   "cell_type": "code",
   "execution_count": 98,
   "metadata": {
    "collapsed": false,
    "scrolled": false
   },
   "outputs": [],
   "source": [
    "%%capture\n",
    "fig, implist = plot_variables([(\"ZHl\", \"ggH\")])"
   ]
  },
  {
   "cell_type": "code",
   "execution_count": 99,
   "metadata": {
    "collapsed": true
   },
   "outputs": [],
   "source": [
    "impdict = {convert_varname(entry[0]): [entry[1]] for entry in implist}\n",
    "impdict[\"discriminant\"] = \"D_ZHl_ggH_ML\"\n",
    "df = df.append(pd.DataFrame.from_dict(impdict))"
   ]
  },
  {
   "cell_type": "code",
   "execution_count": 100,
   "metadata": {
    "collapsed": true
   },
   "outputs": [],
   "source": [
    "append_variables(confhandler, impdict, threshold_fscore)"
   ]
  },
  {
   "cell_type": "code",
   "execution_count": 101,
   "metadata": {
    "collapsed": false
   },
   "outputs": [
    {
     "data": {
      "text/plain": [
       "[('ZZMass', 0.13273106323835998),\n",
       " ('Z1Mass', 0.09458520368874782),\n",
       " ('ZZMassErr', 0.07488308322220762),\n",
       " ('Z2Pt', 0.06791503108389835),\n",
       " ('Z1Pt', 0.060233270101233964),\n",
       " ('ZZPt', 0.059519561256878836),\n",
       " ('PFMET', 0.05533121724921586),\n",
       " ('ZZEta', 0.054842890145183405),\n",
       " ('Z2Mass', 0.05471141746332851),\n",
       " ('ZZPhi', 0.043724057622598275),\n",
       " ('JetPt(JetPt|0)', 0.04301034877824315),\n",
       " ('JetEta(JetPt|0)', 0.03831489585485416),\n",
       " ('D_VBF1j_ggH_ME', 0.028341753845575943),\n",
       " ('ExtraLepPt(ExtraLepPt|0)', 0.02734631782581748),\n",
       " ('JetPhi(JetPt|0)', 0.025562045714929663),\n",
       " ('D_VBF2j_ggH_ME', 0.01667824878387769),\n",
       " ('D_WHh_ggH_ME', 0.01027365099637511),\n",
       " ('D_ZHh_ggH_ME', 0.009860451139116879),\n",
       " ('JetPhi(JetPt|2)', 0.009541160340326428),\n",
       " ('JetEta(JetPt|1)', 0.009015269612906862),\n",
       " ('ExtraLepEta(ExtraLepPt|0)', 0.008639633379035741),\n",
       " ('JetPt(JetPt|1)', 0.007155870255244821),\n",
       " ('JetPhi(JetPt|1)', 0.006874143079841482),\n",
       " ('nCleanedJetsPt30BTagged_bTagSF', 0.006122870612099243),\n",
       " ('JetPt(JetPt|2)', 0.0058223616250023475),\n",
       " ('ExtraLepPhi(ExtraLepPt|0)', 0.0058035798133087915),\n",
       " ('JetEta(JetPt|2)', 0.005690888943147456),\n",
       " ('nCleanedJetsPt30', 0.0054467253911312285),\n",
       " ('D_WHh_ZHh_ME', 0.005240125462502113),\n",
       " ('nExtraLep', 0.005014743722179442),\n",
       " ('D_VBF2j_ZHh_ME', 0.004995961910485886),\n",
       " ('Z2Flav', 0.004620325676614767),\n",
       " ('ExtraLepPt(ExtraLepPt|1)', 0.0036436714685498563),\n",
       " ('D_VBF2j_WHh_ME', 0.0030426534943560654),\n",
       " ('JetPt(JetPt|3)', 0.0019157447927427079),\n",
       " ('Z1Flav', 0.001878181169355596),\n",
       " ('JetEta(JetPt|3)', 0.0010329996431455777),\n",
       " ('JetPhi(JetPt|3)', 0.0006385815975809027)]"
      ]
     },
     "execution_count": 101,
     "metadata": {},
     "output_type": "execute_result"
    }
   ],
   "source": [
    "implist"
   ]
  },
  {
   "cell_type": "code",
   "execution_count": 102,
   "metadata": {
    "collapsed": false,
    "scrolled": false
   },
   "outputs": [],
   "source": [
    "%%capture\n",
    "fig, implist = plot_variables([(\"ZHl\", \"VBF\")])"
   ]
  },
  {
   "cell_type": "code",
   "execution_count": 103,
   "metadata": {
    "collapsed": true
   },
   "outputs": [],
   "source": [
    "impdict = {convert_varname(entry[0]): [entry[1]] for entry in implist}\n",
    "impdict[\"discriminant\"] = \"D_ZHl_VBF_ML\"\n",
    "df = df.append(pd.DataFrame.from_dict(impdict))"
   ]
  },
  {
   "cell_type": "code",
   "execution_count": 104,
   "metadata": {
    "collapsed": true
   },
   "outputs": [],
   "source": [
    "append_variables(confhandler, impdict, threshold_fscore)"
   ]
  },
  {
   "cell_type": "code",
   "execution_count": 105,
   "metadata": {
    "collapsed": false
   },
   "outputs": [
    {
     "data": {
      "text/plain": [
       "[('ZZMass', 0.11754224452825707),\n",
       " ('Z1Mass', 0.09102248091943099),\n",
       " ('JetEta(JetPt|0)', 0.06866035102307487),\n",
       " ('Z2Pt', 0.05817717459091854),\n",
       " ('PFMET', 0.05526683099218959),\n",
       " ('ZZEta', 0.04944614379473168),\n",
       " ('Z2Mass', 0.046327918510379235),\n",
       " ('ZZPt', 0.045644878686187745),\n",
       " ('D_VBF2j_ggH_ME', 0.04430849642146527),\n",
       " ('ZZMassErr', 0.044011522584860276),\n",
       " ('Z1Pt', 0.039735099337748346),\n",
       " ('JetPt(JetPt|0)', 0.039438125501143347),\n",
       " ('D_VBF1j_ggH_ME', 0.0364386897514329),\n",
       " ('ExtraLepPt(ExtraLepPt|0)', 0.03352834615270395),\n",
       " ('ZZPhi', 0.02545065779704808),\n",
       " ('JetPhi(JetPt|0)', 0.021619695304843645),\n",
       " ('D_ZHh_ggH_ME', 0.01897662815905919),\n",
       " ('JetEta(JetPt|2)', 0.018620259555133193),\n",
       " ('ExtraLepEta(ExtraLepPt|0)', 0.017966917114602205),\n",
       " ('JetEta(JetPt|1)', 0.014789297062928756),\n",
       " ('JetPt(JetPt|2)', 0.013779586018471773),\n",
       " ('D_WHh_ZHh_ME', 0.013660796483829774),\n",
       " ('JetPhi(JetPt|2)', 0.012621388055712291),\n",
       " ('D_WHh_ggH_ME', 0.011730466545897307),\n",
       " ('nExtraLep', 0.009354675853057345),\n",
       " ('JetPhi(JetPt|1)', 0.00786980667003237),\n",
       " ('D_VBF2j_ZHh_ME', 0.007780714519050872),\n",
       " ('D_VBF2j_WHh_ME', 0.007216464229501381),\n",
       " ('JetEta(JetPt|3)', 0.006384937487007395),\n",
       " ('nCleanedJetsPt30BTagged_bTagSF', 0.00490006830398242),\n",
       " ('JetPt(JetPt|1)', 0.0045140023163959256),\n",
       " ('ExtraLepPhi(ExtraLepPt|0)', 0.0029994357497104504),\n",
       " ('Z2Flav', 0.0028509488314079528),\n",
       " ('ExtraLepPt(ExtraLepPt|1)', 0.00243518546016096),\n",
       " ('JetPt(JetPt|3)', 0.001989724705253467),\n",
       " ('Z1Flav', 0.0010691058117779824),\n",
       " ('nCleanedJetsPt30', 0.0010394084281174828),\n",
       " ('JetPhi(JetPt|3)', 0.0005939476732099902),\n",
       " ('ExtraLepEta(ExtraLepPt|1)', 0.00023757906928399607)]"
      ]
     },
     "execution_count": 105,
     "metadata": {},
     "output_type": "execute_result"
    }
   ],
   "source": [
    "implist"
   ]
  },
  {
   "cell_type": "code",
   "execution_count": 106,
   "metadata": {
    "collapsed": false,
    "scrolled": false
   },
   "outputs": [],
   "source": [
    "%%capture\n",
    "fig, implist = plot_variables([(\"ZHl\", \"WHh\")])"
   ]
  },
  {
   "cell_type": "code",
   "execution_count": 107,
   "metadata": {
    "collapsed": true
   },
   "outputs": [],
   "source": [
    "impdict = {convert_varname(entry[0]): [entry[1]] for entry in implist}\n",
    "impdict[\"discriminant\"] = \"D_ZHl_WHh_ML\"\n",
    "df = df.append(pd.DataFrame.from_dict(impdict))"
   ]
  },
  {
   "cell_type": "code",
   "execution_count": 108,
   "metadata": {
    "collapsed": true
   },
   "outputs": [],
   "source": [
    "append_variables(confhandler, impdict, threshold_fscore)"
   ]
  },
  {
   "cell_type": "code",
   "execution_count": 109,
   "metadata": {
    "collapsed": false
   },
   "outputs": [
    {
     "data": {
      "text/plain": [
       "[('ZZMass', 0.15121786197564277),\n",
       " ('Z1Mass', 0.11007273342354533),\n",
       " ('Z2Mass', 0.07717354533152909),\n",
       " ('PFMET', 0.07632780784844384),\n",
       " ('Z2Pt', 0.07341001353179973),\n",
       " ('ZZMassErr', 0.06529093369418133),\n",
       " ('ZZPt', 0.05192828146143437),\n",
       " ('JetPt(JetPt|0)', 0.04507780784844384),\n",
       " ('ExtraLepPt(ExtraLepPt|0)', 0.04393606224627875),\n",
       " ('Z1Pt', 0.035055818673883625),\n",
       " ('JetEta(JetPt|0)', 0.03141914749661705),\n",
       " ('ZZEta', 0.020593707713125846),\n",
       " ('nCleanedJetsPt30BTagged_bTagSF', 0.019198240866035183),\n",
       " ('JetPhi(JetPt|1)', 0.01767591339648173),\n",
       " ('ZZPhi', 0.01725304465493911),\n",
       " ('D_VBF1j_ggH_ME', 0.01649188092016238),\n",
       " ('JetPhi(JetPt|0)', 0.014927266576454669),\n",
       " ('JetPt(JetPt|1)', 0.013320365358592693),\n",
       " ('D_ZHh_ggH_ME', 0.013151217861975643),\n",
       " ('D_WHh_ggH_ME', 0.01226319350473613),\n",
       " ('nExtraLep', 0.011671177266576455),\n",
       " ('D_WHh_ZHh_ME', 0.010952300405953993),\n",
       " ('JetPhi(JetPt|2)', 0.01074086603518268),\n",
       " ('ExtraLepEta(ExtraLepPt|0)', 0.008034506089309877),\n",
       " ('JetPhi(JetPt|3)', 0.00706190798376184),\n",
       " ('ExtraLepPt(ExtraLepPt|1)', 0.006131596752368065),\n",
       " ('JetEta(JetPt|1)', 0.00587787550744249),\n",
       " ('D_VBF2j_ggH_ME', 0.0052435723951285524),\n",
       " ('JetEta(JetPt|2)', 0.00520128552097429),\n",
       " ('JetEta(JetPt|3)', 0.004355548037889039),\n",
       " ('Z2Flav', 0.0038903924221921514),\n",
       " ('D_VBF2j_WHh_ME', 0.003763531799729364),\n",
       " ('ExtraLepPhi(ExtraLepPt|0)', 0.003763531799729364),\n",
       " ('JetPt(JetPt|2)', 0.0016069012178619756),\n",
       " ('D_VBF2j_ZHh_ME', 0.0016069012178619756),\n",
       " ('nCleanedJetsPt30', 0.001564614343707713),\n",
       " ('JetPt(JetPt|3)', 0.001480040595399188),\n",
       " ('Z1Flav', 0.0012686062246278756)]"
      ]
     },
     "execution_count": 109,
     "metadata": {},
     "output_type": "execute_result"
    }
   ],
   "source": [
    "implist"
   ]
  },
  {
   "cell_type": "code",
   "execution_count": 110,
   "metadata": {
    "collapsed": false,
    "scrolled": false
   },
   "outputs": [],
   "source": [
    "%%capture\n",
    "fig, implist = plot_variables([(\"ZHl\", \"ZHMET\")])"
   ]
  },
  {
   "cell_type": "code",
   "execution_count": 111,
   "metadata": {
    "collapsed": true
   },
   "outputs": [],
   "source": [
    "impdict = {convert_varname(entry[0]): [entry[1]] for entry in implist}\n",
    "impdict[\"discriminant\"] = \"D_ZHl_ZHMET_ML\"\n",
    "df = df.append(pd.DataFrame.from_dict(impdict))"
   ]
  },
  {
   "cell_type": "code",
   "execution_count": 112,
   "metadata": {
    "collapsed": true
   },
   "outputs": [],
   "source": [
    "append_variables(confhandler, impdict, threshold_fscore)"
   ]
  },
  {
   "cell_type": "code",
   "execution_count": 113,
   "metadata": {
    "collapsed": false
   },
   "outputs": [
    {
     "data": {
      "text/plain": [
       "[('ZZMass', 0.16440014903129657),\n",
       " ('PFMET', 0.12239195230998509),\n",
       " ('Z1Mass', 0.10846684053651266),\n",
       " ('Z2Pt', 0.09235283159463488),\n",
       " ('Z2Mass', 0.07288561847988077),\n",
       " ('ZZPt', 0.05635245901639344),\n",
       " ('Z1Pt', 0.045081967213114756),\n",
       " ('JetPt(JetPt|0)', 0.040238450074515646),\n",
       " ('ExtraLepPt(ExtraLepPt|0)', 0.03851527570789866),\n",
       " ('ZZMassErr', 0.03562779433681073),\n",
       " ('ZZEta', 0.025055886736214606),\n",
       " ('JetEta(JetPt|1)', 0.022075260804769),\n",
       " ('D_VBF1j_ggH_ME', 0.021190387481371087),\n",
       " ('D_VBF2j_ggH_ME', 0.020491803278688523),\n",
       " ('ZZPhi', 0.019700074515648286),\n",
       " ('D_VBF2j_WHh_ME', 0.015368852459016393),\n",
       " ('JetEta(JetPt|0)', 0.013505961251862892),\n",
       " ('JetPhi(JetPt|0)', 0.013040238450074515),\n",
       " ('D_ZHh_ggH_ME', 0.00912816691505216),\n",
       " ('JetPhi(JetPt|1)', 0.008476154992548435),\n",
       " ('ExtraLepEta(ExtraLepPt|0)', 0.007311847988077496),\n",
       " ('nCleanedJetsPt30', 0.006985842026825634),\n",
       " ('D_WHh_ZHh_ME', 0.00647354694485842),\n",
       " ('nExtraLep', 0.005868107302533532),\n",
       " ('JetPt(JetPt|2)', 0.005448956780923994),\n",
       " ('Z2Flav', 0.0047503725782414305),\n",
       " ('Z1Flav', 0.003492921013412817),\n",
       " ('JetPt(JetPt|1)', 0.0033066318926974663),\n",
       " ('D_WHh_ggH_ME', 0.0031669150521609537),\n",
       " ('JetEta(JetPt|2)', 0.002654619970193741),\n",
       " ('nCleanedJetsPt30BTagged_bTagSF', 0.002002608047690015),\n",
       " ('JetPt(JetPt|3)', 0.0014437406855439643),\n",
       " ('ExtraLepPhi(ExtraLepPt|1)', 0.0011643070044709389),\n",
       " ('D_VBF2j_ZHh_ME', 0.0008383010432190761),\n",
       " ('JetEta(JetPt|3)', 0.00037257824143070045),\n",
       " ('ExtraLepPhi(ExtraLepPt|0)', 0.0003260059612518629),\n",
       " ('JetPhi(JetPt|2)', 4.6572280178837556e-05)]"
      ]
     },
     "execution_count": 113,
     "metadata": {},
     "output_type": "execute_result"
    }
   ],
   "source": [
    "implist"
   ]
  },
  {
   "cell_type": "code",
   "execution_count": 114,
   "metadata": {
    "collapsed": false,
    "scrolled": false
   },
   "outputs": [],
   "source": [
    "%%capture\n",
    "fig, implist = plot_variables([(\"ZHl\", \"ttHh\")])"
   ]
  },
  {
   "cell_type": "code",
   "execution_count": 115,
   "metadata": {
    "collapsed": true
   },
   "outputs": [],
   "source": [
    "impdict = {convert_varname(entry[0]): [entry[1]] for entry in implist}\n",
    "impdict[\"discriminant\"] = \"D_ZHl_ttHh_ML\"\n",
    "df = df.append(pd.DataFrame.from_dict(impdict))"
   ]
  },
  {
   "cell_type": "code",
   "execution_count": 116,
   "metadata": {
    "collapsed": true
   },
   "outputs": [],
   "source": [
    "append_variables(confhandler, impdict, threshold_fscore)"
   ]
  },
  {
   "cell_type": "code",
   "execution_count": 117,
   "metadata": {
    "collapsed": false
   },
   "outputs": [
    {
     "data": {
      "text/plain": [
       "[('ZZMass', 0.10585170762511183),\n",
       " ('Z1Mass', 0.07817186759985266),\n",
       " ('JetPt(JetPt|0)', 0.07030468873335789),\n",
       " ('Z2Mass', 0.06504236173235804),\n",
       " ('Z2Pt', 0.06475293374730305),\n",
       " ('JetPt(JetPt|1)', 0.041177708782823765),\n",
       " ('nCleanedJetsPt30BTagged_bTagSF', 0.04073041098773878),\n",
       " ('PFMET', 0.0367573541019839),\n",
       " ('ZZMassErr', 0.031100352575909068),\n",
       " ('D_WHh_ZHh_ME', 0.031100352575909068),\n",
       " ('JetPhi(JetPt|0)', 0.02796926801031416),\n",
       " ('ZZPt', 0.027811398200284165),\n",
       " ('D_WHh_ggH_ME', 0.02568015576487923),\n",
       " ('Z1Pt', 0.02528548123980424),\n",
       " ('JetPt(JetPt|2)', 0.025180234699784244),\n",
       " ('ExtraLepPt(ExtraLepPt|0)', 0.025101299794769247),\n",
       " ('JetPt(JetPt|3)', 0.02428563910961427),\n",
       " ('JetEta(JetPt|1)', 0.022917434089354313),\n",
       " ('JetPhi(JetPt|1)', 0.021601852339104353),\n",
       " ('JetEta(JetPt|0)', 0.02131242435404936),\n",
       " ('ZZPhi', 0.020154712413829396),\n",
       " ('ExtraLepEta(ExtraLepPt|0)', 0.019602168078724412),\n",
       " ('JetPhi(JetPt|2)', 0.019102247013629427),\n",
       " ('ZZEta', 0.01797084670841446),\n",
       " ('JetEta(JetPt|2)', 0.012576961532389623),\n",
       " ('JetPhi(JetPt|3)', 0.01199810556227964),\n",
       " ('D_VBF2j_ggH_ME', 0.010682523812029679),\n",
       " ('D_VBF1j_ggH_ME', 0.010524654001999685),\n",
       " ('ExtraLepPhi(ExtraLepPt|0)', 0.010419407461979687),\n",
       " ('D_VBF2j_WHh_ME', 0.00936694206177972),\n",
       " ('D_VBF2j_ZHh_ME', 0.009235383886754723),\n",
       " ('JetEta(JetPt|3)', 0.008393411566594748),\n",
       " ('D_ZHh_ggH_ME', 0.008288165026574751),\n",
       " ('nCleanedJetsPt30', 0.007946113771509762),\n",
       " ('nExtraLep', 0.004604536125874862),\n",
       " ('ExtraLepPt(ExtraLepPt|1)', 0.0031837078356049043),\n",
       " ('Z1Flav', 0.002762721675524917),\n",
       " ('Z2Flav', 0.0010261537651949692),\n",
       " ('nExtraZ', 2.6311635004999212e-05)]"
      ]
     },
     "execution_count": 117,
     "metadata": {},
     "output_type": "execute_result"
    }
   ],
   "source": [
    "implist"
   ]
  },
  {
   "cell_type": "code",
   "execution_count": 118,
   "metadata": {
    "collapsed": false,
    "scrolled": false
   },
   "outputs": [],
   "source": [
    "%%capture\n",
    "fig, implist = plot_variables([(\"ZHl\", \"ttHl\")])"
   ]
  },
  {
   "cell_type": "code",
   "execution_count": 119,
   "metadata": {
    "collapsed": true
   },
   "outputs": [],
   "source": [
    "impdict = {convert_varname(entry[0]): [entry[1]] for entry in implist}\n",
    "impdict[\"discriminant\"] = \"D_ZHl_ttHl_ML\"\n",
    "df = df.append(pd.DataFrame.from_dict(impdict))"
   ]
  },
  {
   "cell_type": "code",
   "execution_count": 120,
   "metadata": {
    "collapsed": true
   },
   "outputs": [],
   "source": [
    "append_variables(confhandler, impdict, threshold_fscore)"
   ]
  },
  {
   "cell_type": "code",
   "execution_count": 121,
   "metadata": {
    "collapsed": false
   },
   "outputs": [
    {
     "data": {
      "text/plain": [
       "[('PFMET', 0.09440200798851199),\n",
       " ('Z1Mass', 0.08365009834799503),\n",
       " ('Z2Mass', 0.08220202970954156),\n",
       " ('Z1Pt', 0.0667680314713584),\n",
       " ('Z2Pt', 0.05984143648408934),\n",
       " ('JetPt(JetPt|0)', 0.059551822756398656),\n",
       " ('ZZMass', 0.051587445244904606),\n",
       " ('ZZPt', 0.05093581435760055),\n",
       " ('ZZEta', 0.04356273154014167),\n",
       " ('ZZPhi', 0.03421062158346306),\n",
       " ('JetEta(JetPt|0)', 0.03142308945444014),\n",
       " ('ZZMassErr', 0.027983926438113167),\n",
       " ('JetPhi(JetPt|0)', 0.02584802519639431),\n",
       " ('D_VBF1j_ggH_ME', 0.022312324270837104),\n",
       " ('JetPt(JetPt|1)', 0.01910243878893193),\n",
       " ('ExtraLepPt(ExtraLepPt|0)', 0.01843874066297409),\n",
       " ('D_VBF2j_ggH_ME', 0.018330135515090083),\n",
       " ('JetEta(JetPt|1)', 0.016544184194330812),\n",
       " ('nCleanedJetsPt30BTagged_bTagSF', 0.015144384510492465),\n",
       " ('JetPhi(JetPt|1)', 0.014082467508959924),\n",
       " ('D_WHh_ggH_ME', 0.013949727883768357),\n",
       " ('D_WHh_ZHh_ME', 0.01339463490569453),\n",
       " ('JetPt(JetPt|2)', 0.01317742460992651),\n",
       " ('ExtraLepPhi(ExtraLepPt|0)', 0.012248247233585538),\n",
       " ('D_ZHh_ggH_ME', 0.012163776563009087),\n",
       " ('JetEta(JetPt|2)', 0.012103440369740192),\n",
       " ('ExtraLepEta(ExtraLepPt|0)', 0.011632818062242816),\n",
       " ('nExtraLep', 0.009834799502829767),\n",
       " ('nExtraZ', 0.008978025558411469),\n",
       " ('JetPhi(JetPt|2)', 0.008495336012260315),\n",
       " ('D_VBF2j_ZHh_ME', 0.007855772363610035),\n",
       " ('D_VBF2j_WHh_ME', 0.006480107157079245),\n",
       " ('JetPt(JetPt|3)', 0.006081888281504543),\n",
       " ('ExtraLepPt(ExtraLepPt|1)', 0.0059853503722743125),\n",
       " ('ExtraLepEta(ExtraLepPt|1)', 0.005044105757279562),\n",
       " ('JetEta(JetPt|3)', 0.004368340392667946),\n",
       " ('nCleanedJetsPt30', 0.0028237338449842524),\n",
       " ('Z1Flav', 0.002618590787870012),\n",
       " ('JetPhi(JetPt|3)', 0.0024858511626784444),\n",
       " ('ExtraLepPhi(ExtraLepPt|1)', 0.00242551496940955),\n",
       " ('Z2Flav', 0.0019307581846046168)]"
      ]
     },
     "execution_count": 121,
     "metadata": {},
     "output_type": "execute_result"
    }
   ],
   "source": [
    "implist"
   ]
  },
  {
   "cell_type": "code",
   "execution_count": 122,
   "metadata": {
    "collapsed": false,
    "scrolled": false
   },
   "outputs": [],
   "source": [
    "%%capture\n",
    "fig, implist = plot_variables([(\"ZHMET\", \"ggH\")])"
   ]
  },
  {
   "cell_type": "code",
   "execution_count": 123,
   "metadata": {
    "collapsed": true
   },
   "outputs": [],
   "source": [
    "impdict = {convert_varname(entry[0]): [entry[1]] for entry in implist}\n",
    "impdict[\"discriminant\"] = \"D_ZHMET_ggH_ML\"\n",
    "df = df.append(pd.DataFrame.from_dict(impdict))"
   ]
  },
  {
   "cell_type": "code",
   "execution_count": 124,
   "metadata": {
    "collapsed": true
   },
   "outputs": [],
   "source": [
    "append_variables(confhandler, impdict, threshold_fscore)"
   ]
  },
  {
   "cell_type": "code",
   "execution_count": 125,
   "metadata": {
    "collapsed": false
   },
   "outputs": [
    {
     "data": {
      "text/plain": [
       "[('ZZPt', 0.14483097835807549),\n",
       " ('PFMET', 0.13155070649257736),\n",
       " ('ZZPhi', 0.07440529422285816),\n",
       " ('D_VBF1j_ggH_ME', 0.06988910749418709),\n",
       " ('ZZMass', 0.06868181005186907),\n",
       " ('Z2Pt', 0.0672509390091218),\n",
       " ('JetPt(JetPt|0)', 0.06340547308173851),\n",
       " ('Z1Pt', 0.05669826506886067),\n",
       " ('ZZEta', 0.051511357538901806),\n",
       " ('Z2Mass', 0.04708460025040243),\n",
       " ('Z1Mass', 0.044535861205508856),\n",
       " ('ZZMassErr', 0.04301556072258988),\n",
       " ('JetPhi(JetPt|0)', 0.025263816848506527),\n",
       " ('JetEta(JetPt|0)', 0.022804507243784654),\n",
       " ('D_VBF2j_ggH_ME', 0.01560543730996244),\n",
       " ('JetPt(JetPt|1)', 0.01046324450008943),\n",
       " ('D_WHh_ZHh_ME', 0.008808799856912896),\n",
       " ('JetEta(JetPt|1)', 0.008764085136827044),\n",
       " ('JetPhi(JetPt|1)', 0.008406367376140225),\n",
       " ('D_VBF2j_WHh_ME', 0.006260060812019317),\n",
       " ('nCleanedJetsPt30', 0.005857628331246647),\n",
       " ('Z2Flav', 0.00433732784832767),\n",
       " ('D_WHh_ggH_ME', 0.004069039527812556),\n",
       " ('D_ZHh_ggH_ME', 0.003219459846181363),\n",
       " ('D_VBF2j_ZHh_ME', 0.003174745126095511),\n",
       " ('nCleanedJetsPt30BTagged_bTagSF', 0.0028170273654086926),\n",
       " ('Z1Flav', 0.0024593096047218744),\n",
       " ('JetPt(JetPt|3)', 0.0023251654444643175),\n",
       " ('JetEta(JetPt|2)', 0.0008048649615453407),\n",
       " ('JetPt(JetPt|2)', 0.0007154355213736362),\n",
       " ('JetPhi(JetPt|2)', 0.0006260060812019317),\n",
       " ('JetPhi(JetPt|3)', 0.00026828832051511357),\n",
       " ('nExtraLep', 4.471472008585226e-05),\n",
       " ('ExtraLepPhi(ExtraLepPt|0)', 4.471472008585226e-05)]"
      ]
     },
     "execution_count": 125,
     "metadata": {},
     "output_type": "execute_result"
    }
   ],
   "source": [
    "implist"
   ]
  },
  {
   "cell_type": "code",
   "execution_count": 126,
   "metadata": {
    "collapsed": false,
    "scrolled": false
   },
   "outputs": [],
   "source": [
    "%%capture\n",
    "fig, implist = plot_variables([(\"ZHMET\", \"VBF\")])"
   ]
  },
  {
   "cell_type": "code",
   "execution_count": 127,
   "metadata": {
    "collapsed": true
   },
   "outputs": [],
   "source": [
    "impdict = {convert_varname(entry[0]): [entry[1]] for entry in implist}\n",
    "impdict[\"discriminant\"] = \"D_ZHMET_VBF_ML\"\n",
    "df = df.append(pd.DataFrame.from_dict(impdict))"
   ]
  },
  {
   "cell_type": "code",
   "execution_count": 128,
   "metadata": {
    "collapsed": true
   },
   "outputs": [],
   "source": [
    "append_variables(confhandler, impdict, threshold_fscore)"
   ]
  },
  {
   "cell_type": "code",
   "execution_count": 129,
   "metadata": {
    "collapsed": false
   },
   "outputs": [
    {
     "data": {
      "text/plain": [
       "[('PFMET', 0.1393362062448023),\n",
       " ('JetPt(JetPt|0)', 0.07926967566341574),\n",
       " ('ZZPt', 0.07911846979662811),\n",
       " ('Z1Pt', 0.07031072805624858),\n",
       " ('D_VBF1j_ggH_ME', 0.06619036818628563),\n",
       " ('ZZEta', 0.05534134724427308),\n",
       " ('ZZMassErr', 0.05477432524381946),\n",
       " ('ZZMass', 0.05428290617675966),\n",
       " ('Z1Mass', 0.047894458304982235),\n",
       " ('JetEta(JetPt|0)', 0.04615559083692447),\n",
       " ('Z2Pt', 0.045701973236561576),\n",
       " ('ZZPhi', 0.04120359869962954),\n",
       " ('D_VBF2j_ggH_ME', 0.0376124593634233),\n",
       " ('Z2Mass', 0.03602479776215317),\n",
       " ('JetPhi(JetPt|0)', 0.026612232554623118),\n",
       " ('JetPhi(JetPt|1)', 0.02011038028275497),\n",
       " ('JetPt(JetPt|1)', 0.017993498147728132),\n",
       " ('D_VBF2j_ZHh_ME', 0.017350873213880697),\n",
       " ('JetEta(JetPt|1)', 0.01311710894382702),\n",
       " ('D_WHh_ZHh_ME', 0.012172072276404324),\n",
       " ('JetPhi(JetPt|2)', 0.010395403341649656),\n",
       " ('D_WHh_ggH_ME', 0.008467528540107357),\n",
       " ('D_VBF2j_WHh_ME', 0.00839192560671354),\n",
       " ('JetEta(JetPt|2)', 0.0032131246692371665),\n",
       " ('JetPt(JetPt|2)', 0.0031753232025402587),\n",
       " ('Z2Flav', 0.0015876616012701294),\n",
       " ('Z1Flav', 0.0015120586678763137),\n",
       " ('nCleanedJetsPt30', 0.0012852498676948665),\n",
       " ('D_ZHh_ggH_ME', 0.000718227867241249),\n",
       " ('JetEta(JetPt|3)', 0.0004914190670598019),\n",
       " ('nCleanedJetsPt30BTagged_bTagSF', 0.00015120586678763135),\n",
       " ('ExtraLepPhi(ExtraLepPt|0)', 3.780146669690784e-05)]"
      ]
     },
     "execution_count": 129,
     "metadata": {},
     "output_type": "execute_result"
    }
   ],
   "source": [
    "implist"
   ]
  },
  {
   "cell_type": "code",
   "execution_count": 130,
   "metadata": {
    "collapsed": false,
    "scrolled": false
   },
   "outputs": [],
   "source": [
    "%%capture\n",
    "fig, implist = plot_variables([(\"ZHMET\", \"WHh\")])"
   ]
  },
  {
   "cell_type": "code",
   "execution_count": 131,
   "metadata": {
    "collapsed": true
   },
   "outputs": [],
   "source": [
    "impdict = {convert_varname(entry[0]): [entry[1]] for entry in implist}\n",
    "impdict[\"discriminant\"] = \"D_ZHMET_WHh_ML\"\n",
    "df = df.append(pd.DataFrame.from_dict(impdict))"
   ]
  },
  {
   "cell_type": "code",
   "execution_count": 132,
   "metadata": {
    "collapsed": true
   },
   "outputs": [],
   "source": [
    "append_variables(confhandler, impdict, threshold_fscore)"
   ]
  },
  {
   "cell_type": "code",
   "execution_count": 133,
   "metadata": {
    "collapsed": false
   },
   "outputs": [
    {
     "data": {
      "text/plain": [
       "[('PFMET', 0.13626567744214804),\n",
       " ('ZZPt', 0.07804274863098393),\n",
       " ('JetPt(JetPt|0)', 0.06369899311075782),\n",
       " ('Z1Pt', 0.05560854972619678),\n",
       " ('ZZEta', 0.050909733262674436),\n",
       " ('ZZMass', 0.04889595477830772),\n",
       " ('JetEta(JetPt|0)', 0.04847200141317788),\n",
       " ('Z2Pt', 0.0450803744921392),\n",
       " ('D_WHh_ZHh_ME', 0.044833068362480126),\n",
       " ('D_VBF1j_ggH_ME', 0.04409114997350291),\n",
       " ('ZZPhi', 0.044020491079314605),\n",
       " ('ZZMassErr', 0.042430665960077725),\n",
       " ('Z2Mass', 0.03949832185126303),\n",
       " ('Z1Mass', 0.038261791202967674),\n",
       " ('D_WHh_ggH_ME', 0.03607136548313019),\n",
       " ('JetPhi(JetPt|0)', 0.029394099982335276),\n",
       " ('D_ZHh_ggH_ME', 0.023458752870517578),\n",
       " ('JetEta(JetPt|1)', 0.017382087970323264),\n",
       " ('D_VBF2j_ggH_ME', 0.0172054407348525),\n",
       " ('JetPhi(JetPt|1)', 0.017064122946475888),\n",
       " ('JetPt(JetPt|1)', 0.016781487369722663),\n",
       " ('JetPt(JetPt|2)', 0.013107224871930754),\n",
       " ('D_VBF2j_WHh_ME', 0.008443737855502561),\n",
       " ('D_VBF2j_ZHh_ME', 0.00794912559618442),\n",
       " ('JetPhi(JetPt|2)', 0.006323971029853383),\n",
       " ('nCleanedJetsPt30', 0.0061473237943826175),\n",
       " ('JetPt(JetPt|3)', 0.004981452040275569),\n",
       " ('JetEta(JetPt|2)', 0.004451510333863275),\n",
       " ('Z2Flav', 0.0036389330506977568),\n",
       " ('Z1Flav', 0.002791026320438085),\n",
       " ('nCleanedJetsPt30BTagged_bTagSF', 0.0026850379791556263),\n",
       " ('JetEta(JetPt|3)', 0.0018018018018018018),\n",
       " ('JetPhi(JetPt|3)', 0.0001766472354707649),\n",
       " ('nExtraLep', 3.532944709415297e-05)]"
      ]
     },
     "execution_count": 133,
     "metadata": {},
     "output_type": "execute_result"
    }
   ],
   "source": [
    "implist"
   ]
  },
  {
   "cell_type": "code",
   "execution_count": 134,
   "metadata": {
    "collapsed": false,
    "scrolled": false
   },
   "outputs": [],
   "source": [
    "%%capture\n",
    "fig, implist = plot_variables([(\"ZHMET\", \"ttHh\")])"
   ]
  },
  {
   "cell_type": "code",
   "execution_count": 135,
   "metadata": {
    "collapsed": true
   },
   "outputs": [],
   "source": [
    "impdict = {convert_varname(entry[0]): [entry[1]] for entry in implist}\n",
    "impdict[\"discriminant\"] = \"D_ZHMET_ttHh_ML\"\n",
    "df = df.append(pd.DataFrame.from_dict(impdict))"
   ]
  },
  {
   "cell_type": "code",
   "execution_count": 136,
   "metadata": {
    "collapsed": true
   },
   "outputs": [],
   "source": [
    "append_variables(confhandler, impdict, threshold_fscore)"
   ]
  },
  {
   "cell_type": "code",
   "execution_count": 137,
   "metadata": {
    "collapsed": false
   },
   "outputs": [
    {
     "data": {
      "text/plain": [
       "[('PFMET', 0.22811816192560175),\n",
       " ('nCleanedJetsPt30BTagged_bTagSF', 0.08588621444201312),\n",
       " ('JetPt(JetPt|0)', 0.08096280087527352),\n",
       " ('nCleanedJetsPt30', 0.07494529540481401),\n",
       " ('ZZMass', 0.054978118161925604),\n",
       " ('JetPt(JetPt|2)', 0.04950765864332604),\n",
       " ('D_WHh_ggH_ME', 0.046225382932166305),\n",
       " ('JetEta(JetPt|0)', 0.04513129102844639),\n",
       " ('JetPt(JetPt|1)', 0.0437636761487965),\n",
       " ('ExtraLepPt(ExtraLepPt|0)', 0.04321663019693654),\n",
       " ('JetEta(JetPt|2)', 0.029814004376367616),\n",
       " ('JetPt(JetPt|3)', 0.02762582056892779),\n",
       " ('Z1Pt', 0.026531728665207876),\n",
       " ('D_VBF2j_ggH_ME', 0.024343544857768053),\n",
       " ('ZZEta', 0.024070021881838075),\n",
       " ('Z2Pt', 0.02188183807439825),\n",
       " ('D_ZHh_ggH_ME', 0.021334792122538294),\n",
       " ('ZZPt', 0.0175054704595186),\n",
       " ('D_WHh_ZHh_ME', 0.013949671772428883),\n",
       " ('Z2Mass', 0.012035010940919038),\n",
       " ('JetPhi(JetPt|0)', 0.010667396061269147),\n",
       " ('ZZPhi', 0.006838074398249453),\n",
       " ('JetPhi(JetPt|2)', 0.004102844638949671),\n",
       " ('D_VBF2j_WHh_ME', 0.0035557986870897156),\n",
       " ('JetPhi(JetPt|1)', 0.0013676148796498905),\n",
       " ('ZZMassErr', 0.0008205689277899343),\n",
       " ('JetEta(JetPt|1)', 0.0005470459518599562),\n",
       " ('Z1Mass', 0.0002735229759299781)]"
      ]
     },
     "execution_count": 137,
     "metadata": {},
     "output_type": "execute_result"
    }
   ],
   "source": [
    "implist"
   ]
  },
  {
   "cell_type": "code",
   "execution_count": 138,
   "metadata": {
    "collapsed": false,
    "scrolled": false
   },
   "outputs": [],
   "source": [
    "%%capture\n",
    "fig, implist = plot_variables([(\"ZHMET\", \"ttHl\")])"
   ]
  },
  {
   "cell_type": "code",
   "execution_count": 139,
   "metadata": {
    "collapsed": true
   },
   "outputs": [],
   "source": [
    "impdict = {convert_varname(entry[0]): [entry[1]] for entry in implist}\n",
    "impdict[\"discriminant\"] = \"D_ZHMET_ttHl_ML\"\n",
    "df = df.append(pd.DataFrame.from_dict(impdict))"
   ]
  },
  {
   "cell_type": "code",
   "execution_count": 140,
   "metadata": {
    "collapsed": true
   },
   "outputs": [],
   "source": [
    "append_variables(confhandler, impdict, threshold_fscore)"
   ]
  },
  {
   "cell_type": "code",
   "execution_count": 141,
   "metadata": {
    "collapsed": false
   },
   "outputs": [
    {
     "data": {
      "text/plain": [
       "[('ZZMass', 0.20171001926782273),\n",
       " ('PFMET', 0.07496387283236994),\n",
       " ('Z1Mass', 0.06328275529865125),\n",
       " ('JetPt(JetPt|3)', 0.04588150289017341),\n",
       " ('Z2Mass', 0.045640655105973024),\n",
       " ('ExtraLepPt(ExtraLepPt|0)', 0.04359344894026975),\n",
       " ('nCleanedJetsPt30', 0.04335260115606936),\n",
       " ('JetPt(JetPt|0)', 0.040402215799614644),\n",
       " ('nExtraLep', 0.040161368015414256),\n",
       " ('ZZMassErr', 0.03395953757225433),\n",
       " ('JetEta(JetPt|0)', 0.030647880539499038),\n",
       " ('Z2Pt', 0.02980491329479769),\n",
       " ('ZZEta', 0.029503853564547208),\n",
       " ('D_VBF2j_ggH_ME', 0.028901734104046242),\n",
       " ('Z1Pt', 0.02661368015414258),\n",
       " ('nCleanedJetsPt30BTagged_bTagSF', 0.020712909441233142),\n",
       " ('ZZPhi', 0.02005057803468208),\n",
       " ('D_WHh_ZHh_ME', 0.01740125240847784),\n",
       " ('ZZPt', 0.016919556840077073),\n",
       " ('D_WHh_ggH_ME', 0.016738921001926782),\n",
       " ('JetPhi(JetPt|0)', 0.016678709055876685),\n",
       " ('JetPt(JetPt|2)', 0.016377649325626204),\n",
       " ('JetPt(JetPt|1)', 0.014270231213872832),\n",
       " ('D_ZHh_ggH_ME', 0.014270231213872832),\n",
       " ('ExtraLepEta(ExtraLepPt|0)', 0.01053709055876686),\n",
       " ('JetPhi(JetPt|1)', 0.009633911368015413),\n",
       " ('JetEta(JetPt|1)', 0.009031791907514452),\n",
       " ('D_VBF1j_ggH_ME', 0.006623314065510597),\n",
       " ('D_VBF2j_WHh_ME', 0.006382466281310212),\n",
       " ('JetEta(JetPt|2)', 0.005720134874759152),\n",
       " ('Z2Flav', 0.005118015414258189),\n",
       " ('JetPhi(JetPt|3)', 0.003492292870905588),\n",
       " ('JetEta(JetPt|3)', 0.0027697495183044317),\n",
       " ('D_VBF2j_ZHh_ME', 0.002709537572254335),\n",
       " ('JetPhi(JetPt|2)', 0.002709537572254335),\n",
       " ('ExtraLepPhi(ExtraLepPt|0)', 0.001746146435452794),\n",
       " ('ExtraLepPhi(ExtraLepPt|1)', 0.0016257225433526012),\n",
       " ('Z1Flav', 6.021194605009634e-05)]"
      ]
     },
     "execution_count": 141,
     "metadata": {},
     "output_type": "execute_result"
    }
   ],
   "source": [
    "implist"
   ]
  },
  {
   "cell_type": "code",
   "execution_count": 142,
   "metadata": {
    "collapsed": false,
    "scrolled": false
   },
   "outputs": [],
   "source": [
    "%%capture\n",
    "fig, implist = plot_variables([(\"ttHh\", \"ggH\")])"
   ]
  },
  {
   "cell_type": "code",
   "execution_count": 143,
   "metadata": {
    "collapsed": true
   },
   "outputs": [],
   "source": [
    "impdict = {convert_varname(entry[0]): [entry[1]] for entry in implist}\n",
    "impdict[\"discriminant\"] = \"D_ttHh_ggH_ML\"\n",
    "df = df.append(pd.DataFrame.from_dict(impdict))"
   ]
  },
  {
   "cell_type": "code",
   "execution_count": 144,
   "metadata": {
    "collapsed": true
   },
   "outputs": [],
   "source": [
    "append_variables(confhandler, impdict, threshold_fscore)"
   ]
  },
  {
   "cell_type": "code",
   "execution_count": 145,
   "metadata": {
    "collapsed": false
   },
   "outputs": [
    {
     "data": {
      "text/plain": [
       "[('JetPt(JetPt|0)', 0.07197969204048231),\n",
       " ('PFMET', 0.058853001102241224),\n",
       " ('JetPt(JetPt|1)', 0.058685994856207624),\n",
       " ('ZZPt', 0.057617154881592574),\n",
       " ('JetEta(JetPt|0)', 0.04970105881959985),\n",
       " ('ZZMass', 0.04849861384815792),\n",
       " ('Z1Pt', 0.04552590266875981),\n",
       " ('nCleanedJetsPt30BTagged_bTagSF', 0.04295400647984235),\n",
       " ('JetEta(JetPt|1)', 0.04248638899094826),\n",
       " ('D_VBF2j_ggH_ME', 0.04111693777347273),\n",
       " ('JetPt(JetPt|2)', 0.0384448378369351),\n",
       " ('Z2Pt', 0.03390226794482114),\n",
       " ('D_ZHh_ggH_ME', 0.03296703296703297),\n",
       " ('JetPt(JetPt|3)', 0.03233240923210528),\n",
       " ('D_WHh_ggH_ME', 0.029626908046360933),\n",
       " ('JetEta(JetPt|2)', 0.028725074317779486),\n",
       " ('JetPhi(JetPt|0)', 0.02819065433047196),\n",
       " ('ZZEta', 0.025919369384414977),\n",
       " ('Z2Mass', 0.0243161094224924),\n",
       " ('D_VBF1j_ggH_ME', 0.02428270817328568),\n",
       " ('Z1Mass', 0.02351447944153111),\n",
       " ('ZZPhi', 0.02324726944787735),\n",
       " ('JetPhi(JetPt|1)', 0.01810347707004242),\n",
       " ('nCleanedJetsPt30', 0.017502254584321454),\n",
       " ('ZZMassErr', 0.014896957146197268),\n",
       " ('D_WHh_ZHh_ME', 0.014329135909683021),\n",
       " ('JetEta(JetPt|3)', 0.012959684692207488),\n",
       " ('D_VBF2j_WHh_ME', 0.010521393500116905),\n",
       " ('JetPhi(JetPt|2)', 0.010487992250910185),\n",
       " ('ExtraLepPt(ExtraLepPt|0)', 0.0075820835699255155),\n",
       " ('D_VBF2j_ZHh_ME', 0.007448478573098634),\n",
       " ('nExtraLep', 0.006346237349276863),\n",
       " ('ExtraLepPhi(ExtraLepPt|0)', 0.005912021109589499),\n",
       " ('JetPhi(JetPt|3)', 0.0035405324159123552),\n",
       " ('Z2Flav', 0.0026720999365376264),\n",
       " ('ExtraLepEta(ExtraLepPt|0)', 0.002505093690504025),\n",
       " ('Z1Flav', 0.002304686195263703)]"
      ]
     },
     "execution_count": 145,
     "metadata": {},
     "output_type": "execute_result"
    }
   ],
   "source": [
    "implist"
   ]
  },
  {
   "cell_type": "code",
   "execution_count": 146,
   "metadata": {
    "collapsed": false,
    "scrolled": false
   },
   "outputs": [],
   "source": [
    "%%capture\n",
    "fig, implist = plot_variables([(\"ttHh\", \"VBF\")])"
   ]
  },
  {
   "cell_type": "code",
   "execution_count": 147,
   "metadata": {
    "collapsed": true
   },
   "outputs": [],
   "source": [
    "impdict = {convert_varname(entry[0]): [entry[1]] for entry in implist}\n",
    "impdict[\"discriminant\"] = \"D_ttHh_VBF_ML\"\n",
    "df = df.append(pd.DataFrame.from_dict(impdict))"
   ]
  },
  {
   "cell_type": "code",
   "execution_count": 148,
   "metadata": {
    "collapsed": true
   },
   "outputs": [],
   "source": [
    "append_variables(confhandler, impdict, threshold_fscore)"
   ]
  },
  {
   "cell_type": "code",
   "execution_count": 149,
   "metadata": {
    "collapsed": false
   },
   "outputs": [
    {
     "data": {
      "text/plain": [
       "[('JetEta(JetPt|2)', 0.07562189054726368),\n",
       " ('JetEta(JetPt|0)', 0.06135986733001658),\n",
       " ('D_VBF2j_ggH_ME', 0.05740345889599621),\n",
       " ('D_ZHh_ggH_ME', 0.050888415067519545),\n",
       " ('JetPt(JetPt|0)', 0.049372186685619525),\n",
       " ('PFMET', 0.04619758351101635),\n",
       " ('JetEta(JetPt|1)', 0.0445392087183132),\n",
       " ('ZZMass', 0.04318881781568349),\n",
       " ('JetPt(JetPt|1)', 0.042620232172470976),\n",
       " ('JetPt(JetPt|2)', 0.04041696280502251),\n",
       " ('nCleanedJetsPt30BTagged_bTagSF', 0.033665008291873966),\n",
       " ('Z1Pt', 0.027315801942667615),\n",
       " ('ZZEta', 0.02703150912106136),\n",
       " ('D_WHh_ggH_ME', 0.026699834162520728),\n",
       " ('JetPhi(JetPt|0)', 0.025657427149964464),\n",
       " ('Z1Mass', 0.02515991471215352),\n",
       " ('ZZPt', 0.025112532575219143),\n",
       " ('Z2Mass', 0.025065150438284767),\n",
       " ('JetPhi(JetPt|1)', 0.0248045486851457),\n",
       " ('JetPt(JetPt|3)', 0.023833214877990998),\n",
       " ('ZZPhi', 0.023619995261786306),\n",
       " ('JetEta(JetPt|3)', 0.02155887230514096),\n",
       " ('ZZMassErr', 0.02125088841506752),\n",
       " ('D_VBF1j_ggH_ME', 0.020161099265576878),\n",
       " ('Z2Pt', 0.020090026060175313),\n",
       " ('nCleanedJetsPt30', 0.019663586827765932),\n",
       " ('D_WHh_ZHh_ME', 0.018881781568348733),\n",
       " ('D_VBF2j_ZHh_ME', 0.017934138829661217),\n",
       " ('JetPhi(JetPt|2)', 0.015328121298270552),\n",
       " ('D_VBF2j_WHh_ME', 0.013835583984837717),\n",
       " ('ExtraLepPt(ExtraLepPt|0)', 0.009500118455342335),\n",
       " ('JetPhi(JetPt|3)', 0.008054963278843875),\n",
       " ('nExtraLep', 0.003980099502487562),\n",
       " ('Z2Flav', 0.003458895996209429),\n",
       " ('ExtraLepEta(ExtraLepPt|0)', 0.0032219853115375502),\n",
       " ('ExtraLepPhi(ExtraLepPt|0)', 0.002369106846718787),\n",
       " ('Z1Flav', 0.0011371712864250178)]"
      ]
     },
     "execution_count": 149,
     "metadata": {},
     "output_type": "execute_result"
    }
   ],
   "source": [
    "implist"
   ]
  },
  {
   "cell_type": "code",
   "execution_count": 150,
   "metadata": {
    "collapsed": false,
    "scrolled": false
   },
   "outputs": [],
   "source": [
    "%%capture\n",
    "fig, implist = plot_variables([(\"ttHh\", \"WHh\")])"
   ]
  },
  {
   "cell_type": "code",
   "execution_count": 151,
   "metadata": {
    "collapsed": true
   },
   "outputs": [],
   "source": [
    "impdict = {convert_varname(entry[0]): [entry[1]] for entry in implist}\n",
    "impdict[\"discriminant\"] = \"D_ttHh_WHh_ML\"\n",
    "df = df.append(pd.DataFrame.from_dict(impdict))"
   ]
  },
  {
   "cell_type": "code",
   "execution_count": 152,
   "metadata": {
    "collapsed": true
   },
   "outputs": [],
   "source": [
    "append_variables(confhandler, impdict, threshold_fscore)"
   ]
  },
  {
   "cell_type": "code",
   "execution_count": 153,
   "metadata": {
    "collapsed": false
   },
   "outputs": [
    {
     "data": {
      "text/plain": [
       "[('PFMET', 0.06787287453227869),\n",
       " ('ZZMass', 0.05970255292947473),\n",
       " ('JetPt(JetPt|0)', 0.05828162743333491),\n",
       " ('JetPt(JetPt|1)', 0.04812201013593521),\n",
       " ('Z1Pt', 0.03971486761710794),\n",
       " ('ZZEta', 0.0381992137545588),\n",
       " ('D_WHh_ggH_ME', 0.03791502865533084),\n",
       " ('nCleanedJetsPt30BTagged_bTagSF', 0.037536115189693554),\n",
       " ('JetEta(JetPt|0)', 0.036801970350021314),\n",
       " ('ZZPt', 0.03445744328139061),\n",
       " ('Z2Pt', 0.03381802680812769),\n",
       " ('JetPt(JetPt|2)', 0.03239710131198788),\n",
       " ('JetPhi(JetPt|1)', 0.03185241320513428),\n",
       " ('D_VBF2j_WHh_ME', 0.03057358025860844),\n",
       " ('JetEta(JetPt|1)', 0.030407805617392127),\n",
       " ('D_VBF2j_ggH_ME', 0.028868469663240658),\n",
       " ('ZZPhi', 0.028607966655615023),\n",
       " ('JetEta(JetPt|2)', 0.028134324823568417),\n",
       " ('Z1Mass', 0.028063278548761426),\n",
       " ('JetPhi(JetPt|0)', 0.027258087434282197),\n",
       " ('D_WHh_ZHh_ME', 0.027258087434282197),\n",
       " ('ZZMassErr', 0.026547624686212287),\n",
       " ('Z2Mass', 0.025600341022119073),\n",
       " ('JetPt(JetPt|3)', 0.023516316961114007),\n",
       " ('D_ZHh_ggH_ME', 0.0201534599535831),\n",
       " ('D_VBF2j_ZHh_ME', 0.019064083739875906),\n",
       " ('JetEta(JetPt|3)', 0.018400985175010657),\n",
       " ('nCleanedJetsPt30', 0.016577464121631223),\n",
       " ('JetPhi(JetPt|2)', 0.015535452091128688),\n",
       " ('D_VBF1j_ggH_ME', 0.014398711694216833),\n",
       " ('ExtraLepPt(ExtraLepPt|0)', 0.008383460427224933),\n",
       " ('ExtraLepPhi(ExtraLepPt|0)', 0.007625633495950362),\n",
       " ('JetPhi(JetPt|3)', 0.007009899114289774),\n",
       " ('nExtraLep', 0.004949557144887037),\n",
       " ('ExtraLepEta(ExtraLepPt|0)', 0.004594325770852082),\n",
       " ('Z1Flav', 0.0013025150381281675),\n",
       " ('Z2Flav', 0.0004973239236489367)]"
      ]
     },
     "execution_count": 153,
     "metadata": {},
     "output_type": "execute_result"
    }
   ],
   "source": [
    "implist"
   ]
  },
  {
   "cell_type": "code",
   "execution_count": 154,
   "metadata": {
    "collapsed": false,
    "scrolled": false
   },
   "outputs": [],
   "source": [
    "%%capture\n",
    "fig, implist = plot_variables([(\"ttHh\", \"ttHl\")])"
   ]
  },
  {
   "cell_type": "code",
   "execution_count": 155,
   "metadata": {
    "collapsed": true
   },
   "outputs": [],
   "source": [
    "impdict = {convert_varname(entry[0]): [entry[1]] for entry in implist}\n",
    "impdict[\"discriminant\"] = \"D_ttHh_ttHl_ML\"\n",
    "df = df.append(pd.DataFrame.from_dict(impdict))"
   ]
  },
  {
   "cell_type": "code",
   "execution_count": 156,
   "metadata": {
    "collapsed": true
   },
   "outputs": [],
   "source": [
    "append_variables(confhandler, impdict, threshold_fscore)"
   ]
  },
  {
   "cell_type": "code",
   "execution_count": 157,
   "metadata": {
    "collapsed": false
   },
   "outputs": [
    {
     "data": {
      "text/plain": [
       "[('PFMET', 0.10206678091083762),\n",
       " ('ZZMass', 0.07233733187931661),\n",
       " ('Z1Mass', 0.054681414550553045),\n",
       " ('ZZMassErr', 0.042841564106558656),\n",
       " ('ZZPt', 0.04027107026016513),\n",
       " ('JetPt(JetPt|3)', 0.04019317650724412),\n",
       " ('nCleanedJetsPt30', 0.03596094926520226),\n",
       " ('JetPt(JetPt|0)', 0.03385781793633484),\n",
       " ('ExtraLepPt(ExtraLepPt|0)', 0.03281923456405463),\n",
       " ('JetPhi(JetPt|2)', 0.032299942877914524),\n",
       " ('Z2Pt', 0.030352599054889132),\n",
       " ('JetPt(JetPt|2)', 0.029625590694292984),\n",
       " ('JetPhi(JetPt|1)', 0.02915822817676689),\n",
       " ('D_WHh_ZHh_ME', 0.028301396894635716),\n",
       " ('Z1Pt', 0.027937892714337643),\n",
       " ('JetPhi(JetPt|0)', 0.027885963545723633),\n",
       " ('Z2Mass', 0.02697720309497845),\n",
       " ('ZZEta', 0.026250194734382302),\n",
       " ('JetPhi(JetPt|3)', 0.02599054889131225),\n",
       " ('ZZPhi', 0.02588669055408423),\n",
       " ('JetEta(JetPt|1)', 0.025808796801163214),\n",
       " ('JetEta(JetPt|2)', 0.02305655086462066),\n",
       " ('JetPt(JetPt|1)', 0.02287479877447162),\n",
       " ('JetEta(JetPt|0)', 0.0212909591317443),\n",
       " ('D_WHh_ggH_ME', 0.02040816326530612),\n",
       " ('nCleanedJetsPt30BTagged_bTagSF', 0.019187827802876877),\n",
       " ('JetEta(JetPt|3)', 0.01638365269772031),\n",
       " ('D_ZHh_ggH_ME', 0.015604715168510152),\n",
       " ('D_VBF2j_ggH_ME', 0.015085423482370047),\n",
       " ('ExtraLepPhi(ExtraLepPt|0)', 0.014669990133457963),\n",
       " ('D_VBF2j_WHh_ME', 0.012437035883055511),\n",
       " ('ExtraLepEta(ExtraLepPt|0)', 0.00802305655086462),\n",
       " ('D_VBF2j_ZHh_ME', 0.0052188814457080545),\n",
       " ('D_VBF1j_ggH_ME', 0.0032196084540686504),\n",
       " ('nExtraLep', 0.003193643869761645),\n",
       " ('Z1Flav', 0.0029339980266915927),\n",
       " ('Z2Flav', 0.0028301396894635715),\n",
       " ('ExtraLepEta(ExtraLepPt|1)', 0.0011424417095082307),\n",
       " ('ExtraLepPt(ExtraLepPt|1)', 0.0007010437762891416),\n",
       " ('ExtraLepPhi(ExtraLepPt|1)', 0.0002336812587630472)]"
      ]
     },
     "execution_count": 157,
     "metadata": {},
     "output_type": "execute_result"
    }
   ],
   "source": [
    "implist"
   ]
  },
  {
   "cell_type": "code",
   "execution_count": 158,
   "metadata": {
    "collapsed": false,
    "scrolled": false
   },
   "outputs": [],
   "source": [
    "%%capture\n",
    "fig, implist = plot_variables([(\"ttHl\", \"ggH\")])"
   ]
  },
  {
   "cell_type": "code",
   "execution_count": 159,
   "metadata": {
    "collapsed": true
   },
   "outputs": [],
   "source": [
    "impdict = {convert_varname(entry[0]): [entry[1]] for entry in implist}\n",
    "impdict[\"discriminant\"] = \"D_ttHl_ggH_ML\"\n",
    "df = df.append(pd.DataFrame.from_dict(impdict))"
   ]
  },
  {
   "cell_type": "code",
   "execution_count": 160,
   "metadata": {
    "collapsed": true
   },
   "outputs": [],
   "source": [
    "append_variables(confhandler, impdict, threshold_fscore)"
   ]
  },
  {
   "cell_type": "code",
   "execution_count": 161,
   "metadata": {
    "collapsed": false
   },
   "outputs": [
    {
     "data": {
      "text/plain": [
       "[('ZZMass', 0.13970722781335773),\n",
       " ('PFMET', 0.1207227813357731),\n",
       " ('ZZPt', 0.05546660567246112),\n",
       " ('JetPt(JetPt|0)', 0.05519213174748399),\n",
       " ('Z1Mass', 0.048284537968892954),\n",
       " ('D_VBF1j_ggH_ME', 0.04707227813357731),\n",
       " ('ExtraLepPt(ExtraLepPt|0)', 0.042703568161024705),\n",
       " ('Z2Pt', 0.04153705397987191),\n",
       " ('ZZMassErr', 0.03989021043000915),\n",
       " ('Z1Pt', 0.036207685269899356),\n",
       " ('ZZPhi', 0.03156450137236962),\n",
       " ('Z2Mass', 0.030237877401646844),\n",
       " ('ZZEta', 0.02884263494967978),\n",
       " ('JetEta(JetPt|0)', 0.024382433668801464),\n",
       " ('JetPt(JetPt|1)', 0.021340347666971637),\n",
       " ('JetEta(JetPt|1)', 0.021180237877401645),\n",
       " ('nCleanedJetsPt30BTagged_bTagSF', 0.019876486733760294),\n",
       " ('JetPhi(JetPt|0)', 0.019304666056724613),\n",
       " ('D_VBF2j_ggH_ME', 0.0192131747483989),\n",
       " ('JetPt(JetPt|2)', 0.015667886550777676),\n",
       " ('nCleanedJetsPt30', 0.014569990850869168),\n",
       " ('nExtraLep', 0.013838060384263495),\n",
       " ('D_WHh_ZHh_ME', 0.013014638609332113),\n",
       " ('D_ZHh_ggH_ME', 0.01187099725526075),\n",
       " ('JetPt(JetPt|3)', 0.011550777676120769),\n",
       " ('JetEta(JetPt|2)', 0.01120768526989936),\n",
       " ('D_WHh_ggH_ME', 0.010224153705397988),\n",
       " ('ExtraLepEta(ExtraLepPt|0)', 0.009309240622140896),\n",
       " ('JetPhi(JetPt|1)', 0.00837145471180238),\n",
       " ('JetEta(JetPt|3)', 0.00777676120768527),\n",
       " ('D_VBF2j_ZHh_ME', 0.007250686184812443),\n",
       " ('JetPhi(JetPt|2)', 0.006152790484903934),\n",
       " ('D_VBF2j_WHh_ME', 0.005878316559926807),\n",
       " ('JetPhi(JetPt|3)', 0.004391582799634035),\n",
       " ('Z1Flav', 0.0028591033851784083),\n",
       " ('Z2Flav', 0.0019441903019213175),\n",
       " ('ExtraLepPhi(ExtraLepPt|0)', 0.001395242451967063)]"
      ]
     },
     "execution_count": 161,
     "metadata": {},
     "output_type": "execute_result"
    }
   ],
   "source": [
    "implist"
   ]
  },
  {
   "cell_type": "code",
   "execution_count": 162,
   "metadata": {
    "collapsed": false,
    "scrolled": false
   },
   "outputs": [],
   "source": [
    "%%capture\n",
    "fig, implist = plot_variables([(\"ttHl\", \"VBF\")])"
   ]
  },
  {
   "cell_type": "code",
   "execution_count": 163,
   "metadata": {
    "collapsed": true
   },
   "outputs": [],
   "source": [
    "impdict = {convert_varname(entry[0]): [entry[1]] for entry in implist}\n",
    "impdict[\"discriminant\"] = \"D_ttHl_VBF_ML\"\n",
    "df = df.append(pd.DataFrame.from_dict(impdict))"
   ]
  },
  {
   "cell_type": "code",
   "execution_count": 164,
   "metadata": {
    "collapsed": true
   },
   "outputs": [],
   "source": [
    "append_variables(confhandler, impdict, threshold_fscore)"
   ]
  },
  {
   "cell_type": "code",
   "execution_count": 165,
   "metadata": {
    "collapsed": false
   },
   "outputs": [
    {
     "data": {
      "text/plain": [
       "[('ZZMass', 0.10641869387972609),\n",
       " ('PFMET', 0.08297141030081799),\n",
       " ('D_VBF2j_ggH_ME', 0.050065279369054916),\n",
       " ('JetEta(JetPt|0)', 0.044016945991313845),\n",
       " ('JetPt(JetPt|0)', 0.041885374756867655),\n",
       " ('Z1Mass', 0.04145906050997842),\n",
       " ('D_VBF1j_ggH_ME', 0.03922091071380992),\n",
       " ('ZZMassErr', 0.03887453038821241),\n",
       " ('ZZPt', 0.03796861261357278),\n",
       " ('ExtraLepPt(ExtraLepPt|0)', 0.036103487783432364),\n",
       " ('JetEta(JetPt|2)', 0.03586368601955717),\n",
       " ('D_ZHh_ggH_ME', 0.031600543550664786),\n",
       " ('ZZEta', 0.03130745250592843),\n",
       " ('JetEta(JetPt|1)', 0.030374890090858225),\n",
       " ('Z2Pt', 0.0289893687884682),\n",
       " ('ZZPhi', 0.02704431003703605),\n",
       " ('JetPt(JetPt|2)', 0.025632144094215447),\n",
       " ('Z1Pt', 0.024726226319575818),\n",
       " ('nCleanedJetsPt30BTagged_bTagSF', 0.02336734965761637),\n",
       " ('D_WHh_ZHh_ME', 0.021182489142309024),\n",
       " ('Z2Mass', 0.019956835682502463),\n",
       " ('ExtraLepEta(ExtraLepPt|0)', 0.019850257120780156),\n",
       " ('JetPhi(JetPt|0)', 0.01878447150355706),\n",
       " ('JetPt(JetPt|1)', 0.01878447150355706),\n",
       " ('D_WHh_ggH_ME', 0.01787855372891743),\n",
       " ('D_VBF2j_ZHh_ME', 0.016040073539207587),\n",
       " ('JetPt(JetPt|3)', 0.015986784258346435),\n",
       " ('JetPhi(JetPt|1)', 0.014841064719831605),\n",
       " ('nCleanedJetsPt30', 0.013642055900455623),\n",
       " ('JetEta(JetPt|3)', 0.008899309903812849),\n",
       " ('JetPhi(JetPt|2)', 0.00847299565692361),\n",
       " ('JetPhi(JetPt|3)', 0.006767738669366657),\n",
       " ('D_VBF2j_WHh_ME', 0.006048333377741067),\n",
       " ('nExtraLep', 0.0050091924009485495),\n",
       " ('Z1Flav', 0.0041032746263089176),\n",
       " ('ExtraLepPhi(ExtraLepPt|0)', 0.0040233407050171855),\n",
       " ('Z2Flav', 0.0011723641789454051),\n",
       " ('ExtraLepPt(ExtraLepPt|1)', 0.0006661160107644347)]"
      ]
     },
     "execution_count": 165,
     "metadata": {},
     "output_type": "execute_result"
    }
   ],
   "source": [
    "implist"
   ]
  },
  {
   "cell_type": "code",
   "execution_count": 166,
   "metadata": {
    "collapsed": false,
    "scrolled": false
   },
   "outputs": [],
   "source": [
    "%%capture\n",
    "fig, implist = plot_variables([(\"ttHl\", \"WHh\")])"
   ]
  },
  {
   "cell_type": "code",
   "execution_count": 167,
   "metadata": {
    "collapsed": true
   },
   "outputs": [],
   "source": [
    "impdict = {convert_varname(entry[0]): [entry[1]] for entry in implist}\n",
    "impdict[\"discriminant\"] = \"D_ttHl_WHh_ML\"\n",
    "df = df.append(pd.DataFrame.from_dict(impdict))"
   ]
  },
  {
   "cell_type": "code",
   "execution_count": 168,
   "metadata": {
    "collapsed": true
   },
   "outputs": [],
   "source": [
    "append_variables(confhandler, impdict, threshold_fscore)"
   ]
  },
  {
   "cell_type": "code",
   "execution_count": 169,
   "metadata": {
    "collapsed": false
   },
   "outputs": [
    {
     "data": {
      "text/plain": [
       "[('ZZMass', 0.13358230393565068),\n",
       " ('PFMET', 0.11031312841137604),\n",
       " ('ExtraLepPt(ExtraLepPt|0)', 0.06664751508187303),\n",
       " ('ZZMassErr', 0.047441211474535235),\n",
       " ('D_VBF1j_ggH_ME', 0.04551237329174704),\n",
       " ('JetPt(JetPt|0)', 0.042680674682972874),\n",
       " ('nCleanedJetsPt30BTagged_bTagSF', 0.04173677514671482),\n",
       " ('ZZPt', 0.0410391102720893),\n",
       " ('Z1Mass', 0.03389830508474576),\n",
       " ('D_VBF2j_WHh_ME', 0.02774243854393237),\n",
       " ('JetEta(JetPt|0)', 0.02585463947141626),\n",
       " ('Z2Pt', 0.024418270611893136),\n",
       " ('ZZPhi', 0.02281774531128165),\n",
       " ('JetEta(JetPt|1)', 0.02236631509828867),\n",
       " ('JetPt(JetPt|2)', 0.022079041326384045),\n",
       " ('D_WHh_ggH_ME', 0.022079041326384045),\n",
       " ('Z1Pt', 0.02175072844420733),\n",
       " ('D_WHh_ZHh_ME', 0.02166865022366315),\n",
       " ('ZZEta', 0.02010916403332376),\n",
       " ('nCleanedJetsPt30', 0.0199450075922354),\n",
       " ('JetPt(JetPt|3)', 0.01818032585053556),\n",
       " ('JetPhi(JetPt|3)', 0.01760577830672631),\n",
       " ('Z2Mass', 0.017441621865637955),\n",
       " ('JetPhi(JetPt|1)', 0.01711330898346124),\n",
       " ('JetPt(JetPt|1)', 0.014938236139040505),\n",
       " ('D_VBF2j_ggH_ME', 0.013953297492510362),\n",
       " ('JetPhi(JetPt|0)', 0.012845241515163952),\n",
       " ('D_ZHh_ggH_ME', 0.0111215988837362),\n",
       " ('nExtraLep', 0.010629129560471129),\n",
       " ('JetEta(JetPt|2)', 0.010341855788566504),\n",
       " ('D_VBF2j_ZHh_ME', 0.0099725037961177),\n",
       " ('JetPhi(JetPt|2)', 0.009644190913940986),\n",
       " ('ExtraLepEta(ExtraLepPt|0)', 0.006566257643534288),\n",
       " ('JetEta(JetPt|3)', 0.006073788320269217),\n",
       " ('ExtraLepPhi(ExtraLepPt|0)', 0.005006771453194895),\n",
       " ('Z1Flav', 0.0034883243731275906),\n",
       " ('Z2Flav', 0.0012722124184347684),\n",
       " ('ExtraLepPt(ExtraLepPt|1)', 0.00012311733081626791)]"
      ]
     },
     "execution_count": 169,
     "metadata": {},
     "output_type": "execute_result"
    }
   ],
   "source": [
    "implist"
   ]
  },
  {
   "cell_type": "code",
   "execution_count": 170,
   "metadata": {
    "collapsed": true
   },
   "outputs": [],
   "source": [
    "# save the variable configuration\n",
    "confhandler.save_configuration(out_path)"
   ]
  },
  {
   "cell_type": "code",
   "execution_count": 171,
   "metadata": {
    "collapsed": false
   },
   "outputs": [],
   "source": [
    "df = df.fillna(0.0)"
   ]
  },
  {
   "cell_type": "code",
   "execution_count": 172,
   "metadata": {
    "collapsed": false
   },
   "outputs": [],
   "source": [
    "df.to_csv(\"input_parameters_table_inclusive.csv\")"
   ]
  },
  {
   "cell_type": "code",
   "execution_count": 173,
   "metadata": {
    "collapsed": false
   },
   "outputs": [],
   "source": [
    "# now plot the data contained in the table to have a global picture of the relevant input variables\n",
    "datacol_labels = [col for col in df.columns.tolist() if col != \"discriminant\"]\n",
    "variable_data = df[datacol_labels].as_matrix().transpose()\n",
    "datacol_labels = np.concatenate([[''], np.array(datacol_labels)])"
   ]
  },
  {
   "cell_type": "code",
   "execution_count": 174,
   "metadata": {
    "collapsed": true
   },
   "outputs": [],
   "source": [
    "discriminant_labels = np.concatenate([[''], df[\"discriminant\"].as_matrix()])"
   ]
  },
  {
   "cell_type": "code",
   "execution_count": 175,
   "metadata": {
    "collapsed": false
   },
   "outputs": [],
   "source": [
    "fig = plt.figure(figsize = (15, 10))\n",
    "ax = fig.add_subplot(111)\n",
    "cax = ax.matshow(variable_data, interpolation = 'nearest', cmap = 'Blues', vmin = np.min(variable_data), vmax = np.max(variable_data))\n",
    "ax.set_xticklabels(discriminant_labels, rotation = 'vertical')\n",
    "ax.set_yticklabels(datacol_labels)\n",
    "ax.xaxis.set_major_locator(ticker.MultipleLocator(1))\n",
    "ax.yaxis.set_major_locator(ticker.MultipleLocator(1))"
   ]
  },
  {
   "cell_type": "code",
   "execution_count": 176,
   "metadata": {
    "collapsed": true
   },
   "outputs": [],
   "source": [
    "plt.tight_layout()\n",
    "plt.savefig(os.path.join(out_dir, \"input_variables_inclusive_fullmassrange.pdf\"))"
   ]
  }
 ],
 "metadata": {
  "kernelspec": {
   "display_name": "Python 2",
   "language": "python",
   "name": "python2"
  },
  "language_info": {
   "codemirror_mode": {
    "name": "ipython",
    "version": 2
   },
   "file_extension": ".py",
   "mimetype": "text/x-python",
   "name": "python",
   "nbconvert_exporter": "python",
   "pygments_lexer": "ipython2",
   "version": "2.7.11"
  }
 },
 "nbformat": 4,
 "nbformat_minor": 2
}
