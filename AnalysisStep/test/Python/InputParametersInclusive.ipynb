{
 "cells": [
  {
   "cell_type": "code",
   "execution_count": 1,
   "metadata": {
    "collapsed": true
   },
   "outputs": [],
   "source": [
    "import warnings\n",
    "warnings.filterwarnings('ignore')"
   ]
  },
  {
   "cell_type": "code",
   "execution_count": 2,
   "metadata": {
    "collapsed": false
   },
   "outputs": [
    {
     "name": "stdout",
     "output_type": "stream",
     "text": [
      "Welcome to JupyROOT 6.10/09\n"
     ]
    }
   ],
   "source": [
    "from trainlib.FileCollection import FileCollection\n",
    "from trainlib.config import Config\n",
    "from trainlib.ConfigFileHandler import ConfigFileHandler\n",
    "from trainlib.ConfigFileUtils import ConfigFileUtils\n",
    "import trainlib.cuts as cuts\n",
    "import numpy as np\n",
    "import matplotlib.pyplot as plt\n",
    "import matplotlib.ticker as ticker\n",
    "import pandas as pd\n",
    "import copy\n",
    "import re\n",
    "from scipy import interpolate\n",
    "import scipy.integrate as integrate\n",
    "import pickle\n",
    "import os"
   ]
  },
  {
   "cell_type": "code",
   "execution_count": 3,
   "metadata": {
    "collapsed": false
   },
   "outputs": [
    {
     "name": "stderr",
     "output_type": "stream",
     "text": [
      "/cvmfs/cms.cern.ch/slc6_amd64_gcc630/external/py2-pippkgs_depscipy/3.0-fmblme3/lib/python2.7/site-packages/sklearn/cross_validation.py:44: DeprecationWarning: This module was deprecated in version 0.18 in favor of the model_selection module into which all the refactored classes and functions are moved. Also note that the interface of the new CV iterators are different from that of this module. This module will be removed in 0.20.\n",
      "  \"This module will be removed in 0.20.\", DeprecationWarning)\n"
     ]
    }
   ],
   "source": [
    "import xgboost as xgb\n",
    "from sklearn.metrics import mean_squared_error"
   ]
  },
  {
   "cell_type": "code",
   "execution_count": 4,
   "metadata": {
    "collapsed": true
   },
   "outputs": [],
   "source": [
    "candidate_branches = [\"PFMET\", \"nCleanedJetsPt30\", \"nCleanedJetsPt30BTagged_bTagSF\", \"nExtraLep\", \"ZZMass_masked\", \"nExtraZ\", \"Z1Mass\", \"Z2Mass\", \"Z1Pt\", \"Z2Pt\", \"ZZMassErr\", \"ZZPt\", \"ZZEta\", \"ZZPhi\", \"Z1Flav\", \"Z2Flav\", \"costhetastar\", \"helphi\", \"helcosthetaZ1\", \"helcosthetaZ2\", \"phistarZ1\", \"phistarZ2\", \"xi\", \"xistar\",\n",
    "                      \"D_bkg_ME\", \"D_VBF2j_ggH_ME\", \"D_VBF1j_ggH_ME\", \"D_WHh_ggH_ME\", \"D_ZHh_ggH_ME\", \"D_WHh_ZHh_ME\", \"D_VBF2j_WHh_ME\", \"D_VBF2j_ZHh_ME\"]\n",
    "#candidate_branches = [\"PFMET\", \"nCleanedJetsPt30\", \"nCleanedJetsPt30BTagged_bTagSF\", \"nExtraLep\", \"ZZMass_masked\", \"nExtraZ\", \"Z1Mass\", \"Z2Mass\", \"Z1Pt\", \"Z2Pt\", \"ZZMassErr\", \"ZZPt\", \"ZZEta\", \"ZZPhi\", \"Z1Flav\", \"Z2Flav\", \"D_VBF2j_ggH_ME\", \"D_VBF1j_ggH_ME\", \"D_WHh_ggH_ME\", \"D_ZHh_ggH_ME\", \"D_WHh_ZHh_ME\", \"D_VBF2j_WHh_ME\", \"D_VBF2j_ZHh_ME\"]\n",
    "#list_branches = [\"Jet\", \"Lep\", \"ExtraLep\"]\n",
    "MELA_branches = []\n",
    "list_branches = [\"Jet\", \"ExtraLep\"]\n",
    "pt_limits = [30.0, 0.0, 0.0]"
   ]
  },
  {
   "cell_type": "code",
   "execution_count": 5,
   "metadata": {
    "collapsed": true
   },
   "outputs": [],
   "source": [
    "allbranches = [\"JetPt\", \"JetEta\", \"JetPhi\", \"LepPt\", \"LepEta\", \"LepPhi\", \"ExtraLepPt\", \"ExtraLepEta\", \"ExtraLepPhi\"] + candidate_branches + MELA_branches + [\"LHEAssociatedParticleId\", \"GenAssocLep1Id\", \"GenAssocLep2Id\", \"training_weight\"]"
   ]
  },
  {
   "cell_type": "code",
   "execution_count": 6,
   "metadata": {
    "collapsed": true
   },
   "outputs": [],
   "source": [
    "#MC_path = \"/data_CMS/cms/wind/CJLST_NTuples_randomizeda/\"\n",
    "MC_path = \"/data_CMS/cms/wind/CJLST_NTuples/trainval/\""
   ]
  },
  {
   "cell_type": "raw",
   "metadata": {
    "collapsed": true
   },
   "source": [
    "def WHhadr0j_cut(row):\n",
    "    return cuts.WHhadr_cut(row) and row[\"nCleanedJetsPt30\"] == 0\n",
    "\n",
    "def WHhadr01j_cut(row):\n",
    "    return cuts.WHhadr_cut(row) and (row[\"nCleanedJetsPt30\"] == 0 or row[\"nCleanedJetsPt30\"] == 1)\n",
    "\n",
    "def WHhadr1j_cut(row):\n",
    "    return cuts.WHhadr_cut(row) and row[\"nCleanedJetsPt30\"] == 1\n",
    "\n",
    "def WHhadr2j_cut(row):\n",
    "    return cuts.WHhadr_cut(row) and row[\"nCleanedJetsPt30\"] >= 2\n",
    "\n",
    "def ZHhadr0j_cut(row):\n",
    "    return cuts.ZHhadr_cut(row) and row[\"nCleanedJetsPt30\"] == 0\n",
    "\n",
    "def ZHhadr01j_cut(row):\n",
    "    return cuts.ZHhadr_cut(row) and (row[\"nCleanedJetsPt30\"] == 0 or row[\"nCleanedJetsPt30\"] == 1)\n",
    "\n",
    "def ZHhadr1j_cut(row):\n",
    "    return cuts.ZHhadr_cut(row) and row[\"nCleanedJetsPt30\"] == 1\n",
    "\n",
    "def ZHhadr2j_cut(row):\n",
    "    return cuts.ZHhadr_cut(row) and row[\"nCleanedJetsPt30\"] >= 2\n",
    "\n",
    "def mZZ0j_cut(row):\n",
    "    return cuts.mZZ_cut(row) and row[\"nCleanedJetsPt30\"] == 0\n",
    "\n",
    "def mZZ01j_cut(row):\n",
    "    return cuts.mZZ_cut(row) and (row[\"nCleanedJetsPt30\"] == 0 or row[\"nCleanedJetsPt30\"] == 1)\n",
    "\n",
    "def mZZ1j_cut(row):\n",
    "    return cuts.mZZ_cut(row) and row[\"nCleanedJetsPt30\"] == 1\n",
    "\n",
    "def mZZ2j_cut(row):\n",
    "    return cuts.mZZ_cut(row) and row[\"nCleanedJetsPt30\"] >= 2"
   ]
  },
  {
   "cell_type": "code",
   "execution_count": 7,
   "metadata": {
    "collapsed": true
   },
   "outputs": [],
   "source": [
    "# these are the cuts without any m4l restriction imposed\n",
    "def WHhadr0j_cut(row):\n",
    "    return cuts.WHhadr_cut(row) and row[\"nCleanedJetsPt30\"] == 0\n",
    "\n",
    "def WHhadr01j_cut(row):\n",
    "    return cuts.WHhadr_cut(row) and (row[\"nCleanedJetsPt30\"] == 0 or row[\"nCleanedJetsPt30\"] == 1)\n",
    "\n",
    "def WHhadr1j_cut(row):\n",
    "    return cuts.WHhadr_cut(row) and row[\"nCleanedJetsPt30\"] == 1\n",
    "\n",
    "def WHhadr2j_cut(row):\n",
    "    return cuts.WHhadr_cut(row) and row[\"nCleanedJetsPt30\"] >= 2\n",
    "\n",
    "def ZHhadr0j_cut(row):\n",
    "    return cuts.ZHhadr_cut(row) and row[\"nCleanedJetsPt30\"] == 0\n",
    "\n",
    "def ZHhadr01j_cut(row):\n",
    "    return cuts.ZHhadr_cut(row) and (row[\"nCleanedJetsPt30\"] == 0 or row[\"nCleanedJetsPt30\"] == 1)\n",
    "\n",
    "def ZHhadr1j_cut(row):\n",
    "    return cuts.ZHhadr_cut(row) and row[\"nCleanedJetsPt30\"] == 1\n",
    "\n",
    "def ZHhadr2j_cut(row):\n",
    "    return cuts.ZHhadr_cut(row) and row[\"nCleanedJetsPt30\"] >= 2\n",
    "\n",
    "def mZZ0j_cut(row):\n",
    "    return row[\"nCleanedJetsPt30\"] == 0\n",
    "\n",
    "def mZZ01j_cut(row):\n",
    "    return (row[\"nCleanedJetsPt30\"] == 0 or row[\"nCleanedJetsPt30\"] == 1)\n",
    "\n",
    "def mZZ1j_cut(row):\n",
    "    return row[\"nCleanedJetsPt30\"] == 1\n",
    "\n",
    "def mZZ2j_cut(row):\n",
    "    return row[\"nCleanedJetsPt30\"] >= 2"
   ]
  },
  {
   "cell_type": "raw",
   "metadata": {
    "collapsed": false
   },
   "source": [
    "collections = {\"VBF2j\": {MC_path + \"VBFH125/ZZ4lAnalysis.root\": mZZ2j_cut},\n",
    "            \"VBF1j\": {MC_path + \"VBFH125/ZZ4lAnalysis.root\": mZZ1j_cut},\n",
    "            \"VBF0j\": {MC_path + \"VBFH125/ZZ4lAnalysis.root\": mZZ0j_cut},\n",
    "            \"VBF01j\": {MC_path + \"VBFH125/ZZ4lAnalysis.root\": mZZ01j_cut},\n",
    "            \"VBF\": {MC_path + \"VBFH125/ZZ4lAnalysis.root\": cuts.mZZ_cut},\n",
    "            \"ggH2j\": {MC_path + \"ggH125/ZZ4lAnalysis.root\": mZZ2j_cut},\n",
    "            \"ggH1j\": {MC_path + \"ggH125/ZZ4lAnalysis.root\": mZZ1j_cut},\n",
    "            \"ggH0j\": {MC_path + \"ggH125/ZZ4lAnalysis.root\": mZZ0j_cut},\n",
    "            \"ggH01j\": {MC_path + \"ggH125/ZZ4lAnalysis.root\": mZZ01j_cut},\n",
    "            \"ggH\" : {MC_path + \"ggH125/ZZ4lAnalysis.root\": cuts.mZZ_cut},\n",
    "            \"WHh2j\": {MC_path + \"WplusH125/ZZ4lAnalysis.root\": WHhadr2j_cut, MC_path + \"WminusH125/ZZ4lAnalysis.root\": WHhadr2j_cut},\n",
    "            \"WHh1j\": {MC_path + \"WplusH125/ZZ4lAnalysis.root\": WHhadr1j_cut, MC_path + \"WminusH125/ZZ4lAnalysis.root\": WHhadr1j_cut},\n",
    "            \"WHh0j\": {MC_path + \"WplusH125/ZZ4lAnalysis.root\": WHhadr0j_cut, MC_path + \"WminusH125/ZZ4lAnalysis.root\": WHhadr0j_cut},\n",
    "            \"WHh\": {MC_path + \"WplusH125/ZZ4lAnalysis.root\": cuts.WHhadr_cut, MC_path + \"WminusH125/ZZ4lAnalysis.root\": cuts.WHhadr_cut},\n",
    "            \"WHh01j\": {MC_path + \"WplusH125/ZZ4lAnalysis.root\": WHhadr01j_cut, MC_path + \"WminusH125/ZZ4lAnalysis.root\": WHhadr01j_cut},\n",
    "            \"WHl\": {MC_path + \"WplusH125/ZZ4lAnalysis.root\": cuts.WHlept_cut, MC_path + \"WminusH125/ZZ4lAnalysis.root\": cuts.WHlept_cut},\n",
    "            \"ZHh2j\": {MC_path + \"ZH125/ZZ4lAnalysis.root\": ZHhadr2j_cut},\n",
    "            \"ZHh1j\": {MC_path + \"ZH125/ZZ4lAnalysis.root\": ZHhadr1j_cut},\n",
    "            \"ZHh01j\": {MC_path + \"ZH125/ZZ4lAnalysis.root\": ZHhadr01j_cut},\n",
    "            \"ZHh0j\": {MC_path + \"ZH125/ZZ4lAnalysis.root\": ZHhadr0j_cut},\n",
    "            \"ZHh\": {MC_path + \"ZH125/ZZ4lAnalysis.root\": cuts.ZHhadr_cut},\n",
    "            \"ZHl\": {MC_path + \"ZH125/ZZ4lAnalysis.root\": cuts.ZHlept_cut},\n",
    "            \"ttHh\": {MC_path + \"ttH125/ZZ4lAnalysis.root\": cuts.ttHhadr_cut},\n",
    "            \"ttHl\": {MC_path + \"ttH125/ZZ4lAnalysis.root\": cuts.ttHlept_cut},\n",
    "            \"ZHMET\": {MC_path + \"ZH125/ZZ4lAnalysis.root\": cuts.ZHMET_cut}\n",
    "          }"
   ]
  },
  {
   "cell_type": "code",
   "execution_count": 8,
   "metadata": {
    "collapsed": false
   },
   "outputs": [],
   "source": [
    "collections = {\"VBF2j\": {MC_path + \"VBFH125/ZZ4lAnalysis.root\": mZZ2j_cut},\n",
    "            \"VBF1j\": {MC_path + \"VBFH125/ZZ4lAnalysis.root\": mZZ1j_cut},\n",
    "            \"VBF0j\": {MC_path + \"VBFH125/ZZ4lAnalysis.root\": mZZ0j_cut},\n",
    "            \"VBF01j\": {MC_path + \"VBFH125/ZZ4lAnalysis.root\": mZZ01j_cut},\n",
    "            \"VBF\": {MC_path + \"VBFH125/ZZ4lAnalysis.root\": cuts.no_cut},\n",
    "            \"ggH2j\": {MC_path + \"ggH125/ZZ4lAnalysis.root\": mZZ2j_cut},\n",
    "            \"ggH1j\": {MC_path + \"ggH125/ZZ4lAnalysis.root\": mZZ1j_cut},\n",
    "            \"ggH0j\": {MC_path + \"ggH125/ZZ4lAnalysis.root\": mZZ0j_cut},\n",
    "            \"ggH01j\": {MC_path + \"ggH125/ZZ4lAnalysis.root\": mZZ01j_cut},\n",
    "            \"ggH\" : {MC_path + \"ggH125/ZZ4lAnalysis.root\": cuts.no_cut},\n",
    "            \"WHh2j\": {MC_path + \"WplusH125/ZZ4lAnalysis.root\": WHhadr2j_cut, MC_path + \"WminusH125/ZZ4lAnalysis.root\": WHhadr2j_cut},\n",
    "            \"WHh1j\": {MC_path + \"WplusH125/ZZ4lAnalysis.root\": WHhadr1j_cut, MC_path + \"WminusH125/ZZ4lAnalysis.root\": WHhadr1j_cut},\n",
    "            \"WHh0j\": {MC_path + \"WplusH125/ZZ4lAnalysis.root\": WHhadr0j_cut, MC_path + \"WminusH125/ZZ4lAnalysis.root\": WHhadr0j_cut},\n",
    "            \"WHh\": {MC_path + \"WplusH125/ZZ4lAnalysis.root\": cuts.WHhadr_cut, MC_path + \"WminusH125/ZZ4lAnalysis.root\": cuts.WHhadr_cut},\n",
    "            \"WHh01j\": {MC_path + \"WplusH125/ZZ4lAnalysis.root\": WHhadr01j_cut, MC_path + \"WminusH125/ZZ4lAnalysis.root\": WHhadr01j_cut},\n",
    "            \"WHl\": {MC_path + \"WplusH125/ZZ4lAnalysis.root\": cuts.WHlept_cut, MC_path + \"WminusH125/ZZ4lAnalysis.root\": cuts.WHlept_cut},\n",
    "            \"ZHh2j\": {MC_path + \"ZH125/ZZ4lAnalysis.root\": ZHhadr2j_cut},\n",
    "            \"ZHh1j\": {MC_path + \"ZH125/ZZ4lAnalysis.root\": ZHhadr1j_cut},\n",
    "            \"ZHh01j\": {MC_path + \"ZH125/ZZ4lAnalysis.root\": ZHhadr01j_cut},\n",
    "            \"ZHh0j\": {MC_path + \"ZH125/ZZ4lAnalysis.root\": ZHhadr0j_cut},\n",
    "            \"ZHh\": {MC_path + \"ZH125/ZZ4lAnalysis.root\": cuts.ZHhadr_cut},\n",
    "            \"ZHl\": {MC_path + \"ZH125/ZZ4lAnalysis.root\": cuts.ZHlept_cut},\n",
    "            \"ttHh\": {MC_path + \"ttH125/ZZ4lAnalysis.root\": cuts.ttHhadr_cut},\n",
    "            \"ttHl\": {MC_path + \"ttH125/ZZ4lAnalysis.root\": cuts.ttHlept_cut},\n",
    "            \"ZHMET\": {MC_path + \"ZH125/ZZ4lAnalysis.root\": cuts.ZHMET_cut},\n",
    "            \"bck\": {MC_path + \"bkg/ZZ4lAnalysis.root\": cuts.no_cut}\n",
    "          }"
   ]
  },
  {
   "cell_type": "code",
   "execution_count": 9,
   "metadata": {
    "collapsed": true
   },
   "outputs": [],
   "source": [
    "# all the model combinations for which neural networks are currently trained\n",
    "discriminant_pairs = [(\"ggH\", \"bck\"), (\"VBF\", \"bck\"), (\"ZHh\", \"bck\"), (\"WHh\", \"bck\"), (\"ZHl\", \"bck\"),\n",
    "                      (\"WHl\", \"bck\"), (\"ZHMET\", \"bck\"), (\"ttHh\", \"bck\"), (\"ttHl\", \"bck\"), (\"VBF\", \"ggH\"), (\"WHh\", \"ggH\"), (\"ZHh\", \"ggH\"), (\"WHh\", \"ZHh\"), (\"VBF\", \"WHh\"),\n",
    "                     (\"VBF\", \"ZHh\"), (\"WHl\", \"ggH\"), (\"WHl\", \"VBF\"), (\"WHl\", \"WHh\"), (\"WHl\", \"ZHh\"),\n",
    "                     (\"WHl\", \"ZHl\"), (\"WHl\", \"ZHMET\"), (\"WHl\", \"ttHh\"), (\"WHl\", \"ttHl\"), (\"ZHh\", \"ZHl\"),\n",
    "                     (\"ZHh\", \"ZHMET\"), (\"ZHh\", \"ttHh\"), (\"ZHh\", \"ttHl\"), (\"ZHl\", \"ggH\"), (\"ZHl\", \"VBF\"),\n",
    "                     (\"ZHl\", \"WHh\"), (\"ZHl\", \"ZHMET\"), (\"ZHl\", \"ttHh\"), (\"ZHl\", \"ttHl\"), (\"ZHMET\", \"ggH\"),\n",
    "                     (\"ZHMET\", \"VBF\"), (\"ZHMET\", \"WHh\"), (\"ZHMET\", \"ttHh\"), (\"ZHMET\", \"ttHl\"), (\"ttHh\", \"ggH\"),\n",
    "                      (\"ttHh\", \"VBF\"), (\"ttHh\", \"WHh\"), (\"ttHh\", \"ttHl\"), (\"ttHl\", \"ggH\"), (\"ttHl\", \"VBF\"),\n",
    "                     (\"ttHl\", \"WHh\")]"
   ]
  },
  {
   "cell_type": "code",
   "execution_count": 10,
   "metadata": {
    "collapsed": true
   },
   "outputs": [],
   "source": [
    "def extract_order(df, col_basename, sorted_column, columns, order):\n",
    "    def get_index(row, order, col_basename, sorted_column):\n",
    "        sorted_column = row[col_basename + sorted_column]\n",
    "        if order >= len(sorted_column):\n",
    "            return -1\n",
    "        else:\n",
    "            return np.flipud(np.argsort(sorted_column))[order]\n",
    "    \n",
    "    index_column = pd.DataFrame(df.transform(lambda row: get_index(row, order, col_basename, sorted_column), axis = 1, raw = True))\n",
    "    index_column.columns = [\"index\"]\n",
    "    df_temp = pd.concat([index_column, df], axis = 1)\n",
    "    \n",
    "    def get_element(row, column_name):\n",
    "        if row[\"index\"] == -1:\n",
    "            return 0\n",
    "        else:\n",
    "            return row[column_name][row[\"index\"]]\n",
    "        \n",
    "    extracted_cols = pd.DataFrame()\n",
    "    for column in columns:\n",
    "        extracted_col = pd.DataFrame(df_temp.transform(lambda row: get_element(row, col_basename + column), axis = 1, raw = True))\n",
    "        extracted_col.columns = [col_basename + column + \"(\" + col_basename + \"Pt|\" + str(order) + \")\"]\n",
    "        extracted_cols = pd.concat([extracted_cols, extracted_col], axis = 1)\n",
    "        \n",
    "    return extracted_cols"
   ]
  },
  {
   "cell_type": "code",
   "execution_count": 11,
   "metadata": {
    "collapsed": true
   },
   "outputs": [],
   "source": [
    "def prepare_data(df, col_basenames, sorted_column, columns, orders, pt_limits):\n",
    "    all_extracted = pd.DataFrame()\n",
    "    for col_basename, pt_limit in zip(col_basenames, pt_limits):\n",
    "        for order in orders:\n",
    "            extracted = extract_order(df, col_basename, sorted_column, columns, order)\n",
    "            mask = extracted[col_basename + \"Pt(\" + col_basename + \"Pt|\" + str(order) + \")\"] < pt_limit\n",
    "            extracted[mask] = 0.0\n",
    "\n",
    "            all_extracted = pd.concat([all_extracted, extracted], axis = 1)\n",
    "            \n",
    "    return all_extracted"
   ]
  },
  {
   "cell_type": "code",
   "execution_count": 12,
   "metadata": {
    "collapsed": false
   },
   "outputs": [],
   "source": [
    "def get_data(H1_coll, H0_coll, read_branches, input_branches, list_branches, pt_limits):\n",
    "    H1_df = H1_coll.get_data(read_branches, 0.0, 1.0)\n",
    "    H0_df = H0_coll.get_data(read_branches, 0.0, 1.0)\n",
    "    \n",
    "    H1_list_df = prepare_data(H1_df, list_branches, \"Pt\", [\"Pt\", \"Eta\", \"Phi\"], range(4), pt_limits)\n",
    "    H0_list_df = prepare_data(H0_df, list_branches, \"Pt\", [\"Pt\", \"Eta\", \"Phi\"], range(4), pt_limits)\n",
    "    \n",
    "    list_branches_unrolled = H1_list_df.columns\n",
    "            \n",
    "    H1_df = pd.concat([H1_df, H1_list_df], axis = 1)\n",
    "    H0_df = pd.concat([H0_df, H0_list_df], axis = 1)        \n",
    "    \n",
    "    complete_input_branches = np.concatenate([input_branches, list_branches_unrolled])\n",
    "            \n",
    "    H1_df = H1_df[complete_input_branches]\n",
    "    H0_df = H0_df[complete_input_branches]\n",
    "    \n",
    "    return H1_df, H0_df"
   ]
  },
  {
   "cell_type": "code",
   "execution_count": 13,
   "metadata": {
    "collapsed": true
   },
   "outputs": [],
   "source": [
    "def get_data_dmatrix(H1_coll, H0_coll, read_branches, input_branches, list_branches, pt_limits):\n",
    "    H1_df, H0_df = get_data(H1_coll, H0_coll, read_branches, input_branches, list_branches, pt_limits)\n",
    "    \n",
    "    complete_input_branches = H1_df.columns\n",
    "    print \"number of input variables: \" + str(len(complete_input_branches))\n",
    "    print \"final list of inputs: \" + str(complete_input_branches)\n",
    "    \n",
    "    # try with the same weights as used later in the neural network training, to balance out some (very)\n",
    "    # unbalanced datasets\n",
    "    H1_class_weight = 1.0 + float(len(H0_df)) / float(len(H1_df))\n",
    "    H0_class_weight = 1.0 + float(len(H1_df)) / float(len(H0_df))\n",
    "    \n",
    "    print \"using class weights: \" + str(H1_class_weight) + \" (H1), \" + str(H0_class_weight) + \" (H0)\"\n",
    "    \n",
    "    H1_weights = np.full(len(H1_df), H1_class_weight)\n",
    "    H0_weights = np.full(len(H0_df), H0_class_weight)\n",
    "    \n",
    "    H1_data = H1_df.as_matrix()\n",
    "    H0_data = H0_df.as_matrix()\n",
    "    H1_target = np.ones(np.shape(H1_data)[0])\n",
    "    H0_target = np.zeros(np.shape(H0_data)[0])\n",
    "    \n",
    "    target = np.concatenate([H1_target, H0_target])\n",
    "    data = np.concatenate([H1_data, H0_data])\n",
    "    weights = np.concatenate([H1_weights, H0_weights])\n",
    "    \n",
    "    dmatrix = xgb.DMatrix(data, label = target, feature_names = complete_input_branches, weight = weights)\n",
    "    \n",
    "    return dmatrix"
   ]
  },
  {
   "cell_type": "code",
   "execution_count": 14,
   "metadata": {
    "collapsed": true
   },
   "outputs": [],
   "source": [
    "def get_feature_correlation(source, corr_branches, mandatory_branches, optional_branches, list_branches, pt_limits):    \n",
    "    coll = FileCollection(collections[source], 0.0, 0.5)\n",
    "    \n",
    "    input_branches = [branch for branch in mandatory_branches]\n",
    "    \n",
    "    for optional_branch in optional_branches:\n",
    "        if \"0j\" in source and (\"0j\" in optional_branch):\n",
    "            input_branches.append(optional_branch)\n",
    "            \n",
    "        if \"1j\" in source and (\"1j\" in optional_branch):\n",
    "            input_branches.append(optional_branch)\n",
    "            \n",
    "        if \"2j\" in source and (\"2j\" in optional_branch):\n",
    "            input_branches.append(optional_branch)\n",
    "\n",
    "    df, _ = get_data(coll, coll, allbranches, input_branches, list_branches, pt_limits)\n",
    "\n",
    "    df = df[corr_branches]\n",
    "    \n",
    "    fig = plt.figure(figsize=(10,15))\n",
    "    ax = fig.add_subplot(111)\n",
    "    \n",
    "    cax = ax.matshow(df.corr(), vmin = -1.0, vmax = 1.0, cmap = \"RdBu\")\n",
    "    \n",
    "    fig.colorbar(cax)\n",
    "    \n",
    "    ax.xaxis.set_major_locator(ticker.MultipleLocator(1))\n",
    "    ax.yaxis.set_major_locator(ticker.MultipleLocator(1))\n",
    "    \n",
    "    ax.set_yticklabels([''] + corr_branches)\n",
    "    ax.set_xticklabels([''] + corr_branches, rotation = 'vertical')\n",
    "    \n",
    "    return fig"
   ]
  },
  {
   "cell_type": "code",
   "execution_count": 15,
   "metadata": {
    "collapsed": true
   },
   "outputs": [],
   "source": [
    "def get_interpolating_function(data, bins):\n",
    "    bin_centers = [np.mean([bins[i], bins[i + 1]]) for i in range(len(bins) - 1)]\n",
    "    intf = interpolate.interp1d(bin_centers, data, kind = \"linear\")\n",
    "    interpolated_function = lambda x: intf(x) if x > bin_centers[0] and x < bin_centers[-1] else 0\n",
    "    \n",
    "    return interpolated_function"
   ]
  },
  {
   "cell_type": "code",
   "execution_count": 16,
   "metadata": {
    "collapsed": true
   },
   "outputs": [],
   "source": [
    "def get_binned_data(df, branch):\n",
    "    data = df[branch].as_matrix()\n",
    "    weights = df[\"training_weight\"].as_matrix()\n",
    "    \n",
    "    # set the bin width\n",
    "    q75, q25 = np.percentile(data, [75, 25])\n",
    "    bin_width = max(2 * (q75 - q25) / len(data)**0.33, 0.005)\n",
    "\n",
    "    data_max = np.max(data)\n",
    "    data_min = np.min(data)\n",
    "    bins = np.arange(data_min, data_max + bin_width, bin_width)\n",
    "    \n",
    "    weights = weights / (np.sum(weights) * bin_width)\n",
    "    \n",
    "    hist = np.histogram(data, bins = bins, weights = weights)\n",
    "    return hist"
   ]
  },
  {
   "cell_type": "code",
   "execution_count": 17,
   "metadata": {
    "collapsed": false
   },
   "outputs": [],
   "source": [
    "def get_feature_importance_list_BDT(disc_pair, mandatory_branches, optional_branches, list_branches, pt_limits):\n",
    "    H1_name = disc_pair[0]\n",
    "    H0_name = disc_pair[1]\n",
    "    \n",
    "    # first assemble the list of branches that can serve as input: it will *always* contain the mandatory branches,\n",
    "    # and *can* contain some of the optional branches, if the name of the categories allows it\n",
    "    input_branches = [branch for branch in mandatory_branches]\n",
    "    \n",
    "    for optional_branch in optional_branches:\n",
    "        if (\"0j\" in H1_name or \"0j\" in H0_name) and (\"0j\" in optional_branch):\n",
    "            input_branches.append(optional_branch)  \n",
    "        elif (\"1j\" in H1_name or \"1j\" in H0_name) and (\"1j\" in optional_branch):\n",
    "            input_branches.append(optional_branch)\n",
    "        elif (\"2j\" in H1_name or \"2j\" in H0_name) and not (\"1j\" in optional_branch):\n",
    "            input_branches.append(optional_branch)\n",
    "            \n",
    "        # the fully inclusive categories (i.e. those with NO \"xxj\" in their name, can not use MELA, since there may\n",
    "        # be events with low number of jets contained)\n",
    "    \n",
    "    # get the training data for the BDT ...\n",
    "    H1_coll_train = FileCollection(collections[H1_name], 0.0, 0.5)\n",
    "    H0_coll_train = FileCollection(collections[H0_name], 0.0, 0.5)\n",
    "    \n",
    "    dtrain = get_data_dmatrix(H1_coll_train, H0_coll_train, allbranches, input_branches, list_branches, pt_limits)\n",
    "    \n",
    "    # ... and the validation data as well\n",
    "    H1_coll_val = FileCollection(collections[H1_name], 0.5, 1.0)\n",
    "    H0_coll_val = FileCollection(collections[H0_name], 0.5, 1.0)\n",
    "    dval = get_data_dmatrix(H1_coll_val, H0_coll_val, allbranches, input_branches, list_branches, pt_limits)\n",
    "    \n",
    "    evallist = [(dtrain, 'train'), (dval, 'eval')]\n",
    "    \n",
    "    # perform the training\n",
    "    # try different tree depths and choose the one that gives the best RMSE (i.e. avoid too deep trees to start with)\n",
    "        \n",
    "    params = {'eta': 0.01, 'silent': 1, 'gamma': 0.5, 'objective': 'binary:logistic'}\n",
    "    params['nthread'] = 16\n",
    "    params['eval_metric'] = 'rmse'\n",
    "    max_num_rounds = 2000\n",
    "    \n",
    "    best_loss = 1e6\n",
    "    best_imp = None\n",
    "    best_params = None\n",
    "    for tree_depth in range(1,8):\n",
    "        params['max_depth'] = tree_depth\n",
    "        \n",
    "        bst = xgb.train(params, dtrain, max_num_rounds, evals = evallist, early_stopping_rounds = 10, verbose_eval = False)\n",
    "    \n",
    "        pred = bst.predict(dval)\n",
    "        cur_loss = np.sqrt(mean_squared_error(pred, dval.get_label()))\n",
    "        cur_imp = bst.get_fscore()\n",
    "\n",
    "        print \"for max_depth = \" + str(params['max_depth']) + \": loss = \" + str(cur_loss)\n",
    "        \n",
    "        if cur_loss < best_loss:\n",
    "            best_loss = cur_loss\n",
    "            best_imp = copy.copy(cur_imp)\n",
    "            best_params = copy.copy(params)\n",
    "            \n",
    "    # normalize the usage score w.r.t. the total score (i.e. sum of all individuals)\n",
    "    score_sum = sum([val for key, val in best_imp.iteritems()])\n",
    "    used_variables = {key: val / float(score_sum) for key, val in sorted(best_imp.iteritems(), key = lambda x: x[1], reverse = True)}           \n",
    "    return best_params, dtrain.feature_names, used_variables"
   ]
  },
  {
   "cell_type": "code",
   "execution_count": 18,
   "metadata": {
    "collapsed": false
   },
   "outputs": [],
   "source": [
    "def get_histogram(df, branch, label):\n",
    "    data = df[branch].as_matrix()\n",
    "    weights = df[\"training_weight\"].as_matrix()\n",
    "    \n",
    "    # set the bin width\n",
    "    q75, q25 = np.percentile(data, [75, 25])\n",
    "    bin_width = max(2 * (q75 - q25) / len(data)**0.33, 0.005)\n",
    "\n",
    "    data_max = np.max(data)\n",
    "    data_min = np.min(data)\n",
    "    bins = np.arange(data_min, data_max + bin_width, bin_width)\n",
    "    \n",
    "    weights = weights / (np.sum(weights) * bin_width)\n",
    "    \n",
    "    fig = plt.hist(data, bins = bins, weights = weights, alpha = 0.5, label = label)\n",
    "    return fig"
   ]
  },
  {
   "cell_type": "code",
   "execution_count": 19,
   "metadata": {
    "collapsed": true
   },
   "outputs": [],
   "source": [
    "def plot_branch(disc_pair, branch, start_fraction = 0.0, end_fraction = 1.0):\n",
    "    H1_name = disc_pair[0]\n",
    "    H0_name = disc_pair[1]\n",
    "    \n",
    "    # get the training data for the BDT ...\n",
    "    H1_coll = FileCollection(collections[H1_name], start_fraction, end_fraction)\n",
    "    H0_coll = FileCollection(collections[H0_name], start_fraction, end_fraction)\n",
    "    \n",
    "    H1_df, H0_df = get_data(H1_coll, H0_coll, allbranches, allbranches, list_branches, pt_limits)\n",
    "    \n",
    "    plt.figure()\n",
    "    H1_hist = get_histogram(H1_df, branch, H1_name)\n",
    "    H0_hist = get_histogram(H0_df, branch, H0_name)\n",
    "    \n",
    "    plt.legend(loc = 'upper right')\n",
    "    plt.show()"
   ]
  },
  {
   "cell_type": "code",
   "execution_count": 20,
   "metadata": {
    "collapsed": false
   },
   "outputs": [],
   "source": [
    "def plot_variables(discs):\n",
    "    plotframe = pd.DataFrame()\n",
    "    \n",
    "    for disc in discs:\n",
    "        _, _, implist = get_feature_importance_list_BDT(disc, candidate_branches, MELA_branches, list_branches, pt_limits)\n",
    "        \n",
    "        # cut the list to select only the 95% most important variables\n",
    "        cutimplist = {key: val for key, val in implist.iteritems() if val > 0.00}\n",
    "        curframe = pd.DataFrame(cutimplist, index = [len(plotframe)])\n",
    "        \n",
    "        plotframe = pd.concat([plotframe, curframe])\n",
    "        \n",
    "    plotframe = plotframe.fillna(0.0)\n",
    "    \n",
    "    print plotframe\n",
    "    print \"number of pre-selected input variables = \" + str(len(plotframe.columns))\n",
    "    \n",
    "    # start the plotting\n",
    "    parameters = plotframe.columns\n",
    "    plotdata = np.transpose(plotframe.as_matrix())\n",
    "    \n",
    "    plt.close('all')\n",
    "    fig = plt.figure(figsize=(10,15))\n",
    "    ax = fig.add_subplot(111)\n",
    "    cax = ax.matshow(plotdata, cmap = 'Blues')\n",
    "    \n",
    "    # make axis labels\n",
    "    disclabels = []\n",
    "    for disc in discs:\n",
    "        if \"0j\" in disc[0] or \"0j\" in disc[1]:\n",
    "            disclabels.append('D_' + re.sub('0j', '', disc[0]) + \"_\" + re.sub('0j', '', disc[1]) + \"_0j\")\n",
    "        elif \"01j\" in disc[0] or \"01j\" in disc[1]:\n",
    "            disclabels.append('D_' + re.sub('01j', '', disc[0]) + \"_\" + re.sub('01j', '', disc[1]) + \"_01j\")\n",
    "        elif \"1j\" in disc[0] or \"1j\" in disc[1]:\n",
    "            disclabels.append('D_' + re.sub('1j', '', disc[0]) + \"_\" + re.sub('1j', '', disc[1]) + \"_1j\")\n",
    "        elif \"2j\" in disc[0] or \"2j\" in disc[1]:\n",
    "            disclabels.append('D_' + re.sub('2j', '', disc[0]) + \"_\" + re.sub('2j', '', disc[1]) + \"_2j\")\n",
    "        else:\n",
    "            disclabels.append('D_' + disc[0] + \"_\" + disc[1] + \"_2j\")\n",
    "            \n",
    "    disclabels = np.concatenate([[''], np.array(disclabels)])\n",
    "    parameters = np.concatenate([[''], np.array(parameters)])\n",
    "        \n",
    "    ax.set_xticklabels(disclabels, rotation = 'vertical')\n",
    "    ax.set_yticklabels(parameters)\n",
    "    \n",
    "    ax.xaxis.set_major_locator(ticker.MultipleLocator(1))\n",
    "    ax.yaxis.set_major_locator(ticker.MultipleLocator(1))\n",
    "    \n",
    "    # sort the used variables according to their importance\n",
    "    sorted_implist = []\n",
    "    for key, val in sorted(cutimplist.iteritems(), key = lambda x: x[1], reverse = True):\n",
    "        sorted_implist.append((key, val))\n",
    "    \n",
    "    return fig, sorted_implist"
   ]
  },
  {
   "cell_type": "code",
   "execution_count": 21,
   "metadata": {
    "collapsed": true
   },
   "outputs": [],
   "source": [
    "def append_variables(confhandler, impdict, threshold_fscore):\n",
    "    confhandler.new_section(impdict[\"discriminant\"])\n",
    "    cur_sec = confhandler.get_section(impdict[\"discriminant\"])\n",
    "\n",
    "    periodic_inputs = []\n",
    "    nonperiodic_inputs = []\n",
    "    for key, val in impdict.iteritems():\n",
    "        if val[0] > threshold_fscore and key is not \"discriminant\":\n",
    "            if \"phi\" in key or \"Phi\" in key:\n",
    "                periodic_inputs.append(key)\n",
    "            else:\n",
    "                nonperiodic_inputs.append(key)\n",
    "    cur_sec[\"nonperiodic_columns\"] = ConfigFileUtils.serialize_list(nonperiodic_inputs, lambda x: x)\n",
    "    cur_sec[\"periodic_columns\"] = ConfigFileUtils.serialize_list(periodic_inputs, lambda x: x)"
   ]
  },
  {
   "cell_type": "code",
   "execution_count": 22,
   "metadata": {
    "collapsed": true
   },
   "outputs": [],
   "source": [
    "def convert_varname(raw):\n",
    "    raw = raw.replace('(', '[')\n",
    "    raw = raw.replace(')', ']')\n",
    "    return raw"
   ]
  },
  {
   "cell_type": "code",
   "execution_count": 23,
   "metadata": {
    "collapsed": true
   },
   "outputs": [],
   "source": [
    "df = pd.DataFrame()"
   ]
  },
  {
   "cell_type": "code",
   "execution_count": 24,
   "metadata": {
    "collapsed": false
   },
   "outputs": [],
   "source": [
    "out_dir = \"/data_CMS/cms/wind/InputConfigurations/\"\n",
    "#out_path = os.path.join(out_dir, \"inclusive_99_fullmassrange_ZZMask.conf\")\n",
    "out_path = os.path.join(out_dir, \"background_ZXmixed.conf\")\n",
    "threshold_fscore = 0.01"
   ]
  },
  {
   "cell_type": "code",
   "execution_count": 25,
   "metadata": {
    "collapsed": true
   },
   "outputs": [],
   "source": [
    "confhandler = ConfigFileHandler()"
   ]
  },
  {
   "cell_type": "code",
   "execution_count": 26,
   "metadata": {
    "collapsed": false
   },
   "outputs": [],
   "source": [
    "%%capture\n",
    "fig, implist = plot_variables([(\"ggH\", \"bck\")])"
   ]
  },
  {
   "cell_type": "code",
   "execution_count": 27,
   "metadata": {
    "collapsed": false
   },
   "outputs": [],
   "source": [
    "impdict = {convert_varname(entry[0]): [entry[1]] for entry in implist}\n",
    "impdict[\"discriminant\"] = \"D_ggH_bkg_ML\"\n",
    "df = df.append(pd.DataFrame.from_dict(impdict))"
   ]
  },
  {
   "cell_type": "code",
   "execution_count": 28,
   "metadata": {
    "collapsed": true
   },
   "outputs": [],
   "source": [
    "append_variables(confhandler, impdict, threshold_fscore)"
   ]
  },
  {
   "cell_type": "code",
   "execution_count": 29,
   "metadata": {
    "collapsed": false
   },
   "outputs": [
    {
     "data": {
      "text/plain": [
       "[('Z1Mass', 0.0918911400621262),\n",
       " ('Z2Mass', 0.07695071630580927),\n",
       " ('Z2Pt', 0.06829245676665585),\n",
       " ('Z1Pt', 0.06220733460058417),\n",
       " ('ZZPt', 0.0578955908943391),\n",
       " ('ZZMassErr', 0.057860818767675834),\n",
       " ('D_bkg_ME', 0.05563540266122676),\n",
       " ('PFMET', 0.045203764662246744),\n",
       " ('helcosthetaZ2', 0.03946636376280773),\n",
       " ('costhetastar', 0.038817284065093424),\n",
       " ('helcosthetaZ1', 0.03754230608744031),\n",
       " ('helphi', 0.03735685474523622),\n",
       " ('ZZEta', 0.034065093421113635),\n",
       " ('ZZPhi', 0.03340442301451157),\n",
       " ('JetPt(JetPt|0)', 0.03132968612360332),\n",
       " ('phistarZ1', 0.030367657285919607),\n",
       " ('xistar', 0.02846678102832769),\n",
       " ('D_VBF1j_ggH_ME', 0.02228893319115397),\n",
       " ('Z2Flav', 0.02220779822893968),\n",
       " ('ZZMass_masked', 0.01831332004265381),\n",
       " ('D_WHh_ZHh_ME', 0.018011961611572164),\n",
       " ('JetEta(JetPt|0)', 0.017861282396031342),\n",
       " ('JetPhi(JetPt|0)', 0.017594696091612964),\n",
       " ('Z1Flav', 0.007928044879224813),\n",
       " ('nCleanedJetsPt30BTagged_bTagSF', 0.005354907506143076),\n",
       " ('D_ZHh_ggH_ME', 0.005354907506143076),\n",
       " ('JetPt(JetPt|1)', 0.005041958366173676),\n",
       " ('JetEta(JetPt|1)', 0.004647874263989986),\n",
       " ('D_VBF2j_ggH_ME', 0.004555148592887941),\n",
       " ('ExtraLepPhi(ExtraLepPt|0)', 0.004172655199592007),\n",
       " ('JetPhi(JetPt|1)', 0.002862905095275627),\n",
       " ('D_WHh_ggH_ME', 0.00261950020863276),\n",
       " ('ExtraLepPt(ExtraLepPt|0)', 0.0025151838286429596),\n",
       " ('D_VBF2j_ZHh_ME', 0.0024108674486531595),\n",
       " ('D_VBF2j_WHh_ME', 0.002039964764244981),\n",
       " ('JetPhi(JetPt|2)', 0.0014952014465204693),\n",
       " ('ExtraLepEta(ExtraLepPt|0)', 0.0011127080532245353),\n",
       " ('JetPt(JetPt|2)', 0.0010779359265612684),\n",
       " ('nCleanedJetsPt30', 0.0010199823821224906),\n",
       " ('JetEta(JetPt|2)', 0.000927256711020446),\n",
       " ('JetEta(JetPt|3)', 0.0006027168621632899),\n",
       " ('JetPt(JetPt|3)', 0.0005331726088367565),\n",
       " ('JetPhi(JetPt|3)', 0.00048680977328573416),\n",
       " ('nExtraLep', 0.00020863275997960035)]"
      ]
     },
     "execution_count": 29,
     "metadata": {},
     "output_type": "execute_result"
    }
   ],
   "source": [
    "implist"
   ]
  },
  {
   "cell_type": "code",
   "execution_count": 30,
   "metadata": {
    "collapsed": false
   },
   "outputs": [],
   "source": [
    "%%capture\n",
    "fig, implist = plot_variables([(\"VBF\", \"bck\")])"
   ]
  },
  {
   "cell_type": "code",
   "execution_count": 31,
   "metadata": {
    "collapsed": true
   },
   "outputs": [],
   "source": [
    "impdict = {convert_varname(entry[0]): [entry[1]] for entry in implist}\n",
    "impdict[\"discriminant\"] = \"D_VBF_bkg_ML\"\n",
    "df = df.append(pd.DataFrame.from_dict(impdict))"
   ]
  },
  {
   "cell_type": "code",
   "execution_count": 32,
   "metadata": {
    "collapsed": true
   },
   "outputs": [],
   "source": [
    "append_variables(confhandler, impdict, threshold_fscore)"
   ]
  },
  {
   "cell_type": "code",
   "execution_count": 33,
   "metadata": {
    "collapsed": false
   },
   "outputs": [
    {
     "data": {
      "text/plain": [
       "[('Z1Mass', 0.07739840654546495),\n",
       " ('Z2Pt', 0.06385261260745806),\n",
       " ('Z2Mass', 0.06356653459398377),\n",
       " ('D_bkg_ME', 0.059389795597259376),\n",
       " ('ZZPt', 0.05778775872180344),\n",
       " ('ZZMassErr', 0.056986740284075466),\n",
       " ('PFMET', 0.05010656406001917),\n",
       " ('Z1Pt', 0.04650198109024331),\n",
       " ('JetPt(JetPt|0)', 0.03824863040151049),\n",
       " ('costhetastar', 0.03694697544020254),\n",
       " ('helphi', 0.034372273318934075),\n",
       " ('helcosthetaZ2', 0.03365707828524839),\n",
       " ('ZZEta', 0.032727324741456995),\n",
       " ('JetEta(JetPt|0)', 0.032627197436741),\n",
       " ('D_VBF1j_ggH_ME', 0.028736536453490866),\n",
       " ('Z2Flav', 0.02820729212856346),\n",
       " ('xistar', 0.026605255253107522),\n",
       " ('ZZPhi', 0.026147530431548684),\n",
       " ('phistarZ1', 0.025346511993820715),\n",
       " ('helcosthetaZ1', 0.02448827795339789),\n",
       " ('D_WHh_ZHh_ME', 0.020969518387664317),\n",
       " ('ZZMass_masked', 0.017894179742815867),\n",
       " ('JetPhi(JetPt|0)', 0.016835691092961052),\n",
       " ('D_VBF2j_ggH_ME', 0.01571998684041138),\n",
       " ('JetEta(JetPt|1)', 0.010427543591137303),\n",
       " ('D_ZHh_ggH_ME', 0.009740956358799045),\n",
       " ('Z1Flav', 0.0075381556550471315),\n",
       " ('JetPt(JetPt|1)', 0.007166254237530575),\n",
       " ('D_VBF2j_ZHh_ME', 0.00637953970047632),\n",
       " ('ExtraLepPt(ExtraLepPt|0)', 0.005163708143210654),\n",
       " ('nCleanedJetsPt30BTagged_bTagSF', 0.005006365235799803),\n",
       " ('JetEta(JetPt|2)', 0.0048204145270415244),\n",
       " ('JetPhi(JetPt|1)', 0.00419104289739812),\n",
       " ('JetPt(JetPt|2)', 0.0039335726852712735),\n",
       " ('D_WHh_ggH_ME', 0.003761925877186709),\n",
       " ('D_VBF2j_WHh_ME', 0.003490151764386148),\n",
       " ('ExtraLepPhi(ExtraLepPt|0)', 0.0033042010556278696),\n",
       " ('ExtraLepEta(ExtraLepPt|0)', 0.0024459670152050463),\n",
       " ('JetPhi(JetPt|2)', 0.002317231909141623),\n",
       " ('nCleanedJetsPt30', 0.0019167226902776387),\n",
       " ('JetPhi(JetPt|3)', 0.0011443120538970977),\n",
       " ('JetPt(JetPt|3)', 0.0010584886498548154),\n",
       " ('JetEta(JetPt|3)', 0.000972665245812533),\n",
       " ('nExtraLep', 0.00010012730471599605)]"
      ]
     },
     "execution_count": 33,
     "metadata": {},
     "output_type": "execute_result"
    }
   ],
   "source": [
    "implist"
   ]
  },
  {
   "cell_type": "code",
   "execution_count": 34,
   "metadata": {
    "collapsed": false
   },
   "outputs": [],
   "source": [
    "%%capture\n",
    "fig, implist = plot_variables([(\"ZHl\", \"bck\")])"
   ]
  },
  {
   "cell_type": "code",
   "execution_count": 35,
   "metadata": {
    "collapsed": true
   },
   "outputs": [],
   "source": [
    "impdict = {convert_varname(entry[0]): [entry[1]] for entry in implist}\n",
    "impdict[\"discriminant\"] = \"D_ZHl_bkg_ML\"\n",
    "df = df.append(pd.DataFrame.from_dict(impdict))"
   ]
  },
  {
   "cell_type": "code",
   "execution_count": 36,
   "metadata": {
    "collapsed": true
   },
   "outputs": [],
   "source": [
    "append_variables(confhandler, impdict, threshold_fscore)"
   ]
  },
  {
   "cell_type": "code",
   "execution_count": 37,
   "metadata": {
    "collapsed": false
   },
   "outputs": [
    {
     "data": {
      "text/plain": [
       "[('Z2Mass', 0.07316437053174189),\n",
       " ('Z2Pt', 0.06285477585836581),\n",
       " ('ZZPt', 0.06041545211868307),\n",
       " ('Z1Mass', 0.059602344205455494),\n",
       " ('PFMET', 0.05905004449081035),\n",
       " ('D_bkg_ME', 0.05300543094719401),\n",
       " ('ZZMassErr', 0.05187014820042343),\n",
       " ('ZZEta', 0.04415329385413151),\n",
       " ('helcosthetaZ2', 0.041315086987205055),\n",
       " ('JetPt(JetPt|0)', 0.04002638765303305),\n",
       " ('costhetastar', 0.03705010585744531),\n",
       " ('Z1Pt', 0.035546623300911295),\n",
       " ('JetEta(JetPt|0)', 0.029164493265011814),\n",
       " ('helcosthetaZ1', 0.028044552176981374),\n",
       " ('ZZPhi', 0.02772237734343837),\n",
       " ('D_VBF1j_ggH_ME', 0.026801877819029794),\n",
       " ('ZZMass_masked', 0.026541069620447364),\n",
       " ('phistarZ1', 0.025313736921235924),\n",
       " ('helphi', 0.02399435426958363),\n",
       " ('xistar', 0.02370286275352091),\n",
       " ('Z2Flav', 0.021785155411003038),\n",
       " ('JetPhi(JetPt|0)', 0.01799576570218772),\n",
       " ('D_WHh_ggH_ME', 0.013638734619987113),\n",
       " ('ExtraLepPt(ExtraLepPt|0)', 0.013592709643766684),\n",
       " ('JetPhi(JetPt|1)', 0.012534135190696818),\n",
       " ('D_VBF2j_ggH_ME', 0.011276119174005093),\n",
       " ('JetEta(JetPt|1)', 0.00940443680770765),\n",
       " ('D_ZHh_ggH_ME', 0.008852137093062502),\n",
       " ('JetPt(JetPt|1)', 0.006198030131017765),\n",
       " ('Z1Flav', 0.005599705440152189),\n",
       " ('nCleanedJetsPt30BTagged_bTagSF', 0.00555368046393176),\n",
       " ('D_VBF2j_WHh_ME', 0.0053082139240894725),\n",
       " ('D_WHh_ZHh_ME', 0.005231505630388758),\n",
       " ('ExtraLepEta(ExtraLepPt|0)', 0.0050013807492866125),\n",
       " ('ExtraLepPhi(ExtraLepPt|0)', 0.0039428062962167465),\n",
       " ('JetPt(JetPt|2)', 0.003927464637476604),\n",
       " ('JetPhi(JetPt|2)', 0.0036052898039336014),\n",
       " ('D_VBF2j_ZHh_ME', 0.0035132398514927435),\n",
       " ('ExtraLepPt(ExtraLepPt|1)', 0.0034058482403117427),\n",
       " ('JetEta(JetPt|2)', 0.003298456629130742),\n",
       " ('JetPt(JetPt|3)', 0.0017336074376361572),\n",
       " ('nExtraLep', 0.0017029241201558713),\n",
       " ('nCleanedJetsPt30', 0.0013960909453530116),\n",
       " ('JetEta(JetPt|3)', 0.0009358411831487221),\n",
       " ('JetPhi(JetPt|3)', 0.0006750329845662913),\n",
       " ('nExtraZ', 0.0005522997146451474)]"
      ]
     },
     "execution_count": 37,
     "metadata": {},
     "output_type": "execute_result"
    }
   ],
   "source": [
    "implist"
   ]
  },
  {
   "cell_type": "code",
   "execution_count": 38,
   "metadata": {
    "collapsed": false
   },
   "outputs": [],
   "source": [
    "%%capture\n",
    "fig, implist = plot_variables([(\"ZHh\", \"bck\")])"
   ]
  },
  {
   "cell_type": "code",
   "execution_count": 39,
   "metadata": {
    "collapsed": true
   },
   "outputs": [],
   "source": [
    "impdict = {convert_varname(entry[0]): [entry[1]] for entry in implist}\n",
    "impdict[\"discriminant\"] = \"D_ZHh_bkg_ML\"\n",
    "df = df.append(pd.DataFrame.from_dict(impdict))"
   ]
  },
  {
   "cell_type": "code",
   "execution_count": 40,
   "metadata": {
    "collapsed": true
   },
   "outputs": [],
   "source": [
    "append_variables(confhandler, impdict, threshold_fscore)"
   ]
  },
  {
   "cell_type": "code",
   "execution_count": 41,
   "metadata": {
    "collapsed": false
   },
   "outputs": [
    {
     "data": {
      "text/plain": [
       "[('Z1Mass', 0.09117786697742673),\n",
       " ('Z2Pt', 0.088933488713367),\n",
       " ('ZZMassErr', 0.06366265268246364),\n",
       " ('D_bkg_ME', 0.05563468427640381),\n",
       " ('PFMET', 0.050800638784582845),\n",
       " ('Z2Mass', 0.04954896629116492),\n",
       " ('helcosthetaZ2', 0.048923130044455955),\n",
       " ('Z2Flav', 0.045642884889291725),\n",
       " ('ZZPt', 0.045642884889291725),\n",
       " ('Z1Pt', 0.039794553066597606),\n",
       " ('JetPt(JetPt|0)', 0.0352842159782468),\n",
       " ('ZZMass_masked', 0.034679960291769174),\n",
       " ('ZZEta', 0.028270533903060124),\n",
       " ('D_WHh_ZHh_ME', 0.0254866416332168),\n",
       " ('helcosthetaZ1', 0.025098191549052615),\n",
       " ('costhetastar', 0.02483922482627649),\n",
       " ('D_ZHh_ggH_ME', 0.024429194181880963),\n",
       " ('JetEta(JetPt|0)', 0.022098493676895852),\n",
       " ('D_WHh_ggH_ME', 0.0214294963097242),\n",
       " ('D_VBF1j_ggH_ME', 0.021407915749492856),\n",
       " ('helphi', 0.020997885105097328),\n",
       " ('phistarZ1', 0.020782079502783893),\n",
       " ('xistar', 0.019487245888903278),\n",
       " ('ZZPhi', 0.019379343087746557),\n",
       " ('JetPhi(JetPt|0)', 0.012171435970477793),\n",
       " ('JetPhi(JetPt|1)', 0.0074237127195822),\n",
       " ('D_VBF2j_ggH_ME', 0.0072079071172687645),\n",
       " ('JetPt(JetPt|1)', 0.007078423755880703),\n",
       " ('D_VBF2j_WHh_ME', 0.006948940394492641),\n",
       " ('nCleanedJetsPt30BTagged_bTagSF', 0.00604255686477621),\n",
       " ('D_VBF2j_ZHh_ME', 0.005848331822694117),\n",
       " ('Z1Flav', 0.004769303811126937),\n",
       " ('JetPt(JetPt|2)', 0.004337692606500064),\n",
       " ('JetEta(JetPt|1)', 0.004316112046268721),\n",
       " ('JetEta(JetPt|3)', 0.0027623117096119815),\n",
       " ('JetPhi(JetPt|2)', 0.0023091199447537658),\n",
       " ('JetEta(JetPt|2)', 0.0019854115412836115),\n",
       " ('ExtraLepEta(ExtraLepPt|0)', 0.0006905779274029954),\n",
       " ('JetPt(JetPt|3)', 0.0006689973671716518),\n",
       " ('ExtraLepPt(ExtraLepPt|0)', 0.0006258362467089645),\n",
       " ('nCleanedJetsPt30', 0.0005179334455522465),\n",
       " ('JetPhi(JetPt|3)', 0.0004316112046268721),\n",
       " ('nExtraLep', 0.0003452889637014977),\n",
       " ('ExtraLepPhi(ExtraLepPt|0)', 8.632224092537442e-05)]"
      ]
     },
     "execution_count": 41,
     "metadata": {},
     "output_type": "execute_result"
    }
   ],
   "source": [
    "implist"
   ]
  },
  {
   "cell_type": "code",
   "execution_count": 42,
   "metadata": {
    "collapsed": false
   },
   "outputs": [],
   "source": [
    "%%capture\n",
    "fig, implist = plot_variables([(\"WHl\", \"bck\")])"
   ]
  },
  {
   "cell_type": "code",
   "execution_count": 43,
   "metadata": {
    "collapsed": true
   },
   "outputs": [],
   "source": [
    "impdict = {convert_varname(entry[0]): [entry[1]] for entry in implist}\n",
    "impdict[\"discriminant\"] = \"D_WHl_bkg_ML\"\n",
    "df = df.append(pd.DataFrame.from_dict(impdict))"
   ]
  },
  {
   "cell_type": "code",
   "execution_count": 44,
   "metadata": {
    "collapsed": true
   },
   "outputs": [],
   "source": [
    "append_variables(confhandler, impdict, threshold_fscore)"
   ]
  },
  {
   "cell_type": "code",
   "execution_count": 45,
   "metadata": {
    "collapsed": false
   },
   "outputs": [
    {
     "data": {
      "text/plain": [
       "[('Z2Pt', 0.07856231154849332),\n",
       " ('Z1Mass', 0.07210640226419282),\n",
       " ('Z2Mass', 0.07023807321630071),\n",
       " ('PFMET', 0.06507704545034129),\n",
       " ('ZZMassErr', 0.06454059453559999),\n",
       " ('D_bkg_ME', 0.05913908877337724),\n",
       " ('ZZPt', 0.053275125326032666),\n",
       " ('helcosthetaZ2', 0.052202223496550064),\n",
       " ('Z2Flav', 0.04167668658317764),\n",
       " ('ZZMass_masked', 0.04052979152407555),\n",
       " ('Z1Pt', 0.03538726206552101),\n",
       " ('costhetastar', 0.03470282469154072),\n",
       " ('ZZEta', 0.034184872084204294),\n",
       " ('ExtraLepPt(ExtraLepPt|0)', 0.02946780369596182),\n",
       " ('helcosthetaZ1', 0.02909783754786437),\n",
       " ('helphi', 0.02608261344087016),\n",
       " ('JetPt(JetPt|0)', 0.025916128674226307),\n",
       " ('phistarZ1', 0.02044062968238406),\n",
       " ('xistar', 0.02029264322314508),\n",
       " ('ZZPhi', 0.019182744778852734),\n",
       " ('JetEta(JetPt|0)', 0.017110934349507022),\n",
       " ('JetPhi(JetPt|0)', 0.014003218705488448),\n",
       " ('D_WHh_ZHh_ME', 0.0110804861355186),\n",
       " ('D_VBF1j_ggH_ME', 0.010044580920845743),\n",
       " ('D_VBF2j_WHh_ME', 0.00995208938382138),\n",
       " ('ExtraLepEta(ExtraLepPt|0)', 0.0092676520098411),\n",
       " ('nCleanedJetsPt30BTagged_bTagSF', 0.007769289110046431),\n",
       " ('Z1Flav', 0.006770380510183319),\n",
       " ('ExtraLepPhi(ExtraLepPt|0)', 0.006270926210251762),\n",
       " ('JetPhi(JetPt|1)', 0.005567990528866609),\n",
       " ('JetPt(JetPt|1)', 0.005290515917793522),\n",
       " ('JetEta(JetPt|1)', 0.004661573466027858),\n",
       " ('D_VBF2j_ggH_ME', 0.0032742004106624243),\n",
       " ('JetPhi(JetPt|2)', 0.0026267596514918884),\n",
       " ('D_VBF2j_ZHh_ME', 0.002478773192252909),\n",
       " ('D_ZHh_ggH_ME', 0.002367783347823674),\n",
       " ('D_WHh_ggH_ME', 0.0018868273552969904),\n",
       " ('JetEta(JetPt|2)', 0.001868329047892118),\n",
       " ('nCleanedJetsPt30', 0.001627851051628776),\n",
       " ('ExtraLepPt(ExtraLepPt|1)', 0.0008509221406241329),\n",
       " ('JetPhi(JetPt|3)', 0.0007029356813851533),\n",
       " ('JetPt(JetPt|2)', 0.0005549492221461736),\n",
       " ('JetEta(JetPt|3)', 0.0005179526073364287),\n",
       " ('nExtraLep', 0.000406962762907194),\n",
       " ('ExtraLepEta(ExtraLepPt|1)', 0.00031447122588283173),\n",
       " ('JetPt(JetPt|3)', 0.00031447122588283173),\n",
       " ('ExtraLepPhi(ExtraLepPt|1)', 0.00031447122588283173)]"
      ]
     },
     "execution_count": 45,
     "metadata": {},
     "output_type": "execute_result"
    }
   ],
   "source": [
    "implist"
   ]
  },
  {
   "cell_type": "code",
   "execution_count": 46,
   "metadata": {
    "collapsed": false
   },
   "outputs": [],
   "source": [
    "%%capture\n",
    "fig, implist = plot_variables([(\"WHh\", \"bck\")])"
   ]
  },
  {
   "cell_type": "code",
   "execution_count": 47,
   "metadata": {
    "collapsed": true
   },
   "outputs": [],
   "source": [
    "impdict = {convert_varname(entry[0]): [entry[1]] for entry in implist}\n",
    "impdict[\"discriminant\"] = \"D_WHh_bkg_ML\"\n",
    "df = df.append(pd.DataFrame.from_dict(impdict))"
   ]
  },
  {
   "cell_type": "code",
   "execution_count": 48,
   "metadata": {
    "collapsed": true
   },
   "outputs": [],
   "source": [
    "append_variables(confhandler, impdict, threshold_fscore)"
   ]
  },
  {
   "cell_type": "code",
   "execution_count": 49,
   "metadata": {
    "collapsed": false
   },
   "outputs": [
    {
     "data": {
      "text/plain": [
       "[('Z1Mass', 0.07594578668238067),\n",
       " ('Z2Pt', 0.06787271655863288),\n",
       " ('Z2Mass', 0.061661756040070716),\n",
       " ('ZZMassErr', 0.06064820271066588),\n",
       " ('D_bkg_ME', 0.059964643488509134),\n",
       " ('ZZPt', 0.055120801414260456),\n",
       " ('PFMET', 0.046434885091337655),\n",
       " ('Z1Pt', 0.04089569829110194),\n",
       " ('JetPt(JetPt|0)', 0.03849145550972304),\n",
       " ('ZZEta', 0.03705362404242781),\n",
       " ('costhetastar', 0.0326694166175604),\n",
       " ('helcosthetaZ2', 0.031997642899233944),\n",
       " ('phistarZ1', 0.030430170889805538),\n",
       " ('JetEta(JetPt|0)', 0.030088391278727165),\n",
       " ('Z2Flav', 0.029723040659988216),\n",
       " ('xistar', 0.029263406010606955),\n",
       " ('helcosthetaZ1', 0.028461991750147318),\n",
       " ('helphi', 0.025857395403653505),\n",
       " ('ZZPhi', 0.023806717737183264),\n",
       " ('D_WHh_ZHh_ME', 0.02347672362993518),\n",
       " ('D_VBF1j_ggH_ME', 0.02121390689451974),\n",
       " ('ZZMass_masked', 0.018467884502062465),\n",
       " ('JetPhi(JetPt|0)', 0.01730111962286388),\n",
       " ('JetPt(JetPt|1)', 0.013447259870359458),\n",
       " ('D_WHh_ggH_ME', 0.011667648791985858),\n",
       " ('D_VBF2j_ggH_ME', 0.01033588685916323),\n",
       " ('JetPhi(JetPt|1)', 0.009805539186800235),\n",
       " ('D_ZHh_ggH_ME', 0.009793753682969947),\n",
       " ('Z1Flav', 0.0076134354743665296),\n",
       " ('D_VBF2j_WHh_ME', 0.006446670595167943),\n",
       " ('JetEta(JetPt|1)', 0.006446670595167943),\n",
       " ('nCleanedJetsPt30BTagged_bTagSF', 0.00610489098408957),\n",
       " ('D_VBF2j_ZHh_ME', 0.005798467884502063),\n",
       " ('JetPt(JetPt|2)', 0.004254566882734237),\n",
       " ('JetEta(JetPt|2)', 0.0037831467295226873),\n",
       " ('JetEta(JetPt|3)', 0.0033942251031231587),\n",
       " ('ExtraLepEta(ExtraLepPt|0)', 0.00309958750736594),\n",
       " ('JetPhi(JetPt|2)', 0.0028992339422510313),\n",
       " ('ExtraLepPhi(ExtraLepPt|0)', 0.002569239835002946),\n",
       " ('JetPhi(JetPt|3)', 0.002357100766057749),\n",
       " ('ExtraLepPt(ExtraLepPt|0)', 0.002121390689451974),\n",
       " ('nCleanedJetsPt30', 0.0009074837949322334),\n",
       " ('nExtraLep', 0.00017678255745433118),\n",
       " ('JetPt(JetPt|3)', 0.0001296405421331762)]"
      ]
     },
     "execution_count": 49,
     "metadata": {},
     "output_type": "execute_result"
    }
   ],
   "source": [
    "implist"
   ]
  },
  {
   "cell_type": "code",
   "execution_count": 50,
   "metadata": {
    "collapsed": false
   },
   "outputs": [],
   "source": [
    "%%capture\n",
    "fig, implist = plot_variables([(\"ZHMET\", \"bck\")])"
   ]
  },
  {
   "cell_type": "code",
   "execution_count": 51,
   "metadata": {
    "collapsed": true
   },
   "outputs": [],
   "source": [
    "impdict = {convert_varname(entry[0]): [entry[1]] for entry in implist}\n",
    "impdict[\"discriminant\"] = \"D_ZHMET_bkg_ML\"\n",
    "df = df.append(pd.DataFrame.from_dict(impdict))"
   ]
  },
  {
   "cell_type": "code",
   "execution_count": 52,
   "metadata": {
    "collapsed": true
   },
   "outputs": [],
   "source": [
    "append_variables(confhandler, impdict, threshold_fscore)"
   ]
  },
  {
   "cell_type": "code",
   "execution_count": 53,
   "metadata": {
    "collapsed": false
   },
   "outputs": [
    {
     "data": {
      "text/plain": [
       "[('Z1Mass', 0.10670761431217705),\n",
       " ('Z2Pt', 0.08248025738520035),\n",
       " ('ZZPt', 0.0787754704104514),\n",
       " ('PFMET', 0.07765428487861947),\n",
       " ('ZZMassErr', 0.07331578434240031),\n",
       " ('D_bkg_ME', 0.06639368236326411),\n",
       " ('Z2Flav', 0.06190894023593643),\n",
       " ('Z2Mass', 0.057570439699717264),\n",
       " ('Z1Pt', 0.044262454908842744),\n",
       " ('JetPt(JetPt|0)', 0.03183191966461928),\n",
       " ('costhetastar', 0.028127132689870334),\n",
       " ('ZZMass_masked', 0.0268597055669299),\n",
       " ('helcosthetaZ2', 0.024129862532904358),\n",
       " ('D_WHh_ZHh_ME', 0.023398654577361802),\n",
       " ('xistar', 0.02330116018328946),\n",
       " ('ZZPhi', 0.02178999707516818),\n",
       " ('helphi', 0.020327581164083064),\n",
       " ('helcosthetaZ1', 0.020083845178902212),\n",
       " ('nCleanedJetsPt30BTagged_bTagSF', 0.01969386760261285),\n",
       " ('phistarZ1', 0.019060154041142634),\n",
       " ('ZZEta', 0.016671541386370285),\n",
       " ('D_VBF2j_WHh_ME', 0.010090669786487276),\n",
       " ('D_ZHh_ggH_ME', 0.00931071463390855),\n",
       " ('JetPhi(JetPt|0)', 0.00926196743687238),\n",
       " ('Z1Flav', 0.008628253875402165),\n",
       " ('D_VBF1j_ggH_ME', 0.00809203470800429),\n",
       " ('JetEta(JetPt|0)', 0.006775860388027688),\n",
       " ('JetPt(JetPt|1)', 0.004728478112508531),\n",
       " ('JetEta(JetPt|1)', 0.003607292580676611),\n",
       " ('nCleanedJetsPt30', 0.0035097981866042704),\n",
       " ('JetPhi(JetPt|1)', 0.003022326216242566),\n",
       " ('D_VBF2j_ggH_ME', 0.0019986350784829874),\n",
       " ('D_WHh_ggH_ME', 0.001852393487374476),\n",
       " ('ExtraLepPt(ExtraLepPt|0)', 0.0012674271229404308),\n",
       " ('D_VBF2j_ZHh_ME', 0.0011211855318319197),\n",
       " ('JetEta(JetPt|2)', 0.0007799551525787267),\n",
       " ('JetEta(JetPt|3)', 0.000584966364434045),\n",
       " ('nExtraLep', 0.0004387247733255338),\n",
       " ('JetPt(JetPt|2)', 0.0002924831822170225),\n",
       " ('JetPhi(JetPt|2)', 0.00019498878814468168),\n",
       " ('JetPt(JetPt|3)', 4.874719703617042e-05),\n",
       " ('JetPhi(JetPt|3)', 4.874719703617042e-05)]"
      ]
     },
     "execution_count": 53,
     "metadata": {},
     "output_type": "execute_result"
    }
   ],
   "source": [
    "implist"
   ]
  },
  {
   "cell_type": "code",
   "execution_count": 54,
   "metadata": {
    "collapsed": false
   },
   "outputs": [],
   "source": [
    "%%capture\n",
    "fig, implist = plot_variables([(\"ttHh\", \"bck\")])"
   ]
  },
  {
   "cell_type": "code",
   "execution_count": 55,
   "metadata": {
    "collapsed": true
   },
   "outputs": [],
   "source": [
    "impdict = {convert_varname(entry[0]): [entry[1]] for entry in implist}\n",
    "impdict[\"discriminant\"] = \"D_ttHh_bkg_ML\"\n",
    "df = df.append(pd.DataFrame.from_dict(impdict))"
   ]
  },
  {
   "cell_type": "code",
   "execution_count": 56,
   "metadata": {
    "collapsed": true
   },
   "outputs": [],
   "source": [
    "append_variables(confhandler, impdict, threshold_fscore)"
   ]
  },
  {
   "cell_type": "code",
   "execution_count": 57,
   "metadata": {
    "collapsed": false
   },
   "outputs": [
    {
     "data": {
      "text/plain": [
       "[('Z2Pt', 0.10117451655000594),\n",
       " ('PFMET', 0.06624747894174872),\n",
       " ('ZZMassErr', 0.061312136671016725),\n",
       " ('Z2Flav', 0.05884446553565073),\n",
       " ('JetPt(JetPt|0)', 0.04669593071538735),\n",
       " ('ZZMass_masked', 0.04318424486890497),\n",
       " ('Z1Mass', 0.04287578597698422),\n",
       " ('Z2Mass', 0.0422351405860719),\n",
       " ('D_WHh_ZHh_ME', 0.04133349151738047),\n",
       " ('D_bkg_ME', 0.03575750385573615),\n",
       " ('JetPt(JetPt|1)', 0.03412029896784909),\n",
       " ('nCleanedJetsPt30BTagged_bTagSF', 0.033977933325424134),\n",
       " ('JetPhi(JetPt|0)', 0.025673270850634713),\n",
       " ('D_WHh_ggH_ME', 0.02470043896073081),\n",
       " ('ZZPt', 0.024415707675880888),\n",
       " ('JetPt(JetPt|2)', 0.023490331000118637),\n",
       " ('JetEta(JetPt|0)', 0.021449756792027524),\n",
       " ('ZZEta', 0.020832839008186024),\n",
       " ('JetPt(JetPt|3)', 0.020666745758690236),\n",
       " ('Z1Pt', 0.017534701625341084),\n",
       " ('costhetastar', 0.015589037845533277),\n",
       " ('JetPhi(JetPt|1)', 0.015090758097045912),\n",
       " ('phistarZ1', 0.014711116383912683),\n",
       " ('helphi', 0.014450112706133587),\n",
       " ('helcosthetaZ2', 0.01411792620714201),\n",
       " ('D_ZHh_ggH_ME', 0.013904377743504568),\n",
       " ('helcosthetaZ1', 0.0118163483212718),\n",
       " ('JetEta(JetPt|1)', 0.011768893107130146),\n",
       " ('ZZPhi', 0.011412979001067742),\n",
       " ('D_VBF2j_ggH_ME', 0.0111994305374303),\n",
       " ('JetPhi(JetPt|2)', 0.010463874718234666),\n",
       " ('nCleanedJetsPt30', 0.009324949578834974),\n",
       " ('JetEta(JetPt|2)', 0.00920631154348084),\n",
       " ('D_VBF2j_WHh_ME', 0.00790129315458536),\n",
       " ('xistar', 0.006643729979831534),\n",
       " ('JetPhi(JetPt|3)', 0.006169177838414996),\n",
       " ('D_VBF2j_ZHh_ME', 0.005433622019219362),\n",
       " ('ExtraLepPhi(ExtraLepPt|0)', 0.005077707913156958),\n",
       " ('JetEta(JetPt|3)', 0.005077707913156958),\n",
       " ('ExtraLepEta(ExtraLepPt|0)', 0.004769249021236209),\n",
       " ('Z1Flav', 0.0034642306323407284),\n",
       " ('nExtraLep', 0.002586309170720133),\n",
       " ('D_VBF1j_ggH_ME', 0.0023490331000118637),\n",
       " ('ExtraLepPt(ExtraLepPt|0)', 0.0009491042828330763)]"
      ]
     },
     "execution_count": 57,
     "metadata": {},
     "output_type": "execute_result"
    }
   ],
   "source": [
    "implist"
   ]
  },
  {
   "cell_type": "code",
   "execution_count": 58,
   "metadata": {
    "collapsed": false
   },
   "outputs": [],
   "source": [
    "%%capture\n",
    "fig, implist = plot_variables([(\"ttHl\", \"bck\")])"
   ]
  },
  {
   "cell_type": "code",
   "execution_count": 59,
   "metadata": {
    "collapsed": true
   },
   "outputs": [],
   "source": [
    "impdict = {convert_varname(entry[0]): [entry[1]] for entry in implist}\n",
    "impdict[\"discriminant\"] = \"D_ttHl_bkg_ML\"\n",
    "df = df.append(pd.DataFrame.from_dict(impdict))"
   ]
  },
  {
   "cell_type": "code",
   "execution_count": 60,
   "metadata": {
    "collapsed": true
   },
   "outputs": [],
   "source": [
    "append_variables(confhandler, impdict, threshold_fscore)"
   ]
  },
  {
   "cell_type": "code",
   "execution_count": 61,
   "metadata": {
    "collapsed": false
   },
   "outputs": [
    {
     "data": {
      "text/plain": [
       "[('Z2Pt', 0.08650875386199794),\n",
       " ('PFMET', 0.07056097413218634),\n",
       " ('ZZMassErr', 0.0699248803537893),\n",
       " ('Z2Mass', 0.0621705942933301),\n",
       " ('Z1Mass', 0.04917610710607621),\n",
       " ('JetPt(JetPt|0)', 0.04052826073786878),\n",
       " ('Z2Flav', 0.04024050402859393),\n",
       " ('D_bkg_ME', 0.03942266917065487),\n",
       " ('ZZPt', 0.035409220330768765),\n",
       " ('Z1Pt', 0.0296086508753862),\n",
       " ('helcosthetaZ2', 0.02756406373053856),\n",
       " ('D_VBF2j_ggH_ME', 0.024504755558248017),\n",
       " ('D_WHh_ZHh_ME', 0.022899376022293572),\n",
       " ('ExtraLepPt(ExtraLepPt|0)', 0.022460168413400376),\n",
       " ('phistarZ1', 0.021702913915308656),\n",
       " ('costhetastar', 0.021112255406797117),\n",
       " ('ZZEta', 0.020521596898285577),\n",
       " ('helcosthetaZ1', 0.020415581268552734),\n",
       " ('xistar', 0.0204004361785909),\n",
       " ('JetEta(JetPt|0)', 0.020385291088629066),\n",
       " ('ZZMass_masked', 0.019113103531834978),\n",
       " ('JetPt(JetPt|1)', 0.01832555885381959),\n",
       " ('D_VBF1j_ggH_ME', 0.018310413763857756),\n",
       " ('JetPhi(JetPt|0)', 0.018128672684315745),\n",
       " ('ZZPhi', 0.017719755255346217),\n",
       " ('nCleanedJetsPt30BTagged_bTagSF', 0.017477433815956865),\n",
       " ('helphi', 0.017447143636033197),\n",
       " ('JetPt(JetPt|2)', 0.016159810989277275),\n",
       " ('JetEta(JetPt|1)', 0.01596292481977343),\n",
       " ('JetPhi(JetPt|1)', 0.012403828678742351),\n",
       " ('D_WHh_ggH_ME', 0.011676864360574302),\n",
       " ('D_VBF2j_ZHh_ME', 0.008057187859695886),\n",
       " ('D_ZHh_ggH_ME', 0.00761798025080269),\n",
       " ('nExtraLep', 0.006482098503665112),\n",
       " ('JetPhi(JetPt|2)', 0.006179196704428424),\n",
       " ('Z1Flav', 0.005800569455382565),\n",
       " ('JetEta(JetPt|2)', 0.005800569455382565),\n",
       " ('D_VBF2j_WHh_ME', 0.005739989095535227),\n",
       " ('ExtraLepPhi(ExtraLepPt|0)', 0.0052402011267946936),\n",
       " ('JetPt(JetPt|3)', 0.00519476585690919),\n",
       " ('ExtraLepEta(ExtraLepPt|0)', 0.0038619979402677654),\n",
       " ('nCleanedJetsPt30', 0.0037105470406494216),\n",
       " ('JetEta(JetPt|3)', 0.0032259041618707216),\n",
       " ('JetPhi(JetPt|3)', 0.002968437632519537),\n",
       " ('ExtraLepPhi(ExtraLepPt|1)', 0.001060156297328406),\n",
       " ('ExtraLepPt(ExtraLepPt|1)', 0.0008026897679772217),\n",
       " ('ExtraLepEta(ExtraLepPt|1)', 1.5145089961834374e-05)]"
      ]
     },
     "execution_count": 61,
     "metadata": {},
     "output_type": "execute_result"
    }
   ],
   "source": [
    "implist"
   ]
  },
  {
   "cell_type": "code",
   "execution_count": null,
   "metadata": {
    "collapsed": false,
    "scrolled": false
   },
   "outputs": [],
   "source": [
    "%%capture\n",
    "fig, implist = plot_variables([(\"VBF\", \"ggH\")])"
   ]
  },
  {
   "cell_type": "code",
   "execution_count": null,
   "metadata": {
    "collapsed": false
   },
   "outputs": [],
   "source": [
    "impdict = {convert_varname(entry[0]): [entry[1]] for entry in implist}\n",
    "impdict[\"discriminant\"] = \"D_VBF_ggH_ML\"\n",
    "df = df.append(pd.DataFrame.from_dict(impdict))"
   ]
  },
  {
   "cell_type": "code",
   "execution_count": null,
   "metadata": {
    "collapsed": true
   },
   "outputs": [],
   "source": [
    "append_variables(confhandler, impdict, threshold_fscore)"
   ]
  },
  {
   "cell_type": "code",
   "execution_count": null,
   "metadata": {
    "collapsed": false
   },
   "outputs": [],
   "source": [
    "implist"
   ]
  },
  {
   "cell_type": "code",
   "execution_count": 30,
   "metadata": {
    "collapsed": false,
    "scrolled": false
   },
   "outputs": [],
   "source": [
    "%%capture\n",
    "fig, implist = plot_variables([(\"WHh\", \"ggH\")])"
   ]
  },
  {
   "cell_type": "code",
   "execution_count": 31,
   "metadata": {
    "collapsed": true
   },
   "outputs": [],
   "source": [
    "impdict = {convert_varname(entry[0]): [entry[1]] for entry in implist}\n",
    "impdict[\"discriminant\"] = \"D_WHh_ggH_ML\"\n",
    "df = df.append(pd.DataFrame.from_dict(impdict))"
   ]
  },
  {
   "cell_type": "code",
   "execution_count": 32,
   "metadata": {
    "collapsed": true
   },
   "outputs": [],
   "source": [
    "append_variables(confhandler, impdict, threshold_fscore)"
   ]
  },
  {
   "cell_type": "code",
   "execution_count": 33,
   "metadata": {
    "collapsed": false
   },
   "outputs": [
    {
     "data": {
      "text/plain": [
       "[('ZZEta', 0.0867813693705261),\n",
       " ('ZZPt', 0.08398870092767952),\n",
       " ('JetEta(JetPt|0)', 0.08140468012711456),\n",
       " ('ZZMassErr', 0.061567104291721506),\n",
       " ('JetPt(JetPt|0)', 0.0602991686193946),\n",
       " ('Z1Pt', 0.05580521940102077),\n",
       " ('PFMET', 0.05530767502327224),\n",
       " ('Z2Mass', 0.04770006098931082),\n",
       " ('Z1Mass', 0.04755561262157738),\n",
       " ('Z2Pt', 0.04468269508554553),\n",
       " ('ZZPhi', 0.04426539980098225),\n",
       " ('D_WHh_ggH_ME', 0.028697075723044328),\n",
       " ('JetPhi(JetPt|0)', 0.028584726992584984),\n",
       " ('JetPt(JetPt|1)', 0.028584726992584984),\n",
       " ('D_VBF1j_ggH_ME', 0.028071132796199404),\n",
       " ('D_VBF2j_ggH_ME', 0.025599460726093794),\n",
       " ('JetEta(JetPt|2)', 0.024620421789233782),\n",
       " ('D_WHh_ZHh_ME', 0.020784515134978976),\n",
       " ('JetEta(JetPt|1)', 0.02067216640451963),\n",
       " ('D_ZHh_ggH_ME', 0.01635476519115334),\n",
       " ('JetPt(JetPt|2)', 0.01627451609796809),\n",
       " ('JetPhi(JetPt|1)', 0.014139890219240522),\n",
       " ('D_VBF2j_ZHh_ME', 0.013353449106025102),\n",
       " ('JetPhi(JetPt|2)', 0.011973164703238854),\n",
       " ('D_VBF2j_WHh_ME', 0.011315122139119827),\n",
       " ('JetEta(JetPt|3)', 0.0066606747343755015),\n",
       " ('nCleanedJetsPt30', 0.004943344140211216),\n",
       " ('ZZMass_masked', 0.004766796135203672),\n",
       " ('JetPt(JetPt|3)', 0.004766796135203672),\n",
       " ('ExtraLepPt(ExtraLepPt|0)', 0.004221102301543993),\n",
       " ('ExtraLepPhi(ExtraLepPt|0)', 0.0031778640901357815),\n",
       " ('nCleanedJetsPt30BTagged_bTagSF', 0.0030976149969505345),\n",
       " ('Z2Flav', 0.002905017173305942),\n",
       " ('JetPhi(JetPt|3)', 0.0027926684428465957),\n",
       " ('ExtraLepEta(ExtraLepPt|0)', 0.0022951240650980645),\n",
       " ('Z1Flav', 0.0019099284178088788),\n",
       " ('nExtraLep', 8.0249093185247e-05)]"
      ]
     },
     "execution_count": 33,
     "metadata": {},
     "output_type": "execute_result"
    }
   ],
   "source": [
    "implist"
   ]
  },
  {
   "cell_type": "code",
   "execution_count": 34,
   "metadata": {
    "collapsed": false,
    "scrolled": false
   },
   "outputs": [],
   "source": [
    "%%capture\n",
    "fig, implist = plot_variables([(\"ZHh\", \"ggH\")])"
   ]
  },
  {
   "cell_type": "code",
   "execution_count": 35,
   "metadata": {
    "collapsed": true
   },
   "outputs": [],
   "source": [
    "impdict = {convert_varname(entry[0]): [entry[1]] for entry in implist}\n",
    "impdict[\"discriminant\"] = \"D_ZHh_ggH_ML\"\n",
    "df = df.append(pd.DataFrame.from_dict(impdict))"
   ]
  },
  {
   "cell_type": "code",
   "execution_count": 36,
   "metadata": {
    "collapsed": true
   },
   "outputs": [],
   "source": [
    "append_variables(confhandler, impdict, threshold_fscore)"
   ]
  },
  {
   "cell_type": "code",
   "execution_count": 37,
   "metadata": {
    "collapsed": false
   },
   "outputs": [
    {
     "data": {
      "text/plain": [
       "[('ZZPt', 0.08227995166837067),\n",
       " ('ZZEta', 0.0685704991170183),\n",
       " ('ZZPhi', 0.06494562691699972),\n",
       " ('JetEta(JetPt|0)', 0.06471326331443443),\n",
       " ('PFMET', 0.0624825727298076),\n",
       " ('JetPt(JetPt|0)', 0.0591597732131239),\n",
       " ('Z1Pt', 0.05744028255414072),\n",
       " ('Z2Mass', 0.05507017380797472),\n",
       " ('Z1Mass', 0.05021377451436007),\n",
       " ('ZZMassErr', 0.0435217027604796),\n",
       " ('Z2Pt', 0.04331257551817083),\n",
       " ('D_ZHh_ggH_ME', 0.03276326796170648),\n",
       " ('nCleanedJetsPt30BTagged_bTagSF', 0.03218235895529324),\n",
       " ('D_VBF1j_ggH_ME', 0.03132261362580165),\n",
       " ('JetPt(JetPt|1)', 0.028557486755274655),\n",
       " ('JetEta(JetPt|1)', 0.027604795984756948),\n",
       " ('D_VBF2j_ggH_ME', 0.022608978529603124),\n",
       " ('JetPhi(JetPt|0)', 0.020587415187285064),\n",
       " ('JetEta(JetPt|2)', 0.018844688168045357),\n",
       " ('JetPt(JetPt|2)', 0.016985779347523003),\n",
       " ('D_WHh_ZHh_ME', 0.015010688725718004),\n",
       " ('D_WHh_ggH_ME', 0.01357003438981318),\n",
       " ('JetPhi(JetPt|2)', 0.013500325309043592),\n",
       " ('D_VBF2j_WHh_ME', 0.011687889209034297),\n",
       " ('JetPhi(JetPt|1)', 0.01031694395389906),\n",
       " ('ExtraLepPt(ExtraLepPt|0)', 0.00917836230132912),\n",
       " ('D_VBF2j_ZHh_ME', 0.008063017009015707),\n",
       " ('JetEta(JetPt|3)', 0.007598289803885119),\n",
       " ('ZZMass_masked', 0.005088762896179942),\n",
       " ('JetPt(JetPt|3)', 0.0050422901756668834),\n",
       " ('JetPhi(JetPt|3)', 0.00480992657310159),\n",
       " ('Z1Flav', 0.004229017566688354),\n",
       " ('nCleanedJetsPt30', 0.00318338135514453),\n",
       " ('Z2Flav', 0.0020912724230876477),\n",
       " ('ExtraLepPhi(ExtraLepPt|0)', 0.0016497815782135887),\n",
       " ('ExtraLepEta(ExtraLepPt|0)', 0.0013012361743656475),\n",
       " ('nExtraLep', 0.0005111999256436472)]"
      ]
     },
     "execution_count": 37,
     "metadata": {},
     "output_type": "execute_result"
    }
   ],
   "source": [
    "implist"
   ]
  },
  {
   "cell_type": "code",
   "execution_count": 38,
   "metadata": {
    "collapsed": false,
    "scrolled": false
   },
   "outputs": [],
   "source": [
    "%%capture\n",
    "fig, implist = plot_variables([(\"WHh\", \"ZHh\")])"
   ]
  },
  {
   "cell_type": "code",
   "execution_count": 39,
   "metadata": {
    "collapsed": true
   },
   "outputs": [],
   "source": [
    "impdict = {convert_varname(entry[0]): [entry[1]] for entry in implist}\n",
    "impdict[\"discriminant\"] = \"D_WHh_ZHh_ML\"\n",
    "df = df.append(pd.DataFrame.from_dict(impdict))"
   ]
  },
  {
   "cell_type": "code",
   "execution_count": 40,
   "metadata": {
    "collapsed": true
   },
   "outputs": [],
   "source": [
    "append_variables(confhandler, impdict, threshold_fscore)"
   ]
  },
  {
   "cell_type": "code",
   "execution_count": 41,
   "metadata": {
    "collapsed": false
   },
   "outputs": [
    {
     "data": {
      "text/plain": [
       "[('D_WHh_ZHh_ME', 0.05863246905975248),\n",
       " ('PFMET', 0.05790446323570589),\n",
       " ('ZZMassErr', 0.0564484515876127),\n",
       " ('Z2Mass', 0.05129641037128297),\n",
       " ('Z1Mass', 0.04720837766702134),\n",
       " ('JetPhi(JetPt|1)', 0.046984375875007),\n",
       " ('JetEta(JetPt|0)', 0.04692837542700341),\n",
       " ('JetPt(JetPt|0)', 0.04659237273898191),\n",
       " ('JetPhi(JetPt|0)', 0.04356834854678837),\n",
       " ('Z1Pt', 0.042336338690709525),\n",
       " ('JetEta(JetPt|1)', 0.041944335554684437),\n",
       " ('D_WHh_ggH_ME', 0.03903231225849807),\n",
       " ('ZZEta', 0.038752310018480146),\n",
       " ('Z2Pt', 0.036344290754326034),\n",
       " ('JetPt(JetPt|1)', 0.03544828358626869),\n",
       " ('ZZPt', 0.03354426835414683),\n",
       " ('ZZPhi', 0.032368258946071565),\n",
       " ('D_ZHh_ggH_ME', 0.03141625133001064),\n",
       " ('JetPt(JetPt|2)', 0.026432211457691663),\n",
       " ('nCleanedJetsPt30BTagged_bTagSF', 0.026096208769670157),\n",
       " ('JetPhi(JetPt|2)', 0.024864198913591307),\n",
       " ('D_VBF2j_ggH_ME', 0.0213921711373691),\n",
       " ('D_VBF2j_WHh_ME', 0.020664165313322505),\n",
       " ('JetEta(JetPt|2)', 0.019824158593268745),\n",
       " ('D_VBF2j_ZHh_ME', 0.01624012992103937),\n",
       " ('JetPhi(JetPt|3)', 0.014952119616956935),\n",
       " ('D_VBF1j_ggH_ME', 0.010472083776670213),\n",
       " ('nCleanedJetsPt30', 0.008176065408523269),\n",
       " ('JetEta(JetPt|3)', 0.0080640645125161),\n",
       " ('Z1Flav', 0.0047600380803046426),\n",
       " ('JetPt(JetPt|3)', 0.004704037632301058),\n",
       " ('ExtraLepPt(ExtraLepPt|0)', 0.0016240129921039367),\n",
       " ('ExtraLepEta(ExtraLepPt|0)', 0.0014560116480931847),\n",
       " ('Z2Flav', 0.0014000112000896008),\n",
       " ('ZZMass_masked', 0.0012880103040824327),\n",
       " ('ExtraLepPhi(ExtraLepPt|0)', 0.00044800358402867225),\n",
       " ('nExtraLep', 0.0003920031360250882)]"
      ]
     },
     "execution_count": 41,
     "metadata": {},
     "output_type": "execute_result"
    }
   ],
   "source": [
    "implist"
   ]
  },
  {
   "cell_type": "code",
   "execution_count": 42,
   "metadata": {
    "collapsed": false,
    "scrolled": false
   },
   "outputs": [],
   "source": [
    "%%capture\n",
    "fig, implist = plot_variables([(\"VBF\", \"WHh\")])"
   ]
  },
  {
   "cell_type": "code",
   "execution_count": 43,
   "metadata": {
    "collapsed": true
   },
   "outputs": [],
   "source": [
    "impdict = {convert_varname(entry[0]): [entry[1]] for entry in implist}\n",
    "impdict[\"discriminant\"] = \"D_VBF_WHh_ML\"\n",
    "df = df.append(pd.DataFrame.from_dict(impdict))"
   ]
  },
  {
   "cell_type": "code",
   "execution_count": 44,
   "metadata": {
    "collapsed": true
   },
   "outputs": [],
   "source": [
    "append_variables(confhandler, impdict, threshold_fscore)"
   ]
  },
  {
   "cell_type": "code",
   "execution_count": 45,
   "metadata": {
    "collapsed": false
   },
   "outputs": [
    {
     "data": {
      "text/plain": [
       "[('JetEta(JetPt|0)', 0.11613351877607789),\n",
       " ('ZZEta', 0.0882012053778396),\n",
       " ('JetEta(JetPt|2)', 0.06957000463606862),\n",
       " ('JetPt(JetPt|0)', 0.05919680111265647),\n",
       " ('D_VBF2j_ggH_ME', 0.05542999536393139),\n",
       " ('ZZPt', 0.039087853500231806),\n",
       " ('JetEta(JetPt|1)', 0.03888502549837738),\n",
       " ('Z1Mass', 0.03453871117292536),\n",
       " ('Z1Pt', 0.034191006026889195),\n",
       " ('PFMET', 0.033872276309689385),\n",
       " ('D_ZHh_ggH_ME', 0.03294506258692629),\n",
       " ('Z2Pt', 0.03268428372739916),\n",
       " ('JetPt(JetPt|2)', 0.03259735744089012),\n",
       " ('JetPhi(JetPt|0)', 0.03167014371812703),\n",
       " ('ZZMassErr', 0.030627028280018544),\n",
       " ('D_WHh_ggH_ME', 0.02961288827074641),\n",
       " ('D_VBF1j_ggH_ME', 0.029381084840055634),\n",
       " ('Z2Mass', 0.028975428836346778),\n",
       " ('ZZPhi', 0.028019239684747333),\n",
       " ('D_WHh_ZHh_ME', 0.023991655076495134),\n",
       " ('D_VBF2j_ZHh_ME', 0.02005099675475197),\n",
       " ('JetPt(JetPt|1)', 0.019906119610570237),\n",
       " ('JetPhi(JetPt|1)', 0.016110338433008808),\n",
       " ('D_VBF2j_WHh_ME', 0.014516689847009736),\n",
       " ('JetPt(JetPt|3)', 0.010952712100139083),\n",
       " ('JetPhi(JetPt|2)', 0.01017037552155772),\n",
       " ('JetEta(JetPt|3)', 0.009243161798794622),\n",
       " ('nCleanedJetsPt30', 0.006867176634214186),\n",
       " ('JetPhi(JetPt|3)', 0.005679184051923968),\n",
       " ('ExtraLepPt(ExtraLepPt|0)', 0.004085535465924895),\n",
       " ('ExtraLepEta(ExtraLepPt|0)', 0.003158321743161799),\n",
       " ('ZZMass_masked', 0.002868567454798331),\n",
       " ('nCleanedJetsPt30BTagged_bTagSF', 0.001999304589707928),\n",
       " ('Z2Flav', 0.0017385257301808068),\n",
       " ('Z1Flav', 0.0017095503013444598),\n",
       " ('ExtraLepPhi(ExtraLepPt|0)', 0.001303894297635605),\n",
       " ('nExtraLep', 2.8975428836346777e-05)]"
      ]
     },
     "execution_count": 45,
     "metadata": {},
     "output_type": "execute_result"
    }
   ],
   "source": [
    "implist"
   ]
  },
  {
   "cell_type": "code",
   "execution_count": 46,
   "metadata": {
    "collapsed": false,
    "scrolled": false
   },
   "outputs": [],
   "source": [
    "%%capture\n",
    "fig, implist = plot_variables([(\"VBF\", \"ZHh\")])"
   ]
  },
  {
   "cell_type": "code",
   "execution_count": 47,
   "metadata": {
    "collapsed": true
   },
   "outputs": [],
   "source": [
    "impdict = {convert_varname(entry[0]): [entry[1]] for entry in implist}\n",
    "impdict[\"discriminant\"] = \"D_VBF_ZHh_ML\"\n",
    "df = df.append(pd.DataFrame.from_dict(impdict))"
   ]
  },
  {
   "cell_type": "code",
   "execution_count": 48,
   "metadata": {
    "collapsed": true
   },
   "outputs": [],
   "source": [
    "append_variables(confhandler, impdict, threshold_fscore)"
   ]
  },
  {
   "cell_type": "code",
   "execution_count": 49,
   "metadata": {
    "collapsed": false
   },
   "outputs": [
    {
     "data": {
      "text/plain": [
       "[('JetEta(JetPt|0)', 0.09797265440829797),\n",
       " ('ZZEta', 0.08503064592173504),\n",
       " ('JetEta(JetPt|2)', 0.06115040075436115),\n",
       " ('D_VBF2j_ggH_ME', 0.057543611504007545),\n",
       " ('PFMET', 0.050424328147100426),\n",
       " ('JetPt(JetPt|0)', 0.043446487505893444),\n",
       " ('JetEta(JetPt|1)', 0.040594059405940595),\n",
       " ('Z2Mass', 0.04012258368694012),\n",
       " ('D_ZHh_ggH_ME', 0.03802451673738803),\n",
       " ('JetPhi(JetPt|0)', 0.0338991041961339),\n",
       " ('ZZPt', 0.03378123526638378),\n",
       " ('D_WHh_ZHh_ME', 0.032013201320132016),\n",
       " ('Z1Mass', 0.03154172560113154),\n",
       " ('ZZMassErr', 0.03026874115983027),\n",
       " ('nCleanedJetsPt30BTagged_bTagSF', 0.030174446016030174),\n",
       " ('JetPt(JetPt|2)', 0.029655822725129656),\n",
       " ('JetPt(JetPt|1)', 0.027274870344177273),\n",
       " ('Z1Pt', 0.02633191890617633),\n",
       " ('Z2Pt', 0.025907590759075907),\n",
       " ('D_VBF2j_ZHh_ME', 0.02461103253182461),\n",
       " ('ZZPhi', 0.023196605374823195),\n",
       " ('D_WHh_ggH_ME', 0.02105139085337105),\n",
       " ('D_VBF2j_WHh_ME', 0.02050919377652051),\n",
       " ('JetPhi(JetPt|2)', 0.02010843941537011),\n",
       " ('JetPhi(JetPt|1)', 0.019000471475719),\n",
       " ('D_VBF1j_ggH_ME', 0.013295615275813296),\n",
       " ('JetPt(JetPt|3)', 0.009995285242809996),\n",
       " ('JetEta(JetPt|3)', 0.009170202734559171),\n",
       " ('JetPhi(JetPt|3)', 0.007237152286657237),\n",
       " ('nCleanedJetsPt30', 0.006058462989156059),\n",
       " ('ExtraLepPt(ExtraLepPt|0)', 0.0038425271098538427),\n",
       " ('Z2Flav', 0.0018387553041018388),\n",
       " ('Z1Flav', 0.0012965582272512965),\n",
       " ('ExtraLepEta(ExtraLepPt|0)', 0.0012494106553512495),\n",
       " ('ZZMass_masked', 0.0012258368694012258),\n",
       " ('ExtraLepPhi(ExtraLepPt|0)', 0.0011551155115511551)]"
      ]
     },
     "execution_count": 49,
     "metadata": {},
     "output_type": "execute_result"
    }
   ],
   "source": [
    "implist"
   ]
  },
  {
   "cell_type": "code",
   "execution_count": 50,
   "metadata": {
    "collapsed": false,
    "scrolled": false
   },
   "outputs": [],
   "source": [
    "%%capture\n",
    "fig, implist = plot_variables([(\"WHl\", \"ggH\")])"
   ]
  },
  {
   "cell_type": "code",
   "execution_count": 51,
   "metadata": {
    "collapsed": true
   },
   "outputs": [],
   "source": [
    "impdict = {convert_varname(entry[0]): [entry[1]] for entry in implist}\n",
    "impdict[\"discriminant\"] = \"D_WHl_ggH_ML\"\n",
    "df = df.append(pd.DataFrame.from_dict(impdict))"
   ]
  },
  {
   "cell_type": "code",
   "execution_count": 52,
   "metadata": {
    "collapsed": true
   },
   "outputs": [],
   "source": [
    "append_variables(confhandler, impdict, threshold_fscore)"
   ]
  },
  {
   "cell_type": "code",
   "execution_count": 53,
   "metadata": {
    "collapsed": false
   },
   "outputs": [
    {
     "data": {
      "text/plain": [
       "[('PFMET', 0.12065034797216223),\n",
       " ('Z1Mass', 0.08549316054715622),\n",
       " ('ZZPt', 0.08247340212782978),\n",
       " ('Z1Pt', 0.062375009999200065),\n",
       " ('Z2Pt', 0.061555075593952485),\n",
       " ('Z2Mass', 0.06121510279177666),\n",
       " ('ZZMassErr', 0.060455163586913045),\n",
       " ('ZZEta', 0.06003519718422526),\n",
       " ('ZZPhi', 0.05789536837053036),\n",
       " ('JetPt(JetPt|0)', 0.05411567074634029),\n",
       " ('D_VBF1j_ggH_ME', 0.05239580833533317),\n",
       " ('JetEta(JetPt|0)', 0.036137109031277495),\n",
       " ('ExtraLepPt(ExtraLepPt|0)', 0.03505719542436605),\n",
       " ('JetPhi(JetPt|0)', 0.03283737301015919),\n",
       " ('ZZMass_masked', 0.026597872170226383),\n",
       " ('ExtraLepEta(ExtraLepPt|0)', 0.011019118470522359),\n",
       " ('nCleanedJetsPt30BTagged_bTagSF', 0.010219182465402767),\n",
       " ('JetPhi(JetPt|1)', 0.009439244860411167),\n",
       " ('D_WHh_ZHh_ME', 0.00911927045836333),\n",
       " ('JetEta(JetPt|1)', 0.008459323254139669),\n",
       " ('ExtraLepPhi(ExtraLepPt|0)', 0.007719382449404047),\n",
       " ('D_VBF2j_ggH_ME', 0.007599392048636109),\n",
       " ('JetPt(JetPt|1)', 0.00753939684825214),\n",
       " ('D_VBF2j_WHh_ME', 0.0042596592272618194),\n",
       " ('D_WHh_ggH_ME', 0.004199664026877849),\n",
       " ('nCleanedJetsPt30', 0.004019678425725942),\n",
       " ('nExtraZ', 0.003519718422526198),\n",
       " ('D_VBF2j_ZHh_ME', 0.0033797296216302695),\n",
       " ('Z2Flav', 0.003259739220862331),\n",
       " ('JetEta(JetPt|2)', 0.002919766418686505),\n",
       " ('nExtraLep', 0.0027197824174066076),\n",
       " ('JetPhi(JetPt|2)', 0.002679785617150628),\n",
       " ('D_ZHh_ggH_ME', 0.0025397968162546997),\n",
       " ('Z1Flav', 0.0018198544116470683),\n",
       " ('JetPt(JetPt|3)', 0.001339892808575314),\n",
       " ('JetPt(JetPt|2)', 0.000999920006399488),\n",
       " ('ExtraLepPhi(ExtraLepPt|1)', 0.0007399408047356212),\n",
       " ('JetEta(JetPt|3)', 0.0006599472042236621),\n",
       " ('JetPhi(JetPt|3)', 0.0005399568034557236)]"
      ]
     },
     "execution_count": 53,
     "metadata": {},
     "output_type": "execute_result"
    }
   ],
   "source": [
    "implist"
   ]
  },
  {
   "cell_type": "code",
   "execution_count": 54,
   "metadata": {
    "collapsed": false,
    "scrolled": false
   },
   "outputs": [],
   "source": [
    "%%capture\n",
    "fig, implist = plot_variables([(\"WHl\", \"VBF\")])"
   ]
  },
  {
   "cell_type": "code",
   "execution_count": 55,
   "metadata": {
    "collapsed": true
   },
   "outputs": [],
   "source": [
    "impdict = {convert_varname(entry[0]): [entry[1]] for entry in implist}\n",
    "impdict[\"discriminant\"] = \"D_WHl_VBF_ML\"\n",
    "df = df.append(pd.DataFrame.from_dict(impdict))"
   ]
  },
  {
   "cell_type": "code",
   "execution_count": 56,
   "metadata": {
    "collapsed": true
   },
   "outputs": [],
   "source": [
    "append_variables(confhandler, impdict, threshold_fscore)"
   ]
  },
  {
   "cell_type": "code",
   "execution_count": 57,
   "metadata": {
    "collapsed": false
   },
   "outputs": [
    {
     "data": {
      "text/plain": [
       "[('PFMET', 0.10777479892761394),\n",
       " ('ZZEta', 0.0697646708370569),\n",
       " ('JetEta(JetPt|0)', 0.06082812034554662),\n",
       " ('JetPt(JetPt|0)', 0.05637970410088373),\n",
       " ('Z1Mass', 0.05298381491410982),\n",
       " ('D_VBF1j_ggH_ME', 0.05296395591301758),\n",
       " ('ZZPt', 0.05070002978850164),\n",
       " ('Z1Pt', 0.04815807764869427),\n",
       " ('Z2Pt', 0.04291530136034157),\n",
       " ('ZZMassErr', 0.04204150531228279),\n",
       " ('Z2Mass', 0.04088968324893258),\n",
       " ('ExtraLepEta(ExtraLepPt|0)', 0.04057193923145666),\n",
       " ('ZZPhi', 0.037156191043590504),\n",
       " ('ExtraLepPt(ExtraLepPt|0)', 0.036759011021745606),\n",
       " ('JetPhi(JetPt|0)', 0.0343759308906762),\n",
       " ('D_VBF2j_ggH_ME', 0.03189355575414557),\n",
       " ('ZZMass_masked', 0.0279416145367888),\n",
       " ('D_WHh_ZHh_ME', 0.02182504220037732),\n",
       " ('JetEta(JetPt|1)', 0.018508589017972397),\n",
       " ('JetPt(JetPt|1)', 0.01805183199285076),\n",
       " ('JetEta(JetPt|2)', 0.017058881938238506),\n",
       " ('D_VBF2j_ZHh_ME', 0.016800714924039322),\n",
       " ('JetPhi(JetPt|1)', 0.01181610564988581),\n",
       " ('D_ZHh_ggH_ME', 0.010227385562506205),\n",
       " ('D_VBF2j_WHh_ME', 0.008658524476218846),\n",
       " ('ExtraLepPhi(ExtraLepPt|0)', 0.007188958395392712),\n",
       " ('D_WHh_ggH_ME', 0.006573329361533115),\n",
       " ('JetPt(JetPt|2)', 0.005858405322212293),\n",
       " ('Z2Flav', 0.004448416244662893),\n",
       " ('JetPhi(JetPt|2)', 0.0044285572435706485),\n",
       " ('nCleanedJetsPt30BTagged_bTagSF', 0.0030781451692979845),\n",
       " ('nExtraLep', 0.0028001191540065534),\n",
       " ('Z1Flav', 0.0024426571343461423),\n",
       " ('JetPhi(JetPt|3)', 0.0019064641048555258),\n",
       " ('JetPt(JetPt|3)', 0.0014894250819183796),\n",
       " ('nCleanedJetsPt30', 0.0009730910535200079),\n",
       " ('JetEta(JetPt|3)', 0.0009532320524277629),\n",
       " ('ExtraLepEta(ExtraLepPt|1)', 0.0008142190447820475)]"
      ]
     },
     "execution_count": 57,
     "metadata": {},
     "output_type": "execute_result"
    }
   ],
   "source": [
    "implist"
   ]
  },
  {
   "cell_type": "code",
   "execution_count": 58,
   "metadata": {
    "collapsed": false,
    "scrolled": false
   },
   "outputs": [],
   "source": [
    "%%capture\n",
    "fig, implist = plot_variables([(\"WHl\", \"WHh\")])"
   ]
  },
  {
   "cell_type": "code",
   "execution_count": 59,
   "metadata": {
    "collapsed": true
   },
   "outputs": [],
   "source": [
    "impdict = {convert_varname(entry[0]): [entry[1]] for entry in implist}\n",
    "impdict[\"discriminant\"] = \"D_WHl_WHh_ML\"\n",
    "df = df.append(pd.DataFrame.from_dict(impdict))"
   ]
  },
  {
   "cell_type": "code",
   "execution_count": 60,
   "metadata": {
    "collapsed": true
   },
   "outputs": [],
   "source": [
    "append_variables(confhandler, impdict, threshold_fscore)"
   ]
  },
  {
   "cell_type": "code",
   "execution_count": 61,
   "metadata": {
    "collapsed": false
   },
   "outputs": [
    {
     "data": {
      "text/plain": [
       "[('PFMET', 0.14229144667370644),\n",
       " ('JetPt(JetPt|0)', 0.0683078141499472),\n",
       " ('ZZPt', 0.06127903907074973),\n",
       " ('ZZMassErr', 0.05811114044350581),\n",
       " ('JetEta(JetPt|0)', 0.05154435058078141),\n",
       " ('Z1Mass', 0.05101636747624076),\n",
       " ('ExtraLepPt(ExtraLepPt|0)', 0.05081837381203801),\n",
       " ('ZZMass_masked', 0.047683474128827875),\n",
       " ('Z2Mass', 0.04454857444561774),\n",
       " ('Z1Pt', 0.03920274551214361),\n",
       " ('Z2Pt', 0.037519799366420276),\n",
       " ('ZZEta', 0.031019007391763463),\n",
       " ('ZZPhi', 0.0308870116156283),\n",
       " ('D_VBF1j_ggH_ME', 0.027917106652587117),\n",
       " ('JetPhi(JetPt|0)', 0.027092133051742344),\n",
       " ('D_WHh_ggH_ME', 0.0261681626187962),\n",
       " ('D_ZHh_ggH_ME', 0.02286826821541711),\n",
       " ('ExtraLepEta(ExtraLepPt|0)', 0.018875395987328406),\n",
       " ('D_VBF2j_WHh_ME', 0.017456441393875397),\n",
       " ('JetPhi(JetPt|1)', 0.017093453009503694),\n",
       " ('JetPt(JetPt|1)', 0.01616948257655755),\n",
       " ('JetEta(JetPt|1)', 0.015542502639915523),\n",
       " ('JetPt(JetPt|2)', 0.014849524815205913),\n",
       " ('ExtraLepPhi(ExtraLepPt|0)', 0.012803590285110876),\n",
       " ('D_WHh_ZHh_ME', 0.011978616684266103),\n",
       " ('D_VBF2j_ggH_ME', 0.010328669482576557),\n",
       " ('JetEta(JetPt|2)', 0.009602692713833157),\n",
       " ('D_VBF2j_ZHh_ME', 0.009074709609292502),\n",
       " ('nExtraLep', 0.008051742344244984),\n",
       " ('JetPhi(JetPt|2)', 0.00610480464625132),\n",
       " ('nCleanedJetsPt30', 0.003893875395987328),\n",
       " ('nCleanedJetsPt30BTagged_bTagSF', 0.0031019007391763463),\n",
       " ('JetPhi(JetPt|3)', 0.0023099260823653644),\n",
       " ('Z2Flav', 0.0013529567053854276),\n",
       " ('Z1Flav', 0.001220960929250264),\n",
       " ('JetEta(JetPt|3)', 0.001220960929250264),\n",
       " ('JetPt(JetPt|3)', 0.0006929778247096093)]"
      ]
     },
     "execution_count": 61,
     "metadata": {},
     "output_type": "execute_result"
    }
   ],
   "source": [
    "implist"
   ]
  },
  {
   "cell_type": "code",
   "execution_count": 62,
   "metadata": {
    "collapsed": false,
    "scrolled": false
   },
   "outputs": [],
   "source": [
    "%%capture\n",
    "fig, implist = plot_variables([(\"WHl\", \"ZHh\")])"
   ]
  },
  {
   "cell_type": "code",
   "execution_count": 63,
   "metadata": {
    "collapsed": true
   },
   "outputs": [],
   "source": [
    "impdict = {convert_varname(entry[0]): [entry[1]] for entry in implist}\n",
    "impdict[\"discriminant\"] = \"D_WHl_ZHh_ML\"\n",
    "df = df.append(pd.DataFrame.from_dict(impdict))"
   ]
  },
  {
   "cell_type": "code",
   "execution_count": 64,
   "metadata": {
    "collapsed": true
   },
   "outputs": [],
   "source": [
    "append_variables(confhandler, impdict, threshold_fscore)"
   ]
  },
  {
   "cell_type": "code",
   "execution_count": 65,
   "metadata": {
    "collapsed": false
   },
   "outputs": [
    {
     "data": {
      "text/plain": [
       "[('PFMET', 0.1491066252042376),\n",
       " ('Z2Pt', 0.05544721446265746),\n",
       " ('D_VBF1j_ggH_ME', 0.05534180150740526),\n",
       " ('ExtraLepPt(ExtraLepPt|0)', 0.05354978126811785),\n",
       " ('nCleanedJetsPt30BTagged_bTagSF', 0.04891161123702103),\n",
       " ('JetPt(JetPt|0)', 0.04801560111737733),\n",
       " ('ZZMass_masked', 0.04696147156485532),\n",
       " ('Z1Mass', 0.04480050598218521),\n",
       " ('JetEta(JetPt|0)', 0.0429557792652717),\n",
       " ('JetPhi(JetPt|0)', 0.0425341274442629),\n",
       " ('ZZMassErr', 0.04079481368260159),\n",
       " ('ZZPt', 0.040583987772097194),\n",
       " ('ZZEta', 0.04047857481684499),\n",
       " ('Z1Pt', 0.040056922995836186),\n",
       " ('ZZPhi', 0.03826490275654878),\n",
       " ('D_ZHh_ggH_ME', 0.030411637590259843),\n",
       " ('Z2Mass', 0.03009539872450324),\n",
       " ('D_WHh_ggH_ME', 0.01944869024403099),\n",
       " ('D_VBF2j_WHh_ME', 0.015495704422073472),\n",
       " ('ExtraLepPhi(ExtraLepPt|0)', 0.013545564749907764),\n",
       " ('ExtraLepEta(ExtraLepPt|0)', 0.01296579349602066),\n",
       " ('JetPt(JetPt|1)', 0.012333315764507458),\n",
       " ('nExtraLep', 0.012175196331629157),\n",
       " ('D_WHh_ZHh_ME', 0.009856111316080746),\n",
       " ('JetPhi(JetPt|1)', 0.008064091076793338),\n",
       " ('JetEta(JetPt|2)', 0.007484319822906235),\n",
       " ('D_VBF2j_ZHh_ME', 0.00648289674801033),\n",
       " ('nCleanedJetsPt30', 0.00637748379275813),\n",
       " ('JetPt(JetPt|2)', 0.006166657882253729),\n",
       " ('JetEta(JetPt|1)', 0.005903125494123228),\n",
       " ('JetPhi(JetPt|2)', 0.005481473673114426),\n",
       " ('D_VBF2j_ggH_ME', 0.00426922468771412),\n",
       " ('Z2Flav', 0.0033205080904443155),\n",
       " ('Z1Flav', 0.0011595425077742054),\n",
       " ('JetEta(JetPt|3)', 0.0005797712538871027),\n",
       " ('JetPhi(JetPt|3)', 0.0005797712538871027)]"
      ]
     },
     "execution_count": 65,
     "metadata": {},
     "output_type": "execute_result"
    }
   ],
   "source": [
    "implist"
   ]
  },
  {
   "cell_type": "code",
   "execution_count": 66,
   "metadata": {
    "collapsed": false,
    "scrolled": false
   },
   "outputs": [],
   "source": [
    "%%capture\n",
    "fig, implist = plot_variables([(\"WHl\", \"ZHl\")])"
   ]
  },
  {
   "cell_type": "code",
   "execution_count": 67,
   "metadata": {
    "collapsed": true
   },
   "outputs": [],
   "source": [
    "impdict = {convert_varname(entry[0]): [entry[1]] for entry in implist}\n",
    "impdict[\"discriminant\"] = \"D_WHl_ZHl_ML\"\n",
    "df = df.append(pd.DataFrame.from_dict(impdict))"
   ]
  },
  {
   "cell_type": "code",
   "execution_count": 68,
   "metadata": {
    "collapsed": true
   },
   "outputs": [],
   "source": [
    "append_variables(confhandler, impdict, threshold_fscore)"
   ]
  },
  {
   "cell_type": "code",
   "execution_count": 69,
   "metadata": {
    "collapsed": false
   },
   "outputs": [
    {
     "data": {
      "text/plain": [
       "[('PFMET', 0.10971298789310768),\n",
       " ('Z1Mass', 0.09722145905452681),\n",
       " ('Z2Mass', 0.08606700001831602),\n",
       " ('ZZPt', 0.07584665824129531),\n",
       " ('Z2Pt', 0.07110280784658497),\n",
       " ('Z1Pt', 0.06886825283440481),\n",
       " ('ZZEta', 0.053812480539223766),\n",
       " ('ZZMassErr', 0.04525889700899317),\n",
       " ('JetPt(JetPt|0)', 0.043372346465923035),\n",
       " ('ZZMass_masked', 0.042035276663552945),\n",
       " ('ZZPhi', 0.03509350330604245),\n",
       " ('ExtraLepPt(ExtraLepPt|0)', 0.026283495430151838),\n",
       " ('JetEta(JetPt|0)', 0.0256973826400718),\n",
       " ('JetPhi(JetPt|0)', 0.02373756799824166),\n",
       " ('ExtraLepEta(ExtraLepPt|0)', 0.022638606516841586),\n",
       " ('D_VBF1j_ggH_ME', 0.019561514368921368),\n",
       " ('ExtraLepPhi(ExtraLepPt|0)', 0.01928677399857135),\n",
       " ('nExtraLep', 0.013810282616260966),\n",
       " ('D_ZHh_ggH_ME', 0.012729637159550892),\n",
       " ('JetPhi(JetPt|1)', 0.011539095554700807),\n",
       " ('JetEta(JetPt|1)', 0.0100005494807407),\n",
       " ('D_WHh_ZHh_ME', 0.008810007875890617),\n",
       " ('D_VBF2j_ggH_ME', 0.008443687382090592),\n",
       " ('JetPt(JetPt|1)', 0.007912522666080554),\n",
       " ('nCleanedJetsPt30BTagged_bTagSF', 0.007179881678480503),\n",
       " ('D_WHh_ggH_ME', 0.006154184295840431),\n",
       " ('ExtraLepPt(ExtraLepPt|1)', 0.006062604172390424),\n",
       " ('nExtraZ', 0.005110170888510358),\n",
       " ('nCleanedJetsPt30', 0.004414161950290309),\n",
       " ('Z2Flav', 0.0042859497774603),\n",
       " ('JetEta(JetPt|2)', 0.004176053629320292),\n",
       " ('Z1Flav', 0.0039928933824202794),\n",
       " ('D_VBF2j_WHh_ME', 0.0037731010861402643),\n",
       " ('ExtraLepEta(ExtraLepPt|1)', 0.003388464567650237),\n",
       " ('JetPt(JetPt|2)', 0.0031503562466802205),\n",
       " ('D_VBF2j_ZHh_ME', 0.0028572998516402),\n",
       " ('JetPhi(JetPt|2)', 0.0028572998516402),\n",
       " ('ExtraLepPhi(ExtraLepPt|1)', 0.0024909793578401745),\n",
       " ('JetPhi(JetPt|3)', 0.0006410608641500449),\n",
       " ('JetEta(JetPt|3)', 0.00042126856787002946),\n",
       " ('JetPt(JetPt|3)', 0.00020147627159001412)]"
      ]
     },
     "execution_count": 69,
     "metadata": {},
     "output_type": "execute_result"
    }
   ],
   "source": [
    "implist"
   ]
  },
  {
   "cell_type": "code",
   "execution_count": 70,
   "metadata": {
    "collapsed": false,
    "scrolled": false
   },
   "outputs": [],
   "source": [
    "%%capture\n",
    "fig, implist = plot_variables([(\"WHl\", \"ZHMET\")])"
   ]
  },
  {
   "cell_type": "code",
   "execution_count": 71,
   "metadata": {
    "collapsed": true
   },
   "outputs": [],
   "source": [
    "impdict = {convert_varname(entry[0]): [entry[1]] for entry in implist}\n",
    "impdict[\"discriminant\"] = \"D_WHl_ZHMET_ML\"\n",
    "df = df.append(pd.DataFrame.from_dict(impdict))"
   ]
  },
  {
   "cell_type": "code",
   "execution_count": 72,
   "metadata": {
    "collapsed": true
   },
   "outputs": [],
   "source": [
    "append_variables(confhandler, impdict, threshold_fscore)"
   ]
  },
  {
   "cell_type": "code",
   "execution_count": 73,
   "metadata": {
    "collapsed": false
   },
   "outputs": [
    {
     "data": {
      "text/plain": [
       "[('PFMET', 0.10432389937106919),\n",
       " ('Z1Mass', 0.09347484276729559),\n",
       " ('ZZPt', 0.08852201257861635),\n",
       " ('ZZPhi', 0.07963836477987421),\n",
       " ('Z1Pt', 0.05911949685534591),\n",
       " ('Z2Pt', 0.05731132075471698),\n",
       " ('ZZEta', 0.05628930817610063),\n",
       " ('Z2Mass', 0.05566037735849057),\n",
       " ('ExtraLepPt(ExtraLepPt|0)', 0.05479559748427673),\n",
       " ('ExtraLepEta(ExtraLepPt|0)', 0.04504716981132075),\n",
       " ('JetPt(JetPt|0)', 0.04355345911949685),\n",
       " ('ZZMassErr', 0.039072327044025155),\n",
       " ('JetPhi(JetPt|0)', 0.030660377358490566),\n",
       " ('JetEta(JetPt|0)', 0.029716981132075472),\n",
       " ('ZZMass_masked', 0.0264937106918239),\n",
       " ('D_VBF1j_ggH_ME', 0.021776729559748426),\n",
       " ('nExtraLep', 0.014229559748427673),\n",
       " ('JetPhi(JetPt|1)', 0.013522012578616353),\n",
       " ('ExtraLepPhi(ExtraLepPt|1)', 0.013364779874213837),\n",
       " ('D_VBF2j_WHh_ME', 0.009669811320754717),\n",
       " ('JetPt(JetPt|1)', 0.009591194968553459),\n",
       " ('JetEta(JetPt|1)', 0.008254716981132075),\n",
       " ('D_VBF2j_ggH_ME', 0.006603773584905661),\n",
       " ('D_ZHh_ggH_ME', 0.006289308176100629),\n",
       " ('ExtraLepPhi(ExtraLepPt|0)', 0.005581761006289308),\n",
       " ('nExtraZ', 0.005345911949685534),\n",
       " ('JetPt(JetPt|2)', 0.0042452830188679245),\n",
       " ('ExtraLepEta(ExtraLepPt|1)', 0.004166666666666667),\n",
       " ('JetEta(JetPt|2)', 0.003380503144654088),\n",
       " ('D_WHh_ZHh_ME', 0.002830188679245283),\n",
       " ('JetPhi(JetPt|2)', 0.0025943396226415093),\n",
       " ('Z2Flav', 0.0013364779874213836),\n",
       " ('JetPhi(JetPt|3)', 0.0009433962264150943),\n",
       " ('Z1Flav', 0.0007075471698113207),\n",
       " ('D_VBF2j_ZHh_ME', 0.0007075471698113207),\n",
       " ('nCleanedJetsPt30BTagged_bTagSF', 0.0006289308176100629),\n",
       " ('nCleanedJetsPt30', 0.0002358490566037736),\n",
       " ('D_WHh_ggH_ME', 0.0002358490566037736),\n",
       " ('JetPt(JetPt|3)', 7.861635220125786e-05)]"
      ]
     },
     "execution_count": 73,
     "metadata": {},
     "output_type": "execute_result"
    }
   ],
   "source": [
    "implist"
   ]
  },
  {
   "cell_type": "code",
   "execution_count": 74,
   "metadata": {
    "collapsed": false,
    "scrolled": false
   },
   "outputs": [],
   "source": [
    "%%capture\n",
    "fig, implist = plot_variables([(\"WHl\", \"ttHh\")])"
   ]
  },
  {
   "cell_type": "code",
   "execution_count": 75,
   "metadata": {
    "collapsed": true
   },
   "outputs": [],
   "source": [
    "impdict = {convert_varname(entry[0]): [entry[1]] for entry in implist}\n",
    "impdict[\"discriminant\"] = \"D_WHl_ttHh_ML\"\n",
    "df = df.append(pd.DataFrame.from_dict(impdict))"
   ]
  },
  {
   "cell_type": "code",
   "execution_count": 76,
   "metadata": {
    "collapsed": true
   },
   "outputs": [],
   "source": [
    "append_variables(confhandler, impdict, threshold_fscore)"
   ]
  },
  {
   "cell_type": "code",
   "execution_count": 77,
   "metadata": {
    "collapsed": false
   },
   "outputs": [
    {
     "data": {
      "text/plain": [
       "[('PFMET', 0.12430020625499853),\n",
       " ('JetPt(JetPt|0)', 0.07261017805278444),\n",
       " ('ExtraLepPt(ExtraLepPt|0)', 0.06802205665698531),\n",
       " ('nCleanedJetsPt30BTagged_bTagSF', 0.062129056699078165),\n",
       " ('Z1Mass', 0.043987035400092606),\n",
       " ('ZZMassErr', 0.04285052826535337),\n",
       " ('ZZEta', 0.035652649745338216),\n",
       " ('Z2Mass', 0.03434777118323021),\n",
       " ('JetPt(JetPt|1)', 0.03224312834112051),\n",
       " ('ZZMass_masked', 0.029254535505324746),\n",
       " ('Z2Pt', 0.028412678368480868),\n",
       " ('JetEta(JetPt|1)', 0.02811802837058551),\n",
       " ('D_WHh_ggH_ME', 0.027907564086374542),\n",
       " ('ZZPhi', 0.02757082123163699),\n",
       " ('JetPt(JetPt|2)', 0.027276171233741636),\n",
       " ('JetEta(JetPt|0)', 0.0261396640990024),\n",
       " ('JetPhi(JetPt|0)', 0.02601338552847582),\n",
       " ('JetPt(JetPt|3)', 0.024455949825314644),\n",
       " ('ZZPt', 0.02289851412215347),\n",
       " ('D_WHh_ZHh_ME', 0.022098749842151787),\n",
       " ('JetEta(JetPt|2)', 0.019615271288462348),\n",
       " ('Z1Pt', 0.01932062129056699),\n",
       " ('D_VBF1j_ggH_ME', 0.01919434272004041),\n",
       " ('D_ZHh_ggH_ME', 0.017510628446352653),\n",
       " ('D_VBF2j_ggH_ME', 0.016500399882140002),\n",
       " ('ExtraLepEta(ExtraLepPt|0)', 0.015995285600033674),\n",
       " ('nCleanedJetsPt30', 0.01389064275792398),\n",
       " ('JetPhi(JetPt|1)', 0.012417392768447194),\n",
       " ('JetPhi(JetPt|2)', 0.011743907058972092),\n",
       " ('ExtraLepPhi(ExtraLepPt|0)', 0.009512985646335816),\n",
       " ('JetEta(JetPt|3)', 0.00942879993265143),\n",
       " ('D_VBF2j_ZHh_ME', 0.007618807088437092),\n",
       " ('D_VBF2j_WHh_ME', 0.006819042808435409),\n",
       " ('nExtraLep', 0.005598349960011786),\n",
       " ('JetPhi(JetPt|3)', 0.004756492823167908),\n",
       " ('Z1Flav', 0.003156964263164541),\n",
       " ('Z2Flav', 0.0006313928526329082)]"
      ]
     },
     "execution_count": 77,
     "metadata": {},
     "output_type": "execute_result"
    }
   ],
   "source": [
    "implist"
   ]
  },
  {
   "cell_type": "code",
   "execution_count": 78,
   "metadata": {
    "collapsed": false,
    "scrolled": false
   },
   "outputs": [],
   "source": [
    "%%capture\n",
    "fig, implist = plot_variables([(\"WHl\", \"ttHl\")])"
   ]
  },
  {
   "cell_type": "code",
   "execution_count": 79,
   "metadata": {
    "collapsed": true
   },
   "outputs": [],
   "source": [
    "impdict = {convert_varname(entry[0]): [entry[1]] for entry in implist}\n",
    "impdict[\"discriminant\"] = \"D_WHl_ttHl_ML\"\n",
    "df = df.append(pd.DataFrame.from_dict(impdict))"
   ]
  },
  {
   "cell_type": "code",
   "execution_count": 80,
   "metadata": {
    "collapsed": true
   },
   "outputs": [],
   "source": [
    "append_variables(confhandler, impdict, threshold_fscore)"
   ]
  },
  {
   "cell_type": "code",
   "execution_count": 81,
   "metadata": {
    "collapsed": false
   },
   "outputs": [
    {
     "data": {
      "text/plain": [
       "[('ZZMass_masked', 0.09034457567271399),\n",
       " ('JetPt(JetPt|0)', 0.06995007914282235),\n",
       " ('PFMET', 0.06733227809570194),\n",
       " ('ZZEta', 0.0647753561427006),\n",
       " ('nCleanedJetsPt30BTagged_bTagSF', 0.06069645683672227),\n",
       " ('ZZPt', 0.057774260319006454),\n",
       " ('Z2Pt', 0.04803360525995373),\n",
       " ('Z1Mass', 0.0392061366126872),\n",
       " ('JetPt(JetPt|1)', 0.0371362474126385),\n",
       " ('Z2Mass', 0.031474491659564105),\n",
       " ('JetPhi(JetPt|0)', 0.030500426153658833),\n",
       " ('JetEta(JetPt|0)', 0.02861317423596737),\n",
       " ('ExtraLepEta(ExtraLepPt|0)', 0.02843053695361013),\n",
       " ('ExtraLepPt(ExtraLepPt|0)', 0.025630098624132472),\n",
       " ('ExtraLepPt(ExtraLepPt|1)', 0.025630098624132472),\n",
       " ('D_WHh_ZHh_ME', 0.024169000365274564),\n",
       " ('D_VBF2j_ggH_ME', 0.02386460489467917),\n",
       " ('Z1Pt', 0.023803725800560088),\n",
       " ('ZZMassErr', 0.023012297577012054),\n",
       " ('JetEta(JetPt|1)', 0.020942408376963352),\n",
       " ('JetPt(JetPt|2)', 0.016559113600389627),\n",
       " ('JetPhi(JetPt|1)', 0.016559113600389627),\n",
       " ('D_ZHh_ggH_ME', 0.015463289906246194),\n",
       " ('D_VBF1j_ggH_ME', 0.015402410812127116),\n",
       " ('JetPt(JetPt|3)', 0.014489224400340922),\n",
       " ('nExtraLep', 0.01375867527091197),\n",
       " ('ExtraLepPhi(ExtraLepPt|0)', 0.013149884329721175),\n",
       " ('ZZPhi', 0.012906367953244857),\n",
       " ('nCleanedJetsPt30', 0.011932302447339584),\n",
       " ('D_WHh_ggH_ME', 0.010897357847315232),\n",
       " ('JetEta(JetPt|2)', 0.00876658955314745),\n",
       " ('JetPhi(JetPt|2)', 0.004809448435407281),\n",
       " ('JetEta(JetPt|3)', 0.004383294776573725),\n",
       " ('JetPhi(JetPt|3)', 0.004078899305978327),\n",
       " ('D_VBF2j_WHh_ME', 0.0037745038353829293),\n",
       " ('nExtraZ', 0.002739559235358578),\n",
       " ('Z2Flav', 0.0025569219530013395),\n",
       " ('D_VBF2j_ZHh_ME', 0.0024351637647631805),\n",
       " ('Z1Flav', 0.002374284670644101),\n",
       " ('ExtraLepEta(ExtraLepPt|1)', 0.0013393400706197493),\n",
       " ('ExtraLepPhi(ExtraLepPt|1)', 0.00030439547059539756)]"
      ]
     },
     "execution_count": 81,
     "metadata": {},
     "output_type": "execute_result"
    }
   ],
   "source": [
    "implist"
   ]
  },
  {
   "cell_type": "code",
   "execution_count": 82,
   "metadata": {
    "collapsed": false,
    "scrolled": false
   },
   "outputs": [],
   "source": [
    "%%capture\n",
    "fig, implist = plot_variables([(\"ZHh\", \"ZHl\")])"
   ]
  },
  {
   "cell_type": "code",
   "execution_count": 83,
   "metadata": {
    "collapsed": true
   },
   "outputs": [],
   "source": [
    "impdict = {convert_varname(entry[0]): [entry[1]] for entry in implist}\n",
    "impdict[\"discriminant\"] = \"D_ZHh_ZHl_ML\"\n",
    "df = df.append(pd.DataFrame.from_dict(impdict))"
   ]
  },
  {
   "cell_type": "code",
   "execution_count": 84,
   "metadata": {
    "collapsed": true
   },
   "outputs": [],
   "source": [
    "append_variables(confhandler, impdict, threshold_fscore)"
   ]
  },
  {
   "cell_type": "code",
   "execution_count": 85,
   "metadata": {
    "collapsed": false
   },
   "outputs": [
    {
     "data": {
      "text/plain": [
       "[('Z1Mass', 0.12084453160940413),\n",
       " ('Z2Pt', 0.08869034648071475),\n",
       " ('Z2Mass', 0.07617248977022348),\n",
       " ('ZZPt', 0.07580930243819763),\n",
       " ('Z1Pt', 0.07563981501658555),\n",
       " ('PFMET', 0.07101522965545629),\n",
       " ('ZZMassErr', 0.05672986126243917),\n",
       " ('JetPt(JetPt|0)', 0.04622164112249098),\n",
       " ('ZZMass_masked', 0.040095881455654826),\n",
       " ('JetPhi(JetPt|0)', 0.03864313212755139),\n",
       " ('ZZPhi', 0.037868332485896224),\n",
       " ('ZZEta', 0.03692404542262899),\n",
       " ('JetEta(JetPt|0)', 0.026512675237887702),\n",
       " ('ExtraLepPt(ExtraLepPt|0)', 0.0260042129730515),\n",
       " ('D_VBF1j_ggH_ME', 0.021403840100723954),\n",
       " ('D_WHh_ZHh_ME', 0.0209438028134912),\n",
       " ('D_WHh_ggH_ME', 0.017069804605215372),\n",
       " ('nCleanedJetsPt30BTagged_bTagSF', 0.01547178034430159),\n",
       " ('D_ZHh_ggH_ME', 0.013050531464129198),\n",
       " ('JetPhi(JetPt|1)', 0.010241882763129222),\n",
       " ('D_VBF2j_WHh_ME', 0.009854482942301639),\n",
       " ('JetEta(JetPt|1)', 0.00813539623737924),\n",
       " ('JetPt(JetPt|1)', 0.0070458342413016635),\n",
       " ('ExtraLepEta(ExtraLepPt|0)', 0.006997409263698216),\n",
       " ('D_VBF2j_ggH_ME', 0.006706859398077528),\n",
       " ('ExtraLepPhi(ExtraLepPt|0)', 0.006077334689232706),\n",
       " ('JetPt(JetPt|2)', 0.006053122200430982),\n",
       " ('nExtraLep', 0.005956272245224087),\n",
       " ('JetPhi(JetPt|2)', 0.004697222827534442),\n",
       " ('D_VBF2j_ZHh_ME', 0.004406672961913755),\n",
       " ('nCleanedJetsPt30', 0.0035834483426551416),\n",
       " ('JetEta(JetPt|2)', 0.003462385898646522),\n",
       " ('JetPt(JetPt|3)', 0.003438173409844798),\n",
       " ('Z2Flav', 0.003002348611413767),\n",
       " ('Z1Flav', 0.002857073678603424),\n",
       " ('JetPhi(JetPt|3)', 0.0013074743952930922),\n",
       " ('JetEta(JetPt|3)', 0.001065349507275853)]"
      ]
     },
     "execution_count": 85,
     "metadata": {},
     "output_type": "execute_result"
    }
   ],
   "source": [
    "implist"
   ]
  },
  {
   "cell_type": "code",
   "execution_count": 86,
   "metadata": {
    "collapsed": false,
    "scrolled": false
   },
   "outputs": [],
   "source": [
    "%%capture\n",
    "fig, implist = plot_variables([(\"ZHh\", \"ZHMET\")])"
   ]
  },
  {
   "cell_type": "code",
   "execution_count": 87,
   "metadata": {
    "collapsed": true
   },
   "outputs": [],
   "source": [
    "impdict = {convert_varname(entry[0]): [entry[1]] for entry in implist}\n",
    "impdict[\"discriminant\"] = \"D_ZHh_ZHMET_ML\"\n",
    "df = df.append(pd.DataFrame.from_dict(impdict))"
   ]
  },
  {
   "cell_type": "code",
   "execution_count": 88,
   "metadata": {
    "collapsed": true
   },
   "outputs": [],
   "source": [
    "append_variables(confhandler, impdict, threshold_fscore)"
   ]
  },
  {
   "cell_type": "code",
   "execution_count": 89,
   "metadata": {
    "collapsed": false
   },
   "outputs": [
    {
     "data": {
      "text/plain": [
       "[('PFMET', 0.14271876009041007),\n",
       " ('ZZPt', 0.0738707709970222),\n",
       " ('ZZEta', 0.06185197144189718),\n",
       " ('JetPt(JetPt|0)', 0.05898181035410612),\n",
       " ('Z1Pt', 0.05837190112295053),\n",
       " ('Z1Mass', 0.0554299860079647),\n",
       " ('Z2Pt', 0.05385139740967962),\n",
       " ('ZZPhi', 0.047537043016539306),\n",
       " ('Z2Mass', 0.04585082337746206),\n",
       " ('JetEta(JetPt|0)', 0.04491802102392997),\n",
       " ('D_VBF1j_ggH_ME', 0.03878305169877659),\n",
       " ('nCleanedJetsPt30BTagged_bTagSF', 0.03189466508807807),\n",
       " ('ZZMassErr', 0.031213001829727693),\n",
       " ('D_WHh_ggH_ME', 0.03067484662576687),\n",
       " ('D_WHh_ZHh_ME', 0.029203889068273956),\n",
       " ('D_ZHh_ggH_ME', 0.027123022279625444),\n",
       " ('JetPhi(JetPt|0)', 0.022279625443978043),\n",
       " ('D_VBF2j_ggH_ME', 0.02044989775051125),\n",
       " ('JetPt(JetPt|1)', 0.01808201485308363),\n",
       " ('JetEta(JetPt|1)', 0.017938506798694076),\n",
       " ('JetPhi(JetPt|1)', 0.017759121730707136),\n",
       " ('JetPt(JetPt|2)', 0.014960714670110859),\n",
       " ('D_VBF2j_ZHh_ME', 0.012090553582319807),\n",
       " ('D_VBF2j_WHh_ME', 0.009292146521723532),\n",
       " ('nCleanedJetsPt30', 0.007175402719477631),\n",
       " ('JetEta(JetPt|2)', 0.005166289958023894),\n",
       " ('Z1Flav', 0.004484626699673519),\n",
       " ('JetEta(JetPt|3)', 0.003946471495712697),\n",
       " ('JetPhi(JetPt|2)', 0.0029060381013884403),\n",
       " ('ExtraLepPt(ExtraLepPt|0)', 0.0026907760198041117),\n",
       " ('JetPhi(JetPt|3)', 0.002619021992609335),\n",
       " ('ZZMass_masked', 0.0019373587342589602),\n",
       " ('ExtraLepEta(ExtraLepPt|0)', 0.0015785885982850787),\n",
       " ('Z2Flav', 0.0015068345710903025),\n",
       " ('nExtraLep', 0.0003946471495712697),\n",
       " ('JetPt(JetPt|3)', 0.00032289312237649337),\n",
       " ('ExtraLepPhi(ExtraLepPt|0)', 0.0001435080543895526)]"
      ]
     },
     "execution_count": 89,
     "metadata": {},
     "output_type": "execute_result"
    }
   ],
   "source": [
    "implist"
   ]
  },
  {
   "cell_type": "code",
   "execution_count": 90,
   "metadata": {
    "collapsed": false,
    "scrolled": false
   },
   "outputs": [],
   "source": [
    "%%capture\n",
    "fig, implist = plot_variables([(\"ZHh\", \"ttHh\")])"
   ]
  },
  {
   "cell_type": "code",
   "execution_count": 91,
   "metadata": {
    "collapsed": true
   },
   "outputs": [],
   "source": [
    "impdict = {convert_varname(entry[0]): [entry[1]] for entry in implist}\n",
    "impdict[\"discriminant\"] = \"D_ZHh_ttHh_ML\"\n",
    "df = df.append(pd.DataFrame.from_dict(impdict))"
   ]
  },
  {
   "cell_type": "code",
   "execution_count": 92,
   "metadata": {
    "collapsed": true
   },
   "outputs": [],
   "source": [
    "append_variables(confhandler, impdict, threshold_fscore)"
   ]
  },
  {
   "cell_type": "code",
   "execution_count": 93,
   "metadata": {
    "collapsed": false
   },
   "outputs": [
    {
     "data": {
      "text/plain": [
       "[('nCleanedJetsPt30BTagged_bTagSF', 0.09986684420772303),\n",
       " ('JetPt(JetPt|0)', 0.06051191004586477),\n",
       " ('PFMET', 0.056961088918479064),\n",
       " ('nCleanedJetsPt30', 0.056813138038171326),\n",
       " ('JetPt(JetPt|2)', 0.04778813433939932),\n",
       " ('JetPt(JetPt|1)', 0.046308625536321944),\n",
       " ('ZZEta', 0.04053854120432016),\n",
       " ('JetEta(JetPt|2)', 0.04009468856339695),\n",
       " ('JetPt(JetPt|3)', 0.037875425358780884),\n",
       " ('ZZPt', 0.03757952359816541),\n",
       " ('D_VBF1j_ggH_ME', 0.03654386743601124),\n",
       " ('D_VBF2j_ZHh_ME', 0.03491640775262613),\n",
       " ('ZZMass_masked', 0.030477881343393992),\n",
       " ('D_WHh_ggH_ME', 0.030329930463086255),\n",
       " ('JetEta(JetPt|1)', 0.029442225181239828),\n",
       " ('Z1Pt', 0.028998372540316616),\n",
       " ('D_WHh_ZHh_ME', 0.0273709128569315),\n",
       " ('Z1Mass', 0.0273709128569315),\n",
       " ('D_ZHh_ggH_ME', 0.024263944370469005),\n",
       " ('ExtraLepPt(ExtraLepPt|0)', 0.02174877940523746),\n",
       " ('Z2Pt', 0.01908566355969818),\n",
       " ('JetPhi(JetPt|1)', 0.018789761799082705),\n",
       " ('JetEta(JetPt|0)', 0.01834590915815949),\n",
       " ('JetPhi(JetPt|3)', 0.017310252996005325),\n",
       " ('Z2Mass', 0.014499186270158308),\n",
       " ('ExtraLepPhi(ExtraLepPt|0)', 0.014351235389850569),\n",
       " ('JetEta(JetPt|3)', 0.01361148098831188),\n",
       " ('D_VBF2j_WHh_ME', 0.01301967746708093),\n",
       " ('nExtraLep', 0.011392217783695813),\n",
       " ('ZZMassErr', 0.009616807220002958),\n",
       " ('D_VBF2j_ggH_ME', 0.009025003698772007),\n",
       " ('JetPhi(JetPt|0)', 0.008433200177541057),\n",
       " ('JetPhi(JetPt|2)', 0.00813729841692558),\n",
       " ('ZZPhi', 0.005326231691078562),\n",
       " ('ExtraLepEta(ExtraLepPt|0)', 0.001775410563692854),\n",
       " ('Z2Flav', 0.0014795088030773783)]"
      ]
     },
     "execution_count": 93,
     "metadata": {},
     "output_type": "execute_result"
    }
   ],
   "source": [
    "implist"
   ]
  },
  {
   "cell_type": "code",
   "execution_count": 94,
   "metadata": {
    "collapsed": false,
    "scrolled": false
   },
   "outputs": [],
   "source": [
    "%%capture\n",
    "fig, implist = plot_variables([(\"ZHh\", \"ttHl\")])"
   ]
  },
  {
   "cell_type": "code",
   "execution_count": 95,
   "metadata": {
    "collapsed": true
   },
   "outputs": [],
   "source": [
    "impdict = {convert_varname(entry[0]): [entry[1]] for entry in implist}\n",
    "impdict[\"discriminant\"] = \"D_ZHh_ttHl_ML\"\n",
    "df = df.append(pd.DataFrame.from_dict(impdict))"
   ]
  },
  {
   "cell_type": "code",
   "execution_count": 96,
   "metadata": {
    "collapsed": true
   },
   "outputs": [],
   "source": [
    "append_variables(confhandler, impdict, threshold_fscore)"
   ]
  },
  {
   "cell_type": "code",
   "execution_count": 97,
   "metadata": {
    "collapsed": false
   },
   "outputs": [
    {
     "data": {
      "text/plain": [
       "[('PFMET', 0.1061828868543009),\n",
       " ('Z1Mass', 0.061376737877246526),\n",
       " ('Z2Pt', 0.05011868429976263),\n",
       " ('ExtraLepPt(ExtraLepPt|0)', 0.04546173844240985),\n",
       " ('Z2Mass', 0.04543913190912174),\n",
       " ('ZZEta', 0.045416525375833613),\n",
       " ('ZZPhi', 0.043449756979767155),\n",
       " ('ZZPt', 0.042635921781394824),\n",
       " ('D_VBF1j_ggH_ME', 0.0404883011190234),\n",
       " ('ZZMass_masked', 0.039290154854753026),\n",
       " ('ZZMassErr', 0.03788854979088957),\n",
       " ('JetPt(JetPt|0)', 0.03653215779360235),\n",
       " ('nCleanedJetsPt30BTagged_bTagSF', 0.031943031536113935),\n",
       " ('JetEta(JetPt|0)', 0.02981801740703063),\n",
       " ('Z1Pt', 0.029162427941675145),\n",
       " ('D_VBF2j_ZHh_ME', 0.027466937945066123),\n",
       " ('D_WHh_ZHh_ME', 0.02545495648242342),\n",
       " ('D_VBF2j_WHh_ME', 0.022538713688255906),\n",
       " ('JetPt(JetPt|2)', 0.020798010625070647),\n",
       " ('D_VBF2j_ggH_ME', 0.019848536226969596),\n",
       " ('JetPhi(JetPt|1)', 0.01797219396405561),\n",
       " ('JetPt(JetPt|3)', 0.015892392901548546),\n",
       " ('JetEta(JetPt|1)', 0.015801966768396066),\n",
       " ('JetPhi(JetPt|0)', 0.015530688368938624),\n",
       " ('D_WHh_ggH_ME', 0.0151689838363287),\n",
       " ('ExtraLepEta(ExtraLepPt|0)', 0.0151689838363287),\n",
       " ('D_ZHh_ggH_ME', 0.014219509438227649),\n",
       " ('JetPt(JetPt|1)', 0.013021363173957273),\n",
       " ('JetPhi(JetPt|2)', 0.012908330507516672),\n",
       " ('nCleanedJetsPt30', 0.011958856109415621),\n",
       " ('JetEta(JetPt|2)', 0.011325873177348254),\n",
       " ('nExtraLep', 0.0100373007799254),\n",
       " ('ExtraLepPhi(ExtraLepPt|0)', 0.00929128518141743),\n",
       " ('JetPhi(JetPt|3)', 0.007234090652198486),\n",
       " ('Z2Flav', 0.00508646998982706),\n",
       " ('JetEta(JetPt|3)', 0.004317847858030971),\n",
       " ('Z1Flav', 0.003752684525827964)]"
      ]
     },
     "execution_count": 97,
     "metadata": {},
     "output_type": "execute_result"
    }
   ],
   "source": [
    "implist"
   ]
  },
  {
   "cell_type": "code",
   "execution_count": 98,
   "metadata": {
    "collapsed": false,
    "scrolled": false
   },
   "outputs": [],
   "source": [
    "%%capture\n",
    "fig, implist = plot_variables([(\"ZHl\", \"ggH\")])"
   ]
  },
  {
   "cell_type": "code",
   "execution_count": 99,
   "metadata": {
    "collapsed": true
   },
   "outputs": [],
   "source": [
    "impdict = {convert_varname(entry[0]): [entry[1]] for entry in implist}\n",
    "impdict[\"discriminant\"] = \"D_ZHl_ggH_ML\"\n",
    "df = df.append(pd.DataFrame.from_dict(impdict))"
   ]
  },
  {
   "cell_type": "code",
   "execution_count": 100,
   "metadata": {
    "collapsed": true
   },
   "outputs": [],
   "source": [
    "append_variables(confhandler, impdict, threshold_fscore)"
   ]
  },
  {
   "cell_type": "code",
   "execution_count": 101,
   "metadata": {
    "collapsed": false
   },
   "outputs": [
    {
     "data": {
      "text/plain": [
       "[('Z1Mass', 0.10357239456546616),\n",
       " ('Z2Mass', 0.08391070053887606),\n",
       " ('Z2Pt', 0.08274556311507812),\n",
       " ('ZZPt', 0.0793749869962341),\n",
       " ('Z1Pt', 0.07916692674198447),\n",
       " ('PFMET', 0.0625949274910014),\n",
       " ('ZZMassErr', 0.059193142334019934),\n",
       " ('ZZEta', 0.05700850966439881),\n",
       " ('JetPt(JetPt|0)', 0.04915423506647525),\n",
       " ('ZZPhi', 0.04690718432057924),\n",
       " ('JetEta(JetPt|0)', 0.04076940682021513),\n",
       " ('D_VBF1j_ggH_ME', 0.03238457857395502),\n",
       " ('JetPhi(JetPt|0)', 0.029513347065310114),\n",
       " ('ExtraLepPt(ExtraLepPt|0)', 0.01913114037825354),\n",
       " ('D_WHh_ZHh_ME', 0.01905831928926617),\n",
       " ('ZZMass_masked', 0.01749786738239394),\n",
       " ('D_VBF2j_ggH_ME', 0.016488775149283232),\n",
       " ('JetPhi(JetPt|1)', 0.012192330899028358),\n",
       " ('JetPt(JetPt|1)', 0.011422507958304726),\n",
       " ('D_ZHh_ggH_ME', 0.011297671805754946),\n",
       " ('JetEta(JetPt|1)', 0.010943969373530574),\n",
       " ('D_VBF2j_WHh_ME', 0.007979110750473337),\n",
       " ('D_WHh_ggH_ME', 0.0071156606953373695),\n",
       " ('nCleanedJetsPt30BTagged_bTagSF', 0.007074048644487444),\n",
       " ('JetEta(JetPt|2)', 0.006949212491937665),\n",
       " ('JetPt(JetPt|2)', 0.006543494996150885),\n",
       " ('D_VBF2j_ZHh_ME', 0.005170297318103323),\n",
       " ('ExtraLepEta(ExtraLepPt|0)', 0.004993446101991136),\n",
       " ('JetPhi(JetPt|2)', 0.004743773796891579),\n",
       " ('ExtraLepPhi(ExtraLepPt|0)', 0.004390071364667208),\n",
       " ('Z2Flav', 0.004348459313817282),\n",
       " ('Z1Flav', 0.0040051598943053905),\n",
       " ('nCleanedJetsPt30', 0.0035682333603811664),\n",
       " ('ExtraLepPt(ExtraLepPt|1)', 0.003131306826456942),\n",
       " ('JetPt(JetPt|3)', 0.0016644820339970455),\n",
       " ('JetEta(JetPt|3)', 0.001612466970434638),\n",
       " ('nExtraLep', 0.0015604519068722301),\n",
       " ('JetPhi(JetPt|3)', 0.0006553898008863367),\n",
       " ('ExtraLepPhi(ExtraLepPt|1)', 0.00013523916526225996),\n",
       " ('nExtraZ', 3.1209038137444604e-05)]"
      ]
     },
     "execution_count": 101,
     "metadata": {},
     "output_type": "execute_result"
    }
   ],
   "source": [
    "implist"
   ]
  },
  {
   "cell_type": "code",
   "execution_count": 102,
   "metadata": {
    "collapsed": false,
    "scrolled": false
   },
   "outputs": [],
   "source": [
    "%%capture\n",
    "fig, implist = plot_variables([(\"ZHl\", \"VBF\")])"
   ]
  },
  {
   "cell_type": "code",
   "execution_count": 103,
   "metadata": {
    "collapsed": true
   },
   "outputs": [],
   "source": [
    "impdict = {convert_varname(entry[0]): [entry[1]] for entry in implist}\n",
    "impdict[\"discriminant\"] = \"D_ZHl_VBF_ML\"\n",
    "df = df.append(pd.DataFrame.from_dict(impdict))"
   ]
  },
  {
   "cell_type": "code",
   "execution_count": 104,
   "metadata": {
    "collapsed": true
   },
   "outputs": [],
   "source": [
    "append_variables(confhandler, impdict, threshold_fscore)"
   ]
  },
  {
   "cell_type": "code",
   "execution_count": 105,
   "metadata": {
    "collapsed": false
   },
   "outputs": [
    {
     "data": {
      "text/plain": [
       "[('Z1Mass', 0.08884143713513301),\n",
       " ('Z2Pt', 0.07201347803941544),\n",
       " ('ZZPt', 0.06911413235121264),\n",
       " ('Z1Pt', 0.06895741096266113),\n",
       " ('PFMET', 0.06801708263135212),\n",
       " ('Z2Mass', 0.0653430239391921),\n",
       " ('ZZEta', 0.06310974415233318),\n",
       " ('JetEta(JetPt|0)', 0.055694863456490225),\n",
       " ('ZZMassErr', 0.052638796379735925),\n",
       " ('ZZPhi', 0.04667358852799436),\n",
       " ('JetPt(JetPt|0)', 0.04246170121067273),\n",
       " ('D_VBF1j_ggH_ME', 0.032921286682600005),\n",
       " ('JetPhi(JetPt|0)', 0.03174587626846374),\n",
       " ('D_VBF2j_ggH_ME', 0.028366571327821964),\n",
       " ('D_WHh_ZHh_ME', 0.0234396426752341),\n",
       " ('ExtraLepPt(ExtraLepPt|0)', 0.018404968068017082),\n",
       " ('ZZMass_masked', 0.01716099204638953),\n",
       " ('JetEta(JetPt|1)', 0.016592877012890334),\n",
       " ('D_ZHh_ggH_ME', 0.014163695490342045),\n",
       " ('JetEta(JetPt|2)', 0.014144105316773107),\n",
       " ('ExtraLepEta(ExtraLepPt|0)', 0.013096031030834933),\n",
       " ('JetPhi(JetPt|1)', 0.0126650472123183),\n",
       " ('D_VBF2j_WHh_ME', 0.011097833326803275),\n",
       " ('JetPt(JetPt|1)', 0.010412177251890451),\n",
       " ('JetPhi(JetPt|2)', 0.00961877522234847),\n",
       " ('JetPt(JetPt|2)', 0.00924656192453865),\n",
       " ('D_WHh_ggH_ME', 0.00772832347294597),\n",
       " ('D_VBF2j_ZHh_ME', 0.007424675782627434),\n",
       " ('nCleanedJetsPt30BTagged_bTagSF', 0.004848567958312111),\n",
       " ('Z1Flav', 0.0037221329780981857),\n",
       " ('nExtraLep', 0.003467460721701994),\n",
       " ('Z2Flav', 0.003408690200995181),\n",
       " ('ExtraLepPhi(ExtraLepPt|0)', 0.003398895114210712),\n",
       " ('JetEta(JetPt|3)', 0.003036476903185362),\n",
       " ('JetPt(JetPt|3)', 0.0023214355679191316),\n",
       " ('nCleanedJetsPt30', 0.002223484700074443),\n",
       " ('ExtraLepPt(ExtraLepPt|1)', 0.0012439760216275517),\n",
       " ('JetPhi(JetPt|3)', 0.000999098852015829),\n",
       " ('ExtraLepEta(ExtraLepPt|1)', 0.00023508208282725385)]"
      ]
     },
     "execution_count": 105,
     "metadata": {},
     "output_type": "execute_result"
    }
   ],
   "source": [
    "implist"
   ]
  },
  {
   "cell_type": "code",
   "execution_count": 106,
   "metadata": {
    "collapsed": false,
    "scrolled": false
   },
   "outputs": [],
   "source": [
    "%%capture\n",
    "fig, implist = plot_variables([(\"ZHl\", \"WHh\")])"
   ]
  },
  {
   "cell_type": "code",
   "execution_count": 107,
   "metadata": {
    "collapsed": true
   },
   "outputs": [],
   "source": [
    "impdict = {convert_varname(entry[0]): [entry[1]] for entry in implist}\n",
    "impdict[\"discriminant\"] = \"D_ZHl_WHh_ML\"\n",
    "df = df.append(pd.DataFrame.from_dict(impdict))"
   ]
  },
  {
   "cell_type": "code",
   "execution_count": 108,
   "metadata": {
    "collapsed": true
   },
   "outputs": [],
   "source": [
    "append_variables(confhandler, impdict, threshold_fscore)"
   ]
  },
  {
   "cell_type": "code",
   "execution_count": 109,
   "metadata": {
    "collapsed": false
   },
   "outputs": [
    {
     "data": {
      "text/plain": [
       "[('Z1Mass', 0.09206548089232697),\n",
       " ('Z2Pt', 0.0809794895541089),\n",
       " ('Z2Mass', 0.07900471222727644),\n",
       " ('ZZPt', 0.07594040258219159),\n",
       " ('Z1Pt', 0.07466020210824503),\n",
       " ('PFMET', 0.07387029117751205),\n",
       " ('ZZMassErr', 0.06283877645520661),\n",
       " ('JetPt(JetPt|0)', 0.050200201563478875),\n",
       " ('ZZPhi', 0.041538419633372375),\n",
       " ('ZZEta', 0.04061231716285784),\n",
       " ('JetEta(JetPt|0)', 0.032808541933375096),\n",
       " ('JetPhi(JetPt|0)', 0.031092528532127583),\n",
       " ('D_WHh_ZHh_ME', 0.026148775638057363),\n",
       " ('ZZMass_masked', 0.025454198785171467),\n",
       " ('ExtraLepPt(ExtraLepPt|0)', 0.02166807397924441),\n",
       " ('JetPhi(JetPt|1)', 0.02046958842916678),\n",
       " ('JetEta(JetPt|1)', 0.015907171846484897),\n",
       " ('D_VBF1j_ggH_ME', 0.015348786533380546),\n",
       " ('D_WHh_ggH_ME', 0.013755345517936425),\n",
       " ('nCleanedJetsPt30BTagged_bTagSF', 0.013578296516220412),\n",
       " ('JetPt(JetPt|1)', 0.012624955737749572),\n",
       " ('JetPhi(JetPt|2)', 0.011603519189387955),\n",
       " ('D_ZHh_ggH_ME', 0.011549042573475336),\n",
       " ('D_VBF2j_ggH_ME', 0.010622940102960804),\n",
       " ('D_VBF2j_WHh_ME', 0.00932912047503609),\n",
       " ('ExtraLepEta(ExtraLepPt|0)', 0.006850434451011903),\n",
       " ('JetEta(JetPt|2)', 0.006659766295317735),\n",
       " ('D_VBF2j_ZHh_ME', 0.006196715060060469),\n",
       " ('JetPhi(JetPt|3)', 0.005978808596409991),\n",
       " ('nExtraLep', 0.005611091438999809),\n",
       " ('ExtraLepPhi(ExtraLepPt|0)', 0.005311470051480402),\n",
       " ('Z2Flav', 0.003963173807643069),\n",
       " ('JetEta(JetPt|3)', 0.0036226949581891973),\n",
       " ('Z1Flav', 0.0032685969547571704),\n",
       " ('JetPt(JetPt|2)', 0.0029962138751940728),\n",
       " ('ExtraLepPt(ExtraLepPt|1)', 0.002192683790482935),\n",
       " ('nCleanedJetsPt30', 0.002097349712635851),\n",
       " ('JetPt(JetPt|3)', 0.0015798218614659658)]"
      ]
     },
     "execution_count": 109,
     "metadata": {},
     "output_type": "execute_result"
    }
   ],
   "source": [
    "implist"
   ]
  },
  {
   "cell_type": "code",
   "execution_count": 110,
   "metadata": {
    "collapsed": false,
    "scrolled": false
   },
   "outputs": [],
   "source": [
    "%%capture\n",
    "fig, implist = plot_variables([(\"ZHl\", \"ZHMET\")])"
   ]
  },
  {
   "cell_type": "code",
   "execution_count": 111,
   "metadata": {
    "collapsed": true
   },
   "outputs": [],
   "source": [
    "impdict = {convert_varname(entry[0]): [entry[1]] for entry in implist}\n",
    "impdict[\"discriminant\"] = \"D_ZHl_ZHMET_ML\"\n",
    "df = df.append(pd.DataFrame.from_dict(impdict))"
   ]
  },
  {
   "cell_type": "code",
   "execution_count": 112,
   "metadata": {
    "collapsed": true
   },
   "outputs": [],
   "source": [
    "append_variables(confhandler, impdict, threshold_fscore)"
   ]
  },
  {
   "cell_type": "code",
   "execution_count": 113,
   "metadata": {
    "collapsed": false
   },
   "outputs": [
    {
     "data": {
      "text/plain": [
       "[('PFMET', 0.11174477938338837),\n",
       " ('Z1Mass', 0.10647056301187771),\n",
       " ('Z2Pt', 0.09519317353458256),\n",
       " ('Z1Pt', 0.09304918313965953),\n",
       " ('ZZPt', 0.08074267827280134),\n",
       " ('Z2Mass', 0.07049440418506925),\n",
       " ('ZZMass_masked', 0.051284250246558895),\n",
       " ('JetPt(JetPt|0)', 0.04982633677801124),\n",
       " ('ZZMassErr', 0.042665408858968315),\n",
       " ('ZZEta', 0.042150851164186785),\n",
       " ('ExtraLepPt(ExtraLepPt|0)', 0.039235024227091464),\n",
       " ('ZZPhi', 0.03426096651087003),\n",
       " ('JetEta(JetPt|0)', 0.019210153938510357),\n",
       " ('JetPhi(JetPt|0)', 0.018524077012134987),\n",
       " ('D_VBF1j_ggH_ME', 0.016937524119891943),\n",
       " ('D_ZHh_ggH_ME', 0.014622014493375069),\n",
       " ('nExtraLep', 0.014021697182796621),\n",
       " ('D_VBF2j_WHh_ME', 0.013507139488015093),\n",
       " ('D_VBF2j_ggH_ME', 0.012349384674756657),\n",
       " ('D_WHh_ZHh_ME', 0.010848591398310535),\n",
       " ('ExtraLepEta(ExtraLepPt|0)', 0.008961879850778268),\n",
       " ('Z2Flav', 0.007932764461215214),\n",
       " ('D_WHh_ggH_ME', 0.006517730800566014),\n",
       " ('JetPt(JetPt|1)', 0.006346211568972171),\n",
       " ('JetPt(JetPt|2)', 0.005745894258393723),\n",
       " ('JetPhi(JetPt|1)', 0.005488615411002959),\n",
       " ('JetEta(JetPt|1)', 0.004845418292526049),\n",
       " ('nCleanedJetsPt30BTagged_bTagSF', 0.00415934136615068),\n",
       " ('D_VBF2j_ZHh_ME', 0.004073581750353758),\n",
       " ('JetPhi(JetPt|2)', 0.002015350971227649),\n",
       " ('nCleanedJetsPt30', 0.0017580721238368853),\n",
       " ('ExtraLepPhi(ExtraLepPt|1)', 0.0015007932764461215),\n",
       " ('ExtraLepPhi(ExtraLepPt|0)', 0.0014150336606492003),\n",
       " ('JetEta(JetPt|2)', 0.001114875005359976),\n",
       " ('Z1Flav', 0.0007289567342738304),\n",
       " ('JetPt(JetPt|3)', 0.00021439903949230308),\n",
       " ('JetPhi(JetPt|3)', 4.2879807898460615e-05)]"
      ]
     },
     "execution_count": 113,
     "metadata": {},
     "output_type": "execute_result"
    }
   ],
   "source": [
    "implist"
   ]
  },
  {
   "cell_type": "code",
   "execution_count": 114,
   "metadata": {
    "collapsed": false,
    "scrolled": false
   },
   "outputs": [],
   "source": [
    "%%capture\n",
    "fig, implist = plot_variables([(\"ZHl\", \"ttHh\")])"
   ]
  },
  {
   "cell_type": "code",
   "execution_count": 115,
   "metadata": {
    "collapsed": true
   },
   "outputs": [],
   "source": [
    "impdict = {convert_varname(entry[0]): [entry[1]] for entry in implist}\n",
    "impdict[\"discriminant\"] = \"D_ZHl_ttHh_ML\"\n",
    "df = df.append(pd.DataFrame.from_dict(impdict))"
   ]
  },
  {
   "cell_type": "code",
   "execution_count": 116,
   "metadata": {
    "collapsed": true
   },
   "outputs": [],
   "source": [
    "append_variables(confhandler, impdict, threshold_fscore)"
   ]
  },
  {
   "cell_type": "code",
   "execution_count": 117,
   "metadata": {
    "collapsed": false
   },
   "outputs": [
    {
     "data": {
      "text/plain": [
       "[('JetPt(JetPt|0)', 0.07395215013349231),\n",
       " ('Z1Mass', 0.07270794992094144),\n",
       " ('Z2Mass', 0.05998081858005651),\n",
       " ('ZZMass_masked', 0.058607014178698257),\n",
       " ('Z2Pt', 0.05137510044324633),\n",
       " ('ZZMassErr', 0.04740921226574043),\n",
       " ('nCleanedJetsPt30BTagged_bTagSF', 0.04520594105601493),\n",
       " ('ZZPt', 0.04367661162808782),\n",
       " ('PFMET', 0.04232872806449105),\n",
       " ('JetPt(JetPt|1)', 0.03955519842401307),\n",
       " ('JetPhi(JetPt|0)', 0.030431063531973352),\n",
       " ('D_WHh_ZHh_ME', 0.03030145934316597),\n",
       " ('Z1Pt', 0.02884989242852329),\n",
       " ('ZZEta', 0.028150029808963424),\n",
       " ('ExtraLepPt(ExtraLepPt|0)', 0.028098188133440474),\n",
       " ('D_WHh_ggH_ME', 0.027942663106871615),\n",
       " ('JetPt(JetPt|3)', 0.02607636278804531),\n",
       " ('JetEta(JetPt|1)', 0.02462479587340263),\n",
       " ('JetPt(JetPt|2)', 0.02379532906503538),\n",
       " ('ZZPhi', 0.023562041525182095),\n",
       " ('JetEta(JetPt|0)', 0.022291920474869747),\n",
       " ('JetPhi(JetPt|1)', 0.01876668653930895),\n",
       " ('JetPhi(JetPt|2)', 0.017133673760335935),\n",
       " ('JetPhi(JetPt|3)', 0.017029990409290027),\n",
       " ('JetEta(JetPt|2)', 0.016822623707198215),\n",
       " ('ExtraLepEta(ExtraLepPt|0)', 0.014982244226133389),\n",
       " ('D_ZHh_ggH_ME', 0.01482671919956453),\n",
       " ('nCleanedJetsPt30', 0.009979522538168433),\n",
       " ('ExtraLepPhi(ExtraLepPt|0)', 0.009901760024884004),\n",
       " ('D_VBF2j_ggH_ME', 0.009694393322792193),\n",
       " ('D_VBF1j_ggH_ME', 0.008320588921433942),\n",
       " ('JetEta(JetPt|3)', 0.0076207263018740765),\n",
       " ('D_VBF2j_WHh_ME', 0.007128230384406024),\n",
       " ('D_VBF2j_ZHh_ME', 0.006894942844552736),\n",
       " ('Z1Flav', 0.004924959174680526),\n",
       " ('nExtraLep', 0.003447471422276368),\n",
       " ('ExtraLepPt(ExtraLepPt|1)', 0.0014515669146426813),\n",
       " ('Z2Flav', 0.0012182793747893932),\n",
       " ('nExtraZ', 0.0009331501594131523)]"
      ]
     },
     "execution_count": 117,
     "metadata": {},
     "output_type": "execute_result"
    }
   ],
   "source": [
    "implist"
   ]
  },
  {
   "cell_type": "code",
   "execution_count": 118,
   "metadata": {
    "collapsed": false,
    "scrolled": false
   },
   "outputs": [],
   "source": [
    "%%capture\n",
    "fig, implist = plot_variables([(\"ZHl\", \"ttHl\")])"
   ]
  },
  {
   "cell_type": "code",
   "execution_count": 119,
   "metadata": {
    "collapsed": true
   },
   "outputs": [],
   "source": [
    "impdict = {convert_varname(entry[0]): [entry[1]] for entry in implist}\n",
    "impdict[\"discriminant\"] = \"D_ZHl_ttHl_ML\"\n",
    "df = df.append(pd.DataFrame.from_dict(impdict))"
   ]
  },
  {
   "cell_type": "code",
   "execution_count": 120,
   "metadata": {
    "collapsed": true
   },
   "outputs": [],
   "source": [
    "append_variables(confhandler, impdict, threshold_fscore)"
   ]
  },
  {
   "cell_type": "code",
   "execution_count": 121,
   "metadata": {
    "collapsed": false
   },
   "outputs": [
    {
     "data": {
      "text/plain": [
       "[('PFMET', 0.09512157822296988),\n",
       " ('Z1Mass', 0.08686343477595963),\n",
       " ('Z2Mass', 0.08328235713921599),\n",
       " ('Z1Pt', 0.07100983840546465),\n",
       " ('JetPt(JetPt|0)', 0.05880103991436),\n",
       " ('Z2Pt', 0.056800224295254116),\n",
       " ('ZZPt', 0.053270122852627826),\n",
       " ('ZZEta', 0.04324055666003976),\n",
       " ('ZZMass_masked', 0.0360146811439058),\n",
       " ('ZZPhi', 0.03412856196156395),\n",
       " ('JetEta(JetPt|0)', 0.029935769995412143),\n",
       " ('ZZMassErr', 0.028215323443951675),\n",
       " ('JetPhi(JetPt|0)', 0.02564102564102564),\n",
       " ('D_VBF1j_ggH_ME', 0.022544221848396797),\n",
       " ('D_VBF2j_ggH_ME', 0.020415965743997552),\n",
       " ('ExtraLepPt(ExtraLepPt|0)', 0.019676810929296018),\n",
       " ('JetPt(JetPt|1)', 0.01947290615282663),\n",
       " ('JetEta(JetPt|1)', 0.01867003109547841),\n",
       " ('nCleanedJetsPt30BTagged_bTagSF', 0.014948768924912067),\n",
       " ('JetPt(JetPt|2)', 0.01477035224550135),\n",
       " ('D_WHh_ggH_ME', 0.014196870061681195),\n",
       " ('JetPhi(JetPt|1)', 0.013292042616098282),\n",
       " ('D_WHh_ZHh_ME', 0.013164602130804915),\n",
       " ('nExtraLep', 0.012552887801396748),\n",
       " ('ExtraLepPhi(ExtraLepPt|0)', 0.012540143752867411),\n",
       " ('D_ZHh_ggH_ME', 0.012259774685222002),\n",
       " ('JetEta(JetPt|2)', 0.012247030636692665),\n",
       " ('ExtraLepEta(ExtraLepPt|0)', 0.01118927460875771),\n",
       " ('nExtraZ', 0.009226691135239842),\n",
       " ('JetPhi(JetPt|2)', 0.007914054136718153),\n",
       " ('JetPt(JetPt|3)', 0.007633685069072743),\n",
       " ('D_VBF2j_WHh_ME', 0.0071748993220166184),\n",
       " ('D_VBF2j_ZHh_ME', 0.006920018351429883),\n",
       " ('ExtraLepPt(ExtraLepPt|1)', 0.004804506295559973),\n",
       " ('ExtraLepEta(ExtraLepPt|1)', 0.004613345567619921),\n",
       " ('JetEta(JetPt|3)', 0.003976143141153081),\n",
       " ('nCleanedJetsPt30', 0.0037085181220370086),\n",
       " ('Z1Flav', 0.0029438752102768006),\n",
       " ('ExtraLepPhi(ExtraLepPt|1)', 0.002421369220573992),\n",
       " ('JetPhi(JetPt|3)', 0.002344904929397971),\n",
       " ('Z2Flav', 0.0020517918132232247)]"
      ]
     },
     "execution_count": 121,
     "metadata": {},
     "output_type": "execute_result"
    }
   ],
   "source": [
    "implist"
   ]
  },
  {
   "cell_type": "code",
   "execution_count": 122,
   "metadata": {
    "collapsed": false,
    "scrolled": false
   },
   "outputs": [],
   "source": [
    "%%capture\n",
    "fig, implist = plot_variables([(\"ZHMET\", \"ggH\")])"
   ]
  },
  {
   "cell_type": "code",
   "execution_count": 123,
   "metadata": {
    "collapsed": true
   },
   "outputs": [],
   "source": [
    "impdict = {convert_varname(entry[0]): [entry[1]] for entry in implist}\n",
    "impdict[\"discriminant\"] = \"D_ZHMET_ggH_ML\"\n",
    "df = df.append(pd.DataFrame.from_dict(impdict))"
   ]
  },
  {
   "cell_type": "code",
   "execution_count": 124,
   "metadata": {
    "collapsed": true
   },
   "outputs": [],
   "source": [
    "append_variables(confhandler, impdict, threshold_fscore)"
   ]
  },
  {
   "cell_type": "code",
   "execution_count": 125,
   "metadata": {
    "collapsed": false
   },
   "outputs": [
    {
     "data": {
      "text/plain": [
       "[('ZZPt', 0.1499269158488202),\n",
       " ('PFMET', 0.14115681770724578),\n",
       " ('ZZPhi', 0.08093547713510127),\n",
       " ('D_VBF1j_ggH_ME', 0.07128836917936938),\n",
       " ('ZZEta', 0.06807266652745876),\n",
       " ('Z2Pt', 0.06732094382960953),\n",
       " ('JetPt(JetPt|0)', 0.06573397368970557),\n",
       " ('Z1Pt', 0.06059720192106912),\n",
       " ('Z1Mass', 0.05124243057005638),\n",
       " ('Z2Mass', 0.05015660889538526),\n",
       " ('ZZMassErr', 0.049488410941741494),\n",
       " ('JetPhi(JetPt|0)', 0.025600334098976822),\n",
       " ('JetEta(JetPt|0)', 0.022802255168093546),\n",
       " ('D_VBF2j_ggH_ME', 0.013614533305491752),\n",
       " ('D_WHh_ZHh_ME', 0.010816454374608478),\n",
       " ('JetPt(JetPt|1)', 0.010732929630403006),\n",
       " ('JetEta(JetPt|1)', 0.009855919816245562),\n",
       " ('JetPhi(JetPt|1)', 0.007893088327416998),\n",
       " ('nCleanedJetsPt30', 0.007433702234286907),\n",
       " ('Z2Flav', 0.00622259344330758),\n",
       " ('D_VBF2j_WHh_ME', 0.005930256838588431),\n",
       " ('D_WHh_ggH_ME', 0.003967425349759866),\n",
       " ('D_VBF2j_ZHh_ME', 0.0032157026519106283),\n",
       " ('D_ZHh_ggH_ME', 0.0031321779077051574),\n",
       " ('nCleanedJetsPt30BTagged_bTagSF', 0.0028398413029860096),\n",
       " ('Z1Flav', 0.002672791814575068),\n",
       " ('JetPt(JetPt|3)', 0.0022551680935477135),\n",
       " ('JetPt(JetPt|2)', 0.0017540196283148883),\n",
       " ('ZZMass_masked', 0.0015869701399039465),\n",
       " ('JetPhi(JetPt|2)', 0.0007099603257465024),\n",
       " ('JetEta(JetPt|2)', 0.000668197953643767),\n",
       " ('JetPhi(JetPt|3)', 0.00020881186051367718),\n",
       " ('ExtraLepPhi(ExtraLepPt|0)', 0.0001252871163082063),\n",
       " ('ExtraLepEta(ExtraLepPt|0)', 4.1762372102735435e-05)]"
      ]
     },
     "execution_count": 125,
     "metadata": {},
     "output_type": "execute_result"
    }
   ],
   "source": [
    "implist"
   ]
  },
  {
   "cell_type": "code",
   "execution_count": 126,
   "metadata": {
    "collapsed": false,
    "scrolled": false
   },
   "outputs": [],
   "source": [
    "%%capture\n",
    "fig, implist = plot_variables([(\"ZHMET\", \"VBF\")])"
   ]
  },
  {
   "cell_type": "code",
   "execution_count": 127,
   "metadata": {
    "collapsed": true
   },
   "outputs": [],
   "source": [
    "impdict = {convert_varname(entry[0]): [entry[1]] for entry in implist}\n",
    "impdict[\"discriminant\"] = \"D_ZHMET_VBF_ML\"\n",
    "df = df.append(pd.DataFrame.from_dict(impdict))"
   ]
  },
  {
   "cell_type": "code",
   "execution_count": 128,
   "metadata": {
    "collapsed": true
   },
   "outputs": [],
   "source": [
    "append_variables(confhandler, impdict, threshold_fscore)"
   ]
  },
  {
   "cell_type": "code",
   "execution_count": 129,
   "metadata": {
    "collapsed": false
   },
   "outputs": [
    {
     "data": {
      "text/plain": [
       "[('PFMET', 0.14550078247261347),\n",
       " ('ZZPt', 0.08493740219092331),\n",
       " ('JetPt(JetPt|0)', 0.08294209702660407),\n",
       " ('D_VBF1j_ggH_ME', 0.06815336463223787),\n",
       " ('Z1Pt', 0.0680359937402191),\n",
       " ('ZZEta', 0.05837245696400626),\n",
       " ('ZZMassErr', 0.0559076682316119),\n",
       " ('JetEta(JetPt|0)', 0.049178403755868544),\n",
       " ('Z2Pt', 0.04894366197183098),\n",
       " ('Z1Mass', 0.04632237871674491),\n",
       " ('ZZPhi', 0.04475743348982786),\n",
       " ('Z2Mass', 0.03888888888888889),\n",
       " ('D_VBF2j_ggH_ME', 0.03841940532081377),\n",
       " ('JetPhi(JetPt|0)', 0.029499217527386542),\n",
       " ('JetPhi(JetPt|1)', 0.02038341158059468),\n",
       " ('JetPt(JetPt|1)', 0.019131455399061033),\n",
       " ('D_VBF2j_ZHh_ME', 0.016940532081377153),\n",
       " ('ZZMass_masked', 0.01584507042253521),\n",
       " ('JetEta(JetPt|1)', 0.012754303599374022),\n",
       " ('D_WHh_ZHh_ME', 0.012245696400625979),\n",
       " ('JetPhi(JetPt|2)', 0.011697965571205008),\n",
       " ('D_VBF2j_WHh_ME', 0.008998435054773083),\n",
       " ('D_WHh_ggH_ME', 0.007942097026604068),\n",
       " ('JetPt(JetPt|2)', 0.0034428794992175274),\n",
       " ('JetEta(JetPt|2)', 0.0030125195618153364),\n",
       " ('Z2Flav', 0.0019561815336463224),\n",
       " ('Z1Flav', 0.001917057902973396),\n",
       " ('nCleanedJetsPt30', 0.0014475743348982785),\n",
       " ('D_ZHh_ggH_ME', 0.0010954616588419405),\n",
       " ('nCleanedJetsPt30BTagged_bTagSF', 0.0008607198748043818),\n",
       " ('JetEta(JetPt|3)', 0.0002738654147104851),\n",
       " ('ExtraLepPhi(ExtraLepPt|0)', 0.00015649452269170578),\n",
       " ('ExtraLepEta(ExtraLepPt|0)', 3.9123630672926444e-05)]"
      ]
     },
     "execution_count": 129,
     "metadata": {},
     "output_type": "execute_result"
    }
   ],
   "source": [
    "implist"
   ]
  },
  {
   "cell_type": "code",
   "execution_count": 130,
   "metadata": {
    "collapsed": false,
    "scrolled": false
   },
   "outputs": [],
   "source": [
    "%%capture\n",
    "fig, implist = plot_variables([(\"ZHMET\", \"WHh\")])"
   ]
  },
  {
   "cell_type": "code",
   "execution_count": 131,
   "metadata": {
    "collapsed": true
   },
   "outputs": [],
   "source": [
    "impdict = {convert_varname(entry[0]): [entry[1]] for entry in implist}\n",
    "impdict[\"discriminant\"] = \"D_ZHMET_WHh_ML\"\n",
    "df = df.append(pd.DataFrame.from_dict(impdict))"
   ]
  },
  {
   "cell_type": "code",
   "execution_count": 132,
   "metadata": {
    "collapsed": true
   },
   "outputs": [],
   "source": [
    "append_variables(confhandler, impdict, threshold_fscore)"
   ]
  },
  {
   "cell_type": "code",
   "execution_count": 133,
   "metadata": {
    "collapsed": false
   },
   "outputs": [
    {
     "data": {
      "text/plain": [
       "[('PFMET', 0.1384194486771021),\n",
       " ('ZZPt', 0.07805790275661449),\n",
       " ('JetPt(JetPt|0)', 0.06295885856766865),\n",
       " ('Z1Pt', 0.06018839174400886),\n",
       " ('ZZEta', 0.05689846239091287),\n",
       " ('JetEta(JetPt|0)', 0.05132289790829755),\n",
       " ('Z2Pt', 0.050110818672946394),\n",
       " ('D_WHh_ZHh_ME', 0.04779055270813132),\n",
       " ('ZZPhi', 0.04678625848455465),\n",
       " ('D_VBF1j_ggH_ME', 0.04498545504917579),\n",
       " ('ZZMassErr', 0.044846931707992796),\n",
       " ('Z1Mass', 0.043046128272613934),\n",
       " ('Z2Mass', 0.03989472226070093),\n",
       " ('D_WHh_ggH_ME', 0.03778224130766034),\n",
       " ('JetPhi(JetPt|0)', 0.03303781687214295),\n",
       " ('D_ZHh_ggH_ME', 0.02375675301288267),\n",
       " ('JetPhi(JetPt|1)', 0.0182158193655631),\n",
       " ('JetPt(JetPt|1)', 0.017488571824352404),\n",
       " ('JetEta(JetPt|1)', 0.016865216789028952),\n",
       " ('D_VBF2j_ggH_ME', 0.015445352541903311),\n",
       " ('JetPt(JetPt|2)', 0.013575287435932955),\n",
       " ('D_VBF2j_WHh_ME', 0.010977974788751906),\n",
       " ('D_VBF2j_ZHh_ME', 0.007618783765064413),\n",
       " ('nCleanedJetsPt30', 0.007133952070923951),\n",
       " ('JetEta(JetPt|2)', 0.006510597035600499),\n",
       " ('JetPt(JetPt|3)', 0.005817980329685552),\n",
       " ('JetPhi(JetPt|2)', 0.0055409336473195734),\n",
       " ('Z2Flav', 0.004328854411968417),\n",
       " ('nCleanedJetsPt30BTagged_bTagSF', 0.0032552985178002495),\n",
       " ('Z1Flav', 0.0025626818118853027),\n",
       " ('ZZMass_masked', 0.002389527635406566),\n",
       " ('JetEta(JetPt|3)', 0.002181742623632082),\n",
       " ('JetPhi(JetPt|3)', 0.00013852334118298935),\n",
       " ('nExtraLep', 6.926167059149467e-05)]"
      ]
     },
     "execution_count": 133,
     "metadata": {},
     "output_type": "execute_result"
    }
   ],
   "source": [
    "implist"
   ]
  },
  {
   "cell_type": "code",
   "execution_count": 134,
   "metadata": {
    "collapsed": false,
    "scrolled": false
   },
   "outputs": [],
   "source": [
    "%%capture\n",
    "fig, implist = plot_variables([(\"ZHMET\", \"ttHh\")])"
   ]
  },
  {
   "cell_type": "code",
   "execution_count": 135,
   "metadata": {
    "collapsed": true
   },
   "outputs": [],
   "source": [
    "impdict = {convert_varname(entry[0]): [entry[1]] for entry in implist}\n",
    "impdict[\"discriminant\"] = \"D_ZHMET_ttHh_ML\"\n",
    "df = df.append(pd.DataFrame.from_dict(impdict))"
   ]
  },
  {
   "cell_type": "code",
   "execution_count": 136,
   "metadata": {
    "collapsed": true
   },
   "outputs": [],
   "source": [
    "append_variables(confhandler, impdict, threshold_fscore)"
   ]
  },
  {
   "cell_type": "code",
   "execution_count": 137,
   "metadata": {
    "collapsed": false
   },
   "outputs": [
    {
     "data": {
      "text/plain": [
       "[('PFMET', 0.2085315832649713),\n",
       " ('nCleanedJetsPt30BTagged_bTagSF', 0.08498769483182937),\n",
       " ('JetPt(JetPt|0)', 0.07957342083675144),\n",
       " ('nCleanedJetsPt30', 0.04971287940935193),\n",
       " ('JetPt(JetPt|2)', 0.04561115668580804),\n",
       " ('JetEta(JetPt|0)', 0.04019688269073011),\n",
       " ('JetPt(JetPt|3)', 0.03970467596390484),\n",
       " ('JetPt(JetPt|1)', 0.03625922887612797),\n",
       " ('Z1Mass', 0.035438884331419195),\n",
       " ('ExtraLepPt(ExtraLepPt|0)', 0.031173092698933553),\n",
       " ('D_VBF2j_ggH_ME', 0.029532403609515995),\n",
       " ('D_WHh_ggH_ME', 0.029532403609515995),\n",
       " ('ZZEta', 0.026907301066447908),\n",
       " ('ZZMass_masked', 0.02395406070549631),\n",
       " ('Z2Pt', 0.02395406070549631),\n",
       " ('Z2Mass', 0.022149302707136997),\n",
       " ('ZZPhi', 0.02132895816242822),\n",
       " ('Z1Pt', 0.021164889253486464),\n",
       " ('D_ZHh_ggH_ME', 0.021164889253486464),\n",
       " ('ZZPt', 0.019688269073010665),\n",
       " ('JetEta(JetPt|2)', 0.01837571780147662),\n",
       " ('ZZMassErr', 0.016899097621000822),\n",
       " ('JetPhi(JetPt|0)', 0.014602132895816243),\n",
       " ('D_WHh_ZHh_ME', 0.013617719442165709),\n",
       " ('D_VBF1j_ggH_ME', 0.011320754716981131),\n",
       " ('JetEta(JetPt|1)', 0.010828547990155866),\n",
       " ('JetPhi(JetPt|1)', 0.00623461853978671),\n",
       " ('D_VBF2j_WHh_ME', 0.005578342904019688),\n",
       " ('ExtraLepPhi(ExtraLepPt|0)', 0.0034454470877768664),\n",
       " ('D_VBF2j_ZHh_ME', 0.003281378178835111),\n",
       " ('Z2Flav', 0.002789171452009844),\n",
       " ('JetEta(JetPt|3)', 0.0013125512715340443),\n",
       " ('JetPhi(JetPt|3)', 0.0008203445447087777),\n",
       " ('JetPhi(JetPt|2)', 0.00032813781788351107)]"
      ]
     },
     "execution_count": 137,
     "metadata": {},
     "output_type": "execute_result"
    }
   ],
   "source": [
    "implist"
   ]
  },
  {
   "cell_type": "code",
   "execution_count": 138,
   "metadata": {
    "collapsed": false,
    "scrolled": false
   },
   "outputs": [],
   "source": [
    "%%capture\n",
    "fig, implist = plot_variables([(\"ZHMET\", \"ttHl\")])"
   ]
  },
  {
   "cell_type": "code",
   "execution_count": 139,
   "metadata": {
    "collapsed": true
   },
   "outputs": [],
   "source": [
    "impdict = {convert_varname(entry[0]): [entry[1]] for entry in implist}\n",
    "impdict[\"discriminant\"] = \"D_ZHMET_ttHl_ML\"\n",
    "df = df.append(pd.DataFrame.from_dict(impdict))"
   ]
  },
  {
   "cell_type": "code",
   "execution_count": 140,
   "metadata": {
    "collapsed": true
   },
   "outputs": [],
   "source": [
    "append_variables(confhandler, impdict, threshold_fscore)"
   ]
  },
  {
   "cell_type": "code",
   "execution_count": 141,
   "metadata": {
    "collapsed": false
   },
   "outputs": [
    {
     "data": {
      "text/plain": [
       "[('Z1Mass', 0.08568030704362398),\n",
       " ('PFMET', 0.07692307692307693),\n",
       " ('Z2Mass', 0.07546353856965242),\n",
       " ('ZZMass_masked', 0.06859830261095194),\n",
       " ('ExtraLepPt(ExtraLepPt|0)', 0.05362452024433753),\n",
       " ('JetPt(JetPt|0)', 0.04843505054327261),\n",
       " ('JetPt(JetPt|3)', 0.04562408778852911),\n",
       " ('ZZPt', 0.03886696578193416),\n",
       " ('nCleanedJetsPt30', 0.038812908805881396),\n",
       " ('Z2Pt', 0.035623547218768585),\n",
       " ('nExtraLep', 0.03486674955402995),\n",
       " ('ZZEta', 0.033893723985080275),\n",
       " ('D_WHh_ZHh_ME', 0.03356938212876372),\n",
       " ('D_VBF2j_ggH_ME', 0.03221795772744473),\n",
       " ('JetEta(JetPt|0)', 0.03221795772744473),\n",
       " ('ZZMassErr', 0.030812476350072976),\n",
       " ('ZZPhi', 0.02627169036164117),\n",
       " ('nCleanedJetsPt30BTagged_bTagSF', 0.024055354343478025),\n",
       " ('Z1Pt', 0.02356884155900319),\n",
       " ('JetPt(JetPt|2)', 0.016865776528460996),\n",
       " ('D_ZHh_ggH_ME', 0.015676523055300286),\n",
       " ('D_VBF2j_WHh_ME', 0.015244067246878209),\n",
       " ('D_VBF1j_ggH_ME', 0.014865668414508893),\n",
       " ('JetPhi(JetPt|0)', 0.014703497486350614),\n",
       " ('D_WHh_ggH_ME', 0.012054705659765392),\n",
       " ('JetPt(JetPt|1)', 0.010703281258446402),\n",
       " ('JetPhi(JetPt|1)', 0.010432996378182605),\n",
       " ('JetEta(JetPt|1)', 0.009784312665549489),\n",
       " ('ExtraLepEta(ExtraLepPt|0)', 0.006324666198172874),\n",
       " ('JetEta(JetPt|2)', 0.005351640629223201),\n",
       " ('ExtraLepPhi(ExtraLepPt|0)', 0.004648899940537327),\n",
       " ('D_VBF2j_ZHh_ME', 0.004378615060273528),\n",
       " ('Z2Flav', 0.004216444132115249),\n",
       " ('JetEta(JetPt|3)', 0.0039461592518514515),\n",
       " ('JetPhi(JetPt|3)', 0.0036758743715876534),\n",
       " ('ExtraLepPhi(ExtraLepPt|1)', 0.0033515325152710957),\n",
       " ('JetPhi(JetPt|2)', 0.0025406778744797016),\n",
       " ('Z1Flav', 0.0017298232336883075),\n",
       " ('ExtraLepEta(ExtraLepPt|1)', 0.00032434185631655766),\n",
       " ('nExtraZ', 5.405697605275961e-05)]"
      ]
     },
     "execution_count": 141,
     "metadata": {},
     "output_type": "execute_result"
    }
   ],
   "source": [
    "implist"
   ]
  },
  {
   "cell_type": "code",
   "execution_count": 142,
   "metadata": {
    "collapsed": false,
    "scrolled": false
   },
   "outputs": [],
   "source": [
    "%%capture\n",
    "fig, implist = plot_variables([(\"ttHh\", \"ggH\")])"
   ]
  },
  {
   "cell_type": "code",
   "execution_count": 143,
   "metadata": {
    "collapsed": true
   },
   "outputs": [],
   "source": [
    "impdict = {convert_varname(entry[0]): [entry[1]] for entry in implist}\n",
    "impdict[\"discriminant\"] = \"D_ttHh_ggH_ML\"\n",
    "df = df.append(pd.DataFrame.from_dict(impdict))"
   ]
  },
  {
   "cell_type": "code",
   "execution_count": 144,
   "metadata": {
    "collapsed": true
   },
   "outputs": [],
   "source": [
    "append_variables(confhandler, impdict, threshold_fscore)"
   ]
  },
  {
   "cell_type": "code",
   "execution_count": 145,
   "metadata": {
    "collapsed": false
   },
   "outputs": [
    {
     "data": {
      "text/plain": [
       "[('JetPt(JetPt|0)', 0.07177153704427447),\n",
       " ('PFMET', 0.06250348947574116),\n",
       " ('JetPt(JetPt|1)', 0.05814862375076769),\n",
       " ('JetEta(JetPt|0)', 0.05510580090447211),\n",
       " ('ZZPt', 0.05359834738428899),\n",
       " ('Z1Pt', 0.04628440623080789),\n",
       " ('nCleanedJetsPt30BTagged_bTagSF', 0.04458154206911954),\n",
       " ('JetEta(JetPt|1)', 0.042599519848138014),\n",
       " ('D_VBF2j_ggH_ME', 0.03902629668918542),\n",
       " ('JetPt(JetPt|2)', 0.03796549606387136),\n",
       " ('Z2Pt', 0.03589972642510189),\n",
       " ('D_ZHh_ggH_ME', 0.035788063201384626),\n",
       " ('JetPt(JetPt|3)', 0.03268940874323042),\n",
       " ('JetEta(JetPt|2)', 0.03146111328234046),\n",
       " ('D_WHh_ggH_ME', 0.030149070403662555),\n",
       " ('Z2Mass', 0.029814080732510746),\n",
       " ('ZZPhi', 0.029004522360560548),\n",
       " ('Z1Mass', 0.02802746915303445),\n",
       " ('ZZEta', 0.027776226899670593),\n",
       " ('JetPhi(JetPt|0)', 0.027497068840377423),\n",
       " ('D_VBF1j_ggH_ME', 0.023951761487354138),\n",
       " ('JetPhi(JetPt|1)', 0.02157891798336218),\n",
       " ('nCleanedJetsPt30', 0.017698620959187093),\n",
       " ('ZZMassErr', 0.017475294511752556),\n",
       " ('D_WHh_ZHh_ME', 0.014572050695103568),\n",
       " ('JetEta(JetPt|3)', 0.014097481994305175),\n",
       " ('ZZMass_masked', 0.012255038802970242),\n",
       " ('D_VBF2j_WHh_ME', 0.010412595611635309),\n",
       " ('JetPhi(JetPt|2)', 0.008877226285522863),\n",
       " ('D_VBF2j_ZHh_ME', 0.007732678242420858),\n",
       " ('ExtraLepPhi(ExtraLepPt|0)', 0.007258109541622467),\n",
       " ('ExtraLepPt(ExtraLepPt|0)', 0.007146446317905198),\n",
       " ('JetPhi(JetPt|3)', 0.005359834738428899),\n",
       " ('nExtraLep', 0.0048852660376305064),\n",
       " ('Z1Flav', 0.002986991234436938),\n",
       " ('Z2Flav', 0.002484506727709229),\n",
       " ('ExtraLepEta(ExtraLepPt|0)', 0.001535369326112445)]"
      ]
     },
     "execution_count": 145,
     "metadata": {},
     "output_type": "execute_result"
    }
   ],
   "source": [
    "implist"
   ]
  },
  {
   "cell_type": "code",
   "execution_count": 146,
   "metadata": {
    "collapsed": false,
    "scrolled": false
   },
   "outputs": [],
   "source": [
    "%%capture\n",
    "fig, implist = plot_variables([(\"ttHh\", \"VBF\")])"
   ]
  },
  {
   "cell_type": "code",
   "execution_count": 147,
   "metadata": {
    "collapsed": true
   },
   "outputs": [],
   "source": [
    "impdict = {convert_varname(entry[0]): [entry[1]] for entry in implist}\n",
    "impdict[\"discriminant\"] = \"D_ttHh_VBF_ML\"\n",
    "df = df.append(pd.DataFrame.from_dict(impdict))"
   ]
  },
  {
   "cell_type": "code",
   "execution_count": 148,
   "metadata": {
    "collapsed": true
   },
   "outputs": [],
   "source": [
    "append_variables(confhandler, impdict, threshold_fscore)"
   ]
  },
  {
   "cell_type": "code",
   "execution_count": 149,
   "metadata": {
    "collapsed": false
   },
   "outputs": [
    {
     "data": {
      "text/plain": [
       "[('JetEta(JetPt|2)', 0.07874455489779962),\n",
       " ('JetEta(JetPt|0)', 0.0629956439182397),\n",
       " ('D_VBF2j_ggH_ME', 0.05796939573327376),\n",
       " ('D_ZHh_ggH_ME', 0.056433597676756396),\n",
       " ('JetPt(JetPt|0)', 0.05590304925723221),\n",
       " ('PFMET', 0.05087680107226628),\n",
       " ('JetPt(JetPt|1)', 0.043588741204065674),\n",
       " ('JetEta(JetPt|1)', 0.04330950519378979),\n",
       " ('JetPt(JetPt|2)', 0.042723109572210434),\n",
       " ('nCleanedJetsPt30BTagged_bTagSF', 0.03521166089578912),\n",
       " ('Z1Pt', 0.029263933876912767),\n",
       " ('ZZEta', 0.028900927063554117),\n",
       " ('D_WHh_ggH_ME', 0.028565843851223054),\n",
       " ('ZZPt', 0.026694962582374623),\n",
       " ('Z2Mass', 0.02527085892996761),\n",
       " ('JetPt(JetPt|3)', 0.024907852116608956),\n",
       " ('JetPhi(JetPt|1)', 0.024433150899139954),\n",
       " ('JetPhi(JetPt|0)', 0.02370713727242265),\n",
       " ('Z1Mass', 0.023651290070367474),\n",
       " ('ZZMassErr', 0.023260359655981236),\n",
       " ('D_VBF1j_ggH_ME', 0.022003797609739754),\n",
       " ('D_VBF2j_ZHh_ME', 0.020831006366581035),\n",
       " ('ZZPhi', 0.020775159164525856),\n",
       " ('JetEta(JetPt|3)', 0.02016083994191891),\n",
       " ('nCleanedJetsPt30', 0.019909527532670612),\n",
       " ('D_WHh_ZHh_ME', 0.0192114375069809),\n",
       " ('JetPhi(JetPt|2)', 0.018513347481291187),\n",
       " ('Z2Pt', 0.015776834580587512),\n",
       " ('D_VBF2j_WHh_ME', 0.014631966938456384),\n",
       " ('ZZMass_masked', 0.008768010722662794),\n",
       " ('ExtraLepPt(ExtraLepPt|0)', 0.00848877471238691),\n",
       " ('JetPhi(JetPt|3)', 0.007427677873338546),\n",
       " ('ExtraLepEta(ExtraLepPt|0)', 0.004802859376745225),\n",
       " ('Z2Flav', 0.004160616553110689),\n",
       " ('nExtraLep', 0.004076845750027923),\n",
       " ('ExtraLepPhi(ExtraLepPt|0)', 0.0025131240924829664),\n",
       " ('Z1Flav', 0.0015357980565173686)]"
      ]
     },
     "execution_count": 149,
     "metadata": {},
     "output_type": "execute_result"
    }
   ],
   "source": [
    "implist"
   ]
  },
  {
   "cell_type": "code",
   "execution_count": 150,
   "metadata": {
    "collapsed": false,
    "scrolled": false
   },
   "outputs": [],
   "source": [
    "%%capture\n",
    "fig, implist = plot_variables([(\"ttHh\", \"WHh\")])"
   ]
  },
  {
   "cell_type": "code",
   "execution_count": 151,
   "metadata": {
    "collapsed": true
   },
   "outputs": [],
   "source": [
    "impdict = {convert_varname(entry[0]): [entry[1]] for entry in implist}\n",
    "impdict[\"discriminant\"] = \"D_ttHh_WHh_ML\"\n",
    "df = df.append(pd.DataFrame.from_dict(impdict))"
   ]
  },
  {
   "cell_type": "code",
   "execution_count": 152,
   "metadata": {
    "collapsed": true
   },
   "outputs": [],
   "source": [
    "append_variables(confhandler, impdict, threshold_fscore)"
   ]
  },
  {
   "cell_type": "code",
   "execution_count": 153,
   "metadata": {
    "collapsed": false
   },
   "outputs": [
    {
     "data": {
      "text/plain": [
       "[('PFMET', 0.07118207571465361),\n",
       " ('JetPt(JetPt|0)', 0.06041720319340716),\n",
       " ('JetPt(JetPt|1)', 0.04666494978109709),\n",
       " ('D_WHh_ggH_ME', 0.04213237187741437),\n",
       " ('Z1Pt', 0.04112799381921195),\n",
       " ('nCleanedJetsPt30BTagged_bTagSF', 0.04048416173062065),\n",
       " ('ZZPt', 0.037883080092711824),\n",
       " ('JetEta(JetPt|0)', 0.03754828740664435),\n",
       " ('Z1Mass', 0.03752253412310069),\n",
       " ('ZZEta', 0.03533350502189029),\n",
       " ('JetPt(JetPt|2)', 0.03417460726242596),\n",
       " ('Z2Pt', 0.034097347411795),\n",
       " ('JetPhi(JetPt|1)', 0.03373680144218388),\n",
       " ('JetEta(JetPt|2)', 0.03345351532320371),\n",
       " ('ZZPhi', 0.03219160442956477),\n",
       " ('D_VBF2j_WHh_ME', 0.031006953386556787),\n",
       " ('JetEta(JetPt|1)', 0.030466134432140097),\n",
       " ('D_VBF2j_ggH_ME', 0.029616276075199587),\n",
       " ('Z2Mass', 0.028869430852433684),\n",
       " ('JetPhi(JetPt|0)', 0.028302858614473344),\n",
       " ('D_WHh_ZHh_ME', 0.02753026010816379),\n",
       " ('ZZMassErr', 0.02737574040690188),\n",
       " ('JetPt(JetPt|3)', 0.02382178727787793),\n",
       " ('D_VBF2j_ZHh_ME', 0.021066185938707186),\n",
       " ('JetEta(JetPt|3)', 0.01900592325521504),\n",
       " ('D_ZHh_ggH_ME', 0.018516610867885655),\n",
       " ('nCleanedJetsPt30', 0.016945660571722896),\n",
       " ('JetPhi(JetPt|2)', 0.014911151171774401),\n",
       " ('D_VBF1j_ggH_ME', 0.014782384754056143),\n",
       " ('ZZMass_masked', 0.014756631470512491),\n",
       " ('ExtraLepPhi(ExtraLepPt|0)', 0.008575843420036054),\n",
       " ('ExtraLepPt(ExtraLepPt|0)', 0.008138037599793974),\n",
       " ('JetPhi(JetPt|3)', 0.0070048931238732935),\n",
       " ('nExtraLep', 0.005536955961885141),\n",
       " ('ExtraLepEta(ExtraLepPt|0)', 0.004326551635333505),\n",
       " ('Z2Flav', 0.0009528714911151172),\n",
       " ('Z1Flav', 0.0005408189544166881)]"
      ]
     },
     "execution_count": 153,
     "metadata": {},
     "output_type": "execute_result"
    }
   ],
   "source": [
    "implist"
   ]
  },
  {
   "cell_type": "code",
   "execution_count": 154,
   "metadata": {
    "collapsed": false,
    "scrolled": false
   },
   "outputs": [],
   "source": [
    "%%capture\n",
    "fig, implist = plot_variables([(\"ttHh\", \"ttHl\")])"
   ]
  },
  {
   "cell_type": "code",
   "execution_count": 155,
   "metadata": {
    "collapsed": true
   },
   "outputs": [],
   "source": [
    "impdict = {convert_varname(entry[0]): [entry[1]] for entry in implist}\n",
    "impdict[\"discriminant\"] = \"D_ttHh_ttHl_ML\"\n",
    "df = df.append(pd.DataFrame.from_dict(impdict))"
   ]
  },
  {
   "cell_type": "code",
   "execution_count": 156,
   "metadata": {
    "collapsed": true
   },
   "outputs": [],
   "source": [
    "append_variables(confhandler, impdict, threshold_fscore)"
   ]
  },
  {
   "cell_type": "code",
   "execution_count": 157,
   "metadata": {
    "collapsed": false
   },
   "outputs": [
    {
     "data": {
      "text/plain": [
       "[('PFMET', 0.09821405693494248),\n",
       " ('Z1Mass', 0.059702257411535606),\n",
       " ('ZZMassErr', 0.04607066902400902),\n",
       " ('ZZPt', 0.044302662259461396),\n",
       " ('JetPt(JetPt|0)', 0.04232966920337203),\n",
       " ('ZZEta', 0.03733312834704179),\n",
       " ('JetPhi(JetPt|0)', 0.036308196889333025),\n",
       " ('Z2Pt', 0.03500140928075435),\n",
       " ('JetPt(JetPt|3)', 0.034463320265457245),\n",
       " ('JetPhi(JetPt|2)', 0.03423271068747277),\n",
       " ('ZZMass_masked', 0.03264406692802419),\n",
       " ('JetPt(JetPt|2)', 0.03228534091782612),\n",
       " ('ExtraLepPt(ExtraLepPt|0)', 0.03059420401260666),\n",
       " ('Z1Pt', 0.03020985471596587),\n",
       " ('Z2Mass', 0.029723012273554207),\n",
       " ('nCleanedJetsPt30', 0.029492402695569735),\n",
       " ('D_WHh_ZHh_ME', 0.028493094524303687),\n",
       " ('D_WHh_ggH_ME', 0.028467471237860968),\n",
       " ('JetPhi(JetPt|1)', 0.028211238373433777),\n",
       " ('ZZPhi', 0.028006252081892023),\n",
       " ('JetEta(JetPt|0)', 0.027135060342839572),\n",
       " ('JetPhi(JetPt|3)', 0.022907218079790913),\n",
       " ('JetEta(JetPt|1)', 0.022036026340738462),\n",
       " ('JetEta(JetPt|2)', 0.021959156481410304),\n",
       " ('JetPt(JetPt|1)', 0.02006303328464909),\n",
       " ('JetEta(JetPt|3)', 0.01972993056089374),\n",
       " ('nCleanedJetsPt30BTagged_bTagSF', 0.019038101826940323),\n",
       " ('D_VBF2j_WHh_ME', 0.015450841724959643),\n",
       " ('D_VBF2j_ggH_ME', 0.014477156840136316),\n",
       " ('ExtraLepPhi(ExtraLepPt|0)', 0.014323417121480001),\n",
       " ('D_ZHh_ggH_ME', 0.012222307633177032),\n",
       " ('ExtraLepEta(ExtraLepPt|0)', 0.009301252978707049),\n",
       " ('D_VBF2j_ZHh_ME', 0.007610116073487586),\n",
       " ('Z2Flav', 0.0020754862018602504),\n",
       " ('D_VBF1j_ggH_ME', 0.001972993056089374),\n",
       " ('Z1Flav', 0.001639890332334025),\n",
       " ('nExtraLep', 0.001434904040792272),\n",
       " ('ExtraLepEta(ExtraLepPt|1)', 0.000538089015297102)]"
      ]
     },
     "execution_count": 157,
     "metadata": {},
     "output_type": "execute_result"
    }
   ],
   "source": [
    "implist"
   ]
  },
  {
   "cell_type": "code",
   "execution_count": 158,
   "metadata": {
    "collapsed": false,
    "scrolled": false
   },
   "outputs": [],
   "source": [
    "%%capture\n",
    "fig, implist = plot_variables([(\"ttHl\", \"ggH\")])"
   ]
  },
  {
   "cell_type": "code",
   "execution_count": 159,
   "metadata": {
    "collapsed": true
   },
   "outputs": [],
   "source": [
    "impdict = {convert_varname(entry[0]): [entry[1]] for entry in implist}\n",
    "impdict[\"discriminant\"] = \"D_ttHl_ggH_ML\"\n",
    "df = df.append(pd.DataFrame.from_dict(impdict))"
   ]
  },
  {
   "cell_type": "code",
   "execution_count": 160,
   "metadata": {
    "collapsed": true
   },
   "outputs": [],
   "source": [
    "append_variables(confhandler, impdict, threshold_fscore)"
   ]
  },
  {
   "cell_type": "code",
   "execution_count": 161,
   "metadata": {
    "collapsed": false
   },
   "outputs": [
    {
     "data": {
      "text/plain": [
       "[('PFMET', 0.12164496980686658),\n",
       " ('Z1Mass', 0.06767367466684913),\n",
       " ('ZZPt', 0.06315753459808064),\n",
       " ('JetPt(JetPt|0)', 0.05953093727013018),\n",
       " ('ZZMass_masked', 0.054484492875104776),\n",
       " ('Z2Pt', 0.043621807482422975),\n",
       " ('Z2Mass', 0.04271515815043536),\n",
       " ('Z1Pt', 0.04192825495663479),\n",
       " ('ZZMassErr', 0.04165454949792155),\n",
       " ('D_VBF1j_ggH_ME', 0.04124399130985169),\n",
       " ('ZZPhi', 0.03831876421985391),\n",
       " ('ExtraLepPt(ExtraLepPt|0)', 0.037223942385000944),\n",
       " ('ZZEta', 0.03351181210120259),\n",
       " ('JetEta(JetPt|0)', 0.029218057717638607),\n",
       " ('JetEta(JetPt|1)', 0.02535196811331406),\n",
       " ('JetPt(JetPt|1)', 0.022478060796825017),\n",
       " ('JetPhi(JetPt|0)', 0.021058213729750072),\n",
       " ('D_WHh_ZHh_ME', 0.020870041226884718),\n",
       " ('D_VBF2j_ggH_ME', 0.019877858939049215),\n",
       " ('nExtraLep', 0.01956994029799682),\n",
       " ('nCleanedJetsPt30BTagged_bTagSF', 0.018936996424722446),\n",
       " ('JetPt(JetPt|2)', 0.016028875925894248),\n",
       " ('D_WHh_ggH_ME', 0.015481465008467763),\n",
       " ('JetEta(JetPt|2)', 0.013565526797475067),\n",
       " ('nCleanedJetsPt30', 0.011170604033734198),\n",
       " ('JetPhi(JetPt|1)', 0.011067964486716732),\n",
       " ('ExtraLepEta(ExtraLepPt|0)', 0.010965324939699267),\n",
       " ('D_ZHh_ggH_ME', 0.010400807431103203),\n",
       " ('JetPt(JetPt|3)', 0.009066493319876148),\n",
       " ('JetEta(JetPt|3)', 0.007732179208649092),\n",
       " ('D_VBF2j_ZHh_ME', 0.00658603760028739),\n",
       " ('D_VBF2j_WHh_ME', 0.006432078279761192),\n",
       " ('JetPhi(JetPt|2)', 0.005713601450638931),\n",
       " ('JetPhi(JetPt|3)', 0.0038831961954941237),\n",
       " ('Z1Flav', 0.0032844655045589067),\n",
       " ('Z2Flav', 0.0031647193663718633),\n",
       " ('ExtraLepPhi(ExtraLepPt|0)', 0.0013856338847357888)]"
      ]
     },
     "execution_count": 161,
     "metadata": {},
     "output_type": "execute_result"
    }
   ],
   "source": [
    "implist"
   ]
  },
  {
   "cell_type": "code",
   "execution_count": 162,
   "metadata": {
    "collapsed": false,
    "scrolled": false
   },
   "outputs": [],
   "source": [
    "%%capture\n",
    "fig, implist = plot_variables([(\"ttHl\", \"VBF\")])"
   ]
  },
  {
   "cell_type": "code",
   "execution_count": 163,
   "metadata": {
    "collapsed": true
   },
   "outputs": [],
   "source": [
    "impdict = {convert_varname(entry[0]): [entry[1]] for entry in implist}\n",
    "impdict[\"discriminant\"] = \"D_ttHl_VBF_ML\"\n",
    "df = df.append(pd.DataFrame.from_dict(impdict))"
   ]
  },
  {
   "cell_type": "code",
   "execution_count": 164,
   "metadata": {
    "collapsed": true
   },
   "outputs": [],
   "source": [
    "append_variables(confhandler, impdict, threshold_fscore)"
   ]
  },
  {
   "cell_type": "code",
   "execution_count": 165,
   "metadata": {
    "collapsed": false
   },
   "outputs": [
    {
     "data": {
      "text/plain": [
       "[('PFMET', 0.09475117396982412),\n",
       " ('D_VBF2j_ggH_ME', 0.06065742310150324),\n",
       " ('Z1Mass', 0.05121009197254717),\n",
       " ('ZZMass_masked', 0.049904137375309125),\n",
       " ('JetEta(JetPt|0)', 0.04690322042846425),\n",
       " ('JetPt(JetPt|0)', 0.042346272472144265),\n",
       " ('ZZPt', 0.03945650059740476),\n",
       " ('ZZEta', 0.03603878963016477),\n",
       " ('ExtraLepPt(ExtraLepPt|0)', 0.03587207202200673),\n",
       " ('JetEta(JetPt|2)', 0.03514962905332185),\n",
       " ('D_VBF1j_ggH_ME', 0.03481619383700575),\n",
       " ('Z2Mass', 0.03423268220845258),\n",
       " ('D_WHh_ZHh_ME', 0.033871460724110146),\n",
       " ('D_ZHh_ggH_ME', 0.032148712106476976),\n",
       " ('ZZMassErr', 0.030509322292922837),\n",
       " ('ZZPhi', 0.030481536024896495),\n",
       " ('Z1Pt', 0.030314818416738446),\n",
       " ('Z2Pt', 0.030092528272527716),\n",
       " ('JetEta(JetPt|1)', 0.027841840562394065),\n",
       " ('JetPt(JetPt|2)', 0.026230237016866265),\n",
       " ('nCleanedJetsPt30BTagged_bTagSF', 0.02514657256383895),\n",
       " ('JetPt(JetPt|1)', 0.019867181638834087),\n",
       " ('ExtraLepEta(ExtraLepPt|0)', 0.017032982300147267),\n",
       " ('JetPhi(JetPt|1)', 0.016227180527383367),\n",
       " ('JetPt(JetPt|3)', 0.016199394259357024),\n",
       " ('D_VBF2j_ZHh_ME', 0.015588096362777516),\n",
       " ('JetPhi(JetPt|0)', 0.015504737558698491),\n",
       " ('D_WHh_ggH_ME', 0.015421378754619467),\n",
       " ('nCleanedJetsPt30', 0.012170385395537525),\n",
       " ('JetEta(JetPt|3)', 0.00944733112895607),\n",
       " ('D_VBF2j_WHh_ME', 0.007807941315401928),\n",
       " ('JetPhi(JetPt|2)', 0.006557559254216566),\n",
       " ('JetPhi(JetPt|3)', 0.005779543749479007),\n",
       " ('Z1Flav', 0.00461252049237267),\n",
       " ('nExtraLep', 0.004390230348161939),\n",
       " ('ExtraLepPhi(ExtraLepPt|0)', 0.0031398482869765764),\n",
       " ('ExtraLepPt(ExtraLepPt|1)', 0.0013337408652643863),\n",
       " ('Z2Flav', 0.000944733112895607)]"
      ]
     },
     "execution_count": 165,
     "metadata": {},
     "output_type": "execute_result"
    }
   ],
   "source": [
    "implist"
   ]
  },
  {
   "cell_type": "code",
   "execution_count": 166,
   "metadata": {
    "collapsed": false,
    "scrolled": false
   },
   "outputs": [],
   "source": [
    "%%capture\n",
    "fig, implist = plot_variables([(\"ttHl\", \"WHh\")])"
   ]
  },
  {
   "cell_type": "code",
   "execution_count": 167,
   "metadata": {
    "collapsed": true
   },
   "outputs": [],
   "source": [
    "impdict = {convert_varname(entry[0]): [entry[1]] for entry in implist}\n",
    "impdict[\"discriminant\"] = \"D_ttHl_WHh_ML\"\n",
    "df = df.append(pd.DataFrame.from_dict(impdict))"
   ]
  },
  {
   "cell_type": "code",
   "execution_count": 168,
   "metadata": {
    "collapsed": true
   },
   "outputs": [],
   "source": [
    "append_variables(confhandler, impdict, threshold_fscore)"
   ]
  },
  {
   "cell_type": "code",
   "execution_count": 169,
   "metadata": {
    "collapsed": false
   },
   "outputs": [
    {
     "data": {
      "text/plain": [
       "[('PFMET', 0.12140742031005052),\n",
       " ('ZZMass_masked', 0.07407246124368577),\n",
       " ('ExtraLepPt(ExtraLepPt|0)', 0.060616617314056785),\n",
       " ('ZZPt', 0.055260407594495735),\n",
       " ('Z1Mass', 0.05465075770771643),\n",
       " ('JetPt(JetPt|0)', 0.045941473610869185),\n",
       " ('ZZMassErr', 0.04363351332520467),\n",
       " ('nCleanedJetsPt30BTagged_bTagSF', 0.0421093886082564),\n",
       " ('Z2Pt', 0.03866922139000174),\n",
       " ('Z2Mass', 0.03640480752482146),\n",
       " ('D_VBF1j_ggH_ME', 0.03592579689949486),\n",
       " ('D_VBF2j_WHh_ME', 0.028261626894269292),\n",
       " ('JetEta(JetPt|0)', 0.024081170527782615),\n",
       " ('D_WHh_ZHh_ME', 0.023602159902456017),\n",
       " ('ZZEta', 0.023297334959066364),\n",
       " ('D_WHh_ggH_ME', 0.021816756662602334),\n",
       " ('ZZPhi', 0.021555478139696917),\n",
       " ('JetEta(JetPt|1)', 0.021381292457759972),\n",
       " ('JetPt(JetPt|2)', 0.020989374673401846),\n",
       " ('JetPt(JetPt|1)', 0.02024908552516983),\n",
       " ('JetPhi(JetPt|1)', 0.01911687859257969),\n",
       " ('JetPt(JetPt|3)', 0.0187685072287058),\n",
       " ('Z1Pt', 0.018028218080473786),\n",
       " ('D_VBF2j_ggH_ME', 0.015241247169482669),\n",
       " ('nCleanedJetsPt30', 0.014631597282703362),\n",
       " ('nExtraLep', 0.014109040236892528),\n",
       " ('JetPhi(JetPt|0)', 0.012541369099460024),\n",
       " ('JetPhi(JetPt|2)', 0.011757533530743772),\n",
       " ('D_ZHh_ggH_ME', 0.01145270858735412),\n",
       " ('JetPhi(JetPt|3)', 0.011278522905417174),\n",
       " ('JetEta(JetPt|2)', 0.008752830517331476),\n",
       " ('ExtraLepEta(ExtraLepPt|0)', 0.008186727051036406),\n",
       " ('D_VBF2j_ZHh_ME', 0.007489984323288626),\n",
       " ('ExtraLepPhi(ExtraLepPt|0)', 0.005791673924403414),\n",
       " ('JetEta(JetPt|3)', 0.004615920571329037),\n",
       " ('Z1Flav', 0.002220867444696046),\n",
       " ('Z2Flav', 0.0014370318759797944),\n",
       " ('ExtraLepPt(ExtraLepPt|1)', 0.0006531963072635429)]"
      ]
     },
     "execution_count": 169,
     "metadata": {},
     "output_type": "execute_result"
    }
   ],
   "source": [
    "implist"
   ]
  },
  {
   "cell_type": "code",
   "execution_count": 62,
   "metadata": {
    "collapsed": true
   },
   "outputs": [],
   "source": [
    "# save the variable configuration\n",
    "confhandler.save_configuration(out_path)"
   ]
  },
  {
   "cell_type": "code",
   "execution_count": 171,
   "metadata": {
    "collapsed": false
   },
   "outputs": [],
   "source": [
    "df = df.fillna(0.0)"
   ]
  },
  {
   "cell_type": "code",
   "execution_count": 172,
   "metadata": {
    "collapsed": false
   },
   "outputs": [],
   "source": [
    "df.to_csv(\"input_parameters_table_inclusive_ZZMask.csv\")"
   ]
  },
  {
   "cell_type": "code",
   "execution_count": 173,
   "metadata": {
    "collapsed": false
   },
   "outputs": [],
   "source": [
    "# now plot the data contained in the table to have a global picture of the relevant input variables\n",
    "datacol_labels = [col for col in df.columns.tolist() if col != \"discriminant\"]\n",
    "variable_data = df[datacol_labels].as_matrix().transpose()\n",
    "datacol_labels = np.concatenate([[''], np.array(datacol_labels)])"
   ]
  },
  {
   "cell_type": "code",
   "execution_count": 174,
   "metadata": {
    "collapsed": true
   },
   "outputs": [],
   "source": [
    "discriminant_labels = np.concatenate([[''], df[\"discriminant\"].as_matrix()])"
   ]
  },
  {
   "cell_type": "code",
   "execution_count": 175,
   "metadata": {
    "collapsed": false
   },
   "outputs": [],
   "source": [
    "fig = plt.figure(figsize = (15, 10))\n",
    "ax = fig.add_subplot(111)\n",
    "cax = ax.matshow(variable_data, interpolation = 'nearest', cmap = 'Blues', vmin = np.min(variable_data), vmax = np.max(variable_data))\n",
    "ax.set_xticklabels(discriminant_labels, rotation = 'vertical')\n",
    "ax.set_yticklabels(datacol_labels)\n",
    "ax.xaxis.set_major_locator(ticker.MultipleLocator(1))\n",
    "ax.yaxis.set_major_locator(ticker.MultipleLocator(1))"
   ]
  },
  {
   "cell_type": "code",
   "execution_count": 176,
   "metadata": {
    "collapsed": true
   },
   "outputs": [],
   "source": [
    "plt.tight_layout()\n",
    "plt.savefig(os.path.join(out_dir, \"input_variables_inclusive_fullmassrange_ZZMask.pdf\"))"
   ]
  }
 ],
 "metadata": {
  "kernelspec": {
   "display_name": "Python 2",
   "language": "python",
   "name": "python2"
  },
  "language_info": {
   "codemirror_mode": {
    "name": "ipython",
    "version": 2
   },
   "file_extension": ".py",
   "mimetype": "text/x-python",
   "name": "python",
   "nbconvert_exporter": "python",
   "pygments_lexer": "ipython2",
   "version": "2.7.11"
  }
 },
 "nbformat": 4,
 "nbformat_minor": 2
}
