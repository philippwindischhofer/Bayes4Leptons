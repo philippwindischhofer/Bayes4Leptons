{
 "cells": [
  {
   "cell_type": "code",
   "execution_count": 9,
   "metadata": {
    "collapsed": false
   },
   "outputs": [],
   "source": [
    "from trainlib.SimpleModel import SimpleModel\n",
    "from trainlib.CombinedModel import CombinedModel"
   ]
  },
  {
   "cell_type": "code",
   "execution_count": 15,
   "metadata": {
    "collapsed": false
   },
   "outputs": [
    {
     "name": "stdout",
     "output_type": "stream",
     "text": [
      "got the following list of hyperparams: {'number_layers': 3, 'number_neurons': 64}\n",
      "building network with inputs: ['a', 'b', 'c', 'd', 'e', 'f']\n"
     ]
    }
   ],
   "source": [
    "sm = SimpleModel(\"test\", [\"a\", \"b\", \"c\", \"d\", \"e\", \"f\"], {'number_neurons': 64, 'number_layers': 3})"
   ]
  },
  {
   "cell_type": "code",
   "execution_count": 16,
   "metadata": {
    "collapsed": false
   },
   "outputs": [
    {
     "name": "stdout",
     "output_type": "stream",
     "text": [
      "_________________________________________________________________\n",
      "Layer (type)                 Output Shape              Param #   \n",
      "=================================================================\n",
      "test_input (InputLayer)      (None, 6)                 0         \n",
      "_________________________________________________________________\n",
      "dense_23 (Dense)             (None, 128)               896       \n",
      "_________________________________________________________________\n",
      "batch_normalization_9 (Batch (None, 128)               512       \n",
      "_________________________________________________________________\n",
      "activation_9 (Activation)    (None, 128)               0         \n",
      "_________________________________________________________________\n",
      "dropout_9 (Dropout)          (None, 128)               0         \n",
      "_________________________________________________________________\n",
      "dense_24 (Dense)             (None, 64)                8256      \n",
      "_________________________________________________________________\n",
      "batch_normalization_10 (Batc (None, 64)                256       \n",
      "_________________________________________________________________\n",
      "activation_10 (Activation)   (None, 64)                0         \n",
      "_________________________________________________________________\n",
      "dropout_10 (Dropout)         (None, 64)                0         \n",
      "_________________________________________________________________\n",
      "dense_25 (Dense)             (None, 64)                4160      \n",
      "_________________________________________________________________\n",
      "batch_normalization_11 (Batc (None, 64)                256       \n",
      "_________________________________________________________________\n",
      "activation_11 (Activation)   (None, 64)                0         \n",
      "_________________________________________________________________\n",
      "dropout_11 (Dropout)         (None, 64)                0         \n",
      "_________________________________________________________________\n",
      "dense_26 (Dense)             (None, 64)                4160      \n",
      "_________________________________________________________________\n",
      "batch_normalization_12 (Batc (None, 64)                256       \n",
      "_________________________________________________________________\n",
      "activation_12 (Activation)   (None, 64)                0         \n",
      "_________________________________________________________________\n",
      "dropout_12 (Dropout)         (None, 64)                0         \n",
      "_________________________________________________________________\n",
      "target (Dense)               (None, 1)                 65        \n",
      "=================================================================\n",
      "Total params: 18,817\n",
      "Trainable params: 18,177\n",
      "Non-trainable params: 640\n",
      "_________________________________________________________________\n"
     ]
    }
   ],
   "source": [
    "sm.get_keras_model().summary()"
   ]
  },
  {
   "cell_type": "code",
   "execution_count": 13,
   "metadata": {
    "collapsed": false
   },
   "outputs": [
    {
     "name": "stdout",
     "output_type": "stream",
     "text": [
      "Lep\n",
      "['Pt', 'Eta', 'Phi']\n",
      "ExtraLep\n",
      "['Pt', 'Eta', 'Phi']\n",
      "Jet\n",
      "['Pt', 'Eta', 'Phi']\n"
     ]
    }
   ],
   "source": [
    "cm = CombinedModel(\"test\", [\"a\", \"b\", \"c\", \"d\", \"e\", \"f\"], {\"Jet\": [\"Pt\", \"Eta\", \"Phi\"], \n",
    "                   \"Lep\": [\"Pt\", \"Eta\", \"Phi\"], \"ExtraLep\": [\"Pt\", \"Eta\", \"Phi\"]}, \n",
    "                   {'number_dense_layers': 2, 'number_dense_neurons': 64, 'LSTM_units': 16,\n",
    "                   'LSTM_output_size': 5})"
   ]
  },
  {
   "cell_type": "code",
   "execution_count": 14,
   "metadata": {
    "collapsed": false
   },
   "outputs": [
    {
     "name": "stdout",
     "output_type": "stream",
     "text": [
      "____________________________________________________________________________________________________\n",
      "Layer (type)                     Output Shape          Param #     Connected to                     \n",
      "====================================================================================================\n",
      "test_Lep (InputLayer)            (None, None, 4)       0                                            \n",
      "____________________________________________________________________________________________________\n",
      "test_ExtraLep (InputLayer)       (None, None, 4)       0                                            \n",
      "____________________________________________________________________________________________________\n",
      "test_Jet (InputLayer)            (None, None, 4)       0                                            \n",
      "____________________________________________________________________________________________________\n",
      "lstm_4 (LSTM)                    (None, 16)            1344        test_Lep[0][0]                   \n",
      "____________________________________________________________________________________________________\n",
      "lstm_5 (LSTM)                    (None, 16)            1344        test_ExtraLep[0][0]              \n",
      "____________________________________________________________________________________________________\n",
      "lstm_6 (LSTM)                    (None, 16)            1344        test_Jet[0][0]                   \n",
      "____________________________________________________________________________________________________\n",
      "dense_16 (Dense)                 (None, 5)             85          lstm_4[0][0]                     \n",
      "____________________________________________________________________________________________________\n",
      "dense_17 (Dense)                 (None, 5)             85          lstm_5[0][0]                     \n",
      "____________________________________________________________________________________________________\n",
      "dense_18 (Dense)                 (None, 5)             85          lstm_6[0][0]                     \n",
      "____________________________________________________________________________________________________\n",
      "test_scalar_inputs (InputLayer)  (None, 6)             0                                            \n",
      "____________________________________________________________________________________________________\n",
      "concatenate_2 (Concatenate)      (None, 21)            0           dense_16[0][0]                   \n",
      "                                                                   dense_17[0][0]                   \n",
      "                                                                   dense_18[0][0]                   \n",
      "                                                                   test_scalar_inputs[0][0]         \n",
      "____________________________________________________________________________________________________\n",
      "dense_19 (Dense)                 (None, 64)            1408        concatenate_2[0][0]              \n",
      "____________________________________________________________________________________________________\n",
      "dense_20 (Dense)                 (None, 64)            4160        dense_19[0][0]                   \n",
      "____________________________________________________________________________________________________\n",
      "dense_21 (Dense)                 (None, 64)            4160        dense_20[0][0]                   \n",
      "____________________________________________________________________________________________________\n",
      "dense_22 (Dense)                 (None, 64)            4160        dense_21[0][0]                   \n",
      "____________________________________________________________________________________________________\n",
      "target (Dense)                   (None, 1)             65          dense_22[0][0]                   \n",
      "====================================================================================================\n",
      "Total params: 18,240\n",
      "Trainable params: 18,240\n",
      "Non-trainable params: 0\n",
      "____________________________________________________________________________________________________\n"
     ]
    }
   ],
   "source": [
    "cm.get_keras_model().summary()"
   ]
  },
  {
   "cell_type": "code",
   "execution_count": null,
   "metadata": {
    "collapsed": true
   },
   "outputs": [],
   "source": []
  }
 ],
 "metadata": {
  "kernelspec": {
   "display_name": "Python 2",
   "language": "python",
   "name": "python2"
  },
  "language_info": {
   "codemirror_mode": {
    "name": "ipython",
    "version": 2
   },
   "file_extension": ".py",
   "mimetype": "text/x-python",
   "name": "python",
   "nbconvert_exporter": "python",
   "pygments_lexer": "ipython2",
   "version": "2.7.11"
  }
 },
 "nbformat": 4,
 "nbformat_minor": 2
}
