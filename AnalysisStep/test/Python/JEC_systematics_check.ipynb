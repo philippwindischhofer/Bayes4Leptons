{
 "cells": [
  {
   "cell_type": "code",
   "execution_count": 1,
   "metadata": {
    "collapsed": false
   },
   "outputs": [
    {
     "name": "stdout",
     "output_type": "stream",
     "text": [
      "Welcome to JupyROOT 6.10/09\n"
     ]
    },
    {
     "name": "stderr",
     "output_type": "stream",
     "text": [
      "Using TensorFlow backend.\n"
     ]
    }
   ],
   "source": [
    "from trainlib.FileCollection import FileCollection\n",
    "import trainlib.cuts as cuts\n",
    "from trainlib.utils import read_data\n",
    "from trainlib.RNNPreprocessor import RNNPreprocessor\n",
    "from trainlib.config import Config\n",
    "from trainlib.PCAWhiteningPreprocessor import PCAWhiteningPreprocessor\n",
    "import pandas as pd\n",
    "import numpy as np\n",
    "import pickle\n",
    "import re\n",
    "import matplotlib.pyplot as plt"
   ]
  },
  {
   "cell_type": "code",
   "execution_count": 2,
   "metadata": {
    "collapsed": true
   },
   "outputs": [],
   "source": [
    "def extract_column(df, colstring):\n",
    "    if '[' in colstring and ']' in colstring:\n",
    "        col, sorted_col_order, _ = re.split('[\\[\\]]', colstring)\n",
    "        sorted_col, order = re.split('\\|', sorted_col_order)\n",
    "        cf = extract_order_filtered(df, sorted_col, [col], int(order))\n",
    "    else:\n",
    "        cf = df[[colstring]]\n",
    "    return cf"
   ]
  },
  {
   "cell_type": "code",
   "execution_count": 3,
   "metadata": {
    "collapsed": true
   },
   "outputs": [],
   "source": [
    "def extract_order_filtered(df, sorted_column, columns, order):\n",
    "    extracted_raw = extract_order(df, sorted_column, columns, order)\n",
    "\n",
    "    if any(\"Jet\" in col for col in extracted_raw.columns):\n",
    "        # apply the jet-pt cut\n",
    "        mask_column = extract_order(df, \"JetPt\", [\"JetPt\"], order)\n",
    "        mask = mask_column < 30.0\n",
    "        extracted_raw[mask.as_matrix()] = 0.0\n",
    "\n",
    "    return extracted_raw"
   ]
  },
  {
   "cell_type": "code",
   "execution_count": 4,
   "metadata": {
    "collapsed": true
   },
   "outputs": [],
   "source": [
    "def extract_order(df, sorted_column, columns, order):\n",
    "    def get_index(row, order, sorted_column):\n",
    "        sorted_column = row[sorted_column]\n",
    "        if order >= len(sorted_column):\n",
    "            return -1\n",
    "        else:\n",
    "            return np.flipud(np.argsort(sorted_column))[order]\n",
    "\n",
    "    index_column = pd.DataFrame(df.transform(lambda row: get_index(row, order, sorted_column), axis = 1, raw = True))\n",
    "    index_column.columns = [\"index\"]\n",
    "    df_temp = pd.concat([index_column, df], axis = 1)\n",
    "\n",
    "    def get_element(row, column_name):\n",
    "        if row[\"index\"] == -1:\n",
    "            return 0\n",
    "        else:\n",
    "            return row[column_name][row[\"index\"]]\n",
    "\n",
    "    extracted_cols = pd.DataFrame()\n",
    "    for column in columns:\n",
    "        extracted_col = pd.DataFrame(df_temp.transform(lambda row: get_element(row, column), axis = 1, raw = True))\n",
    "        extracted_col.columns = [column + \"_\" + str(order)]\n",
    "        extracted_cols = pd.concat([extracted_cols, extracted_col], axis = 1)\n",
    "\n",
    "    return extracted_cols"
   ]
  },
  {
   "cell_type": "code",
   "execution_count": 5,
   "metadata": {
    "collapsed": true
   },
   "outputs": [],
   "source": [
    "j2cut = lambda row: row[\"nCleanedJetsPt30\"] >= 2"
   ]
  },
  {
   "cell_type": "code",
   "execution_count": 23,
   "metadata": {
    "collapsed": false
   },
   "outputs": [
    {
     "name": "stdout",
     "output_type": "stream",
     "text": [
      "skimming /data_CMS/cms/wind/MC_180218/DYJetsToLL_M50/ZZ4lAnalysis.root\n",
      "collection set up: 1 files, 6411502 entries in total, 6411502 of which will be used\n"
     ]
    }
   ],
   "source": [
    "# read some input data\n",
    "fcoll = FileCollection({\"/data_CMS/cms/wind/MC_180218/DYJetsToLL_M50/ZZ4lAnalysis.root\" : cuts.no_cut}, 0.0, 1.0, tree_name = \"ZTree\")\n",
    "setup_data = read_data(fcoll, 0, 109964, branches = [\"JetEta\", \"JetPt\", \"JetJERUp\", \"JetJERDown\"], tree_name = \"ZTree\")"
   ]
  },
  {
   "cell_type": "code",
   "execution_count": 24,
   "metadata": {
    "collapsed": false,
    "scrolled": false
   },
   "outputs": [],
   "source": [
    "jet_data = setup_data[[\"JetEta\", \"JetPt\", \"JetJERUp\", \"JetJERDown\"]]"
   ]
  },
  {
   "cell_type": "code",
   "execution_count": 25,
   "metadata": {
    "collapsed": false
   },
   "outputs": [],
   "source": [
    "eta_list = np.concatenate(np.array(jet_data[\"JetEta\"]).tolist())"
   ]
  },
  {
   "cell_type": "code",
   "execution_count": 26,
   "metadata": {
    "collapsed": false
   },
   "outputs": [],
   "source": [
    "pt_list = np.concatenate(np.array(jet_data[\"JetPt\"]).tolist())"
   ]
  },
  {
   "cell_type": "code",
   "execution_count": 27,
   "metadata": {
    "collapsed": false
   },
   "outputs": [],
   "source": [
    "pt_up_list = np.concatenate(np.array(jet_data[\"JetJERUp\"]).tolist())"
   ]
  },
  {
   "cell_type": "code",
   "execution_count": 28,
   "metadata": {
    "collapsed": false
   },
   "outputs": [],
   "source": [
    "pt_dn_list = np.concatenate(np.array(jet_data[\"JetJERDown\"]).tolist())"
   ]
  },
  {
   "cell_type": "code",
   "execution_count": 29,
   "metadata": {
    "collapsed": false
   },
   "outputs": [],
   "source": [
    "mask = pt_list > 30\n",
    "mask_up = pt_up_list > 30\n",
    "mask_dn = pt_dn_list > 30"
   ]
  },
  {
   "cell_type": "code",
   "execution_count": 30,
   "metadata": {
    "collapsed": true
   },
   "outputs": [],
   "source": [
    "bins = np.linspace(-4.5, 4.5, 60)"
   ]
  },
  {
   "cell_type": "code",
   "execution_count": 31,
   "metadata": {
    "collapsed": false
   },
   "outputs": [],
   "source": [
    "jethist = plt.hist(eta_list[mask], bins)\n",
    "jethist_up = plt.hist(eta_list[mask_up], bins)\n",
    "jethist_dn = plt.hist(eta_list[mask_dn], bins)"
   ]
  },
  {
   "cell_type": "code",
   "execution_count": 32,
   "metadata": {
    "collapsed": false
   },
   "outputs": [
    {
     "data": {
      "image/png": "[encoded data removed]",
      "text/plain": [
       "<matplotlib.figure.Figure at 0x7fca6fbc9590>"
      ]
     },
     "metadata": {},
     "output_type": "display_data"
    }
   ],
   "source": [
    "plt.show()"
   ]
  },
  {
   "cell_type": "code",
   "execution_count": 33,
   "metadata": {
    "collapsed": false
   },
   "outputs": [],
   "source": [
    "#ratio plot\n",
    "ratio_up = np.nan_to_num(jethist_up[0] / jethist[0])\n",
    "ratio_dn = np.nan_to_num(jethist_dn[0] / jethist[0])"
   ]
  },
  {
   "cell_type": "code",
   "execution_count": 34,
   "metadata": {
    "collapsed": false
   },
   "outputs": [
    {
     "data": {
      "image/png": "[encoded data removed]",
      "text/plain": [
       "<matplotlib.figure.Figure at 0x7fca69889b50>"
      ]
     },
     "metadata": {},
     "output_type": "display_data"
    }
   ],
   "source": [
    "plt.plot(ratio_up)\n",
    "plt.plot(ratio_dn)\n",
    "plt.show()"
   ]
  },
  {
   "cell_type": "code",
   "execution_count": null,
   "metadata": {
    "collapsed": true
   },
   "outputs": [],
   "source": []
  }
 ],
 "metadata": {
  "kernelspec": {
   "display_name": "Python 2",
   "language": "python",
   "name": "python2"
  },
  "language_info": {
   "codemirror_mode": {
    "name": "ipython",
    "version": 2
   },
   "file_extension": ".py",
   "mimetype": "text/x-python",
   "name": "python",
   "nbconvert_exporter": "python",
   "pygments_lexer": "ipython2",
   "version": "2.7.11"
  }
 },
 "nbformat": 4,
 "nbformat_minor": 2
}
