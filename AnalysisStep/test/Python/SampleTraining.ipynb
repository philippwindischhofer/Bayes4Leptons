{
 "cells": [
  {
   "cell_type": "code",
   "execution_count": 1,
   "metadata": {
    "collapsed": false
   },
   "outputs": [
    {
     "name": "stdout",
     "output_type": "stream",
     "text": [
      "Welcome to JupyROOT 6.10/09\n"
     ]
    },
    {
     "name": "stderr",
     "output_type": "stream",
     "text": [
      "Using TensorFlow backend.\n"
     ]
    }
   ],
   "source": [
    "from ROOT import TFile\n",
    "from root_numpy import root2array, root2rec, tree2array\n",
    "import array\n",
    "import pandas as pd\n",
    "import numpy as np\n",
    "import tensorflow as tf\n",
    "from keras.models import Sequential\n",
    "from keras.layers import Dense, Activation\n",
    "from keras.layers import LSTM\n",
    "from keras.callbacks import EarlyStopping\n",
    "from keras.engine.topology import Input\n",
    "from keras.engine.training import Model\n",
    "from keras import losses, optimizers\n",
    "from keras import backend as K\n",
    "import math"
   ]
  },
  {
   "cell_type": "code",
   "execution_count": 2,
   "metadata": {
    "collapsed": false
   },
   "outputs": [
    {
     "name": "stderr",
     "output_type": "stream",
     "text": [
      "2018-03-20 08:40:30.527167: W tensorflow/core/platform/cpu_feature_guard.cc:45] The TensorFlow library wasn't compiled to use SSE4.1 instructions, but these are available on your machine and could speed up CPU computations.\n",
      "2018-03-20 08:40:30.527192: W tensorflow/core/platform/cpu_feature_guard.cc:45] The TensorFlow library wasn't compiled to use SSE4.2 instructions, but these are available on your machine and could speed up CPU computations.\n",
      "2018-03-20 08:40:30.527201: W tensorflow/core/platform/cpu_feature_guard.cc:45] The TensorFlow library wasn't compiled to use AVX instructions, but these are available on your machine and could speed up CPU computations.\n"
     ]
    }
   ],
   "source": [
    "config = tf.ConfigProto(intra_op_parallelism_threads=10, inter_op_parallelism_threads=10, \\\n",
    "                        allow_soft_placement=True, device_count = {'CPU': 10})\n",
    "session = tf.Session(config = config)\n",
    "K.set_session(session)"
   ]
  },
  {
   "cell_type": "code",
   "execution_count": 3,
   "metadata": {
    "collapsed": true
   },
   "outputs": [],
   "source": [
    "def get_size(filepath):\n",
    "    print \"skimming \" + filepath\n",
    "    f = TFile.Open(filepath)\n",
    "    size = f.Get(\"ZZTree/candTree\").GetEntries()\n",
    "    f.Close()\n",
    "\n",
    "    return size"
   ]
  },
  {
   "cell_type": "code",
   "execution_count": 4,
   "metadata": {
    "collapsed": true
   },
   "outputs": [],
   "source": [
    "# this simulates a single ROOT file that is actually distributed over multiple \"physical\" ROOT trees. From each file in the list,\n",
    "# only the portion between start_fraction and end_fraction is considered\n",
    "class FileCollection:\n",
    "    def __init__(self, files, start_fraction, end_fraction):\n",
    "        self.files = files\n",
    "        self.start_fraction = start_fraction\n",
    "        self.end_fraction = end_fraction\n",
    "\n",
    "        # the number of entries in each file, and the local start- and endpositions\n",
    "        self.lengths = [get_size(file_path) for file_path in files]\n",
    "        self.minpos = [int(length * start_fraction) for length in self.lengths]\n",
    "        self.maxpos = [int(length * end_fraction) for length in self.lengths]\n",
    "        \n",
    "        self.used_lengths = [end - beginning for (end, beginning) in zip(self.maxpos, self.minpos)]\n",
    "                \n",
    "        self.total_length = sum(self.lengths)\n",
    "        self.used_length = sum(self.used_lengths)\n",
    "        \n",
    "        print \"collection set up: \" + str(len(files)) + \" files, \" + str(self.total_length) + \" entries in total, \" + str(self.used_length) + \" of which will be used\"\n",
    "        \n",
    "    def get_length(self):\n",
    "        return self.used_length\n",
    "    \n",
    "    # returns some data from this file collection\n",
    "    def get_data(self, branches, start_index, end_index):\n",
    "        # now need to translate between a global index, and a filepath and its corresponding local index\n",
    "        return 0\n",
    "        \n",
    "    def transform_index(self, global_index):\n",
    "        if global_index >= self.get_length():\n",
    "            raise IndexError(\"global index out of range\")\n",
    "        \n",
    "        # first determine which file in the list is needed to read this index\n",
    "        max_local_indices = np.array(self.used_lengths) - 1  # all works by 0-indexing\n",
    "        cum_lengths = np.cumsum(self.used_lengths)\n",
    "        \n",
    "        needed_file = 0\n",
    "        while global_index > cum_lengths[needed_file] - 1:\n",
    "            needed_file += 1\n",
    "            \n",
    "        # then determine the corresponding local index within this file\n",
    "        local_minpos = np.append(0, cum_lengths)\n",
    "                \n",
    "        local_index = global_index - local_minpos[needed_file]\n",
    "        \n",
    "        # up to now, all these indices are relative w.r.t. the used slice in each file. the beginning of these slices can be shifted w.r.t. the beginning of the file itself\n",
    "        local_index += self.minpos[needed_file]\n",
    "            \n",
    "        return self.files[needed_file], local_index\n",
    "    \n",
    "    def transform_index_range(self, global_start_index, global_end_index):\n",
    "        if global_start_index >= self.get_length() or global_end_index >= self.get_length():\n",
    "            raise IndexError(\"global index out of range\")\n",
    "        if global_end_index < global_start_index:\n",
    "            raise IndexError(\"end ought to come after beginning\")\n",
    "            \n",
    "        local_coords = [self.transform_index(global_index) for global_index in range(global_start_index, global_end_index)]\n",
    "        needed_files = set([local_coord[0] for local_coord in local_coords])\n",
    "        \n",
    "        retval = []\n",
    "        # now look at each needed file in turn and determine the relevant index range in this local file\n",
    "        for needed_file in needed_files:\n",
    "            needed_local_indices = [local_coord[1] for local_coord in local_coords if local_coord[0] == needed_file ]\n",
    "            needed_min_index = min(needed_local_indices)\n",
    "            needed_max_index = max(needed_local_indices)\n",
    "            \n",
    "            retval.append([needed_file, needed_min_index, needed_max_index])\n",
    "        \n",
    "        return retval"
   ]
  },
  {
   "cell_type": "code",
   "execution_count": 17,
   "metadata": {
    "collapsed": false
   },
   "outputs": [],
   "source": [
    "def generate_training_data(H1_files, H0_files, branches, cut, training_split = 0.5, chunks = 1000):\n",
    "    H1_collection = FileCollection(H1_files, start_fraction = 0.0, end_fraction = training_split)\n",
    "    H0_collection = FileCollection(H0_files, start_fraction = 0.0, end_fraction = training_split)\n",
    "    return datagen(H1_collection, H0_collection, branches, chunks = chunks, cut = cut)"
   ]
  },
  {
   "cell_type": "code",
   "execution_count": 18,
   "metadata": {
    "collapsed": false
   },
   "outputs": [],
   "source": [
    "def generate_validation_data(H1_files, H0_files, branches, cut, training_split = 0.5, chunks = 1000):\n",
    "    H1_collection = FileCollection(H1_files, start_fraction = training_split, end_fraction = 1.0)\n",
    "    H0_collection = FileCollection(H0_files, start_fraction = training_split, end_fraction = 1.0)\n",
    "    return datagen(H1_collection, H0_collection, branches, chunks = chunks, cut = cut)"
   ]
  },
  {
   "cell_type": "code",
   "execution_count": 20,
   "metadata": {
    "collapsed": true
   },
   "outputs": [],
   "source": [
    "def sample_cut(frame):\n",
    "    return frame.loc[frame[\"nCleanedJetsPt30\"] >= 2]"
   ]
  },
  {
   "cell_type": "code",
   "execution_count": 21,
   "metadata": {
    "collapsed": true
   },
   "outputs": [],
   "source": [
    "def read_data(collection, start, stop, branches, cut):\n",
    "    #print \"requesting data in range (\" + str(start) + \", \" + str(stop) + \")\"\n",
    "    filetuple = collection.transform_index_range(start, stop)\n",
    "        \n",
    "    files = [entry[0] for entry in filetuple]\n",
    "    start_indices = [entry[1] for entry in filetuple]\n",
    "    stop_indices = [entry[2] for entry in filetuple]\n",
    "    \n",
    "    read_list = []\n",
    "    for (cur_file, cur_start_index, cur_stop_index) in zip(files, start_indices, stop_indices):\n",
    "        #print \"reading from \" + cur_file + \": (\" + str(cur_start_index) + \", \" + str(cur_stop_index) + \")\" \n",
    "        read_list.append(pd.DataFrame(root2array(cur_file, treename = \"ZZTree/candTree\", branches = branches, start = cur_start_index, stop = cur_stop_index)))\n",
    "        #print \"read successful\"\n",
    "        \n",
    "    return cut(pd.concat(read_list))"
   ]
  },
  {
   "cell_type": "code",
   "execution_count": 22,
   "metadata": {
    "collapsed": false
   },
   "outputs": [],
   "source": [
    "def datagen(H1_collection, H0_collection, branches, cut, chunks = 100):\n",
    "    H1_curpos = 0\n",
    "    H0_curpos = 0\n",
    "\n",
    "    H1_maxpos = H1_collection.get_length()\n",
    "    H0_maxpos = H0_collection.get_length()\n",
    "\n",
    "    print \"H1 contains \" + str(H1_maxpos) + \" entries\"\n",
    "    print \"H0 contains \" + str(H0_maxpos) + \" entries\"\n",
    "\n",
    "    H1_chunksize = int(H1_maxpos / chunks)\n",
    "    H0_chunksize = int(H0_maxpos / chunks)\n",
    "    \n",
    "    print \"using the following chunk sizes: \" + \"(\" + str(H1_chunksize) + \" / \" + str(H0_chunksize) + \")\"\n",
    "    \n",
    "    # as a generator, deliver data forever\n",
    "    while True:\n",
    "               \n",
    "        if H1_curpos + H1_chunksize > H1_maxpos:\n",
    "            H1_curpos = 0\n",
    "            \n",
    "        if H0_curpos + H0_chunksize > H0_maxpos:\n",
    "            H0_curpos = 0\n",
    "        \n",
    "        # prepare next training data chunk set by drawing events randomly from the two files\n",
    "        H1_data = read_data(H1_collection, branches = branches, start = H1_curpos, stop = H1_curpos + H1_chunksize, cut = cut)\n",
    "        H0_data = read_data(H0_collection, branches = branches, start = H0_curpos, stop = H0_curpos + H0_chunksize, cut = cut)\n",
    "                        \n",
    "        # update the starting position for the next chunk\n",
    "        H1_curpos += H1_chunksize\n",
    "        H0_curpos += H0_chunksize\n",
    "\n",
    "        # add the truth information\n",
    "        H1_data[\"target\"] = 1.0\n",
    "        H0_data[\"target\"] = 0.0\n",
    "\n",
    "        data_chunk = pd.concat([H1_data, H0_data])\n",
    "\n",
    "        # return a randomized signal + background sample\n",
    "        training_data = data_chunk.sample(frac = 1)\n",
    "        input_data = training_data[branches].as_matrix()\n",
    "        target_data = training_data[\"target\"].as_matrix()\n",
    "        \n",
    "        yield input_data, target_data"
   ]
  },
  {
   "cell_type": "code",
   "execution_count": 10,
   "metadata": {
    "collapsed": true
   },
   "outputs": [],
   "source": [
    "inpath = \"/data_CMS/cms/wind/CJLST_NTuples/\"\n",
    "filename = \"/ZZ4lAnalysis.root\"\n",
    "H1_files = [\"VBFH125\"]\n",
    "H0_files = [\"ggH125\"]\n",
    "\n",
    "H1_paths = [inpath + H1_file + filename for H1_file in H1_files]\n",
    "H0_paths = [inpath + H0_file + filename for H0_file in H0_files]"
   ]
  },
  {
   "cell_type": "code",
   "execution_count": 23,
   "metadata": {
    "collapsed": true
   },
   "outputs": [],
   "source": [
    "branches = [\"PFMET\", \"nCleanedJetsPt30\"]"
   ]
  },
  {
   "cell_type": "code",
   "execution_count": 24,
   "metadata": {
    "collapsed": false
   },
   "outputs": [],
   "source": [
    "in_layer = Input(shape = (2,))\n",
    "x = Dense(128, activation = \"relu\")(in_layer)\n",
    "x = Dense(128, activation = \"relu\")(x)\n",
    "x = Dense(128, activation = \"relu\")(x)\n",
    "x = Dense(16, activation = \"relu\")(x)\n",
    "out_layer = Dense(1, activation = \"tanh\", name = \"out_layer\")(x)\n",
    "model = Model(in_layer, out_layer, name = \"testmodel\")"
   ]
  },
  {
   "cell_type": "code",
   "execution_count": 25,
   "metadata": {
    "collapsed": false
   },
   "outputs": [],
   "source": [
    "sgd = optimizers.SGD(lr = 0.1)\n",
    "model.compile(loss = \"mean_squared_error\", optimizer = sgd, metrics = [\"accuracy\"])"
   ]
  },
  {
   "cell_type": "code",
   "execution_count": 26,
   "metadata": {
    "collapsed": false
   },
   "outputs": [
    {
     "name": "stdout",
     "output_type": "stream",
     "text": [
      "skimming /data_CMS/cms/wind/CJLST_NTuples/VBFH125/ZZ4lAnalysis.root\n",
      "collection set up: 1 files, 62320 entries in total, 31160 of which will be used\n",
      "skimming /data_CMS/cms/wind/CJLST_NTuples/ggH125/ZZ4lAnalysis.root\n",
      "collection set up: 1 files, 110483 entries in total, 55241 of which will be used\n",
      "skimming /data_CMS/cms/wind/CJLST_NTuples/VBFH125/ZZ4lAnalysis.root\n",
      "collection set up: 1 files, 62320 entries in total, 31160 of which will be used\n",
      "skimming /data_CMS/cms/wind/CJLST_NTuples/ggH125/ZZ4lAnalysis.root\n",
      "collection set up: 1 files, 110483 entries in total, 55242 of which will be used\n"
     ]
    }
   ],
   "source": [
    "train_gen = generate_training_data(H1_paths, H0_paths, branches, cut = sample_cut, chunks = 100)\n",
    "val_gen = generate_validation_data(H1_paths, H0_paths, branches, cut = sample_cut, chunks = 100)"
   ]
  },
  {
   "cell_type": "code",
   "execution_count": 27,
   "metadata": {
    "collapsed": true
   },
   "outputs": [],
   "source": [
    "early_stop = EarlyStopping(monitor = 'val_loss',\n",
    "                          patience = 10,\n",
    "                          verbose = 1,\n",
    "                          mode = 'auto')"
   ]
  },
  {
   "cell_type": "code",
   "execution_count": 28,
   "metadata": {
    "collapsed": false
   },
   "outputs": [
    {
     "name": "stdout",
     "output_type": "stream",
     "text": [
      "Epoch 1/50H1 contains 31160 entries\n",
      "\n",
      "H0 contains 55241 entries\n",
      "using the following chunk sizes: (311 / 552)\n",
      "H1 contains 31160 entries\n",
      "H0 contains 55242 entries\n",
      "using the following chunk sizes: (311 / 552)\n",
      "45s - loss: 0.2925 - acc: 0.7033 - val_loss: 0.2972 - val_acc: 0.6980\n",
      "Epoch 2/50\n",
      "42s - loss: 0.2704 - acc: 0.6870 - val_loss: 0.2937 - val_acc: 0.7029\n",
      "Epoch 3/50\n",
      "43s - loss: 0.2418 - acc: 0.7013 - val_loss: 0.2074 - val_acc: 0.7155\n",
      "Epoch 4/50\n",
      "42s - loss: 0.2098 - acc: 0.7073 - val_loss: 0.2117 - val_acc: 0.6986\n",
      "Epoch 5/50\n",
      "42s - loss: 0.2085 - acc: 0.7049 - val_loss: 0.2096 - val_acc: 0.7074\n",
      "Epoch 6/50\n",
      "43s - loss: 0.2084 - acc: 0.7054 - val_loss: 0.2027 - val_acc: 0.7198\n",
      "Epoch 7/50\n",
      "40s - loss: 0.2074 - acc: 0.7071 - val_loss: 0.2106 - val_acc: 0.6998\n",
      "Epoch 8/50\n",
      "39s - loss: 0.2073 - acc: 0.7066 - val_loss: 0.2094 - val_acc: 0.7009\n",
      "Epoch 9/50\n",
      "38s - loss: 0.2080 - acc: 0.7043 - val_loss: 0.2115 - val_acc: 0.6963\n",
      "Epoch 10/50\n",
      "42s - loss: 0.2071 - acc: 0.7064 - val_loss: 0.2099 - val_acc: 0.7002\n",
      "Epoch 11/50\n",
      "41s - loss: 0.2065 - acc: 0.7076 - val_loss: 0.2092 - val_acc: 0.7006\n",
      "Epoch 12/50\n",
      "42s - loss: 0.2074 - acc: 0.7051 - val_loss: 0.2041 - val_acc: 0.7143\n",
      "Epoch 13/50\n",
      "42s - loss: 0.2074 - acc: 0.7051 - val_loss: 0.2085 - val_acc: 0.7032\n",
      "Epoch 14/50\n",
      "42s - loss: 0.2064 - acc: 0.7076 - val_loss: 0.2082 - val_acc: 0.7035\n",
      "Epoch 15/50\n",
      "42s - loss: 0.2068 - acc: 0.7065 - val_loss: 0.2023 - val_acc: 0.7186\n",
      "Epoch 16/50\n",
      "41s - loss: 0.2075 - acc: 0.7044 - val_loss: 0.2121 - val_acc: 0.6959\n",
      "Epoch 17/50\n",
      "44s - loss: 0.2068 - acc: 0.7062 - val_loss: 0.2095 - val_acc: 0.7004\n",
      "Epoch 18/50\n",
      "43s - loss: 0.2064 - acc: 0.7074 - val_loss: 0.2135 - val_acc: 0.7006\n",
      "Epoch 19/50\n",
      "42s - loss: 0.2071 - acc: 0.7052 - val_loss: 0.2100 - val_acc: 0.7003\n",
      "Epoch 20/50\n",
      "42s - loss: 0.2070 - acc: 0.7054 - val_loss: 0.2082 - val_acc: 0.7021\n",
      "Epoch 21/50\n",
      "41s - loss: 0.2064 - acc: 0.7070 - val_loss: 0.2012 - val_acc: 0.7210\n",
      "Epoch 22/50\n",
      "44s - loss: 0.2064 - acc: 0.7070 - val_loss: 0.2093 - val_acc: 0.7004\n",
      "Epoch 23/50\n",
      "42s - loss: 0.2073 - acc: 0.7043 - val_loss: 0.2094 - val_acc: 0.6992\n",
      "Epoch 24/50\n",
      "43s - loss: 0.2066 - acc: 0.7061 - val_loss: 0.2017 - val_acc: 0.7206\n",
      "Epoch 25/50\n",
      "41s - loss: 0.2060 - acc: 0.7076 - val_loss: 0.2087 - val_acc: 0.7047\n",
      "Epoch 26/50\n",
      "41s - loss: 0.2069 - acc: 0.7056 - val_loss: 0.2112 - val_acc: 0.7030\n",
      "Epoch 27/50\n",
      "44s - loss: 0.2071 - acc: 0.7044 - val_loss: 0.2088 - val_acc: 0.6990\n",
      "Epoch 28/50\n",
      "45s - loss: 0.2061 - acc: 0.7072 - val_loss: 0.2091 - val_acc: 0.7014\n",
      "Epoch 29/50\n",
      "41s - loss: 0.2060 - acc: 0.7073 - val_loss: 0.2060 - val_acc: 0.7057\n",
      "Epoch 30/50\n",
      "42s - loss: 0.2069 - acc: 0.7049 - val_loss: 0.2022 - val_acc: 0.7199\n",
      "Epoch 31/50\n",
      "43s - loss: 0.2068 - acc: 0.7054 - val_loss: 0.2113 - val_acc: 0.6960\n",
      "Epoch 32/50\n",
      "41s - loss: 0.2062 - acc: 0.7070 - val_loss: 0.2060 - val_acc: 0.7081\n",
      "Epoch 00031: early stopping\n"
     ]
    }
   ],
   "source": [
    "ret = model.fit_generator(train_gen, steps_per_epoch = 128, epochs = 50, verbose = 2, validation_data = val_gen, validation_steps = 10, callbacks = [early_stop])"
   ]
  },
  {
   "cell_type": "code",
   "execution_count": null,
   "metadata": {
    "collapsed": true
   },
   "outputs": [],
   "source": []
  }
 ],
 "metadata": {
  "kernelspec": {
   "display_name": "Python 2",
   "language": "python",
   "name": "python2"
  },
  "language_info": {
   "codemirror_mode": {
    "name": "ipython",
    "version": 2
   },
   "file_extension": ".py",
   "mimetype": "text/x-python",
   "name": "python",
   "nbconvert_exporter": "python",
   "pygments_lexer": "ipython2",
   "version": "2.7.11"
  }
 },
 "nbformat": 4,
 "nbformat_minor": 2
}
