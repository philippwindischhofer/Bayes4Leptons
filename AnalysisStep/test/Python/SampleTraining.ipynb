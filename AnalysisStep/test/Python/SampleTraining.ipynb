{
 "cells": [
  {
   "cell_type": "code",
   "execution_count": 14,
   "metadata": {
    "collapsed": false
   },
   "outputs": [],
   "source": [
    "from ROOT import TFile\n",
    "from root_numpy import root2array, root2rec, tree2array\n",
    "import array\n",
    "import pandas as pd\n",
    "from keras.models import Sequential\n",
    "from keras.layers import Dense, Activation\n",
    "from keras.layers import LSTM\n",
    "from keras import losses, optimizers"
   ]
  },
  {
   "cell_type": "code",
   "execution_count": 2,
   "metadata": {
    "collapsed": true
   },
   "outputs": [],
   "source": [
    "inpath = \"/data_CMS/cms/tsculac/CJLST_NTuples/\"\n",
    "filename = \"/ZZ4lAnalysis.root\"\n",
    "H1_files = [\"VBFH125\"]\n",
    "H0_files = [\"ggH125\"]"
   ]
  },
  {
   "cell_type": "code",
   "execution_count": 3,
   "metadata": {
    "collapsed": false
   },
   "outputs": [],
   "source": [
    "def generate_training_data(H1_file, H0_file, branches, chunksize = 10):\n",
    "    H1_curpos = 0\n",
    "    H0_curpos = 0\n",
    "    \n",
    "    while H1_curpos < 20:\n",
    "        # prepare training data chunk set by drawing events randomly from the two files\n",
    "        H1_data = pd.DataFrame(root2array(inpath + H0_file + filename, treename = \"ZZTree/candTree\", \n",
    "                    branches = branches, start = H1_curpos, stop = H1_curpos + chunksize))\n",
    "\n",
    "        H0_data = pd.DataFrame(root2array(inpath + H1_file + filename, treename = \"ZZTree/candTree\",\n",
    "                    branches = branches, start = H0_curpos, stop = H0_curpos + chunksize))\n",
    "                        \n",
    "        H1_curpos += chunksize\n",
    "        H0_curpos += chunksize\n",
    "\n",
    "        # add the truth information\n",
    "        H1_data[\"target\"] = 1.0\n",
    "        H0_data[\"target\"] = 0.0\n",
    "\n",
    "        data_chunk = pd.concat([H1_data, H0_data])\n",
    "\n",
    "        yield data_chunk.sample(frac = 1)"
   ]
  },
  {
   "cell_type": "code",
   "execution_count": 4,
   "metadata": {
    "collapsed": true
   },
   "outputs": [],
   "source": [
    "branches = [\"PFMET\", \"nCleanedJetsPt30\"]"
   ]
  },
  {
   "cell_type": "code",
   "execution_count": 27,
   "metadata": {
    "collapsed": false
   },
   "outputs": [],
   "source": [
    "generator = generate_training_data(H0_files[0], H1_files[0], branches, chunksize = 10)"
   ]
  },
  {
   "cell_type": "code",
   "execution_count": 7,
   "metadata": {
    "collapsed": true
   },
   "outputs": [],
   "source": [
    "# make a simple Keras model, just for Hello World purposes\n",
    "model = Sequential()"
   ]
  },
  {
   "cell_type": "code",
   "execution_count": 10,
   "metadata": {
    "collapsed": true
   },
   "outputs": [],
   "source": [
    "model.add(Dense(32, input_shape=(2,)))\n",
    "model.add(Dense(32))\n",
    "model.add(Dense(1))\n",
    "model.add(Activation(\"softmax\"))"
   ]
  },
  {
   "cell_type": "code",
   "execution_count": 16,
   "metadata": {
    "collapsed": false
   },
   "outputs": [],
   "source": [
    "sgd = optimizers.SGD(lr = 0.01)\n",
    "model.compile(loss = \"mean_squared_error\", optimizer = sgd, metrics = [\"accuracy\"])"
   ]
  },
  {
   "cell_type": "code",
   "execution_count": 28,
   "metadata": {
    "collapsed": false
   },
   "outputs": [
    {
     "name": "stdout",
     "output_type": "stream",
     "text": [
      "Epoch 1/50\n",
      "20/20 [==============================] - 0s - loss: 0.5000 - acc: 0.5000\n",
      "Epoch 2/50\n",
      "20/20 [==============================] - 0s - loss: 0.5000 - acc: 0.5000\n",
      "Epoch 3/50\n",
      "20/20 [==============================] - 0s - loss: 0.5000 - acc: 0.5000\n",
      "Epoch 4/50\n",
      "20/20 [==============================] - 0s - loss: 0.5000 - acc: 0.5000\n",
      "Epoch 5/50\n",
      "20/20 [==============================] - 0s - loss: 0.5000 - acc: 0.5000\n",
      "Epoch 6/50\n",
      "20/20 [==============================] - 0s - loss: 0.5000 - acc: 0.5000\n",
      "Epoch 7/50\n",
      "20/20 [==============================] - 0s - loss: 0.5000 - acc: 0.5000\n",
      "Epoch 8/50\n",
      "20/20 [==============================] - 0s - loss: 0.5000 - acc: 0.5000\n",
      "Epoch 9/50\n",
      "20/20 [==============================] - 0s - loss: 0.5000 - acc: 0.5000\n",
      "Epoch 10/50\n",
      "20/20 [==============================] - 0s - loss: 0.5000 - acc: 0.5000\n",
      "Epoch 11/50\n",
      "20/20 [==============================] - 0s - loss: 0.5000 - acc: 0.5000\n",
      "Epoch 12/50\n",
      "20/20 [==============================] - 0s - loss: 0.5000 - acc: 0.5000\n",
      "Epoch 13/50\n",
      "20/20 [==============================] - 0s - loss: 0.5000 - acc: 0.5000\n",
      "Epoch 14/50\n",
      "20/20 [==============================] - 0s - loss: 0.5000 - acc: 0.5000\n",
      "Epoch 15/50\n",
      "20/20 [==============================] - 0s - loss: 0.5000 - acc: 0.5000\n",
      "Epoch 16/50\n",
      "20/20 [==============================] - 0s - loss: 0.5000 - acc: 0.5000\n",
      "Epoch 17/50\n",
      "20/20 [==============================] - 0s - loss: 0.5000 - acc: 0.5000\n",
      "Epoch 18/50\n",
      "20/20 [==============================] - 0s - loss: 0.5000 - acc: 0.5000\n",
      "Epoch 19/50\n",
      "20/20 [==============================] - 0s - loss: 0.5000 - acc: 0.5000\n",
      "Epoch 20/50\n",
      "20/20 [==============================] - 0s - loss: 0.5000 - acc: 0.5000\n",
      "Epoch 21/50\n",
      "20/20 [==============================] - 0s - loss: 0.5000 - acc: 0.5000\n",
      "Epoch 22/50\n",
      "20/20 [==============================] - 0s - loss: 0.5000 - acc: 0.5000\n",
      "Epoch 23/50\n",
      "20/20 [==============================] - 0s - loss: 0.5000 - acc: 0.5000\n",
      "Epoch 24/50\n",
      "20/20 [==============================] - 0s - loss: 0.5000 - acc: 0.5000\n",
      "Epoch 25/50\n",
      "20/20 [==============================] - 0s - loss: 0.5000 - acc: 0.5000\n",
      "Epoch 26/50\n",
      "20/20 [==============================] - 0s - loss: 0.5000 - acc: 0.5000\n",
      "Epoch 27/50\n",
      "20/20 [==============================] - 0s - loss: 0.5000 - acc: 0.5000\n",
      "Epoch 28/50\n",
      "20/20 [==============================] - 0s - loss: 0.5000 - acc: 0.5000\n",
      "Epoch 29/50\n",
      "20/20 [==============================] - 0s - loss: 0.5000 - acc: 0.5000\n",
      "Epoch 30/50\n",
      "20/20 [==============================] - 0s - loss: 0.5000 - acc: 0.5000\n",
      "Epoch 31/50\n",
      "20/20 [==============================] - 0s - loss: 0.5000 - acc: 0.5000\n",
      "Epoch 32/50\n",
      "20/20 [==============================] - 0s - loss: 0.5000 - acc: 0.5000\n",
      "Epoch 33/50\n",
      "20/20 [==============================] - 0s - loss: 0.5000 - acc: 0.5000\n",
      "Epoch 34/50\n",
      "20/20 [==============================] - 0s - loss: 0.5000 - acc: 0.5000\n",
      "Epoch 35/50\n",
      "20/20 [==============================] - 0s - loss: 0.5000 - acc: 0.5000\n",
      "Epoch 36/50\n",
      "20/20 [==============================] - 0s - loss: 0.5000 - acc: 0.5000\n",
      "Epoch 37/50\n",
      "20/20 [==============================] - 0s - loss: 0.5000 - acc: 0.5000\n",
      "Epoch 38/50\n",
      "20/20 [==============================] - 0s - loss: 0.5000 - acc: 0.5000\n",
      "Epoch 39/50\n",
      "20/20 [==============================] - 0s - loss: 0.5000 - acc: 0.5000\n",
      "Epoch 40/50\n",
      "20/20 [==============================] - 0s - loss: 0.5000 - acc: 0.5000\n",
      "Epoch 41/50\n",
      "20/20 [==============================] - 0s - loss: 0.5000 - acc: 0.5000\n",
      "Epoch 42/50\n",
      "20/20 [==============================] - 0s - loss: 0.5000 - acc: 0.5000\n",
      "Epoch 43/50\n",
      "20/20 [==============================] - 0s - loss: 0.5000 - acc: 0.5000\n",
      "Epoch 44/50\n",
      "20/20 [==============================] - 0s - loss: 0.5000 - acc: 0.5000\n",
      "Epoch 45/50\n",
      "20/20 [==============================] - 0s - loss: 0.5000 - acc: 0.5000\n",
      "Epoch 46/50\n",
      "20/20 [==============================] - 0s - loss: 0.5000 - acc: 0.5000\n",
      "Epoch 47/50\n",
      "20/20 [==============================] - 0s - loss: 0.5000 - acc: 0.5000\n",
      "Epoch 48/50\n",
      "20/20 [==============================] - 0s - loss: 0.5000 - acc: 0.5000\n",
      "Epoch 49/50\n",
      "20/20 [==============================] - 0s - loss: 0.5000 - acc: 0.5000\n",
      "Epoch 50/50\n",
      "20/20 [==============================] - 0s - loss: 0.5000 - acc: 0.5000\n",
      "Epoch 1/50\n",
      "20/20 [==============================] - 0s - loss: 0.5000 - acc: 0.5000\n",
      "Epoch 2/50\n",
      "20/20 [==============================] - 0s - loss: 0.5000 - acc: 0.5000\n",
      "Epoch 3/50\n",
      "20/20 [==============================] - 0s - loss: 0.5000 - acc: 0.5000\n",
      "Epoch 4/50\n",
      "20/20 [==============================] - 0s - loss: 0.5000 - acc: 0.5000\n",
      "Epoch 5/50\n",
      "20/20 [==============================] - 0s - loss: 0.5000 - acc: 0.5000\n",
      "Epoch 6/50\n",
      "20/20 [==============================] - 0s - loss: 0.5000 - acc: 0.5000\n",
      "Epoch 7/50\n",
      "20/20 [==============================] - 0s - loss: 0.5000 - acc: 0.5000\n",
      "Epoch 8/50\n",
      "20/20 [==============================] - 0s - loss: 0.5000 - acc: 0.5000\n",
      "Epoch 9/50\n",
      "20/20 [==============================] - 0s - loss: 0.5000 - acc: 0.5000\n",
      "Epoch 10/50\n",
      "20/20 [==============================] - 0s - loss: 0.5000 - acc: 0.5000\n",
      "Epoch 11/50\n",
      "20/20 [==============================] - 0s - loss: 0.5000 - acc: 0.5000\n",
      "Epoch 12/50\n",
      "20/20 [==============================] - 0s - loss: 0.5000 - acc: 0.5000\n",
      "Epoch 13/50\n",
      "20/20 [==============================] - 0s - loss: 0.5000 - acc: 0.5000\n",
      "Epoch 14/50\n",
      "20/20 [==============================] - 0s - loss: 0.5000 - acc: 0.5000\n",
      "Epoch 15/50\n",
      "20/20 [==============================] - 0s - loss: 0.5000 - acc: 0.5000\n",
      "Epoch 16/50\n",
      "20/20 [==============================] - 0s - loss: 0.5000 - acc: 0.5000\n",
      "Epoch 17/50\n",
      "20/20 [==============================] - 0s - loss: 0.5000 - acc: 0.5000\n",
      "Epoch 18/50\n",
      "20/20 [==============================] - 0s - loss: 0.5000 - acc: 0.5000\n",
      "Epoch 19/50\n",
      "20/20 [==============================] - 0s - loss: 0.5000 - acc: 0.5000\n",
      "Epoch 20/50\n",
      "20/20 [==============================] - 0s - loss: 0.5000 - acc: 0.5000\n",
      "Epoch 21/50\n",
      "20/20 [==============================] - 0s - loss: 0.5000 - acc: 0.5000\n",
      "Epoch 22/50\n",
      "20/20 [==============================] - 0s - loss: 0.5000 - acc: 0.5000\n",
      "Epoch 23/50\n",
      "20/20 [==============================] - 0s - loss: 0.5000 - acc: 0.5000\n",
      "Epoch 24/50\n",
      "20/20 [==============================] - 0s - loss: 0.5000 - acc: 0.5000\n",
      "Epoch 25/50\n",
      "20/20 [==============================] - 0s - loss: 0.5000 - acc: 0.5000\n",
      "Epoch 26/50\n",
      "20/20 [==============================] - 0s - loss: 0.5000 - acc: 0.5000\n",
      "Epoch 27/50\n",
      "20/20 [==============================] - 0s - loss: 0.5000 - acc: 0.5000\n",
      "Epoch 28/50\n",
      "20/20 [==============================] - 0s - loss: 0.5000 - acc: 0.5000\n",
      "Epoch 29/50\n",
      "20/20 [==============================] - 0s - loss: 0.5000 - acc: 0.5000\n",
      "Epoch 30/50\n",
      "20/20 [==============================] - 0s - loss: 0.5000 - acc: 0.5000\n",
      "Epoch 31/50\n",
      "20/20 [==============================] - 0s - loss: 0.5000 - acc: 0.5000\n",
      "Epoch 32/50\n",
      "20/20 [==============================] - 0s - loss: 0.5000 - acc: 0.5000\n",
      "Epoch 33/50\n",
      "20/20 [==============================] - 0s - loss: 0.5000 - acc: 0.5000\n",
      "Epoch 34/50\n",
      "20/20 [==============================] - 0s - loss: 0.5000 - acc: 0.5000\n",
      "Epoch 35/50\n",
      "20/20 [==============================] - 0s - loss: 0.5000 - acc: 0.5000\n",
      "Epoch 36/50\n",
      "20/20 [==============================] - 0s - loss: 0.5000 - acc: 0.5000\n",
      "Epoch 37/50\n",
      "20/20 [==============================] - 0s - loss: 0.5000 - acc: 0.5000\n",
      "Epoch 38/50\n",
      "20/20 [==============================] - 0s - loss: 0.5000 - acc: 0.5000\n",
      "Epoch 39/50\n",
      "20/20 [==============================] - 0s - loss: 0.5000 - acc: 0.5000\n",
      "Epoch 40/50\n",
      "20/20 [==============================] - 0s - loss: 0.5000 - acc: 0.5000\n",
      "Epoch 41/50\n",
      "20/20 [==============================] - 0s - loss: 0.5000 - acc: 0.5000\n",
      "Epoch 42/50\n",
      "20/20 [==============================] - 0s - loss: 0.5000 - acc: 0.5000\n",
      "Epoch 43/50\n",
      "20/20 [==============================] - 0s - loss: 0.5000 - acc: 0.5000\n",
      "Epoch 44/50\n",
      "20/20 [==============================] - 0s - loss: 0.5000 - acc: 0.5000\n",
      "Epoch 45/50\n",
      "20/20 [==============================] - 0s - loss: 0.5000 - acc: 0.5000\n",
      "Epoch 46/50\n",
      "20/20 [==============================] - 0s - loss: 0.5000 - acc: 0.5000\n",
      "Epoch 47/50\n",
      "20/20 [==============================] - 0s - loss: 0.5000 - acc: 0.5000\n",
      "Epoch 48/50\n",
      "20/20 [==============================] - 0s - loss: 0.5000 - acc: 0.5000\n",
      "Epoch 49/50\n",
      "20/20 [==============================] - 0s - loss: 0.5000 - acc: 0.5000\n",
      "Epoch 50/50\n",
      "20/20 [==============================] - 0s - loss: 0.5000 - acc: 0.5000\n"
     ]
    }
   ],
   "source": [
    "for training_data in generator:\n",
    "    input_data = training_data[branches].as_matrix()\n",
    "    target_data = training_data[\"target\"].as_matrix()\n",
    "    model.fit(input_data, target_data, epochs = 50, batch_size = 128)"
   ]
  },
  {
   "cell_type": "code",
   "execution_count": null,
   "metadata": {
    "collapsed": true
   },
   "outputs": [],
   "source": []
  }
 ],
 "metadata": {
  "kernelspec": {
   "display_name": "Python 2",
   "language": "python",
   "name": "python2"
  },
  "language_info": {
   "codemirror_mode": {
    "name": "ipython",
    "version": 2
   },
   "file_extension": ".py",
   "mimetype": "text/x-python",
   "name": "python",
   "nbconvert_exporter": "python",
   "pygments_lexer": "ipython2",
   "version": "2.7.11"
  }
 },
 "nbformat": 4,
 "nbformat_minor": 2
}
