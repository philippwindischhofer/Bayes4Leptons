{
 "cells": [
  {
   "cell_type": "code",
   "execution_count": 24,
   "metadata": {
    "collapsed": false
   },
   "outputs": [],
   "source": [
    "from trainlib.FileCollection import FileCollection\n",
    "import trainlib.cuts as cuts\n",
    "import numpy as np"
   ]
  },
  {
   "cell_type": "code",
   "execution_count": 11,
   "metadata": {
    "collapsed": true
   },
   "outputs": [],
   "source": [
    "MC_path = \"/data_CMS/cms/wind/CJLST_NTuples_training_weights/\""
   ]
  },
  {
   "cell_type": "code",
   "execution_count": 12,
   "metadata": {
    "collapsed": false
   },
   "outputs": [],
   "source": [
    "collections = {\"VBF\": {MC_path + \"VBFH125/ZZ4lAnalysis.root\": cuts.mZZ_cut},\n",
    "                \"ggH\": {MC_path + \"ggH125/ZZ4lAnalysis.root\": cuts.mZZ_cut},\n",
    "                \"WHhadr\": {MC_path + \"WplusH125/ZZ4lAnalysis.root\": cuts.WHhadr_cut, MC_path + \"WminusH125/ZZ4lAnalysis.root\": cuts.WHhadr_cut},\n",
    "                \"WHlept\": {MC_path + \"WplusH125/ZZ4lAnalysis.root\": cuts.WHlept_cut, MC_path + \"WminusH125/ZZ4lAnalysis.root\": cuts.WHlept_cut},\n",
    "                \"ZHhadr\": {MC_path + \"ZH125/ZZ4lAnalysis.root\": cuts.ZHhadr_cut},\n",
    "                \"ZHlept\": {MC_path + \"ZH125/ZZ4lAnalysis.root\": cuts.ZHlept_cut},\n",
    "                \"ttHhadr\": {MC_path + \"ttH125/ZZ4lAnalysis.root\": cuts.ttHhadr_cut},\n",
    "                \"ttHlept\": {MC_path + \"ttH125/ZZ4lAnalysis.root\": cuts.ttHlept_cut},\n",
    "                \"ZHMET\": {MC_path + \"ZH125/ZZ4lAnalysis.root\": cuts.ZHMET_cut}}"
   ]
  },
  {
   "cell_type": "code",
   "execution_count": 13,
   "metadata": {
    "collapsed": false
   },
   "outputs": [
    {
     "name": "stdout",
     "output_type": "stream",
     "text": [
      "skimming /data_CMS/cms/wind/CJLST_NTuples_training_weights/VBFH125/ZZ4lAnalysis.root\n",
      "collection set up: 1 files, 62320 entries in total, 62320 of which will be used\n"
     ]
    }
   ],
   "source": [
    "coll = FileCollection(collections[\"VBF\"], 0.0, 1.0)"
   ]
  },
  {
   "cell_type": "code",
   "execution_count": 20,
   "metadata": {
    "collapsed": false
   },
   "outputs": [],
   "source": [
    "weights = coll.get_data([\"training_weight\", \"ZZMass\"], 0.0, 1.0)[\"training_weight\"]"
   ]
  },
  {
   "cell_type": "code",
   "execution_count": 25,
   "metadata": {
    "collapsed": false
   },
   "outputs": [
    {
     "data": {
      "text/plain": [
       "0.00012604661"
      ]
     },
     "execution_count": 25,
     "metadata": {},
     "output_type": "execute_result"
    }
   ],
   "source": [
    "np.sum(weights)"
   ]
  },
  {
   "cell_type": "code",
   "execution_count": 27,
   "metadata": {
    "collapsed": false
   },
   "outputs": [],
   "source": [
    "test_data = coll.get_data([\"training_weight\", \"ZZMass\"], 0.0, 1.0)"
   ]
  },
  {
   "cell_type": "code",
   "execution_count": 36,
   "metadata": {
    "collapsed": false
   },
   "outputs": [],
   "source": [
    "wanted_indices = test_data.loc[test_data[\"training_weight\"] > 1e-8].index"
   ]
  },
  {
   "cell_type": "code",
   "execution_count": 37,
   "metadata": {
    "collapsed": false
   },
   "outputs": [
    {
     "data": {
      "text/plain": [
       "Int64Index([25822, 39992, 57772], dtype='int64')"
      ]
     },
     "execution_count": 37,
     "metadata": {},
     "output_type": "execute_result"
    }
   ],
   "source": [
    "wanted_indices"
   ]
  },
  {
   "cell_type": "code",
   "execution_count": 47,
   "metadata": {
    "collapsed": false
   },
   "outputs": [
    {
     "data": {
      "text/plain": [
       "25822    1.512553e-08\n",
       "39992    2.400440e-07\n",
       "57772    1.754110e-08\n",
       "Name: training_weight, dtype: float32"
      ]
     },
     "execution_count": 47,
     "metadata": {},
     "output_type": "execute_result"
    }
   ],
   "source": [
    "test_data[\"training_weight\"][wanted_indices]"
   ]
  },
  {
   "cell_type": "code",
   "execution_count": 38,
   "metadata": {
    "collapsed": false
   },
   "outputs": [
    {
     "data": {
      "text/plain": [
       "0        1.187823e-09\n",
       "1        2.603300e-09\n",
       "2        2.550889e-09\n",
       "3        1.994552e-09\n",
       "5        2.727409e-09\n",
       "6        2.372895e-09\n",
       "8        2.229823e-09\n",
       "10       2.525228e-09\n",
       "11       1.672019e-09\n",
       "12       2.868588e-09\n",
       "13       1.254148e-09\n",
       "14       2.594509e-09\n",
       "15       9.321381e-10\n",
       "17       3.233689e-09\n",
       "18       1.932154e-09\n",
       "19       1.692938e-09\n",
       "20       2.552517e-09\n",
       "21       2.972158e-09\n",
       "22       3.042431e-09\n",
       "23       2.962157e-09\n",
       "24       2.234669e-09\n",
       "25       1.644881e-09\n",
       "26       1.882051e-09\n",
       "27       1.105722e-09\n",
       "28       1.587131e-09\n",
       "29       2.658446e-09\n",
       "30       2.374418e-09\n",
       "31       2.749401e-09\n",
       "32       2.056065e-09\n",
       "33       2.664306e-09\n",
       "             ...     \n",
       "62287    2.983054e-09\n",
       "62288    1.542984e-09\n",
       "62289    1.802613e-09\n",
       "62290    1.935567e-10\n",
       "62291    3.110833e-09\n",
       "62292    2.864975e-09\n",
       "62293    2.542346e-09\n",
       "62295    1.802100e-09\n",
       "62296    2.206922e-09\n",
       "62297    2.917679e-09\n",
       "62298    2.072593e-09\n",
       "62299    1.521945e-09\n",
       "62300    2.612327e-09\n",
       "62301    1.656991e-09\n",
       "62302    1.031785e-09\n",
       "62303    2.550571e-09\n",
       "62304    2.897417e-09\n",
       "62305    2.734122e-09\n",
       "62306    2.225983e-09\n",
       "62307    2.817011e-09\n",
       "62308    1.755793e-09\n",
       "62310    2.748032e-09\n",
       "62311    2.255716e-09\n",
       "62313    1.472738e-09\n",
       "62314    2.552248e-09\n",
       "62315    1.990464e-09\n",
       "62316    1.856718e-09\n",
       "62317    5.094423e-10\n",
       "62318    3.347052e-09\n",
       "62319    2.414534e-09\n",
       "Name: training_weight, Length: 57329, dtype: float32"
      ]
     },
     "execution_count": 38,
     "metadata": {},
     "output_type": "execute_result"
    }
   ],
   "source": [
    "weights"
   ]
  },
  {
   "cell_type": "code",
   "execution_count": 48,
   "metadata": {
    "collapsed": false
   },
   "outputs": [],
   "source": [
    "weightarr = np.array(weights[wanted_indices])"
   ]
  },
  {
   "cell_type": "code",
   "execution_count": 49,
   "metadata": {
    "collapsed": false
   },
   "outputs": [
    {
     "data": {
      "text/plain": [
       "array([  1.51255328e-08,   2.40043988e-07,   1.75411046e-08], dtype=float32)"
      ]
     },
     "execution_count": 49,
     "metadata": {},
     "output_type": "execute_result"
    }
   ],
   "source": [
    "weightarr"
   ]
  },
  {
   "cell_type": "code",
   "execution_count": 50,
   "metadata": {
    "collapsed": true
   },
   "outputs": [],
   "source": [
    "weightarr *= 50.0"
   ]
  },
  {
   "cell_type": "code",
   "execution_count": 51,
   "metadata": {
    "collapsed": false
   },
   "outputs": [
    {
     "data": {
      "text/plain": [
       "array([  7.56276620e-07,   1.20021996e-05,   8.77055243e-07], dtype=float32)"
      ]
     },
     "execution_count": 51,
     "metadata": {},
     "output_type": "execute_result"
    }
   ],
   "source": [
    "weightarr"
   ]
  },
  {
   "cell_type": "code",
   "execution_count": null,
   "metadata": {
    "collapsed": true
   },
   "outputs": [],
   "source": []
  }
 ],
 "metadata": {
  "kernelspec": {
   "display_name": "Python 2",
   "language": "python",
   "name": "python2"
  },
  "language_info": {
   "codemirror_mode": {
    "name": "ipython",
    "version": 2
   },
   "file_extension": ".py",
   "mimetype": "text/x-python",
   "name": "python",
   "nbconvert_exporter": "python",
   "pygments_lexer": "ipython2",
   "version": "2.7.11"
  }
 },
 "nbformat": 4,
 "nbformat_minor": 2
}
