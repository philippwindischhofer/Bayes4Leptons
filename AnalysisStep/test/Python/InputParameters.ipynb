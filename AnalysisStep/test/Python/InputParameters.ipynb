{
 "cells": [
  {
   "cell_type": "code",
   "execution_count": 1,
   "metadata": {
    "collapsed": true
   },
   "outputs": [],
   "source": [
    "import warnings\n",
    "warnings.filterwarnings('ignore')"
   ]
  },
  {
   "cell_type": "code",
   "execution_count": 2,
   "metadata": {
    "collapsed": false
   },
   "outputs": [
    {
     "name": "stdout",
     "output_type": "stream",
     "text": [
      "Welcome to JupyROOT 6.10/09\n"
     ]
    }
   ],
   "source": [
    "from trainlib.FileCollection import FileCollection\n",
    "from trainlib.config import Config\n",
    "from trainlib.ConfigFileHandler import ConfigFileHandler\n",
    "from trainlib.ConfigFileUtils import ConfigFileUtils\n",
    "import trainlib.cuts as cuts\n",
    "import numpy as np\n",
    "import matplotlib.pyplot as plt\n",
    "import matplotlib.ticker as ticker\n",
    "import pandas as pd\n",
    "import copy\n",
    "import re\n",
    "from scipy import interpolate\n",
    "import scipy.integrate as integrate\n",
    "import pickle\n",
    "import os"
   ]
  },
  {
   "cell_type": "code",
   "execution_count": 3,
   "metadata": {
    "collapsed": false
   },
   "outputs": [
    {
     "name": "stderr",
     "output_type": "stream",
     "text": [
      "/cvmfs/cms.cern.ch/slc6_amd64_gcc630/external/py2-pippkgs_depscipy/3.0-fmblme3/lib/python2.7/site-packages/sklearn/cross_validation.py:44: DeprecationWarning: This module was deprecated in version 0.18 in favor of the model_selection module into which all the refactored classes and functions are moved. Also note that the interface of the new CV iterators are different from that of this module. This module will be removed in 0.20.\n",
      "  \"This module will be removed in 0.20.\", DeprecationWarning)\n"
     ]
    }
   ],
   "source": [
    "import xgboost as xgb\n",
    "from sklearn.metrics import mean_squared_error"
   ]
  },
  {
   "cell_type": "code",
   "execution_count": 4,
   "metadata": {
    "collapsed": true
   },
   "outputs": [],
   "source": [
    "#candidate_branches = [\"PFMET\", \"nCleanedJetsPt30\", \"nCleanedJetsPt30BTagged_bTagSF\", \"nExtraLep\", \"ZZMass\", \"nExtraZ\", \"Z1Mass\", \"Z2Mass\", \"Z1Pt\", \"Z2Pt\", \"ZZMassErr\", \"ZZPt\", \"ZZEta\", \"ZZPhi\", \"Z1Flav\", \"Z2Flav\", \"costhetastar\", \"helphi\", \"helcosthetaZ1\", \"helcosthetaZ2\", \"phistarZ1\", \"phistarZ2\", \"xi\", \"xistar\"]\n",
    "candidate_branches = [\"PFMET\", \"nCleanedJetsPt30\", \"nCleanedJetsPt30BTagged_bTagSF\", \"nExtraLep\", \"ZZMass\", \"nExtraZ\", \"Z1Mass\", \"Z2Mass\", \"Z1Pt\", \"Z2Pt\", \"ZZMassErr\", \"ZZPt\", \"ZZEta\", \"ZZPhi\", \"Z1Flav\", \"Z2Flav\"]\n",
    "MELA_branches = [\"D_VBF2j_ggH_ME\", \"D_VBF1j_ggH_ME\", \"D_WHh_ggH_ME\", \"D_ZHh_ggH_ME\", \"D_WHh_ZHh_ME\", \"D_VBF2j_WHh_ME\", \"D_VBF2j_ZHh_ME\"]\n",
    "#list_branches = [\"Jet\", \"Lep\", \"ExtraLep\"]\n",
    "list_branches = [\"Jet\", \"ExtraLep\"]\n",
    "pt_limits = [30.0, 0.0, 0.0]"
   ]
  },
  {
   "cell_type": "code",
   "execution_count": 5,
   "metadata": {
    "collapsed": true
   },
   "outputs": [],
   "source": [
    "allbranches = [\"JetPt\", \"JetEta\", \"JetPhi\", \"LepPt\", \"LepEta\", \"LepPhi\", \"ExtraLepPt\", \"ExtraLepEta\", \"ExtraLepPhi\"] + candidate_branches + MELA_branches + [\"LHEAssociatedParticleId\", \"GenAssocLep1Id\", \"GenAssocLep2Id\", \"training_weight\"]"
   ]
  },
  {
   "cell_type": "code",
   "execution_count": 6,
   "metadata": {
    "collapsed": true
   },
   "outputs": [],
   "source": [
    "#MC_path = \"/data_CMS/cms/wind/CJLST_NTuples_randomizeda/\"\n",
    "MC_path = \"/data_CMS/cms/wind/CJLST_NTuples/\""
   ]
  },
  {
   "cell_type": "raw",
   "metadata": {
    "collapsed": true
   },
   "source": [
    "def WHhadr0j_cut(row):\n",
    "    return cuts.WHhadr_cut(row) and row[\"nCleanedJetsPt30\"] == 0\n",
    "\n",
    "def WHhadr01j_cut(row):\n",
    "    return cuts.WHhadr_cut(row) and (row[\"nCleanedJetsPt30\"] == 0 or row[\"nCleanedJetsPt30\"] == 1)\n",
    "\n",
    "def WHhadr1j_cut(row):\n",
    "    return cuts.WHhadr_cut(row) and row[\"nCleanedJetsPt30\"] == 1\n",
    "\n",
    "def WHhadr2j_cut(row):\n",
    "    return cuts.WHhadr_cut(row) and row[\"nCleanedJetsPt30\"] >= 2\n",
    "\n",
    "def ZHhadr0j_cut(row):\n",
    "    return cuts.ZHhadr_cut(row) and row[\"nCleanedJetsPt30\"] == 0\n",
    "\n",
    "def ZHhadr01j_cut(row):\n",
    "    return cuts.ZHhadr_cut(row) and (row[\"nCleanedJetsPt30\"] == 0 or row[\"nCleanedJetsPt30\"] == 1)\n",
    "\n",
    "def ZHhadr1j_cut(row):\n",
    "    return cuts.ZHhadr_cut(row) and row[\"nCleanedJetsPt30\"] == 1\n",
    "\n",
    "def ZHhadr2j_cut(row):\n",
    "    return cuts.ZHhadr_cut(row) and row[\"nCleanedJetsPt30\"] >= 2\n",
    "\n",
    "def mZZ0j_cut(row):\n",
    "    return cuts.mZZ_cut(row) and row[\"nCleanedJetsPt30\"] == 0\n",
    "\n",
    "def mZZ01j_cut(row):\n",
    "    return cuts.mZZ_cut(row) and (row[\"nCleanedJetsPt30\"] == 0 or row[\"nCleanedJetsPt30\"] == 1)\n",
    "\n",
    "def mZZ1j_cut(row):\n",
    "    return cuts.mZZ_cut(row) and row[\"nCleanedJetsPt30\"] == 1\n",
    "\n",
    "def mZZ2j_cut(row):\n",
    "    return cuts.mZZ_cut(row) and row[\"nCleanedJetsPt30\"] >= 2"
   ]
  },
  {
   "cell_type": "code",
   "execution_count": 7,
   "metadata": {
    "collapsed": true
   },
   "outputs": [],
   "source": [
    "# these are the cuts without any m4l restriction imposed\n",
    "def WHhadr0j_cut(row):\n",
    "    return cuts.WHhadr_cut(row) and row[\"nCleanedJetsPt30\"] == 0\n",
    "\n",
    "def WHhadr01j_cut(row):\n",
    "    return cuts.WHhadr_cut(row) and (row[\"nCleanedJetsPt30\"] == 0 or row[\"nCleanedJetsPt30\"] == 1)\n",
    "\n",
    "def WHhadr1j_cut(row):\n",
    "    return cuts.WHhadr_cut(row) and row[\"nCleanedJetsPt30\"] == 1\n",
    "\n",
    "def WHhadr2j_cut(row):\n",
    "    return cuts.WHhadr_cut(row) and row[\"nCleanedJetsPt30\"] >= 2\n",
    "\n",
    "def ZHhadr0j_cut(row):\n",
    "    return cuts.ZHhadr_cut(row) and row[\"nCleanedJetsPt30\"] == 0\n",
    "\n",
    "def ZHhadr01j_cut(row):\n",
    "    return cuts.ZHhadr_cut(row) and (row[\"nCleanedJetsPt30\"] == 0 or row[\"nCleanedJetsPt30\"] == 1)\n",
    "\n",
    "def ZHhadr1j_cut(row):\n",
    "    return cuts.ZHhadr_cut(row) and row[\"nCleanedJetsPt30\"] == 1\n",
    "\n",
    "def ZHhadr2j_cut(row):\n",
    "    return cuts.ZHhadr_cut(row) and row[\"nCleanedJetsPt30\"] >= 2\n",
    "\n",
    "def mZZ0j_cut(row):\n",
    "    return row[\"nCleanedJetsPt30\"] == 0\n",
    "\n",
    "def mZZ01j_cut(row):\n",
    "    return (row[\"nCleanedJetsPt30\"] == 0 or row[\"nCleanedJetsPt30\"] == 1)\n",
    "\n",
    "def mZZ1j_cut(row):\n",
    "    return row[\"nCleanedJetsPt30\"] == 1\n",
    "\n",
    "def mZZ2j_cut(row):\n",
    "    return row[\"nCleanedJetsPt30\"] >= 2"
   ]
  },
  {
   "cell_type": "raw",
   "metadata": {
    "collapsed": false
   },
   "source": [
    "collections = {\"VBF2j\": {MC_path + \"VBFH125/ZZ4lAnalysis.root\": mZZ2j_cut},\n",
    "            \"VBF1j\": {MC_path + \"VBFH125/ZZ4lAnalysis.root\": mZZ1j_cut},\n",
    "            \"VBF0j\": {MC_path + \"VBFH125/ZZ4lAnalysis.root\": mZZ0j_cut},\n",
    "            \"VBF01j\": {MC_path + \"VBFH125/ZZ4lAnalysis.root\": mZZ01j_cut},\n",
    "            \"VBF\": {MC_path + \"VBFH125/ZZ4lAnalysis.root\": cuts.mZZ_cut},\n",
    "            \"ggH2j\": {MC_path + \"ggH125/ZZ4lAnalysis.root\": mZZ2j_cut},\n",
    "            \"ggH1j\": {MC_path + \"ggH125/ZZ4lAnalysis.root\": mZZ1j_cut},\n",
    "            \"ggH0j\": {MC_path + \"ggH125/ZZ4lAnalysis.root\": mZZ0j_cut},\n",
    "            \"ggH01j\": {MC_path + \"ggH125/ZZ4lAnalysis.root\": mZZ01j_cut},\n",
    "            \"ggH\" : {MC_path + \"ggH125/ZZ4lAnalysis.root\": cuts.mZZ_cut},\n",
    "            \"WHh2j\": {MC_path + \"WplusH125/ZZ4lAnalysis.root\": WHhadr2j_cut, MC_path + \"WminusH125/ZZ4lAnalysis.root\": WHhadr2j_cut},\n",
    "            \"WHh1j\": {MC_path + \"WplusH125/ZZ4lAnalysis.root\": WHhadr1j_cut, MC_path + \"WminusH125/ZZ4lAnalysis.root\": WHhadr1j_cut},\n",
    "            \"WHh0j\": {MC_path + \"WplusH125/ZZ4lAnalysis.root\": WHhadr0j_cut, MC_path + \"WminusH125/ZZ4lAnalysis.root\": WHhadr0j_cut},\n",
    "            \"WHh\": {MC_path + \"WplusH125/ZZ4lAnalysis.root\": cuts.WHhadr_cut, MC_path + \"WminusH125/ZZ4lAnalysis.root\": cuts.WHhadr_cut},\n",
    "            \"WHh01j\": {MC_path + \"WplusH125/ZZ4lAnalysis.root\": WHhadr01j_cut, MC_path + \"WminusH125/ZZ4lAnalysis.root\": WHhadr01j_cut},\n",
    "            \"WHl\": {MC_path + \"WplusH125/ZZ4lAnalysis.root\": cuts.WHlept_cut, MC_path + \"WminusH125/ZZ4lAnalysis.root\": cuts.WHlept_cut},\n",
    "            \"ZHh2j\": {MC_path + \"ZH125/ZZ4lAnalysis.root\": ZHhadr2j_cut},\n",
    "            \"ZHh1j\": {MC_path + \"ZH125/ZZ4lAnalysis.root\": ZHhadr1j_cut},\n",
    "            \"ZHh01j\": {MC_path + \"ZH125/ZZ4lAnalysis.root\": ZHhadr01j_cut},\n",
    "            \"ZHh0j\": {MC_path + \"ZH125/ZZ4lAnalysis.root\": ZHhadr0j_cut},\n",
    "            \"ZHh\": {MC_path + \"ZH125/ZZ4lAnalysis.root\": cuts.ZHhadr_cut},\n",
    "            \"ZHl\": {MC_path + \"ZH125/ZZ4lAnalysis.root\": cuts.ZHlept_cut},\n",
    "            \"ttHh\": {MC_path + \"ttH125/ZZ4lAnalysis.root\": cuts.ttHhadr_cut},\n",
    "            \"ttHl\": {MC_path + \"ttH125/ZZ4lAnalysis.root\": cuts.ttHlept_cut},\n",
    "            \"ZHMET\": {MC_path + \"ZH125/ZZ4lAnalysis.root\": cuts.ZHMET_cut}\n",
    "          }"
   ]
  },
  {
   "cell_type": "code",
   "execution_count": 8,
   "metadata": {
    "collapsed": false
   },
   "outputs": [],
   "source": [
    "collections = {\"VBF2j\": {MC_path + \"VBFH125/ZZ4lAnalysis.root\": mZZ2j_cut},\n",
    "            \"VBF1j\": {MC_path + \"VBFH125/ZZ4lAnalysis.root\": mZZ1j_cut},\n",
    "            \"VBF0j\": {MC_path + \"VBFH125/ZZ4lAnalysis.root\": mZZ0j_cut},\n",
    "            \"VBF01j\": {MC_path + \"VBFH125/ZZ4lAnalysis.root\": mZZ01j_cut},\n",
    "            \"VBF\": {MC_path + \"VBFH125/ZZ4lAnalysis.root\": cuts.no_cut},\n",
    "            \"ggH2j\": {MC_path + \"ggH125/ZZ4lAnalysis.root\": mZZ2j_cut},\n",
    "            \"ggH1j\": {MC_path + \"ggH125/ZZ4lAnalysis.root\": mZZ1j_cut},\n",
    "            \"ggH0j\": {MC_path + \"ggH125/ZZ4lAnalysis.root\": mZZ0j_cut},\n",
    "            \"ggH01j\": {MC_path + \"ggH125/ZZ4lAnalysis.root\": mZZ01j_cut},\n",
    "            \"ggH\" : {MC_path + \"ggH125/ZZ4lAnalysis.root\": cuts.no_cut},\n",
    "            \"WHh2j\": {MC_path + \"WplusH125/ZZ4lAnalysis.root\": WHhadr2j_cut, MC_path + \"WminusH125/ZZ4lAnalysis.root\": WHhadr2j_cut},\n",
    "            \"WHh1j\": {MC_path + \"WplusH125/ZZ4lAnalysis.root\": WHhadr1j_cut, MC_path + \"WminusH125/ZZ4lAnalysis.root\": WHhadr1j_cut},\n",
    "            \"WHh0j\": {MC_path + \"WplusH125/ZZ4lAnalysis.root\": WHhadr0j_cut, MC_path + \"WminusH125/ZZ4lAnalysis.root\": WHhadr0j_cut},\n",
    "            \"WHh\": {MC_path + \"WplusH125/ZZ4lAnalysis.root\": cuts.WHhadr_cut, MC_path + \"WminusH125/ZZ4lAnalysis.root\": cuts.WHhadr_cut},\n",
    "            \"WHh01j\": {MC_path + \"WplusH125/ZZ4lAnalysis.root\": WHhadr01j_cut, MC_path + \"WminusH125/ZZ4lAnalysis.root\": WHhadr01j_cut},\n",
    "            \"WHl\": {MC_path + \"WplusH125/ZZ4lAnalysis.root\": cuts.WHlept_cut, MC_path + \"WminusH125/ZZ4lAnalysis.root\": cuts.WHlept_cut},\n",
    "            \"ZHh2j\": {MC_path + \"ZH125/ZZ4lAnalysis.root\": ZHhadr2j_cut},\n",
    "            \"ZHh1j\": {MC_path + \"ZH125/ZZ4lAnalysis.root\": ZHhadr1j_cut},\n",
    "            \"ZHh01j\": {MC_path + \"ZH125/ZZ4lAnalysis.root\": ZHhadr01j_cut},\n",
    "            \"ZHh0j\": {MC_path + \"ZH125/ZZ4lAnalysis.root\": ZHhadr0j_cut},\n",
    "            \"ZHh\": {MC_path + \"ZH125/ZZ4lAnalysis.root\": cuts.ZHhadr_cut},\n",
    "            \"ZHl\": {MC_path + \"ZH125/ZZ4lAnalysis.root\": cuts.ZHlept_cut},\n",
    "            \"ttHh\": {MC_path + \"ttH125/ZZ4lAnalysis.root\": cuts.ttHhadr_cut},\n",
    "            \"ttHl\": {MC_path + \"ttH125/ZZ4lAnalysis.root\": cuts.ttHlept_cut},\n",
    "            \"ZHMET\": {MC_path + \"ZH125/ZZ4lAnalysis.root\": cuts.ZHMET_cut}\n",
    "          }"
   ]
  },
  {
   "cell_type": "code",
   "execution_count": 9,
   "metadata": {
    "collapsed": true
   },
   "outputs": [],
   "source": [
    "# all the model combinations for which neural networks are currently trained\n",
    "discriminant_pairs = [(\"VBF2j\", \"ggH2j\"), (\"VBF1j\", \"ggH1j\"), (\"VBF0j\", \"ggH0j\"), (\"WHh2j\", \"ggH2j\"), \n",
    "                     (\"WHh1j\", \"ggH1j\"), (\"WHh0j\", \"ggH0j\"), (\"ZHh2j\", \"ggH2j\"), (\"ZHh1j\", \"ggH1j\"), \n",
    "                      (\"ZHh0j\", \"ggH0j\"), (\"WHh2j\", \"ZHh2j\"), (\"WHh01j\", \"ZHh01j\"), (\"VBF2j\", \"WHh2j\"),\n",
    "                     (\"VBF1j\", \"WHh1j\"), (\"VBF0j\", \"WHh0j\"), (\"VBF2j\", \"ZHh2j\"), (\"VBF1j\", \"ZHh1j\"), \n",
    "                      (\"VBF0j\", \"ZHh0h\"), (\"WHl\", \"ggH\"), (\"WHl\", \"VBF\"), (\"WHl\", \"WHh\"), (\"WHl\", \"ZHh\"),\n",
    "                     (\"WHl\", \"ZHl\"), (\"WHl\", \"ZHMET\"), (\"WHl\", \"ttHh\"), (\"WHl\", \"ttHl\"), (\"ZHh\", \"ZHl\"),\n",
    "                     (\"ZHh\", \"ZHMET\"), (\"ZHh\", \"ttHh\"), (\"ZHh\", \"ttHl\"), (\"ZHl\", \"ggH\"), (\"ZHl\", \"VBF\"),\n",
    "                     (\"ZHl\", \"WHh\"), (\"ZHl\", \"ZHMET\"), (\"ZHl\", \"ttHh\"), (\"ZHl\", \"ttHl\"), (\"ZHMET\", \"ggH\"),\n",
    "                     (\"ZHMET\", \"VBF\"), (\"ZHMET\", \"WHh\"), (\"ZHMET\", \"ttHh\"), (\"ZHMET\", \"ttHl\"), (\"ttHh\", \"ggH\"),\n",
    "                      (\"ttHh\", \"VBF\"), (\"ttHh\", \"WHh\"), (\"ttHh\", \"ttHl\"), (\"ttHl\", \"ggH\"), (\"ttHl\", \"VBF\"),\n",
    "                     (\"ttHl\", \"WHh\")]"
   ]
  },
  {
   "cell_type": "code",
   "execution_count": 10,
   "metadata": {
    "collapsed": true
   },
   "outputs": [],
   "source": [
    "def extract_order(df, col_basename, sorted_column, columns, order):\n",
    "    def get_index(row, order, col_basename, sorted_column):\n",
    "        sorted_column = row[col_basename + sorted_column]\n",
    "        if order >= len(sorted_column):\n",
    "            return -1\n",
    "        else:\n",
    "            return np.flipud(np.argsort(sorted_column))[order]\n",
    "    \n",
    "    index_column = pd.DataFrame(df.transform(lambda row: get_index(row, order, col_basename, sorted_column), axis = 1, raw = True))\n",
    "    index_column.columns = [\"index\"]\n",
    "    df_temp = pd.concat([index_column, df], axis = 1)\n",
    "    \n",
    "    def get_element(row, column_name):\n",
    "        if row[\"index\"] == -1:\n",
    "            return 0\n",
    "        else:\n",
    "            return row[column_name][row[\"index\"]]\n",
    "        \n",
    "    extracted_cols = pd.DataFrame()\n",
    "    for column in columns:\n",
    "        extracted_col = pd.DataFrame(df_temp.transform(lambda row: get_element(row, col_basename + column), axis = 1, raw = True))\n",
    "        extracted_col.columns = [col_basename + column + \"(\" + col_basename + \"Pt|\" + str(order) + \")\"]\n",
    "        extracted_cols = pd.concat([extracted_cols, extracted_col], axis = 1)\n",
    "        \n",
    "    return extracted_cols"
   ]
  },
  {
   "cell_type": "code",
   "execution_count": 11,
   "metadata": {
    "collapsed": true
   },
   "outputs": [],
   "source": [
    "def prepare_data(df, col_basenames, sorted_column, columns, orders, pt_limits):\n",
    "    all_extracted = pd.DataFrame()\n",
    "    for col_basename, pt_limit in zip(col_basenames, pt_limits):\n",
    "        for order in orders:\n",
    "            extracted = extract_order(df, col_basename, sorted_column, columns, order)\n",
    "            mask = extracted[col_basename + \"Pt(\" + col_basename + \"Pt|\" + str(order) + \")\"] < pt_limit\n",
    "            extracted[mask] = 0.0\n",
    "\n",
    "            all_extracted = pd.concat([all_extracted, extracted], axis = 1)\n",
    "            \n",
    "    return all_extracted"
   ]
  },
  {
   "cell_type": "code",
   "execution_count": 12,
   "metadata": {
    "collapsed": false
   },
   "outputs": [],
   "source": [
    "def get_data(H1_coll, H0_coll, read_branches, input_branches, list_branches, pt_limits):\n",
    "    H1_df = H1_coll.get_data(read_branches, 0.0, 1.0)\n",
    "    H0_df = H0_coll.get_data(read_branches, 0.0, 1.0)\n",
    "    \n",
    "    H1_list_df = prepare_data(H1_df, list_branches, \"Pt\", [\"Pt\", \"Eta\", \"Phi\"], range(4), pt_limits)\n",
    "    H0_list_df = prepare_data(H0_df, list_branches, \"Pt\", [\"Pt\", \"Eta\", \"Phi\"], range(4), pt_limits)\n",
    "    \n",
    "    list_branches_unrolled = H1_list_df.columns\n",
    "            \n",
    "    H1_df = pd.concat([H1_df, H1_list_df], axis = 1)\n",
    "    H0_df = pd.concat([H0_df, H0_list_df], axis = 1)        \n",
    "    \n",
    "    complete_input_branches = np.concatenate([input_branches, list_branches_unrolled])\n",
    "            \n",
    "    H1_df = H1_df[complete_input_branches]\n",
    "    H0_df = H0_df[complete_input_branches]\n",
    "    \n",
    "    return H1_df, H0_df"
   ]
  },
  {
   "cell_type": "code",
   "execution_count": 13,
   "metadata": {
    "collapsed": true
   },
   "outputs": [],
   "source": [
    "def get_data_dmatrix(H1_coll, H0_coll, read_branches, input_branches, list_branches, pt_limits):\n",
    "    H1_df, H0_df = get_data(H1_coll, H0_coll, read_branches, input_branches, list_branches, pt_limits)\n",
    "    \n",
    "    complete_input_branches = H1_df.columns\n",
    "    print \"number of input variables: \" + str(len(complete_input_branches))\n",
    "    print \"final list of inputs: \" + str(complete_input_branches)\n",
    "    \n",
    "    # try with the same weights as used later in the neural network training, to balance out some (very)\n",
    "    # unbalanced datasets\n",
    "    H1_class_weight = 1.0 + float(len(H0_df)) / float(len(H1_df))\n",
    "    H0_class_weight = 1.0 + float(len(H1_df)) / float(len(H0_df))\n",
    "    \n",
    "    print \"using class weights: \" + str(H1_class_weight) + \" (H1), \" + str(H0_class_weight) + \" (H0)\"\n",
    "    \n",
    "    H1_weights = np.full(len(H1_df), H1_class_weight)\n",
    "    H0_weights = np.full(len(H0_df), H0_class_weight)\n",
    "    \n",
    "    H1_data = H1_df.as_matrix()\n",
    "    H0_data = H0_df.as_matrix()\n",
    "    H1_target = np.ones(np.shape(H1_data)[0])\n",
    "    H0_target = np.zeros(np.shape(H0_data)[0])\n",
    "    \n",
    "    target = np.concatenate([H1_target, H0_target])\n",
    "    data = np.concatenate([H1_data, H0_data])\n",
    "    weights = np.concatenate([H1_weights, H0_weights])\n",
    "    \n",
    "    dmatrix = xgb.DMatrix(data, label = target, feature_names = complete_input_branches, weight = weights)\n",
    "    \n",
    "    return dmatrix"
   ]
  },
  {
   "cell_type": "code",
   "execution_count": 14,
   "metadata": {
    "collapsed": true
   },
   "outputs": [],
   "source": [
    "def get_feature_correlation(source, corr_branches, mandatory_branches, optional_branches, list_branches, pt_limits):    \n",
    "    coll = FileCollection(collections[source], 0.0, 0.5)\n",
    "    \n",
    "    input_branches = [branch for branch in mandatory_branches]\n",
    "    \n",
    "    for optional_branch in optional_branches:\n",
    "        if \"0j\" in source and (\"0j\" in optional_branch):\n",
    "            input_branches.append(optional_branch)\n",
    "            \n",
    "        if \"1j\" in source and (\"1j\" in optional_branch):\n",
    "            input_branches.append(optional_branch)\n",
    "            \n",
    "        if \"2j\" in source and (\"2j\" in optional_branch):\n",
    "            input_branches.append(optional_branch)\n",
    "\n",
    "    df, _ = get_data(coll, coll, allbranches, input_branches, list_branches, pt_limits)\n",
    "\n",
    "    df = df[corr_branches]\n",
    "    \n",
    "    fig = plt.figure(figsize=(10,15))\n",
    "    ax = fig.add_subplot(111)\n",
    "    \n",
    "    cax = ax.matshow(df.corr(), vmin = -1.0, vmax = 1.0, cmap = \"RdBu\")\n",
    "    \n",
    "    fig.colorbar(cax)\n",
    "    \n",
    "    ax.xaxis.set_major_locator(ticker.MultipleLocator(1))\n",
    "    ax.yaxis.set_major_locator(ticker.MultipleLocator(1))\n",
    "    \n",
    "    ax.set_yticklabels([''] + corr_branches)\n",
    "    ax.set_xticklabels([''] + corr_branches, rotation = 'vertical')\n",
    "    \n",
    "    return fig"
   ]
  },
  {
   "cell_type": "code",
   "execution_count": 15,
   "metadata": {
    "collapsed": true
   },
   "outputs": [],
   "source": [
    "def get_interpolating_function(data, bins):\n",
    "    bin_centers = [np.mean([bins[i], bins[i + 1]]) for i in range(len(bins) - 1)]\n",
    "    intf = interpolate.interp1d(bin_centers, data, kind = \"linear\")\n",
    "    interpolated_function = lambda x: intf(x) if x > bin_centers[0] and x < bin_centers[-1] else 0\n",
    "    \n",
    "    return interpolated_function"
   ]
  },
  {
   "cell_type": "code",
   "execution_count": 16,
   "metadata": {
    "collapsed": true
   },
   "outputs": [],
   "source": [
    "def get_binned_data(df, branch):\n",
    "    data = df[branch].as_matrix()\n",
    "    weights = df[\"training_weight\"].as_matrix()\n",
    "    \n",
    "    # set the bin width\n",
    "    q75, q25 = np.percentile(data, [75, 25])\n",
    "    bin_width = max(2 * (q75 - q25) / len(data)**0.33, 0.005)\n",
    "\n",
    "    data_max = np.max(data)\n",
    "    data_min = np.min(data)\n",
    "    bins = np.arange(data_min, data_max + bin_width, bin_width)\n",
    "    \n",
    "    weights = weights / (np.sum(weights) * bin_width)\n",
    "    \n",
    "    hist = np.histogram(data, bins = bins, weights = weights)\n",
    "    return hist"
   ]
  },
  {
   "cell_type": "code",
   "execution_count": 17,
   "metadata": {
    "collapsed": true
   },
   "outputs": [],
   "source": [
    "def get_feature_importance_list_separation(disc_pair, mandatory_branches, optional_branches, list_branches, pt_limits):\n",
    "    H1_name = disc_pair[0]\n",
    "    H0_name = disc_pair[1]\n",
    "    \n",
    "    input_branches = [branch for branch in mandatory_branches]\n",
    "    \n",
    "    for optional_branch in optional_branches:\n",
    "        if (\"0j\" in H1_name or \"0j\" in H0_name) and (\"0j\" in optional_branch):\n",
    "            input_branches.append(optional_branch)  \n",
    "        elif (\"1j\" in H1_name or \"1j\" in H0_name) and (\"1j\" in optional_branch):\n",
    "            input_branches.append(optional_branch)\n",
    "        elif (\"2j\" in H1_name or \"2j\" in H0_name) and not (\"1j\" in optional_branch):\n",
    "            input_branches.append(optional_branch)\n",
    "            \n",
    "    # needed to build the histograms\n",
    "    input_branches.append(\"training_weight\")\n",
    "    \n",
    "    H1_coll = FileCollection(collections[H1_name], 0.0, 0.5)\n",
    "    H0_coll = FileCollection(collections[H0_name], 0.0, 0.5)\n",
    "    \n",
    "    H1_df, H0_df = get_data(H1_coll, H0_coll, allbranches, input_branches, list_branches, pt_limits)\n",
    "    \n",
    "    available_branches = H1_df.columns\n",
    "    \n",
    "    implist = {}\n",
    "    for branch in available_branches:\n",
    "                \n",
    "        if \"training_weight\" not in branch:\n",
    "            data_H1, bins_H1 = get_binned_data(H1_df, branch)\n",
    "            data_H0, bins_H0 = get_binned_data(H0_df, branch)\n",
    "\n",
    "            if(len(data_H1) > 0):\n",
    "                H1_func = get_interpolating_function(data_H1, bins_H1)\n",
    "                H0_func = get_interpolating_function(data_H0, bins_H0)\n",
    "\n",
    "                # compute the separation in this branch\n",
    "                global_min = np.min(np.concatenate([bins_H0, bins_H1]))\n",
    "                global_max = np.max(np.concatenate([bins_H0, bins_H1]))\n",
    "\n",
    "                separation_func = lambda x: (H1_func(x) + H0_func(x)) * (H1_func(x) - H0_func(x))**2\n",
    "\n",
    "                sep = integrate.quad(separation_func, global_min, global_max)[0]\n",
    "            else:\n",
    "                sep = 0.0\n",
    "                \n",
    "            print \"separation for \" + branch + \" = \" + str(sep)\n",
    "            implist[branch] = sep\n",
    "        \n",
    "    # normalize the importance list\n",
    "    impsum = sum([val for key, val in implist.iteritems()])\n",
    "    for key in implist.keys():\n",
    "        implist[key] /= impsum\n",
    "        \n",
    "    return None, None, implist"
   ]
  },
  {
   "cell_type": "code",
   "execution_count": 18,
   "metadata": {
    "collapsed": false
   },
   "outputs": [],
   "source": [
    "def get_feature_importance_list_BDT(disc_pair, mandatory_branches, optional_branches, list_branches, pt_limits):\n",
    "    H1_name = disc_pair[0]\n",
    "    H0_name = disc_pair[1]\n",
    "    \n",
    "    # first assemble the list of branches that can serve as input: it will *always* contain the mandatory branches,\n",
    "    # and *can* contain some of the optional branches, if the name of the categories allows it\n",
    "    input_branches = [branch for branch in mandatory_branches]\n",
    "    \n",
    "    for optional_branch in optional_branches:\n",
    "        if (\"0j\" in H1_name or \"0j\" in H0_name) and (\"0j\" in optional_branch):\n",
    "            input_branches.append(optional_branch)  \n",
    "        elif (\"1j\" in H1_name or \"1j\" in H0_name) and (\"1j\" in optional_branch):\n",
    "            input_branches.append(optional_branch)\n",
    "        elif (\"2j\" in H1_name or \"2j\" in H0_name) and not (\"1j\" in optional_branch):\n",
    "            input_branches.append(optional_branch)\n",
    "            \n",
    "        # the fully inclusive categories (i.e. those with NO \"xxj\" in their name, can not use MELA, since there may\n",
    "        # be events with low number of jets contained)\n",
    "    \n",
    "    # get the training data for the BDT ...\n",
    "    H1_coll_train = FileCollection(collections[H1_name], 0.0, 0.5)\n",
    "    H0_coll_train = FileCollection(collections[H0_name], 0.0, 0.5)\n",
    "    \n",
    "    dtrain = get_data_dmatrix(H1_coll_train, H0_coll_train, allbranches, input_branches, list_branches, pt_limits)\n",
    "    \n",
    "    # ... and the validation data as well\n",
    "    H1_coll_val = FileCollection(collections[H1_name], 0.5, 1.0)\n",
    "    H0_coll_val = FileCollection(collections[H0_name], 0.5, 1.0)\n",
    "    dval = get_data_dmatrix(H1_coll_val, H0_coll_val, allbranches, input_branches, list_branches, pt_limits)\n",
    "    \n",
    "    evallist = [(dtrain, 'train'), (dval, 'eval')]\n",
    "    \n",
    "    # perform the training\n",
    "    # try different tree depths and choose the one that gives the best RMSE (i.e. avoid too deep trees to start with)\n",
    "        \n",
    "    params = {'eta': 0.01, 'silent': 1, 'gamma': 0.5, 'objective': 'binary:logistic'}\n",
    "    params['nthread'] = 4\n",
    "    params['eval_metric'] = 'rmse'\n",
    "    max_num_rounds = 2000\n",
    "    \n",
    "    best_loss = 1e6\n",
    "    best_imp = None\n",
    "    best_params = None\n",
    "    for tree_depth in range(1,8):\n",
    "        params['max_depth'] = tree_depth\n",
    "        \n",
    "        bst = xgb.train(params, dtrain, max_num_rounds, evals = evallist, early_stopping_rounds = 10, verbose_eval = False)\n",
    "    \n",
    "        pred = bst.predict(dval)\n",
    "        cur_loss = np.sqrt(mean_squared_error(pred, dval.get_label()))\n",
    "        cur_imp = bst.get_fscore()\n",
    "\n",
    "        print \"for max_depth = \" + str(params['max_depth']) + \": loss = \" + str(cur_loss)\n",
    "        \n",
    "        if cur_loss < best_loss:\n",
    "            best_loss = cur_loss\n",
    "            best_imp = copy.copy(cur_imp)\n",
    "            best_params = copy.copy(params)\n",
    "            \n",
    "    # normalize the usage score w.r.t. the total score (i.e. sum of all individuals)\n",
    "    score_sum = sum([val for key, val in best_imp.iteritems()])\n",
    "    used_variables = {key: val / float(score_sum) for key, val in sorted(best_imp.iteritems(), key = lambda x: x[1], reverse = True)}           \n",
    "    return best_params, dtrain.feature_names, used_variables"
   ]
  },
  {
   "cell_type": "code",
   "execution_count": 19,
   "metadata": {
    "collapsed": false
   },
   "outputs": [],
   "source": [
    "def get_histogram(df, branch, label):\n",
    "    data = df[branch].as_matrix()\n",
    "    weights = df[\"training_weight\"].as_matrix()\n",
    "    \n",
    "    # set the bin width\n",
    "    q75, q25 = np.percentile(data, [75, 25])\n",
    "    bin_width = max(2 * (q75 - q25) / len(data)**0.33, 0.005)\n",
    "\n",
    "    data_max = np.max(data)\n",
    "    data_min = np.min(data)\n",
    "    bins = np.arange(data_min, data_max + bin_width, bin_width)\n",
    "    \n",
    "    weights = weights / (np.sum(weights) * bin_width)\n",
    "    \n",
    "    fig = plt.hist(data, bins = bins, weights = weights, alpha = 0.5, label = label)\n",
    "    return fig"
   ]
  },
  {
   "cell_type": "code",
   "execution_count": 20,
   "metadata": {
    "collapsed": true
   },
   "outputs": [],
   "source": [
    "def plot_branch(disc_pair, branch, start_fraction = 0.0, end_fraction = 1.0):\n",
    "    H1_name = disc_pair[0]\n",
    "    H0_name = disc_pair[1]\n",
    "    \n",
    "    # get the training data for the BDT ...\n",
    "    H1_coll = FileCollection(collections[H1_name], start_fraction, end_fraction)\n",
    "    H0_coll = FileCollection(collections[H0_name], start_fraction, end_fraction)\n",
    "    \n",
    "    H1_df, H0_df = get_data(H1_coll, H0_coll, allbranches, allbranches, list_branches, pt_limits)\n",
    "    \n",
    "    plt.figure()\n",
    "    H1_hist = get_histogram(H1_df, branch, H1_name)\n",
    "    H0_hist = get_histogram(H0_df, branch, H0_name)\n",
    "    \n",
    "    plt.legend(loc = 'upper right')\n",
    "    plt.show()"
   ]
  },
  {
   "cell_type": "code",
   "execution_count": 21,
   "metadata": {
    "collapsed": false
   },
   "outputs": [],
   "source": [
    "def plot_variables(discs):\n",
    "    plotframe = pd.DataFrame()\n",
    "    \n",
    "    for disc in discs:\n",
    "        _, _, implist = get_feature_importance_list_BDT(disc, candidate_branches, MELA_branches, list_branches, pt_limits)\n",
    "        \n",
    "        # cut the list to select only the 95% most important variables\n",
    "        cutimplist = {key: val for key, val in implist.iteritems() if val > 0.00}\n",
    "        curframe = pd.DataFrame(cutimplist, index = [len(plotframe)])\n",
    "        \n",
    "        plotframe = pd.concat([plotframe, curframe])\n",
    "        \n",
    "    plotframe = plotframe.fillna(0.0)\n",
    "    \n",
    "    print plotframe\n",
    "    print \"number of pre-selected input variables = \" + str(len(plotframe.columns))\n",
    "    \n",
    "    # start the plotting\n",
    "    parameters = plotframe.columns\n",
    "    plotdata = np.transpose(plotframe.as_matrix())\n",
    "    \n",
    "    plt.close('all')\n",
    "    fig = plt.figure(figsize=(10,15))\n",
    "    ax = fig.add_subplot(111)\n",
    "    cax = ax.matshow(plotdata, cmap = 'Blues')\n",
    "    \n",
    "    # make axis labels\n",
    "    disclabels = []\n",
    "    for disc in discs:\n",
    "        if \"0j\" in disc[0] or \"0j\" in disc[1]:\n",
    "            disclabels.append('D_' + re.sub('0j', '', disc[0]) + \"_\" + re.sub('0j', '', disc[1]) + \"_0j\")\n",
    "        elif \"01j\" in disc[0] or \"01j\" in disc[1]:\n",
    "            disclabels.append('D_' + re.sub('01j', '', disc[0]) + \"_\" + re.sub('01j', '', disc[1]) + \"_01j\")\n",
    "        elif \"1j\" in disc[0] or \"1j\" in disc[1]:\n",
    "            disclabels.append('D_' + re.sub('1j', '', disc[0]) + \"_\" + re.sub('1j', '', disc[1]) + \"_1j\")\n",
    "        elif \"2j\" in disc[0] or \"2j\" in disc[1]:\n",
    "            disclabels.append('D_' + re.sub('2j', '', disc[0]) + \"_\" + re.sub('2j', '', disc[1]) + \"_2j\")\n",
    "        else:\n",
    "            disclabels.append('D_' + disc[0] + \"_\" + disc[1] + \"_2j\")\n",
    "            \n",
    "    disclabels = np.concatenate([[''], np.array(disclabels)])\n",
    "    parameters = np.concatenate([[''], np.array(parameters)])\n",
    "        \n",
    "    ax.set_xticklabels(disclabels, rotation = 'vertical')\n",
    "    ax.set_yticklabels(parameters)\n",
    "    \n",
    "    ax.xaxis.set_major_locator(ticker.MultipleLocator(1))\n",
    "    ax.yaxis.set_major_locator(ticker.MultipleLocator(1))\n",
    "    \n",
    "    # sort the used variables according to their importance\n",
    "    sorted_implist = []\n",
    "    for key, val in sorted(cutimplist.iteritems(), key = lambda x: x[1], reverse = True):\n",
    "        sorted_implist.append((key, val))\n",
    "    \n",
    "    return fig, sorted_implist"
   ]
  },
  {
   "cell_type": "code",
   "execution_count": 22,
   "metadata": {
    "collapsed": true
   },
   "outputs": [],
   "source": [
    "def append_variables(confhandler, impdict, threshold_fscore):\n",
    "    confhandler.new_section(impdict[\"discriminant\"])\n",
    "    cur_sec = confhandler.get_section(impdict[\"discriminant\"])\n",
    "\n",
    "    periodic_inputs = []\n",
    "    nonperiodic_inputs = []\n",
    "    for key, val in impdict.iteritems():\n",
    "        if val[0] > threshold_fscore and key is not \"discriminant\":\n",
    "            if \"phi\" in key or \"Phi\" in key:\n",
    "                periodic_inputs.append(key)\n",
    "            else:\n",
    "                nonperiodic_inputs.append(key)\n",
    "    cur_sec[\"nonperiodic_columns\"] = ConfigFileUtils.serialize_list(nonperiodic_inputs, lambda x: x)\n",
    "    cur_sec[\"periodic_columns\"] = ConfigFileUtils.serialize_list(periodic_inputs, lambda x: x)"
   ]
  },
  {
   "cell_type": "code",
   "execution_count": 23,
   "metadata": {
    "collapsed": true
   },
   "outputs": [],
   "source": [
    "def convert_varname(raw):\n",
    "    raw = raw.replace('(', '[')\n",
    "    raw = raw.replace(')', ']')\n",
    "    return raw"
   ]
  },
  {
   "cell_type": "raw",
   "metadata": {
    "collapsed": false
   },
   "source": [
    "corr1 = get_feature_correlation(\"WHh1j\", [\"LepPt_0\", \"LepPt_1\"], candidate_branches, MELA_branches, list_branches, pt_limits)"
   ]
  },
  {
   "cell_type": "raw",
   "metadata": {
    "collapsed": false
   },
   "source": [
    "plt.show()"
   ]
  },
  {
   "cell_type": "code",
   "execution_count": 24,
   "metadata": {
    "collapsed": true
   },
   "outputs": [],
   "source": [
    "df = pd.DataFrame()"
   ]
  },
  {
   "cell_type": "code",
   "execution_count": 25,
   "metadata": {
    "collapsed": false
   },
   "outputs": [],
   "source": [
    "out_dir = \"/data_CMS/cms/wind/InputConfigurations/\"\n",
    "out_path = os.path.join(out_dir, \"exclusive_99_fullmassrange.conf\")\n",
    "threshold_fscore = 0.01"
   ]
  },
  {
   "cell_type": "code",
   "execution_count": 26,
   "metadata": {
    "collapsed": false
   },
   "outputs": [],
   "source": [
    "confhandler = ConfigFileHandler()"
   ]
  },
  {
   "cell_type": "code",
   "execution_count": 27,
   "metadata": {
    "collapsed": false,
    "scrolled": false
   },
   "outputs": [],
   "source": [
    "%%capture\n",
    "fig, implist = plot_variables([(\"VBF2j\", \"ggH2j\")])"
   ]
  },
  {
   "cell_type": "code",
   "execution_count": 28,
   "metadata": {
    "collapsed": false
   },
   "outputs": [],
   "source": [
    "impdict = {convert_varname(entry[0]): [entry[1]] for entry in implist}\n",
    "impdict[\"discriminant\"] = \"D_VBF_ggH_2j_ML\"\n",
    "df = df.append(pd.DataFrame.from_dict(impdict))"
   ]
  },
  {
   "cell_type": "code",
   "execution_count": 29,
   "metadata": {
    "collapsed": false
   },
   "outputs": [],
   "source": [
    "append_variables(confhandler, impdict, threshold_fscore)"
   ]
  },
  {
   "cell_type": "code",
   "execution_count": 30,
   "metadata": {
    "collapsed": false
   },
   "outputs": [
    {
     "data": {
      "text/plain": [
       "[('D_VBF2j_ggH_ME', 0.06387977760718357),\n",
       " ('JetPt(JetPt|0)', 0.06278642380254496),\n",
       " ('JetPt(JetPt|1)', 0.05280666247935422),\n",
       " ('PFMET', 0.051317840277293136),\n",
       " ('ZZPt', 0.051061948961313885),\n",
       " ('JetEta(JetPt|1)', 0.04326889524740038),\n",
       " ('JetEta(JetPt|0)', 0.042803638309256285),\n",
       " ('JetPhi(JetPt|1)', 0.042780375462349085),\n",
       " ('ZZEta', 0.041873124432968103),\n",
       " ('Z1Pt', 0.04101239909740154),\n",
       " ('JetEta(JetPt|2)', 0.04066345639379347),\n",
       " ('Z2Mass', 0.0398027310582269),\n",
       " ('ZZPhi', 0.03694140088864075),\n",
       " ('JetPhi(JetPt|0)', 0.036452881103589456),\n",
       " ('ZZMass', 0.03638309256286784),\n",
       " ('D_WHh_ZHh_ME', 0.03570847000255891),\n",
       " ('ZZMassErr', 0.0356386814618373),\n",
       " ('Z2Pt', 0.0356386814618373),\n",
       " ('Z1Mass', 0.03501058459534278),\n",
       " ('D_WHh_ggH_ME', 0.02970665550050015),\n",
       " ('D_ZHh_ggH_ME', 0.029404238490706492),\n",
       " ('JetPt(JetPt|2)', 0.029055295787098426),\n",
       " ('D_VBF2j_WHh_ME', 0.02289064135668923),\n",
       " ('D_VBF2j_ZHh_ME', 0.022774327122153208),\n",
       " ('JetPhi(JetPt|2)', 0.01544653034638379),\n",
       " ('JetPhi(JetPt|3)', 0.0048386721566985366),\n",
       " ('JetPt(JetPt|3)', 0.00469909507525531),\n",
       " ('JetEta(JetPt|3)', 0.004419940912368856),\n",
       " ('Z1Flav', 0.0031637471793798124),\n",
       " ('Z2Flav', 0.0028380673226789496),\n",
       " ('nCleanedJetsPt30', 0.0026519645474213133),\n",
       " ('nCleanedJetsPt30BTagged_bTagSF', 0.0013725079675250657),\n",
       " ('ExtraLepPhi(ExtraLepPt|0)', 0.00034894270360806757),\n",
       " ('ExtraLepPt(ExtraLepPt|0)', 0.00027915416288645404),\n",
       " ('nExtraLep', 0.00013957708144322702),\n",
       " ('ExtraLepEta(ExtraLepPt|0)', 0.00013957708144322702)]"
      ]
     },
     "execution_count": 30,
     "metadata": {},
     "output_type": "execute_result"
    }
   ],
   "source": [
    "implist"
   ]
  },
  {
   "cell_type": "code",
   "execution_count": 31,
   "metadata": {
    "collapsed": false,
    "scrolled": false
   },
   "outputs": [],
   "source": [
    "%%capture\n",
    "fig, implist = plot_variables([(\"VBF1j\", \"ggH1j\")])"
   ]
  },
  {
   "cell_type": "code",
   "execution_count": 32,
   "metadata": {
    "collapsed": true
   },
   "outputs": [],
   "source": [
    "impdict = {convert_varname(entry[0]): [entry[1]] for entry in implist}\n",
    "impdict[\"discriminant\"] = \"D_VBF_ggH_1j_ML\"\n",
    "df = df.append(pd.DataFrame.from_dict(impdict))"
   ]
  },
  {
   "cell_type": "code",
   "execution_count": 33,
   "metadata": {
    "collapsed": true
   },
   "outputs": [],
   "source": [
    "append_variables(confhandler, impdict, threshold_fscore)"
   ]
  },
  {
   "cell_type": "code",
   "execution_count": 34,
   "metadata": {
    "collapsed": false
   },
   "outputs": [
    {
     "data": {
      "text/plain": [
       "[('JetEta(JetPt|0)', 0.14584154513204572),\n",
       " ('ZZEta', 0.0856873822975518),\n",
       " ('D_VBF1j_ggH_ME', 0.08505233653046029),\n",
       " ('JetPt(JetPt|0)', 0.08100118249901458),\n",
       " ('ZZPt', 0.07684053781807033),\n",
       " ('PFMET', 0.07561424254368677),\n",
       " ('Z1Pt', 0.0657162878290194),\n",
       " ('JetPhi(JetPt|0)', 0.05505189856786231),\n",
       " ('ZZMass', 0.05496430604826348),\n",
       " ('ZZMassErr', 0.05467963035956729),\n",
       " ('Z1Mass', 0.05386939955327815),\n",
       " ('ZZPhi', 0.0536942145140805),\n",
       " ('Z2Pt', 0.04979634739193273),\n",
       " ('Z2Mass', 0.04907370910524241),\n",
       " ('nCleanedJetsPt30BTagged_bTagSF', 0.0044672184995401395),\n",
       " ('Z1Flav', 0.003021941926159506),\n",
       " ('Z2Flav', 0.002364998029168309),\n",
       " ('ExtraLepPt(ExtraLepPt|0)', 0.0016204616125782857),\n",
       " ('ExtraLepPhi(ExtraLepPt|0)', 0.0011168046248850349),\n",
       " ('ExtraLepEta(ExtraLepPt|0)', 0.0003722682082950116),\n",
       " ('nExtraLep', 0.00015328690929794595)]"
      ]
     },
     "execution_count": 34,
     "metadata": {},
     "output_type": "execute_result"
    }
   ],
   "source": [
    "implist"
   ]
  },
  {
   "cell_type": "code",
   "execution_count": 35,
   "metadata": {
    "collapsed": false,
    "scrolled": false
   },
   "outputs": [],
   "source": [
    "%%capture\n",
    "fig, implist = plot_variables([(\"VBF0j\", \"ggH0j\")])"
   ]
  },
  {
   "cell_type": "code",
   "execution_count": 36,
   "metadata": {
    "collapsed": true
   },
   "outputs": [],
   "source": [
    "impdict = {convert_varname(entry[0]): [entry[1]] for entry in implist}\n",
    "impdict[\"discriminant\"] = \"D_VBF_ggH_0j_ML\"\n",
    "df = df.append(pd.DataFrame.from_dict(impdict))"
   ]
  },
  {
   "cell_type": "code",
   "execution_count": 37,
   "metadata": {
    "collapsed": true
   },
   "outputs": [],
   "source": [
    "append_variables(confhandler, impdict, threshold_fscore)"
   ]
  },
  {
   "cell_type": "code",
   "execution_count": 38,
   "metadata": {
    "collapsed": false
   },
   "outputs": [
    {
     "data": {
      "text/plain": [
       "[('ZZPt', 0.1606582032113947),\n",
       " ('PFMET', 0.11248728270004865),\n",
       " ('ZZMass', 0.10903702393064095),\n",
       " ('ZZEta', 0.09970363161852523),\n",
       " ('Z1Pt', 0.09545715928694652),\n",
       " ('Z2Pt', 0.08966249391781307),\n",
       " ('ZZPhi', 0.08276197637899765),\n",
       " ('Z1Mass', 0.0816561242093157),\n",
       " ('Z2Mass', 0.08130225151501748),\n",
       " ('ZZMassErr', 0.07670190648914053),\n",
       " ('Z1Flav', 0.004644579112664219),\n",
       " ('Z2Flav', 0.0030963860751094794),\n",
       " ('nExtraLep', 0.0009731499093201221),\n",
       " ('ExtraLepEta(ExtraLepPt|0)', 0.0008846817357455655),\n",
       " ('ExtraLepPhi(ExtraLepPt|0)', 0.0005308090414473393),\n",
       " ('ExtraLepPt(ExtraLepPt|0)', 0.00044234086787278275)]"
      ]
     },
     "execution_count": 38,
     "metadata": {},
     "output_type": "execute_result"
    }
   ],
   "source": [
    "implist"
   ]
  },
  {
   "cell_type": "code",
   "execution_count": 39,
   "metadata": {
    "collapsed": false,
    "scrolled": false
   },
   "outputs": [],
   "source": [
    "%%capture\n",
    "fig, implist = plot_variables([(\"WHh2j\", \"ggH2j\")])"
   ]
  },
  {
   "cell_type": "code",
   "execution_count": 40,
   "metadata": {
    "collapsed": true
   },
   "outputs": [],
   "source": [
    "impdict = {convert_varname(entry[0]): [entry[1]] for entry in implist}\n",
    "impdict[\"discriminant\"] = \"D_WHh_ggH_2j_ML\"\n",
    "df = df.append(pd.DataFrame.from_dict(impdict))"
   ]
  },
  {
   "cell_type": "code",
   "execution_count": 41,
   "metadata": {
    "collapsed": true
   },
   "outputs": [],
   "source": [
    "append_variables(confhandler, impdict, threshold_fscore)"
   ]
  },
  {
   "cell_type": "code",
   "execution_count": 42,
   "metadata": {
    "collapsed": false
   },
   "outputs": [
    {
     "data": {
      "text/plain": [
       "[('JetPt(JetPt|0)', 0.05882962195753495),\n",
       " ('JetPt(JetPt|1)', 0.05427239772138788),\n",
       " ('D_VBF2j_ggH_ME', 0.0524287933713102),\n",
       " ('ZZEta', 0.05178663904712584),\n",
       " ('PFMET', 0.04996374935266701),\n",
       " ('ZZMass', 0.04967374417400311),\n",
       " ('JetEta(JetPt|0)', 0.04859658208182289),\n",
       " ('ZZPt', 0.048513723459347485),\n",
       " ('D_WHh_ggH_ME', 0.04493008803728638),\n",
       " ('Z1Pt', 0.040932159502848266),\n",
       " ('JetEta(JetPt|2)', 0.03950284826514759),\n",
       " ('ZZPhi', 0.03554634904194718),\n",
       " ('JetEta(JetPt|1)', 0.035380631796996374),\n",
       " ('JetPhi(JetPt|0)', 0.03469704816157431),\n",
       " ('Z2Pt', 0.034137752459865355),\n",
       " ('ZZMassErr', 0.03393060590367685),\n",
       " ('D_WHh_ZHh_ME', 0.033516312791299845),\n",
       " ('Z1Mass', 0.032749870533402385),\n",
       " ('Z2Mass', 0.03250129466597618),\n",
       " ('D_ZHh_ggH_ME', 0.032128430864836875),\n",
       " ('JetPhi(JetPt|1)', 0.03132055929570171),\n",
       " ('JetPhi(JetPt|2)', 0.024919730709476954),\n",
       " ('JetPt(JetPt|2)', 0.02392542723977214),\n",
       " ('D_VBF2j_ZHh_ME', 0.022931123770067324),\n",
       " ('D_VBF2j_WHh_ME', 0.01615743138270326),\n",
       " ('JetEta(JetPt|3)', 0.009010875194199897),\n",
       " ('JetPt(JetPt|3)', 0.007291558777835319),\n",
       " ('JetPhi(JetPt|3)', 0.007063697566027965),\n",
       " ('nCleanedJetsPt30', 0.004163645779388918),\n",
       " ('Z2Flav', 0.0040186431900569655),\n",
       " ('nCleanedJetsPt30BTagged_bTagSF', 0.0027757638529259453),\n",
       " ('Z1Flav', 0.001346452615225272),\n",
       " ('ExtraLepPt(ExtraLepPt|0)', 0.0009528741584671154),\n",
       " ('nExtraLep', 8.285862247540134e-05),\n",
       " ('ExtraLepEta(ExtraLepPt|0)', 2.0714655618850335e-05)]"
      ]
     },
     "execution_count": 42,
     "metadata": {},
     "output_type": "execute_result"
    }
   ],
   "source": [
    "implist"
   ]
  },
  {
   "cell_type": "code",
   "execution_count": 43,
   "metadata": {
    "collapsed": false,
    "scrolled": false
   },
   "outputs": [],
   "source": [
    "%%capture\n",
    "fig, implist = plot_variables([(\"WHh1j\", \"ggH1j\")])"
   ]
  },
  {
   "cell_type": "code",
   "execution_count": 44,
   "metadata": {
    "collapsed": true
   },
   "outputs": [],
   "source": [
    "impdict = {convert_varname(entry[0]): [entry[1]] for entry in implist}\n",
    "impdict[\"discriminant\"] = \"D_WHh_ggH_1j_ML\"\n",
    "df = df.append(pd.DataFrame.from_dict(impdict))"
   ]
  },
  {
   "cell_type": "code",
   "execution_count": 45,
   "metadata": {
    "collapsed": true
   },
   "outputs": [],
   "source": [
    "append_variables(confhandler, impdict, threshold_fscore)"
   ]
  },
  {
   "cell_type": "code",
   "execution_count": 46,
   "metadata": {
    "collapsed": false
   },
   "outputs": [
    {
     "data": {
      "text/plain": [
       "[('JetEta(JetPt|0)', 0.13845729267283013),\n",
       " ('ZZEta', 0.11585483648406238),\n",
       " ('JetPt(JetPt|0)', 0.09405271146681385),\n",
       " ('D_VBF1j_ggH_ME', 0.07870843107492756),\n",
       " ('ZZPt', 0.07639023044018214),\n",
       " ('PFMET', 0.0639161032151235),\n",
       " ('ZZMassErr', 0.061018352421691735),\n",
       " ('ZZMass', 0.05900372567959156),\n",
       " ('Z1Pt', 0.05362218849178971),\n",
       " ('ZZPhi', 0.053456602732165036),\n",
       " ('Z2Mass', 0.051717952256105974),\n",
       " ('Z2Pt', 0.051717952256105974),\n",
       " ('Z1Mass', 0.04570166965640955),\n",
       " ('JetPhi(JetPt|0)', 0.044404581206016286),\n",
       " ('Z2Flav', 0.004139643990616807),\n",
       " ('nCleanedJetsPt30BTagged_bTagSF', 0.0025665792741824205),\n",
       " ('ExtraLepPt(ExtraLepPt|0)', 0.0020146267421001793),\n",
       " ('Z1Flav', 0.0016282599696426107),\n",
       " ('ExtraLepEta(ExtraLepPt|0)', 0.0008831240513315855),\n",
       " ('nExtraLep', 0.0007175382917069132),\n",
       " ('ExtraLepPhi(ExtraLepPt|0)', 2.7597626604112046e-05)]"
      ]
     },
     "execution_count": 46,
     "metadata": {},
     "output_type": "execute_result"
    }
   ],
   "source": [
    "implist"
   ]
  },
  {
   "cell_type": "code",
   "execution_count": 47,
   "metadata": {
    "collapsed": false,
    "scrolled": false
   },
   "outputs": [],
   "source": [
    "%%capture\n",
    "fig, implist = plot_variables([(\"WHh0j\", \"ggH0j\")])"
   ]
  },
  {
   "cell_type": "code",
   "execution_count": 48,
   "metadata": {
    "collapsed": true
   },
   "outputs": [],
   "source": [
    "impdict = {convert_varname(entry[0]): [entry[1]] for entry in implist}\n",
    "impdict[\"discriminant\"] = \"D_WHh_ggH_0j_ML\"\n",
    "df = df.append(pd.DataFrame.from_dict(impdict))"
   ]
  },
  {
   "cell_type": "code",
   "execution_count": 49,
   "metadata": {
    "collapsed": true
   },
   "outputs": [],
   "source": [
    "append_variables(confhandler, impdict, threshold_fscore)"
   ]
  },
  {
   "cell_type": "code",
   "execution_count": 50,
   "metadata": {
    "collapsed": false
   },
   "outputs": [
    {
     "data": {
      "text/plain": [
       "[('ZZPt', 0.16273490603758498),\n",
       " ('PFMET', 0.11168865787018525),\n",
       " ('ZZMass', 0.10655737704918032),\n",
       " ('ZZEta', 0.10582433693189391),\n",
       " ('ZZMassErr', 0.09429561508729842),\n",
       " ('ZZPhi', 0.08869785419165667),\n",
       " ('Z2Mass', 0.08483273357323737),\n",
       " ('Z2Pt', 0.07963481274157004),\n",
       " ('Z1Pt', 0.07730241236838598),\n",
       " ('Z1Mass', 0.07570305211248834),\n",
       " ('Z1Flav', 0.004998000799680128),\n",
       " ('Z2Flav', 0.0035319205651072904),\n",
       " ('ExtraLepPhi(ExtraLepPt|0)', 0.0032653605224576836),\n",
       " ('nExtraLep', 0.0008663201386112222),\n",
       " ('ExtraLepEta(ExtraLepPt|0)', 6.66400106624017e-05)]"
      ]
     },
     "execution_count": 50,
     "metadata": {},
     "output_type": "execute_result"
    }
   ],
   "source": [
    "implist"
   ]
  },
  {
   "cell_type": "code",
   "execution_count": 51,
   "metadata": {
    "collapsed": false,
    "scrolled": false
   },
   "outputs": [],
   "source": [
    "%%capture\n",
    "fig, implist = plot_variables([(\"ZHh2j\", \"ggH2j\")])"
   ]
  },
  {
   "cell_type": "code",
   "execution_count": 52,
   "metadata": {
    "collapsed": true
   },
   "outputs": [],
   "source": [
    "impdict = {convert_varname(entry[0]): [entry[1]] for entry in implist}\n",
    "impdict[\"discriminant\"] = \"D_ZHh_ggH_2j_ML\"\n",
    "df = df.append(pd.DataFrame.from_dict(impdict))"
   ]
  },
  {
   "cell_type": "code",
   "execution_count": 53,
   "metadata": {
    "collapsed": true
   },
   "outputs": [],
   "source": [
    "append_variables(confhandler, impdict, threshold_fscore)"
   ]
  },
  {
   "cell_type": "code",
   "execution_count": 54,
   "metadata": {
    "collapsed": false
   },
   "outputs": [
    {
     "data": {
      "text/plain": [
       "[('JetPt(JetPt|0)', 0.0652191591445068),\n",
       " ('JetPt(JetPt|1)', 0.05354964625518419),\n",
       " ('D_ZHh_ggH_ME', 0.05139464910140685),\n",
       " ('ZZPt', 0.051110026835813616),\n",
       " ('JetEta(JetPt|0)', 0.05037814101000244),\n",
       " ('D_VBF2j_ggH_ME', 0.0499308774497845),\n",
       " ('Z1Pt', 0.04826380417988127),\n",
       " ('ZZEta', 0.046840692851915104),\n",
       " ('nCleanedJetsPt30BTagged_bTagSF', 0.04106692689273807),\n",
       " ('ZZPhi', 0.04086362527445719),\n",
       " ('JetEta(JetPt|2)', 0.03956249491745954),\n",
       " ('JetEta(JetPt|1)', 0.03874928844433602),\n",
       " ('Z2Mass', 0.03854598682605514),\n",
       " ('JetPhi(JetPt|0)', 0.03427665284215663),\n",
       " ('PFMET', 0.03374806863462633),\n",
       " ('ZZMass', 0.033260144750752216),\n",
       " ('D_WHh_ggH_ME', 0.030617223713100758),\n",
       " ('Z1Mass', 0.03045458241847605),\n",
       " ('Z2Pt', 0.02935675367975929),\n",
       " ('D_WHh_ZHh_ME', 0.026876473936732537),\n",
       " ('D_VBF2j_WHh_ME', 0.025006099048548426),\n",
       " ('JetPhi(JetPt|2)', 0.02427421322273725),\n",
       " ('ZZMassErr', 0.023461006749613728),\n",
       " ('JetPt(JetPt|2)', 0.023379686102301376),\n",
       " ('JetPhi(JetPt|1)', 0.021712612832398146),\n",
       " ('D_VBF2j_ZHh_ME', 0.013539887777506709),\n",
       " ('JetPt(JetPt|3)', 0.012116776449540538),\n",
       " ('JetPhi(JetPt|3)', 0.008050744083922909),\n",
       " ('JetEta(JetPt|3)', 0.005814426282833211),\n",
       " ('nCleanedJetsPt30', 0.0038220704236805723),\n",
       " ('Z2Flav', 0.0028462226559323412),\n",
       " ('Z1Flav', 0.001748393917215581),\n",
       " ('ExtraLepPhi(ExtraLepPt|0)', 0.0001626412946247052)]"
      ]
     },
     "execution_count": 54,
     "metadata": {},
     "output_type": "execute_result"
    }
   ],
   "source": [
    "implist"
   ]
  },
  {
   "cell_type": "code",
   "execution_count": 55,
   "metadata": {
    "collapsed": false,
    "scrolled": false
   },
   "outputs": [],
   "source": [
    "%%capture\n",
    "fig, implist = plot_variables([(\"ZHh1j\", \"ggH1j\")])"
   ]
  },
  {
   "cell_type": "code",
   "execution_count": 56,
   "metadata": {
    "collapsed": true
   },
   "outputs": [],
   "source": [
    "impdict = {convert_varname(entry[0]): [entry[1]] for entry in implist}\n",
    "impdict[\"discriminant\"] = \"D_ZHh_ggH_1j_ML\"\n",
    "df = df.append(pd.DataFrame.from_dict(impdict))"
   ]
  },
  {
   "cell_type": "code",
   "execution_count": 57,
   "metadata": {
    "collapsed": true
   },
   "outputs": [],
   "source": [
    "append_variables(confhandler, impdict, threshold_fscore)"
   ]
  },
  {
   "cell_type": "code",
   "execution_count": 58,
   "metadata": {
    "collapsed": false
   },
   "outputs": [
    {
     "data": {
      "text/plain": [
       "[('JetEta(JetPt|0)', 0.11710013282488539),\n",
       " ('ZZEta', 0.11401516774497622),\n",
       " ('JetPt(JetPt|0)', 0.09486267620720683),\n",
       " ('D_VBF1j_ggH_ME', 0.08800719825185312),\n",
       " ('ZZPhi', 0.0754102575088907),\n",
       " ('ZZPt', 0.07112558378679464),\n",
       " ('ZZMass', 0.06559835468529071),\n",
       " ('Z2Mass', 0.056729080080551865),\n",
       " ('Z1Pt', 0.05437250953339903),\n",
       " ('PFMET', 0.05253009983289773),\n",
       " ('JetPhi(JetPt|0)', 0.048502506534127424),\n",
       " ('Z1Mass', 0.046960023994172845),\n",
       " ('ZZMassErr', 0.0463601696730794),\n",
       " ('Z2Pt', 0.04408929260036848),\n",
       " ('nCleanedJetsPt30BTagged_bTagSF', 0.012468400531299542),\n",
       " ('ExtraLepPt(ExtraLepPt|0)', 0.003084965079909165),\n",
       " ('nExtraLep', 0.0026993444449205195),\n",
       " ('Z2Flav', 0.002185183598268992),\n",
       " ('ExtraLepPhi(ExtraLepPt|0)', 0.0016281760143965038),\n",
       " ('Z1Flav', 0.001242555379407858),\n",
       " ('ExtraLepEta(ExtraLepPt|0)', 0.001028321693303055)]"
      ]
     },
     "execution_count": 58,
     "metadata": {},
     "output_type": "execute_result"
    }
   ],
   "source": [
    "implist"
   ]
  },
  {
   "cell_type": "code",
   "execution_count": 59,
   "metadata": {
    "collapsed": false,
    "scrolled": false
   },
   "outputs": [],
   "source": [
    "%%capture\n",
    "fig, implist = plot_variables([(\"ZHh0j\", \"ggH0j\")])"
   ]
  },
  {
   "cell_type": "code",
   "execution_count": 60,
   "metadata": {
    "collapsed": true
   },
   "outputs": [],
   "source": [
    "impdict = {convert_varname(entry[0]): [entry[1]] for entry in implist}\n",
    "impdict[\"discriminant\"] = \"D_ZHh_ggH_0j_ML\"\n",
    "df = df.append(pd.DataFrame.from_dict(impdict))"
   ]
  },
  {
   "cell_type": "code",
   "execution_count": 61,
   "metadata": {
    "collapsed": true
   },
   "outputs": [],
   "source": [
    "append_variables(confhandler, impdict, threshold_fscore)"
   ]
  },
  {
   "cell_type": "code",
   "execution_count": 62,
   "metadata": {
    "collapsed": false
   },
   "outputs": [
    {
     "data": {
      "text/plain": [
       "[('ZZPt', 0.14670854600183222),\n",
       " ('Z2Mass', 0.11870174060986782),\n",
       " ('ZZMassErr', 0.10914801727522576),\n",
       " ('Z2Pt', 0.10522182960345504),\n",
       " ('ZZPhi', 0.10208087946603847),\n",
       " ('Z1Mass', 0.08663787462374035),\n",
       " ('Z1Pt', 0.08624525585656327),\n",
       " ('ZZEta', 0.08297343279675436),\n",
       " ('PFMET', 0.07420494699646643),\n",
       " ('ZZMass', 0.07302709069493522),\n",
       " ('Z1Flav', 0.007852375343541421),\n",
       " ('ExtraLepPt(ExtraLepPt|0)', 0.004973171050909567),\n",
       " ('Z2Flav', 0.0014396021463159272),\n",
       " ('ExtraLepPhi(ExtraLepPt|0)', 0.0007852375343541421)]"
      ]
     },
     "execution_count": 62,
     "metadata": {},
     "output_type": "execute_result"
    }
   ],
   "source": [
    "implist"
   ]
  },
  {
   "cell_type": "code",
   "execution_count": 63,
   "metadata": {
    "collapsed": false,
    "scrolled": false
   },
   "outputs": [],
   "source": [
    "%%capture\n",
    "fig, implist = plot_variables([(\"WHh2j\", \"ZHh2j\")])"
   ]
  },
  {
   "cell_type": "code",
   "execution_count": 64,
   "metadata": {
    "collapsed": true
   },
   "outputs": [],
   "source": [
    "impdict = {convert_varname(entry[0]): [entry[1]] for entry in implist}\n",
    "impdict[\"discriminant\"] = \"D_WHh_ZHh_2j_ML\"\n",
    "df = df.append(pd.DataFrame.from_dict(impdict))"
   ]
  },
  {
   "cell_type": "code",
   "execution_count": 65,
   "metadata": {
    "collapsed": true
   },
   "outputs": [],
   "source": [
    "append_variables(confhandler, impdict, threshold_fscore)"
   ]
  },
  {
   "cell_type": "code",
   "execution_count": 66,
   "metadata": {
    "collapsed": false
   },
   "outputs": [
    {
     "data": {
      "text/plain": [
       "[('D_WHh_ZHh_ME', 0.0660503845882436),\n",
       " ('JetPhi(JetPt|1)', 0.05440688730505963),\n",
       " ('PFMET', 0.051937054548020604),\n",
       " ('ZZMass', 0.0467151224331381),\n",
       " ('Z2Mass', 0.04495095617811023),\n",
       " ('ZZMassErr', 0.04219885682026674),\n",
       " ('JetEta(JetPt|0)', 0.04219885682026674),\n",
       " ('D_WHh_ggH_ME', 0.041704890268858937),\n",
       " ('JetPt(JetPt|1)', 0.04001129066403218),\n",
       " ('Z1Mass', 0.03987015736362995),\n",
       " ('JetPt(JetPt|0)', 0.03923505751181992),\n",
       " ('Z2Pt', 0.03768259120739539),\n",
       " ('ZZEta', 0.037259191306188696),\n",
       " ('JetPhi(JetPt|0)', 0.03690635805518312),\n",
       " ('Z1Pt', 0.03669465810457977),\n",
       " ('JetEta(JetPt|1)', 0.035565591701361934),\n",
       " ('ZZPhi', 0.03168442594030062),\n",
       " ('JetPhi(JetPt|2)', 0.030978759438289465),\n",
       " ('D_ZHh_ggH_ME', 0.03076705948768612),\n",
       " ('ZZPt', 0.02780326017923929),\n",
       " ('nCleanedJetsPt30BTagged_bTagSF', 0.027732693529038177),\n",
       " ('JetPt(JetPt|2)', 0.026533060475619222),\n",
       " ('D_VBF2j_ggH_ME', 0.025403994072401383),\n",
       " ('D_VBF2j_WHh_ME', 0.02505116082139581),\n",
       " ('D_VBF2j_ZHh_ME', 0.02194622821254675),\n",
       " ('JetEta(JetPt|2)', 0.01524239644344083),\n",
       " ('JetPhi(JetPt|3)', 0.013054830287206266),\n",
       " ('nCleanedJetsPt30', 0.010443864229765013),\n",
       " ('JetEta(JetPt|3)', 0.007621198221720415),\n",
       " ('Z1Flav', 0.0064921318185025756),\n",
       " ('JetPt(JetPt|3)', 0.004233999012066897),\n",
       " ('Z2Flav', 0.0012701997036200692),\n",
       " ('ExtraLepPt(ExtraLepPt|0)', 0.00035283325100557477)]"
      ]
     },
     "execution_count": 66,
     "metadata": {},
     "output_type": "execute_result"
    }
   ],
   "source": [
    "implist"
   ]
  },
  {
   "cell_type": "code",
   "execution_count": 67,
   "metadata": {
    "collapsed": false,
    "scrolled": false
   },
   "outputs": [],
   "source": [
    "%%capture\n",
    "fig, implist = plot_variables([(\"WHh1j\", \"ZHh1j\")])"
   ]
  },
  {
   "cell_type": "code",
   "execution_count": 68,
   "metadata": {
    "collapsed": true
   },
   "outputs": [],
   "source": [
    "impdict = {convert_varname(entry[0]): [entry[1]] for entry in implist}\n",
    "impdict[\"discriminant\"] = \"D_WHh_ZHh_1j_ML\"\n",
    "df = df.append(pd.DataFrame.from_dict(impdict))"
   ]
  },
  {
   "cell_type": "code",
   "execution_count": 69,
   "metadata": {
    "collapsed": true
   },
   "outputs": [],
   "source": [
    "append_variables(confhandler, impdict, threshold_fscore)"
   ]
  },
  {
   "cell_type": "code",
   "execution_count": 70,
   "metadata": {
    "collapsed": false
   },
   "outputs": [
    {
     "data": {
      "text/plain": [
       "[('ZZMass', 0.11099712761592122),\n",
       " ('Z2Mass', 0.0883258104226508),\n",
       " ('Z2Pt', 0.08627410750923266),\n",
       " ('ZZMassErr', 0.08165777595404186),\n",
       " ('ZZPhi', 0.0720147722609766),\n",
       " ('PFMET', 0.07129667624128026),\n",
       " ('Z1Mass', 0.06955272876487485),\n",
       " ('JetPt(JetPt|0)', 0.0613459171112023),\n",
       " ('ZZPt', 0.05970455478046779),\n",
       " ('D_VBF1j_ggH_ME', 0.05857611817808781),\n",
       " ('JetPhi(JetPt|0)', 0.05642183011899877),\n",
       " ('ZZEta', 0.05365203118588428),\n",
       " ('JetEta(JetPt|0)', 0.05313910545752975),\n",
       " ('Z1Pt', 0.050984817398440706),\n",
       " ('nCleanedJetsPt30BTagged_bTagSF', 0.018362741075092327),\n",
       " ('Z2Flav', 0.0029749692244562987),\n",
       " ('Z1Flav', 0.0025646286417726713),\n",
       " ('ExtraLepPt(ExtraLepPt|0)', 0.002154288059089044)]"
      ]
     },
     "execution_count": 70,
     "metadata": {},
     "output_type": "execute_result"
    }
   ],
   "source": [
    "implist"
   ]
  },
  {
   "cell_type": "code",
   "execution_count": 71,
   "metadata": {
    "collapsed": false,
    "scrolled": false
   },
   "outputs": [],
   "source": [
    "%%capture\n",
    "fig, implist = plot_variables([(\"WHh0j\", \"ZHh0j\")])"
   ]
  },
  {
   "cell_type": "code",
   "execution_count": 72,
   "metadata": {
    "collapsed": true
   },
   "outputs": [],
   "source": [
    "impdict = {convert_varname(entry[0]): [entry[1]] for entry in implist}\n",
    "impdict[\"discriminant\"] = \"D_WHh_ZHh_0j_ML\"\n",
    "df = df.append(pd.DataFrame.from_dict(impdict))"
   ]
  },
  {
   "cell_type": "code",
   "execution_count": 73,
   "metadata": {
    "collapsed": true
   },
   "outputs": [],
   "source": [
    "append_variables(confhandler, impdict, threshold_fscore)"
   ]
  },
  {
   "cell_type": "code",
   "execution_count": 74,
   "metadata": {
    "collapsed": false
   },
   "outputs": [
    {
     "data": {
      "text/plain": [
       "[('PFMET', 0.18597560975609756),\n",
       " ('ZZPhi', 0.1524390243902439),\n",
       " ('ZZPt', 0.1402439024390244),\n",
       " ('ZZEta', 0.125),\n",
       " ('Z1Pt', 0.11890243902439024),\n",
       " ('Z2Pt', 0.07926829268292683),\n",
       " ('Z2Mass', 0.07317073170731707),\n",
       " ('Z1Mass', 0.06402439024390244),\n",
       " ('ZZMassErr', 0.04573170731707317),\n",
       " ('nExtraLep', 0.01524390243902439)]"
      ]
     },
     "execution_count": 74,
     "metadata": {},
     "output_type": "execute_result"
    }
   ],
   "source": [
    "implist"
   ]
  },
  {
   "cell_type": "code",
   "execution_count": 75,
   "metadata": {
    "collapsed": false,
    "scrolled": false
   },
   "outputs": [],
   "source": [
    "%%capture\n",
    "fig, implist = plot_variables([(\"VBF2j\", \"WHh2j\")])"
   ]
  },
  {
   "cell_type": "code",
   "execution_count": 76,
   "metadata": {
    "collapsed": true
   },
   "outputs": [],
   "source": [
    "impdict = {convert_varname(entry[0]): [entry[1]] for entry in implist}\n",
    "impdict[\"discriminant\"] = \"D_VBF_WHh_2j_ML\"\n",
    "df = df.append(pd.DataFrame.from_dict(impdict))"
   ]
  },
  {
   "cell_type": "code",
   "execution_count": 77,
   "metadata": {
    "collapsed": true
   },
   "outputs": [],
   "source": [
    "append_variables(confhandler, impdict, threshold_fscore)"
   ]
  },
  {
   "cell_type": "code",
   "execution_count": 78,
   "metadata": {
    "collapsed": false
   },
   "outputs": [
    {
     "data": {
      "text/plain": [
       "[('JetEta(JetPt|2)', 0.08227812000912617),\n",
       " ('D_VBF2j_ggH_ME', 0.07805726671229751),\n",
       " ('JetEta(JetPt|0)', 0.06202943189596167),\n",
       " ('JetPt(JetPt|2)', 0.053416609628108604),\n",
       " ('ZZMass', 0.047256445357061375),\n",
       " ('JetEta(JetPt|1)', 0.04637234770704997),\n",
       " ('ZZEta', 0.0453171343828428),\n",
       " ('D_WHh_ggH_ME', 0.04200889801505818),\n",
       " ('JetPt(JetPt|0)', 0.04121035820214465),\n",
       " ('PFMET', 0.039812913529545975),\n",
       " ('D_WHh_ZHh_ME', 0.03684690851015286),\n",
       " ('ZZPt', 0.035706137348847825),\n",
       " ('JetPt(JetPt|1)', 0.03553502167465206),\n",
       " ('Z2Mass', 0.03259753593429158),\n",
       " ('ZZPhi', 0.03171343828428017),\n",
       " ('Z1Pt', 0.031399726214921285),\n",
       " ('D_ZHh_ggH_ME', 0.03094341775039927),\n",
       " ('Z1Mass', 0.02803445128907141),\n",
       " ('Z2Pt', 0.027663700661647275),\n",
       " ('D_VBF2j_ZHh_ME', 0.02726443075519051),\n",
       " ('JetPhi(JetPt|0)', 0.022872461784166097),\n",
       " ('ZZMassErr', 0.02255874971480721),\n",
       " ('JetPhi(JetPt|1)', 0.019507186858316223),\n",
       " ('D_VBF2j_WHh_ME', 0.01691193246634725),\n",
       " ('JetPhi(JetPt|2)', 0.01676933607118412),\n",
       " ('JetEta(JetPt|3)', 0.011464750171115675),\n",
       " ('JetPt(JetPt|3)', 0.010152863335614876),\n",
       " ('JetPhi(JetPt|3)', 0.007671686059776409),\n",
       " ('nCleanedJetsPt30', 0.007129819758156514),\n",
       " ('nCleanedJetsPt30BTagged_bTagSF', 0.003935660506502395),\n",
       " ('Z1Flav', 0.0023100616016427105),\n",
       " ('Z2Flav', 0.0021674652064795803),\n",
       " ('ExtraLepPt(ExtraLepPt|0)', 0.000513347022587269),\n",
       " ('ExtraLepPhi(ExtraLepPt|0)', 0.00048482774355464294),\n",
       " ('ExtraLepEta(ExtraLepPt|0)', 8.555783709787816e-05)]"
      ]
     },
     "execution_count": 78,
     "metadata": {},
     "output_type": "execute_result"
    }
   ],
   "source": [
    "implist"
   ]
  },
  {
   "cell_type": "code",
   "execution_count": 79,
   "metadata": {
    "collapsed": false,
    "scrolled": false
   },
   "outputs": [],
   "source": [
    "%%capture\n",
    "fig, implist = plot_variables([(\"VBF1j\", \"WHh1j\")])"
   ]
  },
  {
   "cell_type": "code",
   "execution_count": 80,
   "metadata": {
    "collapsed": true
   },
   "outputs": [],
   "source": [
    "impdict = {convert_varname(entry[0]): [entry[1]] for entry in implist}\n",
    "impdict[\"discriminant\"] = \"D_VBF_WHh_1j_ML\"\n",
    "df = df.append(pd.DataFrame.from_dict(impdict))"
   ]
  },
  {
   "cell_type": "code",
   "execution_count": 81,
   "metadata": {
    "collapsed": true
   },
   "outputs": [],
   "source": [
    "append_variables(confhandler, impdict, threshold_fscore)"
   ]
  },
  {
   "cell_type": "code",
   "execution_count": 82,
   "metadata": {
    "collapsed": false
   },
   "outputs": [
    {
     "data": {
      "text/plain": [
       "[('JetEta(JetPt|0)', 0.1595338788268824),\n",
       " ('ZZEta', 0.1399282890502896),\n",
       " ('JetPt(JetPt|0)', 0.10434862554013055),\n",
       " ('PFMET', 0.06925163188379149),\n",
       " ('D_VBF1j_ggH_ME', 0.06123011859887837),\n",
       " ('ZZPt', 0.05950629769237841),\n",
       " ('JetPhi(JetPt|0)', 0.05860991082099844),\n",
       " ('ZZMassErr', 0.05334651098648525),\n",
       " ('Z2Pt', 0.050979130274891975),\n",
       " ('Z1Pt', 0.049783947779718674),\n",
       " ('ZZPhi', 0.04971499494345868),\n",
       " ('Z2Mass', 0.04971499494345868),\n",
       " ('Z1Mass', 0.04688792865679875),\n",
       " ('ZZMass', 0.03992369219453894),\n",
       " ('Z2Flav', 0.0030109405166865865),\n",
       " ('nCleanedJetsPt30BTagged_bTagSF', 0.0025742392203732646),\n",
       " ('Z1Flav', 0.0014480095614599613),\n",
       " ('ExtraLepPt(ExtraLepPt|0)', 0.0001149213937666636),\n",
       " ('ExtraLepEta(ExtraLepPt|0)', 9.193711501333089e-05)]"
      ]
     },
     "execution_count": 82,
     "metadata": {},
     "output_type": "execute_result"
    }
   ],
   "source": [
    "implist"
   ]
  },
  {
   "cell_type": "code",
   "execution_count": 83,
   "metadata": {
    "collapsed": false,
    "scrolled": false
   },
   "outputs": [],
   "source": [
    "%%capture\n",
    "fig, implist = plot_variables([(\"VBF0j\", \"WHh0j\")])"
   ]
  },
  {
   "cell_type": "code",
   "execution_count": 84,
   "metadata": {
    "collapsed": true
   },
   "outputs": [],
   "source": [
    "impdict = {convert_varname(entry[0]): [entry[1]] for entry in implist}\n",
    "impdict[\"discriminant\"] = \"D_VBF_WHh_0j_ML\"\n",
    "df = df.append(pd.DataFrame.from_dict(impdict))"
   ]
  },
  {
   "cell_type": "code",
   "execution_count": 85,
   "metadata": {
    "collapsed": true
   },
   "outputs": [],
   "source": [
    "append_variables(confhandler, impdict, threshold_fscore)"
   ]
  },
  {
   "cell_type": "code",
   "execution_count": 86,
   "metadata": {
    "collapsed": false
   },
   "outputs": [
    {
     "data": {
      "text/plain": [
       "[('ZZMassErr', 0.13749382512761402),\n",
       " ('ZZEta', 0.12646138646467972),\n",
       " ('PFMET', 0.11509962127449366),\n",
       " ('Z2Pt', 0.09550469290301333),\n",
       " ('ZZMass', 0.0936933970031286),\n",
       " ('Z1Mass', 0.09188210110324387),\n",
       " ('Z1Pt', 0.09089412152148856),\n",
       " ('ZZPhi', 0.08200230528569076),\n",
       " ('ZZPt', 0.07689774411328833),\n",
       " ('Z2Mass', 0.07327515231351886),\n",
       " ('Z2Flav', 0.004775234645150667),\n",
       " ('Z1Flav', 0.004610571381524782),\n",
       " ('ExtraLepPhi(ExtraLepPt|0)', 0.002140622427136506),\n",
       " ('ExtraLepPt(ExtraLepPt|0)', 0.002140622427136506),\n",
       " ('ExtraLepEta(ExtraLepPt|0)', 0.0016466326362588506),\n",
       " ('nExtraLep', 0.0014819693726329656)]"
      ]
     },
     "execution_count": 86,
     "metadata": {},
     "output_type": "execute_result"
    }
   ],
   "source": [
    "implist"
   ]
  },
  {
   "cell_type": "code",
   "execution_count": 87,
   "metadata": {
    "collapsed": false,
    "scrolled": false
   },
   "outputs": [],
   "source": [
    "%%capture\n",
    "fig, implist = plot_variables([(\"VBF2j\", \"ZHh2j\")])"
   ]
  },
  {
   "cell_type": "code",
   "execution_count": 88,
   "metadata": {
    "collapsed": true
   },
   "outputs": [],
   "source": [
    "impdict = {convert_varname(entry[0]): [entry[1]] for entry in implist}\n",
    "impdict[\"discriminant\"] = \"D_VBF_ZHh_2j_ML\"\n",
    "df = df.append(pd.DataFrame.from_dict(impdict))"
   ]
  },
  {
   "cell_type": "code",
   "execution_count": 89,
   "metadata": {
    "collapsed": true
   },
   "outputs": [],
   "source": [
    "append_variables(confhandler, impdict, threshold_fscore)"
   ]
  },
  {
   "cell_type": "code",
   "execution_count": 90,
   "metadata": {
    "collapsed": false
   },
   "outputs": [
    {
     "data": {
      "text/plain": [
       "[('JetEta(JetPt|2)', 0.07775507751472178),\n",
       " ('D_VBF2j_ggH_ME', 0.07063453911789448),\n",
       " ('JetEta(JetPt|0)', 0.06204182189640668),\n",
       " ('ZZEta', 0.06002884268717702),\n",
       " ('D_ZHh_ggH_ME', 0.04828145655570244),\n",
       " ('PFMET', 0.04566758803028482),\n",
       " ('JetEta(JetPt|1)', 0.04173176300925369),\n",
       " ('JetPt(JetPt|2)', 0.037825982454031966),\n",
       " ('ZZMass', 0.03662420382165605),\n",
       " ('nCleanedJetsPt30BTagged_bTagSF', 0.03473140247566398),\n",
       " ('D_WHh_ZHh_ME', 0.03358971277490686),\n",
       " ('D_VBF2j_ZHh_ME', 0.03346953491166927),\n",
       " ('ZZMassErr', 0.031005888715298642),\n",
       " ('Z2Pt', 0.03001442134358851),\n",
       " ('JetPhi(JetPt|0)', 0.02989424348035092),\n",
       " ('Z1Pt', 0.02974402115130393),\n",
       " ('Z2Mass', 0.029083042903497176),\n",
       " ('JetPhi(JetPt|1)', 0.02887273164283139),\n",
       " ('ZZPt', 0.027130152625886313),\n",
       " ('D_VBF2j_WHh_ME', 0.02700997476264872),\n",
       " ('JetPt(JetPt|1)', 0.02700997476264872),\n",
       " ('JetPt(JetPt|0)', 0.026108640788366784),\n",
       " ('Z1Mass', 0.02475663982694388),\n",
       " ('ZZPhi', 0.02337459439971157),\n",
       " ('D_WHh_ggH_ME', 0.021902415575051074),\n",
       " ('JetPhi(JetPt|2)', 0.02040019228458118),\n",
       " ('JetEta(JetPt|3)', 0.013610143011657253),\n",
       " ('JetPt(JetPt|3)', 0.012859031366422306),\n",
       " ('JetPhi(JetPt|3)', 0.008081961302728037),\n",
       " ('nCleanedJetsPt30', 0.003064535512558587),\n",
       " ('Z1Flav', 0.0021632015382766494),\n",
       " ('Z2Flav', 0.0011416897007571205),\n",
       " ('ExtraLepEta(ExtraLepPt|0)', 0.00039057805552217284)]"
      ]
     },
     "execution_count": 90,
     "metadata": {},
     "output_type": "execute_result"
    }
   ],
   "source": [
    "implist"
   ]
  },
  {
   "cell_type": "code",
   "execution_count": 91,
   "metadata": {
    "collapsed": false,
    "scrolled": false
   },
   "outputs": [],
   "source": [
    "%%capture\n",
    "fig, implist = plot_variables([(\"VBF1j\", \"ZHh1j\")])"
   ]
  },
  {
   "cell_type": "code",
   "execution_count": 92,
   "metadata": {
    "collapsed": true
   },
   "outputs": [],
   "source": [
    "impdict = {convert_varname(entry[0]): [entry[1]] for entry in implist}\n",
    "impdict[\"discriminant\"] = \"D_VBF_ZHh_1j_ML\"\n",
    "df = df.append(pd.DataFrame.from_dict(impdict))"
   ]
  },
  {
   "cell_type": "code",
   "execution_count": 93,
   "metadata": {
    "collapsed": true
   },
   "outputs": [],
   "source": [
    "append_variables(confhandler, impdict, threshold_fscore)"
   ]
  },
  {
   "cell_type": "code",
   "execution_count": 94,
   "metadata": {
    "collapsed": false
   },
   "outputs": [
    {
     "data": {
      "text/plain": [
       "[('JetEta(JetPt|0)', 0.15612302306682502),\n",
       " ('ZZEta', 0.15040320060011253),\n",
       " ('JetPt(JetPt|0)', 0.09007938988560354),\n",
       " ('PFMET', 0.06576233043695692),\n",
       " ('ZZMass', 0.06069888104019504),\n",
       " ('ZZMassErr', 0.05919859973745077),\n",
       " ('ZZPt', 0.05788585359754954),\n",
       " ('Z1Mass', 0.05763580671375883),\n",
       " ('Z2Mass', 0.05447896480590111),\n",
       " ('D_VBF1j_ggH_ME', 0.05307245108457836),\n",
       " ('Z1Pt', 0.04360192536100519),\n",
       " ('ZZPhi', 0.042101644058260924),\n",
       " ('Z2Pt', 0.038726011127086325),\n",
       " ('JetPhi(JetPt|0)', 0.03566293680065012),\n",
       " ('nCleanedJetsPt30BTagged_bTagSF', 0.018534725260986436),\n",
       " ('Z2Flav', 0.006594986559979996),\n",
       " ('ExtraLepPhi(ExtraLepPt|0)', 0.005532287303869476),\n",
       " ('ExtraLepEta(ExtraLepPt|0)', 0.0017190723260611365),\n",
       " ('Z1Flav', 0.0010001875351628431),\n",
       " ('nExtraLep', 0.0007501406513721323),\n",
       " ('ExtraLepPt(ExtraLepPt|0)', 0.00043758204663374385)]"
      ]
     },
     "execution_count": 94,
     "metadata": {},
     "output_type": "execute_result"
    }
   ],
   "source": [
    "implist"
   ]
  },
  {
   "cell_type": "code",
   "execution_count": 95,
   "metadata": {
    "collapsed": false,
    "scrolled": false
   },
   "outputs": [],
   "source": [
    "%%capture\n",
    "fig, implist = plot_variables([(\"VBF0j\", \"ZHh0j\")])"
   ]
  },
  {
   "cell_type": "code",
   "execution_count": 96,
   "metadata": {
    "collapsed": true
   },
   "outputs": [],
   "source": [
    "impdict = {convert_varname(entry[0]): [entry[1]] for entry in implist}\n",
    "impdict[\"discriminant\"] = \"D_VBF_ZHh_0j_ML\"\n",
    "df = df.append(pd.DataFrame.from_dict(impdict))"
   ]
  },
  {
   "cell_type": "code",
   "execution_count": 97,
   "metadata": {
    "collapsed": true
   },
   "outputs": [],
   "source": [
    "append_variables(confhandler, impdict, threshold_fscore)"
   ]
  },
  {
   "cell_type": "code",
   "execution_count": 98,
   "metadata": {
    "collapsed": false
   },
   "outputs": [
    {
     "data": {
      "text/plain": [
       "[('ZZPhi', 0.14472727272727273),\n",
       " ('PFMET', 0.12290909090909091),\n",
       " ('Z2Mass', 0.11927272727272727),\n",
       " ('ZZEta', 0.10763636363636364),\n",
       " ('ZZPt', 0.10109090909090909),\n",
       " ('Z2Pt', 0.09454545454545454),\n",
       " ('ZZMass', 0.09236363636363637),\n",
       " ('Z1Pt', 0.06836363636363636),\n",
       " ('ZZMassErr', 0.06327272727272727),\n",
       " ('Z1Mass', 0.04872727272727273),\n",
       " ('ExtraLepPt(ExtraLepPt|0)', 0.01890909090909091),\n",
       " ('Z1Flav', 0.009454545454545455),\n",
       " ('ExtraLepEta(ExtraLepPt|0)', 0.006545454545454545),\n",
       " ('Z2Flav', 0.002181818181818182)]"
      ]
     },
     "execution_count": 98,
     "metadata": {},
     "output_type": "execute_result"
    }
   ],
   "source": [
    "implist"
   ]
  },
  {
   "cell_type": "code",
   "execution_count": 99,
   "metadata": {
    "collapsed": false,
    "scrolled": false
   },
   "outputs": [],
   "source": [
    "%%capture\n",
    "fig, implist = plot_variables([(\"WHl\", \"ggH\")])"
   ]
  },
  {
   "cell_type": "code",
   "execution_count": 100,
   "metadata": {
    "collapsed": true
   },
   "outputs": [],
   "source": [
    "impdict = {convert_varname(entry[0]): [entry[1]] for entry in implist}\n",
    "impdict[\"discriminant\"] = \"D_WHl_ggH_ML\"\n",
    "df = df.append(pd.DataFrame.from_dict(impdict))"
   ]
  },
  {
   "cell_type": "code",
   "execution_count": 101,
   "metadata": {
    "collapsed": true
   },
   "outputs": [],
   "source": [
    "append_variables(confhandler, impdict, threshold_fscore)"
   ]
  },
  {
   "cell_type": "code",
   "execution_count": 102,
   "metadata": {
    "collapsed": false
   },
   "outputs": [
    {
     "data": {
      "text/plain": [
       "[('PFMET', 0.1252445394590888),\n",
       " ('ZZMass', 0.11310328136659742),\n",
       " ('ZZPt', 0.09087792186838231),\n",
       " ('Z1Mass', 0.06790633886614364),\n",
       " ('ZZMassErr', 0.06439707157695178),\n",
       " ('JetPt(JetPt|0)', 0.057862573866042794),\n",
       " ('ZZEta', 0.05671298630579029),\n",
       " ('ZZPhi', 0.054857511647137126),\n",
       " ('Z2Pt', 0.05469616602464555),\n",
       " ('Z1Pt', 0.05223564528164895),\n",
       " ('Z2Mass', 0.045902829598854444),\n",
       " ('JetEta(JetPt|0)', 0.04080027428755824),\n",
       " ('ExtraLepPt(ExtraLepPt|0)', 0.03922715446826533),\n",
       " ('JetPhi(JetPt|0)', 0.03275316136579069),\n",
       " ('ExtraLepEta(ExtraLepPt|0)', 0.016174898654780872),\n",
       " ('JetEta(JetPt|1)', 0.013855555331464414),\n",
       " ('ExtraLepPhi(ExtraLepPt|0)', 0.01228243551217151),\n",
       " ('nCleanedJetsPt30BTagged_bTagSF', 0.011374866385656374),\n",
       " ('JetPhi(JetPt|1)', 0.01085049311255874),\n",
       " ('JetPt(JetPt|1)', 0.007684085271161487),\n",
       " ('nCleanedJetsPt30', 0.005062218905673315),\n",
       " ('ExtraLepPhi(ExtraLepPt|1)', 0.005001714297238973),\n",
       " ('JetPhi(JetPt|2)', 0.0045378456325756815),\n",
       " ('Z1Flav', 0.0035697718976262023),\n",
       " ('nExtraLep', 0.003166407841397253),\n",
       " ('JetEta(JetPt|2)', 0.0029243894076598836),\n",
       " ('Z2Flav', 0.002742875582356856),\n",
       " ('JetPt(JetPt|3)', 0.0010487465461952686),\n",
       " ('JetPt(JetPt|2)', 0.0009680737349494786),\n",
       " ('JetEta(JetPt|3)', 0.0009277373293265837),\n",
       " ('nExtraZ', 0.0008268963152693464),\n",
       " ('ExtraLepEta(ExtraLepPt|1)', 0.00026218663654881716),\n",
       " ('JetPhi(JetPt|3)', 0.0001613456224915798)]"
      ]
     },
     "execution_count": 102,
     "metadata": {},
     "output_type": "execute_result"
    }
   ],
   "source": [
    "implist"
   ]
  },
  {
   "cell_type": "code",
   "execution_count": 103,
   "metadata": {
    "collapsed": false,
    "scrolled": false
   },
   "outputs": [],
   "source": [
    "%%capture\n",
    "fig, implist = plot_variables([(\"WHl\", \"VBF\")])"
   ]
  },
  {
   "cell_type": "code",
   "execution_count": 104,
   "metadata": {
    "collapsed": true
   },
   "outputs": [],
   "source": [
    "impdict = {convert_varname(entry[0]): [entry[1]] for entry in implist}\n",
    "impdict[\"discriminant\"] = \"D_WHl_VBF_ML\"\n",
    "df = df.append(pd.DataFrame.from_dict(impdict))"
   ]
  },
  {
   "cell_type": "code",
   "execution_count": 105,
   "metadata": {
    "collapsed": true
   },
   "outputs": [],
   "source": [
    "append_variables(confhandler, impdict, threshold_fscore)"
   ]
  },
  {
   "cell_type": "code",
   "execution_count": 106,
   "metadata": {
    "collapsed": false
   },
   "outputs": [
    {
     "data": {
      "text/plain": [
       "[('JetEta(JetPt|0)', 0.12277066671830522),\n",
       " ('PFMET', 0.10083073526848822),\n",
       " ('ZZMass', 0.09420809047074999),\n",
       " ('ZZEta', 0.06938285470846808),\n",
       " ('JetPt(JetPt|0)', 0.05755117058151469),\n",
       " ('JetEta(JetPt|1)', 0.05121899266087024),\n",
       " ('ZZMassErr', 0.0486047907670262),\n",
       " ('Z1Mass', 0.047326736507813556),\n",
       " ('Z2Mass', 0.04655215816889681),\n",
       " ('ZZPt', 0.04542901957746752),\n",
       " ('Z1Pt', 0.043976685191998606),\n",
       " ('ExtraLepEta(ExtraLepPt|0)', 0.0418078658430317),\n",
       " ('ZZPhi', 0.03803179644081253),\n",
       " ('JetPhi(JetPt|0)', 0.03760577835440832),\n",
       " ('ExtraLepPt(ExtraLepPt|0)', 0.03745086268662497),\n",
       " ('Z2Pt', 0.037218489184949945),\n",
       " ('JetPt(JetPt|1)', 0.020158401270308476),\n",
       " ('JetPhi(JetPt|1)', 0.01409732576828489),\n",
       " ('JetEta(JetPt|2)', 0.010727909993997017),\n",
       " ('ExtraLepPhi(ExtraLepPt|0)', 0.007823241223059198),\n",
       " ('nCleanedJetsPt30BTagged_bTagSF', 0.004937936910594295),\n",
       " ('JetPhi(JetPt|2)', 0.004395732073352569),\n",
       " ('JetPt(JetPt|2)', 0.003989078445421274),\n",
       " ('JetPt(JetPt|3)', 0.0031176778141399275),\n",
       " ('Z2Flav', 0.002769117561627389),\n",
       " ('nCleanedJetsPt30', 0.0025173796014794445),\n",
       " ('Z1Flav', 0.0016653434286710172),\n",
       " ('JetPhi(JetPt|3)', 0.001394241010050154),\n",
       " ('JetEta(JetPt|3)', 0.0012586898007397223),\n",
       " ('nExtraLep', 0.0011812319668480472)]"
      ]
     },
     "execution_count": 106,
     "metadata": {},
     "output_type": "execute_result"
    }
   ],
   "source": [
    "implist"
   ]
  },
  {
   "cell_type": "code",
   "execution_count": 107,
   "metadata": {
    "collapsed": false,
    "scrolled": false
   },
   "outputs": [],
   "source": [
    "%%capture\n",
    "fig, implist = plot_variables([(\"WHl\", \"WHh\")])"
   ]
  },
  {
   "cell_type": "code",
   "execution_count": 108,
   "metadata": {
    "collapsed": true
   },
   "outputs": [],
   "source": [
    "impdict = {convert_varname(entry[0]): [entry[1]] for entry in implist}\n",
    "impdict[\"discriminant\"] = \"D_WHl_WHh_ML\"\n",
    "df = df.append(pd.DataFrame.from_dict(impdict))"
   ]
  },
  {
   "cell_type": "code",
   "execution_count": 109,
   "metadata": {
    "collapsed": true
   },
   "outputs": [],
   "source": [
    "append_variables(confhandler, impdict, threshold_fscore)"
   ]
  },
  {
   "cell_type": "code",
   "execution_count": 110,
   "metadata": {
    "collapsed": false
   },
   "outputs": [
    {
     "data": {
      "text/plain": [
       "[('PFMET', 0.17002667599597673),\n",
       " ('ZZMass', 0.1086281541085407),\n",
       " ('JetPt(JetPt|0)', 0.08007171907115057),\n",
       " ('ExtraLepPt(ExtraLepPt|0)', 0.062491800411072725),\n",
       " ('JetEta(JetPt|0)', 0.058293610880307864),\n",
       " ('ZZPt', 0.05348318537630647),\n",
       " ('Z1Mass', 0.048541566449468665),\n",
       " ('ZZMassErr', 0.04429964577775834),\n",
       " ('Z1Pt', 0.04049503651550269),\n",
       " ('ZZEta', 0.037958630340665586),\n",
       " ('Z2Mass', 0.037215200944592644),\n",
       " ('JetPhi(JetPt|0)', 0.0359469978571741),\n",
       " ('ZZPhi', 0.03507237503826475),\n",
       " ('Z2Pt', 0.034066558796519),\n",
       " ('JetEta(JetPt|1)', 0.028119123627935453),\n",
       " ('JetPt(JetPt|1)', 0.023614816110552325),\n",
       " ('ExtraLepEta(ExtraLepPt|0)', 0.020728560808151483),\n",
       " ('JetPhi(JetPt|1)', 0.0169676826868413),\n",
       " ('JetPt(JetPt|2)', 0.012200988323785368),\n",
       " ('JetEta(JetPt|2)', 0.010626667249748546),\n",
       " ('nExtraLep', 0.008658765907202519),\n",
       " ('ExtraLepPhi(ExtraLepPt|0)', 0.00848384134342065),\n",
       " ('nCleanedJetsPt30', 0.007740411947347706),\n",
       " ('JetPhi(JetPt|2)', 0.004722963222110465),\n",
       " ('JetPhi(JetPt|3)', 0.0027113307386189708),\n",
       " ('Z1Flav', 0.0020553636244369615),\n",
       " ('Z2Flav', 0.0020116324834914944),\n",
       " ('JetEta(JetPt|3)', 0.0018367079197096252),\n",
       " ('nCleanedJetsPt30BTagged_bTagSF', 0.001792976778764158),\n",
       " ('JetPt(JetPt|3)', 0.0011370096645821489)]"
      ]
     },
     "execution_count": 110,
     "metadata": {},
     "output_type": "execute_result"
    }
   ],
   "source": [
    "implist"
   ]
  },
  {
   "cell_type": "code",
   "execution_count": 111,
   "metadata": {
    "collapsed": false,
    "scrolled": false
   },
   "outputs": [],
   "source": [
    "%%capture\n",
    "fig, implist = plot_variables([(\"WHl\", \"ZHh\")])"
   ]
  },
  {
   "cell_type": "code",
   "execution_count": 112,
   "metadata": {
    "collapsed": true
   },
   "outputs": [],
   "source": [
    "impdict = {convert_varname(entry[0]): [entry[1]] for entry in implist}\n",
    "impdict[\"discriminant\"] = \"D_WHl_ZHh_ML\"\n",
    "df = df.append(pd.DataFrame.from_dict(impdict))"
   ]
  },
  {
   "cell_type": "code",
   "execution_count": 113,
   "metadata": {
    "collapsed": true
   },
   "outputs": [],
   "source": [
    "append_variables(confhandler, impdict, threshold_fscore)"
   ]
  },
  {
   "cell_type": "code",
   "execution_count": 114,
   "metadata": {
    "collapsed": false
   },
   "outputs": [
    {
     "data": {
      "text/plain": [
       "[('PFMET', 0.1596031357177854),\n",
       " ('ZZMass', 0.13602400783929447),\n",
       " ('JetPt(JetPt|0)', 0.06106075453209211),\n",
       " ('nCleanedJetsPt30BTagged_bTagSF', 0.0589171974522293),\n",
       " ('ExtraLepPt(ExtraLepPt|0)', 0.0583047525722685),\n",
       " ('JetEta(JetPt|0)', 0.05597746202841744),\n",
       " ('JetPhi(JetPt|0)', 0.05377266046055855),\n",
       " ('Z2Pt', 0.05101665850073493),\n",
       " ('ZZEta', 0.0408500734933856),\n",
       " ('ZZPt', 0.0383390494855463),\n",
       " ('Z1Pt', 0.03791033806957374),\n",
       " ('ZZPhi', 0.03307202351788339),\n",
       " ('Z1Mass', 0.03288829005389515),\n",
       " ('ZZMassErr', 0.030254777070063694),\n",
       " ('JetPt(JetPt|1)', 0.02449779519843214),\n",
       " ('ExtraLepPhi(ExtraLepPt|0)', 0.02235423811856933),\n",
       " ('Z2Mass', 0.020088192062714356),\n",
       " ('ExtraLepEta(ExtraLepPt|0)', 0.018312101910828025),\n",
       " ('nExtraLep', 0.014453699167074964),\n",
       " ('JetEta(JetPt|1)', 0.012922586967172954),\n",
       " ('nCleanedJetsPt30', 0.012616364527192553),\n",
       " ('JetPhi(JetPt|1)', 0.007839294463498285),\n",
       " ('JetEta(JetPt|2)', 0.006308182263596277),\n",
       " ('JetPt(JetPt|2)', 0.004164625183733464),\n",
       " ('JetPhi(JetPt|2)', 0.0030622243998040177),\n",
       " ('JetEta(JetPt|3)', 0.0019598236158745713),\n",
       " ('Z1Flav', 0.0018985791278784908),\n",
       " ('Z2Flav', 0.0007961783439490446),\n",
       " ('JetPt(JetPt|3)', 0.0004899559039686428),\n",
       " ('JetPhi(JetPt|3)', 0.0002449779519843214)]"
      ]
     },
     "execution_count": 114,
     "metadata": {},
     "output_type": "execute_result"
    }
   ],
   "source": [
    "implist"
   ]
  },
  {
   "cell_type": "code",
   "execution_count": 115,
   "metadata": {
    "collapsed": false,
    "scrolled": false
   },
   "outputs": [],
   "source": [
    "%%capture\n",
    "fig, implist = plot_variables([(\"WHl\", \"ZHl\")])"
   ]
  },
  {
   "cell_type": "code",
   "execution_count": 116,
   "metadata": {
    "collapsed": true
   },
   "outputs": [],
   "source": [
    "impdict = {convert_varname(entry[0]): [entry[1]] for entry in implist}\n",
    "impdict[\"discriminant\"] = \"D_WHl_ZHl_ML\"\n",
    "df = df.append(pd.DataFrame.from_dict(impdict))"
   ]
  },
  {
   "cell_type": "code",
   "execution_count": 117,
   "metadata": {
    "collapsed": true
   },
   "outputs": [],
   "source": [
    "append_variables(confhandler, impdict, threshold_fscore)"
   ]
  },
  {
   "cell_type": "code",
   "execution_count": 118,
   "metadata": {
    "collapsed": false
   },
   "outputs": [
    {
     "data": {
      "text/plain": [
       "[('PFMET', 0.1050065731814198),\n",
       " ('ZZMass', 0.10283377154542798),\n",
       " ('Z2Mass', 0.09547546012269939),\n",
       " ('Z1Mass', 0.09350350569675724),\n",
       " ('Z2Pt', 0.07228673678060181),\n",
       " ('Z1Pt', 0.05793529068068946),\n",
       " ('ZZPt', 0.05786225533158049),\n",
       " ('ZZEta', 0.05092389716622846),\n",
       " ('ZZMassErr', 0.04582968156587788),\n",
       " ('JetPt(JetPt|0)', 0.04121019573473561),\n",
       " ('ZZPhi', 0.03953038270522933),\n",
       " ('ExtraLepPt(ExtraLepPt|0)', 0.030693105463044112),\n",
       " ('JetEta(JetPt|0)', 0.029981010809231667),\n",
       " ('JetPhi(JetPt|0)', 0.025325007303534913),\n",
       " ('ExtraLepEta(ExtraLepPt|0)', 0.02216622845457201),\n",
       " ('ExtraLepPhi(ExtraLepPt|0)', 0.016579024247735902),\n",
       " ('JetEta(JetPt|1)', 0.015191352614665497),\n",
       " ('JetPhi(JetPt|1)', 0.014607069821793748),\n",
       " ('JetPt(JetPt|1)', 0.013694127957931639),\n",
       " ('nExtraLep', 0.01219690330119778),\n",
       " ('ExtraLepPt(ExtraLepPt|1)', 0.008015629564709319),\n",
       " ('nExtraZ', 0.007449605609114811),\n",
       " ('nCleanedJetsPt30BTagged_bTagSF', 0.007413087934560327),\n",
       " ('Z2Flav', 0.006007157464212679),\n",
       " ('JetEta(JetPt|2)', 0.005331580484954718),\n",
       " ('nCleanedJetsPt30', 0.004071720712825007),\n",
       " ('ExtraLepEta(ExtraLepPt|1)', 0.003633508618171195),\n",
       " ('JetPhi(JetPt|2)', 0.003633508618171195),\n",
       " ('Z1Flav', 0.0033048495471808357),\n",
       " ('ExtraLepPhi(ExtraLepPt|1)', 0.0031952965235173825),\n",
       " ('JetPt(JetPt|2)', 0.0022093193105463043),\n",
       " ('JetPt(JetPt|3)', 0.0014972246567338593),\n",
       " ('JetEta(JetPt|3)', 0.0010590125620800468),\n",
       " ('JetPhi(JetPt|3)', 0.0003469179082676015)]"
      ]
     },
     "execution_count": 118,
     "metadata": {},
     "output_type": "execute_result"
    }
   ],
   "source": [
    "implist"
   ]
  },
  {
   "cell_type": "code",
   "execution_count": 119,
   "metadata": {
    "collapsed": false,
    "scrolled": false
   },
   "outputs": [],
   "source": [
    "%%capture\n",
    "fig, implist = plot_variables([(\"WHl\", \"ZHMET\")])"
   ]
  },
  {
   "cell_type": "code",
   "execution_count": 120,
   "metadata": {
    "collapsed": true
   },
   "outputs": [],
   "source": [
    "impdict = {convert_varname(entry[0]): [entry[1]] for entry in implist}\n",
    "impdict[\"discriminant\"] = \"D_WHl_ZHMET_ML\"\n",
    "df = df.append(pd.DataFrame.from_dict(impdict))"
   ]
  },
  {
   "cell_type": "code",
   "execution_count": 121,
   "metadata": {
    "collapsed": true
   },
   "outputs": [],
   "source": [
    "append_variables(confhandler, impdict, threshold_fscore)"
   ]
  },
  {
   "cell_type": "code",
   "execution_count": 122,
   "metadata": {
    "collapsed": false
   },
   "outputs": [
    {
     "data": {
      "text/plain": [
       "[('ZZMass', 0.14070988772183993),\n",
       " ('PFMET', 0.12205722564288302),\n",
       " ('ZZPt', 0.08167330677290836),\n",
       " ('Z1Mass', 0.06996257394663769),\n",
       " ('Z1Pt', 0.06416757213569962),\n",
       " ('Z2Mass', 0.05396595436436074),\n",
       " ('ZZMassErr', 0.050887359652299895),\n",
       " ('Z2Pt', 0.050344078232524445),\n",
       " ('ZZEta', 0.047446577327055414),\n",
       " ('JetEta(JetPt|0)', 0.0447301702281782),\n",
       " ('ExtraLepPt(ExtraLepPt|0)', 0.044186888808402755),\n",
       " ('ZZPhi', 0.043764336593021855),\n",
       " ('JetPt(JetPt|0)', 0.040323554267777374),\n",
       " ('JetPhi(JetPt|0)', 0.02933719666787396),\n",
       " ('ExtraLepEta(ExtraLepPt|0)', 0.025232403718459494),\n",
       " ('JetEta(JetPt|1)', 0.01774719304599783),\n",
       " ('JetPhi(JetPt|1)', 0.014547869129542436),\n",
       " ('ExtraLepPhi(ExtraLepPt|1)', 0.012495472654835204),\n",
       " ('nExtraLep', 0.01032234697573343),\n",
       " ('JetPt(JetPt|1)', 0.008632138114209827),\n",
       " ('JetEta(JetPt|2)', 0.00597609561752988),\n",
       " ('ExtraLepPhi(ExtraLepPt|0)', 0.004285886756006278),\n",
       " ('JetPt(JetPt|2)', 0.0030785947120608474),\n",
       " ('ExtraLepEta(ExtraLepPt|1)', 0.0028371363032717615),\n",
       " ('nExtraZ', 0.0023542194856935894),\n",
       " ('nCleanedJetsPt30', 0.0022334902812990464),\n",
       " ('Z2Flav', 0.00199203187250996),\n",
       " ('JetPhi(JetPt|2)', 0.0018713026681154172),\n",
       " ('Z1Flav', 0.001388385850537245),\n",
       " ('JetPhi(JetPt|3)', 0.0010261982373536158),\n",
       " ('nCleanedJetsPt30BTagged_bTagSF', 0.00042255221538090064)]"
      ]
     },
     "execution_count": 122,
     "metadata": {},
     "output_type": "execute_result"
    }
   ],
   "source": [
    "implist"
   ]
  },
  {
   "cell_type": "code",
   "execution_count": 123,
   "metadata": {
    "collapsed": false,
    "scrolled": false
   },
   "outputs": [],
   "source": [
    "%%capture\n",
    "fig, implist = plot_variables([(\"WHl\", \"ttHh\")])"
   ]
  },
  {
   "cell_type": "code",
   "execution_count": 124,
   "metadata": {
    "collapsed": true
   },
   "outputs": [],
   "source": [
    "impdict = {convert_varname(entry[0]): [entry[1]] for entry in implist}\n",
    "impdict[\"discriminant\"] = \"D_WHl_ttHh_ML\"\n",
    "df = df.append(pd.DataFrame.from_dict(impdict))"
   ]
  },
  {
   "cell_type": "code",
   "execution_count": 125,
   "metadata": {
    "collapsed": true
   },
   "outputs": [],
   "source": [
    "append_variables(confhandler, impdict, threshold_fscore)"
   ]
  },
  {
   "cell_type": "code",
   "execution_count": 126,
   "metadata": {
    "collapsed": false
   },
   "outputs": [
    {
     "data": {
      "text/plain": [
       "[('PFMET', 0.12519230769230769),\n",
       " ('JetPt(JetPt|0)', 0.08007692307692307),\n",
       " ('ExtraLepPt(ExtraLepPt|0)', 0.06984615384615385),\n",
       " ('ZZMass', 0.05815384615384615),\n",
       " ('nCleanedJetsPt30BTagged_bTagSF', 0.05434615384615385),\n",
       " ('JetEta(JetPt|1)', 0.04634615384615385),\n",
       " ('ZZMassErr', 0.04592307692307692),\n",
       " ('Z1Mass', 0.04553846153846154),\n",
       " ('JetPt(JetPt|1)', 0.04296153846153846),\n",
       " ('JetEta(JetPt|0)', 0.03619230769230769),\n",
       " ('ZZEta', 0.035653846153846154),\n",
       " ('Z2Mass', 0.03519230769230769),\n",
       " ('JetPhi(JetPt|0)', 0.03023076923076923),\n",
       " ('JetPt(JetPt|2)', 0.029846153846153845),\n",
       " ('ZZPt', 0.029576923076923077),\n",
       " ('Z2Pt', 0.02880769230769231),\n",
       " ('Z1Pt', 0.026115384615384617),\n",
       " ('JetPt(JetPt|3)', 0.0255),\n",
       " ('ZZPhi', 0.024384615384615383),\n",
       " ('JetEta(JetPt|2)', 0.02423076923076923),\n",
       " ('ExtraLepEta(ExtraLepPt|0)', 0.019269230769230768),\n",
       " ('JetPhi(JetPt|1)', 0.018846153846153846),\n",
       " ('nCleanedJetsPt30', 0.01603846153846154),\n",
       " ('JetEta(JetPt|3)', 0.011384615384615385),\n",
       " ('JetPhi(JetPt|2)', 0.011038461538461539),\n",
       " ('ExtraLepPhi(ExtraLepPt|0)', 0.009615384615384616),\n",
       " ('JetPhi(JetPt|3)', 0.007346153846153846),\n",
       " ('nExtraLep', 0.004846153846153846),\n",
       " ('Z1Flav', 0.004423076923076923),\n",
       " ('Z2Flav', 0.003076923076923077)]"
      ]
     },
     "execution_count": 126,
     "metadata": {},
     "output_type": "execute_result"
    }
   ],
   "source": [
    "implist"
   ]
  },
  {
   "cell_type": "code",
   "execution_count": 127,
   "metadata": {
    "collapsed": false,
    "scrolled": false
   },
   "outputs": [],
   "source": [
    "%%capture\n",
    "fig, implist = plot_variables([(\"WHl\", \"ttHl\")])"
   ]
  },
  {
   "cell_type": "code",
   "execution_count": 128,
   "metadata": {
    "collapsed": true
   },
   "outputs": [],
   "source": [
    "impdict = {convert_varname(entry[0]): [entry[1]] for entry in implist}\n",
    "impdict[\"discriminant\"] = \"D_WHl_ttHl_ML\"\n",
    "df = df.append(pd.DataFrame.from_dict(impdict))"
   ]
  },
  {
   "cell_type": "code",
   "execution_count": 129,
   "metadata": {
    "collapsed": true
   },
   "outputs": [],
   "source": [
    "append_variables(confhandler, impdict, threshold_fscore)"
   ]
  },
  {
   "cell_type": "code",
   "execution_count": 130,
   "metadata": {
    "collapsed": false
   },
   "outputs": [
    {
     "data": {
      "text/plain": [
       "[('ZZMass', 0.1277819565505951),\n",
       " ('PFMET', 0.08030618114242732),\n",
       " ('JetPt(JetPt|0)', 0.07309411088004955),\n",
       " ('ZZEta', 0.05504181230918986),\n",
       " ('ZZPt', 0.05322773328613778),\n",
       " ('JetPt(JetPt|1)', 0.04871465864342286),\n",
       " ('Z2Pt', 0.04690057962037078),\n",
       " ('nCleanedJetsPt30BTagged_bTagSF', 0.04548471306579355),\n",
       " ('JetEta(JetPt|0)', 0.044644042299013316),\n",
       " ('Z1Mass', 0.041237113402061855),\n",
       " ('Z2Mass', 0.03482146807663378),\n",
       " ('ExtraLepEta(ExtraLepPt|0)', 0.029865935135613468),\n",
       " ('JetPhi(JetPt|0)', 0.02951196849696916),\n",
       " ('JetEta(JetPt|1)', 0.0284058227512057),\n",
       " ('Z1Pt', 0.025662581301712315),\n",
       " ('ZZPhi', 0.025087385513915313),\n",
       " ('ExtraLepPt(ExtraLepPt|0)', 0.024998893854254238),\n",
       " ('ZZMassErr', 0.02318481483120216),\n",
       " ('JetPhi(JetPt|1)', 0.02318481483120216),\n",
       " ('ExtraLepPt(ExtraLepPt|1)', 0.02260961904340516),\n",
       " ('ExtraLepPhi(ExtraLepPt|0)', 0.01676916950577408),\n",
       " ('nCleanedJetsPt30', 0.01654794035662139),\n",
       " ('nExtraLep', 0.014601123844077695),\n",
       " ('JetPt(JetPt|2)', 0.01446838635458608),\n",
       " ('JetPt(JetPt|3)', 0.014114419715941772),\n",
       " ('JetEta(JetPt|2)', 0.010751736648820849),\n",
       " ('JetPhi(JetPt|2)', 0.007566036901022079),\n",
       " ('Z2Flav', 0.004734303791867616),\n",
       " ('JetEta(JetPt|3)', 0.004203353833901155),\n",
       " ('ExtraLepEta(ExtraLepPt|1)', 0.003451174726782001),\n",
       " ('nExtraZ', 0.0028317331091544623),\n",
       " ('JetPhi(JetPt|3)', 0.0024777664705101544),\n",
       " ('ExtraLepPhi(ExtraLepPt|1)', 0.0023892748108490774),\n",
       " ('Z1Flav', 0.001327374894916154)]"
      ]
     },
     "execution_count": 130,
     "metadata": {},
     "output_type": "execute_result"
    }
   ],
   "source": [
    "implist"
   ]
  },
  {
   "cell_type": "code",
   "execution_count": 131,
   "metadata": {
    "collapsed": false,
    "scrolled": false
   },
   "outputs": [],
   "source": [
    "%%capture\n",
    "fig, implist = plot_variables([(\"ZHh\", \"ZHl\")])"
   ]
  },
  {
   "cell_type": "code",
   "execution_count": 132,
   "metadata": {
    "collapsed": true
   },
   "outputs": [],
   "source": [
    "impdict = {convert_varname(entry[0]): [entry[1]] for entry in implist}\n",
    "impdict[\"discriminant\"] = \"D_ZHh_ZHl_ML\"\n",
    "df = df.append(pd.DataFrame.from_dict(impdict))"
   ]
  },
  {
   "cell_type": "code",
   "execution_count": 133,
   "metadata": {
    "collapsed": true
   },
   "outputs": [],
   "source": [
    "append_variables(confhandler, impdict, threshold_fscore)"
   ]
  },
  {
   "cell_type": "code",
   "execution_count": 134,
   "metadata": {
    "collapsed": false
   },
   "outputs": [
    {
     "data": {
      "text/plain": [
       "[('ZZMass', 0.14744227157220197),\n",
       " ('Z1Mass', 0.11103745442492542),\n",
       " ('ZZMassErr', 0.08087504143188598),\n",
       " ('PFMET', 0.0774776267815711),\n",
       " ('Z2Pt', 0.07543365373991824),\n",
       " ('Z2Mass', 0.06717489780134792),\n",
       " ('JetPt(JetPt|0)', 0.05463484697823445),\n",
       " ('ZZPt', 0.053060435311015355),\n",
       " ('ZZPhi', 0.04913821677162745),\n",
       " ('Z1Pt', 0.0440282841674953),\n",
       " ('JetPhi(JetPt|0)', 0.04121091592089272),\n",
       " ('ZZEta', 0.03488564799469672),\n",
       " ('JetEta(JetPt|0)', 0.03477516296541819),\n",
       " ('ExtraLepPt(ExtraLepPt|0)', 0.027676499834272457),\n",
       " ('nCleanedJetsPt30BTagged_bTagSF', 0.015302176555076787),\n",
       " ('JetEta(JetPt|1)', 0.013976356203734394),\n",
       " ('JetPhi(JetPt|1)', 0.009943652635067949),\n",
       " ('ExtraLepEta(ExtraLepPt|0)', 0.00961219754723235),\n",
       " ('nCleanedJetsPt30', 0.009280742459396751),\n",
       " ('ExtraLepPhi(ExtraLepPt|0)', 0.00908739365815932),\n",
       " ('Z2Flav', 0.006546237984753066),\n",
       " ('nExtraLep', 0.0064909954701138),\n",
       " ('JetPt(JetPt|1)', 0.006297646668876367),\n",
       " ('JetPhi(JetPt|2)', 0.004806098773616175),\n",
       " ('JetPt(JetPt|2)', 0.0030935808197989174),\n",
       " ('JetEta(JetPt|2)', 0.0030935808197989174),\n",
       " ('Z1Flav', 0.001463926637940559),\n",
       " ('JetEta(JetPt|3)', 0.0010219865208264281),\n",
       " ('JetPhi(JetPt|3)', 0.0009667440061871616),\n",
       " ('JetPt(JetPt|3)', 0.00016572754391779913)]"
      ]
     },
     "execution_count": 134,
     "metadata": {},
     "output_type": "execute_result"
    }
   ],
   "source": [
    "implist"
   ]
  },
  {
   "cell_type": "code",
   "execution_count": 135,
   "metadata": {
    "collapsed": false,
    "scrolled": false
   },
   "outputs": [],
   "source": [
    "%%capture\n",
    "fig, implist = plot_variables([(\"ZHh\", \"ZHMET\")])"
   ]
  },
  {
   "cell_type": "code",
   "execution_count": 136,
   "metadata": {
    "collapsed": true
   },
   "outputs": [],
   "source": [
    "impdict = {convert_varname(entry[0]): [entry[1]] for entry in implist}\n",
    "impdict[\"discriminant\"] = \"D_ZHh_ZHMET_ML\"\n",
    "df = df.append(pd.DataFrame.from_dict(impdict))"
   ]
  },
  {
   "cell_type": "code",
   "execution_count": 137,
   "metadata": {
    "collapsed": true
   },
   "outputs": [],
   "source": [
    "append_variables(confhandler, impdict, threshold_fscore)"
   ]
  },
  {
   "cell_type": "code",
   "execution_count": 138,
   "metadata": {
    "collapsed": false
   },
   "outputs": [
    {
     "data": {
      "text/plain": [
       "[('PFMET', 0.15654504225932797),\n",
       " ('ZZMass', 0.07862296433725005),\n",
       " ('ZZPt', 0.07388167388167388),\n",
       " ('JetEta(JetPt|0)', 0.0655534941249227),\n",
       " ('ZZEta', 0.06444032158317872),\n",
       " ('Z1Pt', 0.061513090084518655),\n",
       " ('Z2Pt', 0.05974025974025974),\n",
       " ('JetPt(JetPt|0)', 0.05821480107194393),\n",
       " ('ZZPhi', 0.05660688517831375),\n",
       " ('Z1Mass', 0.05042259327973614),\n",
       " ('Z2Mass', 0.043331271902700474),\n",
       " ('nCleanedJetsPt30BTagged_bTagSF', 0.03871366728509586),\n",
       " ('ZZMassErr', 0.036611008039579465),\n",
       " ('JetPhi(JetPt|0)', 0.03331271902700474),\n",
       " ('JetPt(JetPt|1)', 0.025479282622139766),\n",
       " ('JetEta(JetPt|1)', 0.020861678004535148),\n",
       " ('JetPhi(JetPt|1)', 0.020449391877963307),\n",
       " ('nCleanedJetsPt30', 0.01673881673881674),\n",
       " ('JetPt(JetPt|2)', 0.014017728303442589),\n",
       " ('JetEta(JetPt|2)', 0.006596578025149453),\n",
       " ('JetPhi(JetPt|2)', 0.00404040404040404),\n",
       " ('Z1Flav', 0.002968460111317254),\n",
       " ('JetPhi(JetPt|3)', 0.002886002886002886),\n",
       " ('ExtraLepPt(ExtraLepPt|0)', 0.002391259534116677),\n",
       " ('Z2Flav', 0.002350030921459493),\n",
       " ('JetEta(JetPt|3)', 0.0016903731189445476),\n",
       " ('nExtraLep', 0.0011131725417439704),\n",
       " ('ExtraLepEta(ExtraLepPt|0)', 0.00045351473922902497),\n",
       " ('JetPt(JetPt|3)', 0.00037105751391465676),\n",
       " ('ExtraLepPhi(ExtraLepPt|0)', 8.245722531436817e-05)]"
      ]
     },
     "execution_count": 138,
     "metadata": {},
     "output_type": "execute_result"
    }
   ],
   "source": [
    "implist"
   ]
  },
  {
   "cell_type": "code",
   "execution_count": 139,
   "metadata": {
    "collapsed": false,
    "scrolled": false
   },
   "outputs": [],
   "source": [
    "%%capture\n",
    "fig, implist = plot_variables([(\"ZHh\", \"ttHh\")])"
   ]
  },
  {
   "cell_type": "code",
   "execution_count": 140,
   "metadata": {
    "collapsed": true
   },
   "outputs": [],
   "source": [
    "impdict = {convert_varname(entry[0]): [entry[1]] for entry in implist}\n",
    "impdict[\"discriminant\"] = \"D_ZHh_ttHh_ML\"\n",
    "df = df.append(pd.DataFrame.from_dict(impdict))"
   ]
  },
  {
   "cell_type": "code",
   "execution_count": 141,
   "metadata": {
    "collapsed": true
   },
   "outputs": [],
   "source": [
    "append_variables(confhandler, impdict, threshold_fscore)"
   ]
  },
  {
   "cell_type": "code",
   "execution_count": 142,
   "metadata": {
    "collapsed": false
   },
   "outputs": [
    {
     "data": {
      "text/plain": [
       "[('nCleanedJetsPt30BTagged_bTagSF', 0.12467214547997901),\n",
       " ('JetPt(JetPt|1)', 0.09984262983038993),\n",
       " ('JetPt(JetPt|0)', 0.07623710438887918),\n",
       " ('PFMET', 0.07361426822871131),\n",
       " ('ZZPt', 0.06557090400419653),\n",
       " ('nCleanedJetsPt30', 0.06487148102815178),\n",
       " ('JetPt(JetPt|2)', 0.06224864486798391),\n",
       " ('ZZMass', 0.05175730022731247),\n",
       " ('JetPt(JetPt|3)', 0.044763070466864834),\n",
       " ('Z1Pt', 0.044238503234831264),\n",
       " ('JetEta(JetPt|2)', 0.041440811330652215),\n",
       " ('ZZEta', 0.03724427347438363),\n",
       " ('JetEta(JetPt|1)', 0.030599755201958383),\n",
       " ('ExtraLepPt(ExtraLepPt|0)', 0.022031823745410038),\n",
       " ('Z2Pt', 0.02063297779332051),\n",
       " ('Z1Mass', 0.01818499737716384),\n",
       " ('JetPhi(JetPt|3)', 0.01818499737716384),\n",
       " ('Z2Mass', 0.017835285889141458),\n",
       " ('JetEta(JetPt|0)', 0.017135862913096694),\n",
       " ('nExtraLep', 0.015212449728973596),\n",
       " ('JetPhi(JetPt|1)', 0.012065046336772163),\n",
       " ('ZZPhi', 0.010141633152649064),\n",
       " ('JetEta(JetPt|3)', 0.008742787200559538),\n",
       " ('ZZMassErr', 0.0073439412484700125),\n",
       " ('ExtraLepPhi(ExtraLepPt|0)', 0.005945095296380486),\n",
       " ('JetPhi(JetPt|0)', 0.005770239552369295),\n",
       " ('JetPhi(JetPt|2)', 0.0019234131841230984),\n",
       " ('ExtraLepEta(ExtraLepPt|0)', 0.0012239902080783353),\n",
       " ('Z1Flav', 0.0003497114880223815),\n",
       " ('Z2Flav', 0.00017485574401119076)]"
      ]
     },
     "execution_count": 142,
     "metadata": {},
     "output_type": "execute_result"
    }
   ],
   "source": [
    "implist"
   ]
  },
  {
   "cell_type": "code",
   "execution_count": 143,
   "metadata": {
    "collapsed": false,
    "scrolled": false
   },
   "outputs": [],
   "source": [
    "%%capture\n",
    "fig, implist = plot_variables([(\"ZHh\", \"ttHl\")])"
   ]
  },
  {
   "cell_type": "code",
   "execution_count": 144,
   "metadata": {
    "collapsed": true
   },
   "outputs": [],
   "source": [
    "impdict = {convert_varname(entry[0]): [entry[1]] for entry in implist}\n",
    "impdict[\"discriminant\"] = \"D_ZHh_ttHl_ML\"\n",
    "df = df.append(pd.DataFrame.from_dict(impdict))"
   ]
  },
  {
   "cell_type": "code",
   "execution_count": 145,
   "metadata": {
    "collapsed": true
   },
   "outputs": [],
   "source": [
    "append_variables(confhandler, impdict, threshold_fscore)"
   ]
  },
  {
   "cell_type": "code",
   "execution_count": 146,
   "metadata": {
    "collapsed": false
   },
   "outputs": [
    {
     "data": {
      "text/plain": [
       "[('PFMET', 0.1270892147800235),\n",
       " ('ZZMass', 0.12231743573088165),\n",
       " ('Z1Mass', 0.0596347465460814),\n",
       " ('Z2Pt', 0.05938491518225198),\n",
       " ('ZZPhi', 0.050690783720988335),\n",
       " ('ZZEta', 0.04836735203737477),\n",
       " ('ExtraLepPt(ExtraLepPt|0)', 0.047842706173333),\n",
       " ('ZZPt', 0.04669348189971769),\n",
       " ('JetPt(JetPt|0)', 0.04382042121567942),\n",
       " ('nCleanedJetsPt30BTagged_bTagSF', 0.03964823743972818),\n",
       " ('ZZMassErr', 0.03714992380143403),\n",
       " ('JetPt(JetPt|1)', 0.03350238588952457),\n",
       " ('nCleanedJetsPt30', 0.030579358932720412),\n",
       " ('JetEta(JetPt|0)', 0.028880505658680392),\n",
       " ('Z2Mass', 0.02820596097634097),\n",
       " ('JetPhi(JetPt|0)', 0.025857546156344467),\n",
       " ('Z1Pt', 0.02438354110975092),\n",
       " ('JetPt(JetPt|2)', 0.021085767107202637),\n",
       " ('JetPt(JetPt|3)', 0.017588128013590828),\n",
       " ('JetPhi(JetPt|1)', 0.015464561421040798),\n",
       " ('JetEta(JetPt|1)', 0.014989881829764908),\n",
       " ('ExtraLepEta(ExtraLepPt|0)', 0.01319109601019312),\n",
       " ('JetEta(JetPt|2)', 0.013041197191895471),\n",
       " ('ExtraLepPhi(ExtraLepPt|0)', 0.010567866689984261),\n",
       " ('JetPhi(JetPt|2)', 0.009193794188922477),\n",
       " ('JetPhi(JetPt|3)', 0.008794064006795414),\n",
       " ('JetEta(JetPt|3)', 0.008719114597646588),\n",
       " ('nExtraLep', 0.007395008369350689),\n",
       " ('Z2Flav', 0.00329777400254828),\n",
       " ('Z1Flav', 0.002623229320208859)]"
      ]
     },
     "execution_count": 146,
     "metadata": {},
     "output_type": "execute_result"
    }
   ],
   "source": [
    "implist"
   ]
  },
  {
   "cell_type": "code",
   "execution_count": 147,
   "metadata": {
    "collapsed": false,
    "scrolled": false
   },
   "outputs": [],
   "source": [
    "%%capture\n",
    "fig, implist = plot_variables([(\"ZHl\", \"ggH\")])"
   ]
  },
  {
   "cell_type": "code",
   "execution_count": 148,
   "metadata": {
    "collapsed": true
   },
   "outputs": [],
   "source": [
    "impdict = {convert_varname(entry[0]): [entry[1]] for entry in implist}\n",
    "impdict[\"discriminant\"] = \"D_ZHl_ggH_ML\"\n",
    "df = df.append(pd.DataFrame.from_dict(impdict))"
   ]
  },
  {
   "cell_type": "code",
   "execution_count": 149,
   "metadata": {
    "collapsed": true
   },
   "outputs": [],
   "source": [
    "append_variables(confhandler, impdict, threshold_fscore)"
   ]
  },
  {
   "cell_type": "code",
   "execution_count": 150,
   "metadata": {
    "collapsed": false
   },
   "outputs": [
    {
     "data": {
      "text/plain": [
       "[('ZZMass', 0.13349310460813993),\n",
       " ('Z1Mass', 0.09911425047651082),\n",
       " ('ZZMassErr', 0.07325653100123332),\n",
       " ('Z2Pt', 0.07256979482004709),\n",
       " ('ZZPt', 0.06980883507119633),\n",
       " ('PFMET', 0.06675355981612288),\n",
       " ('Z1Pt', 0.06553425271891468),\n",
       " ('Z2Mass', 0.05856878573831147),\n",
       " ('ZZEta', 0.05629835183316515),\n",
       " ('ZZPhi', 0.050566206973875996),\n",
       " ('JetEta(JetPt|0)', 0.046627985200134545),\n",
       " ('JetPt(JetPt|0)', 0.044413611391411596),\n",
       " ('JetPhi(JetPt|0)', 0.027959973091153716),\n",
       " ('ExtraLepPt(ExtraLepPt|0)', 0.02337706020854356),\n",
       " ('JetEta(JetPt|1)', 0.015122211010202937),\n",
       " ('JetPt(JetPt|1)', 0.012893822177374146),\n",
       " ('JetPhi(JetPt|1)', 0.011716560152483462),\n",
       " ('nCleanedJetsPt30', 0.01024498262137011),\n",
       " ('ExtraLepEta(ExtraLepPt|0)', 0.009712411705348133),\n",
       " ('ExtraLepPhi(ExtraLepPt|0)', 0.00766621818589528),\n",
       " ('Z2Flav', 0.00738591770377845),\n",
       " ('nCleanedJetsPt30BTagged_bTagSF', 0.005970400269088463),\n",
       " ('JetEta(JetPt|2)', 0.00594237022087678),\n",
       " ('JetPhi(JetPt|2)', 0.005591994618230743),\n",
       " ('JetPt(JetPt|2)', 0.005563964570019061),\n",
       " ('nExtraLep', 0.004442762641551743),\n",
       " ('ExtraLepPt(ExtraLepPt|1)', 0.00354580109877789),\n",
       " ('Z1Flav', 0.0028450498934858167),\n",
       " ('JetPt(JetPt|3)', 0.0017658930373360242),\n",
       " ('JetPhi(JetPt|3)', 0.0007568113017154389),\n",
       " ('JetEta(JetPt|3)', 0.0004905258437044511)]"
      ]
     },
     "execution_count": 150,
     "metadata": {},
     "output_type": "execute_result"
    }
   ],
   "source": [
    "implist"
   ]
  },
  {
   "cell_type": "code",
   "execution_count": 151,
   "metadata": {
    "collapsed": false,
    "scrolled": false
   },
   "outputs": [],
   "source": [
    "%%capture\n",
    "fig, implist = plot_variables([(\"ZHl\", \"VBF\")])"
   ]
  },
  {
   "cell_type": "code",
   "execution_count": 152,
   "metadata": {
    "collapsed": true
   },
   "outputs": [],
   "source": [
    "impdict = {convert_varname(entry[0]): [entry[1]] for entry in implist}\n",
    "impdict[\"discriminant\"] = \"D_ZHl_VBF_ML\"\n",
    "df = df.append(pd.DataFrame.from_dict(impdict))"
   ]
  },
  {
   "cell_type": "code",
   "execution_count": 153,
   "metadata": {
    "collapsed": true
   },
   "outputs": [],
   "source": [
    "append_variables(confhandler, impdict, threshold_fscore)"
   ]
  },
  {
   "cell_type": "code",
   "execution_count": 154,
   "metadata": {
    "collapsed": false
   },
   "outputs": [
    {
     "data": {
      "text/plain": [
       "[('ZZMass', 0.12303642450427767),\n",
       " ('JetEta(JetPt|0)', 0.11270708747031388),\n",
       " ('Z1Mass', 0.09659789979684684),\n",
       " ('ZZEta', 0.06606769864659932),\n",
       " ('Z2Pt', 0.05814186385876563),\n",
       " ('PFMET', 0.056911499613722855),\n",
       " ('JetPt(JetPt|0)', 0.05639646341812355),\n",
       " ('JetEta(JetPt|1)', 0.05330624624452774),\n",
       " ('ZZPt', 0.046982746287447426),\n",
       " ('Z2Mass', 0.045552090188560476),\n",
       " ('ZZMassErr', 0.04412143408967353),\n",
       " ('Z1Pt', 0.04068785945234484),\n",
       " ('ExtraLepPt(ExtraLepPt|0)', 0.029957938710692723),\n",
       " ('ZZPhi', 0.02360582563163467),\n",
       " ('JetPhi(JetPt|0)', 0.02211794328879224),\n",
       " ('ExtraLepEta(ExtraLepPt|0)', 0.01902772611519643),\n",
       " ('JetPt(JetPt|1)', 0.01671006323499957),\n",
       " ('JetEta(JetPt|2)', 0.014907436550402014),\n",
       " ('nExtraLep', 0.012646999914160633),\n",
       " ('JetPt(JetPt|2)', 0.011388022547140119),\n",
       " ('JetPhi(JetPt|1)', 0.011216343815273684),\n",
       " ('JetPhi(JetPt|2)', 0.009413717130676128),\n",
       " ('nCleanedJetsPt30BTagged_bTagSF', 0.007324959226301182),\n",
       " ('JetEta(JetPt|3)', 0.005579558785659103),\n",
       " ('Z2Flav', 0.004377807662594066),\n",
       " ('nCleanedJetsPt30', 0.0028326990757961603),\n",
       " ('JetPt(JetPt|3)', 0.0022032103922859023),\n",
       " ('ExtraLepPhi(ExtraLepPt|0)', 0.0021459841483304244),\n",
       " ('ExtraLepPt(ExtraLepPt|1)', 0.0015164954648201666),\n",
       " ('JetPhi(JetPt|3)', 0.0013162036109759935),\n",
       " ('Z1Flav', 0.0012017511230650376)]"
      ]
     },
     "execution_count": 154,
     "metadata": {},
     "output_type": "execute_result"
    }
   ],
   "source": [
    "implist"
   ]
  },
  {
   "cell_type": "code",
   "execution_count": 155,
   "metadata": {
    "collapsed": false,
    "scrolled": false
   },
   "outputs": [],
   "source": [
    "%%capture\n",
    "fig, implist = plot_variables([(\"ZHl\", \"WHh\")])"
   ]
  },
  {
   "cell_type": "code",
   "execution_count": 156,
   "metadata": {
    "collapsed": true
   },
   "outputs": [],
   "source": [
    "impdict = {convert_varname(entry[0]): [entry[1]] for entry in implist}\n",
    "impdict[\"discriminant\"] = \"D_ZHl_WHh_ML\"\n",
    "df = df.append(pd.DataFrame.from_dict(impdict))"
   ]
  },
  {
   "cell_type": "code",
   "execution_count": 157,
   "metadata": {
    "collapsed": true
   },
   "outputs": [],
   "source": [
    "append_variables(confhandler, impdict, threshold_fscore)"
   ]
  },
  {
   "cell_type": "code",
   "execution_count": 158,
   "metadata": {
    "collapsed": false
   },
   "outputs": [
    {
     "data": {
      "text/plain": [
       "[('ZZMass', 0.16506285218899003),\n",
       " ('Z1Mass', 0.12102297355873429),\n",
       " ('Z2Mass', 0.07984395318595579),\n",
       " ('PFMET', 0.07728651928912007),\n",
       " ('Z2Pt', 0.07581274382314694),\n",
       " ('ZZMassErr', 0.06970091027308192),\n",
       " ('ZZPt', 0.05739055049848288),\n",
       " ('JetPt(JetPt|0)', 0.047074122236671),\n",
       " ('ExtraLepPt(ExtraLepPt|0)', 0.04312960554833117),\n",
       " ('Z1Pt', 0.033810143042912875),\n",
       " ('JetEta(JetPt|0)', 0.032162982228001735),\n",
       " ('ZZEta', 0.024013870827915042),\n",
       " ('JetPhi(JetPt|1)', 0.023450368443866495),\n",
       " ('JetPhi(JetPt|0)', 0.018595578673602082),\n",
       " ('nCleanedJetsPt30BTagged_bTagSF', 0.01660164716081491),\n",
       " ('ZZPhi', 0.016558300823580407),\n",
       " ('JetPt(JetPt|1)', 0.014477676636324231),\n",
       " ('nExtraLep', 0.013567403554399653),\n",
       " ('JetPhi(JetPt|2)', 0.011356740355439965),\n",
       " ('ExtraLepEta(ExtraLepPt|0)', 0.008799306458604248),\n",
       " ('JetEta(JetPt|1)', 0.008322496749024707),\n",
       " ('JetEta(JetPt|2)', 0.007715648027741656),\n",
       " ('JetPhi(JetPt|3)', 0.006718682271348071),\n",
       " ('ExtraLepPt(ExtraLepPt|1)', 0.005461638491547465),\n",
       " ('JetEta(JetPt|3)', 0.0051148677936714345),\n",
       " ('ExtraLepPhi(ExtraLepPt|0)', 0.004508019072388383),\n",
       " ('Z2Flav', 0.0038144776766363244),\n",
       " ('nCleanedJetsPt30', 0.0023840485478977026),\n",
       " ('Z1Flav', 0.0023407022106631988),\n",
       " ('JetPt(JetPt|2)', 0.002167316861725184),\n",
       " ('JetPt(JetPt|3)', 0.0017338534893801473)]"
      ]
     },
     "execution_count": 158,
     "metadata": {},
     "output_type": "execute_result"
    }
   ],
   "source": [
    "implist"
   ]
  },
  {
   "cell_type": "code",
   "execution_count": 159,
   "metadata": {
    "collapsed": false,
    "scrolled": false
   },
   "outputs": [],
   "source": [
    "%%capture\n",
    "fig, implist = plot_variables([(\"ZHl\", \"ZHMET\")])"
   ]
  },
  {
   "cell_type": "code",
   "execution_count": 160,
   "metadata": {
    "collapsed": true
   },
   "outputs": [],
   "source": [
    "impdict = {convert_varname(entry[0]): [entry[1]] for entry in implist}\n",
    "impdict[\"discriminant\"] = \"D_ZHl_ZHMET_ML\"\n",
    "df = df.append(pd.DataFrame.from_dict(impdict))"
   ]
  },
  {
   "cell_type": "code",
   "execution_count": 161,
   "metadata": {
    "collapsed": true
   },
   "outputs": [],
   "source": [
    "append_variables(confhandler, impdict, threshold_fscore)"
   ]
  },
  {
   "cell_type": "code",
   "execution_count": 162,
   "metadata": {
    "collapsed": false
   },
   "outputs": [
    {
     "data": {
      "text/plain": [
       "[('ZZMass', 0.16701819140522015),\n",
       " ('PFMET', 0.1255822128482292),\n",
       " ('Z1Mass', 0.1125318569294314),\n",
       " ('Z2Pt', 0.09662536250988664),\n",
       " ('Z2Mass', 0.0732489673960805),\n",
       " ('ZZPt', 0.06059407680815537),\n",
       " ('Z1Pt', 0.04728007733544248),\n",
       " ('JetPt(JetPt|0)', 0.04635732489673961),\n",
       " ('ZZMassErr', 0.04508304771948326),\n",
       " ('ExtraLepPt(ExtraLepPt|0)', 0.03752526584058353),\n",
       " ('JetEta(JetPt|1)', 0.03181298883908955),\n",
       " ('ZZEta', 0.02412338518323227),\n",
       " ('JetEta(JetPt|0)', 0.019729325951313825),\n",
       " ('JetPhi(JetPt|0)', 0.019026276474206873),\n",
       " ('JetPhi(JetPt|1)', 0.016521662712013357),\n",
       " ('nCleanedJetsPt30', 0.015291326127076193),\n",
       " ('ZZPhi', 0.015247385534757008),\n",
       " ('JetPt(JetPt|1)', 0.009886633271816504),\n",
       " ('JetPt(JetPt|2)', 0.007294138324984621),\n",
       " ('nExtraLep', 0.006547148255558485),\n",
       " ('ExtraLepEta(ExtraLepPt|0)', 0.006195623517005009),\n",
       " ('Z2Flav', 0.006195623517005009),\n",
       " ('nCleanedJetsPt30BTagged_bTagSF', 0.0036470691624923106),\n",
       " ('Z1Flav', 0.002504613762193514),\n",
       " ('JetEta(JetPt|2)', 0.0020652078390016697),\n",
       " ('JetPt(JetPt|3)', 0.0010545742156604272),\n",
       " ('ExtraLepPhi(ExtraLepPt|1)', 0.0007030494771069514),\n",
       " ('ExtraLepPhi(ExtraLepPt|0)', 0.0002636435539151068),\n",
       " ('JetEta(JetPt|3)', 4.394059231918446e-05)]"
      ]
     },
     "execution_count": 162,
     "metadata": {},
     "output_type": "execute_result"
    }
   ],
   "source": [
    "implist"
   ]
  },
  {
   "cell_type": "code",
   "execution_count": 163,
   "metadata": {
    "collapsed": false,
    "scrolled": false
   },
   "outputs": [],
   "source": [
    "%%capture\n",
    "fig, implist = plot_variables([(\"ZHl\", \"ttHh\")])"
   ]
  },
  {
   "cell_type": "code",
   "execution_count": 164,
   "metadata": {
    "collapsed": true
   },
   "outputs": [],
   "source": [
    "impdict = {convert_varname(entry[0]): [entry[1]] for entry in implist}\n",
    "impdict[\"discriminant\"] = \"D_ZHl_ttHh_ML\"\n",
    "df = df.append(pd.DataFrame.from_dict(impdict))"
   ]
  },
  {
   "cell_type": "code",
   "execution_count": 165,
   "metadata": {
    "collapsed": true
   },
   "outputs": [],
   "source": [
    "append_variables(confhandler, impdict, threshold_fscore)"
   ]
  },
  {
   "cell_type": "code",
   "execution_count": 166,
   "metadata": {
    "collapsed": false
   },
   "outputs": [
    {
     "data": {
      "text/plain": [
       "[('ZZMass', 0.12045838614279679),\n",
       " ('Z1Mass', 0.08034959864807774),\n",
       " ('JetPt(JetPt|0)', 0.07419729615547106),\n",
       " ('Z2Pt', 0.07213772708069285),\n",
       " ('Z2Mass', 0.06582699619771863),\n",
       " ('JetPt(JetPt|1)', 0.04892796789184622),\n",
       " ('PFMET', 0.0470532319391635),\n",
       " ('nCleanedJetsPt30BTagged_bTagSF', 0.04517849598648078),\n",
       " ('ZZMassErr', 0.04401668779045205),\n",
       " ('ZZPt', 0.03165927334178285),\n",
       " ('JetPhi(JetPt|0)', 0.030022179974651456),\n",
       " ('JetEta(JetPt|1)', 0.029256442754541614),\n",
       " ('JetPhi(JetPt|1)', 0.02764575411913815),\n",
       " ('JetPt(JetPt|2)', 0.027328897338403043),\n",
       " ('ExtraLepPt(ExtraLepPt|0)', 0.026563160118293197),\n",
       " ('Z1Pt', 0.025797422898183354),\n",
       " ('JetEta(JetPt|0)', 0.024926066751161807),\n",
       " ('JetPt(JetPt|3)', 0.024688424165610477),\n",
       " ('ZZPhi', 0.02315694972539079),\n",
       " ('JetPhi(JetPt|2)', 0.022470426700464723),\n",
       " ('ZZEta', 0.020146810308407266),\n",
       " ('ExtraLepEta(ExtraLepPt|0)', 0.0194602872834812),\n",
       " ('JetEta(JetPt|2)', 0.013994507815800592),\n",
       " ('JetPhi(JetPt|3)', 0.013070342205323195),\n",
       " ('ExtraLepPhi(ExtraLepPt|0)', 0.010377059569074778),\n",
       " ('nCleanedJetsPt30', 0.00940008449514153),\n",
       " ('JetEta(JetPt|3)', 0.007683776932826363),\n",
       " ('nExtraLep', 0.004251161808196029),\n",
       " ('Z1Flav', 0.0039871144909167724),\n",
       " ('ExtraLepPt(ExtraLepPt|1)', 0.0032213772708069286),\n",
       " ('Z2Flav', 0.00266687790452049),\n",
       " ('nExtraZ', 7.921419518377693e-05)]"
      ]
     },
     "execution_count": 166,
     "metadata": {},
     "output_type": "execute_result"
    }
   ],
   "source": [
    "implist"
   ]
  },
  {
   "cell_type": "code",
   "execution_count": 167,
   "metadata": {
    "collapsed": false,
    "scrolled": false
   },
   "outputs": [],
   "source": [
    "%%capture\n",
    "fig, implist = plot_variables([(\"ZHl\", \"ttHl\")])"
   ]
  },
  {
   "cell_type": "code",
   "execution_count": 168,
   "metadata": {
    "collapsed": true
   },
   "outputs": [],
   "source": [
    "impdict = {convert_varname(entry[0]): [entry[1]] for entry in implist}\n",
    "impdict[\"discriminant\"] = \"D_ZHl_ttHl_ML\"\n",
    "df = df.append(pd.DataFrame.from_dict(impdict))"
   ]
  },
  {
   "cell_type": "code",
   "execution_count": 169,
   "metadata": {
    "collapsed": true
   },
   "outputs": [],
   "source": [
    "append_variables(confhandler, impdict, threshold_fscore)"
   ]
  },
  {
   "cell_type": "code",
   "execution_count": 170,
   "metadata": {
    "collapsed": false
   },
   "outputs": [
    {
     "data": {
      "text/plain": [
       "[('PFMET', 0.10034639338083529),\n",
       " ('Z2Mass', 0.0868675628623221),\n",
       " ('Z1Mass', 0.08629323186819103),\n",
       " ('Z1Pt', 0.06929662401062513),\n",
       " ('JetPt(JetPt|0)', 0.06707109140836728),\n",
       " ('Z2Pt', 0.06209953874042034),\n",
       " ('ZZMass', 0.05888687474199975),\n",
       " ('ZZPt', 0.053628156576987274),\n",
       " ('ZZEta', 0.0440081124252921),\n",
       " ('ZZPhi', 0.03810327189188219),\n",
       " ('JetEta(JetPt|0)', 0.03655975734515498),\n",
       " ('JetPt(JetPt|1)', 0.032306118419871854),\n",
       " ('ZZMassErr', 0.02898576736005169),\n",
       " ('JetPhi(JetPt|0)', 0.02763967909255703),\n",
       " ('nCleanedJetsPt30BTagged_bTagSF', 0.021322038157115423),\n",
       " ('JetEta(JetPt|1)', 0.020245167543119693),\n",
       " ('ExtraLepPt(ExtraLepPt|0)', 0.018934974962758224),\n",
       " ('JetPhi(JetPt|1)', 0.016601755299100813),\n",
       " ('JetPt(JetPt|2)', 0.014124952886910638),\n",
       " ('nExtraZ', 0.012994238742215123),\n",
       " ('JetEta(JetPt|2)', 0.012473751278783854),\n",
       " ('ExtraLepEta(ExtraLepPt|0)', 0.012258377155984709),\n",
       " ('nExtraLep', 0.011989159502485776),\n",
       " ('ExtraLepPhi(ExtraLepPt|0)', 0.01137893282122153),\n",
       " ('JetPhi(JetPt|2)', 0.010661019078557711),\n",
       " ('nCleanedJetsPt30', 0.007861155482168817),\n",
       " ('ExtraLepPt(ExtraLepPt|1)', 0.0077534684207692444),\n",
       " ('JetPt(JetPt|3)', 0.007125293895938403),\n",
       " ('JetEta(JetPt|3)', 0.006766337024606494),\n",
       " ('ExtraLepEta(ExtraLepPt|1)', 0.004863865606547373),\n",
       " ('JetPhi(JetPt|3)', 0.0029075506577884666),\n",
       " ('Z1Flav', 0.0028178114399554895),\n",
       " ('ExtraLepPhi(ExtraLepPt|1)', 0.002763967909255703),\n",
       " ('Z2Flav', 0.0020640020101584796)]"
      ]
     },
     "execution_count": 170,
     "metadata": {},
     "output_type": "execute_result"
    }
   ],
   "source": [
    "implist"
   ]
  },
  {
   "cell_type": "code",
   "execution_count": 171,
   "metadata": {
    "collapsed": false,
    "scrolled": false
   },
   "outputs": [],
   "source": [
    "%%capture\n",
    "fig, implist = plot_variables([(\"ZHMET\", \"ggH\")])"
   ]
  },
  {
   "cell_type": "code",
   "execution_count": 172,
   "metadata": {
    "collapsed": true
   },
   "outputs": [],
   "source": [
    "impdict = {convert_varname(entry[0]): [entry[1]] for entry in implist}\n",
    "impdict[\"discriminant\"] = \"D_ZHMET_ggH_ML\"\n",
    "df = df.append(pd.DataFrame.from_dict(impdict))"
   ]
  },
  {
   "cell_type": "code",
   "execution_count": 173,
   "metadata": {
    "collapsed": true
   },
   "outputs": [],
   "source": [
    "append_variables(confhandler, impdict, threshold_fscore)"
   ]
  },
  {
   "cell_type": "code",
   "execution_count": 174,
   "metadata": {
    "collapsed": false
   },
   "outputs": [
    {
     "data": {
      "text/plain": [
       "[('ZZPt', 0.15190525231719876),\n",
       " ('PFMET', 0.14830072090628219),\n",
       " ('ZZPhi', 0.07695908622788128),\n",
       " ('JetPt(JetPt|0)', 0.07283962175826234),\n",
       " ('ZZMass', 0.06965639921355678),\n",
       " ('Z1Pt', 0.06726898230502762),\n",
       " ('Z2Pt', 0.06436663233779609),\n",
       " ('ZZEta', 0.058374684018350345),\n",
       " ('Z2Mass', 0.056970321130980245),\n",
       " ('ZZMassErr', 0.0548637767999251),\n",
       " ('Z1Mass', 0.05102518490778017),\n",
       " ('JetEta(JetPt|0)', 0.03890085198015167),\n",
       " ('JetPhi(JetPt|0)', 0.028227694036138937),\n",
       " ('JetPt(JetPt|1)', 0.013950004681209625),\n",
       " ('nCleanedJetsPt30', 0.011468963580189121),\n",
       " ('JetEta(JetPt|1)', 0.010813594232749742),\n",
       " ('JetPhi(JetPt|1)', 0.007302687014324501),\n",
       " ('Z2Flav', 0.004681209624566988),\n",
       " ('JetPt(JetPt|2)', 0.00383859189214493),\n",
       " ('nCleanedJetsPt30BTagged_bTagSF', 0.002481041101020504),\n",
       " ('Z1Flav', 0.0020597322348094747),\n",
       " ('JetEta(JetPt|2)', 0.0018724838498267952),\n",
       " ('JetPhi(JetPt|2)', 0.0008426177324220578),\n",
       " ('JetPhi(JetPt|3)', 0.0005149330587023687),\n",
       " ('JetPt(JetPt|3)', 0.0004213088662110289),\n",
       " ('nExtraLep', 4.681209624566988e-05),\n",
       " ('ExtraLepPhi(ExtraLepPt|0)', 4.681209624566988e-05)]"
      ]
     },
     "execution_count": 174,
     "metadata": {},
     "output_type": "execute_result"
    }
   ],
   "source": [
    "implist"
   ]
  },
  {
   "cell_type": "code",
   "execution_count": 175,
   "metadata": {
    "collapsed": false,
    "scrolled": false
   },
   "outputs": [],
   "source": [
    "%%capture\n",
    "fig, implist = plot_variables([(\"ZHMET\", \"VBF\")])"
   ]
  },
  {
   "cell_type": "code",
   "execution_count": 176,
   "metadata": {
    "collapsed": true
   },
   "outputs": [],
   "source": [
    "impdict = {convert_varname(entry[0]): [entry[1]] for entry in implist}\n",
    "impdict[\"discriminant\"] = \"D_ZHMET_VBF_ML\"\n",
    "df = df.append(pd.DataFrame.from_dict(impdict))"
   ]
  },
  {
   "cell_type": "code",
   "execution_count": 177,
   "metadata": {
    "collapsed": true
   },
   "outputs": [],
   "source": [
    "append_variables(confhandler, impdict, threshold_fscore)"
   ]
  },
  {
   "cell_type": "code",
   "execution_count": 178,
   "metadata": {
    "collapsed": false
   },
   "outputs": [
    {
     "data": {
      "text/plain": [
       "[('JetEta(JetPt|0)', 0.14048227347495887),\n",
       " ('PFMET', 0.13936233507157106),\n",
       " ('ZZPt', 0.08567528785916774),\n",
       " ('JetPt(JetPt|0)', 0.07850068246246457),\n",
       " ('ZZMass', 0.06884121373324467),\n",
       " ('Z1Pt', 0.06082665453400063),\n",
       " ('JetEta(JetPt|1)', 0.05960172190529521),\n",
       " ('ZZEta', 0.05659188744619046),\n",
       " ('ZZPhi', 0.04766737829419382),\n",
       " ('Z2Mass', 0.043677597732124734),\n",
       " ('ZZMassErr', 0.04213768242746649),\n",
       " ('Z1Mass', 0.0386028768417737),\n",
       " ('Z2Pt', 0.03629300388478634),\n",
       " ('JetPhi(JetPt|0)', 0.03296818674972876),\n",
       " ('JetPt(JetPt|1)', 0.019388933608651526),\n",
       " ('JetPhi(JetPt|1)', 0.01648409337486438),\n",
       " ('JetPhi(JetPt|2)', 0.008644524551149687),\n",
       " ('nCleanedJetsPt30BTagged_bTagSF', 0.00636964966926819),\n",
       " ('JetEta(JetPt|2)', 0.005704686242256676),\n",
       " ('nCleanedJetsPt30', 0.004619745913974732),\n",
       " ('Z2Flav', 0.0024498652574108425),\n",
       " ('JetPt(JetPt|2)', 0.0022398768067756272),\n",
       " ('Z1Flav', 0.0020648864312462815),\n",
       " ('JetEta(JetPt|3)', 0.000804955727434991)]"
      ]
     },
     "execution_count": 178,
     "metadata": {},
     "output_type": "execute_result"
    }
   ],
   "source": [
    "implist"
   ]
  },
  {
   "cell_type": "code",
   "execution_count": 179,
   "metadata": {
    "collapsed": false,
    "scrolled": false
   },
   "outputs": [],
   "source": [
    "%%capture\n",
    "fig, implist = plot_variables([(\"ZHMET\", \"WHh\")])"
   ]
  },
  {
   "cell_type": "code",
   "execution_count": 180,
   "metadata": {
    "collapsed": true
   },
   "outputs": [],
   "source": [
    "impdict = {convert_varname(entry[0]): [entry[1]] for entry in implist}\n",
    "impdict[\"discriminant\"] = \"D_ZHMET_WHh_ML\"\n",
    "df = df.append(pd.DataFrame.from_dict(impdict))"
   ]
  },
  {
   "cell_type": "code",
   "execution_count": 181,
   "metadata": {
    "collapsed": true
   },
   "outputs": [],
   "source": [
    "append_variables(confhandler, impdict, threshold_fscore)"
   ]
  },
  {
   "cell_type": "code",
   "execution_count": 182,
   "metadata": {
    "collapsed": false
   },
   "outputs": [
    {
     "data": {
      "text/plain": [
       "[('PFMET', 0.1514353016329301),\n",
       " ('ZZPt', 0.09003074220465525),\n",
       " ('ZZEta', 0.07066714576595999),\n",
       " ('ZZMass', 0.06847127400487084),\n",
       " ('JetPt(JetPt|0)', 0.06639517706711383),\n",
       " ('JetEta(JetPt|0)', 0.06515750389268175),\n",
       " ('Z1Pt', 0.06419930530602468),\n",
       " ('ZZPhi', 0.05876951331496786),\n",
       " ('Z2Pt', 0.05493671896833952),\n",
       " ('ZZMassErr', 0.05333972132391105),\n",
       " ('Z2Mass', 0.04771030462730067),\n",
       " ('Z1Mass', 0.0461133069828722),\n",
       " ('JetPhi(JetPt|0)', 0.03880704275961193),\n",
       " ('JetPt(JetPt|1)', 0.03281830159300515),\n",
       " ('JetPhi(JetPt|1)', 0.02171916796422725),\n",
       " ('nCleanedJetsPt30', 0.017886373617598914),\n",
       " ('JetEta(JetPt|1)', 0.01373417974208488),\n",
       " ('JetPt(JetPt|2)', 0.010699884217670779),\n",
       " ('JetPhi(JetPt|2)', 0.006028666107717491),\n",
       " ('JetPt(JetPt|3)', 0.005988741166606779),\n",
       " ('Z2Flav', 0.004910767756617559),\n",
       " ('Z1Flav', 0.003912644228849763),\n",
       " ('JetEta(JetPt|2)', 0.003792869405517627),\n",
       " ('nCleanedJetsPt30BTagged_bTagSF', 0.0009581985866570847),\n",
       " ('JetEta(JetPt|3)', 0.0008384237633249491),\n",
       " ('JetPhi(JetPt|3)', 0.0006787239988821016)]"
      ]
     },
     "execution_count": 182,
     "metadata": {},
     "output_type": "execute_result"
    }
   ],
   "source": [
    "implist"
   ]
  },
  {
   "cell_type": "code",
   "execution_count": 183,
   "metadata": {
    "collapsed": false,
    "scrolled": false
   },
   "outputs": [],
   "source": [
    "%%capture\n",
    "fig, implist = plot_variables([(\"ZHMET\", \"ttHh\")])"
   ]
  },
  {
   "cell_type": "code",
   "execution_count": 184,
   "metadata": {
    "collapsed": true
   },
   "outputs": [],
   "source": [
    "impdict = {convert_varname(entry[0]): [entry[1]] for entry in implist}\n",
    "impdict[\"discriminant\"] = \"D_ZHMET_ttHh_ML\"\n",
    "df = df.append(pd.DataFrame.from_dict(impdict))"
   ]
  },
  {
   "cell_type": "code",
   "execution_count": 185,
   "metadata": {
    "collapsed": true
   },
   "outputs": [],
   "source": [
    "append_variables(confhandler, impdict, threshold_fscore)"
   ]
  },
  {
   "cell_type": "code",
   "execution_count": 186,
   "metadata": {
    "collapsed": false
   },
   "outputs": [
    {
     "data": {
      "text/plain": [
       "[('PFMET', 0.21936131081758903),\n",
       " ('JetPt(JetPt|0)', 0.09530178899849523),\n",
       " ('nCleanedJetsPt30BTagged_bTagSF', 0.0877779635512456),\n",
       " ('ZZMass', 0.06520648720949673),\n",
       " ('JetPt(JetPt|1)', 0.05952181909379702),\n",
       " ('JetEta(JetPt|0)', 0.0540043470991473),\n",
       " ('nCleanedJetsPt30', 0.05300117037284735),\n",
       " ('JetPt(JetPt|2)', 0.050660424678147464),\n",
       " ('JetPt(JetPt|3)', 0.035779969904698214),\n",
       " ('ExtraLepPt(ExtraLepPt|0)', 0.030931282394248454),\n",
       " ('ZZPt', 0.024076241431198797),\n",
       " ('ZZEta', 0.023909045310148806),\n",
       " ('Z2Pt', 0.022738672462798863),\n",
       " ('Z2Mass', 0.021735495736498914),\n",
       " ('JetEta(JetPt|1)', 0.02123390737334894),\n",
       " ('Z1Pt', 0.02023073064704899),\n",
       " ('Z1Mass', 0.019227553920749037),\n",
       " ('ZZPhi', 0.01822437719444909),\n",
       " ('JetPhi(JetPt|0)', 0.018057181073399098),\n",
       " ('ZZMassErr', 0.017555592710249122),\n",
       " ('JetEta(JetPt|2)', 0.016886808226049155),\n",
       " ('JetPhi(JetPt|1)', 0.007691021568299616),\n",
       " ('Z2Flav', 0.007356629326199632),\n",
       " ('ExtraLepPhi(ExtraLepPt|0)', 0.0051830797525497406),\n",
       " ('JetPhi(JetPt|3)', 0.0021735495736498914),\n",
       " ('JetEta(JetPt|3)', 0.001839157331549908),\n",
       " ('JetPhi(JetPt|2)', 0.00033439224209998327)]"
      ]
     },
     "execution_count": 186,
     "metadata": {},
     "output_type": "execute_result"
    }
   ],
   "source": [
    "implist"
   ]
  },
  {
   "cell_type": "code",
   "execution_count": 187,
   "metadata": {
    "collapsed": false,
    "scrolled": false
   },
   "outputs": [],
   "source": [
    "%%capture\n",
    "fig, implist = plot_variables([(\"ZHMET\", \"ttHl\")])"
   ]
  },
  {
   "cell_type": "code",
   "execution_count": 188,
   "metadata": {
    "collapsed": true
   },
   "outputs": [],
   "source": [
    "impdict = {convert_varname(entry[0]): [entry[1]] for entry in implist}\n",
    "impdict[\"discriminant\"] = \"D_ZHMET_ttHl_ML\"\n",
    "df = df.append(pd.DataFrame.from_dict(impdict))"
   ]
  },
  {
   "cell_type": "code",
   "execution_count": 189,
   "metadata": {
    "collapsed": true
   },
   "outputs": [],
   "source": [
    "append_variables(confhandler, impdict, threshold_fscore)"
   ]
  },
  {
   "cell_type": "code",
   "execution_count": 190,
   "metadata": {
    "collapsed": false
   },
   "outputs": [
    {
     "data": {
      "text/plain": [
       "[('ZZMass', 0.2171469111547697),\n",
       " ('PFMET', 0.08366077275703995),\n",
       " ('Z1Mass', 0.07023575638506876),\n",
       " ('JetPt(JetPt|0)', 0.0504256712508186),\n",
       " ('Z2Mass', 0.04927963326784545),\n",
       " ('nCleanedJetsPt30', 0.04911591355599214),\n",
       " ('ExtraLepPt(ExtraLepPt|0)', 0.04595066579349487),\n",
       " ('ZZEta', 0.04480462781052172),\n",
       " ('nExtraLep', 0.041803099759877754),\n",
       " ('JetPt(JetPt|3)', 0.04060248853962017),\n",
       " ('JetEta(JetPt|0)', 0.03623662955686531),\n",
       " ('Z2Pt', 0.03487229862475442),\n",
       " ('Z1Pt', 0.03137961143855054),\n",
       " ('ZZMassErr', 0.02941497489631085),\n",
       " ('JetPt(JetPt|1)', 0.025267408862693734),\n",
       " ('ZZPt', 0.022975332896747434),\n",
       " ('JetPhi(JetPt|0)', 0.02281161318489413),\n",
       " ('ZZPhi', 0.021283562540929928),\n",
       " ('nCleanedJetsPt30BTagged_bTagSF', 0.020792403405370006),\n",
       " ('JetPt(JetPt|2)', 0.01413446845666885),\n",
       " ('JetEta(JetPt|2)', 0.009495743287491814),\n",
       " ('JetEta(JetPt|1)', 0.009277450338354072),\n",
       " ('ExtraLepEta(ExtraLepPt|0)', 0.008185985592665358),\n",
       " ('JetPhi(JetPt|1)', 0.008185985592665358),\n",
       " ('Z2Flav', 0.004365858982754857),\n",
       " ('JetPhi(JetPt|2)', 0.002892381576075093),\n",
       " ('ExtraLepPhi(ExtraLepPt|0)', 0.0026195153896529143),\n",
       " ('ExtraLepPhi(ExtraLepPt|1)', 0.0012551844575420213),\n",
       " ('JetPhi(JetPt|3)', 0.0008185985592665357),\n",
       " ('ExtraLepEta(ExtraLepPt|1)', 0.0003274394237066143),\n",
       " ('JetEta(JetPt|3)', 0.0003274394237066143),\n",
       " ('Z1Flav', 5.457323728443571e-05)]"
      ]
     },
     "execution_count": 190,
     "metadata": {},
     "output_type": "execute_result"
    }
   ],
   "source": [
    "implist"
   ]
  },
  {
   "cell_type": "code",
   "execution_count": 191,
   "metadata": {
    "collapsed": false,
    "scrolled": false
   },
   "outputs": [],
   "source": [
    "%%capture\n",
    "fig, implist = plot_variables([(\"ttHh\", \"ggH\")])"
   ]
  },
  {
   "cell_type": "code",
   "execution_count": 192,
   "metadata": {
    "collapsed": true
   },
   "outputs": [],
   "source": [
    "impdict = {convert_varname(entry[0]): [entry[1]] for entry in implist}\n",
    "impdict[\"discriminant\"] = \"D_ttHh_ggH_ML\"\n",
    "df = df.append(pd.DataFrame.from_dict(impdict))"
   ]
  },
  {
   "cell_type": "code",
   "execution_count": 193,
   "metadata": {
    "collapsed": true
   },
   "outputs": [],
   "source": [
    "append_variables(confhandler, impdict, threshold_fscore)"
   ]
  },
  {
   "cell_type": "code",
   "execution_count": 194,
   "metadata": {
    "collapsed": false
   },
   "outputs": [
    {
     "data": {
      "text/plain": [
       "[('JetEta(JetPt|0)', 0.08755695263659803),\n",
       " ('JetEta(JetPt|1)', 0.08335393635432486),\n",
       " ('JetPt(JetPt|0)', 0.07982198989863314),\n",
       " ('PFMET', 0.06689506587080139),\n",
       " ('ZZMass', 0.061809062974605304),\n",
       " ('ZZPt', 0.06149118779359305),\n",
       " ('JetPt(JetPt|1)', 0.06014904814043019),\n",
       " ('Z1Pt', 0.05068343163917635),\n",
       " ('nCleanedJetsPt30BTagged_bTagSF', 0.049800445025253416),\n",
       " ('JetPt(JetPt|2)', 0.04121781513792251),\n",
       " ('JetPhi(JetPt|0)', 0.03782714654045845),\n",
       " ('ZZEta', 0.037120757249320104),\n",
       " ('JetEta(JetPt|2)', 0.031787518101225584),\n",
       " ('JetPt(JetPt|3)', 0.029633030763253628),\n",
       " ('ZZPhi', 0.028997280401229116),\n",
       " ('Z2Pt', 0.028326210574647688),\n",
       " ('Z1Mass', 0.025182778229082048),\n",
       " ('JetPhi(JetPt|1)', 0.024335111079716032),\n",
       " ('Z2Mass', 0.021121039805036556),\n",
       " ('ZZMassErr', 0.021015081411365804),\n",
       " ('nCleanedJetsPt30', 0.016423551018966552),\n",
       " ('JetEta(JetPt|3)', 0.014657577791120686),\n",
       " ('JetPhi(JetPt|2)', 0.010454561508847526),\n",
       " ('ExtraLepPt(ExtraLepPt|0)', 0.006357503620245117),\n",
       " ('JetPhi(JetPt|3)', 0.005509836470879101),\n",
       " ('nExtraLep', 0.005086002896196094),\n",
       " ('Z1Flav', 0.0038145021721470705),\n",
       " ('Z2Flav', 0.0036025853848055665),\n",
       " ('ExtraLepEta(ExtraLepPt|0)', 0.00342598806202098),\n",
       " ('ExtraLepPhi(ExtraLepPt|0)', 0.002543001448098047)]"
      ]
     },
     "execution_count": 194,
     "metadata": {},
     "output_type": "execute_result"
    }
   ],
   "source": [
    "implist"
   ]
  },
  {
   "cell_type": "code",
   "execution_count": 195,
   "metadata": {
    "collapsed": false,
    "scrolled": false
   },
   "outputs": [],
   "source": [
    "%%capture\n",
    "fig, implist = plot_variables([(\"ttHh\", \"VBF\")])"
   ]
  },
  {
   "cell_type": "code",
   "execution_count": 196,
   "metadata": {
    "collapsed": true
   },
   "outputs": [],
   "source": [
    "impdict = {convert_varname(entry[0]): [entry[1]] for entry in implist}\n",
    "impdict[\"discriminant\"] = \"D_ttHh_VBF_ML\"\n",
    "df = df.append(pd.DataFrame.from_dict(impdict))"
   ]
  },
  {
   "cell_type": "code",
   "execution_count": 197,
   "metadata": {
    "collapsed": true
   },
   "outputs": [],
   "source": [
    "append_variables(confhandler, impdict, threshold_fscore)"
   ]
  },
  {
   "cell_type": "code",
   "execution_count": 198,
   "metadata": {
    "collapsed": false
   },
   "outputs": [
    {
     "data": {
      "text/plain": [
       "[('JetEta(JetPt|0)', 0.15609767868346122),\n",
       " ('JetEta(JetPt|1)', 0.1453597799334009),\n",
       " ('JetEta(JetPt|2)', 0.08155977028135708),\n",
       " ('JetPt(JetPt|0)', 0.04965976545533517),\n",
       " ('PFMET', 0.04314463587664688),\n",
       " ('ZZMass', 0.04268616379518363),\n",
       " ('ZZEta', 0.04082814535977993),\n",
       " ('JetPt(JetPt|1)', 0.0383910042951595),\n",
       " ('JetPt(JetPt|2)', 0.033975194247381886),\n",
       " ('nCleanedJetsPt30BTagged_bTagSF', 0.029848945514212636),\n",
       " ('Z1Pt', 0.02963177452825636),\n",
       " ('JetPhi(JetPt|1)', 0.028497659379373583),\n",
       " ('Z2Mass', 0.028449399160272188),\n",
       " ('ZZMassErr', 0.02524009459002944),\n",
       " ('JetPt(JetPt|3)', 0.025071183823174557),\n",
       " ('JetPhi(JetPt|0)', 0.024347280536653637),\n",
       " ('Z1Mass', 0.023719897688335503),\n",
       " ('JetEta(JetPt|3)', 0.023695767578784808),\n",
       " ('ZZPt', 0.023237295497321557),\n",
       " ('ZZPhi', 0.021934269581583902),\n",
       " ('nCleanedJetsPt30', 0.021258626514164373),\n",
       " ('Z2Pt', 0.020076251146180203),\n",
       " ('JetPhi(JetPt|2)', 0.013175039814680758),\n",
       " ('ExtraLepPt(ExtraLepPt|0)', 0.007914675932628734),\n",
       " ('JetPhi(JetPt|3)', 0.007335553303411998),\n",
       " ('ExtraLepPhi(ExtraLepPt|0)', 0.004415810047777617),\n",
       " ('ExtraLepEta(ExtraLepPt|0)', 0.003860817528111578),\n",
       " ('nExtraLep', 0.002823222817431591),\n",
       " ('Z2Flav', 0.002002799092707881),\n",
       " ('Z1Flav', 0.0017614979972009072)]"
      ]
     },
     "execution_count": 198,
     "metadata": {},
     "output_type": "execute_result"
    }
   ],
   "source": [
    "implist"
   ]
  },
  {
   "cell_type": "code",
   "execution_count": 199,
   "metadata": {
    "collapsed": false,
    "scrolled": false
   },
   "outputs": [],
   "source": [
    "%%capture\n",
    "fig, implist = plot_variables([(\"ttHh\", \"WHh\")])"
   ]
  },
  {
   "cell_type": "code",
   "execution_count": 200,
   "metadata": {
    "collapsed": true
   },
   "outputs": [],
   "source": [
    "impdict = {convert_varname(entry[0]): [entry[1]] for entry in implist}\n",
    "impdict[\"discriminant\"] = \"D_ttHh_WHh_ML\"\n",
    "df = df.append(pd.DataFrame.from_dict(impdict))"
   ]
  },
  {
   "cell_type": "code",
   "execution_count": 201,
   "metadata": {
    "collapsed": true
   },
   "outputs": [],
   "source": [
    "append_variables(confhandler, impdict, threshold_fscore)"
   ]
  },
  {
   "cell_type": "code",
   "execution_count": 202,
   "metadata": {
    "collapsed": false
   },
   "outputs": [
    {
     "data": {
      "text/plain": [
       "[('PFMET', 0.07829557157569517),\n",
       " ('JetPt(JetPt|0)', 0.0782183316168898),\n",
       " ('JetPt(JetPt|1)', 0.06954170957775489),\n",
       " ('ZZPt', 0.06220391349124614),\n",
       " ('ZZMass', 0.059500514933058704),\n",
       " ('Z1Pt', 0.05682286302780638),\n",
       " ('JetEta(JetPt|0)', 0.0493048403707518),\n",
       " ('nCleanedJetsPt30BTagged_bTagSF', 0.04338311019567456),\n",
       " ('JetPhi(JetPt|1)', 0.04111740473738414),\n",
       " ('ZZEta', 0.04026776519052523),\n",
       " ('JetEta(JetPt|1)', 0.038568486096807415),\n",
       " ('ZZMassErr', 0.038233779608650875),\n",
       " ('Z2Pt', 0.03748712667353244),\n",
       " ('JetPhi(JetPt|0)', 0.03532440782698249),\n",
       " ('JetPt(JetPt|2)', 0.0349124613800206),\n",
       " ('ZZPhi', 0.033522142121524205),\n",
       " ('Z2Mass', 0.030844490216271885),\n",
       " ('JetEta(JetPt|2)', 0.026390319258496397),\n",
       " ('Z1Mass', 0.026261585993820804),\n",
       " ('JetPt(JetPt|3)', 0.02219361483007209),\n",
       " ('JetEta(JetPt|3)', 0.021652935118434604),\n",
       " ('nCleanedJetsPt30', 0.019773429454170956),\n",
       " ('JetPhi(JetPt|2)', 0.018202883625128733),\n",
       " ('JetPhi(JetPt|3)', 0.009732234809474768),\n",
       " ('ExtraLepPt(ExtraLepPt|0)', 0.00854788877445932),\n",
       " ('nExtraLep', 0.006230690010298661),\n",
       " ('ExtraLepPhi(ExtraLepPt|0)', 0.005252317198764161),\n",
       " ('ExtraLepEta(ExtraLepPt|0)', 0.004788877445932029),\n",
       " ('Z1Flav', 0.0019309989701338827),\n",
       " ('Z2Flav', 0.0014933058702368692)]"
      ]
     },
     "execution_count": 202,
     "metadata": {},
     "output_type": "execute_result"
    }
   ],
   "source": [
    "implist"
   ]
  },
  {
   "cell_type": "code",
   "execution_count": 203,
   "metadata": {
    "collapsed": false,
    "scrolled": false
   },
   "outputs": [],
   "source": [
    "%%capture\n",
    "fig, implist = plot_variables([(\"ttHh\", \"ttHl\")])"
   ]
  },
  {
   "cell_type": "code",
   "execution_count": 204,
   "metadata": {
    "collapsed": true
   },
   "outputs": [],
   "source": [
    "impdict = {convert_varname(entry[0]): [entry[1]] for entry in implist}\n",
    "impdict[\"discriminant\"] = \"D_ttHh_ttHl_ML\"\n",
    "df = df.append(pd.DataFrame.from_dict(impdict))"
   ]
  },
  {
   "cell_type": "code",
   "execution_count": 205,
   "metadata": {
    "collapsed": true
   },
   "outputs": [],
   "source": [
    "append_variables(confhandler, impdict, threshold_fscore)"
   ]
  },
  {
   "cell_type": "code",
   "execution_count": 206,
   "metadata": {
    "collapsed": false
   },
   "outputs": [
    {
     "data": {
      "text/plain": [
       "[('PFMET', 0.10745045138528588),\n",
       " ('ZZMass', 0.08166441838746498),\n",
       " ('Z1Mass', 0.05997717131887517),\n",
       " ('ZZMassErr', 0.04498287848915638),\n",
       " ('ZZPt', 0.04353014423575802),\n",
       " ('JetPt(JetPt|3)', 0.04197364324997406),\n",
       " ('JetPt(JetPt|0)', 0.039016291376984535),\n",
       " ('JetPhi(JetPt|2)', 0.0369150150461762),\n",
       " ('nCleanedJetsPt30', 0.03587734772232022),\n",
       " ('Z2Pt', 0.03468403029988586),\n",
       " ('ExtraLepPt(ExtraLepPt|0)', 0.03390577980699388),\n",
       " ('JetEta(JetPt|1)', 0.03367230465912628),\n",
       " ('JetPhi(JetPt|1)', 0.033542596243644286),\n",
       " ('JetPhi(JetPt|0)', 0.03336100446196949),\n",
       " ('Z1Pt', 0.03237522050430632),\n",
       " ('ZZEta', 0.03227145377192072),\n",
       " ('JetPt(JetPt|2)', 0.030066410708726784),\n",
       " ('JetPt(JetPt|1)', 0.029884818927051988),\n",
       " ('JetEta(JetPt|0)', 0.0293919269482204),\n",
       " ('Z2Mass', 0.029158451800352807),\n",
       " ('ZZPhi', 0.028042959427207637),\n",
       " ('JetPhi(JetPt|3)', 0.025500674483760505),\n",
       " ('JetEta(JetPt|2)', 0.024463007159904536),\n",
       " ('nCleanedJetsPt30BTagged_bTagSF', 0.020364221230673447),\n",
       " ('JetEta(JetPt|3)', 0.018262944899865102),\n",
       " ('ExtraLepPhi(ExtraLepPt|0)', 0.017432811040780326),\n",
       " ('ExtraLepEta(ExtraLepPt|0)', 0.008560755421811768),\n",
       " ('Z1Flav', 0.00477326968973747),\n",
       " ('nExtraLep', 0.0038134274151706963),\n",
       " ('Z2Flav', 0.0033983604856283075),\n",
       " ('ExtraLepEta(ExtraLepPt|1)', 0.000882017225277576),\n",
       " ('ExtraLepPhi(ExtraLepPt|1)', 0.0003891252464459894),\n",
       " ('ExtraLepPt(ExtraLepPt|1)', 0.0003891252464459894),\n",
       " ('nExtraZ', 2.5941683096399295e-05)]"
      ]
     },
     "execution_count": 206,
     "metadata": {},
     "output_type": "execute_result"
    }
   ],
   "source": [
    "implist"
   ]
  },
  {
   "cell_type": "code",
   "execution_count": 207,
   "metadata": {
    "collapsed": false,
    "scrolled": false
   },
   "outputs": [],
   "source": [
    "%%capture\n",
    "fig, implist = plot_variables([(\"ttHl\", \"ggH\")])"
   ]
  },
  {
   "cell_type": "code",
   "execution_count": 208,
   "metadata": {
    "collapsed": true
   },
   "outputs": [],
   "source": [
    "impdict = {convert_varname(entry[0]): [entry[1]] for entry in implist}\n",
    "impdict[\"discriminant\"] = \"D_ttHl_ggH_ML\"\n",
    "df = df.append(pd.DataFrame.from_dict(impdict))"
   ]
  },
  {
   "cell_type": "code",
   "execution_count": 209,
   "metadata": {
    "collapsed": true
   },
   "outputs": [],
   "source": [
    "append_variables(confhandler, impdict, threshold_fscore)"
   ]
  },
  {
   "cell_type": "code",
   "execution_count": 210,
   "metadata": {
    "collapsed": false
   },
   "outputs": [
    {
     "data": {
      "text/plain": [
       "[('PFMET', 0.14102265673494724),\n",
       " ('ZZMass', 0.14003336436995656),\n",
       " ('JetPt(JetPt|0)', 0.06021104903786468),\n",
       " ('ZZPt', 0.059027777777777776),\n",
       " ('Z1Mass', 0.05619568590937306),\n",
       " ('Z1Pt', 0.045837212911235256),\n",
       " ('ExtraLepPt(ExtraLepPt|0)', 0.044964307883302294),\n",
       " ('Z2Pt', 0.04422718808193669),\n",
       " ('ZZMassErr', 0.04281114214773433),\n",
       " ('JetPt(JetPt|1)', 0.038524208566108005),\n",
       " ('JetEta(JetPt|0)', 0.03454764121663563),\n",
       " ('ZZPhi', 0.031133612662942272),\n",
       " ('ZZEta', 0.030609869646182494),\n",
       " ('Z2Mass', 0.028553693358162633),\n",
       " ('JetEta(JetPt|1)', 0.028456703910614525),\n",
       " ('nCleanedJetsPt30', 0.02281191806331471),\n",
       " ('JetPhi(JetPt|0)', 0.02193901303538175),\n",
       " ('nCleanedJetsPt30BTagged_bTagSF', 0.02067815021725636),\n",
       " ('nExtraLep', 0.01864137181874612),\n",
       " ('JetPt(JetPt|2)', 0.015169149596523898),\n",
       " ('JetPhi(JetPt|1)', 0.012666821849782744),\n",
       " ('JetEta(JetPt|2)', 0.011386561142147734),\n",
       " ('JetPt(JetPt|3)', 0.011153786468032278),\n",
       " ('ExtraLepEta(ExtraLepPt|0)', 0.010824022346368716),\n",
       " ('JetEta(JetPt|3)', 0.010358472998137802),\n",
       " ('JetPhi(JetPt|2)', 0.005838764742396027),\n",
       " ('Z1Flav', 0.0039765673494723775),\n",
       " ('JetPhi(JetPt|3)', 0.003801986343885785),\n",
       " ('ExtraLepPhi(ExtraLepPt|0)', 0.002521725636250776),\n",
       " ('Z2Flav', 0.0020755741775294848)]"
      ]
     },
     "execution_count": 210,
     "metadata": {},
     "output_type": "execute_result"
    }
   ],
   "source": [
    "implist"
   ]
  },
  {
   "cell_type": "code",
   "execution_count": 211,
   "metadata": {
    "collapsed": false,
    "scrolled": false
   },
   "outputs": [],
   "source": [
    "%%capture\n",
    "fig, implist = plot_variables([(\"ttHl\", \"VBF\")])"
   ]
  },
  {
   "cell_type": "code",
   "execution_count": 212,
   "metadata": {
    "collapsed": true
   },
   "outputs": [],
   "source": [
    "impdict = {convert_varname(entry[0]): [entry[1]] for entry in implist}\n",
    "impdict[\"discriminant\"] = \"D_ttHl_VBF_ML\"\n",
    "df = df.append(pd.DataFrame.from_dict(impdict))"
   ]
  },
  {
   "cell_type": "code",
   "execution_count": 213,
   "metadata": {
    "collapsed": true
   },
   "outputs": [],
   "source": [
    "append_variables(confhandler, impdict, threshold_fscore)"
   ]
  },
  {
   "cell_type": "code",
   "execution_count": 214,
   "metadata": {
    "collapsed": false
   },
   "outputs": [
    {
     "data": {
      "text/plain": [
       "[('ZZMass', 0.10692982272546517),\n",
       " ('JetEta(JetPt|0)', 0.10672052575399234),\n",
       " ('PFMET', 0.099206764478118),\n",
       " ('JetEta(JetPt|1)', 0.07777475459930094),\n",
       " ('Z1Mass', 0.0449988488666569),\n",
       " ('ZZMassErr', 0.042738441574750416),\n",
       " ('ExtraLepPt(ExtraLepPt|0)', 0.041105925197262395),\n",
       " ('JetEta(JetPt|2)', 0.03867808032817765),\n",
       " ('JetPt(JetPt|0)', 0.03746415789363528),\n",
       " ('ZZEta', 0.03581071181899998),\n",
       " ('JetPt(JetPt|1)', 0.03482701605307771),\n",
       " ('ZZPt', 0.034680508173046735),\n",
       " ('JetPt(JetPt|2)', 0.032378241486845684),\n",
       " ('Z2Pt', 0.028903911760396826),\n",
       " ('Z2Mass', 0.026224910525544695),\n",
       " ('JetPhi(JetPt|0)', 0.025973754159777308),\n",
       " ('ZZPhi', 0.02589003537118818),\n",
       " ('Z1Pt', 0.024864480210971346),\n",
       " ('nCleanedJetsPt30', 0.020908767450134997),\n",
       " ('nCleanedJetsPt30BTagged_bTagSF', 0.020908767450134997),\n",
       " ('ExtraLepEta(ExtraLepPt|0)', 0.020385525021452938),\n",
       " ('JetPhi(JetPt|1)', 0.019422758952677956),\n",
       " ('JetPt(JetPt|3)', 0.014169404968710103),\n",
       " ('JetPhi(JetPt|2)', 0.009606730990602566),\n",
       " ('JetEta(JetPt|3)', 0.008413738253207476),\n",
       " ('JetPhi(JetPt|3)', 0.00780677703593629),\n",
       " ('nExtraLep', 0.004792900646727642),\n",
       " ('Z1Flav', 0.003955712760836351),\n",
       " ('ExtraLepPhi(ExtraLepPt|0)', 0.0023650557776428976),\n",
       " ('Z2Flav', 0.0020720400175809456),\n",
       " ('ExtraLepPt(ExtraLepPt|1)', 2.0929697147282278e-05)]"
      ]
     },
     "execution_count": 214,
     "metadata": {},
     "output_type": "execute_result"
    }
   ],
   "source": [
    "implist"
   ]
  },
  {
   "cell_type": "code",
   "execution_count": 215,
   "metadata": {
    "collapsed": false,
    "scrolled": false
   },
   "outputs": [],
   "source": [
    "%%capture\n",
    "fig, implist = plot_variables([(\"ttHl\", \"WHh\")])"
   ]
  },
  {
   "cell_type": "code",
   "execution_count": 216,
   "metadata": {
    "collapsed": true
   },
   "outputs": [],
   "source": [
    "impdict = {convert_varname(entry[0]): [entry[1]] for entry in implist}\n",
    "impdict[\"discriminant\"] = \"D_ttHl_WHh_ML\"\n",
    "df = df.append(pd.DataFrame.from_dict(impdict))"
   ]
  },
  {
   "cell_type": "code",
   "execution_count": 217,
   "metadata": {
    "collapsed": true
   },
   "outputs": [],
   "source": [
    "append_variables(confhandler, impdict, threshold_fscore)"
   ]
  },
  {
   "cell_type": "code",
   "execution_count": 218,
   "metadata": {
    "collapsed": false
   },
   "outputs": [
    {
     "data": {
      "text/plain": [
       "[('ZZMass', 0.17309507754551584),\n",
       " ('PFMET', 0.1463924477410654),\n",
       " ('ExtraLepPt(ExtraLepPt|0)', 0.07835468644639244),\n",
       " ('ZZPt', 0.062306136210384354),\n",
       " ('nCleanedJetsPt30BTagged_bTagSF', 0.0602832097100472),\n",
       " ('JetPt(JetPt|0)', 0.052663519892110586),\n",
       " ('ZZMassErr', 0.045853000674308836),\n",
       " ('Z1Mass', 0.03742414025623736),\n",
       " ('JetPt(JetPt|1)', 0.027983816587997302),\n",
       " ('ZZEta', 0.026163182737693864),\n",
       " ('JetEta(JetPt|0)', 0.025354012137559),\n",
       " ('Z1Pt', 0.022184760620364126),\n",
       " ('Z2Mass', 0.021780175320296694),\n",
       " ('Z2Pt', 0.02164531355360755),\n",
       " ('nCleanedJetsPt30', 0.02157788267026298),\n",
       " ('JetEta(JetPt|1)', 0.021375590020229266),\n",
       " ('JetPt(JetPt|2)', 0.020903573836817263),\n",
       " ('JetPhi(JetPt|3)', 0.01861092380310182),\n",
       " ('JetPhi(JetPt|1)', 0.01638570465273095),\n",
       " ('JetPt(JetPt|3)', 0.016115981119352665),\n",
       " ('JetPhi(JetPt|2)', 0.01409305461901551),\n",
       " ('JetPhi(JetPt|0)', 0.012879298718813216),\n",
       " ('ZZPhi', 0.011867835468644639),\n",
       " ('nExtraLep', 0.010654079568442347),\n",
       " ('Z1Flav', 0.007552258934592044),\n",
       " ('ExtraLepEta(ExtraLepPt|0)', 0.007147673634524612),\n",
       " ('JetEta(JetPt|3)', 0.006810519217801753),\n",
       " ('JetEta(JetPt|2)', 0.006743088334457181),\n",
       " ('ExtraLepPhi(ExtraLepPt|0)', 0.003978422117329737),\n",
       " ('Z2Flav', 0.0013486176668914363),\n",
       " ('ExtraLepPt(ExtraLepPt|1)', 0.0004720161834120027)]"
      ]
     },
     "execution_count": 218,
     "metadata": {},
     "output_type": "execute_result"
    }
   ],
   "source": [
    "implist"
   ]
  },
  {
   "cell_type": "code",
   "execution_count": 219,
   "metadata": {
    "collapsed": true
   },
   "outputs": [],
   "source": [
    "# save the variable configuration\n",
    "confhandler.save_configuration(out_path)"
   ]
  },
  {
   "cell_type": "code",
   "execution_count": 220,
   "metadata": {
    "collapsed": false
   },
   "outputs": [],
   "source": [
    "df = df.fillna(0.0)"
   ]
  },
  {
   "cell_type": "code",
   "execution_count": 221,
   "metadata": {
    "collapsed": false
   },
   "outputs": [],
   "source": [
    "df.to_csv(\"input_parameters_table.csv\")"
   ]
  },
  {
   "cell_type": "code",
   "execution_count": 222,
   "metadata": {
    "collapsed": false
   },
   "outputs": [],
   "source": [
    "# now plot the data contained in the table to have a global picture of the relevant input variables\n",
    "datacol_labels = [col for col in df.columns.tolist() if col != \"discriminant\"]\n",
    "variable_data = df[datacol_labels].as_matrix().transpose()\n",
    "datacol_labels = np.concatenate([[''], np.array(datacol_labels)])"
   ]
  },
  {
   "cell_type": "code",
   "execution_count": 223,
   "metadata": {
    "collapsed": true
   },
   "outputs": [],
   "source": [
    "discriminant_labels = np.concatenate([[''], df[\"discriminant\"].as_matrix()])"
   ]
  },
  {
   "cell_type": "code",
   "execution_count": 224,
   "metadata": {
    "collapsed": false
   },
   "outputs": [],
   "source": [
    "fig = plt.figure(figsize = (15, 10))\n",
    "ax = fig.add_subplot(111)\n",
    "cax = ax.matshow(variable_data, interpolation = 'nearest', cmap = 'Blues', vmin = np.min(variable_data), vmax = np.max(variable_data))\n",
    "ax.set_xticklabels(discriminant_labels, rotation = 'vertical')\n",
    "ax.set_yticklabels(datacol_labels)\n",
    "ax.xaxis.set_major_locator(ticker.MultipleLocator(1))\n",
    "ax.yaxis.set_major_locator(ticker.MultipleLocator(1))"
   ]
  },
  {
   "cell_type": "code",
   "execution_count": 225,
   "metadata": {
    "collapsed": false
   },
   "outputs": [],
   "source": [
    "plt.tight_layout()\n",
    "plt.savefig(os.path.join(out_dir, \"input_variables_exclusive_fullmassrange.pdf\"))"
   ]
  }
 ],
 "metadata": {
  "kernelspec": {
   "display_name": "Python 2",
   "language": "python",
   "name": "python2"
  },
  "language_info": {
   "codemirror_mode": {
    "name": "ipython",
    "version": 2
   },
   "file_extension": ".py",
   "mimetype": "text/x-python",
   "name": "python",
   "nbconvert_exporter": "python",
   "pygments_lexer": "ipython2",
   "version": "2.7.11"
  }
 },
 "nbformat": 4,
 "nbformat_minor": 2
}
