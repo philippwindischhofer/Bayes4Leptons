{
 "cells": [
  {
   "cell_type": "code",
   "execution_count": 1,
   "metadata": {
    "collapsed": true
   },
   "outputs": [],
   "source": [
    "import os\n",
    "import sys\n",
    "import glob\n",
    "import matplotlib.pyplot as plt\n",
    "import numpy as np\n",
    "import pandas as pd\n",
    "import matplotlib.ticker as ticker\n",
    "import re"
   ]
  },
  {
   "cell_type": "code",
   "execution_count": 2,
   "metadata": {
    "collapsed": true
   },
   "outputs": [],
   "source": [
    "sys.path.insert(0, '/home/llr/cms/wind/cmssw/CMSSW_9_4_2/src/ZZAnalysis/AnalysisStep/test/Python/')"
   ]
  },
  {
   "cell_type": "code",
   "execution_count": 3,
   "metadata": {
    "collapsed": false
   },
   "outputs": [
    {
     "name": "stdout",
     "output_type": "stream",
     "text": [
      "Welcome to JupyROOT 6.10/09\n"
     ]
    },
    {
     "name": "stderr",
     "output_type": "stream",
     "text": [
      "Using TensorFlow backend.\n"
     ]
    }
   ],
   "source": [
    "from trainlib.ConfigFileHandler import ConfigFileHandler\n",
    "from trainlib.ModelCollectionConfigFileHandler import ModelCollectionConfigFileHandler\n",
    "from trainlib.ConfigFileUtils import ConfigFileUtils"
   ]
  },
  {
   "cell_type": "code",
   "execution_count": 4,
   "metadata": {
    "collapsed": true
   },
   "outputs": [],
   "source": [
    "campaign_workspace = \"/data_CMS/cms/wind/\""
   ]
  },
  {
   "cell_type": "code",
   "execution_count": 5,
   "metadata": {
    "collapsed": true
   },
   "outputs": [],
   "source": [
    "def strip_differential(raw):\n",
    "    raw = raw.replace(\"_2j\", \"\")\n",
    "    raw = raw.replace(\"_1j\", \"\")\n",
    "    raw = raw.replace(\"_0j\", \"\")\n",
    "    return raw"
   ]
  },
  {
   "cell_type": "code",
   "execution_count": 58,
   "metadata": {
    "collapsed": false
   },
   "outputs": [],
   "source": [
    "def make_comparison_plot(campaign_workspace, campaign_names, campaign_labels, average = False, outdir = None):\n",
    "    df_loss = pd.DataFrame()\n",
    "    df_H1_length = pd.DataFrame()\n",
    "    df_H0_length = pd.DataFrame()\n",
    "    \n",
    "    for campaign_name in campaign_names:\n",
    "        campaign_dir = os.path.join(campaign_workspace, campaign_name)\n",
    "        \n",
    "        values_loss = {}\n",
    "        values_H1_length = {}\n",
    "        values_H0_length = {}\n",
    "\n",
    "        values_loss[\"campaign\"] = campaign_name\n",
    "        values_H1_length[\"campaign\"] = campaign_name\n",
    "        values_H0_length[\"campaign\"] = campaign_name\n",
    "\n",
    "        # read all the files\n",
    "        for root, dirs, files in os.walk(campaign_dir):\n",
    "            for curfile in files:\n",
    "                if curfile.endswith(\"model_benchmark.txt\"):\n",
    "                    config_file = os.path.join(root, \"model_benchmark.txt\")\n",
    "\n",
    "                    confhandler = ConfigFileHandler()\n",
    "                    confhandler.load_configuration(config_file)\n",
    "\n",
    "                    # now look at all of the sections \n",
    "                    models = confhandler.get_sections()\n",
    "                    for model in models:\n",
    "                        values_loss[model] = float(confhandler.get_field(model, 'val_loss'))\n",
    "                        values_H1_length[model] = int(confhandler.get_field(model, 'H1_val_length'))\n",
    "                        values_H0_length[model] = int(confhandler.get_field(model, 'H0_val_length'))\n",
    "\n",
    "        # starting from this fully differential information, now go ahead and average over those differential ones\n",
    "        values_loss_avg = {}\n",
    "        values_H1_length_avg = {}\n",
    "        values_H0_length_avg = {}\n",
    "\n",
    "        values_loss_avg[\"campaign\"] = campaign_name\n",
    "        values_H1_length_avg[\"campaign\"] = campaign_name\n",
    "        values_H0_length_avg[\"campaign\"] = campaign_name\n",
    "        \n",
    "        models = [model for model in values_loss.keys() if model is not \"campaign\"]\n",
    "        for model in models:\n",
    "            model_avg = strip_differential(model)\n",
    "\n",
    "            if not model_avg in values_loss_avg:\n",
    "                values_loss_avg[model_avg] = 0\n",
    "                values_H1_length_avg[model_avg] = 0\n",
    "                values_H0_length_avg[model_avg] = 0\n",
    "\n",
    "            values_loss_avg[model_avg] += values_loss[model] * (values_H1_length[model] + values_H0_length[model])\n",
    "            values_H1_length_avg[model_avg] += values_H1_length[model]\n",
    "            values_H0_length_avg[model_avg] += values_H0_length[model]\n",
    "\n",
    "        print values_loss_avg\n",
    "        print values_H1_length_avg\n",
    "        print values_H0_length_avg\n",
    "\n",
    "        # now need again divide by their training dataset lengths to get the mean error on the averaged models\n",
    "        for model_avg in values_loss_avg.keys():\n",
    "            if not \"campaign\" in model_avg:\n",
    "                values_loss_avg[model_avg] /= (values_H1_length_avg[model_avg] + values_H0_length_avg[model_avg])\n",
    "\n",
    "        if average:\n",
    "            df_loss = df_loss.append(pd.DataFrame(values_loss_avg, index = [len(df_loss)]))\n",
    "            df_H1_length = df_H1_length.append(pd.DataFrame(values_H1_length_avg, index = [len(df_H1_length)]))\n",
    "            df_H0_length = df_H0_length.append(pd.DataFrame(values_H0_length_avg, index = [len(df_H0_length)]))\n",
    "        else:\n",
    "            df_loss = df_loss.append(pd.DataFrame(values_loss, index = [len(df_loss)]))\n",
    "            df_H1_length = df_H1_length.append(pd.DataFrame(values_H1_length, index = [len(df_H1_length)]))\n",
    "            df_H0_length = df_H0_length.append(pd.DataFrame(values_H0_length, index = [len(df_H0_length)]))\n",
    "\n",
    "    fig = plt.figure(figsize = (15, 5))\n",
    "    \n",
    "    # save the plot data, if this is demanded\n",
    "    if outdir is not None:\n",
    "        if not os.path.exists(outdir):\n",
    "            os.makedirs(outdir)\n",
    "            \n",
    "        df_loss.to_csv(os.path.join(outdir, \"loss.csv\"))\n",
    "        df_H1_length.to_csv(os.path.join(outdir, \"H1_length.csv\"))\n",
    "        df_H0_length.to_csv(os.path.join(outdir, \"H0_length.csv\"))\n",
    "    \n",
    "    if len(df_loss) > 0:\n",
    "        models = [col for col in df_loss.columns if \"campaign\" not in col]\n",
    "        \n",
    "        df_loss.fillna(10.0)\n",
    "        # condense all the different loss values into one global loss estimate (if such a thing can reasonably be done)\n",
    "        # each loss value is already an average over its specific training dataset -> compute the global average by first undoing all the local ones\n",
    "        loss_averages = df_loss[models].as_matrix()\n",
    "        dataset_lengths = df_H1_length[models].as_matrix() + df_H0_length[models].as_matrix()\n",
    "        \n",
    "        global_losses = np.sum(np.multiply(loss_averages, dataset_lengths), axis = 1)\n",
    "        total_lengths = np.sum(dataset_lengths, axis = 1)\n",
    "        global_losses = np.divide(global_losses, total_lengths)\n",
    "\n",
    "        loss_data = df_loss[models].as_matrix()\n",
    "        loss_data = np.divide(loss_data, loss_data[0])\n",
    "        loss_data_columns = np.concatenate([[''], df_loss[models].columns])\n",
    "        loss_data_rows = np.concatenate([[''], df_loss['campaign'].as_matrix()])\n",
    "\n",
    "        ax = fig.add_subplot(111)\n",
    "        cax = ax.matshow(loss_data, cmap = 'RdYlGn_r', vmin = 0.9, vmax = 1.1, aspect = 3.0)\n",
    "        fig.colorbar(cax, pad = 0.1)\n",
    "        #ax.set_yticklabels(loss_data_rows)\n",
    "        ax.set_yticklabels([''] + campaign_labels)\n",
    "        ax.set_xticklabels(loss_data_columns, rotation = 'vertical')\n",
    "        \n",
    "        ax.text(len(loss_data_columns), -1.0, \"global\", va = \"center\", ha = \"center\", rotation = \"vertical\")\n",
    "\n",
    "        for y, gloss in enumerate(global_losses):\n",
    "            print gloss\n",
    "            ax.text(len(loss_data_columns), y, \"{:4.4f}\".format(gloss), va = 'center', ha = 'center', rotation = 'horizontal')\n",
    "\n",
    "        ax.xaxis.set_major_locator(ticker.MultipleLocator(1))\n",
    "        ax.yaxis.set_major_locator(ticker.MultipleLocator(1))\n",
    "        \n",
    "    return fig"
   ]
  },
  {
   "cell_type": "code",
   "execution_count": 61,
   "metadata": {
    "collapsed": false
   },
   "outputs": [],
   "source": [
    "%%capture\n",
    "plot_17 = make_comparison_plot(campaign_workspace, [\"180426_combined_99\",\n",
    "                                                    \"180426_exclusive_99\"],\n",
    "                                                   [\"combined\", \"exclusive\"], True,\n",
    "                                                    \"/data_CMS/cms/wind/HyperparameterPlots\")"
   ]
  },
  {
   "cell_type": "code",
   "execution_count": 62,
   "metadata": {
    "collapsed": false
   },
   "outputs": [
    {
     "data": {
      "image/png": "[encoded data removed]",
      "text/plain": [
       "<matplotlib.figure.Figure at 0x7f89ec975190>"
      ]
     },
     "metadata": {},
     "output_type": "display_data"
    }
   ],
   "source": [
    "plt.show()"
   ]
  },
  {
   "cell_type": "code",
   "execution_count": null,
   "metadata": {
    "collapsed": true
   },
   "outputs": [],
   "source": []
  }
 ],
 "metadata": {
  "kernelspec": {
   "display_name": "Python 2",
   "language": "python",
   "name": "python2"
  },
  "language_info": {
   "codemirror_mode": {
    "name": "ipython",
    "version": 2
   },
   "file_extension": ".py",
   "mimetype": "text/x-python",
   "name": "python",
   "nbconvert_exporter": "python",
   "pygments_lexer": "ipython2",
   "version": "2.7.11"
  }
 },
 "nbformat": 4,
 "nbformat_minor": 2
}
