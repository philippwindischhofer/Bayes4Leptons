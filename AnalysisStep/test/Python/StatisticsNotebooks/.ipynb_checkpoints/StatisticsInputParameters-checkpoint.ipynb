{
 "cells": [
  {
   "cell_type": "code",
   "execution_count": 1,
   "metadata": {
    "collapsed": false
   },
   "outputs": [],
   "source": [
    "import os\n",
    "import sys\n",
    "import matplotlib.pyplot as plt\n",
    "import numpy as np\n",
    "import pandas as pd"
   ]
  },
  {
   "cell_type": "code",
   "execution_count": 2,
   "metadata": {
    "collapsed": true
   },
   "outputs": [],
   "source": [
    "sys.path.insert(0, '/home/llr/cms/wind/cmssw/CMSSW_9_4_2/src/ZZAnalysis/AnalysisStep/test/Python/')"
   ]
  },
  {
   "cell_type": "code",
   "execution_count": 14,
   "metadata": {
    "collapsed": false
   },
   "outputs": [],
   "source": [
    "from trainlib.ConfigFileHandler import ConfigFileHandler\n",
    "from trainlib.ModelCollectionConfigFileHandler import ModelCollectionConfigFileHandler\n",
    "from trainlib.ConfigFileUtils import ConfigFileUtils"
   ]
  },
  {
   "cell_type": "code",
   "execution_count": 4,
   "metadata": {
    "collapsed": false
   },
   "outputs": [],
   "source": [
    "campaign_dir=\"/data_CMS/cms/wind/180403_input_parameter_sweep_LSTM/\""
   ]
  },
  {
   "cell_type": "code",
   "execution_count": 5,
   "metadata": {
    "collapsed": true
   },
   "outputs": [],
   "source": [
    "statistics_dir = campaign_dir + \"statistics/\"\n",
    "if not os.path.exists(statistics_dir):\n",
    "    os.makedirs(statistics_dir)"
   ]
  },
  {
   "cell_type": "raw",
   "metadata": {
    "collapsed": true
   },
   "source": [
    "# for the full category set\n",
    "bin_dir = {\"Untagged\": 0,\n",
    "            \"VBF1j\": 1,\n",
    "            \"VBF2j\": 2,\n",
    "            \"VHlept\": 3,\n",
    "            \"VHhadr\": 4,\n",
    "            \"ttHlept\": 5,\n",
    "            \"ttHhadr\": 6,\n",
    "            \"VHMET\": 7}"
   ]
  },
  {
   "cell_type": "code",
   "execution_count": 6,
   "metadata": {
    "collapsed": true
   },
   "outputs": [],
   "source": [
    "# for the reduced category set\n",
    "bin_dir = {\"Untagged\": 0,\n",
    "            \"VBF1j\": 1,\n",
    "            \"VBF2j\": 2,\n",
    "            \"VHhadr\": 3}"
   ]
  },
  {
   "cell_type": "code",
   "execution_count": 7,
   "metadata": {
    "collapsed": true
   },
   "outputs": [],
   "source": [
    "def format_parameter_list(inlist):\n",
    "    outstring = \"\"\n",
    "    linewidth = 0\n",
    "    \n",
    "    for parameter in inlist:\n",
    "        if \"D_\" in parameter:\n",
    "            newstring = \"MELA, \"\n",
    "        else:\n",
    "            newstring = parameter + \", \"\n",
    "            \n",
    "        outstring += newstring\n",
    "        linewidth += len(newstring)\n",
    "        \n",
    "        if linewidth > 20:\n",
    "            outstring += \"\\n\"\n",
    "            linewidth = 0\n",
    "            \n",
    "    return outstring[:-2]"
   ]
  },
  {
   "cell_type": "code",
   "execution_count": 19,
   "metadata": {
    "collapsed": false
   },
   "outputs": [
    {
     "name": "stdout",
     "output_type": "stream",
     "text": [
      "attempting to load configuration file from /data_CMS/cms/wind/180403_input_parameter_sweep_LSTM/LSTM_units_16.0scalar_input_columns_1/settings.conf\n",
      "attempting to load configuration file from /data_CMS/cms/wind/180403_input_parameter_sweep_LSTM/LSTM_units_16.0scalar_input_columns_1/comp/Mor18_punzi_comp.conf\n",
      "attempting to load configuration file from /data_CMS/cms/wind/180403_input_parameter_sweep_LSTM/LSTM_units_16.0scalar_input_columns_2/settings.conf\n",
      "attempting to load configuration file from /data_CMS/cms/wind/180403_input_parameter_sweep_LSTM/LSTM_units_16.0scalar_input_columns_2/comp/Mor18_punzi_comp.conf\n",
      "attempting to load configuration file from /data_CMS/cms/wind/180403_input_parameter_sweep_LSTM/LSTM_units_16.0scalar_input_columns_3/settings.conf\n",
      "attempting to load configuration file from /data_CMS/cms/wind/180403_input_parameter_sweep_LSTM/LSTM_units_16.0scalar_input_columns_3/comp/Mor18_punzi_comp.conf\n",
      "attempting to load configuration file from /data_CMS/cms/wind/180403_input_parameter_sweep_LSTM/LSTM_units_16.0scalar_input_columns_4/settings.conf\n",
      "attempting to load configuration file from /data_CMS/cms/wind/180403_input_parameter_sweep_LSTM/LSTM_units_16.0scalar_input_columns_4/comp/Mor18_punzi_comp.conf\n",
      "attempting to load configuration file from /data_CMS/cms/wind/180403_input_parameter_sweep_LSTM/LSTM_units_16.0scalar_input_columns_5/settings.conf\n",
      "attempting to load configuration file from /data_CMS/cms/wind/180403_input_parameter_sweep_LSTM/LSTM_units_16.0scalar_input_columns_5/comp/Mor18_punzi_comp.conf\n"
     ]
    }
   ],
   "source": [
    "df = pd.DataFrame()\n",
    "\n",
    "for subdir in next(os.walk(campaign_dir))[1]:\n",
    "    if \"statistics\" not in subdir and \"bin\" not in subdir and \"excluded\" not in subdir:\n",
    "        values = {}\n",
    "\n",
    "        punzi_path = campaign_dir + subdir + \"/comp/Mor18_punzi_comp.conf\"\n",
    "        settings_path = campaign_dir + subdir + \"/settings.conf\"\n",
    "    \n",
    "        try:\n",
    "            # first, read back the configuration file for this run\n",
    "            conf = ModelCollectionConfigFileHandler()\n",
    "            conf.load_configuration(settings_path)\n",
    "    \n",
    "            # now select a typical model and read its hyperparameters\n",
    "            typical_model = conf._get_model_list(conf._get_model_collection_list()[0])[0]\n",
    "            hyperparams = conf.GetHyperparameters(typical_model)\n",
    "            hyperparam_dict = {key: [val] for key, val in hyperparams.iteritems()}\n",
    "        \n",
    "            # also read the list of input parameters that have been fed into the network\n",
    "            try:\n",
    "                param_list = ConfigFileUtils.parse_list(conf.GetModelParameter(typical_model, 'input_columns'), lambda x: x)\n",
    "            except KeyError:\n",
    "                param_list = ConfigFileUtils.parse_list(conf.GetModelParameter(typical_model, 'scalar_input_columns'), lambda x: x)\n",
    "            \n",
    "            values['input_columns'] = [format_parameter_list(param_list)]\n",
    "            values['number_inputs'] = len(param_list)\n",
    "            \n",
    "            # then read in the results in terms of relative Punzi improvement for each category\n",
    "            conf = ConfigFileHandler()\n",
    "            conf.load_configuration(punzi_path)\n",
    "        \n",
    "            # load the Punzi values for each category\n",
    "            for category, bin_number in bin_dir.iteritems():\n",
    "                values[category] = float(conf.get_field(\"Punzi\", category))\n",
    "                    \n",
    "            # merge the two dictionaries\n",
    "            values.update(hyperparam_dict)\n",
    "            df = df.append(pd.DataFrame.from_dict(values))\n",
    "                \n",
    "        except KeyError:\n",
    "            print \"File not found\""
   ]
  },
  {
   "cell_type": "code",
   "execution_count": 20,
   "metadata": {
    "collapsed": false
   },
   "outputs": [],
   "source": [
    "punzi_data = df[bin_dir.keys()].as_matrix()\n",
    "punzi_data = np.transpose(punzi_data)"
   ]
  },
  {
   "cell_type": "code",
   "execution_count": 21,
   "metadata": {
    "collapsed": false
   },
   "outputs": [],
   "source": [
    "inparam_labels = df['input_columns'].as_matrix()"
   ]
  },
  {
   "cell_type": "code",
   "execution_count": 22,
   "metadata": {
    "collapsed": false
   },
   "outputs": [
    {
     "data": {
      "image/png": "[encoded data removed]",
      "text/plain": [
       "<matplotlib.figure.Figure at 0x7f66a9fac3d0>"
      ]
     },
     "metadata": {},
     "output_type": "display_data"
    }
   ],
   "source": [
    "plt.figure(figsize = (8, 10))\n",
    "plt.imshow(punzi_data, interpolation = 'none', cmap = 'RdYlGn', aspect = 0.6, vmin = 0.0, vmax = 2.0)\n",
    "plt.colorbar()\n",
    "plt.yticks(range(len(bin_dir)), bin_dir.keys())\n",
    "plt.xticks(range(len(df)), inparam_labels, rotation = 'vertical')\n",
    "plt.tight_layout()\n",
    "plt.title(\"Punzi purity ratio\")\n",
    "plt.savefig(statistics_dir + \"punzi_input_sweep.pdf\")\n",
    "plt.show()"
   ]
  },
  {
   "cell_type": "code",
   "execution_count": null,
   "metadata": {
    "collapsed": true
   },
   "outputs": [],
   "source": []
  }
 ],
 "metadata": {
  "kernelspec": {
   "display_name": "Python 2",
   "language": "python",
   "name": "python2"
  },
  "language_info": {
   "codemirror_mode": {
    "name": "ipython",
    "version": 2
   },
   "file_extension": ".py",
   "mimetype": "text/x-python",
   "name": "python",
   "nbconvert_exporter": "python",
   "pygments_lexer": "ipython2",
   "version": "2.7.11"
  }
 },
 "nbformat": 4,
 "nbformat_minor": 2
}
