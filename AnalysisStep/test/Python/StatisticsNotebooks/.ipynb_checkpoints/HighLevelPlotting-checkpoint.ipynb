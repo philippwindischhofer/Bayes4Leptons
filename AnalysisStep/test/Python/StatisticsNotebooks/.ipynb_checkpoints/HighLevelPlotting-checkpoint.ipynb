{
 "cells": [
  {
   "cell_type": "code",
   "execution_count": 1,
   "metadata": {
    "collapsed": true
   },
   "outputs": [],
   "source": [
    "import os\n",
    "import pandas as pd\n",
    "import numpy as np\n",
    "import matplotlib.pyplot as plt"
   ]
  },
  {
   "cell_type": "code",
   "execution_count": 2,
   "metadata": {
    "collapsed": false
   },
   "outputs": [],
   "source": [
    "def compute_global_loss(dirlist):\n",
    "    raw_loss_df = pd.DataFrame()\n",
    "    H1_length_df = pd.DataFrame()\n",
    "    H0_length_df = pd.DataFrame()\n",
    "        \n",
    "    for cur_dir in dirlist:\n",
    "        raw_loss_df = raw_loss_df.append(pd.DataFrame.from_csv(os.path.join(cur_dir, \"loss.csv\")))\n",
    "        H1_length_df = H1_length_df.append(pd.DataFrame.from_csv(os.path.join(cur_dir, \"H1_length.csv\")))\n",
    "        H0_length_df = H0_length_df.append(pd.DataFrame.from_csv(os.path.join(cur_dir, \"H0_length.csv\")))\n",
    "    \n",
    "    discriminants = [col for col in raw_loss_df.columns if \"campaign\" not in col]\n",
    "    length_df = H1_length_df[discriminants] + H0_length_df[discriminants]\n",
    "    loss_df = raw_loss_df[discriminants]\n",
    "    \n",
    "    total_length_df = length_df.sum(axis = 1)\n",
    "    global_loss_df = pd.DataFrame((length_df * loss_df).sum(axis = 1) / total_length_df)\n",
    "    global_loss_df = pd.concat([raw_loss_df[\"campaign\"], global_loss_df], axis = 1)\n",
    "    global_loss_df.columns = [\"campaign\", \"global loss\"]\n",
    "            \n",
    "    return global_loss_df"
   ]
  },
  {
   "cell_type": "code",
   "execution_count": 3,
   "metadata": {
    "collapsed": true
   },
   "outputs": [],
   "source": [
    "def parse_campaign_name(string, keys):\n",
    "    out_dict = {}\n",
    "    \n",
    "    for key in keys:\n",
    "        start_pos = string.find(key) + len(key)\n",
    "        end_pos = start_pos\n",
    "        \n",
    "        while end_pos < len(string) and not string[end_pos].isalpha() and not \"/\" in string[end_pos]:\n",
    "            end_pos += 1\n",
    "                                    \n",
    "        out_dict[key] = float(string[start_pos + 1:end_pos])\n",
    "        \n",
    "    return out_dict"
   ]
  },
  {
   "cell_type": "code",
   "execution_count": 4,
   "metadata": {
    "collapsed": true
   },
   "outputs": [],
   "source": [
    "def convert_campaign_name(df, keys):\n",
    "    augmented_frame = pd.DataFrame()\n",
    "\n",
    "    for row in df.iterrows():\n",
    "        row_dict = parse_campaign_name(row[1][\"campaign\"], keys)\n",
    "        row_dict[\"global_loss\"] = row[1][\"global loss\"]\n",
    "\n",
    "        for key in row_dict.keys():\n",
    "            row_dict[key] = [row_dict[key]]\n",
    "\n",
    "        row_frame = pd.DataFrame.from_dict(row_dict)\n",
    "        augmented_frame = pd.concat([augmented_frame, row_frame], axis = 0)\n",
    "        \n",
    "    return augmented_frame"
   ]
  },
  {
   "cell_type": "code",
   "execution_count": 5,
   "metadata": {
    "collapsed": true
   },
   "outputs": [],
   "source": [
    "def index_translation_dict(df, column):\n",
    "    return {val: index for index, val in enumerate(list(set(df[column])))}"
   ]
  },
  {
   "cell_type": "code",
   "execution_count": 6,
   "metadata": {
    "collapsed": true
   },
   "outputs": [],
   "source": [
    "def convert_to_matshow(df, keys, plotcol):\n",
    "    translations = []\n",
    "    for key in keys:\n",
    "        translations.append(index_translation_dict(df, key))\n",
    "                \n",
    "    plot_data = np.zeros((len(translations[0]), len(translations[1]))) \n",
    "        \n",
    "    for index, row in df.iterrows():\n",
    "        i = translations[0][row[keys[0]]]\n",
    "        j = translations[1][row[keys[1]]]\n",
    "\n",
    "        plot_data[i,j] = row[plotcol]\n",
    "       \n",
    "    return plot_data, np.array(translations[0].keys()), np.array(translations[1].keys())"
   ]
  },
  {
   "cell_type": "code",
   "execution_count": 7,
   "metadata": {
    "collapsed": false
   },
   "outputs": [],
   "source": [
    "gloss = compute_global_loss([\"/data_CMS/cms/wind/HyperparameterPlots\"])"
   ]
  },
  {
   "cell_type": "code",
   "execution_count": 8,
   "metadata": {
    "collapsed": false
   },
   "outputs": [],
   "source": [
    "cdf = convert_campaign_name(gloss, [\"number_layers\", \"number_neurons\"])"
   ]
  },
  {
   "cell_type": "code",
   "execution_count": 9,
   "metadata": {
    "collapsed": false
   },
   "outputs": [],
   "source": [
    "data, x_label, y_label = convert_to_matshow(cdf, [\"number_layers\", \"number_neurons\"], \"global_loss\")"
   ]
  },
  {
   "cell_type": "code",
   "execution_count": 10,
   "metadata": {
    "collapsed": false
   },
   "outputs": [],
   "source": [
    "fig = plt.figure()\n",
    "ax = fig.add_subplot(111)\n",
    "cax = ax.matshow(data.transpose(), cmap = 'Greens_r', vmin = 0.18, vmax = 0.195)\n",
    "ax.set_xticklabels(np.concatenate([[''], x_label.astype(int) + 1]))\n",
    "ax.set_yticklabels(np.concatenate([[''], y_label.astype(int)]))\n",
    "ax.xaxis.set_label_position(\"top\")\n",
    "ax.set_xlabel(\"hidden layers\")\n",
    "ax.set_ylabel(\"hidden neurons\")\n",
    "\n",
    "# put the numeric values\n",
    "for cur in np.ndenumerate(data):\n",
    "    coords = cur[0]\n",
    "    val = cur[1]\n",
    "    ax.text(coords[0], coords[1], \"{:4.4f}\".format(val), va = 'center', ha = 'center', color = 'white', weight = 'bold')"
   ]
  },
  {
   "cell_type": "code",
   "execution_count": 11,
   "metadata": {
    "collapsed": false
   },
   "outputs": [
    {
     "data": {
      "image/png": "[encoded data removed]",
      "text/plain": [
       "<matplotlib.figure.Figure at 0x7fa844f784d0>"
      ]
     },
     "metadata": {},
     "output_type": "display_data"
    }
   ],
   "source": [
    "plt.show()"
   ]
  },
  {
   "cell_type": "code",
   "execution_count": null,
   "metadata": {
    "collapsed": true
   },
   "outputs": [],
   "source": []
  }
 ],
 "metadata": {
  "kernelspec": {
   "display_name": "Python 2",
   "language": "python",
   "name": "python2"
  },
  "language_info": {
   "codemirror_mode": {
    "name": "ipython",
    "version": 2
   },
   "file_extension": ".py",
   "mimetype": "text/x-python",
   "name": "python",
   "nbconvert_exporter": "python",
   "pygments_lexer": "ipython2",
   "version": "2.7.11"
  }
 },
 "nbformat": 4,
 "nbformat_minor": 2
}
