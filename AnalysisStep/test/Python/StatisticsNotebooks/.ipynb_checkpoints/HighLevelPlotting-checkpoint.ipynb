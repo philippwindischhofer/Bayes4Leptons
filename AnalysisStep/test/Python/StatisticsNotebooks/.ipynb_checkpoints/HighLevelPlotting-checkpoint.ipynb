{
 "cells": [
  {
   "cell_type": "code",
   "execution_count": 5,
   "metadata": {
    "collapsed": true
   },
   "outputs": [],
   "source": [
    "import os\n",
    "import pandas as pd"
   ]
  },
  {
   "cell_type": "code",
   "execution_count": 6,
   "metadata": {
    "collapsed": false
   },
   "outputs": [],
   "source": [
    "def compute_global_loss(dirlist):\n",
    "    raw_loss_df = pd.DataFrame()\n",
    "    H1_length_df = pd.DataFrame()\n",
    "    H0_length_df = pd.DataFrame()\n",
    "        \n",
    "    for cur_dir in dirlist:\n",
    "        raw_loss_df = raw_loss_df.append(pd.DataFrame.from_csv(os.path.join(cur_dir, \"loss.csv\")))\n",
    "        H1_length_df = H1_length_df.append(pd.DataFrame.from_csv(os.path.join(cur_dir, \"H1_length.csv\")))\n",
    "        H0_length_df = H0_length_df.append(pd.DataFrame.from_csv(os.path.join(cur_dir, \"H0_length.csv\")))\n",
    "    \n",
    "    discriminants = [col for col in raw_loss_df.columns if \"campaign\" not in col]\n",
    "    length_df = H1_length_df[discriminants] + H0_length_df[discriminants]\n",
    "    loss_df = raw_loss_df[discriminants]\n",
    "    \n",
    "    total_length_df = length_df.sum(axis = 1)\n",
    "    global_loss_df = pd.DataFrame((length_df * loss_df).sum(axis = 1) / total_length_df)\n",
    "    global_loss_df = pd.concat([raw_loss_df[\"campaign\"], global_loss_df], axis = 1)\n",
    "    global_loss_df.columns = [\"campaign\", \"global loss\"]\n",
    "            \n",
    "    return global_loss_df"
   ]
  },
  {
   "cell_type": "code",
   "execution_count": 48,
   "metadata": {
    "collapsed": true
   },
   "outputs": [],
   "source": [
    "def parse_campaign_name(string, keys):\n",
    "    out_dict = {}\n",
    "    \n",
    "    for key in keys:\n",
    "        start_pos = string.find(key) + len(key)\n",
    "        end_pos = start_pos\n",
    "        \n",
    "        while end_pos < len(string) and not string[end_pos].isalpha():\n",
    "            end_pos += 1\n",
    "                                    \n",
    "        out_dict[key] = float(string[start_pos + 1:end_pos])\n",
    "        \n",
    "    return out_dict"
   ]
  },
  {
   "cell_type": "code",
   "execution_count": 49,
   "metadata": {
    "collapsed": false
   },
   "outputs": [],
   "source": [
    "gloss = compute_global_loss([\"/data_CMS/cms/wind/HyperparameterPlots\",\n",
    "                              \"/data_CMS/cms/wind/HyperparameterPlots\"])"
   ]
  },
  {
   "cell_type": "code",
   "execution_count": 50,
   "metadata": {
    "collapsed": false
   },
   "outputs": [
    {
     "data": {
      "text/plain": [
       "{'number_layers': 3.0, 'number_neurons': 96.0}"
      ]
     },
     "execution_count": 50,
     "metadata": {},
     "output_type": "execute_result"
    }
   ],
   "source": [
    "parse_campaign_name(\"number_neurons_96.0number_layers_3.0\", [\"number_layers\", \"number_neurons\"])"
   ]
  },
  {
   "cell_type": "code",
   "execution_count": null,
   "metadata": {
    "collapsed": true
   },
   "outputs": [],
   "source": []
  }
 ],
 "metadata": {
  "kernelspec": {
   "display_name": "Python 2",
   "language": "python",
   "name": "python2"
  },
  "language_info": {
   "codemirror_mode": {
    "name": "ipython",
    "version": 2
   },
   "file_extension": ".py",
   "mimetype": "text/x-python",
   "name": "python",
   "nbconvert_exporter": "python",
   "pygments_lexer": "ipython2",
   "version": "2.7.11"
  }
 },
 "nbformat": 4,
 "nbformat_minor": 2
}
