{
 "cells": [
  {
   "cell_type": "code",
   "execution_count": 3,
   "metadata": {
    "collapsed": false
   },
   "outputs": [],
   "source": [
    "import os\n",
    "import sys\n",
    "import glob\n",
    "import matplotlib.pyplot as plt\n",
    "import numpy as np\n",
    "import pandas as pd\n",
    "import matplotlib.ticker as ticker\n",
    "import re\n",
    "import math"
   ]
  },
  {
   "cell_type": "code",
   "execution_count": 4,
   "metadata": {
    "collapsed": true
   },
   "outputs": [],
   "source": [
    "sys.path.insert(0, '/home/llr/cms/wind/cmssw/CMSSW_9_4_2/src/ZZAnalysis/AnalysisStep/test/Python/')"
   ]
  },
  {
   "cell_type": "code",
   "execution_count": 5,
   "metadata": {
    "collapsed": false
   },
   "outputs": [
    {
     "name": "stdout",
     "output_type": "stream",
     "text": [
      "Welcome to JupyROOT 6.10/09\n"
     ]
    },
    {
     "name": "stderr",
     "output_type": "stream",
     "text": [
      "Using TensorFlow backend.\n"
     ]
    }
   ],
   "source": [
    "from trainlib.ConfigFileHandler import ConfigFileHandler\n",
    "from trainlib.ModelCollectionConfigFileHandler import ModelCollectionConfigFileHandler\n",
    "from trainlib.ConfigFileUtils import ConfigFileUtils"
   ]
  },
  {
   "cell_type": "code",
   "execution_count": 6,
   "metadata": {
    "collapsed": true
   },
   "outputs": [],
   "source": [
    "bin_dir = {\"Untagged\": 0,\n",
    "            \"VBF1j\": 1,\n",
    "            \"VBF2j\": 2,\n",
    "            \"VHlept\": 3,\n",
    "            \"VHhadr\": 4,\n",
    "            \"ttHlept\": 5,\n",
    "            \"ttHhadr\": 6,\n",
    "            \"VHMET\": 7}"
   ]
  },
  {
   "cell_type": "code",
   "execution_count": 7,
   "metadata": {
    "collapsed": true
   },
   "outputs": [],
   "source": [
    "campaign_workspace = \"/data_CMS/cms/wind/\""
   ]
  },
  {
   "cell_type": "code",
   "execution_count": 8,
   "metadata": {
    "collapsed": true
   },
   "outputs": [],
   "source": [
    "def weight_func(delta_p, alpha):\n",
    "    retval = 0.0\n",
    "    \n",
    "    if(delta_p > 0.0):\n",
    "        retval = 1.0 / alpha * math.tanh(alpha * delta_p)\n",
    "    else:\n",
    "        retval = delta_p\n",
    "        \n",
    "    retval -= 1.0 / alpha\n",
    "    \n",
    "    #print \"delta_p = \" + str(delta_p)\n",
    "    #print \"weight = \" + str(retval)\n",
    "    \n",
    "    return retval\n",
    "\n",
    "def cost_func(delta_pi, alpha, m):\n",
    "    cost = 0.0\n",
    "        \n",
    "    for delta_p in delta_pi:\n",
    "        cost += math.pow(1.0 / alpha, m) - math.pow(weight_func(delta_p, alpha), m)\n",
    "        \n",
    "    return cost"
   ]
  },
  {
   "cell_type": "code",
   "execution_count": 9,
   "metadata": {
    "collapsed": true
   },
   "outputs": [],
   "source": [
    "def make_comparison_plot(campaign_workspace, campaign_names, punzidata_file, identifier):\n",
    "    df = pd.DataFrame()\n",
    "\n",
    "    for campaign_name in campaign_names:\n",
    "        campaign_dir = campaign_workspace + campaign_name + \"/\"\n",
    "    \n",
    "        for folder, subs, files in os.walk(campaign_dir):\n",
    "            if re.match(identifier, folder):\n",
    "                values = {}\n",
    "            \n",
    "                punzi_file = folder + \"/\" + punzidata_file\n",
    "            \n",
    "                try:                \n",
    "                    # try to read the punzi values\n",
    "                    conf = ConfigFileHandler()\n",
    "                    conf.load_configuration(punzi_file)\n",
    "                    \n",
    "                    delta_pi = []\n",
    "                    \n",
    "                    # load the Punzi values for each category\n",
    "                    for category, bin_number in bin_dir.iteritems():\n",
    "                        delta_p = float(conf.get_field(\"Punzi\", category))\n",
    "                        if \"Untagged\" not in category:\n",
    "                            delta_pi.append(delta_p - 1)\n",
    "                        values[category] = [delta_p]\n",
    "            \n",
    "                    #benchmark_value = values['VBF1j'][0] + values['VBF2j'][0] + values['VHlept'][0] + values['VHhadr'][0] + values['ttHlept'][0] + values['ttHhadr'][0] + values['VHMET'][0] - 7\n",
    "                    benchmark_value = cost_func(delta_pi, 8.0, 2)\n",
    "            \n",
    "                    values[\"campaign\"] = folder.replace(campaign_workspace, '') + ' (' + str(benchmark_value) + ')'\n",
    "                    values[\"benchmark_value\"] = benchmark_value\n",
    "            \n",
    "                    df = df.append(pd.DataFrame.from_dict(values))\n",
    "                except (KeyError, IOError):\n",
    "                    print(punzi_file + \" does not exist\")\n",
    "\n",
    "    fig = plt.figure(figsize = (15, 10))\n",
    "                    \n",
    "    if len(df) > 0:\n",
    "        df = df.sort_values('benchmark_value', ascending = False)\n",
    "\n",
    "        sorted_datacols = sorted(bin_dir.items(), key = lambda x: x[1])\n",
    "        sorted_datacol_names = [x[0] for x in sorted_datacols]\n",
    "\n",
    "        punzi_data = df[sorted_datacol_names].as_matrix()\n",
    "        punzi_data = np.transpose(punzi_data)\n",
    "\n",
    "        inparam_labels = np.concatenate([[''], df['campaign'].as_matrix()])\n",
    "\n",
    "        ax = fig.add_subplot(111)\n",
    "        cax = ax.matshow(punzi_data, interpolation = 'none', cmap = 'RdYlGn', aspect = 0.6, vmin = 0.8, vmax = 1.2)\n",
    "        fig.colorbar(cax)\n",
    "        #ax.set_yticklabels(range(len(bin_dir)), [''] + sorted_datacol_names)\n",
    "        #ax.set_xticklabels(range(len(df)), inparam_labels, rotation = 'vertical')\n",
    "        ax.set_yticklabels([''] + sorted_datacol_names)\n",
    "        ax.set_xticklabels(inparam_labels, rotation = 'vertical')\n",
    "        ax.xaxis.tick_bottom()\n",
    "        ax.xaxis.set_major_locator(ticker.MultipleLocator(1))\n",
    "        ax.yaxis.set_major_locator(ticker.MultipleLocator(1))\n",
    "        #plt.tight_layout()\n",
    "        plt.title(\"Punzi purity ratio [\" + punzidata_file + \"]\")\n",
    "        #plt.savefig(statistics_dir + \"punzi_input_sweep.pdf\")\n",
    "        #plt.show()\n",
    "\n",
    "    return fig"
   ]
  },
  {
   "cell_type": "code",
   "execution_count": 200,
   "metadata": {
    "collapsed": false
   },
   "outputs": [],
   "source": [
    "%%capture\n",
    "plot_23 = make_comparison_plot(campaign_workspace, [\"180423_Adam_optimized_inputs_64_reopt/\"], \"Mor18_punzi_comp.conf\", \".*comp.*test.*\")"
   ]
  },
  {
   "cell_type": "code",
   "execution_count": 201,
   "metadata": {
    "collapsed": false
   },
   "outputs": [
    {
     "data": {
      "text/plain": [
       "<matplotlib.figure.Figure at 0x7fa915858110>"
      ]
     },
     "metadata": {},
     "output_type": "display_data"
    }
   ],
   "source": [
    "plt.show()"
   ]
  },
  {
   "cell_type": "code",
   "execution_count": null,
   "metadata": {
    "collapsed": true
   },
   "outputs": [],
   "source": []
  }
 ],
 "metadata": {
  "kernelspec": {
   "display_name": "Python 2",
   "language": "python",
   "name": "python2"
  },
  "language_info": {
   "codemirror_mode": {
    "name": "ipython",
    "version": 2
   },
   "file_extension": ".py",
   "mimetype": "text/x-python",
   "name": "python",
   "nbconvert_exporter": "python",
   "pygments_lexer": "ipython2",
   "version": "2.7.11"
  }
 },
 "nbformat": 4,
 "nbformat_minor": 2
}
