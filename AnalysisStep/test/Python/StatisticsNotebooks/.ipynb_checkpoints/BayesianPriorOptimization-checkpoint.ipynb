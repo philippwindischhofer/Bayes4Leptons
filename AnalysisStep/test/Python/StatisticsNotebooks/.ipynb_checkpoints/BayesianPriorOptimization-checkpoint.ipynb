{
 "cells": [
  {
   "cell_type": "code",
   "execution_count": 1,
   "metadata": {
    "collapsed": true
   },
   "outputs": [],
   "source": [
    "from bayes_opt import BayesianOptimization\n",
    "import numpy as np\n",
    "\n",
    "import matplotlib.pyplot as plt\n",
    "from matplotlib import gridspec"
   ]
  },
  {
   "cell_type": "code",
   "execution_count": 2,
   "metadata": {
    "collapsed": true
   },
   "outputs": [],
   "source": [
    "from subprocess import check_output"
   ]
  },
  {
   "cell_type": "code",
   "execution_count": 10,
   "metadata": {
    "collapsed": false
   },
   "outputs": [
    {
     "ename": "ImportError",
     "evalue": "No module named trainlib.ConfigFileHandler",
     "output_type": "error",
     "traceback": [
      "\u001b[0;31m---------------------------------------------------------------------------\u001b[0m",
      "\u001b[0;31mImportError\u001b[0m                               Traceback (most recent call last)",
      "\u001b[0;32m<ipython-input-10-53f684404814>\u001b[0m in \u001b[0;36m<module>\u001b[0;34m()\u001b[0m\n\u001b[0;32m----> 1\u001b[0;31m \u001b[0;32mfrom\u001b[0m \u001b[0mtrainlib\u001b[0m\u001b[0;34m.\u001b[0m\u001b[0mConfigFileHandler\u001b[0m \u001b[0;32mimport\u001b[0m \u001b[0mConfigFileHandler\u001b[0m\u001b[0;34m\u001b[0m\u001b[0m\n\u001b[0m",
      "\u001b[0;31mImportError\u001b[0m: No module named trainlib.ConfigFileHandler"
     ]
    }
   ],
   "source": [
    "from trainlib.ConfigFileHandler import ConfigFileHandler"
   ]
  },
  {
   "cell_type": "code",
   "execution_count": 3,
   "metadata": {
    "collapsed": true
   },
   "outputs": [],
   "source": [
    "run_dir = \"/data_CMS/cms/wind/180411_class_weights_Adam_optimized_softjets/input_columns_4/\"\n",
    "engine = \"tree\"\n",
    "out_dir = \"/data_CMS/cms/wind/prior_evaluator/\""
   ]
  },
  {
   "cell_type": "code",
   "execution_count": null,
   "metadata": {
    "collapsed": true
   },
   "outputs": [],
   "source": [
    "def punzi_target(ggH_prior, WHh_prior, ZHh_prior, WHl_prior, ZHl_prior, ZHMET_prior, ttHh_prior, ttHl_prior):\n",
    "    bin_dir = \"/home/llr/cms/wind/cmssw/CMSSW_9_4_2/bin/slc6_amd64_gcc630/\"\n",
    "    cost_function_evaluator = \"run_prior_evaluator\"\n",
    "    \n",
    "    #output = check_output([bin_dir + cost_function_evaluator, run_dir, out_dir, engine, str(ggH_prior), str(WHh_prior), \n",
    "    #          str(ZHh_prior), str(WHl_prior), str(ZHl_prior), str(ZHMET_prior), str(ttHh_prior), str(ttHl_prior)])\n",
    "    \n",
    "    #costval = 0.0\n",
    "\n",
    "    #for line in output.split('\\n'):\n",
    "    #    if \"cost = \" in line:\n",
    "    #        costval = -float(line.replace(\"cost = \", \"\"))\n",
    "    #        break\n",
    "    \n",
    "    costval = -(ggH_prior - 0.5)**2 - (WHh_prior - 0.1)**2 - (ZHh_prior - 0.9)**2- (WHl_prior - 0.1)**2 \n",
    "     \n",
    "    return costval"
   ]
  },
  {
   "cell_type": "code",
   "execution_count": 5,
   "metadata": {
    "collapsed": true
   },
   "outputs": [],
   "source": [
    "eps = 1e-3"
   ]
  },
  {
   "cell_type": "code",
   "execution_count": 6,
   "metadata": {
    "collapsed": true
   },
   "outputs": [],
   "source": [
    "bo = BayesianOptimization(punzi_target, {'ggH_prior': (1.0, 4.0), 'WHh_prior': (eps, 1.0), \n",
    "                                   'ZHh_prior': (eps, 1.0), 'WHl_prior': (eps, 1.0),\n",
    "                                   'ZHl_prior': (eps, 1.0), 'ZHMET_prior': (eps, 1.0),\n",
    "                                   'ttHh_prior': (eps, 1.0), 'ttHl_prior': (eps, 1.0)})"
   ]
  },
  {
   "cell_type": "code",
   "execution_count": 7,
   "metadata": {
    "collapsed": false,
    "scrolled": true
   },
   "outputs": [
    {
     "name": "stdout",
     "output_type": "stream",
     "text": [
      "\u001b[31mInitialization\u001b[0m\n",
      "\u001b[94m-------------------------------------------------------------------------------------------------------------------------------------------------\u001b[0m\n",
      " Step |   Time |      Value |   WHh_prior |   WHl_prior |   ZHMET_prior |   ZHh_prior |   ZHl_prior |   ggH_prior |   ttHh_prior |   ttHl_prior | \n",
      "    1 | 00m00s | \u001b[35m   2.24136\u001b[0m | \u001b[32m     0.4645\u001b[0m | \u001b[32m     0.7359\u001b[0m | \u001b[32m       0.4353\u001b[0m | \u001b[32m     0.7061\u001b[0m | \u001b[32m     0.0971\u001b[0m | \u001b[32m     3.3774\u001b[0m | \u001b[32m      0.4728\u001b[0m | \u001b[32m      0.1732\u001b[0m | \n",
      "    2 | 00m00s |    1.03172 |      0.3895 |      0.9097 |        0.9534 |      0.3189 |      0.0628 |      1.9717 |       0.0868 |       0.4386 | \n",
      "    3 | 00m00s |    1.47576 |      0.4107 |      0.7142 |        0.8607 |      0.8579 |      0.5026 |      1.8947 |       0.2851 |       0.1595 | \n",
      "    4 | 00m00s |    1.37258 |      0.4151 |      0.2782 |        0.2074 |      0.0055 |      0.6053 |      3.3022 |       0.4923 |       0.0032 | \n",
      "\u001b[31mBayesian Optimization\u001b[0m\n",
      "\u001b[94m-------------------------------------------------------------------------------------------------------------------------------------------------\u001b[0m\n",
      " Step |   Time |      Value |   WHh_prior |   WHl_prior |   ZHMET_prior |   ZHh_prior |   ZHl_prior |   ggH_prior |   ttHh_prior |   ttHl_prior | \n"
     ]
    }
   ],
   "source": [
    "bo.maximize(init_points = 4, n_iter = 0, acq = 'ucb', kappa = 5)"
   ]
  },
  {
   "cell_type": "code",
   "execution_count": 8,
   "metadata": {
    "collapsed": false
   },
   "outputs": [
    {
     "name": "stdout",
     "output_type": "stream",
     "text": [
      "\u001b[31mBayesian Optimization\u001b[0m\n",
      "\u001b[94m-------------------------------------------------------------------------------------------------------------------------------------------------\u001b[0m\n",
      " Step |   Time |      Value |   WHh_prior |   WHl_prior |   ZHMET_prior |   ZHh_prior |   ZHl_prior |   ggH_prior |   ttHh_prior |   ttHl_prior | \n",
      "    5 | 00m06s | \u001b[35m   3.00000\u001b[0m | \u001b[32m     1.0000\u001b[0m | \u001b[32m     1.0000\u001b[0m | \u001b[32m       1.0000\u001b[0m | \u001b[32m     1.0000\u001b[0m | \u001b[32m     1.0000\u001b[0m | \u001b[32m     4.0000\u001b[0m | \u001b[32m      1.0000\u001b[0m | \u001b[32m      1.0000\u001b[0m | \n",
      "{'max_val': 3.0, 'max_params': {'WHl_prior': 0.99999999999999989, 'WHh_prior': 1.0, 'ZHMET_prior': 1.0, 'ttHl_prior': 1.0, 'ZHl_prior': 1.0, 'ZHh_prior': 1.0, 'ggH_prior': 4.0, 'ttHh_prior': 1.0}}\n",
      "\u001b[31mBayesian Optimization\u001b[0m\n",
      "\u001b[94m-------------------------------------------------------------------------------------------------------------------------------------------------\u001b[0m\n",
      " Step |   Time |      Value |   WHh_prior |   WHl_prior |   ZHMET_prior |   ZHh_prior |   ZHl_prior |   ggH_prior |   ttHh_prior |   ttHl_prior | \n",
      "    6 | 00m05s |   -0.99600 |      0.0010 |      0.0010 |        1.0000 |      1.0000 |      1.0000 |      4.0000 |       0.0010 |       1.0000 | \n",
      "{'max_val': 3.0, 'max_params': {'WHl_prior': 0.99999999999999989, 'WHh_prior': 1.0, 'ZHMET_prior': 1.0, 'ttHl_prior': 1.0, 'ZHl_prior': 1.0, 'ZHh_prior': 1.0, 'ggH_prior': 4.0, 'ttHh_prior': 1.0}}\n",
      "\u001b[31mBayesian Optimization\u001b[0m\n",
      "\u001b[94m-------------------------------------------------------------------------------------------------------------------------------------------------\u001b[0m\n",
      " Step |   Time |      Value |   WHh_prior |   WHl_prior |   ZHMET_prior |   ZHh_prior |   ZHl_prior |   ggH_prior |   ttHh_prior |   ttHl_prior | \n",
      "    7 | 00m13s |    2.87671 |      1.0000 |      1.0000 |        0.4728 |      0.9852 |      0.8845 |      3.0508 |       1.0000 |       0.6553 | \n",
      "{'max_val': 3.0, 'max_params': {'WHl_prior': 0.99999999999999989, 'WHh_prior': 1.0, 'ZHMET_prior': 1.0, 'ttHl_prior': 1.0, 'ZHl_prior': 1.0, 'ZHh_prior': 1.0, 'ggH_prior': 4.0, 'ttHh_prior': 1.0}}\n",
      "\u001b[31mBayesian Optimization\u001b[0m\n",
      "\u001b[94m-------------------------------------------------------------------------------------------------------------------------------------------------\u001b[0m\n",
      " Step |   Time |      Value |   WHh_prior |   WHl_prior |   ZHMET_prior |   ZHh_prior |   ZHl_prior |   ggH_prior |   ttHh_prior |   ttHl_prior | \n",
      "    8 | 00m09s | \u001b[35m   3.58012\u001b[0m | \u001b[32m     1.0000\u001b[0m | \u001b[32m     1.0000\u001b[0m | \u001b[32m       1.0000\u001b[0m | \u001b[32m     0.2097\u001b[0m | \u001b[32m     0.0997\u001b[0m | \u001b[32m     3.5699\u001b[0m | \u001b[32m      1.0000\u001b[0m | \u001b[32m      1.0000\u001b[0m | \n",
      "{'max_val': 3.5801209456233209, 'max_params': {'WHl_prior': 1.0, 'WHh_prior': 1.0, 'ZHMET_prior': 1.0, 'ttHl_prior': 1.0, 'ZHl_prior': 0.099720318124944599, 'ZHh_prior': 0.20969851694919603, 'ggH_prior': 3.5698630649240144, 'ttHh_prior': 1.0}}\n",
      "\u001b[31mBayesian Optimization\u001b[0m\n",
      "\u001b[94m-------------------------------------------------------------------------------------------------------------------------------------------------\u001b[0m\n",
      " Step |   Time |      Value |   WHh_prior |   WHl_prior |   ZHMET_prior |   ZHh_prior |   ZHl_prior |   ggH_prior |   ttHh_prior |   ttHl_prior | \n",
      "    9 | 00m09s | \u001b[35m   4.63307\u001b[0m | \u001b[32m     1.0000\u001b[0m | \u001b[32m     1.0000\u001b[0m | \u001b[32m       0.0010\u001b[0m | \u001b[32m     0.6351\u001b[0m | \u001b[32m     0.0010\u001b[0m | \u001b[32m     4.0000\u001b[0m | \u001b[32m      1.0000\u001b[0m | \u001b[32m      1.0000\u001b[0m | \n",
      "{'max_val': 4.6330692030728384, 'max_params': {'WHl_prior': 1.0, 'WHh_prior': 1.0, 'ZHMET_prior': 0.001, 'ttHl_prior': 1.0, 'ZHl_prior': 0.001, 'ZHh_prior': 0.6350692030728381, 'ggH_prior': 4.0, 'ttHh_prior': 1.0}}\n",
      "\u001b[31mBayesian Optimization\u001b[0m\n",
      "\u001b[94m-------------------------------------------------------------------------------------------------------------------------------------------------\u001b[0m\n",
      " Step |   Time |      Value |   WHh_prior |   WHl_prior |   ZHMET_prior |   ZHh_prior |   ZHl_prior |   ggH_prior |   ttHh_prior |   ttHl_prior | \n",
      "   10 | 00m10s |    2.59944 |      1.0000 |      1.0000 |        0.0010 |      0.0010 |      0.7008 |      4.0000 |       1.0000 |       1.0000 | \n",
      "{'max_val': 4.6330692030728384, 'max_params': {'WHl_prior': 1.0, 'WHh_prior': 1.0, 'ZHMET_prior': 0.001, 'ttHl_prior': 1.0, 'ZHl_prior': 0.001, 'ZHh_prior': 0.6350692030728381, 'ggH_prior': 4.0, 'ttHh_prior': 1.0}}\n",
      "\u001b[31mBayesian Optimization\u001b[0m\n",
      "\u001b[94m-------------------------------------------------------------------------------------------------------------------------------------------------\u001b[0m\n",
      " Step |   Time |      Value |   WHh_prior |   WHl_prior |   ZHMET_prior |   ZHh_prior |   ZHl_prior |   ggH_prior |   ttHh_prior |   ttHl_prior | \n",
      "   11 | 00m11s | \u001b[35m   4.71687\u001b[0m | \u001b[32m     1.0000\u001b[0m | \u001b[32m     0.3508\u001b[0m | \u001b[32m       0.3288\u001b[0m | \u001b[32m     1.0000\u001b[0m | \u001b[32m     0.0010\u001b[0m | \u001b[32m     3.7189\u001b[0m | \u001b[32m      1.0000\u001b[0m | \u001b[32m      1.0000\u001b[0m | \n",
      "{'max_val': 4.7168662695976709, 'max_params': {'WHl_prior': 0.35080116287750962, 'WHh_prior': 1.0, 'ZHMET_prior': 0.3287918395945098, 'ttHl_prior': 1.0, 'ZHl_prior': 0.001, 'ZHh_prior': 1.0, 'ggH_prior': 3.7188662695976711, 'ttHh_prior': 1.0}}\n",
      "\u001b[31mBayesian Optimization\u001b[0m\n",
      "\u001b[94m-------------------------------------------------------------------------------------------------------------------------------------------------\u001b[0m\n",
      " Step |   Time |      Value |   WHh_prior |   WHl_prior |   ZHMET_prior |   ZHh_prior |   ZHl_prior |   ggH_prior |   ttHh_prior |   ttHl_prior | \n",
      "   12 | 00m11s | \u001b[35m   4.99875\u001b[0m | \u001b[32m     1.0000\u001b[0m | \u001b[32m     1.0000\u001b[0m | \u001b[32m       0.6521\u001b[0m | \u001b[32m     1.0000\u001b[0m | \u001b[32m     0.0010\u001b[0m | \u001b[32m     4.0000\u001b[0m | \u001b[32m      1.0000\u001b[0m | \u001b[32m      0.6226\u001b[0m | \n",
      "{'max_val': 4.9987547929653031, 'max_params': {'WHl_prior': 1.0, 'WHh_prior': 1.0, 'ZHMET_prior': 0.65209666385577925, 'ttHl_prior': 0.6226035173486113, 'ZHl_prior': 0.001, 'ZHh_prior': 1.0, 'ggH_prior': 4.0, 'ttHh_prior': 1.0}}\n",
      "\u001b[31mBayesian Optimization\u001b[0m\n",
      "\u001b[94m-------------------------------------------------------------------------------------------------------------------------------------------------\u001b[0m\n",
      " Step |   Time |      Value |   WHh_prior |   WHl_prior |   ZHMET_prior |   ZHh_prior |   ZHl_prior |   ggH_prior |   ttHh_prior |   ttHl_prior | \n",
      "   13 | 00m12s |    4.42403 |      1.0000 |      1.0000 |        0.4223 |      1.0000 |      0.0010 |      3.4260 |       1.0000 |       1.0000 | \n",
      "{'max_val': 4.9987547929653031, 'max_params': {'WHl_prior': 1.0, 'WHh_prior': 1.0, 'ZHMET_prior': 0.65209666385577925, 'ttHl_prior': 0.6226035173486113, 'ZHl_prior': 0.001, 'ZHh_prior': 1.0, 'ggH_prior': 4.0, 'ttHh_prior': 1.0}}\n",
      "\u001b[31mBayesian Optimization\u001b[0m\n",
      "\u001b[94m-------------------------------------------------------------------------------------------------------------------------------------------------\u001b[0m\n",
      " Step |   Time |      Value |   WHh_prior |   WHl_prior |   ZHMET_prior |   ZHh_prior |   ZHl_prior |   ggH_prior |   ttHh_prior |   ttHl_prior | \n",
      "   14 | 00m15s | \u001b[35m   4.99952\u001b[0m | \u001b[32m     1.0000\u001b[0m | \u001b[32m     0.5842\u001b[0m | \u001b[32m       0.0010\u001b[0m | \u001b[32m     1.0000\u001b[0m | \u001b[32m     0.0010\u001b[0m | \u001b[32m     4.0000\u001b[0m | \u001b[32m      1.0000\u001b[0m | \u001b[32m      0.2425\u001b[0m | \n",
      "{'max_val': 4.9995150567431077, 'max_params': {'WHl_prior': 0.58422321530256283, 'WHh_prior': 1.0, 'ZHMET_prior': 0.001, 'ttHl_prior': 0.24247162844605408, 'ZHl_prior': 0.001, 'ZHh_prior': 1.0, 'ggH_prior': 4.0, 'ttHh_prior': 1.0}}\n"
     ]
    }
   ],
   "source": [
    "for it in range (5):\n",
    "    bo.maximize(init_points = 4, n_iter = 1, acq = 'ucb', kappa = 5)\n",
    "    \n",
    "    # evaluate the current maximum\n",
    "    curval = bo.res['max']\n",
    "    cost = curval['max_val']\n",
    "    priors = curval['max_params']\n",
    "    \n",
    "    confhandler = ConfigFileHandler()\n",
    "    confhandler.new_section('Priors')\n",
    "    confhandler.set_field('Priors', 'cost', cost)\n",
    "    \n",
    "    for key, val in priors.iteritems():\n",
    "        confhandler.set_field('Priors', key, val)\n",
    "        \n",
    "    confhandler.save_configuration(out_dir + 'priors.txt')"
   ]
  },
  {
   "cell_type": "code",
   "execution_count": null,
   "metadata": {
    "collapsed": true
   },
   "outputs": [],
   "source": []
  }
 ],
 "metadata": {
  "kernelspec": {
   "display_name": "Python 2",
   "language": "python",
   "name": "python2"
  },
  "language_info": {
   "codemirror_mode": {
    "name": "ipython",
    "version": 2
   },
   "file_extension": ".py",
   "mimetype": "text/x-python",
   "name": "python",
   "nbconvert_exporter": "python",
   "pygments_lexer": "ipython2",
   "version": "2.7.11"
  }
 },
 "nbformat": 4,
 "nbformat_minor": 2
}
