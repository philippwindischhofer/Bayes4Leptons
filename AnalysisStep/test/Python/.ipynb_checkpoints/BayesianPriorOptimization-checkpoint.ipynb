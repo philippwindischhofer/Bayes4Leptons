{
 "cells": [
  {
   "cell_type": "code",
   "execution_count": 1,
   "metadata": {
    "collapsed": false
   },
   "outputs": [],
   "source": [
    "import sys\n",
    "sys.path.insert(0, '/home/llr/cms/wind/.local/lib/python2.7/site-packages/')"
   ]
  },
  {
   "cell_type": "code",
   "execution_count": 2,
   "metadata": {
    "collapsed": true
   },
   "outputs": [],
   "source": [
    "from bayes_opt import BayesianOptimization\n",
    "import numpy as np\n",
    "\n",
    "import matplotlib.pyplot as plt\n",
    "from matplotlib import gridspec\n",
    "import os\n",
    "import math"
   ]
  },
  {
   "cell_type": "code",
   "execution_count": 3,
   "metadata": {
    "collapsed": true
   },
   "outputs": [],
   "source": [
    "from subprocess import check_output"
   ]
  },
  {
   "cell_type": "code",
   "execution_count": 4,
   "metadata": {
    "collapsed": false
   },
   "outputs": [],
   "source": [
    "from trainlib.ConfigFileHandler import ConfigFileHandler"
   ]
  },
  {
   "cell_type": "code",
   "execution_count": 5,
   "metadata": {
    "collapsed": true
   },
   "outputs": [],
   "source": [
    "run_dir = \"/data_CMS/cms/wind/180410_class_weights_Adam_smallbatch/input_columns_4/\"\n",
    "engine = \"tree\"\n",
    "out_dir = \"/data_CMS/cms/wind/prior_evaluator_2/\""
   ]
  },
  {
   "cell_type": "code",
   "execution_count": 10,
   "metadata": {
    "collapsed": false
   },
   "outputs": [],
   "source": [
    "evalcnt = 0\n",
    "\n",
    "def punzi_target(ggH_prior, WHhadr_prior, ZHhadr_prior, WHlept_prior, ZHlept_prior, ZHMET_prior, ttHhadr_prior, ttHlept_prior):\n",
    "    global evalcnt\n",
    "    bin_dir = \"/home/llr/cms/wind/cmssw/CMSSW_9_4_2/bin/slc6_amd64_gcc630/\"\n",
    "    cost_function_evaluator = \"run_prior_evaluator\"\n",
    "    \n",
    "    output = check_output([bin_dir + cost_function_evaluator, run_dir, out_dir, engine, str(ggH_prior), str(WHhadr_prior), \n",
    "              str(ZHhadr_prior), str(WHlept_prior), str(ZHlept_prior), str(ZHMET_prior), str(ttHhadr_prior), str(ttHlept_prior)])\n",
    "    \n",
    "    costval = 0.0\n",
    "\n",
    "    for line in output.split('\\n'):\n",
    "        if \"cost = \" in line:\n",
    "            costval = -float(line.replace(\"cost = \", \"\"))\n",
    "            break\n",
    "    \n",
    "    # save the sampled point such that later they can be used as exploration points (if the need occurs)\n",
    "               \n",
    "    if math.isnan(costval):\n",
    "        costval = -10.0\n",
    "        \n",
    "    confhandler = ConfigFileHandler()\n",
    "    evaluations_path = out_dir + 'evaluations.txt'\n",
    "    \n",
    "    if os.path.exists(evaluations_path):\n",
    "        confhandler.load_configuration(evaluations_path)\n",
    "    \n",
    "    section_name = 'evaluation_' + str(evalcnt)\n",
    "    confhandler.new_section(section_name)\n",
    "    confhandler.set_field(section_name, 'cost', str(costval))\n",
    "    confhandler.set_field(section_name, 'ggH_prior', str(ggH_prior))\n",
    "    confhandler.set_field(section_name, 'WHhadr_prior', str(WHhadr_prior))\n",
    "    confhandler.set_field(section_name, 'ZHhadr_prior', str(ZHhadr_prior))\n",
    "    confhandler.set_field(section_name, 'WHlept_prior', str(WHlept_prior))\n",
    "    confhandler.set_field(section_name, 'ZHlept_prior', str(ZHlept_prior))\n",
    "    confhandler.set_field(section_name, 'ZHMET_prior', str(ZHMET_prior))\n",
    "    confhandler.set_field(section_name, 'ttHhadr_prior', str(ttHhadr_prior))\n",
    "    confhandler.set_field(section_name, 'ttHlept_prior', str(ttHlept_prior))\n",
    "    \n",
    "    confhandler.save_configuration(evaluations_path)\n",
    "         \n",
    "    evalcnt += 1\n",
    " \n",
    "    return costval"
   ]
  },
  {
   "cell_type": "code",
   "execution_count": 11,
   "metadata": {
    "collapsed": true
   },
   "outputs": [],
   "source": [
    "eps = 1e-3"
   ]
  },
  {
   "cell_type": "code",
   "execution_count": 25,
   "metadata": {
    "collapsed": true
   },
   "outputs": [],
   "source": [
    "bo = BayesianOptimization(punzi_target, {'ggH_prior': (1.0 + eps, 4.0), 'WHhadr_prior': (eps, 1.0 - eps), \n",
    "                                   'ZHhadr_prior': (eps, 1.0 - eps), 'WHlept_prior': (eps, 1.0 - eps),\n",
    "                                   'ZHlept_prior': (eps, 1.0 - eps), 'ZHMET_prior': (eps, 1.0 - eps),\n",
    "                                   'ttHhadr_prior': (eps, 1.0 - eps), 'ttHlept_prior': (eps, 1.0 - eps)})"
   ]
  },
  {
   "cell_type": "code",
   "execution_count": 14,
   "metadata": {
    "collapsed": false
   },
   "outputs": [
    {
     "name": "stdout",
     "output_type": "stream",
     "text": [
      "attempting to load configuration file from /data_CMS/cms/wind/prior_evaluator_2/evaluations.txt\n"
     ]
    }
   ],
   "source": [
    "# check if a file with previously evaluated points exists, if so, use them for initialization\n",
    "confhandler = ConfigFileHandler()\n",
    "evaluations_path = out_dir + 'evaluations.txt'\n",
    "\n",
    "if os.path.exists(evaluations_path):\n",
    "    confhandler.load_configuration(evaluations_path)"
   ]
  },
  {
   "cell_type": "code",
   "execution_count": 20,
   "metadata": {
    "collapsed": false
   },
   "outputs": [],
   "source": [
    "ggH_priors_init = []\n",
    "WHhadr_priors_init = []\n",
    "ZHhadr_priors_init = []\n",
    "WHlept_priors_init = []\n",
    "ZHlept_priors_init = []\n",
    "ZHMET_priors_init = []\n",
    "ttHhadr_priors_init = []\n",
    "ttHlept_priors_init = []\n",
    "targets_init = []\n",
    "\n",
    "for section_name in confhandler.get_sections():\n",
    "    cur_section = confhandler.get_section(section_name)\n",
    "    \n",
    "    targets_init.append(float(cur_section['cost']))\n",
    "    ggH_priors_init.append(float(cur_section['ggH_prior']))\n",
    "    WHhadr_priors_init.append(float(cur_section['WHhadr_prior']))\n",
    "    ZHhadr_priors_init.append(float(cur_section['ZHhadr_prior']))\n",
    "    WHlept_priors_init.append(float(cur_section['WHlept_prior']))\n",
    "    ZHlept_priors_init.append(float(cur_section['ZHlept_prior']))\n",
    "    ZHMET_priors_init.append(float(cur_section['ZHMET_prior']))\n",
    "    ttHhadr_priors_init.append(float(cur_section['ttHhadr_prior']))\n",
    "    ttHlept_priors_init.append(float(cur_section['ttHlept_prior']))"
   ]
  },
  {
   "cell_type": "code",
   "execution_count": 22,
   "metadata": {
    "collapsed": true
   },
   "outputs": [],
   "source": [
    "init_dict = {'target': targets_init, 'ggH_prior': ggH_priors_init, 'WHhadr_prior': WHhadr_priors_init,\n",
    "            'ZHhadr_prior': ZHhadr_priors_init, 'WHlept_prior': WHlept_priors_init, 'ZHlept_prior': ZHlept_priors_init,\n",
    "            'ZHMET_prior': ZHMET_priors_init, 'ttHhadr_prior': ttHhadr_priors_init, 'ttHlept_prior': ttHlept_priors_init}"
   ]
  },
  {
   "cell_type": "code",
   "execution_count": 26,
   "metadata": {
    "collapsed": true
   },
   "outputs": [],
   "source": [
    "bo.initialize(init_dict)"
   ]
  },
  {
   "cell_type": "code",
   "execution_count": 27,
   "metadata": {
    "collapsed": false,
    "scrolled": true
   },
   "outputs": [
    {
     "name": "stdout",
     "output_type": "stream",
     "text": [
      "\u001b[31mInitialization\u001b[0m\n",
      "\u001b[94m-------------------------------------------------------------------------------------------------------------------------------------------------------------------\u001b[0m\n",
      " Step |   Time |      Value |   WHhadr_prior |   WHlept_prior |   ZHMET_prior |   ZHhadr_prior |   ZHlept_prior |   ggH_prior |   ttHhadr_prior |   ttHlept_prior | \n",
      "attempting to load configuration file from /data_CMS/cms/wind/prior_evaluator_2/evaluations.txt\n",
      "    1 | 00m00s | \u001b[35m  32.17140\u001b[0m | \u001b[32m        0.3297\u001b[0m | \u001b[32m        0.3204\u001b[0m | \u001b[32m       0.6831\u001b[0m | \u001b[32m        0.0207\u001b[0m | \u001b[32m        0.1640\u001b[0m | \u001b[32m     3.3820\u001b[0m | \u001b[32m         0.6545\u001b[0m | \u001b[32m         0.0439\u001b[0m | \n",
      "attempting to load configuration file from /data_CMS/cms/wind/prior_evaluator_2/evaluations.txt\n",
      "    2 | 00m00s |   21.34357 |         0.4926 |         0.7171 |        0.0974 |         0.3505 |         0.7937 |      2.3806 |          0.1140 |          0.7380 | \n",
      "    3 | 00m00s |   12.79807 |         0.4868 |         0.8979 |        0.0632 |         0.7755 |         0.1225 |      1.5232 |          0.8170 |          0.3876 | \n",
      "    4 | 00m00s |   28.88479 |         0.4485 |         0.4974 |        0.8384 |         0.3272 |         0.6450 |      3.1127 |          0.1902 |          0.8395 | \n",
      "    5 | 00m00s |   26.17368 |         0.9554 |         0.2840 |        0.8972 |         0.6885 |         0.2132 |      3.0951 |          0.5400 |          0.3103 | \n",
      "    6 | 00m00s |   14.93231 |         0.0871 |         0.4584 |        0.7062 |         0.8166 |         0.0265 |      1.5368 |          0.4559 |          0.9589 | \n",
      "    7 | 00m00s |   14.98985 |         0.3425 |         0.7864 |        0.4829 |         0.5117 |         0.0683 |      1.6702 |          0.3458 |          0.4526 | \n",
      "    8 | 00m00s |   20.18393 |         0.1664 |         0.5699 |        0.0558 |         0.7191 |         0.9856 |      2.1016 |          0.1937 |          0.6362 | \n",
      "\u001b[31mBayesian Optimization\u001b[0m\n",
      "\u001b[94m-------------------------------------------------------------------------------------------------------------------------------------------------------------------\u001b[0m\n",
      " Step |   Time |      Value |   WHhadr_prior |   WHlept_prior |   ZHMET_prior |   ZHhadr_prior |   ZHlept_prior |   ggH_prior |   ttHhadr_prior |   ttHlept_prior | \n"
     ]
    }
   ],
   "source": [
    "bo.maximize(init_points = 6, n_iter = 0, acq = 'ucb', kappa = 3)"
   ]
  },
  {
   "cell_type": "code",
   "execution_count": null,
   "metadata": {
    "collapsed": false
   },
   "outputs": [
    {
     "name": "stdout",
     "output_type": "stream",
     "text": [
      "\u001b[31mBayesian Optimization\u001b[0m\n",
      "\u001b[94m-------------------------------------------------------------------------------------------------------------------------------------------------------------------\u001b[0m\n",
      " Step |   Time |      Value |   WHhadr_prior |   WHlept_prior |   ZHMET_prior |   ZHhadr_prior |   ZHlept_prior |   ggH_prior |   ttHhadr_prior |   ttHlept_prior | \n",
      "   61 | 00m06s | \u001b[35m   0.71976\u001b[0m | \u001b[32m        0.0010\u001b[0m | \u001b[32m        0.0010\u001b[0m | \u001b[32m       1.0000\u001b[0m | \u001b[32m        1.0000\u001b[0m | \u001b[32m        0.0010\u001b[0m | \u001b[32m     1.0000\u001b[0m | \u001b[32m         0.0010\u001b[0m | \u001b[32m         0.0010\u001b[0m | \n",
      "   62 | 00m06s |    0.58590 |         0.0010 |         0.0010 |        1.0000 |         1.0000 |         1.0000 |      1.0000 |          0.0010 |          1.0000 | \n",
      "   63 | 00m07s |    0.08640 |         0.0010 |         0.0010 |        1.0000 |         1.0000 |         0.0010 |      1.0000 |          1.0000 |          1.0000 | \n",
      "   64 | 00m06s |    0.22026 |         0.0010 |         0.0010 |        1.0000 |         1.0000 |         1.0000 |      1.0000 |          1.0000 |          0.0010 | \n",
      "   65 | 00m07s |   -0.21430 |         0.0010 |         1.0000 |        1.0000 |         1.0000 |         0.0010 |      1.0000 |          0.0010 |          1.0000 | \n",
      "   66 | 00m07s |   -0.08044 |         1.0000 |         0.0010 |        1.0000 |         1.0000 |         1.0000 |      1.0000 |          0.0010 |          0.0010 | \n",
      "   67 | 00m07s |   -0.21230 |         0.0010 |         0.0010 |        1.0000 |         0.0010 |         0.0010 |      1.0000 |          0.0010 |          1.0000 | \n",
      "   68 | 00m08s |   -0.57993 |         0.0010 |         1.0000 |        1.0000 |         1.0000 |         0.0010 |      1.0000 |          1.0000 |          0.0010 | \n",
      "   69 | 00m08s |    0.71976 |         0.0010 |         0.0010 |        1.0000 |         1.0000 |         1.0000 |      1.0000 |          0.0010 |          0.0010 | \n",
      "   70 | 00m09s |   -0.41310 |         0.0010 |         0.0010 |        0.0010 |         1.0000 |         0.0010 |      1.0000 |          0.0010 |          1.0000 | \n",
      "   71 | 00m10s |   -0.71380 |         1.0000 |         0.0010 |        1.0000 |         1.0000 |         1.0000 |      1.0000 |          1.0000 |          1.0000 | \n",
      "   72 | 00m11s |   -0.71180 |         0.0010 |         0.0010 |        1.0000 |         0.0010 |         1.0000 |      1.0000 |          1.0000 |          1.0000 | \n",
      "   73 | 00m13s |    0.58590 |         0.0010 |         0.0010 |        1.0000 |         1.0000 |         0.0010 |      1.0000 |          0.0010 |          1.0000 | \n",
      "   74 | 00m14s |   -0.08044 |         0.0010 |         1.0000 |        1.0000 |         1.0000 |         1.0000 |      1.0000 |          0.0010 |          0.0010 | \n",
      "   75 | 00m15s |   -0.71380 |         0.0010 |         1.0000 |        1.0000 |         1.0000 |         1.0000 |      1.0000 |          1.0000 |          1.0000 | \n",
      "   76 | 00m16s |   -0.39376 |         0.0010 |         0.0010 |        1.0000 |         0.1101 |         0.0010 |      1.0000 |          1.0000 |          0.0010 | \n",
      "   77 | 00m18s |    0.65765 |         0.0010 |         0.2009 |        1.0000 |         1.0000 |         0.4947 |      1.0000 |          0.0010 |          0.4616 | \n",
      "   78 | 00m16s |   -0.27924 |         0.0010 |         0.0010 |        0.0010 |         1.0000 |         1.0000 |      1.0000 |          0.0010 |          0.0010 | \n",
      "   79 | 00m16s |    0.39157 |         0.6814 |         0.0010 |        1.0000 |         1.0000 |         0.0010 |      1.0000 |          0.0010 |          0.0010 | \n",
      "   80 | 00m18s |    0.31709 |         0.0010 |         0.0010 |        1.0000 |         0.2576 |         1.0000 |      1.0000 |          0.0010 |          0.0010 | \n",
      "   81 | 00m17s |   -0.87864 |         0.0010 |         1.0000 |        1.0000 |         0.0010 |         0.0010 |      1.0000 |          0.0010 |          0.0010 | \n",
      "   82 | 00m19s |    0.01488 |         0.5639 |         0.0010 |        1.0000 |         1.0000 |         0.0010 |      1.0000 |          1.0000 |          0.0010 | \n",
      "   83 | 00m18s |    0.37789 |         0.5667 |         0.0010 |        1.0000 |         1.0000 |         0.6216 |      1.0000 |          0.0010 |          1.0000 | \n",
      "   84 | 00m20s |    0.49945 |         0.0010 |         0.0010 |        1.0000 |         1.0000 |         0.4168 |      1.0000 |          0.4416 |          0.0010 | \n",
      "   85 | 00m22s |   -1.01250 |         1.0000 |         0.0010 |        1.0000 |         0.0010 |         1.0000 |      1.0000 |          0.0010 |          1.0000 | \n",
      "   86 | 00m23s |    0.62420 |         0.1551 |         0.0010 |        1.0000 |         0.6525 |         0.0010 |      1.0000 |          0.0010 |          0.3822 | \n",
      "   87 | 00m22s |    0.63337 |         0.2873 |         0.0010 |        1.0000 |         1.0000 |         1.0000 |      1.0000 |          0.0010 |          0.4570 | \n",
      "   88 | 00m25s |    0.11365 |         0.0010 |         0.0010 |        0.3939 |         1.0000 |         0.0010 |      1.0000 |          0.0010 |          0.0010 | \n",
      "   89 | 00m24s |    0.71048 |         0.2221 |         0.0010 |        1.0000 |         0.7809 |         0.5101 |      1.0000 |          0.0010 |          0.0010 | \n",
      "   90 | 00m26s |    0.56361 |         0.2112 |         0.5042 |        1.0000 |         1.0000 |         0.0010 |      1.0000 |          0.0010 |          0.0010 | \n",
      "   91 | 00m28s |    0.53773 |         0.0010 |         0.0010 |        1.0000 |         0.6010 |         0.6879 |      1.0000 |          0.0010 |          0.7669 | \n"
     ]
    },
    {
     "name": "stderr",
     "output_type": "stream",
     "text": [
      "/cvmfs/cms.cern.ch/slc6_amd64_gcc630/external/py2-pippkgs_depscipy/3.0-fmblme3/lib/python2.7/site-packages/sklearn/gaussian_process/gpr.py:427: UserWarning: fmin_l_bfgs_b terminated abnormally with the  state: {'warnflag': 2, 'task': 'ABNORMAL_TERMINATION_IN_LNSRCH', 'grad': array([ -2.46165992e-05]), 'nit': 4, 'funcalls': 47}\n",
      "  \" state: %s\" % convergence_dict)\n"
     ]
    },
    {
     "name": "stdout",
     "output_type": "stream",
     "text": [
      "   92 | 00m30s |    0.33157 |         0.0010 |         0.0010 |        1.0000 |         1.0000 |         1.0000 |      1.0000 |          0.5698 |          0.7758 | \n",
      "   93 | 00m30s |    0.62557 |         0.2933 |         0.0010 |        1.0000 |         1.0000 |         0.0010 |      1.0000 |          0.0010 |          0.4983 | \n",
      "   94 | 00m31s |    0.30882 |         0.3510 |         0.5834 |        1.0000 |         1.0000 |         1.0000 |      1.0000 |          0.0010 |          1.0000 | \n",
      "   95 | 00m29s |    0.64945 |         0.0010 |         0.2950 |        1.0000 |         0.7650 |         1.0000 |      1.0000 |          0.0010 |          0.2537 | \n",
      "   96 | 00m32s |    0.66601 |         0.2896 |         0.2934 |        1.0000 |         1.0000 |         1.0000 |      1.0000 |          0.0010 |          0.0010 | \n",
      "   97 | 00m34s |    0.49665 |         0.2736 |         0.0010 |        1.0000 |         0.7451 |         1.0000 |      1.0000 |          0.3786 |          0.0010 | \n",
      "   98 | 00m37s |    0.56273 |         0.0010 |         0.0010 |        1.0000 |         0.4913 |         0.0010 |      1.0000 |          0.0010 |          0.0010 | \n",
      "   99 | 00m36s |    0.00402 |         0.0010 |         0.0010 |        0.4181 |         1.0000 |         1.0000 |      1.0000 |          0.0010 |          1.0000 | \n",
      "  100 | 00m39s |    0.68766 |         0.0010 |         0.3065 |        1.0000 |         0.8037 |         0.4454 |      1.0000 |          0.0010 |          0.0010 | \n",
      "  101 | 00m38s |    0.49108 |         0.0010 |         0.2486 |        1.0000 |         0.9329 |         0.0010 |      1.0000 |          0.3212 |          0.4878 | \n",
      "  102 | 00m41s |    0.50834 |         0.3348 |         0.3055 |        1.0000 |         0.8011 |         0.0010 |      1.0000 |          0.0010 |          1.0000 | \n",
      "  103 | 00m42s |    0.56194 |         0.0010 |         0.2837 |        1.0000 |         1.0000 |         0.5112 |      1.0000 |          0.0010 |          1.0000 | \n",
      "  104 | 00m47s |    0.70719 |         0.2588 |         0.1835 |        1.0000 |         1.0000 |         0.3388 |      1.0000 |          0.0010 |          0.0010 | \n",
      "  105 | 00m50s |    0.70155 |         0.2517 |         0.1730 |        1.0000 |         0.7604 |         0.0010 |      1.0000 |          0.0010 |          0.0010 | \n",
      "  106 | 00m48s |    0.56234 |         0.3371 |         0.3271 |        1.0000 |         0.7473 |         0.4750 |      1.0000 |          0.0010 |          0.4182 | \n",
      "  107 | 00m50s |    0.51462 |         0.0010 |         0.3153 |        1.0000 |         1.0000 |         1.0000 |      1.0000 |          0.3381 |          0.0010 | \n",
      "  108 | 00m52s |    0.71976 |         0.0010 |         0.0010 |        1.0000 |         1.0000 |         0.5989 |      1.0000 |          0.0010 |          0.0010 | \n",
      "  109 | 00m55s |    0.70163 |         0.0010 |         0.0010 |        1.0000 |         0.8179 |         0.2748 |      1.0000 |          0.0010 |          0.1607 | \n",
      "  110 | 00m57s |    0.71495 |         0.1873 |         0.0010 |        1.0000 |         0.7696 |         1.0000 |      1.0000 |          0.0010 |          0.0010 | \n",
      "  111 | 01m01s |    0.68306 |         0.0010 |         0.2503 |        1.0000 |         0.8906 |         0.0010 |      1.0000 |          0.0010 |          0.2534 | \n",
      "  112 | 01m04s |    0.69378 |         0.0010 |         0.0010 |        1.0000 |         0.8249 |         0.8357 |      1.0000 |          0.0010 |          0.2274 | \n",
      "  113 | 01m03s |    0.44399 |         0.0678 |         0.0544 |        1.0000 |         0.9320 |         0.0010 |      1.2425 |          0.0010 |          0.0010 | \n",
      "  114 | 00m59s |    0.70788 |         0.2473 |         0.0010 |        1.0000 |         1.0000 |         0.8305 |      1.0000 |          0.0010 |          0.0010 | \n",
      "  115 | 01m03s | \u001b[35m   0.74020\u001b[0m | \u001b[32m        0.0741\u001b[0m | \u001b[32m        0.1747\u001b[0m | \u001b[32m       1.0000\u001b[0m | \u001b[32m        0.8461\u001b[0m | \u001b[32m        0.8241\u001b[0m | \u001b[32m     1.0000\u001b[0m | \u001b[32m         0.0010\u001b[0m | \u001b[32m         0.0010\u001b[0m | \n",
      "  116 | 01m00s |    0.63052 |         0.0010 |         0.2307 |        1.0000 |         1.0000 |         1.0000 |      1.0000 |          0.0010 |          0.6126 | \n",
      "  117 | 01m07s |    0.54246 |         0.1254 |         0.1076 |        0.7939 |         0.9113 |         1.0000 |      1.0000 |          0.0010 |          0.0010 | \n",
      "  118 | 01m08s |    0.63776 |         0.1715 |         0.0010 |        1.0000 |         0.8681 |         0.0010 |      1.0000 |          0.1923 |          0.0010 | \n",
      "  119 | 01m09s |    0.71784 |         0.0010 |         0.2083 |        1.0000 |         1.0000 |         0.1450 |      1.0000 |          0.0010 |          0.0010 | \n",
      "  120 | 01m05s |    0.63528 |         0.1218 |         0.0010 |        1.0000 |         0.9050 |         0.3598 |      1.0000 |          0.0010 |          0.7755 | \n",
      "\u001b[31mBayesian Optimization\u001b[0m\n",
      "\u001b[94m-------------------------------------------------------------------------------------------------------------------------------------------------------------------\u001b[0m\n",
      " Step |   Time |      Value |   WHhadr_prior |   WHlept_prior |   ZHMET_prior |   ZHhadr_prior |   ZHlept_prior |   ggH_prior |   ttHhadr_prior |   ttHlept_prior | \n",
      "  121 | 01m05s |    0.72955 |         0.1990 |         0.1024 |        1.0000 |         1.0000 |         0.0010 |      1.0000 |          0.0010 |          0.0010 | \n",
      "  122 | 01m09s |    0.73729 |         0.1357 |         0.0010 |        1.0000 |         0.8683 |         0.1366 |      1.0000 |          0.0010 |          0.0010 | \n",
      "  123 | 01m07s |    0.73262 |         0.0010 |         0.1417 |        1.0000 |         0.8279 |         0.0010 |      1.0000 |          0.0010 |          0.0010 | \n",
      "  124 | 01m08s |    0.71727 |         0.1087 |         0.1424 |        1.0000 |         0.9971 |         1.0000 |      1.0000 |          0.0010 |          0.1561 | \n",
      "  125 | 01m06s | \u001b[35m   0.74865\u001b[0m | \u001b[32m        0.0783\u001b[0m | \u001b[32m        0.1066\u001b[0m | \u001b[32m       1.0000\u001b[0m | \u001b[32m        0.8857\u001b[0m | \u001b[32m        0.3885\u001b[0m | \u001b[32m     1.0000\u001b[0m | \u001b[32m         0.0010\u001b[0m | \u001b[32m         0.0010\u001b[0m | \n",
      "  126 | 01m12s |    0.73176 |         0.0010 |         0.1254 |        1.0000 |         0.8154 |         1.0000 |      1.0000 |          0.0010 |          0.0010 | \n",
      "  127 | 01m14s |    0.71009 |         0.0010 |         0.0018 |        1.0000 |         0.7591 |         0.6571 |      1.0000 |          0.0010 |          0.0010 | \n",
      "  128 | 01m11s |    0.72444 |         0.1139 |         0.2191 |        1.0000 |         1.0000 |         0.6281 |      1.0000 |          0.0010 |          0.0052 | \n",
      "  129 | 01m20s |    0.63902 |         0.0010 |         0.1653 |        1.0000 |         0.8305 |         0.0010 |      1.0000 |          0.0010 |          0.6836 | \n",
      "  130 | 01m20s |    0.72536 |         0.1303 |         0.1227 |        1.0000 |         0.8692 |         0.4799 |      1.0000 |          0.0010 |          0.1623 | \n",
      "  131 | 01m24s |    0.72778 |         0.1414 |         0.1769 |        1.0000 |         0.7819 |         0.2598 |      1.0000 |          0.0010 |          0.0012 | \n",
      "  132 | 01m27s | \u001b[35m   0.74884\u001b[0m | \u001b[32m        0.0872\u001b[0m | \u001b[32m        0.1134\u001b[0m | \u001b[32m       1.0000\u001b[0m | \u001b[32m        0.9137\u001b[0m | \u001b[32m        0.9803\u001b[0m | \u001b[32m     1.0000\u001b[0m | \u001b[32m         0.0010\u001b[0m | \u001b[32m         0.0010\u001b[0m | \n",
      "  133 | 01m42s |    0.70791 |         0.0010 |         0.2472 |        1.0000 |         1.0000 |         0.9928 |      1.0000 |          0.0010 |          0.0010 | \n"
     ]
    },
    {
     "name": "stderr",
     "output_type": "stream",
     "text": [
      "/cvmfs/cms.cern.ch/slc6_amd64_gcc630/external/py2-pippkgs_depscipy/3.0-fmblme3/lib/python2.7/site-packages/sklearn/gaussian_process/gpr.py:427: UserWarning: fmin_l_bfgs_b terminated abnormally with the  state: {'warnflag': 2, 'task': 'ABNORMAL_TERMINATION_IN_LNSRCH', 'grad': array([ -9.02500935e-05]), 'nit': 6, 'funcalls': 57}\n",
      "  \" state: %s\" % convergence_dict)\n"
     ]
    },
    {
     "name": "stdout",
     "output_type": "stream",
     "text": [
      "  134 | 01m38s |    0.72716 |         0.1490 |         0.0010 |        1.0000 |         1.0000 |         0.3749 |      1.0000 |          0.0010 |          0.0010 | \n",
      "  135 | 01m40s |    0.74648 |         0.1228 |         0.0515 |        1.0000 |         0.9038 |         0.0025 |      1.0000 |          0.0010 |          0.0010 | \n"
     ]
    },
    {
     "name": "stderr",
     "output_type": "stream",
     "text": [
      "/cvmfs/cms.cern.ch/slc6_amd64_gcc630/external/py2-pippkgs_depscipy/3.0-fmblme3/lib/python2.7/site-packages/sklearn/gaussian_process/gpr.py:308: UserWarning: Predicted variances smaller than 0. Setting those variances to 0.\n",
      "  warnings.warn(\"Predicted variances smaller than 0. \"\n"
     ]
    },
    {
     "name": "stdout",
     "output_type": "stream",
     "text": [
      "  136 | 01m53s |    0.73698 |         0.0508 |         0.0010 |        1.0000 |         0.9127 |         0.8673 |      1.0000 |          0.0010 |          0.0010 | \n",
      "  137 | 02m00s |    0.74385 |         0.1494 |         0.1380 |        1.0000 |         0.8596 |         0.8600 |      1.0000 |          0.0010 |          0.0010 | \n",
      "  138 | 02m07s |    0.69729 |         0.0157 |         0.0010 |        1.0000 |         0.9457 |         0.0010 |      1.0000 |          0.0010 |          0.2480 | \n",
      "  139 | 02m12s |    0.73973 |         0.1330 |         0.1199 |        1.0000 |         0.9853 |         0.7432 |      1.0000 |          0.0028 |          0.0010 | \n",
      "  140 | 02m19s |    0.74483 |         0.0536 |         0.1099 |        1.0000 |         0.9277 |         0.8744 |      1.0000 |          0.0010 |          0.0123 | \n",
      "  141 | 02m23s |    0.74268 |         0.1216 |         0.1183 |        1.0000 |         0.9663 |         0.0602 |      1.0000 |          0.0010 |          0.0121 | \n",
      "  142 | 02m37s |    0.72691 |         0.0010 |         0.0010 |        1.0000 |         0.8466 |         0.0010 |      1.0000 |          0.0010 |          0.0010 | \n",
      "  143 | 02m35s |    0.74620 |         0.0707 |         0.1107 |        1.0000 |         0.8532 |         0.3585 |      1.0000 |          0.0010 |          0.0010 | \n",
      "  144 | 03m16s |    0.73775 |         0.0010 |         0.1197 |        1.0000 |         0.9378 |         0.0010 |      1.0000 |          0.0010 |          0.0010 | \n",
      "  145 | 02m55s |    0.70355 |         0.1148 |         0.1802 |        1.0000 |         0.9053 |         0.9011 |      1.0000 |          0.0123 |          0.2510 | \n",
      "  146 | 03m06s |    0.73955 |         0.0010 |         0.0963 |        1.0000 |         0.8981 |         0.1029 |      1.0000 |          0.0010 |          0.0010 | \n",
      "  147 | 03m14s |    0.72844 |         0.0010 |         0.0010 |        1.0000 |         0.9365 |         0.4297 |      1.0000 |          0.0010 |          0.0010 | \n",
      "  148 | 03m24s |    0.71976 |         0.0010 |         0.0010 |        1.0000 |         1.0000 |         0.2881 |      1.0000 |          0.0010 |          0.0010 | \n",
      "  149 | 03m26s |    0.73084 |         0.0743 |         0.0720 |        0.9909 |         0.8104 |         0.2300 |      1.0000 |          0.0010 |          0.0010 | \n"
     ]
    },
    {
     "name": "stderr",
     "output_type": "stream",
     "text": [
      "/cvmfs/cms.cern.ch/slc6_amd64_gcc630/external/py2-pippkgs_depscipy/3.0-fmblme3/lib/python2.7/site-packages/sklearn/gaussian_process/gpr.py:427: UserWarning: fmin_l_bfgs_b terminated abnormally with the  state: {'warnflag': 2, 'task': 'ABNORMAL_TERMINATION_IN_LNSRCH', 'grad': array([ -3.03073557e-05]), 'nit': 6, 'funcalls': 51}\n",
      "  \" state: %s\" % convergence_dict)\n",
      "/cvmfs/cms.cern.ch/slc6_amd64_gcc630/external/py2-pippkgs_depscipy/3.0-fmblme3/lib/python2.7/site-packages/sklearn/gaussian_process/gpr.py:427: UserWarning: fmin_l_bfgs_b terminated abnormally with the  state: {'warnflag': 2, 'task': 'ABNORMAL_TERMINATION_IN_LNSRCH', 'grad': array([-0.00014453]), 'nit': 6, 'funcalls': 55}\n",
      "  \" state: %s\" % convergence_dict)\n"
     ]
    },
    {
     "name": "stdout",
     "output_type": "stream",
     "text": [
      "  150 | 03m18s |    0.74743 |         0.1192 |         0.1326 |        1.0000 |         0.8775 |         0.0052 |      1.0000 |          0.0010 |          0.0010 | \n",
      "  151 | 03m49s |    0.72880 |         0.0782 |         0.0747 |        0.9990 |         0.9907 |         0.4198 |      1.0000 |          0.0140 |          0.0287 | \n"
     ]
    },
    {
     "name": "stderr",
     "output_type": "stream",
     "text": [
      "/cvmfs/cms.cern.ch/slc6_amd64_gcc630/external/py2-pippkgs_depscipy/3.0-fmblme3/lib/python2.7/site-packages/sklearn/gaussian_process/gpr.py:427: UserWarning: fmin_l_bfgs_b terminated abnormally with the  state: {'warnflag': 2, 'task': 'ABNORMAL_TERMINATION_IN_LNSRCH', 'grad': array([  4.09762159e-05]), 'nit': 6, 'funcalls': 49}\n",
      "  \" state: %s\" % convergence_dict)\n"
     ]
    },
    {
     "name": "stdout",
     "output_type": "stream",
     "text": [
      "  152 | 03m31s |    0.73482 |         0.1647 |         0.1103 |        1.0000 |         1.0000 |         0.3292 |      1.0000 |          0.0010 |          0.0029 | \n",
      "  153 | 03m30s |    0.74632 |         0.0613 |         0.0783 |        1.0000 |         0.9329 |         1.0000 |      1.0000 |          0.0010 |          0.0010 | \n"
     ]
    },
    {
     "name": "stderr",
     "output_type": "stream",
     "text": [
      "/cvmfs/cms.cern.ch/slc6_amd64_gcc630/external/py2-pippkgs_depscipy/3.0-fmblme3/lib/python2.7/site-packages/sklearn/gaussian_process/gpr.py:427: UserWarning: fmin_l_bfgs_b terminated abnormally with the  state: {'warnflag': 2, 'task': 'ABNORMAL_TERMINATION_IN_LNSRCH', 'grad': array([ -1.68735160e-05]), 'nit': 4, 'funcalls': 56}\n",
      "  \" state: %s\" % convergence_dict)\n"
     ]
    },
    {
     "name": "stdout",
     "output_type": "stream",
     "text": [
      "  154 | 03m45s |    0.72932 |         0.0010 |         0.0010 |        1.0000 |         0.9211 |         0.0779 |      1.0000 |          0.0010 |          0.0010 | \n",
      "  155 | 04m05s |    0.74838 |         0.1143 |         0.1144 |        1.0000 |         0.8761 |         1.0000 |      1.0000 |          0.0010 |          0.0010 | \n",
      "  156 | 03m55s |    0.69455 |         0.0010 |         0.1649 |        1.0000 |         1.0000 |         0.1110 |      1.0000 |          0.0010 |          0.2308 | \n"
     ]
    },
    {
     "name": "stderr",
     "output_type": "stream",
     "text": [
      "/cvmfs/cms.cern.ch/slc6_amd64_gcc630/external/py2-pippkgs_depscipy/3.0-fmblme3/lib/python2.7/site-packages/sklearn/gaussian_process/gpr.py:427: UserWarning: fmin_l_bfgs_b terminated abnormally with the  state: {'warnflag': 2, 'task': 'ABNORMAL_TERMINATION_IN_LNSRCH', 'grad': array([-0.00011339]), 'nit': 6, 'funcalls': 51}\n",
      "  \" state: %s\" % convergence_dict)\n"
     ]
    },
    {
     "name": "stdout",
     "output_type": "stream",
     "text": [
      "  157 | 04m22s |    0.72101 |         0.0010 |         0.1925 |        1.0000 |         1.0000 |         1.0000 |      1.0000 |          0.0010 |          0.0010 | \n"
     ]
    },
    {
     "name": "stderr",
     "output_type": "stream",
     "text": [
      "/cvmfs/cms.cern.ch/slc6_amd64_gcc630/external/py2-pippkgs_depscipy/3.0-fmblme3/lib/python2.7/site-packages/sklearn/gaussian_process/gpr.py:427: UserWarning: fmin_l_bfgs_b terminated abnormally with the  state: {'warnflag': 2, 'task': 'ABNORMAL_TERMINATION_IN_LNSRCH', 'grad': array([  9.29640346e-05]), 'nit': 6, 'funcalls': 49}\n",
      "  \" state: %s\" % convergence_dict)\n"
     ]
    },
    {
     "name": "stdout",
     "output_type": "stream",
     "text": [
      "  158 | 04m20s |    0.72956 |         0.0010 |         0.1015 |        1.0000 |         1.0000 |         0.4509 |      1.0000 |          0.0010 |          0.0010 | \n",
      "  159 | 04m42s |    0.72210 |         0.0521 |         0.0010 |        1.0000 |         0.7768 |         0.1338 |      1.0000 |          0.0010 |          0.0010 | \n",
      "  160 | 04m22s |    0.72920 |         0.1981 |         0.1012 |        1.0000 |         1.0000 |         0.4615 |      1.0000 |          0.0010 |          0.0051 | \n"
     ]
    }
   ],
   "source": [
    "for it in range(500):\n",
    "    bo.maximize(init_points = 6, n_iter = 1, acq = 'ucb', kappa = 3)\n",
    "    \n",
    "    # evaluate the current maximum\n",
    "    curval = bo.res['max']\n",
    "    cost = curval['max_val']\n",
    "    priors = curval['max_params']\n",
    "    \n",
    "    confhandler = ConfigFileHandler()\n",
    "    confhandler.config.optionxform = str\n",
    "    confhandler.new_section('Priors')\n",
    "    confhandler.set_field('Priors', 'cost', str(cost))\n",
    "    confhandler.set_field('Priors', 'VBF_prior', str(1.0))\n",
    "        \n",
    "    for key, val in priors.iteritems():\n",
    "        confhandler.set_field('Priors', key, str(val))\n",
    "        \n",
    "    confhandler.save_configuration(out_dir + 'priors.txt')"
   ]
  },
  {
   "cell_type": "code",
   "execution_count": null,
   "metadata": {
    "collapsed": true
   },
   "outputs": [],
   "source": []
  }
 ],
 "metadata": {
  "kernelspec": {
   "display_name": "Python 2",
   "language": "python",
   "name": "python2"
  },
  "language_info": {
   "codemirror_mode": {
    "name": "ipython",
    "version": 2
   },
   "file_extension": ".py",
   "mimetype": "text/x-python",
   "name": "python",
   "nbconvert_exporter": "python",
   "pygments_lexer": "ipython2",
   "version": "2.7.11"
  }
 },
 "nbformat": 4,
 "nbformat_minor": 2
}
