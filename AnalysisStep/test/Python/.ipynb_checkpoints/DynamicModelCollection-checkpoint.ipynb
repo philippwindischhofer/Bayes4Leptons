{
 "cells": [
  {
   "cell_type": "code",
   "execution_count": 1,
   "metadata": {
    "collapsed": false
   },
   "outputs": [
    {
     "name": "stderr",
     "output_type": "stream",
     "text": [
      "Using TensorFlow backend.\n"
     ]
    }
   ],
   "source": [
    "from trainlib.Category import Category\n",
    "from trainlib.DiscriminantEndpiece import DiscriminantEndpiece\n",
    "from trainlib.DiscriminantEndpieceComponent import DiscriminantEndpieceComponent\n",
    "from trainlib.SimpleModel import SimpleModel\n",
    "from trainlib.FlexiblePCAWhiteningPreprocessor import FlexiblePCAWhiteningPreprocessor\n",
    "from trainlib.ModelCollection import ModelCollection\n",
    "import trainlib.cuts as cuts"
   ]
  },
  {
   "cell_type": "code",
   "execution_count": 2,
   "metadata": {
    "collapsed": true
   },
   "outputs": [],
   "source": [
    "MC_path = \"/data_CMS/cms/wind/CJLST_NTuples/\""
   ]
  },
  {
   "cell_type": "code",
   "execution_count": 3,
   "metadata": {
    "collapsed": true
   },
   "outputs": [],
   "source": [
    "hyperparams = {'number_layers': 2, 'number_neurons': 128}"
   ]
  },
  {
   "cell_type": "code",
   "execution_count": 4,
   "metadata": {
    "collapsed": true
   },
   "outputs": [],
   "source": [
    "VBF_cat = Category(\"VBF\", {MC_path + \"VBFH125/ZZ4lAnalysis.root\": cuts.mZZ_cut})"
   ]
  },
  {
   "cell_type": "code",
   "execution_count": 5,
   "metadata": {
    "collapsed": false
   },
   "outputs": [],
   "source": [
    "ep = DiscriminantEndpiece(\"2|1|0j\")\n",
    "\n",
    "ep_comp = DiscriminantEndpieceComponent(name = \"2j\", public_name = \"2j\",\n",
    "                                        component_cut = lambda row: row[\"nCleanedJetsPt30\"] >= 2 and row[\"ZZMass\"] > 118. and row[\"ZZMass\"] < 130.,\n",
    "                                        nonperiodic_columns = [\"PFMET\", \"Z1Pt\", \"Z2Pt\", \"Z1Mass\", \"Z2Mass\", \"ZZPt\"],\n",
    "                                        periodic_columns = [],\n",
    "                                        model_basetype = SimpleModel,\n",
    "                                        model_hyperparams = hyperparams,\n",
    "                                        preprocessor_basetype = FlexiblePCAWhiteningPreprocessor)\n",
    "ep.add_component(ep_comp)\n",
    "\n",
    "ep_comp = DiscriminantEndpieceComponent(name = \"1j\", public_name = \"1j\",\n",
    "                                        component_cut = lambda row: row[\"nCleanedJetsPt30\"] == 1 and row[\"ZZMass\"] > 118. and row[\"ZZMass\"] < 130.,\n",
    "                                        nonperiodic_columns = [\"PFMET\", \"Z1Pt\", \"Z2Pt\", \"Z1Mass\", \"Z2Mass\", \"ZZPt\"],\n",
    "                                        periodic_columns = [],\n",
    "                                        model_basetype = SimpleModel,\n",
    "                                        model_hyperparams = hyperparams,\n",
    "                                        preprocessor_basetype = FlexiblePCAWhiteningPreprocessor)\n",
    "ep.add_component(ep_comp)\n",
    "\n",
    "ep_comp = DiscriminantEndpieceComponent(name = \"0j\", public_name = \"0j\",\n",
    "                                        component_cut = lambda row: row[\"nCleanedJetsPt30\"] == 0 and row[\"ZZMass\"] > 118. and row[\"ZZMass\"] < 130.,\n",
    "                                        nonperiodic_columns = [\"PFMET\", \"Z1Pt\", \"Z2Pt\", \"Z1Mass\", \"Z2Mass\", \"ZZPt\"],\n",
    "                                        periodic_columns = [],\n",
    "                                        model_basetype = SimpleModel,\n",
    "                                        model_hyperparams = hyperparams,\n",
    "                                        preprocessor_basetype = FlexiblePCAWhiteningPreprocessor)\n",
    "ep.add_component(ep_comp)\n",
    "\n",
    "VBF_cat.add_endpiece(ep)"
   ]
  },
  {
   "cell_type": "code",
   "execution_count": 6,
   "metadata": {
    "collapsed": true
   },
   "outputs": [],
   "source": [
    "ep = DiscriminantEndpiece(\"210j\")\n",
    "\n",
    "ep_comp = DiscriminantEndpieceComponent(name = \"210j\", public_name = \"\",\n",
    "                                        component_cut = lambda row: row[\"ZZMass\"] > 118. and row[\"ZZMass\"] < 130.,\n",
    "                                        nonperiodic_columns = [\"PFMET\", \"Z1Pt\", \"Z2Pt\", \"Z1Mass\", \"Z2Mass\", \"ZZPt\"],\n",
    "                                        periodic_columns = [],\n",
    "                                        model_basetype = SimpleModel,\n",
    "                                        model_hyperparams = hyperparams,\n",
    "                                        preprocessor_basetype = FlexiblePCAWhiteningPreprocessor)\n",
    "ep.add_component(ep_comp)\n",
    "\n",
    "VBF_cat.add_endpiece(ep)"
   ]
  },
  {
   "cell_type": "code",
   "execution_count": 7,
   "metadata": {
    "collapsed": true
   },
   "outputs": [],
   "source": [
    "ggH_cat = Category(\"ggH\", {MC_path + \"VBFH125/ZZ4lAnalysis.root\": cuts.mZZ_cut})"
   ]
  },
  {
   "cell_type": "code",
   "execution_count": 8,
   "metadata": {
    "collapsed": true
   },
   "outputs": [],
   "source": [
    "ep = DiscriminantEndpiece(\"2|1|0j\")\n",
    "\n",
    "ep_comp = DiscriminantEndpieceComponent(name = \"2j\", public_name = \"2j\",\n",
    "                                        component_cut = lambda row: row[\"nCleanedJetsPt30\"] >= 2 and row[\"ZZMass\"] > 118. and row[\"ZZMass\"] < 130.,\n",
    "                                        nonperiodic_columns = [\"PFMET\", \"Z1Pt\", \"Z2Pt\", \"Z1Mass\", \"Z2Mass\", \"ZZPt\"],\n",
    "                                        periodic_columns = [],\n",
    "                                        model_basetype = SimpleModel,\n",
    "                                        model_hyperparams = hyperparams,\n",
    "                                        preprocessor_basetype = FlexiblePCAWhiteningPreprocessor)\n",
    "ep.add_component(ep_comp)\n",
    "\n",
    "ep_comp = DiscriminantEndpieceComponent(name = \"1j\", public_name = \"1j\",\n",
    "                                        component_cut = lambda row: row[\"nCleanedJetsPt30\"] == 1 and row[\"ZZMass\"] > 118. and row[\"ZZMass\"] < 130.,\n",
    "                                        nonperiodic_columns = [\"PFMET\", \"Z1Pt\", \"Z2Pt\", \"Z1Mass\", \"Z2Mass\", \"ZZPt\"],\n",
    "                                        periodic_columns = [],\n",
    "                                        model_basetype = SimpleModel,\n",
    "                                        model_hyperparams = hyperparams,\n",
    "                                        preprocessor_basetype = FlexiblePCAWhiteningPreprocessor)\n",
    "ep.add_component(ep_comp)\n",
    "\n",
    "ep_comp = DiscriminantEndpieceComponent(name = \"0j\", public_name = \"0j\",\n",
    "                                        component_cut = lambda row: row[\"nCleanedJetsPt30\"] == 0 and row[\"ZZMass\"] > 118. and row[\"ZZMass\"] < 130.,\n",
    "                                        nonperiodic_columns = [\"PFMET\", \"Z1Pt\", \"Z2Pt\", \"Z1Mass\", \"Z2Mass\", \"ZZPt\"],\n",
    "                                        periodic_columns = [],\n",
    "                                        model_basetype = SimpleModel,\n",
    "                                        model_hyperparams = hyperparams,\n",
    "                                        preprocessor_basetype = FlexiblePCAWhiteningPreprocessor)\n",
    "ep.add_component(ep_comp)\n",
    "\n",
    "ggH_cat.add_endpiece(ep)"
   ]
  },
  {
   "cell_type": "code",
   "execution_count": 9,
   "metadata": {
    "collapsed": true
   },
   "outputs": [],
   "source": [
    "ep = DiscriminantEndpiece(\"210j\")\n",
    "\n",
    "ep_comp = DiscriminantEndpieceComponent(name = \"210j\", public_name = \"\",\n",
    "                                        component_cut = lambda row: row[\"ZZMass\"] > 118. and row[\"ZZMass\"] < 130.,\n",
    "                                        nonperiodic_columns = [\"PFMET\", \"Z1Pt\", \"Z2Pt\", \"Z1Mass\", \"Z2Mass\", \"ZZPt\"],\n",
    "                                        periodic_columns = [],\n",
    "                                        model_basetype = SimpleModel,\n",
    "                                        model_hyperparams = hyperparams,\n",
    "                                        preprocessor_basetype = FlexiblePCAWhiteningPreprocessor)\n",
    "ep.add_component(ep_comp)\n",
    "\n",
    "ggH_cat.add_endpiece(ep)"
   ]
  },
  {
   "cell_type": "code",
   "execution_count": 10,
   "metadata": {
    "collapsed": true
   },
   "outputs": [],
   "source": [
    "WHl_cat = Category(\"WHl\", {MC_path + \"WplusH125/ZZ4lAnalysis.root\": cuts.WHlept_cut,                                                                                                            \n",
    "                            MC_path + \"WminusH125/ZZ4lAnalysis.root\": cuts.WHlept_cut})"
   ]
  },
  {
   "cell_type": "code",
   "execution_count": 11,
   "metadata": {
    "collapsed": true
   },
   "outputs": [],
   "source": [
    "ep = DiscriminantEndpiece(\"210j\")\n",
    "\n",
    "ep_comp = DiscriminantEndpieceComponent(name = \"210j\", public_name = \"\",\n",
    "                                        component_cut = lambda row: row[\"ZZMass\"] > 118. and row[\"ZZMass\"] < 130.,\n",
    "                                        nonperiodic_columns = [],\n",
    "                                        periodic_columns = [],\n",
    "                                        model_basetype = SimpleModel,\n",
    "                                        model_hyperparams = hyperparams,\n",
    "                                        preprocessor_basetype = FlexiblePCAWhiteningPreprocessor)\n",
    "ep.add_component(ep_comp)\n",
    "\n",
    "WHl_cat.add_endpiece(ep)"
   ]
  },
  {
   "cell_type": "code",
   "execution_count": null,
   "metadata": {
    "collapsed": false
   },
   "outputs": [],
   "source": []
  },
  {
   "cell_type": "code",
   "execution_count": 12,
   "metadata": {
    "collapsed": false
   },
   "outputs": [
    {
     "name": "stdout",
     "output_type": "stream",
     "text": [
      "matched VBF with WHl, using endpieces 210j and 210j\n",
      "FlexiblePCAPreprocessor set up for 0 inputs\n",
      "got the following list of hyperparams: {'number_layers': 2, 'number_neurons': 128}\n",
      "building network with 0 inputs\n"
     ]
    },
    {
     "ename": "AssertionError",
     "evalue": "",
     "output_type": "error",
     "traceback": [
      "\u001b[0;31m---------------------------------------------------------------------------\u001b[0m",
      "\u001b[0;31mAssertionError\u001b[0m                            Traceback (most recent call last)",
      "\u001b[0;32m<ipython-input-12-27b758449efa>\u001b[0m in \u001b[0;36m<module>\u001b[0;34m()\u001b[0m\n\u001b[0;32m----> 1\u001b[0;31m \u001b[0mmcoll\u001b[0m \u001b[0;34m=\u001b[0m \u001b[0mModelCollection\u001b[0m\u001b[0;34m.\u001b[0m\u001b[0mfrom_discriminant_endpieces\u001b[0m\u001b[0;34m(\u001b[0m\u001b[0;34m*\u001b[0m\u001b[0mCategory\u001b[0m\u001b[0;34m.\u001b[0m\u001b[0mmatch\u001b[0m\u001b[0;34m(\u001b[0m\u001b[0mVBF_cat\u001b[0m\u001b[0;34m,\u001b[0m \u001b[0mWHl_cat\u001b[0m\u001b[0;34m)\u001b[0m\u001b[0;34m)\u001b[0m\u001b[0;34m\u001b[0m\u001b[0m\n\u001b[0m",
      "\u001b[0;32m/grid_mnt/vol__vol_U__u/llr/cms/wind/cmssw/CMSSW_9_4_2/src/ZZAnalysis/AnalysisStep/test/Python/trainlib/ModelCollection.py\u001b[0m in \u001b[0;36mfrom_discriminant_endpieces\u001b[0;34m(cls, cat_a, ep_a, cat_b, ep_b)\u001b[0m\n\u001b[1;32m     44\u001b[0m             \u001b[0;31m# now can construct all model components and add them to the collection\u001b[0m\u001b[0;34m\u001b[0m\u001b[0;34m\u001b[0m\u001b[0m\n\u001b[1;32m     45\u001b[0m             \u001b[0mpre\u001b[0m \u001b[0;34m=\u001b[0m \u001b[0mpreprocessor_basetype\u001b[0m\u001b[0;34m(\u001b[0m\u001b[0mname\u001b[0m \u001b[0;34m=\u001b[0m \u001b[0mmodel_name\u001b[0m \u001b[0;34m+\u001b[0m \u001b[0;34m\"_input\"\u001b[0m\u001b[0;34m,\u001b[0m \u001b[0mnonperiodic_columns\u001b[0m \u001b[0;34m=\u001b[0m \u001b[0mnonperiodic_columns\u001b[0m\u001b[0;34m,\u001b[0m \u001b[0mperiodic_columns\u001b[0m \u001b[0;34m=\u001b[0m \u001b[0mperiodic_columns\u001b[0m\u001b[0;34m,\u001b[0m \u001b[0mcuts\u001b[0m \u001b[0;34m=\u001b[0m \u001b[0mcuts\u001b[0m\u001b[0;34m)\u001b[0m\u001b[0;34m\u001b[0m\u001b[0m\n\u001b[0;32m---> 46\u001b[0;31m             \u001b[0mmod\u001b[0m \u001b[0;34m=\u001b[0m \u001b[0mmodel_basetype\u001b[0m\u001b[0;34m(\u001b[0m\u001b[0mmodel_name\u001b[0m\u001b[0;34m,\u001b[0m \u001b[0mpre\u001b[0m\u001b[0;34m.\u001b[0m\u001b[0mnumber_processed_columns\u001b[0m\u001b[0;34m(\u001b[0m\u001b[0;34m)\u001b[0m\u001b[0;34m,\u001b[0m \u001b[0mhyperparams\u001b[0m\u001b[0;34m)\u001b[0m\u001b[0;34m\u001b[0m\u001b[0m\n\u001b[0m\u001b[1;32m     47\u001b[0m             \u001b[0msett\u001b[0m \u001b[0;34m=\u001b[0m \u001b[0mTrainingConfig\u001b[0m\u001b[0;34m(\u001b[0m\u001b[0;34m)\u001b[0m\u001b[0;34m\u001b[0m\u001b[0m\n\u001b[1;32m     48\u001b[0m \u001b[0;34m\u001b[0m\u001b[0m\n",
      "\u001b[0;32m/grid_mnt/vol__vol_U__u/llr/cms/wind/cmssw/CMSSW_9_4_2/src/ZZAnalysis/AnalysisStep/test/Python/trainlib/SimpleModel.pyc\u001b[0m in \u001b[0;36m__init__\u001b[0;34m(self, name, number_input_columns, hyperparameters)\u001b[0m\n\u001b[1;32m     16\u001b[0m         \u001b[0mself\u001b[0m\u001b[0;34m.\u001b[0m\u001b[0mhyperparameters\u001b[0m \u001b[0;34m=\u001b[0m \u001b[0mhyperparameters\u001b[0m\u001b[0;34m\u001b[0m\u001b[0m\n\u001b[1;32m     17\u001b[0m \u001b[0;34m\u001b[0m\u001b[0m\n\u001b[0;32m---> 18\u001b[0;31m         \u001b[0mself\u001b[0m\u001b[0;34m.\u001b[0m\u001b[0mbuild\u001b[0m\u001b[0;34m(\u001b[0m\u001b[0;34m)\u001b[0m\u001b[0;34m\u001b[0m\u001b[0m\n\u001b[0m\u001b[1;32m     19\u001b[0m \u001b[0;34m\u001b[0m\u001b[0m\n\u001b[1;32m     20\u001b[0m     \u001b[0;34m@\u001b[0m\u001b[0mclassmethod\u001b[0m\u001b[0;34m\u001b[0m\u001b[0m\n",
      "\u001b[0;32m/grid_mnt/vol__vol_U__u/llr/cms/wind/cmssw/CMSSW_9_4_2/src/ZZAnalysis/AnalysisStep/test/Python/trainlib/SimpleModel.pyc\u001b[0m in \u001b[0;36mbuild\u001b[0;34m(self)\u001b[0m\n\u001b[1;32m     48\u001b[0m \u001b[0;34m\u001b[0m\u001b[0m\n\u001b[1;32m     49\u001b[0m         \u001b[0min_layer\u001b[0m \u001b[0;34m=\u001b[0m \u001b[0mInput\u001b[0m\u001b[0;34m(\u001b[0m\u001b[0mshape\u001b[0m \u001b[0;34m=\u001b[0m \u001b[0;34m(\u001b[0m\u001b[0mself\u001b[0m\u001b[0;34m.\u001b[0m\u001b[0mnumber_input_columns\u001b[0m\u001b[0;34m,\u001b[0m\u001b[0;34m)\u001b[0m\u001b[0;34m,\u001b[0m \u001b[0mname\u001b[0m \u001b[0;34m=\u001b[0m \u001b[0mself\u001b[0m\u001b[0;34m.\u001b[0m\u001b[0mname\u001b[0m \u001b[0;34m+\u001b[0m \u001b[0;34m'_input'\u001b[0m\u001b[0;34m)\u001b[0m\u001b[0;34m\u001b[0m\u001b[0m\n\u001b[0;32m---> 50\u001b[0;31m         \u001b[0mx\u001b[0m \u001b[0;34m=\u001b[0m \u001b[0mDense\u001b[0m\u001b[0;34m(\u001b[0m\u001b[0mself\u001b[0m\u001b[0;34m.\u001b[0m\u001b[0mdefault_neurons\u001b[0m\u001b[0;34m)\u001b[0m\u001b[0;34m(\u001b[0m\u001b[0min_layer\u001b[0m\u001b[0;34m)\u001b[0m\u001b[0;34m\u001b[0m\u001b[0m\n\u001b[0m\u001b[1;32m     51\u001b[0m         \u001b[0mx\u001b[0m \u001b[0;34m=\u001b[0m \u001b[0mBatchNormalization\u001b[0m\u001b[0;34m(\u001b[0m\u001b[0;34m)\u001b[0m\u001b[0;34m(\u001b[0m\u001b[0mx\u001b[0m\u001b[0;34m)\u001b[0m\u001b[0;34m\u001b[0m\u001b[0m\n\u001b[1;32m     52\u001b[0m         \u001b[0mx\u001b[0m \u001b[0;34m=\u001b[0m \u001b[0mActivation\u001b[0m\u001b[0;34m(\u001b[0m\u001b[0;34m'relu'\u001b[0m\u001b[0;34m)\u001b[0m\u001b[0;34m(\u001b[0m\u001b[0mx\u001b[0m\u001b[0;34m)\u001b[0m\u001b[0;34m\u001b[0m\u001b[0m\n",
      "\u001b[0;32m/cvmfs/cms.cern.ch/slc6_amd64_gcc630/external/py2-pippkgs_depscipy/3.0-fmblme3/lib/python2.7/site-packages/keras/engine/topology.pyc\u001b[0m in \u001b[0;36m__call__\u001b[0;34m(self, inputs, **kwargs)\u001b[0m\n\u001b[1;32m    613\u001b[0m             \u001b[0;31m# Infering the output shape is only relevant for Theano.\u001b[0m\u001b[0;34m\u001b[0m\u001b[0;34m\u001b[0m\u001b[0m\n\u001b[1;32m    614\u001b[0m             \u001b[0;32mif\u001b[0m \u001b[0mall\u001b[0m\u001b[0;34m(\u001b[0m\u001b[0;34m[\u001b[0m\u001b[0ms\u001b[0m \u001b[0;32mis\u001b[0m \u001b[0;32mnot\u001b[0m \u001b[0mNone\u001b[0m \u001b[0;32mfor\u001b[0m \u001b[0ms\u001b[0m \u001b[0;32min\u001b[0m \u001b[0m_to_list\u001b[0m\u001b[0;34m(\u001b[0m\u001b[0minput_shape\u001b[0m\u001b[0;34m)\u001b[0m\u001b[0;34m]\u001b[0m\u001b[0;34m)\u001b[0m\u001b[0;34m:\u001b[0m\u001b[0;34m\u001b[0m\u001b[0m\n\u001b[0;32m--> 615\u001b[0;31m                 \u001b[0moutput_shape\u001b[0m \u001b[0;34m=\u001b[0m \u001b[0mself\u001b[0m\u001b[0;34m.\u001b[0m\u001b[0mcompute_output_shape\u001b[0m\u001b[0;34m(\u001b[0m\u001b[0minput_shape\u001b[0m\u001b[0;34m)\u001b[0m\u001b[0;34m\u001b[0m\u001b[0m\n\u001b[0m\u001b[1;32m    616\u001b[0m             \u001b[0;32melse\u001b[0m\u001b[0;34m:\u001b[0m\u001b[0;34m\u001b[0m\u001b[0m\n\u001b[1;32m    617\u001b[0m                 \u001b[0;32mif\u001b[0m \u001b[0misinstance\u001b[0m\u001b[0;34m(\u001b[0m\u001b[0minput_shape\u001b[0m\u001b[0;34m,\u001b[0m \u001b[0mlist\u001b[0m\u001b[0;34m)\u001b[0m\u001b[0;34m:\u001b[0m\u001b[0;34m\u001b[0m\u001b[0m\n",
      "\u001b[0;32m/cvmfs/cms.cern.ch/slc6_amd64_gcc630/external/py2-pippkgs_depscipy/3.0-fmblme3/lib/python2.7/site-packages/keras/layers/core.pyc\u001b[0m in \u001b[0;36mcompute_output_shape\u001b[0;34m(self, input_shape)\u001b[0m\n\u001b[1;32m    850\u001b[0m     \u001b[0;32mdef\u001b[0m \u001b[0mcompute_output_shape\u001b[0m\u001b[0;34m(\u001b[0m\u001b[0mself\u001b[0m\u001b[0;34m,\u001b[0m \u001b[0minput_shape\u001b[0m\u001b[0;34m)\u001b[0m\u001b[0;34m:\u001b[0m\u001b[0;34m\u001b[0m\u001b[0m\n\u001b[1;32m    851\u001b[0m         \u001b[0;32massert\u001b[0m \u001b[0minput_shape\u001b[0m \u001b[0;32mand\u001b[0m \u001b[0mlen\u001b[0m\u001b[0;34m(\u001b[0m\u001b[0minput_shape\u001b[0m\u001b[0;34m)\u001b[0m \u001b[0;34m>=\u001b[0m \u001b[0;36m2\u001b[0m\u001b[0;34m\u001b[0m\u001b[0m\n\u001b[0;32m--> 852\u001b[0;31m         \u001b[0;32massert\u001b[0m \u001b[0minput_shape\u001b[0m\u001b[0;34m[\u001b[0m\u001b[0;34m-\u001b[0m\u001b[0;36m1\u001b[0m\u001b[0;34m]\u001b[0m\u001b[0;34m\u001b[0m\u001b[0m\n\u001b[0m\u001b[1;32m    853\u001b[0m         \u001b[0moutput_shape\u001b[0m \u001b[0;34m=\u001b[0m \u001b[0mlist\u001b[0m\u001b[0;34m(\u001b[0m\u001b[0minput_shape\u001b[0m\u001b[0;34m)\u001b[0m\u001b[0;34m\u001b[0m\u001b[0m\n\u001b[1;32m    854\u001b[0m         \u001b[0moutput_shape\u001b[0m\u001b[0;34m[\u001b[0m\u001b[0;34m-\u001b[0m\u001b[0;36m1\u001b[0m\u001b[0;34m]\u001b[0m \u001b[0;34m=\u001b[0m \u001b[0mself\u001b[0m\u001b[0;34m.\u001b[0m\u001b[0munits\u001b[0m\u001b[0;34m\u001b[0m\u001b[0m\n",
      "\u001b[0;31mAssertionError\u001b[0m: "
     ]
    }
   ],
   "source": [
    "mcoll = ModelCollection.from_discriminant_endpieces(*Category.match(VBF_cat, WHl_cat))"
   ]
  },
  {
   "cell_type": "code",
   "execution_count": null,
   "metadata": {
    "collapsed": true
   },
   "outputs": [],
   "source": [
    "a = [1,2,3,4,4,4,4,5,6]\n",
    "b = [6,6,6,7,7,7,8,9]"
   ]
  },
  {
   "cell_type": "code",
   "execution_count": null,
   "metadata": {
    "collapsed": false
   },
   "outputs": [],
   "source": [
    "list(set(a + b))"
   ]
  },
  {
   "cell_type": "code",
   "execution_count": null,
   "metadata": {
    "collapsed": true
   },
   "outputs": [],
   "source": []
  }
 ],
 "metadata": {
  "kernelspec": {
   "display_name": "Python 2",
   "language": "python",
   "name": "python2"
  },
  "language_info": {
   "codemirror_mode": {
    "name": "ipython",
    "version": 2
   },
   "file_extension": ".py",
   "mimetype": "text/x-python",
   "name": "python",
   "nbconvert_exporter": "python",
   "pygments_lexer": "ipython2",
   "version": "2.7.11"
  }
 },
 "nbformat": 4,
 "nbformat_minor": 2
}
