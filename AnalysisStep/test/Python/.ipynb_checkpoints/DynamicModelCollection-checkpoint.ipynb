{
 "cells": [
  {
   "cell_type": "code",
   "execution_count": 1,
   "metadata": {
    "collapsed": false
   },
   "outputs": [
    {
     "name": "stderr",
     "output_type": "stream",
     "text": [
      "Using TensorFlow backend.\n"
     ]
    }
   ],
   "source": [
    "from trainlib.Category import Category\n",
    "from trainlib.DiscriminantEndpiece import DiscriminantEndpiece\n",
    "from trainlib.DiscriminantEndpieceComponent import DiscriminantEndpieceComponent\n",
    "from trainlib.SimpleModel import SimpleModel\n",
    "from trainlib.FlexiblePCAWhiteningPreprocessor import FlexiblePCAWhiteningPreprocessor\n",
    "from trainlib.ModelCollection import ModelCollection\n",
    "import trainlib.cuts as cuts"
   ]
  },
  {
   "cell_type": "code",
   "execution_count": 2,
   "metadata": {
    "collapsed": true
   },
   "outputs": [],
   "source": [
    "MC_path = \"/data_CMS/cms/wind/CJLST_NTuples/\""
   ]
  },
  {
   "cell_type": "code",
   "execution_count": 3,
   "metadata": {
    "collapsed": true
   },
   "outputs": [],
   "source": [
    "hyperparams = {'number_layers': 2, 'number_neurons': 128}"
   ]
  },
  {
   "cell_type": "code",
   "execution_count": 5,
   "metadata": {
    "collapsed": false
   },
   "outputs": [],
   "source": [
    "VBF_cat = Category(\"VBF\", {MC_path + \"VBFH125/ZZ4lAnalysis.root\": cuts.mZZ_cut})\n",
    "ep = DiscriminantEndpiece(\"2|1|0j\")\n",
    "\n",
    "ep_comp = DiscriminantEndpieceComponent(name = \"2j\", public_name = \"2j\",\n",
    "                                        component_cut = lambda row: row[\"nCleanedJetsPt30\"] >= 2 and row[\"ZZMass\"] > 118. and row[\"ZZMass\"] < 130.,\n",
    "                                        nonperiodic_columns = [\"PFMET\", \"Z1Pt\", \"Z2Pt\", \"Z1Mass\", \"Z2Mass\", \"ZZPt\"],\n",
    "                                        periodic_columns = [],\n",
    "                                        model_basetype = SimpleModel,\n",
    "                                        model_hyperparams = hyperparams,\n",
    "                                        preprocessor_basetype = FlexiblePCAWhiteningPreprocessor)\n",
    "ep.add_component(ep_comp)\n",
    "\n",
    "ep_comp = DiscriminantEndpieceComponent(name = \"1j\", public_name = \"1j\",\n",
    "                                        component_cut = lambda row: row[\"nCleanedJetsPt30\"] == 1 and row[\"ZZMass\"] > 118. and row[\"ZZMass\"] < 130.,\n",
    "                                        nonperiodic_columns = [\"PFMET\", \"Z1Pt\", \"Z2Pt\", \"Z1Mass\", \"Z2Mass\", \"ZZPt\"],\n",
    "                                        periodic_columns = [],\n",
    "                                        model_basetype = SimpleModel,\n",
    "                                        model_hyperparams = hyperparams,\n",
    "                                        preprocessor_basetype = FlexiblePCAWhiteningPreprocessor)\n",
    "ep.add_component(ep_comp)\n",
    "\n",
    "ep_comp = DiscriminantEndpieceComponent(name = \"0j\", public_name = \"0j\",\n",
    "                                        component_cut = lambda row: row[\"nCleanedJetsPt30\"] == 0 and row[\"ZZMass\"] > 118. and row[\"ZZMass\"] < 130.,\n",
    "                                        nonperiodic_columns = [\"PFMET\", \"Z1Pt\", \"Z2Pt\", \"Z1Mass\", \"Z2Mass\", \"ZZPt\"],\n",
    "                                        periodic_columns = [],\n",
    "                                        model_basetype = SimpleModel,\n",
    "                                        model_hyperparams = hyperparams,\n",
    "                                        preprocessor_basetype = FlexiblePCAWhiteningPreprocessor)\n",
    "ep.add_component(ep_comp)\n",
    "\n",
    "VBF_cat.add_endpiece(ep)\n",
    "\n",
    "ep = DiscriminantEndpiece(\"210j\")\n",
    "\n",
    "ep_comp = DiscriminantEndpieceComponent(name = \"210j\", public_name = \"\",\n",
    "                                        component_cut = lambda row: row[\"ZZMass\"] > 118. and row[\"ZZMass\"] < 130.,\n",
    "                                        nonperiodic_columns = [\"PFMET\", \"Z1Pt\", \"Z2Pt\", \"Z1Mass\", \"Z2Mass\", \"ZZPt\"],\n",
    "                                        periodic_columns = [],\n",
    "                                        model_basetype = SimpleModel,\n",
    "                                        model_hyperparams = hyperparams,\n",
    "                                        preprocessor_basetype = FlexiblePCAWhiteningPreprocessor)\n",
    "ep.add_component(ep_comp)\n",
    "\n",
    "VBF_cat.add_endpiece(ep)"
   ]
  },
  {
   "cell_type": "code",
   "execution_count": 7,
   "metadata": {
    "collapsed": true
   },
   "outputs": [],
   "source": [
    "ggH_cat = Category(\"ggH\", {MC_path + \"VBFH125/ZZ4lAnalysis.root\": cuts.mZZ_cut})"
   ]
  },
  {
   "cell_type": "code",
   "execution_count": 8,
   "metadata": {
    "collapsed": true
   },
   "outputs": [],
   "source": [
    "ep = DiscriminantEndpiece(\"2|1|0j\")\n",
    "\n",
    "ep_comp = DiscriminantEndpieceComponent(name = \"2j\", public_name = \"2j\",\n",
    "                                        component_cut = lambda row: row[\"nCleanedJetsPt30\"] >= 2 and row[\"ZZMass\"] > 118. and row[\"ZZMass\"] < 130.,\n",
    "                                        nonperiodic_columns = [\"PFMET\", \"Z1Pt\", \"Z2Pt\", \"Z1Mass\", \"Z2Mass\", \"ZZPt\"],\n",
    "                                        periodic_columns = [],\n",
    "                                        model_basetype = SimpleModel,\n",
    "                                        model_hyperparams = hyperparams,\n",
    "                                        preprocessor_basetype = FlexiblePCAWhiteningPreprocessor)\n",
    "ep.add_component(ep_comp)\n",
    "\n",
    "ep_comp = DiscriminantEndpieceComponent(name = \"1j\", public_name = \"1j\",\n",
    "                                        component_cut = lambda row: row[\"nCleanedJetsPt30\"] == 1 and row[\"ZZMass\"] > 118. and row[\"ZZMass\"] < 130.,\n",
    "                                        nonperiodic_columns = [\"PFMET\", \"Z1Pt\", \"Z2Pt\", \"Z1Mass\", \"Z2Mass\", \"ZZPt\"],\n",
    "                                        periodic_columns = [],\n",
    "                                        model_basetype = SimpleModel,\n",
    "                                        model_hyperparams = hyperparams,\n",
    "                                        preprocessor_basetype = FlexiblePCAWhiteningPreprocessor)\n",
    "ep.add_component(ep_comp)\n",
    "\n",
    "ep_comp = DiscriminantEndpieceComponent(name = \"0j\", public_name = \"0j\",\n",
    "                                        component_cut = lambda row: row[\"nCleanedJetsPt30\"] == 0 and row[\"ZZMass\"] > 118. and row[\"ZZMass\"] < 130.,\n",
    "                                        nonperiodic_columns = [\"PFMET\", \"Z1Pt\", \"Z2Pt\", \"Z1Mass\", \"Z2Mass\", \"ZZPt\"],\n",
    "                                        periodic_columns = [],\n",
    "                                        model_basetype = SimpleModel,\n",
    "                                        model_hyperparams = hyperparams,\n",
    "                                        preprocessor_basetype = FlexiblePCAWhiteningPreprocessor)\n",
    "ep.add_component(ep_comp)\n",
    "\n",
    "ggH_cat.add_endpiece(ep)"
   ]
  },
  {
   "cell_type": "code",
   "execution_count": 9,
   "metadata": {
    "collapsed": true
   },
   "outputs": [],
   "source": [
    "ep = DiscriminantEndpiece(\"210j\")\n",
    "\n",
    "ep_comp = DiscriminantEndpieceComponent(name = \"210j\", public_name = \"\",\n",
    "                                        component_cut = lambda row: row[\"ZZMass\"] > 118. and row[\"ZZMass\"] < 130.,\n",
    "                                        nonperiodic_columns = [\"PFMET\", \"Z1Pt\", \"Z2Pt\", \"Z1Mass\", \"Z2Mass\", \"ZZPt\"],\n",
    "                                        periodic_columns = [],\n",
    "                                        model_basetype = SimpleModel,\n",
    "                                        model_hyperparams = hyperparams,\n",
    "                                        preprocessor_basetype = FlexiblePCAWhiteningPreprocessor)\n",
    "ep.add_component(ep_comp)\n",
    "\n",
    "ggH_cat.add_endpiece(ep)"
   ]
  },
  {
   "cell_type": "code",
   "execution_count": 10,
   "metadata": {
    "collapsed": true
   },
   "outputs": [],
   "source": [
    "WHl_cat = Category(\"WHl\", {MC_path + \"WplusH125/ZZ4lAnalysis.root\": cuts.WHlept_cut,                                                                                                            \n",
    "                            MC_path + \"WminusH125/ZZ4lAnalysis.root\": cuts.WHlept_cut})"
   ]
  },
  {
   "cell_type": "code",
   "execution_count": 11,
   "metadata": {
    "collapsed": true
   },
   "outputs": [],
   "source": [
    "ep = DiscriminantEndpiece(\"210j\")\n",
    "\n",
    "ep_comp = DiscriminantEndpieceComponent(name = \"210j\", public_name = \"\",\n",
    "                                        component_cut = lambda row: row[\"ZZMass\"] > 118. and row[\"ZZMass\"] < 130.,\n",
    "                                        nonperiodic_columns = [],\n",
    "                                        periodic_columns = [],\n",
    "                                        model_basetype = SimpleModel,\n",
    "                                        model_hyperparams = hyperparams,\n",
    "                                        preprocessor_basetype = FlexiblePCAWhiteningPreprocessor)\n",
    "ep.add_component(ep_comp)\n",
    "\n",
    "WHl_cat.add_endpiece(ep)"
   ]
  },
  {
   "cell_type": "code",
   "execution_count": 12,
   "metadata": {
    "collapsed": false
   },
   "outputs": [
    {
     "name": "stdout",
     "output_type": "stream",
     "text": [
      "matched VBF with WHl, using endpieces 210j and 210j\n",
      "FlexiblePCAPreprocessor set up for 6 inputs\n",
      "got the following list of hyperparams: {'number_layers': 2, 'number_neurons': 128}\n",
      "building network with 6 inputs\n"
     ]
    }
   ],
   "source": [
    "mcoll = ModelCollection.from_discriminant_endpieces(*Category.match(VBF_cat, WHl_cat))"
   ]
  },
  {
   "cell_type": "code",
   "execution_count": 13,
   "metadata": {
    "collapsed": false
   },
   "outputs": [
    {
     "data": {
      "text/plain": [
       "'JetPhi[JetPt|3]'"
      ]
     },
     "execution_count": 13,
     "metadata": {},
     "output_type": "execute_result"
    }
   ],
   "source": [
    "\"JetPhi[JetPt|{:d}]\".format(3)"
   ]
  },
  {
   "cell_type": "code",
   "execution_count": null,
   "metadata": {
    "collapsed": true
   },
   "outputs": [],
   "source": []
  }
 ],
 "metadata": {
  "kernelspec": {
   "display_name": "Python 2",
   "language": "python",
   "name": "python2"
  },
  "language_info": {
   "codemirror_mode": {
    "name": "ipython",
    "version": 2
   },
   "file_extension": ".py",
   "mimetype": "text/x-python",
   "name": "python",
   "nbconvert_exporter": "python",
   "pygments_lexer": "ipython2",
   "version": "2.7.11"
  }
 },
 "nbformat": 4,
 "nbformat_minor": 2
}
