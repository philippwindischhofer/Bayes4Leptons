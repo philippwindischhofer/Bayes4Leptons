{
 "cells": [
  {
   "cell_type": "code",
   "execution_count": 1,
   "metadata": {
    "collapsed": false
   },
   "outputs": [
    {
     "name": "stdout",
     "output_type": "stream",
     "text": [
      "Welcome to JupyROOT 6.10/09\n"
     ]
    },
    {
     "name": "stderr",
     "output_type": "stream",
     "text": [
      "Using TensorFlow backend.\n"
     ]
    }
   ],
   "source": [
    "from trainlib.ModelCollectionConfigFileHandler import ModelCollectionConfigFileHandler\n",
    "from trainlib.ModelFactory import ModelFactory\n",
    "from trainlib.SimpleModel import SimpleModel"
   ]
  },
  {
   "cell_type": "code",
   "execution_count": 2,
   "metadata": {
    "collapsed": false
   },
   "outputs": [
    {
     "name": "stdout",
     "output_type": "stream",
     "text": [
      "got the following list of hyperparams: {'number_layers': 2}\n",
      "building network with inputs: ['PFMET', 'nCleanedJetsPt30', 'nCleanedJetsPt30BTagged_bTagSF', 'nExtraLep', 'D_VBF2j_ggH_ME']\n",
      "got the following list of hyperparams: {'number_layers': 2}\n",
      "building network with inputs: ['PFMET', 'nCleanedJetsPt30', 'nCleanedJetsPt30BTagged_bTagSF', 'nExtraLep', 'D_VBF1j_ggH_ME']\n",
      "got the following list of hyperparams: {'number_layers': 2}\n",
      "building network with inputs: ['PFMET', 'nCleanedJetsPt30', 'nCleanedJetsPt30BTagged_bTagSF', 'nExtraLep', 'D_WHh_ggH_ME']\n",
      "got the following list of hyperparams: {'number_layers': 2}\n",
      "building network with inputs: ['PFMET', 'nCleanedJetsPt30', 'nCleanedJetsPt30BTagged_bTagSF', 'nExtraLep', 'D_ZHh_ggH_ME']\n",
      "got the following list of hyperparams: {'number_layers': 2}\n",
      "building network with inputs: ['PFMET', 'nCleanedJetsPt30', 'nCleanedJetsPt30BTagged_bTagSF', 'nExtraLep', 'D_WHh_ZHh_ME']\n",
      "got the following list of hyperparams: {'number_layers': 2}\n",
      "building network with inputs: ['PFMET', 'nCleanedJetsPt30', 'nCleanedJetsPt30BTagged_bTagSF', 'nExtraLep', 'D_VBF2j_WHh_ME']\n",
      "got the following list of hyperparams: {'number_layers': 2}\n",
      "building network with inputs: ['PFMET', 'nCleanedJetsPt30', 'nCleanedJetsPt30BTagged_bTagSF', 'nExtraLep', 'D_VBF2j_ZHh_ME']\n"
     ]
    }
   ],
   "source": [
    "mcoll = ModelFactory.GenerateStandardModelCollections(SimpleModel, \"/data_CMS/cms/wind/CJLST_NTuples/\")\n",
    "config_outpath = \"/home/llr/cms/wind/cmssw/CMSSW_9_4_2/src/ZZAnalysis/AnalysisStep/test/Python/outconfig.conf\""
   ]
  },
  {
   "cell_type": "code",
   "execution_count": 3,
   "metadata": {
    "collapsed": false
   },
   "outputs": [],
   "source": [
    "confhandler = ModelCollectionConfigFileHandler()\n",
    "confhandler.ToConfiguration(mcoll)\n",
    "confhandler.SaveConfiguration(config_outpath)"
   ]
  },
  {
   "cell_type": "code",
   "execution_count": 13,
   "metadata": {
    "collapsed": false
   },
   "outputs": [
    {
     "name": "stdout",
     "output_type": "stream",
     "text": [
      "attempting to load configuration file from /data_CMS/cms/wind/testcampaign/number_layers_9.0_extraparams_1/settings.conf\n",
      "got the following list of hyperparams: {u'number_layers': 9.0}\n",
      "building network with inputs: [u'PFMET', u'nCleanedJetsPt30', u'nCleanedJetsPt30BTagged_bTagSF', u'nExtraLep', u'D_VBF2j_ggH_ME', u'PFMET']\n",
      "got the following list of hyperparams: {u'number_layers': 9.0}\n",
      "building network with inputs: [u'PFMET', u'nCleanedJetsPt30', u'nCleanedJetsPt30BTagged_bTagSF', u'nExtraLep', u'D_VBF1j_ggH_ME', u'PFMET']\n",
      "got the following list of hyperparams: {u'number_layers': 9.0}\n",
      "building network with inputs: [u'PFMET', u'nCleanedJetsPt30', u'nCleanedJetsPt30BTagged_bTagSF', u'nExtraLep', u'D_WHh_ggH_ME', u'PFMET']\n",
      "got the following list of hyperparams: {u'number_layers': 9.0}\n",
      "building network with inputs: [u'PFMET', u'nCleanedJetsPt30', u'nCleanedJetsPt30BTagged_bTagSF', u'nExtraLep', u'D_ZHh_ggH_ME', u'PFMET']\n",
      "got the following list of hyperparams: {u'number_layers': 9.0}\n",
      "building network with inputs: [u'PFMET', u'nCleanedJetsPt30', u'nCleanedJetsPt30BTagged_bTagSF', u'nExtraLep', u'D_WHh_ZHh_ME', u'PFMET']\n",
      "got the following list of hyperparams: {u'number_layers': 9.0}\n",
      "building network with inputs: [u'PFMET', u'nCleanedJetsPt30', u'nCleanedJetsPt30BTagged_bTagSF', u'nExtraLep', u'D_VBF2j_WHh_ME', u'PFMET']\n",
      "got the following list of hyperparams: {u'number_layers': 9.0}\n",
      "building network with inputs: [u'PFMET', u'nCleanedJetsPt30', u'nCleanedJetsPt30BTagged_bTagSF', u'nExtraLep', u'D_VBF2j_ZHh_ME', u'PFMET']\n"
     ]
    },
    {
     "data": {
      "text/plain": [
       "[<trainlib.ModelCollection.ModelCollection instance at 0x7f3d01d7cd88>,\n",
       " <trainlib.ModelCollection.ModelCollection instance at 0x7f3d01c5b5f0>,\n",
       " <trainlib.ModelCollection.ModelCollection instance at 0x7f3d01b7f050>,\n",
       " <trainlib.ModelCollection.ModelCollection instance at 0x7f3d01aa9b90>,\n",
       " <trainlib.ModelCollection.ModelCollection instance at 0x7f3d01a53680>,\n",
       " <trainlib.ModelCollection.ModelCollection instance at 0x7f3d0197b0e0>]"
      ]
     },
     "execution_count": 13,
     "metadata": {},
     "output_type": "execute_result"
    }
   ],
   "source": [
    "config_inpath = \"/data_CMS/cms/wind/testcampaign/number_layers_9.0_extraparams_1/settings.conf\"\n",
    "confhandler = ModelCollectionConfigFileHandler()\n",
    "confhandler.LoadConfiguration(config_inpath)\n",
    "confhandler.GetModelCollection()"
   ]
  },
  {
   "cell_type": "code",
   "execution_count": 5,
   "metadata": {
    "collapsed": false
   },
   "outputs": [
    {
     "name": "stdout",
     "output_type": "stream",
     "text": [
      "attempting to load configuration file from /home/llr/cms/wind/cmssw/CMSSW_9_4_2/src/ZZAnalysis/AnalysisStep/test/Python/outconfig.ini\n"
     ]
    }
   ],
   "source": [
    "config_outpath = \"/home/llr/cms/wind/cmssw/CMSSW_9_4_2/src/ZZAnalysis/AnalysisStep/test/Python/outconfig.ini\"\n",
    "new_outpath = \"/home/llr/cms/wind/cmssw/CMSSW_9_4_2/src/ZZAnalysis/AnalysisStep/test/Python/outconfig_changed.ini\"\n",
    "confhandler = ModelCollectionConfigFileHandler()\n",
    "confhandler.LoadConfiguration(config_outpath)"
   ]
  },
  {
   "cell_type": "code",
   "execution_count": 6,
   "metadata": {
    "collapsed": false
   },
   "outputs": [],
   "source": [
    "confhandler.AddInputParameterGlobally('testparam')"
   ]
  },
  {
   "cell_type": "code",
   "execution_count": 7,
   "metadata": {
    "collapsed": false
   },
   "outputs": [],
   "source": [
    "new_hyper = {'number_layers': 173}"
   ]
  },
  {
   "cell_type": "code",
   "execution_count": 8,
   "metadata": {
    "collapsed": false
   },
   "outputs": [],
   "source": [
    "confhandler.SetHyperparametersGlobally(new_hyper)"
   ]
  },
  {
   "cell_type": "code",
   "execution_count": 9,
   "metadata": {
    "collapsed": true
   },
   "outputs": [],
   "source": [
    "confhandler.ModelGlobalDiff('base_model', 'another_model')"
   ]
  },
  {
   "cell_type": "code",
   "execution_count": 10,
   "metadata": {
    "collapsed": true
   },
   "outputs": [],
   "source": [
    "confhandler.SaveConfiguration(new_outpath)"
   ]
  },
  {
   "cell_type": "code",
   "execution_count": null,
   "metadata": {
    "collapsed": true
   },
   "outputs": [],
   "source": []
  }
 ],
 "metadata": {
  "kernelspec": {
   "display_name": "Python 2",
   "language": "python",
   "name": "python2"
  },
  "language_info": {
   "codemirror_mode": {
    "name": "ipython",
    "version": 2
   },
   "file_extension": ".py",
   "mimetype": "text/x-python",
   "name": "python",
   "nbconvert_exporter": "python",
   "pygments_lexer": "ipython2",
   "version": "2.7.11"
  }
 },
 "nbformat": 4,
 "nbformat_minor": 2
}
