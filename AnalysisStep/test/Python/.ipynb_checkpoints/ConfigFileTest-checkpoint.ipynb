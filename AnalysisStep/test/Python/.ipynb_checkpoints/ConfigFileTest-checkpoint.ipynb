{
 "cells": [
  {
   "cell_type": "code",
   "execution_count": 1,
   "metadata": {
    "collapsed": false
   },
   "outputs": [
    {
     "name": "stdout",
     "output_type": "stream",
     "text": [
      "Welcome to JupyROOT 6.10/09\n"
     ]
    },
    {
     "name": "stderr",
     "output_type": "stream",
     "text": [
      "Using TensorFlow backend.\n"
     ]
    }
   ],
   "source": [
    "from trainlib.ConfigFileHandler import ConfigFileHandler\n",
    "from trainlib.ModelFactory import ModelFactory\n",
    "from trainlib.SimpleModel import SimpleModel"
   ]
  },
  {
   "cell_type": "code",
   "execution_count": 2,
   "metadata": {
    "collapsed": false
   },
   "outputs": [
    {
     "name": "stdout",
     "output_type": "stream",
     "text": [
      "got the following list of hyperparams: {'number_layers': 2}\n",
      "got the following list of hyperparams: {'number_layers': 2}\n",
      "found the following models belonging to this collection:\n",
      "D_VBF_ggH_2j_ML\n",
      "D_VBF_ggH_1j_ML\n",
      "now attempting to load model 'D_VBF_ggH_2j_ML' from file '/data_CMS/cms/wind/test_training_100epochs/training/D_VBF_ggH_ML/D_VBF_ggH_2j_ML/final.hdf5\n",
      "now attempting to load preprocessor settings for 'D_VBF_ggH_2j_ML' from file '/data_CMS/cms/wind/test_training_100epochs/training/D_VBF_ggH_ML/D_VBF_ggH_2j_ML/preprocessor.pkl\n",
      "now attempting to load model 'D_VBF_ggH_1j_ML' from file '/data_CMS/cms/wind/test_training_100epochs/training/D_VBF_ggH_ML/D_VBF_ggH_1j_ML/final.hdf5\n",
      "now attempting to load preprocessor settings for 'D_VBF_ggH_1j_ML' from file '/data_CMS/cms/wind/test_training_100epochs/training/D_VBF_ggH_ML/D_VBF_ggH_1j_ML/preprocessor.pkl\n",
      "got the following list of hyperparams: {'number_layers': 2}\n",
      "found the following models belonging to this collection:\n",
      "D_WHh_ggH_2j_ML\n",
      "now attempting to load model 'D_WHh_ggH_2j_ML' from file '/data_CMS/cms/wind/test_training_100epochs/training/D_WHh_ggH_ML/D_WHh_ggH_2j_ML/final.hdf5\n",
      "now attempting to load preprocessor settings for 'D_WHh_ggH_2j_ML' from file '/data_CMS/cms/wind/test_training_100epochs/training/D_WHh_ggH_ML/D_WHh_ggH_2j_ML/preprocessor.pkl\n",
      "got the following list of hyperparams: {'number_layers': 2}\n",
      "found the following models belonging to this collection:\n",
      "D_ZHh_ggH_2j_ML\n",
      "now attempting to load model 'D_ZHh_ggH_2j_ML' from file '/data_CMS/cms/wind/test_training_100epochs/training/D_ZHh_ggH_ML/D_ZHh_ggH_2j_ML/final.hdf5\n",
      "now attempting to load preprocessor settings for 'D_ZHh_ggH_2j_ML' from file '/data_CMS/cms/wind/test_training_100epochs/training/D_ZHh_ggH_ML/D_ZHh_ggH_2j_ML/preprocessor.pkl\n",
      "got the following list of hyperparams: {'number_layers': 2}\n",
      "found the following models belonging to this collection:\n",
      "D_WHh_ZHh_2j_ML\n",
      "now attempting to load model 'D_WHh_ZHh_2j_ML' from file '/data_CMS/cms/wind/test_training_100epochs/training/D_WHh_ZHh_ML/D_WHh_ZHh_2j_ML/final.hdf5\n",
      "now attempting to load preprocessor settings for 'D_WHh_ZHh_2j_ML' from file '/data_CMS/cms/wind/test_training_100epochs/training/D_WHh_ZHh_ML/D_WHh_ZHh_2j_ML/preprocessor.pkl\n",
      "got the following list of hyperparams: {'number_layers': 2}\n",
      "found the following models belonging to this collection:\n",
      "D_VBF_WHh_2j_ML\n",
      "now attempting to load model 'D_VBF_WHh_2j_ML' from file '/data_CMS/cms/wind/test_training_100epochs/training/D_VBF_WHh_ML/D_VBF_WHh_2j_ML/final.hdf5\n",
      "now attempting to load preprocessor settings for 'D_VBF_WHh_2j_ML' from file '/data_CMS/cms/wind/test_training_100epochs/training/D_VBF_WHh_ML/D_VBF_WHh_2j_ML/preprocessor.pkl\n",
      "got the following list of hyperparams: {'number_layers': 2}\n",
      "found the following models belonging to this collection:\n",
      "D_VBF_ZHh_2j_ML\n",
      "now attempting to load model 'D_VBF_ZHh_2j_ML' from file '/data_CMS/cms/wind/test_training_100epochs/training/D_VBF_ZHh_ML/D_VBF_ZHh_2j_ML/final.hdf5\n",
      "now attempting to load preprocessor settings for 'D_VBF_ZHh_2j_ML' from file '/data_CMS/cms/wind/test_training_100epochs/training/D_VBF_ZHh_ML/D_VBF_ZHh_2j_ML/preprocessor.pkl\n"
     ]
    },
    {
     "name": "stderr",
     "output_type": "stream",
     "text": [
      "2018-03-23 18:56:59.884027: W tensorflow/core/platform/cpu_feature_guard.cc:45] The TensorFlow library wasn't compiled to use SSE4.1 instructions, but these are available on your machine and could speed up CPU computations.\n",
      "2018-03-23 18:56:59.884053: W tensorflow/core/platform/cpu_feature_guard.cc:45] The TensorFlow library wasn't compiled to use SSE4.2 instructions, but these are available on your machine and could speed up CPU computations.\n",
      "2018-03-23 18:56:59.884062: W tensorflow/core/platform/cpu_feature_guard.cc:45] The TensorFlow library wasn't compiled to use AVX instructions, but these are available on your machine and could speed up CPU computations.\n"
     ]
    }
   ],
   "source": [
    "mcoll = ModelFactory.GenerateStandardModelCollections(SimpleModel, \"/data_CMS/cms/wind/CJLST_NTuples/\", \"/data_CMS/cms/wind/test_training_100epochs/training/\")\n",
    "config_outpath = \"/home/llr/cms/wind/cmssw/CMSSW_9_4_2/src/ZZAnalysis/AnalysisStep/test/Python/outconfig.ini\""
   ]
  },
  {
   "cell_type": "code",
   "execution_count": 3,
   "metadata": {
    "collapsed": false
   },
   "outputs": [],
   "source": [
    "confhandler = ConfigFileHandler2()\n",
    "confhandler.ToConfiguration(mcoll)\n",
    "confhandler.SaveConfiguration(config_outpath)"
   ]
  },
  {
   "cell_type": "code",
   "execution_count": 12,
   "metadata": {
    "collapsed": false
   },
   "outputs": [
    {
     "name": "stdout",
     "output_type": "stream",
     "text": [
      "attempting to load model collections from /home/llr/cms/wind/cmssw/CMSSW_9_4_2/src/ZZAnalysis/AnalysisStep/test/Python/outconfig_changed.ini\n",
      "got the following list of hyperparams: {u'number_layers': 17.0}\n",
      "got the following list of hyperparams: {u'number_layers': 17.0}\n",
      "got the following list of hyperparams: {u'number_layers': 17.0}\n",
      "got the following list of hyperparams: {u'number_layers': 17.0}\n",
      "got the following list of hyperparams: {u'number_layers': 17.0}\n",
      "got the following list of hyperparams: {u'number_layers': 17.0}\n",
      "got the following list of hyperparams: {u'number_layers': 17.0}\n"
     ]
    },
    {
     "data": {
      "text/plain": [
       "[<trainlib.ModelCollection.ModelCollection instance at 0x7f961fc18dd0>,\n",
       " <trainlib.ModelCollection.ModelCollection instance at 0x7f961fa82758>,\n",
       " <trainlib.ModelCollection.ModelCollection instance at 0x7f961fa27200>,\n",
       " <trainlib.ModelCollection.ModelCollection instance at 0x7f961f947d88>,\n",
       " <trainlib.ModelCollection.ModelCollection instance at 0x7f961f8f18c0>,\n",
       " <trainlib.ModelCollection.ModelCollection instance at 0x7f961f812368>]"
      ]
     },
     "execution_count": 12,
     "metadata": {},
     "output_type": "execute_result"
    }
   ],
   "source": [
    "confhandler = ConfigFileHandler2()\n",
    "confhandler.LoadConfiguration(new_outpath)\n",
    "confhandler.GetModelCollection()"
   ]
  },
  {
   "cell_type": "code",
   "execution_count": 3,
   "metadata": {
    "collapsed": false
   },
   "outputs": [
    {
     "name": "stdout",
     "output_type": "stream",
     "text": [
      "attempting to load model collections from /home/llr/cms/wind/cmssw/CMSSW_9_4_2/src/ZZAnalysis/AnalysisStep/test/Python/outconfig.ini\n"
     ]
    }
   ],
   "source": [
    "config_outpath = \"/home/llr/cms/wind/cmssw/CMSSW_9_4_2/src/ZZAnalysis/AnalysisStep/test/Python/outconfig.ini\"\n",
    "new_outpath = \"/home/llr/cms/wind/cmssw/CMSSW_9_4_2/src/ZZAnalysis/AnalysisStep/test/Python/outconfig_changed.ini\"\n",
    "confhandler = ConfigFileHandler2()\n",
    "confhandler.LoadConfiguration(config_outpath)"
   ]
  },
  {
   "cell_type": "code",
   "execution_count": 4,
   "metadata": {
    "collapsed": false
   },
   "outputs": [],
   "source": [
    "confhandler.AddInputParameterGlobally('testparam')"
   ]
  },
  {
   "cell_type": "code",
   "execution_count": 8,
   "metadata": {
    "collapsed": false
   },
   "outputs": [],
   "source": [
    "new_hyper = confhandler._assemble_dict({'number_layers': 17}, lambda x: str(x))"
   ]
  },
  {
   "cell_type": "code",
   "execution_count": 9,
   "metadata": {
    "collapsed": false
   },
   "outputs": [],
   "source": [
    "confhandler.ModelGlobalDiff('hyperparameters', new_hyper)"
   ]
  },
  {
   "cell_type": "code",
   "execution_count": 10,
   "metadata": {
    "collapsed": true
   },
   "outputs": [],
   "source": [
    "confhandler.SaveConfiguration(new_outpath)"
   ]
  },
  {
   "cell_type": "code",
   "execution_count": null,
   "metadata": {
    "collapsed": false
   },
   "outputs": [],
   "source": [
    "for model_collection in confhandler._get_model_collection_list():\n",
    "    print confhandler._get_model_list(model_collection)"
   ]
  },
  {
   "cell_type": "code",
   "execution_count": null,
   "metadata": {
    "collapsed": false
   },
   "outputs": [],
   "source": [
    "confhandler.config['[D_VBF_ggH_2j_ML]']"
   ]
  },
  {
   "cell_type": "code",
   "execution_count": null,
   "metadata": {
    "collapsed": true
   },
   "outputs": [],
   "source": []
  }
 ],
 "metadata": {
  "kernelspec": {
   "display_name": "Python 2",
   "language": "python",
   "name": "python2"
  },
  "language_info": {
   "codemirror_mode": {
    "name": "ipython",
    "version": 2
   },
   "file_extension": ".py",
   "mimetype": "text/x-python",
   "name": "python",
   "nbconvert_exporter": "python",
   "pygments_lexer": "ipython2",
   "version": "2.7.11"
  }
 },
 "nbformat": 4,
 "nbformat_minor": 2
}
