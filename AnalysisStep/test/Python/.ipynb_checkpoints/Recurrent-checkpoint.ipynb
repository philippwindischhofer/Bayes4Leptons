{
 "cells": [
  {
   "cell_type": "code",
   "execution_count": 1,
   "metadata": {
    "collapsed": false
   },
   "outputs": [
    {
     "name": "stderr",
     "output_type": "stream",
     "text": [
      "Using TensorFlow backend.\n"
     ]
    }
   ],
   "source": [
    "import tensorflow as tf\n",
    "from keras import backend as K\n",
    "from keras import optimizers"
   ]
  },
  {
   "cell_type": "code",
   "execution_count": 2,
   "metadata": {
    "collapsed": true
   },
   "outputs": [],
   "source": [
    "from keras.layers import Dense, LSTM, Activation\n",
    "from keras.engine.topology import Input\n",
    "from keras.preprocessing.sequence import pad_sequences\n",
    "import keras.engine.training"
   ]
  },
  {
   "cell_type": "code",
   "execution_count": 3,
   "metadata": {
    "collapsed": true
   },
   "outputs": [],
   "source": [
    "config = tf.ConfigProto(intra_op_parallelism_threads = 10, inter_op_parallelism_threads = 10, allow_soft_placement = True, device_count = {'CPU': 10})\n",
    "session = tf.Session(config = config)\n",
    "K.set_session(session)"
   ]
  },
  {
   "cell_type": "code",
   "execution_count": 4,
   "metadata": {
    "collapsed": false
   },
   "outputs": [
    {
     "name": "stdout",
     "output_type": "stream",
     "text": [
      "Welcome to JupyROOT 6.10/09\n"
     ]
    }
   ],
   "source": [
    "from trainlib.FileCollection import FileCollection\n",
    "from trainlib.Preprocessor import Preprocessor\n",
    "from trainlib.PCAWhiteningPreprocessor import PCAWhiteningPreprocessor\n",
    "from trainlib.RNNPreprocessor import RNNPreprocessor\n",
    "from trainlib.ListPreprocessor import ListPreprocessor\n",
    "from trainlib.generator import Generator\n",
    "import trainlib.cuts\n",
    "import trainlib.cuts as cuts\n",
    "from trainlib.utils import read_data\n",
    "import numpy as np\n",
    "import pandas as pd\n",
    "import math"
   ]
  },
  {
   "cell_type": "code",
   "execution_count": 5,
   "metadata": {
    "collapsed": true
   },
   "outputs": [],
   "source": [
    "# slightly extended version of the numpy-internal one with same name, also handles the case when the entries in the dataframe are actually numpy arrays themselves\n",
    "def as_matrix(df):\n",
    "    return np.array(df.as_matrix().tolist())"
   ]
  },
  {
   "cell_type": "code",
   "execution_count": 6,
   "metadata": {
    "collapsed": true
   },
   "outputs": [],
   "source": [
    "# prepare the generator for tests\n",
    "H1_stream = {\"/data_CMS/cms/wind/CJLST_NTuples/ggH125/ZZ4lAnalysis.root\" : cuts.no_cut}\n",
    "H0_stream = {\"/data_CMS/cms/wind/CJLST_NTuples/VBFH125/ZZ4lAnalysis.root\" : cuts.no_cut}"
   ]
  },
  {
   "cell_type": "code",
   "execution_count": 7,
   "metadata": {
    "collapsed": false
   },
   "outputs": [
    {
     "name": "stdout",
     "output_type": "stream",
     "text": [
      "skimming /data_CMS/cms/wind/CJLST_NTuples/ggH125/ZZ4lAnalysis.root\n",
      "collection set up: 1 files, 110483 entries in total, 110483 of which will be used\n"
     ]
    }
   ],
   "source": [
    "# read some input data\n",
    "fcoll = FileCollection({\"/data_CMS/cms/wind/CJLST_NTuples/ggH125/ZZ4lAnalysis.root\" : cuts.no_cut}, 0.0, 1.0)\n",
    "setup_data = read_data(fcoll, 0, 10, branches = [\"JetPt\", \"JetEta\", \"JetPhi\"])\n",
    "validation_data = read_data(fcoll, 400, 800, branches = [\"JetPt\", \"JetEta\", \"JetPhi\"])"
   ]
  },
  {
   "cell_type": "code",
   "execution_count": 8,
   "metadata": {
    "collapsed": false
   },
   "outputs": [],
   "source": [
    "# set up the preprocessor for the RNN\n",
    "nonperiodic_columns = [\"JetPt\", \"JetEta\"]\n",
    "periodic_columns = [\"JetPhi\"]\n",
    "sorted_column = \"JetPt\""
   ]
  },
  {
   "cell_type": "code",
   "execution_count": 9,
   "metadata": {
    "collapsed": false
   },
   "outputs": [],
   "source": [
    "pre_rnn = RNNPreprocessor('RNN_test', nonperiodic_columns, periodic_columns, sorted_column, cuts.no_cut, PCAWhiteningPreprocessor)"
   ]
  },
  {
   "cell_type": "code",
   "execution_count": 20,
   "metadata": {
    "collapsed": false
   },
   "outputs": [
    {
     "data": {
      "text/html": [
       "<div>\n",
       "<style>\n",
       "    .dataframe thead tr:only-child th {\n",
       "        text-align: right;\n",
       "    }\n",
       "\n",
       "    .dataframe thead th {\n",
       "        text-align: left;\n",
       "    }\n",
       "\n",
       "    .dataframe tbody tr th {\n",
       "        vertical-align: top;\n",
       "    }\n",
       "</style>\n",
       "<table border=\"1\" class=\"dataframe\">\n",
       "  <thead>\n",
       "    <tr style=\"text-align: right;\">\n",
       "      <th></th>\n",
       "      <th>JetPt</th>\n",
       "      <th>JetEta</th>\n",
       "      <th>JetPhi</th>\n",
       "    </tr>\n",
       "  </thead>\n",
       "  <tbody>\n",
       "    <tr>\n",
       "      <th>0</th>\n",
       "      <td>[53.6443]</td>\n",
       "      <td>[-2.29227]</td>\n",
       "      <td>[2.54869]</td>\n",
       "    </tr>\n",
       "    <tr>\n",
       "      <th>1</th>\n",
       "      <td>[36.2919, 21.1634]</td>\n",
       "      <td>[0.326643, -0.80063]</td>\n",
       "      <td>[2.83377, 1.15123]</td>\n",
       "    </tr>\n",
       "    <tr>\n",
       "      <th>2</th>\n",
       "      <td>[]</td>\n",
       "      <td>[]</td>\n",
       "      <td>[]</td>\n",
       "    </tr>\n",
       "    <tr>\n",
       "      <th>3</th>\n",
       "      <td>[55.005, 28.7824]</td>\n",
       "      <td>[1.21199, -2.61541]</td>\n",
       "      <td>[1.77548, -0.592928]</td>\n",
       "    </tr>\n",
       "    <tr>\n",
       "      <th>4</th>\n",
       "      <td>[29.372]</td>\n",
       "      <td>[3.82245]</td>\n",
       "      <td>[-2.58757]</td>\n",
       "    </tr>\n",
       "    <tr>\n",
       "      <th>5</th>\n",
       "      <td>[21.1895]</td>\n",
       "      <td>[-2.82564]</td>\n",
       "      <td>[-1.86381]</td>\n",
       "    </tr>\n",
       "    <tr>\n",
       "      <th>6</th>\n",
       "      <td>[]</td>\n",
       "      <td>[]</td>\n",
       "      <td>[]</td>\n",
       "    </tr>\n",
       "    <tr>\n",
       "      <th>7</th>\n",
       "      <td>[21.9638]</td>\n",
       "      <td>[-1.08136]</td>\n",
       "      <td>[-2.47143]</td>\n",
       "    </tr>\n",
       "    <tr>\n",
       "      <th>8</th>\n",
       "      <td>[81.062]</td>\n",
       "      <td>[3.98602]</td>\n",
       "      <td>[1.68111]</td>\n",
       "    </tr>\n",
       "    <tr>\n",
       "      <th>9</th>\n",
       "      <td>[31.6878, 28.9569, 27.7632]</td>\n",
       "      <td>[-2.06541, 1.83295, -0.914617]</td>\n",
       "      <td>[1.32394, 0.201612, 2.14285]</td>\n",
       "    </tr>\n",
       "  </tbody>\n",
       "</table>\n",
       "</div>"
      ],
      "text/plain": [
       "                         JetPt                          JetEta  \\\n",
       "0                    [53.6443]                      [-2.29227]   \n",
       "1           [36.2919, 21.1634]            [0.326643, -0.80063]   \n",
       "2                           []                              []   \n",
       "3            [55.005, 28.7824]             [1.21199, -2.61541]   \n",
       "4                     [29.372]                       [3.82245]   \n",
       "5                    [21.1895]                      [-2.82564]   \n",
       "6                           []                              []   \n",
       "7                    [21.9638]                      [-1.08136]   \n",
       "8                     [81.062]                       [3.98602]   \n",
       "9  [31.6878, 28.9569, 27.7632]  [-2.06541, 1.83295, -0.914617]   \n",
       "\n",
       "                         JetPhi  \n",
       "0                     [2.54869]  \n",
       "1            [2.83377, 1.15123]  \n",
       "2                            []  \n",
       "3          [1.77548, -0.592928]  \n",
       "4                    [-2.58757]  \n",
       "5                    [-1.86381]  \n",
       "6                            []  \n",
       "7                    [-2.47143]  \n",
       "8                     [1.68111]  \n",
       "9  [1.32394, 0.201612, 2.14285]  "
      ]
     },
     "execution_count": 20,
     "metadata": {},
     "output_type": "execute_result"
    }
   ],
   "source": [
    "setup_data"
   ]
  },
  {
   "cell_type": "code",
   "execution_count": 30,
   "metadata": {
    "collapsed": false
   },
   "outputs": [],
   "source": [
    "testseries = setup_data[\"JetPhi\"].apply(lambda x: np.sin(x))"
   ]
  },
  {
   "cell_type": "code",
   "execution_count": 31,
   "metadata": {
    "collapsed": true
   },
   "outputs": [],
   "source": [
    "df_out = pd.DataFrame()"
   ]
  },
  {
   "cell_type": "code",
   "execution_count": 32,
   "metadata": {
    "collapsed": true
   },
   "outputs": [],
   "source": [
    "df_out[\"test\"] = testseries"
   ]
  },
  {
   "cell_type": "code",
   "execution_count": 33,
   "metadata": {
    "collapsed": false
   },
   "outputs": [
    {
     "data": {
      "text/html": [
       "<div>\n",
       "<style>\n",
       "    .dataframe thead tr:only-child th {\n",
       "        text-align: right;\n",
       "    }\n",
       "\n",
       "    .dataframe thead th {\n",
       "        text-align: left;\n",
       "    }\n",
       "\n",
       "    .dataframe tbody tr th {\n",
       "        vertical-align: top;\n",
       "    }\n",
       "</style>\n",
       "<table border=\"1\" class=\"dataframe\">\n",
       "  <thead>\n",
       "    <tr style=\"text-align: right;\">\n",
       "      <th></th>\n",
       "      <th>test</th>\n",
       "    </tr>\n",
       "  </thead>\n",
       "  <tbody>\n",
       "    <tr>\n",
       "      <th>0</th>\n",
       "      <td>[0.55877]</td>\n",
       "    </tr>\n",
       "    <tr>\n",
       "      <th>1</th>\n",
       "      <td>[0.302989, 0.913267]</td>\n",
       "    </tr>\n",
       "    <tr>\n",
       "      <th>2</th>\n",
       "      <td>[]</td>\n",
       "    </tr>\n",
       "    <tr>\n",
       "      <th>3</th>\n",
       "      <td>[0.979125, -0.558792]</td>\n",
       "    </tr>\n",
       "    <tr>\n",
       "      <th>4</th>\n",
       "      <td>[-0.526116]</td>\n",
       "    </tr>\n",
       "    <tr>\n",
       "      <th>5</th>\n",
       "      <td>[-0.957378]</td>\n",
       "    </tr>\n",
       "    <tr>\n",
       "      <th>6</th>\n",
       "      <td>[]</td>\n",
       "    </tr>\n",
       "    <tr>\n",
       "      <th>7</th>\n",
       "      <td>[-0.621115]</td>\n",
       "    </tr>\n",
       "    <tr>\n",
       "      <th>8</th>\n",
       "      <td>[0.993922]</td>\n",
       "    </tr>\n",
       "    <tr>\n",
       "      <th>9</th>\n",
       "      <td>[0.969685, 0.200249, 0.840789]</td>\n",
       "    </tr>\n",
       "  </tbody>\n",
       "</table>\n",
       "</div>"
      ],
      "text/plain": [
       "                             test\n",
       "0                       [0.55877]\n",
       "1            [0.302989, 0.913267]\n",
       "2                              []\n",
       "3           [0.979125, -0.558792]\n",
       "4                     [-0.526116]\n",
       "5                     [-0.957378]\n",
       "6                              []\n",
       "7                     [-0.621115]\n",
       "8                      [0.993922]\n",
       "9  [0.969685, 0.200249, 0.840789]"
      ]
     },
     "execution_count": 33,
     "metadata": {},
     "output_type": "execute_result"
    }
   ],
   "source": [
    "df_out"
   ]
  },
  {
   "cell_type": "code",
   "execution_count": 12,
   "metadata": {
    "collapsed": false
   },
   "outputs": [
    {
     "name": "stdout",
     "output_type": "stream",
     "text": [
      "10 remaining after the cuts\n",
      "12 remaining after the cuts\n",
      "found a maximum list length in the setup data of 3: will pad or truncate to this length from now on\n"
     ]
    }
   ],
   "source": [
    "pre_rnn.setup(setup_data)"
   ]
  },
  {
   "cell_type": "code",
   "execution_count": 255,
   "metadata": {
    "collapsed": false
   },
   "outputs": [
    {
     "data": {
      "text/html": [
       "<div>\n",
       "<style>\n",
       "    .dataframe thead tr:only-child th {\n",
       "        text-align: right;\n",
       "    }\n",
       "\n",
       "    .dataframe thead th {\n",
       "        text-align: left;\n",
       "    }\n",
       "\n",
       "    .dataframe tbody tr th {\n",
       "        vertical-align: top;\n",
       "    }\n",
       "</style>\n",
       "<table border=\"1\" class=\"dataframe\">\n",
       "  <thead>\n",
       "    <tr style=\"text-align: right;\">\n",
       "      <th></th>\n",
       "      <th>JetPt</th>\n",
       "      <th>JetEta</th>\n",
       "      <th>JetPhi</th>\n",
       "    </tr>\n",
       "  </thead>\n",
       "  <tbody>\n",
       "    <tr>\n",
       "      <th>0</th>\n",
       "      <td>[53.6443]</td>\n",
       "      <td>[-2.29227]</td>\n",
       "      <td>[2.54869]</td>\n",
       "    </tr>\n",
       "    <tr>\n",
       "      <th>1</th>\n",
       "      <td>[36.2919, 21.1634]</td>\n",
       "      <td>[0.326643, -0.80063]</td>\n",
       "      <td>[2.83377, 1.15123]</td>\n",
       "    </tr>\n",
       "    <tr>\n",
       "      <th>2</th>\n",
       "      <td>[]</td>\n",
       "      <td>[]</td>\n",
       "      <td>[]</td>\n",
       "    </tr>\n",
       "    <tr>\n",
       "      <th>3</th>\n",
       "      <td>[55.005, 28.7824]</td>\n",
       "      <td>[1.21199, -2.61541]</td>\n",
       "      <td>[1.77548, -0.592928]</td>\n",
       "    </tr>\n",
       "    <tr>\n",
       "      <th>4</th>\n",
       "      <td>[29.372]</td>\n",
       "      <td>[3.82245]</td>\n",
       "      <td>[-2.58757]</td>\n",
       "    </tr>\n",
       "    <tr>\n",
       "      <th>5</th>\n",
       "      <td>[21.1895]</td>\n",
       "      <td>[-2.82564]</td>\n",
       "      <td>[-1.86381]</td>\n",
       "    </tr>\n",
       "    <tr>\n",
       "      <th>6</th>\n",
       "      <td>[]</td>\n",
       "      <td>[]</td>\n",
       "      <td>[]</td>\n",
       "    </tr>\n",
       "    <tr>\n",
       "      <th>7</th>\n",
       "      <td>[21.9638]</td>\n",
       "      <td>[-1.08136]</td>\n",
       "      <td>[-2.47143]</td>\n",
       "    </tr>\n",
       "    <tr>\n",
       "      <th>8</th>\n",
       "      <td>[81.062]</td>\n",
       "      <td>[3.98602]</td>\n",
       "      <td>[1.68111]</td>\n",
       "    </tr>\n",
       "    <tr>\n",
       "      <th>9</th>\n",
       "      <td>[31.6878, 28.9569, 27.7632]</td>\n",
       "      <td>[-2.06541, 1.83295, -0.914617]</td>\n",
       "      <td>[1.32394, 0.201612, 2.14285]</td>\n",
       "    </tr>\n",
       "  </tbody>\n",
       "</table>\n",
       "</div>"
      ],
      "text/plain": [
       "                         JetPt                          JetEta  \\\n",
       "0                    [53.6443]                      [-2.29227]   \n",
       "1           [36.2919, 21.1634]            [0.326643, -0.80063]   \n",
       "2                           []                              []   \n",
       "3            [55.005, 28.7824]             [1.21199, -2.61541]   \n",
       "4                     [29.372]                       [3.82245]   \n",
       "5                    [21.1895]                      [-2.82564]   \n",
       "6                           []                              []   \n",
       "7                    [21.9638]                      [-1.08136]   \n",
       "8                     [81.062]                       [3.98602]   \n",
       "9  [31.6878, 28.9569, 27.7632]  [-2.06541, 1.83295, -0.914617]   \n",
       "\n",
       "                         JetPhi  \n",
       "0                     [2.54869]  \n",
       "1            [2.83377, 1.15123]  \n",
       "2                            []  \n",
       "3          [1.77548, -0.592928]  \n",
       "4                    [-2.58757]  \n",
       "5                    [-1.86381]  \n",
       "6                            []  \n",
       "7                    [-2.47143]  \n",
       "8                     [1.68111]  \n",
       "9  [1.32394, 0.201612, 2.14285]  "
      ]
     },
     "execution_count": 255,
     "metadata": {},
     "output_type": "execute_result"
    }
   ],
   "source": [
    "setup_data.apply(lambda row: sort_row2(row, 0), raw = True, axis = 1)"
   ]
  },
  {
   "cell_type": "code",
   "execution_count": 244,
   "metadata": {
    "collapsed": true
   },
   "outputs": [],
   "source": [
    "def sort_row(row, sorted_col):\n",
    "    sorted_ind = row[sorted_col].argsort()\n",
    "    #sorted_ind = sorted_ind[::-1]\n",
    "    sort_arr = lambda arr: arr[sorted_ind]\n",
    "    row = map(sort_arr, row)\n",
    "    \n",
    "    return row"
   ]
  },
  {
   "cell_type": "code",
   "execution_count": 252,
   "metadata": {
    "collapsed": true
   },
   "outputs": [],
   "source": [
    "def sort_row2(row, sorted_col):\n",
    "    sorted_ind = row[sorted_col].argsort()\n",
    "    sorted_ind = sorted_ind[::-1]\n",
    "\n",
    "    for i in range(len(row)):\n",
    "        row[i] = row[i][sorted_ind]\n",
    "            \n",
    "    return row"
   ]
  },
  {
   "cell_type": "code",
   "execution_count": 30,
   "metadata": {
    "collapsed": false
   },
   "outputs": [],
   "source": [
    "testarr = np.array([[1,3,2],[1,2,3]])"
   ]
  },
  {
   "cell_type": "code",
   "execution_count": 155,
   "metadata": {
    "collapsed": true
   },
   "outputs": [],
   "source": [
    "row = np.array([1,2,3])"
   ]
  },
  {
   "cell_type": "code",
   "execution_count": 158,
   "metadata": {
    "collapsed": false
   },
   "outputs": [],
   "source": [
    "row[range(3)] = [4,4,5]"
   ]
  },
  {
   "cell_type": "code",
   "execution_count": 159,
   "metadata": {
    "collapsed": false
   },
   "outputs": [
    {
     "data": {
      "text/plain": [
       "array([4, 4, 5])"
      ]
     },
     "execution_count": 159,
     "metadata": {},
     "output_type": "execute_result"
    }
   ],
   "source": [
    "row"
   ]
  },
  {
   "cell_type": "code",
   "execution_count": 124,
   "metadata": {
    "collapsed": false
   },
   "outputs": [
    {
     "name": "stdout",
     "output_type": "stream",
     "text": [
      "[[1 3 2]\n",
      " [1 2 3]]\n",
      "(2, 3)\n",
      "[[1 3 2]\n",
      " [1 2 3]]\n",
      "[[1 2 3]\n",
      " [1 3 2]]\n",
      "[array([1, 2, 3]), array([1, 3, 2])]\n",
      "<type 'list'>\n"
     ]
    },
    {
     "data": {
      "text/plain": [
       "(3, 1)"
      ]
     },
     "execution_count": 124,
     "metadata": {},
     "output_type": "execute_result"
    }
   ],
   "source": [
    "np.shape(sort_row(testarr))"
   ]
  },
  {
   "cell_type": "code",
   "execution_count": 18,
   "metadata": {
    "collapsed": false
   },
   "outputs": [
    {
     "data": {
      "text/plain": [
       "<function __main__.<lambda>>"
      ]
     },
     "execution_count": 18,
     "metadata": {},
     "output_type": "execute_result"
    }
   ],
   "source": [
    "sortlist = lambda row: "
   ]
  },
  {
   "cell_type": "code",
   "execution_count": 10,
   "metadata": {
    "collapsed": false
   },
   "outputs": [
    {
     "name": "stdout",
     "output_type": "stream",
     "text": [
      "skimming /data_CMS/cms/wind/CJLST_NTuples/ggH125/ZZ4lAnalysis.root\n",
      "collection set up: 1 files, 110483 entries in total, 55241 of which will be used\n",
      "skimming /data_CMS/cms/wind/CJLST_NTuples/VBFH125/ZZ4lAnalysis.root\n",
      "collection set up: 1 files, 62320 entries in total, 31160 of which will be used\n"
     ]
    }
   ],
   "source": [
    "testgen = Generator(H1_stream, H0_stream, nonperiodic_columns + periodic_columns, preprocessor = pre_rnn.process)\n",
    "setup_len = testgen.setup_training_data()"
   ]
  },
  {
   "cell_type": "code",
   "execution_count": 11,
   "metadata": {
    "collapsed": false
   },
   "outputs": [
    {
     "name": "stdout",
     "output_type": "stream",
     "text": [
      "H1 contains 55241 entries\n",
      "H0 contains 31160 entries\n",
      "using the following chunk sizes: (55 / 31)\n",
      "setting up list preprocessor on 86430 events\n",
      "concat start\n",
      "concat end\n",
      "periodic encoding start\n",
      "periodic encoding end\n",
      "sorting start\n",
      "join end\n",
      "sorting end\n",
      "cut start\n",
      "cut end\n",
      "86430 remaining after the cuts\n",
      "unpack end\n",
      "102669 remaining after the cuts\n",
      "base preprocessor setup end\n",
      "found a maximum list length in the setup data of 9: will pad or truncate to this length from now on\n"
     ]
    }
   ],
   "source": [
    "pre_rnn.setup_generator(testgen.raw_generator_scrambled(), len_setupdata = setup_len)"
   ]
  },
  {
   "cell_type": "code",
   "execution_count": 12,
   "metadata": {
    "collapsed": false
   },
   "outputs": [
    {
     "name": "stdout",
     "output_type": "stream",
     "text": [
      "skimming /data_CMS/cms/wind/CJLST_NTuples/ggH125/ZZ4lAnalysis.root\n",
      "collection set up: 1 files, 110483 entries in total, 55242 of which will be used\n",
      "skimming /data_CMS/cms/wind/CJLST_NTuples/VBFH125/ZZ4lAnalysis.root\n",
      "collection set up: 1 files, 62320 entries in total, 31160 of which will be used\n"
     ]
    },
    {
     "data": {
      "text/plain": [
       "86402"
      ]
     },
     "execution_count": 12,
     "metadata": {},
     "output_type": "execute_result"
    }
   ],
   "source": [
    "valgen = Generator(H1_stream, H0_stream, nonperiodic_columns + periodic_columns, preprocessor = pre_rnn.process)\n",
    "valgen.setup_validation_data()"
   ]
  },
  {
   "cell_type": "code",
   "execution_count": 13,
   "metadata": {
    "collapsed": false
   },
   "outputs": [
    {
     "name": "stdout",
     "output_type": "stream",
     "text": [
      "H1 contains 55242 entries\n",
      "H0 contains 31160 entries\n",
      "using the following chunk sizes: (55 / 31)\n",
      "periodic encoding start\n",
      "periodic encoding end\n",
      "sorting start\n",
      "join end\n",
      "sorting end\n",
      "periodic encoding start\n",
      "periodic encoding end\n",
      "sorting start\n",
      "join end\n",
      "sorting end\n"
     ]
    }
   ],
   "source": [
    "for data in valgen.preprocessed_generator():\n",
    "    preprocessed_data = data\n",
    "    break"
   ]
  },
  {
   "cell_type": "code",
   "execution_count": 14,
   "metadata": {
    "collapsed": false
   },
   "outputs": [],
   "source": [
    "processed_data = preprocessed_data[0]['RNN_test']"
   ]
  },
  {
   "cell_type": "code",
   "execution_count": 15,
   "metadata": {
    "collapsed": false
   },
   "outputs": [
    {
     "data": {
      "text/plain": [
       "array([[[ 3.43841124, -0.62849599, -0.01974114, -1.39347315],\n",
       "        [-0.2523073 ,  0.54248881,  0.58193249, -1.3015579 ],\n",
       "        [ 0.        ,  0.        ,  0.        ,  0.        ],\n",
       "        ..., \n",
       "        [ 0.        ,  0.        ,  0.        ,  0.        ],\n",
       "        [ 0.        ,  0.        ,  0.        ,  0.        ],\n",
       "        [ 0.        ,  0.        ,  0.        ,  0.        ]],\n",
       "\n",
       "       [[-0.51350397,  0.74696481, -1.23381269, -0.69257957],\n",
       "        [-0.70693439,  0.50783694, -1.4062537 ,  0.07553867],\n",
       "        [-0.70694047,  1.49028969,  0.52431154, -1.3368448 ],\n",
       "        ..., \n",
       "        [ 0.        ,  0.        ,  0.        ,  0.        ],\n",
       "        [ 0.        ,  0.        ,  0.        ,  0.        ],\n",
       "        [ 0.        ,  0.        ,  0.        ,  0.        ]],\n",
       "\n",
       "       [[ 0.75331116,  1.66798174, -0.28319824, -1.39460313],\n",
       "        [ 0.        ,  0.        ,  0.        ,  0.        ],\n",
       "        [ 0.        ,  0.        ,  0.        ,  0.        ],\n",
       "        ..., \n",
       "        [ 0.        ,  0.        ,  0.        ,  0.        ],\n",
       "        [ 0.        ,  0.        ,  0.        ,  0.        ],\n",
       "        [ 0.        ,  0.        ,  0.        ,  0.        ]],\n",
       "\n",
       "       ..., \n",
       "       [[-0.15161391,  0.16857478,  0.26385075,  1.38733554],\n",
       "        [ 0.        ,  0.        ,  0.        ,  0.        ],\n",
       "        [ 0.        ,  0.        ,  0.        ,  0.        ],\n",
       "        ..., \n",
       "        [ 0.        ,  0.        ,  0.        ,  0.        ],\n",
       "        [ 0.        ,  0.        ,  0.        ,  0.        ],\n",
       "        [ 0.        ,  0.        ,  0.        ,  0.        ]],\n",
       "\n",
       "       [[ 0.        ,  0.        ,  0.        ,  0.        ],\n",
       "        [ 0.        ,  0.        ,  0.        ,  0.        ],\n",
       "        [ 0.        ,  0.        ,  0.        ,  0.        ],\n",
       "        ..., \n",
       "        [ 0.        ,  0.        ,  0.        ,  0.        ],\n",
       "        [ 0.        ,  0.        ,  0.        ,  0.        ],\n",
       "        [ 0.        ,  0.        ,  0.        ,  0.        ]],\n",
       "\n",
       "       [[ 0.        ,  0.        ,  0.        ,  0.        ],\n",
       "        [ 0.        ,  0.        ,  0.        ,  0.        ],\n",
       "        [ 0.        ,  0.        ,  0.        ,  0.        ],\n",
       "        ..., \n",
       "        [ 0.        ,  0.        ,  0.        ,  0.        ],\n",
       "        [ 0.        ,  0.        ,  0.        ,  0.        ],\n",
       "        [ 0.        ,  0.        ,  0.        ,  0.        ]]], dtype=float32)"
      ]
     },
     "execution_count": 15,
     "metadata": {},
     "output_type": "execute_result"
    }
   ],
   "source": [
    "processed_data"
   ]
  },
  {
   "cell_type": "code",
   "execution_count": 28,
   "metadata": {
    "collapsed": false
   },
   "outputs": [],
   "source": [
    "# test its whitening quality\n",
    "flattened_data = processed_data[:,:,3].flatten()\n",
    "quality_data = flattened_data[np.nonzero(flattened_data)]"
   ]
  },
  {
   "cell_type": "code",
   "execution_count": 29,
   "metadata": {
    "collapsed": false
   },
   "outputs": [
    {
     "data": {
      "text/plain": [
       "-0.086298995"
      ]
     },
     "execution_count": 29,
     "metadata": {},
     "output_type": "execute_result"
    }
   ],
   "source": [
    "np.mean(quality_data)"
   ]
  },
  {
   "cell_type": "code",
   "execution_count": 30,
   "metadata": {
    "collapsed": false
   },
   "outputs": [
    {
     "data": {
      "text/plain": [
       "1.0268894"
      ]
     },
     "execution_count": 30,
     "metadata": {},
     "output_type": "execute_result"
    }
   ],
   "source": [
    "np.std(quality_data)"
   ]
  },
  {
   "cell_type": "code",
   "execution_count": 10,
   "metadata": {
    "collapsed": false
   },
   "outputs": [],
   "source": [
    "pre_list = ListPreprocessor(\"listtest\", nonperiodic_columns + periodic_columns, cuts.no_cut, PCAWhiteningPreprocessor)"
   ]
  },
  {
   "cell_type": "code",
   "execution_count": 15,
   "metadata": {
    "collapsed": false
   },
   "outputs": [],
   "source": [
    "# test the whitening quality:\n",
    "data = preprocessed_data[0]['listtest']"
   ]
  },
  {
   "cell_type": "code",
   "execution_count": 16,
   "metadata": {
    "collapsed": false
   },
   "outputs": [
    {
     "data": {
      "text/plain": [
       "(86, 9, 3)"
      ]
     },
     "execution_count": 16,
     "metadata": {},
     "output_type": "execute_result"
    }
   ],
   "source": [
    "np.shape(data)"
   ]
  },
  {
   "cell_type": "code",
   "execution_count": 17,
   "metadata": {
    "collapsed": false
   },
   "outputs": [
    {
     "data": {
      "text/plain": [
       "array([[[-0.51350057,  0.7443307 ,  0.64557534],\n",
       "        [-0.70693231,  0.50574839,  0.33523723],\n",
       "        [-0.70693147,  1.48632395,  1.44796491],\n",
       "        ..., \n",
       "        [ 0.        ,  0.        ,  0.        ],\n",
       "        [ 0.        ,  0.        ,  0.        ],\n",
       "        [ 0.        ,  0.        ,  0.        ]],\n",
       "\n",
       "       [[-0.04372877,  0.10874736,  1.48220909],\n",
       "        [-0.47562236,  0.10941769, -0.52878791],\n",
       "        [ 0.        ,  0.        ,  0.        ],\n",
       "        ..., \n",
       "        [ 0.        ,  0.        ,  0.        ],\n",
       "        [ 0.        ,  0.        ,  0.        ],\n",
       "        [ 0.        ,  0.        ,  0.        ]],\n",
       "\n",
       "       [[-0.75590676,  0.89329928, -0.88921976],\n",
       "        [ 0.        ,  0.        ,  0.        ],\n",
       "        [ 0.        ,  0.        ,  0.        ],\n",
       "        ..., \n",
       "        [ 0.        ,  0.        ,  0.        ],\n",
       "        [ 0.        ,  0.        ,  0.        ],\n",
       "        [ 0.        ,  0.        ,  0.        ]],\n",
       "\n",
       "       ..., \n",
       "       [[ 0.        ,  0.        ,  0.        ],\n",
       "        [ 0.        ,  0.        ,  0.        ],\n",
       "        [ 0.        ,  0.        ,  0.        ],\n",
       "        ..., \n",
       "        [ 0.        ,  0.        ,  0.        ],\n",
       "        [ 0.        ,  0.        ,  0.        ],\n",
       "        [ 0.        ,  0.        ,  0.        ]],\n",
       "\n",
       "       [[ 1.67605603, -0.25405949, -0.70687807],\n",
       "        [ 1.30829906,  0.15269856,  0.36219788],\n",
       "        [-0.42306983, -0.18705496,  1.24798894],\n",
       "        ..., \n",
       "        [ 0.        ,  0.        ,  0.        ],\n",
       "        [ 0.        ,  0.        ,  0.        ],\n",
       "        [ 0.        ,  0.        ,  0.        ]],\n",
       "\n",
       "       [[ 0.        ,  0.        ,  0.        ],\n",
       "        [ 0.        ,  0.        ,  0.        ],\n",
       "        [ 0.        ,  0.        ,  0.        ],\n",
       "        ..., \n",
       "        [ 0.        ,  0.        ,  0.        ],\n",
       "        [ 0.        ,  0.        ,  0.        ],\n",
       "        [ 0.        ,  0.        ,  0.        ]]], dtype=float32)"
      ]
     },
     "execution_count": 17,
     "metadata": {},
     "output_type": "execute_result"
    }
   ],
   "source": [
    "data"
   ]
  },
  {
   "cell_type": "code",
   "execution_count": 18,
   "metadata": {
    "collapsed": false
   },
   "outputs": [],
   "source": [
    "first_col = data[:,:,2].flatten()\n",
    "first_col_antipadded = first_col[np.nonzero(first_col)]"
   ]
  },
  {
   "cell_type": "code",
   "execution_count": 19,
   "metadata": {
    "collapsed": false
   },
   "outputs": [
    {
     "data": {
      "text/plain": [
       "0.14932205"
      ]
     },
     "execution_count": 19,
     "metadata": {},
     "output_type": "execute_result"
    }
   ],
   "source": [
    "np.mean(first_col_antipadded)"
   ]
  },
  {
   "cell_type": "code",
   "execution_count": 20,
   "metadata": {
    "collapsed": false
   },
   "outputs": [
    {
     "data": {
      "text/plain": [
       "1.0147306"
      ]
     },
     "execution_count": 20,
     "metadata": {},
     "output_type": "execute_result"
    }
   ],
   "source": [
    "np.std(first_col_antipadded)"
   ]
  },
  {
   "cell_type": "code",
   "execution_count": 21,
   "metadata": {
    "collapsed": false
   },
   "outputs": [
    {
     "ename": "NameError",
     "evalue": "name 'H0_testdata' is not defined",
     "output_type": "error",
     "traceback": [
      "\u001b[0;31m\u001b[0m",
      "\u001b[0;31mNameError\u001b[0mTraceback (most recent call last)",
      "\u001b[0;32m<ipython-input-21-a5e137d2d618>\u001b[0m in \u001b[0;36m<module>\u001b[0;34m()\u001b[0m\n\u001b[0;32m----> 1\u001b[0;31m \u001b[0mH0_testdata\u001b[0m\u001b[0;34m\u001b[0m\u001b[0m\n\u001b[0m",
      "\u001b[0;31mNameError\u001b[0m: name 'H0_testdata' is not defined"
     ]
    }
   ],
   "source": [
    "H0_testdata"
   ]
  },
  {
   "cell_type": "code",
   "execution_count": 12,
   "metadata": {
    "collapsed": false
   },
   "outputs": [
    {
     "data": {
      "text/plain": [
       "<bound method ListPreprocessor.setup_generator of <trainlib_development.ListPreprocessor.ListPreprocessor object at 0x7f4d8f228450>>"
      ]
     },
     "execution_count": 12,
     "metadata": {},
     "output_type": "execute_result"
    }
   ],
   "source": [
    "pre_list.setup_generator"
   ]
  },
  {
   "cell_type": "code",
   "execution_count": null,
   "metadata": {
    "collapsed": true
   },
   "outputs": [],
   "source": []
  },
  {
   "cell_type": "code",
   "execution_count": 11,
   "metadata": {
    "collapsed": false
   },
   "outputs": [
    {
     "name": "stdout",
     "output_type": "stream",
     "text": [
      "10 remaining after the cuts\n",
      "12 remaining after the cuts\n",
      "found a maximum list length in the setup data of 3: will pad or truncate to this length from now on\n"
     ]
    }
   ],
   "source": [
    "pre_list.setup(setup_data)"
   ]
  },
  {
   "cell_type": "code",
   "execution_count": 11,
   "metadata": {
    "collapsed": false
   },
   "outputs": [
    {
     "name": "stdout",
     "output_type": "stream",
     "text": [
      "unpacked:        JetPt    JetEta    JetPhi\n",
      "0  53.644279 -2.292268  2.548691\n",
      "processed: [[ 53.64427948]\n",
      " [ -2.29226828]\n",
      " [  2.54869056]]\n",
      "padded: [[ 53.64427948   0.           0.        ]\n",
      " [ -2.29226828   0.           0.        ]\n",
      " [  2.54869056   0.           0.        ]]\n",
      "unpacked:        JetPt    JetEta    JetPhi\n",
      "0  36.291904  0.326643  2.833765\n",
      "1  21.163439 -0.800630  1.151233\n",
      "processed: [[ 36.29190445  21.1634388 ]\n",
      " [  0.32664341  -0.80063021]\n",
      " [  2.83376527   1.15123296]]\n",
      "padded: [[ 36.29190445  21.1634388    0.        ]\n",
      " [  0.32664341  -0.80063021   0.        ]\n",
      " [  2.83376527   1.15123296   0.        ]]\n",
      "unpacked: Empty DataFrame\n",
      "Columns: [JetPt, JetEta, JetPhi]\n",
      "Index: []\n",
      "processed: [[ 0.]\n",
      " [ 0.]\n",
      " [ 0.]]\n",
      "padded: [[ 0.  0.  0.]\n",
      " [ 0.  0.  0.]\n",
      " [ 0.  0.  0.]]\n",
      "unpacked:        JetPt    JetEta    JetPhi\n",
      "0  55.005016  1.211992  1.775483\n",
      "1  28.782440 -2.615411 -0.592928\n",
      "processed: [[ 55.00501633  28.78244019]\n",
      " [  1.21199214  -2.6154108 ]\n",
      " [  1.77548277  -0.59292841]]\n",
      "padded: [[ 55.00501633  28.78244019   0.        ]\n",
      " [  1.21199214  -2.6154108    0.        ]\n",
      " [  1.77548277  -0.59292841   0.        ]]\n",
      "unpacked:        JetPt    JetEta    JetPhi\n",
      "0  29.372034  3.822447 -2.587565\n",
      "processed: [[ 29.37203407]\n",
      " [  3.82244658]\n",
      " [ -2.58756518]]\n",
      "padded: [[ 29.37203407   0.           0.        ]\n",
      " [  3.82244658   0.           0.        ]\n",
      " [ -2.58756518   0.           0.        ]]\n",
      "unpacked:        JetPt    JetEta    JetPhi\n",
      "0  21.189455 -2.825641 -1.863809\n",
      "processed: [[ 21.18945503]\n",
      " [ -2.82564116]\n",
      " [ -1.86380863]]\n",
      "padded: [[ 21.18945503   0.           0.        ]\n",
      " [ -2.82564116   0.           0.        ]\n",
      " [ -1.86380863   0.           0.        ]]\n",
      "unpacked: Empty DataFrame\n",
      "Columns: [JetPt, JetEta, JetPhi]\n",
      "Index: []\n",
      "processed: [[ 0.]\n",
      " [ 0.]\n",
      " [ 0.]]\n",
      "padded: [[ 0.  0.  0.]\n",
      " [ 0.  0.  0.]\n",
      " [ 0.  0.  0.]]\n",
      "unpacked:        JetPt    JetEta    JetPhi\n",
      "0  21.963787 -1.081362 -2.471428\n",
      "processed: [[ 21.96378708]\n",
      " [ -1.08136213]\n",
      " [ -2.47142839]]\n",
      "padded: [[ 21.96378708   0.           0.        ]\n",
      " [ -1.08136213   0.           0.        ]\n",
      " [ -2.47142839   0.           0.        ]]\n",
      "unpacked:        JetPt    JetEta    JetPhi\n",
      "0  81.061989  3.986023  1.681108\n",
      "processed: [[ 81.06198883]\n",
      " [  3.98602295]\n",
      " [  1.681108  ]]\n",
      "padded: [[ 81.06198883   0.           0.        ]\n",
      " [  3.98602295   0.           0.        ]\n",
      " [  1.681108     0.           0.        ]]\n",
      "unpacked:        JetPt    JetEta    JetPhi\n",
      "0  31.687809 -2.065411  1.323938\n",
      "1  28.956873  1.832949  0.201612\n",
      "2  27.763235 -0.914617  2.142854\n",
      "processed: [[ 31.68780899  28.95687294  27.76323509]\n",
      " [ -2.06541085   1.8329488   -0.91461724]\n",
      " [  1.32393825   0.20161216   2.14285421]]\n",
      "padded: [[ 31.68780899  28.95687294  27.76323509]\n",
      " [ -2.06541085   1.8329488   -0.91461724]\n",
      " [  1.32393825   0.20161216   2.14285421]]\n"
     ]
    }
   ],
   "source": [
    "processed_data = pre_list.process(setup_data)"
   ]
  },
  {
   "cell_type": "code",
   "execution_count": 13,
   "metadata": {
    "collapsed": false
   },
   "outputs": [
    {
     "data": {
      "text/plain": [
       "array([[[ 53.64427948,  -2.29226828,   2.54869056],\n",
       "        [  0.        ,   0.        ,   0.        ],\n",
       "        [  0.        ,   0.        ,   0.        ]],\n",
       "\n",
       "       [[ 36.29190445,   0.32664341,   2.83376527],\n",
       "        [ 21.1634388 ,  -0.80063021,   1.15123296],\n",
       "        [  0.        ,   0.        ,   0.        ]],\n",
       "\n",
       "       [[  0.        ,   0.        ,   0.        ],\n",
       "        [  0.        ,   0.        ,   0.        ],\n",
       "        [  0.        ,   0.        ,   0.        ]],\n",
       "\n",
       "       [[ 55.00501633,   1.21199214,   1.77548277],\n",
       "        [ 28.78244019,  -2.6154108 ,  -0.59292841],\n",
       "        [  0.        ,   0.        ,   0.        ]],\n",
       "\n",
       "       [[ 29.37203407,   3.82244658,  -2.58756518],\n",
       "        [  0.        ,   0.        ,   0.        ],\n",
       "        [  0.        ,   0.        ,   0.        ]],\n",
       "\n",
       "       [[ 21.18945503,  -2.82564116,  -1.86380863],\n",
       "        [  0.        ,   0.        ,   0.        ],\n",
       "        [  0.        ,   0.        ,   0.        ]],\n",
       "\n",
       "       [[  0.        ,   0.        ,   0.        ],\n",
       "        [  0.        ,   0.        ,   0.        ],\n",
       "        [  0.        ,   0.        ,   0.        ]],\n",
       "\n",
       "       [[ 21.96378708,  -1.08136213,  -2.47142839],\n",
       "        [  0.        ,   0.        ,   0.        ],\n",
       "        [  0.        ,   0.        ,   0.        ]],\n",
       "\n",
       "       [[ 81.06198883,   3.98602295,   1.681108  ],\n",
       "        [  0.        ,   0.        ,   0.        ],\n",
       "        [  0.        ,   0.        ,   0.        ]],\n",
       "\n",
       "       [[ 31.68780899,  -2.06541085,   1.32393825],\n",
       "        [ 28.95687294,   1.8329488 ,   0.20161216],\n",
       "        [ 27.76323509,  -0.91461724,   2.14285421]]], dtype=float32)"
      ]
     },
     "execution_count": 13,
     "metadata": {},
     "output_type": "execute_result"
    }
   ],
   "source": [
    "processed_data['listtest']"
   ]
  },
  {
   "cell_type": "code",
   "execution_count": 68,
   "metadata": {
    "collapsed": false
   },
   "outputs": [
    {
     "data": {
      "text/html": [
       "<div>\n",
       "<style>\n",
       "    .dataframe thead tr:only-child th {\n",
       "        text-align: right;\n",
       "    }\n",
       "\n",
       "    .dataframe thead th {\n",
       "        text-align: left;\n",
       "    }\n",
       "\n",
       "    .dataframe tbody tr th {\n",
       "        vertical-align: top;\n",
       "    }\n",
       "</style>\n",
       "<table border=\"1\" class=\"dataframe\">\n",
       "  <thead>\n",
       "    <tr style=\"text-align: right;\">\n",
       "      <th></th>\n",
       "      <th>PFMET</th>\n",
       "      <th>nCleanedJetsPt30</th>\n",
       "      <th>JetPt</th>\n",
       "      <th>JetEta</th>\n",
       "      <th>JetPhi</th>\n",
       "    </tr>\n",
       "  </thead>\n",
       "  <tbody>\n",
       "    <tr>\n",
       "      <th>0</th>\n",
       "      <td>40.490429</td>\n",
       "      <td>1</td>\n",
       "      <td>[53.6443]</td>\n",
       "      <td>[-2.29227]</td>\n",
       "      <td>[2.54869]</td>\n",
       "    </tr>\n",
       "    <tr>\n",
       "      <th>1</th>\n",
       "      <td>40.096920</td>\n",
       "      <td>1</td>\n",
       "      <td>[36.2919, 21.1634]</td>\n",
       "      <td>[0.326643, -0.80063]</td>\n",
       "      <td>[2.83377, 1.15123]</td>\n",
       "    </tr>\n",
       "    <tr>\n",
       "      <th>2</th>\n",
       "      <td>44.240479</td>\n",
       "      <td>0</td>\n",
       "      <td>[]</td>\n",
       "      <td>[]</td>\n",
       "      <td>[]</td>\n",
       "    </tr>\n",
       "    <tr>\n",
       "      <th>3</th>\n",
       "      <td>71.606529</td>\n",
       "      <td>1</td>\n",
       "      <td>[55.005, 28.7824]</td>\n",
       "      <td>[1.21199, -2.61541]</td>\n",
       "      <td>[1.77548, -0.592928]</td>\n",
       "    </tr>\n",
       "    <tr>\n",
       "      <th>4</th>\n",
       "      <td>21.410542</td>\n",
       "      <td>0</td>\n",
       "      <td>[29.372]</td>\n",
       "      <td>[3.82245]</td>\n",
       "      <td>[-2.58757]</td>\n",
       "    </tr>\n",
       "    <tr>\n",
       "      <th>5</th>\n",
       "      <td>21.159580</td>\n",
       "      <td>0</td>\n",
       "      <td>[21.1895]</td>\n",
       "      <td>[-2.82564]</td>\n",
       "      <td>[-1.86381]</td>\n",
       "    </tr>\n",
       "    <tr>\n",
       "      <th>6</th>\n",
       "      <td>28.228645</td>\n",
       "      <td>0</td>\n",
       "      <td>[]</td>\n",
       "      <td>[]</td>\n",
       "      <td>[]</td>\n",
       "    </tr>\n",
       "    <tr>\n",
       "      <th>7</th>\n",
       "      <td>34.765644</td>\n",
       "      <td>0</td>\n",
       "      <td>[21.9638]</td>\n",
       "      <td>[-1.08136]</td>\n",
       "      <td>[-2.47143]</td>\n",
       "    </tr>\n",
       "    <tr>\n",
       "      <th>8</th>\n",
       "      <td>54.827316</td>\n",
       "      <td>1</td>\n",
       "      <td>[81.062]</td>\n",
       "      <td>[3.98602]</td>\n",
       "      <td>[1.68111]</td>\n",
       "    </tr>\n",
       "    <tr>\n",
       "      <th>9</th>\n",
       "      <td>7.474819</td>\n",
       "      <td>1</td>\n",
       "      <td>[31.6878, 28.9569, 27.7632]</td>\n",
       "      <td>[-2.06541, 1.83295, -0.914617]</td>\n",
       "      <td>[1.32394, 0.201612, 2.14285]</td>\n",
       "    </tr>\n",
       "  </tbody>\n",
       "</table>\n",
       "</div>"
      ],
      "text/plain": [
       "       PFMET  nCleanedJetsPt30                        JetPt  \\\n",
       "0  40.490429                 1                    [53.6443]   \n",
       "1  40.096920                 1           [36.2919, 21.1634]   \n",
       "2  44.240479                 0                           []   \n",
       "3  71.606529                 1            [55.005, 28.7824]   \n",
       "4  21.410542                 0                     [29.372]   \n",
       "5  21.159580                 0                    [21.1895]   \n",
       "6  28.228645                 0                           []   \n",
       "7  34.765644                 0                    [21.9638]   \n",
       "8  54.827316                 1                     [81.062]   \n",
       "9   7.474819                 1  [31.6878, 28.9569, 27.7632]   \n",
       "\n",
       "                           JetEta                        JetPhi  \n",
       "0                      [-2.29227]                     [2.54869]  \n",
       "1            [0.326643, -0.80063]            [2.83377, 1.15123]  \n",
       "2                              []                            []  \n",
       "3             [1.21199, -2.61541]          [1.77548, -0.592928]  \n",
       "4                       [3.82245]                    [-2.58757]  \n",
       "5                      [-2.82564]                    [-1.86381]  \n",
       "6                              []                            []  \n",
       "7                      [-1.08136]                    [-2.47143]  \n",
       "8                       [3.98602]                     [1.68111]  \n",
       "9  [-2.06541, 1.83295, -0.914617]  [1.32394, 0.201612, 2.14285]  "
      ]
     },
     "execution_count": 68,
     "metadata": {},
     "output_type": "execute_result"
    }
   ],
   "source": [
    "setup_data"
   ]
  },
  {
   "cell_type": "code",
   "execution_count": 59,
   "metadata": {
    "collapsed": true
   },
   "outputs": [],
   "source": [
    "# set up the preprocessor for the remaining fixed-size input variables\n",
    "fixed_size_columns = [\"PFMET\", \"nCleanedJetsPt30\"]\n",
    "pre_fixed = PCAWhiteningPreprocessor(fixed_size_columns, cuts.no_cut)"
   ]
  },
  {
   "cell_type": "code",
   "execution_count": 14,
   "metadata": {
    "collapsed": false
   },
   "outputs": [
    {
     "name": "stdout",
     "output_type": "stream",
     "text": [
      "10 remaining after the cuts\n",
      "12 remaining after the cuts\n"
     ]
    }
   ],
   "source": [
    "pre_rnn.setup(setup_data)"
   ]
  },
  {
   "cell_type": "code",
   "execution_count": 15,
   "metadata": {
    "collapsed": false
   },
   "outputs": [
    {
     "name": "stdout",
     "output_type": "stream",
     "text": [
      "10 remaining after the cuts\n"
     ]
    }
   ],
   "source": [
    "pre_fixed.setup(setup_data)"
   ]
  },
  {
   "cell_type": "code",
   "execution_count": 18,
   "metadata": {
    "collapsed": false
   },
   "outputs": [],
   "source": [
    "processed_rnn = pre_rnn.process(validation_data)"
   ]
  },
  {
   "cell_type": "code",
   "execution_count": 26,
   "metadata": {
    "collapsed": true
   },
   "outputs": [],
   "source": [
    "processed_fixed = pre_fixed.process(validation_data)"
   ]
  },
  {
   "cell_type": "code",
   "execution_count": 27,
   "metadata": {
    "collapsed": false
   },
   "outputs": [
    {
     "data": {
      "text/plain": [
       "array([-0.27069429,  0.32918631])"
      ]
     },
     "execution_count": 27,
     "metadata": {},
     "output_type": "execute_result"
    }
   ],
   "source": [
    "np.mean(processed_fixed, axis = 0)"
   ]
  },
  {
   "cell_type": "code",
   "execution_count": 28,
   "metadata": {
    "collapsed": false
   },
   "outputs": [
    {
     "data": {
      "text/plain": [
       "array([ 1.07572128,  1.95916834])"
      ]
     },
     "execution_count": 28,
     "metadata": {},
     "output_type": "execute_result"
    }
   ],
   "source": [
    "np.std(processed_fixed, axis = 0)"
   ]
  },
  {
   "cell_type": "code",
   "execution_count": 74,
   "metadata": {
    "collapsed": false
   },
   "outputs": [],
   "source": [
    "final = as_matrix(processed_data)"
   ]
  },
  {
   "cell_type": "code",
   "execution_count": 96,
   "metadata": {
    "collapsed": false
   },
   "outputs": [],
   "source": [
    "final = np.swapaxes(final, 1, 2)"
   ]
  },
  {
   "cell_type": "code",
   "execution_count": 98,
   "metadata": {
    "collapsed": false
   },
   "outputs": [
    {
     "data": {
      "text/plain": [
       "array([[[ 0.        ,  0.        ,  0.        ,  0.        ],\n",
       "        [ 0.        ,  0.        ,  0.        ,  0.        ],\n",
       "        [ 0.        ,  0.        ,  0.        ,  0.        ],\n",
       "        [ 0.        ,  0.        ,  0.        ,  0.        ],\n",
       "        [ 0.        ,  0.        ,  0.        ,  0.        ]],\n",
       "\n",
       "       [[ 0.        ,  0.        ,  0.        ,  0.        ],\n",
       "        [ 0.        ,  0.        ,  0.        ,  0.        ],\n",
       "        [ 0.        ,  0.        ,  0.        ,  0.        ],\n",
       "        [ 0.        ,  0.        ,  0.        ,  0.        ],\n",
       "        [ 0.        ,  0.        ,  0.        ,  0.        ]],\n",
       "\n",
       "       [[-0.58775389,  1.85188425, -1.40367889,  0.28947026],\n",
       "        [-0.59278959,  1.81904542, -0.15680805,  1.41542077],\n",
       "        [ 0.        ,  0.        ,  0.        ,  0.        ],\n",
       "        [ 0.        ,  0.        ,  0.        ,  0.        ],\n",
       "        [ 0.        ,  0.        ,  0.        ,  0.        ]],\n",
       "\n",
       "       ..., \n",
       "       [[-0.08938136, -0.91685706,  1.21690023,  0.76261622],\n",
       "        [ 0.        ,  0.        ,  0.        ,  0.        ],\n",
       "        [ 0.        ,  0.        ,  0.        ,  0.        ],\n",
       "        [ 0.        ,  0.        ,  0.        ,  0.        ],\n",
       "        [ 0.        ,  0.        ,  0.        ,  0.        ]],\n",
       "\n",
       "       [[ 0.31362152, -0.58615708, -0.92888057,  1.06443703],\n",
       "        [-0.26364583,  0.08543751,  1.03982377,  0.96421349],\n",
       "        [ 0.        ,  0.        ,  0.        ,  0.        ],\n",
       "        [ 0.        ,  0.        ,  0.        ,  0.        ],\n",
       "        [ 0.        ,  0.        ,  0.        ,  0.        ]],\n",
       "\n",
       "       [[-0.55341446,  0.45504576, -0.77862602,  1.23459733],\n",
       "        [ 0.        ,  0.        ,  0.        ,  0.        ],\n",
       "        [ 0.        ,  0.        ,  0.        ,  0.        ],\n",
       "        [ 0.        ,  0.        ,  0.        ,  0.        ],\n",
       "        [ 0.        ,  0.        ,  0.        ,  0.        ]]])"
      ]
     },
     "execution_count": 98,
     "metadata": {},
     "output_type": "execute_result"
    }
   ],
   "source": [
    "final"
   ]
  },
  {
   "cell_type": "code",
   "execution_count": 31,
   "metadata": {
    "collapsed": true
   },
   "outputs": [],
   "source": [
    "class CombinedModel:\n",
    "    def __init__(self):\n",
    "        self.model = None\n",
    "        \n",
    "    def build(self):\n",
    "        in_layer = Input(shape = (None, 4))\n",
    "        # number units = dimensionality of the output space\n",
    "        lstm = LSTM(units = 16, return_sequences = False)(in_layer)\n",
    "        out_layer = Dense(1, activation = 'tanh')(lstm)\n",
    "        \n",
    "        self.model = keras.engine.training.Model(in_layer, out_layer, name = 'lstm')"
   ]
  },
  {
   "cell_type": "code",
   "execution_count": 32,
   "metadata": {
    "collapsed": false
   },
   "outputs": [],
   "source": [
    "mod = CombinedModel()\n",
    "mod.build()"
   ]
  },
  {
   "cell_type": "code",
   "execution_count": 23,
   "metadata": {
    "collapsed": false
   },
   "outputs": [
    {
     "ename": "NameError",
     "evalue": "name 'processed_data' is not defined",
     "output_type": "error",
     "traceback": [
      "\u001b[0;31m\u001b[0m",
      "\u001b[0;31mNameError\u001b[0mTraceback (most recent call last)",
      "\u001b[0;32m<ipython-input-23-e757bd14ddfd>\u001b[0m in \u001b[0;36m<module>\u001b[0;34m()\u001b[0m\n\u001b[0;32m----> 1\u001b[0;31m \u001b[0mprocessed_data\u001b[0m\u001b[0;34m\u001b[0m\u001b[0m\n\u001b[0m",
      "\u001b[0;31mNameError\u001b[0m: name 'processed_data' is not defined"
     ]
    }
   ],
   "source": [
    "processed_data"
   ]
  },
  {
   "cell_type": "code",
   "execution_count": 33,
   "metadata": {
    "collapsed": false
   },
   "outputs": [
    {
     "data": {
      "text/plain": [
       "array([[-0.01713363],\n",
       "       [-0.05998567],\n",
       "       [-0.02550865],\n",
       "       [ 0.00843656],\n",
       "       [-0.01181676],\n",
       "       [-0.03402459],\n",
       "       [ 0.01224502],\n",
       "       [ 0.        ],\n",
       "       [ 0.01532767],\n",
       "       [ 0.        ],\n",
       "       [-0.0201104 ],\n",
       "       [ 0.01544422],\n",
       "       [ 0.01760576],\n",
       "       [ 0.        ],\n",
       "       [-0.02130647],\n",
       "       [-0.01050791],\n",
       "       [ 0.        ],\n",
       "       [ 0.        ],\n",
       "       [-0.01772498],\n",
       "       [ 0.        ],\n",
       "       [ 0.        ],\n",
       "       [ 0.02012279],\n",
       "       [ 0.01128677],\n",
       "       [ 0.0015409 ],\n",
       "       [-0.01004794],\n",
       "       [ 0.        ],\n",
       "       [-0.01020866],\n",
       "       [ 0.        ],\n",
       "       [-0.01316817],\n",
       "       [-0.01487809],\n",
       "       [ 0.        ],\n",
       "       [ 0.        ],\n",
       "       [ 0.04108852],\n",
       "       [ 0.        ],\n",
       "       [ 0.01395205],\n",
       "       [ 0.01243004],\n",
       "       [ 0.01672508],\n",
       "       [ 0.        ],\n",
       "       [-0.01592704],\n",
       "       [ 0.0213186 ],\n",
       "       [ 0.00765524],\n",
       "       [ 0.00154455],\n",
       "       [ 0.        ],\n",
       "       [ 0.01637498],\n",
       "       [ 0.01788882],\n",
       "       [ 0.        ],\n",
       "       [ 0.        ],\n",
       "       [ 0.01064076],\n",
       "       [ 0.01845549],\n",
       "       [-0.00262096],\n",
       "       [-0.03148502],\n",
       "       [ 0.01025797],\n",
       "       [ 0.01954332],\n",
       "       [ 0.        ],\n",
       "       [-0.010528  ],\n",
       "       [-0.00719053],\n",
       "       [ 0.00608966],\n",
       "       [-0.00754137],\n",
       "       [-0.02123375],\n",
       "       [-0.03636419],\n",
       "       [ 0.        ],\n",
       "       [ 0.        ],\n",
       "       [-0.03253039],\n",
       "       [ 0.01399239],\n",
       "       [ 0.        ],\n",
       "       [-0.00302755],\n",
       "       [ 0.03623417],\n",
       "       [-0.00739779],\n",
       "       [ 0.        ],\n",
       "       [-0.02482893],\n",
       "       [ 0.        ],\n",
       "       [ 0.01031247],\n",
       "       [ 0.01177686],\n",
       "       [ 0.00374014],\n",
       "       [ 0.00506375],\n",
       "       [-0.03273629],\n",
       "       [-0.02361088],\n",
       "       [ 0.01016207],\n",
       "       [-0.02205106],\n",
       "       [ 0.01182713],\n",
       "       [-0.03245922],\n",
       "       [ 0.01521819],\n",
       "       [-0.01466251],\n",
       "       [ 0.01676572],\n",
       "       [ 0.        ],\n",
       "       [ 0.        ]], dtype=float32)"
      ]
     },
     "execution_count": 33,
     "metadata": {},
     "output_type": "execute_result"
    }
   ],
   "source": [
    "mod.model.predict(processed_data)"
   ]
  },
  {
   "cell_type": "code",
   "execution_count": null,
   "metadata": {
    "collapsed": true
   },
   "outputs": [],
   "source": []
  }
 ],
 "metadata": {
  "kernelspec": {
   "display_name": "Python 2",
   "language": "python",
   "name": "python2"
  },
  "language_info": {
   "codemirror_mode": {
    "name": "ipython",
    "version": 2
   },
   "file_extension": ".py",
   "mimetype": "text/x-python",
   "name": "python",
   "nbconvert_exporter": "python",
   "pygments_lexer": "ipython2",
   "version": "2.7.11"
  }
 },
 "nbformat": 4,
 "nbformat_minor": 2
}
