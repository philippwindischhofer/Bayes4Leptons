{
 "cells": [
  {
   "cell_type": "code",
   "execution_count": 1,
   "metadata": {
    "collapsed": false
   },
   "outputs": [
    {
     "name": "stderr",
     "output_type": "stream",
     "text": [
      "Using TensorFlow backend.\n"
     ]
    }
   ],
   "source": [
    "import tensorflow as tf\n",
    "from keras import backend as K\n",
    "from keras import optimizers"
   ]
  },
  {
   "cell_type": "code",
   "execution_count": 2,
   "metadata": {
    "collapsed": true
   },
   "outputs": [],
   "source": [
    "from keras.layers import Dense, LSTM, Activation\n",
    "from keras.engine.topology import Input\n",
    "from keras.preprocessing.sequence import pad_sequences\n",
    "import keras.engine.training"
   ]
  },
  {
   "cell_type": "code",
   "execution_count": 3,
   "metadata": {
    "collapsed": true
   },
   "outputs": [],
   "source": [
    "config = tf.ConfigProto(intra_op_parallelism_threads = 10, inter_op_parallelism_threads = 10, allow_soft_placement = True, device_count = {'CPU': 10})\n",
    "session = tf.Session(config = config)\n",
    "K.set_session(session)"
   ]
  },
  {
   "cell_type": "code",
   "execution_count": 4,
   "metadata": {
    "collapsed": false
   },
   "outputs": [
    {
     "name": "stdout",
     "output_type": "stream",
     "text": [
      "Welcome to JupyROOT 6.10/09\n"
     ]
    }
   ],
   "source": [
    "from trainlib.FileCollection import FileCollection\n",
    "from trainlib.Preprocessor import Preprocessor\n",
    "from trainlib.PCAWhiteningPreprocessor import PCAWhiteningPreprocessor\n",
    "from trainlib.RNNPreprocessor import RNNPreprocessor\n",
    "from trainlib.ListPreprocessor import ListPreprocessor\n",
    "from trainlib.generator import Generator\n",
    "import trainlib.cuts\n",
    "import trainlib.cuts as cuts\n",
    "from trainlib.utils import read_data\n",
    "import numpy as np\n",
    "import pandas as pd\n",
    "import math"
   ]
  },
  {
   "cell_type": "code",
   "execution_count": 5,
   "metadata": {
    "collapsed": true
   },
   "outputs": [],
   "source": [
    "# slightly extended version of the numpy-internal one with same name, also handles the case when the entries in the dataframe are actually numpy arrays themselves\n",
    "def as_matrix(df):\n",
    "    return np.array(df.as_matrix().tolist())"
   ]
  },
  {
   "cell_type": "code",
   "execution_count": 6,
   "metadata": {
    "collapsed": true
   },
   "outputs": [],
   "source": [
    "# prepare the generator for tests\n",
    "H1_stream = {\"/data_CMS/cms/wind/CJLST_NTuples/ggH125/ZZ4lAnalysis.root\" : cuts.no_cut}\n",
    "H0_stream = {\"/data_CMS/cms/wind/CJLST_NTuples/VBFH125/ZZ4lAnalysis.root\" : cuts.no_cut}"
   ]
  },
  {
   "cell_type": "code",
   "execution_count": 7,
   "metadata": {
    "collapsed": false
   },
   "outputs": [
    {
     "name": "stdout",
     "output_type": "stream",
     "text": [
      "skimming /data_CMS/cms/wind/CJLST_NTuples/ggH125/ZZ4lAnalysis.root\n",
      "collection set up: 1 files, 110483 entries in total, 110483 of which will be used\n"
     ]
    }
   ],
   "source": [
    "# read some input data\n",
    "fcoll = FileCollection({\"/data_CMS/cms/wind/CJLST_NTuples/ggH125/ZZ4lAnalysis.root\" : cuts.no_cut}, 0.0, 1.0)\n",
    "setup_data = read_data(fcoll, 0, 10, branches = [\"JetPt\", \"JetEta\", \"JetPhi\", \"PFMET\", \"nCleanedJetsPt30\"])\n",
    "validation_data = read_data(fcoll, 400, 800, branches = [\"JetPt\", \"JetEta\", \"JetPhi\", \"PFMET\", \"nCleanedJetsPt30\"])"
   ]
  },
  {
   "cell_type": "code",
   "execution_count": 9,
   "metadata": {
    "collapsed": false
   },
   "outputs": [],
   "source": [
    "# set up the preprocessor for the RNN\n",
    "nonperiodic_columns = [\"JetPt\", \"JetEta\"]\n",
    "periodic_columns = [\"JetPhi\"]\n",
    "sorted_column = \"JetPt\""
   ]
  },
  {
   "cell_type": "code",
   "execution_count": 50,
   "metadata": {
    "collapsed": false
   },
   "outputs": [
    {
     "data": {
      "text/html": [
       "<div>\n",
       "<style>\n",
       "    .dataframe thead tr:only-child th {\n",
       "        text-align: right;\n",
       "    }\n",
       "\n",
       "    .dataframe thead th {\n",
       "        text-align: left;\n",
       "    }\n",
       "\n",
       "    .dataframe tbody tr th {\n",
       "        vertical-align: top;\n",
       "    }\n",
       "</style>\n",
       "<table border=\"1\" class=\"dataframe\">\n",
       "  <thead>\n",
       "    <tr style=\"text-align: right;\">\n",
       "      <th></th>\n",
       "      <th>JetPt</th>\n",
       "      <th>JetEta</th>\n",
       "      <th>JetPhi</th>\n",
       "      <th>PFMET</th>\n",
       "      <th>nCleanedJetsPt30</th>\n",
       "    </tr>\n",
       "  </thead>\n",
       "  <tbody>\n",
       "    <tr>\n",
       "      <th>0</th>\n",
       "      <td>[53.6443]</td>\n",
       "      <td>[-2.29227]</td>\n",
       "      <td>[2.54869]</td>\n",
       "      <td>40.490429</td>\n",
       "      <td>1</td>\n",
       "    </tr>\n",
       "    <tr>\n",
       "      <th>1</th>\n",
       "      <td>[36.2919, 21.1634]</td>\n",
       "      <td>[0.326643, -0.80063]</td>\n",
       "      <td>[2.83377, 1.15123]</td>\n",
       "      <td>40.096920</td>\n",
       "      <td>1</td>\n",
       "    </tr>\n",
       "    <tr>\n",
       "      <th>2</th>\n",
       "      <td>[]</td>\n",
       "      <td>[]</td>\n",
       "      <td>[]</td>\n",
       "      <td>44.240479</td>\n",
       "      <td>0</td>\n",
       "    </tr>\n",
       "    <tr>\n",
       "      <th>3</th>\n",
       "      <td>[55.005, 28.7824]</td>\n",
       "      <td>[1.21199, -2.61541]</td>\n",
       "      <td>[1.77548, -0.592928]</td>\n",
       "      <td>71.606529</td>\n",
       "      <td>1</td>\n",
       "    </tr>\n",
       "    <tr>\n",
       "      <th>4</th>\n",
       "      <td>[29.372]</td>\n",
       "      <td>[3.82245]</td>\n",
       "      <td>[-2.58757]</td>\n",
       "      <td>21.410542</td>\n",
       "      <td>0</td>\n",
       "    </tr>\n",
       "    <tr>\n",
       "      <th>5</th>\n",
       "      <td>[21.1895]</td>\n",
       "      <td>[-2.82564]</td>\n",
       "      <td>[-1.86381]</td>\n",
       "      <td>21.159580</td>\n",
       "      <td>0</td>\n",
       "    </tr>\n",
       "    <tr>\n",
       "      <th>6</th>\n",
       "      <td>[]</td>\n",
       "      <td>[]</td>\n",
       "      <td>[]</td>\n",
       "      <td>28.228645</td>\n",
       "      <td>0</td>\n",
       "    </tr>\n",
       "    <tr>\n",
       "      <th>7</th>\n",
       "      <td>[21.9638]</td>\n",
       "      <td>[-1.08136]</td>\n",
       "      <td>[-2.47143]</td>\n",
       "      <td>34.765644</td>\n",
       "      <td>0</td>\n",
       "    </tr>\n",
       "    <tr>\n",
       "      <th>8</th>\n",
       "      <td>[81.062]</td>\n",
       "      <td>[3.98602]</td>\n",
       "      <td>[1.68111]</td>\n",
       "      <td>54.827316</td>\n",
       "      <td>1</td>\n",
       "    </tr>\n",
       "    <tr>\n",
       "      <th>9</th>\n",
       "      <td>[31.6878, 28.9569, 27.7632]</td>\n",
       "      <td>[-2.06541, 1.83295, -0.914617]</td>\n",
       "      <td>[1.32394, 0.201612, 2.14285]</td>\n",
       "      <td>7.474819</td>\n",
       "      <td>1</td>\n",
       "    </tr>\n",
       "  </tbody>\n",
       "</table>\n",
       "</div>"
      ],
      "text/plain": [
       "                         JetPt                          JetEta  \\\n",
       "0                    [53.6443]                      [-2.29227]   \n",
       "1           [36.2919, 21.1634]            [0.326643, -0.80063]   \n",
       "2                           []                              []   \n",
       "3            [55.005, 28.7824]             [1.21199, -2.61541]   \n",
       "4                     [29.372]                       [3.82245]   \n",
       "5                    [21.1895]                      [-2.82564]   \n",
       "6                           []                              []   \n",
       "7                    [21.9638]                      [-1.08136]   \n",
       "8                     [81.062]                       [3.98602]   \n",
       "9  [31.6878, 28.9569, 27.7632]  [-2.06541, 1.83295, -0.914617]   \n",
       "\n",
       "                         JetPhi      PFMET  nCleanedJetsPt30  \n",
       "0                     [2.54869]  40.490429                 1  \n",
       "1            [2.83377, 1.15123]  40.096920                 1  \n",
       "2                            []  44.240479                 0  \n",
       "3          [1.77548, -0.592928]  71.606529                 1  \n",
       "4                    [-2.58757]  21.410542                 0  \n",
       "5                    [-1.86381]  21.159580                 0  \n",
       "6                            []  28.228645                 0  \n",
       "7                    [-2.47143]  34.765644                 0  \n",
       "8                     [1.68111]  54.827316                 1  \n",
       "9  [1.32394, 0.201612, 2.14285]   7.474819                 1  "
      ]
     },
     "execution_count": 50,
     "metadata": {},
     "output_type": "execute_result"
    }
   ],
   "source": [
    "setup_data"
   ]
  },
  {
   "cell_type": "code",
   "execution_count": 11,
   "metadata": {
    "collapsed": false
   },
   "outputs": [
    {
     "name": "stdout",
     "output_type": "stream",
     "text": [
      "skimming /data_CMS/cms/wind/CJLST_NTuples/ggH125/ZZ4lAnalysis.root\n",
      "collection set up: 1 files, 110483 entries in total, 55241 of which will be used\n",
      "skimming /data_CMS/cms/wind/CJLST_NTuples/VBFH125/ZZ4lAnalysis.root\n",
      "collection set up: 1 files, 62320 entries in total, 31160 of which will be used\n"
     ]
    }
   ],
   "source": [
    "testgen = Generator(H1_stream, H0_stream, nonperiodic_columns + periodic_columns, preprocessor = pre_rnn.process)\n",
    "setup_len = testgen.setup_training_data()"
   ]
  },
  {
   "cell_type": "code",
   "execution_count": 9,
   "metadata": {
    "collapsed": false
   },
   "outputs": [],
   "source": [
    "pre_rnn = RNNPreprocessor('RNN_test', nonperiodic_columns, periodic_columns, sorted_column, cuts.no_cut, PCAWhiteningPreprocessor)"
   ]
  },
  {
   "cell_type": "code",
   "execution_count": 12,
   "metadata": {
    "collapsed": false
   },
   "outputs": [
    {
     "name": "stdout",
     "output_type": "stream",
     "text": [
      "H1 contains 55241 entries\n",
      "H0 contains 31160 entries\n",
      "using the following chunk sizes: (55 / 31)\n",
      "setting up list preprocessor on 86430 events\n",
      "86430 remaining after the cuts\n",
      "102669 remaining after the cuts\n",
      "found a maximum list length in the setup data of 9: will pad or truncate to this length from now on\n"
     ]
    }
   ],
   "source": [
    "pre_rnn.setup_generator(testgen.raw_generator_scrambled(), len_setupdata = setup_len)"
   ]
  },
  {
   "cell_type": "code",
   "execution_count": 13,
   "metadata": {
    "collapsed": false
   },
   "outputs": [
    {
     "name": "stdout",
     "output_type": "stream",
     "text": [
      "skimming /data_CMS/cms/wind/CJLST_NTuples/ggH125/ZZ4lAnalysis.root\n",
      "collection set up: 1 files, 110483 entries in total, 55242 of which will be used\n",
      "skimming /data_CMS/cms/wind/CJLST_NTuples/VBFH125/ZZ4lAnalysis.root\n",
      "collection set up: 1 files, 62320 entries in total, 31160 of which will be used\n"
     ]
    },
    {
     "data": {
      "text/plain": [
       "86402"
      ]
     },
     "execution_count": 13,
     "metadata": {},
     "output_type": "execute_result"
    }
   ],
   "source": [
    "valgen = Generator(H1_stream, H0_stream, nonperiodic_columns + periodic_columns, preprocessor = pre_rnn.process)\n",
    "valgen.setup_validation_data()"
   ]
  },
  {
   "cell_type": "code",
   "execution_count": 14,
   "metadata": {
    "collapsed": false
   },
   "outputs": [
    {
     "name": "stdout",
     "output_type": "stream",
     "text": [
      "H1 contains 55242 entries\n",
      "H0 contains 31160 entries\n",
      "using the following chunk sizes: (55 / 31)\n"
     ]
    }
   ],
   "source": [
    "for data in valgen.preprocessed_generator():\n",
    "    preprocessed_data = data\n",
    "    break"
   ]
  },
  {
   "cell_type": "code",
   "execution_count": 15,
   "metadata": {
    "collapsed": false
   },
   "outputs": [],
   "source": [
    "processed_data = preprocessed_data[0]['RNN_test']"
   ]
  },
  {
   "cell_type": "code",
   "execution_count": 16,
   "metadata": {
    "collapsed": false
   },
   "outputs": [
    {
     "data": {
      "text/plain": [
       "array([[[ 1.29843354,  0.7812869 ,  0.4199647 , -1.35477984],\n",
       "        [-0.80170888,  1.27705646, -0.53867084,  1.29122496],\n",
       "        [ 0.        ,  0.        ,  0.        ,  0.        ],\n",
       "        ..., \n",
       "        [ 0.        ,  0.        ,  0.        ,  0.        ],\n",
       "        [ 0.        ,  0.        ,  0.        ,  0.        ],\n",
       "        [ 0.        ,  0.        ,  0.        ,  0.        ]],\n",
       "\n",
       "       [[ 0.01474688,  1.49829412,  1.35071456, -0.44997355],\n",
       "        [-0.52562273, -0.29844102, -1.40878177,  0.11286414],\n",
       "        [ 0.        ,  0.        ,  0.        ,  0.        ],\n",
       "        ..., \n",
       "        [ 0.        ,  0.        ,  0.        ,  0.        ],\n",
       "        [ 0.        ,  0.        ,  0.        ,  0.        ],\n",
       "        [ 0.        ,  0.        ,  0.        ,  0.        ]],\n",
       "\n",
       "       [[ 0.49698573,  0.21857388,  0.36759889, -1.37099385],\n",
       "        [ 0.        ,  0.        ,  0.        ,  0.        ],\n",
       "        [ 0.        ,  0.        ,  0.        ,  0.        ],\n",
       "        ..., \n",
       "        [ 0.        ,  0.        ,  0.        ,  0.        ],\n",
       "        [ 0.        ,  0.        ,  0.        ,  0.        ],\n",
       "        [ 0.        ,  0.        ,  0.        ,  0.        ]],\n",
       "\n",
       "       ..., \n",
       "       [[ 0.802109  ,  0.1866557 , -0.63000894,  1.26859319],\n",
       "        [-0.30275208,  0.48944232,  1.39887333, -0.20636952],\n",
       "        [ 0.        ,  0.        ,  0.        ,  0.        ],\n",
       "        ..., \n",
       "        [ 0.        ,  0.        ,  0.        ,  0.        ],\n",
       "        [ 0.        ,  0.        ,  0.        ,  0.        ],\n",
       "        [ 0.        ,  0.        ,  0.        ,  0.        ]],\n",
       "\n",
       "       [[ 0.76447117,  0.92382056, -0.07303844,  1.4122771 ],\n",
       "        [-0.17393772, -1.96325231, -1.40693271, -0.21173874],\n",
       "        [ 0.        ,  0.        ,  0.        ,  0.        ],\n",
       "        ..., \n",
       "        [ 0.        ,  0.        ,  0.        ,  0.        ],\n",
       "        [ 0.        ,  0.        ,  0.        ,  0.        ],\n",
       "        [ 0.        ,  0.        ,  0.        ,  0.        ]],\n",
       "\n",
       "       [[-0.59066015,  1.26537442, -0.16121565,  1.3928448 ],\n",
       "        [-0.71074134,  1.06110561, -0.54012287,  1.29300272],\n",
       "        [ 0.        ,  0.        ,  0.        ,  0.        ],\n",
       "        ..., \n",
       "        [ 0.        ,  0.        ,  0.        ,  0.        ],\n",
       "        [ 0.        ,  0.        ,  0.        ,  0.        ],\n",
       "        [ 0.        ,  0.        ,  0.        ,  0.        ]]], dtype=float32)"
      ]
     },
     "execution_count": 16,
     "metadata": {},
     "output_type": "execute_result"
    }
   ],
   "source": [
    "processed_data"
   ]
  },
  {
   "cell_type": "code",
   "execution_count": 26,
   "metadata": {
    "collapsed": false
   },
   "outputs": [],
   "source": [
    "# test its whitening quality\n",
    "flattened_data = processed_data[:,:,0].flatten()\n",
    "quality_data = flattened_data[np.nonzero(flattened_data)]"
   ]
  },
  {
   "cell_type": "code",
   "execution_count": 27,
   "metadata": {
    "collapsed": false
   },
   "outputs": [
    {
     "data": {
      "text/plain": [
       "-0.019649608"
      ]
     },
     "execution_count": 27,
     "metadata": {},
     "output_type": "execute_result"
    }
   ],
   "source": [
    "np.mean(quality_data)"
   ]
  },
  {
   "cell_type": "code",
   "execution_count": 28,
   "metadata": {
    "collapsed": false
   },
   "outputs": [
    {
     "data": {
      "text/plain": [
       "0.93612128"
      ]
     },
     "execution_count": 28,
     "metadata": {},
     "output_type": "execute_result"
    }
   ],
   "source": [
    "np.std(quality_data)"
   ]
  },
  {
   "cell_type": "code",
   "execution_count": 7,
   "metadata": {
    "collapsed": false
   },
   "outputs": [
    {
     "name": "stdout",
     "output_type": "stream",
     "text": [
      "skimming /data_CMS/cms/wind/CJLST_NTuples/ggH125/ZZ4lAnalysis.root\n",
      "collection set up: 1 files, 110483 entries in total, 55241 of which will be used\n",
      "skimming /data_CMS/cms/wind/CJLST_NTuples/VBFH125/ZZ4lAnalysis.root\n",
      "collection set up: 1 files, 62320 entries in total, 31160 of which will be used\n"
     ]
    }
   ],
   "source": [
    "nonperiodic_columns = [\"JetPt\", \"JetEta\"]\n",
    "periodic_columns = [\"JetPhi\"]\n",
    "sorted_column = \"JetPt\"\n",
    "fixed_size_columns = [\"PFMET\", \"nCleanedJetsPt30\"]\n",
    "testgen = Generator(H1_stream, H0_stream, nonperiodic_columns + periodic_columns + fixed_size_columns, preprocessor = None)\n",
    "setup_len = testgen.setup_training_data()"
   ]
  },
  {
   "cell_type": "code",
   "execution_count": 8,
   "metadata": {
    "collapsed": false
   },
   "outputs": [
    {
     "name": "stdout",
     "output_type": "stream",
     "text": [
      "H1 contains 55241 entries\n",
      "H0 contains 31160 entries\n",
      "using the following chunk sizes: (55 / 31)\n",
      "setting up list preprocessor on 86430 events\n",
      "86430 remaining after the cuts\n",
      "102669 remaining after the cuts\n",
      "found a maximum list length in the setup data of 9: will pad or truncate to this length from now on\n"
     ]
    }
   ],
   "source": [
    "pre_rnn = RNNPreprocessor('RNN_test', nonperiodic_columns, periodic_columns, sorted_column, cuts.no_cut, PCAWhiteningPreprocessor)\n",
    "pre_rnn.setup_generator(testgen.raw_generator_scrambled(), len_setupdata = setup_len)"
   ]
  },
  {
   "cell_type": "code",
   "execution_count": 9,
   "metadata": {
    "collapsed": false
   },
   "outputs": [
    {
     "name": "stdout",
     "output_type": "stream",
     "text": [
      "H1 contains 55241 entries\n",
      "H0 contains 31160 entries\n",
      "using the following chunk sizes: (55 / 31)\n",
      "setting up PCA whitening on 86430 events\n",
      "86430 remaining after the cuts\n"
     ]
    }
   ],
   "source": [
    "# set up the preprocessor for the remaining fixed-size input variables\n",
    "pre_fixed = PCAWhiteningPreprocessor('fixed_test', fixed_size_columns, cuts.no_cut)\n",
    "pre_fixed.setup_generator(testgen.raw_generator_scrambled(), len_setupdata = setup_len)"
   ]
  },
  {
   "cell_type": "code",
   "execution_count": 20,
   "metadata": {
    "collapsed": true
   },
   "outputs": [],
   "source": [
    "class CombinedModel:\n",
    "    def __init__(self):\n",
    "        self.model = None\n",
    "        \n",
    "    def build(self):\n",
    "        in_layer_lstm = Input(shape = (None, 4), name = 'RNN_test')\n",
    "        # number units = dimensionality of the output space\n",
    "        lstm = LSTM(units = 16, return_sequences = False)(in_layer_lstm)\n",
    "        out_layer_lstm = Dense(4, activation = 'tanh')(lstm)\n",
    "        \n",
    "        in_layer_dense = Input(shape = (2,), name = 'fixed_test')\n",
    "        \n",
    "        x = keras.layers.concatenate([out_layer_lstm, in_layer_dense])\n",
    "        x = Dense(128, activation = 'tanh')(x)\n",
    "        x = Dense(128, activation = 'tanh')(x)\n",
    "\n",
    "        out_layer = Dense(1, activation = 'tanh', name = 'target')(x)\n",
    "        \n",
    "        self.model = keras.engine.training.Model(inputs = [in_layer_lstm, in_layer_dense], outputs = [out_layer], name = 'combined')"
   ]
  },
  {
   "cell_type": "code",
   "execution_count": 32,
   "metadata": {
    "collapsed": false
   },
   "outputs": [],
   "source": [
    "class CombinedPreprocessor(Preprocessor):\n",
    "    def __init__(self, name, scalar_inputs, scalar_preprocessor_basetype, list_inputs, list_preprocessor_basetype, cuts):\n",
    "        self.name = name\n",
    "        self.scalar_inputs = scalar_inputs\n",
    "        self.list_inputs = list_inputs # note: list inputs is of the form {input_group_name: [\"input_1\", ...], ...}\n",
    "        self.cuts = cuts\n",
    "        \n",
    "        self.list_preprocessors = {}\n",
    "        self.scalar_preprocessor = scalar_preprocessor_basetype('scalar_inputs', self.scalar_inputs, self.cuts)\n",
    "        \n",
    "        # construct the RNN preprocessors from the passed dictionary of list inputs:\n",
    "        for name, input_columns in self.list_inputs.iteritems():\n",
    "            print name\n",
    "            for input_column in input_columns:\n",
    "                # listen for the keyword \"Phi\" to classify input variables as being periodic\n",
    "                if \"Phi\" in input_column:\n",
    "                    print input_column\n",
    "            \n",
    "    def setup_generator(self, datagen, len_setupdata):\n",
    "        pass\n",
    "    \n",
    "    def setup(self, data):\n",
    "        pass\n",
    "    \n",
    "    def process(self, data):\n",
    "        pass\n",
    "    \n",
    "    def get_last_indices(self):\n",
    "        pass\n",
    "    \n",
    "    def save(self, folder, filename):\n",
    "        pass\n",
    "    \n",
    "    def load(self, folder, filename):\n",
    "        pass"
   ]
  },
  {
   "cell_type": "code",
   "execution_count": 33,
   "metadata": {
    "collapsed": false
   },
   "outputs": [
    {
     "name": "stdout",
     "output_type": "stream",
     "text": [
      "Jet\n",
      "JetPhi\n"
     ]
    }
   ],
   "source": [
    "scalar_inputs = [\"PFMET\", \"nCleanedJetsPt30\"]\n",
    "list_inputs = {'Jet': [\"JetPt\", \"JetEta\", \"JetPhi\"]}\n",
    "\n",
    "pre = CombinedPreprocessor('combined_test', scalar_inputs, PCAWhiteningPreprocessor, list_inputs, RNNPreprocessor, cuts.no_cut)"
   ]
  },
  {
   "cell_type": "code",
   "execution_count": 21,
   "metadata": {
    "collapsed": false
   },
   "outputs": [],
   "source": [
    "mod = CombinedModel()\n",
    "mod.build()"
   ]
  },
  {
   "cell_type": "code",
   "execution_count": 22,
   "metadata": {
    "collapsed": true
   },
   "outputs": [],
   "source": [
    "sgd = optimizers.SGD(lr = 0.01, momentum = 0.9)"
   ]
  },
  {
   "cell_type": "code",
   "execution_count": 23,
   "metadata": {
    "collapsed": false
   },
   "outputs": [],
   "source": [
    "mod.model.compile(loss = \"mean_squared_error\", optimizer = sgd, metrics = [\"accuracy\"])"
   ]
  },
  {
   "cell_type": "code",
   "execution_count": 14,
   "metadata": {
    "collapsed": false
   },
   "outputs": [
    {
     "name": "stdout",
     "output_type": "stream",
     "text": [
      "skimming /data_CMS/cms/wind/CJLST_NTuples/ggH125/ZZ4lAnalysis.root\n",
      "collection set up: 1 files, 110483 entries in total, 55241 of which will be used\n",
      "skimming /data_CMS/cms/wind/CJLST_NTuples/VBFH125/ZZ4lAnalysis.root\n",
      "collection set up: 1 files, 62320 entries in total, 31160 of which will be used\n",
      "skimming /data_CMS/cms/wind/CJLST_NTuples/ggH125/ZZ4lAnalysis.root\n",
      "collection set up: 1 files, 110483 entries in total, 55242 of which will be used\n",
      "skimming /data_CMS/cms/wind/CJLST_NTuples/VBFH125/ZZ4lAnalysis.root\n",
      "collection set up: 1 files, 62320 entries in total, 31160 of which will be used\n"
     ]
    }
   ],
   "source": [
    "train_gen = Generator(H1_stream, H0_stream, nonperiodic_columns + periodic_columns + fixed_size_columns, preprocessor = pre_rnn.process)\n",
    "training_len = train_gen.setup_training_data()\n",
    "val_gen = Generator(H1_stream, H0_stream, nonperiodic_columns + periodic_columns + fixed_size_columns, preprocessor = pre_rnn.process)\n",
    "validation_len = val_gen.setup_validation_data()"
   ]
  },
  {
   "cell_type": "code",
   "execution_count": 15,
   "metadata": {
    "collapsed": false
   },
   "outputs": [
    {
     "name": "stdout",
     "output_type": "stream",
     "text": [
      "Epoch 1/5H1 contains 55241 entries\n",
      "\n",
      "H0 contains 31160 entries\n",
      "using the following chunk sizes: (55 / 31)\n",
      "H1 contains 55242 entries\n",
      "H0 contains 31160 entries\n",
      "using the following chunk sizes: (55 / 31)\n",
      "95s - loss: 0.2489 - acc: 0.6221 - val_loss: 0.2299 - val_acc: 0.6395\n",
      "Epoch 2/5\n",
      "90s - loss: 0.2298 - acc: 0.6395 - val_loss: 0.2295 - val_acc: 0.6395\n",
      "Epoch 3/5\n",
      "91s - loss: 0.2292 - acc: 0.6394 - val_loss: 0.2289 - val_acc: 0.6395\n",
      "Epoch 4/5\n",
      "91s - loss: 0.2284 - acc: 0.6397 - val_loss: 0.2278 - val_acc: 0.6395\n",
      "Epoch 5/5\n",
      "92s - loss: 0.2270 - acc: 0.6392 - val_loss: 0.2263 - val_acc: 0.6397\n"
     ]
    },
    {
     "data": {
      "text/plain": [
       "<keras.callbacks.History at 0x7f2754a55f50>"
      ]
     },
     "execution_count": 15,
     "metadata": {},
     "output_type": "execute_result"
    }
   ],
   "source": [
    "mod.model.fit_generator(train_gen.preprocessed_generator(), steps_per_epoch = 128, epochs = 5, \n",
    "                        verbose = 2, validation_data = val_gen.preprocessed_generator(), validation_steps = 128)"
   ]
  },
  {
   "cell_type": "code",
   "execution_count": null,
   "metadata": {
    "collapsed": true
   },
   "outputs": [],
   "source": []
  }
 ],
 "metadata": {
  "kernelspec": {
   "display_name": "Python 2",
   "language": "python",
   "name": "python2"
  },
  "language_info": {
   "codemirror_mode": {
    "name": "ipython",
    "version": 2
   },
   "file_extension": ".py",
   "mimetype": "text/x-python",
   "name": "python",
   "nbconvert_exporter": "python",
   "pygments_lexer": "ipython2",
   "version": "2.7.11"
  }
 },
 "nbformat": 4,
 "nbformat_minor": 2
}
