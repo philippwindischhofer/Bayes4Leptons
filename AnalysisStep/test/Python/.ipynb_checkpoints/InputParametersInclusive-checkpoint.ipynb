{
 "cells": [
  {
   "cell_type": "code",
   "execution_count": 1,
   "metadata": {
    "collapsed": true
   },
   "outputs": [],
   "source": [
    "import warnings\n",
    "warnings.filterwarnings('ignore')"
   ]
  },
  {
   "cell_type": "code",
   "execution_count": 2,
   "metadata": {
    "collapsed": false
   },
   "outputs": [
    {
     "name": "stdout",
     "output_type": "stream",
     "text": [
      "Welcome to JupyROOT 6.10/09\n"
     ]
    }
   ],
   "source": [
    "from trainlib.FileCollection import FileCollection\n",
    "from trainlib.config import Config\n",
    "from trainlib.ConfigFileHandler import ConfigFileHandler\n",
    "from trainlib.ConfigFileUtils import ConfigFileUtils\n",
    "import trainlib.cuts as cuts\n",
    "import numpy as np\n",
    "import matplotlib.pyplot as plt\n",
    "import matplotlib.ticker as ticker\n",
    "import pandas as pd\n",
    "import copy\n",
    "import re\n",
    "from scipy import interpolate\n",
    "import scipy.integrate as integrate\n",
    "import pickle\n",
    "import os"
   ]
  },
  {
   "cell_type": "code",
   "execution_count": 3,
   "metadata": {
    "collapsed": false
   },
   "outputs": [
    {
     "name": "stderr",
     "output_type": "stream",
     "text": [
      "/cvmfs/cms.cern.ch/slc6_amd64_gcc630/external/py2-pippkgs_depscipy/3.0-fmblme3/lib/python2.7/site-packages/sklearn/cross_validation.py:44: DeprecationWarning: This module was deprecated in version 0.18 in favor of the model_selection module into which all the refactored classes and functions are moved. Also note that the interface of the new CV iterators are different from that of this module. This module will be removed in 0.20.\n",
      "  \"This module will be removed in 0.20.\", DeprecationWarning)\n"
     ]
    }
   ],
   "source": [
    "import xgboost as xgb\n",
    "from sklearn.metrics import mean_squared_error"
   ]
  },
  {
   "cell_type": "code",
   "execution_count": 4,
   "metadata": {
    "collapsed": true
   },
   "outputs": [],
   "source": [
    "#candidate_branches = [\"PFMET\", \"nCleanedJetsPt30\", \"nCleanedJetsPt30BTagged_bTagSF\", \"nExtraLep\", \"ZZMass\", \"nExtraZ\", \"Z1Mass\", \"Z2Mass\", \"Z1Pt\", \"Z2Pt\", \"ZZMassErr\", \"ZZPt\", \"ZZEta\", \"ZZPhi\", \"Z1Flav\", \"Z2Flav\", \"costhetastar\", \"helphi\", \"helcosthetaZ1\", \"helcosthetaZ2\", \"phistarZ1\", \"phistarZ2\", \"xi\", \"xistar\"]\n",
    "candidate_branches = [\"PFMET\", \"nCleanedJetsPt30\", \"nCleanedJetsPt30BTagged_bTagSF\", \"nExtraLep\", \"ZZMass\", \"nExtraZ\", \"Z1Mass\", \"Z2Mass\", \"Z1Pt\", \"Z2Pt\", \"ZZMassErr\", \"ZZPt\", \"ZZEta\", \"ZZPhi\", \"Z1Flav\", \"Z2Flav\", \"D_VBF2j_ggH_ME\", \"D_VBF1j_ggH_ME\", \"D_WHh_ggH_ME\", \"D_ZHh_ggH_ME\", \"D_WHh_ZHh_ME\", \"D_VBF2j_WHh_ME\", \"D_VBF2j_ZHh_ME\"]\n",
    "#list_branches = [\"Jet\", \"Lep\", \"ExtraLep\"]\n",
    "MELA_branches = []\n",
    "list_branches = [\"Jet\", \"ExtraLep\"]\n",
    "pt_limits = [30.0, 0.0, 0.0]"
   ]
  },
  {
   "cell_type": "code",
   "execution_count": 5,
   "metadata": {
    "collapsed": true
   },
   "outputs": [],
   "source": [
    "allbranches = [\"JetPt\", \"JetEta\", \"JetPhi\", \"LepPt\", \"LepEta\", \"LepPhi\", \"ExtraLepPt\", \"ExtraLepEta\", \"ExtraLepPhi\"] + candidate_branches + MELA_branches + [\"LHEAssociatedParticleId\", \"GenAssocLep1Id\", \"GenAssocLep2Id\", \"training_weight\"]"
   ]
  },
  {
   "cell_type": "code",
   "execution_count": 6,
   "metadata": {
    "collapsed": true
   },
   "outputs": [],
   "source": [
    "#MC_path = \"/data_CMS/cms/wind/CJLST_NTuples_randomizeda/\"\n",
    "MC_path = \"/data_CMS/cms/wind/CJLST_NTuples/\""
   ]
  },
  {
   "cell_type": "raw",
   "metadata": {
    "collapsed": true
   },
   "source": [
    "def WHhadr0j_cut(row):\n",
    "    return cuts.WHhadr_cut(row) and row[\"nCleanedJetsPt30\"] == 0\n",
    "\n",
    "def WHhadr01j_cut(row):\n",
    "    return cuts.WHhadr_cut(row) and (row[\"nCleanedJetsPt30\"] == 0 or row[\"nCleanedJetsPt30\"] == 1)\n",
    "\n",
    "def WHhadr1j_cut(row):\n",
    "    return cuts.WHhadr_cut(row) and row[\"nCleanedJetsPt30\"] == 1\n",
    "\n",
    "def WHhadr2j_cut(row):\n",
    "    return cuts.WHhadr_cut(row) and row[\"nCleanedJetsPt30\"] >= 2\n",
    "\n",
    "def ZHhadr0j_cut(row):\n",
    "    return cuts.ZHhadr_cut(row) and row[\"nCleanedJetsPt30\"] == 0\n",
    "\n",
    "def ZHhadr01j_cut(row):\n",
    "    return cuts.ZHhadr_cut(row) and (row[\"nCleanedJetsPt30\"] == 0 or row[\"nCleanedJetsPt30\"] == 1)\n",
    "\n",
    "def ZHhadr1j_cut(row):\n",
    "    return cuts.ZHhadr_cut(row) and row[\"nCleanedJetsPt30\"] == 1\n",
    "\n",
    "def ZHhadr2j_cut(row):\n",
    "    return cuts.ZHhadr_cut(row) and row[\"nCleanedJetsPt30\"] >= 2\n",
    "\n",
    "def mZZ0j_cut(row):\n",
    "    return cuts.mZZ_cut(row) and row[\"nCleanedJetsPt30\"] == 0\n",
    "\n",
    "def mZZ01j_cut(row):\n",
    "    return cuts.mZZ_cut(row) and (row[\"nCleanedJetsPt30\"] == 0 or row[\"nCleanedJetsPt30\"] == 1)\n",
    "\n",
    "def mZZ1j_cut(row):\n",
    "    return cuts.mZZ_cut(row) and row[\"nCleanedJetsPt30\"] == 1\n",
    "\n",
    "def mZZ2j_cut(row):\n",
    "    return cuts.mZZ_cut(row) and row[\"nCleanedJetsPt30\"] >= 2"
   ]
  },
  {
   "cell_type": "code",
   "execution_count": 7,
   "metadata": {
    "collapsed": true
   },
   "outputs": [],
   "source": [
    "# these are the cuts without any m4l restriction imposed\n",
    "def WHhadr0j_cut(row):\n",
    "    return cuts.WHhadr_cut(row) and row[\"nCleanedJetsPt30\"] == 0\n",
    "\n",
    "def WHhadr01j_cut(row):\n",
    "    return cuts.WHhadr_cut(row) and (row[\"nCleanedJetsPt30\"] == 0 or row[\"nCleanedJetsPt30\"] == 1)\n",
    "\n",
    "def WHhadr1j_cut(row):\n",
    "    return cuts.WHhadr_cut(row) and row[\"nCleanedJetsPt30\"] == 1\n",
    "\n",
    "def WHhadr2j_cut(row):\n",
    "    return cuts.WHhadr_cut(row) and row[\"nCleanedJetsPt30\"] >= 2\n",
    "\n",
    "def ZHhadr0j_cut(row):\n",
    "    return cuts.ZHhadr_cut(row) and row[\"nCleanedJetsPt30\"] == 0\n",
    "\n",
    "def ZHhadr01j_cut(row):\n",
    "    return cuts.ZHhadr_cut(row) and (row[\"nCleanedJetsPt30\"] == 0 or row[\"nCleanedJetsPt30\"] == 1)\n",
    "\n",
    "def ZHhadr1j_cut(row):\n",
    "    return cuts.ZHhadr_cut(row) and row[\"nCleanedJetsPt30\"] == 1\n",
    "\n",
    "def ZHhadr2j_cut(row):\n",
    "    return cuts.ZHhadr_cut(row) and row[\"nCleanedJetsPt30\"] >= 2\n",
    "\n",
    "def mZZ0j_cut(row):\n",
    "    return row[\"nCleanedJetsPt30\"] == 0\n",
    "\n",
    "def mZZ01j_cut(row):\n",
    "    return (row[\"nCleanedJetsPt30\"] == 0 or row[\"nCleanedJetsPt30\"] == 1)\n",
    "\n",
    "def mZZ1j_cut(row):\n",
    "    return row[\"nCleanedJetsPt30\"] == 1\n",
    "\n",
    "def mZZ2j_cut(row):\n",
    "    return row[\"nCleanedJetsPt30\"] >= 2"
   ]
  },
  {
   "cell_type": "code",
   "execution_count": 8,
   "metadata": {
    "collapsed": false
   },
   "outputs": [],
   "source": [
    "collections = {\"VBF2j\": {MC_path + \"VBFH125/ZZ4lAnalysis.root\": mZZ2j_cut},\n",
    "            \"VBF1j\": {MC_path + \"VBFH125/ZZ4lAnalysis.root\": mZZ1j_cut},\n",
    "            \"VBF0j\": {MC_path + \"VBFH125/ZZ4lAnalysis.root\": mZZ0j_cut},\n",
    "            \"VBF01j\": {MC_path + \"VBFH125/ZZ4lAnalysis.root\": mZZ01j_cut},\n",
    "            \"VBF\": {MC_path + \"VBFH125/ZZ4lAnalysis.root\": cuts.mZZ_cut},\n",
    "            \"ggH2j\": {MC_path + \"ggH125/ZZ4lAnalysis.root\": mZZ2j_cut},\n",
    "            \"ggH1j\": {MC_path + \"ggH125/ZZ4lAnalysis.root\": mZZ1j_cut},\n",
    "            \"ggH0j\": {MC_path + \"ggH125/ZZ4lAnalysis.root\": mZZ0j_cut},\n",
    "            \"ggH01j\": {MC_path + \"ggH125/ZZ4lAnalysis.root\": mZZ01j_cut},\n",
    "            \"ggH\" : {MC_path + \"ggH125/ZZ4lAnalysis.root\": cuts.mZZ_cut},\n",
    "            \"WHh2j\": {MC_path + \"WplusH125/ZZ4lAnalysis.root\": WHhadr2j_cut, MC_path + \"WminusH125/ZZ4lAnalysis.root\": WHhadr2j_cut},\n",
    "            \"WHh1j\": {MC_path + \"WplusH125/ZZ4lAnalysis.root\": WHhadr1j_cut, MC_path + \"WminusH125/ZZ4lAnalysis.root\": WHhadr1j_cut},\n",
    "            \"WHh0j\": {MC_path + \"WplusH125/ZZ4lAnalysis.root\": WHhadr0j_cut, MC_path + \"WminusH125/ZZ4lAnalysis.root\": WHhadr0j_cut},\n",
    "            \"WHh\": {MC_path + \"WplusH125/ZZ4lAnalysis.root\": cuts.WHhadr_cut, MC_path + \"WminusH125/ZZ4lAnalysis.root\": cuts.WHhadr_cut},\n",
    "            \"WHh01j\": {MC_path + \"WplusH125/ZZ4lAnalysis.root\": WHhadr01j_cut, MC_path + \"WminusH125/ZZ4lAnalysis.root\": WHhadr01j_cut},\n",
    "            \"WHl\": {MC_path + \"WplusH125/ZZ4lAnalysis.root\": cuts.WHlept_cut, MC_path + \"WminusH125/ZZ4lAnalysis.root\": cuts.WHlept_cut},\n",
    "            \"ZHh2j\": {MC_path + \"ZH125/ZZ4lAnalysis.root\": ZHhadr2j_cut},\n",
    "            \"ZHh1j\": {MC_path + \"ZH125/ZZ4lAnalysis.root\": ZHhadr1j_cut},\n",
    "            \"ZHh01j\": {MC_path + \"ZH125/ZZ4lAnalysis.root\": ZHhadr01j_cut},\n",
    "            \"ZHh0j\": {MC_path + \"ZH125/ZZ4lAnalysis.root\": ZHhadr0j_cut},\n",
    "            \"ZHh\": {MC_path + \"ZH125/ZZ4lAnalysis.root\": cuts.ZHhadr_cut},\n",
    "            \"ZHl\": {MC_path + \"ZH125/ZZ4lAnalysis.root\": cuts.ZHlept_cut},\n",
    "            \"ttHh\": {MC_path + \"ttH125/ZZ4lAnalysis.root\": cuts.ttHhadr_cut},\n",
    "            \"ttHl\": {MC_path + \"ttH125/ZZ4lAnalysis.root\": cuts.ttHlept_cut},\n",
    "            \"ZHMET\": {MC_path + \"ZH125/ZZ4lAnalysis.root\": cuts.ZHMET_cut}\n",
    "          }"
   ]
  },
  {
   "cell_type": "code",
   "execution_count": 9,
   "metadata": {
    "collapsed": true
   },
   "outputs": [],
   "source": [
    "# all the model combinations for which neural networks are currently trained\n",
    "discriminant_pairs = [(\"VBF\", \"ggH\"), (\"WHh\", \"ggH\"), (\"ZHh\", \"ggH\"), (\"WHh\", \"ZHh\"), (\"VBF\", \"WHh\"),\n",
    "                     (\"VBF\", \"ZHh\"), (\"WHl\", \"ggH\"), (\"WHl\", \"VBF\"), (\"WHl\", \"WHh\"), (\"WHl\", \"ZHh\"),\n",
    "                     (\"WHl\", \"ZHl\"), (\"WHl\", \"ZHMET\"), (\"WHl\", \"ttHh\"), (\"WHl\", \"ttHl\"), (\"ZHh\", \"ZHl\"),\n",
    "                     (\"ZHh\", \"ZHMET\"), (\"ZHh\", \"ttHh\"), (\"ZHh\", \"ttHl\"), (\"ZHl\", \"ggH\"), (\"ZHl\", \"VBF\"),\n",
    "                     (\"ZHl\", \"WHh\"), (\"ZHl\", \"ZHMET\"), (\"ZHl\", \"ttHh\"), (\"ZHl\", \"ttHl\"), (\"ZHMET\", \"ggH\"),\n",
    "                     (\"ZHMET\", \"VBF\"), (\"ZHMET\", \"WHh\"), (\"ZHMET\", \"ttHh\"), (\"ZHMET\", \"ttHl\"), (\"ttHh\", \"ggH\"),\n",
    "                      (\"ttHh\", \"VBF\"), (\"ttHh\", \"WHh\"), (\"ttHh\", \"ttHl\"), (\"ttHl\", \"ggH\"), (\"ttHl\", \"VBF\"),\n",
    "                     (\"ttHl\", \"WHh\")]"
   ]
  },
  {
   "cell_type": "code",
   "execution_count": 10,
   "metadata": {
    "collapsed": true
   },
   "outputs": [],
   "source": [
    "def extract_order(df, col_basename, sorted_column, columns, order):\n",
    "    def get_index(row, order, col_basename, sorted_column):\n",
    "        sorted_column = row[col_basename + sorted_column]\n",
    "        if order >= len(sorted_column):\n",
    "            return -1\n",
    "        else:\n",
    "            return np.flipud(np.argsort(sorted_column))[order]\n",
    "    \n",
    "    index_column = pd.DataFrame(df.transform(lambda row: get_index(row, order, col_basename, sorted_column), axis = 1, raw = True))\n",
    "    index_column.columns = [\"index\"]\n",
    "    df_temp = pd.concat([index_column, df], axis = 1)\n",
    "    \n",
    "    def get_element(row, column_name):\n",
    "        if row[\"index\"] == -1:\n",
    "            return 0\n",
    "        else:\n",
    "            return row[column_name][row[\"index\"]]\n",
    "        \n",
    "    extracted_cols = pd.DataFrame()\n",
    "    for column in columns:\n",
    "        extracted_col = pd.DataFrame(df_temp.transform(lambda row: get_element(row, col_basename + column), axis = 1, raw = True))\n",
    "        extracted_col.columns = [col_basename + column + \"(\" + col_basename + \"Pt|\" + str(order) + \")\"]\n",
    "        extracted_cols = pd.concat([extracted_cols, extracted_col], axis = 1)\n",
    "        \n",
    "    return extracted_cols"
   ]
  },
  {
   "cell_type": "code",
   "execution_count": 11,
   "metadata": {
    "collapsed": true
   },
   "outputs": [],
   "source": [
    "def prepare_data(df, col_basenames, sorted_column, columns, orders, pt_limits):\n",
    "    all_extracted = pd.DataFrame()\n",
    "    for col_basename, pt_limit in zip(col_basenames, pt_limits):\n",
    "        for order in orders:\n",
    "            extracted = extract_order(df, col_basename, sorted_column, columns, order)\n",
    "            mask = extracted[col_basename + \"Pt(\" + col_basename + \"Pt|\" + str(order) + \")\"] < pt_limit\n",
    "            extracted[mask] = 0.0\n",
    "\n",
    "            all_extracted = pd.concat([all_extracted, extracted], axis = 1)\n",
    "            \n",
    "    return all_extracted"
   ]
  },
  {
   "cell_type": "code",
   "execution_count": 12,
   "metadata": {
    "collapsed": false
   },
   "outputs": [],
   "source": [
    "def get_data(H1_coll, H0_coll, read_branches, input_branches, list_branches, pt_limits):\n",
    "    H1_df = H1_coll.get_data(read_branches, 0.0, 1.0)\n",
    "    H0_df = H0_coll.get_data(read_branches, 0.0, 1.0)\n",
    "    \n",
    "    H1_list_df = prepare_data(H1_df, list_branches, \"Pt\", [\"Pt\", \"Eta\", \"Phi\"], range(4), pt_limits)\n",
    "    H0_list_df = prepare_data(H0_df, list_branches, \"Pt\", [\"Pt\", \"Eta\", \"Phi\"], range(4), pt_limits)\n",
    "    \n",
    "    list_branches_unrolled = H1_list_df.columns\n",
    "            \n",
    "    H1_df = pd.concat([H1_df, H1_list_df], axis = 1)\n",
    "    H0_df = pd.concat([H0_df, H0_list_df], axis = 1)        \n",
    "    \n",
    "    complete_input_branches = np.concatenate([input_branches, list_branches_unrolled])\n",
    "            \n",
    "    H1_df = H1_df[complete_input_branches]\n",
    "    H0_df = H0_df[complete_input_branches]\n",
    "    \n",
    "    return H1_df, H0_df"
   ]
  },
  {
   "cell_type": "code",
   "execution_count": 13,
   "metadata": {
    "collapsed": true
   },
   "outputs": [],
   "source": [
    "def get_data_dmatrix(H1_coll, H0_coll, read_branches, input_branches, list_branches, pt_limits):\n",
    "    H1_df, H0_df = get_data(H1_coll, H0_coll, read_branches, input_branches, list_branches, pt_limits)\n",
    "    \n",
    "    complete_input_branches = H1_df.columns\n",
    "    print \"number of input variables: \" + str(len(complete_input_branches))\n",
    "    print \"final list of inputs: \" + str(complete_input_branches)\n",
    "    \n",
    "    # try with the same weights as used later in the neural network training, to balance out some (very)\n",
    "    # unbalanced datasets\n",
    "    H1_class_weight = 1.0 + float(len(H0_df)) / float(len(H1_df))\n",
    "    H0_class_weight = 1.0 + float(len(H1_df)) / float(len(H0_df))\n",
    "    \n",
    "    print \"using class weights: \" + str(H1_class_weight) + \" (H1), \" + str(H0_class_weight) + \" (H0)\"\n",
    "    \n",
    "    H1_weights = np.full(len(H1_df), H1_class_weight)\n",
    "    H0_weights = np.full(len(H0_df), H0_class_weight)\n",
    "    \n",
    "    H1_data = H1_df.as_matrix()\n",
    "    H0_data = H0_df.as_matrix()\n",
    "    H1_target = np.ones(np.shape(H1_data)[0])\n",
    "    H0_target = np.zeros(np.shape(H0_data)[0])\n",
    "    \n",
    "    target = np.concatenate([H1_target, H0_target])\n",
    "    data = np.concatenate([H1_data, H0_data])\n",
    "    weights = np.concatenate([H1_weights, H0_weights])\n",
    "    \n",
    "    dmatrix = xgb.DMatrix(data, label = target, feature_names = complete_input_branches, weight = weights)\n",
    "    \n",
    "    return dmatrix"
   ]
  },
  {
   "cell_type": "code",
   "execution_count": 14,
   "metadata": {
    "collapsed": true
   },
   "outputs": [],
   "source": [
    "def get_feature_correlation(source, corr_branches, mandatory_branches, optional_branches, list_branches, pt_limits):    \n",
    "    coll = FileCollection(collections[source], 0.0, 0.5)\n",
    "    \n",
    "    input_branches = [branch for branch in mandatory_branches]\n",
    "    \n",
    "    for optional_branch in optional_branches:\n",
    "        if \"0j\" in source and (\"0j\" in optional_branch):\n",
    "            input_branches.append(optional_branch)\n",
    "            \n",
    "        if \"1j\" in source and (\"1j\" in optional_branch):\n",
    "            input_branches.append(optional_branch)\n",
    "            \n",
    "        if \"2j\" in source and (\"2j\" in optional_branch):\n",
    "            input_branches.append(optional_branch)\n",
    "\n",
    "    df, _ = get_data(coll, coll, allbranches, input_branches, list_branches, pt_limits)\n",
    "\n",
    "    df = df[corr_branches]\n",
    "    \n",
    "    fig = plt.figure(figsize=(10,15))\n",
    "    ax = fig.add_subplot(111)\n",
    "    \n",
    "    cax = ax.matshow(df.corr(), vmin = -1.0, vmax = 1.0, cmap = \"RdBu\")\n",
    "    \n",
    "    fig.colorbar(cax)\n",
    "    \n",
    "    ax.xaxis.set_major_locator(ticker.MultipleLocator(1))\n",
    "    ax.yaxis.set_major_locator(ticker.MultipleLocator(1))\n",
    "    \n",
    "    ax.set_yticklabels([''] + corr_branches)\n",
    "    ax.set_xticklabels([''] + corr_branches, rotation = 'vertical')\n",
    "    \n",
    "    return fig"
   ]
  },
  {
   "cell_type": "code",
   "execution_count": 15,
   "metadata": {
    "collapsed": true
   },
   "outputs": [],
   "source": [
    "def get_interpolating_function(data, bins):\n",
    "    bin_centers = [np.mean([bins[i], bins[i + 1]]) for i in range(len(bins) - 1)]\n",
    "    intf = interpolate.interp1d(bin_centers, data, kind = \"linear\")\n",
    "    interpolated_function = lambda x: intf(x) if x > bin_centers[0] and x < bin_centers[-1] else 0\n",
    "    \n",
    "    return interpolated_function"
   ]
  },
  {
   "cell_type": "code",
   "execution_count": 16,
   "metadata": {
    "collapsed": true
   },
   "outputs": [],
   "source": [
    "def get_binned_data(df, branch):\n",
    "    data = df[branch].as_matrix()\n",
    "    weights = df[\"training_weight\"].as_matrix()\n",
    "    \n",
    "    # set the bin width\n",
    "    q75, q25 = np.percentile(data, [75, 25])\n",
    "    bin_width = max(2 * (q75 - q25) / len(data)**0.33, 0.005)\n",
    "\n",
    "    data_max = np.max(data)\n",
    "    data_min = np.min(data)\n",
    "    bins = np.arange(data_min, data_max + bin_width, bin_width)\n",
    "    \n",
    "    weights = weights / (np.sum(weights) * bin_width)\n",
    "    \n",
    "    hist = np.histogram(data, bins = bins, weights = weights)\n",
    "    return hist"
   ]
  },
  {
   "cell_type": "code",
   "execution_count": 17,
   "metadata": {
    "collapsed": false
   },
   "outputs": [],
   "source": [
    "def get_feature_importance_list_BDT(disc_pair, mandatory_branches, optional_branches, list_branches, pt_limits):\n",
    "    H1_name = disc_pair[0]\n",
    "    H0_name = disc_pair[1]\n",
    "    \n",
    "    # first assemble the list of branches that can serve as input: it will *always* contain the mandatory branches,\n",
    "    # and *can* contain some of the optional branches, if the name of the categories allows it\n",
    "    input_branches = [branch for branch in mandatory_branches]\n",
    "    \n",
    "    for optional_branch in optional_branches:\n",
    "        if (\"0j\" in H1_name or \"0j\" in H0_name) and (\"0j\" in optional_branch):\n",
    "            input_branches.append(optional_branch)  \n",
    "        elif (\"1j\" in H1_name or \"1j\" in H0_name) and (\"1j\" in optional_branch):\n",
    "            input_branches.append(optional_branch)\n",
    "        elif (\"2j\" in H1_name or \"2j\" in H0_name) and not (\"1j\" in optional_branch):\n",
    "            input_branches.append(optional_branch)\n",
    "            \n",
    "        # the fully inclusive categories (i.e. those with NO \"xxj\" in their name, can not use MELA, since there may\n",
    "        # be events with low number of jets contained)\n",
    "    \n",
    "    # get the training data for the BDT ...\n",
    "    H1_coll_train = FileCollection(collections[H1_name], 0.0, 0.5)\n",
    "    H0_coll_train = FileCollection(collections[H0_name], 0.0, 0.5)\n",
    "    \n",
    "    dtrain = get_data_dmatrix(H1_coll_train, H0_coll_train, allbranches, input_branches, list_branches, pt_limits)\n",
    "    \n",
    "    # ... and the validation data as well\n",
    "    H1_coll_val = FileCollection(collections[H1_name], 0.5, 1.0)\n",
    "    H0_coll_val = FileCollection(collections[H0_name], 0.5, 1.0)\n",
    "    dval = get_data_dmatrix(H1_coll_val, H0_coll_val, allbranches, input_branches, list_branches, pt_limits)\n",
    "    \n",
    "    evallist = [(dtrain, 'train'), (dval, 'eval')]\n",
    "    \n",
    "    # perform the training\n",
    "    # try different tree depths and choose the one that gives the best RMSE (i.e. avoid too deep trees to start with)\n",
    "        \n",
    "    params = {'eta': 0.01, 'silent': 1, 'gamma': 0.5, 'objective': 'binary:logistic'}\n",
    "    params['nthread'] = 4\n",
    "    params['eval_metric'] = 'rmse'\n",
    "    max_num_rounds = 2000\n",
    "    \n",
    "    best_loss = 1e6\n",
    "    best_imp = None\n",
    "    best_params = None\n",
    "    for tree_depth in range(1,8):\n",
    "        params['max_depth'] = tree_depth\n",
    "        \n",
    "        bst = xgb.train(params, dtrain, max_num_rounds, evals = evallist, early_stopping_rounds = 10, verbose_eval = False)\n",
    "    \n",
    "        pred = bst.predict(dval)\n",
    "        cur_loss = np.sqrt(mean_squared_error(pred, dval.get_label()))\n",
    "        cur_imp = bst.get_fscore()\n",
    "\n",
    "        print \"for max_depth = \" + str(params['max_depth']) + \": loss = \" + str(cur_loss)\n",
    "        \n",
    "        if cur_loss < best_loss:\n",
    "            best_loss = cur_loss\n",
    "            best_imp = copy.copy(cur_imp)\n",
    "            best_params = copy.copy(params)\n",
    "            \n",
    "    # normalize the usage score w.r.t. the total score (i.e. sum of all individuals)\n",
    "    score_sum = sum([val for key, val in best_imp.iteritems()])\n",
    "    used_variables = {key: val / float(score_sum) for key, val in sorted(best_imp.iteritems(), key = lambda x: x[1], reverse = True)}           \n",
    "    return best_params, dtrain.feature_names, used_variables"
   ]
  },
  {
   "cell_type": "code",
   "execution_count": 18,
   "metadata": {
    "collapsed": false
   },
   "outputs": [],
   "source": [
    "def get_histogram(df, branch, label):\n",
    "    data = df[branch].as_matrix()\n",
    "    weights = df[\"training_weight\"].as_matrix()\n",
    "    \n",
    "    # set the bin width\n",
    "    q75, q25 = np.percentile(data, [75, 25])\n",
    "    bin_width = max(2 * (q75 - q25) / len(data)**0.33, 0.005)\n",
    "\n",
    "    data_max = np.max(data)\n",
    "    data_min = np.min(data)\n",
    "    bins = np.arange(data_min, data_max + bin_width, bin_width)\n",
    "    \n",
    "    weights = weights / (np.sum(weights) * bin_width)\n",
    "    \n",
    "    fig = plt.hist(data, bins = bins, weights = weights, alpha = 0.5, label = label)\n",
    "    return fig"
   ]
  },
  {
   "cell_type": "code",
   "execution_count": 19,
   "metadata": {
    "collapsed": true
   },
   "outputs": [],
   "source": [
    "def plot_branch(disc_pair, branch, start_fraction = 0.0, end_fraction = 1.0):\n",
    "    H1_name = disc_pair[0]\n",
    "    H0_name = disc_pair[1]\n",
    "    \n",
    "    # get the training data for the BDT ...\n",
    "    H1_coll = FileCollection(collections[H1_name], start_fraction, end_fraction)\n",
    "    H0_coll = FileCollection(collections[H0_name], start_fraction, end_fraction)\n",
    "    \n",
    "    H1_df, H0_df = get_data(H1_coll, H0_coll, allbranches, allbranches, list_branches, pt_limits)\n",
    "    \n",
    "    plt.figure()\n",
    "    H1_hist = get_histogram(H1_df, branch, H1_name)\n",
    "    H0_hist = get_histogram(H0_df, branch, H0_name)\n",
    "    \n",
    "    plt.legend(loc = 'upper right')\n",
    "    plt.show()"
   ]
  },
  {
   "cell_type": "code",
   "execution_count": 20,
   "metadata": {
    "collapsed": false
   },
   "outputs": [],
   "source": [
    "def plot_variables(discs):\n",
    "    plotframe = pd.DataFrame()\n",
    "    \n",
    "    for disc in discs:\n",
    "        _, _, implist = get_feature_importance_list_BDT(disc, candidate_branches, MELA_branches, list_branches, pt_limits)\n",
    "        \n",
    "        # cut the list to select only the 95% most important variables\n",
    "        cutimplist = {key: val for key, val in implist.iteritems() if val > 0.00}\n",
    "        curframe = pd.DataFrame(cutimplist, index = [len(plotframe)])\n",
    "        \n",
    "        plotframe = pd.concat([plotframe, curframe])\n",
    "        \n",
    "    plotframe = plotframe.fillna(0.0)\n",
    "    \n",
    "    print plotframe\n",
    "    print \"number of pre-selected input variables = \" + str(len(plotframe.columns))\n",
    "    \n",
    "    # start the plotting\n",
    "    parameters = plotframe.columns\n",
    "    plotdata = np.transpose(plotframe.as_matrix())\n",
    "    \n",
    "    plt.close('all')\n",
    "    fig = plt.figure(figsize=(10,15))\n",
    "    ax = fig.add_subplot(111)\n",
    "    cax = ax.matshow(plotdata, cmap = 'Blues')\n",
    "    \n",
    "    # make axis labels\n",
    "    disclabels = []\n",
    "    for disc in discs:\n",
    "        if \"0j\" in disc[0] or \"0j\" in disc[1]:\n",
    "            disclabels.append('D_' + re.sub('0j', '', disc[0]) + \"_\" + re.sub('0j', '', disc[1]) + \"_0j\")\n",
    "        elif \"01j\" in disc[0] or \"01j\" in disc[1]:\n",
    "            disclabels.append('D_' + re.sub('01j', '', disc[0]) + \"_\" + re.sub('01j', '', disc[1]) + \"_01j\")\n",
    "        elif \"1j\" in disc[0] or \"1j\" in disc[1]:\n",
    "            disclabels.append('D_' + re.sub('1j', '', disc[0]) + \"_\" + re.sub('1j', '', disc[1]) + \"_1j\")\n",
    "        elif \"2j\" in disc[0] or \"2j\" in disc[1]:\n",
    "            disclabels.append('D_' + re.sub('2j', '', disc[0]) + \"_\" + re.sub('2j', '', disc[1]) + \"_2j\")\n",
    "        else:\n",
    "            disclabels.append('D_' + disc[0] + \"_\" + disc[1] + \"_2j\")\n",
    "            \n",
    "    disclabels = np.concatenate([[''], np.array(disclabels)])\n",
    "    parameters = np.concatenate([[''], np.array(parameters)])\n",
    "        \n",
    "    ax.set_xticklabels(disclabels, rotation = 'vertical')\n",
    "    ax.set_yticklabels(parameters)\n",
    "    \n",
    "    ax.xaxis.set_major_locator(ticker.MultipleLocator(1))\n",
    "    ax.yaxis.set_major_locator(ticker.MultipleLocator(1))\n",
    "    \n",
    "    # sort the used variables according to their importance\n",
    "    sorted_implist = []\n",
    "    for key, val in sorted(cutimplist.iteritems(), key = lambda x: x[1], reverse = True):\n",
    "        sorted_implist.append((key, val))\n",
    "    \n",
    "    return fig, sorted_implist"
   ]
  },
  {
   "cell_type": "code",
   "execution_count": 21,
   "metadata": {
    "collapsed": true
   },
   "outputs": [],
   "source": [
    "def append_variables(confhandler, impdict, threshold_fscore):\n",
    "    confhandler.new_section(impdict[\"discriminant\"])\n",
    "    cur_sec = confhandler.get_section(impdict[\"discriminant\"])\n",
    "\n",
    "    periodic_inputs = []\n",
    "    nonperiodic_inputs = []\n",
    "    for key, val in impdict.iteritems():\n",
    "        if val[0] > threshold_fscore and key is not \"discriminant\":\n",
    "            if \"phi\" in key or \"Phi\" in key:\n",
    "                periodic_inputs.append(key)\n",
    "            else:\n",
    "                nonperiodic_inputs.append(key)\n",
    "    cur_sec[\"nonperiodic_columns\"] = ConfigFileUtils.serialize_list(nonperiodic_inputs, lambda x: x)\n",
    "    cur_sec[\"periodic_columns\"] = ConfigFileUtils.serialize_list(periodic_inputs, lambda x: x)"
   ]
  },
  {
   "cell_type": "code",
   "execution_count": 22,
   "metadata": {
    "collapsed": true
   },
   "outputs": [],
   "source": [
    "def convert_varname(raw):\n",
    "    raw = raw.replace('(', '[')\n",
    "    raw = raw.replace(')', ']')\n",
    "    return raw"
   ]
  },
  {
   "cell_type": "code",
   "execution_count": 23,
   "metadata": {
    "collapsed": true
   },
   "outputs": [],
   "source": [
    "df = pd.DataFrame()"
   ]
  },
  {
   "cell_type": "code",
   "execution_count": 24,
   "metadata": {
    "collapsed": false
   },
   "outputs": [],
   "source": [
    "out_dir = \"/data_CMS/cms/wind/InputConfigurations/\"\n",
    "out_path = os.path.join(out_dir, \"inclusive_99_fullmassrange.conf\")\n",
    "threshold_fscore = 0.01"
   ]
  },
  {
   "cell_type": "code",
   "execution_count": 25,
   "metadata": {
    "collapsed": true
   },
   "outputs": [],
   "source": [
    "confhandler = ConfigFileHandler()"
   ]
  },
  {
   "cell_type": "code",
   "execution_count": 23,
   "metadata": {
    "collapsed": false,
    "scrolled": false
   },
   "outputs": [],
   "source": [
    "%%capture\n",
    "fig, implist = plot_variables([(\"VBF\", \"ggH\")])"
   ]
  },
  {
   "cell_type": "code",
   "execution_count": 27,
   "metadata": {
    "collapsed": false
   },
   "outputs": [],
   "source": [
    "impdict = {convert_varname(entry[0]): [entry[1]] for entry in implist}\n",
    "impdict[\"discriminant\"] = \"D_VBF_ggH_ML\"\n",
    "df = df.append(pd.DataFrame.from_dict(impdict))"
   ]
  },
  {
   "cell_type": "code",
   "execution_count": 28,
   "metadata": {
    "collapsed": true
   },
   "outputs": [],
   "source": [
    "append_variables(confhandler, impdict, threshold_fscore)"
   ]
  },
  {
   "cell_type": "code",
   "execution_count": 24,
   "metadata": {
    "collapsed": false
   },
   "outputs": [
    {
     "data": {
      "text/plain": [
       "[('ZZPt', 0.08877805486284289),\n",
       " ('JetEta(JetPt|0)', 0.083854878931703),\n",
       " ('JetPt(JetPt|0)', 0.06099267959134422),\n",
       " ('ZZEta', 0.057887539216474944),\n",
       " ('PFMET', 0.05447671144718848),\n",
       " ('Z1Pt', 0.04863647333279704),\n",
       " ('ZZPhi', 0.046561016812806694),\n",
       " ('D_VBF2j_ggH_ME', 0.04437293862118896),\n",
       " ('ZZMassErr', 0.043150189043520235),\n",
       " ('ZZMass', 0.041106910143994854),\n",
       " ('Z2Mass', 0.04060815702678787),\n",
       " ('Z2Pt', 0.040254203201673236),\n",
       " ('Z1Mass', 0.03835572359424021),\n",
       " ('JetPt(JetPt|1)', 0.033529080524495214),\n",
       " ('JetPhi(JetPt|0)', 0.03330383718124045),\n",
       " ('D_VBF1j_ggH_ME', 0.03019869680637117),\n",
       " ('JetEta(JetPt|1)', 0.02548467540825356),\n",
       " ('D_WHh_ZHh_ME', 0.022057758828734616),\n",
       " ('JetEta(JetPt|2)', 0.021961225967339716),\n",
       " ('JetPhi(JetPt|1)', 0.021269407127342932),\n",
       " ('D_WHh_ggH_ME', 0.020223634462231518),\n",
       " ('D_VBF2j_WHh_ME', 0.019773147775721985),\n",
       " ('D_ZHh_ggH_ME', 0.019563993242699702),\n",
       " ('JetPt(JetPt|2)', 0.017665513635266673),\n",
       " ('D_VBF2j_ZHh_ME', 0.01303193628831148),\n",
       " ('JetPhi(JetPt|2)', 0.008398358941356286),\n",
       " ('JetPhi(JetPt|3)', 0.004874909500442442),\n",
       " ('nCleanedJetsPt30', 0.004697932587885126),\n",
       " ('JetPt(JetPt|3)', 0.002558120826964846),\n",
       " ('nCleanedJetsPt30BTagged_bTagSF', 0.0022202558120826966),\n",
       " ('ExtraLepPt(ExtraLepPt|0)', 0.0020754565199903466),\n",
       " ('Z2Flav', 0.0019467460381304802),\n",
       " ('Z1Flav', 0.001882390797200547),\n",
       " ('JetEta(JetPt|3)', 0.001512348161853431),\n",
       " ('ExtraLepEta(ExtraLepPt|0)', 0.0013192824390636313),\n",
       " ('ExtraLepPhi(ExtraLepPt|0)', 0.0012549271981336981),\n",
       " ('nExtraLep', 0.00016088810232483308)]"
      ]
     },
     "execution_count": 24,
     "metadata": {},
     "output_type": "execute_result"
    }
   ],
   "source": [
    "implist"
   ]
  },
  {
   "cell_type": "code",
   "execution_count": 30,
   "metadata": {
    "collapsed": false,
    "scrolled": false
   },
   "outputs": [],
   "source": [
    "%%capture\n",
    "fig, implist = plot_variables([(\"WHh\", \"ggH\")])"
   ]
  },
  {
   "cell_type": "code",
   "execution_count": 31,
   "metadata": {
    "collapsed": true
   },
   "outputs": [],
   "source": [
    "impdict = {convert_varname(entry[0]): [entry[1]] for entry in implist}\n",
    "impdict[\"discriminant\"] = \"D_WHh_ggH_ML\"\n",
    "df = df.append(pd.DataFrame.from_dict(impdict))"
   ]
  },
  {
   "cell_type": "code",
   "execution_count": 32,
   "metadata": {
    "collapsed": true
   },
   "outputs": [],
   "source": [
    "append_variables(confhandler, impdict, threshold_fscore)"
   ]
  },
  {
   "cell_type": "code",
   "execution_count": 33,
   "metadata": {
    "collapsed": false
   },
   "outputs": [
    {
     "data": {
      "text/plain": [
       "[('ZZPt', 0.08439166983204241),\n",
       " ('ZZEta', 0.08024640385790491),\n",
       " ('JetEta(JetPt|0)', 0.07464781754223712),\n",
       " ('JetPt(JetPt|0)', 0.0632194348565672),\n",
       " ('ZZMassErr', 0.05700979339730145),\n",
       " ('PFMET', 0.056051923172201944),\n",
       " ('Z1Pt', 0.04985879671681723),\n",
       " ('ZZMass', 0.04495384056415253),\n",
       " ('ZZPhi', 0.04483823553698535),\n",
       " ('Z2Pt', 0.0421297749004971),\n",
       " ('Z1Mass', 0.03958646430281911),\n",
       " ('Z2Mass', 0.03948737427953296),\n",
       " ('D_VBF1j_ggH_ME', 0.031494112401116416),\n",
       " ('JetPhi(JetPt|0)', 0.030205942098396395),\n",
       " ('D_WHh_ggH_ME', 0.030189427094515366),\n",
       " ('JetPt(JetPt|1)', 0.027976416574457895),\n",
       " ('D_VBF2j_ggH_ME', 0.027365361430859936),\n",
       " ('JetEta(JetPt|2)', 0.023798120592558338),\n",
       " ('JetEta(JetPt|1)', 0.022064045185050618),\n",
       " ('D_WHh_ZHh_ME', 0.01862892437779723),\n",
       " ('JetPt(JetPt|2)', 0.01821604928077158),\n",
       " ('JetPhi(JetPt|1)', 0.013360638139749963),\n",
       " ('D_ZHh_ggH_ME', 0.012700037984508927),\n",
       " ('D_VBF2j_ZHh_ME', 0.01184125778269558),\n",
       " ('JetPhi(JetPt|2)', 0.010850357549834024),\n",
       " ('D_VBF2j_WHh_ME', 0.00977688229756734),\n",
       " ('JetEta(JetPt|3)', 0.005829796370002147),\n",
       " ('nCleanedJetsPt30', 0.005119651203118033),\n",
       " ('ExtraLepEta(ExtraLepPt|0)', 0.0043599610245908405),\n",
       " ('JetPt(JetPt|3)', 0.0041948109857805815),\n",
       " ('ExtraLepPt(ExtraLepPt|0)', 0.003583755842182623),\n",
       " ('Z2Flav', 0.003203910752919027),\n",
       " ('Z1Flav', 0.0029396706908226124),\n",
       " ('JetPhi(JetPt|3)', 0.0029231556869415863),\n",
       " ('nCleanedJetsPt30BTagged_bTagSF', 0.002229525523938498),\n",
       " ('ExtraLepPhi(ExtraLepPt|0)', 0.0006771151591220624),\n",
       " ('nExtraLep', 4.954501164307774e-05)]"
      ]
     },
     "execution_count": 33,
     "metadata": {},
     "output_type": "execute_result"
    }
   ],
   "source": [
    "implist"
   ]
  },
  {
   "cell_type": "code",
   "execution_count": 34,
   "metadata": {
    "collapsed": false,
    "scrolled": false
   },
   "outputs": [],
   "source": [
    "%%capture\n",
    "fig, implist = plot_variables([(\"ZHh\", \"ggH\")])"
   ]
  },
  {
   "cell_type": "code",
   "execution_count": 35,
   "metadata": {
    "collapsed": true
   },
   "outputs": [],
   "source": [
    "impdict = {convert_varname(entry[0]): [entry[1]] for entry in implist}\n",
    "impdict[\"discriminant\"] = \"D_ZHh_ggH_ML\"\n",
    "df = df.append(pd.DataFrame.from_dict(impdict))"
   ]
  },
  {
   "cell_type": "code",
   "execution_count": 36,
   "metadata": {
    "collapsed": true
   },
   "outputs": [],
   "source": [
    "append_variables(confhandler, impdict, threshold_fscore)"
   ]
  },
  {
   "cell_type": "code",
   "execution_count": 37,
   "metadata": {
    "collapsed": false
   },
   "outputs": [
    {
     "data": {
      "text/plain": [
       "[('ZZPt', 0.09188676261268386),\n",
       " ('ZZEta', 0.07087880225631293),\n",
       " ('Z1Pt', 0.06278665190574094),\n",
       " ('JetEta(JetPt|0)', 0.061310559333649636),\n",
       " ('JetPt(JetPt|0)', 0.05954452000632611),\n",
       " ('ZZPhi', 0.05211133955400917),\n",
       " ('Z1Mass', 0.05126785808424271),\n",
       " ('Z2Mass', 0.05081975855342928),\n",
       " ('PFMET', 0.049080078022035956),\n",
       " ('ZZMassErr', 0.043571089672623756),\n",
       " ('Z2Pt', 0.03777215456797933),\n",
       " ('ZZMass', 0.034002846749960465),\n",
       " ('nCleanedJetsPt30BTagged_bTagSF', 0.033765617586588643),\n",
       " ('D_ZHh_ggH_ME', 0.03236860140228794),\n",
       " ('D_VBF1j_ggH_ME', 0.02983815699298856),\n",
       " ('JetPt(JetPt|1)', 0.027544941747060993),\n",
       " ('JetEta(JetPt|1)', 0.024223733459855554),\n",
       " ('D_VBF2j_ggH_ME', 0.02401286309241394),\n",
       " ('JetPhi(JetPt|0)', 0.020902525172650115),\n",
       " ('JetEta(JetPt|2)', 0.019373715008698403),\n",
       " ('JetPt(JetPt|2)', 0.01853023353893194),\n",
       " ('D_WHh_ggH_ME', 0.017713110865095683),\n",
       " ('D_WHh_ZHh_ME', 0.01478728451684327),\n",
       " ('D_VBF2j_WHh_ME', 0.012098687331962676),\n",
       " ('JetPhi(JetPt|2)', 0.011571511413358639),\n",
       " ('JetPhi(JetPt|1)', 0.01022721282091834),\n",
       " ('D_VBF2j_ZHh_ME', 0.007617692023828351),\n",
       " ('JetEta(JetPt|3)', 0.006141599451737045),\n",
       " ('JetPhi(JetPt|3)', 0.005588064737202804),\n",
       " ('JetPt(JetPt|3)', 0.004929094838947757),\n",
       " ('ExtraLepPt(ExtraLepPt|0)', 0.004902736043017555),\n",
       " ('nCleanedJetsPt30', 0.0025040856133691815),\n",
       " ('Z1Flav', 0.002082344878485951),\n",
       " ('Z2Flav', 0.0015551689598819127),\n",
       " ('ExtraLepPhi(ExtraLepPt|0)', 0.0012915810005798935),\n",
       " ('ExtraLepEta(ExtraLepPt|0)', 0.0009489166534872687),\n",
       " ('nExtraLep', 0.00044809953081343247)]"
      ]
     },
     "execution_count": 37,
     "metadata": {},
     "output_type": "execute_result"
    }
   ],
   "source": [
    "implist"
   ]
  },
  {
   "cell_type": "code",
   "execution_count": 38,
   "metadata": {
    "collapsed": false,
    "scrolled": false
   },
   "outputs": [],
   "source": [
    "%%capture\n",
    "fig, implist = plot_variables([(\"WHh\", \"ZHh\")])"
   ]
  },
  {
   "cell_type": "code",
   "execution_count": 39,
   "metadata": {
    "collapsed": true
   },
   "outputs": [],
   "source": [
    "impdict = {convert_varname(entry[0]): [entry[1]] for entry in implist}\n",
    "impdict[\"discriminant\"] = \"D_WHh_ZHh_ML\"\n",
    "df = df.append(pd.DataFrame.from_dict(impdict))"
   ]
  },
  {
   "cell_type": "code",
   "execution_count": 40,
   "metadata": {
    "collapsed": true
   },
   "outputs": [],
   "source": [
    "append_variables(confhandler, impdict, threshold_fscore)"
   ]
  },
  {
   "cell_type": "code",
   "execution_count": 41,
   "metadata": {
    "collapsed": false
   },
   "outputs": [
    {
     "data": {
      "text/plain": [
       "[('D_WHh_ZHh_ME', 0.07646768623581648),\n",
       " ('PFMET', 0.05605574740996547),\n",
       " ('ZZMassErr', 0.0540823877651702),\n",
       " ('JetPhi(JetPt|1)', 0.053527380365071535),\n",
       " ('ZZMass', 0.04847064627528367),\n",
       " ('ZZEta', 0.04353724716329551),\n",
       " ('JetEta(JetPt|0)', 0.04279723729649729),\n",
       " ('Z1Mass', 0.042303897385298474),\n",
       " ('Z2Mass', 0.04168722249629995),\n",
       " ('JetPhi(JetPt|0)', 0.041625555007400096),\n",
       " ('JetPt(JetPt|0)', 0.041193882585101135),\n",
       " ('Z1Pt', 0.036877158362111494),\n",
       " ('JetEta(JetPt|1)', 0.03644548593981253),\n",
       " ('ZZPhi', 0.034657128761716824),\n",
       " ('ZZPt', 0.034163788850518004),\n",
       " ('JetPt(JetPt|1)', 0.03188209176122348),\n",
       " ('D_WHh_ggH_ME', 0.031018746916625557),\n",
       " ('D_ZHh_ggH_ME', 0.02818204242723236),\n",
       " ('Z2Pt', 0.02719536260483473),\n",
       " ('JetPhi(JetPt|2)', 0.025098667982239763),\n",
       " ('nCleanedJetsPt30BTagged_bTagSF', 0.024173655648741982),\n",
       " ('JetPt(JetPt|2)', 0.023063640848544648),\n",
       " ('D_VBF2j_ggH_ME', 0.02257030093734583),\n",
       " ('D_VBF2j_WHh_ME', 0.021213616181549086),\n",
       " ('D_VBF2j_ZHh_ME', 0.01726689689195856),\n",
       " ('JetEta(JetPt|2)', 0.014676862358164776),\n",
       " ('JetEta(JetPt|3)', 0.010976813024173656),\n",
       " ('JetPhi(JetPt|3)', 0.010976813024173656),\n",
       " ('nCleanedJetsPt30', 0.008078441045880612),\n",
       " ('JetPt(JetPt|3)', 0.00585841144548594),\n",
       " ('D_VBF1j_ggH_ME', 0.0043783917118894915),\n",
       " ('Z1Flav', 0.004193389245189936),\n",
       " ('ExtraLepEta(ExtraLepPt|0)', 0.00215836211149482),\n",
       " ('Z2Flav', 0.00185002466699556),\n",
       " ('ExtraLepPhi(ExtraLepPt|0)', 0.001295017266896892)]"
      ]
     },
     "execution_count": 41,
     "metadata": {},
     "output_type": "execute_result"
    }
   ],
   "source": [
    "implist"
   ]
  },
  {
   "cell_type": "code",
   "execution_count": 42,
   "metadata": {
    "collapsed": false,
    "scrolled": false
   },
   "outputs": [],
   "source": [
    "%%capture\n",
    "fig, implist = plot_variables([(\"VBF\", \"WHh\")])"
   ]
  },
  {
   "cell_type": "code",
   "execution_count": 43,
   "metadata": {
    "collapsed": true
   },
   "outputs": [],
   "source": [
    "impdict = {convert_varname(entry[0]): [entry[1]] for entry in implist}\n",
    "impdict[\"discriminant\"] = \"D_VBF_WHh_ML\"\n",
    "df = df.append(pd.DataFrame.from_dict(impdict))"
   ]
  },
  {
   "cell_type": "code",
   "execution_count": 44,
   "metadata": {
    "collapsed": true
   },
   "outputs": [],
   "source": [
    "append_variables(confhandler, impdict, threshold_fscore)"
   ]
  },
  {
   "cell_type": "code",
   "execution_count": 45,
   "metadata": {
    "collapsed": false
   },
   "outputs": [
    {
     "data": {
      "text/plain": [
       "[('JetEta(JetPt|0)', 0.08828222229313591),\n",
       " ('ZZEta', 0.07219899798959696),\n",
       " ('D_VBF2j_ggH_ME', 0.055238216804416505),\n",
       " ('JetEta(JetPt|2)', 0.05491910521109232),\n",
       " ('JetPt(JetPt|0)', 0.05359479209879695),\n",
       " ('PFMET', 0.04909531863292593),\n",
       " ('JetEta(JetPt|1)', 0.03883588090755337),\n",
       " ('Z2Mass', 0.03787854612758081),\n",
       " ('D_WHh_ggH_ME', 0.03672974439161375),\n",
       " ('ZZMass', 0.035676676133643934),\n",
       " ('JetPhi(JetPt|0)', 0.03522991990299008),\n",
       " ('ZZPhi', 0.03518205316399145),\n",
       " ('Z1Pt', 0.034767208092670004),\n",
       " ('ZZMassErr', 0.034767208092670004),\n",
       " ('JetPt(JetPt|2)', 0.034368318601014775),\n",
       " ('Z1Mass', 0.033985384689025754),\n",
       " ('Z2Pt', 0.0335545840380381),\n",
       " ('D_WHh_ZHh_ME', 0.033442894980374636),\n",
       " ('ZZPt', 0.0302836902064652),\n",
       " ('JetPt(JetPt|1)', 0.024667326163959537),\n",
       " ('JetPhi(JetPt|1)', 0.02302390145833998),\n",
       " ('D_ZHh_ggH_ME', 0.01881162842646073),\n",
       " ('D_VBF1j_ggH_ME', 0.017567093212496408),\n",
       " ('JetPhi(JetPt|2)', 0.015843890608545807),\n",
       " ('D_VBF2j_ZHh_ME', 0.015732201550882344),\n",
       " ('D_VBF2j_WHh_ME', 0.015046111625235345),\n",
       " ('JetPt(JetPt|3)', 0.009621214538724191),\n",
       " ('JetEta(JetPt|3)', 0.009270191786067588),\n",
       " ('nCleanedJetsPt30', 0.006382231866483709),\n",
       " ('JetPhi(JetPt|3)', 0.005233430130516642),\n",
       " ('nCleanedJetsPt30BTagged_bTagSF', 0.002808182021252832),\n",
       " ('ExtraLepEta(ExtraLepPt|0)', 0.0021540032549382518),\n",
       " ('Z2Flav', 0.0017391581836168108),\n",
       " ('Z1Flav', 0.001643424705619555),\n",
       " ('ExtraLepPt(ExtraLepPt|0)', 0.0013562242716277882),\n",
       " ('ExtraLepPhi(ExtraLepPt|0)', 0.0010690238376360214)]"
      ]
     },
     "execution_count": 45,
     "metadata": {},
     "output_type": "execute_result"
    }
   ],
   "source": [
    "implist"
   ]
  },
  {
   "cell_type": "code",
   "execution_count": 46,
   "metadata": {
    "collapsed": false,
    "scrolled": false
   },
   "outputs": [],
   "source": [
    "%%capture\n",
    "fig, implist = plot_variables([(\"VBF\", \"ZHh\")])"
   ]
  },
  {
   "cell_type": "code",
   "execution_count": 47,
   "metadata": {
    "collapsed": true
   },
   "outputs": [],
   "source": [
    "impdict = {convert_varname(entry[0]): [entry[1]] for entry in implist}\n",
    "impdict[\"discriminant\"] = \"D_VBF_ZHh_ML\"\n",
    "df = df.append(pd.DataFrame.from_dict(impdict))"
   ]
  },
  {
   "cell_type": "code",
   "execution_count": 48,
   "metadata": {
    "collapsed": true
   },
   "outputs": [],
   "source": [
    "append_variables(confhandler, impdict, threshold_fscore)"
   ]
  },
  {
   "cell_type": "code",
   "execution_count": 49,
   "metadata": {
    "collapsed": false
   },
   "outputs": [
    {
     "data": {
      "text/plain": [
       "[('JetEta(JetPt|0)', 0.08837377761680551),\n",
       " ('ZZEta', 0.08417666233461875),\n",
       " ('JetEta(JetPt|2)', 0.059057886102648234),\n",
       " ('D_VBF2j_ggH_ME', 0.054455972899844475),\n",
       " ('PFMET', 0.04825617316828941),\n",
       " ('JetPt(JetPt|0)', 0.04439994034556959),\n",
       " ('Z1Pt', 0.03628267677951296),\n",
       " ('D_ZHh_ggH_ME', 0.03615484585721286),\n",
       " ('JetEta(JetPt|1)', 0.03613354070349618),\n",
       " ('Z1Mass', 0.03329995525917719),\n",
       " ('ZZMassErr', 0.0330229882608603),\n",
       " ('Z2Mass', 0.03268210580139336),\n",
       " ('nCleanedJetsPt30BTagged_bTagSF', 0.03153162750069242),\n",
       " ('ZZPt', 0.030168097662824637),\n",
       " ('ZZMass', 0.029251976053007223),\n",
       " ('JetPhi(JetPt|0)', 0.02886848328610691),\n",
       " ('JetPhi(JetPt|1)', 0.028676736902656753),\n",
       " ('D_VBF2j_WHh_ME', 0.0280801925985896),\n",
       " ('ZZPhi', 0.0280801925985896),\n",
       " ('JetPt(JetPt|2)', 0.027867141061422757),\n",
       " ('Z2Pt', 0.025608794767454247),\n",
       " ('D_WHh_ZHh_ME', 0.025161386539403884),\n",
       " ('JetPt(JetPt|1)', 0.02315870209003558),\n",
       " ('D_WHh_ggH_ME', 0.022349106248801584),\n",
       " ('D_VBF2j_ZHh_ME', 0.016745850821313676),\n",
       " ('D_VBF1j_ggH_ME', 0.01593625498007968),\n",
       " ('JetPhi(JetPt|2)', 0.014913607601678846),\n",
       " ('JetPt(JetPt|3)', 0.008735113023840467),\n",
       " ('JetPhi(JetPt|3)', 0.007946822336323156),\n",
       " ('JetEta(JetPt|3)', 0.0064341564224385875),\n",
       " ('nCleanedJetsPt30', 0.004644523510237126),\n",
       " ('Z2Flav', 0.0031531627500692417),\n",
       " ('ExtraLepPt(ExtraLepPt|0)', 0.0027270596757355604),\n",
       " ('Z1Flav', 0.002279651447685195),\n",
       " ('ExtraLepEta(ExtraLepPt|0)', 0.0007669855338006264),\n",
       " ('ExtraLepPhi(ExtraLepPt|0)', 0.0006178494577838379)]"
      ]
     },
     "execution_count": 49,
     "metadata": {},
     "output_type": "execute_result"
    }
   ],
   "source": [
    "implist"
   ]
  },
  {
   "cell_type": "code",
   "execution_count": 50,
   "metadata": {
    "collapsed": false,
    "scrolled": false
   },
   "outputs": [],
   "source": [
    "%%capture\n",
    "fig, implist = plot_variables([(\"WHl\", \"ggH\")])"
   ]
  },
  {
   "cell_type": "code",
   "execution_count": 51,
   "metadata": {
    "collapsed": true
   },
   "outputs": [],
   "source": [
    "impdict = {convert_varname(entry[0]): [entry[1]] for entry in implist}\n",
    "impdict[\"discriminant\"] = \"D_WHl_ggH_ML\"\n",
    "df = df.append(pd.DataFrame.from_dict(impdict))"
   ]
  },
  {
   "cell_type": "code",
   "execution_count": 52,
   "metadata": {
    "collapsed": true
   },
   "outputs": [],
   "source": [
    "append_variables(confhandler, impdict, threshold_fscore)"
   ]
  },
  {
   "cell_type": "code",
   "execution_count": 53,
   "metadata": {
    "collapsed": false
   },
   "outputs": [
    {
     "data": {
      "text/plain": [
       "[('PFMET', 0.1397021917349841),\n",
       " ('ZZPt', 0.12129831018905805),\n",
       " ('JetPt(JetPt|0)', 0.07866822820813117),\n",
       " ('D_VBF1j_ggH_ME', 0.06561820311192906),\n",
       " ('ZZEta', 0.05879203613853103),\n",
       " ('Z1Pt', 0.05614856951647984),\n",
       " ('ZZMassErr', 0.051363560314539064),\n",
       " ('ZZPhi', 0.050761251463945126),\n",
       " ('ZZMass', 0.04818470804751548),\n",
       " ('Z1Mass', 0.040187384975740335),\n",
       " ('Z2Mass', 0.03998661535887569),\n",
       " ('JetEta(JetPt|0)', 0.03925046009703865),\n",
       " ('ExtraLepPt(ExtraLepPt|0)', 0.0348335285260164),\n",
       " ('Z2Pt', 0.0344319892922871),\n",
       " ('JetPhi(JetPt|0)', 0.03306006357704534),\n",
       " ('D_WHh_ZHh_ME', 0.013317717918688306),\n",
       " ('JetEta(JetPt|1)', 0.012882717082148235),\n",
       " ('ExtraLepEta(ExtraLepPt|0)', 0.012548101054040488),\n",
       " ('D_VBF2j_ggH_ME', 0.009436171992638447),\n",
       " ('JetPhi(JetPt|1)', 0.0092354023757738),\n",
       " ('JetPt(JetPt|1)', 0.00779655345491049),\n",
       " ('ExtraLepPhi(ExtraLepPt|0)', 0.006023088505939435),\n",
       " ('JetEta(JetPt|3)', 0.004985778818805421),\n",
       " ('nCleanedJetsPt30BTagged_bTagSF', 0.004684624393508449),\n",
       " ('D_VBF2j_WHh_ME', 0.0046177011878869),\n",
       " ('D_WHh_ggH_ME', 0.0032792370754559145),\n",
       " ('JetPhi(JetPt|2)', 0.003212313869834365),\n",
       " ('nExtraLep', 0.002576543416429647),\n",
       " ('D_ZHh_ggH_ME', 0.0025430818136188723),\n",
       " ('D_VBF2j_ZHh_ME', 0.0023423121967542245),\n",
       " ('nCleanedJetsPt30', 0.0019073113602141542),\n",
       " ('Z1Flav', 0.0015057721264848587),\n",
       " ('JetPt(JetPt|3)', 0.0015057721264848587),\n",
       " ('Z2Flav', 0.0014388489208633094),\n",
       " ('JetEta(JetPt|2)', 0.0009703864815124644),\n",
       " ('JetPt(JetPt|2)', 0.0009034632758909152)]"
      ]
     },
     "execution_count": 53,
     "metadata": {},
     "output_type": "execute_result"
    }
   ],
   "source": [
    "implist"
   ]
  },
  {
   "cell_type": "code",
   "execution_count": 54,
   "metadata": {
    "collapsed": false,
    "scrolled": false
   },
   "outputs": [],
   "source": [
    "%%capture\n",
    "fig, implist = plot_variables([(\"WHl\", \"VBF\")])"
   ]
  },
  {
   "cell_type": "code",
   "execution_count": 55,
   "metadata": {
    "collapsed": true
   },
   "outputs": [],
   "source": [
    "impdict = {convert_varname(entry[0]): [entry[1]] for entry in implist}\n",
    "impdict[\"discriminant\"] = \"D_WHl_VBF_ML\"\n",
    "df = df.append(pd.DataFrame.from_dict(impdict))"
   ]
  },
  {
   "cell_type": "code",
   "execution_count": 56,
   "metadata": {
    "collapsed": true
   },
   "outputs": [],
   "source": [
    "append_variables(confhandler, impdict, threshold_fscore)"
   ]
  },
  {
   "cell_type": "code",
   "execution_count": 57,
   "metadata": {
    "collapsed": false
   },
   "outputs": [
    {
     "data": {
      "text/plain": [
       "[('PFMET', 0.1308762310894507),\n",
       " ('JetPt(JetPt|0)', 0.07658983991606592),\n",
       " ('ZZEta', 0.06944867499238501),\n",
       " ('JetEta(JetPt|0)', 0.06037838020780451),\n",
       " ('D_VBF1j_ggH_ME', 0.05564016651436694),\n",
       " ('ExtraLepEta(ExtraLepPt|0)', 0.05110501912207669),\n",
       " ('ExtraLepPt(ExtraLepPt|0)', 0.04112092598233323),\n",
       " ('ZZMassErr', 0.04007175009307205),\n",
       " ('ZZPt', 0.03611195722069922),\n",
       " ('D_VBF2j_ggH_ME', 0.03445358242799607),\n",
       " ('Z2Pt', 0.034318204893897857),\n",
       " ('Z1Pt', 0.0342166717433242),\n",
       " ('ZZMass', 0.03391207229160321),\n",
       " ('ZZPhi', 0.03309980708701391),\n",
       " ('Z1Mass', 0.03022303448742681),\n",
       " ('JetPhi(JetPt|0)', 0.029783057501607608),\n",
       " ('Z2Mass', 0.02656784106677497),\n",
       " ('D_WHh_ZHh_ME', 0.022066538058009275),\n",
       " ('JetEta(JetPt|1)', 0.021761938606288285),\n",
       " ('JetEta(JetPt|2)', 0.021355806003993637),\n",
       " ('JetPt(JetPt|1)', 0.018512877787931092),\n",
       " ('D_VBF2j_ZHh_ME', 0.01692219176227705),\n",
       " ('JetPhi(JetPt|1)', 0.016786814228178834),\n",
       " ('D_WHh_ggH_ME', 0.01221782245236403),\n",
       " ('D_VBF2j_WHh_ME', 0.012183978068839476),\n",
       " ('ExtraLepPhi(ExtraLepPt|0)', 0.007005787389582699),\n",
       " ('JetPt(JetPt|2)', 0.00676887670491082),\n",
       " ('D_ZHh_ggH_ME', 0.006193522184993401),\n",
       " ('JetPhi(JetPt|2)', 0.005245879446305886),\n",
       " ('JetPt(JetPt|3)', 0.0031136832842589774),\n",
       " ('Z1Flav', 0.002978305750160761),\n",
       " ('nCleanedJetsPt30', 0.0028429282160625444),\n",
       " ('JetEta(JetPt|3)', 0.0020645073949978002),\n",
       " ('Z2Flav', 0.0019629742444241378),\n",
       " ('nCleanedJetsPt30BTagged_bTagSF', 0.0010153315057366231),\n",
       " ('JetPhi(JetPt|3)', 0.0010153315057366231),\n",
       " ('nExtraLep', 6.76887670491082e-05)]"
      ]
     },
     "execution_count": 57,
     "metadata": {},
     "output_type": "execute_result"
    }
   ],
   "source": [
    "implist"
   ]
  },
  {
   "cell_type": "code",
   "execution_count": 58,
   "metadata": {
    "collapsed": false,
    "scrolled": false
   },
   "outputs": [],
   "source": [
    "%%capture\n",
    "fig, implist = plot_variables([(\"WHl\", \"WHh\")])"
   ]
  },
  {
   "cell_type": "code",
   "execution_count": 59,
   "metadata": {
    "collapsed": true
   },
   "outputs": [],
   "source": [
    "impdict = {convert_varname(entry[0]): [entry[1]] for entry in implist}\n",
    "impdict[\"discriminant\"] = \"D_WHl_WHh_ML\"\n",
    "df = df.append(pd.DataFrame.from_dict(impdict))"
   ]
  },
  {
   "cell_type": "code",
   "execution_count": 60,
   "metadata": {
    "collapsed": true
   },
   "outputs": [],
   "source": [
    "append_variables(confhandler, impdict, threshold_fscore)"
   ]
  },
  {
   "cell_type": "code",
   "execution_count": 61,
   "metadata": {
    "collapsed": false
   },
   "outputs": [
    {
     "data": {
      "text/plain": [
       "[('PFMET', 0.14713430282292558),\n",
       " ('ZZPt', 0.06574605890260296),\n",
       " ('JetPt(JetPt|0)', 0.06525724062079921),\n",
       " ('JetEta(JetPt|0)', 0.06302700721006965),\n",
       " ('ExtraLepPt(ExtraLepPt|0)', 0.05153977758768178),\n",
       " ('D_VBF1j_ggH_ME', 0.04243553708908713),\n",
       " ('ZZMass', 0.04200782109250886),\n",
       " ('ZZMassErr', 0.041793963094219726),\n",
       " ('ZZEta', 0.04069412196016131),\n",
       " ('Z1Pt', 0.03797507026762801),\n",
       " ('ZZPhi', 0.03791396798240254),\n",
       " ('Z2Mass', 0.03534767200293291),\n",
       " ('Z2Pt', 0.03491995600635464),\n",
       " ('JetPhi(JetPt|0)', 0.029634608334351706),\n",
       " ('Z1Mass', 0.0293596480508371),\n",
       " ('D_WHh_ggH_ME', 0.027404374923622143),\n",
       " ('ExtraLepEta(ExtraLepPt|0)', 0.022699498961261153),\n",
       " ('JetPt(JetPt|1)', 0.017689111572772823),\n",
       " ('D_WHh_ZHh_ME', 0.017139191005743615),\n",
       " ('JetPhi(JetPt|1)', 0.016986435292679947),\n",
       " ('D_ZHh_ggH_ME', 0.01643651472565074),\n",
       " ('JetEta(JetPt|1)', 0.015672736160332396),\n",
       " ('D_VBF2j_ggH_ME', 0.014328485885372113),\n",
       " ('JetPt(JetPt|2)', 0.013350849321764634),\n",
       " ('D_VBF2j_WHh_ME', 0.01307588903825003),\n",
       " ('ExtraLepPhi(ExtraLepPt|0)', 0.01167053647806428),\n",
       " ('D_VBF2j_ZHh_ME', 0.010845655627520469),\n",
       " ('JetPhi(JetPt|2)', 0.009012587070756447),\n",
       " ('JetEta(JetPt|2)', 0.00772943908102163),\n",
       " ('nCleanedJetsPt30', 0.006385188806061347),\n",
       " ('JetEta(JetPt|3)', 0.004185506537944519),\n",
       " ('JetPhi(JetPt|3)', 0.0035133814004643773),\n",
       " ('Z1Flav', 0.002260784553342295),\n",
       " ('JetPt(JetPt|3)', 0.002016375412440425),\n",
       " ('Z2Flav', 0.001191494561896615),\n",
       " ('nExtraLep', 0.0008248808505438104),\n",
       " ('nCleanedJetsPt30BTagged_bTagSF', 0.0007943297079310766)]"
      ]
     },
     "execution_count": 61,
     "metadata": {},
     "output_type": "execute_result"
    }
   ],
   "source": [
    "implist"
   ]
  },
  {
   "cell_type": "code",
   "execution_count": 62,
   "metadata": {
    "collapsed": false,
    "scrolled": false
   },
   "outputs": [],
   "source": [
    "%%capture\n",
    "fig, implist = plot_variables([(\"WHl\", \"ZHh\")])"
   ]
  },
  {
   "cell_type": "code",
   "execution_count": 63,
   "metadata": {
    "collapsed": true
   },
   "outputs": [],
   "source": [
    "impdict = {convert_varname(entry[0]): [entry[1]] for entry in implist}\n",
    "impdict[\"discriminant\"] = \"D_WHl_ZHh_ML\"\n",
    "df = df.append(pd.DataFrame.from_dict(impdict))"
   ]
  },
  {
   "cell_type": "code",
   "execution_count": 64,
   "metadata": {
    "collapsed": true
   },
   "outputs": [],
   "source": [
    "append_variables(confhandler, impdict, threshold_fscore)"
   ]
  },
  {
   "cell_type": "code",
   "execution_count": 65,
   "metadata": {
    "collapsed": false
   },
   "outputs": [
    {
     "data": {
      "text/plain": [
       "[('PFMET', 0.17979078054948844),\n",
       " ('ExtraLepPt(ExtraLepPt|0)', 0.07334176342108288),\n",
       " ('JetPt(JetPt|0)', 0.06081158753879756),\n",
       " ('D_VBF1j_ggH_ME', 0.05655822508334291),\n",
       " ('nCleanedJetsPt30BTagged_bTagSF', 0.05460397746867456),\n",
       " ('D_ZHh_ggH_ME', 0.05425911024255661),\n",
       " ('JetEta(JetPt|0)', 0.04575238533164731),\n",
       " ('ZZPhi', 0.038165306357052536),\n",
       " ('JetPhi(JetPt|0)', 0.03609610300034487),\n",
       " ('ZZPt', 0.031727784802850906),\n",
       " ('Z1Pt', 0.03115300609265433),\n",
       " ('ZZMassErr', 0.030348315898379125),\n",
       " ('D_WHh_ggH_ME', 0.028738935509828718),\n",
       " ('Z2Pt', 0.027704333831474883),\n",
       " ('nExtraLep', 0.027589378089435568),\n",
       " ('ZZMass', 0.027129555121278306),\n",
       " ('ExtraLepEta(ExtraLepPt|0)', 0.02483044028049201),\n",
       " ('ZZEta', 0.022876192665823657),\n",
       " ('Z1Mass', 0.017703184274054488),\n",
       " ('D_VBF2j_ZHh_ME', 0.01678353833773997),\n",
       " ('Z2Mass', 0.01655362685366134),\n",
       " ('JetPt(JetPt|2)', 0.015059202207150247),\n",
       " ('D_VBF2j_ggH_ME', 0.014484423496953672),\n",
       " ('ExtraLepPhi(ExtraLepPt|0)', 0.011610529945970801),\n",
       " ('nCleanedJetsPt30', 0.010116105299459707),\n",
       " ('JetPt(JetPt|1)', 0.010001149557420394),\n",
       " ('D_WHh_ZHh_ME', 0.007587078974594781),\n",
       " ('JetEta(JetPt|2)', 0.007587078974594781),\n",
       " ('Z2Flav', 0.005173008391769169),\n",
       " ('JetPhi(JetPt|2)', 0.005058052649729854),\n",
       " ('JetEta(JetPt|1)', 0.00402345097137602),\n",
       " ('D_VBF2j_WHh_ME', 0.0037935394872973907),\n",
       " ('Z1Flav', 0.0013794689044717783),\n",
       " ('JetPhi(JetPt|1)', 0.0011495574203931487),\n",
       " ('JetPhi(JetPt|3)', 0.0003448672261179446),\n",
       " ('JetEta(JetPt|3)', 0.00011495574203931487)]"
      ]
     },
     "execution_count": 65,
     "metadata": {},
     "output_type": "execute_result"
    }
   ],
   "source": [
    "implist"
   ]
  },
  {
   "cell_type": "code",
   "execution_count": 66,
   "metadata": {
    "collapsed": false,
    "scrolled": false
   },
   "outputs": [],
   "source": [
    "%%capture\n",
    "fig, implist = plot_variables([(\"WHl\", \"ZHl\")])"
   ]
  },
  {
   "cell_type": "code",
   "execution_count": 67,
   "metadata": {
    "collapsed": true
   },
   "outputs": [],
   "source": [
    "impdict = {convert_varname(entry[0]): [entry[1]] for entry in implist}\n",
    "impdict[\"discriminant\"] = \"D_WHl_ZHl_ML\"\n",
    "df = df.append(pd.DataFrame.from_dict(impdict))"
   ]
  },
  {
   "cell_type": "code",
   "execution_count": 68,
   "metadata": {
    "collapsed": true
   },
   "outputs": [],
   "source": [
    "append_variables(confhandler, impdict, threshold_fscore)"
   ]
  },
  {
   "cell_type": "code",
   "execution_count": 69,
   "metadata": {
    "collapsed": false
   },
   "outputs": [
    {
     "data": {
      "text/plain": [
       "[('PFMET', 0.0950408945025365),\n",
       " ('ZZMass', 0.09240086965524381),\n",
       " ('Z2Mass', 0.0755771819028885),\n",
       " ('Z2Pt', 0.07505952997204679),\n",
       " ('Z1Mass', 0.06486178693446526),\n",
       " ('JetPt(JetPt|0)', 0.05383580080753701),\n",
       " ('ZZMassErr', 0.052127549435759396),\n",
       " ('ExtraLepPt(ExtraLepPt|0)', 0.04974635055388757),\n",
       " ('ExtraLepEta(ExtraLepPt|0)', 0.04555336991406978),\n",
       " ('ZZPhi', 0.04332746661145046),\n",
       " ('ZZPt', 0.040014494254063566),\n",
       " ('ZZEta', 0.03592504400041412),\n",
       " ('JetEta(JetPt|0)', 0.03230148048452221),\n",
       " ('Z1Pt', 0.03028263795423957),\n",
       " ('ExtraLepPhi(ExtraLepPt|0)', 0.027228491562273527),\n",
       " ('JetPhi(JetPt|0)', 0.024019049591054973),\n",
       " ('D_VBF1j_ggH_ME', 0.019463712599647996),\n",
       " ('nExtraZ', 0.014028367325810125),\n",
       " ('JetPhi(JetPt|1)', 0.013407185008800082),\n",
       " ('nExtraLep', 0.013096593850295062),\n",
       " ('ExtraLepEta(ExtraLepPt|1)', 0.010404803809918211),\n",
       " ('D_WHh_ZHh_ME', 0.010404803809918211),\n",
       " ('JetPt(JetPt|1)', 0.010249508230665701),\n",
       " ('D_WHh_ggH_ME', 0.009369499948234807),\n",
       " ('JetEta(JetPt|1)', 0.008955378403561445),\n",
       " ('D_ZHh_ggH_ME', 0.008696552438140595),\n",
       " ('D_VBF2j_ggH_ME', 0.008230665700383062),\n",
       " ('nCleanedJetsPt30BTagged_bTagSF', 0.006160057977016254),\n",
       " ('D_VBF2j_WHh_ME', 0.00507298892224868),\n",
       " ('JetPt(JetPt|2)', 0.004089450253649446),\n",
       " ('JetEta(JetPt|2)', 0.0036235635158919145),\n",
       " ('Z2Flav', 0.0032094419712185526),\n",
       " ('ExtraLepPt(ExtraLepPt|1)', 0.003105911585050212),\n",
       " ('Z1Flav', 0.00258825965420851),\n",
       " ('nCleanedJetsPt30', 0.002277668495703489),\n",
       " ('JetPhi(JetPt|2)', 0.0021741381095351487),\n",
       " ('D_VBF2j_ZHh_ME', 0.002018842530282638),\n",
       " ('JetEta(JetPt|3)', 0.0009835386685992339),\n",
       " ('ExtraLepPhi(ExtraLepPt|1)', 0.0006211823170100424),\n",
       " ('JetPhi(JetPt|3)', 0.000258825965420851),\n",
       " ('JetPt(JetPt|3)', 0.00020706077233668082)]"
      ]
     },
     "execution_count": 69,
     "metadata": {},
     "output_type": "execute_result"
    }
   ],
   "source": [
    "implist"
   ]
  },
  {
   "cell_type": "code",
   "execution_count": 70,
   "metadata": {
    "collapsed": false,
    "scrolled": false
   },
   "outputs": [],
   "source": [
    "%%capture\n",
    "fig, implist = plot_variables([(\"WHl\", \"ZHMET\")])"
   ]
  },
  {
   "cell_type": "code",
   "execution_count": 71,
   "metadata": {
    "collapsed": true
   },
   "outputs": [],
   "source": [
    "impdict = {convert_varname(entry[0]): [entry[1]] for entry in implist}\n",
    "impdict[\"discriminant\"] = \"D_WHl_ZHMET_ML\"\n",
    "df = df.append(pd.DataFrame.from_dict(impdict))"
   ]
  },
  {
   "cell_type": "code",
   "execution_count": 72,
   "metadata": {
    "collapsed": true
   },
   "outputs": [],
   "source": [
    "append_variables(confhandler, impdict, threshold_fscore)"
   ]
  },
  {
   "cell_type": "code",
   "execution_count": 73,
   "metadata": {
    "collapsed": false
   },
   "outputs": [
    {
     "data": {
      "text/plain": [
       "[('PFMET', 0.13071853192039287),\n",
       " ('ZZPt', 0.08380718531920393),\n",
       " ('Z1Pt', 0.08270871026104937),\n",
       " ('ZZMass', 0.07314551563711554),\n",
       " ('Z2Mass', 0.07127164642026364),\n",
       " ('ZZMassErr', 0.05692685448436288),\n",
       " ('ZZEta', 0.05666838976479711),\n",
       " ('Z1Mass', 0.05582837942620832),\n",
       " ('ZZPhi', 0.05563453088653399),\n",
       " ('JetPt(JetPt|0)', 0.05246833807185319),\n",
       " ('Z2Pt', 0.05124063065391574),\n",
       " ('ExtraLepPt(ExtraLepPt|0)', 0.04568363918325149),\n",
       " ('JetEta(JetPt|0)', 0.03424657534246575),\n",
       " ('JetPhi(JetPt|0)', 0.02894804859136728),\n",
       " ('D_VBF1j_ggH_ME', 0.0268157146549496),\n",
       " ('nExtraLep', 0.011178599121219953),\n",
       " ('JetEta(JetPt|1)', 0.010790902041871284),\n",
       " ('ExtraLepEta(ExtraLepPt|0)', 0.008917032825019384),\n",
       " ('JetPhi(JetPt|1)', 0.007430860687516154),\n",
       " ('JetPt(JetPt|1)', 0.007366244507624709),\n",
       " ('D_VBF2j_ggH_ME', 0.00723701214784182),\n",
       " ('JetPt(JetPt|2)', 0.00523391057120703),\n",
       " ('D_ZHh_ggH_ME', 0.00523391057120703),\n",
       " ('D_WHh_ZHh_ME', 0.004975445851641251),\n",
       " ('JetEta(JetPt|2)', 0.004587748772292582),\n",
       " ('nCleanedJetsPt30', 0.00348927371413802),\n",
       " ('Z1Flav', 0.003166192814680796),\n",
       " ('D_WHh_ggH_ME', 0.0025846471956577927),\n",
       " ('Z2Flav', 0.002390798655983458),\n",
       " ('D_VBF2j_ZHh_ME', 0.002196950116309124),\n",
       " ('D_VBF2j_WHh_ME', 0.001809253036960455),\n",
       " ('JetPhi(JetPt|3)', 0.0014861721375032308),\n",
       " ('nCleanedJetsPt30BTagged_bTagSF', 0.0013569397777203412),\n",
       " ('JetPhi(JetPt|2)', 0.0012277074179374515),\n",
       " ('JetEta(JetPt|3)', 0.0012277074179374515)]"
      ]
     },
     "execution_count": 73,
     "metadata": {},
     "output_type": "execute_result"
    }
   ],
   "source": [
    "implist"
   ]
  },
  {
   "cell_type": "code",
   "execution_count": 74,
   "metadata": {
    "collapsed": false,
    "scrolled": false
   },
   "outputs": [],
   "source": [
    "%%capture\n",
    "fig, implist = plot_variables([(\"WHl\", \"ttHh\")])"
   ]
  },
  {
   "cell_type": "code",
   "execution_count": 75,
   "metadata": {
    "collapsed": true
   },
   "outputs": [],
   "source": [
    "impdict = {convert_varname(entry[0]): [entry[1]] for entry in implist}\n",
    "impdict[\"discriminant\"] = \"D_WHl_ttHh_ML\"\n",
    "df = df.append(pd.DataFrame.from_dict(impdict))"
   ]
  },
  {
   "cell_type": "code",
   "execution_count": 76,
   "metadata": {
    "collapsed": true
   },
   "outputs": [],
   "source": [
    "append_variables(confhandler, impdict, threshold_fscore)"
   ]
  },
  {
   "cell_type": "code",
   "execution_count": 77,
   "metadata": {
    "collapsed": false
   },
   "outputs": [
    {
     "data": {
      "text/plain": [
       "[('PFMET', 0.12138538380651945),\n",
       " ('ExtraLepPt(ExtraLepPt|0)', 0.08931388012618297),\n",
       " ('JetPt(JetPt|0)', 0.08103312302839116),\n",
       " ('nCleanedJetsPt30BTagged_bTagSF', 0.07958727655099895),\n",
       " ('D_WHh_ggH_ME', 0.042915352260778125),\n",
       " ('JetPt(JetPt|3)', 0.03640904311251315),\n",
       " ('JetPt(JetPt|2)', 0.03371451104100946),\n",
       " ('JetPt(JetPt|1)', 0.03318874868559411),\n",
       " ('ZZEta', 0.03174290220820189),\n",
       " ('JetEta(JetPt|0)', 0.02655099894847529),\n",
       " ('ZZMassErr', 0.02648527865404837),\n",
       " ('JetEta(JetPt|2)', 0.025893796004206097),\n",
       " ('ZZMass', 0.02576235541535226),\n",
       " ('Z2Mass', 0.02444794952681388),\n",
       " ('JetPhi(JetPt|0)', 0.023396424815983176),\n",
       " ('Z2Pt', 0.022804942166140905),\n",
       " ('D_VBF1j_ggH_ME', 0.021424815983175603),\n",
       " ('D_ZHh_ggH_ME', 0.020373291272344902),\n",
       " ('D_WHh_ZHh_ME', 0.02024185068349106),\n",
       " ('Z1Pt', 0.019256046267087278),\n",
       " ('nCleanedJetsPt30', 0.019124605678233438),\n",
       " ('JetPhi(JetPt|2)', 0.018007360672975814),\n",
       " ('ExtraLepPhi(ExtraLepPt|0)', 0.017218717139852787),\n",
       " ('ZZPhi', 0.016824395373291272),\n",
       " ('JetEta(JetPt|1)', 0.016101472134595163),\n",
       " ('ZZPt', 0.015444269190325972),\n",
       " ('D_VBF2j_ggH_ME', 0.013866982124079916),\n",
       " ('D_VBF2j_ZHh_ME', 0.013209779179810725),\n",
       " ('JetPhi(JetPt|1)', 0.01288117770767613),\n",
       " ('JetEta(JetPt|3)', 0.011961093585699264),\n",
       " ('nExtraLep', 0.01084384858044164),\n",
       " ('ExtraLepEta(ExtraLepPt|0)', 0.008017875920084122),\n",
       " ('D_VBF2j_WHh_ME', 0.006769190325972661),\n",
       " ('JetPhi(JetPt|3)', 0.005914826498422713),\n",
       " ('Z1Mass', 0.005389064143007361),\n",
       " ('Z1Flav', 0.002103049421661409),\n",
       " ('Z2Flav', 0.0003943217665615142)]"
      ]
     },
     "execution_count": 77,
     "metadata": {},
     "output_type": "execute_result"
    }
   ],
   "source": [
    "implist"
   ]
  },
  {
   "cell_type": "code",
   "execution_count": 78,
   "metadata": {
    "collapsed": false,
    "scrolled": false
   },
   "outputs": [],
   "source": [
    "%%capture\n",
    "fig, implist = plot_variables([(\"WHl\", \"ttHl\")])"
   ]
  },
  {
   "cell_type": "code",
   "execution_count": 79,
   "metadata": {
    "collapsed": true
   },
   "outputs": [],
   "source": [
    "impdict = {convert_varname(entry[0]): [entry[1]] for entry in implist}\n",
    "impdict[\"discriminant\"] = \"D_WHl_ttHl_ML\"\n",
    "df = df.append(pd.DataFrame.from_dict(impdict))"
   ]
  },
  {
   "cell_type": "code",
   "execution_count": 80,
   "metadata": {
    "collapsed": true
   },
   "outputs": [],
   "source": [
    "append_variables(confhandler, impdict, threshold_fscore)"
   ]
  },
  {
   "cell_type": "code",
   "execution_count": 81,
   "metadata": {
    "collapsed": false
   },
   "outputs": [
    {
     "data": {
      "text/plain": [
       "[('JetPt(JetPt|0)', 0.08105130626377086),\n",
       " ('nCleanedJetsPt30BTagged_bTagSF', 0.0683034309096632),\n",
       " ('PFMET', 0.058467107333962855),\n",
       " ('Z1Mass', 0.056185080264400375),\n",
       " ('ZZEta', 0.051621026125275415),\n",
       " ('JetPt(JetPt|1)', 0.046663519043122444),\n",
       " ('Z2Pt', 0.041942083726786275),\n",
       " ('ExtraLepEta(ExtraLepPt|0)', 0.03855838841674536),\n",
       " ('D_WHh_ggH_ME', 0.037378029587661316),\n",
       " ('ZZMass', 0.03517469310670444),\n",
       " ('JetPt(JetPt|2)', 0.035017311929493235),\n",
       " ('nExtraLep', 0.032184450739691534),\n",
       " ('ExtraLepPt(ExtraLepPt|1)', 0.030610638967579477),\n",
       " ('JetPhi(JetPt|0)', 0.02872206484104501),\n",
       " ('ExtraLepPt(ExtraLepPt|0)', 0.025889203651243312),\n",
       " ('Z1Pt', 0.025810513062637708),\n",
       " ('ZZPt', 0.02447277305634246),\n",
       " ('D_VBF1j_ggH_ME', 0.02297765187283601),\n",
       " ('D_ZHh_ggH_ME', 0.022112055398174377),\n",
       " ('ZZPhi', 0.021010387157695938),\n",
       " ('JetPhi(JetPt|1)', 0.020538243626062325),\n",
       " ('Z2Mass', 0.020223481271639913),\n",
       " ('JetPt(JetPt|3)', 0.018098835379288636),\n",
       " ('ZZMassErr', 0.017784073024866225),\n",
       " ('JetEta(JetPt|0)', 0.017784073024866225),\n",
       " ('D_VBF2j_ggH_ME', 0.01676109537299339),\n",
       " ('nCleanedJetsPt30', 0.015423355366698142),\n",
       " ('D_VBF2j_ZHh_ME', 0.012433112999685237),\n",
       " ('JetEta(JetPt|1)', 0.011960969468051622),\n",
       " ('JetPhi(JetPt|2)', 0.010701920050361977),\n",
       " ('JetEta(JetPt|2)', 0.009285489455461126),\n",
       " ('D_WHh_ZHh_ME', 0.008970727101038715),\n",
       " ('ExtraLepPhi(ExtraLepPt|0)', 0.008577274158010701),\n",
       " ('JetEta(JetPt|3)', 0.007869058860560278),\n",
       " ('Z1Flav', 0.005508341202392194),\n",
       " ('D_VBF2j_WHh_ME', 0.004878816493547372),\n",
       " ('JetPhi(JetPt|3)', 0.0036984576644633303),\n",
       " ('Z2Flav', 0.0028328611898017),\n",
       " ('ExtraLepEta(ExtraLepPt|1)', 0.002439408246773686),\n",
       " ('ExtraLepPhi(ExtraLepPt|1)', 7.869058860560277e-05)]"
      ]
     },
     "execution_count": 81,
     "metadata": {},
     "output_type": "execute_result"
    }
   ],
   "source": [
    "implist"
   ]
  },
  {
   "cell_type": "code",
   "execution_count": 82,
   "metadata": {
    "collapsed": false,
    "scrolled": false
   },
   "outputs": [],
   "source": [
    "%%capture\n",
    "fig, implist = plot_variables([(\"ZHh\", \"ZHl\")])"
   ]
  },
  {
   "cell_type": "code",
   "execution_count": 83,
   "metadata": {
    "collapsed": true
   },
   "outputs": [],
   "source": [
    "impdict = {convert_varname(entry[0]): [entry[1]] for entry in implist}\n",
    "impdict[\"discriminant\"] = \"D_ZHh_ZHl_ML\"\n",
    "df = df.append(pd.DataFrame.from_dict(impdict))"
   ]
  },
  {
   "cell_type": "code",
   "execution_count": 84,
   "metadata": {
    "collapsed": true
   },
   "outputs": [],
   "source": [
    "append_variables(confhandler, impdict, threshold_fscore)"
   ]
  },
  {
   "cell_type": "code",
   "execution_count": 85,
   "metadata": {
    "collapsed": false
   },
   "outputs": [
    {
     "data": {
      "text/plain": [
       "[('ZZMass', 0.09109518935516889),\n",
       " ('Z2Mass', 0.07753326509723643),\n",
       " ('Z1Mass', 0.07693619924940294),\n",
       " ('PFMET', 0.07139201637666326),\n",
       " ('Z2Pt', 0.06495223473217332),\n",
       " ('ZZMassErr', 0.06299044694643466),\n",
       " ('JetPt(JetPt|0)', 0.052882975093824634),\n",
       " ('ZZPhi', 0.04593142272262027),\n",
       " ('JetPhi(JetPt|0)', 0.043884339815762535),\n",
       " ('JetEta(JetPt|0)', 0.041538723984988056),\n",
       " ('ZZPt', 0.041069600818833166),\n",
       " ('D_VBF1j_ggH_ME', 0.03693278744455817),\n",
       " ('ZZEta', 0.036335721596724664),\n",
       " ('Z1Pt', 0.03522688502217673),\n",
       " ('ExtraLepPt(ExtraLepPt|0)', 0.03501364721937905),\n",
       " ('D_WHh_ggH_ME', 0.019617877857386556),\n",
       " ('D_ZHh_ggH_ME', 0.01722961446605254),\n",
       " ('nCleanedJetsPt30BTagged_bTagSF', 0.015523712043671102),\n",
       " ('JetEta(JetPt|1)', 0.014883998635278062),\n",
       " ('JetPt(JetPt|1)', 0.013903104742408735),\n",
       " ('ExtraLepEta(ExtraLepPt|0)', 0.013689866939611054),\n",
       " ('D_VBF2j_ggH_ME', 0.013263391334015695),\n",
       " ('JetPhi(JetPt|1)', 0.01287956328897987),\n",
       " ('D_WHh_ZHh_ME', 0.011131013306038894),\n",
       " ('JetEta(JetPt|2)', 0.009851586489252814),\n",
       " ('JetPhi(JetPt|2)', 0.008060388945752303),\n",
       " ('ExtraLepPhi(ExtraLepPt|0)', 0.007420675537359263),\n",
       " ('Z2Flav', 0.007122142613442511),\n",
       " ('nCleanedJetsPt30', 0.004904469464346639),\n",
       " ('D_VBF2j_WHh_ME', 0.004605936540429887),\n",
       " ('D_VBF2j_ZHh_ME', 0.0037529853292391675),\n",
       " ('JetPt(JetPt|2)', 0.0028147389969293756),\n",
       " ('JetPhi(JetPt|3)', 0.0017911975435005118),\n",
       " ('Z1Flav', 0.001364721937905152),\n",
       " ('JetEta(JetPt|3)', 0.001364721937905152),\n",
       " ('nExtraLep', 0.0009382463323097919),\n",
       " ('JetPt(JetPt|3)', 0.000170590242238144)]"
      ]
     },
     "execution_count": 85,
     "metadata": {},
     "output_type": "execute_result"
    }
   ],
   "source": [
    "implist"
   ]
  },
  {
   "cell_type": "code",
   "execution_count": 86,
   "metadata": {
    "collapsed": false,
    "scrolled": false
   },
   "outputs": [],
   "source": [
    "%%capture\n",
    "fig, implist = plot_variables([(\"ZHh\", \"ZHMET\")])"
   ]
  },
  {
   "cell_type": "code",
   "execution_count": 87,
   "metadata": {
    "collapsed": true
   },
   "outputs": [],
   "source": [
    "impdict = {convert_varname(entry[0]): [entry[1]] for entry in implist}\n",
    "impdict[\"discriminant\"] = \"D_ZHh_ZHMET_ML\"\n",
    "df = df.append(pd.DataFrame.from_dict(impdict))"
   ]
  },
  {
   "cell_type": "code",
   "execution_count": 88,
   "metadata": {
    "collapsed": true
   },
   "outputs": [],
   "source": [
    "append_variables(confhandler, impdict, threshold_fscore)"
   ]
  },
  {
   "cell_type": "code",
   "execution_count": 89,
   "metadata": {
    "collapsed": false
   },
   "outputs": [
    {
     "data": {
      "text/plain": [
       "[('PFMET', 0.1385470719051149),\n",
       " ('ZZPt', 0.07209043736100815),\n",
       " ('Z1Pt', 0.06756856931060044),\n",
       " ('JetPt(JetPt|0)', 0.059191994069681245),\n",
       " ('Z1Mass', 0.05652335063009637),\n",
       " ('Z2Pt', 0.05337286879169755),\n",
       " ('ZZEta', 0.05018532246108228),\n",
       " ('JetEta(JetPt|0)', 0.04529280948851001),\n",
       " ('Z2Mass', 0.04525574499629355),\n",
       " ('ZZPhi', 0.04236471460340993),\n",
       " ('ZZMass', 0.041586360266864346),\n",
       " ('D_VBF1j_ggH_ME', 0.034655300222386956),\n",
       " ('D_WHh_ggH_ME', 0.0346182357301705),\n",
       " ('ZZMassErr', 0.031097108969607115),\n",
       " ('nCleanedJetsPt30BTagged_bTagSF', 0.02994810971089696),\n",
       " ('D_WHh_ZHh_ME', 0.029911045218680505),\n",
       " ('JetPhi(JetPt|0)', 0.027983691623424758),\n",
       " ('D_ZHh_ggH_ME', 0.024759080800593032),\n",
       " ('D_VBF2j_ggH_ME', 0.023387694588584137),\n",
       " ('JetPt(JetPt|2)', 0.016567828020756115),\n",
       " ('JetPhi(JetPt|1)', 0.01267605633802817),\n",
       " ('JetEta(JetPt|1)', 0.01200889547813195),\n",
       " ('JetPt(JetPt|1)', 0.011452928094885101),\n",
       " ('D_VBF2j_ZHh_ME', 0.007894736842105263),\n",
       " ('JetEta(JetPt|2)', 0.006745737583395107),\n",
       " ('nCleanedJetsPt30', 0.005374351371386212),\n",
       " ('JetPhi(JetPt|2)', 0.00385470719051149),\n",
       " ('D_VBF2j_WHh_ME', 0.0030022238695329873),\n",
       " ('JetEta(JetPt|3)', 0.0029651593773165306),\n",
       " ('nExtraLep', 0.002928094885100074),\n",
       " ('Z1Flav', 0.0023721275018532247),\n",
       " ('JetPhi(JetPt|3)', 0.0013713862120088955),\n",
       " ('JetPt(JetPt|3)', 0.001111934766493699),\n",
       " ('Z2Flav', 0.001111934766493699),\n",
       " ('ExtraLepPt(ExtraLepPt|0)', 0.00022238695329873981)]"
      ]
     },
     "execution_count": 89,
     "metadata": {},
     "output_type": "execute_result"
    }
   ],
   "source": [
    "implist"
   ]
  },
  {
   "cell_type": "code",
   "execution_count": 90,
   "metadata": {
    "collapsed": false,
    "scrolled": false
   },
   "outputs": [],
   "source": [
    "%%capture\n",
    "fig, implist = plot_variables([(\"ZHh\", \"ttHh\")])"
   ]
  },
  {
   "cell_type": "code",
   "execution_count": 91,
   "metadata": {
    "collapsed": true
   },
   "outputs": [],
   "source": [
    "impdict = {convert_varname(entry[0]): [entry[1]] for entry in implist}\n",
    "impdict[\"discriminant\"] = \"D_ZHh_ttHh_ML\"\n",
    "df = df.append(pd.DataFrame.from_dict(impdict))"
   ]
  },
  {
   "cell_type": "code",
   "execution_count": 92,
   "metadata": {
    "collapsed": true
   },
   "outputs": [],
   "source": [
    "append_variables(confhandler, impdict, threshold_fscore)"
   ]
  },
  {
   "cell_type": "code",
   "execution_count": 93,
   "metadata": {
    "collapsed": false
   },
   "outputs": [
    {
     "data": {
      "text/plain": [
       "[('nCleanedJetsPt30BTagged_bTagSF', 0.09411896997638593),\n",
       " ('JetPt(JetPt|0)', 0.069155515574047),\n",
       " ('nCleanedJetsPt30', 0.06072191611379737),\n",
       " ('PFMET', 0.05712358034409086),\n",
       " ('JetPt(JetPt|2)', 0.05150118070392443),\n",
       " ('JetPt(JetPt|1)', 0.05048914876869448),\n",
       " ('JetPt(JetPt|3)', 0.044754301135724726),\n",
       " ('ZZEta', 0.039919037445181604),\n",
       " ('Z1Pt', 0.03969414145957495),\n",
       " ('JetEta(JetPt|2)', 0.03946924547396829),\n",
       " ('D_VBF2j_ZHh_ME', 0.037445181603508376),\n",
       " ('ZZPt', 0.03362194984819521),\n",
       " ('D_WHh_ggH_ME', 0.03339705386258855),\n",
       " ('D_ZHh_ggH_ME', 0.02991116608568537),\n",
       " ('ExtraLepPhi(ExtraLepPt|0)', 0.025188350387945577),\n",
       " ('JetEta(JetPt|1)', 0.025188350387945577),\n",
       " ('Z1Mass', 0.02350163049589565),\n",
       " ('Z2Pt', 0.023276734510288992),\n",
       " ('D_WHh_ZHh_ME', 0.022826942539075676),\n",
       " ('D_VBF1j_ggH_ME', 0.021702462611042393),\n",
       " ('JetEta(JetPt|0)', 0.021365118632632407),\n",
       " ('D_VBF2j_WHh_ME', 0.019790846733385808),\n",
       " ('JetPhi(JetPt|2)', 0.015742718992465984),\n",
       " ('JetPhi(JetPt|3)', 0.014280895086022715),\n",
       " ('ExtraLepPt(ExtraLepPt|0)', 0.013718655122006072),\n",
       " ('ZZPhi', 0.01248172720116946),\n",
       " ('ZZMass', 0.012256831215562803),\n",
       " ('Z2Mass', 0.012031935229956145),\n",
       " ('ZZMassErr', 0.012031935229956145),\n",
       " ('JetPhi(JetPt|1)', 0.009445631395479591),\n",
       " ('nExtraLep', 0.009333183402676262),\n",
       " ('D_VBF2j_ggH_ME', 0.009333183402676262),\n",
       " ('JetPhi(JetPt|0)', 0.008883391431462948),\n",
       " ('JetEta(JetPt|3)', 0.005060159676149781),\n",
       " ('Z1Flav', 0.0005622399640166423),\n",
       " ('ExtraLepEta(ExtraLepPt|0)', 0.0005622399640166423),\n",
       " ('Z2Flav', 0.00011244799280332846)]"
      ]
     },
     "execution_count": 93,
     "metadata": {},
     "output_type": "execute_result"
    }
   ],
   "source": [
    "implist"
   ]
  },
  {
   "cell_type": "code",
   "execution_count": 94,
   "metadata": {
    "collapsed": false,
    "scrolled": false
   },
   "outputs": [],
   "source": [
    "%%capture\n",
    "fig, implist = plot_variables([(\"ZHh\", \"ttHl\")])"
   ]
  },
  {
   "cell_type": "code",
   "execution_count": 95,
   "metadata": {
    "collapsed": true
   },
   "outputs": [],
   "source": [
    "impdict = {convert_varname(entry[0]): [entry[1]] for entry in implist}\n",
    "impdict[\"discriminant\"] = \"D_ZHh_ttHl_ML\"\n",
    "df = df.append(pd.DataFrame.from_dict(impdict))"
   ]
  },
  {
   "cell_type": "code",
   "execution_count": 96,
   "metadata": {
    "collapsed": true
   },
   "outputs": [],
   "source": [
    "append_variables(confhandler, impdict, threshold_fscore)"
   ]
  },
  {
   "cell_type": "code",
   "execution_count": 97,
   "metadata": {
    "collapsed": false
   },
   "outputs": [
    {
     "data": {
      "text/plain": [
       "[('PFMET', 0.174284140969163),\n",
       " ('ExtraLepPt(ExtraLepPt|0)', 0.10545154185022027),\n",
       " ('D_VBF1j_ggH_ME', 0.057681718061674006),\n",
       " ('JetPt(JetPt|0)', 0.05506607929515418),\n",
       " ('ZZMass', 0.050798458149779735),\n",
       " ('nCleanedJetsPt30BTagged_bTagSF', 0.0483204845814978),\n",
       " ('nCleanedJetsPt30', 0.038821585903083704),\n",
       " ('D_VBF2j_ZHh_ME', 0.03579295154185022),\n",
       " ('ZZPt', 0.034691629955947136),\n",
       " ('Z2Pt', 0.03303964757709251),\n",
       " ('Z1Mass', 0.03180066079295154),\n",
       " ('D_VBF2j_WHh_ME', 0.029598017621145375),\n",
       " ('JetPt(JetPt|3)', 0.027946035242290748),\n",
       " ('ZZEta', 0.026156387665198236),\n",
       " ('JetPt(JetPt|2)', 0.0246420704845815),\n",
       " ('ZZPhi', 0.024229074889867842),\n",
       " ('Z1Pt', 0.021475770925110133),\n",
       " ('JetEta(JetPt|2)', 0.019823788546255508),\n",
       " ('ZZMassErr', 0.01486784140969163),\n",
       " ('JetEta(JetPt|0)', 0.014454845814977973),\n",
       " ('nExtraLep', 0.014317180616740088),\n",
       " ('ExtraLepPhi(ExtraLepPt|0)', 0.013215859030837005),\n",
       " ('JetEta(JetPt|1)', 0.01238986784140969),\n",
       " ('JetPhi(JetPt|3)', 0.01238986784140969),\n",
       " ('JetPt(JetPt|1)', 0.011426211453744494),\n",
       " ('D_ZHh_ggH_ME', 0.010600220264317181),\n",
       " ('JetPhi(JetPt|2)', 0.008672907488986784),\n",
       " ('JetPhi(JetPt|0)', 0.008535242290748899),\n",
       " ('D_VBF2j_ggH_ME', 0.00729625550660793),\n",
       " ('D_WHh_ggH_ME', 0.00729625550660793),\n",
       " ('ExtraLepEta(ExtraLepPt|0)', 0.006332599118942731),\n",
       " ('JetPhi(JetPt|1)', 0.005093612334801762),\n",
       " ('JetEta(JetPt|3)', 0.00454295154185022),\n",
       " ('D_WHh_ZHh_ME', 0.00454295154185022),\n",
       " ('Z2Mass', 0.0034416299559471364),\n",
       " ('Z2Flav', 0.0009636563876651982)]"
      ]
     },
     "execution_count": 97,
     "metadata": {},
     "output_type": "execute_result"
    }
   ],
   "source": [
    "implist"
   ]
  },
  {
   "cell_type": "code",
   "execution_count": 98,
   "metadata": {
    "collapsed": false,
    "scrolled": false
   },
   "outputs": [],
   "source": [
    "%%capture\n",
    "fig, implist = plot_variables([(\"ZHl\", \"ggH\")])"
   ]
  },
  {
   "cell_type": "code",
   "execution_count": 99,
   "metadata": {
    "collapsed": true
   },
   "outputs": [],
   "source": [
    "impdict = {convert_varname(entry[0]): [entry[1]] for entry in implist}\n",
    "impdict[\"discriminant\"] = \"D_ZHl_ggH_ML\"\n",
    "df = df.append(pd.DataFrame.from_dict(impdict))"
   ]
  },
  {
   "cell_type": "code",
   "execution_count": 100,
   "metadata": {
    "collapsed": true
   },
   "outputs": [],
   "source": [
    "append_variables(confhandler, impdict, threshold_fscore)"
   ]
  },
  {
   "cell_type": "code",
   "execution_count": 101,
   "metadata": {
    "collapsed": false
   },
   "outputs": [
    {
     "data": {
      "text/plain": [
       "[('ZZMass', 0.09064909861600531),\n",
       " ('Z1Mass', 0.07650273224043716),\n",
       " ('ZZMassErr', 0.07308104795464991),\n",
       " ('PFMET', 0.07160002042796589),\n",
       " ('ZZPt', 0.06593125989479598),\n",
       " ('Z2Pt', 0.06424595270925898),\n",
       " ('Z2Mass', 0.060007149788059856),\n",
       " ('Z1Pt', 0.05924110106736122),\n",
       " ('JetPt(JetPt|0)', 0.05362341044890455),\n",
       " ('ExtraLepPt(ExtraLepPt|0)', 0.05076349522496298),\n",
       " ('ZZPhi', 0.043000868188550125),\n",
       " ('JetEta(JetPt|0)', 0.03845564577907155),\n",
       " ('ExtraLepEta(ExtraLepPt|0)', 0.03625963944640213),\n",
       " ('D_VBF1j_ggH_ME', 0.031050508145651398),\n",
       " ('ZZEta', 0.02916092130126143),\n",
       " ('D_VBF2j_ggH_ME', 0.02507532812420203),\n",
       " ('JetPhi(JetPt|0)', 0.01950870742045861),\n",
       " ('D_ZHh_ggH_ME', 0.01685307185537),\n",
       " ('nCleanedJetsPt30BTagged_bTagSF', 0.014861345181553546),\n",
       " ('D_WHh_ggH_ME', 0.013993156631428425),\n",
       " ('JetEta(JetPt|1)', 0.008988304989530668),\n",
       " ('D_WHh_ZHh_ME', 0.007813696951126091),\n",
       " ('JetPhi(JetPt|2)', 0.007405137633420152),\n",
       " ('JetPt(JetPt|2)', 0.006588018998008273),\n",
       " ('JetEta(JetPt|2)', 0.005566620703743425),\n",
       " ('Z2Flav', 0.005413410959603697),\n",
       " ('JetPt(JetPt|1)', 0.004647362238905061),\n",
       " ('D_VBF2j_WHh_ME', 0.004034523262346152),\n",
       " ('ExtraLepPhi(ExtraLepPt|0)', 0.003115264797507788),\n",
       " ('JetPhi(JetPt|1)', 0.003115264797507788),\n",
       " ('D_VBF2j_ZHh_ME', 0.0027577753945150912),\n",
       " ('nCleanedJetsPt30', 0.0025534957356621213),\n",
       " ('nExtraLep', 0.001787447014963485),\n",
       " ('Z1Flav', 0.001174608038404576),\n",
       " ('JetPt(JetPt|3)', 0.0008681885501251213),\n",
       " ('JetEta(JetPt|3)', 0.0002042796588529697),\n",
       " ('JetPhi(JetPt|3)', 0.00010213982942648486)]"
      ]
     },
     "execution_count": 101,
     "metadata": {},
     "output_type": "execute_result"
    }
   ],
   "source": [
    "implist"
   ]
  },
  {
   "cell_type": "code",
   "execution_count": 102,
   "metadata": {
    "collapsed": false,
    "scrolled": false
   },
   "outputs": [],
   "source": [
    "%%capture\n",
    "fig, implist = plot_variables([(\"ZHl\", \"VBF\")])"
   ]
  },
  {
   "cell_type": "code",
   "execution_count": 103,
   "metadata": {
    "collapsed": true
   },
   "outputs": [],
   "source": [
    "impdict = {convert_varname(entry[0]): [entry[1]] for entry in implist}\n",
    "impdict[\"discriminant\"] = \"D_ZHl_VBF_ML\"\n",
    "df = df.append(pd.DataFrame.from_dict(impdict))"
   ]
  },
  {
   "cell_type": "code",
   "execution_count": 104,
   "metadata": {
    "collapsed": true
   },
   "outputs": [],
   "source": [
    "append_variables(confhandler, impdict, threshold_fscore)"
   ]
  },
  {
   "cell_type": "code",
   "execution_count": 105,
   "metadata": {
    "collapsed": false
   },
   "outputs": [
    {
     "data": {
      "text/plain": [
       "[('ZZMass', 0.08262193975405212),\n",
       " ('PFMET', 0.07972622315821143),\n",
       " ('JetEta(JetPt|0)', 0.06190064307472453),\n",
       " ('Z2Pt', 0.06065962167650709),\n",
       " ('ZZEta', 0.059155353315031405),\n",
       " ('ZZMassErr', 0.05667331051859652),\n",
       " ('Z2Mass', 0.04531608438945508),\n",
       " ('D_VBF2j_ggH_ME', 0.04505283742619683),\n",
       " ('Z1Mass', 0.044714377044864806),\n",
       " ('JetPt(JetPt|0)', 0.04422548982738521),\n",
       " ('Z1Pt', 0.03433492535068256),\n",
       " ('ExtraLepPt(ExtraLepPt|0)', 0.03380843142416607),\n",
       " ('ExtraLepEta(ExtraLepPt|0)', 0.0331691173705389),\n",
       " ('JetPhi(JetPt|0)', 0.03234176977172728),\n",
       " ('D_VBF1j_ggH_ME', 0.030987928246399156),\n",
       " ('ZZPhi', 0.028242638486706027),\n",
       " ('JetPt(JetPt|2)', 0.02519649505471776),\n",
       " ('ZZPt', 0.023541799857094505),\n",
       " ('D_ZHh_ggH_ME', 0.018577714264224738),\n",
       " ('JetEta(JetPt|1)', 0.018427287428077168),\n",
       " ('D_WHh_ZHh_ME', 0.01812643375578203),\n",
       " ('D_WHh_ggH_ME', 0.016622165394306346),\n",
       " ('JetEta(JetPt|2)', 0.015719604377420933),\n",
       " ('D_VBF2j_WHh_ME', 0.013387988417133616),\n",
       " ('JetPhi(JetPt|1)', 0.0115452596743259),\n",
       " ('JetPhi(JetPt|2)', 0.011319619420104546),\n",
       " ('nCleanedJetsPt30BTagged_bTagSF', 0.01101876574780941),\n",
       " ('ExtraLepPhi(ExtraLepPt|0)', 0.009928171185739536),\n",
       " ('D_VBF2j_ZHh_ME', 0.007859802188710466),\n",
       " ('nExtraLep', 0.007596555225452221),\n",
       " ('JetEta(JetPt|3)', 0.004249558121168817),\n",
       " ('JetPt(JetPt|1)', 0.0038358843217630024),\n",
       " ('JetPhi(JetPt|3)', 0.00327178368620962),\n",
       " ('nCleanedJetsPt30', 0.002444436087397992),\n",
       " ('Z2Flav', 0.002294009251250423),\n",
       " ('Z1Flav', 0.001278628107254334),\n",
       " ('JetPt(JetPt|3)', 0.000827347598811628)]"
      ]
     },
     "execution_count": 105,
     "metadata": {},
     "output_type": "execute_result"
    }
   ],
   "source": [
    "implist"
   ]
  },
  {
   "cell_type": "code",
   "execution_count": 106,
   "metadata": {
    "collapsed": false,
    "scrolled": false
   },
   "outputs": [],
   "source": [
    "%%capture\n",
    "fig, implist = plot_variables([(\"ZHl\", \"WHh\")])"
   ]
  },
  {
   "cell_type": "code",
   "execution_count": 107,
   "metadata": {
    "collapsed": true
   },
   "outputs": [],
   "source": [
    "impdict = {convert_varname(entry[0]): [entry[1]] for entry in implist}\n",
    "impdict[\"discriminant\"] = \"D_ZHl_WHh_ML\"\n",
    "df = df.append(pd.DataFrame.from_dict(impdict))"
   ]
  },
  {
   "cell_type": "code",
   "execution_count": 108,
   "metadata": {
    "collapsed": true
   },
   "outputs": [],
   "source": [
    "append_variables(confhandler, impdict, threshold_fscore)"
   ]
  },
  {
   "cell_type": "code",
   "execution_count": 109,
   "metadata": {
    "collapsed": false
   },
   "outputs": [
    {
     "data": {
      "text/plain": [
       "[('PFMET', 0.08599895123230204),\n",
       " ('ZZMass', 0.08123579793742353),\n",
       " ('Z1Mass', 0.07096661422828177),\n",
       " ('ZZMassErr', 0.06851948959972033),\n",
       " ('Z2Mass', 0.0681699003670687),\n",
       " ('JetPt(JetPt|0)', 0.05619646914875022),\n",
       " ('Z2Pt', 0.05256948085998951),\n",
       " ('ZZPt', 0.050646740080405525),\n",
       " ('ExtraLepPt(ExtraLepPt|0)', 0.04771893025694809),\n",
       " ('Z1Pt', 0.04758783429470372),\n",
       " ('JetEta(JetPt|0)', 0.04190700926411466),\n",
       " ('ZZEta', 0.03836741828351687),\n",
       " ('JetPhi(JetPt|0)', 0.03596399230903688),\n",
       " ('D_VBF1j_ggH_ME', 0.031856318825380175),\n",
       " ('ZZPhi', 0.02879741303967838),\n",
       " ('D_WHh_ZHh_ME', 0.02608809648662821),\n",
       " ('JetPhi(JetPt|1)', 0.01914001048767698),\n",
       " ('ExtraLepEta(ExtraLepPt|0)', 0.01743576297850026),\n",
       " ('nCleanedJetsPt30BTagged_bTagSF', 0.016955077783604264),\n",
       " ('JetEta(JetPt|1)', 0.01651809124278972),\n",
       " ('D_WHh_ggH_ME', 0.012803705645866107),\n",
       " ('D_ZHh_ggH_ME', 0.012672609683621744),\n",
       " ('D_VBF2j_ggH_ME', 0.011449047369341023),\n",
       " ('JetPhi(JetPt|2)', 0.00987589582240867),\n",
       " ('JetPt(JetPt|1)', 0.00865233350812795),\n",
       " ('nExtraLep', 0.0058119209928334204),\n",
       " ('ExtraLepPhi(ExtraLepPt|0)', 0.00550603041426324),\n",
       " ('JetEta(JetPt|2)', 0.004850550603041426),\n",
       " ('Z2Flav', 0.00467575598671561),\n",
       " ('D_VBF2j_ZHh_ME', 0.004151372137738158),\n",
       " ('JetPt(JetPt|2)', 0.0040202761754937946),\n",
       " ('D_VBF2j_WHh_ME', 0.003626988288760706),\n",
       " ('Z1Flav', 0.003452193672434889),\n",
       " ('nCleanedJetsPt30', 0.0027967138612130745),\n",
       " ('JetPhi(JetPt|3)', 0.001485754238769446),\n",
       " ('JetEta(JetPt|3)', 0.0011798636601992659),\n",
       " ('JetPt(JetPt|3)', 0.0003495892326516343)]"
      ]
     },
     "execution_count": 109,
     "metadata": {},
     "output_type": "execute_result"
    }
   ],
   "source": [
    "implist"
   ]
  },
  {
   "cell_type": "code",
   "execution_count": 110,
   "metadata": {
    "collapsed": false,
    "scrolled": false
   },
   "outputs": [],
   "source": [
    "%%capture\n",
    "fig, implist = plot_variables([(\"ZHl\", \"ZHMET\")])"
   ]
  },
  {
   "cell_type": "code",
   "execution_count": 111,
   "metadata": {
    "collapsed": true
   },
   "outputs": [],
   "source": [
    "impdict = {convert_varname(entry[0]): [entry[1]] for entry in implist}\n",
    "impdict[\"discriminant\"] = \"D_ZHl_ZHMET_ML\"\n",
    "df = df.append(pd.DataFrame.from_dict(impdict))"
   ]
  },
  {
   "cell_type": "code",
   "execution_count": 112,
   "metadata": {
    "collapsed": true
   },
   "outputs": [],
   "source": [
    "append_variables(confhandler, impdict, threshold_fscore)"
   ]
  },
  {
   "cell_type": "code",
   "execution_count": 113,
   "metadata": {
    "collapsed": false
   },
   "outputs": [
    {
     "data": {
      "text/plain": [
       "[('PFMET', 0.15825332920408794),\n",
       " ('ExtraLepPt(ExtraLepPt|0)', 0.10684422421802416),\n",
       " ('ZZMass', 0.10034066274388355),\n",
       " ('Z2Pt', 0.09135955404149891),\n",
       " ('Z1Mass', 0.08299783214617529),\n",
       " ('JetPt(JetPt|0)', 0.06890678228553732),\n",
       " ('Z2Mass', 0.05357695881077733),\n",
       " ('Z1Pt', 0.05094456488076804),\n",
       " ('ZZMassErr', 0.03638897491483432),\n",
       " ('ZZPt', 0.03174357386187674),\n",
       " ('JetEta(JetPt|0)', 0.02322700526478786),\n",
       " ('D_ZHh_ggH_ME', 0.020749458036543822),\n",
       " ('nExtraLep', 0.020594611334778568),\n",
       " ('D_VBF1j_ggH_ME', 0.018426757510065037),\n",
       " ('ZZPhi', 0.01610405698358625),\n",
       " ('ExtraLepEta(ExtraLepPt|0)', 0.014555589965933726),\n",
       " ('ZZEta', 0.013471663053576959),\n",
       " ('D_WHh_ggH_ME', 0.010065035614741405),\n",
       " ('D_VBF2j_ggH_ME', 0.009910188912976153),\n",
       " ('JetPt(JetPt|1)', 0.009910188912976153),\n",
       " ('D_WHh_ZHh_ME', 0.008516568597088882),\n",
       " ('JetEta(JetPt|1)', 0.00836172189532363),\n",
       " ('JetPt(JetPt|2)', 0.00712294828120161),\n",
       " ('nCleanedJetsPt30', 0.006968101579436358),\n",
       " ('JetPhi(JetPt|0)', 0.006813254877671105),\n",
       " ('JetPhi(JetPt|2)', 0.004955094456488077),\n",
       " ('Z2Flav', 0.004026014245896562),\n",
       " ('D_VBF2j_ZHh_ME', 0.003561474140600805),\n",
       " ('JetPhi(JetPt|1)', 0.0032517807370703003),\n",
       " ('D_VBF2j_WHh_ME', 0.002787240631774543),\n",
       " ('JetEta(JetPt|2)', 0.002787240631774543),\n",
       " ('nCleanedJetsPt30BTagged_bTagSF', 0.0024775472282440383)]"
      ]
     },
     "execution_count": 113,
     "metadata": {},
     "output_type": "execute_result"
    }
   ],
   "source": [
    "implist"
   ]
  },
  {
   "cell_type": "code",
   "execution_count": 114,
   "metadata": {
    "collapsed": false,
    "scrolled": false
   },
   "outputs": [],
   "source": [
    "%%capture\n",
    "fig, implist = plot_variables([(\"ZHl\", \"ttHh\")])"
   ]
  },
  {
   "cell_type": "code",
   "execution_count": 115,
   "metadata": {
    "collapsed": true
   },
   "outputs": [],
   "source": [
    "impdict = {convert_varname(entry[0]): [entry[1]] for entry in implist}\n",
    "impdict[\"discriminant\"] = \"D_ZHl_ttHh_ML\"\n",
    "df = df.append(pd.DataFrame.from_dict(impdict))"
   ]
  },
  {
   "cell_type": "code",
   "execution_count": 116,
   "metadata": {
    "collapsed": true
   },
   "outputs": [],
   "source": [
    "append_variables(confhandler, impdict, threshold_fscore)"
   ]
  },
  {
   "cell_type": "code",
   "execution_count": 117,
   "metadata": {
    "collapsed": false
   },
   "outputs": [
    {
     "data": {
      "text/plain": [
       "[('JetPt(JetPt|0)', 0.1014554794520548),\n",
       " ('nCleanedJetsPt30BTagged_bTagSF', 0.09653253424657535),\n",
       " ('ZZMass', 0.09310787671232877),\n",
       " ('ExtraLepPt(ExtraLepPt|0)', 0.0819777397260274),\n",
       " ('Z2Pt', 0.06142979452054795),\n",
       " ('JetPt(JetPt|1)', 0.05950342465753425),\n",
       " ('Z2Mass', 0.0526541095890411),\n",
       " ('nCleanedJetsPt30', 0.05008561643835616),\n",
       " ('JetPhi(JetPt|2)', 0.04366438356164384),\n",
       " ('JetPt(JetPt|2)', 0.04023972602739726),\n",
       " ('D_ZHh_ggH_ME', 0.03617294520547945),\n",
       " ('D_WHh_ggH_ME', 0.03595890410958904),\n",
       " ('Z1Mass', 0.0331763698630137),\n",
       " ('JetEta(JetPt|1)', 0.030607876712328768),\n",
       " ('ZZPt', 0.021618150684931507),\n",
       " ('JetEta(JetPt|0)', 0.02011986301369863),\n",
       " ('JetPhi(JetPt|3)', 0.019263698630136987),\n",
       " ('PFMET', 0.016267123287671232),\n",
       " ('nExtraLep', 0.014982876712328766),\n",
       " ('D_VBF2j_ZHh_ME', 0.014126712328767123),\n",
       " ('ZZMassErr', 0.0136986301369863),\n",
       " ('JetPt(JetPt|3)', 0.0136986301369863),\n",
       " ('JetPhi(JetPt|0)', 0.006635273972602739),\n",
       " ('ExtraLepPt(ExtraLepPt|1)', 0.006421232876712328),\n",
       " ('ExtraLepEta(ExtraLepPt|0)', 0.005779109589041096),\n",
       " ('ExtraLepPhi(ExtraLepPt|0)', 0.004922945205479452),\n",
       " ('Z1Pt', 0.00449486301369863),\n",
       " ('ZZPhi', 0.004280821917808219),\n",
       " ('JetPhi(JetPt|1)', 0.004280821917808219),\n",
       " ('D_WHh_ZHh_ME', 0.004066780821917808),\n",
       " ('D_VBF2j_WHh_ME', 0.0021404109589041095),\n",
       " ('D_VBF1j_ggH_ME', 0.0017123287671232876),\n",
       " ('JetEta(JetPt|2)', 0.0014982876712328766),\n",
       " ('Z2Flav', 0.0012842465753424657),\n",
       " ('ZZEta', 0.0010702054794520547),\n",
       " ('ExtraLepPhi(ExtraLepPt|1)', 0.0008561643835616438),\n",
       " ('D_VBF2j_ggH_ME', 0.00021404109589041095)]"
      ]
     },
     "execution_count": 117,
     "metadata": {},
     "output_type": "execute_result"
    }
   ],
   "source": [
    "implist"
   ]
  },
  {
   "cell_type": "code",
   "execution_count": 118,
   "metadata": {
    "collapsed": false,
    "scrolled": false
   },
   "outputs": [],
   "source": [
    "%%capture\n",
    "fig, implist = plot_variables([(\"ZHl\", \"ttHl\")])"
   ]
  },
  {
   "cell_type": "code",
   "execution_count": 119,
   "metadata": {
    "collapsed": true
   },
   "outputs": [],
   "source": [
    "impdict = {convert_varname(entry[0]): [entry[1]] for entry in implist}\n",
    "impdict[\"discriminant\"] = \"D_ZHl_ttHl_ML\"\n",
    "df = df.append(pd.DataFrame.from_dict(impdict))"
   ]
  },
  {
   "cell_type": "code",
   "execution_count": 120,
   "metadata": {
    "collapsed": true
   },
   "outputs": [],
   "source": [
    "append_variables(confhandler, impdict, threshold_fscore)"
   ]
  },
  {
   "cell_type": "code",
   "execution_count": 121,
   "metadata": {
    "collapsed": false
   },
   "outputs": [
    {
     "data": {
      "text/plain": [
       "[('PFMET', 0.11702717692734331),\n",
       " ('JetPt(JetPt|0)', 0.06898995501324952),\n",
       " ('Z2Pt', 0.05712701053799223),\n",
       " ('ZZMass', 0.053121340974918344),\n",
       " ('Z2Mass', 0.05151907314968879),\n",
       " ('Z1Mass', 0.050132495224009366),\n",
       " ('ExtraLepPt(ExtraLepPt|0)', 0.039163123189745484),\n",
       " ('JetEta(JetPt|0)', 0.03617427743883651),\n",
       " ('ZZPt', 0.035095827941085844),\n",
       " ('JetPhi(JetPt|0)', 0.032599987674862885),\n",
       " ('ZZEta', 0.03152153817711222),\n",
       " ('Z1Pt', 0.031244222591976335),\n",
       " ('ZZPhi', 0.027885622727552843),\n",
       " ('ExtraLepPhi(ExtraLepPt|0)', 0.027330991557281074),\n",
       " ('ZZMassErr', 0.027084488814938065),\n",
       " ('JetPt(JetPt|1)', 0.021230048684291614),\n",
       " ('D_VBF1j_ggH_ME', 0.02070623035681272),\n",
       " ('nExtraLep', 0.019504529487890554),\n",
       " ('D_WHh_ggH_ME', 0.01922721390275467),\n",
       " ('D_VBF2j_ggH_ME', 0.018210390090589758),\n",
       " ('nCleanedJetsPt30BTagged_bTagSF', 0.017286004806803475),\n",
       " ('nExtraZ', 0.017039502064460466),\n",
       " ('JetEta(JetPt|1)', 0.015313982868059408),\n",
       " ('JetPhi(JetPt|2)', 0.01482097738337339),\n",
       " ('JetPhi(JetPt|3)', 0.013434399457693967),\n",
       " ('nCleanedJetsPt30', 0.01294139397300795),\n",
       " ('ExtraLepEta(ExtraLepPt|0)', 0.012818142601836445),\n",
       " ('D_VBF2j_WHh_ME', 0.012263511431564676),\n",
       " ('D_WHh_ZHh_ME', 0.0122326985887718),\n",
       " ('JetPhi(JetPt|1)', 0.011647254575707155),\n",
       " ('D_ZHh_ggH_ME', 0.010876933505885252),\n",
       " ('JetPt(JetPt|2)', 0.01050717939237074),\n",
       " ('ExtraLepPt(ExtraLepPt|1)', 0.009983361064891847),\n",
       " ('ExtraLepPhi(ExtraLepPt|1)', 0.00989092253651322),\n",
       " ('JetEta(JetPt|2)', 0.008350280396869416),\n",
       " ('D_VBF2j_ZHh_ME', 0.006717199728846984),\n",
       " ('JetEta(JetPt|3)', 0.0058544401306464535),\n",
       " ('JetPt(JetPt|3)', 0.0056387502310963206),\n",
       " ('ExtraLepEta(ExtraLepPt|1)', 0.0031737228076662355),\n",
       " ('Z1Flav', 0.0028347815369445984),\n",
       " ('Z2Flav', 0.0014790164540580515)]"
      ]
     },
     "execution_count": 121,
     "metadata": {},
     "output_type": "execute_result"
    }
   ],
   "source": [
    "implist"
   ]
  },
  {
   "cell_type": "code",
   "execution_count": 122,
   "metadata": {
    "collapsed": false,
    "scrolled": false
   },
   "outputs": [],
   "source": [
    "%%capture\n",
    "fig, implist = plot_variables([(\"ZHMET\", \"ggH\")])"
   ]
  },
  {
   "cell_type": "code",
   "execution_count": 123,
   "metadata": {
    "collapsed": true
   },
   "outputs": [],
   "source": [
    "impdict = {convert_varname(entry[0]): [entry[1]] for entry in implist}\n",
    "impdict[\"discriminant\"] = \"D_ZHMET_ggH_ML\"\n",
    "df = df.append(pd.DataFrame.from_dict(impdict))"
   ]
  },
  {
   "cell_type": "code",
   "execution_count": 124,
   "metadata": {
    "collapsed": true
   },
   "outputs": [],
   "source": [
    "append_variables(confhandler, impdict, threshold_fscore)"
   ]
  },
  {
   "cell_type": "code",
   "execution_count": 125,
   "metadata": {
    "collapsed": false
   },
   "outputs": [
    {
     "data": {
      "text/plain": [
       "[('ZZPt', 0.13906202983278168),\n",
       " ('PFMET', 0.13020676610927223),\n",
       " ('ZZPhi', 0.08017022739973348),\n",
       " ('Z2Pt', 0.06985341529467394),\n",
       " ('JetPt(JetPt|0)', 0.0665004513605296),\n",
       " ('Z1Pt', 0.06516786313029274),\n",
       " ('ZZMass', 0.06314748742638525),\n",
       " ('D_VBF1j_ggH_ME', 0.05712934703176718),\n",
       " ('ZZMassErr', 0.052701715170012466),\n",
       " ('Z2Mass', 0.05093925976873146),\n",
       " ('Z1Mass', 0.05081029961741822),\n",
       " ('ZZEta', 0.048489016893779824),\n",
       " ('JetPhi(JetPt|0)', 0.025491123242917937),\n",
       " ('JetEta(JetPt|0)', 0.02050466405880583),\n",
       " ('D_VBF2j_ggH_ME', 0.012638094828697932),\n",
       " ('JetPt(JetPt|1)', 0.01134849331556549),\n",
       " ('D_WHh_ZHh_ME', 0.009285130894553583),\n",
       " ('JetEta(JetPt|1)', 0.008124489532734385),\n",
       " ('D_VBF2j_WHh_ME', 0.007307741907750505),\n",
       " ('nCleanedJetsPt30', 0.005330352920947427),\n",
       " ('JetPhi(JetPt|1)', 0.005158406052529769),\n",
       " ('D_WHh_ggH_ME', 0.0044706185788591325),\n",
       " ('D_VBF2j_ZHh_ME', 0.004040751407814985),\n",
       " ('nCleanedJetsPt30BTagged_bTagSF', 0.0037828311051884968),\n",
       " ('Z1Flav', 0.00245024287495164),\n",
       " ('Z2Flav', 0.0019344022696986631),\n",
       " ('D_ZHh_ggH_ME', 0.0011176546447147831),\n",
       " ('JetPt(JetPt|2)', 0.0008597343420882947),\n",
       " ('JetEta(JetPt|2)', 0.0008597343420882947),\n",
       " ('JetPhi(JetPt|3)', 0.0005588273223573916),\n",
       " ('JetEta(JetPt|3)', 0.0005158406052529768),\n",
       " ('JetPhi(JetPt|2)', 4.2986717104414733e-05)]"
      ]
     },
     "execution_count": 125,
     "metadata": {},
     "output_type": "execute_result"
    }
   ],
   "source": [
    "implist"
   ]
  },
  {
   "cell_type": "code",
   "execution_count": 126,
   "metadata": {
    "collapsed": false,
    "scrolled": false
   },
   "outputs": [],
   "source": [
    "%%capture\n",
    "fig, implist = plot_variables([(\"ZHMET\", \"VBF\")])"
   ]
  },
  {
   "cell_type": "code",
   "execution_count": 127,
   "metadata": {
    "collapsed": true
   },
   "outputs": [],
   "source": [
    "impdict = {convert_varname(entry[0]): [entry[1]] for entry in implist}\n",
    "impdict[\"discriminant\"] = \"D_ZHMET_VBF_ML\"\n",
    "df = df.append(pd.DataFrame.from_dict(impdict))"
   ]
  },
  {
   "cell_type": "code",
   "execution_count": 128,
   "metadata": {
    "collapsed": true
   },
   "outputs": [],
   "source": [
    "append_variables(confhandler, impdict, threshold_fscore)"
   ]
  },
  {
   "cell_type": "code",
   "execution_count": 129,
   "metadata": {
    "collapsed": false
   },
   "outputs": [
    {
     "data": {
      "text/plain": [
       "[('PFMET', 0.14772507260406584),\n",
       " ('JetPt(JetPt|0)', 0.08120038722168442),\n",
       " ('ZZPt', 0.07887705711519845),\n",
       " ('Z1Pt', 0.07546950629235237),\n",
       " ('D_VBF1j_ggH_ME', 0.06846079380445305),\n",
       " ('ZZEta', 0.06609874152952565),\n",
       " ('ZZMassErr', 0.05424975798644724),\n",
       " ('Z2Pt', 0.0461568247821878),\n",
       " ('Z2Mass', 0.044220716360116166),\n",
       " ('JetEta(JetPt|0)', 0.042478218780251695),\n",
       " ('ZZPhi', 0.039767666989351406),\n",
       " ('Z1Mass', 0.038489835430784124),\n",
       " ('D_VBF2j_ggH_ME', 0.032642787996127784),\n",
       " ('ZZMass', 0.032333010648596325),\n",
       " ('JetPhi(JetPt|1)', 0.02633107454017425),\n",
       " ('JetPhi(JetPt|0)', 0.022536302032913843),\n",
       " ('JetPt(JetPt|1)', 0.021529525653436594),\n",
       " ('D_VBF2j_ZHh_ME', 0.014908034849951598),\n",
       " ('D_WHh_ZHh_ME', 0.01339787028073572),\n",
       " ('JetEta(JetPt|1)', 0.012352371732817037),\n",
       " ('D_WHh_ggH_ME', 0.011848983543078413),\n",
       " ('D_VBF2j_WHh_ME', 0.00968054211035818),\n",
       " ('JetPhi(JetPt|2)', 0.006195546950629236),\n",
       " ('Z1Flav', 0.0027105517909002904),\n",
       " ('nCleanedJetsPt30', 0.0026718296224588576),\n",
       " ('D_ZHh_ggH_ME', 0.002323330106485963),\n",
       " ('JetEta(JetPt|2)', 0.002052274927395934),\n",
       " ('Z2Flav', 0.001548886737657309),\n",
       " ('JetPt(JetPt|2)', 0.001084220716360116),\n",
       " ('nCleanedJetsPt30BTagged_bTagSF', 0.0006582768635043562)]"
      ]
     },
     "execution_count": 129,
     "metadata": {},
     "output_type": "execute_result"
    }
   ],
   "source": [
    "implist"
   ]
  },
  {
   "cell_type": "code",
   "execution_count": 130,
   "metadata": {
    "collapsed": false,
    "scrolled": false
   },
   "outputs": [],
   "source": [
    "%%capture\n",
    "fig, implist = plot_variables([(\"ZHMET\", \"WHh\")])"
   ]
  },
  {
   "cell_type": "code",
   "execution_count": 131,
   "metadata": {
    "collapsed": true
   },
   "outputs": [],
   "source": [
    "impdict = {convert_varname(entry[0]): [entry[1]] for entry in implist}\n",
    "impdict[\"discriminant\"] = \"D_ZHMET_WHh_ML\"\n",
    "df = df.append(pd.DataFrame.from_dict(impdict))"
   ]
  },
  {
   "cell_type": "code",
   "execution_count": 132,
   "metadata": {
    "collapsed": true
   },
   "outputs": [],
   "source": [
    "append_variables(confhandler, impdict, threshold_fscore)"
   ]
  },
  {
   "cell_type": "code",
   "execution_count": 133,
   "metadata": {
    "collapsed": false
   },
   "outputs": [
    {
     "data": {
      "text/plain": [
       "[('PFMET', 0.1418257034695391),\n",
       " ('ZZPt', 0.08375287827342622),\n",
       " ('JetPt(JetPt|0)', 0.0681028763220544),\n",
       " ('Z1Pt', 0.06646372399797057),\n",
       " ('Z2Mass', 0.0490574874136518),\n",
       " ('JetEta(JetPt|0)', 0.04890137766850096),\n",
       " ('ZZPhi', 0.04843304843304843),\n",
       " ('D_WHh_ZHh_ME', 0.04636459430979979),\n",
       " ('ZZEta', 0.04476446942200367),\n",
       " ('D_VBF1j_ggH_ME', 0.04468641454942825),\n",
       " ('D_WHh_ggH_ME', 0.04300823478905671),\n",
       " ('Z1Mass', 0.04199352144557624),\n",
       " ('ZZMass', 0.04062756117550638),\n",
       " ('Z2Pt', 0.038793271669983996),\n",
       " ('ZZMassErr', 0.03590524138469344),\n",
       " ('JetPhi(JetPt|0)', 0.03141708621160676),\n",
       " ('JetPhi(JetPt|1)', 0.0182648401826484),\n",
       " ('D_ZHh_ggH_ME', 0.015610974515084104),\n",
       " ('JetPt(JetPt|1)', 0.014479178862740506),\n",
       " ('D_VBF2j_ggH_ME', 0.012957108847519806),\n",
       " ('JetPt(JetPt|2)', 0.011591148577449948),\n",
       " ('JetEta(JetPt|1)', 0.010303243179955509),\n",
       " ('JetPt(JetPt|3)', 0.007102993404363267),\n",
       " ('D_VBF2j_ZHh_ME', 0.006205362369745932),\n",
       " ('Z2Flav', 0.005619950825430277),\n",
       " ('nCleanedJetsPt30', 0.0053077313351285954),\n",
       " ('D_VBF2j_WHh_ME', 0.005112594153690044),\n",
       " ('JetEta(JetPt|2)', 0.004605237481949811),\n",
       " ('Z1Flav', 0.0029660851578659797),\n",
       " ('JetPhi(JetPt|2)', 0.002341646177262616),\n",
       " ('nCleanedJetsPt30BTagged_bTagSF', 0.0023026187409749053),\n",
       " ('JetEta(JetPt|3)', 0.0007024938531787847),\n",
       " ('JetPhi(JetPt|3)', 0.0004293017991648129)]"
      ]
     },
     "execution_count": 133,
     "metadata": {},
     "output_type": "execute_result"
    }
   ],
   "source": [
    "implist"
   ]
  },
  {
   "cell_type": "code",
   "execution_count": 134,
   "metadata": {
    "collapsed": false,
    "scrolled": false
   },
   "outputs": [],
   "source": [
    "%%capture\n",
    "fig, implist = plot_variables([(\"ZHMET\", \"ttHh\")])"
   ]
  },
  {
   "cell_type": "code",
   "execution_count": 135,
   "metadata": {
    "collapsed": true
   },
   "outputs": [],
   "source": [
    "impdict = {convert_varname(entry[0]): [entry[1]] for entry in implist}\n",
    "impdict[\"discriminant\"] = \"D_ZHMET_ttHh_ML\"\n",
    "df = df.append(pd.DataFrame.from_dict(impdict))"
   ]
  },
  {
   "cell_type": "code",
   "execution_count": 136,
   "metadata": {
    "collapsed": true
   },
   "outputs": [],
   "source": [
    "append_variables(confhandler, impdict, threshold_fscore)"
   ]
  },
  {
   "cell_type": "code",
   "execution_count": 137,
   "metadata": {
    "collapsed": false
   },
   "outputs": [
    {
     "data": {
      "text/plain": [
       "[('PFMET', 0.2309924550203134),\n",
       " ('nCleanedJetsPt30BTagged_bTagSF', 0.09866511897852583),\n",
       " ('JetPt(JetPt|0)', 0.09112013929193268),\n",
       " ('JetEta(JetPt|0)', 0.06442251886244922),\n",
       " ('nCleanedJetsPt30', 0.0641323273360418),\n",
       " ('JetPt(JetPt|2)', 0.05310504933255949),\n",
       " ('JetPt(JetPt|1)', 0.04381892048752176),\n",
       " ('D_WHh_ggH_ME', 0.04323853743470691),\n",
       " ('ExtraLepPt(ExtraLepPt|0)', 0.0351131746952989),\n",
       " ('JetPt(JetPt|3)', 0.03366221706326175),\n",
       " ('D_VBF2j_ggH_ME', 0.02959953569355775),\n",
       " ('JetEta(JetPt|2)', 0.02959953569355775),\n",
       " ('Z1Pt', 0.028728961114335462),\n",
       " ('ZZEta', 0.02640742890307603),\n",
       " ('D_ZHh_ggH_ME', 0.020023215322112594),\n",
       " ('ZZPt', 0.01857225769007545),\n",
       " ('Z2Mass', 0.013348810214741729),\n",
       " ('D_WHh_ZHh_ME', 0.012768427161926872),\n",
       " ('Z2Pt', 0.012768427161926872),\n",
       " ('ZZMassErr', 0.011607661056297156),\n",
       " ('JetPhi(JetPt|0)', 0.009576320371445153),\n",
       " ('ZZPhi', 0.009286128845037725),\n",
       " ('JetPhi(JetPt|1)', 0.006964596633778294),\n",
       " ('D_VBF2j_WHh_ME', 0.005513639001741149),\n",
       " ('ZZMass', 0.0046430644225188625),\n",
       " ('Z1Mass', 0.0011607661056297156),\n",
       " ('JetPhi(JetPt|2)', 0.0005803830528148578),\n",
       " ('JetEta(JetPt|1)', 0.0005803830528148578)]"
      ]
     },
     "execution_count": 137,
     "metadata": {},
     "output_type": "execute_result"
    }
   ],
   "source": [
    "implist"
   ]
  },
  {
   "cell_type": "code",
   "execution_count": 138,
   "metadata": {
    "collapsed": false,
    "scrolled": false
   },
   "outputs": [],
   "source": [
    "%%capture\n",
    "fig, implist = plot_variables([(\"ZHMET\", \"ttHl\")])"
   ]
  },
  {
   "cell_type": "code",
   "execution_count": 139,
   "metadata": {
    "collapsed": true
   },
   "outputs": [],
   "source": [
    "impdict = {convert_varname(entry[0]): [entry[1]] for entry in implist}\n",
    "impdict[\"discriminant\"] = \"D_ZHMET_ttHl_ML\"\n",
    "df = df.append(pd.DataFrame.from_dict(impdict))"
   ]
  },
  {
   "cell_type": "code",
   "execution_count": 140,
   "metadata": {
    "collapsed": true
   },
   "outputs": [],
   "source": [
    "append_variables(confhandler, impdict, threshold_fscore)"
   ]
  },
  {
   "cell_type": "code",
   "execution_count": 141,
   "metadata": {
    "collapsed": false
   },
   "outputs": [
    {
     "data": {
      "text/plain": [
       "[('ZZMass', 0.08970001477759716),\n",
       " ('PFMET', 0.07071080242352594),\n",
       " ('JetPt(JetPt|0)', 0.06849416284912073),\n",
       " ('ExtraLepPt(ExtraLepPt|0)', 0.0538643416580464),\n",
       " ('Z1Mass', 0.050391606324811586),\n",
       " ('nCleanedJetsPt30BTagged_bTagSF', 0.05031771833899808),\n",
       " ('JetEta(JetPt|0)', 0.04913551056598197),\n",
       " ('nExtraLep', 0.043224471700901435),\n",
       " ('Z2Mass', 0.03679621693512635),\n",
       " ('JetPt(JetPt|3)', 0.03450568937490764),\n",
       " ('JetPhi(JetPt|0)', 0.0340623614600266),\n",
       " ('D_VBF1j_ggH_ME', 0.03354514555933205),\n",
       " ('ZZEta', 0.03324959361607802),\n",
       " ('nCleanedJetsPt30', 0.032215161814688933),\n",
       " ('Z1Pt', 0.029629082311216196),\n",
       " ('ZZMassErr', 0.029185754396335157),\n",
       " ('ZZPt', 0.027264666765183982),\n",
       " ('Z2Pt', 0.025565243091473327),\n",
       " ('ZZPhi', 0.0252696911482193),\n",
       " ('D_VBF2j_ggH_ME', 0.024678587261711245),\n",
       " ('JetPt(JetPt|2)', 0.020393084084527856),\n",
       " ('JetPt(JetPt|1)', 0.019580316240579283),\n",
       " ('D_WHh_ZHh_ME', 0.01802866853849564),\n",
       " ('D_ZHh_ggH_ME', 0.017954780552682133),\n",
       " ('D_WHh_ggH_ME', 0.015516477020836411),\n",
       " ('JetPhi(JetPt|1)', 0.013595389389685237),\n",
       " ('JetEta(JetPt|2)', 0.011600413772720556),\n",
       " ('Z2Flav', 0.010935421900398996),\n",
       " ('JetEta(JetPt|1)', 0.009827102113196394),\n",
       " ('D_VBF2j_ZHh_ME', 0.006871582680656125),\n",
       " ('D_VBF2j_WHh_ME', 0.004876607063691443),\n",
       " ('JetPhi(JetPt|2)', 0.004433279148810403),\n",
       " ('JetEta(JetPt|3)', 0.002733855475099749),\n",
       " ('JetPhi(JetPt|3)', 0.0011822077730161075),\n",
       " ('Z1Flav', 0.0005911038865080538),\n",
       " ('ExtraLepPhi(ExtraLepPt|0)', 7.388798581350672e-05)]"
      ]
     },
     "execution_count": 141,
     "metadata": {},
     "output_type": "execute_result"
    }
   ],
   "source": [
    "implist"
   ]
  },
  {
   "cell_type": "code",
   "execution_count": 142,
   "metadata": {
    "collapsed": false,
    "scrolled": false
   },
   "outputs": [],
   "source": [
    "%%capture\n",
    "fig, implist = plot_variables([(\"ttHh\", \"ggH\")])"
   ]
  },
  {
   "cell_type": "code",
   "execution_count": 143,
   "metadata": {
    "collapsed": true
   },
   "outputs": [],
   "source": [
    "impdict = {convert_varname(entry[0]): [entry[1]] for entry in implist}\n",
    "impdict[\"discriminant\"] = \"D_ttHh_ggH_ML\"\n",
    "df = df.append(pd.DataFrame.from_dict(impdict))"
   ]
  },
  {
   "cell_type": "code",
   "execution_count": 144,
   "metadata": {
    "collapsed": true
   },
   "outputs": [],
   "source": [
    "append_variables(confhandler, impdict, threshold_fscore)"
   ]
  },
  {
   "cell_type": "code",
   "execution_count": 145,
   "metadata": {
    "collapsed": false
   },
   "outputs": [
    {
     "data": {
      "text/plain": [
       "[('JetPt(JetPt|0)', 0.08638075180292297),\n",
       " ('JetPt(JetPt|1)', 0.05951241304486566),\n",
       " ('PFMET', 0.059480502903822834),\n",
       " ('Z1Pt', 0.0591614014933946),\n",
       " ('ZZPt', 0.0512476865147744),\n",
       " ('JetEta(JetPt|1)', 0.047227008743378644),\n",
       " ('JetEta(JetPt|0)', 0.044674197459952776),\n",
       " ('nCleanedJetsPt30BTagged_bTagSF', 0.04161082391984173),\n",
       " ('D_WHh_ggH_ME', 0.0380368881230455),\n",
       " ('D_VBF2j_ggH_ME', 0.03698385346863233),\n",
       " ('ZZEta', 0.03465441317250622),\n",
       " ('D_ZHh_ggH_ME', 0.03398430021060693),\n",
       " ('JetPt(JetPt|2)', 0.033633288659135875),\n",
       " ('Z2Pt', 0.029229689195226245),\n",
       " ('JetEta(JetPt|2)', 0.029006318207926478),\n",
       " ('JetPt(JetPt|3)', 0.028782947220626715),\n",
       " ('ZZPhi', 0.025974854808858257),\n",
       " ('JetPhi(JetPt|0)', 0.025209011423830495),\n",
       " ('D_VBF1j_ggH_ME', 0.024219797051502966),\n",
       " ('Z1Mass', 0.02252855957623333),\n",
       " ('JetPhi(JetPt|1)', 0.022209458165805093),\n",
       " ('Z2Mass', 0.02125215393452039),\n",
       " ('nCleanedJetsPt30', 0.019241815048822514),\n",
       " ('ZZMassErr', 0.018124960112323698),\n",
       " ('ZZMass', 0.017103835598953347),\n",
       " ('JetEta(JetPt|3)', 0.01394473163571383),\n",
       " ('D_WHh_ZHh_ME', 0.013178888250686069),\n",
       " ('JetPhi(JetPt|2)', 0.012955517263386304),\n",
       " ('ExtraLepPhi(ExtraLepPt|0)', 0.011455740634373605),\n",
       " ('D_VBF2j_ZHh_ME', 0.010753717531431489),\n",
       " ('D_VBF2j_WHh_ME', 0.008264726530091263),\n",
       " ('ExtraLepPt(ExtraLepPt|0)', 0.005009892143723276),\n",
       " ('JetPhi(JetPt|3)', 0.004946071861637628),\n",
       " ('nExtraLep', 0.003797306784095986),\n",
       " ('ExtraLepEta(ExtraLepPt|0)', 0.0035101155147105752),\n",
       " ('Z1Flav', 0.00140404620588423),\n",
       " ('Z2Flav', 0.0013083157827557597)]"
      ]
     },
     "execution_count": 145,
     "metadata": {},
     "output_type": "execute_result"
    }
   ],
   "source": [
    "implist"
   ]
  },
  {
   "cell_type": "code",
   "execution_count": 146,
   "metadata": {
    "collapsed": false,
    "scrolled": false
   },
   "outputs": [],
   "source": [
    "%%capture\n",
    "fig, implist = plot_variables([(\"ttHh\", \"VBF\")])"
   ]
  },
  {
   "cell_type": "code",
   "execution_count": 147,
   "metadata": {
    "collapsed": true
   },
   "outputs": [],
   "source": [
    "impdict = {convert_varname(entry[0]): [entry[1]] for entry in implist}\n",
    "impdict[\"discriminant\"] = \"D_ttHh_VBF_ML\"\n",
    "df = df.append(pd.DataFrame.from_dict(impdict))"
   ]
  },
  {
   "cell_type": "code",
   "execution_count": 148,
   "metadata": {
    "collapsed": true
   },
   "outputs": [],
   "source": [
    "append_variables(confhandler, impdict, threshold_fscore)"
   ]
  },
  {
   "cell_type": "code",
   "execution_count": 149,
   "metadata": {
    "collapsed": false
   },
   "outputs": [
    {
     "data": {
      "text/plain": [
       "[('JetEta(JetPt|2)', 0.08293745570982389),\n",
       " ('JetEta(JetPt|0)', 0.05734757617910291),\n",
       " ('D_VBF2j_ggH_ME', 0.054224298574840554),\n",
       " ('JetPt(JetPt|0)', 0.05222960027295871),\n",
       " ('JetPt(JetPt|1)', 0.045720584761554814),\n",
       " ('D_ZHh_ggH_ME', 0.043673394399097135),\n",
       " ('JetPt(JetPt|2)', 0.041468727854911944),\n",
       " ('JetEta(JetPt|1)', 0.03981522794677305),\n",
       " ('PFMET', 0.03881787879583213),\n",
       " ('nCleanedJetsPt30BTagged_bTagSF', 0.0355896170704181),\n",
       " ('D_WHh_ggH_ME', 0.03419857746515839),\n",
       " ('Z1Pt', 0.03301750610220204),\n",
       " ('ZZMass', 0.03167895855751818),\n",
       " ('JetPhi(JetPt|1)', 0.03128526810319939),\n",
       " ('ZZPt', 0.02981549040707593),\n",
       " ('JetPhi(JetPt|0)', 0.027190887378284033),\n",
       " ('ZZEta', 0.02679719692396525),\n",
       " ('ZZPhi', 0.026114800136479356),\n",
       " ('JetPt(JetPt|3)', 0.02448754625862838),\n",
       " ('Z2Mass', 0.021994173381276082),\n",
       " ('nCleanedJetsPt30', 0.021679221017821056),\n",
       " ('ZZMassErr', 0.021416760714941866),\n",
       " ('JetEta(JetPt|3)', 0.02086559407889557),\n",
       " ('JetPhi(JetPt|2)', 0.020419411564000945),\n",
       " ('D_VBF2j_ZHh_ME', 0.019894490958242566),\n",
       " ('Z1Mass', 0.019605784625075458),\n",
       " ('D_VBF2j_WHh_ME', 0.019264586231332512),\n",
       " ('Z2Pt', 0.018162252959239913),\n",
       " ('D_VBF1j_ggH_ME', 0.017322379990026508),\n",
       " ('D_WHh_ZHh_ME', 0.014750269021810451),\n",
       " ('JetPhi(JetPt|3)', 0.011810713629563529),\n",
       " ('ExtraLepPt(ExtraLepPt|0)', 0.009868507388257525),\n",
       " ('nExtraLep', 0.0028870633316710847),\n",
       " ('Z2Flav', 0.0017584840292905698),\n",
       " ('Z1Flav', 0.0012335634235321907),\n",
       " ('ExtraLepPhi(ExtraLepPt|0)', 0.0004199364846067032),\n",
       " ('ExtraLepEta(ExtraLepPt|0)', 0.00023621427259127057)]"
      ]
     },
     "execution_count": 149,
     "metadata": {},
     "output_type": "execute_result"
    }
   ],
   "source": [
    "implist"
   ]
  },
  {
   "cell_type": "code",
   "execution_count": 150,
   "metadata": {
    "collapsed": false,
    "scrolled": false
   },
   "outputs": [],
   "source": [
    "%%capture\n",
    "fig, implist = plot_variables([(\"ttHh\", \"WHh\")])"
   ]
  },
  {
   "cell_type": "code",
   "execution_count": 151,
   "metadata": {
    "collapsed": true
   },
   "outputs": [],
   "source": [
    "impdict = {convert_varname(entry[0]): [entry[1]] for entry in implist}\n",
    "impdict[\"discriminant\"] = \"D_ttHh_WHh_ML\"\n",
    "df = df.append(pd.DataFrame.from_dict(impdict))"
   ]
  },
  {
   "cell_type": "code",
   "execution_count": 152,
   "metadata": {
    "collapsed": true
   },
   "outputs": [],
   "source": [
    "append_variables(confhandler, impdict, threshold_fscore)"
   ]
  },
  {
   "cell_type": "code",
   "execution_count": 153,
   "metadata": {
    "collapsed": false
   },
   "outputs": [
    {
     "data": {
      "text/plain": [
       "[('PFMET', 0.06352825349120397),\n",
       " ('JetPt(JetPt|0)', 0.054252921211493124),\n",
       " ('JetPt(JetPt|1)', 0.05091069254087105),\n",
       " ('ZZEta', 0.04331942897116356),\n",
       " ('Z2Pt', 0.04142809026608286),\n",
       " ('nCleanedJetsPt30BTagged_bTagSF', 0.040961732777158845),\n",
       " ('Z1Pt', 0.03995129155115683),\n",
       " ('ZZPt', 0.0355468041557634),\n",
       " ('ZZMass', 0.035028629168070056),\n",
       " ('D_WHh_ggH_ME', 0.034303184185299374),\n",
       " ('JetPt(JetPt|2)', 0.03414773168899137),\n",
       " ('JetEta(JetPt|0)', 0.03342228670622069),\n",
       " ('D_WHh_ZHh_ME', 0.03212684923698733),\n",
       " ('JetPhi(JetPt|1)', 0.032023214239448664),\n",
       " ('ZZMassErr', 0.03181594424437133),\n",
       " ('JetEta(JetPt|1)', 0.03181594424437133),\n",
       " ('Z2Mass', 0.03062414177267663),\n",
       " ('JetPhi(JetPt|0)', 0.029484156799751277),\n",
       " ('Z1Mass', 0.029199160556519936),\n",
       " ('ZZPhi', 0.028965981812057933),\n",
       " ('D_VBF2j_ggH_ME', 0.02886234681451926),\n",
       " ('D_VBF2j_WHh_ME', 0.028136901831748582),\n",
       " ('JetEta(JetPt|2)', 0.02715236935513123),\n",
       " ('D_VBF2j_ZHh_ME', 0.02510557815374252),\n",
       " ('JetPt(JetPt|3)', 0.0242505894240485),\n",
       " ('JetEta(JetPt|3)', 0.01880975205326839),\n",
       " ('JetPhi(JetPt|2)', 0.01759204083218903),\n",
       " ('D_ZHh_ggH_ME', 0.01733295333834236),\n",
       " ('nCleanedJetsPt30', 0.017281135839573025),\n",
       " ('D_VBF1j_ggH_ME', 0.014197994662797626),\n",
       " ('ExtraLepPhi(ExtraLepPt|0)', 0.006762183589398139),\n",
       " ('JetPhi(JetPt|3)', 0.006088556105396792),\n",
       " ('ExtraLepPt(ExtraLepPt|0)', 0.006010829857242791),\n",
       " ('nExtraLep', 0.0057517423633961185),\n",
       " ('ExtraLepEta(ExtraLepPt|0)', 0.002279969945850714),\n",
       " ('Z2Flav', 0.0008031712309246832),\n",
       " ('Z1Flav', 0.0007254449827706817)]"
      ]
     },
     "execution_count": 153,
     "metadata": {},
     "output_type": "execute_result"
    }
   ],
   "source": [
    "implist"
   ]
  },
  {
   "cell_type": "code",
   "execution_count": 154,
   "metadata": {
    "collapsed": false,
    "scrolled": false
   },
   "outputs": [],
   "source": [
    "%%capture\n",
    "fig, implist = plot_variables([(\"ttHh\", \"ttHl\")])"
   ]
  },
  {
   "cell_type": "code",
   "execution_count": 155,
   "metadata": {
    "collapsed": true
   },
   "outputs": [],
   "source": [
    "impdict = {convert_varname(entry[0]): [entry[1]] for entry in implist}\n",
    "impdict[\"discriminant\"] = \"D_ttHh_ttHl_ML\"\n",
    "df = df.append(pd.DataFrame.from_dict(impdict))"
   ]
  },
  {
   "cell_type": "code",
   "execution_count": 156,
   "metadata": {
    "collapsed": true
   },
   "outputs": [],
   "source": [
    "append_variables(confhandler, impdict, threshold_fscore)"
   ]
  },
  {
   "cell_type": "code",
   "execution_count": 157,
   "metadata": {
    "collapsed": false
   },
   "outputs": [
    {
     "data": {
      "text/plain": [
       "[('PFMET', 0.1410740004114944),\n",
       " ('ExtraLepPt(ExtraLepPt|0)', 0.0708456210136479),\n",
       " ('JetPhi(JetPt|2)', 0.06316439201700844),\n",
       " ('JetPhi(JetPt|1)', 0.0426582538920513),\n",
       " ('JetPt(JetPt|2)', 0.04231534188327275),\n",
       " ('JetPt(JetPt|3)', 0.039846375420067214),\n",
       " ('Z1Mass', 0.03682874974281599),\n",
       " ('nCleanedJetsPt30', 0.03621150812701461),\n",
       " ('Z2Pt', 0.035319936904190385),\n",
       " ('JetEta(JetPt|2)', 0.03195939921816062),\n",
       " ('JetPhi(JetPt|3)', 0.031204992798847815),\n",
       " ('JetEta(JetPt|3)', 0.030656333584802138),\n",
       " ('ZZMassErr', 0.027501543104039503),\n",
       " ('ZZMass', 0.02695288388999383),\n",
       " ('JetPt(JetPt|1)', 0.02695288388999383),\n",
       " ('ZZPt', 0.026267059872436733),\n",
       " ('JetPt(JetPt|0)', 0.02372951100747548),\n",
       " ('nCleanedJetsPt30BTagged_bTagSF', 0.023180851793429807),\n",
       " ('Z2Mass', 0.023043686989918388),\n",
       " ('Z1Pt', 0.02119196214251423),\n",
       " ('JetEta(JetPt|1)', 0.01995747891091146),\n",
       " ('JetEta(JetPt|0)', 0.019751731705644333),\n",
       " ('ZZEta', 0.019477402098621494),\n",
       " ('ZZPhi', 0.018928742884575817),\n",
       " ('JetPhi(JetPt|0)', 0.018174336465263015),\n",
       " ('D_ZHh_ggH_ME', 0.017900006858240176),\n",
       " ('ExtraLepPhi(ExtraLepPt|0)', 0.016802688430148822),\n",
       " ('D_WHh_ZHh_ME', 0.016459776421370278),\n",
       " ('D_WHh_ggH_ME', 0.014265139565187573),\n",
       " ('ExtraLepEta(ExtraLepPt|0)', 0.012550579521294836),\n",
       " ('D_VBF2j_ggH_ME', 0.008915712228242233),\n",
       " ('D_VBF2j_WHh_ME', 0.007201152184349496),\n",
       " ('D_VBF2j_ZHh_ME', 0.004526438515876826),\n",
       " ('D_VBF1j_ggH_ME', 0.0021946368561827035),\n",
       " ('Z2Flav', 0.0010287360263356424),\n",
       " ('nExtraLep', 0.0004114944105342569),\n",
       " ('ExtraLepEta(ExtraLepPt|1)', 0.0004114944105342569),\n",
       " ('ExtraLepPhi(ExtraLepPt|1)', 0.00013716480351141897)]"
      ]
     },
     "execution_count": 157,
     "metadata": {},
     "output_type": "execute_result"
    }
   ],
   "source": [
    "implist"
   ]
  },
  {
   "cell_type": "code",
   "execution_count": 158,
   "metadata": {
    "collapsed": false,
    "scrolled": false
   },
   "outputs": [],
   "source": [
    "%%capture\n",
    "fig, implist = plot_variables([(\"ttHl\", \"ggH\")])"
   ]
  },
  {
   "cell_type": "code",
   "execution_count": 159,
   "metadata": {
    "collapsed": true
   },
   "outputs": [],
   "source": [
    "impdict = {convert_varname(entry[0]): [entry[1]] for entry in implist}\n",
    "impdict[\"discriminant\"] = \"D_ttHl_ggH_ML\"\n",
    "df = df.append(pd.DataFrame.from_dict(impdict))"
   ]
  },
  {
   "cell_type": "code",
   "execution_count": 160,
   "metadata": {
    "collapsed": true
   },
   "outputs": [],
   "source": [
    "append_variables(confhandler, impdict, threshold_fscore)"
   ]
  },
  {
   "cell_type": "code",
   "execution_count": 161,
   "metadata": {
    "collapsed": false
   },
   "outputs": [
    {
     "data": {
      "text/plain": [
       "[('PFMET', 0.18323446581580682),\n",
       " ('JetPt(JetPt|0)', 0.06684043381868296),\n",
       " ('ZZPt', 0.06531248127509137),\n",
       " ('D_VBF1j_ggH_ME', 0.051860506920726225),\n",
       " ('ZZMass', 0.04715680987476781),\n",
       " ('ExtraLepPt(ExtraLepPt|0)', 0.042872550781952186),\n",
       " ('Z1Pt', 0.04230331355982983),\n",
       " ('Z1Mass', 0.03960692671819761),\n",
       " ('nCleanedJetsPt30BTagged_bTagSF', 0.0375696566600755),\n",
       " ('Z2Pt', 0.03373479537419857),\n",
       " ('ZZMassErr', 0.033555036251423094),\n",
       " ('D_VBF2j_ggH_ME', 0.03304571873689256),\n",
       " ('JetPt(JetPt|1)', 0.029450536281382948),\n",
       " ('Z2Mass', 0.026334711486607945),\n",
       " ('JetEta(JetPt|1)', 0.024027802744322608),\n",
       " ('JetPt(JetPt|2)', 0.022020492539996404),\n",
       " ('D_WHh_ggH_ME', 0.020372700581221162),\n",
       " ('ZZPhi', 0.020103061897057944),\n",
       " ('ZZEta', 0.02007310204326203),\n",
       " ('nCleanedJetsPt30', 0.01878482833003775),\n",
       " ('JetEta(JetPt|0)', 0.018035831985139913),\n",
       " ('JetPhi(JetPt|0)', 0.017646353885793036),\n",
       " ('nExtraLep', 0.014979926897956738),\n",
       " ('JetPt(JetPt|3)', 0.014200970699262988),\n",
       " ('D_ZHh_ggH_ME', 0.013721613038528372),\n",
       " ('JetEta(JetPt|2)', 0.012103780933549045),\n",
       " ('JetEta(JetPt|3)', 0.008388759062855774),\n",
       " ('JetPhi(JetPt|1)', 0.007430043741386542),\n",
       " ('ExtraLepEta(ExtraLepPt|0)', 0.00707052549583558),\n",
       " ('D_WHh_ZHh_ME', 0.006920726226856013),\n",
       " ('D_VBF2j_WHh_ME', 0.006231649589550003),\n",
       " ('D_VBF2j_ZHh_ME', 0.003655102163101444),\n",
       " ('JetPhi(JetPt|3)', 0.0028461861106117803),\n",
       " ('Z1Flav', 0.0027862664030199533),\n",
       " ('JetPhi(JetPt|2)', 0.0027862664030199533),\n",
       " ('Z2Flav', 0.002456708011264905),\n",
       " ('ExtraLepPhi(ExtraLepPt|0)', 0.0004793576607346156)]"
      ]
     },
     "execution_count": 161,
     "metadata": {},
     "output_type": "execute_result"
    }
   ],
   "source": [
    "implist"
   ]
  },
  {
   "cell_type": "code",
   "execution_count": 162,
   "metadata": {
    "collapsed": false,
    "scrolled": false
   },
   "outputs": [],
   "source": [
    "%%capture\n",
    "fig, implist = plot_variables([(\"ttHl\", \"VBF\")])"
   ]
  },
  {
   "cell_type": "code",
   "execution_count": 163,
   "metadata": {
    "collapsed": true
   },
   "outputs": [],
   "source": [
    "impdict = {convert_varname(entry[0]): [entry[1]] for entry in implist}\n",
    "impdict[\"discriminant\"] = \"D_ttHl_VBF_ML\"\n",
    "df = df.append(pd.DataFrame.from_dict(impdict))"
   ]
  },
  {
   "cell_type": "code",
   "execution_count": 164,
   "metadata": {
    "collapsed": true
   },
   "outputs": [],
   "source": [
    "append_variables(confhandler, impdict, threshold_fscore)"
   ]
  },
  {
   "cell_type": "code",
   "execution_count": 165,
   "metadata": {
    "collapsed": false
   },
   "outputs": [
    {
     "data": {
      "text/plain": [
       "[('PFMET', 0.1434631700732742),\n",
       " ('D_VBF2j_ggH_ME', 0.05613014058829716),\n",
       " ('ExtraLepPt(ExtraLepPt|0)', 0.05017003821477404),\n",
       " ('D_VBF1j_ggH_ME', 0.044104757564071104),\n",
       " ('ExtraLepEta(ExtraLepPt|0)', 0.040844230971496684),\n",
       " ('JetEta(JetPt|2)', 0.04007292360551134),\n",
       " ('JetPt(JetPt|0)', 0.03817971461627458),\n",
       " ('JetPt(JetPt|2)', 0.034182940083441436),\n",
       " ('D_WHh_ggH_ME', 0.03355187042036251),\n",
       " ('JetEta(JetPt|0)', 0.033306454440276266),\n",
       " ('D_ZHh_ggH_ME', 0.03155348315394594),\n",
       " ('JetEta(JetPt|1)', 0.03141324545103951),\n",
       " ('ZZPt', 0.028994145075903657),\n",
       " ('nCleanedJetsPt30BTagged_bTagSF', 0.02769694632401921),\n",
       " ('ZZEta', 0.026224450443501735),\n",
       " ('ZZMass', 0.025979034463415488),\n",
       " ('JetPt(JetPt|1)', 0.025172667671703536),\n",
       " ('ZZMassErr', 0.02461171686007783),\n",
       " ('Z1Mass', 0.024155944325631947),\n",
       " ('JetPt(JetPt|3)', 0.021596606247589665),\n",
       " ('Z1Pt', 0.021351190267503418),\n",
       " ('ZZPhi', 0.020720120604424498),\n",
       " ('Z2Mass', 0.01802054482347579),\n",
       " ('Z2Pt', 0.01802054482347579),\n",
       " ('D_VBF2j_WHh_ME', 0.01781018826911615),\n",
       " ('D_VBF2j_ZHh_ME', 0.017389475160396874),\n",
       " ('D_WHh_ZHh_ME', 0.01619745468569225),\n",
       " ('nCleanedJetsPt30', 0.01605721698278582),\n",
       " ('JetPhi(JetPt|0)', 0.015671563299793148),\n",
       " ('JetPhi(JetPt|1)', 0.012866809241664622),\n",
       " ('JetPhi(JetPt|2)', 0.009220628966097535),\n",
       " ('nExtraLep', 0.00876485643165165),\n",
       " ('JetPhi(JetPt|3)', 0.008589559303018617),\n",
       " ('JetEta(JetPt|3)', 0.00669635031378186),\n",
       " ('ExtraLepPhi(ExtraLepPt|0)', 0.0056445675419836625),\n",
       " ('Z1Flav', 0.003576061424113873),\n",
       " ('Z2Flav', 0.001998387266416576)]"
      ]
     },
     "execution_count": 165,
     "metadata": {},
     "output_type": "execute_result"
    }
   ],
   "source": [
    "implist"
   ]
  },
  {
   "cell_type": "code",
   "execution_count": 166,
   "metadata": {
    "collapsed": false,
    "scrolled": false
   },
   "outputs": [],
   "source": [
    "%%capture\n",
    "fig, implist = plot_variables([(\"ttHl\", \"WHh\")])"
   ]
  },
  {
   "cell_type": "code",
   "execution_count": 167,
   "metadata": {
    "collapsed": true
   },
   "outputs": [],
   "source": [
    "impdict = {convert_varname(entry[0]): [entry[1]] for entry in implist}\n",
    "impdict[\"discriminant\"] = \"D_ttHl_WHh_ML\"\n",
    "df = df.append(pd.DataFrame.from_dict(impdict))"
   ]
  },
  {
   "cell_type": "code",
   "execution_count": 168,
   "metadata": {
    "collapsed": true
   },
   "outputs": [],
   "source": [
    "append_variables(confhandler, impdict, threshold_fscore)"
   ]
  },
  {
   "cell_type": "code",
   "execution_count": 169,
   "metadata": {
    "collapsed": false
   },
   "outputs": [
    {
     "data": {
      "text/plain": [
       "[('PFMET', 0.14684491655852974),\n",
       " ('JetPt(JetPt|0)', 0.0590880284877931),\n",
       " ('ExtraLepPt(ExtraLepPt|0)', 0.04876723903793343),\n",
       " ('ZZMassErr', 0.04261097866433292),\n",
       " ('ZZPt', 0.038114494371850195),\n",
       " ('Z1Mass', 0.03690738449467363),\n",
       " ('nCleanedJetsPt30BTagged_bTagSF', 0.03500618643812053),\n",
       " ('D_VBF2j_WHh_ME', 0.03413103177716752),\n",
       " ('ZZMass', 0.03355765458550865),\n",
       " ('Z2Pt', 0.032350544708332075),\n",
       " ('D_VBF1j_ggH_ME', 0.032199655973685),\n",
       " ('ZZEta', 0.030509702145637807),\n",
       " ('Z1Pt', 0.030419168904849563),\n",
       " ('JetPt(JetPt|2)', 0.028880103811449436),\n",
       " ('JetEta(JetPt|0)', 0.02881974831759061),\n",
       " ('D_WHh_ggH_ME', 0.028699037329872952),\n",
       " ('JetPt(JetPt|1)', 0.026737483779461026),\n",
       " ('ZZPhi', 0.025379485167637383),\n",
       " ('Z2Mass', 0.025379485167637383),\n",
       " ('nCleanedJetsPt30', 0.022271177233907716),\n",
       " ('D_WHh_ZHh_ME', 0.021818511029966504),\n",
       " ('JetEta(JetPt|1)', 0.021607266801460603),\n",
       " ('JetPt(JetPt|3)', 0.02130548933216646),\n",
       " ('D_VBF2j_ggH_ME', 0.021275311585237048),\n",
       " ('JetPhi(JetPt|1)', 0.01931375803482512),\n",
       " ('JetPhi(JetPt|0)', 0.01638651658267194),\n",
       " ('ExtraLepEta(ExtraLepPt|0)', 0.012885897938859884),\n",
       " ('JetPhi(JetPt|3)', 0.012765186951142227),\n",
       " ('ExtraLepPhi(ExtraLepPt|0)', 0.012674653710353985),\n",
       " ('D_VBF2j_ZHh_ME', 0.010743277906871473),\n",
       " ('JetPhi(JetPt|2)', 0.009023146331894862),\n",
       " ('JetEta(JetPt|2)', 0.008147991670941847),\n",
       " ('JetEta(JetPt|3)', 0.007665147720071219),\n",
       " ('D_ZHh_ggH_ME', 0.006578748830612306),\n",
       " ('Z1Flav', 0.0044361287986238946),\n",
       " ('Z2Flav', 0.003379907656094396),\n",
       " ('nExtraLep', 0.0033195521622355673)]"
      ]
     },
     "execution_count": 169,
     "metadata": {},
     "output_type": "execute_result"
    }
   ],
   "source": [
    "implist"
   ]
  },
  {
   "cell_type": "code",
   "execution_count": 170,
   "metadata": {
    "collapsed": true
   },
   "outputs": [],
   "source": [
    "# save the variable configuration\n",
    "confhandler.save_configuration(out_path)"
   ]
  },
  {
   "cell_type": "code",
   "execution_count": 171,
   "metadata": {
    "collapsed": false
   },
   "outputs": [],
   "source": [
    "df = df.fillna(0.0)"
   ]
  },
  {
   "cell_type": "code",
   "execution_count": 172,
   "metadata": {
    "collapsed": false
   },
   "outputs": [],
   "source": [
    "df.to_csv(\"input_parameters_table_inclusive.csv\")"
   ]
  },
  {
   "cell_type": "code",
   "execution_count": 173,
   "metadata": {
    "collapsed": false
   },
   "outputs": [],
   "source": [
    "# now plot the data contained in the table to have a global picture of the relevant input variables\n",
    "datacol_labels = [col for col in df.columns.tolist() if col != \"discriminant\"]\n",
    "variable_data = df[datacol_labels].as_matrix().transpose()\n",
    "datacol_labels = np.concatenate([[''], np.array(datacol_labels)])"
   ]
  },
  {
   "cell_type": "code",
   "execution_count": 174,
   "metadata": {
    "collapsed": true
   },
   "outputs": [],
   "source": [
    "discriminant_labels = np.concatenate([[''], df[\"discriminant\"].as_matrix()])"
   ]
  },
  {
   "cell_type": "code",
   "execution_count": 175,
   "metadata": {
    "collapsed": false
   },
   "outputs": [],
   "source": [
    "fig = plt.figure(figsize = (15, 10))\n",
    "ax = fig.add_subplot(111)\n",
    "cax = ax.matshow(variable_data, interpolation = 'nearest', cmap = 'Blues', vmin = np.min(variable_data), vmax = np.max(variable_data))\n",
    "ax.set_xticklabels(discriminant_labels, rotation = 'vertical')\n",
    "ax.set_yticklabels(datacol_labels)\n",
    "ax.xaxis.set_major_locator(ticker.MultipleLocator(1))\n",
    "ax.yaxis.set_major_locator(ticker.MultipleLocator(1))"
   ]
  },
  {
   "cell_type": "code",
   "execution_count": 176,
   "metadata": {
    "collapsed": true
   },
   "outputs": [],
   "source": [
    "plt.tight_layout()\n",
    "plt.savefig(os.path.join(out_dir, \"input_variables_inclusive_fullmassrange.pdf\"))"
   ]
  }
 ],
 "metadata": {
  "kernelspec": {
   "display_name": "Python 2",
   "language": "python",
   "name": "python2"
  },
  "language_info": {
   "codemirror_mode": {
    "name": "ipython",
    "version": 2
   },
   "file_extension": ".py",
   "mimetype": "text/x-python",
   "name": "python",
   "nbconvert_exporter": "python",
   "pygments_lexer": "ipython2",
   "version": "2.7.11"
  }
 },
 "nbformat": 4,
 "nbformat_minor": 2
}
