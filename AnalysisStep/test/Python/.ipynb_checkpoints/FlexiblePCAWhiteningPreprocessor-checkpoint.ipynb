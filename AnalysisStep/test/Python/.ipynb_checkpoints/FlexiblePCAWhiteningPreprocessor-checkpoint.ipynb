{
 "cells": [
  {
   "cell_type": "code",
   "execution_count": 1,
   "metadata": {
    "collapsed": false
   },
   "outputs": [
    {
     "name": "stdout",
     "output_type": "stream",
     "text": [
      "Welcome to JupyROOT 6.10/09\n"
     ]
    }
   ],
   "source": [
    "from trainlib.FileCollection import FileCollection\n",
    "from trainlib.Preprocessor import Preprocessor\n",
    "from trainlib.PCAWhiteningPreprocessor import PCAWhiteningPreprocessor\n",
    "from trainlib.ConfigFileUtils import ConfigFileUtils\n",
    "import trainlib.cuts as cuts\n",
    "import pandas as pd\n",
    "import numpy as np\n",
    "import re"
   ]
  },
  {
   "cell_type": "code",
   "execution_count": 2,
   "metadata": {
    "collapsed": true
   },
   "outputs": [],
   "source": [
    "candidate_branches = [\"PFMET\", \"nCleanedJetsPt30\", \"nCleanedJetsPt30BTagged_bTagSF\", \"nExtraLep\", \"ZZMass\", \"nExtraZ\", \"Z1Mass\", \"Z2Mass\", \"Z1Pt\", \"Z2Pt\", \"ZZMassErr\", \"ZZPt\", \"ZZEta\", \"ZZPhi\", \"Z1Flav\", \"Z2Flav\"]\n",
    "MELA_branches = [\"D_VBF2j_ggH_ME\", \"D_VBF1j_ggH_ME\", \"D_WHh_ggH_ME\", \"D_ZHh_ggH_ME\", \"D_WHh_ZHh_ME\", \"D_VBF2j_WHh_ME\", \"D_VBF2j_ZHh_ME\"]\n",
    "allbranches = [\"JetPt\", \"JetEta\", \"JetPhi\", \"LepPt\", \"LepEta\", \"LepPhi\", \"ExtraLepPt\", \"ExtraLepEta\", \"ExtraLepPhi\"] + candidate_branches + MELA_branches + [\"LHEAssociatedParticleId\", \"GenAssocLep1Id\", \"GenAssocLep2Id\", \"training_weight\"]"
   ]
  },
  {
   "cell_type": "code",
   "execution_count": 40,
   "metadata": {
    "collapsed": false
   },
   "outputs": [],
   "source": [
    "class FlexiblePCAWhiteningPreprocessor(Preprocessor):\n",
    "    def __init__(self, name, nonperiodic_columns, periodic_columns, cuts, cuts_s = None):\n",
    "        self.name = name\n",
    "        self.nonperiodic_columns = nonperiodic_columns\n",
    "        self.periodic_columns = periodic_columns\n",
    "        self.cuts = cuts\n",
    "        self.cuts_s = cuts_s\n",
    "        self.base_preprocessor = None\n",
    "        self.processed_columns = None\n",
    "        self.last_indices = None\n",
    "\n",
    "    @classmethod\n",
    "    def from_config(cls, config_section):\n",
    "        preprocessor_name = re.sub('[<>]', '', config_section.name)\n",
    "        nonperiodic_columns = ConfigFileUtils.parse_list(config_section['nonperiodic_columns'], lambda x: x)\n",
    "        periodic_columns = ConfigFileUtils.parse_list(config_section['periodic_columns'], lambda x: x)\n",
    "        preprocessor_cuts, cuts_s = ConfigFileUtils.parse_lambda_s(config_section['preprocessor_cuts'])\n",
    "        \n",
    "        obj = cls(name = preprocessor_name, nonperiodic_columns = nonperiodic_columns, periodic_columns = periodic_columns, cuts = preprocessor_cuts, cuts_s = cuts_s)\n",
    "        \n",
    "        return obj\n",
    "\n",
    "    def to_config(self, confhandler):\n",
    "        section_name = '<' + self.name\n",
    "        confhandler.new_section(section_name)\n",
    "        \n",
    "        confhandler.set_field(section_name, 'preprocessor_type', 'FlexiblePCAWhiteningPreprocessor')\n",
    "        confhandler.set_field(section_name, 'nonperiodic_columns', ConfigFileUtils.serialize_list(self.nonperiodic_columns, lambda x: x))\n",
    "        confhandler.set_field(section_name, 'periodic_columns', ConfigFileUtils.serialize_list(self.periodic_columns, lambda x: x))\n",
    "        confhandler.set_field(section_name, 'preprocessor_cuts', ConfigFileUtils.serialize_lambda_s(self.cuts, self.cuts_s))\n",
    "    \n",
    "    def setup_generator(self, datagen, len_setupdata):\n",
    "        self.len_setupdata = len_setupdata\n",
    "        \n",
    "        # draw some data from the generator\n",
    "        extracted_data = []\n",
    "        extracted_rows = 0\n",
    "        \n",
    "        for data in datagen:\n",
    "            extracted_data.append(data)\n",
    "            extracted_row += len(data)\n",
    "            \n",
    "            if extracted_rows > self.len_setupdata:\n",
    "                break\n",
    "                \n",
    "        input_data = pd.concat(extracted_data)\n",
    "        input_data = input_data.reset_index(drop = True)\n",
    "        \n",
    "        self.setup(input_data)\n",
    "    \n",
    "    def setup(self, data):\n",
    "        # first perform the row selection\n",
    "        cut_data = self._row_cut(data)\n",
    "        \n",
    "        # then prepare the data and the base preprocessor\n",
    "        prepared_data = self.prepare_data(cut_data)\n",
    "        self.processed_columns = prepared_data.columns\n",
    "        \n",
    "        self.base_preprocessor = PCAWhiteningPreprocessor(self.name, self.processed_columns, cuts.no_cut, None)\n",
    "        self.base_preprocessor.setup(prepared_data)\n",
    "        \n",
    "    def get_last_indices(self):\n",
    "        return self.last_indices\n",
    "    \n",
    "    def process(self, data):\n",
    "        cut_data = self._row_cut(data)        \n",
    "        self.last_indices = cut_data.index\n",
    "        \n",
    "        prepared_data = self.prepare_data(cut_data)\n",
    "                \n",
    "        return self.base_preprocessor.process(prepared_data)\n",
    "    \n",
    "    def save(self, folder, filename):\n",
    "        self.base_preprocessor.save(folder, filename)\n",
    "        \n",
    "    def load(self, folder, filename):\n",
    "        self.base_preprocessor.load(folder, filename)\n",
    "    \n",
    "    # puts the data in a format such that PCAWhiteningPreprocessor can act on them\n",
    "    def prepare_data(self, data):\n",
    "        prepared_data = pd.DataFrame()\n",
    "\n",
    "        for column in self.nonperiodic_columns:\n",
    "            cf = self.extract_column(df, column)\n",
    "            prepared_data = pd.concat([prepared_data, cf], axis = 1)\n",
    "\n",
    "        for column in self.periodic_columns:\n",
    "            cf = self.extract_column(df, column)\n",
    "            cf = self.encode_periodic_column(cf)\n",
    "            prepared_data = pd.concat([prepared_data, cf], axis = 1)\n",
    "\n",
    "        return prepared_data\n",
    "\n",
    "    def extract_order(self, df, sorted_column, columns, order):\n",
    "        def get_index(row, order, sorted_column):\n",
    "            sorted_column = row[sorted_column]\n",
    "            if order >= len(sorted_column):\n",
    "                return -1\n",
    "            else:\n",
    "                return np.flipud(np.argsort(sorted_column))[order]\n",
    "\n",
    "        index_column = pd.DataFrame(df.transform(lambda row: get_index(row, order, sorted_column), axis = 1, raw = True))\n",
    "        index_column.columns = [\"index\"]\n",
    "        df_temp = pd.concat([index_column, df], axis = 1)\n",
    "\n",
    "        def get_element(row, column_name):\n",
    "            if row[\"index\"] == -1:\n",
    "                return 0\n",
    "            else:\n",
    "                return row[column_name][row[\"index\"]]\n",
    "\n",
    "        extracted_cols = pd.DataFrame()\n",
    "        for column in columns:\n",
    "            extracted_col = pd.DataFrame(df_temp.transform(lambda row: get_element(row, column), axis = 1, raw = True))\n",
    "            extracted_col.columns = [column + \"_\" + str(order)]\n",
    "            extracted_cols = pd.concat([extracted_cols, extracted_col], axis = 1)\n",
    "\n",
    "        return extracted_cols\n",
    "    \n",
    "    def extract_order_filtered(self, df, sorted_column, columns, order):\n",
    "        extracted_raw = self.extract_order(df, sorted_column, columns, order)\n",
    "\n",
    "        if any(\"Jet\" in col for col in extracted_raw.columns):\n",
    "            # apply the jet-pt cut\n",
    "            mask_column = self.extract_order(df, \"JetPt\", [\"JetPt\"], order)\n",
    "            mask = mask_column < 30.0\n",
    "            extracted_raw[mask.as_matrix()] = 0.0\n",
    "\n",
    "        return extracted_raw\n",
    "    \n",
    "    def extract_column(self, df, colstring):\n",
    "        if '[' in colstring and ']' in colstring:\n",
    "            col, sorted_col_order, _ = re.split('[\\[\\]]', colstring)\n",
    "            sorted_col, order = re.split('\\|', sorted_col_order)\n",
    "            cf = self.extract_order_filtered(df, sorted_col, [col], int(order))\n",
    "        else:\n",
    "            cf = df[colstring]\n",
    "        return cf\n",
    "    \n",
    "    def encode_periodic_column(self, df):\n",
    "        of = pd.DataFrame()\n",
    "        sincol = df.apply(np.sin, raw = True)\n",
    "        sincol.columns = [col + \"_sin\" for col in df.columns]\n",
    "        coscol = df.apply(np.cos, raw = True)\n",
    "        coscol.columns = [col + \"_cos\" for col in df.columns]\n",
    "        of = pd.concat([sincol, coscol], axis = 1)\n",
    "\n",
    "        return of\n",
    "    \n",
    "    def _row_cut(self, data):\n",
    "        output_data = data.loc[data.apply(self.cuts, axis = 1)]\n",
    "        return output_data"
   ]
  },
  {
   "cell_type": "code",
   "execution_count": 41,
   "metadata": {
    "collapsed": true
   },
   "outputs": [],
   "source": [
    "MC_path = \"/data_CMS/cms/wind/CJLST_NTuples/\""
   ]
  },
  {
   "cell_type": "code",
   "execution_count": 61,
   "metadata": {
    "collapsed": false
   },
   "outputs": [
    {
     "name": "stdout",
     "output_type": "stream",
     "text": [
      "skimming /data_CMS/cms/wind/CJLST_NTuples/VBFH125/ZZ4lAnalysis.root\n",
      "collection set up: 1 files, 62320 entries in total, 31160 of which will be used\n"
     ]
    }
   ],
   "source": [
    "coll = FileCollection({MC_path + \"VBFH125/ZZ4lAnalysis.root\": cuts.no_cut}, 0.0, 0.5)\n",
    "df = coll.get_data(allbranches, 200, 400)"
   ]
  },
  {
   "cell_type": "code",
   "execution_count": 58,
   "metadata": {
    "collapsed": true
   },
   "outputs": [],
   "source": [
    "nonperiodic_columns = [\"ZZMass\",\"JetEta[JetPt|0]\", \"JetPt[JetPt|0]\"]\n",
    "periodic_columns = [\"JetPhi[JetPt|0]\"]"
   ]
  },
  {
   "cell_type": "code",
   "execution_count": 59,
   "metadata": {
    "collapsed": false
   },
   "outputs": [],
   "source": [
    "pre = FlexiblePCAWhiteningPreprocessor(\"test\", nonperiodic_columns, periodic_columns, cuts.no_cut)"
   ]
  },
  {
   "cell_type": "code",
   "execution_count": 60,
   "metadata": {
    "collapsed": false
   },
   "outputs": [
    {
     "name": "stdout",
     "output_type": "stream",
     "text": [
      "PCA setup for 'test': Index([u'ZZMass', u'JetEta_0', u'JetPt_0', u'JetPhi_0_sin', u'JetPhi_0_cos'], dtype='object')\n",
      "PCAWhiteningPreprocessor for stream 'test'\n",
      "setting up PCA whitening on 200 events\n",
      "200 remaining after the cuts\n"
     ]
    }
   ],
   "source": [
    "pre.setup(df)"
   ]
  },
  {
   "cell_type": "code",
   "execution_count": 62,
   "metadata": {
    "collapsed": false
   },
   "outputs": [],
   "source": [
    "test = pre.process(df)[\"test\"]"
   ]
  },
  {
   "cell_type": "code",
   "execution_count": null,
   "metadata": {
    "collapsed": true
   },
   "outputs": [],
   "source": []
  }
 ],
 "metadata": {
  "kernelspec": {
   "display_name": "Python 2",
   "language": "python",
   "name": "python2"
  },
  "language_info": {
   "codemirror_mode": {
    "name": "ipython",
    "version": 2
   },
   "file_extension": ".py",
   "mimetype": "text/x-python",
   "name": "python",
   "nbconvert_exporter": "python",
   "pygments_lexer": "ipython2",
   "version": "2.7.11"
  }
 },
 "nbformat": 4,
 "nbformat_minor": 2
}
