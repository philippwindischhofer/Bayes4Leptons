{
 "cells": [
  {
   "cell_type": "code",
   "execution_count": 1,
   "metadata": {
    "collapsed": true
   },
   "outputs": [],
   "source": [
    "import warnings\n",
    "warnings.filterwarnings('ignore')"
   ]
  },
  {
   "cell_type": "code",
   "execution_count": 2,
   "metadata": {
    "collapsed": false
   },
   "outputs": [
    {
     "name": "stdout",
     "output_type": "stream",
     "text": [
      "Welcome to JupyROOT 6.10/09\n"
     ]
    }
   ],
   "source": [
    "from trainlib.FileCollection import FileCollection\n",
    "from trainlib.config import Config\n",
    "import trainlib.cuts as cuts\n",
    "import numpy as np\n",
    "import matplotlib.pyplot as plt\n",
    "import matplotlib.ticker as ticker\n",
    "import pandas as pd\n",
    "import copy\n",
    "import re\n",
    "from scipy import interpolate\n",
    "import scipy.integrate as integrate"
   ]
  },
  {
   "cell_type": "code",
   "execution_count": 3,
   "metadata": {
    "collapsed": false
   },
   "outputs": [
    {
     "name": "stderr",
     "output_type": "stream",
     "text": [
      "/cvmfs/cms.cern.ch/slc6_amd64_gcc630/external/py2-pippkgs_depscipy/3.0-fmblme3/lib/python2.7/site-packages/sklearn/cross_validation.py:44: DeprecationWarning: This module was deprecated in version 0.18 in favor of the model_selection module into which all the refactored classes and functions are moved. Also note that the interface of the new CV iterators are different from that of this module. This module will be removed in 0.20.\n",
      "  \"This module will be removed in 0.20.\", DeprecationWarning)\n"
     ]
    }
   ],
   "source": [
    "import xgboost as xgb\n",
    "from sklearn.metrics import mean_squared_error"
   ]
  },
  {
   "cell_type": "code",
   "execution_count": 4,
   "metadata": {
    "collapsed": true
   },
   "outputs": [],
   "source": [
    "#candidate_branches = [\"PFMET\", \"nCleanedJetsPt30\", \"nCleanedJetsPt30BTagged_bTagSF\", \"nExtraLep\", \"ZZMass\", \"nExtraZ\", \"Z1Mass\", \"Z2Mass\", \"Z1Pt\", \"Z2Pt\", \"ZZMassErr\", \"ZZPt\", \"ZZEta\", \"ZZPhi\", \"Z1Flav\", \"Z2Flav\", \"costhetastar\", \"helphi\", \"helcosthetaZ1\", \"helcosthetaZ2\", \"phistarZ1\", \"phistarZ2\", \"xi\", \"xistar\"]\n",
    "candidate_branches = [\"PFMET\", \"nCleanedJetsPt30\", \"nCleanedJetsPt30BTagged_bTagSF\", \"nExtraLep\", \"ZZMass\", \"nExtraZ\", \"Z1Mass\", \"Z2Mass\", \"Z1Pt\", \"Z2Pt\", \"ZZMassErr\", \"ZZPt\", \"ZZEta\", \"ZZPhi\", \"Z1Flav\", \"Z2Flav\"]\n",
    "MELA_branches = [\"D_VBF2j_ggH_ME\", \"D_VBF1j_ggH_ME\", \"D_WHh_ggH_ME\", \"D_ZHh_ggH_ME\", \"D_WHh_ZHh_ME\", \"D_VBF2j_WHh_ME\", \"D_VBF2j_ZHh_ME\"]\n",
    "#list_branches = [\"Jet\", \"Lep\", \"ExtraLep\"]\n",
    "list_branches = [\"Jet\", \"ExtraLep\"]\n",
    "pt_limits = [30.0, 0.0, 0.0]"
   ]
  },
  {
   "cell_type": "code",
   "execution_count": 5,
   "metadata": {
    "collapsed": true
   },
   "outputs": [],
   "source": [
    "allbranches = [\"JetPt\", \"JetEta\", \"JetPhi\", \"LepPt\", \"LepEta\", \"LepPhi\", \"ExtraLepPt\", \"ExtraLepEta\", \"ExtraLepPhi\"] + candidate_branches + MELA_branches + [\"LHEAssociatedParticleId\", \"GenAssocLep1Id\", \"GenAssocLep2Id\", \"training_weight\"]"
   ]
  },
  {
   "cell_type": "code",
   "execution_count": 6,
   "metadata": {
    "collapsed": true
   },
   "outputs": [],
   "source": [
    "#MC_path = \"/data_CMS/cms/wind/CJLST_NTuples_randomizeda/\"\n",
    "MC_path = \"/data_CMS/cms/wind/CJLST_NTuples/\""
   ]
  },
  {
   "cell_type": "code",
   "execution_count": 7,
   "metadata": {
    "collapsed": true
   },
   "outputs": [],
   "source": [
    "def WHhadr0j_cut(row):\n",
    "    return cuts.WHhadr_cut(row) and row[\"nCleanedJetsPt30\"] == 0\n",
    "\n",
    "def WHhadr01j_cut(row):\n",
    "    return cuts.WHhadr_cut(row) and (row[\"nCleanedJetsPt30\"] == 0 or row[\"nCleanedJetsPt30\"] == 1)\n",
    "\n",
    "def WHhadr1j_cut(row):\n",
    "    return cuts.WHhadr_cut(row) and row[\"nCleanedJetsPt30\"] == 1\n",
    "\n",
    "def WHhadr2j_cut(row):\n",
    "    return cuts.WHhadr_cut(row) and row[\"nCleanedJetsPt30\"] >= 2\n",
    "\n",
    "def ZHhadr0j_cut(row):\n",
    "    return cuts.ZHhadr_cut(row) and row[\"nCleanedJetsPt30\"] == 0\n",
    "\n",
    "def ZHhadr01j_cut(row):\n",
    "    return cuts.ZHhadr_cut(row) and (row[\"nCleanedJetsPt30\"] == 0 or row[\"nCleanedJetsPt30\"] == 1)\n",
    "\n",
    "def ZHhadr1j_cut(row):\n",
    "    return cuts.ZHhadr_cut(row) and row[\"nCleanedJetsPt30\"] == 1\n",
    "\n",
    "def ZHhadr2j_cut(row):\n",
    "    return cuts.ZHhadr_cut(row) and row[\"nCleanedJetsPt30\"] >= 2\n",
    "\n",
    "def mZZ0j_cut(row):\n",
    "    return cuts.mZZ_cut(row) and row[\"nCleanedJetsPt30\"] == 0\n",
    "\n",
    "def mZZ01j_cut(row):\n",
    "    return cuts.mZZ_cut(row) and (row[\"nCleanedJetsPt30\"] == 0 or row[\"nCleanedJetsPt30\"] == 1)\n",
    "\n",
    "def mZZ1j_cut(row):\n",
    "    return cuts.mZZ_cut(row) and row[\"nCleanedJetsPt30\"] == 1\n",
    "\n",
    "def mZZ2j_cut(row):\n",
    "    return cuts.mZZ_cut(row) and row[\"nCleanedJetsPt30\"] >= 2"
   ]
  },
  {
   "cell_type": "code",
   "execution_count": 8,
   "metadata": {
    "collapsed": false
   },
   "outputs": [],
   "source": [
    "collections = {\"VBF2j\": {MC_path + \"VBFH125/ZZ4lAnalysis.root\": mZZ2j_cut},\n",
    "            \"VBF1j\": {MC_path + \"VBFH125/ZZ4lAnalysis.root\": mZZ1j_cut},\n",
    "            \"VBF0j\": {MC_path + \"VBFH125/ZZ4lAnalysis.root\": mZZ0j_cut},\n",
    "            \"VBF01j\": {MC_path + \"VBFH125/ZZ4lAnalysis.root\": mZZ01j_cut},\n",
    "            \"VBF\": {MC_path + \"VBFH125/ZZ4lAnalysis.root\": cuts.mZZ_cut},\n",
    "            \"ggH2j\": {MC_path + \"ggH125/ZZ4lAnalysis.root\": mZZ2j_cut},\n",
    "            \"ggH1j\": {MC_path + \"ggH125/ZZ4lAnalysis.root\": mZZ1j_cut},\n",
    "            \"ggH0j\": {MC_path + \"ggH125/ZZ4lAnalysis.root\": mZZ0j_cut},\n",
    "            \"ggH01j\": {MC_path + \"ggH125/ZZ4lAnalysis.root\": mZZ01j_cut},\n",
    "            \"ggH\" : {MC_path + \"ggH125/ZZ4lAnalysis.root\": cuts.mZZ_cut},\n",
    "            \"WHh2j\": {MC_path + \"WplusH125/ZZ4lAnalysis.root\": WHhadr2j_cut, MC_path + \"WminusH125/ZZ4lAnalysis.root\": WHhadr2j_cut},\n",
    "            \"WHh1j\": {MC_path + \"WplusH125/ZZ4lAnalysis.root\": WHhadr1j_cut, MC_path + \"WminusH125/ZZ4lAnalysis.root\": WHhadr1j_cut},\n",
    "            \"WHh0j\": {MC_path + \"WplusH125/ZZ4lAnalysis.root\": WHhadr0j_cut, MC_path + \"WminusH125/ZZ4lAnalysis.root\": WHhadr0j_cut},\n",
    "            \"WHh\": {MC_path + \"WplusH125/ZZ4lAnalysis.root\": cuts.WHhadr_cut, MC_path + \"WminusH125/ZZ4lAnalysis.root\": cuts.WHhadr_cut},\n",
    "            \"WHh01j\": {MC_path + \"WplusH125/ZZ4lAnalysis.root\": WHhadr01j_cut, MC_path + \"WminusH125/ZZ4lAnalysis.root\": WHhadr01j_cut},\n",
    "            \"WHl\": {MC_path + \"WplusH125/ZZ4lAnalysis.root\": cuts.WHlept_cut, MC_path + \"WminusH125/ZZ4lAnalysis.root\": cuts.WHlept_cut},\n",
    "            \"ZHh2j\": {MC_path + \"ZH125/ZZ4lAnalysis.root\": ZHhadr2j_cut},\n",
    "            \"ZHh1j\": {MC_path + \"ZH125/ZZ4lAnalysis.root\": ZHhadr1j_cut},\n",
    "            \"ZHh01j\": {MC_path + \"ZH125/ZZ4lAnalysis.root\": ZHhadr01j_cut},\n",
    "            \"ZHh0j\": {MC_path + \"ZH125/ZZ4lAnalysis.root\": ZHhadr0j_cut},\n",
    "            \"ZHh\": {MC_path + \"ZH125/ZZ4lAnalysis.root\": cuts.ZHhadr_cut},\n",
    "            \"ZHl\": {MC_path + \"ZH125/ZZ4lAnalysis.root\": cuts.ZHlept_cut},\n",
    "            \"ttHh\": {MC_path + \"ttH125/ZZ4lAnalysis.root\": cuts.ttHhadr_cut},\n",
    "            \"ttHl\": {MC_path + \"ttH125/ZZ4lAnalysis.root\": cuts.ttHlept_cut},\n",
    "            \"ZHMET\": {MC_path + \"ZH125/ZZ4lAnalysis.root\": cuts.ZHMET_cut}\n",
    "          }"
   ]
  },
  {
   "cell_type": "code",
   "execution_count": 9,
   "metadata": {
    "collapsed": true
   },
   "outputs": [],
   "source": [
    "# all the model combinations for which neural networks are currently trained\n",
    "discriminant_pairs = [(\"VBF2j\", \"ggH2j\"), (\"VBF1j\", \"ggH1j\"), (\"VBF0j\", \"ggH0j\"), (\"WHh2j\", \"ggH2j\"), \n",
    "                     (\"WHh1j\", \"ggH1j\"), (\"WHh0j\", \"ggH0j\"), (\"ZHh2j\", \"ggH2j\"), (\"ZHh1j\", \"ggH1j\"), \n",
    "                      (\"ZHh0j\", \"ggH0j\"), (\"WHh2j\", \"ZHh2j\"), (\"WHh01j\", \"ZHh01j\"), (\"VBF2j\", \"WHh2j\"),\n",
    "                     (\"VBF1j\", \"WHh1j\"), (\"VBF0j\", \"WHh0j\"), (\"VBF2j\", \"ZHh2j\"), (\"VBF1j\", \"ZHh1j\"), \n",
    "                      (\"VBF0j\", \"ZHh0h\"), (\"WHl\", \"ggH\"), (\"WHl\", \"VBF\"), (\"WHl\", \"WHh\"), (\"WHl\", \"ZHh\"),\n",
    "                     (\"WHl\", \"ZHl\"), (\"WHl\", \"ZHMET\"), (\"WHl\", \"ttHh\"), (\"WHl\", \"ttHl\"), (\"ZHh\", \"ZHl\"),\n",
    "                     (\"ZHh\", \"ZHMET\"), (\"ZHh\", \"ttHh\"), (\"ZHh\", \"ttHl\"), (\"ZHl\", \"ggH\"), (\"ZHl\", \"VBF\"),\n",
    "                     (\"ZHl\", \"WHh\"), (\"ZHl\", \"ZHMET\"), (\"ZHl\", \"ttHh\"), (\"ZHl\", \"ttHl\"), (\"ZHMET\", \"ggH\"),\n",
    "                     (\"ZHMET\", \"VBF\"), (\"ZHMET\", \"WHh\"), (\"ZHMET\", \"ttHh\"), (\"ZHMET\", \"ttHl\"), (\"ttHh\", \"ggH\"),\n",
    "                      (\"ttHh\", \"VBF\"), (\"ttHh\", \"WHh\"), (\"ttHh\", \"ttHl\"), (\"ttHl\", \"ggH\"), (\"ttHl\", \"VBF\"),\n",
    "                     (\"ttHl\", \"WHh\")]"
   ]
  },
  {
   "cell_type": "code",
   "execution_count": 10,
   "metadata": {
    "collapsed": true
   },
   "outputs": [],
   "source": [
    "def extract_order(df, col_basename, sorted_column, columns, order):\n",
    "    def get_index(row, order, col_basename, sorted_column):\n",
    "        sorted_column = row[col_basename + sorted_column]\n",
    "        if order >= len(sorted_column):\n",
    "            return -1\n",
    "        else:\n",
    "            return np.flipud(np.argsort(sorted_column))[order]\n",
    "    \n",
    "    index_column = pd.DataFrame(df.transform(lambda row: get_index(row, order, col_basename, sorted_column), axis = 1, raw = True))\n",
    "    index_column.columns = [\"index\"]\n",
    "    df_temp = pd.concat([index_column, df], axis = 1)\n",
    "    \n",
    "    def get_element(row, column_name):\n",
    "        if row[\"index\"] == -1:\n",
    "            return 0\n",
    "        else:\n",
    "            return row[column_name][row[\"index\"]]\n",
    "        \n",
    "    extracted_cols = pd.DataFrame()\n",
    "    for column in columns:\n",
    "        extracted_col = pd.DataFrame(df_temp.transform(lambda row: get_element(row, col_basename + column), axis = 1, raw = True))\n",
    "        extracted_col.columns = [col_basename + column + \"_\" + str(order)]\n",
    "        extracted_cols = pd.concat([extracted_cols, extracted_col], axis = 1)\n",
    "        \n",
    "    return extracted_cols"
   ]
  },
  {
   "cell_type": "code",
   "execution_count": 11,
   "metadata": {
    "collapsed": true
   },
   "outputs": [],
   "source": [
    "def prepare_data(df, col_basenames, sorted_column, columns, orders, pt_limits):\n",
    "    all_extracted = pd.DataFrame()\n",
    "    for col_basename, pt_limit in zip(col_basenames, pt_limits):\n",
    "        for order in orders:\n",
    "            extracted = extract_order(df, col_basename, sorted_column, columns, order)\n",
    "            mask = extracted[col_basename + \"Pt_\" + str(order)] < pt_limit\n",
    "            extracted[mask] = 0.0\n",
    "\n",
    "            all_extracted = pd.concat([all_extracted, extracted], axis = 1)\n",
    "            \n",
    "    return all_extracted"
   ]
  },
  {
   "cell_type": "code",
   "execution_count": 12,
   "metadata": {
    "collapsed": false
   },
   "outputs": [],
   "source": [
    "def get_data(H1_coll, H0_coll, read_branches, input_branches, list_branches, pt_limits):\n",
    "    H1_df = H1_coll.get_data(read_branches, 0.0, 1.0)\n",
    "    H0_df = H0_coll.get_data(read_branches, 0.0, 1.0)\n",
    "    \n",
    "    H1_list_df = prepare_data(H1_df, list_branches, \"Pt\", [\"Pt\", \"Eta\", \"Phi\"], range(2), pt_limits)\n",
    "    H0_list_df = prepare_data(H0_df, list_branches, \"Pt\", [\"Pt\", \"Eta\", \"Phi\"], range(2), pt_limits)\n",
    "    \n",
    "    list_branches_unrolled = H1_list_df.columns\n",
    "            \n",
    "    H1_df = pd.concat([H1_df, H1_list_df], axis = 1)\n",
    "    H0_df = pd.concat([H0_df, H0_list_df], axis = 1)        \n",
    "    \n",
    "    complete_input_branches = np.concatenate([input_branches, list_branches_unrolled])\n",
    "            \n",
    "    H1_df = H1_df[complete_input_branches]\n",
    "    H0_df = H0_df[complete_input_branches]\n",
    "    \n",
    "    return H1_df, H0_df"
   ]
  },
  {
   "cell_type": "code",
   "execution_count": 13,
   "metadata": {
    "collapsed": true
   },
   "outputs": [],
   "source": [
    "def get_data_dmatrix(H1_coll, H0_coll, read_branches, input_branches, list_branches, pt_limits):\n",
    "    H1_df, H0_df = get_data(H1_coll, H0_coll, read_branches, input_branches, list_branches, pt_limits)\n",
    "    \n",
    "    complete_input_branches = H1_df.columns\n",
    "    print \"number of input variables: \" + str(len(complete_input_branches))\n",
    "    print \"final list of inputs: \" + str(complete_input_branches)\n",
    "    \n",
    "    H1_data = H1_df.as_matrix()\n",
    "    H0_data = H0_df.as_matrix()\n",
    "    H1_target = np.ones(np.shape(H1_data)[0])\n",
    "    H0_target = np.zeros(np.shape(H0_data)[0])\n",
    "    \n",
    "    target = np.concatenate([H1_target, H0_target])\n",
    "    data = np.concatenate([H1_data, H0_data])\n",
    "    \n",
    "    dmatrix = xgb.DMatrix(data, label = target, feature_names = complete_input_branches)\n",
    "    \n",
    "    return dmatrix"
   ]
  },
  {
   "cell_type": "code",
   "execution_count": 14,
   "metadata": {
    "collapsed": true
   },
   "outputs": [],
   "source": [
    "def get_feature_correlation(source, corr_branches, mandatory_branches, optional_branches, list_branches, pt_limits):    \n",
    "    coll = FileCollection(collections[source], 0.0, 0.5)\n",
    "    \n",
    "    input_branches = [branch for branch in mandatory_branches]\n",
    "    \n",
    "    for optional_branch in optional_branches:\n",
    "        if \"0j\" in source and (\"0j\" in optional_branch):\n",
    "            input_branches.append(optional_branch)\n",
    "            \n",
    "        if \"1j\" in source and (\"1j\" in optional_branch):\n",
    "            input_branches.append(optional_branch)\n",
    "            \n",
    "        if \"2j\" in source and (\"2j\" in optional_branch):\n",
    "            input_branches.append(optional_branch)\n",
    "\n",
    "    df, _ = get_data(coll, coll, allbranches, input_branches, list_branches, pt_limits)\n",
    "\n",
    "    df = df[corr_branches]\n",
    "    \n",
    "    fig = plt.figure(figsize=(10,15))\n",
    "    ax = fig.add_subplot(111)\n",
    "    \n",
    "    cax = ax.matshow(df.corr(), vmin = -1.0, vmax = 1.0, cmap = \"RdBu\")\n",
    "    \n",
    "    fig.colorbar(cax)\n",
    "    \n",
    "    ax.xaxis.set_major_locator(ticker.MultipleLocator(1))\n",
    "    ax.yaxis.set_major_locator(ticker.MultipleLocator(1))\n",
    "    \n",
    "    ax.set_yticklabels([''] + corr_branches)\n",
    "    ax.set_xticklabels([''] + corr_branches, rotation = 'vertical')\n",
    "    \n",
    "    return fig"
   ]
  },
  {
   "cell_type": "code",
   "execution_count": 15,
   "metadata": {
    "collapsed": true
   },
   "outputs": [],
   "source": [
    "def get_interpolating_function(data, bins):\n",
    "    bin_centers = [np.mean([bins[i], bins[i + 1]]) for i in range(len(bins) - 1)]\n",
    "    intf = interpolate.interp1d(bin_centers, data, kind = \"linear\")\n",
    "    interpolated_function = lambda x: intf(x) if x > bin_centers[0] and x < bin_centers[-1] else 0\n",
    "    \n",
    "    return interpolated_function"
   ]
  },
  {
   "cell_type": "code",
   "execution_count": 16,
   "metadata": {
    "collapsed": true
   },
   "outputs": [],
   "source": [
    "def get_binned_data(df, branch):\n",
    "    data = df[branch].as_matrix()\n",
    "    weights = df[\"training_weight\"].as_matrix()\n",
    "    \n",
    "    # set the bin width\n",
    "    q75, q25 = np.percentile(data, [75, 25])\n",
    "    bin_width = max(2 * (q75 - q25) / len(data)**0.33, 0.005)\n",
    "\n",
    "    data_max = np.max(data)\n",
    "    data_min = np.min(data)\n",
    "    bins = np.arange(data_min, data_max + bin_width, bin_width)\n",
    "    \n",
    "    weights = weights / (np.sum(weights) * bin_width)\n",
    "    \n",
    "    hist = np.histogram(data, bins = bins, weights = weights)\n",
    "    return hist"
   ]
  },
  {
   "cell_type": "code",
   "execution_count": 17,
   "metadata": {
    "collapsed": true
   },
   "outputs": [],
   "source": [
    "def get_feature_importance_list_separation(disc_pair, mandatory_branches, optional_branches, list_branches, pt_limits):\n",
    "    H1_name = disc_pair[0]\n",
    "    H0_name = disc_pair[1]\n",
    "    \n",
    "    input_branches = [branch for branch in mandatory_branches]\n",
    "    \n",
    "    for optional_branch in optional_branches:\n",
    "        if (\"0j\" in H1_name or \"0j\" in H0_name) and (\"0j\" in optional_branch):\n",
    "            input_branches.append(optional_branch)  \n",
    "        elif (\"1j\" in H1_name or \"1j\" in H0_name) and (\"1j\" in optional_branch):\n",
    "            input_branches.append(optional_branch)\n",
    "        elif (\"2j\" in H1_name or \"2j\" in H0_name) and not (\"1j\" in optional_branch):\n",
    "            input_branches.append(optional_branch)\n",
    "            \n",
    "    # needed to build the histograms\n",
    "    input_branches.append(\"training_weight\")\n",
    "    \n",
    "    H1_coll = FileCollection(collections[H1_name], 0.0, 0.5)\n",
    "    H0_coll = FileCollection(collections[H0_name], 0.0, 0.5)\n",
    "    \n",
    "    H1_df, H0_df = get_data(H1_coll, H0_coll, allbranches, input_branches, list_branches, pt_limits)\n",
    "    \n",
    "    available_branches = H1_df.columns\n",
    "    \n",
    "    implist = {}\n",
    "    for branch in available_branches:\n",
    "                \n",
    "        if \"training_weight\" not in branch:\n",
    "            data_H1, bins_H1 = get_binned_data(H1_df, branch)\n",
    "            data_H0, bins_H0 = get_binned_data(H0_df, branch)\n",
    "\n",
    "            if(len(data_H1) > 0):\n",
    "                H1_func = get_interpolating_function(data_H1, bins_H1)\n",
    "                H0_func = get_interpolating_function(data_H0, bins_H0)\n",
    "\n",
    "                # compute the separation in this branch\n",
    "                global_min = np.min(np.concatenate([bins_H0, bins_H1]))\n",
    "                global_max = np.max(np.concatenate([bins_H0, bins_H1]))\n",
    "\n",
    "                separation_func = lambda x: (H1_func(x) + H0_func(x)) * (H1_func(x) - H0_func(x))**2\n",
    "\n",
    "                sep = integrate.quad(separation_func, global_min, global_max)[0]\n",
    "            else:\n",
    "                sep = 0.0\n",
    "                \n",
    "            print \"separation for \" + branch + \" = \" + str(sep)\n",
    "            implist[branch] = sep\n",
    "        \n",
    "    # normalize the importance list\n",
    "    impsum = sum([val for key, val in implist.iteritems()])\n",
    "    for key in implist.keys():\n",
    "        implist[key] /= impsum\n",
    "        \n",
    "    return None, None, implist"
   ]
  },
  {
   "cell_type": "code",
   "execution_count": 18,
   "metadata": {
    "collapsed": false
   },
   "outputs": [],
   "source": [
    "def get_feature_importance_list_BDT(disc_pair, mandatory_branches, optional_branches, list_branches, pt_limits):\n",
    "    H1_name = disc_pair[0]\n",
    "    H0_name = disc_pair[1]\n",
    "    \n",
    "    # first assemble the list of branches that can serve as input: it will *always* contain the mandatory branches,\n",
    "    # and *can* contain some of the optional branches, if the name of the categories allows it\n",
    "    input_branches = [branch for branch in mandatory_branches]\n",
    "    \n",
    "    for optional_branch in optional_branches:\n",
    "        if (\"0j\" in H1_name or \"0j\" in H0_name) and (\"0j\" in optional_branch):\n",
    "            input_branches.append(optional_branch)  \n",
    "        elif (\"1j\" in H1_name or \"1j\" in H0_name) and (\"1j\" in optional_branch):\n",
    "            input_branches.append(optional_branch)\n",
    "        elif (\"2j\" in H1_name or \"2j\" in H0_name) and not (\"1j\" in optional_branch):\n",
    "            input_branches.append(optional_branch)\n",
    "            \n",
    "        # the fully inclusive categories (i.e. those with NO \"xxj\" in their name, can not use MELA, since there may\n",
    "        # be events with low number of jets contained)\n",
    "    \n",
    "    # get the training data for the BDT ...\n",
    "    H1_coll_train = FileCollection(collections[H1_name], 0.0, 0.5)\n",
    "    H0_coll_train = FileCollection(collections[H0_name], 0.0, 0.5)\n",
    "    \n",
    "    dtrain = get_data_dmatrix(H1_coll_train, H0_coll_train, allbranches, input_branches, list_branches, pt_limits)\n",
    "    \n",
    "    # ... and the validation data as well\n",
    "    H1_coll_val = FileCollection(collections[H1_name], 0.5, 1.0)\n",
    "    H0_coll_val = FileCollection(collections[H0_name], 0.5, 1.0)\n",
    "    dval = get_data_dmatrix(H1_coll_val, H0_coll_val, allbranches, input_branches, list_branches, pt_limits)\n",
    "    \n",
    "    evallist = [(dtrain, 'train'), (dval, 'eval')]\n",
    "    \n",
    "    # perform the training\n",
    "    # try different tree depths and choose the one that gives the best RMSE (i.e. avoid too deep trees to start with)\n",
    "        \n",
    "    params = {'eta': 0.01, 'silent': 1, 'gamma': 0.5, 'objective': 'binary:logistic'}\n",
    "    params['nthread'] = 4\n",
    "    params['eval_metric'] = 'rmse'\n",
    "    max_num_rounds = 2000\n",
    "    \n",
    "    best_loss = 1e6\n",
    "    best_imp = None\n",
    "    best_params = None\n",
    "    for tree_depth in range(1,8):\n",
    "        params['max_depth'] = tree_depth\n",
    "        \n",
    "        bst = xgb.train(params, dtrain, max_num_rounds, evals = evallist, early_stopping_rounds = 10, verbose_eval = False)\n",
    "    \n",
    "        pred = bst.predict(dval)\n",
    "        cur_loss = np.sqrt(mean_squared_error(pred, dval.get_label()))\n",
    "        cur_imp = bst.get_fscore()\n",
    "\n",
    "        print \"for max_depth = \" + str(params['max_depth']) + \": loss = \" + str(cur_loss)\n",
    "        \n",
    "        if cur_loss < best_loss:\n",
    "            best_loss = cur_loss\n",
    "            best_imp = copy.copy(cur_imp)\n",
    "            best_params = copy.copy(params)\n",
    "            \n",
    "    # normalize the usage score w.r.t. the total score (i.e. sum of all individuals)\n",
    "    score_sum = sum([val for key, val in best_imp.iteritems()])\n",
    "    used_variables = {key: val / float(score_sum) for key, val in sorted(best_imp.iteritems(), key = lambda x: x[1], reverse = True)}           \n",
    "    return best_params, dtrain.feature_names, used_variables"
   ]
  },
  {
   "cell_type": "code",
   "execution_count": 19,
   "metadata": {
    "collapsed": false
   },
   "outputs": [],
   "source": [
    "def get_histogram(df, branch, label):\n",
    "    data = df[branch].as_matrix()\n",
    "    weights = df[\"training_weight\"].as_matrix()\n",
    "    \n",
    "    # set the bin width\n",
    "    q75, q25 = np.percentile(data, [75, 25])\n",
    "    bin_width = max(2 * (q75 - q25) / len(data)**0.33, 0.005)\n",
    "\n",
    "    data_max = np.max(data)\n",
    "    data_min = np.min(data)\n",
    "    bins = np.arange(data_min, data_max + bin_width, bin_width)\n",
    "    \n",
    "    weights = weights / (np.sum(weights) * bin_width)\n",
    "    \n",
    "    fig = plt.hist(data, bins = bins, weights = weights, alpha = 0.5, label = label)\n",
    "    return fig"
   ]
  },
  {
   "cell_type": "code",
   "execution_count": 20,
   "metadata": {
    "collapsed": true
   },
   "outputs": [],
   "source": [
    "def plot_branch(disc_pair, branch, start_fraction = 0.0, end_fraction = 1.0):\n",
    "    H1_name = disc_pair[0]\n",
    "    H0_name = disc_pair[1]\n",
    "    \n",
    "    # get the training data for the BDT ...\n",
    "    H1_coll = FileCollection(collections[H1_name], start_fraction, end_fraction)\n",
    "    H0_coll = FileCollection(collections[H0_name], start_fraction, end_fraction)\n",
    "    \n",
    "    H1_df, H0_df = get_data(H1_coll, H0_coll, allbranches, allbranches, list_branches, pt_limits)\n",
    "    \n",
    "    plt.figure()\n",
    "    H1_hist = get_histogram(H1_df, branch, H1_name)\n",
    "    H0_hist = get_histogram(H0_df, branch, H0_name)\n",
    "    \n",
    "    plt.legend(loc = 'upper right')\n",
    "    plt.show()"
   ]
  },
  {
   "cell_type": "code",
   "execution_count": 21,
   "metadata": {
    "collapsed": false
   },
   "outputs": [],
   "source": [
    "def plot_variables(discs):\n",
    "    plotframe = pd.DataFrame()\n",
    "    \n",
    "    for disc in discs:\n",
    "        _, _, implist = get_feature_importance_list_BDT(disc, candidate_branches, MELA_branches, list_branches, pt_limits)\n",
    "        \n",
    "        # cut the list to select only the 95% most important variables\n",
    "        cutimplist = {key: val for key, val in implist.iteritems() if val > 0.00}\n",
    "        curframe = pd.DataFrame(cutimplist, index = [len(plotframe)])\n",
    "        \n",
    "        plotframe = pd.concat([plotframe, curframe])\n",
    "        \n",
    "    plotframe = plotframe.fillna(0.0)\n",
    "    \n",
    "    print plotframe\n",
    "    print \"number of pre-selected input variables = \" + str(len(plotframe.columns))\n",
    "    \n",
    "    # start the plotting\n",
    "    parameters = plotframe.columns\n",
    "    plotdata = np.transpose(plotframe.as_matrix())\n",
    "    \n",
    "    plt.close('all')\n",
    "    fig = plt.figure(figsize=(10,15))\n",
    "    ax = fig.add_subplot(111)\n",
    "    cax = ax.matshow(plotdata, cmap = 'Blues')\n",
    "    \n",
    "    # make axis labels\n",
    "    disclabels = []\n",
    "    for disc in discs:\n",
    "        if \"0j\" in disc[0] or \"0j\" in disc[1]:\n",
    "            disclabels.append('D_' + re.sub('0j', '', disc[0]) + \"_\" + re.sub('0j', '', disc[1]) + \"_0j\")\n",
    "        elif \"01j\" in disc[0] or \"01j\" in disc[1]:\n",
    "            disclabels.append('D_' + re.sub('01j', '', disc[0]) + \"_\" + re.sub('01j', '', disc[1]) + \"_01j\")\n",
    "        elif \"1j\" in disc[0] or \"1j\" in disc[1]:\n",
    "            disclabels.append('D_' + re.sub('1j', '', disc[0]) + \"_\" + re.sub('1j', '', disc[1]) + \"_1j\")\n",
    "        elif \"2j\" in disc[0] or \"2j\" in disc[1]:\n",
    "            disclabels.append('D_' + re.sub('2j', '', disc[0]) + \"_\" + re.sub('2j', '', disc[1]) + \"_2j\")\n",
    "        else:\n",
    "            disclabels.append('D_' + disc[0] + \"_\" + disc[1] + \"_2j\")\n",
    "            \n",
    "    disclabels = np.concatenate([[''], np.array(disclabels)])\n",
    "    parameters = np.concatenate([[''], np.array(parameters)])\n",
    "        \n",
    "    ax.set_xticklabels(disclabels, rotation = 'vertical')\n",
    "    ax.set_yticklabels(parameters)\n",
    "    \n",
    "    ax.xaxis.set_major_locator(ticker.MultipleLocator(1))\n",
    "    ax.yaxis.set_major_locator(ticker.MultipleLocator(1))\n",
    "    \n",
    "    # sort the used variables according to their importance\n",
    "    sorted_implist = []\n",
    "    for key, val in sorted(cutimplist.iteritems(), key = lambda x: x[1], reverse = True):\n",
    "        sorted_implist.append((key, val))\n",
    "    \n",
    "    return fig, sorted_implist"
   ]
  },
  {
   "cell_type": "raw",
   "metadata": {
    "collapsed": false
   },
   "source": [
    "corr1 = get_feature_correlation(\"WHh1j\", [\"LepPt_0\", \"LepPt_1\"], candidate_branches, MELA_branches, list_branches, pt_limits)"
   ]
  },
  {
   "cell_type": "raw",
   "metadata": {
    "collapsed": false
   },
   "source": [
    "plt.show()"
   ]
  },
  {
   "cell_type": "code",
   "execution_count": 22,
   "metadata": {
    "collapsed": false,
    "scrolled": false
   },
   "outputs": [],
   "source": [
    "%%capture\n",
    "fig, implist = plot_variables([(\"VBF2j\", \"ggH2j\")])"
   ]
  },
  {
   "cell_type": "code",
   "execution_count": 23,
   "metadata": {
    "collapsed": false
   },
   "outputs": [
    {
     "data": {
      "text/plain": [
       "[('D_VBF2j_ggH_ME', 0.0934156378600823),\n",
       " ('JetPt_0', 0.08994708994708994),\n",
       " ('JetPt_1', 0.07360376249265138),\n",
       " ('ZZPt', 0.059376837154614934),\n",
       " ('nCleanedJetsPt30', 0.04838330393885949),\n",
       " ('PFMET', 0.046325690770135215),\n",
       " ('D_WHh_ZHh_ME', 0.046325690770135215),\n",
       " ('Z2Pt', 0.0435626102292769),\n",
       " ('D_ZHh_ggH_ME', 0.042328042328042326),\n",
       " ('Z1Pt', 0.042034097589653145),\n",
       " ('JetEta_1', 0.03968253968253968),\n",
       " ('JetPhi_1', 0.03827160493827161),\n",
       " ('ZZEta', 0.036331569664902995),\n",
       " ('JetEta_0', 0.035155790711346266),\n",
       " ('D_VBF2j_WHh_ME', 0.03403880070546737),\n",
       " ('ZZMass', 0.03368606701940035),\n",
       " ('ZZPhi', 0.031099353321575544),\n",
       " ('JetPhi_0', 0.030393885949441504),\n",
       " ('Z1Mass', 0.029218106995884775),\n",
       " ('D_VBF2j_ZHh_ME', 0.027865961199294534),\n",
       " ('Z2Mass', 0.025279247501469725),\n",
       " ('ZZMassErr', 0.024926513815402705),\n",
       " ('D_WHh_ggH_ME', 0.024573780129335684),\n",
       " ('Z1Flav', 0.001763668430335097),\n",
       " ('Z2Flav', 0.0014697236919459142),\n",
       " ('nCleanedJetsPt30BTagged_bTagSF', 0.0009406231628453851)]"
      ]
     },
     "execution_count": 23,
     "metadata": {},
     "output_type": "execute_result"
    }
   ],
   "source": [
    "implist"
   ]
  },
  {
   "cell_type": "code",
   "execution_count": 24,
   "metadata": {
    "collapsed": false,
    "scrolled": false
   },
   "outputs": [],
   "source": [
    "%%capture\n",
    "fig, implist = plot_variables([(\"VBF1j\", \"ggH1j\")])"
   ]
  },
  {
   "cell_type": "code",
   "execution_count": 25,
   "metadata": {
    "collapsed": false
   },
   "outputs": [
    {
     "data": {
      "text/plain": [
       "[('JetEta_0', 0.21530531324345759),\n",
       " ('ZZPt', 0.09448283675087799),\n",
       " ('D_VBF1j_ggH_ME', 0.09227370567576754),\n",
       " ('JetPt_0', 0.08468335787923417),\n",
       " ('ZZEta', 0.07584683357879234),\n",
       " ('PFMET', 0.07465730146142517),\n",
       " ('ZZMassErr', 0.05392545598731166),\n",
       " ('Z1Pt', 0.052509346323779314),\n",
       " ('Z2Pt', 0.043049733771383256),\n",
       " ('ZZMass', 0.0417469128809335),\n",
       " ('JetPhi_0', 0.04135040217514444),\n",
       " ('Z2Mass', 0.04101053585589668),\n",
       " ('Z1Mass', 0.04038744760394245),\n",
       " ('ZZPhi', 0.03460972017673049),\n",
       " ('nCleanedJetsPt30BTagged_bTagSF', 0.00708054831766172),\n",
       " ('ExtraLepPt_0', 0.0030021524866885693),\n",
       " ('ExtraLepPhi_0', 0.0019825535289452814),\n",
       " ('Z2Flav', 0.0012461765039084626),\n",
       " ('Z1Flav', 0.0005664438654129376),\n",
       " ('ExtraLepEta_0', 0.00016993315962388127),\n",
       " ('nExtraLep', 0.00011328877308258752)]"
      ]
     },
     "execution_count": 25,
     "metadata": {},
     "output_type": "execute_result"
    }
   ],
   "source": [
    "implist"
   ]
  },
  {
   "cell_type": "code",
   "execution_count": 26,
   "metadata": {
    "collapsed": false,
    "scrolled": false
   },
   "outputs": [],
   "source": [
    "%%capture\n",
    "fig, implist = plot_variables([(\"VBF0j\", \"ggH0j\")])"
   ]
  },
  {
   "cell_type": "code",
   "execution_count": 27,
   "metadata": {
    "collapsed": false
   },
   "outputs": [
    {
     "data": {
      "text/plain": [
       "[('ZZPt', 0.6882453151618398),\n",
       " ('PFMET', 0.07722884724588303),\n",
       " ('Z1Pt', 0.06700738216922203),\n",
       " ('ZZPhi', 0.05281090289608177),\n",
       " ('ZZEta', 0.04713231118682567),\n",
       " ('Z2Pt', 0.020442930153321975),\n",
       " ('Z2Mass', 0.016467915956842702),\n",
       " ('ZZMass', 0.009653605905735378),\n",
       " ('nExtraLep', 0.0073821692220329355),\n",
       " ('ZZMassErr', 0.005110732538330494),\n",
       " ('ExtraLepEta_0', 0.004542873367404884),\n",
       " ('Z1Mass', 0.0034071550255536627),\n",
       " ('ExtraLepPt_0', 0.0005678591709256105)]"
      ]
     },
     "execution_count": 27,
     "metadata": {},
     "output_type": "execute_result"
    }
   ],
   "source": [
    "implist"
   ]
  },
  {
   "cell_type": "code",
   "execution_count": 28,
   "metadata": {
    "collapsed": false,
    "scrolled": false
   },
   "outputs": [],
   "source": [
    "%%capture\n",
    "fig, implist = plot_variables([(\"WHh2j\", \"ggH2j\")])"
   ]
  },
  {
   "cell_type": "code",
   "execution_count": 29,
   "metadata": {
    "collapsed": false
   },
   "outputs": [
    {
     "data": {
      "text/plain": [
       "[('JetPt_0', 0.0807279063014229),\n",
       " ('JetPt_1', 0.07763043267834673),\n",
       " ('D_WHh_ggH_ME', 0.07075791307714645),\n",
       " ('ZZPt', 0.06732165327654632),\n",
       " ('D_VBF2j_ggH_ME', 0.06451456780563353),\n",
       " ('JetEta_0', 0.05793243635659665),\n",
       " ('ZZEta', 0.0492207917916949),\n",
       " ('Z1Pt', 0.04176749588616784),\n",
       " ('PFMET', 0.04138031168328332),\n",
       " ('ZZPhi', 0.03949278869422128),\n",
       " ('JetPhi_0', 0.03881521633917336),\n",
       " ('ZZMass', 0.03818604200948601),\n",
       " ('ZZMassErr', 0.037653663730519794),\n",
       " ('D_WHh_ZHh_ME', 0.03465298615816475),\n",
       " ('nCleanedJetsPt30', 0.03450779208208305),\n",
       " ('JetEta_1', 0.03247507501693931),\n",
       " ('Z2Mass', 0.031507114509728006),\n",
       " ('Z2Pt', 0.029232407317781435),\n",
       " ('JetPhi_1', 0.02836124286129126),\n",
       " ('Z1Mass', 0.028312844835930693),\n",
       " ('D_ZHh_ggH_ME', 0.02424741070564321),\n",
       " ('D_VBF2j_ZHh_ME', 0.023860226502758687),\n",
       " ('D_VBF2j_WHh_ME', 0.020617558803600812),\n",
       " ('Z2Flav', 0.003484657825960701),\n",
       " ('Z1Flav', 0.0019843190397831768),\n",
       " ('ExtraLepPt_0', 0.0010163585325718711),\n",
       " ('nCleanedJetsPt30BTagged_bTagSF', 0.000338786177523957)]"
      ]
     },
     "execution_count": 29,
     "metadata": {},
     "output_type": "execute_result"
    }
   ],
   "source": [
    "implist"
   ]
  },
  {
   "cell_type": "code",
   "execution_count": 30,
   "metadata": {
    "collapsed": false,
    "scrolled": false
   },
   "outputs": [],
   "source": [
    "%%capture\n",
    "fig, implist = plot_variables([(\"WHh1j\", \"ggH1j\")])"
   ]
  },
  {
   "cell_type": "code",
   "execution_count": 31,
   "metadata": {
    "collapsed": false
   },
   "outputs": [
    {
     "data": {
      "text/plain": [
       "[('JetEta_0', 0.13644053459651498),\n",
       " ('ZZEta', 0.11850786668922349),\n",
       " ('JetPt_0', 0.09896802571476908),\n",
       " ('D_VBF1j_ggH_ME', 0.08340382338013873),\n",
       " ('ZZPt', 0.07793379574804038),\n",
       " ('PFMET', 0.06087520442113573),\n",
       " ('ZZMassErr', 0.058647718942085376),\n",
       " ('ZZPhi', 0.05292392714148762),\n",
       " ('Z2Mass', 0.0519652625049343),\n",
       " ('Z2Pt', 0.0519652625049343),\n",
       " ('ZZMass', 0.05182428241132352),\n",
       " ('JetPhi_0', 0.05145773416793549),\n",
       " ('Z1Pt', 0.04649523487283595),\n",
       " ('Z1Mass', 0.043985789206564034),\n",
       " ('Z2Flav', 0.004680539107877968),\n",
       " ('nCleanedJetsPt30BTagged_bTagSF', 0.004116618733434839),\n",
       " ('ExtraLepPt_0', 0.0029041899283821122),\n",
       " ('Z1Flav', 0.002875993909659956),\n",
       " ('nExtraLep', 2.819601872215643e-05)]"
      ]
     },
     "execution_count": 31,
     "metadata": {},
     "output_type": "execute_result"
    }
   ],
   "source": [
    "implist"
   ]
  },
  {
   "cell_type": "code",
   "execution_count": 32,
   "metadata": {
    "collapsed": false,
    "scrolled": false
   },
   "outputs": [],
   "source": [
    "%%capture\n",
    "fig, implist = plot_variables([(\"WHh0j\", \"ggH0j\")])"
   ]
  },
  {
   "cell_type": "code",
   "execution_count": 33,
   "metadata": {
    "collapsed": false
   },
   "outputs": [
    {
     "data": {
      "text/plain": [
       "[('ZZPt', 0.48711484593837534),\n",
       " ('ZZEta', 0.13165266106442577),\n",
       " ('ZZMassErr', 0.08263305322128851),\n",
       " ('Z2Pt', 0.05546218487394958),\n",
       " ('Z2Mass', 0.05266106442577031),\n",
       " ('Z1Pt', 0.050140056022408966),\n",
       " ('PFMET', 0.046218487394957986),\n",
       " ('ZZMass', 0.031932773109243695),\n",
       " ('Z1Mass', 0.025210084033613446),\n",
       " ('ZZPhi', 0.02492997198879552),\n",
       " ('ExtraLepPt_0', 0.011204481792717087),\n",
       " ('ExtraLepEta_0', 0.0008403361344537816)]"
      ]
     },
     "execution_count": 33,
     "metadata": {},
     "output_type": "execute_result"
    }
   ],
   "source": [
    "implist"
   ]
  },
  {
   "cell_type": "code",
   "execution_count": 34,
   "metadata": {
    "collapsed": false,
    "scrolled": false
   },
   "outputs": [],
   "source": [
    "%%capture\n",
    "fig, implist = plot_variables([(\"ZHh2j\", \"ggH2j\")])"
   ]
  },
  {
   "cell_type": "code",
   "execution_count": 35,
   "metadata": {
    "collapsed": false
   },
   "outputs": [
    {
     "data": {
      "text/plain": [
       "[('JetPt_0', 0.10333591931730023),\n",
       " ('nCleanedJetsPt30BTagged_bTagSF', 0.09107835531419706),\n",
       " ('JetPt_1', 0.07757951900698215),\n",
       " ('D_VBF2j_ggH_ME', 0.07183863460046548),\n",
       " ('ZZPt', 0.07168347556245151),\n",
       " ('ZZEta', 0.07013188518231186),\n",
       " ('D_ZHh_ggH_ME', 0.06966640806826997),\n",
       " ('D_WHh_ggH_ME', 0.0660977501939488),\n",
       " ('JetEta_0', 0.05120248254460822),\n",
       " ('nCleanedJetsPt30', 0.04127230411171451),\n",
       " ('Z1Pt', 0.038789759503491075),\n",
       " ('D_VBF2j_WHh_ME', 0.03413498836307215),\n",
       " ('JetPhi_0', 0.02916989914662529),\n",
       " ('PFMET', 0.02591155934833204),\n",
       " ('D_WHh_ZHh_ME', 0.021722265321955005),\n",
       " ('JetEta_1', 0.020325833979829323),\n",
       " ('ZZPhi', 0.01970519782777347),\n",
       " ('ZZMass', 0.01768813033359193),\n",
       " ('Z1Mass', 0.01768813033359193),\n",
       " ('ZZMassErr', 0.015671062839410395),\n",
       " ('D_VBF2j_ZHh_ME', 0.01334367726920093),\n",
       " ('Z2Pt', 0.012102404965089216),\n",
       " ('JetPhi_1', 0.009464701318851822),\n",
       " ('Z2Mass', 0.008688906128782002),\n",
       " ('Z2Flav', 0.0017067494181536075)]"
      ]
     },
     "execution_count": 35,
     "metadata": {},
     "output_type": "execute_result"
    }
   ],
   "source": [
    "implist"
   ]
  },
  {
   "cell_type": "code",
   "execution_count": 36,
   "metadata": {
    "collapsed": false,
    "scrolled": false
   },
   "outputs": [],
   "source": [
    "%%capture\n",
    "fig, implist = plot_variables([(\"ZHh1j\", \"ggH1j\")])"
   ]
  },
  {
   "cell_type": "code",
   "execution_count": 37,
   "metadata": {
    "collapsed": false
   },
   "outputs": [
    {
     "data": {
      "text/plain": [
       "[('ZZEta', 0.12485887665819927),\n",
       " ('JetEta_0', 0.12461191081004798),\n",
       " ('D_VBF1j_ggH_ME', 0.10277307366638443),\n",
       " ('JetPt_0', 0.09624611910810048),\n",
       " ('ZZPt', 0.07285492520462884),\n",
       " ('ZZPhi', 0.06593988145639289),\n",
       " ('PFMET', 0.05895427603725656),\n",
       " ('ZZMass', 0.0558848433530906),\n",
       " ('Z2Mass', 0.05486169912503528),\n",
       " ('ZZMassErr', 0.04784081287044877),\n",
       " ('JetPhi_0', 0.045441716059836296),\n",
       " ('Z2Pt', 0.04360711261642676),\n",
       " ('Z1Pt', 0.04304261924922382),\n",
       " ('Z1Mass', 0.04067880327406153),\n",
       " ('nCleanedJetsPt30BTagged_bTagSF', 0.012912785774767146),\n",
       " ('Z2Flav', 0.004939316963025684),\n",
       " ('ExtraLepPt_0', 0.0026460626587637595),\n",
       " ('Z1Flav', 0.001905165114309907)]"
      ]
     },
     "execution_count": 37,
     "metadata": {},
     "output_type": "execute_result"
    }
   ],
   "source": [
    "implist"
   ]
  },
  {
   "cell_type": "code",
   "execution_count": 38,
   "metadata": {
    "collapsed": false,
    "scrolled": false
   },
   "outputs": [],
   "source": [
    "%%capture\n",
    "fig, implist = plot_variables([(\"ZHh0j\", \"ggH0j\")])"
   ]
  },
  {
   "cell_type": "code",
   "execution_count": 39,
   "metadata": {
    "collapsed": false
   },
   "outputs": [
    {
     "data": {
      "text/plain": [
       "[('ZZPt', 0.3042638538107265),\n",
       " ('Z1Pt', 0.1209329965829743),\n",
       " ('ZZEta', 0.10117367404546129),\n",
       " ('Z2Mass', 0.0901797652651909),\n",
       " ('Z1Mass', 0.08423711187045016),\n",
       " ('ZZPhi', 0.08082008616847422),\n",
       " ('PFMET', 0.05571237557569455),\n",
       " ('Z2Pt', 0.048432625167137124),\n",
       " ('ZZMassErr', 0.03223889466646858),\n",
       " ('ZZMass', 0.03179319566186302),\n",
       " ('ExtraLepPt_0', 0.029861833308572276),\n",
       " ('ExtraLepEta_0', 0.014262368147377804),\n",
       " ('ExtraLepPhi_0', 0.004011291041450008),\n",
       " ('Z2Flav', 0.0016342296835537068),\n",
       " ('Z1Flav', 0.00044569900460555636)]"
      ]
     },
     "execution_count": 39,
     "metadata": {},
     "output_type": "execute_result"
    }
   ],
   "source": [
    "implist"
   ]
  },
  {
   "cell_type": "code",
   "execution_count": 40,
   "metadata": {
    "collapsed": false,
    "scrolled": false
   },
   "outputs": [],
   "source": [
    "%%capture\n",
    "fig, implist = plot_variables([(\"WHh2j\", \"ZHh2j\")])"
   ]
  },
  {
   "cell_type": "code",
   "execution_count": 41,
   "metadata": {
    "collapsed": false
   },
   "outputs": [
    {
     "data": {
      "text/plain": [
       "[('D_WHh_ZHh_ME', 0.12430568856540893),\n",
       " ('nCleanedJetsPt30BTagged_bTagSF', 0.11166443210113006),\n",
       " ('D_ZHh_ggH_ME', 0.06473855583221605),\n",
       " ('JetPhi_1', 0.06205707718827811),\n",
       " ('PFMET', 0.05190576517908447),\n",
       " ('nCleanedJetsPt30', 0.051522696801379046),\n",
       " ('JetEta_0', 0.044435931813828766),\n",
       " ('D_VBF2j_WHh_ME', 0.04386132924727064),\n",
       " ('ZZMass', 0.04117985060333269),\n",
       " ('JetPt_1', 0.04079678222562728),\n",
       " ('Z2Mass', 0.03485922237119326),\n",
       " ('ZZEta', 0.033518483049224286),\n",
       " ('ZZPt', 0.032560812104960736),\n",
       " ('Z1Pt', 0.030262401838728213),\n",
       " ('JetEta_1', 0.029879333461022794),\n",
       " ('JetPt_0', 0.029687799272170082),\n",
       " ('ZZMassErr', 0.02643171806167401),\n",
       " ('D_WHh_ggH_ME', 0.02585711549511588),\n",
       " ('D_VBF2j_ZHh_ME', 0.025282512928557748),\n",
       " ('Z2Pt', 0.02489944455085233),\n",
       " ('JetPhi_0', 0.023367171040030645),\n",
       " ('Z1Mass', 0.01647194024133308),\n",
       " ('D_VBF2j_ggH_ME', 0.010151312009193642),\n",
       " ('Z2Flav', 0.00995977782034093),\n",
       " ('ZZPhi', 0.00881057268722467),\n",
       " ('Z1Flav', 0.0015322735108216816)]"
      ]
     },
     "execution_count": 41,
     "metadata": {},
     "output_type": "execute_result"
    }
   ],
   "source": [
    "implist"
   ]
  },
  {
   "cell_type": "code",
   "execution_count": 42,
   "metadata": {
    "collapsed": false,
    "scrolled": false
   },
   "outputs": [],
   "source": [
    "%%capture\n",
    "fig, implist = plot_variables([(\"WHh01j\", \"ZHh01j\")])"
   ]
  },
  {
   "cell_type": "code",
   "execution_count": 43,
   "metadata": {
    "collapsed": false
   },
   "outputs": [
    {
     "data": {
      "text/plain": [
       "[('nCleanedJetsPt30BTagged_bTagSF', 0.20610687022900764),\n",
       " ('ZZMass', 0.12213740458015267),\n",
       " ('ZZPt', 0.10347752332485156),\n",
       " ('ZZEta', 0.09245122985581),\n",
       " ('JetPt_0', 0.07633587786259542),\n",
       " ('D_VBF1j_ggH_ME', 0.06446140797285835),\n",
       " ('ZZPhi', 0.043256997455470736),\n",
       " ('PFMET', 0.04240882103477523),\n",
       " ('Z2Mass', 0.039016115351993216),\n",
       " ('JetEta_0', 0.0364715860899067),\n",
       " ('Z1Mass', 0.03307888040712468),\n",
       " ('Z2Pt', 0.031382527565733676),\n",
       " ('JetPhi_0', 0.029686174724342665),\n",
       " ('Z1Pt', 0.020356234096692113),\n",
       " ('ExtraLepEta_0', 0.019508057675996608),\n",
       " ('ZZMassErr', 0.016963528413910092),\n",
       " ('ExtraLepPt_0', 0.01272264631043257),\n",
       " ('ExtraLepPhi_0', 0.006785411365564037),\n",
       " ('Z1Flav', 0.0033927056827820186)]"
      ]
     },
     "execution_count": 43,
     "metadata": {},
     "output_type": "execute_result"
    }
   ],
   "source": [
    "implist"
   ]
  },
  {
   "cell_type": "code",
   "execution_count": 44,
   "metadata": {
    "collapsed": false,
    "scrolled": false
   },
   "outputs": [],
   "source": [
    "%%capture\n",
    "fig, implist = plot_variables([(\"VBF2j\", \"WHh2j\")])"
   ]
  },
  {
   "cell_type": "code",
   "execution_count": 45,
   "metadata": {
    "collapsed": false
   },
   "outputs": [
    {
     "data": {
      "text/plain": [
       "[('D_VBF2j_ggH_ME', 0.12462303366207515),\n",
       " ('nCleanedJetsPt30', 0.10864781155758416),\n",
       " ('D_WHh_ggH_ME', 0.07906104817018501),\n",
       " ('JetEta_0', 0.05917352677479827),\n",
       " ('ZZEta', 0.05265302795663868),\n",
       " ('JetPt_0', 0.0506968783111908),\n",
       " ('JetEta_1', 0.049474284782785885),\n",
       " ('D_WHh_ZHh_ME', 0.048496209960061945),\n",
       " ('D_VBF2j_ZHh_ME', 0.044665416904393185),\n",
       " ('ZZPt', 0.04238324231803733),\n",
       " ('JetPt_1', 0.03455864373624582),\n",
       " ('PFMET', 0.029016219740810173),\n",
       " ('ZZPhi', 0.028934713505583177),\n",
       " ('Z1Mass', 0.028038144918086233),\n",
       " ('D_VBF2j_WHh_ME', 0.02730458880104328),\n",
       " ('ZZMass', 0.0269785638601353),\n",
       " ('D_ZHh_ggH_ME', 0.025429945390822398),\n",
       " ('ZZMassErr', 0.02461488303855245),\n",
       " ('JetPhi_0', 0.024370364332871465),\n",
       " ('Z1Pt', 0.02428885809764447),\n",
       " ('Z2Mass', 0.022006683511288615),\n",
       " ('JetPhi_1', 0.018012877985165866),\n",
       " ('Z2Pt', 0.01776835927948488),\n",
       " ('nCleanedJetsPt30BTagged_bTagSF', 0.004727361643165702),\n",
       " ('Z2Flav', 0.0017116309397668921),\n",
       " ('ExtraLepPt_0', 0.0016301247045398973),\n",
       " ('Z1Flav', 0.0006520498818159589),\n",
       " ('ExtraLepEta_0', 8.150623522699487e-05)]"
      ]
     },
     "execution_count": 45,
     "metadata": {},
     "output_type": "execute_result"
    }
   ],
   "source": [
    "implist"
   ]
  },
  {
   "cell_type": "code",
   "execution_count": 46,
   "metadata": {
    "collapsed": false,
    "scrolled": false
   },
   "outputs": [],
   "source": [
    "%%capture\n",
    "fig, implist = plot_variables([(\"VBF1j\", \"WHh1j\")])"
   ]
  },
  {
   "cell_type": "code",
   "execution_count": 47,
   "metadata": {
    "collapsed": false
   },
   "outputs": [
    {
     "data": {
      "text/plain": [
       "[('JetEta_0', 0.1589121338912134),\n",
       " ('ZZEta', 0.13893305439330544),\n",
       " ('JetPt_0', 0.1002092050209205),\n",
       " ('D_VBF1j_ggH_ME', 0.06527196652719665),\n",
       " ('PFMET', 0.058744769874476986),\n",
       " ('ZZMassErr', 0.05784518828451883),\n",
       " ('Z2Mass', 0.05713389121338912),\n",
       " ('ZZPt', 0.055230125523012555),\n",
       " ('JetPhi_0', 0.05489539748953975),\n",
       " ('Z1Pt', 0.05179916317991632),\n",
       " ('Z2Pt', 0.051401673640167365),\n",
       " ('ZZPhi', 0.05069037656903766),\n",
       " ('ZZMass', 0.047740585774058576),\n",
       " ('Z1Mass', 0.04117154811715481),\n",
       " ('Z2Flav', 0.004435146443514644),\n",
       " ('nCleanedJetsPt30BTagged_bTagSF', 0.0027615062761506275),\n",
       " ('Z1Flav', 0.0021548117154811717),\n",
       " ('ExtraLepPt_0', 0.0006694560669456067)]"
      ]
     },
     "execution_count": 47,
     "metadata": {},
     "output_type": "execute_result"
    }
   ],
   "source": [
    "implist"
   ]
  },
  {
   "cell_type": "code",
   "execution_count": 48,
   "metadata": {
    "collapsed": false,
    "scrolled": false
   },
   "outputs": [],
   "source": [
    "%%capture\n",
    "fig, implist = plot_variables([(\"VBF0j\", \"WHh0j\")])"
   ]
  },
  {
   "cell_type": "code",
   "execution_count": 49,
   "metadata": {
    "collapsed": false
   },
   "outputs": [
    {
     "data": {
      "text/plain": [
       "[('ZZEta', 0.23030303030303031),\n",
       " ('PFMET', 0.21363636363636362),\n",
       " ('ZZMassErr', 0.2015151515151515),\n",
       " ('Z2Pt', 0.11818181818181818),\n",
       " ('Z1Pt', 0.09242424242424242),\n",
       " ('ExtraLepPt_0', 0.04242424242424243),\n",
       " ('Z1Mass', 0.03484848484848485),\n",
       " ('ZZPhi', 0.02727272727272727),\n",
       " ('Z2Mass', 0.022727272727272728),\n",
       " ('ZZMass', 0.012121212121212121),\n",
       " ('ZZPt', 0.004545454545454545)]"
      ]
     },
     "execution_count": 49,
     "metadata": {},
     "output_type": "execute_result"
    }
   ],
   "source": [
    "implist"
   ]
  },
  {
   "cell_type": "code",
   "execution_count": 50,
   "metadata": {
    "collapsed": false,
    "scrolled": false
   },
   "outputs": [],
   "source": [
    "%%capture\n",
    "fig, implist = plot_variables([(\"VBF2j\", \"ZHh2j\")])"
   ]
  },
  {
   "cell_type": "code",
   "execution_count": 51,
   "metadata": {
    "collapsed": false
   },
   "outputs": [
    {
     "data": {
      "text/plain": [
       "[('D_VBF2j_ggH_ME', 0.09419977592002068),\n",
       " ('nCleanedJetsPt30', 0.06683616306127725),\n",
       " ('ZZEta', 0.06295785572696716),\n",
       " ('nCleanedJetsPt30BTagged_bTagSF', 0.05416702576919762),\n",
       " ('JetEta_0', 0.050116349220029305),\n",
       " ('PFMET', 0.04572093424114453),\n",
       " ('JetEta_1', 0.045419288115142634),\n",
       " ('D_ZHh_ggH_ME', 0.043566319055416705),\n",
       " ('D_VBF2j_WHh_ME', 0.04261828837369646),\n",
       " ('JetPt_1', 0.04210118072912178),\n",
       " ('JetPt_0', 0.039989657847108506),\n",
       " ('D_WHh_ggH_ME', 0.03964491941739205),\n",
       " ('JetPhi_1', 0.036973196587089543),\n",
       " ('D_WHh_ZHh_ME', 0.034818581401361716),\n",
       " ('Z1Pt', 0.03395673532707059),\n",
       " ('ZZMassErr', 0.03356890459363958),\n",
       " ('D_VBF2j_ZHh_ME', 0.03300870464535034),\n",
       " ('ZZMass', 0.032534689304490216),\n",
       " ('Z2Mass', 0.031931397052486425),\n",
       " ('ZZPhi', 0.030121520296475048),\n",
       " ('JetPhi_0', 0.028397828147892785),\n",
       " ('ZZPt', 0.028009997414461776),\n",
       " ('Z1Mass', 0.023743859346720676),\n",
       " ('Z2Pt', 0.022494182538998535),\n",
       " ('Z1Flav', 0.0019391536671550462),\n",
       " ('Z2Flav', 0.0011634922002930277)]"
      ]
     },
     "execution_count": 51,
     "metadata": {},
     "output_type": "execute_result"
    }
   ],
   "source": [
    "implist"
   ]
  },
  {
   "cell_type": "code",
   "execution_count": 52,
   "metadata": {
    "collapsed": false,
    "scrolled": false
   },
   "outputs": [],
   "source": [
    "%%capture\n",
    "fig, implist = plot_variables([(\"VBF1j\", \"ZHh1j\")])"
   ]
  },
  {
   "cell_type": "code",
   "execution_count": 53,
   "metadata": {
    "collapsed": false
   },
   "outputs": [
    {
     "data": {
      "text/plain": [
       "[('JetEta_0', 0.16034299590226134),\n",
       " ('ZZEta', 0.15538523802296758),\n",
       " ('JetPt_0', 0.08979612485455557),\n",
       " ('PFMET', 0.07115394344108868),\n",
       " ('D_VBF1j_ggH_ME', 0.06189608944199929),\n",
       " ('ZZPt', 0.05688774219659028),\n",
       " ('ZZMassErr', 0.05602772297263115),\n",
       " ('Z2Pt', 0.05567359740982446),\n",
       " ('ZZPhi', 0.051778216218950776),\n",
       " ('ZZMass', 0.05104467041027976),\n",
       " ('Z2Mass', 0.04811048717559569),\n",
       " ('Z1Pt', 0.04026913542773309),\n",
       " ('JetPhi_0', 0.038802043810391054),\n",
       " ('Z1Mass', 0.03852380229675722),\n",
       " ('nCleanedJetsPt30BTagged_bTagSF', 0.014468558708959377),\n",
       " ('Z2Flav', 0.005868366469368139),\n",
       " ('nExtraLep', 0.0022512267921282947),\n",
       " ('Z1Flav', 0.0015429756665148986),\n",
       " ('ExtraLepPt_0', 0.00015176809834572774),\n",
       " ('ExtraLepEta_0', 2.5294683057621287e-05)]"
      ]
     },
     "execution_count": 53,
     "metadata": {},
     "output_type": "execute_result"
    }
   ],
   "source": [
    "implist"
   ]
  },
  {
   "cell_type": "code",
   "execution_count": 54,
   "metadata": {
    "collapsed": false,
    "scrolled": false
   },
   "outputs": [],
   "source": [
    "%%capture\n",
    "fig, implist = plot_variables([(\"VBF0j\", \"ZHh0j\")])"
   ]
  },
  {
   "cell_type": "code",
   "execution_count": 55,
   "metadata": {
    "collapsed": false
   },
   "outputs": [
    {
     "data": {
      "text/plain": [
       "[('ExtraLepPt_0', 0.20869565217391303),\n",
       " ('PFMET', 0.15072463768115943),\n",
       " ('Z1Pt', 0.13043478260869565),\n",
       " ('Z2Pt', 0.12173913043478261),\n",
       " ('ZZEta', 0.11884057971014493),\n",
       " ('Z1Mass', 0.08985507246376812),\n",
       " ('ZZPt', 0.0782608695652174),\n",
       " ('ZZMassErr', 0.06956521739130435),\n",
       " ('ZZPhi', 0.03188405797101449)]"
      ]
     },
     "execution_count": 55,
     "metadata": {},
     "output_type": "execute_result"
    }
   ],
   "source": [
    "implist"
   ]
  },
  {
   "cell_type": "code",
   "execution_count": 56,
   "metadata": {
    "collapsed": false,
    "scrolled": false
   },
   "outputs": [],
   "source": [
    "%%capture\n",
    "fig, implist = plot_variables([(\"WHl\", \"ggH\")])"
   ]
  },
  {
   "cell_type": "code",
   "execution_count": 57,
   "metadata": {
    "collapsed": false
   },
   "outputs": [
    {
     "data": {
      "text/plain": [
       "[('PFMET', 0.13346332089974003),\n",
       " ('ZZPt', 0.12111450209110433),\n",
       " ('JetPt_0', 0.10246411212840512),\n",
       " ('ZZEta', 0.0761840171809653),\n",
       " ('ZZPhi', 0.05948344071436645),\n",
       " ('Z2Mass', 0.0553012320560642),\n",
       " ('Z1Pt', 0.053634000226065334),\n",
       " ('ZZMass', 0.0506386345653894),\n",
       " ('ZZMassErr', 0.05027127839945744),\n",
       " ('JetEta_0', 0.048745337402509324),\n",
       " ('JetPhi_0', 0.04747371990505256),\n",
       " ('Z1Mass', 0.04422403074488527),\n",
       " ('Z2Pt', 0.04074827625183678),\n",
       " ('ExtraLepPt_0', 0.038346332089974004),\n",
       " ('JetPt_1', 0.01593760596812479),\n",
       " ('ExtraLepEta_0', 0.015570249802192834),\n",
       " ('JetEta_1', 0.014835537470328924),\n",
       " ('JetPhi_1', 0.011416299310500734),\n",
       " ('nCleanedJetsPt30', 0.0072623488188086355),\n",
       " ('ExtraLepPhi_0', 0.0054255679891488644),\n",
       " ('Z2Flav', 0.0031083983271165366),\n",
       " ('Z1Flav', 0.0030801401605063863),\n",
       " ('nCleanedJetsPt30BTagged_bTagSF', 0.0012433593308466147),\n",
       " ('nExtraLep', 2.8258166610150335e-05)]"
      ]
     },
     "execution_count": 57,
     "metadata": {},
     "output_type": "execute_result"
    }
   ],
   "source": [
    "implist"
   ]
  },
  {
   "cell_type": "code",
   "execution_count": 58,
   "metadata": {
    "collapsed": false,
    "scrolled": false
   },
   "outputs": [],
   "source": [
    "%%capture\n",
    "fig, implist = plot_variables([(\"WHl\", \"VBF\")])"
   ]
  },
  {
   "cell_type": "code",
   "execution_count": 59,
   "metadata": {
    "collapsed": false
   },
   "outputs": [
    {
     "data": {
      "text/plain": [
       "[('PFMET', 0.14425190194420964),\n",
       " ('JetEta_0', 0.1275993237531699),\n",
       " ('ZZEta', 0.09712595097210482),\n",
       " ('JetPt_0', 0.08520710059171598),\n",
       " ('JetEta_1', 0.060228233305156385),\n",
       " ('ExtraLepEta_0', 0.05270498732037194),\n",
       " ('ExtraLepPt_0', 0.047083685545224005),\n",
       " ('Z1Pt', 0.04590025359256129),\n",
       " ('ZZMassErr', 0.04420963651732882),\n",
       " ('ZZPt', 0.04353338968723584),\n",
       " ('ZZPhi', 0.0382502113271344),\n",
       " ('ZZMass', 0.03495350803043111),\n",
       " ('JetPhi_0', 0.03410819949281488),\n",
       " ('Z2Mass', 0.03144547759932375),\n",
       " ('Z2Pt', 0.029754860524091292),\n",
       " ('Z1Mass', 0.02565511411665258),\n",
       " ('JetPt_1', 0.02510566356720203),\n",
       " ('JetPhi_1', 0.014285714285714285),\n",
       " ('nCleanedJetsPt30', 0.0060016906170752326),\n",
       " ('ExtraLepPhi_0', 0.0053254437869822485),\n",
       " ('Z2Flav', 0.0026204564666103126),\n",
       " ('nCleanedJetsPt30BTagged_bTagSF', 0.0022400676246830094),\n",
       " ('Z1Flav', 0.002197802197802198),\n",
       " ('nExtraLep', 0.00021132713440405747)]"
      ]
     },
     "execution_count": 59,
     "metadata": {},
     "output_type": "execute_result"
    }
   ],
   "source": [
    "implist"
   ]
  },
  {
   "cell_type": "code",
   "execution_count": 60,
   "metadata": {
    "collapsed": false,
    "scrolled": false
   },
   "outputs": [],
   "source": [
    "%%capture\n",
    "fig, implist = plot_variables([(\"WHl\", \"WHh\")])"
   ]
  },
  {
   "cell_type": "code",
   "execution_count": 61,
   "metadata": {
    "collapsed": false
   },
   "outputs": [
    {
     "data": {
      "text/plain": [
       "[('PFMET', 0.22336275918702525),\n",
       " ('JetPt_0', 0.1038801067542599),\n",
       " ('ExtraLepPt_0', 0.09464175733935537),\n",
       " ('JetEta_0', 0.08163963594060084),\n",
       " ('ZZPt', 0.07062204886060357),\n",
       " ('JetPt_1', 0.04407034831998905),\n",
       " ('ZZEta', 0.04242797509067269),\n",
       " ('Z2Mass', 0.03880106754259906),\n",
       " ('Z1Pt', 0.037637719838499964),\n",
       " ('JetEta_1', 0.0318894135358927),\n",
       " ('ExtraLepEta_0', 0.030247040306576337),\n",
       " ('ZZPhi', 0.029083692602477246),\n",
       " ('ZZMassErr', 0.027372887155272703),\n",
       " ('Z1Mass', 0.023609115171422706),\n",
       " ('JetPhi_0', 0.023198521864093616),\n",
       " ('ZZMass', 0.023061657428317252),\n",
       " ('Z2Pt', 0.0225141996852118),\n",
       " ('JetPhi_1', 0.017381783343598165),\n",
       " ('nCleanedJetsPt30', 0.014233901320741805),\n",
       " ('ExtraLepPhi_0', 0.014097036884965441),\n",
       " ('nExtraLep', 0.003421610894409088),\n",
       " ('Z1Flav', 0.0017792376650927256),\n",
       " ('nCleanedJetsPt30BTagged_bTagSF', 0.0009580510504345446),\n",
       " ('Z2Flav', 6.843221788818175e-05)]"
      ]
     },
     "execution_count": 61,
     "metadata": {},
     "output_type": "execute_result"
    }
   ],
   "source": [
    "implist"
   ]
  },
  {
   "cell_type": "code",
   "execution_count": 62,
   "metadata": {
    "collapsed": false,
    "scrolled": false
   },
   "outputs": [],
   "source": [
    "%%capture\n",
    "fig, implist = plot_variables([(\"WHl\", \"ZHh\")])"
   ]
  },
  {
   "cell_type": "code",
   "execution_count": 63,
   "metadata": {
    "collapsed": false
   },
   "outputs": [
    {
     "data": {
      "text/plain": [
       "[('PFMET', 0.2084490929890505),\n",
       " ('nCleanedJetsPt30BTagged_bTagSF', 0.07092662199705835),\n",
       " ('JetPt_0', 0.06594214740970747),\n",
       " ('ExtraLepPt_0', 0.06398104265402843),\n",
       " ('JetEta_0', 0.06381761725772185),\n",
       " ('ZZPt', 0.052541264912567415),\n",
       " ('JetPhi_0', 0.04943618238274228),\n",
       " ('Z1Pt', 0.04649452524922373),\n",
       " ('ZZEta', 0.038568393528354304),\n",
       " ('ZZPhi', 0.03766955384866808),\n",
       " ('JetPt_1', 0.034973034809609414),\n",
       " ('Z2Pt', 0.03301193005393038),\n",
       " ('ZZMass', 0.03235822846870404),\n",
       " ('Z1Mass', 0.03113253799640464),\n",
       " ('nCleanedJetsPt30', 0.030397123713025005),\n",
       " ('ZZMassErr', 0.026556626899820232),\n",
       " ('nExtraLep', 0.022470991992155583),\n",
       " ('JetEta_1', 0.02132701421800948),\n",
       " ('ExtraLepEta_0', 0.020673312632783134),\n",
       " ('ExtraLepPhi_0', 0.01863049517895081),\n",
       " ('Z2Mass', 0.016015688838045432),\n",
       " ('JetPhi_1', 0.011194639647001145),\n",
       " ('Z2Flav', 0.0022062428501389117),\n",
       " ('Z1Flav', 0.0012256904722993953)]"
      ]
     },
     "execution_count": 63,
     "metadata": {},
     "output_type": "execute_result"
    }
   ],
   "source": [
    "implist"
   ]
  },
  {
   "cell_type": "code",
   "execution_count": 64,
   "metadata": {
    "collapsed": false,
    "scrolled": false
   },
   "outputs": [],
   "source": [
    "%%capture\n",
    "fig, implist = plot_variables([(\"WHl\", \"ZHl\")])"
   ]
  },
  {
   "cell_type": "code",
   "execution_count": 65,
   "metadata": {
    "collapsed": false
   },
   "outputs": [
    {
     "data": {
      "text/plain": [
       "[('ZZMass', 0.10978588877712316),\n",
       " ('PFMET', 0.08933275853810413),\n",
       " ('Z2Pt', 0.08190832016094267),\n",
       " ('Z2Mass', 0.0745796809886478),\n",
       " ('Z1Mass', 0.06811323466015232),\n",
       " ('JetPt_0', 0.06111989270489055),\n",
       " ('ZZEta', 0.0489054940843991),\n",
       " ('ZZMassErr', 0.046941610384633806),\n",
       " ('ZZPhi', 0.04502562628730181),\n",
       " ('ZZPt', 0.04148105570723763),\n",
       " ('ExtraLepPt_0', 0.040427264453705036),\n",
       " ('JetEta_0', 0.03985246922450544),\n",
       " ('ExtraLepEta_0', 0.03448771375197586),\n",
       " ('Z1Pt', 0.03180533601571107),\n",
       " ('JetPhi_1', 0.02706327537481439),\n",
       " ('JetPhi_0', 0.025386789289648895),\n",
       " ('ExtraLepPhi_0', 0.020884226660918714),\n",
       " ('JetPt_1', 0.018824543756286824),\n",
       " ('JetEta_1', 0.018297648129520526),\n",
       " ('nExtraLep', 0.015040475164056138),\n",
       " ('nExtraZ', 0.01494467595918954),\n",
       " ('ExtraLepPt_1', 0.010537912535325957),\n",
       " ('nCleanedJetsPt30', 0.009723619293959861),\n",
       " ('nCleanedJetsPt30BTagged_bTagSF', 0.008430330028260765),\n",
       " ('ExtraLepEta_1', 0.006322747521195574),\n",
       " ('ExtraLepPhi_1', 0.005987450304162476),\n",
       " ('Z2Flav', 0.003209273363031087),\n",
       " ('Z1Flav', 0.0015806868802988934)]"
      ]
     },
     "execution_count": 65,
     "metadata": {},
     "output_type": "execute_result"
    }
   ],
   "source": [
    "implist"
   ]
  },
  {
   "cell_type": "code",
   "execution_count": 66,
   "metadata": {
    "collapsed": false,
    "scrolled": false
   },
   "outputs": [],
   "source": [
    "%%capture\n",
    "fig, implist = plot_variables([(\"WHl\", \"ZHMET\")])"
   ]
  },
  {
   "cell_type": "code",
   "execution_count": 67,
   "metadata": {
    "collapsed": false
   },
   "outputs": [
    {
     "data": {
      "text/plain": [
       "[('PFMET', 0.166690782810013),\n",
       " ('Z1Pt', 0.08594993488641296),\n",
       " ('ZZPt', 0.08146433222399074),\n",
       " ('JetPt_0', 0.08045145420344378),\n",
       " ('ExtraLepPt_0', 0.0797279699030531),\n",
       " ('ZZMass', 0.07017797713789611),\n",
       " ('ZZEta', 0.0570105628707857),\n",
       " ('ZZPhi', 0.05585298799016061),\n",
       " ('Z2Mass', 0.0549848068296918),\n",
       " ('Z2Pt', 0.048762841846331936),\n",
       " ('ZZMassErr', 0.0470264795253943),\n",
       " ('Z1Mass', 0.039212849081174936),\n",
       " ('JetEta_0', 0.035161336998987124),\n",
       " ('JetPhi_0', 0.025756041093908263),\n",
       " ('nExtraLep', 0.018955288670235857),\n",
       " ('JetEta_1', 0.015916654608594993),\n",
       " ('JetPt_1', 0.01172044566632904),\n",
       " ('ExtraLepEta_0', 0.007668933584141224),\n",
       " ('JetPhi_1', 0.0059325712632035885),\n",
       " ('Z1Flav', 0.0036174215019534077),\n",
       " ('nCleanedJetsPt30', 0.003472724641875271),\n",
       " ('nCleanedJetsPt30BTagged_bTagSF', 0.003472724641875271),\n",
       " ('Z2Flav', 0.0010128780205469542)]"
      ]
     },
     "execution_count": 67,
     "metadata": {},
     "output_type": "execute_result"
    }
   ],
   "source": [
    "implist"
   ]
  },
  {
   "cell_type": "code",
   "execution_count": 68,
   "metadata": {
    "collapsed": false,
    "scrolled": false
   },
   "outputs": [],
   "source": [
    "%%capture\n",
    "fig, implist = plot_variables([(\"WHl\", \"ttHh\")])"
   ]
  },
  {
   "cell_type": "code",
   "execution_count": 69,
   "metadata": {
    "collapsed": false
   },
   "outputs": [
    {
     "data": {
      "text/plain": [
       "[('PFMET', 0.13342525752291345),\n",
       " ('ExtraLepPt_0', 0.09789926190283073),\n",
       " ('JetPt_0', 0.09222159136994079),\n",
       " ('nCleanedJetsPt30BTagged_bTagSF', 0.08281288020115175),\n",
       " ('nCleanedJetsPt30', 0.07526968935031227),\n",
       " ('JetPt_1', 0.06918647092221591),\n",
       " ('JetEta_1', 0.05564117122232136),\n",
       " ('JetEta_0', 0.053370103009165386),\n",
       " ('ZZEta', 0.03868926920269284),\n",
       " ('Z2Mass', 0.036255981831454294),\n",
       " ('JetPhi_0', 0.035201557303917594),\n",
       " ('ZZMassErr', 0.031957174142266204),\n",
       " ('JetPhi_1', 0.028469462243490957),\n",
       " ('ZZPhi', 0.026441722767458837),\n",
       " ('ZZMass', 0.02636061318841755),\n",
       " ('ZZPt', 0.02514396950279828),\n",
       " ('Z1Pt', 0.024251764133344147),\n",
       " ('Z1Mass', 0.021980695920188174),\n",
       " ('Z2Pt', 0.019628518127990914),\n",
       " ('nExtraLep', 0.007462081271798199),\n",
       " ('ExtraLepPhi_0', 0.007218752534674345),\n",
       " ('ExtraLepEta_0', 0.005920999270013789),\n",
       " ('Z1Flav', 0.004623246005353232),\n",
       " ('Z2Flav', 0.0005677670532889934)]"
      ]
     },
     "execution_count": 69,
     "metadata": {},
     "output_type": "execute_result"
    }
   ],
   "source": [
    "implist"
   ]
  },
  {
   "cell_type": "code",
   "execution_count": 70,
   "metadata": {
    "collapsed": false,
    "scrolled": false
   },
   "outputs": [],
   "source": [
    "%%capture\n",
    "fig, implist = plot_variables([(\"WHl\", \"ttHl\")])"
   ]
  },
  {
   "cell_type": "code",
   "execution_count": 71,
   "metadata": {
    "collapsed": false
   },
   "outputs": [
    {
     "data": {
      "text/plain": [
       "[('nCleanedJetsPt30BTagged_bTagSF', 0.11859994214636968),\n",
       " ('JetPt_0', 0.09444605148973098),\n",
       " ('nCleanedJetsPt30', 0.08793751807925948),\n",
       " ('JetPt_1', 0.08027191206248192),\n",
       " ('PFMET', 0.0669655770899624),\n",
       " ('ExtraLepPt_1', 0.053514608041654615),\n",
       " ('ZZEta', 0.05163436505640729),\n",
       " ('Z1Mass', 0.04758461093433613),\n",
       " ('Z2Pt', 0.03991900491755858),\n",
       " ('ZZMass', 0.038328030083887764),\n",
       " ('nExtraLep', 0.03601388487127567),\n",
       " ('ZZPt', 0.03442291003760486),\n",
       " ('ExtraLepEta_0', 0.03109632629447498),\n",
       " ('JetEta_1', 0.029939253688168934),\n",
       " ('ZZPhi', 0.02936071738501591),\n",
       " ('JetEta_0', 0.027769742551345098),\n",
       " ('JetPhi_0', 0.02704657217240382),\n",
       " ('ExtraLepPt_0', 0.022996818050332657),\n",
       " ('Z2Mass', 0.01793462539774371),\n",
       " ('JetPhi_1', 0.016632918715649408),\n",
       " ('Z1Pt', 0.01547584610934336),\n",
       " ('ZZMassErr', 0.010702921608330923),\n",
       " ('Z1Flav', 0.008388776395718832),\n",
       " ('ExtraLepEta_1', 0.0054960948799537175),\n",
       " ('ExtraLepPhi_0', 0.00506219265258895),\n",
       " ('nExtraZ', 0.0013017066820943013),\n",
       " ('ExtraLepPhi_1', 0.0008678044547295343),\n",
       " ('Z2Flav', 0.0002892681515765114)]"
      ]
     },
     "execution_count": 71,
     "metadata": {},
     "output_type": "execute_result"
    }
   ],
   "source": [
    "implist"
   ]
  },
  {
   "cell_type": "code",
   "execution_count": 72,
   "metadata": {
    "collapsed": false,
    "scrolled": false
   },
   "outputs": [],
   "source": [
    "%%capture\n",
    "fig, implist = plot_variables([(\"ZHh\", \"ZHl\")])"
   ]
  },
  {
   "cell_type": "code",
   "execution_count": 73,
   "metadata": {
    "collapsed": false
   },
   "outputs": [
    {
     "data": {
      "text/plain": [
       "[('ZZMass', 0.1165547542070795),\n",
       " ('PFMET', 0.10221337975627953),\n",
       " ('Z1Mass', 0.07974798972063334),\n",
       " ('JetPt_0', 0.07833872171101716),\n",
       " ('Z2Mass', 0.06573820774268424),\n",
       " ('Z2Pt', 0.06457763408770621),\n",
       " ('ExtraLepPt_0', 0.061095913122772114),\n",
       " ('ZZPt', 0.061095913122772114),\n",
       " ('ZZMassErr', 0.06018403382243223),\n",
       " ('ZZPhi', 0.046340048080908566),\n",
       " ('Z1Pt', 0.0450136781895051),\n",
       " ('JetEta_0', 0.04161485534278372),\n",
       " ('JetPhi_0', 0.031086794329768713),\n",
       " ('ZZEta', 0.03025781314764155),\n",
       " ('ExtraLepEta_0', 0.019646854016413827),\n",
       " ('nCleanedJetsPt30BTagged_bTagSF', 0.01840338224322308),\n",
       " ('JetEta_1', 0.01666252176075603),\n",
       " ('JetPt_1', 0.015667744342203433),\n",
       " ('ExtraLepPhi_0', 0.014092680096161818),\n",
       " ('JetPhi_1', 0.01284920832297107),\n",
       " ('nExtraLep', 0.007875321230208074),\n",
       " ('nCleanedJetsPt30', 0.006217358865953743),\n",
       " ('Z2Flav', 0.004227804028848545),\n",
       " ('Z1Flav', 0.0004973887092762995)]"
      ]
     },
     "execution_count": 73,
     "metadata": {},
     "output_type": "execute_result"
    }
   ],
   "source": [
    "implist"
   ]
  },
  {
   "cell_type": "code",
   "execution_count": 74,
   "metadata": {
    "collapsed": false,
    "scrolled": false
   },
   "outputs": [],
   "source": [
    "%%capture\n",
    "fig, implist = plot_variables([(\"ZHh\", \"ZHMET\")])"
   ]
  },
  {
   "cell_type": "code",
   "execution_count": 75,
   "metadata": {
    "collapsed": false
   },
   "outputs": [
    {
     "data": {
      "text/plain": [
       "[('PFMET', 0.3483293295479362),\n",
       " ('ZZPt', 0.1174929023804324),\n",
       " ('JetPt_0', 0.1028608866564752),\n",
       " ('JetEta_0', 0.0722865254422363),\n",
       " ('nCleanedJetsPt30BTagged_bTagSF', 0.05350513212491811),\n",
       " ('nCleanedJetsPt30', 0.04149377593360996),\n",
       " ('Z1Pt', 0.03887311640096091),\n",
       " ('JetPt_1', 0.03843633981218607),\n",
       " ('ZZEta', 0.03647084516269928),\n",
       " ('Z2Pt', 0.030574361214238916),\n",
       " ('Z2Mass', 0.022930770910679188),\n",
       " ('Z1Mass', 0.02074688796680498),\n",
       " ('ZZPhi', 0.016379122079056563),\n",
       " ('ZZMass', 0.015287180607119458),\n",
       " ('ZZMassErr', 0.014195239135182355),\n",
       " ('JetPhi_0', 0.0104826381305962),\n",
       " ('ExtraLepPt_0', 0.009172308364271676),\n",
       " ('JetEta_1', 0.0058964839484603624),\n",
       " ('JetPhi_1', 0.0032758244158113126),\n",
       " ('Z2Flav', 0.001310329766324525)]"
      ]
     },
     "execution_count": 75,
     "metadata": {},
     "output_type": "execute_result"
    }
   ],
   "source": [
    "implist"
   ]
  },
  {
   "cell_type": "code",
   "execution_count": 76,
   "metadata": {
    "collapsed": false,
    "scrolled": false
   },
   "outputs": [],
   "source": [
    "%%capture\n",
    "fig, implist = plot_variables([(\"ZHh\", \"ttHh\")])"
   ]
  },
  {
   "cell_type": "code",
   "execution_count": 77,
   "metadata": {
    "collapsed": false
   },
   "outputs": [
    {
     "data": {
      "text/plain": [
       "[('nCleanedJetsPt30', 0.1357981220657277),\n",
       " ('JetPt_1', 0.12570422535211268),\n",
       " ('nCleanedJetsPt30BTagged_bTagSF', 0.11643192488262911),\n",
       " ('JetPt_0', 0.10586854460093896),\n",
       " ('PFMET', 0.07018779342723004),\n",
       " ('JetEta_1', 0.059154929577464786),\n",
       " ('ZZPt', 0.05669014084507042),\n",
       " ('Z1Pt', 0.05293427230046948),\n",
       " ('ZZEta', 0.048826291079812206),\n",
       " ('Z2Pt', 0.028051643192488263),\n",
       " ('JetPhi_1', 0.025469483568075116),\n",
       " ('Z1Mass', 0.02488262910798122),\n",
       " ('ZZMass', 0.022887323943661973),\n",
       " ('ExtraLepPt_0', 0.02112676056338028),\n",
       " ('ZZPhi', 0.019014084507042252),\n",
       " ('Z2Mass', 0.017605633802816902),\n",
       " ('JetEta_0', 0.01737089201877934),\n",
       " ('ZZMassErr', 0.016666666666666666),\n",
       " ('nExtraLep', 0.012206572769953052),\n",
       " ('ExtraLepPhi_0', 0.009859154929577466),\n",
       " ('JetPhi_0', 0.009507042253521126),\n",
       " ('Z1Flav', 0.003051643192488263),\n",
       " ('ExtraLepEta_0', 0.0007042253521126761)]"
      ]
     },
     "execution_count": 77,
     "metadata": {},
     "output_type": "execute_result"
    }
   ],
   "source": [
    "implist"
   ]
  },
  {
   "cell_type": "code",
   "execution_count": 78,
   "metadata": {
    "collapsed": false,
    "scrolled": false
   },
   "outputs": [],
   "source": [
    "%%capture\n",
    "fig, implist = plot_variables([(\"ZHh\", \"ttHl\")])"
   ]
  },
  {
   "cell_type": "code",
   "execution_count": 79,
   "metadata": {
    "collapsed": false
   },
   "outputs": [
    {
     "data": {
      "text/plain": [
       "[('PFMET', 0.1856730769230769),\n",
       " ('nCleanedJetsPt30', 0.11009615384615384),\n",
       " ('ExtraLepPt_0', 0.08634615384615385),\n",
       " ('nCleanedJetsPt30BTagged_bTagSF', 0.08365384615384615),\n",
       " ('ZZMass', 0.06076923076923077),\n",
       " ('JetPt_0', 0.05307692307692308),\n",
       " ('ZZPt', 0.04596153846153846),\n",
       " ('Z1Pt', 0.04471153846153846),\n",
       " ('ZZPhi', 0.04403846153846154),\n",
       " ('JetPt_1', 0.03875),\n",
       " ('Z2Pt', 0.03875),\n",
       " ('Z1Mass', 0.037307692307692306),\n",
       " ('ZZMassErr', 0.030576923076923078),\n",
       " ('ZZEta', 0.0225),\n",
       " ('Z2Mass', 0.01875),\n",
       " ('JetEta_1', 0.017115384615384616),\n",
       " ('ExtraLepEta_0', 0.016923076923076923),\n",
       " ('JetEta_0', 0.016442307692307694),\n",
       " ('JetPhi_0', 0.016057692307692308),\n",
       " ('nExtraLep', 0.015),\n",
       " ('JetPhi_1', 0.010673076923076922),\n",
       " ('ExtraLepPhi_0', 0.0047115384615384615),\n",
       " ('Z1Flav', 0.001346153846153846),\n",
       " ('Z2Flav', 0.0007692307692307692)]"
      ]
     },
     "execution_count": 79,
     "metadata": {},
     "output_type": "execute_result"
    }
   ],
   "source": [
    "implist"
   ]
  },
  {
   "cell_type": "code",
   "execution_count": 80,
   "metadata": {
    "collapsed": false,
    "scrolled": false
   },
   "outputs": [],
   "source": [
    "%%capture\n",
    "fig, implist = plot_variables([(\"ZHl\", \"ggH\")])"
   ]
  },
  {
   "cell_type": "code",
   "execution_count": 81,
   "metadata": {
    "collapsed": false
   },
   "outputs": [
    {
     "data": {
      "text/plain": [
       "[('ZZMass', 0.11226415094339623),\n",
       " ('PFMET', 0.0880188679245283),\n",
       " ('Z1Mass', 0.0785377358490566),\n",
       " ('ZZPt', 0.07082547169811321),\n",
       " ('JetPt_0', 0.06877358490566038),\n",
       " ('ZZMassErr', 0.06577830188679246),\n",
       " ('Z2Pt', 0.06424528301886792),\n",
       " ('ZZEta', 0.06268867924528301),\n",
       " ('Z1Pt', 0.06148584905660377),\n",
       " ('JetEta_0', 0.0567688679245283),\n",
       " ('Z2Mass', 0.055235849056603774),\n",
       " ('ZZPhi', 0.048278301886792455),\n",
       " ('ExtraLepPt_0', 0.03370283018867924),\n",
       " ('JetPhi_0', 0.027452830188679247),\n",
       " ('JetEta_1', 0.02311320754716981),\n",
       " ('JetPt_1', 0.018207547169811322),\n",
       " ('JetPhi_1', 0.016014150943396227),\n",
       " ('ExtraLepEta_0', 0.014316037735849057),\n",
       " ('nCleanedJetsPt30BTagged_bTagSF', 0.01025943396226415),\n",
       " ('nCleanedJetsPt30', 0.008113207547169812),\n",
       " ('Z2Flav', 0.006108490566037736),\n",
       " ('nExtraLep', 0.005141509433962264),\n",
       " ('ExtraLepPhi_0', 0.0024528301886792454),\n",
       " ('Z1Flav', 0.002216981132075472)]"
      ]
     },
     "execution_count": 81,
     "metadata": {},
     "output_type": "execute_result"
    }
   ],
   "source": [
    "implist"
   ]
  },
  {
   "cell_type": "code",
   "execution_count": 82,
   "metadata": {
    "collapsed": false,
    "scrolled": false
   },
   "outputs": [],
   "source": [
    "%%capture\n",
    "fig, implist = plot_variables([(\"ZHl\", \"VBF\")])"
   ]
  },
  {
   "cell_type": "code",
   "execution_count": 83,
   "metadata": {
    "collapsed": false
   },
   "outputs": [
    {
     "data": {
      "text/plain": [
       "[('JetEta_0', 0.10692389710782353),\n",
       " ('ZZMass', 0.08349993335998934),\n",
       " ('PFMET', 0.08123417299746769),\n",
       " ('ZZEta', 0.07993469278955084),\n",
       " ('JetPt_0', 0.07626949220311875),\n",
       " ('Z1Mass', 0.061008929761428764),\n",
       " ('JetEta_1', 0.06020924963347994),\n",
       " ('ZZMassErr', 0.0508796481407437),\n",
       " ('ZZPt', 0.05027988804478209),\n",
       " ('Z2Pt', 0.047847527655604426),\n",
       " ('Z2Mass', 0.040983606557377046),\n",
       " ('ExtraLepPt_0', 0.0392842862854858),\n",
       " ('Z1Pt', 0.038984406237505),\n",
       " ('ZZPhi', 0.036118885779021725),\n",
       " ('JetPhi_0', 0.034552845528455285),\n",
       " ('ExtraLepEta_0', 0.03355324536851926),\n",
       " ('JetPhi_1', 0.01835932293749167),\n",
       " ('nCleanedJetsPt30', 0.015926962548314008),\n",
       " ('JetPt_1', 0.013927762228441956),\n",
       " ('nExtraLep', 0.012828202052512328),\n",
       " ('nCleanedJetsPt30BTagged_bTagSF', 0.009329601492736239),\n",
       " ('ExtraLepPhi_0', 0.004564840730374517),\n",
       " ('Z2Flav', 0.0023324003731840597),\n",
       " ('Z1Flav', 0.0011662001865920299)]"
      ]
     },
     "execution_count": 83,
     "metadata": {},
     "output_type": "execute_result"
    }
   ],
   "source": [
    "implist"
   ]
  },
  {
   "cell_type": "code",
   "execution_count": 84,
   "metadata": {
    "collapsed": false,
    "scrolled": false
   },
   "outputs": [],
   "source": [
    "%%capture\n",
    "fig, implist = plot_variables([(\"ZHl\", \"WHh\")])"
   ]
  },
  {
   "cell_type": "code",
   "execution_count": 85,
   "metadata": {
    "collapsed": false
   },
   "outputs": [
    {
     "data": {
      "text/plain": [
       "[('ZZMass', 0.11046304858098016),\n",
       " ('PFMET', 0.09911800270289495),\n",
       " ('Z2Mass', 0.07678355501813784),\n",
       " ('ZZMassErr', 0.07141332953979657),\n",
       " ('Z1Mass', 0.06689664983284728),\n",
       " ('JetPt_0', 0.06543850914005264),\n",
       " ('Z2Pt', 0.0651895582900633),\n",
       " ('ZZPt', 0.06273561419731133),\n",
       " ('Z1Pt', 0.05708087346183939),\n",
       " ('ExtraLepPt_0', 0.048083078455082154),\n",
       " ('JetEta_0', 0.046553808948004836),\n",
       " ('ZZEta', 0.04587808521231951),\n",
       " ('JetPhi_0', 0.03250586812717832),\n",
       " ('ZZPhi', 0.03247030372003699),\n",
       " ('JetPhi_1', 0.02084074258482111),\n",
       " ('JetEta_1', 0.020271712070559784),\n",
       " ('nExtraLep', 0.01443914929938118),\n",
       " ('nCleanedJetsPt30BTagged_bTagSF', 0.014368020485098514),\n",
       " ('ExtraLepEta_0', 0.012981008606586528),\n",
       " ('JetPt_1', 0.012554235720890533),\n",
       " ('nCleanedJetsPt30', 0.0124119780923252),\n",
       " ('Z2Flav', 0.005583611921189274),\n",
       " ('ExtraLepPhi_0', 0.0034853118998506294),\n",
       " ('Z1Flav', 0.0024539440927519736)]"
      ]
     },
     "execution_count": 85,
     "metadata": {},
     "output_type": "execute_result"
    }
   ],
   "source": [
    "implist"
   ]
  },
  {
   "cell_type": "code",
   "execution_count": 86,
   "metadata": {
    "collapsed": false,
    "scrolled": false
   },
   "outputs": [],
   "source": [
    "%%capture\n",
    "fig, implist = plot_variables([(\"ZHl\", \"ZHMET\")])"
   ]
  },
  {
   "cell_type": "code",
   "execution_count": 87,
   "metadata": {
    "collapsed": false
   },
   "outputs": [
    {
     "data": {
      "text/plain": [
       "[('PFMET', 0.13287841191066999),\n",
       " ('ZZMass', 0.12531017369727046),\n",
       " ('Z2Pt', 0.09094292803970223),\n",
       " ('ExtraLepPt_0', 0.08933002481389578),\n",
       " ('JetPt_0', 0.08238213399503722),\n",
       " ('Z2Mass', 0.07121588089330025),\n",
       " ('Z1Mass', 0.06898263027295286),\n",
       " ('Z1Pt', 0.055707196029776675),\n",
       " ('ZZMassErr', 0.04640198511166253),\n",
       " ('ZZPt', 0.04640198511166253),\n",
       " ('JetEta_0', 0.037096774193548385),\n",
       " ('JetPt_1', 0.029404466501240695),\n",
       " ('ZZPhi', 0.028411910669975185),\n",
       " ('ZZEta', 0.027667493796526055),\n",
       " ('JetPhi_0', 0.015384615384615385),\n",
       " ('nExtraLep', 0.013895781637717122),\n",
       " ('JetPhi_1', 0.010173697270471464),\n",
       " ('ExtraLepEta_0', 0.00880893300248139),\n",
       " ('nCleanedJetsPt30', 0.00794044665012407),\n",
       " ('JetEta_1', 0.004466501240694789),\n",
       " ('nCleanedJetsPt30BTagged_bTagSF', 0.0028535980148883377),\n",
       " ('Z2Flav', 0.0026054590570719605),\n",
       " ('Z1Flav', 0.0017369727047146402)]"
      ]
     },
     "execution_count": 87,
     "metadata": {},
     "output_type": "execute_result"
    }
   ],
   "source": [
    "implist"
   ]
  },
  {
   "cell_type": "code",
   "execution_count": 88,
   "metadata": {
    "collapsed": false,
    "scrolled": false
   },
   "outputs": [],
   "source": [
    "%%capture\n",
    "fig, implist = plot_variables([(\"ZHl\", \"ttHh\")])"
   ]
  },
  {
   "cell_type": "code",
   "execution_count": 89,
   "metadata": {
    "collapsed": false
   },
   "outputs": [
    {
     "data": {
      "text/plain": [
       "[('JetPt_0', 0.11650023775558725),\n",
       " ('ZZMass', 0.11103185924869234),\n",
       " ('nCleanedJetsPt30BTagged_bTagSF', 0.09486447931526391),\n",
       " ('Z2Pt', 0.0903471231573942),\n",
       " ('nCleanedJetsPt30', 0.08368996671421779),\n",
       " ('ExtraLepPt_0', 0.07037565382786495),\n",
       " ('JetPt_1', 0.06348074179743224),\n",
       " ('Z2Mass', 0.05444602948169282),\n",
       " ('nExtraLep', 0.05111745126010461),\n",
       " ('JetEta_1', 0.050879695672848314),\n",
       " ('Z1Mass', 0.046362339514978604),\n",
       " ('JetEta_0', 0.0461245839277223),\n",
       " ('PFMET', 0.03209700427960057),\n",
       " ('ZZPhi', 0.017118402282453638),\n",
       " ('ZZMassErr', 0.016405135520684736),\n",
       " ('JetPhi_0', 0.012363290537327628),\n",
       " ('ZZPt', 0.012363290537327628),\n",
       " ('Z1Pt', 0.010461245839277223),\n",
       " ('ZZEta', 0.008321445553970519),\n",
       " ('JetPhi_1', 0.0033285782215882074),\n",
       " ('ExtraLepEta_0', 0.002615311459819306),\n",
       " ('ExtraLepPt_1', 0.002615311459819306),\n",
       " ('Z1Flav', 0.0023775558725630053),\n",
       " ('ExtraLepPhi_0', 0.0007132667617689016)]"
      ]
     },
     "execution_count": 89,
     "metadata": {},
     "output_type": "execute_result"
    }
   ],
   "source": [
    "implist"
   ]
  },
  {
   "cell_type": "code",
   "execution_count": 90,
   "metadata": {
    "collapsed": false,
    "scrolled": false
   },
   "outputs": [],
   "source": [
    "%%capture\n",
    "fig, implist = plot_variables([(\"ZHl\", \"ttHl\")])"
   ]
  },
  {
   "cell_type": "code",
   "execution_count": 91,
   "metadata": {
    "collapsed": false
   },
   "outputs": [
    {
     "data": {
      "text/plain": [
       "[('PFMET', 0.14089843045282338),\n",
       " ('JetPt_0', 0.10580912863070539),\n",
       " ('nCleanedJetsPt30BTagged_bTagSF', 0.0699981959227855),\n",
       " ('Z2Pt', 0.06566841060797401),\n",
       " ('ExtraLepPt_0', 0.06251127548259065),\n",
       " ('Z1Mass', 0.06233086776114018),\n",
       " ('ZZMass', 0.056828432256900596),\n",
       " ('nCleanedJetsPt30', 0.04916110409525528),\n",
       " ('Z2Mass', 0.041583979794335195),\n",
       " ('ZZPt', 0.0374346022009742),\n",
       " ('nExtraZ', 0.03382644777196464),\n",
       " ('ZZEta', 0.03184196283600938),\n",
       " ('JetEta_0', 0.029767274039328884),\n",
       " ('JetPhi_0', 0.029226050874977448),\n",
       " ('ZZPhi', 0.02733176979974743),\n",
       " ('JetPt_1', 0.024715857838715497),\n",
       " ('ExtraLepPt_1', 0.021288111131156414),\n",
       " ('ZZMassErr', 0.01614649106981779),\n",
       " ('ExtraLepPhi_0', 0.015605267905466354),\n",
       " ('JetPhi_1', 0.015154248601840158),\n",
       " ('ExtraLepEta_1', 0.013710986830236334),\n",
       " ('nExtraLep', 0.013350171387335378),\n",
       " ('JetEta_1', 0.012989355944434422),\n",
       " ('Z1Pt', 0.009832220819051055),\n",
       " ('ExtraLepEta_0', 0.00938120151542486),\n",
       " ('ExtraLepPhi_1', 0.003066931264658127),\n",
       " ('Z1Flav', 0.0002706115821757171),\n",
       " ('Z2Flav', 0.0002706115821757171)]"
      ]
     },
     "execution_count": 91,
     "metadata": {},
     "output_type": "execute_result"
    }
   ],
   "source": [
    "implist"
   ]
  },
  {
   "cell_type": "code",
   "execution_count": 92,
   "metadata": {
    "collapsed": false,
    "scrolled": false
   },
   "outputs": [],
   "source": [
    "%%capture\n",
    "fig, implist = plot_variables([(\"ZHMET\", \"ggH\")])"
   ]
  },
  {
   "cell_type": "code",
   "execution_count": 93,
   "metadata": {
    "collapsed": false
   },
   "outputs": [
    {
     "data": {
      "text/plain": [
       "[('PFMET', 0.19808506209671825),\n",
       " ('ZZPt', 0.19551793519739125),\n",
       " ('JetPt_0', 0.15035037813085408),\n",
       " ('ZZPhi', 0.06813293554430029),\n",
       " ('Z2Pt', 0.05141191979462985),\n",
       " ('ZZMassErr', 0.04787344758204399),\n",
       " ('Z1Pt', 0.047040865884964964),\n",
       " ('ZZMass', 0.040449594116422675),\n",
       " ('Z1Mass', 0.03739679456046625),\n",
       " ('ZZEta', 0.03476028585304933),\n",
       " ('Z2Mass', 0.032817595226531604),\n",
       " ('JetPhi_0', 0.02310414209394297),\n",
       " ('JetEta_0', 0.022757233053493375),\n",
       " ('JetPt_1', 0.017622979254839383),\n",
       " ('nCleanedJetsPt30', 0.01422327065843336),\n",
       " ('JetPhi_1', 0.00707694442517172),\n",
       " ('nCleanedJetsPt30BTagged_bTagSF', 0.005273017414833831),\n",
       " ('JetEta_1', 0.00409352667730521),\n",
       " ('Z1Flav', 0.0014570179698882952),\n",
       " ('Z2Flav', 0.0005550544647193506)]"
      ]
     },
     "execution_count": 93,
     "metadata": {},
     "output_type": "execute_result"
    }
   ],
   "source": [
    "implist"
   ]
  },
  {
   "cell_type": "code",
   "execution_count": 94,
   "metadata": {
    "collapsed": false,
    "scrolled": false
   },
   "outputs": [],
   "source": [
    "%%capture\n",
    "fig, implist = plot_variables([(\"ZHMET\", \"VBF\")])"
   ]
  },
  {
   "cell_type": "code",
   "execution_count": 95,
   "metadata": {
    "collapsed": false
   },
   "outputs": [
    {
     "data": {
      "text/plain": [
       "[('PFMET', 0.24298758457597058),\n",
       " ('JetPt_0', 0.11101622544833475),\n",
       " ('JetEta_0', 0.10773172173684556),\n",
       " ('ZZPt', 0.10379031728305853),\n",
       " ('Z1Pt', 0.07002561912894961),\n",
       " ('Z2Mass', 0.05741312487683111),\n",
       " ('JetEta_1', 0.04723116337121461),\n",
       " ('ZZEta', 0.041910267358602114),\n",
       " ('Z2Pt', 0.03947973461210011),\n",
       " ('ZZPhi', 0.03606385075215135),\n",
       " ('ZZMassErr', 0.0321881363725941),\n",
       " ('ZZMass', 0.02896932273533469),\n",
       " ('Z1Mass', 0.026998620508441176),\n",
       " ('JetPhi_0', 0.024962228207317874),\n",
       " ('JetPhi_1', 0.013400775142875911),\n",
       " ('JetPt_1', 0.008408329501412336),\n",
       " ('nCleanedJetsPt30', 0.004204164750706168),\n",
       " ('Z1Flav', 0.0025619128949615714),\n",
       " ('Z2Flav', 0.00045983051960848714),\n",
       " ('nCleanedJetsPt30BTagged_bTagSF', 0.00019707022268935164)]"
      ]
     },
     "execution_count": 95,
     "metadata": {},
     "output_type": "execute_result"
    }
   ],
   "source": [
    "implist"
   ]
  },
  {
   "cell_type": "code",
   "execution_count": 96,
   "metadata": {
    "collapsed": false,
    "scrolled": false
   },
   "outputs": [],
   "source": [
    "%%capture\n",
    "fig, implist = plot_variables([(\"ZHMET\", \"WHh\")])"
   ]
  },
  {
   "cell_type": "code",
   "execution_count": 97,
   "metadata": {
    "collapsed": false
   },
   "outputs": [
    {
     "data": {
      "text/plain": [
       "[('PFMET', 0.2378608682876662),\n",
       " ('JetPt_0', 0.1053404833614927),\n",
       " ('ZZPt', 0.10005142143539264),\n",
       " ('JetEta_0', 0.07485491809299934),\n",
       " ('Z2Mass', 0.06559905972232424),\n",
       " ('Z1Pt', 0.06537868214207009),\n",
       " ('Z1Mass', 0.04135752589436568),\n",
       " ('Z2Pt', 0.04091677073385734),\n",
       " ('ZZPhi', 0.04062293396018512),\n",
       " ('ZZEta', 0.03908029089840594),\n",
       " ('ZZMass', 0.03665613751561008),\n",
       " ('ZZMassErr', 0.03599500477484757),\n",
       " ('JetPt_1', 0.035554249614339235),\n",
       " ('JetEta_1', 0.025710717696319694),\n",
       " ('nCleanedJetsPt30', 0.019393227062366854),\n",
       " ('JetPhi_0', 0.01792404319400573),\n",
       " ('JetPhi_1', 0.013075736428414015),\n",
       " ('Z1Flav', 0.0027914493498861384),\n",
       " ('Z2Flav', 0.0014691838683611254),\n",
       " ('nCleanedJetsPt30BTagged_bTagSF', 0.00036729596709028135)]"
      ]
     },
     "execution_count": 97,
     "metadata": {},
     "output_type": "execute_result"
    }
   ],
   "source": [
    "implist"
   ]
  },
  {
   "cell_type": "code",
   "execution_count": 98,
   "metadata": {
    "collapsed": false,
    "scrolled": false
   },
   "outputs": [],
   "source": [
    "%%capture\n",
    "fig, implist = plot_variables([(\"ZHMET\", \"ttHh\")])"
   ]
  },
  {
   "cell_type": "code",
   "execution_count": 99,
   "metadata": {
    "collapsed": false
   },
   "outputs": [
    {
     "data": {
      "text/plain": [
       "[('PFMET', 0.2668463611859838),\n",
       " ('nCleanedJetsPt30', 0.16112608565438755),\n",
       " ('JetPt_0', 0.11919736448038334),\n",
       " ('nCleanedJetsPt30BTagged_bTagSF', 0.1111111111111111),\n",
       " ('JetEta_0', 0.07038035339922133),\n",
       " ('JetPt_1', 0.06199460916442048),\n",
       " ('ExtraLepPt_0', 0.03893381251871818),\n",
       " ('Z1Pt', 0.03533992213237496),\n",
       " ('ZZEta', 0.03294399520814615),\n",
       " ('Z2Mass', 0.023060796645702306),\n",
       " ('JetEta_1', 0.01737047020065888),\n",
       " ('ZZPt', 0.016771488469601678),\n",
       " ('Z2Pt', 0.011680143755615454),\n",
       " ('JetPhi_0', 0.011081162024558252),\n",
       " ('ZZMassErr', 0.009583707696915245),\n",
       " ('JetPhi_1', 0.005989817310572028),\n",
       " ('ZZMass', 0.005091344713986224),\n",
       " ('Z1Mass', 0.0011979634621144056),\n",
       " ('ZZPhi', 0.0002994908655286014)]"
      ]
     },
     "execution_count": 99,
     "metadata": {},
     "output_type": "execute_result"
    }
   ],
   "source": [
    "implist"
   ]
  },
  {
   "cell_type": "code",
   "execution_count": 100,
   "metadata": {
    "collapsed": false,
    "scrolled": false
   },
   "outputs": [],
   "source": [
    "%%capture\n",
    "fig, implist = plot_variables([(\"ZHMET\", \"ttHl\")])"
   ]
  },
  {
   "cell_type": "code",
   "execution_count": 101,
   "metadata": {
    "collapsed": false
   },
   "outputs": [
    {
     "data": {
      "text/plain": [
       "[('ExtraLepPt_0', 0.2208686440677966),\n",
       " ('nCleanedJetsPt30BTagged_bTagSF', 0.15148305084745764),\n",
       " ('nCleanedJetsPt30', 0.14989406779661016),\n",
       " ('JetPt_0', 0.1281779661016949),\n",
       " ('ZZMass', 0.06408898305084745),\n",
       " ('PFMET', 0.05429025423728814),\n",
       " ('nExtraLep', 0.045021186440677964),\n",
       " ('JetPt_1', 0.03389830508474576),\n",
       " ('Z1Mass', 0.023834745762711863),\n",
       " ('JetEta_0', 0.023305084745762712),\n",
       " ('ZZPhi', 0.023040254237288137),\n",
       " ('ZZEta', 0.022245762711864406),\n",
       " ('JetEta_1', 0.012976694915254237),\n",
       " ('ZZPt', 0.012711864406779662),\n",
       " ('ZZMassErr', 0.01059322033898305),\n",
       " ('Z1Pt', 0.010063559322033898),\n",
       " ('JetPhi_0', 0.004502118644067797),\n",
       " ('Z2Pt', 0.00423728813559322),\n",
       " ('Z2Mass', 0.00211864406779661),\n",
       " ('JetPhi_1', 0.00211864406779661),\n",
       " ('Z1Flav', 0.00026483050847457627),\n",
       " ('Z2Flav', 0.00026483050847457627)]"
      ]
     },
     "execution_count": 101,
     "metadata": {},
     "output_type": "execute_result"
    }
   ],
   "source": [
    "implist"
   ]
  },
  {
   "cell_type": "code",
   "execution_count": 102,
   "metadata": {
    "collapsed": false,
    "scrolled": false
   },
   "outputs": [],
   "source": [
    "%%capture\n",
    "fig, implist = plot_variables([(\"ttHh\", \"ggH\")])"
   ]
  },
  {
   "cell_type": "code",
   "execution_count": 103,
   "metadata": {
    "collapsed": false
   },
   "outputs": [
    {
     "data": {
      "text/plain": [
       "[('JetPt_0', 0.11779271312345242),\n",
       " ('JetPt_1', 0.11743898125221082),\n",
       " ('nCleanedJetsPt30BTagged_bTagSF', 0.11673151750972763),\n",
       " ('nCleanedJetsPt30', 0.11372479660417403),\n",
       " ('ZZPt', 0.08507251503360452),\n",
       " ('JetEta_1', 0.08330385567739654),\n",
       " ('JetEta_0', 0.08100459851432613),\n",
       " ('Z1Pt', 0.07339936328263176),\n",
       " ('PFMET', 0.04704633887513265),\n",
       " ('Z2Pt', 0.037141846480367884),\n",
       " ('ExtraLepPt_0', 0.029713477184294304),\n",
       " ('ZZMass', 0.020693314467633533),\n",
       " ('ZZEta', 0.019985850725150335),\n",
       " ('JetPhi_0', 0.016802263883975946),\n",
       " ('Z1Mass', 0.010435090201627167),\n",
       " ('ZZMassErr', 0.010081358330385568),\n",
       " ('ZZPhi', 0.007074637424831978),\n",
       " ('Z2Flav', 0.005305978068623983),\n",
       " ('JetPhi_1', 0.003714184648036788),\n",
       " ('Z2Mass', 0.002476123098691192),\n",
       " ('ExtraLepEta_0', 0.0010611956137247967)]"
      ]
     },
     "execution_count": 103,
     "metadata": {},
     "output_type": "execute_result"
    }
   ],
   "source": [
    "implist"
   ]
  },
  {
   "cell_type": "code",
   "execution_count": 104,
   "metadata": {
    "collapsed": false,
    "scrolled": false
   },
   "outputs": [],
   "source": [
    "%%capture\n",
    "fig, implist = plot_variables([(\"ttHh\", \"VBF\")])"
   ]
  },
  {
   "cell_type": "code",
   "execution_count": 105,
   "metadata": {
    "collapsed": false
   },
   "outputs": [
    {
     "data": {
      "text/plain": [
       "[('JetEta_0', 0.17692272074825208),\n",
       " ('JetEta_1', 0.16293929712460065),\n",
       " ('nCleanedJetsPt30', 0.08394684446913923),\n",
       " ('JetPt_1', 0.08297448719729592),\n",
       " ('JetPt_0', 0.05482242904107052),\n",
       " ('nCleanedJetsPt30BTagged_bTagSF', 0.0505625781358522),\n",
       " ('ZZEta', 0.04829374450155114),\n",
       " ('Z1Pt', 0.037921933601889155),\n",
       " ('PFMET', 0.03560679724035746),\n",
       " ('ZZPt', 0.035236375422512387),\n",
       " ('JetPhi_0', 0.03481965087743668),\n",
       " ('ZZMass', 0.03143955178960041),\n",
       " ('ExtraLepPt_0', 0.030235680881603926),\n",
       " ('Z2Mass', 0.027457517247765892),\n",
       " ('ZZPhi', 0.02491086725008103),\n",
       " ('ZZMassErr', 0.024725656341158496),\n",
       " ('Z1Mass', 0.022040098161781728),\n",
       " ('JetPhi_1', 0.01703940362087327),\n",
       " ('Z2Pt', 0.01097374635366023),\n",
       " ('ExtraLepPhi_0', 0.0033337963606056395),\n",
       " ('Z1Flav', 0.0014816872713802843),\n",
       " ('ExtraLepEta_0', 0.001157568180765847),\n",
       " ('Z2Flav', 0.001157568180765847)]"
      ]
     },
     "execution_count": 105,
     "metadata": {},
     "output_type": "execute_result"
    }
   ],
   "source": [
    "implist"
   ]
  },
  {
   "cell_type": "code",
   "execution_count": 106,
   "metadata": {
    "collapsed": false,
    "scrolled": false
   },
   "outputs": [],
   "source": [
    "%%capture\n",
    "fig, implist = plot_variables([(\"ttHh\", \"WHh\")])"
   ]
  },
  {
   "cell_type": "code",
   "execution_count": 107,
   "metadata": {
    "collapsed": false
   },
   "outputs": [
    {
     "data": {
      "text/plain": [
       "[('nCleanedJetsPt30BTagged_bTagSF', 0.2367736339982654),\n",
       " ('nCleanedJetsPt30', 0.16305290546400694),\n",
       " ('JetPt_1', 0.10089621277825961),\n",
       " ('Z1Pt', 0.08701936976004626),\n",
       " ('JetPt_0', 0.07718993928881179),\n",
       " ('PFMET', 0.07198612315698179),\n",
       " ('ZZPt', 0.06938421509106678),\n",
       " ('ExtraLepPt_0', 0.04712344608268285),\n",
       " ('ZZEta', 0.037872217403873955),\n",
       " ('JetEta_1', 0.020526163631107257),\n",
       " ('Z2Pt', 0.015611448395490026),\n",
       " ('Z2Mass', 0.0132986412257878),\n",
       " ('ZZPhi', 0.012142237640936688),\n",
       " ('Z1Mass', 0.01185313674472391),\n",
       " ('JetEta_0', 0.010407632263660017),\n",
       " ('ZZMass', 0.009829430471234461),\n",
       " ('JetPhi_1', 0.005782017924255565),\n",
       " ('JetPhi_0', 0.004047412546978896),\n",
       " ('Z1Flav', 0.0026019080659150044),\n",
       " ('ZZMassErr', 0.0026019080659150044)]"
      ]
     },
     "execution_count": 107,
     "metadata": {},
     "output_type": "execute_result"
    }
   ],
   "source": [
    "implist"
   ]
  },
  {
   "cell_type": "code",
   "execution_count": 108,
   "metadata": {
    "collapsed": false,
    "scrolled": false
   },
   "outputs": [],
   "source": [
    "%%capture\n",
    "fig, implist = plot_variables([(\"ttHh\", \"ttHl\")])"
   ]
  },
  {
   "cell_type": "code",
   "execution_count": 109,
   "metadata": {
    "collapsed": false
   },
   "outputs": [
    {
     "data": {
      "text/plain": [
       "[('PFMET', 0.16098127449557265),\n",
       " ('nCleanedJetsPt30', 0.08622441573523008),\n",
       " ('ExtraLepPt_0', 0.0833212367542459),\n",
       " ('JetPt_1', 0.06089417912614312),\n",
       " ('JetPhi_1', 0.054144287995354916),\n",
       " ('Z2Pt', 0.047249237915517495),\n",
       " ('ZZMass', 0.046450863695746844),\n",
       " ('ZZMassErr', 0.04637828422122224),\n",
       " ('Z1Mass', 0.04202351574974597),\n",
       " ('ZZPt', 0.04115256205545072),\n",
       " ('JetEta_0', 0.040862244157352304),\n",
       " ('JetPt_0', 0.040136449412106256),\n",
       " ('ZZEta', 0.03614457831325301),\n",
       " ('Z2Mass', 0.03200754826535056),\n",
       " ('Z1Pt', 0.030265640876760053),\n",
       " ('JetEta_1', 0.029104369284366383),\n",
       " ('nCleanedJetsPt30BTagged_bTagSF', 0.026418928726956017),\n",
       " ('JetPhi_0', 0.024749600812890116),\n",
       " ('ZZPhi', 0.023951226593119466),\n",
       " ('ExtraLepEta_0', 0.023298011322398025),\n",
       " ('ExtraLepPhi_0', 0.02242705762810277),\n",
       " ('Z2Flav', 0.0007257947452460444),\n",
       " ('Z1Flav', 0.0005806357961968355),\n",
       " ('ExtraLepEta_1', 0.00021773842357381332),\n",
       " ('ExtraLepPhi_1', 0.00021773842357381332),\n",
       " ('nExtraLep', 7.257947452460444e-05)]"
      ]
     },
     "execution_count": 109,
     "metadata": {},
     "output_type": "execute_result"
    }
   ],
   "source": [
    "implist"
   ]
  },
  {
   "cell_type": "code",
   "execution_count": 110,
   "metadata": {
    "collapsed": false,
    "scrolled": false
   },
   "outputs": [],
   "source": [
    "%%capture\n",
    "fig, implist = plot_variables([(\"ttHl\", \"ggH\")])"
   ]
  },
  {
   "cell_type": "code",
   "execution_count": 111,
   "metadata": {
    "collapsed": false
   },
   "outputs": [
    {
     "data": {
      "text/plain": [
       "[('PFMET', 0.1771714729753065),\n",
       " ('ZZPt', 0.07062683474356761),\n",
       " ('ExtraLepPt_0', 0.06807977896736316),\n",
       " ('JetPt_0', 0.0665688136763944),\n",
       " ('JetPt_1', 0.056035227076498016),\n",
       " ('nCleanedJetsPt30', 0.05391987566914177),\n",
       " ('nCleanedJetsPt30BTagged_bTagSF', 0.05063892246589535),\n",
       " ('Z1Mass', 0.04722845795199447),\n",
       " ('JetEta_1', 0.04498359523398377),\n",
       " ('ZZMass', 0.04390433431186323),\n",
       " ('JetEta_0', 0.04373165256432395),\n",
       " ('ZZMassErr', 0.0426092212053186),\n",
       " ('Z1Pt', 0.039716801934035574),\n",
       " ('Z2Mass', 0.03198929373165257),\n",
       " ('ZZEta', 0.030262476256259715),\n",
       " ('ZZPhi', 0.030219305819374893),\n",
       " ('Z2Pt', 0.023873251597306164),\n",
       " ('JetPhi_0', 0.02227594543256778),\n",
       " ('JetPhi_1', 0.01895182179243654),\n",
       " ('nExtraLep', 0.013685028492488344),\n",
       " ('ExtraLepEta_0', 0.011396995337592817),\n",
       " ('Z1Flav', 0.007295803833534795),\n",
       " ('Z2Flav', 0.004230702814712485),\n",
       " ('ExtraLepPhi_0', 0.0006043861163874979)]"
      ]
     },
     "execution_count": 111,
     "metadata": {},
     "output_type": "execute_result"
    }
   ],
   "source": [
    "implist"
   ]
  },
  {
   "cell_type": "code",
   "execution_count": 112,
   "metadata": {
    "collapsed": false,
    "scrolled": false
   },
   "outputs": [],
   "source": [
    "%%capture\n",
    "fig, implist = plot_variables([(\"ttHl\", \"VBF\")])"
   ]
  },
  {
   "cell_type": "code",
   "execution_count": 113,
   "metadata": {
    "collapsed": false
   },
   "outputs": [
    {
     "data": {
      "text/plain": [
       "[('PFMET', 0.12204944624678375),\n",
       " ('JetEta_0', 0.10940821120930753),\n",
       " ('JetEta_1', 0.09961964425550957),\n",
       " ('ExtraLepPt_0', 0.08149681172390648),\n",
       " ('nCleanedJetsPt30', 0.07422530484394227),\n",
       " ('JetPt_1', 0.06113659246000671),\n",
       " ('nCleanedJetsPt30BTagged_bTagSF', 0.04877503076406757),\n",
       " ('JetPt_0', 0.04485960398254838),\n",
       " ('ZZMass', 0.042622217250251705),\n",
       " ('ZZPt', 0.04167132788902562),\n",
       " ('ZZEta', 0.03999328783980311),\n",
       " ('Z1Mass', 0.03328112764291308),\n",
       " ('ZZMassErr', 0.03199463027184249),\n",
       " ('ExtraLepEta_0', 0.031323414252153486),\n",
       " ('JetPhi_1', 0.030540328895849646),\n",
       " ('ZZPhi', 0.022206063318044523),\n",
       " ('Z2Mass', 0.020416153932207182),\n",
       " ('JetPhi_0', 0.018458440541447588),\n",
       " ('Z1Pt', 0.01605324980422866),\n",
       " ('Z2Pt', 0.014878621769772905),\n",
       " ('nExtraLep', 0.004418838796285938),\n",
       " ('Z2Flav', 0.004306969459671104),\n",
       " ('Z1Flav', 0.0034679494350598502),\n",
       " ('ExtraLepPhi_0', 0.0027967334153708467)]"
      ]
     },
     "execution_count": 113,
     "metadata": {},
     "output_type": "execute_result"
    }
   ],
   "source": [
    "implist"
   ]
  },
  {
   "cell_type": "code",
   "execution_count": 114,
   "metadata": {
    "collapsed": false,
    "scrolled": false
   },
   "outputs": [],
   "source": [
    "%%capture\n",
    "fig, implist = plot_variables([(\"ttHl\", \"WHh\")])"
   ]
  },
  {
   "cell_type": "code",
   "execution_count": 115,
   "metadata": {
    "collapsed": false
   },
   "outputs": [
    {
     "data": {
      "text/plain": [
       "[('PFMET', 0.17378716192359298),\n",
       " ('ExtraLepPt_0', 0.09759197796765764),\n",
       " ('nCleanedJetsPt30', 0.08389238048160441),\n",
       " ('JetPt_0', 0.06969846762234305),\n",
       " ('nCleanedJetsPt30BTagged_bTagSF', 0.06419038203516701),\n",
       " ('Z1Mass', 0.04879598898382882),\n",
       " ('ZZEta', 0.04244050561401031),\n",
       " ('ZZMassErr', 0.0406750935668385),\n",
       " ('JetEta_0', 0.039898312266082904),\n",
       " ('Z2Pt', 0.038485982628345454),\n",
       " ('ZZPt', 0.03601440576230492),\n",
       " ('ZZMass', 0.035731939834757434),\n",
       " ('JetPt_1', 0.03509639149777558),\n",
       " ('JetPhi_1', 0.029305839983052043),\n",
       " ('JetEta_1', 0.02859967516418332),\n",
       " ('ZZPhi', 0.028105359790975212),\n",
       " ('Z1Pt', 0.024574535696631594),\n",
       " ('JetPhi_0', 0.022244191794364803),\n",
       " ('Z2Mass', 0.018360285290586822),\n",
       " ('ExtraLepEta_0', 0.01652425676152814),\n",
       " ('ExtraLepPhi_0', 0.010945554692465222),\n",
       " ('Z2Flav', 0.005366852623402302),\n",
       " ('nExtraLep', 0.004872537250194195),\n",
       " ('Z1Flav', 0.004801920768307323)]"
      ]
     },
     "execution_count": 115,
     "metadata": {},
     "output_type": "execute_result"
    }
   ],
   "source": [
    "implist"
   ]
  },
  {
   "cell_type": "raw",
   "metadata": {
    "collapsed": false,
    "scrolled": true
   },
   "source": [
    "plot_branch((\"WHh2j\", \"ggH2j\"), \"JetEta_0\", 0.0, 1.0)"
   ]
  }
 ],
 "metadata": {
  "kernelspec": {
   "display_name": "Python 2",
   "language": "python",
   "name": "python2"
  },
  "language_info": {
   "codemirror_mode": {
    "name": "ipython",
    "version": 2
   },
   "file_extension": ".py",
   "mimetype": "text/x-python",
   "name": "python",
   "nbconvert_exporter": "python",
   "pygments_lexer": "ipython2",
   "version": "2.7.11"
  }
 },
 "nbformat": 4,
 "nbformat_minor": 2
}
