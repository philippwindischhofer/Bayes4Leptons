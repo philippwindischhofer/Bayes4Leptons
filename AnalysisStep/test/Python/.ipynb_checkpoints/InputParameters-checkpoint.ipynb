{
 "cells": [
  {
   "cell_type": "code",
   "execution_count": 1,
   "metadata": {
    "collapsed": true
   },
   "outputs": [],
   "source": [
    "import warnings\n",
    "warnings.filterwarnings('ignore')"
   ]
  },
  {
   "cell_type": "code",
   "execution_count": 2,
   "metadata": {
    "collapsed": false
   },
   "outputs": [
    {
     "name": "stdout",
     "output_type": "stream",
     "text": [
      "Welcome to JupyROOT 6.10/09\n"
     ]
    }
   ],
   "source": [
    "from trainlib.FileCollection import FileCollection\n",
    "from trainlib.config import Config\n",
    "import trainlib.cuts as cuts\n",
    "import numpy as np\n",
    "import matplotlib.pyplot as plt\n",
    "import pandas as pd\n",
    "import copy\n",
    "import re"
   ]
  },
  {
   "cell_type": "code",
   "execution_count": 3,
   "metadata": {
    "collapsed": false
   },
   "outputs": [
    {
     "name": "stderr",
     "output_type": "stream",
     "text": [
      "/cvmfs/cms.cern.ch/slc6_amd64_gcc630/external/py2-pippkgs_depscipy/3.0-fmblme3/lib/python2.7/site-packages/sklearn/cross_validation.py:44: DeprecationWarning: This module was deprecated in version 0.18 in favor of the model_selection module into which all the refactored classes and functions are moved. Also note that the interface of the new CV iterators are different from that of this module. This module will be removed in 0.20.\n",
      "  \"This module will be removed in 0.20.\", DeprecationWarning)\n"
     ]
    }
   ],
   "source": [
    "import xgboost as xgb\n",
    "from sklearn.metrics import mean_squared_error"
   ]
  },
  {
   "cell_type": "code",
   "execution_count": 4,
   "metadata": {
    "collapsed": true
   },
   "outputs": [],
   "source": [
    "candidate_branches = [\"PFMET\", \"nCleanedJetsPt30\", \"nCleanedJetsPt30BTagged_bTagSF\", \"nExtraLep\", \"ZZMass\", \"nExtraZ\", \"Z1Mass\", \"Z2Mass\", \"Z1Pt\", \"Z2Pt\", \"ZZMassErr\", \"ZZPt\", \"ZZEta\", \"ZZPhi\", \"Z1Flav\", \"Z2Flav\", \"costhetastar\", \"helphi\", \"helcosthetaZ1\", \"helcosthetaZ2\", \"phistarZ1\", \"phistarZ2\", \"xi\", \"xistar\"]\n",
    "MELA_branches = [\"D_VBF2j_ggH_ME\", \"D_VBF1j_ggH_ME\", \"D_WHh_ggH_ME\", \"D_ZHh_ggH_ME\", \"D_WHh_ZHh_ME\", \"D_VBF2j_WHh_ME\", \"D_VBF2j_ZHh_ME\"]\n",
    "list_branches = [\"Jet\", \"Lep\", \"ExtraLep\"]\n",
    "pt_limits = [30.0, 0.0, 0.0]"
   ]
  },
  {
   "cell_type": "code",
   "execution_count": 5,
   "metadata": {
    "collapsed": true
   },
   "outputs": [],
   "source": [
    "allbranches = [\"JetPt\", \"JetEta\", \"JetPhi\", \"LepPt\", \"LepEta\", \"LepPhi\", \"ExtraLepPt\", \"ExtraLepEta\", \"ExtraLepPhi\"] + candidate_branches + MELA_branches + [\"LHEAssociatedParticleId\", \"GenAssocLep1Id\", \"GenAssocLep2Id\", \"training_weight\"]"
   ]
  },
  {
   "cell_type": "code",
   "execution_count": 6,
   "metadata": {
    "collapsed": true
   },
   "outputs": [],
   "source": [
    "#MC_path = \"/data_CMS/cms/wind/CJLST_NTuples_randomizeda/\"\n",
    "MC_path = \"/data_CMS/cms/wind/CJLST_NTuples/\""
   ]
  },
  {
   "cell_type": "code",
   "execution_count": 8,
   "metadata": {
    "collapsed": true
   },
   "outputs": [],
   "source": [
    "def WHhadr0j_cut(row):\n",
    "    return cuts.WHhadr_cut(row) and row[\"nCleanedJetsPt30\"] == 0\n",
    "\n",
    "def WHhadr01j_cut(row):\n",
    "    return cuts.WHhadr_cut(row) and (row[\"nCleanedJetsPt30\"] == 0 or row[\"nCleanedJetsPt30\"] == 1)\n",
    "\n",
    "def WHhadr1j_cut(row):\n",
    "    return cuts.WHhadr_cut(row) and row[\"nCleanedJetsPt30\"] == 1\n",
    "\n",
    "def WHhadr2j_cut(row):\n",
    "    return cuts.WHhadr_cut(row) and row[\"nCleanedJetsPt30\"] >= 2\n",
    "\n",
    "def ZHhadr0j_cut(row):\n",
    "    return cuts.ZHhadr_cut(row) and row[\"nCleanedJetsPt30\"] == 0\n",
    "\n",
    "def ZHhadr01j_cut(row):\n",
    "    return cuts.ZHhadr_cut(row) and (row[\"nCleanedJetsPt30\"] == 0 or row[\"nCleanedJetsPt30\"] == 1)\n",
    "\n",
    "def ZHhadr1j_cut(row):\n",
    "    return cuts.ZHhadr_cut(row) and row[\"nCleanedJetsPt30\"] == 1\n",
    "\n",
    "def ZHhadr2j_cut(row):\n",
    "    return cuts.ZHhadr_cut(row) and row[\"nCleanedJetsPt30\"] >= 2\n",
    "\n",
    "def mZZ0j_cut(row):\n",
    "    return cuts.mZZ_cut(row) and row[\"nCleanedJetsPt30\"] == 0\n",
    "\n",
    "def mZZ01j_cut(row):\n",
    "    return cuts.mZZ_cut(row) and (row[\"nCleanedJetsPt30\"] == 0 or row[\"nCleanedJetsPt30\"] == 1)\n",
    "\n",
    "def mZZ1j_cut(row):\n",
    "    return cuts.mZZ_cut(row) and row[\"nCleanedJetsPt30\"] == 1\n",
    "\n",
    "def mZZ2j_cut(row):\n",
    "    return cuts.mZZ_cut(row) and row[\"nCleanedJetsPt30\"] >= 2"
   ]
  },
  {
   "cell_type": "code",
   "execution_count": 9,
   "metadata": {
    "collapsed": false
   },
   "outputs": [],
   "source": [
    "collections = {\"VBF2j\": {MC_path + \"VBFH125/ZZ4lAnalysis.root\": mZZ2j_cut},\n",
    "            \"VBF1j\": {MC_path + \"VBFH125/ZZ4lAnalysis.root\": mZZ1j_cut},\n",
    "            \"VBF0j\": {MC_path + \"VBFH125/ZZ4lAnalysis.root\": mZZ0j_cut},\n",
    "            \"VBF01j\": {MC_path + \"VBFH125/ZZ4lAnalysis.root\": mZZ01j_cut},\n",
    "            \"VBF\": {MC_path + \"VBFH125/ZZ4lAnalysis.root\": cuts.mZZ_cut},\n",
    "            \"ggH2j\": {MC_path + \"ggH125/ZZ4lAnalysis.root\": mZZ2j_cut},\n",
    "            \"ggH1j\": {MC_path + \"ggH125/ZZ4lAnalysis.root\": mZZ1j_cut},\n",
    "            \"ggH0j\": {MC_path + \"ggH125/ZZ4lAnalysis.root\": mZZ0j_cut},\n",
    "            \"ggH01j\": {MC_path + \"ggH125/ZZ4lAnalysis.root\": mZZ01j_cut},\n",
    "            \"ggH\" : {MC_path + \"ggH125/ZZ4lAnalysis.root\": cuts.mZZ_cut},\n",
    "            \"WHh2j\": {MC_path + \"WplusH125/ZZ4lAnalysis.root\": WHhadr2j_cut, MC_path + \"WminusH125/ZZ4lAnalysis.root\": WHhadr2j_cut},\n",
    "            \"WHh1j\": {MC_path + \"WplusH125/ZZ4lAnalysis.root\": WHhadr1j_cut, MC_path + \"WminusH125/ZZ4lAnalysis.root\": WHhadr1j_cut},\n",
    "            \"WHh0j\": {MC_path + \"WplusH125/ZZ4lAnalysis.root\": WHhadr0j_cut, MC_path + \"WminusH125/ZZ4lAnalysis.root\": WHhadr0j_cut},\n",
    "            \"WHh\": {MC_path + \"WplusH125/ZZ4lAnalysis.root\": cuts.WHhadr_cut, MC_path + \"WminusH125/ZZ4lAnalysis.root\": cuts.WHhadr_cut},\n",
    "            \"WHh01j\": {MC_path + \"WplusH125/ZZ4lAnalysis.root\": WHhadr01j_cut, MC_path + \"WminusH125/ZZ4lAnalysis.root\": WHhadr01j_cut},\n",
    "            \"WHl\": {MC_path + \"WplusH125/ZZ4lAnalysis.root\": cuts.WHlept_cut, MC_path + \"WminusH125/ZZ4lAnalysis.root\": cuts.WHlept_cut},\n",
    "            \"ZHh2j\": {MC_path + \"ZH125/ZZ4lAnalysis.root\": ZHhadr2j_cut},\n",
    "            \"ZHh1j\": {MC_path + \"ZH125/ZZ4lAnalysis.root\": ZHhadr1j_cut},\n",
    "            \"ZHh01j\": {MC_path + \"ZH125/ZZ4lAnalysis.root\": ZHhadr01j_cut},\n",
    "            \"ZHh0j\": {MC_path + \"ZH125/ZZ4lAnalysis.root\": ZHhadr0j_cut},\n",
    "            \"ZHh\": {MC_path + \"ZH125/ZZ4lAnalysis.root\": cuts.ZHhadr_cut},\n",
    "            \"ZHl\": {MC_path + \"ZH125/ZZ4lAnalysis.root\": cuts.ZHlept_cut},\n",
    "            \"ttHh\": {MC_path + \"ttH125/ZZ4lAnalysis.root\": cuts.ttHhadr_cut},\n",
    "            \"ttHl\": {MC_path + \"ttH125/ZZ4lAnalysis.root\": cuts.ttHlept_cut},\n",
    "            \"ZHMET\": {MC_path + \"ZH125/ZZ4lAnalysis.root\": cuts.ZHMET_cut}\n",
    "          }"
   ]
  },
  {
   "cell_type": "code",
   "execution_count": 10,
   "metadata": {
    "collapsed": true
   },
   "outputs": [],
   "source": [
    "# all the model combinations for which neural networks are currently trained\n",
    "discriminant_pairs = [(\"VBF2j\", \"ggH2j\"), (\"VBF1j\", \"ggH1j\"), (\"VBF0j\", \"ggH0j\"), (\"WHh2j\", \"ggH2j\"), \n",
    "                     (\"WHh1j\", \"ggH1j\"), (\"WHh0j\", \"ggH0j\"), (\"ZHh2j\", \"ggH2j\"), (\"ZHh1j\", \"ggH1j\"), \n",
    "                      (\"ZHh0j\", \"ggH0j\"), (\"WHh2j\", \"ZHh2j\"), (\"WHh01j\", \"ZHh01j\"), (\"VBF2j\", \"WHh2j\"),\n",
    "                     (\"VBF1j\", \"WHh1j\"), (\"VBF0j\", \"WHh0j\"), (\"VBF2j\", \"ZHh2j\"), (\"VBF1j\", \"ZHh1j\"), \n",
    "                      (\"VBF0j\", \"ZHh0h\"), (\"WHl\", \"ggH\"), (\"WHl\", \"VBF\"), (\"WHl\", \"WHh\"), (\"WHl\", \"ZHh\"),\n",
    "                     (\"WHl\", \"ZHl\"), (\"WHl\", \"ZHMET\"), (\"WHl\", \"ttHh\"), (\"WHl\", \"ttHl\"), (\"ZHh\", \"ZHl\"),\n",
    "                     (\"ZHh\", \"ZHMET\"), (\"ZHh\", \"ttHh\"), (\"ZHh\", \"ttHl\"), (\"ZHl\", \"ggH\"), (\"ZHl\", \"VBF\"),\n",
    "                     (\"ZHl\", \"WHh\"), (\"ZHl\", \"ZHMET\"), (\"ZHl\", \"ttHh\"), (\"ZHl\", \"ttHl\"), (\"ZHMET\", \"ggH\"),\n",
    "                     (\"ZHMET\", \"VBF\"), (\"ZHMET\", \"WHh\"), (\"ZHMET\", \"ttHh\"), (\"ZHMET\", \"ttHl\"), (\"ttHh\", \"ggH\"),\n",
    "                      (\"ttHh\", \"VBF\"), (\"ttHh\", \"WHh\"), (\"ttHh\", \"ttHl\"), (\"ttHl\", \"ggH\"), (\"ttHl\", \"VBF\"),\n",
    "                     (\"ttHl\", \"WHh\")]"
   ]
  },
  {
   "cell_type": "code",
   "execution_count": 11,
   "metadata": {
    "collapsed": true
   },
   "outputs": [],
   "source": [
    "def get_list_element(row, column_name, list_index):\n",
    "    if list_index < len(row[column_name]):\n",
    "        return row[column_name][list_index]\n",
    "    else:\n",
    "        return 0.0"
   ]
  },
  {
   "cell_type": "code",
   "execution_count": 12,
   "metadata": {
    "collapsed": true
   },
   "outputs": [],
   "source": [
    "def get_sorted_list_element(row, list_index, sorted_column, aux_columns, min_pt):\n",
    "    sorted_objects = np.flipud(np.argsort(row[sorted_column]))\n",
    "        \n",
    "    if list_index < len(row[sorted_column]) and row[sorted_column][sorted_objects[list_index]] > min_pt:\n",
    "        processed_row = {column_name + \"_\" + str(list_index): [float(row[column_name][sorted_objects[list_index]])] for column_name in [sorted_column] + aux_columns}\n",
    "    else:\n",
    "        processed_row = {column_name + \"_\" + str(list_index): [0.0] for column_name in [sorted_column] + aux_columns}\n",
    "        \n",
    "    return processed_row"
   ]
  },
  {
   "cell_type": "code",
   "execution_count": 13,
   "metadata": {
    "collapsed": false
   },
   "outputs": [],
   "source": [
    "def get_sorted_list_element_df(inframe, list_index, sorted_column, aux_columns, pt_limit):\n",
    "    outframe = pd.DataFrame()\n",
    "    for row in inframe.iterrows():\n",
    "        processed_row = get_sorted_list_element(row[1], list_index, sorted_column, aux_columns, pt_limit)\n",
    "        outframe = outframe.append(pd.DataFrame(processed_row))\n",
    "    outframe = outframe.reset_index(drop = True)\n",
    "    \n",
    "    return outframe"
   ]
  },
  {
   "cell_type": "code",
   "execution_count": 14,
   "metadata": {
    "collapsed": false
   },
   "outputs": [],
   "source": [
    "def get_data(H1_coll, H0_coll, read_branches, input_branches, list_branches, pt_limits):\n",
    "    H1_df = H1_coll.get_data(read_branches, 0.0, 1.0)\n",
    "    H0_df = H0_coll.get_data(read_branches, 0.0, 1.0)\n",
    "    \n",
    "    list_branches_unrolled = []\n",
    "    \n",
    "    H1_list_df = pd.DataFrame()\n",
    "    H0_list_df = pd.DataFrame()\n",
    "    for list_branch, pt_limit in zip(list_branches, pt_limits):\n",
    "        for order in range(4):\n",
    "            H1_cur_df = get_sorted_list_element_df(H1_df, order, list_branch + \"Pt\", [list_branch + \"Eta\", list_branch + \"Phi\"], pt_limit)\n",
    "            H0_cur_df = get_sorted_list_element_df(H0_df, order, list_branch + \"Pt\", [list_branch + \"Eta\", list_branch + \"Phi\"], pt_limit)\n",
    "\n",
    "            H1_list_df = pd.concat([H1_list_df, H1_cur_df], axis = 1)\n",
    "            H0_list_df = pd.concat([H0_list_df, H0_cur_df], axis = 1)\n",
    "            \n",
    "            for unrolled_branch in H1_cur_df.columns:\n",
    "                list_branches_unrolled.append(unrolled_branch)\n",
    "            \n",
    "    H1_df = pd.concat([H1_df, H1_list_df], axis = 1)\n",
    "    H0_df = pd.concat([H0_df, H0_list_df], axis = 1)        \n",
    "    \n",
    "    complete_input_branches = input_branches + list_branches_unrolled\n",
    "        \n",
    "    H1_df = H1_df[complete_input_branches]\n",
    "    H0_df = H0_df[complete_input_branches]\n",
    "    \n",
    "    print \"final list of inputs: \" + str(complete_input_branches)\n",
    "\n",
    "    H1_data = H1_df.as_matrix()\n",
    "    H0_data = H0_df.as_matrix()\n",
    "    H1_target = np.ones(np.shape(H1_data)[0])\n",
    "    H0_target = np.zeros(np.shape(H0_data)[0])\n",
    "    \n",
    "    target = np.concatenate([H1_target, H0_target])\n",
    "    data = np.concatenate([H1_data, H0_data])\n",
    "    \n",
    "    dmatrix = xgb.DMatrix(data, label = target, feature_names = complete_input_branches)\n",
    "    \n",
    "    return dmatrix"
   ]
  },
  {
   "cell_type": "code",
   "execution_count": 20,
   "metadata": {
    "collapsed": false
   },
   "outputs": [],
   "source": [
    "def get_feature_importance_list(disc_pair, mandatory_branches, optional_branches, list_branches, pt_limits, params, max_num_rounds):\n",
    "    H1_name = disc_pair[0]\n",
    "    H0_name = disc_pair[1]\n",
    "    \n",
    "    # first assemble the list of branches that can serve as input: it will *always* contain the mandatory branches,\n",
    "    # and *can* contain some of the optional branches, if the name of the categories allows it\n",
    "    input_branches = [branch for branch in mandatory_branches]\n",
    "    \n",
    "    for optional_branch in optional_branches:\n",
    "        if (\"0j\" in H1_name or \"0j\" in H0_name) and (\"0j\" in optional_branch):\n",
    "            input_branches.append(optional_branch)\n",
    "            \n",
    "        if (\"1j\" in H1_name or \"1j\" in H0_name) and (\"1j\" in optional_branch):\n",
    "            input_branches.append(optional_branch)\n",
    "            \n",
    "        if (\"2j\" in H1_name or \"2j\" in H0_name) and (\"2j\" in optional_branch):\n",
    "            input_branches.append(optional_branch)\n",
    "            \n",
    "        # the fully inclusive categories (i.e. those with NO \"xxj\" in their name, can not use MELA, since there may\n",
    "        # be events with low number of jets contained)\n",
    "    \n",
    "    # get the training data for the BDT ...\n",
    "    H1_coll_train = FileCollection(collections[H1_name], 0.0, 0.5)\n",
    "    H0_coll_train = FileCollection(collections[H0_name], 0.0, 0.5)\n",
    "    \n",
    "    dtrain = get_data(H1_coll_train, H0_coll_train, allbranches, input_branches, list_branches, pt_limits)\n",
    "    \n",
    "    # ... and the validation data as well\n",
    "    H1_coll_val = FileCollection(collections[H1_name], 0.5, 1.0)\n",
    "    H0_coll_val = FileCollection(collections[H0_name], 0.5, 1.0)\n",
    "    dval = get_data(H1_coll_val, H0_coll_val, allbranches, input_branches, list_branches, pt_limits)\n",
    "    \n",
    "    evallist = [(dtrain, 'train'), (dval, 'eval')]\n",
    "    \n",
    "    # perform the training\n",
    "    # try different tree depths and choose the one that gives the best RMSE (i.e. avoid too deep trees to start with)\n",
    "    \n",
    "    best_loss = 1e6\n",
    "    best_imp = None\n",
    "    best_params = None\n",
    "    for tree_depth in range(1,6):\n",
    "        params['max_depth'] = tree_depth\n",
    "        \n",
    "        bst = xgb.train(params, dtrain, max_num_rounds, evals = evallist, early_stopping_rounds = 10, verbose_eval = False)\n",
    "    \n",
    "        pred = bst.predict(dval)\n",
    "        cur_loss = np.sqrt(mean_squared_error(pred, dval.get_label()))\n",
    "        cur_imp = bst.get_fscore()\n",
    "\n",
    "        print \"for max_depth = \" + str(params['max_depth']) + \": loss = \" + str(cur_loss)\n",
    "        \n",
    "        if cur_loss < best_loss:\n",
    "            best_loss = cur_loss\n",
    "            best_imp = copy.copy(cur_imp)\n",
    "            best_params = copy.copy(params)\n",
    "            \n",
    "    # normalize the usage score w.r.t. the total score (i.e. sum of all individuals)\n",
    "    score_sum = sum([val for key, val in best_imp.iteritems()])\n",
    "    used_variables = {key: val / float(score_sum) for key, val in sorted(best_imp.iteritems(), key = lambda x: x[1], reverse = True)}           \n",
    "    return best_params, dtrain.feature_names, used_variables"
   ]
  },
  {
   "cell_type": "code",
   "execution_count": 32,
   "metadata": {
    "collapsed": false
   },
   "outputs": [
    {
     "name": "stdout",
     "output_type": "stream",
     "text": [
      "The history saving thread hit an unexpected error (OperationalError('disk I/O error',)).History will not be written to the database.\n"
     ]
    }
   ],
   "source": [
    "def get_histogram(coll, branch, label):\n",
    "    df = coll.get_data(allbranches, 0.0, 1.0)\n",
    "    data = df[branch].as_matrix()\n",
    "    weights = df[\"training_weight\"].as_matrix()\n",
    "    \n",
    "    # set the bin width\n",
    "    q75, q25 = np.percentile(data, [75, 25])\n",
    "    bin_width = max(2 * (q75 - q25) / len(data)**0.33, 0.005)\n",
    "\n",
    "    data_max = np.max(data)\n",
    "    data_min = np.min(data)\n",
    "    bins = np.arange(data_min, data_max + bin_width, bin_width)\n",
    "    \n",
    "    weights = weights / (np.sum(weights) * bin_width)\n",
    "    \n",
    "    fig = plt.hist(data, bins = bins, weights = weights, alpha = 0.5, label = label)\n",
    "    return fig"
   ]
  },
  {
   "cell_type": "code",
   "execution_count": 29,
   "metadata": {
    "collapsed": true
   },
   "outputs": [],
   "source": [
    "def plot_branch(disc_pair, branch):\n",
    "    H1_name = disc_pair[0]\n",
    "    H0_name = disc_pair[1]\n",
    "    \n",
    "    # get the training data for the BDT ...\n",
    "    H1_coll = FileCollection(collections[H1_name], 0.0, 1.0)\n",
    "    H0_coll = FileCollection(collections[H0_name], 0.0, 1.0)\n",
    "    \n",
    "    plt.figure()\n",
    "    H1_hist = get_histogram(H1_coll, branch, H1_name)\n",
    "    H0_hist = get_histogram(H0_coll, branch, H0_name)\n",
    "    \n",
    "    plt.legend(loc = 'upper right')\n",
    "    plt.show()"
   ]
  },
  {
   "cell_type": "code",
   "execution_count": 30,
   "metadata": {
    "collapsed": false
   },
   "outputs": [],
   "source": [
    "def plot_variables(discs):\n",
    "    plotframe = pd.DataFrame()\n",
    "    \n",
    "    for disc in discs:\n",
    "        param = {'eta': 0.01, 'silent': 1, 'gamma': 0.5, 'objective': 'binary:logistic'}\n",
    "        param['nthread'] = 4\n",
    "        param['eval_metric'] = 'rmse'\n",
    "        num_round = 1000\n",
    "        best_params, input_parameters, implist = get_feature_importance_list(disc, candidate_branches, MELA_branches, list_branches, pt_limits, param, num_round)\n",
    "        \n",
    "        # cut the list to select only the 95% most important variables\n",
    "        cutimplist = {key: val for key, val in implist.iteritems() if val > 0.05}\n",
    "        curframe = pd.DataFrame(cutimplist, index = [len(plotframe)])\n",
    "        \n",
    "        plotframe = pd.concat([plotframe, curframe])\n",
    "        \n",
    "    plotframe = plotframe.fillna(0.0)\n",
    "    \n",
    "    # start the plotting\n",
    "    parameters = plotframe.columns\n",
    "    plotdata = np.transpose(plotframe.as_matrix())\n",
    "    \n",
    "    fig = plt.figure(figsize=(10,15))\n",
    "    plt.imshow(plotdata, interpolation = 'none', cmap = 'Blues')\n",
    "    \n",
    "    # make axis labels\n",
    "    disclabels = []\n",
    "    for disc in discs:\n",
    "        if \"0j\" in disc[0] or \"0j\" in disc[1]:\n",
    "            disclabels.append('D_' + re.sub('0j', '', disc[0]) + \"_\" + re.sub('0j', '', disc[1]) + \"_0j\")\n",
    "        elif \"01j\" in disc[0] or \"01j\" in disc[1]:\n",
    "            disclabels.append('D_' + re.sub('01j', '', disc[0]) + \"_\" + re.sub('01j', '', disc[1]) + \"_01j\")\n",
    "        elif \"1j\" in disc[0] or \"1j\" in disc[1]:\n",
    "            disclabels.append('D_' + re.sub('1j', '', disc[0]) + \"_\" + re.sub('1j', '', disc[1]) + \"_1j\")\n",
    "        elif \"2j\" in disc[0] or \"2j\" in disc[1]:\n",
    "            disclabels.append('D_' + re.sub('2j', '', disc[0]) + \"_\" + re.sub('2j', '', disc[1]) + \"_2j\")\n",
    "        else:\n",
    "            disclabels.append('D_' + disc[0] + \"_\" + disc[1] + \"_2j\")\n",
    "        \n",
    "    plt.xticks(range(len(disclabels)), disclabels, rotation = 'vertical')\n",
    "    plt.yticks(range(len(parameters)), parameters)\n",
    "    \n",
    "    return fig"
   ]
  },
  {
   "cell_type": "code",
   "execution_count": 19,
   "metadata": {
    "collapsed": false,
    "scrolled": false
   },
   "outputs": [
    {
     "name": "stdout",
     "output_type": "stream",
     "text": [
      "skimming /data_CMS/cms/wind/CJLST_NTuples/WminusH125/ZZ4lAnalysis.root\n",
      "skimming /data_CMS/cms/wind/CJLST_NTuples/WplusH125/ZZ4lAnalysis.root\n",
      "collection set up: 2 files, 56636 entries in total, 28317 of which will be used\n",
      "skimming /data_CMS/cms/wind/CJLST_NTuples/ZH125/ZZ4lAnalysis.root\n",
      "collection set up: 1 files, 61210 entries in total, 30605 of which will be used\n",
      "final list of inputs: ['PFMET', 'nCleanedJetsPt30', 'nCleanedJetsPt30BTagged_bTagSF', 'nExtraLep', 'ZZMass', 'nExtraZ', 'Z1Mass', 'Z2Mass', 'Z1Pt', 'Z2Pt', 'ZZMassErr', 'ZZPt', 'ZZEta', 'ZZPhi', 'Z1Flav', 'Z2Flav', 'costhetastar', 'helphi', 'helcosthetaZ1', 'helcosthetaZ2', 'phistarZ1', 'phistarZ2', 'xi', 'xistar', 'D_VBF1j_ggH_ME', 'JetEta_0', 'JetPhi_0', 'JetPt_0', 'JetEta_1', 'JetPhi_1', 'JetPt_1', 'JetEta_2', 'JetPhi_2', 'JetPt_2', 'JetEta_3', 'JetPhi_3', 'JetPt_3', 'LepEta_0', 'LepPhi_0', 'LepPt_0', 'LepEta_1', 'LepPhi_1', 'LepPt_1', 'LepEta_2', 'LepPhi_2', 'LepPt_2', 'LepEta_3', 'LepPhi_3', 'LepPt_3', 'ExtraLepEta_0', 'ExtraLepPhi_0', 'ExtraLepPt_0', 'ExtraLepEta_1', 'ExtraLepPhi_1', 'ExtraLepPt_1', 'ExtraLepEta_2', 'ExtraLepPhi_2', 'ExtraLepPt_2', 'ExtraLepEta_3', 'ExtraLepPhi_3', 'ExtraLepPt_3']\n",
      "skimming /data_CMS/cms/wind/CJLST_NTuples/WminusH125/ZZ4lAnalysis.root\n",
      "skimming /data_CMS/cms/wind/CJLST_NTuples/WplusH125/ZZ4lAnalysis.root\n",
      "collection set up: 2 files, 56636 entries in total, 28319 of which will be used\n",
      "skimming /data_CMS/cms/wind/CJLST_NTuples/ZH125/ZZ4lAnalysis.root\n",
      "collection set up: 1 files, 61210 entries in total, 30605 of which will be used\n",
      "final list of inputs: ['PFMET', 'nCleanedJetsPt30', 'nCleanedJetsPt30BTagged_bTagSF', 'nExtraLep', 'ZZMass', 'nExtraZ', 'Z1Mass', 'Z2Mass', 'Z1Pt', 'Z2Pt', 'ZZMassErr', 'ZZPt', 'ZZEta', 'ZZPhi', 'Z1Flav', 'Z2Flav', 'costhetastar', 'helphi', 'helcosthetaZ1', 'helcosthetaZ2', 'phistarZ1', 'phistarZ2', 'xi', 'xistar', 'D_VBF1j_ggH_ME', 'JetEta_0', 'JetPhi_0', 'JetPt_0', 'JetEta_1', 'JetPhi_1', 'JetPt_1', 'JetEta_2', 'JetPhi_2', 'JetPt_2', 'JetEta_3', 'JetPhi_3', 'JetPt_3', 'LepEta_0', 'LepPhi_0', 'LepPt_0', 'LepEta_1', 'LepPhi_1', 'LepPt_1', 'LepEta_2', 'LepPhi_2', 'LepPt_2', 'LepEta_3', 'LepPhi_3', 'LepPt_3', 'ExtraLepEta_0', 'ExtraLepPhi_0', 'ExtraLepPt_0', 'ExtraLepEta_1', 'ExtraLepPhi_1', 'ExtraLepPt_1', 'ExtraLepEta_2', 'ExtraLepPhi_2', 'ExtraLepPt_2', 'ExtraLepEta_3', 'ExtraLepPhi_3', 'ExtraLepPt_3']\n"
     ]
    },
    {
     "ename": "NameError",
     "evalue": "global name 'num_round' is not defined",
     "output_type": "error",
     "traceback": [
      "\u001b[0;31m\u001b[0m",
      "\u001b[0;31mNameError\u001b[0mTraceback (most recent call last)",
      "\u001b[0;32m<ipython-input-19-26a45f67c331>\u001b[0m in \u001b[0;36m<module>\u001b[0;34m()\u001b[0m\n\u001b[0;32m----> 1\u001b[0;31m \u001b[0mfig1\u001b[0m \u001b[0;34m=\u001b[0m \u001b[0mplot_variables\u001b[0m\u001b[0;34m(\u001b[0m\u001b[0;34m[\u001b[0m\u001b[0;34m(\u001b[0m\u001b[0;34m\"WHh1j\"\u001b[0m\u001b[0;34m,\u001b[0m \u001b[0;34m\"ZHh1j\"\u001b[0m\u001b[0;34m)\u001b[0m\u001b[0;34m,\u001b[0m \u001b[0;34m(\u001b[0m\u001b[0;34m\"WHh0j\"\u001b[0m\u001b[0;34m,\u001b[0m \u001b[0;34m\"ZHh0j\"\u001b[0m\u001b[0;34m)\u001b[0m\u001b[0;34m]\u001b[0m\u001b[0;34m)\u001b[0m\u001b[0;34m\u001b[0m\u001b[0m\n\u001b[0m",
      "\u001b[0;32m<ipython-input-18-6ed03034496c>\u001b[0m in \u001b[0;36mplot_variables\u001b[0;34m(discs)\u001b[0m\n\u001b[1;32m      7\u001b[0m         \u001b[0mparam\u001b[0m\u001b[0;34m[\u001b[0m\u001b[0;34m'eval_metric'\u001b[0m\u001b[0;34m]\u001b[0m \u001b[0;34m=\u001b[0m \u001b[0;34m'rmse'\u001b[0m\u001b[0;34m\u001b[0m\u001b[0m\n\u001b[1;32m      8\u001b[0m         \u001b[0mnum_round\u001b[0m \u001b[0;34m=\u001b[0m \u001b[0;36m1000\u001b[0m\u001b[0;34m\u001b[0m\u001b[0m\n\u001b[0;32m----> 9\u001b[0;31m         \u001b[0mbest_params\u001b[0m\u001b[0;34m,\u001b[0m \u001b[0minput_parameters\u001b[0m\u001b[0;34m,\u001b[0m \u001b[0mimplist\u001b[0m \u001b[0;34m=\u001b[0m \u001b[0mget_feature_importance_list\u001b[0m\u001b[0;34m(\u001b[0m\u001b[0mdisc\u001b[0m\u001b[0;34m,\u001b[0m \u001b[0mcandidate_branches\u001b[0m\u001b[0;34m,\u001b[0m \u001b[0mMELA_branches\u001b[0m\u001b[0;34m,\u001b[0m \u001b[0mlist_branches\u001b[0m\u001b[0;34m,\u001b[0m \u001b[0mpt_limits\u001b[0m\u001b[0;34m,\u001b[0m \u001b[0mparam\u001b[0m\u001b[0;34m,\u001b[0m \u001b[0mnum_round\u001b[0m\u001b[0;34m)\u001b[0m\u001b[0;34m\u001b[0m\u001b[0m\n\u001b[0m\u001b[1;32m     10\u001b[0m \u001b[0;34m\u001b[0m\u001b[0m\n\u001b[1;32m     11\u001b[0m         \u001b[0;31m# cut the list to select only the 95% most important variables\u001b[0m\u001b[0;34m\u001b[0m\u001b[0;34m\u001b[0m\u001b[0m\n",
      "\u001b[0;32m<ipython-input-15-4d6f190c3e1a>\u001b[0m in \u001b[0;36mget_feature_importance_list\u001b[0;34m(disc_pair, mandatory_branches, optional_branches, list_branches, pt_limits, params, max_num_rounds)\u001b[0m\n\u001b[1;32m     42\u001b[0m         \u001b[0mparams\u001b[0m\u001b[0;34m[\u001b[0m\u001b[0;34m'max_depth'\u001b[0m\u001b[0;34m]\u001b[0m \u001b[0;34m=\u001b[0m \u001b[0mtree_depth\u001b[0m\u001b[0;34m\u001b[0m\u001b[0m\n\u001b[1;32m     43\u001b[0m \u001b[0;34m\u001b[0m\u001b[0m\n\u001b[0;32m---> 44\u001b[0;31m         \u001b[0mbst\u001b[0m \u001b[0;34m=\u001b[0m \u001b[0mxgb\u001b[0m\u001b[0;34m.\u001b[0m\u001b[0mtrain\u001b[0m\u001b[0;34m(\u001b[0m\u001b[0mparams\u001b[0m\u001b[0;34m,\u001b[0m \u001b[0mdtrain\u001b[0m\u001b[0;34m,\u001b[0m \u001b[0mnum_round\u001b[0m\u001b[0;34m,\u001b[0m \u001b[0mevals\u001b[0m \u001b[0;34m=\u001b[0m \u001b[0mevallist\u001b[0m\u001b[0;34m,\u001b[0m \u001b[0mearly_stopping_rounds\u001b[0m \u001b[0;34m=\u001b[0m \u001b[0;36m10\u001b[0m\u001b[0;34m,\u001b[0m \u001b[0mverbose_eval\u001b[0m \u001b[0;34m=\u001b[0m \u001b[0mFalse\u001b[0m\u001b[0;34m)\u001b[0m\u001b[0;34m\u001b[0m\u001b[0m\n\u001b[0m\u001b[1;32m     45\u001b[0m \u001b[0;34m\u001b[0m\u001b[0m\n\u001b[1;32m     46\u001b[0m         \u001b[0mpred\u001b[0m \u001b[0;34m=\u001b[0m \u001b[0mbst\u001b[0m\u001b[0;34m.\u001b[0m\u001b[0mpredict\u001b[0m\u001b[0;34m(\u001b[0m\u001b[0mdval\u001b[0m\u001b[0;34m)\u001b[0m\u001b[0;34m\u001b[0m\u001b[0m\n",
      "\u001b[0;31mNameError\u001b[0m: global name 'num_round' is not defined"
     ]
    }
   ],
   "source": [
    "fig1 = plot_variables([(\"WHh1j\", \"ZHh1j\"), (\"WHh0j\", \"ZHh0j\")])"
   ]
  },
  {
   "cell_type": "code",
   "execution_count": null,
   "metadata": {
    "collapsed": false
   },
   "outputs": [],
   "source": [
    "plt.show()"
   ]
  },
  {
   "cell_type": "code",
   "execution_count": null,
   "metadata": {
    "collapsed": true
   },
   "outputs": [],
   "source": [
    "fig1.savefig(\"D_WHh_ZHh.pdf\")"
   ]
  },
  {
   "cell_type": "code",
   "execution_count": 139,
   "metadata": {
    "collapsed": false
   },
   "outputs": [
    {
     "name": "stdout",
     "output_type": "stream",
     "text": [
      "skimming /data_CMS/cms/wind/CJLST_NTuples/WminusH125/ZZ4lAnalysis.root\n",
      "skimming /data_CMS/cms/wind/CJLST_NTuples/WplusH125/ZZ4lAnalysis.root\n",
      "collection set up: 2 files, 56636 entries in total, 56636 of which will be used\n",
      "skimming /data_CMS/cms/wind/CJLST_NTuples/ZH125/ZZ4lAnalysis.root\n",
      "collection set up: 1 files, 61210 entries in total, 61210 of which will be used\n"
     ]
    },
    {
     "data": {
      "image/png": "[encoded data removed]",
      "text/plain": [
       "<matplotlib.figure.Figure at 0x7fd879c550d0>"
      ]
     },
     "metadata": {},
     "output_type": "display_data"
    }
   ],
   "source": [
    "plot_branch((\"WHh1j\", \"ZHh1j\"), \"phistarZ1\")"
   ]
  },
  {
   "cell_type": "code",
   "execution_count": 203,
   "metadata": {
    "collapsed": false
   },
   "outputs": [
    {
     "name": "stdout",
     "output_type": "stream",
     "text": [
      "skimming /data_CMS/cms/wind/CJLST_NTuples/WminusH125/ZZ4lAnalysis.root\n",
      "skimming /data_CMS/cms/wind/CJLST_NTuples/WplusH125/ZZ4lAnalysis.root\n",
      "collection set up: 2 files, 56636 entries in total, 56636 of which will be used\n",
      "skimming /data_CMS/cms/wind/CJLST_NTuples/ZH125/ZZ4lAnalysis.root\n",
      "collection set up: 1 files, 61210 entries in total, 61210 of which will be used\n"
     ]
    },
    {
     "data": {
      "image/png": "[encoded data removed]",
      "text/plain": [
       "<matplotlib.figure.Figure at 0x7fd879724710>"
      ]
     },
     "metadata": {},
     "output_type": "display_data"
    }
   ],
   "source": [
    "plot_branch((\"WHh0j\", \"ZHh0j\"), \"helcosthetaZ2\")"
   ]
  },
  {
   "cell_type": "code",
   "execution_count": 24,
   "metadata": {
    "collapsed": false,
    "scrolled": false
   },
   "outputs": [
    {
     "name": "stdout",
     "output_type": "stream",
     "text": [
      "skimming /data_CMS/cms/wind/CJLST_NTuples/VBFH125/ZZ4lAnalysis.root\n",
      "collection set up: 1 files, 62320 entries in total, 31160 of which will be used\n",
      "skimming /data_CMS/cms/wind/CJLST_NTuples/ggH125/ZZ4lAnalysis.root\n",
      "collection set up: 1 files, 110483 entries in total, 55241 of which will be used\n",
      "final list of inputs: ['PFMET', 'nCleanedJetsPt30', 'nCleanedJetsPt30BTagged_bTagSF', 'nExtraLep', 'ZZMass', 'nExtraZ', 'Z1Mass', 'Z2Mass', 'Z1Pt', 'Z2Pt', 'ZZMassErr', 'ZZPt', 'ZZEta', 'ZZPhi', 'Z1Flav', 'Z2Flav', 'costhetastar', 'helphi', 'helcosthetaZ1', 'helcosthetaZ2', 'phistarZ1', 'phistarZ2', 'xi', 'xistar', 'D_VBF2j_ggH_ME', 'D_VBF2j_WHh_ME', 'D_VBF2j_ZHh_ME', 'JetEta_0', 'JetPhi_0', 'JetPt_0', 'JetEta_1', 'JetPhi_1', 'JetPt_1', 'JetEta_2', 'JetPhi_2', 'JetPt_2', 'JetEta_3', 'JetPhi_3', 'JetPt_3', 'LepEta_0', 'LepPhi_0', 'LepPt_0', 'LepEta_1', 'LepPhi_1', 'LepPt_1', 'LepEta_2', 'LepPhi_2', 'LepPt_2', 'LepEta_3', 'LepPhi_3', 'LepPt_3', 'ExtraLepEta_0', 'ExtraLepPhi_0', 'ExtraLepPt_0', 'ExtraLepEta_1', 'ExtraLepPhi_1', 'ExtraLepPt_1', 'ExtraLepEta_2', 'ExtraLepPhi_2', 'ExtraLepPt_2', 'ExtraLepEta_3', 'ExtraLepPhi_3', 'ExtraLepPt_3']\n",
      "skimming /data_CMS/cms/wind/CJLST_NTuples/VBFH125/ZZ4lAnalysis.root\n",
      "collection set up: 1 files, 62320 entries in total, 31160 of which will be used\n",
      "skimming /data_CMS/cms/wind/CJLST_NTuples/ggH125/ZZ4lAnalysis.root\n",
      "collection set up: 1 files, 110483 entries in total, 55242 of which will be used\n",
      "final list of inputs: ['PFMET', 'nCleanedJetsPt30', 'nCleanedJetsPt30BTagged_bTagSF', 'nExtraLep', 'ZZMass', 'nExtraZ', 'Z1Mass', 'Z2Mass', 'Z1Pt', 'Z2Pt', 'ZZMassErr', 'ZZPt', 'ZZEta', 'ZZPhi', 'Z1Flav', 'Z2Flav', 'costhetastar', 'helphi', 'helcosthetaZ1', 'helcosthetaZ2', 'phistarZ1', 'phistarZ2', 'xi', 'xistar', 'D_VBF2j_ggH_ME', 'D_VBF2j_WHh_ME', 'D_VBF2j_ZHh_ME', 'JetEta_0', 'JetPhi_0', 'JetPt_0', 'JetEta_1', 'JetPhi_1', 'JetPt_1', 'JetEta_2', 'JetPhi_2', 'JetPt_2', 'JetEta_3', 'JetPhi_3', 'JetPt_3', 'LepEta_0', 'LepPhi_0', 'LepPt_0', 'LepEta_1', 'LepPhi_1', 'LepPt_1', 'LepEta_2', 'LepPhi_2', 'LepPt_2', 'LepEta_3', 'LepPhi_3', 'LepPt_3', 'ExtraLepEta_0', 'ExtraLepPhi_0', 'ExtraLepPt_0', 'ExtraLepEta_1', 'ExtraLepPhi_1', 'ExtraLepPt_1', 'ExtraLepEta_2', 'ExtraLepPhi_2', 'ExtraLepPt_2', 'ExtraLepEta_3', 'ExtraLepPhi_3', 'ExtraLepPt_3']\n",
      "for max_depth = 1: loss = 0.382427\n",
      "for max_depth = 2: loss = 0.377586\n",
      "for max_depth = 3: loss = 0.375813\n",
      "for max_depth = 4: loss = 0.375088\n",
      "for max_depth = 5: loss = 0.374812\n",
      "skimming /data_CMS/cms/wind/CJLST_NTuples/VBFH125/ZZ4lAnalysis.root\n",
      "collection set up: 1 files, 62320 entries in total, 31160 of which will be used\n",
      "skimming /data_CMS/cms/wind/CJLST_NTuples/ggH125/ZZ4lAnalysis.root\n",
      "collection set up: 1 files, 110483 entries in total, 55241 of which will be used\n",
      "final list of inputs: ['PFMET', 'nCleanedJetsPt30', 'nCleanedJetsPt30BTagged_bTagSF', 'nExtraLep', 'ZZMass', 'nExtraZ', 'Z1Mass', 'Z2Mass', 'Z1Pt', 'Z2Pt', 'ZZMassErr', 'ZZPt', 'ZZEta', 'ZZPhi', 'Z1Flav', 'Z2Flav', 'costhetastar', 'helphi', 'helcosthetaZ1', 'helcosthetaZ2', 'phistarZ1', 'phistarZ2', 'xi', 'xistar', 'D_VBF1j_ggH_ME', 'JetEta_0', 'JetPhi_0', 'JetPt_0', 'JetEta_1', 'JetPhi_1', 'JetPt_1', 'JetEta_2', 'JetPhi_2', 'JetPt_2', 'JetEta_3', 'JetPhi_3', 'JetPt_3', 'LepEta_0', 'LepPhi_0', 'LepPt_0', 'LepEta_1', 'LepPhi_1', 'LepPt_1', 'LepEta_2', 'LepPhi_2', 'LepPt_2', 'LepEta_3', 'LepPhi_3', 'LepPt_3', 'ExtraLepEta_0', 'ExtraLepPhi_0', 'ExtraLepPt_0', 'ExtraLepEta_1', 'ExtraLepPhi_1', 'ExtraLepPt_1', 'ExtraLepEta_2', 'ExtraLepPhi_2', 'ExtraLepPt_2', 'ExtraLepEta_3', 'ExtraLepPhi_3', 'ExtraLepPt_3']\n",
      "skimming /data_CMS/cms/wind/CJLST_NTuples/VBFH125/ZZ4lAnalysis.root\n",
      "collection set up: 1 files, 62320 entries in total, 31160 of which will be used\n",
      "skimming /data_CMS/cms/wind/CJLST_NTuples/ggH125/ZZ4lAnalysis.root\n",
      "collection set up: 1 files, 110483 entries in total, 55242 of which will be used\n",
      "final list of inputs: ['PFMET', 'nCleanedJetsPt30', 'nCleanedJetsPt30BTagged_bTagSF', 'nExtraLep', 'ZZMass', 'nExtraZ', 'Z1Mass', 'Z2Mass', 'Z1Pt', 'Z2Pt', 'ZZMassErr', 'ZZPt', 'ZZEta', 'ZZPhi', 'Z1Flav', 'Z2Flav', 'costhetastar', 'helphi', 'helcosthetaZ1', 'helcosthetaZ2', 'phistarZ1', 'phistarZ2', 'xi', 'xistar', 'D_VBF1j_ggH_ME', 'JetEta_0', 'JetPhi_0', 'JetPt_0', 'JetEta_1', 'JetPhi_1', 'JetPt_1', 'JetEta_2', 'JetPhi_2', 'JetPt_2', 'JetEta_3', 'JetPhi_3', 'JetPt_3', 'LepEta_0', 'LepPhi_0', 'LepPt_0', 'LepEta_1', 'LepPhi_1', 'LepPt_1', 'LepEta_2', 'LepPhi_2', 'LepPt_2', 'LepEta_3', 'LepPhi_3', 'LepPt_3', 'ExtraLepEta_0', 'ExtraLepPhi_0', 'ExtraLepPt_0', 'ExtraLepEta_1', 'ExtraLepPhi_1', 'ExtraLepPt_1', 'ExtraLepEta_2', 'ExtraLepPhi_2', 'ExtraLepPt_2', 'ExtraLepEta_3', 'ExtraLepPhi_3', 'ExtraLepPt_3']\n",
      "for max_depth = 1: loss = 0.458141\n",
      "for max_depth = 2: loss = 0.450908\n",
      "for max_depth = 3: loss = 0.449055\n",
      "for max_depth = 4: loss = 0.448393\n",
      "for max_depth = 5: loss = 0.447869\n",
      "skimming /data_CMS/cms/wind/CJLST_NTuples/VBFH125/ZZ4lAnalysis.root\n",
      "collection set up: 1 files, 62320 entries in total, 31160 of which will be used\n",
      "skimming /data_CMS/cms/wind/CJLST_NTuples/ggH125/ZZ4lAnalysis.root\n",
      "collection set up: 1 files, 110483 entries in total, 55241 of which will be used\n",
      "final list of inputs: ['PFMET', 'nCleanedJetsPt30', 'nCleanedJetsPt30BTagged_bTagSF', 'nExtraLep', 'ZZMass', 'nExtraZ', 'Z1Mass', 'Z2Mass', 'Z1Pt', 'Z2Pt', 'ZZMassErr', 'ZZPt', 'ZZEta', 'ZZPhi', 'Z1Flav', 'Z2Flav', 'costhetastar', 'helphi', 'helcosthetaZ1', 'helcosthetaZ2', 'phistarZ1', 'phistarZ2', 'xi', 'xistar', 'JetEta_0', 'JetPhi_0', 'JetPt_0', 'JetEta_1', 'JetPhi_1', 'JetPt_1', 'JetEta_2', 'JetPhi_2', 'JetPt_2', 'JetEta_3', 'JetPhi_3', 'JetPt_3', 'LepEta_0', 'LepPhi_0', 'LepPt_0', 'LepEta_1', 'LepPhi_1', 'LepPt_1', 'LepEta_2', 'LepPhi_2', 'LepPt_2', 'LepEta_3', 'LepPhi_3', 'LepPt_3', 'ExtraLepEta_0', 'ExtraLepPhi_0', 'ExtraLepPt_0', 'ExtraLepEta_1', 'ExtraLepPhi_1', 'ExtraLepPt_1', 'ExtraLepEta_2', 'ExtraLepPhi_2', 'ExtraLepPt_2', 'ExtraLepEta_3', 'ExtraLepPhi_3', 'ExtraLepPt_3']\n",
      "skimming /data_CMS/cms/wind/CJLST_NTuples/VBFH125/ZZ4lAnalysis.root\n",
      "collection set up: 1 files, 62320 entries in total, 31160 of which will be used\n",
      "skimming /data_CMS/cms/wind/CJLST_NTuples/ggH125/ZZ4lAnalysis.root\n",
      "collection set up: 1 files, 110483 entries in total, 55242 of which will be used\n",
      "final list of inputs: ['PFMET', 'nCleanedJetsPt30', 'nCleanedJetsPt30BTagged_bTagSF', 'nExtraLep', 'ZZMass', 'nExtraZ', 'Z1Mass', 'Z2Mass', 'Z1Pt', 'Z2Pt', 'ZZMassErr', 'ZZPt', 'ZZEta', 'ZZPhi', 'Z1Flav', 'Z2Flav', 'costhetastar', 'helphi', 'helcosthetaZ1', 'helcosthetaZ2', 'phistarZ1', 'phistarZ2', 'xi', 'xistar', 'JetEta_0', 'JetPhi_0', 'JetPt_0', 'JetEta_1', 'JetPhi_1', 'JetPt_1', 'JetEta_2', 'JetPhi_2', 'JetPt_2', 'JetEta_3', 'JetPhi_3', 'JetPt_3', 'LepEta_0', 'LepPhi_0', 'LepPt_0', 'LepEta_1', 'LepPhi_1', 'LepPt_1', 'LepEta_2', 'LepPhi_2', 'LepPt_2', 'LepEta_3', 'LepPhi_3', 'LepPt_3', 'ExtraLepEta_0', 'ExtraLepPhi_0', 'ExtraLepPt_0', 'ExtraLepEta_1', 'ExtraLepPhi_1', 'ExtraLepPt_1', 'ExtraLepEta_2', 'ExtraLepPhi_2', 'ExtraLepPt_2', 'ExtraLepEta_3', 'ExtraLepPhi_3', 'ExtraLepPt_3']\n",
      "for max_depth = 1: loss = 0.27738\n",
      "for max_depth = 2: loss = 0.277328\n",
      "for max_depth = 3: loss = 0.277331\n",
      "for max_depth = 4: loss = 0.277448\n",
      "for max_depth = 5: loss = 0.277844\n"
     ]
    }
   ],
   "source": [
    "fig2 = plot_variables([(\"VBF2j\", \"ggH2j\"), (\"VBF1j\", \"ggH1j\"), (\"VBF0j\", \"ggH0j\")])"
   ]
  },
  {
   "cell_type": "code",
   "execution_count": 25,
   "metadata": {
    "collapsed": false
   },
   "outputs": [
    {
     "data": {
      "image/png": "[encoded data removed]",
      "text/plain": [
       "<matplotlib.figure.Figure at 0x7f23427e3450>"
      ]
     },
     "metadata": {},
     "output_type": "display_data"
    }
   ],
   "source": [
    "plt.show()"
   ]
  },
  {
   "cell_type": "code",
   "execution_count": 26,
   "metadata": {
    "collapsed": true
   },
   "outputs": [],
   "source": [
    "fig2.savefig(\"D_VBF_ggH.pdf\")"
   ]
  },
  {
   "cell_type": "code",
   "execution_count": 33,
   "metadata": {
    "collapsed": false
   },
   "outputs": [
    {
     "name": "stdout",
     "output_type": "stream",
     "text": [
      "skimming /data_CMS/cms/wind/CJLST_NTuples/VBFH125/ZZ4lAnalysis.root\n",
      "collection set up: 1 files, 62320 entries in total, 62320 of which will be used\n",
      "skimming /data_CMS/cms/wind/CJLST_NTuples/ggH125/ZZ4lAnalysis.root\n",
      "collection set up: 1 files, 110483 entries in total, 110483 of which will be used\n"
     ]
    },
    {
     "data": {
      "image/png": "[encoded data removed]",
      "text/plain": [
       "<matplotlib.figure.Figure at 0x7f23401f1cd0>"
      ]
     },
     "metadata": {},
     "output_type": "display_data"
    }
   ],
   "source": [
    "plot_branch((\"VBF0j\", \"ggH0j\"), \"D_VBF2j_ZHh_ME\")"
   ]
  },
  {
   "cell_type": "code",
   "execution_count": 208,
   "metadata": {
    "collapsed": false
   },
   "outputs": [
    {
     "name": "stdout",
     "output_type": "stream",
     "text": [
      "skimming /data_CMS/cms/wind/CJLST_NTuples/VBFH125/ZZ4lAnalysis.root\n",
      "collection set up: 1 files, 62320 entries in total, 62320 of which will be used\n",
      "skimming /data_CMS/cms/wind/CJLST_NTuples/ggH125/ZZ4lAnalysis.root\n",
      "collection set up: 1 files, 110483 entries in total, 110483 of which will be used\n"
     ]
    },
    {
     "data": {
      "text/plain": [
       "<matplotlib.figure.Figure at 0x7fd8691a2b10>"
      ]
     },
     "metadata": {},
     "output_type": "display_data"
    },
    {
     "data": {
      "image/png": "[encoded data removed]",
      "text/plain": [
       "<matplotlib.figure.Figure at 0x7fd87975ffd0>"
      ]
     },
     "metadata": {},
     "output_type": "display_data"
    }
   ],
   "source": [
    "plot_branch((\"VBF0j\", \"ggH0j\"), \"ZZPt\")"
   ]
  },
  {
   "cell_type": "code",
   "execution_count": 34,
   "metadata": {
    "collapsed": false
   },
   "outputs": [
    {
     "name": "stdout",
     "output_type": "stream",
     "text": [
      "skimming /data_CMS/cms/wind/CJLST_NTuples/VBFH125/ZZ4lAnalysis.root\n",
      "collection set up: 1 files, 62320 entries in total, 31160 of which will be used\n",
      "skimming /data_CMS/cms/wind/CJLST_NTuples/WminusH125/ZZ4lAnalysis.root\n",
      "skimming /data_CMS/cms/wind/CJLST_NTuples/WplusH125/ZZ4lAnalysis.root\n",
      "collection set up: 2 files, 56636 entries in total, 28317 of which will be used\n",
      "final list of inputs: ['PFMET', 'nCleanedJetsPt30', 'nCleanedJetsPt30BTagged_bTagSF', 'nExtraLep', 'ZZMass', 'nExtraZ', 'Z1Mass', 'Z2Mass', 'Z1Pt', 'Z2Pt', 'ZZMassErr', 'ZZPt', 'ZZEta', 'ZZPhi', 'Z1Flav', 'Z2Flav', 'costhetastar', 'helphi', 'helcosthetaZ1', 'helcosthetaZ2', 'phistarZ1', 'phistarZ2', 'xi', 'xistar', 'D_VBF2j_ggH_ME', 'D_VBF2j_WHh_ME', 'D_VBF2j_ZHh_ME', 'JetEta_0', 'JetPhi_0', 'JetPt_0', 'JetEta_1', 'JetPhi_1', 'JetPt_1', 'JetEta_2', 'JetPhi_2', 'JetPt_2', 'JetEta_3', 'JetPhi_3', 'JetPt_3', 'LepEta_0', 'LepPhi_0', 'LepPt_0', 'LepEta_1', 'LepPhi_1', 'LepPt_1', 'LepEta_2', 'LepPhi_2', 'LepPt_2', 'LepEta_3', 'LepPhi_3', 'LepPt_3', 'ExtraLepEta_0', 'ExtraLepPhi_0', 'ExtraLepPt_0', 'ExtraLepEta_1', 'ExtraLepPhi_1', 'ExtraLepPt_1', 'ExtraLepEta_2', 'ExtraLepPhi_2', 'ExtraLepPt_2', 'ExtraLepEta_3', 'ExtraLepPhi_3', 'ExtraLepPt_3']\n",
      "skimming /data_CMS/cms/wind/CJLST_NTuples/VBFH125/ZZ4lAnalysis.root\n",
      "collection set up: 1 files, 62320 entries in total, 31160 of which will be used\n",
      "skimming /data_CMS/cms/wind/CJLST_NTuples/WminusH125/ZZ4lAnalysis.root\n",
      "skimming /data_CMS/cms/wind/CJLST_NTuples/WplusH125/ZZ4lAnalysis.root\n",
      "collection set up: 2 files, 56636 entries in total, 28319 of which will be used\n",
      "final list of inputs: ['PFMET', 'nCleanedJetsPt30', 'nCleanedJetsPt30BTagged_bTagSF', 'nExtraLep', 'ZZMass', 'nExtraZ', 'Z1Mass', 'Z2Mass', 'Z1Pt', 'Z2Pt', 'ZZMassErr', 'ZZPt', 'ZZEta', 'ZZPhi', 'Z1Flav', 'Z2Flav', 'costhetastar', 'helphi', 'helcosthetaZ1', 'helcosthetaZ2', 'phistarZ1', 'phistarZ2', 'xi', 'xistar', 'D_VBF2j_ggH_ME', 'D_VBF2j_WHh_ME', 'D_VBF2j_ZHh_ME', 'JetEta_0', 'JetPhi_0', 'JetPt_0', 'JetEta_1', 'JetPhi_1', 'JetPt_1', 'JetEta_2', 'JetPhi_2', 'JetPt_2', 'JetEta_3', 'JetPhi_3', 'JetPt_3', 'LepEta_0', 'LepPhi_0', 'LepPt_0', 'LepEta_1', 'LepPhi_1', 'LepPt_1', 'LepEta_2', 'LepPhi_2', 'LepPt_2', 'LepEta_3', 'LepPhi_3', 'LepPt_3', 'ExtraLepEta_0', 'ExtraLepPhi_0', 'ExtraLepPt_0', 'ExtraLepEta_1', 'ExtraLepPhi_1', 'ExtraLepPt_1', 'ExtraLepEta_2', 'ExtraLepPhi_2', 'ExtraLepPt_2', 'ExtraLepEta_3', 'ExtraLepPhi_3', 'ExtraLepPt_3']\n",
      "for max_depth = 1: loss = 0.309774\n",
      "for max_depth = 2: loss = 0.293172\n",
      "for max_depth = 3: loss = 0.288535\n",
      "for max_depth = 4: loss = 0.286093\n",
      "for max_depth = 5: loss = 0.28581\n",
      "skimming /data_CMS/cms/wind/CJLST_NTuples/VBFH125/ZZ4lAnalysis.root\n",
      "collection set up: 1 files, 62320 entries in total, 31160 of which will be used\n",
      "skimming /data_CMS/cms/wind/CJLST_NTuples/WminusH125/ZZ4lAnalysis.root\n",
      "skimming /data_CMS/cms/wind/CJLST_NTuples/WplusH125/ZZ4lAnalysis.root\n",
      "collection set up: 2 files, 56636 entries in total, 28317 of which will be used\n",
      "final list of inputs: ['PFMET', 'nCleanedJetsPt30', 'nCleanedJetsPt30BTagged_bTagSF', 'nExtraLep', 'ZZMass', 'nExtraZ', 'Z1Mass', 'Z2Mass', 'Z1Pt', 'Z2Pt', 'ZZMassErr', 'ZZPt', 'ZZEta', 'ZZPhi', 'Z1Flav', 'Z2Flav', 'costhetastar', 'helphi', 'helcosthetaZ1', 'helcosthetaZ2', 'phistarZ1', 'phistarZ2', 'xi', 'xistar', 'D_VBF1j_ggH_ME', 'JetEta_0', 'JetPhi_0', 'JetPt_0', 'JetEta_1', 'JetPhi_1', 'JetPt_1', 'JetEta_2', 'JetPhi_2', 'JetPt_2', 'JetEta_3', 'JetPhi_3', 'JetPt_3', 'LepEta_0', 'LepPhi_0', 'LepPt_0', 'LepEta_1', 'LepPhi_1', 'LepPt_1', 'LepEta_2', 'LepPhi_2', 'LepPt_2', 'LepEta_3', 'LepPhi_3', 'LepPt_3', 'ExtraLepEta_0', 'ExtraLepPhi_0', 'ExtraLepPt_0', 'ExtraLepEta_1', 'ExtraLepPhi_1', 'ExtraLepPt_1', 'ExtraLepEta_2', 'ExtraLepPhi_2', 'ExtraLepPt_2', 'ExtraLepEta_3', 'ExtraLepPhi_3', 'ExtraLepPt_3']\n",
      "skimming /data_CMS/cms/wind/CJLST_NTuples/VBFH125/ZZ4lAnalysis.root\n",
      "collection set up: 1 files, 62320 entries in total, 31160 of which will be used\n",
      "skimming /data_CMS/cms/wind/CJLST_NTuples/WminusH125/ZZ4lAnalysis.root\n",
      "skimming /data_CMS/cms/wind/CJLST_NTuples/WplusH125/ZZ4lAnalysis.root\n",
      "collection set up: 2 files, 56636 entries in total, 28319 of which will be used\n",
      "final list of inputs: ['PFMET', 'nCleanedJetsPt30', 'nCleanedJetsPt30BTagged_bTagSF', 'nExtraLep', 'ZZMass', 'nExtraZ', 'Z1Mass', 'Z2Mass', 'Z1Pt', 'Z2Pt', 'ZZMassErr', 'ZZPt', 'ZZEta', 'ZZPhi', 'Z1Flav', 'Z2Flav', 'costhetastar', 'helphi', 'helcosthetaZ1', 'helcosthetaZ2', 'phistarZ1', 'phistarZ2', 'xi', 'xistar', 'D_VBF1j_ggH_ME', 'JetEta_0', 'JetPhi_0', 'JetPt_0', 'JetEta_1', 'JetPhi_1', 'JetPt_1', 'JetEta_2', 'JetPhi_2', 'JetPt_2', 'JetEta_3', 'JetPhi_3', 'JetPt_3', 'LepEta_0', 'LepPhi_0', 'LepPt_0', 'LepEta_1', 'LepPhi_1', 'LepPt_1', 'LepEta_2', 'LepPhi_2', 'LepPt_2', 'LepEta_3', 'LepPhi_3', 'LepPt_3', 'ExtraLepEta_0', 'ExtraLepPhi_0', 'ExtraLepPt_0', 'ExtraLepEta_1', 'ExtraLepPhi_1', 'ExtraLepPt_1', 'ExtraLepEta_2', 'ExtraLepPhi_2', 'ExtraLepPt_2', 'ExtraLepEta_3', 'ExtraLepPhi_3', 'ExtraLepPt_3']\n",
      "for max_depth = 1: loss = 0.418791\n",
      "for max_depth = 2: loss = 0.40171\n",
      "for max_depth = 3: loss = 0.385055\n",
      "for max_depth = 4: loss = 0.380171\n",
      "for max_depth = 5: loss = 0.376027\n",
      "skimming /data_CMS/cms/wind/CJLST_NTuples/VBFH125/ZZ4lAnalysis.root\n",
      "collection set up: 1 files, 62320 entries in total, 31160 of which will be used\n",
      "skimming /data_CMS/cms/wind/CJLST_NTuples/WminusH125/ZZ4lAnalysis.root\n",
      "skimming /data_CMS/cms/wind/CJLST_NTuples/WplusH125/ZZ4lAnalysis.root\n",
      "collection set up: 2 files, 56636 entries in total, 28317 of which will be used\n",
      "final list of inputs: ['PFMET', 'nCleanedJetsPt30', 'nCleanedJetsPt30BTagged_bTagSF', 'nExtraLep', 'ZZMass', 'nExtraZ', 'Z1Mass', 'Z2Mass', 'Z1Pt', 'Z2Pt', 'ZZMassErr', 'ZZPt', 'ZZEta', 'ZZPhi', 'Z1Flav', 'Z2Flav', 'costhetastar', 'helphi', 'helcosthetaZ1', 'helcosthetaZ2', 'phistarZ1', 'phistarZ2', 'xi', 'xistar', 'JetEta_0', 'JetPhi_0', 'JetPt_0', 'JetEta_1', 'JetPhi_1', 'JetPt_1', 'JetEta_2', 'JetPhi_2', 'JetPt_2', 'JetEta_3', 'JetPhi_3', 'JetPt_3', 'LepEta_0', 'LepPhi_0', 'LepPt_0', 'LepEta_1', 'LepPhi_1', 'LepPt_1', 'LepEta_2', 'LepPhi_2', 'LepPt_2', 'LepEta_3', 'LepPhi_3', 'LepPt_3', 'ExtraLepEta_0', 'ExtraLepPhi_0', 'ExtraLepPt_0', 'ExtraLepEta_1', 'ExtraLepPhi_1', 'ExtraLepPt_1', 'ExtraLepEta_2', 'ExtraLepPhi_2', 'ExtraLepPt_2', 'ExtraLepEta_3', 'ExtraLepPhi_3', 'ExtraLepPt_3']\n",
      "skimming /data_CMS/cms/wind/CJLST_NTuples/VBFH125/ZZ4lAnalysis.root\n",
      "collection set up: 1 files, 62320 entries in total, 31160 of which will be used\n",
      "skimming /data_CMS/cms/wind/CJLST_NTuples/WminusH125/ZZ4lAnalysis.root\n",
      "skimming /data_CMS/cms/wind/CJLST_NTuples/WplusH125/ZZ4lAnalysis.root\n",
      "collection set up: 2 files, 56636 entries in total, 28319 of which will be used\n",
      "final list of inputs: ['PFMET', 'nCleanedJetsPt30', 'nCleanedJetsPt30BTagged_bTagSF', 'nExtraLep', 'ZZMass', 'nExtraZ', 'Z1Mass', 'Z2Mass', 'Z1Pt', 'Z2Pt', 'ZZMassErr', 'ZZPt', 'ZZEta', 'ZZPhi', 'Z1Flav', 'Z2Flav', 'costhetastar', 'helphi', 'helcosthetaZ1', 'helcosthetaZ2', 'phistarZ1', 'phistarZ2', 'xi', 'xistar', 'JetEta_0', 'JetPhi_0', 'JetPt_0', 'JetEta_1', 'JetPhi_1', 'JetPt_1', 'JetEta_2', 'JetPhi_2', 'JetPt_2', 'JetEta_3', 'JetPhi_3', 'JetPt_3', 'LepEta_0', 'LepPhi_0', 'LepPt_0', 'LepEta_1', 'LepPhi_1', 'LepPt_1', 'LepEta_2', 'LepPhi_2', 'LepPt_2', 'LepEta_3', 'LepPhi_3', 'LepPt_3', 'ExtraLepEta_0', 'ExtraLepPhi_0', 'ExtraLepPt_0', 'ExtraLepEta_1', 'ExtraLepPhi_1', 'ExtraLepPt_1', 'ExtraLepEta_2', 'ExtraLepPhi_2', 'ExtraLepPt_2', 'ExtraLepEta_3', 'ExtraLepPhi_3', 'ExtraLepPt_3']\n",
      "for max_depth = 1: loss = 0.45614\n",
      "for max_depth = 2: loss = 0.456369\n",
      "for max_depth = 3: loss = 0.45638\n",
      "for max_depth = 4: loss = 0.45761\n",
      "for max_depth = 5: loss = 0.457995\n"
     ]
    }
   ],
   "source": [
    "fig3 = plot_variables([(\"VBF2j\", \"WHh2j\"), (\"VBF1j\", \"WHh1j\"), (\"VBF0j\", \"WHh0j\")])"
   ]
  },
  {
   "cell_type": "code",
   "execution_count": 35,
   "metadata": {
    "collapsed": false
   },
   "outputs": [
    {
     "data": {
      "image/png": "[encoded data removed]",
      "text/plain": [
       "<matplotlib.figure.Figure at 0x7f233b08a610>"
      ]
     },
     "metadata": {},
     "output_type": "display_data"
    }
   ],
   "source": [
    "plt.show()"
   ]
  },
  {
   "cell_type": "code",
   "execution_count": 36,
   "metadata": {
    "collapsed": true
   },
   "outputs": [],
   "source": [
    "fig3.savefig(\"D_VBF_WHh.pdf\")"
   ]
  },
  {
   "cell_type": "code",
   "execution_count": null,
   "metadata": {
    "collapsed": false
   },
   "outputs": [
    {
     "name": "stdout",
     "output_type": "stream",
     "text": [
      "skimming /data_CMS/cms/wind/CJLST_NTuples/WminusH125/ZZ4lAnalysis.root\n",
      "skimming /data_CMS/cms/wind/CJLST_NTuples/WplusH125/ZZ4lAnalysis.root\n",
      "collection set up: 2 files, 56636 entries in total, 28317 of which will be used\n",
      "skimming /data_CMS/cms/wind/CJLST_NTuples/ggH125/ZZ4lAnalysis.root\n",
      "collection set up: 1 files, 110483 entries in total, 55241 of which will be used\n",
      "final list of inputs: ['PFMET', 'nCleanedJetsPt30', 'nCleanedJetsPt30BTagged_bTagSF', 'nExtraLep', 'ZZMass', 'nExtraZ', 'Z1Mass', 'Z2Mass', 'Z1Pt', 'Z2Pt', 'ZZMassErr', 'ZZPt', 'ZZEta', 'ZZPhi', 'Z1Flav', 'Z2Flav', 'costhetastar', 'helphi', 'helcosthetaZ1', 'helcosthetaZ2', 'phistarZ1', 'phistarZ2', 'xi', 'xistar', 'D_VBF2j_ggH_ME', 'D_VBF2j_WHh_ME', 'D_VBF2j_ZHh_ME', 'JetEta_0', 'JetPhi_0', 'JetPt_0', 'JetEta_1', 'JetPhi_1', 'JetPt_1', 'JetEta_2', 'JetPhi_2', 'JetPt_2', 'JetEta_3', 'JetPhi_3', 'JetPt_3', 'LepEta_0', 'LepPhi_0', 'LepPt_0', 'LepEta_1', 'LepPhi_1', 'LepPt_1', 'LepEta_2', 'LepPhi_2', 'LepPt_2', 'LepEta_3', 'LepPhi_3', 'LepPt_3', 'ExtraLepEta_0', 'ExtraLepPhi_0', 'ExtraLepPt_0', 'ExtraLepEta_1', 'ExtraLepPhi_1', 'ExtraLepPt_1', 'ExtraLepEta_2', 'ExtraLepPhi_2', 'ExtraLepPt_2', 'ExtraLepEta_3', 'ExtraLepPhi_3', 'ExtraLepPt_3']\n",
      "skimming /data_CMS/cms/wind/CJLST_NTuples/WminusH125/ZZ4lAnalysis.root\n",
      "skimming /data_CMS/cms/wind/CJLST_NTuples/WplusH125/ZZ4lAnalysis.root\n",
      "collection set up: 2 files, 56636 entries in total, 28319 of which will be used\n",
      "skimming /data_CMS/cms/wind/CJLST_NTuples/ggH125/ZZ4lAnalysis.root\n",
      "collection set up: 1 files, 110483 entries in total, 55242 of which will be used\n",
      "final list of inputs: ['PFMET', 'nCleanedJetsPt30', 'nCleanedJetsPt30BTagged_bTagSF', 'nExtraLep', 'ZZMass', 'nExtraZ', 'Z1Mass', 'Z2Mass', 'Z1Pt', 'Z2Pt', 'ZZMassErr', 'ZZPt', 'ZZEta', 'ZZPhi', 'Z1Flav', 'Z2Flav', 'costhetastar', 'helphi', 'helcosthetaZ1', 'helcosthetaZ2', 'phistarZ1', 'phistarZ2', 'xi', 'xistar', 'D_VBF2j_ggH_ME', 'D_VBF2j_WHh_ME', 'D_VBF2j_ZHh_ME', 'JetEta_0', 'JetPhi_0', 'JetPt_0', 'JetEta_1', 'JetPhi_1', 'JetPt_1', 'JetEta_2', 'JetPhi_2', 'JetPt_2', 'JetEta_3', 'JetPhi_3', 'JetPt_3', 'LepEta_0', 'LepPhi_0', 'LepPt_0', 'LepEta_1', 'LepPhi_1', 'LepPt_1', 'LepEta_2', 'LepPhi_2', 'LepPt_2', 'LepEta_3', 'LepPhi_3', 'LepPt_3', 'ExtraLepEta_0', 'ExtraLepPhi_0', 'ExtraLepPt_0', 'ExtraLepEta_1', 'ExtraLepPhi_1', 'ExtraLepPt_1', 'ExtraLepEta_2', 'ExtraLepPhi_2', 'ExtraLepPt_2', 'ExtraLepEta_3', 'ExtraLepPhi_3', 'ExtraLepPt_3']\n",
      "for max_depth = 1: loss = 0.425641\n",
      "for max_depth = 2: loss = 0.411945\n",
      "for max_depth = 3: loss = 0.406405\n",
      "for max_depth = 4: loss = 0.404315\n",
      "for max_depth = 5: loss = 0.403702\n",
      "skimming /data_CMS/cms/wind/CJLST_NTuples/WminusH125/ZZ4lAnalysis.root\n",
      "skimming /data_CMS/cms/wind/CJLST_NTuples/WplusH125/ZZ4lAnalysis.root\n",
      "collection set up: 2 files, 56636 entries in total, 28317 of which will be used\n",
      "skimming /data_CMS/cms/wind/CJLST_NTuples/ggH125/ZZ4lAnalysis.root\n",
      "collection set up: 1 files, 110483 entries in total, 55241 of which will be used\n"
     ]
    }
   ],
   "source": [
    "fig4 = plot_variables([(\"WHh2j\", \"ggH2j\"), (\"WHh1j\", \"ggH1j\"), (\"WHh0j\", \"ggH0j\")])"
   ]
  },
  {
   "cell_type": "code",
   "execution_count": null,
   "metadata": {
    "collapsed": true
   },
   "outputs": [],
   "source": [
    "plt.show()"
   ]
  },
  {
   "cell_type": "code",
   "execution_count": null,
   "metadata": {
    "collapsed": true
   },
   "outputs": [],
   "source": [
    "fig4.savefig(\"D_WHh_ggH.pdf\")"
   ]
  },
  {
   "cell_type": "code",
   "execution_count": null,
   "metadata": {
    "collapsed": true
   },
   "outputs": [],
   "source": [
    "fig5 = plot_variables([(\"ZHh2j\", \"ggH2j\"), (\"ZHh1j\", \"ggH1j\"), (\"ZHh0j\", \"ggH0j\")])"
   ]
  },
  {
   "cell_type": "code",
   "execution_count": null,
   "metadata": {
    "collapsed": true
   },
   "outputs": [],
   "source": [
    "plt.show()"
   ]
  },
  {
   "cell_type": "code",
   "execution_count": null,
   "metadata": {
    "collapsed": true
   },
   "outputs": [],
   "source": [
    "fig5.savefig(\"D_VBF_ZHh.pdf\")"
   ]
  }
 ],
 "metadata": {
  "kernelspec": {
   "display_name": "Python 2",
   "language": "python",
   "name": "python2"
  },
  "language_info": {
   "codemirror_mode": {
    "name": "ipython",
    "version": 2
   },
   "file_extension": ".py",
   "mimetype": "text/x-python",
   "name": "python",
   "nbconvert_exporter": "python",
   "pygments_lexer": "ipython2",
   "version": "2.7.11"
  }
 },
 "nbformat": 4,
 "nbformat_minor": 2
}
