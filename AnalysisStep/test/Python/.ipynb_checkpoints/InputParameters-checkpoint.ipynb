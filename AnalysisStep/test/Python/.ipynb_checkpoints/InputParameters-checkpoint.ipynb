{
 "cells": [
  {
   "cell_type": "code",
   "execution_count": 1,
   "metadata": {
    "collapsed": true
   },
   "outputs": [],
   "source": [
    "import warnings\n",
    "warnings.filterwarnings('ignore')"
   ]
  },
  {
   "cell_type": "code",
   "execution_count": 2,
   "metadata": {
    "collapsed": false
   },
   "outputs": [
    {
     "name": "stdout",
     "output_type": "stream",
     "text": [
      "Welcome to JupyROOT 6.10/09\n"
     ]
    }
   ],
   "source": [
    "from trainlib.FileCollection import FileCollection\n",
    "from trainlib.config import Config\n",
    "from trainlib.ConfigFileHandler import ConfigFileHandler\n",
    "from trainlib.ConfigFileUtils import ConfigFileUtils\n",
    "import trainlib.cuts as cuts\n",
    "import numpy as np\n",
    "import matplotlib.pyplot as plt\n",
    "import matplotlib.ticker as ticker\n",
    "import pandas as pd\n",
    "import copy\n",
    "import re\n",
    "from scipy import interpolate\n",
    "import scipy.integrate as integrate\n",
    "import pickle\n",
    "import os"
   ]
  },
  {
   "cell_type": "code",
   "execution_count": 3,
   "metadata": {
    "collapsed": false
   },
   "outputs": [
    {
     "name": "stderr",
     "output_type": "stream",
     "text": [
      "/cvmfs/cms.cern.ch/slc6_amd64_gcc630/external/py2-pippkgs_depscipy/3.0-fmblme3/lib/python2.7/site-packages/sklearn/cross_validation.py:44: DeprecationWarning: This module was deprecated in version 0.18 in favor of the model_selection module into which all the refactored classes and functions are moved. Also note that the interface of the new CV iterators are different from that of this module. This module will be removed in 0.20.\n",
      "  \"This module will be removed in 0.20.\", DeprecationWarning)\n"
     ]
    }
   ],
   "source": [
    "import xgboost as xgb\n",
    "from sklearn.metrics import mean_squared_error"
   ]
  },
  {
   "cell_type": "code",
   "execution_count": 4,
   "metadata": {
    "collapsed": true
   },
   "outputs": [],
   "source": [
    "#candidate_branches = [\"PFMET\", \"nCleanedJetsPt30\", \"nCleanedJetsPt30BTagged_bTagSF\", \"nExtraLep\", \"ZZMass\", \"nExtraZ\", \"Z1Mass\", \"Z2Mass\", \"Z1Pt\", \"Z2Pt\", \"ZZMassErr\", \"ZZPt\", \"ZZEta\", \"ZZPhi\", \"Z1Flav\", \"Z2Flav\", \"costhetastar\", \"helphi\", \"helcosthetaZ1\", \"helcosthetaZ2\", \"phistarZ1\", \"phistarZ2\", \"xi\", \"xistar\"]\n",
    "candidate_branches = [\"PFMET\", \"nCleanedJetsPt30\", \"nCleanedJetsPt30BTagged_bTagSF\", \"nExtraLep\", \"ZZMass\", \"nExtraZ\", \"Z1Mass\", \"Z2Mass\", \"Z1Pt\", \"Z2Pt\", \"ZZMassErr\", \"ZZPt\", \"ZZEta\", \"ZZPhi\", \"Z1Flav\", \"Z2Flav\"]\n",
    "MELA_branches = [\"D_VBF2j_ggH_ME\", \"D_VBF1j_ggH_ME\", \"D_WHh_ggH_ME\", \"D_ZHh_ggH_ME\", \"D_WHh_ZHh_ME\", \"D_VBF2j_WHh_ME\", \"D_VBF2j_ZHh_ME\"]\n",
    "#list_branches = [\"Jet\", \"Lep\", \"ExtraLep\"]\n",
    "list_branches = [\"Jet\", \"ExtraLep\"]\n",
    "pt_limits = [30.0, 0.0, 0.0]"
   ]
  },
  {
   "cell_type": "code",
   "execution_count": 5,
   "metadata": {
    "collapsed": true
   },
   "outputs": [],
   "source": [
    "allbranches = [\"JetPt\", \"JetEta\", \"JetPhi\", \"LepPt\", \"LepEta\", \"LepPhi\", \"ExtraLepPt\", \"ExtraLepEta\", \"ExtraLepPhi\"] + candidate_branches + MELA_branches + [\"LHEAssociatedParticleId\", \"GenAssocLep1Id\", \"GenAssocLep2Id\", \"training_weight\"]"
   ]
  },
  {
   "cell_type": "code",
   "execution_count": 6,
   "metadata": {
    "collapsed": true
   },
   "outputs": [],
   "source": [
    "#MC_path = \"/data_CMS/cms/wind/CJLST_NTuples_randomizeda/\"\n",
    "MC_path = \"/data_CMS/cms/wind/CJLST_NTuples/\""
   ]
  },
  {
   "cell_type": "code",
   "execution_count": 7,
   "metadata": {
    "collapsed": true
   },
   "outputs": [],
   "source": [
    "def WHhadr0j_cut(row):\n",
    "    return cuts.WHhadr_cut(row) and row[\"nCleanedJetsPt30\"] == 0\n",
    "\n",
    "def WHhadr01j_cut(row):\n",
    "    return cuts.WHhadr_cut(row) and (row[\"nCleanedJetsPt30\"] == 0 or row[\"nCleanedJetsPt30\"] == 1)\n",
    "\n",
    "def WHhadr1j_cut(row):\n",
    "    return cuts.WHhadr_cut(row) and row[\"nCleanedJetsPt30\"] == 1\n",
    "\n",
    "def WHhadr2j_cut(row):\n",
    "    return cuts.WHhadr_cut(row) and row[\"nCleanedJetsPt30\"] >= 2\n",
    "\n",
    "def ZHhadr0j_cut(row):\n",
    "    return cuts.ZHhadr_cut(row) and row[\"nCleanedJetsPt30\"] == 0\n",
    "\n",
    "def ZHhadr01j_cut(row):\n",
    "    return cuts.ZHhadr_cut(row) and (row[\"nCleanedJetsPt30\"] == 0 or row[\"nCleanedJetsPt30\"] == 1)\n",
    "\n",
    "def ZHhadr1j_cut(row):\n",
    "    return cuts.ZHhadr_cut(row) and row[\"nCleanedJetsPt30\"] == 1\n",
    "\n",
    "def ZHhadr2j_cut(row):\n",
    "    return cuts.ZHhadr_cut(row) and row[\"nCleanedJetsPt30\"] >= 2\n",
    "\n",
    "def mZZ0j_cut(row):\n",
    "    return cuts.mZZ_cut(row) and row[\"nCleanedJetsPt30\"] == 0\n",
    "\n",
    "def mZZ01j_cut(row):\n",
    "    return cuts.mZZ_cut(row) and (row[\"nCleanedJetsPt30\"] == 0 or row[\"nCleanedJetsPt30\"] == 1)\n",
    "\n",
    "def mZZ1j_cut(row):\n",
    "    return cuts.mZZ_cut(row) and row[\"nCleanedJetsPt30\"] == 1\n",
    "\n",
    "def mZZ2j_cut(row):\n",
    "    return cuts.mZZ_cut(row) and row[\"nCleanedJetsPt30\"] >= 2"
   ]
  },
  {
   "cell_type": "code",
   "execution_count": 8,
   "metadata": {
    "collapsed": false
   },
   "outputs": [],
   "source": [
    "collections = {\"VBF2j\": {MC_path + \"VBFH125/ZZ4lAnalysis.root\": mZZ2j_cut},\n",
    "            \"VBF1j\": {MC_path + \"VBFH125/ZZ4lAnalysis.root\": mZZ1j_cut},\n",
    "            \"VBF0j\": {MC_path + \"VBFH125/ZZ4lAnalysis.root\": mZZ0j_cut},\n",
    "            \"VBF01j\": {MC_path + \"VBFH125/ZZ4lAnalysis.root\": mZZ01j_cut},\n",
    "            \"VBF\": {MC_path + \"VBFH125/ZZ4lAnalysis.root\": cuts.mZZ_cut},\n",
    "            \"ggH2j\": {MC_path + \"ggH125/ZZ4lAnalysis.root\": mZZ2j_cut},\n",
    "            \"ggH1j\": {MC_path + \"ggH125/ZZ4lAnalysis.root\": mZZ1j_cut},\n",
    "            \"ggH0j\": {MC_path + \"ggH125/ZZ4lAnalysis.root\": mZZ0j_cut},\n",
    "            \"ggH01j\": {MC_path + \"ggH125/ZZ4lAnalysis.root\": mZZ01j_cut},\n",
    "            \"ggH\" : {MC_path + \"ggH125/ZZ4lAnalysis.root\": cuts.mZZ_cut},\n",
    "            \"WHh2j\": {MC_path + \"WplusH125/ZZ4lAnalysis.root\": WHhadr2j_cut, MC_path + \"WminusH125/ZZ4lAnalysis.root\": WHhadr2j_cut},\n",
    "            \"WHh1j\": {MC_path + \"WplusH125/ZZ4lAnalysis.root\": WHhadr1j_cut, MC_path + \"WminusH125/ZZ4lAnalysis.root\": WHhadr1j_cut},\n",
    "            \"WHh0j\": {MC_path + \"WplusH125/ZZ4lAnalysis.root\": WHhadr0j_cut, MC_path + \"WminusH125/ZZ4lAnalysis.root\": WHhadr0j_cut},\n",
    "            \"WHh\": {MC_path + \"WplusH125/ZZ4lAnalysis.root\": cuts.WHhadr_cut, MC_path + \"WminusH125/ZZ4lAnalysis.root\": cuts.WHhadr_cut},\n",
    "            \"WHh01j\": {MC_path + \"WplusH125/ZZ4lAnalysis.root\": WHhadr01j_cut, MC_path + \"WminusH125/ZZ4lAnalysis.root\": WHhadr01j_cut},\n",
    "            \"WHl\": {MC_path + \"WplusH125/ZZ4lAnalysis.root\": cuts.WHlept_cut, MC_path + \"WminusH125/ZZ4lAnalysis.root\": cuts.WHlept_cut},\n",
    "            \"ZHh2j\": {MC_path + \"ZH125/ZZ4lAnalysis.root\": ZHhadr2j_cut},\n",
    "            \"ZHh1j\": {MC_path + \"ZH125/ZZ4lAnalysis.root\": ZHhadr1j_cut},\n",
    "            \"ZHh01j\": {MC_path + \"ZH125/ZZ4lAnalysis.root\": ZHhadr01j_cut},\n",
    "            \"ZHh0j\": {MC_path + \"ZH125/ZZ4lAnalysis.root\": ZHhadr0j_cut},\n",
    "            \"ZHh\": {MC_path + \"ZH125/ZZ4lAnalysis.root\": cuts.ZHhadr_cut},\n",
    "            \"ZHl\": {MC_path + \"ZH125/ZZ4lAnalysis.root\": cuts.ZHlept_cut},\n",
    "            \"ttHh\": {MC_path + \"ttH125/ZZ4lAnalysis.root\": cuts.ttHhadr_cut},\n",
    "            \"ttHl\": {MC_path + \"ttH125/ZZ4lAnalysis.root\": cuts.ttHlept_cut},\n",
    "            \"ZHMET\": {MC_path + \"ZH125/ZZ4lAnalysis.root\": cuts.ZHMET_cut}\n",
    "          }"
   ]
  },
  {
   "cell_type": "code",
   "execution_count": 9,
   "metadata": {
    "collapsed": true
   },
   "outputs": [],
   "source": [
    "# all the model combinations for which neural networks are currently trained\n",
    "discriminant_pairs = [(\"VBF2j\", \"ggH2j\"), (\"VBF1j\", \"ggH1j\"), (\"VBF0j\", \"ggH0j\"), (\"WHh2j\", \"ggH2j\"), \n",
    "                     (\"WHh1j\", \"ggH1j\"), (\"WHh0j\", \"ggH0j\"), (\"ZHh2j\", \"ggH2j\"), (\"ZHh1j\", \"ggH1j\"), \n",
    "                      (\"ZHh0j\", \"ggH0j\"), (\"WHh2j\", \"ZHh2j\"), (\"WHh01j\", \"ZHh01j\"), (\"VBF2j\", \"WHh2j\"),\n",
    "                     (\"VBF1j\", \"WHh1j\"), (\"VBF0j\", \"WHh0j\"), (\"VBF2j\", \"ZHh2j\"), (\"VBF1j\", \"ZHh1j\"), \n",
    "                      (\"VBF0j\", \"ZHh0h\"), (\"WHl\", \"ggH\"), (\"WHl\", \"VBF\"), (\"WHl\", \"WHh\"), (\"WHl\", \"ZHh\"),\n",
    "                     (\"WHl\", \"ZHl\"), (\"WHl\", \"ZHMET\"), (\"WHl\", \"ttHh\"), (\"WHl\", \"ttHl\"), (\"ZHh\", \"ZHl\"),\n",
    "                     (\"ZHh\", \"ZHMET\"), (\"ZHh\", \"ttHh\"), (\"ZHh\", \"ttHl\"), (\"ZHl\", \"ggH\"), (\"ZHl\", \"VBF\"),\n",
    "                     (\"ZHl\", \"WHh\"), (\"ZHl\", \"ZHMET\"), (\"ZHl\", \"ttHh\"), (\"ZHl\", \"ttHl\"), (\"ZHMET\", \"ggH\"),\n",
    "                     (\"ZHMET\", \"VBF\"), (\"ZHMET\", \"WHh\"), (\"ZHMET\", \"ttHh\"), (\"ZHMET\", \"ttHl\"), (\"ttHh\", \"ggH\"),\n",
    "                      (\"ttHh\", \"VBF\"), (\"ttHh\", \"WHh\"), (\"ttHh\", \"ttHl\"), (\"ttHl\", \"ggH\"), (\"ttHl\", \"VBF\"),\n",
    "                     (\"ttHl\", \"WHh\")]"
   ]
  },
  {
   "cell_type": "code",
   "execution_count": 10,
   "metadata": {
    "collapsed": true
   },
   "outputs": [],
   "source": [
    "def extract_order(df, col_basename, sorted_column, columns, order):\n",
    "    def get_index(row, order, col_basename, sorted_column):\n",
    "        sorted_column = row[col_basename + sorted_column]\n",
    "        if order >= len(sorted_column):\n",
    "            return -1\n",
    "        else:\n",
    "            return np.flipud(np.argsort(sorted_column))[order]\n",
    "    \n",
    "    index_column = pd.DataFrame(df.transform(lambda row: get_index(row, order, col_basename, sorted_column), axis = 1, raw = True))\n",
    "    index_column.columns = [\"index\"]\n",
    "    df_temp = pd.concat([index_column, df], axis = 1)\n",
    "    \n",
    "    def get_element(row, column_name):\n",
    "        if row[\"index\"] == -1:\n",
    "            return 0\n",
    "        else:\n",
    "            return row[column_name][row[\"index\"]]\n",
    "        \n",
    "    extracted_cols = pd.DataFrame()\n",
    "    for column in columns:\n",
    "        extracted_col = pd.DataFrame(df_temp.transform(lambda row: get_element(row, col_basename + column), axis = 1, raw = True))\n",
    "        extracted_col.columns = [col_basename + column + \"(\" + col_basename + \"Pt|\" + str(order) + \")\"]\n",
    "        extracted_cols = pd.concat([extracted_cols, extracted_col], axis = 1)\n",
    "        \n",
    "    return extracted_cols"
   ]
  },
  {
   "cell_type": "code",
   "execution_count": 11,
   "metadata": {
    "collapsed": true
   },
   "outputs": [],
   "source": [
    "def prepare_data(df, col_basenames, sorted_column, columns, orders, pt_limits):\n",
    "    all_extracted = pd.DataFrame()\n",
    "    for col_basename, pt_limit in zip(col_basenames, pt_limits):\n",
    "        for order in orders:\n",
    "            extracted = extract_order(df, col_basename, sorted_column, columns, order)\n",
    "            mask = extracted[col_basename + \"Pt(\" + col_basename + \"Pt|\" + str(order) + \")\"] < pt_limit\n",
    "            extracted[mask] = 0.0\n",
    "\n",
    "            all_extracted = pd.concat([all_extracted, extracted], axis = 1)\n",
    "            \n",
    "    return all_extracted"
   ]
  },
  {
   "cell_type": "code",
   "execution_count": 12,
   "metadata": {
    "collapsed": false
   },
   "outputs": [],
   "source": [
    "def get_data(H1_coll, H0_coll, read_branches, input_branches, list_branches, pt_limits):\n",
    "    H1_df = H1_coll.get_data(read_branches, 0.0, 1.0)\n",
    "    H0_df = H0_coll.get_data(read_branches, 0.0, 1.0)\n",
    "    \n",
    "    H1_list_df = prepare_data(H1_df, list_branches, \"Pt\", [\"Pt\", \"Eta\", \"Phi\"], range(4), pt_limits)\n",
    "    H0_list_df = prepare_data(H0_df, list_branches, \"Pt\", [\"Pt\", \"Eta\", \"Phi\"], range(4), pt_limits)\n",
    "    \n",
    "    list_branches_unrolled = H1_list_df.columns\n",
    "            \n",
    "    H1_df = pd.concat([H1_df, H1_list_df], axis = 1)\n",
    "    H0_df = pd.concat([H0_df, H0_list_df], axis = 1)        \n",
    "    \n",
    "    complete_input_branches = np.concatenate([input_branches, list_branches_unrolled])\n",
    "            \n",
    "    H1_df = H1_df[complete_input_branches]\n",
    "    H0_df = H0_df[complete_input_branches]\n",
    "    \n",
    "    return H1_df, H0_df"
   ]
  },
  {
   "cell_type": "code",
   "execution_count": 13,
   "metadata": {
    "collapsed": true
   },
   "outputs": [],
   "source": [
    "def get_data_dmatrix(H1_coll, H0_coll, read_branches, input_branches, list_branches, pt_limits):\n",
    "    H1_df, H0_df = get_data(H1_coll, H0_coll, read_branches, input_branches, list_branches, pt_limits)\n",
    "    \n",
    "    complete_input_branches = H1_df.columns\n",
    "    print \"number of input variables: \" + str(len(complete_input_branches))\n",
    "    print \"final list of inputs: \" + str(complete_input_branches)\n",
    "    \n",
    "    # try with the same weights as used later in the neural network training, to balance out some (very)\n",
    "    # unbalanced datasets\n",
    "    H1_class_weight = 1.0 + float(len(H0_df)) / float(len(H1_df))\n",
    "    H0_class_weight = 1.0 + float(len(H1_df)) / float(len(H0_df))\n",
    "    \n",
    "    print \"using class weights: \" + str(H1_class_weight) + \" (H1), \" + str(H0_class_weight) + \" (H0)\"\n",
    "    \n",
    "    H1_weights = np.full(len(H1_df), H1_class_weight)\n",
    "    H0_weights = np.full(len(H0_df), H0_class_weight)\n",
    "    \n",
    "    H1_data = H1_df.as_matrix()\n",
    "    H0_data = H0_df.as_matrix()\n",
    "    H1_target = np.ones(np.shape(H1_data)[0])\n",
    "    H0_target = np.zeros(np.shape(H0_data)[0])\n",
    "    \n",
    "    target = np.concatenate([H1_target, H0_target])\n",
    "    data = np.concatenate([H1_data, H0_data])\n",
    "    weights = np.concatenate([H1_weights, H0_weights])\n",
    "    \n",
    "    dmatrix = xgb.DMatrix(data, label = target, feature_names = complete_input_branches, weight = weights)\n",
    "    \n",
    "    return dmatrix"
   ]
  },
  {
   "cell_type": "code",
   "execution_count": 14,
   "metadata": {
    "collapsed": true
   },
   "outputs": [],
   "source": [
    "def get_feature_correlation(source, corr_branches, mandatory_branches, optional_branches, list_branches, pt_limits):    \n",
    "    coll = FileCollection(collections[source], 0.0, 0.5)\n",
    "    \n",
    "    input_branches = [branch for branch in mandatory_branches]\n",
    "    \n",
    "    for optional_branch in optional_branches:\n",
    "        if \"0j\" in source and (\"0j\" in optional_branch):\n",
    "            input_branches.append(optional_branch)\n",
    "            \n",
    "        if \"1j\" in source and (\"1j\" in optional_branch):\n",
    "            input_branches.append(optional_branch)\n",
    "            \n",
    "        if \"2j\" in source and (\"2j\" in optional_branch):\n",
    "            input_branches.append(optional_branch)\n",
    "\n",
    "    df, _ = get_data(coll, coll, allbranches, input_branches, list_branches, pt_limits)\n",
    "\n",
    "    df = df[corr_branches]\n",
    "    \n",
    "    fig = plt.figure(figsize=(10,15))\n",
    "    ax = fig.add_subplot(111)\n",
    "    \n",
    "    cax = ax.matshow(df.corr(), vmin = -1.0, vmax = 1.0, cmap = \"RdBu\")\n",
    "    \n",
    "    fig.colorbar(cax)\n",
    "    \n",
    "    ax.xaxis.set_major_locator(ticker.MultipleLocator(1))\n",
    "    ax.yaxis.set_major_locator(ticker.MultipleLocator(1))\n",
    "    \n",
    "    ax.set_yticklabels([''] + corr_branches)\n",
    "    ax.set_xticklabels([''] + corr_branches, rotation = 'vertical')\n",
    "    \n",
    "    return fig"
   ]
  },
  {
   "cell_type": "code",
   "execution_count": 15,
   "metadata": {
    "collapsed": true
   },
   "outputs": [],
   "source": [
    "def get_interpolating_function(data, bins):\n",
    "    bin_centers = [np.mean([bins[i], bins[i + 1]]) for i in range(len(bins) - 1)]\n",
    "    intf = interpolate.interp1d(bin_centers, data, kind = \"linear\")\n",
    "    interpolated_function = lambda x: intf(x) if x > bin_centers[0] and x < bin_centers[-1] else 0\n",
    "    \n",
    "    return interpolated_function"
   ]
  },
  {
   "cell_type": "code",
   "execution_count": 16,
   "metadata": {
    "collapsed": true
   },
   "outputs": [],
   "source": [
    "def get_binned_data(df, branch):\n",
    "    data = df[branch].as_matrix()\n",
    "    weights = df[\"training_weight\"].as_matrix()\n",
    "    \n",
    "    # set the bin width\n",
    "    q75, q25 = np.percentile(data, [75, 25])\n",
    "    bin_width = max(2 * (q75 - q25) / len(data)**0.33, 0.005)\n",
    "\n",
    "    data_max = np.max(data)\n",
    "    data_min = np.min(data)\n",
    "    bins = np.arange(data_min, data_max + bin_width, bin_width)\n",
    "    \n",
    "    weights = weights / (np.sum(weights) * bin_width)\n",
    "    \n",
    "    hist = np.histogram(data, bins = bins, weights = weights)\n",
    "    return hist"
   ]
  },
  {
   "cell_type": "code",
   "execution_count": 17,
   "metadata": {
    "collapsed": true
   },
   "outputs": [],
   "source": [
    "def get_feature_importance_list_separation(disc_pair, mandatory_branches, optional_branches, list_branches, pt_limits):\n",
    "    H1_name = disc_pair[0]\n",
    "    H0_name = disc_pair[1]\n",
    "    \n",
    "    input_branches = [branch for branch in mandatory_branches]\n",
    "    \n",
    "    for optional_branch in optional_branches:\n",
    "        if (\"0j\" in H1_name or \"0j\" in H0_name) and (\"0j\" in optional_branch):\n",
    "            input_branches.append(optional_branch)  \n",
    "        elif (\"1j\" in H1_name or \"1j\" in H0_name) and (\"1j\" in optional_branch):\n",
    "            input_branches.append(optional_branch)\n",
    "        elif (\"2j\" in H1_name or \"2j\" in H0_name) and not (\"1j\" in optional_branch):\n",
    "            input_branches.append(optional_branch)\n",
    "            \n",
    "    # needed to build the histograms\n",
    "    input_branches.append(\"training_weight\")\n",
    "    \n",
    "    H1_coll = FileCollection(collections[H1_name], 0.0, 0.5)\n",
    "    H0_coll = FileCollection(collections[H0_name], 0.0, 0.5)\n",
    "    \n",
    "    H1_df, H0_df = get_data(H1_coll, H0_coll, allbranches, input_branches, list_branches, pt_limits)\n",
    "    \n",
    "    available_branches = H1_df.columns\n",
    "    \n",
    "    implist = {}\n",
    "    for branch in available_branches:\n",
    "                \n",
    "        if \"training_weight\" not in branch:\n",
    "            data_H1, bins_H1 = get_binned_data(H1_df, branch)\n",
    "            data_H0, bins_H0 = get_binned_data(H0_df, branch)\n",
    "\n",
    "            if(len(data_H1) > 0):\n",
    "                H1_func = get_interpolating_function(data_H1, bins_H1)\n",
    "                H0_func = get_interpolating_function(data_H0, bins_H0)\n",
    "\n",
    "                # compute the separation in this branch\n",
    "                global_min = np.min(np.concatenate([bins_H0, bins_H1]))\n",
    "                global_max = np.max(np.concatenate([bins_H0, bins_H1]))\n",
    "\n",
    "                separation_func = lambda x: (H1_func(x) + H0_func(x)) * (H1_func(x) - H0_func(x))**2\n",
    "\n",
    "                sep = integrate.quad(separation_func, global_min, global_max)[0]\n",
    "            else:\n",
    "                sep = 0.0\n",
    "                \n",
    "            print \"separation for \" + branch + \" = \" + str(sep)\n",
    "            implist[branch] = sep\n",
    "        \n",
    "    # normalize the importance list\n",
    "    impsum = sum([val for key, val in implist.iteritems()])\n",
    "    for key in implist.keys():\n",
    "        implist[key] /= impsum\n",
    "        \n",
    "    return None, None, implist"
   ]
  },
  {
   "cell_type": "code",
   "execution_count": 18,
   "metadata": {
    "collapsed": false
   },
   "outputs": [],
   "source": [
    "def get_feature_importance_list_BDT(disc_pair, mandatory_branches, optional_branches, list_branches, pt_limits):\n",
    "    H1_name = disc_pair[0]\n",
    "    H0_name = disc_pair[1]\n",
    "    \n",
    "    # first assemble the list of branches that can serve as input: it will *always* contain the mandatory branches,\n",
    "    # and *can* contain some of the optional branches, if the name of the categories allows it\n",
    "    input_branches = [branch for branch in mandatory_branches]\n",
    "    \n",
    "    for optional_branch in optional_branches:\n",
    "        if (\"0j\" in H1_name or \"0j\" in H0_name) and (\"0j\" in optional_branch):\n",
    "            input_branches.append(optional_branch)  \n",
    "        elif (\"1j\" in H1_name or \"1j\" in H0_name) and (\"1j\" in optional_branch):\n",
    "            input_branches.append(optional_branch)\n",
    "        elif (\"2j\" in H1_name or \"2j\" in H0_name) and not (\"1j\" in optional_branch):\n",
    "            input_branches.append(optional_branch)\n",
    "            \n",
    "        # the fully inclusive categories (i.e. those with NO \"xxj\" in their name, can not use MELA, since there may\n",
    "        # be events with low number of jets contained)\n",
    "    \n",
    "    # get the training data for the BDT ...\n",
    "    H1_coll_train = FileCollection(collections[H1_name], 0.0, 0.5)\n",
    "    H0_coll_train = FileCollection(collections[H0_name], 0.0, 0.5)\n",
    "    \n",
    "    dtrain = get_data_dmatrix(H1_coll_train, H0_coll_train, allbranches, input_branches, list_branches, pt_limits)\n",
    "    \n",
    "    # ... and the validation data as well\n",
    "    H1_coll_val = FileCollection(collections[H1_name], 0.5, 1.0)\n",
    "    H0_coll_val = FileCollection(collections[H0_name], 0.5, 1.0)\n",
    "    dval = get_data_dmatrix(H1_coll_val, H0_coll_val, allbranches, input_branches, list_branches, pt_limits)\n",
    "    \n",
    "    evallist = [(dtrain, 'train'), (dval, 'eval')]\n",
    "    \n",
    "    # perform the training\n",
    "    # try different tree depths and choose the one that gives the best RMSE (i.e. avoid too deep trees to start with)\n",
    "        \n",
    "    params = {'eta': 0.01, 'silent': 1, 'gamma': 0.5, 'objective': 'binary:logistic'}\n",
    "    params['nthread'] = 4\n",
    "    params['eval_metric'] = 'rmse'\n",
    "    max_num_rounds = 2000\n",
    "    \n",
    "    best_loss = 1e6\n",
    "    best_imp = None\n",
    "    best_params = None\n",
    "    for tree_depth in range(1,8):\n",
    "        params['max_depth'] = tree_depth\n",
    "        \n",
    "        bst = xgb.train(params, dtrain, max_num_rounds, evals = evallist, early_stopping_rounds = 10, verbose_eval = False)\n",
    "    \n",
    "        pred = bst.predict(dval)\n",
    "        cur_loss = np.sqrt(mean_squared_error(pred, dval.get_label()))\n",
    "        cur_imp = bst.get_fscore()\n",
    "\n",
    "        print \"for max_depth = \" + str(params['max_depth']) + \": loss = \" + str(cur_loss)\n",
    "        \n",
    "        if cur_loss < best_loss:\n",
    "            best_loss = cur_loss\n",
    "            best_imp = copy.copy(cur_imp)\n",
    "            best_params = copy.copy(params)\n",
    "            \n",
    "    # normalize the usage score w.r.t. the total score (i.e. sum of all individuals)\n",
    "    score_sum = sum([val for key, val in best_imp.iteritems()])\n",
    "    used_variables = {key: val / float(score_sum) for key, val in sorted(best_imp.iteritems(), key = lambda x: x[1], reverse = True)}           \n",
    "    return best_params, dtrain.feature_names, used_variables"
   ]
  },
  {
   "cell_type": "code",
   "execution_count": 19,
   "metadata": {
    "collapsed": false
   },
   "outputs": [],
   "source": [
    "def get_histogram(df, branch, label):\n",
    "    data = df[branch].as_matrix()\n",
    "    weights = df[\"training_weight\"].as_matrix()\n",
    "    \n",
    "    # set the bin width\n",
    "    q75, q25 = np.percentile(data, [75, 25])\n",
    "    bin_width = max(2 * (q75 - q25) / len(data)**0.33, 0.005)\n",
    "\n",
    "    data_max = np.max(data)\n",
    "    data_min = np.min(data)\n",
    "    bins = np.arange(data_min, data_max + bin_width, bin_width)\n",
    "    \n",
    "    weights = weights / (np.sum(weights) * bin_width)\n",
    "    \n",
    "    fig = plt.hist(data, bins = bins, weights = weights, alpha = 0.5, label = label)\n",
    "    return fig"
   ]
  },
  {
   "cell_type": "code",
   "execution_count": 20,
   "metadata": {
    "collapsed": true
   },
   "outputs": [],
   "source": [
    "def plot_branch(disc_pair, branch, start_fraction = 0.0, end_fraction = 1.0):\n",
    "    H1_name = disc_pair[0]\n",
    "    H0_name = disc_pair[1]\n",
    "    \n",
    "    # get the training data for the BDT ...\n",
    "    H1_coll = FileCollection(collections[H1_name], start_fraction, end_fraction)\n",
    "    H0_coll = FileCollection(collections[H0_name], start_fraction, end_fraction)\n",
    "    \n",
    "    H1_df, H0_df = get_data(H1_coll, H0_coll, allbranches, allbranches, list_branches, pt_limits)\n",
    "    \n",
    "    plt.figure()\n",
    "    H1_hist = get_histogram(H1_df, branch, H1_name)\n",
    "    H0_hist = get_histogram(H0_df, branch, H0_name)\n",
    "    \n",
    "    plt.legend(loc = 'upper right')\n",
    "    plt.show()"
   ]
  },
  {
   "cell_type": "code",
   "execution_count": 21,
   "metadata": {
    "collapsed": false
   },
   "outputs": [],
   "source": [
    "def plot_variables(discs):\n",
    "    plotframe = pd.DataFrame()\n",
    "    \n",
    "    for disc in discs:\n",
    "        _, _, implist = get_feature_importance_list_BDT(disc, candidate_branches, MELA_branches, list_branches, pt_limits)\n",
    "        \n",
    "        # cut the list to select only the 95% most important variables\n",
    "        cutimplist = {key: val for key, val in implist.iteritems() if val > 0.00}\n",
    "        curframe = pd.DataFrame(cutimplist, index = [len(plotframe)])\n",
    "        \n",
    "        plotframe = pd.concat([plotframe, curframe])\n",
    "        \n",
    "    plotframe = plotframe.fillna(0.0)\n",
    "    \n",
    "    print plotframe\n",
    "    print \"number of pre-selected input variables = \" + str(len(plotframe.columns))\n",
    "    \n",
    "    # start the plotting\n",
    "    parameters = plotframe.columns\n",
    "    plotdata = np.transpose(plotframe.as_matrix())\n",
    "    \n",
    "    plt.close('all')\n",
    "    fig = plt.figure(figsize=(10,15))\n",
    "    ax = fig.add_subplot(111)\n",
    "    cax = ax.matshow(plotdata, cmap = 'Blues')\n",
    "    \n",
    "    # make axis labels\n",
    "    disclabels = []\n",
    "    for disc in discs:\n",
    "        if \"0j\" in disc[0] or \"0j\" in disc[1]:\n",
    "            disclabels.append('D_' + re.sub('0j', '', disc[0]) + \"_\" + re.sub('0j', '', disc[1]) + \"_0j\")\n",
    "        elif \"01j\" in disc[0] or \"01j\" in disc[1]:\n",
    "            disclabels.append('D_' + re.sub('01j', '', disc[0]) + \"_\" + re.sub('01j', '', disc[1]) + \"_01j\")\n",
    "        elif \"1j\" in disc[0] or \"1j\" in disc[1]:\n",
    "            disclabels.append('D_' + re.sub('1j', '', disc[0]) + \"_\" + re.sub('1j', '', disc[1]) + \"_1j\")\n",
    "        elif \"2j\" in disc[0] or \"2j\" in disc[1]:\n",
    "            disclabels.append('D_' + re.sub('2j', '', disc[0]) + \"_\" + re.sub('2j', '', disc[1]) + \"_2j\")\n",
    "        else:\n",
    "            disclabels.append('D_' + disc[0] + \"_\" + disc[1] + \"_2j\")\n",
    "            \n",
    "    disclabels = np.concatenate([[''], np.array(disclabels)])\n",
    "    parameters = np.concatenate([[''], np.array(parameters)])\n",
    "        \n",
    "    ax.set_xticklabels(disclabels, rotation = 'vertical')\n",
    "    ax.set_yticklabels(parameters)\n",
    "    \n",
    "    ax.xaxis.set_major_locator(ticker.MultipleLocator(1))\n",
    "    ax.yaxis.set_major_locator(ticker.MultipleLocator(1))\n",
    "    \n",
    "    # sort the used variables according to their importance\n",
    "    sorted_implist = []\n",
    "    for key, val in sorted(cutimplist.iteritems(), key = lambda x: x[1], reverse = True):\n",
    "        sorted_implist.append((key, val))\n",
    "    \n",
    "    return fig, sorted_implist"
   ]
  },
  {
   "cell_type": "code",
   "execution_count": 22,
   "metadata": {
    "collapsed": true
   },
   "outputs": [],
   "source": [
    "def append_variables(confhandler, impdict, threshold_fscore):\n",
    "    confhandler.new_section(impdict[\"discriminant\"])\n",
    "    cur_sec = confhandler.get_section(impdict[\"discriminant\"])\n",
    "\n",
    "    periodic_inputs = []\n",
    "    nonperiodic_inputs = []\n",
    "    for key, val in impdict.iteritems():\n",
    "        if val[0] > threshold_fscore and key is not \"discriminant\":\n",
    "            if \"phi\" in key or \"Phi\" in key:\n",
    "                periodic_inputs.append(key)\n",
    "            else:\n",
    "                nonperiodic_inputs.append(key)\n",
    "    cur_sec[\"nonperiodic_columns\"] = ConfigFileUtils.serialize_list(nonperiodic_inputs, lambda x: x)\n",
    "    cur_sec[\"periodic_columns\"] = ConfigFileUtils.serialize_list(periodic_inputs, lambda x: x)"
   ]
  },
  {
   "cell_type": "code",
   "execution_count": 23,
   "metadata": {
    "collapsed": true
   },
   "outputs": [],
   "source": [
    "def convert_varname(raw):\n",
    "    raw = raw.replace('(', '[')\n",
    "    raw = raw.replace(')', ']')\n",
    "    return raw"
   ]
  },
  {
   "cell_type": "raw",
   "metadata": {
    "collapsed": false
   },
   "source": [
    "corr1 = get_feature_correlation(\"WHh1j\", [\"LepPt_0\", \"LepPt_1\"], candidate_branches, MELA_branches, list_branches, pt_limits)"
   ]
  },
  {
   "cell_type": "raw",
   "metadata": {
    "collapsed": false
   },
   "source": [
    "plt.show()"
   ]
  },
  {
   "cell_type": "code",
   "execution_count": 24,
   "metadata": {
    "collapsed": true
   },
   "outputs": [],
   "source": [
    "df = pd.DataFrame()"
   ]
  },
  {
   "cell_type": "code",
   "execution_count": 25,
   "metadata": {
    "collapsed": false
   },
   "outputs": [],
   "source": [
    "out_dir = \"/data_CMS/cms/wind/InputConfigurations/\"\n",
    "out_path = os.path.join(out_dir, \"exclusive_99.conf\")\n",
    "threshold_fscore = 0.01"
   ]
  },
  {
   "cell_type": "code",
   "execution_count": 26,
   "metadata": {
    "collapsed": false
   },
   "outputs": [],
   "source": [
    "confhandler = ConfigFileHandler()"
   ]
  },
  {
   "cell_type": "code",
   "execution_count": 27,
   "metadata": {
    "collapsed": false,
    "scrolled": false
   },
   "outputs": [],
   "source": [
    "%%capture\n",
    "fig, implist = plot_variables([(\"VBF2j\", \"ggH2j\")])"
   ]
  },
  {
   "cell_type": "code",
   "execution_count": 28,
   "metadata": {
    "collapsed": false
   },
   "outputs": [],
   "source": [
    "impdict = {convert_varname(entry[0]): [entry[1]] for entry in implist}\n",
    "impdict[\"discriminant\"] = \"D_VBF_ggH_2j_ML\"\n",
    "df = df.append(pd.DataFrame.from_dict(impdict))"
   ]
  },
  {
   "cell_type": "code",
   "execution_count": 29,
   "metadata": {
    "collapsed": false
   },
   "outputs": [],
   "source": [
    "append_variables(confhandler, impdict, threshold_fscore)"
   ]
  },
  {
   "cell_type": "code",
   "execution_count": 30,
   "metadata": {
    "collapsed": false
   },
   "outputs": [
    {
     "data": {
      "text/plain": [
       "[('JetPt(JetPt|0)', 0.06575969358569403),\n",
       " ('D_VBF2j_ggH_ME', 0.06441664386798318),\n",
       " ('JetPt(JetPt|1)', 0.05613450394209964),\n",
       " ('ZZPt', 0.04817569080010943),\n",
       " ('PFMET', 0.04673315591812371),\n",
       " ('Z1Pt', 0.04290297709354093),\n",
       " ('JetEta(JetPt|1)', 0.0422314522346855),\n",
       " ('ZZEta', 0.041758897704379835),\n",
       " ('ZZMass', 0.041709155122242395),\n",
       " ('JetEta(JetPt|0)', 0.0415847986668988),\n",
       " ('Z2Pt', 0.04019200636705051),\n",
       " ('JetEta(JetPt|2)', 0.03937125376178277),\n",
       " ('D_WHh_ZHh_ME', 0.0391474121421643),\n",
       " ('JetPhi(JetPt|1)', 0.037630263386972417),\n",
       " ('ZZPhi', 0.0367100256174298),\n",
       " ('ZZMassErr', 0.036187728504986694),\n",
       " ('JetPhi(JetPt|0)', 0.035391847190787674),\n",
       " ('Z1Mass', 0.03491929266048201),\n",
       " ('Z2Mass', 0.03389956972666451),\n",
       " ('D_WHh_ggH_ME', 0.03074091576093715),\n",
       " ('D_ZHh_ggH_ME', 0.028975054095058076),\n",
       " ('JetPt(JetPt|2)', 0.02755739050414107),\n",
       " ('D_VBF2j_WHh_ME', 0.027283806302385156),\n",
       " ('D_VBF2j_ZHh_ME', 0.019349864451463677),\n",
       " ('JetPhi(JetPt|2)', 0.01629069565001119),\n",
       " ('JetPt(JetPt|3)', 0.006317307931454722),\n",
       " ('JetPhi(JetPt|3)', 0.005745268236874176),\n",
       " ('nCleanedJetsPt30', 0.0035068520406894323),\n",
       " ('Z2Flav', 0.0024871291068719378),\n",
       " ('Z1Flav', 0.0023876439425970604),\n",
       " ('JetEta(JetPt|3)', 0.0021389310319098664),\n",
       " ('nCleanedJetsPt30BTagged_bTagSF', 0.0021140597408411473),\n",
       " ('ExtraLepPhi(ExtraLepPt|0)', 0.00017409903748103565),\n",
       " ('ExtraLepEta(ExtraLepPt|0)', 7.461387320615814e-05)]"
      ]
     },
     "execution_count": 30,
     "metadata": {},
     "output_type": "execute_result"
    }
   ],
   "source": [
    "implist"
   ]
  },
  {
   "cell_type": "code",
   "execution_count": 31,
   "metadata": {
    "collapsed": false,
    "scrolled": false
   },
   "outputs": [],
   "source": [
    "%%capture\n",
    "fig, implist = plot_variables([(\"VBF1j\", \"ggH1j\")])"
   ]
  },
  {
   "cell_type": "code",
   "execution_count": 32,
   "metadata": {
    "collapsed": true
   },
   "outputs": [],
   "source": [
    "impdict = {convert_varname(entry[0]): [entry[1]] for entry in implist}\n",
    "impdict[\"discriminant\"] = \"D_VBF_ggH_1j_ML\"\n",
    "df = df.append(pd.DataFrame.from_dict(impdict))"
   ]
  },
  {
   "cell_type": "code",
   "execution_count": 33,
   "metadata": {
    "collapsed": true
   },
   "outputs": [],
   "source": [
    "append_variables(confhandler, impdict, threshold_fscore)"
   ]
  },
  {
   "cell_type": "code",
   "execution_count": 34,
   "metadata": {
    "collapsed": false
   },
   "outputs": [
    {
     "data": {
      "text/plain": [
       "[('JetEta(JetPt|0)', 0.21606407057048344),\n",
       " ('ZZPt', 0.09453891242528002),\n",
       " ('D_VBF1j_ggH_ME', 0.08919969821832743),\n",
       " ('JetPt(JetPt|0)', 0.08542742731124137),\n",
       " ('ZZEta', 0.07886947942661482),\n",
       " ('PFMET', 0.07260170622714875),\n",
       " ('Z1Pt', 0.05414659625094307),\n",
       " ('ZZMassErr', 0.053334107132493765),\n",
       " ('JetPhi(JetPt|0)', 0.044977076199872325),\n",
       " ('Z1Mass', 0.04370030758516627),\n",
       " ('Z2Mass', 0.041030700481689976),\n",
       " ('Z2Pt', 0.039870001741048114),\n",
       " ('ZZPhi', 0.03621380070802623),\n",
       " ('ZZMass', 0.035691486274737394),\n",
       " ('nCleanedJetsPt30BTagged_bTagSF', 0.007196332191979572),\n",
       " ('ExtraLepPhi(ExtraLepPt|0)', 0.002727642040508386),\n",
       " ('ExtraLepPt(ExtraLepPt|0)', 0.0021472926701874527),\n",
       " ('Z2Flav', 0.001450873425802333),\n",
       " ('Z1Flav', 0.0004642794962567466),\n",
       " ('ExtraLepEta(ExtraLepPt|0)', 0.0002901746851604666),\n",
       " ('nExtraLep', 5.803493703209332e-05)]"
      ]
     },
     "execution_count": 34,
     "metadata": {},
     "output_type": "execute_result"
    }
   ],
   "source": [
    "implist"
   ]
  },
  {
   "cell_type": "code",
   "execution_count": 35,
   "metadata": {
    "collapsed": false,
    "scrolled": false
   },
   "outputs": [],
   "source": [
    "%%capture\n",
    "fig, implist = plot_variables([(\"VBF0j\", \"ggH0j\")])"
   ]
  },
  {
   "cell_type": "code",
   "execution_count": 36,
   "metadata": {
    "collapsed": true
   },
   "outputs": [],
   "source": [
    "impdict = {convert_varname(entry[0]): [entry[1]] for entry in implist}\n",
    "impdict[\"discriminant\"] = \"D_VBF_ggH_0j_ML\"\n",
    "df = df.append(pd.DataFrame.from_dict(impdict))"
   ]
  },
  {
   "cell_type": "code",
   "execution_count": 37,
   "metadata": {
    "collapsed": true
   },
   "outputs": [],
   "source": [
    "append_variables(confhandler, impdict, threshold_fscore)"
   ]
  },
  {
   "cell_type": "code",
   "execution_count": 38,
   "metadata": {
    "collapsed": false
   },
   "outputs": [
    {
     "data": {
      "text/plain": [
       "[('ZZPt', 0.1732883612948443),\n",
       " ('PFMET', 0.11778877743221342),\n",
       " ('ZZEta', 0.10263261640895352),\n",
       " ('ZZPhi', 0.09338998642078059),\n",
       " ('ZZMass', 0.09150641727627142),\n",
       " ('Z2Pt', 0.08721363178413422),\n",
       " ('Z1Mass', 0.08165053221779316),\n",
       " ('ZZMassErr', 0.08125629681545403),\n",
       " ('Z1Pt', 0.0800297866748434),\n",
       " ('Z2Mass', 0.07783958999518156),\n",
       " ('Z2Flav', 0.005475491699154584),\n",
       " ('Z1Flav', 0.0038547461562048273),\n",
       " ('ExtraLepPt(ExtraLepPt|0)', 0.0027596478163739104),\n",
       " ('ExtraLepPhi(ExtraLepPt|0)', 0.0008760786718647334),\n",
       " ('nExtraLep', 0.0004380393359323667)]"
      ]
     },
     "execution_count": 38,
     "metadata": {},
     "output_type": "execute_result"
    }
   ],
   "source": [
    "implist"
   ]
  },
  {
   "cell_type": "code",
   "execution_count": 39,
   "metadata": {
    "collapsed": false,
    "scrolled": false
   },
   "outputs": [],
   "source": [
    "%%capture\n",
    "fig, implist = plot_variables([(\"WHh2j\", \"ggH2j\")])"
   ]
  },
  {
   "cell_type": "code",
   "execution_count": 40,
   "metadata": {
    "collapsed": true
   },
   "outputs": [],
   "source": [
    "impdict = {convert_varname(entry[0]): [entry[1]] for entry in implist}\n",
    "impdict[\"discriminant\"] = \"D_WHh_ggH_2j_ML\"\n",
    "df = df.append(pd.DataFrame.from_dict(impdict))"
   ]
  },
  {
   "cell_type": "code",
   "execution_count": 41,
   "metadata": {
    "collapsed": true
   },
   "outputs": [],
   "source": [
    "append_variables(confhandler, impdict, threshold_fscore)"
   ]
  },
  {
   "cell_type": "code",
   "execution_count": 42,
   "metadata": {
    "collapsed": false
   },
   "outputs": [
    {
     "data": {
      "text/plain": [
       "[('JetPt(JetPt|0)', 0.06315862612038817),\n",
       " ('D_WHh_ggH_ME', 0.055145100400676286),\n",
       " ('ZZEta', 0.05160154711999444),\n",
       " ('ZZPt', 0.05081409083539848),\n",
       " ('D_VBF2j_ggH_ME', 0.05014243694559604),\n",
       " ('JetPt(JetPt|1)', 0.049378141139958774),\n",
       " ('JetEta(JetPt|0)', 0.048011672881395184),\n",
       " ('Z1Pt', 0.04551034115385506),\n",
       " ('PFMET', 0.044120712416332766),\n",
       " ('JetEta(JetPt|2)', 0.0399981471616833),\n",
       " ('Z2Pt', 0.03925701183500475),\n",
       " ('JetPhi(JetPt|0)', 0.03823795076082173),\n",
       " ('Z2Mass', 0.0380989878870695),\n",
       " ('ZZMass', 0.03789054357644116),\n",
       " ('ZZPhi', 0.037496815434143176),\n",
       " ('ZZMassErr', 0.032239386710517175),\n",
       " ('D_WHh_ZHh_ME', 0.03221622623155847),\n",
       " ('JetPhi(JetPt|1)', 0.030548671746531718),\n",
       " ('Z1Mass', 0.030479190309655603),\n",
       " ('JetEta(JetPt|1)', 0.030247585520068555),\n",
       " ('D_ZHh_ggH_ME', 0.027028278944808578),\n",
       " ('JetPt(JetPt|2)', 0.026773513676262826),\n",
       " ('JetPhi(JetPt|2)', 0.022859392732241704),\n",
       " ('D_VBF2j_WHh_ME', 0.02079811010491697),\n",
       " ('D_VBF2j_ZHh_ME', 0.020381221483660283),\n",
       " ('JetEta(JetPt|3)', 0.00884730296222526),\n",
       " ('JetPhi(JetPt|3)', 0.007295550871992033),\n",
       " ('JetPt(JetPt|3)', 0.007110267040322394),\n",
       " ('nCleanedJetsPt30', 0.006670217940107002),\n",
       " ('Z2Flav', 0.003613034717557959),\n",
       " ('nCleanedJetsPt30BTagged_bTagSF', 0.0019918011904486183),\n",
       " ('Z1Flav', 0.0014359496954397017),\n",
       " ('ExtraLepPt(ExtraLepPt|0)', 0.0004168886212566876),\n",
       " ('ExtraLepEta(ExtraLepPt|0)', 0.00018528383166963893)]"
      ]
     },
     "execution_count": 42,
     "metadata": {},
     "output_type": "execute_result"
    }
   ],
   "source": [
    "implist"
   ]
  },
  {
   "cell_type": "code",
   "execution_count": 43,
   "metadata": {
    "collapsed": false,
    "scrolled": false
   },
   "outputs": [],
   "source": [
    "%%capture\n",
    "fig, implist = plot_variables([(\"WHh1j\", \"ggH1j\")])"
   ]
  },
  {
   "cell_type": "code",
   "execution_count": 44,
   "metadata": {
    "collapsed": true
   },
   "outputs": [],
   "source": [
    "impdict = {convert_varname(entry[0]): [entry[1]] for entry in implist}\n",
    "impdict[\"discriminant\"] = \"D_WHh_ggH_1j_ML\"\n",
    "df = df.append(pd.DataFrame.from_dict(impdict))"
   ]
  },
  {
   "cell_type": "code",
   "execution_count": 45,
   "metadata": {
    "collapsed": true
   },
   "outputs": [],
   "source": [
    "append_variables(confhandler, impdict, threshold_fscore)"
   ]
  },
  {
   "cell_type": "code",
   "execution_count": 46,
   "metadata": {
    "collapsed": false
   },
   "outputs": [
    {
     "data": {
      "text/plain": [
       "[('JetEta(JetPt|0)', 0.13239822100581594),\n",
       " ('ZZEta', 0.11549207435283385),\n",
       " ('JetPt(JetPt|0)', 0.09761660394571788),\n",
       " ('D_VBF1j_ggH_ME', 0.08341886189987456),\n",
       " ('ZZPt', 0.07212909111643288),\n",
       " ('PFMET', 0.06674079142433573),\n",
       " ('ZZMassErr', 0.06243585357509408),\n",
       " ('Z2Pt', 0.05311323982210058),\n",
       " ('JetPhi(JetPt|0)', 0.052229444634507925),\n",
       " ('ZZMass', 0.051944349412703844),\n",
       " ('Z1Mass', 0.05000570190443608),\n",
       " ('ZZPhi', 0.049920173337894856),\n",
       " ('Z2Mass', 0.049720606682632),\n",
       " ('Z1Pt', 0.04709773064203444),\n",
       " ('Z2Flav', 0.004475994982324096),\n",
       " ('Z1Flav', 0.004133880716159197),\n",
       " ('nCleanedJetsPt30BTagged_bTagSF', 0.0038202759721747063),\n",
       " ('ExtraLepPt(ExtraLepPt|0)', 0.0023947998631542937),\n",
       " ('ExtraLepEta(ExtraLepPt|0)', 0.0007412475766906146),\n",
       " ('ExtraLepPhi(ExtraLepPt|0)', 0.00017105713308244953)]"
      ]
     },
     "execution_count": 46,
     "metadata": {},
     "output_type": "execute_result"
    }
   ],
   "source": [
    "implist"
   ]
  },
  {
   "cell_type": "code",
   "execution_count": 47,
   "metadata": {
    "collapsed": false,
    "scrolled": false
   },
   "outputs": [],
   "source": [
    "%%capture\n",
    "fig, implist = plot_variables([(\"WHh0j\", \"ggH0j\")])"
   ]
  },
  {
   "cell_type": "code",
   "execution_count": 48,
   "metadata": {
    "collapsed": true
   },
   "outputs": [],
   "source": [
    "impdict = {convert_varname(entry[0]): [entry[1]] for entry in implist}\n",
    "impdict[\"discriminant\"] = \"D_WHh_ggH_0j_ML\"\n",
    "df = df.append(pd.DataFrame.from_dict(impdict))"
   ]
  },
  {
   "cell_type": "code",
   "execution_count": 49,
   "metadata": {
    "collapsed": true
   },
   "outputs": [],
   "source": [
    "append_variables(confhandler, impdict, threshold_fscore)"
   ]
  },
  {
   "cell_type": "code",
   "execution_count": 50,
   "metadata": {
    "collapsed": false
   },
   "outputs": [
    {
     "data": {
      "text/plain": [
       "[('ZZPt', 0.15967845659163987),\n",
       " ('ZZEta', 0.11935691318327975),\n",
       " ('PFMET', 0.11022508038585209),\n",
       " ('ZZMassErr', 0.102508038585209),\n",
       " ('ZZPhi', 0.08758842443729904),\n",
       " ('Z1Pt', 0.08662379421221865),\n",
       " ('Z1Mass', 0.08604501607717042),\n",
       " ('Z2Mass', 0.08430868167202572),\n",
       " ('Z2Pt', 0.07858520900321543),\n",
       " ('ZZMass', 0.0777491961414791),\n",
       " ('Z2Flav', 0.0045659163987138264),\n",
       " ('Z1Flav', 0.0019292604501607716),\n",
       " ('ExtraLepEta(ExtraLepPt|0)', 0.0008360128617363344)]"
      ]
     },
     "execution_count": 50,
     "metadata": {},
     "output_type": "execute_result"
    }
   ],
   "source": [
    "implist"
   ]
  },
  {
   "cell_type": "code",
   "execution_count": 51,
   "metadata": {
    "collapsed": false,
    "scrolled": false
   },
   "outputs": [],
   "source": [
    "%%capture\n",
    "fig, implist = plot_variables([(\"ZHh2j\", \"ggH2j\")])"
   ]
  },
  {
   "cell_type": "code",
   "execution_count": 52,
   "metadata": {
    "collapsed": true
   },
   "outputs": [],
   "source": [
    "impdict = {convert_varname(entry[0]): [entry[1]] for entry in implist}\n",
    "impdict[\"discriminant\"] = \"D_ZHh_ggH_2j_ML\"\n",
    "df = df.append(pd.DataFrame.from_dict(impdict))"
   ]
  },
  {
   "cell_type": "code",
   "execution_count": 53,
   "metadata": {
    "collapsed": true
   },
   "outputs": [],
   "source": [
    "append_variables(confhandler, impdict, threshold_fscore)"
   ]
  },
  {
   "cell_type": "code",
   "execution_count": 54,
   "metadata": {
    "collapsed": false
   },
   "outputs": [
    {
     "data": {
      "text/plain": [
       "[('JetPt(JetPt|1)', 0.059286107245720206),\n",
       " ('JetPt(JetPt|0)', 0.057020808388078055),\n",
       " ('Z1Pt', 0.05384938998737905),\n",
       " ('ZZEta', 0.05058088734992395),\n",
       " ('D_VBF2j_ggH_ME', 0.04708585482670464),\n",
       " ('ZZPt', 0.045888482573379505),\n",
       " ('D_WHh_ggH_ME', 0.0418756674541277),\n",
       " ('D_ZHh_ggH_ME', 0.0418756674541277),\n",
       " ('JetEta(JetPt|0)', 0.03935147729846931),\n",
       " ('JetEta(JetPt|1)', 0.0381864664573962),\n",
       " ('nCleanedJetsPt30BTagged_bTagSF', 0.037959936571631984),\n",
       " ('Z1Mass', 0.03663311866929873),\n",
       " ('JetEta(JetPt|2)', 0.03647131160803858),\n",
       " ('PFMET', 0.036374227371282486),\n",
       " ('Z2Mass', 0.03595352901200608),\n",
       " ('ZZPhi', 0.03300864049707129),\n",
       " ('Z2Pt', 0.032943917672567234),\n",
       " ('ZZMassErr', 0.03245849648878677),\n",
       " ('ZZMass', 0.0321672437785185),\n",
       " ('JetPhi(JetPt|0)', 0.030872787288437266),\n",
       " ('D_WHh_ZHh_ME', 0.02857512701854309),\n",
       " ('JetPhi(JetPt|1)', 0.02854276560629106),\n",
       " ('JetPt(JetPt|2)', 0.025953852626128603),\n",
       " ('JetPhi(JetPt|2)', 0.02381799941749458),\n",
       " ('D_VBF2j_WHh_ME', 0.022750072813177567),\n",
       " ('D_VBF2j_ZHh_ME', 0.01896378757968998),\n",
       " ('JetPt(JetPt|3)', 0.008931749781560467),\n",
       " ('JetEta(JetPt|3)', 0.0066664509239183194),\n",
       " ('JetPhi(JetPt|3)', 0.006375198213650043),\n",
       " ('Z1Flav', 0.003915730882495712),\n",
       " ('nCleanedJetsPt30', 0.0030419727516908836),\n",
       " ('Z2Flav', 0.002621274392414485)]"
      ]
     },
     "execution_count": 54,
     "metadata": {},
     "output_type": "execute_result"
    }
   ],
   "source": [
    "implist"
   ]
  },
  {
   "cell_type": "code",
   "execution_count": 55,
   "metadata": {
    "collapsed": false,
    "scrolled": false
   },
   "outputs": [],
   "source": [
    "%%capture\n",
    "fig, implist = plot_variables([(\"ZHh1j\", \"ggH1j\")])"
   ]
  },
  {
   "cell_type": "code",
   "execution_count": 56,
   "metadata": {
    "collapsed": true
   },
   "outputs": [],
   "source": [
    "impdict = {convert_varname(entry[0]): [entry[1]] for entry in implist}\n",
    "impdict[\"discriminant\"] = \"D_ZHh_ggH_1j_ML\"\n",
    "df = df.append(pd.DataFrame.from_dict(impdict))"
   ]
  },
  {
   "cell_type": "code",
   "execution_count": 57,
   "metadata": {
    "collapsed": true
   },
   "outputs": [],
   "source": [
    "append_variables(confhandler, impdict, threshold_fscore)"
   ]
  },
  {
   "cell_type": "code",
   "execution_count": 58,
   "metadata": {
    "collapsed": false
   },
   "outputs": [
    {
     "data": {
      "text/plain": [
       "[('JetEta(JetPt|0)', 0.12320038910505837),\n",
       " ('JetPt(JetPt|0)', 0.10802529182879378),\n",
       " ('ZZEta', 0.10423151750972763),\n",
       " ('D_VBF1j_ggH_ME', 0.09528210116731517),\n",
       " ('ZZPhi', 0.07446498054474708),\n",
       " ('ZZPt', 0.061867704280155644),\n",
       " ('PFMET', 0.061284046692607),\n",
       " ('Z2Mass', 0.059484435797665366),\n",
       " ('Z1Mass', 0.058122568093385216),\n",
       " ('ZZMass', 0.05413424124513619),\n",
       " ('Z1Pt', 0.047714007782101164),\n",
       " ('ZZMassErr', 0.04547665369649805),\n",
       " ('Z2Pt', 0.04430933852140078),\n",
       " ('JetPhi(JetPt|0)', 0.04085603112840467),\n",
       " ('nCleanedJetsPt30BTagged_bTagSF', 0.013715953307392996),\n",
       " ('Z2Flav', 0.003404669260700389),\n",
       " ('nExtraLep', 0.0020914396887159532),\n",
       " ('ExtraLepPt(ExtraLepPt|0)', 0.0009727626459143969),\n",
       " ('ExtraLepPhi(ExtraLepPt|0)', 0.0006809338521400778),\n",
       " ('Z1Flav', 0.0006809338521400778)]"
      ]
     },
     "execution_count": 58,
     "metadata": {},
     "output_type": "execute_result"
    }
   ],
   "source": [
    "implist"
   ]
  },
  {
   "cell_type": "code",
   "execution_count": 59,
   "metadata": {
    "collapsed": false,
    "scrolled": false
   },
   "outputs": [],
   "source": [
    "%%capture\n",
    "fig, implist = plot_variables([(\"ZHh0j\", \"ggH0j\")])"
   ]
  },
  {
   "cell_type": "code",
   "execution_count": 60,
   "metadata": {
    "collapsed": true
   },
   "outputs": [],
   "source": [
    "impdict = {convert_varname(entry[0]): [entry[1]] for entry in implist}\n",
    "impdict[\"discriminant\"] = \"D_ZHh_ggH_0j_ML\"\n",
    "df = df.append(pd.DataFrame.from_dict(impdict))"
   ]
  },
  {
   "cell_type": "code",
   "execution_count": 61,
   "metadata": {
    "collapsed": true
   },
   "outputs": [],
   "source": [
    "append_variables(confhandler, impdict, threshold_fscore)"
   ]
  },
  {
   "cell_type": "code",
   "execution_count": 62,
   "metadata": {
    "collapsed": false
   },
   "outputs": [
    {
     "data": {
      "text/plain": [
       "[('ZZPt', 0.170250606305578),\n",
       " ('ZZEta', 0.12627324171382376),\n",
       " ('Z1Pt', 0.10299110751818917),\n",
       " ('Z1Mass', 0.09409862570735651),\n",
       " ('Z2Mass', 0.09264349232012935),\n",
       " ('ZZMassErr', 0.0889248181083266),\n",
       " ('PFMET', 0.08714632174616006),\n",
       " ('ZZPhi', 0.0763136620856912),\n",
       " ('Z2Pt', 0.07518189167340339),\n",
       " ('ZZMass', 0.0719482619240097),\n",
       " ('ExtraLepPt(ExtraLepPt|0)', 0.006790622473726758),\n",
       " ('Z2Flav', 0.00582053354890865),\n",
       " ('Z1Flav', 0.0016168148746968471)]"
      ]
     },
     "execution_count": 62,
     "metadata": {},
     "output_type": "execute_result"
    }
   ],
   "source": [
    "implist"
   ]
  },
  {
   "cell_type": "code",
   "execution_count": 63,
   "metadata": {
    "collapsed": false,
    "scrolled": false
   },
   "outputs": [],
   "source": [
    "%%capture\n",
    "fig, implist = plot_variables([(\"WHh2j\", \"ZHh2j\")])"
   ]
  },
  {
   "cell_type": "code",
   "execution_count": 64,
   "metadata": {
    "collapsed": true
   },
   "outputs": [],
   "source": [
    "impdict = {convert_varname(entry[0]): [entry[1]] for entry in implist}\n",
    "impdict[\"discriminant\"] = \"D_WHh_ZHh_2j_ML\"\n",
    "df = df.append(pd.DataFrame.from_dict(impdict))"
   ]
  },
  {
   "cell_type": "code",
   "execution_count": 65,
   "metadata": {
    "collapsed": true
   },
   "outputs": [],
   "source": [
    "append_variables(confhandler, impdict, threshold_fscore)"
   ]
  },
  {
   "cell_type": "code",
   "execution_count": 66,
   "metadata": {
    "collapsed": false
   },
   "outputs": [
    {
     "data": {
      "text/plain": [
       "[('D_WHh_ZHh_ME', 0.08077594810379242),\n",
       " ('PFMET', 0.06081586826347305),\n",
       " ('JetPhi(JetPt|1)', 0.053330838323353294),\n",
       " ('ZZMass', 0.04590818363273453),\n",
       " ('ZZMassErr', 0.04572105788423154),\n",
       " ('JetPt(JetPt|1)', 0.04123003992015968),\n",
       " ('JetEta(JetPt|0)', 0.0406686626746507),\n",
       " ('JetPt(JetPt|0)', 0.03904690618762475),\n",
       " ('JetPhi(JetPt|0)', 0.037050898203592815),\n",
       " ('JetPhi(JetPt|2)', 0.036988522954091815),\n",
       " ('Z2Mass', 0.036926147704590816),\n",
       " ('Z1Pt', 0.036926147704590816),\n",
       " ('JetEta(JetPt|1)', 0.03617764471057884),\n",
       " ('ZZPhi', 0.03493013972055888),\n",
       " ('ZZEta', 0.03305888223552894),\n",
       " ('D_ZHh_ggH_ME', 0.032123253493013974),\n",
       " ('Z1Mass', 0.03181137724550898),\n",
       " ('D_WHh_ggH_ME', 0.031374750499002),\n",
       " ('Z2Pt', 0.030501497005988025),\n",
       " ('D_VBF2j_ggH_ME', 0.02944111776447106),\n",
       " ('nCleanedJetsPt30BTagged_bTagSF', 0.02900449101796407),\n",
       " ('ZZPt', 0.027382734530938122),\n",
       " ('D_VBF2j_WHh_ME', 0.025137225548902197),\n",
       " ('D_VBF2j_ZHh_ME', 0.02370259481037924),\n",
       " ('JetPt(JetPt|2)', 0.022392714570858282),\n",
       " ('JetEta(JetPt|2)', 0.014595808383233533),\n",
       " ('JetPhi(JetPt|3)', 0.011352295409181637),\n",
       " ('JetEta(JetPt|3)', 0.011289920159680639),\n",
       " ('nCleanedJetsPt30', 0.007734530938123752),\n",
       " ('JetPt(JetPt|3)', 0.007672155688622754),\n",
       " ('Z1Flav', 0.0031187624750499),\n",
       " ('Z2Flav', 0.0018088822355289422)]"
      ]
     },
     "execution_count": 66,
     "metadata": {},
     "output_type": "execute_result"
    }
   ],
   "source": [
    "implist"
   ]
  },
  {
   "cell_type": "code",
   "execution_count": 67,
   "metadata": {
    "collapsed": false,
    "scrolled": false
   },
   "outputs": [],
   "source": [
    "%%capture\n",
    "fig, implist = plot_variables([(\"WHh1j\", \"ZHh1j\")])"
   ]
  },
  {
   "cell_type": "code",
   "execution_count": 68,
   "metadata": {
    "collapsed": true
   },
   "outputs": [],
   "source": [
    "impdict = {convert_varname(entry[0]): [entry[1]] for entry in implist}\n",
    "impdict[\"discriminant\"] = \"D_WHh_ZHh_1j_ML\"\n",
    "df = df.append(pd.DataFrame.from_dict(impdict))"
   ]
  },
  {
   "cell_type": "code",
   "execution_count": 69,
   "metadata": {
    "collapsed": true
   },
   "outputs": [],
   "source": [
    "append_variables(confhandler, impdict, threshold_fscore)"
   ]
  },
  {
   "cell_type": "code",
   "execution_count": 70,
   "metadata": {
    "collapsed": false
   },
   "outputs": [
    {
     "data": {
      "text/plain": [
       "[('ZZMass', 0.11130284728213978),\n",
       " ('JetPt(JetPt|0)', 0.09174575783721599),\n",
       " ('PFMET', 0.08484325568018407),\n",
       " ('ZZMassErr', 0.07204486626402071),\n",
       " ('Z2Pt', 0.07161345987920621),\n",
       " ('D_VBF1j_ggH_ME', 0.07017543859649122),\n",
       " ('JetEta(JetPt|0)', 0.06888121944204774),\n",
       " ('ZZEta', 0.06801840667241875),\n",
       " ('ZZPt', 0.0638481449525453),\n",
       " ('Z2Mass', 0.058958872591314354),\n",
       " ('ZZPhi', 0.0547886108714409),\n",
       " ('Z1Mass', 0.05162496404946793),\n",
       " ('Z1Pt', 0.04946793212539546),\n",
       " ('JetPhi(JetPt|0)', 0.048461317227494964),\n",
       " ('nCleanedJetsPt30BTagged_bTagSF', 0.028041415012942193),\n",
       " ('Z1Flav', 0.004170261719873454),\n",
       " ('Z2Flav', 0.0011504170261719873),\n",
       " ('ExtraLepEta(ExtraLepPt|0)', 0.0008628127696289905)]"
      ]
     },
     "execution_count": 70,
     "metadata": {},
     "output_type": "execute_result"
    }
   ],
   "source": [
    "implist"
   ]
  },
  {
   "cell_type": "code",
   "execution_count": 71,
   "metadata": {
    "collapsed": false,
    "scrolled": false
   },
   "outputs": [],
   "source": [
    "%%capture\n",
    "fig, implist = plot_variables([(\"WHh0j\", \"ZHh0j\")])"
   ]
  },
  {
   "cell_type": "code",
   "execution_count": 72,
   "metadata": {
    "collapsed": true
   },
   "outputs": [],
   "source": [
    "impdict = {convert_varname(entry[0]): [entry[1]] for entry in implist}\n",
    "impdict[\"discriminant\"] = \"D_WHh_ZHh_0j_ML\"\n",
    "df = df.append(pd.DataFrame.from_dict(impdict))"
   ]
  },
  {
   "cell_type": "code",
   "execution_count": 73,
   "metadata": {
    "collapsed": true
   },
   "outputs": [],
   "source": [
    "append_variables(confhandler, impdict, threshold_fscore)"
   ]
  },
  {
   "cell_type": "code",
   "execution_count": 74,
   "metadata": {
    "collapsed": false
   },
   "outputs": [
    {
     "data": {
      "text/plain": [
       "[('Z1Pt', 0.18808777429467086),\n",
       " ('Z1Mass', 0.13166144200626959),\n",
       " ('ZZPhi', 0.11285266457680251),\n",
       " ('ZZPt', 0.10658307210031348),\n",
       " ('ZZEta', 0.09717868338557993),\n",
       " ('PFMET', 0.09090909090909091),\n",
       " ('Z2Mass', 0.07836990595611286),\n",
       " ('ZZMass', 0.07210031347962383),\n",
       " ('ZZMassErr', 0.06269592476489028),\n",
       " ('Z2Pt', 0.05642633228840126),\n",
       " ('Z1Flav', 0.003134796238244514)]"
      ]
     },
     "execution_count": 74,
     "metadata": {},
     "output_type": "execute_result"
    }
   ],
   "source": [
    "implist"
   ]
  },
  {
   "cell_type": "code",
   "execution_count": 75,
   "metadata": {
    "collapsed": false,
    "scrolled": false
   },
   "outputs": [],
   "source": [
    "%%capture\n",
    "fig, implist = plot_variables([(\"VBF2j\", \"WHh2j\")])"
   ]
  },
  {
   "cell_type": "code",
   "execution_count": 76,
   "metadata": {
    "collapsed": true
   },
   "outputs": [],
   "source": [
    "impdict = {convert_varname(entry[0]): [entry[1]] for entry in implist}\n",
    "impdict[\"discriminant\"] = \"D_VBF_WHh_2j_ML\"\n",
    "df = df.append(pd.DataFrame.from_dict(impdict))"
   ]
  },
  {
   "cell_type": "code",
   "execution_count": 77,
   "metadata": {
    "collapsed": true
   },
   "outputs": [],
   "source": [
    "append_variables(confhandler, impdict, threshold_fscore)"
   ]
  },
  {
   "cell_type": "code",
   "execution_count": 78,
   "metadata": {
    "collapsed": false
   },
   "outputs": [
    {
     "data": {
      "text/plain": [
       "[('JetEta(JetPt|2)', 0.09120774617446183),\n",
       " ('D_VBF2j_ggH_ME', 0.09055934987464338),\n",
       " ('D_WHh_ggH_ME', 0.05891761044350307),\n",
       " ('JetEta(JetPt|0)', 0.05718855364398721),\n",
       " ('JetPt(JetPt|2)', 0.05329817584507651),\n",
       " ('JetPt(JetPt|0)', 0.04569032592720671),\n",
       " ('JetEta(JetPt|1)', 0.04530128814731564),\n",
       " ('D_WHh_ZHh_ME', 0.041281231088441256),\n",
       " ('ZZEta', 0.040287023428719634),\n",
       " ('ZZPt', 0.03635341920982104),\n",
       " ('PFMET', 0.033889513270510936),\n",
       " ('JetPt(JetPt|1)', 0.029437192011757585),\n",
       " ('Z2Mass', 0.029221059911818104),\n",
       " ('ZZPhi', 0.027621682372265928),\n",
       " ('ZZMass', 0.027578455952278032),\n",
       " ('Z2Pt', 0.02658424829255641),\n",
       " ('Z1Mass', 0.02619521051266534),\n",
       " ('D_VBF2j_ZHh_ME', 0.02559004063283479),\n",
       " ('D_VBF2j_WHh_ME', 0.02481196507305265),\n",
       " ('JetPhi(JetPt|0)', 0.023731304573355233),\n",
       " ('JetPhi(JetPt|1)', 0.023731304573355233),\n",
       " ('Z1Pt', 0.023385493213452062),\n",
       " ('D_ZHh_ggH_ME', 0.02126739863404513),\n",
       " ('ZZMassErr', 0.02100804011411775),\n",
       " ('JetPhi(JetPt|2)', 0.017895737874989194),\n",
       " ('JetPt(JetPt|3)', 0.017074435895219158),\n",
       " ('JetEta(JetPt|3)', 0.013962133656090602),\n",
       " ('JetPhi(JetPt|3)', 0.009942076597216219),\n",
       " ('nCleanedJetsPt30', 0.009207227457421977),\n",
       " ('nCleanedJetsPt30BTagged_bTagSF', 0.004020057058874384),\n",
       " ('Z2Flav', 0.0019019624794674504),\n",
       " ('ExtraLepPt(ExtraLepPt|0)', 0.001080660499697415),\n",
       " ('Z1Flav', 0.0007780755597821389)]"
      ]
     },
     "execution_count": 78,
     "metadata": {},
     "output_type": "execute_result"
    }
   ],
   "source": [
    "implist"
   ]
  },
  {
   "cell_type": "code",
   "execution_count": 79,
   "metadata": {
    "collapsed": false,
    "scrolled": false
   },
   "outputs": [],
   "source": [
    "%%capture\n",
    "fig, implist = plot_variables([(\"VBF1j\", \"WHh1j\")])"
   ]
  },
  {
   "cell_type": "code",
   "execution_count": 80,
   "metadata": {
    "collapsed": true
   },
   "outputs": [],
   "source": [
    "impdict = {convert_varname(entry[0]): [entry[1]] for entry in implist}\n",
    "impdict[\"discriminant\"] = \"D_VBF_WHh_1j_ML\"\n",
    "df = df.append(pd.DataFrame.from_dict(impdict))"
   ]
  },
  {
   "cell_type": "code",
   "execution_count": 81,
   "metadata": {
    "collapsed": true
   },
   "outputs": [],
   "source": [
    "append_variables(confhandler, impdict, threshold_fscore)"
   ]
  },
  {
   "cell_type": "code",
   "execution_count": 82,
   "metadata": {
    "collapsed": false
   },
   "outputs": [
    {
     "data": {
      "text/plain": [
       "[('JetEta(JetPt|0)', 0.16489028213166143),\n",
       " ('ZZEta', 0.13941065830721003),\n",
       " ('JetPt(JetPt|0)', 0.11147335423197492),\n",
       " ('PFMET', 0.06507836990595611),\n",
       " ('D_VBF1j_ggH_ME', 0.0644012539184953),\n",
       " ('ZZPt', 0.06036363636363636),\n",
       " ('JetPhi(JetPt|0)', 0.05399373040752351),\n",
       " ('Z1Pt', 0.05078369905956113),\n",
       " ('Z2Mass', 0.0500564263322884),\n",
       " ('Z2Pt', 0.049579937304075235),\n",
       " ('ZZMassErr', 0.04922884012539185),\n",
       " ('ZZPhi', 0.04714733542319749),\n",
       " ('ZZMass', 0.045141065830721),\n",
       " ('Z1Mass', 0.0404012539184953),\n",
       " ('nCleanedJetsPt30BTagged_bTagSF', 0.002909090909090909),\n",
       " ('Z2Flav', 0.002608150470219436),\n",
       " ('Z1Flav', 0.0022570532915360503),\n",
       " ('ExtraLepPt(ExtraLepPt|0)', 0.00027586206896551725)]"
      ]
     },
     "execution_count": 82,
     "metadata": {},
     "output_type": "execute_result"
    }
   ],
   "source": [
    "implist"
   ]
  },
  {
   "cell_type": "code",
   "execution_count": 83,
   "metadata": {
    "collapsed": false,
    "scrolled": false
   },
   "outputs": [],
   "source": [
    "%%capture\n",
    "fig, implist = plot_variables([(\"VBF0j\", \"WHh0j\")])"
   ]
  },
  {
   "cell_type": "code",
   "execution_count": 84,
   "metadata": {
    "collapsed": true
   },
   "outputs": [],
   "source": [
    "impdict = {convert_varname(entry[0]): [entry[1]] for entry in implist}\n",
    "impdict[\"discriminant\"] = \"D_VBF_WHh_0j_ML\"\n",
    "df = df.append(pd.DataFrame.from_dict(impdict))"
   ]
  },
  {
   "cell_type": "code",
   "execution_count": 85,
   "metadata": {
    "collapsed": true
   },
   "outputs": [],
   "source": [
    "append_variables(confhandler, impdict, threshold_fscore)"
   ]
  },
  {
   "cell_type": "code",
   "execution_count": 86,
   "metadata": {
    "collapsed": false
   },
   "outputs": [
    {
     "data": {
      "text/plain": [
       "[('ZZEta', 0.12379713914174252),\n",
       " ('PFMET', 0.11469440832249675),\n",
       " ('ZZMassErr', 0.1081924577373212),\n",
       " ('Z2Pt', 0.10143042912873862),\n",
       " ('ZZMass', 0.10091027308192457),\n",
       " ('Z1Pt', 0.10013003901170352),\n",
       " ('Z1Mass', 0.08816644993498049),\n",
       " ('ZZPhi', 0.0858257477243173),\n",
       " ('Z2Mass', 0.0858257477243173),\n",
       " ('ZZPt', 0.07906371911573472),\n",
       " ('Z1Flav', 0.007542262678803641),\n",
       " ('Z2Flav', 0.0033810143042912874),\n",
       " ('ExtraLepPt(ExtraLepPt|0)', 0.0010403120936280884)]"
      ]
     },
     "execution_count": 86,
     "metadata": {},
     "output_type": "execute_result"
    }
   ],
   "source": [
    "implist"
   ]
  },
  {
   "cell_type": "code",
   "execution_count": 87,
   "metadata": {
    "collapsed": false,
    "scrolled": false
   },
   "outputs": [],
   "source": [
    "%%capture\n",
    "fig, implist = plot_variables([(\"VBF2j\", \"ZHh2j\")])"
   ]
  },
  {
   "cell_type": "code",
   "execution_count": 88,
   "metadata": {
    "collapsed": true
   },
   "outputs": [],
   "source": [
    "impdict = {convert_varname(entry[0]): [entry[1]] for entry in implist}\n",
    "impdict[\"discriminant\"] = \"D_VBF_ZHh_2j_ML\"\n",
    "df = df.append(pd.DataFrame.from_dict(impdict))"
   ]
  },
  {
   "cell_type": "code",
   "execution_count": 89,
   "metadata": {
    "collapsed": true
   },
   "outputs": [],
   "source": [
    "append_variables(confhandler, impdict, threshold_fscore)"
   ]
  },
  {
   "cell_type": "code",
   "execution_count": 90,
   "metadata": {
    "collapsed": false
   },
   "outputs": [
    {
     "data": {
      "text/plain": [
       "[('JetEta(JetPt|2)', 0.07289013065987344),\n",
       " ('D_VBF2j_ggH_ME', 0.06954830580436629),\n",
       " ('JetEta(JetPt|0)', 0.05311310159695401),\n",
       " ('ZZEta', 0.05108609307803983),\n",
       " ('JetEta(JetPt|1)', 0.04495028350727258),\n",
       " ('D_VBF2j_WHh_ME', 0.04295066699537075),\n",
       " ('PFMET', 0.04062234639932068),\n",
       " ('JetPt(JetPt|2)', 0.04015668228011066),\n",
       " ('D_ZHh_ggH_ME', 0.03810228175418413),\n",
       " ('nCleanedJetsPt30BTagged_bTagSF', 0.03640397731941819),\n",
       " ('JetPt(JetPt|0)', 0.035034376968800504),\n",
       " ('JetPhi(JetPt|1)', 0.034815240912701675),\n",
       " ('Z2Mass', 0.033966088695318704),\n",
       " ('Z1Pt', 0.03385652066726929),\n",
       " ('D_WHh_ggH_ME', 0.03240474429561454),\n",
       " ('ZZMassErr', 0.03202125619744159),\n",
       " ('JetPt(JetPt|1)', 0.03133645602213274),\n",
       " ('ZZMass', 0.030706439860848603),\n",
       " ('D_WHh_ZHh_ME', 0.029473799545292684),\n",
       " ('JetPhi(JetPt|0)', 0.029282055496206206),\n",
       " ('Z1Mass', 0.02720026296326732),\n",
       " ('ZZPt', 0.027035910921193194),\n",
       " ('ZZPhi', 0.026104582682773166),\n",
       " ('JetPhi(JetPt|2)', 0.024351494233982526),\n",
       " ('D_VBF2j_ZHh_ME', 0.023118853918426604),\n",
       " ('Z2Pt', 0.021968389623907743),\n",
       " ('JetPhi(JetPt|3)', 0.012326403155559208),\n",
       " ('JetPt(JetPt|3)', 0.010765058755855041),\n",
       " ('JetEta(JetPt|3)', 0.009148930342126167),\n",
       " ('nCleanedJetsPt30', 0.0024926726381241954),\n",
       " ('Z1Flav', 0.0016709124277535816),\n",
       " ('Z2Flav', 0.001095680280494152)]"
      ]
     },
     "execution_count": 90,
     "metadata": {},
     "output_type": "execute_result"
    }
   ],
   "source": [
    "implist"
   ]
  },
  {
   "cell_type": "code",
   "execution_count": 91,
   "metadata": {
    "collapsed": false,
    "scrolled": false
   },
   "outputs": [],
   "source": [
    "%%capture\n",
    "fig, implist = plot_variables([(\"VBF1j\", \"ZHh1j\")])"
   ]
  },
  {
   "cell_type": "code",
   "execution_count": 92,
   "metadata": {
    "collapsed": true
   },
   "outputs": [],
   "source": [
    "impdict = {convert_varname(entry[0]): [entry[1]] for entry in implist}\n",
    "impdict[\"discriminant\"] = \"D_VBF_ZHh_1j_ML\"\n",
    "df = df.append(pd.DataFrame.from_dict(impdict))"
   ]
  },
  {
   "cell_type": "code",
   "execution_count": 93,
   "metadata": {
    "collapsed": true
   },
   "outputs": [],
   "source": [
    "append_variables(confhandler, impdict, threshold_fscore)"
   ]
  },
  {
   "cell_type": "code",
   "execution_count": 94,
   "metadata": {
    "collapsed": false
   },
   "outputs": [
    {
     "data": {
      "text/plain": [
       "[('JetEta(JetPt|0)', 0.16268454461165394),\n",
       " ('ZZEta', 0.14959703302189573),\n",
       " ('JetPt(JetPt|0)', 0.09799586334783539),\n",
       " ('PFMET', 0.07652806504528921),\n",
       " ('D_VBF1j_ggH_ME', 0.06162185293488339),\n",
       " ('Z2Mass', 0.05666500249625562),\n",
       " ('ZZPt', 0.05249268953712289),\n",
       " ('Z1Mass', 0.05152984808501533),\n",
       " ('ZZMassErr', 0.05070964981099779),\n",
       " ('Z2Pt', 0.04867698452321518),\n",
       " ('ZZMass', 0.045503173810712505),\n",
       " ('ZZPhi', 0.04154482561871479),\n",
       " ('JetPhi(JetPt|0)', 0.0400114114542472),\n",
       " ('Z1Pt', 0.036302688823907),\n",
       " ('nCleanedJetsPt30BTagged_bTagSF', 0.019007203480493545),\n",
       " ('Z2Flav', 0.006204978246915341),\n",
       " ('Z1Flav', 0.0013907709863775766),\n",
       " ('ExtraLepPhi(ExtraLepPt|0)', 0.0008201982740175452),\n",
       " ('nExtraLep', 0.0004992511233150275),\n",
       " ('ExtraLepPt(ExtraLepPt|0)', 0.00021396476713501176)]"
      ]
     },
     "execution_count": 94,
     "metadata": {},
     "output_type": "execute_result"
    }
   ],
   "source": [
    "implist"
   ]
  },
  {
   "cell_type": "code",
   "execution_count": 95,
   "metadata": {
    "collapsed": false,
    "scrolled": false
   },
   "outputs": [],
   "source": [
    "%%capture\n",
    "fig, implist = plot_variables([(\"VBF0j\", \"ZHh0j\")])"
   ]
  },
  {
   "cell_type": "code",
   "execution_count": 96,
   "metadata": {
    "collapsed": true
   },
   "outputs": [],
   "source": [
    "impdict = {convert_varname(entry[0]): [entry[1]] for entry in implist}\n",
    "impdict[\"discriminant\"] = \"D_VBF_ZHh_0j_ML\"\n",
    "df = df.append(pd.DataFrame.from_dict(impdict))"
   ]
  },
  {
   "cell_type": "code",
   "execution_count": 97,
   "metadata": {
    "collapsed": true
   },
   "outputs": [],
   "source": [
    "append_variables(confhandler, impdict, threshold_fscore)"
   ]
  },
  {
   "cell_type": "code",
   "execution_count": 98,
   "metadata": {
    "collapsed": false
   },
   "outputs": [
    {
     "data": {
      "text/plain": [
       "[('PFMET', 0.14429530201342283),\n",
       " ('Z1Mass', 0.1319910514541387),\n",
       " ('ZZPhi', 0.12639821029082773),\n",
       " ('ZZMass', 0.11073825503355705),\n",
       " ('Z2Pt', 0.1029082774049217),\n",
       " ('ZZEta', 0.08501118568232663),\n",
       " ('Z1Pt', 0.07606263982102908),\n",
       " ('ZZPt', 0.06599552572706935),\n",
       " ('ZZMassErr', 0.06487695749440715),\n",
       " ('Z2Mass', 0.06263982102908278),\n",
       " ('Z2Flav', 0.013422818791946308),\n",
       " ('ExtraLepPt(ExtraLepPt|0)', 0.011185682326621925),\n",
       " ('ExtraLepEta(ExtraLepPt|0)', 0.0044742729306487695)]"
      ]
     },
     "execution_count": 98,
     "metadata": {},
     "output_type": "execute_result"
    }
   ],
   "source": [
    "implist"
   ]
  },
  {
   "cell_type": "code",
   "execution_count": 99,
   "metadata": {
    "collapsed": false,
    "scrolled": false
   },
   "outputs": [],
   "source": [
    "%%capture\n",
    "fig, implist = plot_variables([(\"WHl\", \"ggH\")])"
   ]
  },
  {
   "cell_type": "code",
   "execution_count": 100,
   "metadata": {
    "collapsed": true
   },
   "outputs": [],
   "source": [
    "impdict = {convert_varname(entry[0]): [entry[1]] for entry in implist}\n",
    "impdict[\"discriminant\"] = \"D_WHl_ggH_ML\"\n",
    "df = df.append(pd.DataFrame.from_dict(impdict))"
   ]
  },
  {
   "cell_type": "code",
   "execution_count": 101,
   "metadata": {
    "collapsed": true
   },
   "outputs": [],
   "source": [
    "append_variables(confhandler, impdict, threshold_fscore)"
   ]
  },
  {
   "cell_type": "code",
   "execution_count": 102,
   "metadata": {
    "collapsed": false
   },
   "outputs": [
    {
     "data": {
      "text/plain": [
       "[('PFMET', 0.1500443626565016),\n",
       " ('ZZPt', 0.12648286287009958),\n",
       " ('JetPt(JetPt|0)', 0.0884624231868818),\n",
       " ('ZZEta', 0.06582103775754987),\n",
       " ('Z1Pt', 0.06145049456146692),\n",
       " ('ZZPhi', 0.05783575958726299),\n",
       " ('JetEta(JetPt|0)', 0.05425388584009727),\n",
       " ('ZZMassErr', 0.05313660412079787),\n",
       " ('Z1Mass', 0.04804311392987414),\n",
       " ('ZZMass', 0.04663008116723078),\n",
       " ('Z2Mass', 0.043902599323058726),\n",
       " ('Z2Pt', 0.040879366435542706),\n",
       " ('JetPhi(JetPt|0)', 0.03874338667805856),\n",
       " ('ExtraLepPt(ExtraLepPt|0)', 0.035391541520160365),\n",
       " ('JetEta(JetPt|1)', 0.015313331799809406),\n",
       " ('ExtraLepEta(ExtraLepPt|0)', 0.013243074496401696),\n",
       " ('JetPt(JetPt|1)', 0.011205678420032204),\n",
       " ('JetPhi(JetPt|1)', 0.010219841608885677),\n",
       " ('ExtraLepPhi(ExtraLepPt|0)', 0.006079327002070257),\n",
       " ('JetEta(JetPt|3)', 0.005947882093917387),\n",
       " ('nCleanedJetsPt30', 0.005257796326114817),\n",
       " ('nCleanedJetsPt30BTagged_bTagSF', 0.004797739147579771),\n",
       " ('JetPhi(JetPt|2)', 0.003910486017547895),\n",
       " ('Z2Flav', 0.003187539022707108),\n",
       " ('nExtraLep', 0.0025303144819427558),\n",
       " ('Z1Flav', 0.002234563438598797),\n",
       " ('JetPt(JetPt|3)', 0.001675922578949098),\n",
       " ('JetEta(JetPt|2)', 0.0016102001248726628),\n",
       " ('JetPt(JetPt|2)', 0.0012815878544904867),\n",
       " ('JetPhi(JetPt|3)', 0.00042719595149682887)]"
      ]
     },
     "execution_count": 102,
     "metadata": {},
     "output_type": "execute_result"
    }
   ],
   "source": [
    "implist"
   ]
  },
  {
   "cell_type": "code",
   "execution_count": 103,
   "metadata": {
    "collapsed": false,
    "scrolled": false
   },
   "outputs": [],
   "source": [
    "%%capture\n",
    "fig, implist = plot_variables([(\"WHl\", \"VBF\")])"
   ]
  },
  {
   "cell_type": "code",
   "execution_count": 104,
   "metadata": {
    "collapsed": true
   },
   "outputs": [],
   "source": [
    "impdict = {convert_varname(entry[0]): [entry[1]] for entry in implist}\n",
    "impdict[\"discriminant\"] = \"D_WHl_VBF_ML\"\n",
    "df = df.append(pd.DataFrame.from_dict(impdict))"
   ]
  },
  {
   "cell_type": "code",
   "execution_count": 105,
   "metadata": {
    "collapsed": true
   },
   "outputs": [],
   "source": [
    "append_variables(confhandler, impdict, threshold_fscore)"
   ]
  },
  {
   "cell_type": "code",
   "execution_count": 106,
   "metadata": {
    "collapsed": false
   },
   "outputs": [
    {
     "data": {
      "text/plain": [
       "[('JetEta(JetPt|0)', 0.13490456521152236),\n",
       " ('PFMET', 0.12750735671283173),\n",
       " ('ZZEta', 0.08072136281417888),\n",
       " ('JetEta(JetPt|1)', 0.07270322075537917),\n",
       " ('JetPt(JetPt|0)', 0.06768175805188845),\n",
       " ('ZZPt', 0.05167247104559812),\n",
       " ('ExtraLepEta(ExtraLepPt|0)', 0.04840582057719824),\n",
       " ('ZZMassErr', 0.045004184552252906),\n",
       " ('ZZPhi', 0.04087362652196215),\n",
       " ('Z2Pt', 0.04027969007316217),\n",
       " ('JetPhi(JetPt|0)', 0.03790394427796226),\n",
       " ('Z1Pt', 0.03722901649523501),\n",
       " ('ExtraLepPt(ExtraLepPt|0)', 0.03712102804999865),\n",
       " ('ZZMass', 0.03218055668043519),\n",
       " ('Z2Mass', 0.0294808455495262),\n",
       " ('Z1Mass', 0.029291865770362573),\n",
       " ('JetPhi(JetPt|1)', 0.0219756486055992),\n",
       " ('JetPt(JetPt|1)', 0.019437920142544748),\n",
       " ('JetEta(JetPt|2)', 0.011797737642072299),\n",
       " ('ExtraLepPhi(ExtraLepPt|0)', 0.009556977403417835),\n",
       " ('JetPhi(JetPt|2)', 0.005885370265381604),\n",
       " ('nCleanedJetsPt30', 0.004940471369563456),\n",
       " ('JetPt(JetPt|3)', 0.00399557247374531),\n",
       " ('JetEta(JetPt|3)', 0.002159768904727194),\n",
       " ('JetPt(JetPt|2)', 0.001997786236872655),\n",
       " ('nCleanedJetsPt30BTagged_bTagSF', 0.0017008180124726655),\n",
       " ('Z2Flav', 0.0016198266785453956),\n",
       " ('JetPhi(JetPt|3)', 0.0013498555654544964),\n",
       " ('Z1Flav', 0.0006209335601090683)]"
      ]
     },
     "execution_count": 106,
     "metadata": {},
     "output_type": "execute_result"
    }
   ],
   "source": [
    "implist"
   ]
  },
  {
   "cell_type": "code",
   "execution_count": 107,
   "metadata": {
    "collapsed": false,
    "scrolled": false
   },
   "outputs": [],
   "source": [
    "%%capture\n",
    "fig, implist = plot_variables([(\"WHl\", \"WHh\")])"
   ]
  },
  {
   "cell_type": "code",
   "execution_count": 108,
   "metadata": {
    "collapsed": true
   },
   "outputs": [],
   "source": [
    "impdict = {convert_varname(entry[0]): [entry[1]] for entry in implist}\n",
    "impdict[\"discriminant\"] = \"D_WHl_WHh_ML\"\n",
    "df = df.append(pd.DataFrame.from_dict(impdict))"
   ]
  },
  {
   "cell_type": "code",
   "execution_count": 109,
   "metadata": {
    "collapsed": true
   },
   "outputs": [],
   "source": [
    "append_variables(confhandler, impdict, threshold_fscore)"
   ]
  },
  {
   "cell_type": "code",
   "execution_count": 110,
   "metadata": {
    "collapsed": false
   },
   "outputs": [
    {
     "data": {
      "text/plain": [
       "[('PFMET', 0.15051472133017196),\n",
       " ('JetPt(JetPt|0)', 0.075452444551157),\n",
       " ('JetEta(JetPt|0)', 0.07509228968456436),\n",
       " ('ZZPt', 0.07074041837990336),\n",
       " ('Z2Mass', 0.0534229718779075),\n",
       " ('ExtraLepPt(ExtraLepPt|0)', 0.052132416939283895),\n",
       " ('ZZPhi', 0.05117200396170353),\n",
       " ('ZZMass', 0.05075182328401213),\n",
       " ('ZZMassErr', 0.04988144902307992),\n",
       " ('ZZEta', 0.04868093280110448),\n",
       " ('Z1Pt', 0.04808067469011675),\n",
       " ('Z1Mass', 0.03865662234760947),\n",
       " ('JetPhi(JetPt|0)', 0.03607551247036225),\n",
       " ('JetPt(JetPt|1)', 0.03577538341486839),\n",
       " ('JetEta(JetPt|1)', 0.035445241453825146),\n",
       " ('Z2Pt', 0.034664905909541105),\n",
       " ('ExtraLepEta(ExtraLepPt|0)', 0.021879408145502568),\n",
       " ('JetPhi(JetPt|1)', 0.021639304901107475),\n",
       " ('ExtraLepPhi(ExtraLepPt|0)', 0.010954710525525976),\n",
       " ('JetPt(JetPt|2)', 0.007863381253939193),\n",
       " ('JetPhi(JetPt|2)', 0.007053032804105765),\n",
       " ('JetEta(JetPt|2)', 0.005432335904438909),\n",
       " ('nCleanedJetsPt30', 0.004171793871364687),\n",
       " ('JetPt(JetPt|3)', 0.0033314325159818723),\n",
       " ('Z1Flav', 0.002941264743839851),\n",
       " ('JetPhi(JetPt|3)', 0.002941264743839851),\n",
       " ('JetEta(JetPt|3)', 0.002160929199555809),\n",
       " ('nCleanedJetsPt30BTagged_bTagSF', 0.0012005162219754495),\n",
       " ('nExtraLep', 0.0009604129775803596),\n",
       " ('Z2Flav', 0.0009304000720309734)]"
      ]
     },
     "execution_count": 110,
     "metadata": {},
     "output_type": "execute_result"
    }
   ],
   "source": [
    "implist"
   ]
  },
  {
   "cell_type": "code",
   "execution_count": 111,
   "metadata": {
    "collapsed": false,
    "scrolled": false
   },
   "outputs": [],
   "source": [
    "%%capture\n",
    "fig, implist = plot_variables([(\"WHl\", \"ZHh\")])"
   ]
  },
  {
   "cell_type": "code",
   "execution_count": 112,
   "metadata": {
    "collapsed": true
   },
   "outputs": [],
   "source": [
    "impdict = {convert_varname(entry[0]): [entry[1]] for entry in implist}\n",
    "impdict[\"discriminant\"] = \"D_WHl_ZHh_ML\"\n",
    "df = df.append(pd.DataFrame.from_dict(impdict))"
   ]
  },
  {
   "cell_type": "code",
   "execution_count": 113,
   "metadata": {
    "collapsed": true
   },
   "outputs": [],
   "source": [
    "append_variables(confhandler, impdict, threshold_fscore)"
   ]
  },
  {
   "cell_type": "code",
   "execution_count": 114,
   "metadata": {
    "collapsed": false
   },
   "outputs": [
    {
     "data": {
      "text/plain": [
       "[('PFMET', 0.2012478336221837),\n",
       " ('nCleanedJetsPt30BTagged_bTagSF', 0.06994800693240902),\n",
       " ('JetPhi(JetPt|0)', 0.0641941074523397),\n",
       " ('ExtraLepPt(ExtraLepPt|0)', 0.06232235701906413),\n",
       " ('JetPt(JetPt|0)', 0.05837088388214905),\n",
       " ('JetEta(JetPt|0)', 0.05691507798960139),\n",
       " ('ZZPt', 0.046655112651646444),\n",
       " ('ZZEta', 0.0432582322357019),\n",
       " ('Z1Pt', 0.04048526863084922),\n",
       " ('ZZPhi', 0.039376083188908145),\n",
       " ('ZZMassErr', 0.03785095320623917),\n",
       " ('Z2Pt', 0.03438474870017331),\n",
       " ('Z1Mass', 0.03396880415944541),\n",
       " ('JetPt(JetPt|1)', 0.028838821490467938),\n",
       " ('ExtraLepEta(ExtraLepPt|0)', 0.02772963604852686),\n",
       " ('ZZMass', 0.026412478336221838),\n",
       " ('nCleanedJetsPt30', 0.023362218370883883),\n",
       " ('ExtraLepPhi(ExtraLepPt|0)', 0.022599653379549393),\n",
       " ('Z2Mass', 0.021074523396880415),\n",
       " ('nExtraLep', 0.019965337954939343),\n",
       " ('JetEta(JetPt|1)', 0.019480069324090122),\n",
       " ('JetEta(JetPt|2)', 0.006793760831889081),\n",
       " ('JetPhi(JetPt|1)', 0.005545927209705373),\n",
       " ('JetPt(JetPt|2)', 0.0036741767764298093),\n",
       " ('JetPhi(JetPt|2)', 0.0029116117850953205),\n",
       " ('Z2Flav', 0.0009705372616984402),\n",
       " ('Z1Flav', 0.0008318890814558059),\n",
       " ('JetPt(JetPt|3)', 0.00041594454072790295),\n",
       " ('JetEta(JetPt|3)', 0.0003466204506065858),\n",
       " ('JetPhi(JetPt|3)', 6.932409012131716e-05)]"
      ]
     },
     "execution_count": 114,
     "metadata": {},
     "output_type": "execute_result"
    }
   ],
   "source": [
    "implist"
   ]
  },
  {
   "cell_type": "code",
   "execution_count": 115,
   "metadata": {
    "collapsed": false,
    "scrolled": false
   },
   "outputs": [],
   "source": [
    "%%capture\n",
    "fig, implist = plot_variables([(\"WHl\", \"ZHl\")])"
   ]
  },
  {
   "cell_type": "code",
   "execution_count": 116,
   "metadata": {
    "collapsed": true
   },
   "outputs": [],
   "source": [
    "impdict = {convert_varname(entry[0]): [entry[1]] for entry in implist}\n",
    "impdict[\"discriminant\"] = \"D_WHl_ZHl_ML\"\n",
    "df = df.append(pd.DataFrame.from_dict(impdict))"
   ]
  },
  {
   "cell_type": "code",
   "execution_count": 117,
   "metadata": {
    "collapsed": true
   },
   "outputs": [],
   "source": [
    "append_variables(confhandler, impdict, threshold_fscore)"
   ]
  },
  {
   "cell_type": "code",
   "execution_count": 118,
   "metadata": {
    "collapsed": false
   },
   "outputs": [
    {
     "data": {
      "text/plain": [
       "[('PFMET', 0.09852266424645792),\n",
       " ('ZZMass', 0.09282508949730248),\n",
       " ('Z2Mass', 0.08400141178843341),\n",
       " ('Z2Pt', 0.07603489134271164),\n",
       " ('Z1Mass', 0.06887510714465789),\n",
       " ('ZZMassErr', 0.05828669389401502),\n",
       " ('JetPt(JetPt|0)', 0.05697574749155448),\n",
       " ('ExtraLepPt(ExtraLepPt|0)', 0.053900065547320124),\n",
       " ('ZZPhi', 0.04593354510159835),\n",
       " ('ExtraLepEta(ExtraLepPt|0)', 0.045832703070639844),\n",
       " ('ZZPt', 0.04386628346694903),\n",
       " ('JetEta(JetPt|0)', 0.03766449856300106),\n",
       " ('ZZEta', 0.033882922402057175),\n",
       " ('Z1Pt', 0.03277366006151364),\n",
       " ('JetPhi(JetPt|0)', 0.028034084606463974),\n",
       " ('ExtraLepPhi(ExtraLepPt|0)', 0.027479453436192205),\n",
       " ('JetPhi(JetPt|1)', 0.017697776433217367),\n",
       " ('JetPt(JetPt|1)', 0.01613472495336056),\n",
       " ('JetEta(JetPt|1)', 0.014369989411586749),\n",
       " ('nExtraZ', 0.013311148086522463),\n",
       " ('nExtraLep', 0.013059043009126204),\n",
       " ('ExtraLepEta(ExtraLepPt|1)', 0.009630413956537085),\n",
       " ('nCleanedJetsPt30BTagged_bTagSF', 0.006453889981344225),\n",
       " ('JetEta(JetPt|2)', 0.005042101547925175),\n",
       " ('Z2Flav', 0.003983260222860888),\n",
       " ('JetPt(JetPt|2)', 0.003428629052589119),\n",
       " ('ExtraLepPt(ExtraLepPt|1)', 0.0033277870216306157),\n",
       " ('nCleanedJetsPt30', 0.0031765239751928606),\n",
       " ('JetPhi(JetPt|2)', 0.0023193667120455807),\n",
       " ('Z1Flav', 0.0013109464024605455),\n",
       " ('JetEta(JetPt|3)', 0.0008067362476680281),\n",
       " ('ExtraLepPhi(ExtraLepPt|1)', 0.0006554732012302727),\n",
       " ('JetPhi(JetPt|3)', 0.00040336812383401404)]"
      ]
     },
     "execution_count": 118,
     "metadata": {},
     "output_type": "execute_result"
    }
   ],
   "source": [
    "implist"
   ]
  },
  {
   "cell_type": "code",
   "execution_count": 119,
   "metadata": {
    "collapsed": false,
    "scrolled": false
   },
   "outputs": [],
   "source": [
    "%%capture\n",
    "fig, implist = plot_variables([(\"WHl\", \"ZHMET\")])"
   ]
  },
  {
   "cell_type": "code",
   "execution_count": 120,
   "metadata": {
    "collapsed": true
   },
   "outputs": [],
   "source": [
    "impdict = {convert_varname(entry[0]): [entry[1]] for entry in implist}\n",
    "impdict[\"discriminant\"] = \"D_WHl_ZHMET_ML\"\n",
    "df = df.append(pd.DataFrame.from_dict(impdict))"
   ]
  },
  {
   "cell_type": "code",
   "execution_count": 121,
   "metadata": {
    "collapsed": true
   },
   "outputs": [],
   "source": [
    "append_variables(confhandler, impdict, threshold_fscore)"
   ]
  },
  {
   "cell_type": "code",
   "execution_count": 122,
   "metadata": {
    "collapsed": false
   },
   "outputs": [
    {
     "data": {
      "text/plain": [
       "[('PFMET', 0.13662027310924368),\n",
       " ('Z1Pt', 0.0859375),\n",
       " ('ZZPt', 0.08042279411764706),\n",
       " ('ZZMass', 0.08022584033613446),\n",
       " ('Z2Mass', 0.07293855042016807),\n",
       " ('ZZEta', 0.060267857142857144),\n",
       " ('ZZMassErr', 0.05948004201680672),\n",
       " ('JetPt(JetPt|0)', 0.058298319327731093),\n",
       " ('Z1Mass', 0.05757615546218487),\n",
       " ('ZZPhi', 0.05573792016806723),\n",
       " ('Z2Pt', 0.05219275210084034),\n",
       " ('ExtraLepPt(ExtraLepPt|0)', 0.04575892857142857),\n",
       " ('JetEta(JetPt|0)', 0.042804621848739496),\n",
       " ('JetPhi(JetPt|0)', 0.034992121848739496),\n",
       " ('JetEta(JetPt|1)', 0.011817226890756302),\n",
       " ('nExtraLep', 0.011292016806722689),\n",
       " ('JetPt(JetPt|1)', 0.010307247899159664),\n",
       " ('JetPhi(JetPt|1)', 0.010241596638655462),\n",
       " ('ExtraLepEta(ExtraLepPt|0)', 0.008797268907563025),\n",
       " ('JetPt(JetPt|2)', 0.005317752100840336),\n",
       " ('JetEta(JetPt|2)', 0.005120798319327731),\n",
       " ('Z2Flav', 0.0030199579831932774),\n",
       " ('Z1Flav', 0.0029543067226890755),\n",
       " ('nCleanedJetsPt30', 0.002297794117647059),\n",
       " ('JetPhi(JetPt|2)', 0.0019695378151260504),\n",
       " ('JetPhi(JetPt|3)', 0.0017069327731092437),\n",
       " ('nCleanedJetsPt30BTagged_bTagSF', 0.0015099789915966387),\n",
       " ('JetEta(JetPt|3)', 0.0003939075630252101)]"
      ]
     },
     "execution_count": 122,
     "metadata": {},
     "output_type": "execute_result"
    }
   ],
   "source": [
    "implist"
   ]
  },
  {
   "cell_type": "code",
   "execution_count": 123,
   "metadata": {
    "collapsed": false,
    "scrolled": false
   },
   "outputs": [],
   "source": [
    "%%capture\n",
    "fig, implist = plot_variables([(\"WHl\", \"ttHh\")])"
   ]
  },
  {
   "cell_type": "code",
   "execution_count": 124,
   "metadata": {
    "collapsed": true
   },
   "outputs": [],
   "source": [
    "impdict = {convert_varname(entry[0]): [entry[1]] for entry in implist}\n",
    "impdict[\"discriminant\"] = \"D_WHl_ttHh_ML\"\n",
    "df = df.append(pd.DataFrame.from_dict(impdict))"
   ]
  },
  {
   "cell_type": "code",
   "execution_count": 125,
   "metadata": {
    "collapsed": true
   },
   "outputs": [],
   "source": [
    "append_variables(confhandler, impdict, threshold_fscore)"
   ]
  },
  {
   "cell_type": "code",
   "execution_count": 126,
   "metadata": {
    "collapsed": false
   },
   "outputs": [
    {
     "data": {
      "text/plain": [
       "[('PFMET', 0.11465309402625234),\n",
       " ('ExtraLepPt(ExtraLepPt|0)', 0.11224216447897134),\n",
       " ('JetPt(JetPt|0)', 0.09710688454326279),\n",
       " ('nCleanedJetsPt30BTagged_bTagSF', 0.08652558264130726),\n",
       " ('JetPt(JetPt|1)', 0.05973747656040718),\n",
       " ('JetEta(JetPt|0)', 0.051968925796946154),\n",
       " ('JetEta(JetPt|1)', 0.050629520492901155),\n",
       " ('JetPt(JetPt|2)', 0.04995981784087865),\n",
       " ('JetPhi(JetPt|0)', 0.03616394320921511),\n",
       " ('ZZEta', 0.0326814894186981),\n",
       " ('JetPhi(JetPt|2)', 0.03160996517546209),\n",
       " ('ZZMass', 0.027725689793731582),\n",
       " ('nCleanedJetsPt30', 0.02638628448968658),\n",
       " ('Z1Pt', 0.025850522368068576),\n",
       " ('JetPt(JetPt|3)', 0.025180819716046077),\n",
       " ('ZZPt', 0.02317171175997857),\n",
       " ('JetPhi(JetPt|1)', 0.022368068577551567),\n",
       " ('ZZPhi', 0.018081971604607554),\n",
       " ('Z2Pt', 0.01620680417894455),\n",
       " ('Z2Mass', 0.015671042057326546),\n",
       " ('ZZMassErr', 0.01339405304045004),\n",
       " ('JetEta(JetPt|2)', 0.012724350388427539),\n",
       " ('Z1Mass', 0.010983123493169033),\n",
       " ('JetEta(JetPt|3)', 0.009777658719528529),\n",
       " ('nExtraLep', 0.008572193945888026),\n",
       " ('ExtraLepPhi(ExtraLepPt|0)', 0.006429145459416019),\n",
       " ('ExtraLepEta(ExtraLepPt|0)', 0.0057594428073935175),\n",
       " ('JetPhi(JetPt|3)', 0.004955799624966515),\n",
       " ('Z1Flav', 0.0034824537905170103)]"
      ]
     },
     "execution_count": 126,
     "metadata": {},
     "output_type": "execute_result"
    }
   ],
   "source": [
    "implist"
   ]
  },
  {
   "cell_type": "code",
   "execution_count": 127,
   "metadata": {
    "collapsed": false,
    "scrolled": false
   },
   "outputs": [],
   "source": [
    "%%capture\n",
    "fig, implist = plot_variables([(\"WHl\", \"ttHl\")])"
   ]
  },
  {
   "cell_type": "code",
   "execution_count": 128,
   "metadata": {
    "collapsed": true
   },
   "outputs": [],
   "source": [
    "impdict = {convert_varname(entry[0]): [entry[1]] for entry in implist}\n",
    "impdict[\"discriminant\"] = \"D_WHl_ttHl_ML\"\n",
    "df = df.append(pd.DataFrame.from_dict(impdict))"
   ]
  },
  {
   "cell_type": "code",
   "execution_count": 129,
   "metadata": {
    "collapsed": true
   },
   "outputs": [],
   "source": [
    "append_variables(confhandler, impdict, threshold_fscore)"
   ]
  },
  {
   "cell_type": "code",
   "execution_count": 130,
   "metadata": {
    "collapsed": false
   },
   "outputs": [
    {
     "data": {
      "text/plain": [
       "[('nCleanedJetsPt30BTagged_bTagSF', 0.12115786332438078),\n",
       " ('JetPt(JetPt|0)', 0.09176365264100268),\n",
       " ('JetPt(JetPt|1)', 0.08325872873769025),\n",
       " ('PFMET', 0.05580423754103253),\n",
       " ('ExtraLepPt(ExtraLepPt|1)', 0.052820053715308866),\n",
       " ('ZZEta', 0.051178752611160845),\n",
       " ('Z1Mass', 0.047000895255147716),\n",
       " ('JetPt(JetPt|2)', 0.04416592062071024),\n",
       " ('Z2Pt', 0.04297224709042077),\n",
       " ('ZZMass', 0.03849597135183527),\n",
       " ('ZZPt', 0.030587884213667562),\n",
       " ('ExtraLepEta(ExtraLepPt|0)', 0.028946583109519548),\n",
       " ('nExtraLep', 0.028797373918233362),\n",
       " ('JetEta(JetPt|0)', 0.027454491196657715),\n",
       " ('JetPt(JetPt|3)', 0.027156072814085348),\n",
       " ('ExtraLepPt(ExtraLepPt|0)', 0.025962399283795883),\n",
       " ('JetEta(JetPt|1)', 0.024619516562220233),\n",
       " ('JetPhi(JetPt|0)', 0.02447030737093405),\n",
       " ('nCleanedJetsPt30', 0.023873470605789315),\n",
       " ('ZZPhi', 0.019695613249776187),\n",
       " ('JetPhi(JetPt|1)', 0.015965383467621604),\n",
       " ('ZZMassErr', 0.014622500746045956),\n",
       " ('Z2Mass', 0.013279618024470308),\n",
       " ('Z1Pt', 0.011936735302894658),\n",
       " ('JetEta(JetPt|3)', 0.01014622500746046),\n",
       " ('JetEta(JetPt|2)', 0.008952551477170993),\n",
       " ('ExtraLepPhi(ExtraLepPt|0)', 0.008355714712026261),\n",
       " ('Z1Flav', 0.007609668755595345),\n",
       " ('ExtraLepEta(ExtraLepPt|1)', 0.007311250373022978),\n",
       " ('JetPhi(JetPt|2)', 0.007162041181736795),\n",
       " ('JetPhi(JetPt|3)', 0.003133393017009848),\n",
       " ('nExtraZ', 0.0010444643390032826),\n",
       " ('Z2Flav', 0.0002984183825723665)]"
      ]
     },
     "execution_count": 130,
     "metadata": {},
     "output_type": "execute_result"
    }
   ],
   "source": [
    "implist"
   ]
  },
  {
   "cell_type": "code",
   "execution_count": 131,
   "metadata": {
    "collapsed": false,
    "scrolled": false
   },
   "outputs": [],
   "source": [
    "%%capture\n",
    "fig, implist = plot_variables([(\"ZHh\", \"ZHl\")])"
   ]
  },
  {
   "cell_type": "code",
   "execution_count": 132,
   "metadata": {
    "collapsed": true
   },
   "outputs": [],
   "source": [
    "impdict = {convert_varname(entry[0]): [entry[1]] for entry in implist}\n",
    "impdict[\"discriminant\"] = \"D_ZHh_ZHl_ML\"\n",
    "df = df.append(pd.DataFrame.from_dict(impdict))"
   ]
  },
  {
   "cell_type": "code",
   "execution_count": 133,
   "metadata": {
    "collapsed": true
   },
   "outputs": [],
   "source": [
    "append_variables(confhandler, impdict, threshold_fscore)"
   ]
  },
  {
   "cell_type": "code",
   "execution_count": 134,
   "metadata": {
    "collapsed": false
   },
   "outputs": [
    {
     "data": {
      "text/plain": [
       "[('ZZMass', 0.10154661953159523),\n",
       " ('PFMET', 0.08775961113566062),\n",
       " ('Z1Mass', 0.0798497569597879),\n",
       " ('Z2Mass', 0.07370746796288113),\n",
       " ('ZZMassErr', 0.06999558108705259),\n",
       " ('Z2Pt', 0.06319045514803358),\n",
       " ('JetPt(JetPt|0)', 0.06252761820592134),\n",
       " ('JetEta(JetPt|0)', 0.05236411842686699),\n",
       " ('ZZPt', 0.05201060539107379),\n",
       " ('ZZPhi', 0.05112682280159081),\n",
       " ('JetPhi(JetPt|0)', 0.04516129032258064),\n",
       " ('Z1Pt', 0.04078656650463986),\n",
       " ('ZZEta', 0.03928413610251878),\n",
       " ('ExtraLepPt(ExtraLepPt|0)', 0.0344675209898365),\n",
       " ('JetEta(JetPt|1)', 0.0240830755634114),\n",
       " ('nCleanedJetsPt30BTagged_bTagSF', 0.020150243040212106),\n",
       " ('JetPhi(JetPt|1)', 0.019133893062306673),\n",
       " ('JetPt(JetPt|1)', 0.01802916482545294),\n",
       " ('ExtraLepEta(ExtraLepPt|0)', 0.01643835616438356),\n",
       " ('JetEta(JetPt|2)', 0.008572691117984976),\n",
       " ('nCleanedJetsPt30', 0.008440123729562527),\n",
       " ('JetPhi(JetPt|2)', 0.007423773751657092),\n",
       " ('ExtraLepPhi(ExtraLepPt|0)', 0.007335395492708794),\n",
       " ('Z2Flav', 0.007202828104286346),\n",
       " ('JetPt(JetPt|2)', 0.003181617322138754),\n",
       " ('Z1Flav', 0.0019443216968625717),\n",
       " ('JetPhi(JetPt|3)', 0.0013256738842244808),\n",
       " ('nExtraLep', 0.0010605391073795847),\n",
       " ('JetEta(JetPt|3)', 0.0010605391073795847),\n",
       " ('JetPt(JetPt|3)', 0.0008395934600088378)]"
      ]
     },
     "execution_count": 134,
     "metadata": {},
     "output_type": "execute_result"
    }
   ],
   "source": [
    "implist"
   ]
  },
  {
   "cell_type": "code",
   "execution_count": 135,
   "metadata": {
    "collapsed": false,
    "scrolled": false
   },
   "outputs": [],
   "source": [
    "%%capture\n",
    "fig, implist = plot_variables([(\"ZHh\", \"ZHMET\")])"
   ]
  },
  {
   "cell_type": "code",
   "execution_count": 136,
   "metadata": {
    "collapsed": true
   },
   "outputs": [],
   "source": [
    "impdict = {convert_varname(entry[0]): [entry[1]] for entry in implist}\n",
    "impdict[\"discriminant\"] = \"D_ZHh_ZHMET_ML\"\n",
    "df = df.append(pd.DataFrame.from_dict(impdict))"
   ]
  },
  {
   "cell_type": "code",
   "execution_count": 137,
   "metadata": {
    "collapsed": true
   },
   "outputs": [],
   "source": [
    "append_variables(confhandler, impdict, threshold_fscore)"
   ]
  },
  {
   "cell_type": "code",
   "execution_count": 138,
   "metadata": {
    "collapsed": false
   },
   "outputs": [
    {
     "data": {
      "text/plain": [
       "[('PFMET', 0.14685998208031278),\n",
       " ('ZZPt', 0.08267492058320437),\n",
       " ('JetEta(JetPt|0)', 0.0716380223181559),\n",
       " ('Z1Pt', 0.06915370204447341),\n",
       " ('ZZEta', 0.06780972550297304),\n",
       " ('Z2Pt', 0.06536613179115419),\n",
       " ('JetPt(JetPt|0)', 0.06210800684206239),\n",
       " ('ZZPhi', 0.056569194428606334),\n",
       " ('Z1Mass', 0.05314816323205995),\n",
       " ('Z2Mass', 0.04846460861774049),\n",
       " ('ZZMass', 0.046306100838967176),\n",
       " ('JetPhi(JetPt|0)', 0.03885314001791969),\n",
       " ('ZZMassErr', 0.0379164290950558),\n",
       " ('nCleanedJetsPt30BTagged_bTagSF', 0.035513561945100594),\n",
       " ('JetPt(JetPt|1)', 0.029078765170644293),\n",
       " ('JetPhi(JetPt|1)', 0.020078194998778203),\n",
       " ('JetEta(JetPt|1)', 0.018734218457277838),\n",
       " ('JetPt(JetPt|2)', 0.012462327930276126),\n",
       " ('nCleanedJetsPt30', 0.012177241997230593),\n",
       " ('JetEta(JetPt|2)', 0.008878390486275149),\n",
       " ('nExtraLep', 0.0032988515109554453),\n",
       " ('Z1Flav', 0.0032581249490917976),\n",
       " ('JetEta(JetPt|3)', 0.0029730390160462652),\n",
       " ('Z2Flav', 0.0022399609025006107),\n",
       " ('JetPhi(JetPt|2)', 0.001995601531318726),\n",
       " ('JetPhi(JetPt|3)', 0.0015883359126822514),\n",
       " ('JetPt(JetPt|3)', 0.0006923515516820071),\n",
       " ('ExtraLepPt(ExtraLepPt|0)', 0.00016290624745458987)]"
      ]
     },
     "execution_count": 138,
     "metadata": {},
     "output_type": "execute_result"
    }
   ],
   "source": [
    "implist"
   ]
  },
  {
   "cell_type": "code",
   "execution_count": 139,
   "metadata": {
    "collapsed": false,
    "scrolled": false
   },
   "outputs": [],
   "source": [
    "%%capture\n",
    "fig, implist = plot_variables([(\"ZHh\", \"ttHh\")])"
   ]
  },
  {
   "cell_type": "code",
   "execution_count": 140,
   "metadata": {
    "collapsed": true
   },
   "outputs": [],
   "source": [
    "impdict = {convert_varname(entry[0]): [entry[1]] for entry in implist}\n",
    "impdict[\"discriminant\"] = \"D_ZHh_ttHh_ML\"\n",
    "df = df.append(pd.DataFrame.from_dict(impdict))"
   ]
  },
  {
   "cell_type": "code",
   "execution_count": 141,
   "metadata": {
    "collapsed": true
   },
   "outputs": [],
   "source": [
    "append_variables(confhandler, impdict, threshold_fscore)"
   ]
  },
  {
   "cell_type": "code",
   "execution_count": 142,
   "metadata": {
    "collapsed": false
   },
   "outputs": [
    {
     "data": {
      "text/plain": [
       "[('nCleanedJetsPt30BTagged_bTagSF', 0.15102481121898598),\n",
       " ('JetPt(JetPt|1)', 0.1128371089536138),\n",
       " ('nCleanedJetsPt30', 0.08284789644012945),\n",
       " ('JetPt(JetPt|2)', 0.07529665587918015),\n",
       " ('JetPt(JetPt|0)', 0.07357065803667745),\n",
       " ('PFMET', 0.07357065803667745),\n",
       " ('ZZPt', 0.06472491909385113),\n",
       " ('JetPt(JetPt|3)', 0.05825242718446602),\n",
       " ('Z1Pt', 0.04919093851132686),\n",
       " ('JetEta(JetPt|2)', 0.03214670981661273),\n",
       " ('JetEta(JetPt|1)', 0.029557713052858686),\n",
       " ('ZZEta', 0.02740021574973031),\n",
       " ('JetPhi(JetPt|3)', 0.020280474649406688),\n",
       " ('Z2Pt', 0.020064724919093852),\n",
       " ('JetEta(JetPt|0)', 0.017259978425026967),\n",
       " ('ExtraLepPt(ExtraLepPt|0)', 0.015318230852211435),\n",
       " ('ZZPhi', 0.014670981661272923),\n",
       " ('nExtraLep', 0.013160733549083063),\n",
       " ('Z1Mass', 0.011866235167206042),\n",
       " ('ExtraLepPhi(ExtraLepPt|0)', 0.010355987055016181),\n",
       " ('Z2Mass', 0.009708737864077669),\n",
       " ('ZZMass', 0.009492988133764833),\n",
       " ('JetPhi(JetPt|1)', 0.008414239482200648),\n",
       " ('ZZMassErr', 0.00819848975188781),\n",
       " ('JetEta(JetPt|3)', 0.005177993527508091),\n",
       " ('JetPhi(JetPt|2)', 0.003236245954692557),\n",
       " ('JetPhi(JetPt|0)', 0.0023732470334412083)]"
      ]
     },
     "execution_count": 142,
     "metadata": {},
     "output_type": "execute_result"
    }
   ],
   "source": [
    "implist"
   ]
  },
  {
   "cell_type": "code",
   "execution_count": 143,
   "metadata": {
    "collapsed": false,
    "scrolled": false
   },
   "outputs": [],
   "source": [
    "%%capture\n",
    "fig, implist = plot_variables([(\"ZHh\", \"ttHl\")])"
   ]
  },
  {
   "cell_type": "code",
   "execution_count": 144,
   "metadata": {
    "collapsed": true
   },
   "outputs": [],
   "source": [
    "impdict = {convert_varname(entry[0]): [entry[1]] for entry in implist}\n",
    "impdict[\"discriminant\"] = \"D_ZHh_ttHl_ML\"\n",
    "df = df.append(pd.DataFrame.from_dict(impdict))"
   ]
  },
  {
   "cell_type": "code",
   "execution_count": 145,
   "metadata": {
    "collapsed": true
   },
   "outputs": [],
   "source": [
    "append_variables(confhandler, impdict, threshold_fscore)"
   ]
  },
  {
   "cell_type": "code",
   "execution_count": 146,
   "metadata": {
    "collapsed": false
   },
   "outputs": [
    {
     "data": {
      "text/plain": [
       "[('PFMET', 0.1920114122681883),\n",
       " ('ExtraLepPt(ExtraLepPt|0)', 0.1202567760342368),\n",
       " ('nCleanedJetsPt30', 0.05991440798858773),\n",
       " ('JetPt(JetPt|0)', 0.057203994293865905),\n",
       " ('ZZMass', 0.050784593437945794),\n",
       " ('nCleanedJetsPt30BTagged_bTagSF', 0.050356633380884454),\n",
       " ('ZZPt', 0.04893009985734665),\n",
       " ('Z1Mass', 0.038801711840228244),\n",
       " ('JetPt(JetPt|1)', 0.037089871611982884),\n",
       " ('Z1Pt', 0.03209700427960057),\n",
       " ('JetPt(JetPt|3)', 0.03195435092724679),\n",
       " ('Z2Pt', 0.029101283880171185),\n",
       " ('JetPt(JetPt|2)', 0.028530670470756064),\n",
       " ('ZZPhi', 0.02767475035663338),\n",
       " ('JetEta(JetPt|2)', 0.023395149786019972),\n",
       " ('ZZEta', 0.019543509272467903),\n",
       " ('ZZMassErr', 0.019115549215406563),\n",
       " ('JetPhi(JetPt|3)', 0.016262482168330955),\n",
       " ('JetEta(JetPt|0)', 0.016119828815977174),\n",
       " ('nExtraLep', 0.015121255349500713),\n",
       " ('Z2Mass', 0.013980028530670471),\n",
       " ('JetEta(JetPt|1)', 0.012981455064194009),\n",
       " ('JetPhi(JetPt|0)', 0.012553495007132667),\n",
       " ('JetPhi(JetPt|1)', 0.011554921540656205),\n",
       " ('JetPhi(JetPt|2)', 0.010271041369472182),\n",
       " ('ExtraLepEta(ExtraLepPt|0)', 0.010128388017118403),\n",
       " ('ExtraLepPhi(ExtraLepPt|0)', 0.008273894436519259),\n",
       " ('JetEta(JetPt|3)', 0.00470756062767475),\n",
       " ('Z1Flav', 0.0012838801711840227)]"
      ]
     },
     "execution_count": 146,
     "metadata": {},
     "output_type": "execute_result"
    }
   ],
   "source": [
    "implist"
   ]
  },
  {
   "cell_type": "code",
   "execution_count": 147,
   "metadata": {
    "collapsed": false,
    "scrolled": false
   },
   "outputs": [],
   "source": [
    "%%capture\n",
    "fig, implist = plot_variables([(\"ZHl\", \"ggH\")])"
   ]
  },
  {
   "cell_type": "code",
   "execution_count": 148,
   "metadata": {
    "collapsed": true
   },
   "outputs": [],
   "source": [
    "impdict = {convert_varname(entry[0]): [entry[1]] for entry in implist}\n",
    "impdict[\"discriminant\"] = \"D_ZHl_ggH_ML\"\n",
    "df = df.append(pd.DataFrame.from_dict(impdict))"
   ]
  },
  {
   "cell_type": "code",
   "execution_count": 149,
   "metadata": {
    "collapsed": true
   },
   "outputs": [],
   "source": [
    "append_variables(confhandler, impdict, threshold_fscore)"
   ]
  },
  {
   "cell_type": "code",
   "execution_count": 150,
   "metadata": {
    "collapsed": false
   },
   "outputs": [
    {
     "data": {
      "text/plain": [
       "[('ZZMass', 0.10157216039568981),\n",
       " ('PFMET', 0.08549726196785021),\n",
       " ('Z1Mass', 0.08284755343578873),\n",
       " ('Z1Pt', 0.07485426603073662),\n",
       " ('ZZPt', 0.07476594241300123),\n",
       " ('ZZMassErr', 0.07366189719130896),\n",
       " ('Z2Mass', 0.07216039568980745),\n",
       " ('JetEta(JetPt|0)', 0.06822999470058294),\n",
       " ('Z2Pt', 0.06452040275569687),\n",
       " ('ZZEta', 0.04447094152976506),\n",
       " ('JetPt(JetPt|0)', 0.04438261791202968),\n",
       " ('ZZPhi', 0.042042042042042045),\n",
       " ('ExtraLepPt(ExtraLepPt|0)', 0.03758169934640523),\n",
       " ('ExtraLepEta(ExtraLepPt|0)', 0.026629570747217807),\n",
       " ('JetPhi(JetPt|0)', 0.018327150680091858),\n",
       " ('JetEta(JetPt|1)', 0.017443914502738033),\n",
       " ('nCleanedJetsPt30BTagged_bTagSF', 0.016119060236707297),\n",
       " ('JetPt(JetPt|1)', 0.011393746687864335),\n",
       " ('JetPhi(JetPt|1)', 0.009583112524288995),\n",
       " ('JetEta(JetPt|2)', 0.007463345698639817),\n",
       " ('JetPt(JetPt|2)', 0.007065889418830595),\n",
       " ('Z2Flav', 0.0068450803744921395),\n",
       " ('JetPhi(JetPt|2)', 0.004813637166578343),\n",
       " ('ExtraLepPhi(ExtraLepPt|0)', 0.0027821939586645467),\n",
       " ('nCleanedJetsPt30', 0.0026938703409291644),\n",
       " ('Z1Flav', 0.0011040452216922805),\n",
       " ('JetPt(JetPt|3)', 0.0005741035152799859),\n",
       " ('JetEta(JetPt|3)', 0.0004857798975446034),\n",
       " ('JetPhi(JetPt|3)', 8.832361773538245e-05)]"
      ]
     },
     "execution_count": 150,
     "metadata": {},
     "output_type": "execute_result"
    }
   ],
   "source": [
    "implist"
   ]
  },
  {
   "cell_type": "code",
   "execution_count": 151,
   "metadata": {
    "collapsed": false,
    "scrolled": false
   },
   "outputs": [],
   "source": [
    "%%capture\n",
    "fig, implist = plot_variables([(\"ZHl\", \"VBF\")])"
   ]
  },
  {
   "cell_type": "code",
   "execution_count": 152,
   "metadata": {
    "collapsed": true
   },
   "outputs": [],
   "source": [
    "impdict = {convert_varname(entry[0]): [entry[1]] for entry in implist}\n",
    "impdict[\"discriminant\"] = \"D_ZHl_VBF_ML\"\n",
    "df = df.append(pd.DataFrame.from_dict(impdict))"
   ]
  },
  {
   "cell_type": "code",
   "execution_count": 153,
   "metadata": {
    "collapsed": true
   },
   "outputs": [],
   "source": [
    "append_variables(confhandler, impdict, threshold_fscore)"
   ]
  },
  {
   "cell_type": "code",
   "execution_count": 154,
   "metadata": {
    "collapsed": false
   },
   "outputs": [
    {
     "data": {
      "text/plain": [
       "[('JetEta(JetPt|0)', 0.1217993774475349),\n",
       " ('ZZMass', 0.08287311309703116),\n",
       " ('PFMET', 0.08213676071894768),\n",
       " ('JetEta(JetPt|1)', 0.07105800448505539),\n",
       " ('ZZEta', 0.0685811828496837),\n",
       " ('JetPt(JetPt|0)', 0.05800448505539378),\n",
       " ('Z2Mass', 0.05579542792114336),\n",
       " ('Z1Mass', 0.055126016668340196),\n",
       " ('ZZMassErr', 0.05174548984168424),\n",
       " ('Z2Pt', 0.04967031495799444),\n",
       " ('Z1Pt', 0.03849114703618168),\n",
       " ('ExtraLepEta(ExtraLepPt|0)', 0.0335375037654383),\n",
       " ('ZZPt', 0.03340362151487766),\n",
       " ('ExtraLepPt(ExtraLepPt|0)', 0.03270073969943435),\n",
       " ('JetPhi(JetPt|0)', 0.031596211132309135),\n",
       " ('ZZPhi', 0.02768015530341065),\n",
       " ('JetPhi(JetPt|1)', 0.019914984770893998),\n",
       " ('JetPt(JetPt|2)', 0.011848579174615926),\n",
       " ('JetPt(JetPt|1)', 0.01161428523613482),\n",
       " ('JetEta(JetPt|2)', 0.010877932858051343),\n",
       " ('nCleanedJetsPt30BTagged_bTagSF', 0.010509756669009607),\n",
       " ('JetPhi(JetPt|2)', 0.009405228101884393),\n",
       " ('ExtraLepPhi(ExtraLepPt|0)', 0.009204404726043445),\n",
       " ('nExtraLep', 0.007196170967633966),\n",
       " ('JetPhi(JetPt|3)', 0.0029119389496937444),\n",
       " ('Z1Flav', 0.0028784683870535866),\n",
       " ('Z2Flav', 0.0028784683870535866),\n",
       " ('nCleanedJetsPt30', 0.0026441744485724804),\n",
       " ('JetEta(JetPt|3)', 0.0024768216353716907),\n",
       " ('JetPt(JetPt|3)', 0.0014392341935267933)]"
      ]
     },
     "execution_count": 154,
     "metadata": {},
     "output_type": "execute_result"
    }
   ],
   "source": [
    "implist"
   ]
  },
  {
   "cell_type": "code",
   "execution_count": 155,
   "metadata": {
    "collapsed": false,
    "scrolled": false
   },
   "outputs": [],
   "source": [
    "%%capture\n",
    "fig, implist = plot_variables([(\"ZHl\", \"WHh\")])"
   ]
  },
  {
   "cell_type": "code",
   "execution_count": 156,
   "metadata": {
    "collapsed": true
   },
   "outputs": [],
   "source": [
    "impdict = {convert_varname(entry[0]): [entry[1]] for entry in implist}\n",
    "impdict[\"discriminant\"] = \"D_ZHl_WHh_ML\"\n",
    "df = df.append(pd.DataFrame.from_dict(impdict))"
   ]
  },
  {
   "cell_type": "code",
   "execution_count": 157,
   "metadata": {
    "collapsed": true
   },
   "outputs": [],
   "source": [
    "append_variables(confhandler, impdict, threshold_fscore)"
   ]
  },
  {
   "cell_type": "code",
   "execution_count": 158,
   "metadata": {
    "collapsed": false
   },
   "outputs": [
    {
     "data": {
      "text/plain": [
       "[('PFMET', 0.09906403079076277),\n",
       " ('ZZMass', 0.09123512946116165),\n",
       " ('Z2Mass', 0.07706438068579426),\n",
       " ('ZZMassErr', 0.07352169349195241),\n",
       " ('Z1Mass', 0.07242827151854443),\n",
       " ('JetPt(JetPt|0)', 0.06621763470958712),\n",
       " ('Z2Pt', 0.06153778866340098),\n",
       " ('ZZPt', 0.05777641707487754),\n",
       " ('JetEta(JetPt|0)', 0.05178446466060182),\n",
       " ('ExtraLepPt(ExtraLepPt|0)', 0.0489853044086774),\n",
       " ('Z1Pt', 0.047673198040587825),\n",
       " ('JetPhi(JetPt|0)', 0.04071903428971309),\n",
       " ('ZZPhi', 0.034071028691392585),\n",
       " ('ZZEta', 0.03372113365990203),\n",
       " ('JetEta(JetPt|1)', 0.02829776067179846),\n",
       " ('JetPhi(JetPt|1)', 0.02296186144156753),\n",
       " ('ExtraLepEta(ExtraLepPt|0)', 0.015745276417074877),\n",
       " ('JetPhi(JetPt|2)', 0.012071378586424073),\n",
       " ('nCleanedJetsPt30BTagged_bTagSF', 0.011371588523442968),\n",
       " ('JetPt(JetPt|1)', 0.010890482855143458),\n",
       " ('JetEta(JetPt|2)', 0.01071553533939818),\n",
       " ('nExtraLep', 0.0056420573827851645),\n",
       " ('nCleanedJetsPt30', 0.005423372988103569),\n",
       " ('ExtraLepPhi(ExtraLepPt|0)', 0.005248425472358292),\n",
       " ('Z2Flav', 0.00489853044086774),\n",
       " ('JetPt(JetPt|2)', 0.0031927921623512946),\n",
       " ('JetPhi(JetPt|3)', 0.0027991602519244225),\n",
       " ('JetEta(JetPt|3)', 0.0022743177046885936),\n",
       " ('Z1Flav', 0.0018806857942617215),\n",
       " ('JetPt(JetPt|3)', 0.0007872638208537439)]"
      ]
     },
     "execution_count": 158,
     "metadata": {},
     "output_type": "execute_result"
    }
   ],
   "source": [
    "implist"
   ]
  },
  {
   "cell_type": "code",
   "execution_count": 159,
   "metadata": {
    "collapsed": false,
    "scrolled": false
   },
   "outputs": [],
   "source": [
    "%%capture\n",
    "fig, implist = plot_variables([(\"ZHl\", \"ZHMET\")])"
   ]
  },
  {
   "cell_type": "code",
   "execution_count": 160,
   "metadata": {
    "collapsed": true
   },
   "outputs": [],
   "source": [
    "impdict = {convert_varname(entry[0]): [entry[1]] for entry in implist}\n",
    "impdict[\"discriminant\"] = \"D_ZHl_ZHMET_ML\"\n",
    "df = df.append(pd.DataFrame.from_dict(impdict))"
   ]
  },
  {
   "cell_type": "code",
   "execution_count": 161,
   "metadata": {
    "collapsed": true
   },
   "outputs": [],
   "source": [
    "append_variables(confhandler, impdict, threshold_fscore)"
   ]
  },
  {
   "cell_type": "code",
   "execution_count": 162,
   "metadata": {
    "collapsed": false
   },
   "outputs": [
    {
     "data": {
      "text/plain": [
       "[('PFMET', 0.14208163691408288),\n",
       " ('ZZMass', 0.11159828792149494),\n",
       " ('Z2Pt', 0.08529074016076835),\n",
       " ('ExtraLepPt(ExtraLepPt|0)', 0.08059296377492431),\n",
       " ('JetPt(JetPt|0)', 0.07850506315899364),\n",
       " ('Z1Mass', 0.07746111285102829),\n",
       " ('Z2Mass', 0.05773045203048335),\n",
       " ('Z1Pt', 0.05418102098340119),\n",
       " ('ZZPt', 0.050527194905522495),\n",
       " ('JetEta(JetPt|0)', 0.041236037164630965),\n",
       " ('ZZMassErr', 0.037269025994362666),\n",
       " ('ZZEta', 0.03622507568639733),\n",
       " ('ZZPhi', 0.031109719177367157),\n",
       " ('JetPt(JetPt|1)', 0.02421964714479591),\n",
       " ('JetPhi(JetPt|0)', 0.01680759995824199),\n",
       " ('nExtraLep', 0.012318613633991022),\n",
       " ('JetPhi(JetPt|1)', 0.011483453387618749),\n",
       " ('JetEta(JetPt|1)', 0.010439503079653408),\n",
       " ('ExtraLepEta(ExtraLepPt|0)', 0.009499947802484601),\n",
       " ('JetPt(JetPt|2)', 0.007934022340536591),\n",
       " ('JetPhi(JetPt|2)', 0.0057417266938093745),\n",
       " ('JetEta(JetPt|2)', 0.005324146570623238),\n",
       " ('Z2Flav', 0.004802171416640568),\n",
       " ('nCleanedJetsPt30', 0.0039670111702682954),\n",
       " ('nCleanedJetsPt30BTagged_bTagSF', 0.0019835055851341477),\n",
       " ('Z1Flav', 0.0016703204927445453)]"
      ]
     },
     "execution_count": 162,
     "metadata": {},
     "output_type": "execute_result"
    }
   ],
   "source": [
    "implist"
   ]
  },
  {
   "cell_type": "code",
   "execution_count": 163,
   "metadata": {
    "collapsed": false,
    "scrolled": false
   },
   "outputs": [],
   "source": [
    "%%capture\n",
    "fig, implist = plot_variables([(\"ZHl\", \"ttHh\")])"
   ]
  },
  {
   "cell_type": "code",
   "execution_count": 164,
   "metadata": {
    "collapsed": true
   },
   "outputs": [],
   "source": [
    "impdict = {convert_varname(entry[0]): [entry[1]] for entry in implist}\n",
    "impdict[\"discriminant\"] = \"D_ZHl_ttHh_ML\"\n",
    "df = df.append(pd.DataFrame.from_dict(impdict))"
   ]
  },
  {
   "cell_type": "code",
   "execution_count": 165,
   "metadata": {
    "collapsed": true
   },
   "outputs": [],
   "source": [
    "append_variables(confhandler, impdict, threshold_fscore)"
   ]
  },
  {
   "cell_type": "code",
   "execution_count": 166,
   "metadata": {
    "collapsed": false
   },
   "outputs": [
    {
     "data": {
      "text/plain": [
       "[('JetPt(JetPt|0)', 0.12239583333333333),\n",
       " ('nCleanedJetsPt30BTagged_bTagSF', 0.0967548076923077),\n",
       " ('ZZMass', 0.09455128205128205),\n",
       " ('JetPt(JetPt|1)', 0.08493589743589744),\n",
       " ('ExtraLepPt(ExtraLepPt|0)', 0.08273237179487179),\n",
       " ('Z2Pt', 0.06290064102564102),\n",
       " ('JetPhi(JetPt|2)', 0.055288461538461536),\n",
       " ('Z2Mass', 0.05348557692307692),\n",
       " ('nCleanedJetsPt30', 0.04827724358974359),\n",
       " ('JetEta(JetPt|1)', 0.04046474358974359),\n",
       " ('JetPt(JetPt|2)', 0.03886217948717949),\n",
       " ('Z1Mass', 0.037459935897435896),\n",
       " ('PFMET', 0.029246794871794872),\n",
       " ('JetEta(JetPt|0)', 0.027844551282051284),\n",
       " ('JetPt(JetPt|3)', 0.021834935897435896),\n",
       " ('nExtraLep', 0.015625),\n",
       " ('ZZPt', 0.013421474358974358),\n",
       " ('JetPhi(JetPt|3)', 0.013221153846153846),\n",
       " ('ZZMassErr', 0.01201923076923077),\n",
       " ('ExtraLepEta(ExtraLepPt|0)', 0.00921474358974359),\n",
       " ('ExtraLepPhi(ExtraLepPt|0)', 0.007011217948717949),\n",
       " ('ExtraLepPt(ExtraLepPt|1)', 0.006209935897435897),\n",
       " ('JetPhi(JetPt|0)', 0.005408653846153846),\n",
       " ('Z1Pt', 0.005208333333333333),\n",
       " ('JetEta(JetPt|2)', 0.005208333333333333),\n",
       " ('ZZPhi', 0.003605769230769231),\n",
       " ('ZZEta', 0.0028044871794871795),\n",
       " ('JetPhi(JetPt|1)', 0.002403846153846154),\n",
       " ('JetEta(JetPt|3)', 0.001201923076923077),\n",
       " ('Z1Flav', 0.00020032051282051281),\n",
       " ('Z2Flav', 0.00020032051282051281)]"
      ]
     },
     "execution_count": 166,
     "metadata": {},
     "output_type": "execute_result"
    }
   ],
   "source": [
    "implist"
   ]
  },
  {
   "cell_type": "code",
   "execution_count": 167,
   "metadata": {
    "collapsed": false,
    "scrolled": false
   },
   "outputs": [],
   "source": [
    "%%capture\n",
    "fig, implist = plot_variables([(\"ZHl\", \"ttHl\")])"
   ]
  },
  {
   "cell_type": "code",
   "execution_count": 168,
   "metadata": {
    "collapsed": true
   },
   "outputs": [],
   "source": [
    "impdict = {convert_varname(entry[0]): [entry[1]] for entry in implist}\n",
    "impdict[\"discriminant\"] = \"D_ZHl_ttHl_ML\"\n",
    "df = df.append(pd.DataFrame.from_dict(impdict))"
   ]
  },
  {
   "cell_type": "code",
   "execution_count": 169,
   "metadata": {
    "collapsed": true
   },
   "outputs": [],
   "source": [
    "append_variables(confhandler, impdict, threshold_fscore)"
   ]
  },
  {
   "cell_type": "code",
   "execution_count": 170,
   "metadata": {
    "collapsed": false
   },
   "outputs": [
    {
     "data": {
      "text/plain": [
       "[('PFMET', 0.127208480565371),\n",
       " ('JetPt(JetPt|0)', 0.07684448039507855),\n",
       " ('Z2Pt', 0.0610498531227383),\n",
       " ('Z1Mass', 0.054961897058197456),\n",
       " ('ZZMass', 0.05359955723955894),\n",
       " ('Z2Mass', 0.05193920558559326),\n",
       " ('ExtraLepPt(ExtraLepPt|0)', 0.04972540338030568),\n",
       " ('JetEta(JetPt|0)', 0.03882668483119758),\n",
       " ('ZZEta', 0.03550598152326621),\n",
       " ('JetPhi(JetPt|0)', 0.03401592234663034),\n",
       " ('ZZPt', 0.031546681425348035),\n",
       " ('JetPt(JetPt|1)', 0.030312060964706886),\n",
       " ('nCleanedJetsPt30BTagged_bTagSF', 0.028396270594746476),\n",
       " ('ZZMassErr', 0.026395333986121164),\n",
       " ('ExtraLepPhi(ExtraLepPt|0)', 0.0262676146281238),\n",
       " ('Z1Pt', 0.02537357912214228),\n",
       " ('nCleanedJetsPt30', 0.025118140406147557),\n",
       " ('ZZPhi', 0.023883519945506408),\n",
       " ('nExtraZ', 0.023117203797522246),\n",
       " ('JetEta(JetPt|1)', 0.02120141342756184),\n",
       " ('JetPhi(JetPt|1)', 0.018306441312955002),\n",
       " ('JetPhi(JetPt|2)', 0.01796585635829537),\n",
       " ('nExtraLep', 0.01758269828430329),\n",
       " ('ExtraLepEta(ExtraLepPt|0)', 0.015283749840350802),\n",
       " ('JetPt(JetPt|2)', 0.014474860573034187),\n",
       " ('ExtraLepPt(ExtraLepPt|1)', 0.014219421857039465),\n",
       " ('JetPhi(JetPt|3)', 0.012388777725743965),\n",
       " ('ExtraLepPhi(ExtraLepPt|1)', 0.011792754055089616),\n",
       " ('JetEta(JetPt|2)', 0.011281876623100175),\n",
       " ('JetPt(JetPt|3)', 0.007790880837838988),\n",
       " ('JetEta(JetPt|3)', 0.006981991570522372),\n",
       " ('ExtraLepEta(ExtraLepPt|1)', 0.005023628081229511),\n",
       " ('Z1Flav', 0.0012771935799736048),\n",
       " ('Z2Flav', 0.00034058495465962794)]"
      ]
     },
     "execution_count": 170,
     "metadata": {},
     "output_type": "execute_result"
    }
   ],
   "source": [
    "implist"
   ]
  },
  {
   "cell_type": "code",
   "execution_count": 171,
   "metadata": {
    "collapsed": false,
    "scrolled": false
   },
   "outputs": [],
   "source": [
    "%%capture\n",
    "fig, implist = plot_variables([(\"ZHMET\", \"ggH\")])"
   ]
  },
  {
   "cell_type": "code",
   "execution_count": 172,
   "metadata": {
    "collapsed": true
   },
   "outputs": [],
   "source": [
    "impdict = {convert_varname(entry[0]): [entry[1]] for entry in implist}\n",
    "impdict[\"discriminant\"] = \"D_ZHMET_ggH_ML\"\n",
    "df = df.append(pd.DataFrame.from_dict(impdict))"
   ]
  },
  {
   "cell_type": "code",
   "execution_count": 173,
   "metadata": {
    "collapsed": true
   },
   "outputs": [],
   "source": [
    "append_variables(confhandler, impdict, threshold_fscore)"
   ]
  },
  {
   "cell_type": "code",
   "execution_count": 174,
   "metadata": {
    "collapsed": false
   },
   "outputs": [
    {
     "data": {
      "text/plain": [
       "[('ZZPt', 0.15188784725208565),\n",
       " ('PFMET', 0.14668444138642814),\n",
       " ('ZZPhi', 0.08286746366216564),\n",
       " ('Z2Pt', 0.07357873914165305),\n",
       " ('JetPt(JetPt|0)', 0.07026748086350736),\n",
       " ('Z1Pt', 0.06747226283650125),\n",
       " ('ZZMass', 0.06618216220865228),\n",
       " ('ZZMassErr', 0.06321493076459964),\n",
       " ('Z1Mass', 0.05895759869269803),\n",
       " ('Z2Mass', 0.0525500989077148),\n",
       " ('ZZEta', 0.04648662595682463),\n",
       " ('JetEta(JetPt|0)', 0.03496172701470715),\n",
       " ('JetPhi(JetPt|0)', 0.029586307732003096),\n",
       " ('JetPt(JetPt|1)', 0.013073019695536252),\n",
       " ('JetEta(JetPt|1)', 0.010449815085576675),\n",
       " ('nCleanedJetsPt30', 0.009374731229035866),\n",
       " ('JetPhi(JetPt|1)', 0.00679452997333792),\n",
       " ('nCleanedJetsPt30BTagged_bTagSF', 0.0052894125741807865),\n",
       " ('Z1Flav', 0.0028812247355293713),\n",
       " ('Z2Flav', 0.002236174421604885),\n",
       " ('JetPt(JetPt|2)', 0.002107164358819988),\n",
       " ('JetEta(JetPt|2)', 0.001806140878988561),\n",
       " ('JetPhi(JetPt|2)', 0.0007740603767093833),\n",
       " ('JetPt(JetPt|3)', 0.0005160402511395889)]"
      ]
     },
     "execution_count": 174,
     "metadata": {},
     "output_type": "execute_result"
    }
   ],
   "source": [
    "implist"
   ]
  },
  {
   "cell_type": "code",
   "execution_count": 175,
   "metadata": {
    "collapsed": false,
    "scrolled": false
   },
   "outputs": [],
   "source": [
    "%%capture\n",
    "fig, implist = plot_variables([(\"ZHMET\", \"VBF\")])"
   ]
  },
  {
   "cell_type": "code",
   "execution_count": 176,
   "metadata": {
    "collapsed": true
   },
   "outputs": [],
   "source": [
    "impdict = {convert_varname(entry[0]): [entry[1]] for entry in implist}\n",
    "impdict[\"discriminant\"] = \"D_ZHMET_VBF_ML\"\n",
    "df = df.append(pd.DataFrame.from_dict(impdict))"
   ]
  },
  {
   "cell_type": "code",
   "execution_count": 177,
   "metadata": {
    "collapsed": true
   },
   "outputs": [],
   "source": [
    "append_variables(confhandler, impdict, threshold_fscore)"
   ]
  },
  {
   "cell_type": "code",
   "execution_count": 178,
   "metadata": {
    "collapsed": false
   },
   "outputs": [
    {
     "data": {
      "text/plain": [
       "[('PFMET', 0.13630745461568172),\n",
       " ('JetEta(JetPt|0)', 0.13174971031286212),\n",
       " ('ZZPt', 0.08636539204325995),\n",
       " ('JetPt(JetPt|0)', 0.07833140208574739),\n",
       " ('Z1Pt', 0.06628041714947856),\n",
       " ('ZZMass', 0.058323677095403634),\n",
       " ('JetEta(JetPt|1)', 0.05828505214368482),\n",
       " ('ZZEta', 0.05399768250289687),\n",
       " ('ZZPhi', 0.049710312862108925),\n",
       " ('ZZMassErr', 0.04955581305523368),\n",
       " ('Z2Mass', 0.0485129393588258),\n",
       " ('Z1Mass', 0.04159907300115875),\n",
       " ('Z2Pt', 0.03908845113943608),\n",
       " ('JetPhi(JetPt|0)', 0.03789107763615295),\n",
       " ('JetPhi(JetPt|1)', 0.0152954808806489),\n",
       " ('JetPt(JetPt|1)', 0.012630359212050985),\n",
       " ('JetPhi(JetPt|2)', 0.010467361915797606),\n",
       " ('nCleanedJetsPt30BTagged_bTagSF', 0.006179992275009656),\n",
       " ('JetEta(JetPt|2)', 0.004905368868288915),\n",
       " ('nCleanedJetsPt30', 0.00436461954422557),\n",
       " ('Z2Flav', 0.003823870220162225),\n",
       " ('Z1Flav', 0.0036693704132869836),\n",
       " ('JetPt(JetPt|2)', 0.0017767477790652762),\n",
       " ('JetEta(JetPt|3)', 0.0008111239860950173),\n",
       " ('JetPhi(JetPt|3)', 7.72499034376207e-05)]"
      ]
     },
     "execution_count": 178,
     "metadata": {},
     "output_type": "execute_result"
    }
   ],
   "source": [
    "implist"
   ]
  },
  {
   "cell_type": "code",
   "execution_count": 179,
   "metadata": {
    "collapsed": false,
    "scrolled": false
   },
   "outputs": [],
   "source": [
    "%%capture\n",
    "fig, implist = plot_variables([(\"ZHMET\", \"WHh\")])"
   ]
  },
  {
   "cell_type": "code",
   "execution_count": 180,
   "metadata": {
    "collapsed": true
   },
   "outputs": [],
   "source": [
    "impdict = {convert_varname(entry[0]): [entry[1]] for entry in implist}\n",
    "impdict[\"discriminant\"] = \"D_ZHMET_WHh_ML\"\n",
    "df = df.append(pd.DataFrame.from_dict(impdict))"
   ]
  },
  {
   "cell_type": "code",
   "execution_count": 181,
   "metadata": {
    "collapsed": true
   },
   "outputs": [],
   "source": [
    "append_variables(confhandler, impdict, threshold_fscore)"
   ]
  },
  {
   "cell_type": "code",
   "execution_count": 182,
   "metadata": {
    "collapsed": false
   },
   "outputs": [
    {
     "data": {
      "text/plain": [
       "[('PFMET', 0.15605976757055895),\n",
       " ('ZZPt', 0.09601549529607084),\n",
       " ('JetEta(JetPt|0)', 0.07214009012570163),\n",
       " ('JetPt(JetPt|0)', 0.06510396078741403),\n",
       " ('Z1Pt', 0.06486678788837062),\n",
       " ('Z2Pt', 0.06316704877855957),\n",
       " ('ZZPhi', 0.05573563127519962),\n",
       " ('Z2Mass', 0.05510317021108388),\n",
       " ('ZZEta', 0.05439165151395367),\n",
       " ('ZZMass', 0.05328484465175112),\n",
       " ('ZZMassErr', 0.05304767175270773),\n",
       " ('Z1Mass', 0.050952644477824334),\n",
       " ('JetPhi(JetPt|0)', 0.04114949798403036),\n",
       " ('JetPt(JetPt|1)', 0.030437188710570006),\n",
       " ('JetPhi(JetPt|1)', 0.02427069333544154),\n",
       " ('JetEta(JetPt|1)', 0.015060479089256068),\n",
       " ('nCleanedJetsPt30', 0.012332990750256937),\n",
       " ('JetPt(JetPt|2)', 0.009131156613171001),\n",
       " ('Z2Flav', 0.006166495375128468),\n",
       " ('JetPt(JetPt|3)', 0.005494505494505495),\n",
       " ('Z1Flav', 0.004980630879911455),\n",
       " ('JetPhi(JetPt|2)', 0.004980630879911455),\n",
       " ('JetEta(JetPt|2)', 0.004585342714839118),\n",
       " ('JetEta(JetPt|3)', 0.0011068068622025456),\n",
       " ('nCleanedJetsPt30BTagged_bTagSF', 0.0004348169815795715)]"
      ]
     },
     "execution_count": 182,
     "metadata": {},
     "output_type": "execute_result"
    }
   ],
   "source": [
    "implist"
   ]
  },
  {
   "cell_type": "code",
   "execution_count": 183,
   "metadata": {
    "collapsed": false,
    "scrolled": false
   },
   "outputs": [],
   "source": [
    "%%capture\n",
    "fig, implist = plot_variables([(\"ZHMET\", \"ttHh\")])"
   ]
  },
  {
   "cell_type": "code",
   "execution_count": 184,
   "metadata": {
    "collapsed": true
   },
   "outputs": [],
   "source": [
    "impdict = {convert_varname(entry[0]): [entry[1]] for entry in implist}\n",
    "impdict[\"discriminant\"] = \"D_ZHMET_ttHh_ML\"\n",
    "df = df.append(pd.DataFrame.from_dict(impdict))"
   ]
  },
  {
   "cell_type": "code",
   "execution_count": 185,
   "metadata": {
    "collapsed": true
   },
   "outputs": [],
   "source": [
    "append_variables(confhandler, impdict, threshold_fscore)"
   ]
  },
  {
   "cell_type": "code",
   "execution_count": 186,
   "metadata": {
    "collapsed": false
   },
   "outputs": [
    {
     "data": {
      "text/plain": [
       "[('PFMET', 0.2645),\n",
       " ('JetPt(JetPt|0)', 0.156),\n",
       " ('nCleanedJetsPt30BTagged_bTagSF', 0.1015),\n",
       " ('JetPt(JetPt|1)', 0.0695),\n",
       " ('JetPt(JetPt|3)', 0.0595),\n",
       " ('JetPt(JetPt|2)', 0.0565),\n",
       " ('nCleanedJetsPt30', 0.0535),\n",
       " ('JetEta(JetPt|0)', 0.0525),\n",
       " ('ExtraLepPt(ExtraLepPt|0)', 0.0465),\n",
       " ('Z1Pt', 0.0355),\n",
       " ('JetEta(JetPt|2)', 0.0295),\n",
       " ('ZZPt', 0.028),\n",
       " ('ZZEta', 0.0235),\n",
       " ('Z2Mass', 0.0105),\n",
       " ('Z2Pt', 0.0085),\n",
       " ('nExtraLep', 0.0045)]"
      ]
     },
     "execution_count": 186,
     "metadata": {},
     "output_type": "execute_result"
    }
   ],
   "source": [
    "implist"
   ]
  },
  {
   "cell_type": "code",
   "execution_count": 187,
   "metadata": {
    "collapsed": false,
    "scrolled": false
   },
   "outputs": [],
   "source": [
    "%%capture\n",
    "fig, implist = plot_variables([(\"ZHMET\", \"ttHl\")])"
   ]
  },
  {
   "cell_type": "code",
   "execution_count": 188,
   "metadata": {
    "collapsed": true
   },
   "outputs": [],
   "source": [
    "impdict = {convert_varname(entry[0]): [entry[1]] for entry in implist}\n",
    "impdict[\"discriminant\"] = \"D_ZHMET_ttHl_ML\"\n",
    "df = df.append(pd.DataFrame.from_dict(impdict))"
   ]
  },
  {
   "cell_type": "code",
   "execution_count": 189,
   "metadata": {
    "collapsed": true
   },
   "outputs": [],
   "source": [
    "append_variables(confhandler, impdict, threshold_fscore)"
   ]
  },
  {
   "cell_type": "code",
   "execution_count": 190,
   "metadata": {
    "collapsed": false
   },
   "outputs": [
    {
     "data": {
      "text/plain": [
       "[('ZZMass', 0.09087021595039556),\n",
       " ('JetPt(JetPt|0)', 0.08044686765020312),\n",
       " ('JetEta(JetPt|0)', 0.07761385503527903),\n",
       " ('PFMET', 0.07237545435107975),\n",
       " ('Z1Mass', 0.06312807355142185),\n",
       " ('JetPhi(JetPt|0)', 0.05254436604661108),\n",
       " ('ZZEta', 0.05045969638657259),\n",
       " ('nCleanedJetsPt30BTagged_bTagSF', 0.04367115672439598),\n",
       " ('ExtraLepPt(ExtraLepPt|0)', 0.03870002138122728),\n",
       " ('Z2Mass', 0.038272396835578364),\n",
       " ('Z2Pt', 0.03747060081248663),\n",
       " ('ZZMassErr', 0.03714988240324995),\n",
       " ('ZZPt', 0.036401539448364335),\n",
       " ('nExtraLep', 0.03388924524267693),\n",
       " ('nCleanedJetsPt30', 0.030842420354928374),\n",
       " ('ZZPhi', 0.03073551421851614),\n",
       " ('Z1Pt', 0.029719905922599956),\n",
       " ('JetPt(JetPt|1)', 0.026085097284584136),\n",
       " ('JetPt(JetPt|3)', 0.025978191148171906),\n",
       " ('JetEta(JetPt|1)', 0.024534958306606798),\n",
       " ('JetPt(JetPt|2)', 0.018441308531109684),\n",
       " ('JetEta(JetPt|2)', 0.01624973273465897),\n",
       " ('JetPhi(JetPt|1)', 0.015554842847979474),\n",
       " ('Z2Flav', 0.014539234552063289),\n",
       " ('JetPhi(JetPt|2)', 0.009835364549925165),\n",
       " ('JetEta(JetPt|3)', 0.003902073979046397),\n",
       " ('Z1Flav', 0.00032071840923669016),\n",
       " ('ExtraLepPhi(ExtraLepPt|0)', 0.00016035920461834508),\n",
       " ('JetPhi(JetPt|3)', 0.00010690613641223006)]"
      ]
     },
     "execution_count": 190,
     "metadata": {},
     "output_type": "execute_result"
    }
   ],
   "source": [
    "implist"
   ]
  },
  {
   "cell_type": "code",
   "execution_count": 191,
   "metadata": {
    "collapsed": false,
    "scrolled": false
   },
   "outputs": [],
   "source": [
    "%%capture\n",
    "fig, implist = plot_variables([(\"ttHh\", \"ggH\")])"
   ]
  },
  {
   "cell_type": "code",
   "execution_count": 192,
   "metadata": {
    "collapsed": true
   },
   "outputs": [],
   "source": [
    "impdict = {convert_varname(entry[0]): [entry[1]] for entry in implist}\n",
    "impdict[\"discriminant\"] = \"D_ttHh_ggH_ML\"\n",
    "df = df.append(pd.DataFrame.from_dict(impdict))"
   ]
  },
  {
   "cell_type": "code",
   "execution_count": 193,
   "metadata": {
    "collapsed": true
   },
   "outputs": [],
   "source": [
    "append_variables(confhandler, impdict, threshold_fscore)"
   ]
  },
  {
   "cell_type": "code",
   "execution_count": 194,
   "metadata": {
    "collapsed": false
   },
   "outputs": [
    {
     "data": {
      "text/plain": [
       "[('JetPt(JetPt|0)', 0.1008040448017977),\n",
       " ('JetEta(JetPt|0)', 0.08781292791685685),\n",
       " ('JetEta(JetPt|1)', 0.0830378146834732),\n",
       " ('ZZPt', 0.0802991467996208),\n",
       " ('PFMET', 0.0583546926020856),\n",
       " ('JetPt(JetPt|1)', 0.05786313682806081),\n",
       " ('nCleanedJetsPt30BTagged_bTagSF', 0.04926091078262702),\n",
       " ('Z1Pt', 0.047470243320108144),\n",
       " ('JetPt(JetPt|2)', 0.038868017274674344),\n",
       " ('JetEta(JetPt|2)', 0.03802535023348899),\n",
       " ('JetPhi(JetPt|0)', 0.03451423756188336),\n",
       " ('Z2Pt', 0.03370668164741406),\n",
       " ('JetPhi(JetPt|1)', 0.0316702362978828),\n",
       " ('ZZEta', 0.030932902636845616),\n",
       " ('JetPt(JetPt|3)', 0.030581791369685054),\n",
       " ('ZZPhi', 0.029247568554474912),\n",
       " ('Z2Mass', 0.029072012920894633),\n",
       " ('ZZMassErr', 0.027316456585091815),\n",
       " ('Z1Mass', 0.02355956602647379),\n",
       " ('JetEta(JetPt|3)', 0.017696007864892383),\n",
       " ('ZZMass', 0.017660896738176328),\n",
       " ('nCleanedJetsPt30', 0.016642674063410696),\n",
       " ('JetPhi(JetPt|2)', 0.009234226326322812),\n",
       " ('ExtraLepPt(ExtraLepPt|0)', 0.007303114356939714),\n",
       " ('JetPhi(JetPt|3)', 0.005898669288297461),\n",
       " ('ExtraLepPhi(ExtraLepPt|0)', 0.003897335065482251),\n",
       " ('Z2Flav', 0.00333555703802535),\n",
       " ('nExtraLep', 0.002984445770864787),\n",
       " ('Z1Flav', 0.0015800007022225343),\n",
       " ('ExtraLepEta(ExtraLepPt|0)', 0.0013693339419261965)]"
      ]
     },
     "execution_count": 194,
     "metadata": {},
     "output_type": "execute_result"
    }
   ],
   "source": [
    "implist"
   ]
  },
  {
   "cell_type": "code",
   "execution_count": 195,
   "metadata": {
    "collapsed": false,
    "scrolled": false
   },
   "outputs": [],
   "source": [
    "%%capture\n",
    "fig, implist = plot_variables([(\"ttHh\", \"VBF\")])"
   ]
  },
  {
   "cell_type": "code",
   "execution_count": 196,
   "metadata": {
    "collapsed": true
   },
   "outputs": [],
   "source": [
    "impdict = {convert_varname(entry[0]): [entry[1]] for entry in implist}\n",
    "impdict[\"discriminant\"] = \"D_ttHh_VBF_ML\"\n",
    "df = df.append(pd.DataFrame.from_dict(impdict))"
   ]
  },
  {
   "cell_type": "code",
   "execution_count": 197,
   "metadata": {
    "collapsed": true
   },
   "outputs": [],
   "source": [
    "append_variables(confhandler, impdict, threshold_fscore)"
   ]
  },
  {
   "cell_type": "code",
   "execution_count": 198,
   "metadata": {
    "collapsed": false
   },
   "outputs": [
    {
     "data": {
      "text/plain": [
       "[('JetEta(JetPt|0)', 0.1591576260370134),\n",
       " ('JetEta(JetPt|1)', 0.1530312699425654),\n",
       " ('JetEta(JetPt|2)', 0.08544990427568602),\n",
       " ('JetPt(JetPt|0)', 0.04594767070835992),\n",
       " ('ZZEta', 0.04151244416081685),\n",
       " ('JetPt(JetPt|1)', 0.04071474154435226),\n",
       " ('JetPt(JetPt|2)', 0.03956604977664327),\n",
       " ('nCleanedJetsPt30BTagged_bTagSF', 0.03899170389278877),\n",
       " ('Z1Pt', 0.03560944479897894),\n",
       " ('JetPhi(JetPt|1)', 0.032035737077217616),\n",
       " ('ZZPt', 0.030887045309508615),\n",
       " ('JetPt(JetPt|3)', 0.029610721123165283),\n",
       " ('PFMET', 0.02820676451818762),\n",
       " ('JetPhi(JetPt|0)', 0.026419910657306957),\n",
       " ('ZZPhi', 0.024441608168474793),\n",
       " ('nCleanedJetsPt30', 0.023931078493937462),\n",
       " ('Z2Mass', 0.02217613273771538),\n",
       " ('JetEta(JetPt|3)', 0.02032546266751755),\n",
       " ('Z2Pt', 0.02013401403956605),\n",
       " ('Z1Mass', 0.01876196553924697),\n",
       " ('ZZMass', 0.01723037651563497),\n",
       " ('JetPhi(JetPt|2)', 0.015283982131461392),\n",
       " ('ZZMassErr', 0.014167198468410976),\n",
       " ('ExtraLepPt(ExtraLepPt|0)', 0.01253988513082323),\n",
       " ('JetPhi(JetPt|3)', 0.011742182514358646),\n",
       " ('ExtraLepPhi(ExtraLepPt|0)', 0.004722399489470326),\n",
       " ('ExtraLepEta(ExtraLepPt|0)', 0.00389278876834716),\n",
       " ('nExtraLep', 0.0019144862795149968),\n",
       " ('Z2Flav', 0.0009253350350989151),\n",
       " ('Z1Flav', 0.0006700701978302489)]"
      ]
     },
     "execution_count": 198,
     "metadata": {},
     "output_type": "execute_result"
    }
   ],
   "source": [
    "implist"
   ]
  },
  {
   "cell_type": "code",
   "execution_count": 199,
   "metadata": {
    "collapsed": false,
    "scrolled": false
   },
   "outputs": [],
   "source": [
    "%%capture\n",
    "fig, implist = plot_variables([(\"ttHh\", \"WHh\")])"
   ]
  },
  {
   "cell_type": "code",
   "execution_count": 200,
   "metadata": {
    "collapsed": true
   },
   "outputs": [],
   "source": [
    "impdict = {convert_varname(entry[0]): [entry[1]] for entry in implist}\n",
    "impdict[\"discriminant\"] = \"D_ttHh_WHh_ML\"\n",
    "df = df.append(pd.DataFrame.from_dict(impdict))"
   ]
  },
  {
   "cell_type": "code",
   "execution_count": 201,
   "metadata": {
    "collapsed": true
   },
   "outputs": [],
   "source": [
    "append_variables(confhandler, impdict, threshold_fscore)"
   ]
  },
  {
   "cell_type": "code",
   "execution_count": 202,
   "metadata": {
    "collapsed": false
   },
   "outputs": [
    {
     "data": {
      "text/plain": [
       "[('JetPt(JetPt|0)', 0.08357637101847086),\n",
       " ('ZZPt', 0.06970892663121175),\n",
       " ('PFMET', 0.06782181048779093),\n",
       " ('JetPt(JetPt|1)', 0.06724995711099674),\n",
       " ('Z1Pt', 0.06333276147995653),\n",
       " ('JetEta(JetPt|0)', 0.04849316635214731),\n",
       " ('nCleanedJetsPt30BTagged_bTagSF', 0.046863384228283865),\n",
       " ('ZZMass', 0.04657745753988677),\n",
       " ('ZZEta', 0.044861897409504206),\n",
       " ('Z2Pt', 0.040744553096586034),\n",
       " ('Z2Mass', 0.03931491965460056),\n",
       " ('JetPhi(JetPt|1)', 0.03757076685537828),\n",
       " ('ZZPhi', 0.035569280036598615),\n",
       " ('JetPhi(JetPt|0)', 0.03496883399096472),\n",
       " ('ZZMassErr', 0.034597129296048496),\n",
       " ('JetPt(JetPt|2)', 0.03268142048378796),\n",
       " ('JetEta(JetPt|1)', 0.031423343054840736),\n",
       " ('JetEta(JetPt|2)', 0.026905701378166638),\n",
       " ('Z1Mass', 0.02490421455938697),\n",
       " ('JetPhi(JetPt|2)', 0.024103619831875107),\n",
       " ('JetPt(JetPt|3)', 0.022988505747126436),\n",
       " ('JetEta(JetPt|3)', 0.020472350889232),\n",
       " ('nCleanedJetsPt30', 0.01932864413564362),\n",
       " ('JetPhi(JetPt|3)', 0.00909246869102762),\n",
       " ('ExtraLepPt(ExtraLepPt|0)', 0.006976611196889118),\n",
       " ('ExtraLepEta(ExtraLepPt|0)', 0.0056041630925830616),\n",
       " ('nExtraLep', 0.005489792417224223),\n",
       " ('ExtraLepPhi(ExtraLepPt|0)', 0.005489792417224223),\n",
       " ('Z1Flav', 0.0024875621890547263),\n",
       " ('Z2Flav', 0.0008005947275118659)]"
      ]
     },
     "execution_count": 202,
     "metadata": {},
     "output_type": "execute_result"
    }
   ],
   "source": [
    "implist"
   ]
  },
  {
   "cell_type": "code",
   "execution_count": 203,
   "metadata": {
    "collapsed": false,
    "scrolled": false
   },
   "outputs": [],
   "source": [
    "%%capture\n",
    "fig, implist = plot_variables([(\"ttHh\", \"ttHl\")])"
   ]
  },
  {
   "cell_type": "code",
   "execution_count": 204,
   "metadata": {
    "collapsed": true
   },
   "outputs": [],
   "source": [
    "impdict = {convert_varname(entry[0]): [entry[1]] for entry in implist}\n",
    "impdict[\"discriminant\"] = \"D_ttHh_ttHl_ML\"\n",
    "df = df.append(pd.DataFrame.from_dict(impdict))"
   ]
  },
  {
   "cell_type": "code",
   "execution_count": 205,
   "metadata": {
    "collapsed": true
   },
   "outputs": [],
   "source": [
    "append_variables(confhandler, impdict, threshold_fscore)"
   ]
  },
  {
   "cell_type": "code",
   "execution_count": 206,
   "metadata": {
    "collapsed": false
   },
   "outputs": [
    {
     "data": {
      "text/plain": [
       "[('PFMET', 0.21333333333333335),\n",
       " ('ExtraLepPt(ExtraLepPt|0)', 0.15857142857142856),\n",
       " ('Z1Mass', 0.05452380952380952),\n",
       " ('JetPhi(JetPt|2)', 0.04690476190476191),\n",
       " ('JetPt(JetPt|2)', 0.04380952380952381),\n",
       " ('ZZMass', 0.04357142857142857),\n",
       " ('nCleanedJetsPt30', 0.04357142857142857),\n",
       " ('nCleanedJetsPt30BTagged_bTagSF', 0.04285714285714286),\n",
       " ('ZZPt', 0.03785714285714286),\n",
       " ('JetEta(JetPt|0)', 0.030476190476190476),\n",
       " ('JetEta(JetPt|3)', 0.030238095238095238),\n",
       " ('Z2Pt', 0.030238095238095238),\n",
       " ('JetPt(JetPt|0)', 0.03),\n",
       " ('JetPhi(JetPt|1)', 0.027142857142857142),\n",
       " ('JetPt(JetPt|1)', 0.02666666666666667),\n",
       " ('JetPt(JetPt|3)', 0.024761904761904763),\n",
       " ('ZZMassErr', 0.023333333333333334),\n",
       " ('JetPhi(JetPt|3)', 0.019523809523809523),\n",
       " ('JetEta(JetPt|1)', 0.012380952380952381),\n",
       " ('JetPhi(JetPt|0)', 0.010714285714285714),\n",
       " ('JetEta(JetPt|2)', 0.010476190476190476),\n",
       " ('Z1Pt', 0.009523809523809525),\n",
       " ('ExtraLepEta(ExtraLepPt|0)', 0.009047619047619047),\n",
       " ('ExtraLepPhi(ExtraLepPt|0)', 0.007380952380952381),\n",
       " ('Z2Mass', 0.005238095238095238),\n",
       " ('ZZPhi', 0.004047619047619047),\n",
       " ('ZZEta', 0.002619047619047619),\n",
       " ('Z2Flav', 0.0009523809523809524),\n",
       " ('nExtraLep', 0.0002380952380952381)]"
      ]
     },
     "execution_count": 206,
     "metadata": {},
     "output_type": "execute_result"
    }
   ],
   "source": [
    "implist"
   ]
  },
  {
   "cell_type": "code",
   "execution_count": 207,
   "metadata": {
    "collapsed": false,
    "scrolled": false
   },
   "outputs": [],
   "source": [
    "%%capture\n",
    "fig, implist = plot_variables([(\"ttHl\", \"ggH\")])"
   ]
  },
  {
   "cell_type": "code",
   "execution_count": 208,
   "metadata": {
    "collapsed": true
   },
   "outputs": [],
   "source": [
    "impdict = {convert_varname(entry[0]): [entry[1]] for entry in implist}\n",
    "impdict[\"discriminant\"] = \"D_ttHl_ggH_ML\"\n",
    "df = df.append(pd.DataFrame.from_dict(impdict))"
   ]
  },
  {
   "cell_type": "code",
   "execution_count": 209,
   "metadata": {
    "collapsed": true
   },
   "outputs": [],
   "source": [
    "append_variables(confhandler, impdict, threshold_fscore)"
   ]
  },
  {
   "cell_type": "code",
   "execution_count": 210,
   "metadata": {
    "collapsed": false
   },
   "outputs": [
    {
     "data": {
      "text/plain": [
       "[('PFMET', 0.1780918313493227),\n",
       " ('JetPt(JetPt|0)', 0.08212631208585),\n",
       " ('ZZPt', 0.06884419163783498),\n",
       " ('JetEta(JetPt|0)', 0.04981528176860377),\n",
       " ('Z1Mass', 0.04837858441329971),\n",
       " ('ZZMassErr', 0.04717644989151469),\n",
       " ('ZZMass', 0.045563830411071364),\n",
       " ('ExtraLepPt(ExtraLepPt|0)', 0.044977423327273794),\n",
       " ('Z1Pt', 0.044713540139564883),\n",
       " ('nCleanedJetsPt30BTagged_bTagSF', 0.04271975605465314),\n",
       " ('JetEta(JetPt|1)', 0.04142966047029848),\n",
       " ('JetPt(JetPt|1)', 0.04013956488594382),\n",
       " ('Z2Mass', 0.03659180202896851),\n",
       " ('Z2Pt', 0.032428311734005746),\n",
       " ('ZZEta', 0.029730839148536914),\n",
       " ('ZZPhi', 0.022254148830117868),\n",
       " ('JetPt(JetPt|2)', 0.021902304579839323),\n",
       " ('JetPhi(JetPt|0)', 0.020993373599953086),\n",
       " ('nCleanedJetsPt30', 0.01756289215973729),\n",
       " ('JetPt(JetPt|3)', 0.015979593033483844),\n",
       " ('JetEta(JetPt|2)', 0.014894739928458335),\n",
       " ('nExtraLep', 0.01313551867706562),\n",
       " ('JetEta(JetPt|3)', 0.009851639007799215),\n",
       " ('ExtraLepEta(ExtraLepPt|0)', 0.009617076174280184),\n",
       " ('JetPhi(JetPt|1)', 0.009294552278191521),\n",
       " ('Z2Flav', 0.004046208878203249),\n",
       " ('Z1Flav', 0.0026388318770890753),\n",
       " ('JetPhi(JetPt|3)', 0.0022869876268105317),\n",
       " ('JetPhi(JetPt|2)', 0.002199026564240896),\n",
       " ('ExtraLepPhi(ExtraLepPt|0)', 0.0006157274379874509)]"
      ]
     },
     "execution_count": 210,
     "metadata": {},
     "output_type": "execute_result"
    }
   ],
   "source": [
    "implist"
   ]
  },
  {
   "cell_type": "code",
   "execution_count": 211,
   "metadata": {
    "collapsed": false,
    "scrolled": false
   },
   "outputs": [],
   "source": [
    "%%capture\n",
    "fig, implist = plot_variables([(\"ttHl\", \"VBF\")])"
   ]
  },
  {
   "cell_type": "code",
   "execution_count": 212,
   "metadata": {
    "collapsed": true
   },
   "outputs": [],
   "source": [
    "impdict = {convert_varname(entry[0]): [entry[1]] for entry in implist}\n",
    "impdict[\"discriminant\"] = \"D_ttHl_VBF_ML\"\n",
    "df = df.append(pd.DataFrame.from_dict(impdict))"
   ]
  },
  {
   "cell_type": "code",
   "execution_count": 213,
   "metadata": {
    "collapsed": true
   },
   "outputs": [],
   "source": [
    "append_variables(confhandler, impdict, threshold_fscore)"
   ]
  },
  {
   "cell_type": "code",
   "execution_count": 214,
   "metadata": {
    "collapsed": false
   },
   "outputs": [
    {
     "data": {
      "text/plain": [
       "[('PFMET', 0.12862396713951377),\n",
       " ('JetEta(JetPt|0)', 0.11778191718011176),\n",
       " ('JetEta(JetPt|1)', 0.10247408893346707),\n",
       " ('JetEta(JetPt|2)', 0.04671156326121221),\n",
       " ('ZZMass', 0.044108516024263265),\n",
       " ('JetPt(JetPt|0)', 0.04150546878731432),\n",
       " ('ZZEta', 0.03964273773702059),\n",
       " ('ExtraLepPt(ExtraLepPt|0)', 0.03868749104456226),\n",
       " ('JetPt(JetPt|1)', 0.03560682046138415),\n",
       " ('JetPt(JetPt|2)', 0.03434111859387687),\n",
       " ('ExtraLepEta(ExtraLepPt|0)', 0.031069398672207097),\n",
       " ('Z1Mass', 0.029517122796962315),\n",
       " ('ZZPt', 0.029111142952667528),\n",
       " ('nCleanedJetsPt30BTagged_bTagSF', 0.026770788556144624),\n",
       " ('Z2Mass', 0.02657973921765296),\n",
       " ('JetPhi(JetPt|0)', 0.02605435353680088),\n",
       " ('ZZMassErr', 0.025433443186702966),\n",
       " ('Z1Pt', 0.024549839996179015),\n",
       " ('ZZPhi', 0.023451306299851937),\n",
       " ('JetPhi(JetPt|1)', 0.02340354396522902),\n",
       " ('Z2Pt', 0.02166021875149257),\n",
       " ('JetPt(JetPt|3)', 0.019510913693461335),\n",
       " ('nCleanedJetsPt30', 0.015164541242775947),\n",
       " ('JetPhi(JetPt|2)', 0.011462960309499929),\n",
       " ('JetEta(JetPt|3)', 0.008955437741796819),\n",
       " ('JetPhi(JetPt|3)', 0.008573339064813489),\n",
       " ('Z1Flav', 0.006041935329798921),\n",
       " ('ExtraLepPhi(ExtraLepPt|0)', 0.006041935329798921),\n",
       " ('nExtraLep', 0.004800114629603095),\n",
       " ('Z2Flav', 0.0023642355638343604)]"
      ]
     },
     "execution_count": 214,
     "metadata": {},
     "output_type": "execute_result"
    }
   ],
   "source": [
    "implist"
   ]
  },
  {
   "cell_type": "code",
   "execution_count": 215,
   "metadata": {
    "collapsed": false,
    "scrolled": false
   },
   "outputs": [],
   "source": [
    "%%capture\n",
    "fig, implist = plot_variables([(\"ttHl\", \"WHh\")])"
   ]
  },
  {
   "cell_type": "code",
   "execution_count": 216,
   "metadata": {
    "collapsed": true
   },
   "outputs": [],
   "source": [
    "impdict = {convert_varname(entry[0]): [entry[1]] for entry in implist}\n",
    "impdict[\"discriminant\"] = \"D_ttHl_WHh_ML\"\n",
    "df = df.append(pd.DataFrame.from_dict(impdict))"
   ]
  },
  {
   "cell_type": "code",
   "execution_count": 217,
   "metadata": {
    "collapsed": true
   },
   "outputs": [],
   "source": [
    "append_variables(confhandler, impdict, threshold_fscore)"
   ]
  },
  {
   "cell_type": "code",
   "execution_count": 218,
   "metadata": {
    "collapsed": false
   },
   "outputs": [
    {
     "data": {
      "text/plain": [
       "[('PFMET', 0.15972287239022565),\n",
       " ('JetPt(JetPt|0)', 0.06531847829479137),\n",
       " ('ZZMassErr', 0.052710420372624286),\n",
       " ('ZZPt', 0.04759229784976438),\n",
       " ('ExtraLepPt(ExtraLepPt|0)', 0.047467465593109257),\n",
       " ('JetPt(JetPt|1)', 0.046936928502325004),\n",
       " ('Z1Pt', 0.04160034953031863),\n",
       " ('Z1Mass', 0.041506725337827295),\n",
       " ('JetEta(JetPt|0)', 0.04066410760540524),\n",
       " ('Z2Pt', 0.040632899541241455),\n",
       " ('nCleanedJetsPt30BTagged_bTagSF', 0.038791623755578444),\n",
       " ('ZZEta', 0.03592048185251069),\n",
       " ('ZZPhi', 0.03392316574602877),\n",
       " ('JetPt(JetPt|2)', 0.03370470929688232),\n",
       " ('ZZMass', 0.03120806416377992),\n",
       " ('JetPhi(JetPt|1)', 0.029366788378116904),\n",
       " ('Z2Mass', 0.029335580313953124),\n",
       " ('JetEta(JetPt|1)', 0.029054707736479106),\n",
       " ('JetPhi(JetPt|0)', 0.02805604968323815),\n",
       " ('nCleanedJetsPt30', 0.021845644914645943),\n",
       " ('JetPt(JetPt|3)', 0.02003557719314671),\n",
       " ('ExtraLepEta(ExtraLepPt|0)', 0.015916112723527758),\n",
       " ('JetPhi(JetPt|3)', 0.014542957900321443),\n",
       " ('JetPhi(JetPt|2)', 0.014293293387011203),\n",
       " ('JetEta(JetPt|2)', 0.013076178884623786),\n",
       " ('ExtraLepPhi(ExtraLepPt|0)', 0.01170302406141747),\n",
       " ('JetEta(JetPt|3)', 0.007396311206815841),\n",
       " ('Z1Flav', 0.004150672533782729),\n",
       " ('Z2Flav', 0.0025278531972661735),\n",
       " ('nExtraLep', 0.0009986580532409574)]"
      ]
     },
     "execution_count": 218,
     "metadata": {},
     "output_type": "execute_result"
    }
   ],
   "source": [
    "implist"
   ]
  },
  {
   "cell_type": "code",
   "execution_count": 219,
   "metadata": {
    "collapsed": true
   },
   "outputs": [],
   "source": [
    "# save the variable configuration\n",
    "confhandler.save_configuration(out_path)"
   ]
  },
  {
   "cell_type": "code",
   "execution_count": 220,
   "metadata": {
    "collapsed": false
   },
   "outputs": [],
   "source": [
    "df = df.fillna(0.0)"
   ]
  },
  {
   "cell_type": "code",
   "execution_count": 221,
   "metadata": {
    "collapsed": false
   },
   "outputs": [],
   "source": [
    "df.to_csv(\"input_parameters_table.csv\")"
   ]
  },
  {
   "cell_type": "code",
   "execution_count": 222,
   "metadata": {
    "collapsed": false
   },
   "outputs": [],
   "source": [
    "# now plot the data contained in the table to have a global picture of the relevant input variables\n",
    "datacol_labels = [col for col in df.columns.tolist() if col != \"discriminant\"]\n",
    "variable_data = df[datacol_labels].as_matrix().transpose()\n",
    "datacol_labels = np.concatenate([[''], np.array(datacol_labels)])"
   ]
  },
  {
   "cell_type": "code",
   "execution_count": 223,
   "metadata": {
    "collapsed": true
   },
   "outputs": [],
   "source": [
    "discriminant_labels = np.concatenate([[''], df[\"discriminant\"].as_matrix()])"
   ]
  },
  {
   "cell_type": "code",
   "execution_count": 224,
   "metadata": {
    "collapsed": false
   },
   "outputs": [],
   "source": [
    "fig = plt.figure(figsize = (15, 10))\n",
    "ax = fig.add_subplot(111)\n",
    "cax = ax.matshow(variable_data, interpolation = 'nearest', cmap = 'Blues', vmin = np.min(variable_data), vmax = np.max(variable_data))\n",
    "ax.set_xticklabels(discriminant_labels, rotation = 'vertical')\n",
    "ax.set_yticklabels(datacol_labels)\n",
    "ax.xaxis.set_major_locator(ticker.MultipleLocator(1))\n",
    "ax.yaxis.set_major_locator(ticker.MultipleLocator(1))"
   ]
  },
  {
   "cell_type": "code",
   "execution_count": 225,
   "metadata": {
    "collapsed": false
   },
   "outputs": [],
   "source": [
    "plt.tight_layout()\n",
    "plt.savefig(os.path.join(out_dir, \"input_variables_exclusive.pdf\"))"
   ]
  }
 ],
 "metadata": {
  "kernelspec": {
   "display_name": "Python 2",
   "language": "python",
   "name": "python2"
  },
  "language_info": {
   "codemirror_mode": {
    "name": "ipython",
    "version": 2
   },
   "file_extension": ".py",
   "mimetype": "text/x-python",
   "name": "python",
   "nbconvert_exporter": "python",
   "pygments_lexer": "ipython2",
   "version": "2.7.11"
  }
 },
 "nbformat": 4,
 "nbformat_minor": 2
}
