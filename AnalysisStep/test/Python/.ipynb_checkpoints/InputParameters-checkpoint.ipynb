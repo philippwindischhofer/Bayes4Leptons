{
 "cells": [
  {
   "cell_type": "code",
   "execution_count": 1,
   "metadata": {
    "collapsed": true
   },
   "outputs": [],
   "source": [
    "import warnings\n",
    "warnings.filterwarnings('ignore')"
   ]
  },
  {
   "cell_type": "code",
   "execution_count": 2,
   "metadata": {
    "collapsed": false
   },
   "outputs": [
    {
     "name": "stdout",
     "output_type": "stream",
     "text": [
      "Welcome to JupyROOT 6.10/09\n"
     ]
    }
   ],
   "source": [
    "from trainlib.FileCollection import FileCollection\n",
    "from trainlib.config import Config\n",
    "import trainlib.cuts as cuts\n",
    "import numpy as np\n",
    "import matplotlib.pyplot as plt\n",
    "import matplotlib.ticker as ticker\n",
    "import pandas as pd\n",
    "import copy\n",
    "import re\n",
    "from scipy import interpolate\n",
    "import scipy.integrate as integrate"
   ]
  },
  {
   "cell_type": "code",
   "execution_count": 3,
   "metadata": {
    "collapsed": false
   },
   "outputs": [
    {
     "name": "stderr",
     "output_type": "stream",
     "text": [
      "/cvmfs/cms.cern.ch/slc6_amd64_gcc630/external/py2-pippkgs_depscipy/3.0-fmblme3/lib/python2.7/site-packages/sklearn/cross_validation.py:44: DeprecationWarning: This module was deprecated in version 0.18 in favor of the model_selection module into which all the refactored classes and functions are moved. Also note that the interface of the new CV iterators are different from that of this module. This module will be removed in 0.20.\n",
      "  \"This module will be removed in 0.20.\", DeprecationWarning)\n"
     ]
    }
   ],
   "source": [
    "import xgboost as xgb\n",
    "from sklearn.metrics import mean_squared_error"
   ]
  },
  {
   "cell_type": "code",
   "execution_count": 4,
   "metadata": {
    "collapsed": true
   },
   "outputs": [],
   "source": [
    "#candidate_branches = [\"PFMET\", \"nCleanedJetsPt30\", \"nCleanedJetsPt30BTagged_bTagSF\", \"nExtraLep\", \"ZZMass\", \"nExtraZ\", \"Z1Mass\", \"Z2Mass\", \"Z1Pt\", \"Z2Pt\", \"ZZMassErr\", \"ZZPt\", \"ZZEta\", \"ZZPhi\", \"Z1Flav\", \"Z2Flav\", \"costhetastar\", \"helphi\", \"helcosthetaZ1\", \"helcosthetaZ2\", \"phistarZ1\", \"phistarZ2\", \"xi\", \"xistar\"]\n",
    "candidate_branches = [\"PFMET\", \"nCleanedJetsPt30\", \"nCleanedJetsPt30BTagged_bTagSF\", \"nExtraLep\", \"ZZMass\", \"nExtraZ\", \"Z1Mass\", \"Z2Mass\", \"Z1Pt\", \"Z2Pt\", \"ZZMassErr\", \"ZZPt\", \"ZZEta\", \"ZZPhi\", \"Z1Flav\", \"Z2Flav\"]\n",
    "MELA_branches = [\"D_VBF2j_ggH_ME\", \"D_VBF1j_ggH_ME\", \"D_WHh_ggH_ME\", \"D_ZHh_ggH_ME\", \"D_WHh_ZHh_ME\", \"D_VBF2j_WHh_ME\", \"D_VBF2j_ZHh_ME\"]\n",
    "#list_branches = [\"Jet\", \"Lep\", \"ExtraLep\"]\n",
    "list_branches = [\"Jet\", \"ExtraLep\"]\n",
    "pt_limits = [30.0, 0.0, 0.0]"
   ]
  },
  {
   "cell_type": "code",
   "execution_count": 5,
   "metadata": {
    "collapsed": true
   },
   "outputs": [],
   "source": [
    "allbranches = [\"JetPt\", \"JetEta\", \"JetPhi\", \"LepPt\", \"LepEta\", \"LepPhi\", \"ExtraLepPt\", \"ExtraLepEta\", \"ExtraLepPhi\"] + candidate_branches + MELA_branches + [\"LHEAssociatedParticleId\", \"GenAssocLep1Id\", \"GenAssocLep2Id\", \"training_weight\"]"
   ]
  },
  {
   "cell_type": "code",
   "execution_count": 6,
   "metadata": {
    "collapsed": true
   },
   "outputs": [],
   "source": [
    "#MC_path = \"/data_CMS/cms/wind/CJLST_NTuples_randomizeda/\"\n",
    "MC_path = \"/data_CMS/cms/wind/CJLST_NTuples/\""
   ]
  },
  {
   "cell_type": "code",
   "execution_count": 7,
   "metadata": {
    "collapsed": true
   },
   "outputs": [],
   "source": [
    "def WHhadr0j_cut(row):\n",
    "    return cuts.WHhadr_cut(row) and row[\"nCleanedJetsPt30\"] == 0\n",
    "\n",
    "def WHhadr01j_cut(row):\n",
    "    return cuts.WHhadr_cut(row) and (row[\"nCleanedJetsPt30\"] == 0 or row[\"nCleanedJetsPt30\"] == 1)\n",
    "\n",
    "def WHhadr1j_cut(row):\n",
    "    return cuts.WHhadr_cut(row) and row[\"nCleanedJetsPt30\"] == 1\n",
    "\n",
    "def WHhadr2j_cut(row):\n",
    "    return cuts.WHhadr_cut(row) and row[\"nCleanedJetsPt30\"] >= 2\n",
    "\n",
    "def ZHhadr0j_cut(row):\n",
    "    return cuts.ZHhadr_cut(row) and row[\"nCleanedJetsPt30\"] == 0\n",
    "\n",
    "def ZHhadr01j_cut(row):\n",
    "    return cuts.ZHhadr_cut(row) and (row[\"nCleanedJetsPt30\"] == 0 or row[\"nCleanedJetsPt30\"] == 1)\n",
    "\n",
    "def ZHhadr1j_cut(row):\n",
    "    return cuts.ZHhadr_cut(row) and row[\"nCleanedJetsPt30\"] == 1\n",
    "\n",
    "def ZHhadr2j_cut(row):\n",
    "    return cuts.ZHhadr_cut(row) and row[\"nCleanedJetsPt30\"] >= 2\n",
    "\n",
    "def mZZ0j_cut(row):\n",
    "    return cuts.mZZ_cut(row) and row[\"nCleanedJetsPt30\"] == 0\n",
    "\n",
    "def mZZ01j_cut(row):\n",
    "    return cuts.mZZ_cut(row) and (row[\"nCleanedJetsPt30\"] == 0 or row[\"nCleanedJetsPt30\"] == 1)\n",
    "\n",
    "def mZZ1j_cut(row):\n",
    "    return cuts.mZZ_cut(row) and row[\"nCleanedJetsPt30\"] == 1\n",
    "\n",
    "def mZZ2j_cut(row):\n",
    "    return cuts.mZZ_cut(row) and row[\"nCleanedJetsPt30\"] >= 2"
   ]
  },
  {
   "cell_type": "code",
   "execution_count": 8,
   "metadata": {
    "collapsed": false
   },
   "outputs": [],
   "source": [
    "collections = {\"VBF2j\": {MC_path + \"VBFH125/ZZ4lAnalysis.root\": mZZ2j_cut},\n",
    "            \"VBF1j\": {MC_path + \"VBFH125/ZZ4lAnalysis.root\": mZZ1j_cut},\n",
    "            \"VBF0j\": {MC_path + \"VBFH125/ZZ4lAnalysis.root\": mZZ0j_cut},\n",
    "            \"VBF01j\": {MC_path + \"VBFH125/ZZ4lAnalysis.root\": mZZ01j_cut},\n",
    "            \"VBF\": {MC_path + \"VBFH125/ZZ4lAnalysis.root\": cuts.mZZ_cut},\n",
    "            \"ggH2j\": {MC_path + \"ggH125/ZZ4lAnalysis.root\": mZZ2j_cut},\n",
    "            \"ggH1j\": {MC_path + \"ggH125/ZZ4lAnalysis.root\": mZZ1j_cut},\n",
    "            \"ggH0j\": {MC_path + \"ggH125/ZZ4lAnalysis.root\": mZZ0j_cut},\n",
    "            \"ggH01j\": {MC_path + \"ggH125/ZZ4lAnalysis.root\": mZZ01j_cut},\n",
    "            \"ggH\" : {MC_path + \"ggH125/ZZ4lAnalysis.root\": cuts.mZZ_cut},\n",
    "            \"WHh2j\": {MC_path + \"WplusH125/ZZ4lAnalysis.root\": WHhadr2j_cut, MC_path + \"WminusH125/ZZ4lAnalysis.root\": WHhadr2j_cut},\n",
    "            \"WHh1j\": {MC_path + \"WplusH125/ZZ4lAnalysis.root\": WHhadr1j_cut, MC_path + \"WminusH125/ZZ4lAnalysis.root\": WHhadr1j_cut},\n",
    "            \"WHh0j\": {MC_path + \"WplusH125/ZZ4lAnalysis.root\": WHhadr0j_cut, MC_path + \"WminusH125/ZZ4lAnalysis.root\": WHhadr0j_cut},\n",
    "            \"WHh\": {MC_path + \"WplusH125/ZZ4lAnalysis.root\": cuts.WHhadr_cut, MC_path + \"WminusH125/ZZ4lAnalysis.root\": cuts.WHhadr_cut},\n",
    "            \"WHh01j\": {MC_path + \"WplusH125/ZZ4lAnalysis.root\": WHhadr01j_cut, MC_path + \"WminusH125/ZZ4lAnalysis.root\": WHhadr01j_cut},\n",
    "            \"WHl\": {MC_path + \"WplusH125/ZZ4lAnalysis.root\": cuts.WHlept_cut, MC_path + \"WminusH125/ZZ4lAnalysis.root\": cuts.WHlept_cut},\n",
    "            \"ZHh2j\": {MC_path + \"ZH125/ZZ4lAnalysis.root\": ZHhadr2j_cut},\n",
    "            \"ZHh1j\": {MC_path + \"ZH125/ZZ4lAnalysis.root\": ZHhadr1j_cut},\n",
    "            \"ZHh01j\": {MC_path + \"ZH125/ZZ4lAnalysis.root\": ZHhadr01j_cut},\n",
    "            \"ZHh0j\": {MC_path + \"ZH125/ZZ4lAnalysis.root\": ZHhadr0j_cut},\n",
    "            \"ZHh\": {MC_path + \"ZH125/ZZ4lAnalysis.root\": cuts.ZHhadr_cut},\n",
    "            \"ZHl\": {MC_path + \"ZH125/ZZ4lAnalysis.root\": cuts.ZHlept_cut},\n",
    "            \"ttHh\": {MC_path + \"ttH125/ZZ4lAnalysis.root\": cuts.ttHhadr_cut},\n",
    "            \"ttHl\": {MC_path + \"ttH125/ZZ4lAnalysis.root\": cuts.ttHlept_cut},\n",
    "            \"ZHMET\": {MC_path + \"ZH125/ZZ4lAnalysis.root\": cuts.ZHMET_cut}\n",
    "          }"
   ]
  },
  {
   "cell_type": "code",
   "execution_count": 9,
   "metadata": {
    "collapsed": true
   },
   "outputs": [],
   "source": [
    "# all the model combinations for which neural networks are currently trained\n",
    "discriminant_pairs = [(\"VBF2j\", \"ggH2j\"), (\"VBF1j\", \"ggH1j\"), (\"VBF0j\", \"ggH0j\"), (\"WHh2j\", \"ggH2j\"), \n",
    "                     (\"WHh1j\", \"ggH1j\"), (\"WHh0j\", \"ggH0j\"), (\"ZHh2j\", \"ggH2j\"), (\"ZHh1j\", \"ggH1j\"), \n",
    "                      (\"ZHh0j\", \"ggH0j\"), (\"WHh2j\", \"ZHh2j\"), (\"WHh01j\", \"ZHh01j\"), (\"VBF2j\", \"WHh2j\"),\n",
    "                     (\"VBF1j\", \"WHh1j\"), (\"VBF0j\", \"WHh0j\"), (\"VBF2j\", \"ZHh2j\"), (\"VBF1j\", \"ZHh1j\"), \n",
    "                      (\"VBF0j\", \"ZHh0h\"), (\"WHl\", \"ggH\"), (\"WHl\", \"VBF\"), (\"WHl\", \"WHh\"), (\"WHl\", \"ZHh\"),\n",
    "                     (\"WHl\", \"ZHl\"), (\"WHl\", \"ZHMET\"), (\"WHl\", \"ttHh\"), (\"WHl\", \"ttHl\"), (\"ZHh\", \"ZHl\"),\n",
    "                     (\"ZHh\", \"ZHMET\"), (\"ZHh\", \"ttHh\"), (\"ZHh\", \"ttHl\"), (\"ZHl\", \"ggH\"), (\"ZHl\", \"VBF\"),\n",
    "                     (\"ZHl\", \"WHh\"), (\"ZHl\", \"ZHMET\"), (\"ZHl\", \"ttHh\"), (\"ZHl\", \"ttHl\"), (\"ZHMET\", \"ggH\"),\n",
    "                     (\"ZHMET\", \"VBF\"), (\"ZHMET\", \"WHh\"), (\"ZHMET\", \"ttHh\"), (\"ZHMET\", \"ttHl\"), (\"ttHh\", \"ggH\"),\n",
    "                      (\"ttHh\", \"VBF\"), (\"ttHh\", \"WHh\"), (\"ttHh\", \"ttHl\"), (\"ttHl\", \"ggH\"), (\"ttHl\", \"VBF\"),\n",
    "                     (\"ttHl\", \"WHh\")]"
   ]
  },
  {
   "cell_type": "code",
   "execution_count": 10,
   "metadata": {
    "collapsed": true
   },
   "outputs": [],
   "source": [
    "def extract_order(df, col_basename, sorted_column, columns, order):\n",
    "    def get_index(row, order, col_basename, sorted_column):\n",
    "        sorted_column = row[col_basename + sorted_column]\n",
    "        if order >= len(sorted_column):\n",
    "            return -1\n",
    "        else:\n",
    "            return np.flipud(np.argsort(sorted_column))[order]\n",
    "    \n",
    "    index_column = pd.DataFrame(df.transform(lambda row: get_index(row, order, col_basename, sorted_column), axis = 1, raw = True))\n",
    "    index_column.columns = [\"index\"]\n",
    "    df_temp = pd.concat([index_column, df], axis = 1)\n",
    "    \n",
    "    def get_element(row, column_name):\n",
    "        if row[\"index\"] == -1:\n",
    "            return 0\n",
    "        else:\n",
    "            return row[column_name][row[\"index\"]]\n",
    "        \n",
    "    extracted_cols = pd.DataFrame()\n",
    "    for column in columns:\n",
    "        extracted_col = pd.DataFrame(df_temp.transform(lambda row: get_element(row, col_basename + column), axis = 1, raw = True))\n",
    "        extracted_col.columns = [col_basename + column + \"_\" + str(order)]\n",
    "        extracted_cols = pd.concat([extracted_cols, extracted_col], axis = 1)\n",
    "        \n",
    "    return extracted_cols"
   ]
  },
  {
   "cell_type": "code",
   "execution_count": 11,
   "metadata": {
    "collapsed": true
   },
   "outputs": [],
   "source": [
    "def prepare_data(df, col_basenames, sorted_column, columns, orders, pt_limits):\n",
    "    all_extracted = pd.DataFrame()\n",
    "    for col_basename, pt_limit in zip(col_basenames, pt_limits):\n",
    "        for order in orders:\n",
    "            extracted = extract_order(df, col_basename, sorted_column, columns, order)\n",
    "            mask = extracted[col_basename + \"Pt_\" + str(order)] < pt_limit\n",
    "            extracted[mask] = 0.0\n",
    "\n",
    "            all_extracted = pd.concat([all_extracted, extracted], axis = 1)\n",
    "            \n",
    "    return all_extracted"
   ]
  },
  {
   "cell_type": "code",
   "execution_count": 12,
   "metadata": {
    "collapsed": false
   },
   "outputs": [],
   "source": [
    "def get_data(H1_coll, H0_coll, read_branches, input_branches, list_branches, pt_limits):\n",
    "    H1_df = H1_coll.get_data(read_branches, 0.0, 1.0)\n",
    "    H0_df = H0_coll.get_data(read_branches, 0.0, 1.0)\n",
    "    \n",
    "    H1_list_df = prepare_data(H1_df, list_branches, \"Pt\", [\"Pt\", \"Eta\", \"Phi\"], range(2), pt_limits)\n",
    "    H0_list_df = prepare_data(H0_df, list_branches, \"Pt\", [\"Pt\", \"Eta\", \"Phi\"], range(2), pt_limits)\n",
    "    \n",
    "    list_branches_unrolled = H1_list_df.columns\n",
    "            \n",
    "    H1_df = pd.concat([H1_df, H1_list_df], axis = 1)\n",
    "    H0_df = pd.concat([H0_df, H0_list_df], axis = 1)        \n",
    "    \n",
    "    complete_input_branches = np.concatenate([input_branches, list_branches_unrolled])\n",
    "            \n",
    "    H1_df = H1_df[complete_input_branches]\n",
    "    H0_df = H0_df[complete_input_branches]\n",
    "    \n",
    "    return H1_df, H0_df"
   ]
  },
  {
   "cell_type": "code",
   "execution_count": 13,
   "metadata": {
    "collapsed": true
   },
   "outputs": [],
   "source": [
    "def get_data_dmatrix(H1_coll, H0_coll, read_branches, input_branches, list_branches, pt_limits):\n",
    "    H1_df, H0_df = get_data(H1_coll, H0_coll, read_branches, input_branches, list_branches, pt_limits)\n",
    "    \n",
    "    complete_input_branches = H1_df.columns\n",
    "    print \"number of input variables: \" + str(len(complete_input_branches))\n",
    "    print \"final list of inputs: \" + str(complete_input_branches)\n",
    "    \n",
    "    H1_data = H1_df.as_matrix()\n",
    "    H0_data = H0_df.as_matrix()\n",
    "    H1_target = np.ones(np.shape(H1_data)[0])\n",
    "    H0_target = np.zeros(np.shape(H0_data)[0])\n",
    "    \n",
    "    target = np.concatenate([H1_target, H0_target])\n",
    "    data = np.concatenate([H1_data, H0_data])\n",
    "    \n",
    "    dmatrix = xgb.DMatrix(data, label = target, feature_names = complete_input_branches)\n",
    "    \n",
    "    return dmatrix"
   ]
  },
  {
   "cell_type": "code",
   "execution_count": 14,
   "metadata": {
    "collapsed": true
   },
   "outputs": [],
   "source": [
    "def get_feature_correlation(source, corr_branches, mandatory_branches, optional_branches, list_branches, pt_limits):    \n",
    "    coll = FileCollection(collections[source], 0.0, 0.5)\n",
    "    \n",
    "    input_branches = [branch for branch in mandatory_branches]\n",
    "    \n",
    "    for optional_branch in optional_branches:\n",
    "        if \"0j\" in source and (\"0j\" in optional_branch):\n",
    "            input_branches.append(optional_branch)\n",
    "            \n",
    "        if \"1j\" in source and (\"1j\" in optional_branch):\n",
    "            input_branches.append(optional_branch)\n",
    "            \n",
    "        if \"2j\" in source and (\"2j\" in optional_branch):\n",
    "            input_branches.append(optional_branch)\n",
    "\n",
    "    df, _ = get_data(coll, coll, allbranches, input_branches, list_branches, pt_limits)\n",
    "\n",
    "    df = df[corr_branches]\n",
    "    \n",
    "    fig = plt.figure(figsize=(10,15))\n",
    "    ax = fig.add_subplot(111)\n",
    "    \n",
    "    cax = ax.matshow(df.corr(), vmin = -1.0, vmax = 1.0, cmap = \"RdBu\")\n",
    "    \n",
    "    fig.colorbar(cax)\n",
    "    \n",
    "    ax.xaxis.set_major_locator(ticker.MultipleLocator(1))\n",
    "    ax.yaxis.set_major_locator(ticker.MultipleLocator(1))\n",
    "    \n",
    "    ax.set_yticklabels([''] + corr_branches)\n",
    "    ax.set_xticklabels([''] + corr_branches, rotation = 'vertical')\n",
    "    \n",
    "    return fig"
   ]
  },
  {
   "cell_type": "code",
   "execution_count": 15,
   "metadata": {
    "collapsed": true
   },
   "outputs": [],
   "source": [
    "def get_interpolating_function(data, bins):\n",
    "    bin_centers = [np.mean([bins[i], bins[i + 1]]) for i in range(len(bins) - 1)]\n",
    "    intf = interpolate.interp1d(bin_centers, data, kind = \"linear\")\n",
    "    interpolated_function = lambda x: intf(x) if x > bin_centers[0] and x < bin_centers[-1] else 0\n",
    "    \n",
    "    return interpolated_function"
   ]
  },
  {
   "cell_type": "code",
   "execution_count": 16,
   "metadata": {
    "collapsed": true
   },
   "outputs": [],
   "source": [
    "def get_binned_data(df, branch):\n",
    "    data = df[branch].as_matrix()\n",
    "    weights = df[\"training_weight\"].as_matrix()\n",
    "    \n",
    "    # set the bin width\n",
    "    q75, q25 = np.percentile(data, [75, 25])\n",
    "    bin_width = max(2 * (q75 - q25) / len(data)**0.33, 0.005)\n",
    "\n",
    "    data_max = np.max(data)\n",
    "    data_min = np.min(data)\n",
    "    bins = np.arange(data_min, data_max + bin_width, bin_width)\n",
    "    \n",
    "    weights = weights / (np.sum(weights) * bin_width)\n",
    "    \n",
    "    hist = np.histogram(data, bins = bins, weights = weights)\n",
    "    return hist"
   ]
  },
  {
   "cell_type": "code",
   "execution_count": 62,
   "metadata": {
    "collapsed": true
   },
   "outputs": [],
   "source": [
    "def get_feature_importance_list_separation(disc_pair, mandatory_branches, optional_branches, list_branches, pt_limits):\n",
    "    H1_name = disc_pair[0]\n",
    "    H0_name = disc_pair[1]\n",
    "    \n",
    "    input_branches = [branch for branch in mandatory_branches]\n",
    "    \n",
    "    for optional_branch in optional_branches:\n",
    "        if (\"0j\" in H1_name or \"0j\" in H0_name) and (\"0j\" in optional_branch):\n",
    "            input_branches.append(optional_branch)  \n",
    "        elif (\"1j\" in H1_name or \"1j\" in H0_name) and (\"1j\" in optional_branch):\n",
    "            input_branches.append(optional_branch)\n",
    "        elif (\"2j\" in H1_name or \"2j\" in H0_name) and not (\"1j\" in optional_branch):\n",
    "            input_branches.append(optional_branch)\n",
    "            \n",
    "    # needed to build the histograms\n",
    "    input_branches.append(\"training_weight\")\n",
    "    \n",
    "    H1_coll = FileCollection(collections[H1_name], 0.0, 0.5)\n",
    "    H0_coll = FileCollection(collections[H0_name], 0.0, 0.5)\n",
    "    \n",
    "    H1_df, H0_df = get_data(H1_coll, H0_coll, allbranches, input_branches, list_branches, pt_limits)\n",
    "    \n",
    "    available_branches = H1_df.columns\n",
    "    \n",
    "    implist = {}\n",
    "    for branch in available_branches:\n",
    "                \n",
    "        if \"training_weight\" not in branch:\n",
    "            data_H1, bins_H1 = get_binned_data(H1_df, branch)\n",
    "            data_H0, bins_H0 = get_binned_data(H0_df, branch)\n",
    "\n",
    "            if(len(data_H1) > 0):\n",
    "                H1_func = get_interpolating_function(data_H1, bins_H1)\n",
    "                H0_func = get_interpolating_function(data_H0, bins_H0)\n",
    "\n",
    "                # compute the separation in this branch\n",
    "                global_min = np.min(np.concatenate([bins_H0, bins_H1]))\n",
    "                global_max = np.max(np.concatenate([bins_H0, bins_H1]))\n",
    "\n",
    "                separation_func = lambda x: (H1_func(x) + H0_func(x)) * (H1_func(x) - H0_func(x))**2\n",
    "\n",
    "                sep = integrate.quad(separation_func, global_min, global_max)[0]\n",
    "            else:\n",
    "                sep = 0.0\n",
    "                \n",
    "            print \"separation for \" + branch + \" = \" + str(sep)\n",
    "            implist[branch] = sep\n",
    "        \n",
    "    # normalize the importance list\n",
    "    impsum = sum([val for key, val in implist.iteritems()])\n",
    "    for key in implist.keys():\n",
    "        implist[key] /= impsum\n",
    "        \n",
    "    return None, None, implist"
   ]
  },
  {
   "cell_type": "code",
   "execution_count": 61,
   "metadata": {
    "collapsed": false
   },
   "outputs": [],
   "source": [
    "def get_feature_importance_list_BDT(disc_pair, mandatory_branches, optional_branches, list_branches, pt_limits):\n",
    "    H1_name = disc_pair[0]\n",
    "    H0_name = disc_pair[1]\n",
    "    \n",
    "    # first assemble the list of branches that can serve as input: it will *always* contain the mandatory branches,\n",
    "    # and *can* contain some of the optional branches, if the name of the categories allows it\n",
    "    input_branches = [branch for branch in mandatory_branches]\n",
    "    \n",
    "    for optional_branch in optional_branches:\n",
    "        if (\"0j\" in H1_name or \"0j\" in H0_name) and (\"0j\" in optional_branch):\n",
    "            input_branches.append(optional_branch)  \n",
    "        elif (\"1j\" in H1_name or \"1j\" in H0_name) and (\"1j\" in optional_branch):\n",
    "            input_branches.append(optional_branch)\n",
    "        elif (\"2j\" in H1_name or \"2j\" in H0_name) and not (\"1j\" in optional_branch):\n",
    "            input_branches.append(optional_branch)\n",
    "            \n",
    "        # the fully inclusive categories (i.e. those with NO \"xxj\" in their name, can not use MELA, since there may\n",
    "        # be events with low number of jets contained)\n",
    "    \n",
    "    # get the training data for the BDT ...\n",
    "    H1_coll_train = FileCollection(collections[H1_name], 0.0, 0.5)\n",
    "    H0_coll_train = FileCollection(collections[H0_name], 0.0, 0.5)\n",
    "    \n",
    "    dtrain = get_data_dmatrix(H1_coll_train, H0_coll_train, allbranches, input_branches, list_branches, pt_limits)\n",
    "    \n",
    "    # ... and the validation data as well\n",
    "    H1_coll_val = FileCollection(collections[H1_name], 0.5, 1.0)\n",
    "    H0_coll_val = FileCollection(collections[H0_name], 0.5, 1.0)\n",
    "    dval = get_data_dmatrix(H1_coll_val, H0_coll_val, allbranches, input_branches, list_branches, pt_limits)\n",
    "    \n",
    "    evallist = [(dtrain, 'train'), (dval, 'eval')]\n",
    "    \n",
    "    # perform the training\n",
    "    # try different tree depths and choose the one that gives the best RMSE (i.e. avoid too deep trees to start with)\n",
    "        \n",
    "    params = {'eta': 0.01, 'silent': 1, 'gamma': 0.5, 'objective': 'binary:logistic'}\n",
    "    params['nthread'] = 4\n",
    "    params['eval_metric'] = 'rmse'\n",
    "    max_num_rounds = 2000\n",
    "    \n",
    "    best_loss = 1e6\n",
    "    best_imp = None\n",
    "    best_params = None\n",
    "    for tree_depth in range(1,8):\n",
    "        params['max_depth'] = tree_depth\n",
    "        \n",
    "        bst = xgb.train(params, dtrain, max_num_rounds, evals = evallist, early_stopping_rounds = 10, verbose_eval = False)\n",
    "    \n",
    "        pred = bst.predict(dval)\n",
    "        cur_loss = np.sqrt(mean_squared_error(pred, dval.get_label()))\n",
    "        cur_imp = bst.get_fscore()\n",
    "\n",
    "        print \"for max_depth = \" + str(params['max_depth']) + \": loss = \" + str(cur_loss)\n",
    "        \n",
    "        if cur_loss < best_loss:\n",
    "            best_loss = cur_loss\n",
    "            best_imp = copy.copy(cur_imp)\n",
    "            best_params = copy.copy(params)\n",
    "            \n",
    "    # normalize the usage score w.r.t. the total score (i.e. sum of all individuals)\n",
    "    score_sum = sum([val for key, val in best_imp.iteritems()])\n",
    "    used_variables = {key: val / float(score_sum) for key, val in sorted(best_imp.iteritems(), key = lambda x: x[1], reverse = True)}           \n",
    "    return best_params, dtrain.feature_names, used_variables"
   ]
  },
  {
   "cell_type": "code",
   "execution_count": 19,
   "metadata": {
    "collapsed": false
   },
   "outputs": [],
   "source": [
    "def get_histogram(df, branch, label):\n",
    "    data = df[branch].as_matrix()\n",
    "    weights = df[\"training_weight\"].as_matrix()\n",
    "    \n",
    "    # set the bin width\n",
    "    q75, q25 = np.percentile(data, [75, 25])\n",
    "    bin_width = max(2 * (q75 - q25) / len(data)**0.33, 0.005)\n",
    "\n",
    "    data_max = np.max(data)\n",
    "    data_min = np.min(data)\n",
    "    bins = np.arange(data_min, data_max + bin_width, bin_width)\n",
    "    \n",
    "    weights = weights / (np.sum(weights) * bin_width)\n",
    "    \n",
    "    fig = plt.hist(data, bins = bins, weights = weights, alpha = 0.5, label = label)\n",
    "    return fig"
   ]
  },
  {
   "cell_type": "code",
   "execution_count": 20,
   "metadata": {
    "collapsed": true
   },
   "outputs": [],
   "source": [
    "def plot_branch(disc_pair, branch, start_fraction = 0.0, end_fraction = 1.0):\n",
    "    H1_name = disc_pair[0]\n",
    "    H0_name = disc_pair[1]\n",
    "    \n",
    "    # get the training data for the BDT ...\n",
    "    H1_coll = FileCollection(collections[H1_name], start_fraction, end_fraction)\n",
    "    H0_coll = FileCollection(collections[H0_name], start_fraction, end_fraction)\n",
    "    \n",
    "    H1_df, H0_df = get_data(H1_coll, H0_coll, allbranches, allbranches, list_branches, pt_limits)\n",
    "    \n",
    "    plt.figure()\n",
    "    H1_hist = get_histogram(H1_df, branch, H1_name)\n",
    "    H0_hist = get_histogram(H0_df, branch, H0_name)\n",
    "    \n",
    "    plt.legend(loc = 'upper right')\n",
    "    plt.show()"
   ]
  },
  {
   "cell_type": "code",
   "execution_count": 21,
   "metadata": {
    "collapsed": false
   },
   "outputs": [],
   "source": [
    "def plot_variables(discs):\n",
    "    plotframe = pd.DataFrame()\n",
    "    \n",
    "    for disc in discs:\n",
    "        _, _, implist = get_feature_importance_list_BDT(disc, candidate_branches, MELA_branches, list_branches, pt_limits)\n",
    "        \n",
    "        # cut the list to select only the 95% most important variables\n",
    "        cutimplist = {key: val for key, val in implist.iteritems() if val > 0.00}\n",
    "        curframe = pd.DataFrame(cutimplist, index = [len(plotframe)])\n",
    "        \n",
    "        plotframe = pd.concat([plotframe, curframe])\n",
    "        \n",
    "    plotframe = plotframe.fillna(0.0)\n",
    "    \n",
    "    print plotframe\n",
    "    print \"number of pre-selected input variables = \" + str(len(plotframe.columns))\n",
    "    \n",
    "    # start the plotting\n",
    "    parameters = plotframe.columns\n",
    "    plotdata = np.transpose(plotframe.as_matrix())\n",
    "    \n",
    "    plt.close('all')\n",
    "    fig = plt.figure(figsize=(10,15))\n",
    "    ax = fig.add_subplot(111)\n",
    "    cax = ax.matshow(plotdata, cmap = 'Blues')\n",
    "    \n",
    "    # make axis labels\n",
    "    disclabels = []\n",
    "    for disc in discs:\n",
    "        if \"0j\" in disc[0] or \"0j\" in disc[1]:\n",
    "            disclabels.append('D_' + re.sub('0j', '', disc[0]) + \"_\" + re.sub('0j', '', disc[1]) + \"_0j\")\n",
    "        elif \"01j\" in disc[0] or \"01j\" in disc[1]:\n",
    "            disclabels.append('D_' + re.sub('01j', '', disc[0]) + \"_\" + re.sub('01j', '', disc[1]) + \"_01j\")\n",
    "        elif \"1j\" in disc[0] or \"1j\" in disc[1]:\n",
    "            disclabels.append('D_' + re.sub('1j', '', disc[0]) + \"_\" + re.sub('1j', '', disc[1]) + \"_1j\")\n",
    "        elif \"2j\" in disc[0] or \"2j\" in disc[1]:\n",
    "            disclabels.append('D_' + re.sub('2j', '', disc[0]) + \"_\" + re.sub('2j', '', disc[1]) + \"_2j\")\n",
    "        else:\n",
    "            disclabels.append('D_' + disc[0] + \"_\" + disc[1] + \"_2j\")\n",
    "            \n",
    "    disclabels = np.concatenate([[''], np.array(disclabels)])\n",
    "    parameters = np.concatenate([[''], np.array(parameters)])\n",
    "        \n",
    "    ax.set_xticklabels(disclabels, rotation = 'vertical')\n",
    "    ax.set_yticklabels(parameters)\n",
    "    \n",
    "    ax.xaxis.set_major_locator(ticker.MultipleLocator(1))\n",
    "    ax.yaxis.set_major_locator(ticker.MultipleLocator(1))\n",
    "    \n",
    "    # sort the used variables according to their importance\n",
    "    sorted_implist = []\n",
    "    for key, val in sorted(cutimplist.iteritems(), key = lambda x: x[1], reverse = True):\n",
    "        sorted_implist.append((key, val))\n",
    "    \n",
    "    return fig, sorted_implist"
   ]
  },
  {
   "cell_type": "code",
   "execution_count": null,
   "metadata": {
    "collapsed": false
   },
   "outputs": [],
   "source": [
    "corr1 = get_feature_correlation(\"WHh1j\", [\"LepPt_0\", \"LepPt_1\"], candidate_branches, MELA_branches, list_branches, pt_limits)"
   ]
  },
  {
   "cell_type": "code",
   "execution_count": null,
   "metadata": {
    "collapsed": false
   },
   "outputs": [],
   "source": [
    "plt.show()"
   ]
  },
  {
   "cell_type": "code",
   "execution_count": 24,
   "metadata": {
    "collapsed": false,
    "scrolled": false
   },
   "outputs": [],
   "source": [
    "%%capture\n",
    "fig, implist = plot_variables([(\"VBF2j\", \"ggH2j\")])"
   ]
  },
  {
   "cell_type": "code",
   "execution_count": 25,
   "metadata": {
    "collapsed": false
   },
   "outputs": [
    {
     "data": {
      "text/plain": [
       "[('D_VBF2j_ggH_ME', 0.0934156378600823),\n",
       " ('JetPt_0', 0.08994708994708994),\n",
       " ('JetPt_1', 0.07360376249265138),\n",
       " ('ZZPt', 0.059376837154614934),\n",
       " ('nCleanedJetsPt30', 0.04838330393885949),\n",
       " ('PFMET', 0.046325690770135215),\n",
       " ('D_WHh_ZHh_ME', 0.046325690770135215),\n",
       " ('Z2Pt', 0.0435626102292769),\n",
       " ('D_ZHh_ggH_ME', 0.042328042328042326),\n",
       " ('Z1Pt', 0.042034097589653145),\n",
       " ('JetEta_1', 0.03968253968253968),\n",
       " ('JetPhi_1', 0.03827160493827161),\n",
       " ('ZZEta', 0.036331569664902995),\n",
       " ('JetEta_0', 0.035155790711346266),\n",
       " ('D_VBF2j_WHh_ME', 0.03403880070546737),\n",
       " ('ZZMass', 0.03368606701940035),\n",
       " ('ZZPhi', 0.031099353321575544),\n",
       " ('JetPhi_0', 0.030393885949441504),\n",
       " ('Z1Mass', 0.029218106995884775),\n",
       " ('D_VBF2j_ZHh_ME', 0.027865961199294534),\n",
       " ('Z2Mass', 0.025279247501469725),\n",
       " ('ZZMassErr', 0.024926513815402705),\n",
       " ('D_WHh_ggH_ME', 0.024573780129335684),\n",
       " ('Z1Flav', 0.001763668430335097),\n",
       " ('Z2Flav', 0.0014697236919459142),\n",
       " ('nCleanedJetsPt30BTagged_bTagSF', 0.0009406231628453851)]"
      ]
     },
     "execution_count": 25,
     "metadata": {},
     "output_type": "execute_result"
    }
   ],
   "source": [
    "implist"
   ]
  },
  {
   "cell_type": "code",
   "execution_count": 26,
   "metadata": {
    "collapsed": false,
    "scrolled": false
   },
   "outputs": [],
   "source": [
    "%%capture\n",
    "fig, implist = plot_variables([(\"VBF1j\", \"ggH1j\")])"
   ]
  },
  {
   "cell_type": "code",
   "execution_count": 27,
   "metadata": {
    "collapsed": false
   },
   "outputs": [
    {
     "data": {
      "text/plain": [
       "[('JetEta_0', 0.21530531324345759),\n",
       " ('ZZPt', 0.09448283675087799),\n",
       " ('D_VBF1j_ggH_ME', 0.09227370567576754),\n",
       " ('JetPt_0', 0.08468335787923417),\n",
       " ('ZZEta', 0.07584683357879234),\n",
       " ('PFMET', 0.07465730146142517),\n",
       " ('ZZMassErr', 0.05392545598731166),\n",
       " ('Z1Pt', 0.052509346323779314),\n",
       " ('Z2Pt', 0.043049733771383256),\n",
       " ('ZZMass', 0.0417469128809335),\n",
       " ('JetPhi_0', 0.04135040217514444),\n",
       " ('Z2Mass', 0.04101053585589668),\n",
       " ('Z1Mass', 0.04038744760394245),\n",
       " ('ZZPhi', 0.03460972017673049),\n",
       " ('nCleanedJetsPt30BTagged_bTagSF', 0.00708054831766172),\n",
       " ('ExtraLepPt_0', 0.0030021524866885693),\n",
       " ('ExtraLepPhi_0', 0.0019825535289452814),\n",
       " ('Z2Flav', 0.0012461765039084626),\n",
       " ('Z1Flav', 0.0005664438654129376),\n",
       " ('ExtraLepEta_0', 0.00016993315962388127),\n",
       " ('nExtraLep', 0.00011328877308258752)]"
      ]
     },
     "execution_count": 27,
     "metadata": {},
     "output_type": "execute_result"
    }
   ],
   "source": [
    "implist"
   ]
  },
  {
   "cell_type": "code",
   "execution_count": 31,
   "metadata": {
    "collapsed": false,
    "scrolled": false
   },
   "outputs": [],
   "source": [
    "%%capture\n",
    "fig, implist = plot_variables([(\"VBF0j\", \"ggH0j\")])"
   ]
  },
  {
   "cell_type": "code",
   "execution_count": 32,
   "metadata": {
    "collapsed": false
   },
   "outputs": [
    {
     "data": {
      "text/plain": [
       "[('ZZPt', 0.6882453151618398),\n",
       " ('PFMET', 0.07722884724588303),\n",
       " ('Z1Pt', 0.06700738216922203),\n",
       " ('ZZPhi', 0.05281090289608177),\n",
       " ('ZZEta', 0.04713231118682567),\n",
       " ('Z2Pt', 0.020442930153321975),\n",
       " ('Z2Mass', 0.016467915956842702),\n",
       " ('ZZMass', 0.009653605905735378),\n",
       " ('nExtraLep', 0.0073821692220329355),\n",
       " ('ZZMassErr', 0.005110732538330494),\n",
       " ('ExtraLepEta_0', 0.004542873367404884),\n",
       " ('Z1Mass', 0.0034071550255536627),\n",
       " ('ExtraLepPt_0', 0.0005678591709256105)]"
      ]
     },
     "execution_count": 32,
     "metadata": {},
     "output_type": "execute_result"
    }
   ],
   "source": [
    "implist"
   ]
  },
  {
   "cell_type": "code",
   "execution_count": 33,
   "metadata": {
    "collapsed": false,
    "scrolled": false
   },
   "outputs": [],
   "source": [
    "%%capture\n",
    "fig, implist = plot_variables([(\"WHh2j\", \"ggH2j\")])"
   ]
  },
  {
   "cell_type": "code",
   "execution_count": 34,
   "metadata": {
    "collapsed": false
   },
   "outputs": [
    {
     "data": {
      "text/plain": [
       "[('JetPt_0', 0.0807279063014229),\n",
       " ('JetPt_1', 0.07763043267834673),\n",
       " ('D_WHh_ggH_ME', 0.07075791307714645),\n",
       " ('ZZPt', 0.06732165327654632),\n",
       " ('D_VBF2j_ggH_ME', 0.06451456780563353),\n",
       " ('JetEta_0', 0.05793243635659665),\n",
       " ('ZZEta', 0.0492207917916949),\n",
       " ('Z1Pt', 0.04176749588616784),\n",
       " ('PFMET', 0.04138031168328332),\n",
       " ('ZZPhi', 0.03949278869422128),\n",
       " ('JetPhi_0', 0.03881521633917336),\n",
       " ('ZZMass', 0.03818604200948601),\n",
       " ('ZZMassErr', 0.037653663730519794),\n",
       " ('D_WHh_ZHh_ME', 0.03465298615816475),\n",
       " ('nCleanedJetsPt30', 0.03450779208208305),\n",
       " ('JetEta_1', 0.03247507501693931),\n",
       " ('Z2Mass', 0.031507114509728006),\n",
       " ('Z2Pt', 0.029232407317781435),\n",
       " ('JetPhi_1', 0.02836124286129126),\n",
       " ('Z1Mass', 0.028312844835930693),\n",
       " ('D_ZHh_ggH_ME', 0.02424741070564321),\n",
       " ('D_VBF2j_ZHh_ME', 0.023860226502758687),\n",
       " ('D_VBF2j_WHh_ME', 0.020617558803600812),\n",
       " ('Z2Flav', 0.003484657825960701),\n",
       " ('Z1Flav', 0.0019843190397831768),\n",
       " ('ExtraLepPt_0', 0.0010163585325718711),\n",
       " ('nCleanedJetsPt30BTagged_bTagSF', 0.000338786177523957)]"
      ]
     },
     "execution_count": 34,
     "metadata": {},
     "output_type": "execute_result"
    }
   ],
   "source": [
    "implist"
   ]
  },
  {
   "cell_type": "code",
   "execution_count": 35,
   "metadata": {
    "collapsed": false,
    "scrolled": false
   },
   "outputs": [],
   "source": [
    "%%capture\n",
    "fig, implist = plot_variables([(\"WHh1j\", \"ggH1j\")])"
   ]
  },
  {
   "cell_type": "code",
   "execution_count": 36,
   "metadata": {
    "collapsed": false
   },
   "outputs": [
    {
     "data": {
      "text/plain": [
       "[('JetEta_0', 0.13644053459651498),\n",
       " ('ZZEta', 0.11850786668922349),\n",
       " ('JetPt_0', 0.09896802571476908),\n",
       " ('D_VBF1j_ggH_ME', 0.08340382338013873),\n",
       " ('ZZPt', 0.07793379574804038),\n",
       " ('PFMET', 0.06087520442113573),\n",
       " ('ZZMassErr', 0.058647718942085376),\n",
       " ('ZZPhi', 0.05292392714148762),\n",
       " ('Z2Mass', 0.0519652625049343),\n",
       " ('Z2Pt', 0.0519652625049343),\n",
       " ('ZZMass', 0.05182428241132352),\n",
       " ('JetPhi_0', 0.05145773416793549),\n",
       " ('Z1Pt', 0.04649523487283595),\n",
       " ('Z1Mass', 0.043985789206564034),\n",
       " ('Z2Flav', 0.004680539107877968),\n",
       " ('nCleanedJetsPt30BTagged_bTagSF', 0.004116618733434839),\n",
       " ('ExtraLepPt_0', 0.0029041899283821122),\n",
       " ('Z1Flav', 0.002875993909659956),\n",
       " ('nExtraLep', 2.819601872215643e-05)]"
      ]
     },
     "execution_count": 36,
     "metadata": {},
     "output_type": "execute_result"
    }
   ],
   "source": [
    "implist"
   ]
  },
  {
   "cell_type": "code",
   "execution_count": 37,
   "metadata": {
    "collapsed": false,
    "scrolled": false
   },
   "outputs": [],
   "source": [
    "%%capture\n",
    "fig, implist = plot_variables([(\"WHh0j\", \"ggH0j\")])"
   ]
  },
  {
   "cell_type": "code",
   "execution_count": 38,
   "metadata": {
    "collapsed": false
   },
   "outputs": [
    {
     "data": {
      "text/plain": [
       "[('ZZPt', 0.48711484593837534),\n",
       " ('ZZEta', 0.13165266106442577),\n",
       " ('ZZMassErr', 0.08263305322128851),\n",
       " ('Z2Pt', 0.05546218487394958),\n",
       " ('Z2Mass', 0.05266106442577031),\n",
       " ('Z1Pt', 0.050140056022408966),\n",
       " ('PFMET', 0.046218487394957986),\n",
       " ('ZZMass', 0.031932773109243695),\n",
       " ('Z1Mass', 0.025210084033613446),\n",
       " ('ZZPhi', 0.02492997198879552),\n",
       " ('ExtraLepPt_0', 0.011204481792717087),\n",
       " ('ExtraLepEta_0', 0.0008403361344537816)]"
      ]
     },
     "execution_count": 38,
     "metadata": {},
     "output_type": "execute_result"
    }
   ],
   "source": [
    "implist"
   ]
  },
  {
   "cell_type": "code",
   "execution_count": 39,
   "metadata": {
    "collapsed": false,
    "scrolled": false
   },
   "outputs": [],
   "source": [
    "%%capture\n",
    "fig, implist = plot_variables([(\"ZHh2j\", \"ggH2j\")])"
   ]
  },
  {
   "cell_type": "code",
   "execution_count": 40,
   "metadata": {
    "collapsed": false
   },
   "outputs": [
    {
     "data": {
      "text/plain": [
       "[('JetPt_0', 0.10333591931730023),\n",
       " ('nCleanedJetsPt30BTagged_bTagSF', 0.09107835531419706),\n",
       " ('JetPt_1', 0.07757951900698215),\n",
       " ('D_VBF2j_ggH_ME', 0.07183863460046548),\n",
       " ('ZZPt', 0.07168347556245151),\n",
       " ('ZZEta', 0.07013188518231186),\n",
       " ('D_ZHh_ggH_ME', 0.06966640806826997),\n",
       " ('D_WHh_ggH_ME', 0.0660977501939488),\n",
       " ('JetEta_0', 0.05120248254460822),\n",
       " ('nCleanedJetsPt30', 0.04127230411171451),\n",
       " ('Z1Pt', 0.038789759503491075),\n",
       " ('D_VBF2j_WHh_ME', 0.03413498836307215),\n",
       " ('JetPhi_0', 0.02916989914662529),\n",
       " ('PFMET', 0.02591155934833204),\n",
       " ('D_WHh_ZHh_ME', 0.021722265321955005),\n",
       " ('JetEta_1', 0.020325833979829323),\n",
       " ('ZZPhi', 0.01970519782777347),\n",
       " ('ZZMass', 0.01768813033359193),\n",
       " ('Z1Mass', 0.01768813033359193),\n",
       " ('ZZMassErr', 0.015671062839410395),\n",
       " ('D_VBF2j_ZHh_ME', 0.01334367726920093),\n",
       " ('Z2Pt', 0.012102404965089216),\n",
       " ('JetPhi_1', 0.009464701318851822),\n",
       " ('Z2Mass', 0.008688906128782002),\n",
       " ('Z2Flav', 0.0017067494181536075)]"
      ]
     },
     "execution_count": 40,
     "metadata": {},
     "output_type": "execute_result"
    }
   ],
   "source": [
    "implist"
   ]
  },
  {
   "cell_type": "code",
   "execution_count": 41,
   "metadata": {
    "collapsed": false,
    "scrolled": false
   },
   "outputs": [],
   "source": [
    "%%capture\n",
    "fig, implist = plot_variables([(\"ZHh1j\", \"ggH1j\")])"
   ]
  },
  {
   "cell_type": "code",
   "execution_count": 42,
   "metadata": {
    "collapsed": false
   },
   "outputs": [
    {
     "data": {
      "text/plain": [
       "[('ZZEta', 0.12485887665819927),\n",
       " ('JetEta_0', 0.12461191081004798),\n",
       " ('D_VBF1j_ggH_ME', 0.10277307366638443),\n",
       " ('JetPt_0', 0.09624611910810048),\n",
       " ('ZZPt', 0.07285492520462884),\n",
       " ('ZZPhi', 0.06593988145639289),\n",
       " ('PFMET', 0.05895427603725656),\n",
       " ('ZZMass', 0.0558848433530906),\n",
       " ('Z2Mass', 0.05486169912503528),\n",
       " ('ZZMassErr', 0.04784081287044877),\n",
       " ('JetPhi_0', 0.045441716059836296),\n",
       " ('Z2Pt', 0.04360711261642676),\n",
       " ('Z1Pt', 0.04304261924922382),\n",
       " ('Z1Mass', 0.04067880327406153),\n",
       " ('nCleanedJetsPt30BTagged_bTagSF', 0.012912785774767146),\n",
       " ('Z2Flav', 0.004939316963025684),\n",
       " ('ExtraLepPt_0', 0.0026460626587637595),\n",
       " ('Z1Flav', 0.001905165114309907)]"
      ]
     },
     "execution_count": 42,
     "metadata": {},
     "output_type": "execute_result"
    }
   ],
   "source": [
    "implist"
   ]
  },
  {
   "cell_type": "code",
   "execution_count": 43,
   "metadata": {
    "collapsed": false,
    "scrolled": false
   },
   "outputs": [],
   "source": [
    "%%capture\n",
    "fig, implist = plot_variables([(\"ZHh0j\", \"ggH0j\")])"
   ]
  },
  {
   "cell_type": "code",
   "execution_count": 44,
   "metadata": {
    "collapsed": false
   },
   "outputs": [
    {
     "data": {
      "text/plain": [
       "[('ZZPt', 0.3042638538107265),\n",
       " ('Z1Pt', 0.1209329965829743),\n",
       " ('ZZEta', 0.10117367404546129),\n",
       " ('Z2Mass', 0.0901797652651909),\n",
       " ('Z1Mass', 0.08423711187045016),\n",
       " ('ZZPhi', 0.08082008616847422),\n",
       " ('PFMET', 0.05571237557569455),\n",
       " ('Z2Pt', 0.048432625167137124),\n",
       " ('ZZMassErr', 0.03223889466646858),\n",
       " ('ZZMass', 0.03179319566186302),\n",
       " ('ExtraLepPt_0', 0.029861833308572276),\n",
       " ('ExtraLepEta_0', 0.014262368147377804),\n",
       " ('ExtraLepPhi_0', 0.004011291041450008),\n",
       " ('Z2Flav', 0.0016342296835537068),\n",
       " ('Z1Flav', 0.00044569900460555636)]"
      ]
     },
     "execution_count": 44,
     "metadata": {},
     "output_type": "execute_result"
    }
   ],
   "source": [
    "implist"
   ]
  },
  {
   "cell_type": "code",
   "execution_count": 45,
   "metadata": {
    "collapsed": false,
    "scrolled": false
   },
   "outputs": [],
   "source": [
    "%%capture\n",
    "fig, implist = plot_variables([(\"WHh2j\", \"ZHh2j\")])"
   ]
  },
  {
   "cell_type": "code",
   "execution_count": 46,
   "metadata": {
    "collapsed": false
   },
   "outputs": [
    {
     "data": {
      "text/plain": [
       "[('D_WHh_ZHh_ME', 0.12430568856540893),\n",
       " ('nCleanedJetsPt30BTagged_bTagSF', 0.11166443210113006),\n",
       " ('D_ZHh_ggH_ME', 0.06473855583221605),\n",
       " ('JetPhi_1', 0.06205707718827811),\n",
       " ('PFMET', 0.05190576517908447),\n",
       " ('nCleanedJetsPt30', 0.051522696801379046),\n",
       " ('JetEta_0', 0.044435931813828766),\n",
       " ('D_VBF2j_WHh_ME', 0.04386132924727064),\n",
       " ('ZZMass', 0.04117985060333269),\n",
       " ('JetPt_1', 0.04079678222562728),\n",
       " ('Z2Mass', 0.03485922237119326),\n",
       " ('ZZEta', 0.033518483049224286),\n",
       " ('ZZPt', 0.032560812104960736),\n",
       " ('Z1Pt', 0.030262401838728213),\n",
       " ('JetEta_1', 0.029879333461022794),\n",
       " ('JetPt_0', 0.029687799272170082),\n",
       " ('ZZMassErr', 0.02643171806167401),\n",
       " ('D_WHh_ggH_ME', 0.02585711549511588),\n",
       " ('D_VBF2j_ZHh_ME', 0.025282512928557748),\n",
       " ('Z2Pt', 0.02489944455085233),\n",
       " ('JetPhi_0', 0.023367171040030645),\n",
       " ('Z1Mass', 0.01647194024133308),\n",
       " ('D_VBF2j_ggH_ME', 0.010151312009193642),\n",
       " ('Z2Flav', 0.00995977782034093),\n",
       " ('ZZPhi', 0.00881057268722467),\n",
       " ('Z1Flav', 0.0015322735108216816)]"
      ]
     },
     "execution_count": 46,
     "metadata": {},
     "output_type": "execute_result"
    }
   ],
   "source": [
    "implist"
   ]
  },
  {
   "cell_type": "code",
   "execution_count": 63,
   "metadata": {
    "collapsed": false,
    "scrolled": false
   },
   "outputs": [],
   "source": [
    "%%capture\n",
    "fig, implist = plot_variables([(\"WHh01j\", \"ZHh01j\")])"
   ]
  },
  {
   "cell_type": "code",
   "execution_count": 64,
   "metadata": {
    "collapsed": false
   },
   "outputs": [
    {
     "data": {
      "text/plain": [
       "[('nCleanedJetsPt30BTagged_bTagSF', 0.20610687022900764),\n",
       " ('ZZMass', 0.12213740458015267),\n",
       " ('ZZPt', 0.10347752332485156),\n",
       " ('ZZEta', 0.09245122985581),\n",
       " ('JetPt_0', 0.07633587786259542),\n",
       " ('D_VBF1j_ggH_ME', 0.06446140797285835),\n",
       " ('ZZPhi', 0.043256997455470736),\n",
       " ('PFMET', 0.04240882103477523),\n",
       " ('Z2Mass', 0.039016115351993216),\n",
       " ('JetEta_0', 0.0364715860899067),\n",
       " ('Z1Mass', 0.03307888040712468),\n",
       " ('Z2Pt', 0.031382527565733676),\n",
       " ('JetPhi_0', 0.029686174724342665),\n",
       " ('Z1Pt', 0.020356234096692113),\n",
       " ('ExtraLepEta_0', 0.019508057675996608),\n",
       " ('ZZMassErr', 0.016963528413910092),\n",
       " ('ExtraLepPt_0', 0.01272264631043257),\n",
       " ('ExtraLepPhi_0', 0.006785411365564037),\n",
       " ('Z1Flav', 0.0033927056827820186)]"
      ]
     },
     "execution_count": 64,
     "metadata": {},
     "output_type": "execute_result"
    }
   ],
   "source": [
    "implist"
   ]
  },
  {
   "cell_type": "code",
   "execution_count": 65,
   "metadata": {
    "collapsed": false,
    "scrolled": false
   },
   "outputs": [],
   "source": [
    "%%capture\n",
    "fig, implist = plot_variables([(\"VBF2j\", \"WHh2j\")])"
   ]
  },
  {
   "cell_type": "code",
   "execution_count": 66,
   "metadata": {
    "collapsed": false
   },
   "outputs": [
    {
     "data": {
      "text/plain": [
       "[('D_VBF2j_ggH_ME', 0.12462303366207515),\n",
       " ('nCleanedJetsPt30', 0.10864781155758416),\n",
       " ('D_WHh_ggH_ME', 0.07906104817018501),\n",
       " ('JetEta_0', 0.05917352677479827),\n",
       " ('ZZEta', 0.05265302795663868),\n",
       " ('JetPt_0', 0.0506968783111908),\n",
       " ('JetEta_1', 0.049474284782785885),\n",
       " ('D_WHh_ZHh_ME', 0.048496209960061945),\n",
       " ('D_VBF2j_ZHh_ME', 0.044665416904393185),\n",
       " ('ZZPt', 0.04238324231803733),\n",
       " ('JetPt_1', 0.03455864373624582),\n",
       " ('PFMET', 0.029016219740810173),\n",
       " ('ZZPhi', 0.028934713505583177),\n",
       " ('Z1Mass', 0.028038144918086233),\n",
       " ('D_VBF2j_WHh_ME', 0.02730458880104328),\n",
       " ('ZZMass', 0.0269785638601353),\n",
       " ('D_ZHh_ggH_ME', 0.025429945390822398),\n",
       " ('ZZMassErr', 0.02461488303855245),\n",
       " ('JetPhi_0', 0.024370364332871465),\n",
       " ('Z1Pt', 0.02428885809764447),\n",
       " ('Z2Mass', 0.022006683511288615),\n",
       " ('JetPhi_1', 0.018012877985165866),\n",
       " ('Z2Pt', 0.01776835927948488),\n",
       " ('nCleanedJetsPt30BTagged_bTagSF', 0.004727361643165702),\n",
       " ('Z2Flav', 0.0017116309397668921),\n",
       " ('ExtraLepPt_0', 0.0016301247045398973),\n",
       " ('Z1Flav', 0.0006520498818159589),\n",
       " ('ExtraLepEta_0', 8.150623522699487e-05)]"
      ]
     },
     "execution_count": 66,
     "metadata": {},
     "output_type": "execute_result"
    }
   ],
   "source": [
    "implist"
   ]
  },
  {
   "cell_type": "code",
   "execution_count": 67,
   "metadata": {
    "collapsed": false,
    "scrolled": false
   },
   "outputs": [],
   "source": [
    "%%capture\n",
    "fig, implist = plot_variables([(\"VBF1j\", \"WHh1j\")])"
   ]
  },
  {
   "cell_type": "code",
   "execution_count": 68,
   "metadata": {
    "collapsed": false
   },
   "outputs": [
    {
     "data": {
      "text/plain": [
       "[('JetEta_0', 0.1589121338912134),\n",
       " ('ZZEta', 0.13893305439330544),\n",
       " ('JetPt_0', 0.1002092050209205),\n",
       " ('D_VBF1j_ggH_ME', 0.06527196652719665),\n",
       " ('PFMET', 0.058744769874476986),\n",
       " ('ZZMassErr', 0.05784518828451883),\n",
       " ('Z2Mass', 0.05713389121338912),\n",
       " ('ZZPt', 0.055230125523012555),\n",
       " ('JetPhi_0', 0.05489539748953975),\n",
       " ('Z1Pt', 0.05179916317991632),\n",
       " ('Z2Pt', 0.051401673640167365),\n",
       " ('ZZPhi', 0.05069037656903766),\n",
       " ('ZZMass', 0.047740585774058576),\n",
       " ('Z1Mass', 0.04117154811715481),\n",
       " ('Z2Flav', 0.004435146443514644),\n",
       " ('nCleanedJetsPt30BTagged_bTagSF', 0.0027615062761506275),\n",
       " ('Z1Flav', 0.0021548117154811717),\n",
       " ('ExtraLepPt_0', 0.0006694560669456067)]"
      ]
     },
     "execution_count": 68,
     "metadata": {},
     "output_type": "execute_result"
    }
   ],
   "source": [
    "implist"
   ]
  },
  {
   "cell_type": "code",
   "execution_count": 69,
   "metadata": {
    "collapsed": false,
    "scrolled": false
   },
   "outputs": [],
   "source": [
    "%%capture\n",
    "fig, implist = plot_variables([(\"VBF0j\", \"WHh0j\")])"
   ]
  },
  {
   "cell_type": "code",
   "execution_count": 70,
   "metadata": {
    "collapsed": false
   },
   "outputs": [
    {
     "data": {
      "text/plain": [
       "[('ZZEta', 0.23030303030303031),\n",
       " ('PFMET', 0.21363636363636362),\n",
       " ('ZZMassErr', 0.2015151515151515),\n",
       " ('Z2Pt', 0.11818181818181818),\n",
       " ('Z1Pt', 0.09242424242424242),\n",
       " ('ExtraLepPt_0', 0.04242424242424243),\n",
       " ('Z1Mass', 0.03484848484848485),\n",
       " ('ZZPhi', 0.02727272727272727),\n",
       " ('Z2Mass', 0.022727272727272728),\n",
       " ('ZZMass', 0.012121212121212121),\n",
       " ('ZZPt', 0.004545454545454545)]"
      ]
     },
     "execution_count": 70,
     "metadata": {},
     "output_type": "execute_result"
    }
   ],
   "source": [
    "implist"
   ]
  },
  {
   "cell_type": "code",
   "execution_count": 71,
   "metadata": {
    "collapsed": false,
    "scrolled": false
   },
   "outputs": [],
   "source": [
    "%%capture\n",
    "fig, implist = plot_variables([(\"VBF2j\", \"ZHh2j\")])"
   ]
  },
  {
   "cell_type": "code",
   "execution_count": 72,
   "metadata": {
    "collapsed": false
   },
   "outputs": [
    {
     "data": {
      "text/plain": [
       "[('D_VBF2j_ggH_ME', 0.09419977592002068),\n",
       " ('nCleanedJetsPt30', 0.06683616306127725),\n",
       " ('ZZEta', 0.06295785572696716),\n",
       " ('nCleanedJetsPt30BTagged_bTagSF', 0.05416702576919762),\n",
       " ('JetEta_0', 0.050116349220029305),\n",
       " ('PFMET', 0.04572093424114453),\n",
       " ('JetEta_1', 0.045419288115142634),\n",
       " ('D_ZHh_ggH_ME', 0.043566319055416705),\n",
       " ('D_VBF2j_WHh_ME', 0.04261828837369646),\n",
       " ('JetPt_1', 0.04210118072912178),\n",
       " ('JetPt_0', 0.039989657847108506),\n",
       " ('D_WHh_ggH_ME', 0.03964491941739205),\n",
       " ('JetPhi_1', 0.036973196587089543),\n",
       " ('D_WHh_ZHh_ME', 0.034818581401361716),\n",
       " ('Z1Pt', 0.03395673532707059),\n",
       " ('ZZMassErr', 0.03356890459363958),\n",
       " ('D_VBF2j_ZHh_ME', 0.03300870464535034),\n",
       " ('ZZMass', 0.032534689304490216),\n",
       " ('Z2Mass', 0.031931397052486425),\n",
       " ('ZZPhi', 0.030121520296475048),\n",
       " ('JetPhi_0', 0.028397828147892785),\n",
       " ('ZZPt', 0.028009997414461776),\n",
       " ('Z1Mass', 0.023743859346720676),\n",
       " ('Z2Pt', 0.022494182538998535),\n",
       " ('Z1Flav', 0.0019391536671550462),\n",
       " ('Z2Flav', 0.0011634922002930277)]"
      ]
     },
     "execution_count": 72,
     "metadata": {},
     "output_type": "execute_result"
    }
   ],
   "source": [
    "implist"
   ]
  },
  {
   "cell_type": "code",
   "execution_count": 73,
   "metadata": {
    "collapsed": false,
    "scrolled": false
   },
   "outputs": [],
   "source": [
    "%%capture\n",
    "fig, implist = plot_variables([(\"VBF1j\", \"ZHh1j\")])"
   ]
  },
  {
   "cell_type": "code",
   "execution_count": 74,
   "metadata": {
    "collapsed": false
   },
   "outputs": [
    {
     "data": {
      "text/plain": [
       "[('JetEta_0', 0.16034299590226134),\n",
       " ('ZZEta', 0.15538523802296758),\n",
       " ('JetPt_0', 0.08979612485455557),\n",
       " ('PFMET', 0.07115394344108868),\n",
       " ('D_VBF1j_ggH_ME', 0.06189608944199929),\n",
       " ('ZZPt', 0.05688774219659028),\n",
       " ('ZZMassErr', 0.05602772297263115),\n",
       " ('Z2Pt', 0.05567359740982446),\n",
       " ('ZZPhi', 0.051778216218950776),\n",
       " ('ZZMass', 0.05104467041027976),\n",
       " ('Z2Mass', 0.04811048717559569),\n",
       " ('Z1Pt', 0.04026913542773309),\n",
       " ('JetPhi_0', 0.038802043810391054),\n",
       " ('Z1Mass', 0.03852380229675722),\n",
       " ('nCleanedJetsPt30BTagged_bTagSF', 0.014468558708959377),\n",
       " ('Z2Flav', 0.005868366469368139),\n",
       " ('nExtraLep', 0.0022512267921282947),\n",
       " ('Z1Flav', 0.0015429756665148986),\n",
       " ('ExtraLepPt_0', 0.00015176809834572774),\n",
       " ('ExtraLepEta_0', 2.5294683057621287e-05)]"
      ]
     },
     "execution_count": 74,
     "metadata": {},
     "output_type": "execute_result"
    }
   ],
   "source": [
    "implist"
   ]
  },
  {
   "cell_type": "code",
   "execution_count": 75,
   "metadata": {
    "collapsed": false,
    "scrolled": false
   },
   "outputs": [],
   "source": [
    "%%capture\n",
    "fig, implist = plot_variables([(\"VBF0j\", \"ZHh0j\")])"
   ]
  },
  {
   "cell_type": "code",
   "execution_count": 76,
   "metadata": {
    "collapsed": false
   },
   "outputs": [
    {
     "data": {
      "text/plain": [
       "[('ExtraLepPt_0', 0.20869565217391303),\n",
       " ('PFMET', 0.15072463768115943),\n",
       " ('Z1Pt', 0.13043478260869565),\n",
       " ('Z2Pt', 0.12173913043478261),\n",
       " ('ZZEta', 0.11884057971014493),\n",
       " ('Z1Mass', 0.08985507246376812),\n",
       " ('ZZPt', 0.0782608695652174),\n",
       " ('ZZMassErr', 0.06956521739130435),\n",
       " ('ZZPhi', 0.03188405797101449)]"
      ]
     },
     "execution_count": 76,
     "metadata": {},
     "output_type": "execute_result"
    }
   ],
   "source": [
    "implist"
   ]
  },
  {
   "cell_type": "code",
   "execution_count": null,
   "metadata": {
    "collapsed": false,
    "scrolled": false
   },
   "outputs": [],
   "source": [
    "%%capture\n",
    "fig, implist = plot_variables([(\"WHl\", \"ggH\")])"
   ]
  },
  {
   "cell_type": "code",
   "execution_count": null,
   "metadata": {
    "collapsed": false
   },
   "outputs": [],
   "source": [
    "implist"
   ]
  },
  {
   "cell_type": "code",
   "execution_count": null,
   "metadata": {
    "collapsed": false,
    "scrolled": false
   },
   "outputs": [],
   "source": [
    "%%capture\n",
    "fig, implist = plot_variables([(\"WHl\", \"VBF\")])"
   ]
  },
  {
   "cell_type": "code",
   "execution_count": null,
   "metadata": {
    "collapsed": false
   },
   "outputs": [],
   "source": [
    "implist"
   ]
  },
  {
   "cell_type": "code",
   "execution_count": null,
   "metadata": {
    "collapsed": false,
    "scrolled": false
   },
   "outputs": [],
   "source": [
    "%%capture\n",
    "fig, implist = plot_variables([(\"WHl\", \"WHh\")])"
   ]
  },
  {
   "cell_type": "code",
   "execution_count": null,
   "metadata": {
    "collapsed": false
   },
   "outputs": [],
   "source": [
    "implist"
   ]
  },
  {
   "cell_type": "code",
   "execution_count": null,
   "metadata": {
    "collapsed": false,
    "scrolled": false
   },
   "outputs": [],
   "source": [
    "%%capture\n",
    "fig, implist = plot_variables([(\"WHl\", \"ZHh\")])"
   ]
  },
  {
   "cell_type": "code",
   "execution_count": null,
   "metadata": {
    "collapsed": false
   },
   "outputs": [],
   "source": [
    "implist"
   ]
  },
  {
   "cell_type": "code",
   "execution_count": null,
   "metadata": {
    "collapsed": false,
    "scrolled": false
   },
   "outputs": [],
   "source": [
    "%%capture\n",
    "fig, implist = plot_variables([(\"WHl\", \"ZHl\")])"
   ]
  },
  {
   "cell_type": "code",
   "execution_count": null,
   "metadata": {
    "collapsed": false
   },
   "outputs": [],
   "source": [
    "implist"
   ]
  },
  {
   "cell_type": "code",
   "execution_count": null,
   "metadata": {
    "collapsed": false,
    "scrolled": false
   },
   "outputs": [],
   "source": [
    "%%capture\n",
    "fig, implist = plot_variables([(\"WHl\", \"ZHMET\")])"
   ]
  },
  {
   "cell_type": "code",
   "execution_count": null,
   "metadata": {
    "collapsed": false
   },
   "outputs": [],
   "source": [
    "implist"
   ]
  },
  {
   "cell_type": "code",
   "execution_count": null,
   "metadata": {
    "collapsed": false,
    "scrolled": false
   },
   "outputs": [],
   "source": [
    "%%capture\n",
    "fig, implist = plot_variables([(\"WHl\", \"ttHh\")])"
   ]
  },
  {
   "cell_type": "code",
   "execution_count": null,
   "metadata": {
    "collapsed": false
   },
   "outputs": [],
   "source": [
    "implist"
   ]
  },
  {
   "cell_type": "code",
   "execution_count": null,
   "metadata": {
    "collapsed": false,
    "scrolled": false
   },
   "outputs": [],
   "source": [
    "%%capture\n",
    "fig, implist = plot_variables([(\"WHl\", \"ttHl\")])"
   ]
  },
  {
   "cell_type": "code",
   "execution_count": null,
   "metadata": {
    "collapsed": false
   },
   "outputs": [],
   "source": [
    "implist"
   ]
  },
  {
   "cell_type": "code",
   "execution_count": null,
   "metadata": {
    "collapsed": false,
    "scrolled": false
   },
   "outputs": [],
   "source": [
    "%%capture\n",
    "fig, implist = plot_variables([(\"ZHh\", \"ZHl\")])"
   ]
  },
  {
   "cell_type": "code",
   "execution_count": null,
   "metadata": {
    "collapsed": false
   },
   "outputs": [],
   "source": [
    "implist"
   ]
  },
  {
   "cell_type": "code",
   "execution_count": null,
   "metadata": {
    "collapsed": false,
    "scrolled": true
   },
   "outputs": [],
   "source": [
    "plot_branch((\"WHh2j\", \"ggH2j\"), \"JetEta_0\", 0.0, 1.0)"
   ]
  }
 ],
 "metadata": {
  "kernelspec": {
   "display_name": "Python 2",
   "language": "python",
   "name": "python2"
  },
  "language_info": {
   "codemirror_mode": {
    "name": "ipython",
    "version": 2
   },
   "file_extension": ".py",
   "mimetype": "text/x-python",
   "name": "python",
   "nbconvert_exporter": "python",
   "pygments_lexer": "ipython2",
   "version": "2.7.11"
  }
 },
 "nbformat": 4,
 "nbformat_minor": 2
}
