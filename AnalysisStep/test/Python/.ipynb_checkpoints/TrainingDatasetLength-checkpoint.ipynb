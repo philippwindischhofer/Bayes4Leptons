{
 "cells": [
  {
   "cell_type": "code",
   "execution_count": 1,
   "metadata": {
    "collapsed": false
   },
   "outputs": [
    {
     "name": "stdout",
     "output_type": "stream",
     "text": [
      "Welcome to JupyROOT 6.10/09\n"
     ]
    }
   ],
   "source": [
    "from trainlib.FileCollection import FileCollection\n",
    "from trainlib.config import Config\n",
    "import trainlib.cuts as cuts\n",
    "import numpy as np\n",
    "import matplotlib.pyplot as plt\n",
    "import pandas as pd"
   ]
  },
  {
   "cell_type": "code",
   "execution_count": 2,
   "metadata": {
    "collapsed": true
   },
   "outputs": [],
   "source": [
    "MC_path = \"/data_CMS/cms/wind/CJLST_NTuples/training/\""
   ]
  },
  {
   "cell_type": "code",
   "execution_count": 3,
   "metadata": {
    "collapsed": true
   },
   "outputs": [],
   "source": [
    "def WHhadr0j_cut(row):\n",
    "    return cuts.WHhadr_cut(row) and row[\"nCleanedJetsPt30\"] == 0\n",
    "\n",
    "def WHhadr1j_cut(row):\n",
    "    return cuts.WHhadr_cut(row) and row[\"nCleanedJetsPt30\"] == 1\n",
    "\n",
    "def WHhadr2j_cut(row):\n",
    "    return cuts.WHhadr_cut(row) and row[\"nCleanedJetsPt30\"] >= 2\n",
    "\n",
    "def ZHhadr0j_cut(row):\n",
    "    return cuts.ZHhadr_cut(row) and row[\"nCleanedJetsPt30\"] == 0\n",
    "\n",
    "def ZHhadr1j_cut(row):\n",
    "    return cuts.ZHhadr_cut(row) and row[\"nCleanedJetsPt30\"] == 1\n",
    "\n",
    "def ZHhadr2j_cut(row):\n",
    "    return cuts.ZHhadr_cut(row) and row[\"nCleanedJetsPt30\"] >= 2\n",
    "\n",
    "def mZZ0j_cut(row):\n",
    "    return row[\"nCleanedJetsPt30\"] == 0\n",
    "\n",
    "def mZZ1j_cut(row):\n",
    "    return row[\"nCleanedJetsPt30\"] == 1\n",
    "\n",
    "def mZZ2j_cut(row):\n",
    "    return row[\"nCleanedJetsPt30\"] >= 2"
   ]
  },
  {
   "cell_type": "code",
   "execution_count": 4,
   "metadata": {
    "collapsed": false
   },
   "outputs": [],
   "source": [
    "collections = {\"VBF2j\": {MC_path + \"VBFH125/ZZ4lAnalysis.root\": mZZ2j_cut},\n",
    "               \"VBF1j\": {MC_path + \"VBFH125/ZZ4lAnalysis.root\": mZZ1j_cut},\n",
    "               \"VBF0j\": {MC_path + \"VBFH125/ZZ4lAnalysis.root\": mZZ0j_cut},\n",
    "                \"ggH2j\": {MC_path + \"ggH125/ZZ4lAnalysis.root\": mZZ2j_cut},\n",
    "                \"ggH1j\": {MC_path + \"ggH125/ZZ4lAnalysis.root\": mZZ1j_cut},\n",
    "                \"ggH0j\": {MC_path + \"ggH125/ZZ4lAnalysis.root\": mZZ0j_cut},\n",
    "                \"WHhadr2j\": {MC_path + \"WplusH125/ZZ4lAnalysis.root\": WHhadr2j_cut, MC_path + \"WminusH125/ZZ4lAnalysis.root\": WHhadr2j_cut},\n",
    "                \"WHhadr1j\": {MC_path + \"WplusH125/ZZ4lAnalysis.root\": WHhadr1j_cut, MC_path + \"WminusH125/ZZ4lAnalysis.root\": WHhadr1j_cut},\n",
    "                \"WHhadr0j\": {MC_path + \"WplusH125/ZZ4lAnalysis.root\": WHhadr0j_cut, MC_path + \"WminusH125/ZZ4lAnalysis.root\": WHhadr0j_cut},\n",
    "                \"WHlept\": {MC_path + \"WplusH125/ZZ4lAnalysis.root\": cuts.WHlept_cut, MC_path + \"WminusH125/ZZ4lAnalysis.root\": cuts.WHlept_cut},\n",
    "                \"ZHhadr2j\": {MC_path + \"ZH125/ZZ4lAnalysis.root\": ZHhadr2j_cut},\n",
    "                \"ZHhadr1j\": {MC_path + \"ZH125/ZZ4lAnalysis.root\": ZHhadr1j_cut},\n",
    "                \"ZHhadr0j\": {MC_path + \"ZH125/ZZ4lAnalysis.root\": ZHhadr0j_cut},\n",
    "                \"ZHlept\": {MC_path + \"ZH125/ZZ4lAnalysis.root\": cuts.ZHlept_cut},\n",
    "                \"ttHhadr\": {MC_path + \"ttH125/ZZ4lAnalysis.root\": cuts.ttHhadr_cut},\n",
    "                \"ttHlept\": {MC_path + \"ttH125/ZZ4lAnalysis.root\": cuts.ttHlept_cut},\n",
    "                \"ZHMET\": {MC_path + \"ZH125/ZZ4lAnalysis.root\": cuts.ZHMET_cut}}"
   ]
  },
  {
   "cell_type": "code",
   "execution_count": 5,
   "metadata": {
    "collapsed": false,
    "scrolled": true
   },
   "outputs": [
    {
     "name": "stdout",
     "output_type": "stream",
     "text": [
      "skimming /data_CMS/cms/wind/CJLST_NTuples/training/ZH125/ZZ4lAnalysis.root\n",
      "collection set up: 1 files, 30605 entries in total, 30605 of which will be used\n",
      "skimming /data_CMS/cms/wind/CJLST_NTuples/training/ZH125/ZZ4lAnalysis.root\n",
      "collection set up: 1 files, 30605 entries in total, 30605 of which will be used\n",
      "skimming /data_CMS/cms/wind/CJLST_NTuples/training/WplusH125/ZZ4lAnalysis.root\n",
      "skimming /data_CMS/cms/wind/CJLST_NTuples/training/WminusH125/ZZ4lAnalysis.root\n",
      "collection set up: 2 files, 28317 entries in total, 28317 of which will be used\n",
      "skimming /data_CMS/cms/wind/CJLST_NTuples/training/VBFH125/ZZ4lAnalysis.root\n",
      "collection set up: 1 files, 31160 entries in total, 31160 of which will be used\n",
      "skimming /data_CMS/cms/wind/CJLST_NTuples/training/ttH125/ZZ4lAnalysis.root\n",
      "collection set up: 1 files, 19745 entries in total, 19745 of which will be used\n",
      "skimming /data_CMS/cms/wind/CJLST_NTuples/training/VBFH125/ZZ4lAnalysis.root\n",
      "collection set up: 1 files, 31160 entries in total, 31160 of which will be used\n",
      "skimming /data_CMS/cms/wind/CJLST_NTuples/training/WplusH125/ZZ4lAnalysis.root\n",
      "skimming /data_CMS/cms/wind/CJLST_NTuples/training/WminusH125/ZZ4lAnalysis.root\n",
      "collection set up: 2 files, 28317 entries in total, 28317 of which will be used\n",
      "skimming /data_CMS/cms/wind/CJLST_NTuples/training/ggH125/ZZ4lAnalysis.root\n",
      "collection set up: 1 files, 55241 entries in total, 55241 of which will be used\n",
      "skimming /data_CMS/cms/wind/CJLST_NTuples/training/VBFH125/ZZ4lAnalysis.root\n",
      "collection set up: 1 files, 31160 entries in total, 31160 of which will be used\n",
      "skimming /data_CMS/cms/wind/CJLST_NTuples/training/WplusH125/ZZ4lAnalysis.root\n",
      "skimming /data_CMS/cms/wind/CJLST_NTuples/training/WminusH125/ZZ4lAnalysis.root\n",
      "collection set up: 2 files, 28317 entries in total, 28317 of which will be used\n",
      "skimming /data_CMS/cms/wind/CJLST_NTuples/training/ggH125/ZZ4lAnalysis.root\n",
      "collection set up: 1 files, 55241 entries in total, 55241 of which will be used\n",
      "skimming /data_CMS/cms/wind/CJLST_NTuples/training/WplusH125/ZZ4lAnalysis.root\n",
      "skimming /data_CMS/cms/wind/CJLST_NTuples/training/WminusH125/ZZ4lAnalysis.root\n",
      "collection set up: 2 files, 28317 entries in total, 28317 of which will be used\n",
      "skimming /data_CMS/cms/wind/CJLST_NTuples/training/ggH125/ZZ4lAnalysis.root\n",
      "collection set up: 1 files, 55241 entries in total, 55241 of which will be used\n",
      "skimming /data_CMS/cms/wind/CJLST_NTuples/training/ZH125/ZZ4lAnalysis.root\n",
      "collection set up: 1 files, 30605 entries in total, 30605 of which will be used\n",
      "skimming /data_CMS/cms/wind/CJLST_NTuples/training/ttH125/ZZ4lAnalysis.root\n",
      "collection set up: 1 files, 19745 entries in total, 19745 of which will be used\n",
      "skimming /data_CMS/cms/wind/CJLST_NTuples/training/ZH125/ZZ4lAnalysis.root\n",
      "collection set up: 1 files, 30605 entries in total, 30605 of which will be used\n",
      "skimming /data_CMS/cms/wind/CJLST_NTuples/training/ZH125/ZZ4lAnalysis.root\n",
      "collection set up: 1 files, 30605 entries in total, 30605 of which will be used\n"
     ]
    }
   ],
   "source": [
    "number_events = {}\n",
    "event_weight = {}\n",
    "\n",
    "for source_name, stream in collections.iteritems():\n",
    "    coll = FileCollection(stream, 0.0, 1.0)\n",
    "    data = coll.get_data(Config.branches, 0.0, 1.0)\n",
    "    \n",
    "    number_events[source_name] = len(data)\n",
    "    event_weight[source_name] = sum(data[\"training_weight\"])"
   ]
  },
  {
   "cell_type": "code",
   "execution_count": 7,
   "metadata": {
    "collapsed": false
   },
   "outputs": [
    {
     "data": {
      "text/plain": [
       "{'VBF0j': 4162,\n",
       " 'VBF1j': 13084,\n",
       " 'VBF2j': 13914,\n",
       " 'WHhadr0j': 1773,\n",
       " 'WHhadr1j': 6591,\n",
       " 'WHhadr2j': 8998,\n",
       " 'WHlept': 10955,\n",
       " 'ZHMET': 2082,\n",
       " 'ZHhadr0j': 613,\n",
       " 'ZHhadr1j': 2449,\n",
       " 'ZHhadr2j': 3564,\n",
       " 'ZHlept': 21897,\n",
       " 'ggH0j': 34976,\n",
       " 'ggH1j': 14361,\n",
       " 'ggH2j': 5904,\n",
       " 'ttHhadr': 4728,\n",
       " 'ttHlept': 15017}"
      ]
     },
     "execution_count": 7,
     "metadata": {},
     "output_type": "execute_result"
    }
   ],
   "source": [
    "number_events"
   ]
  },
  {
   "cell_type": "code",
   "execution_count": null,
   "metadata": {
    "collapsed": true
   },
   "outputs": [],
   "source": []
  }
 ],
 "metadata": {
  "kernelspec": {
   "display_name": "Python 2",
   "language": "python",
   "name": "python2"
  },
  "language_info": {
   "codemirror_mode": {
    "name": "ipython",
    "version": 2
   },
   "file_extension": ".py",
   "mimetype": "text/x-python",
   "name": "python",
   "nbconvert_exporter": "python",
   "pygments_lexer": "ipython2",
   "version": "2.7.11"
  }
 },
 "nbformat": 4,
 "nbformat_minor": 2
}
