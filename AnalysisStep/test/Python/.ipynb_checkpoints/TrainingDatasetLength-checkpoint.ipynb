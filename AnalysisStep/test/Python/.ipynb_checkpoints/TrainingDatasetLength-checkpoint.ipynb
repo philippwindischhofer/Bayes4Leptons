{
 "cells": [
  {
   "cell_type": "code",
   "execution_count": 32,
   "metadata": {
    "collapsed": false
   },
   "outputs": [],
   "source": [
    "from trainlib.FileCollection import FileCollection\n",
    "from trainlib.config import Config\n",
    "import trainlib.cuts as cuts\n",
    "import numpy as np\n",
    "import matplotlib.pyplot as plt\n",
    "import pandas as pd"
   ]
  },
  {
   "cell_type": "code",
   "execution_count": 7,
   "metadata": {
    "collapsed": true
   },
   "outputs": [],
   "source": [
    "MC_path = \"/data_CMS/cms/wind/CJLST_NTuples/\""
   ]
  },
  {
   "cell_type": "code",
   "execution_count": 31,
   "metadata": {
    "collapsed": true
   },
   "outputs": [],
   "source": [
    "def WHhadr0j_cut(row):\n",
    "    return cuts.WHhadr_cut(row) and row[\"nCleanedJetsPt30\"] == 0\n",
    "\n",
    "def WHhadr1j_cut(row):\n",
    "    return cuts.WHhadr_cut(row) and row[\"nCleanedJetsPt30\"] == 1\n",
    "\n",
    "def WHhadr2j_cut(row):\n",
    "    return cuts.WHhadr_cut(row) and row[\"nCleanedJetsPt30\"] >= 2\n",
    "\n",
    "def ZHhadr0j_cut(row):\n",
    "    return cuts.ZHhadr_cut(row) and row[\"nCleanedJetsPt30\"] == 0\n",
    "\n",
    "def ZHhadr1j_cut(row):\n",
    "    return cuts.ZHhadr_cut(row) and row[\"nCleanedJetsPt30\"] == 1\n",
    "\n",
    "def ZHhadr2j_cut(row):\n",
    "    return cuts.ZHhadr_cut(row) and row[\"nCleanedJetsPt30\"] >= 2\n",
    "\n",
    "def mZZ0j_cut(row):\n",
    "    return cuts.mZZ_cut(row) and row[\"nCleanedJetsPt30\"] == 0\n",
    "\n",
    "def mZZ1j_cut(row):\n",
    "    return cuts.mZZ_cut(row) and row[\"nCleanedJetsPt30\"] == 1\n",
    "\n",
    "def mZZ2j_cut(row):\n",
    "    return cuts.mZZ_cut(row) and row[\"nCleanedJetsPt30\"] >= 2"
   ]
  },
  {
   "cell_type": "code",
   "execution_count": 28,
   "metadata": {
    "collapsed": false
   },
   "outputs": [],
   "source": [
    "collections = {\"VBF2j\": {MC_path + \"VBFH125/ZZ4lAnalysis.root\": mZZ2j_cut},\n",
    "               \"VBF1j\": {MC_path + \"VBFH125/ZZ4lAnalysis.root\": mZZ1j_cut},\n",
    "               \"VBF0j\": {MC_path + \"VBFH125/ZZ4lAnalysis.root\": mZZ0j_cut},\n",
    "                \"ggH2j\": {MC_path + \"ggH125/ZZ4lAnalysis.root\": mZZ2j_cut},\n",
    "                \"ggH1j\": {MC_path + \"ggH125/ZZ4lAnalysis.root\": mZZ1j_cut},\n",
    "                \"ggH0j\": {MC_path + \"ggH125/ZZ4lAnalysis.root\": mZZ0j_cut},\n",
    "                \"WHhadr2j\": {MC_path + \"WplusH125/ZZ4lAnalysis.root\": WHhadr2j_cut, MC_path + \"WminusH125/ZZ4lAnalysis.root\": WHhadr2j_cut},\n",
    "                \"WHhadr1j\": {MC_path + \"WplusH125/ZZ4lAnalysis.root\": WHhadr1j_cut, MC_path + \"WminusH125/ZZ4lAnalysis.root\": WHhadr1j_cut},\n",
    "                \"WHhadr0j\": {MC_path + \"WplusH125/ZZ4lAnalysis.root\": WHhadr0j_cut, MC_path + \"WminusH125/ZZ4lAnalysis.root\": WHhadr0j_cut},\n",
    "                \"WHlept\": {MC_path + \"WplusH125/ZZ4lAnalysis.root\": cuts.WHlept_cut, MC_path + \"WminusH125/ZZ4lAnalysis.root\": cuts.WHlept_cut},\n",
    "                \"ZHhadr2j\": {MC_path + \"ZH125/ZZ4lAnalysis.root\": ZHhadr2j_cut},\n",
    "                \"ZHhadr1j\": {MC_path + \"ZH125/ZZ4lAnalysis.root\": ZHhadr1j_cut},\n",
    "                \"ZHhadr0j\": {MC_path + \"ZH125/ZZ4lAnalysis.root\": ZHhadr0j_cut},\n",
    "                \"ZHlept\": {MC_path + \"ZH125/ZZ4lAnalysis.root\": cuts.ZHlept_cut},\n",
    "                \"ttHhadr\": {MC_path + \"ttH125/ZZ4lAnalysis.root\": cuts.ttHhadr_cut},\n",
    "                \"ttHlept\": {MC_path + \"ttH125/ZZ4lAnalysis.root\": cuts.ttHlept_cut},\n",
    "                \"ZHMET\": {MC_path + \"ZH125/ZZ4lAnalysis.root\": cuts.ZHMET_cut}}"
   ]
  },
  {
   "cell_type": "code",
   "execution_count": 29,
   "metadata": {
    "collapsed": false,
    "scrolled": true
   },
   "outputs": [
    {
     "name": "stdout",
     "output_type": "stream",
     "text": [
      "skimming /data_CMS/cms/wind/CJLST_NTuples/ZH125/ZZ4lAnalysis.root\n",
      "collection set up: 1 files, 61210 entries in total, 30605 of which will be used\n",
      "skimming /data_CMS/cms/wind/CJLST_NTuples/ZH125/ZZ4lAnalysis.root\n",
      "collection set up: 1 files, 61210 entries in total, 30605 of which will be used\n",
      "skimming /data_CMS/cms/wind/CJLST_NTuples/WminusH125/ZZ4lAnalysis.root\n",
      "skimming /data_CMS/cms/wind/CJLST_NTuples/WplusH125/ZZ4lAnalysis.root\n",
      "collection set up: 2 files, 56636 entries in total, 28317 of which will be used\n",
      "skimming /data_CMS/cms/wind/CJLST_NTuples/VBFH125/ZZ4lAnalysis.root\n",
      "collection set up: 1 files, 62320 entries in total, 31160 of which will be used\n",
      "skimming /data_CMS/cms/wind/CJLST_NTuples/ttH125/ZZ4lAnalysis.root\n",
      "collection set up: 1 files, 39490 entries in total, 19745 of which will be used\n",
      "skimming /data_CMS/cms/wind/CJLST_NTuples/VBFH125/ZZ4lAnalysis.root\n",
      "collection set up: 1 files, 62320 entries in total, 31160 of which will be used\n",
      "skimming /data_CMS/cms/wind/CJLST_NTuples/WminusH125/ZZ4lAnalysis.root\n",
      "skimming /data_CMS/cms/wind/CJLST_NTuples/WplusH125/ZZ4lAnalysis.root\n",
      "collection set up: 2 files, 56636 entries in total, 28317 of which will be used\n",
      "skimming /data_CMS/cms/wind/CJLST_NTuples/ggH125/ZZ4lAnalysis.root\n",
      "collection set up: 1 files, 110483 entries in total, 55241 of which will be used\n",
      "skimming /data_CMS/cms/wind/CJLST_NTuples/VBFH125/ZZ4lAnalysis.root\n",
      "collection set up: 1 files, 62320 entries in total, 31160 of which will be used\n",
      "skimming /data_CMS/cms/wind/CJLST_NTuples/WminusH125/ZZ4lAnalysis.root\n",
      "skimming /data_CMS/cms/wind/CJLST_NTuples/WplusH125/ZZ4lAnalysis.root\n",
      "collection set up: 2 files, 56636 entries in total, 28317 of which will be used\n",
      "skimming /data_CMS/cms/wind/CJLST_NTuples/ggH125/ZZ4lAnalysis.root\n",
      "collection set up: 1 files, 110483 entries in total, 55241 of which will be used\n",
      "skimming /data_CMS/cms/wind/CJLST_NTuples/WminusH125/ZZ4lAnalysis.root\n",
      "skimming /data_CMS/cms/wind/CJLST_NTuples/WplusH125/ZZ4lAnalysis.root\n",
      "collection set up: 2 files, 56636 entries in total, 28317 of which will be used\n",
      "skimming /data_CMS/cms/wind/CJLST_NTuples/ggH125/ZZ4lAnalysis.root\n",
      "collection set up: 1 files, 110483 entries in total, 55241 of which will be used\n",
      "skimming /data_CMS/cms/wind/CJLST_NTuples/ZH125/ZZ4lAnalysis.root\n",
      "collection set up: 1 files, 61210 entries in total, 30605 of which will be used\n",
      "skimming /data_CMS/cms/wind/CJLST_NTuples/ttH125/ZZ4lAnalysis.root\n",
      "collection set up: 1 files, 39490 entries in total, 19745 of which will be used\n",
      "skimming /data_CMS/cms/wind/CJLST_NTuples/ZH125/ZZ4lAnalysis.root\n",
      "collection set up: 1 files, 61210 entries in total, 30605 of which will be used\n",
      "skimming /data_CMS/cms/wind/CJLST_NTuples/ZH125/ZZ4lAnalysis.root\n",
      "collection set up: 1 files, 61210 entries in total, 30605 of which will be used\n"
     ]
    }
   ],
   "source": [
    "number_events = {}\n",
    "event_weight = {}\n",
    "\n",
    "for source_name, stream in collections.iteritems():\n",
    "    coll = FileCollection(stream, 0.0, 0.5)\n",
    "    data = coll.get_data(Config.branches, 0.0, 1.0)\n",
    "    \n",
    "    number_events[source_name] = len(data)\n",
    "    event_weight[source_name] = sum(data[\"training_weight\"])"
   ]
  },
  {
   "cell_type": "code",
   "execution_count": 30,
   "metadata": {
    "collapsed": false
   },
   "outputs": [
    {
     "data": {
      "text/plain": [
       "{'VBF0j': 3683,\n",
       " 'VBF1j': 11994,\n",
       " 'VBF2j': 12977,\n",
       " 'WHhadr0j': 1550,\n",
       " 'WHhadr1j': 5984,\n",
       " 'WHhadr2j': 8250,\n",
       " 'WHlept': 7816,\n",
       " 'ZHMET': 1911,\n",
       " 'ZHhadr0j': 545,\n",
       " 'ZHhadr1j': 2248,\n",
       " 'ZHhadr2j': 3251,\n",
       " 'ZHlept': 1815,\n",
       " 'ggH0j': 32069,\n",
       " 'ggH1j': 13306,\n",
       " 'ggH2j': 5410,\n",
       " 'ttHhadr': 4161,\n",
       " 'ttHlept': 5599}"
      ]
     },
     "execution_count": 30,
     "metadata": {},
     "output_type": "execute_result"
    }
   ],
   "source": [
    "number_events"
   ]
  },
  {
   "cell_type": "code",
   "execution_count": null,
   "metadata": {
    "collapsed": true
   },
   "outputs": [],
   "source": []
  }
 ],
 "metadata": {
  "kernelspec": {
   "display_name": "Python 2",
   "language": "python",
   "name": "python2"
  },
  "language_info": {
   "codemirror_mode": {
    "name": "ipython",
    "version": 2
   },
   "file_extension": ".py",
   "mimetype": "text/x-python",
   "name": "python",
   "nbconvert_exporter": "python",
   "pygments_lexer": "ipython2",
   "version": "2.7.11"
  }
 },
 "nbformat": 4,
 "nbformat_minor": 2
}
