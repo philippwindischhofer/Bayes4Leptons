{
 "cells": [
  {
   "cell_type": "code",
   "execution_count": 1,
   "metadata": {
    "collapsed": true
   },
   "outputs": [],
   "source": [
    "# can plot 2d histograms of arbitrary variables stored in the tree"
   ]
  },
  {
   "cell_type": "code",
   "execution_count": 2,
   "metadata": {
    "collapsed": false
   },
   "outputs": [
    {
     "name": "stdout",
     "output_type": "stream",
     "text": [
      "Welcome to JupyROOT 6.10/09\n"
     ]
    }
   ],
   "source": [
    "from trainlib.FileCollection import FileCollection\n",
    "import trainlib.cuts as cuts\n",
    "from trainlib.utils import read_data\n",
    "from trainlib.config import Config\n",
    "import matplotlib.pyplot as plt\n",
    "from matplotlib.colors import LogNorm\n",
    "import re\n",
    "import pandas as pd\n",
    "import numpy as np"
   ]
  },
  {
   "cell_type": "code",
   "execution_count": 3,
   "metadata": {
    "collapsed": true
   },
   "outputs": [],
   "source": [
    "def extract_column(df, colstring):\n",
    "    if '[' in colstring and ']' in colstring:\n",
    "        col, sorted_col_order, _ = re.split('[\\[\\]]', colstring)\n",
    "        sorted_col, order = re.split('\\|', sorted_col_order)\n",
    "        cf = extract_order_filtered(df, sorted_col, [col], int(order))\n",
    "    else:\n",
    "        cf = df[[colstring]]\n",
    "    return cf"
   ]
  },
  {
   "cell_type": "code",
   "execution_count": 4,
   "metadata": {
    "collapsed": true
   },
   "outputs": [],
   "source": [
    "def extract_order_filtered(df, sorted_column, columns, order):\n",
    "    extracted_raw = extract_order(df, sorted_column, columns, order)\n",
    "\n",
    "    if any(\"Jet\" in col for col in extracted_raw.columns):\n",
    "        # apply the jet-pt cut\n",
    "        mask_column = extract_order(df, \"JetPt\", [\"JetPt\"], order)\n",
    "        mask = mask_column < 30.0\n",
    "        extracted_raw[mask.as_matrix()] = 0.0\n",
    "\n",
    "    return extracted_raw"
   ]
  },
  {
   "cell_type": "code",
   "execution_count": 5,
   "metadata": {
    "collapsed": true
   },
   "outputs": [],
   "source": [
    "def extract_order(df, sorted_column, columns, order):\n",
    "    def get_index(row, order, sorted_column):\n",
    "        sorted_column = row[sorted_column]\n",
    "        if order >= len(sorted_column):\n",
    "            return -1\n",
    "        else:\n",
    "            return np.flipud(np.argsort(sorted_column))[order]\n",
    "\n",
    "    index_column = pd.DataFrame(df.transform(lambda row: get_index(row, order, sorted_column), axis = 1, raw = True))\n",
    "    index_column.columns = [\"index\"]\n",
    "    df_temp = pd.concat([index_column, df], axis = 1)\n",
    "\n",
    "    def get_element(row, column_name):\n",
    "        if row[\"index\"] == -1:\n",
    "            return 0\n",
    "        else:\n",
    "            return row[column_name][row[\"index\"]]\n",
    "\n",
    "    extracted_cols = pd.DataFrame()\n",
    "    for column in columns:\n",
    "        extracted_col = pd.DataFrame(df_temp.transform(lambda row: get_element(row, column), axis = 1, raw = True))\n",
    "        extracted_col.columns = [column + \"_\" + str(order)]\n",
    "        extracted_cols = pd.concat([extracted_cols, extracted_col], axis = 1)\n",
    "\n",
    "    return extracted_cols"
   ]
  },
  {
   "cell_type": "code",
   "execution_count": 6,
   "metadata": {
    "collapsed": false
   },
   "outputs": [],
   "source": [
    "def plot_2d_histogram(df, x_var, y_var, x_range, y_range, x_label, y_label, log_scale = True):\n",
    "    x_data = extract_column(df, x_var).as_matrix().flatten()\n",
    "    y_data = extract_column(df, y_var).as_matrix().flatten()\n",
    "    \n",
    "    x_edges = np.linspace(x_range[0], x_range[1], x_range[2])\n",
    "    y_edges = np.linspace(y_range[0], y_range[1], y_range[2])\n",
    "    \n",
    "    weights = np.full(len(x_data), 1.0 / len(x_data))\n",
    "    \n",
    "    H, x_edges, y_edges = np.histogram2d(x_data, y_data, bins = (x_edges, y_edges), weights = weights)\n",
    "    \n",
    "    return plot_2d_raw(H, x_edges, y_edges, x_label, y_label, log_scale = log_scale), H"
   ]
  },
  {
   "cell_type": "code",
   "execution_count": 7,
   "metadata": {
    "collapsed": true
   },
   "outputs": [],
   "source": [
    "def plot_2d_raw(H, x_edges, y_edges, x_label, y_label, log_scale = True):\n",
    "    fig = plt.figure()\n",
    "    ax = fig.add_subplot(111)\n",
    "        \n",
    "    if log_scale:\n",
    "        cax = ax.imshow(H, interpolation = \"nearest\", cmap = \"hot\", origin = \"low\", \n",
    "                        extent=[x_edges[0], x_edges[-1], y_edges[0], y_edges[-1]],\n",
    "                       norm = LogNorm(vmin = 0.0001, vmax = 1))\n",
    "    else:\n",
    "        cax = ax.imshow(H, interpolation = \"nearest\", cmap = \"hot\", origin = \"low\", \n",
    "                extent=[x_edges[0], x_edges[-1], y_edges[0], y_edges[-1]])\n",
    "    \n",
    "    ax.set_xlabel(x_label)\n",
    "    ax.set_ylabel(y_label)\n",
    "    \n",
    "    fig.colorbar(cax)\n",
    "    \n",
    "    return fig"
   ]
  },
  {
   "cell_type": "code",
   "execution_count": 8,
   "metadata": {
    "collapsed": true
   },
   "outputs": [],
   "source": [
    "j2cut = lambda row: row[\"nCleanedJetsPt30\"] >= 2"
   ]
  },
  {
   "cell_type": "code",
   "execution_count": 9,
   "metadata": {
    "collapsed": true
   },
   "outputs": [],
   "source": [
    "whhadr_2jcut = lambda row: cuts.WHhadr_cut(row) and j2cut(row)"
   ]
  },
  {
   "cell_type": "code",
   "execution_count": 10,
   "metadata": {
    "collapsed": false
   },
   "outputs": [],
   "source": [
    "input_stream_VBF = {\"/data_CMS/cms/wind/CJLST_NTuples_prepared/VBFH125/ZZ4lAnalysis.root\" : j2cut}\n",
    "input_stream_ggH = {\"/data_CMS/cms/wind/CJLST_NTuples_prepared/ggH125/ZZ4lAnalysis.root\" : j2cut}\n",
    "input_stream_WHh = {\"/data_CMS/cms/wind/CJLST_NTuples_prepared/WminusH125/ZZ4lAnalysis.root\" : whhadr_2jcut,\n",
    "                    \"/data_CMS/cms/wind/CJLST_NTuples_prepared/WplusH125/ZZ4lAnalysis.root\" : whhadr_2jcut}"
   ]
  },
  {
   "cell_type": "code",
   "execution_count": 11,
   "metadata": {
    "collapsed": false
   },
   "outputs": [
    {
     "name": "stdout",
     "output_type": "stream",
     "text": [
      "skimming /data_CMS/cms/wind/CJLST_NTuples_prepared/VBFH125/ZZ4lAnalysis.root\n",
      "collection set up: 1 files, 62320 entries in total, 62320 of which will be used\n"
     ]
    }
   ],
   "source": [
    "fcoll = FileCollection(input_stream_VBF, 0.0, 1.0)\n",
    "plot_data_VBF = read_data(fcoll, 0, 62000, branches = Config.branches)"
   ]
  },
  {
   "cell_type": "code",
   "execution_count": 12,
   "metadata": {
    "collapsed": false
   },
   "outputs": [
    {
     "name": "stdout",
     "output_type": "stream",
     "text": [
      "skimming /data_CMS/cms/wind/CJLST_NTuples_prepared/ggH125/ZZ4lAnalysis.root\n",
      "collection set up: 1 files, 110483 entries in total, 110483 of which will be used\n"
     ]
    }
   ],
   "source": [
    "fcoll = FileCollection(input_stream_ggH, 0.0, 1.0)\n",
    "plot_data_ggH = read_data(fcoll, 0, 110000, branches = Config.branches)"
   ]
  },
  {
   "cell_type": "code",
   "execution_count": 13,
   "metadata": {
    "collapsed": false
   },
   "outputs": [
    {
     "name": "stdout",
     "output_type": "stream",
     "text": [
      "skimming /data_CMS/cms/wind/CJLST_NTuples_prepared/WminusH125/ZZ4lAnalysis.root\n",
      "skimming /data_CMS/cms/wind/CJLST_NTuples_prepared/WplusH125/ZZ4lAnalysis.root\n",
      "collection set up: 2 files, 56636 entries in total, 56636 of which will be used\n"
     ]
    }
   ],
   "source": [
    "fcoll = FileCollection(input_stream_WHh, 0.0, 1.0)\n",
    "plot_data_WHh = read_data(fcoll, 0, 56000, branches = Config.branches)"
   ]
  },
  {
   "cell_type": "code",
   "execution_count": 223,
   "metadata": {
    "collapsed": false
   },
   "outputs": [],
   "source": [
    "fig, H_VBF = plot_2d_histogram(plot_data_VBF, \"JetPt[JetPt|0]\", \"JetPt[JetPt|1]\", (30, 500, 10), (30, 500, 10))"
   ]
  },
  {
   "cell_type": "code",
   "execution_count": 224,
   "metadata": {
    "collapsed": false
   },
   "outputs": [
    {
     "data": {
      "image/png": "[encoded data removed]",
      "text/plain": [
       "<matplotlib.figure.Figure at 0x7f99e70b03d0>"
      ]
     },
     "metadata": {},
     "output_type": "display_data"
    }
   ],
   "source": [
    "plt.show()"
   ]
  },
  {
   "cell_type": "code",
   "execution_count": 24,
   "metadata": {
    "collapsed": false
   },
   "outputs": [],
   "source": [
    "fig, _ = plot_2d_histogram(plot_data_VBF, \"JetEta[JetPt|0]\", \"JetEta[JetPt|1]\", (-2,2,20), (-2,2,20), r'$\\eta_{0}$', r'$\\eta_{1}$', False)"
   ]
  },
  {
   "cell_type": "code",
   "execution_count": 25,
   "metadata": {
    "collapsed": false
   },
   "outputs": [
    {
     "data": {
      "image/png": "[encoded data removed]",
      "text/plain": [
       "<matplotlib.figure.Figure at 0x7ff87918cad0>"
      ]
     },
     "metadata": {},
     "output_type": "display_data"
    }
   ],
   "source": [
    "plt.show()"
   ]
  },
  {
   "cell_type": "code",
   "execution_count": 227,
   "metadata": {
    "collapsed": false
   },
   "outputs": [],
   "source": [
    "fig, H_ggH = plot_2d_histogram(plot_data_ggH, \"JetPt[JetPt|0]\", \"JetPt[JetPt|1]\", (30, 500, 10), (30, 500, 10))"
   ]
  },
  {
   "cell_type": "code",
   "execution_count": 228,
   "metadata": {
    "collapsed": false
   },
   "outputs": [
    {
     "data": {
      "image/png": "[encoded data removed]",
      "text/plain": [
       "<matplotlib.figure.Figure at 0x7f99e565abd0>"
      ]
     },
     "metadata": {},
     "output_type": "display_data"
    }
   ],
   "source": [
    "plt.show()"
   ]
  },
  {
   "cell_type": "code",
   "execution_count": 229,
   "metadata": {
    "collapsed": true
   },
   "outputs": [],
   "source": [
    "fig, _ = plot_2d_histogram(plot_data_ggH, \"JetEta[JetPt|0]\", \"JetEta[JetPt|1]\", (-2,2,10), (-2,2,10))"
   ]
  },
  {
   "cell_type": "code",
   "execution_count": 230,
   "metadata": {
    "collapsed": false
   },
   "outputs": [
    {
     "data": {
      "image/png": "[encoded data removed]",
      "text/plain": [
       "<matplotlib.figure.Figure at 0x7f99e6ce97d0>"
      ]
     },
     "metadata": {},
     "output_type": "display_data"
    }
   ],
   "source": [
    "plt.show()"
   ]
  },
  {
   "cell_type": "code",
   "execution_count": 22,
   "metadata": {
    "collapsed": false
   },
   "outputs": [],
   "source": [
    "fig, _ = plot_2d_histogram(plot_data_WHh, \"JetEta[JetPt|0]\", \"JetEta[JetPt|1]\", (-2,2,20), (-2,2,20), r'$\\eta_{0}$', r'$\\eta_{1}$', False)"
   ]
  },
  {
   "cell_type": "code",
   "execution_count": 23,
   "metadata": {
    "collapsed": false
   },
   "outputs": [
    {
     "data": {
      "image/png": "[encoded data removed]",
      "text/plain": [
       "<matplotlib.figure.Figure at 0x7ff878b54cd0>"
      ]
     },
     "metadata": {},
     "output_type": "display_data"
    }
   ],
   "source": [
    "plt.show()"
   ]
  },
  {
   "cell_type": "code",
   "execution_count": 184,
   "metadata": {
    "collapsed": true
   },
   "outputs": [],
   "source": [
    "x_edges = np.linspace(30, 500, 10)\n",
    "y_edges = np.linspace(30, 500, 10)"
   ]
  },
  {
   "cell_type": "code",
   "execution_count": 196,
   "metadata": {
    "collapsed": false
   },
   "outputs": [
    {
     "name": "stderr",
     "output_type": "stream",
     "text": [
      "/cvmfs/cms.cern.ch/slc6_amd64_gcc630/external/py2-pippkgs/6.0-fmblme/lib/python2.7/site-packages/ipykernel_launcher.py:4: RuntimeWarning: invalid value encountered in divide\n",
      "  after removing the cwd from sys.path.\n"
     ]
    },
    {
     "data": {
      "text/plain": [
       "<matplotlib.colorbar.Colorbar at 0x7f99e55de2d0>"
      ]
     },
     "execution_count": 196,
     "metadata": {},
     "output_type": "execute_result"
    }
   ],
   "source": [
    "fig = plt.figure()\n",
    "ax = fig.add_subplot(111)\n",
    "\n",
    "rel_change = np.abs(np.divide(H_VBF - H_ggH, np.maximum(H_VBF, H_ggH)))\n",
    "rel_change = np.nan_to_num(rel_change)\n",
    "\n",
    "abs_change = np.abs(H_VBF - H_ggH)\n",
    "\n",
    "cax = ax.imshow(abs_change, interpolation = \"nearest\", cmap = \"hot\", origin = \"low\", \n",
    "                extent=[x_edges[0], x_edges[-1], y_edges[0], y_edges[-1]])\n",
    "fig.colorbar(cax)"
   ]
  },
  {
   "cell_type": "code",
   "execution_count": 197,
   "metadata": {
    "collapsed": false
   },
   "outputs": [
    {
     "data": {
      "image/png": "[encoded data removed]",
      "text/plain": [
       "<matplotlib.figure.Figure at 0x7f99e49bead0>"
      ]
     },
     "metadata": {},
     "output_type": "display_data"
    }
   ],
   "source": [
    "plt.show()"
   ]
  },
  {
   "cell_type": "code",
   "execution_count": null,
   "metadata": {
    "collapsed": true
   },
   "outputs": [],
   "source": []
  }
 ],
 "metadata": {
  "kernelspec": {
   "display_name": "Python 2",
   "language": "python",
   "name": "python2"
  },
  "language_info": {
   "codemirror_mode": {
    "name": "ipython",
    "version": 2
   },
   "file_extension": ".py",
   "mimetype": "text/x-python",
   "name": "python",
   "nbconvert_exporter": "python",
   "pygments_lexer": "ipython2",
   "version": "2.7.11"
  }
 },
 "nbformat": 4,
 "nbformat_minor": 2
}
