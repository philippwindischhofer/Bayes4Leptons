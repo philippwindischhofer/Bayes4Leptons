{
 "cells": [
  {
   "cell_type": "code",
   "execution_count": 13,
   "metadata": {
    "collapsed": true
   },
   "outputs": [],
   "source": [
    "from trainlib.ConfigFileHandler import ConfigFileHandler\n",
    "from trainlib.ConfigFileUtils import ConfigFileUtils\n",
    "import yaml"
   ]
  },
  {
   "cell_type": "code",
   "execution_count": 22,
   "metadata": {
    "collapsed": true
   },
   "outputs": [],
   "source": [
    "class Systematics2YAML:\n",
    "    def __init__(this, systematics_file):\n",
    "        this.confhandler = ConfigFileHandler()\n",
    "        this.confhandler.load_configuration(systematics_file)\n",
    "        this.yaml_def = {}\n",
    "        \n",
    "    def add_systematics(this, systematics_name):\n",
    "        this.yaml_def[systematics_name] = {}\n",
    "        \n",
    "    def add_category(this, systematics_name, category_name):\n",
    "        this.yaml_def[systematics_name][category_name] = {}\n",
    "        \n",
    "    def add_category_entry(this, systematics_name, category_name, entry_dict):\n",
    "        this.yaml_def[systematics_name][category_name].update(entry_dict)\n",
    "        \n",
    "    def save(file_path):\n",
    "        with open(file_path, 'w') as yaml_file:\n",
    "            yaml.dump(full, yaml_file, default_flow_style = False)"
   ]
  },
  {
   "cell_type": "code",
   "execution_count": 2,
   "metadata": {
    "collapsed": true
   },
   "outputs": [],
   "source": [
    "systematics_file = \"/home/llr/cms/wind/cmssw/CMSSW_9_4_2/bin/slc6_amd64_gcc630/systematics_Mor18_reference.txt\""
   ]
  },
  {
   "cell_type": "code",
   "execution_count": 21,
   "metadata": {
    "collapsed": false
   },
   "outputs": [
    {
     "name": "stdout",
     "output_type": "stream",
     "text": [
      "attempting to load configuration file from /home/llr/cms/wind/cmssw/CMSSW_9_4_2/bin/slc6_amd64_gcc630/systematics_Mor18_reference.txt\n"
     ]
    }
   ],
   "source": [
    "syst = Systematics2YAML(systematics_file)"
   ]
  },
  {
   "cell_type": "code",
   "execution_count": 6,
   "metadata": {
    "collapsed": false
   },
   "outputs": [
    {
     "name": "stdout",
     "output_type": "stream",
     "text": [
      "attempting to load configuration file from /home/llr/cms/wind/cmssw/CMSSW_9_4_2/bin/slc6_amd64_gcc630/systematics_Mor18_reference.txt\n"
     ]
    }
   ],
   "source": [
    "confhandler = ConfigFileHandler()\n",
    "confhandler.load_configuration(systematics_file)"
   ]
  },
  {
   "cell_type": "code",
   "execution_count": 7,
   "metadata": {
    "collapsed": false
   },
   "outputs": [],
   "source": [
    "sect = confhandler.get_section(\"PileUp: UnTagged\")"
   ]
  },
  {
   "cell_type": "code",
   "execution_count": 12,
   "metadata": {
    "collapsed": false
   },
   "outputs": [
    {
     "data": {
      "text/plain": [
       "[1.00159, 0.998235]"
      ]
     },
     "execution_count": 12,
     "metadata": {},
     "output_type": "execute_result"
    }
   ],
   "source": [
    "ConfigFileUtils.parse_list(sect[\"ggH\"], lambda x: float(x))"
   ]
  },
  {
   "cell_type": "code",
   "execution_count": 15,
   "metadata": {
    "collapsed": false
   },
   "outputs": [],
   "source": [
    "subcategory = {'type': 'lnN', 'ggH_hzz': '0.1/1.1', 'ggZZ_hzz': '0.2/1.2'}"
   ]
  },
  {
   "cell_type": "code",
   "execution_count": 16,
   "metadata": {
    "collapsed": true
   },
   "outputs": [],
   "source": [
    "category = {'UnTagged': subcategory}"
   ]
  },
  {
   "cell_type": "code",
   "execution_count": 17,
   "metadata": {
    "collapsed": true
   },
   "outputs": [],
   "source": [
    "full = {'pdf_Higgs_gg_cat': category}"
   ]
  },
  {
   "cell_type": "code",
   "execution_count": null,
   "metadata": {
    "collapsed": true
   },
   "outputs": [],
   "source": []
  }
 ],
 "metadata": {
  "kernelspec": {
   "display_name": "Python 2",
   "language": "python",
   "name": "python2"
  },
  "language_info": {
   "codemirror_mode": {
    "name": "ipython",
    "version": 2
   },
   "file_extension": ".py",
   "mimetype": "text/x-python",
   "name": "python",
   "nbconvert_exporter": "python",
   "pygments_lexer": "ipython2",
   "version": "2.7.11"
  }
 },
 "nbformat": 4,
 "nbformat_minor": 2
}
