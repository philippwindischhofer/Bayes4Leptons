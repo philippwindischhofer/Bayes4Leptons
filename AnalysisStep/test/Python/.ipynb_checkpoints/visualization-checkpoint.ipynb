{
 "cells": [
  {
   "cell_type": "code",
   "execution_count": 1,
   "metadata": {
    "collapsed": false
   },
   "outputs": [],
   "source": [
    "from bayes_opt import BayesianOptimization\n",
    "import numpy as np\n",
    "from sklearn.gaussian_process.kernels import Matern\n",
    "import matplotlib.pyplot as plt\n",
    "from matplotlib import gridspec\n",
    "\n",
    "from trainlib.ConfigFileHandler import ConfigFileHandler"
   ]
  },
  {
   "cell_type": "code",
   "execution_count": 2,
   "metadata": {
    "collapsed": true
   },
   "outputs": [],
   "source": [
    "def load_file(path, keys):\n",
    "    confhandler = ConfigFileHandler()\n",
    "    confhandler.load_configuration(path)\n",
    "    \n",
    "    retval = {}\n",
    "    \n",
    "    for section_name in confhandler.get_sections():\n",
    "        cur_section = confhandler.get_section(section_name)\n",
    "        \n",
    "        for key in keys:\n",
    "            if not key in retval:\n",
    "                retval[key] = []\n",
    "                \n",
    "            retval[key].append(float(cur_section[key]))\n",
    "            \n",
    "    return retval"
   ]
  },
  {
   "cell_type": "code",
   "execution_count": 45,
   "metadata": {
    "collapsed": false
   },
   "outputs": [],
   "source": [
    "def posterior(bo, x):\n",
    "    bo.gp.fit(bo.X, bo.Y)\n",
    "    mu, sigma = bo.gp.predict(x, return_std=True)\n",
    "    return mu, sigma\n",
    "\n",
    "def plot_gp(bo, x):\n",
    "    \n",
    "    fig = plt.figure()\n",
    "    axis = plt.subplot(111)\n",
    "    \n",
    "    mu, sigma = posterior(bo, x)\n",
    "    axis.plot(bo.X.flatten(), bo.Y, 's', markersize=3, label=u'observations', color='black')\n",
    "    axis.plot(x, mu, '--', color='black', label='gaussian process mean')\n",
    "\n",
    "    axis.fill(np.concatenate([x, x[::-1]]), \n",
    "              np.concatenate([mu - 1.9600 * sigma, (mu + 1.9600 * sigma)[::-1]]),\n",
    "        alpha=.6, fc='lightblue', ec='None', label='95% confidence interval')\n",
    "    \n",
    "    axis.set_xlim((min(x), max(x)))\n",
    "    axis.set_ylim((None, None))\n",
    "    axis.set_ylabel('utility')\n",
    "    axis.set_xlabel('ggH prior')\n",
    "    \n",
    "    axis.legend(loc = 3)\n",
    "    \n",
    "    return fig"
   ]
  },
  {
   "cell_type": "code",
   "execution_count": 46,
   "metadata": {
    "collapsed": false
   },
   "outputs": [
    {
     "name": "stdout",
     "output_type": "stream",
     "text": [
      "attempting to load configuration file from /data_CMS/cms/wind/180430_combined_noZZ/number_layers_2.0_number_neurons_64.0/priors_tree/evaluations_ggH.txt\n"
     ]
    }
   ],
   "source": [
    "init_dict = load_file(\"/data_CMS/cms/wind/180430_combined_noZZ/number_layers_2.0_number_neurons_64.0/priors_tree/evaluations_ggH.txt\", [\"target\", \"ggh_prior\"])"
   ]
  },
  {
   "cell_type": "code",
   "execution_count": 47,
   "metadata": {
    "collapsed": true
   },
   "outputs": [],
   "source": [
    "gp_params = {'kernel': 1.0 * Matern(length_scale = 0.01, length_scale_bounds = (1e-5, 1e5), nu = 1.5),\n",
    "             'alpha':1.5e-6}"
   ]
  },
  {
   "cell_type": "code",
   "execution_count": 48,
   "metadata": {
    "collapsed": true
   },
   "outputs": [],
   "source": [
    "target = lambda x: x"
   ]
  },
  {
   "cell_type": "code",
   "execution_count": 49,
   "metadata": {
    "collapsed": false
   },
   "outputs": [],
   "source": [
    "x = np.linspace(1.0, 3.0, 1000).reshape(-1,1)"
   ]
  },
  {
   "cell_type": "code",
   "execution_count": 50,
   "metadata": {
    "collapsed": false
   },
   "outputs": [],
   "source": [
    "bo = BayesianOptimization(target, {'ggh_prior': (1.0, 3.0)})"
   ]
  },
  {
   "cell_type": "code",
   "execution_count": 51,
   "metadata": {
    "collapsed": false
   },
   "outputs": [],
   "source": [
    "bo.initialize(init_dict)"
   ]
  },
  {
   "cell_type": "code",
   "execution_count": 52,
   "metadata": {
    "collapsed": false
   },
   "outputs": [
    {
     "name": "stdout",
     "output_type": "stream",
     "text": [
      "\u001b[31mInitialization\u001b[0m\n",
      "\u001b[94m-------------------------------------------\u001b[0m\n",
      " Step |   Time |      Value |   ggh_prior | \n",
      "    1 | 00m00s | \u001b[35m  -0.01004\u001b[0m | \u001b[32m     2.4430\u001b[0m | \n",
      "    2 | 00m00s | \u001b[35m   0.01100\u001b[0m | \u001b[32m     1.5032\u001b[0m | \n",
      "    3 | 00m00s |    0.01055 |      1.5032 | \n",
      "    4 | 00m00s |    0.00625 |      1.7451 | \n",
      "    5 | 00m00s |    0.00253 |      1.0000 | \n",
      "    6 | 00m00s |   -0.03193 |      3.0000 | \n",
      "    7 | 00m00s |    0.00377 |      2.0929 | \n",
      "    8 | 00m00s |   -0.00629 |      2.4223 | \n",
      "    9 | 00m00s |    0.00826 |      1.6891 | \n",
      "   10 | 00m00s |   -0.02198 |      2.7561 | \n",
      "   11 | 00m00s |   -0.03045 |      2.9002 | \n",
      "   12 | 00m00s |   -0.00264 |      2.3119 | \n",
      "   13 | 00m00s |    0.00118 |      2.2212 | \n",
      "   14 | 00m00s |    0.00513 |      1.1176 | \n",
      "   15 | 00m00s |   -0.00449 |      2.3222 | \n",
      "   16 | 00m00s |    0.00445 |      1.0785 | \n",
      "   17 | 00m00s |    0.00015 |      2.1974 | \n",
      "   18 | 00m00s | \u001b[35m   0.01138\u001b[0m | \u001b[32m     1.5517\u001b[0m | \n",
      "   19 | 00m00s |   -0.01023 |      2.5616 | \n",
      "   20 | 00m00s |    0.01019 |      1.3063 | \n",
      "   21 | 00m00s |    0.01045 |      1.4454 | \n",
      "   22 | 00m00s |    0.00674 |      1.9188 | \n",
      "   23 | 00m00s |    0.00405 |      1.1041 | \n",
      "   24 | 00m00s |    0.00803 |      1.1634 | \n",
      "   25 | 00m00s |   -0.00042 |      2.2131 | \n",
      "   26 | 00m00s |   -0.00886 |      2.4500 | \n",
      "   27 | 00m00s |   -0.00770 |      2.4569 | \n",
      "   28 | 00m00s |    0.00647 |      1.8679 | \n",
      "   29 | 00m00s |   -0.00602 |      2.3966 | \n",
      "   30 | 00m00s |    0.00469 |      1.9313 | \n",
      "   31 | 00m00s |    0.01054 |      1.3358 | \n",
      "   32 | 00m00s |    0.00337 |      1.0000 | \n",
      "\u001b[31mBayesian Optimization\u001b[0m\n",
      "\u001b[94m-------------------------------------------\u001b[0m\n",
      " Step |   Time |      Value |   ggh_prior | \n"
     ]
    }
   ],
   "source": [
    "bo.maximize(init_points=0, n_iter=0, acq='poi', kappa=5, xi = 0.1, **gp_params)"
   ]
  },
  {
   "cell_type": "code",
   "execution_count": 53,
   "metadata": {
    "collapsed": false
   },
   "outputs": [],
   "source": [
    "fig = plot_gp(bo, x)"
   ]
  },
  {
   "cell_type": "code",
   "execution_count": 54,
   "metadata": {
    "collapsed": false
   },
   "outputs": [],
   "source": [
    "plt.savefig(\"/data_CMS/cms/wind/Plots/ggH_prior_optimization.pdf\")"
   ]
  },
  {
   "cell_type": "code",
   "execution_count": null,
   "metadata": {
    "collapsed": true
   },
   "outputs": [],
   "source": []
  }
 ],
 "metadata": {
  "kernelspec": {
   "display_name": "Python 2",
   "language": "python",
   "name": "python2"
  },
  "language_info": {
   "codemirror_mode": {
    "name": "ipython",
    "version": 2
   },
   "file_extension": ".py",
   "mimetype": "text/x-python",
   "name": "python",
   "nbconvert_exporter": "python",
   "pygments_lexer": "ipython2",
   "version": "2.7.11"
  }
 },
 "nbformat": 4,
 "nbformat_minor": 0
}
