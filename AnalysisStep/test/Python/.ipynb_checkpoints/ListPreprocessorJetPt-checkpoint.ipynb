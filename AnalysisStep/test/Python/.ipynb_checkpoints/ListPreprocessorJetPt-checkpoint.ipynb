{
 "cells": [
  {
   "cell_type": "code",
   "execution_count": 1,
   "metadata": {
    "collapsed": false
   },
   "outputs": [
    {
     "name": "stdout",
     "output_type": "stream",
     "text": [
      "Welcome to JupyROOT 6.10/09\n"
     ]
    },
    {
     "name": "stderr",
     "output_type": "stream",
     "text": [
      "Using TensorFlow backend.\n"
     ]
    }
   ],
   "source": [
    "from trainlib.Preprocessor import Preprocessor\n",
    "import trainlib.cuts as cuts\n",
    "from trainlib.FileCollection import FileCollection\n",
    "from trainlib.utils import read_data\n",
    "from trainlib.PCAWhiteningPreprocessor import PCAWhiteningPreprocessor\n",
    "from trainlib.ConfigFileUtils import ConfigFileUtils\n",
    "from trainlib.config import Config\n",
    "from trainlib.ListPreprocessor import ListPreprocessor\n",
    "import pandas as pd\n",
    "import numpy as np\n",
    "import re"
   ]
  },
  {
   "cell_type": "code",
   "execution_count": 2,
   "metadata": {
    "collapsed": true
   },
   "outputs": [],
   "source": [
    "# prepare the generator for tests\n",
    "H1_stream = {\"/data_CMS/cms/wind/CJLST_NTuples/WplusH125/ZZ4lAnalysis.root\" : cuts.no_cut}\n",
    "H0_stream = {\"/data_CMS/cms/wind/CJLST_NTuples/WminusH125/ZZ4lAnalysis.root\" : cuts.no_cut}"
   ]
  },
  {
   "cell_type": "code",
   "execution_count": 3,
   "metadata": {
    "collapsed": false
   },
   "outputs": [
    {
     "name": "stdout",
     "output_type": "stream",
     "text": [
      "skimming /data_CMS/cms/wind/CJLST_NTuples/ggH125/ZZ4lAnalysis.root\n",
      "collection set up: 1 files, 110483 entries in total, 110483 of which will be used\n"
     ]
    }
   ],
   "source": [
    "# read some input data to test it\n",
    "fcoll = FileCollection({\"/data_CMS/cms/wind/CJLST_NTuples/ggH125/ZZ4lAnalysis.root\" : cuts.no_cut}, 0.0, 1.0)\n",
    "setup_data = read_data(fcoll, 0, 10, branches = Config.branches)\n",
    "validation_data = read_data(fcoll, 400, 800, branches = Config.branches)"
   ]
  },
  {
   "cell_type": "code",
   "execution_count": 4,
   "metadata": {
    "collapsed": false
   },
   "outputs": [
    {
     "data": {
      "text/html": [
       "<div>\n",
       "<style>\n",
       "    .dataframe thead tr:only-child th {\n",
       "        text-align: right;\n",
       "    }\n",
       "\n",
       "    .dataframe thead th {\n",
       "        text-align: left;\n",
       "    }\n",
       "\n",
       "    .dataframe tbody tr th {\n",
       "        vertical-align: top;\n",
       "    }\n",
       "</style>\n",
       "<table border=\"1\" class=\"dataframe\">\n",
       "  <thead>\n",
       "    <tr style=\"text-align: right;\">\n",
       "      <th></th>\n",
       "      <th>JetPt</th>\n",
       "      <th>JetEta</th>\n",
       "      <th>JetPhi</th>\n",
       "    </tr>\n",
       "  </thead>\n",
       "  <tbody>\n",
       "    <tr>\n",
       "      <th>0</th>\n",
       "      <td>[49.9284, 44.239, 24.9626]</td>\n",
       "      <td>[1.44353, -2.87615, 2.56698]</td>\n",
       "      <td>[1.87937, -0.429858, 1.81544]</td>\n",
       "    </tr>\n",
       "    <tr>\n",
       "      <th>1</th>\n",
       "      <td>[]</td>\n",
       "      <td>[]</td>\n",
       "      <td>[]</td>\n",
       "    </tr>\n",
       "    <tr>\n",
       "      <th>2</th>\n",
       "      <td>[20.3015]</td>\n",
       "      <td>[-2.65942]</td>\n",
       "      <td>[2.65443]</td>\n",
       "    </tr>\n",
       "    <tr>\n",
       "      <th>3</th>\n",
       "      <td>[33.8587, 30.494]</td>\n",
       "      <td>[-1.54219, -0.518635]</td>\n",
       "      <td>[-2.32987, -1.07768]</td>\n",
       "    </tr>\n",
       "    <tr>\n",
       "      <th>4</th>\n",
       "      <td>[]</td>\n",
       "      <td>[]</td>\n",
       "      <td>[]</td>\n",
       "    </tr>\n",
       "    <tr>\n",
       "      <th>5</th>\n",
       "      <td>[103.664, 62.2104, 43.5837, 22.506]</td>\n",
       "      <td>[0.775233, 1.392, 2.62268, -0.200061]</td>\n",
       "      <td>[-1.0524, 2.18894, 2.08062, 1.72458]</td>\n",
       "    </tr>\n",
       "    <tr>\n",
       "      <th>6</th>\n",
       "      <td>[47.1807]</td>\n",
       "      <td>[-1.2486]</td>\n",
       "      <td>[2.16327]</td>\n",
       "    </tr>\n",
       "    <tr>\n",
       "      <th>7</th>\n",
       "      <td>[58.1711]</td>\n",
       "      <td>[-0.223021]</td>\n",
       "      <td>[-1.2299]</td>\n",
       "    </tr>\n",
       "    <tr>\n",
       "      <th>8</th>\n",
       "      <td>[79.5668, 43.9092, 31.5332]</td>\n",
       "      <td>[-0.820522, 2.5481, -1.2665]</td>\n",
       "      <td>[2.16585, 0.45532, 3.03112]</td>\n",
       "    </tr>\n",
       "    <tr>\n",
       "      <th>9</th>\n",
       "      <td>[]</td>\n",
       "      <td>[]</td>\n",
       "      <td>[]</td>\n",
       "    </tr>\n",
       "  </tbody>\n",
       "</table>\n",
       "</div>"
      ],
      "text/plain": [
       "                                 JetPt                                 JetEta  \\\n",
       "0           [49.9284, 44.239, 24.9626]           [1.44353, -2.87615, 2.56698]   \n",
       "1                                   []                                     []   \n",
       "2                            [20.3015]                             [-2.65942]   \n",
       "3                    [33.8587, 30.494]                  [-1.54219, -0.518635]   \n",
       "4                                   []                                     []   \n",
       "5  [103.664, 62.2104, 43.5837, 22.506]  [0.775233, 1.392, 2.62268, -0.200061]   \n",
       "6                            [47.1807]                              [-1.2486]   \n",
       "7                            [58.1711]                            [-0.223021]   \n",
       "8          [79.5668, 43.9092, 31.5332]           [-0.820522, 2.5481, -1.2665]   \n",
       "9                                   []                                     []   \n",
       "\n",
       "                                 JetPhi  \n",
       "0         [1.87937, -0.429858, 1.81544]  \n",
       "1                                    []  \n",
       "2                             [2.65443]  \n",
       "3                  [-2.32987, -1.07768]  \n",
       "4                                    []  \n",
       "5  [-1.0524, 2.18894, 2.08062, 1.72458]  \n",
       "6                             [2.16327]  \n",
       "7                             [-1.2299]  \n",
       "8           [2.16585, 0.45532, 3.03112]  \n",
       "9                                    []  "
      ]
     },
     "execution_count": 4,
     "metadata": {},
     "output_type": "execute_result"
    }
   ],
   "source": [
    "setup_data[[\"JetPt\", \"JetEta\", \"JetPhi\"]]"
   ]
  },
  {
   "cell_type": "code",
   "execution_count": 5,
   "metadata": {
    "collapsed": false
   },
   "outputs": [
    {
     "name": "stdout",
     "output_type": "stream",
     "text": [
      "PCA setup for 'test_base': ['JetPt', 'JetEta', 'JetPhi']\n",
      "PCAWhiteningPreprocessor for stream 'test_base'\n",
      "ListPreprocessor for stream 'test'\n"
     ]
    }
   ],
   "source": [
    "lpre = ListPreprocessor(\"test\", [\"JetPt\", \"JetEta\", \"JetPhi\"], cuts.no_cut, PCAWhiteningPreprocessor)"
   ]
  },
  {
   "cell_type": "code",
   "execution_count": 6,
   "metadata": {
    "collapsed": false
   },
   "outputs": [
    {
     "name": "stdout",
     "output_type": "stream",
     "text": [
      "List: Index([u'PFMET', u'nCleanedJetsPt30', u'nCleanedJetsPt30BTagged_bTagSF',\n",
      "       u'nExtraLep', u'ZZMass', u'LHEAssociatedParticleId', u'GenAssocLep1Id',\n",
      "       u'GenAssocLep2Id', u'D_VBF2j_ggH_ME', u'D_VBF1j_ggH_ME',\n",
      "       u'D_WHh_ggH_ME', u'D_ZHh_ggH_ME', u'D_WHh_ZHh_ME', u'D_VBF2j_WHh_ME',\n",
      "       u'D_VBF2j_ZHh_ME', u'JetPt', u'JetEta', u'JetPhi', u'LepPt', u'LepEta',\n",
      "       u'LepPhi', u'ExtraLepPt', u'ExtraLepEta', u'ExtraLepPhi', u'nExtraZ',\n",
      "       u'Z1Mass', u'Z2Mass', u'Z1Pt', u'Z2Pt', u'training_weight', u'ZZEta',\n",
      "       u'ZZPt', u'ZZMassErr', u'ZZPhi', u'costhetastar', u'helcosthetaZ1',\n",
      "       u'helcosthetaZ2', u'helphi', u'phistarZ1', u'xi', u'xistar'],\n",
      "      dtype='object')\n",
      "10 remaining after the cuts\n",
      "df_out before pt-cut: \n",
      "         JetPt    JetEta    JetPhi\n",
      "0    49.928413  1.443529  1.879369\n",
      "1    44.238998 -2.876148 -0.429858\n",
      "2    24.962551  2.566975  1.815438\n",
      "3    20.301497 -2.659419  2.654426\n",
      "4    33.858749 -1.542193 -2.329868\n",
      "5    30.494034 -0.518635 -1.077685\n",
      "6   103.664230  0.775233 -1.052401\n",
      "7    62.210358  1.392000  2.188940\n",
      "8    43.583691  2.622677  2.080624\n",
      "9    22.505951 -0.200061  1.724582\n",
      "10   47.180676 -1.248598  2.163267\n",
      "11   58.171089 -0.223021 -1.229897\n",
      "12   79.566811 -0.820522  2.165853\n",
      "13   43.909187  2.548100  0.455320\n",
      "14   31.533232 -1.266502  3.031119\n",
      "df_out after pt-cut: \n",
      "         JetPt    JetEta    JetPhi\n",
      "0    49.928413  1.443529  1.879369\n",
      "1    44.238998 -2.876148 -0.429858\n",
      "4    33.858749 -1.542193 -2.329868\n",
      "5    30.494034 -0.518635 -1.077685\n",
      "6   103.664230  0.775233 -1.052401\n",
      "7    62.210358  1.392000  2.188940\n",
      "8    43.583691  2.622677  2.080624\n",
      "10   47.180676 -1.248598  2.163267\n",
      "11   58.171089 -0.223021 -1.229897\n",
      "12   79.566811 -0.820522  2.165853\n",
      "13   43.909187  2.548100  0.455320\n",
      "14   31.533232 -1.266502  3.031119\n",
      "setting up PCA whitening on 12 events\n",
      "12 remaining after the cuts\n",
      "found a maximum list length in the setup data of 4: will pad or truncate to this length from now on\n"
     ]
    }
   ],
   "source": [
    "lpre.setup(setup_data)"
   ]
  },
  {
   "cell_type": "code",
   "execution_count": 8,
   "metadata": {
    "collapsed": false
   },
   "outputs": [
    {
     "name": "stdout",
     "output_type": "stream",
     "text": [
      "df_out before pt-cut: \n",
      "       JetPt    JetEta    JetPhi\n",
      "0  49.928413  1.443529  1.879369\n",
      "1  44.238998 -2.876148 -0.429858\n",
      "2  24.962551  2.566975  1.815438\n",
      "df_out after pt-cut: \n",
      "       JetPt    JetEta    JetPhi\n",
      "0  49.928413  1.443529  1.879369\n",
      "1  44.238998 -2.876148 -0.429858\n",
      "df_out before pt-cut: \n",
      "Empty DataFrame\n",
      "Columns: [JetPt, JetEta, JetPhi]\n",
      "Index: []\n",
      "df_out after pt-cut: \n",
      "Empty DataFrame\n",
      "Columns: [JetPt, JetEta, JetPhi]\n",
      "Index: []\n",
      "df_out before pt-cut: \n",
      "       JetPt    JetEta    JetPhi\n",
      "0  20.301497 -2.659419  2.654426\n",
      "df_out after pt-cut: \n",
      "Empty DataFrame\n",
      "Columns: [JetPt, JetEta, JetPhi]\n",
      "Index: []\n",
      "df_out before pt-cut: \n",
      "       JetPt    JetEta    JetPhi\n",
      "0  33.858749 -1.542193 -2.329868\n",
      "1  30.494034 -0.518635 -1.077685\n",
      "df_out after pt-cut: \n",
      "       JetPt    JetEta    JetPhi\n",
      "0  33.858749 -1.542193 -2.329868\n",
      "1  30.494034 -0.518635 -1.077685\n",
      "df_out before pt-cut: \n",
      "Empty DataFrame\n",
      "Columns: [JetPt, JetEta, JetPhi]\n",
      "Index: []\n",
      "df_out after pt-cut: \n",
      "Empty DataFrame\n",
      "Columns: [JetPt, JetEta, JetPhi]\n",
      "Index: []\n",
      "df_out before pt-cut: \n",
      "        JetPt    JetEta    JetPhi\n",
      "0  103.664230  0.775233 -1.052401\n",
      "1   62.210358  1.392000  2.188940\n",
      "2   43.583691  2.622677  2.080624\n",
      "3   22.505951 -0.200061  1.724582\n",
      "df_out after pt-cut: \n",
      "        JetPt    JetEta    JetPhi\n",
      "0  103.664230  0.775233 -1.052401\n",
      "1   62.210358  1.392000  2.188940\n",
      "2   43.583691  2.622677  2.080624\n",
      "df_out before pt-cut: \n",
      "       JetPt    JetEta    JetPhi\n",
      "0  47.180676 -1.248598  2.163267\n",
      "df_out after pt-cut: \n",
      "       JetPt    JetEta    JetPhi\n",
      "0  47.180676 -1.248598  2.163267\n",
      "df_out before pt-cut: \n",
      "       JetPt    JetEta    JetPhi\n",
      "0  58.171089 -0.223021 -1.229897\n",
      "df_out after pt-cut: \n",
      "       JetPt    JetEta    JetPhi\n",
      "0  58.171089 -0.223021 -1.229897\n",
      "df_out before pt-cut: \n",
      "       JetPt    JetEta    JetPhi\n",
      "0  79.566811 -0.820522  2.165853\n",
      "1  43.909187  2.548100  0.455320\n",
      "2  31.533232 -1.266502  3.031119\n",
      "df_out after pt-cut: \n",
      "       JetPt    JetEta    JetPhi\n",
      "0  79.566811 -0.820522  2.165853\n",
      "1  43.909187  2.548100  0.455320\n",
      "2  31.533232 -1.266502  3.031119\n",
      "df_out before pt-cut: \n",
      "Empty DataFrame\n",
      "Columns: [JetPt, JetEta, JetPhi]\n",
      "Index: []\n",
      "df_out after pt-cut: \n",
      "Empty DataFrame\n",
      "Columns: [JetPt, JetEta, JetPhi]\n",
      "Index: []\n"
     ]
    },
    {
     "data": {
      "text/plain": [
       "{'test': array([[[  49.92841339,    1.44352937,    1.87936914],\n",
       "         [  44.23899841,   -2.87614822,   -0.42985779],\n",
       "         [   0.        ,    0.        ,    0.        ],\n",
       "         [   0.        ,    0.        ,    0.        ]],\n",
       " \n",
       "        [[   0.        ,    0.        ,    0.        ],\n",
       "         [   0.        ,    0.        ,    0.        ],\n",
       "         [   0.        ,    0.        ,    0.        ],\n",
       "         [   0.        ,    0.        ,    0.        ]],\n",
       " \n",
       "        [[   0.        ,    0.        ,    0.        ],\n",
       "         [   0.        ,    0.        ,    0.        ],\n",
       "         [   0.        ,    0.        ,    0.        ],\n",
       "         [   0.        ,    0.        ,    0.        ]],\n",
       " \n",
       "        [[  33.85874939,   -1.5421927 ,   -2.32986808],\n",
       "         [  30.49403381,   -0.51863474,   -1.07768488],\n",
       "         [   0.        ,    0.        ,    0.        ],\n",
       "         [   0.        ,    0.        ,    0.        ]],\n",
       " \n",
       "        [[   0.        ,    0.        ,    0.        ],\n",
       "         [   0.        ,    0.        ,    0.        ],\n",
       "         [   0.        ,    0.        ,    0.        ],\n",
       "         [   0.        ,    0.        ,    0.        ]],\n",
       " \n",
       "        [[ 103.66423035,    0.77523285,   -1.05240083],\n",
       "         [  62.21035767,    1.39199984,    2.18894005],\n",
       "         [  43.58369064,    2.62267709,    2.08062434],\n",
       "         [   0.        ,    0.        ,    0.        ]],\n",
       " \n",
       "        [[  47.18067551,   -1.24859774,    2.16326666],\n",
       "         [   0.        ,    0.        ,    0.        ],\n",
       "         [   0.        ,    0.        ,    0.        ],\n",
       "         [   0.        ,    0.        ,    0.        ]],\n",
       " \n",
       "        [[  58.17108917,   -0.22302106,   -1.2298969 ],\n",
       "         [   0.        ,    0.        ,    0.        ],\n",
       "         [   0.        ,    0.        ,    0.        ],\n",
       "         [   0.        ,    0.        ,    0.        ]],\n",
       " \n",
       "        [[  79.56681061,   -0.82052237,    2.16585279],\n",
       "         [  43.90918732,    2.54810047,    0.4553197 ],\n",
       "         [  31.53323174,   -1.2665019 ,    3.03111911],\n",
       "         [   0.        ,    0.        ,    0.        ]],\n",
       " \n",
       "        [[   0.        ,    0.        ,    0.        ],\n",
       "         [   0.        ,    0.        ,    0.        ],\n",
       "         [   0.        ,    0.        ,    0.        ],\n",
       "         [   0.        ,    0.        ,    0.        ]]], dtype=float32)}"
      ]
     },
     "execution_count": 8,
     "metadata": {},
     "output_type": "execute_result"
    }
   ],
   "source": [
    "lpre.process(setup_data)"
   ]
  },
  {
   "cell_type": "code",
   "execution_count": null,
   "metadata": {
    "collapsed": false
   },
   "outputs": [],
   "source": []
  },
  {
   "cell_type": "code",
   "execution_count": null,
   "metadata": {
    "collapsed": true
   },
   "outputs": [],
   "source": []
  }
 ],
 "metadata": {
  "kernelspec": {
   "display_name": "Python 2",
   "language": "python",
   "name": "python2"
  },
  "language_info": {
   "codemirror_mode": {
    "name": "ipython",
    "version": 2
   },
   "file_extension": ".py",
   "mimetype": "text/x-python",
   "name": "python",
   "nbconvert_exporter": "python",
   "pygments_lexer": "ipython2",
   "version": "2.7.11"
  }
 },
 "nbformat": 4,
 "nbformat_minor": 2
}
