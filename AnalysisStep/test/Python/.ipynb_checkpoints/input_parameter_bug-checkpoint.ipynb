{
 "cells": [
  {
   "cell_type": "code",
   "execution_count": 7,
   "metadata": {
    "collapsed": false
   },
   "outputs": [],
   "source": [
    "from trainlib.FileCollection import FileCollection\n",
    "import trainlib.cuts as cuts\n",
    "from trainlib.utils import read_data\n",
    "from trainlib.RNNPreprocessor import RNNPreprocessor\n",
    "from trainlib.PCAWhiteningPreprocessor import PCAWhiteningPreprocessor\n",
    "from trainlib.generator import Generator\n",
    "import pandas as pd\n",
    "import numpy as np\n",
    "import pickle"
   ]
  },
  {
   "cell_type": "code",
   "execution_count": 35,
   "metadata": {
    "collapsed": false
   },
   "outputs": [
    {
     "name": "stdout",
     "output_type": "stream",
     "text": [
      "skimming /data_CMS/cms/wind/CJLST_NTuples/ggH125/ZZ4lAnalysis.root\n",
      "collection set up: 1 files, 110483 entries in total, 110483 of which will be used\n"
     ]
    }
   ],
   "source": [
    "# read some input data\n",
    "problematic_branches = [\"PFMET\", \"nCleanedJetsPt30\", \"nCleanedJetsPt30BTagged_bTagSF\", \"nExtraLep\", \"D_VBF1j_ggH_ME\", \"nExtraZ\", \"ZZMass\", \"Z2Pt\", \"Z1Pt\", \"Z2Mass\", \"Z1Mass\"]\n",
    "fcoll = FileCollection({\"/data_CMS/cms/wind/CJLST_NTuples/ggH125/ZZ4lAnalysis.root\" : cuts.no_cut}, 0.0, 1.0)\n",
    "setup_data = read_data(fcoll, 0, 110483, branches = problematic_branches)"
   ]
  },
  {
   "cell_type": "code",
   "execution_count": 36,
   "metadata": {
    "collapsed": false
   },
   "outputs": [
    {
     "data": {
      "text/html": [
       "<div>\n",
       "<style>\n",
       "    .dataframe thead tr:only-child th {\n",
       "        text-align: right;\n",
       "    }\n",
       "\n",
       "    .dataframe thead th {\n",
       "        text-align: left;\n",
       "    }\n",
       "\n",
       "    .dataframe tbody tr th {\n",
       "        vertical-align: top;\n",
       "    }\n",
       "</style>\n",
       "<table border=\"1\" class=\"dataframe\">\n",
       "  <thead>\n",
       "    <tr style=\"text-align: right;\">\n",
       "      <th></th>\n",
       "      <th>PFMET</th>\n",
       "      <th>nCleanedJetsPt30</th>\n",
       "      <th>nCleanedJetsPt30BTagged_bTagSF</th>\n",
       "      <th>nExtraLep</th>\n",
       "      <th>D_VBF1j_ggH_ME</th>\n",
       "      <th>nExtraZ</th>\n",
       "      <th>ZZMass</th>\n",
       "      <th>Z2Pt</th>\n",
       "      <th>Z1Pt</th>\n",
       "      <th>Z2Mass</th>\n",
       "      <th>Z1Mass</th>\n",
       "    </tr>\n",
       "  </thead>\n",
       "  <tbody>\n",
       "    <tr>\n",
       "      <th>2489</th>\n",
       "      <td>18.929331</td>\n",
       "      <td>0</td>\n",
       "      <td>0</td>\n",
       "      <td>2</td>\n",
       "      <td>0.261911</td>\n",
       "      <td>1</td>\n",
       "      <td>104.014984</td>\n",
       "      <td>12.784993</td>\n",
       "      <td>19.666384</td>\n",
       "      <td>45.382992</td>\n",
       "      <td>49.726887</td>\n",
       "    </tr>\n",
       "    <tr>\n",
       "      <th>49924</th>\n",
       "      <td>40.288765</td>\n",
       "      <td>1</td>\n",
       "      <td>0</td>\n",
       "      <td>2</td>\n",
       "      <td>0.233332</td>\n",
       "      <td>1</td>\n",
       "      <td>107.638596</td>\n",
       "      <td>13.859759</td>\n",
       "      <td>13.049999</td>\n",
       "      <td>31.234056</td>\n",
       "      <td>73.151329</td>\n",
       "    </tr>\n",
       "    <tr>\n",
       "      <th>51835</th>\n",
       "      <td>34.429962</td>\n",
       "      <td>1</td>\n",
       "      <td>0</td>\n",
       "      <td>2</td>\n",
       "      <td>0.566255</td>\n",
       "      <td>1</td>\n",
       "      <td>96.390297</td>\n",
       "      <td>23.187113</td>\n",
       "      <td>14.606493</td>\n",
       "      <td>27.719847</td>\n",
       "      <td>61.321182</td>\n",
       "    </tr>\n",
       "    <tr>\n",
       "      <th>53342</th>\n",
       "      <td>33.510994</td>\n",
       "      <td>0</td>\n",
       "      <td>0</td>\n",
       "      <td>2</td>\n",
       "      <td>0.266659</td>\n",
       "      <td>1</td>\n",
       "      <td>102.064476</td>\n",
       "      <td>24.286678</td>\n",
       "      <td>31.529131</td>\n",
       "      <td>23.513140</td>\n",
       "      <td>62.091290</td>\n",
       "    </tr>\n",
       "    <tr>\n",
       "      <th>79412</th>\n",
       "      <td>51.428452</td>\n",
       "      <td>0</td>\n",
       "      <td>0</td>\n",
       "      <td>2</td>\n",
       "      <td>0.321529</td>\n",
       "      <td>1</td>\n",
       "      <td>84.214584</td>\n",
       "      <td>21.754971</td>\n",
       "      <td>22.419390</td>\n",
       "      <td>28.165222</td>\n",
       "      <td>55.104885</td>\n",
       "    </tr>\n",
       "    <tr>\n",
       "      <th>80396</th>\n",
       "      <td>26.268425</td>\n",
       "      <td>0</td>\n",
       "      <td>0</td>\n",
       "      <td>2</td>\n",
       "      <td>0.381637</td>\n",
       "      <td>1</td>\n",
       "      <td>70.739967</td>\n",
       "      <td>27.180670</td>\n",
       "      <td>23.727049</td>\n",
       "      <td>20.087019</td>\n",
       "      <td>43.330177</td>\n",
       "    </tr>\n",
       "    <tr>\n",
       "      <th>88164</th>\n",
       "      <td>17.591505</td>\n",
       "      <td>0</td>\n",
       "      <td>0</td>\n",
       "      <td>2</td>\n",
       "      <td>0.292827</td>\n",
       "      <td>1</td>\n",
       "      <td>92.600426</td>\n",
       "      <td>19.198095</td>\n",
       "      <td>20.065569</td>\n",
       "      <td>16.023314</td>\n",
       "      <td>48.548168</td>\n",
       "    </tr>\n",
       "  </tbody>\n",
       "</table>\n",
       "</div>"
      ],
      "text/plain": [
       "           PFMET  nCleanedJetsPt30  nCleanedJetsPt30BTagged_bTagSF  nExtraLep  \\\n",
       "2489   18.929331                 0                               0          2   \n",
       "49924  40.288765                 1                               0          2   \n",
       "51835  34.429962                 1                               0          2   \n",
       "53342  33.510994                 0                               0          2   \n",
       "79412  51.428452                 0                               0          2   \n",
       "80396  26.268425                 0                               0          2   \n",
       "88164  17.591505                 0                               0          2   \n",
       "\n",
       "       D_VBF1j_ggH_ME  nExtraZ      ZZMass       Z2Pt       Z1Pt     Z2Mass  \\\n",
       "2489         0.261911        1  104.014984  12.784993  19.666384  45.382992   \n",
       "49924        0.233332        1  107.638596  13.859759  13.049999  31.234056   \n",
       "51835        0.566255        1   96.390297  23.187113  14.606493  27.719847   \n",
       "53342        0.266659        1  102.064476  24.286678  31.529131  23.513140   \n",
       "79412        0.321529        1   84.214584  21.754971  22.419390  28.165222   \n",
       "80396        0.381637        1   70.739967  27.180670  23.727049  20.087019   \n",
       "88164        0.292827        1   92.600426  19.198095  20.065569  16.023314   \n",
       "\n",
       "          Z1Mass  \n",
       "2489   49.726887  \n",
       "49924  73.151329  \n",
       "51835  61.321182  \n",
       "53342  62.091290  \n",
       "79412  55.104885  \n",
       "80396  43.330177  \n",
       "88164  48.548168  "
      ]
     },
     "execution_count": 36,
     "metadata": {},
     "output_type": "execute_result"
    }
   ],
   "source": [
    "setup_data.loc[setup_data[\"nExtraZ\"] > 0]"
   ]
  },
  {
   "cell_type": "code",
   "execution_count": 37,
   "metadata": {
    "collapsed": false
   },
   "outputs": [],
   "source": [
    "H1_stream = {\"/data_CMS/cms/wind/CJLST_NTuples/ggH125/ZZ4lAnalysis.root\" : cuts.no_cut}\n",
    "H0_stream = {\"/data_CMS/cms/wind/CJLST_NTuples/VBFH125/ZZ4lAnalysis.root\" : cuts.no_cut}"
   ]
  },
  {
   "cell_type": "code",
   "execution_count": 38,
   "metadata": {
    "collapsed": false
   },
   "outputs": [
    {
     "name": "stdout",
     "output_type": "stream",
     "text": [
      "skimming /data_CMS/cms/wind/CJLST_NTuples/ggH125/ZZ4lAnalysis.root\n",
      "collection set up: 1 files, 110483 entries in total, 55241 of which will be used\n",
      "skimming /data_CMS/cms/wind/CJLST_NTuples/VBFH125/ZZ4lAnalysis.root\n",
      "collection set up: 1 files, 62320 entries in total, 31160 of which will be used\n"
     ]
    }
   ],
   "source": [
    "testgen = Generator(H1_stream, H0_stream, problematic_branches, preprocessor = None)\n",
    "setup_len = testgen.setup_training_data()"
   ]
  },
  {
   "cell_type": "code",
   "execution_count": 39,
   "metadata": {
    "collapsed": true
   },
   "outputs": [],
   "source": [
    "preprocessor_cuts = lambda row: row[\"nCleanedJetsPt30\"] >= 2"
   ]
  },
  {
   "cell_type": "code",
   "execution_count": 40,
   "metadata": {
    "collapsed": false
   },
   "outputs": [
    {
     "name": "stdout",
     "output_type": "stream",
     "text": [
      "PCA setup for 'test': ['PFMET', 'nCleanedJetsPt30', 'nCleanedJetsPt30BTagged_bTagSF', 'nExtraLep', 'D_VBF1j_ggH_ME', 'nExtraZ', 'ZZMass', 'Z2Pt', 'Z1Pt', 'Z2Mass', 'Z1Mass']\n",
      "PCAWhiteningPreprocessor for stream 'test'\n"
     ]
    }
   ],
   "source": [
    "pre = PCAWhiteningPreprocessor(\"test\", problematic_branches, preprocessor_cuts)"
   ]
  },
  {
   "cell_type": "raw",
   "metadata": {},
   "source": [
    "pre.setup(setup_data)"
   ]
  },
  {
   "cell_type": "code",
   "execution_count": 41,
   "metadata": {
    "collapsed": false
   },
   "outputs": [
    {
     "name": "stdout",
     "output_type": "stream",
     "text": [
      "H1 contains 55241 entries\n",
      "H0 contains 31160 entries\n",
      "using the following chunk sizes: (55 / 31)\n",
      "setting up PCA whitening on 86430 events\n",
      "19918 remaining after the cuts\n"
     ]
    }
   ],
   "source": [
    "pre.setup_generator(testgen.raw_generator_scrambled(), setup_len)"
   ]
  },
  {
   "cell_type": "code",
   "execution_count": 42,
   "metadata": {
    "collapsed": false
   },
   "outputs": [
    {
     "data": {
      "text/plain": [
       "{'test': array([[  2.30983671e+00,  -1.26247158e+00,  -1.44385783e+00, ...,\n",
       "          -1.02951791e-01,  -1.22423263e-02,   4.15094331e+01],\n",
       "        [ -3.43519848e-01,  -2.95291665e-01,  -9.02323526e-02, ...,\n",
       "          -1.67443400e-01,  -2.57137664e-02,  -4.64163200e+01],\n",
       "        [  2.23862188e+00,  -1.70558304e+00,  -2.09613997e-01, ...,\n",
       "          -1.02897377e-03,   1.97158497e-02,  -5.62476137e+01],\n",
       "        ..., \n",
       "        [  4.24689891e-01,  -6.61172561e-01,   1.29456692e+00, ...,\n",
       "          -3.12980190e-02,   2.06888308e-02,   1.15896915e+01],\n",
       "        [ -4.98463425e-01,   5.93281877e-01,   5.52779421e-01, ...,\n",
       "          -2.63092789e+00,  -3.15417862e-02,  -1.28245814e+01],\n",
       "        [  1.57354251e-01,  -9.45683393e-01,   4.13396244e-01, ...,\n",
       "          -2.34302900e-02,  -1.52603263e-01,   3.44694155e+01]])}"
      ]
     },
     "execution_count": 42,
     "metadata": {},
     "output_type": "execute_result"
    }
   ],
   "source": [
    "pre.process(setup_data)"
   ]
  },
  {
   "cell_type": "code",
   "execution_count": 43,
   "metadata": {
    "collapsed": false
   },
   "outputs": [
    {
     "data": {
      "text/plain": [
       "array([  3.85206711e+03,   7.77997803e+02,   4.10884837e+02,\n",
       "         1.59017983e+02,   6.13043227e+01,   2.84195011e+01,\n",
       "         3.38753914e-01,   6.02155527e-02,   7.65220815e-03,\n",
       "         2.04385124e-03,   2.02222726e-34])"
      ]
     },
     "execution_count": 43,
     "metadata": {},
     "output_type": "execute_result"
    }
   ],
   "source": [
    "pre.pca.explained_variance_"
   ]
  },
  {
   "cell_type": "code",
   "execution_count": null,
   "metadata": {
    "collapsed": true
   },
   "outputs": [],
   "source": []
  }
 ],
 "metadata": {
  "kernelspec": {
   "display_name": "Python 2",
   "language": "python",
   "name": "python2"
  },
  "language_info": {
   "codemirror_mode": {
    "name": "ipython",
    "version": 2
   },
   "file_extension": ".py",
   "mimetype": "text/x-python",
   "name": "python",
   "nbconvert_exporter": "python",
   "pygments_lexer": "ipython2",
   "version": "2.7.11"
  }
 },
 "nbformat": 4,
 "nbformat_minor": 2
}
