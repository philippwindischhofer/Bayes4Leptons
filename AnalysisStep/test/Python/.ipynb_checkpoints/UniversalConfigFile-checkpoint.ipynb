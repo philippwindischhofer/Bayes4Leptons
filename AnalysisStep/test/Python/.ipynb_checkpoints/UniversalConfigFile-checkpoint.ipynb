{
 "cells": [
  {
   "cell_type": "code",
   "execution_count": 1,
   "metadata": {
    "collapsed": true
   },
   "outputs": [],
   "source": [
    "import configparser\n",
    "import re"
   ]
  },
  {
   "cell_type": "code",
   "execution_count": 2,
   "metadata": {
    "collapsed": false
   },
   "outputs": [
    {
     "name": "stderr",
     "output_type": "stream",
     "text": [
      "Using TensorFlow backend.\n"
     ]
    },
    {
     "name": "stdout",
     "output_type": "stream",
     "text": [
      "Welcome to JupyROOT 6.10/09\n"
     ]
    }
   ],
   "source": [
    "from trainlib.SimpleModel import SimpleModel\n",
    "from trainlib.ModelFactory import ModelFactory\n",
    "from trainlib.ModelCollection import ModelCollection\n",
    "from trainlib.ModelCollectionConfigFileHandler import ModelCollectionConfigFileHandler"
   ]
  },
  {
   "cell_type": "code",
   "execution_count": 3,
   "metadata": {
    "collapsed": false
   },
   "outputs": [
    {
     "name": "stdout",
     "output_type": "stream",
     "text": [
      "PCA setup: ['PFMET', 'nCleanedJetsPt30', 'nCleanedJetsPt30BTagged_bTagSF', 'nExtraLep', 'D_VBF2j_ggH_ME']\n",
      "got the following list of hyperparams: {'number_layers': 2}\n",
      "building network with inputs: ['PFMET', 'nCleanedJetsPt30', 'nCleanedJetsPt30BTagged_bTagSF', 'nExtraLep', 'D_VBF2j_ggH_ME']\n",
      "PCA setup: ['PFMET', 'nCleanedJetsPt30', 'nCleanedJetsPt30BTagged_bTagSF', 'nExtraLep', 'D_VBF1j_ggH_ME']\n",
      "got the following list of hyperparams: {'number_layers': 2}\n",
      "building network with inputs: ['PFMET', 'nCleanedJetsPt30', 'nCleanedJetsPt30BTagged_bTagSF', 'nExtraLep', 'D_VBF1j_ggH_ME']\n",
      "PCA setup: ['PFMET', 'nCleanedJetsPt30', 'nCleanedJetsPt30BTagged_bTagSF', 'nExtraLep', 'D_WHh_ggH_ME']\n",
      "got the following list of hyperparams: {'number_layers': 2}\n",
      "building network with inputs: ['PFMET', 'nCleanedJetsPt30', 'nCleanedJetsPt30BTagged_bTagSF', 'nExtraLep', 'D_WHh_ggH_ME']\n",
      "PCA setup: ['PFMET', 'nCleanedJetsPt30', 'nCleanedJetsPt30BTagged_bTagSF', 'nExtraLep', 'D_ZHh_ggH_ME']\n",
      "got the following list of hyperparams: {'number_layers': 2}\n",
      "building network with inputs: ['PFMET', 'nCleanedJetsPt30', 'nCleanedJetsPt30BTagged_bTagSF', 'nExtraLep', 'D_ZHh_ggH_ME']\n",
      "PCA setup: ['PFMET', 'nCleanedJetsPt30', 'nCleanedJetsPt30BTagged_bTagSF', 'nExtraLep', 'D_WHh_ZHh_ME']\n",
      "got the following list of hyperparams: {'number_layers': 2}\n",
      "building network with inputs: ['PFMET', 'nCleanedJetsPt30', 'nCleanedJetsPt30BTagged_bTagSF', 'nExtraLep', 'D_WHh_ZHh_ME']\n",
      "PCA setup: ['PFMET', 'nCleanedJetsPt30', 'nCleanedJetsPt30BTagged_bTagSF', 'nExtraLep', 'D_VBF2j_WHh_ME']\n",
      "got the following list of hyperparams: {'number_layers': 2}\n",
      "building network with inputs: ['PFMET', 'nCleanedJetsPt30', 'nCleanedJetsPt30BTagged_bTagSF', 'nExtraLep', 'D_VBF2j_WHh_ME']\n",
      "PCA setup: ['PFMET', 'nCleanedJetsPt30', 'nCleanedJetsPt30BTagged_bTagSF', 'nExtraLep', 'D_VBF2j_ZHh_ME']\n",
      "got the following list of hyperparams: {'number_layers': 2}\n",
      "building network with inputs: ['PFMET', 'nCleanedJetsPt30', 'nCleanedJetsPt30BTagged_bTagSF', 'nExtraLep', 'D_VBF2j_ZHh_ME']\n"
     ]
    }
   ],
   "source": [
    "mcoll = ModelFactory.GenerateSimpleModelCollections(\"/data_CMS/cms/wind/CJLST_NTuples/\")"
   ]
  },
  {
   "cell_type": "code",
   "execution_count": 4,
   "metadata": {
    "collapsed": false
   },
   "outputs": [],
   "source": [
    "mconfhandler = ModelCollectionConfigFileHandler()\n",
    "mconfhandler.ToConfiguration(mcoll)\n",
    "mconfhandler.save_configuration(\"/home/llr/cms/wind/cmssw/CMSSW_9_4_2/src/ZZAnalysis/AnalysisStep/test/Python/newversion.conf\")"
   ]
  },
  {
   "cell_type": "code",
   "execution_count": 5,
   "metadata": {
    "collapsed": false
   },
   "outputs": [
    {
     "name": "stdout",
     "output_type": "stream",
     "text": [
      "attempting to load configuration file from /home/llr/cms/wind/cmssw/CMSSW_9_4_2/src/ZZAnalysis/AnalysisStep/test/Python/newversion.conf\n"
     ]
    }
   ],
   "source": [
    "mconfhandler = ModelCollectionConfigFileHandler()\n",
    "mconfhandler.load_configuration(\"/home/llr/cms/wind/cmssw/CMSSW_9_4_2/src/ZZAnalysis/AnalysisStep/test/Python/newversion.conf\")"
   ]
  },
  {
   "cell_type": "code",
   "execution_count": 6,
   "metadata": {
    "collapsed": false
   },
   "outputs": [
    {
     "name": "stdout",
     "output_type": "stream",
     "text": [
      "PCA setup: [u'PFMET', u'nCleanedJetsPt30', u'nCleanedJetsPt30BTagged_bTagSF', u'nExtraLep', u'D_VBF2j_ggH_ME']\n",
      "PCA setup: [u'PFMET', u'nCleanedJetsPt30', u'nCleanedJetsPt30BTagged_bTagSF', u'nExtraLep', u'D_VBF1j_ggH_ME']\n",
      "PCA setup: [u'PFMET', u'nCleanedJetsPt30', u'nCleanedJetsPt30BTagged_bTagSF', u'nExtraLep', u'D_WHh_ggH_ME']\n",
      "PCA setup: [u'PFMET', u'nCleanedJetsPt30', u'nCleanedJetsPt30BTagged_bTagSF', u'nExtraLep', u'D_ZHh_ggH_ME']\n",
      "PCA setup: [u'PFMET', u'nCleanedJetsPt30', u'nCleanedJetsPt30BTagged_bTagSF', u'nExtraLep', u'D_WHh_ZHh_ME']\n",
      "PCA setup: [u'PFMET', u'nCleanedJetsPt30', u'nCleanedJetsPt30BTagged_bTagSF', u'nExtraLep', u'D_VBF2j_WHh_ME']\n",
      "PCA setup: [u'PFMET', u'nCleanedJetsPt30', u'nCleanedJetsPt30BTagged_bTagSF', u'nExtraLep', u'D_VBF2j_ZHh_ME']\n"
     ]
    }
   ],
   "source": [
    "mcolls = mconfhandler.GetModelCollection()"
   ]
  },
  {
   "cell_type": "code",
   "execution_count": null,
   "metadata": {
    "collapsed": true
   },
   "outputs": [],
   "source": []
  }
 ],
 "metadata": {
  "kernelspec": {
   "display_name": "Python 2",
   "language": "python",
   "name": "python2"
  },
  "language_info": {
   "codemirror_mode": {
    "name": "ipython",
    "version": 2
   },
   "file_extension": ".py",
   "mimetype": "text/x-python",
   "name": "python",
   "nbconvert_exporter": "python",
   "pygments_lexer": "ipython2",
   "version": "2.7.11"
  }
 },
 "nbformat": 4,
 "nbformat_minor": 2
}
