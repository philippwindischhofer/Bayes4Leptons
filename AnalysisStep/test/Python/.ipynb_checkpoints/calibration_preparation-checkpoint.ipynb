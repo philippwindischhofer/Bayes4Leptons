{
 "cells": [
  {
   "cell_type": "code",
   "execution_count": 1,
   "metadata": {
    "collapsed": true
   },
   "outputs": [],
   "source": [
    "import sys\n",
    "import os\n",
    "import subprocess as sp"
   ]
  },
  {
   "cell_type": "code",
   "execution_count": 2,
   "metadata": {
    "collapsed": true
   },
   "outputs": [],
   "source": [
    "from trainlib.ConfigFileHandler import ConfigFileHandler\n",
    "from trainlib.ConfigFileUtils import ConfigFileUtils"
   ]
  },
  {
   "cell_type": "code",
   "execution_count": 3,
   "metadata": {
    "collapsed": true
   },
   "outputs": [],
   "source": [
    "settings_path = \"/data_CMS/cms/wind/CJLST_NTuples_ZXonly/settings.conf\"\n",
    "campaign_dir = \"/data_CMS/cms/wind/180507_bkg_cat_ZXonly/number_layers_2.0_number_neurons_64.0/\""
   ]
  },
  {
   "cell_type": "code",
   "execution_count": 4,
   "metadata": {
    "collapsed": false
   },
   "outputs": [
    {
     "name": "stdout",
     "output_type": "stream",
     "text": [
      "attempting to load configuration file from /data_CMS/cms/wind/CJLST_NTuples_ZXonly/settings.conf\n"
     ]
    }
   ],
   "source": [
    "confhandler = ConfigFileHandler()\n",
    "confhandler.load_configuration(settings_path)"
   ]
  },
  {
   "cell_type": "code",
   "execution_count": 5,
   "metadata": {
    "collapsed": true
   },
   "outputs": [],
   "source": [
    "root_file_name = confhandler.get_field(\"Global\", \"root_file_name\")"
   ]
  },
  {
   "cell_type": "code",
   "execution_count": 6,
   "metadata": {
    "collapsed": true
   },
   "outputs": [],
   "source": [
    "# need the names of the individual training datasets, since they need to be regenerated with the *augmented* files\n",
    "training_files = [cur_file for cur_file in confhandler.get_sections() if \"Global\" not in cur_file]"
   ]
  },
  {
   "cell_type": "code",
   "execution_count": 15,
   "metadata": {
    "collapsed": false
   },
   "outputs": [
    {
     "name": "stdout",
     "output_type": "stream",
     "text": [
      "--------------------------------------------------\n",
      "currently generating augmented dataset: ggH125\n",
      "/data_CMS/cms/wind/180507_bkg_cat_ZXonly/number_layers_2.0_number_neurons_64.0/augmentation_training/ggH125 already exists\n",
      "/data_CMS/cms/wind/180507_bkg_cat_ZXonly/number_layers_2.0_number_neurons_64.0/augmentation_validation/ggH125 already exists\n",
      "/data_CMS/cms/wind/180507_bkg_cat_ZXonly/number_layers_2.0_number_neurons_64.0/augmentation_test/ggH125 already exists\n",
      "--------------------------------------------------\n",
      "currently generating augmented dataset: ttH125\n",
      "/data_CMS/cms/wind/180507_bkg_cat_ZXonly/number_layers_2.0_number_neurons_64.0/augmentation_training/ttH125 already exists\n",
      "/data_CMS/cms/wind/180507_bkg_cat_ZXonly/number_layers_2.0_number_neurons_64.0/augmentation_validation/ttH125 already exists\n",
      "/data_CMS/cms/wind/180507_bkg_cat_ZXonly/number_layers_2.0_number_neurons_64.0/augmentation_test/ttH125 already exists\n",
      "--------------------------------------------------\n",
      "currently generating augmented dataset: VBFH125\n",
      "/data_CMS/cms/wind/180507_bkg_cat_ZXonly/number_layers_2.0_number_neurons_64.0/augmentation_training/VBFH125 already exists\n",
      "/data_CMS/cms/wind/180507_bkg_cat_ZXonly/number_layers_2.0_number_neurons_64.0/augmentation_validation/VBFH125 already exists\n",
      "/data_CMS/cms/wind/180507_bkg_cat_ZXonly/number_layers_2.0_number_neurons_64.0/augmentation_test/VBFH125 already exists\n",
      "--------------------------------------------------\n",
      "currently generating augmented dataset: WminusH125\n",
      "/data_CMS/cms/wind/180507_bkg_cat_ZXonly/number_layers_2.0_number_neurons_64.0/augmentation_training/WminusH125 already exists\n",
      "/data_CMS/cms/wind/180507_bkg_cat_ZXonly/number_layers_2.0_number_neurons_64.0/augmentation_validation/WminusH125 already exists\n",
      "/data_CMS/cms/wind/180507_bkg_cat_ZXonly/number_layers_2.0_number_neurons_64.0/augmentation_test/WminusH125 already exists\n",
      "--------------------------------------------------\n",
      "currently generating augmented dataset: WplusH125\n",
      "/data_CMS/cms/wind/180507_bkg_cat_ZXonly/number_layers_2.0_number_neurons_64.0/augmentation_training/WplusH125 already exists\n",
      "/data_CMS/cms/wind/180507_bkg_cat_ZXonly/number_layers_2.0_number_neurons_64.0/augmentation_validation/WplusH125 already exists\n",
      "/data_CMS/cms/wind/180507_bkg_cat_ZXonly/number_layers_2.0_number_neurons_64.0/augmentation_test/WplusH125 already exists\n",
      "--------------------------------------------------\n",
      "currently generating augmented dataset: ZH125\n",
      "/data_CMS/cms/wind/180507_bkg_cat_ZXonly/number_layers_2.0_number_neurons_64.0/augmentation_training/ZH125 already exists\n",
      "/data_CMS/cms/wind/180507_bkg_cat_ZXonly/number_layers_2.0_number_neurons_64.0/augmentation_validation/ZH125 already exists\n",
      "/data_CMS/cms/wind/180507_bkg_cat_ZXonly/number_layers_2.0_number_neurons_64.0/augmentation_test/ZH125 already exists\n",
      "--------------------------------------------------\n",
      "currently generating augmented dataset: bkg\n",
      "hadd /data_CMS/cms/wind/180507_bkg_cat_ZXonly/number_layers_2.0_number_neurons_64.0/augmentation_training/bkg/ZZ4lAnalysis.root /data_CMS/cms/wind/180507_bkg_cat_ZXonly/number_layers_2.0_number_neurons_64.0/augmentation_training/AllData/ZZ4lAnalysis.root\n",
      "hadd /data_CMS/cms/wind/180507_bkg_cat_ZXonly/number_layers_2.0_number_neurons_64.0/augmentation_validation/bkg/ZZ4lAnalysis.root /data_CMS/cms/wind/180507_bkg_cat_ZXonly/number_layers_2.0_number_neurons_64.0/augmentation_validation/AllData/ZZ4lAnalysis.root\n",
      "hadd /data_CMS/cms/wind/180507_bkg_cat_ZXonly/number_layers_2.0_number_neurons_64.0/augmentation_test/bkg/ZZ4lAnalysis.root /data_CMS/cms/wind/180507_bkg_cat_ZXonly/number_layers_2.0_number_neurons_64.0/augmentation_test/AllData/ZZ4lAnalysis.root\n"
     ]
    }
   ],
   "source": [
    "for training_file in training_files:\n",
    "    sect = confhandler.get_section(training_file)\n",
    "    \n",
    "    print \"--------------------------------------------------\"\n",
    "    print \"currently generating augmented dataset: \" + training_file\n",
    "    \n",
    "    source_folders = ConfigFileUtils.parse_list(sect[\"source\"], lambda x: x)\n",
    "    \n",
    "    for mode in [\"training\", \"validation\", \"test\"]:\n",
    "        dest_path = os.path.join(campaign_dir, \"augmentation_\" + mode, training_file)\n",
    "        if os.path.isdir(dest_path):\n",
    "            print dest_path + \" already exists\"\n",
    "        else:\n",
    "            print dest_path + \" does not exist already, creating it now\"\n",
    "            # this one needs to be (re)-generated from the augmented raw datafiles\n",
    "            #os.makedirs(dest_path)\n",
    "            source_files = [os.path.join(campaign_dir, \"augmentation_\" + mode, source_folder, root_file_name) for source_folder in source_folders]\n",
    "            dest_file = os.path.join(dest_path, root_file_name)\n",
    "            \n",
    "            print \"hadd \" + dest_file + \" \" + \" \".join(source_files)\n",
    "            output = sp.check_output([\"hadd\", dest_file] + source_files)\n",
    "            print output\n",
    "            "
   ]
  },
  {
   "cell_type": "code",
   "execution_count": null,
   "metadata": {
    "collapsed": true
   },
   "outputs": [],
   "source": []
  }
 ],
 "metadata": {
  "kernelspec": {
   "display_name": "Python 2",
   "language": "python",
   "name": "python2"
  },
  "language_info": {
   "codemirror_mode": {
    "name": "ipython",
    "version": 2
   },
   "file_extension": ".py",
   "mimetype": "text/x-python",
   "name": "python",
   "nbconvert_exporter": "python",
   "pygments_lexer": "ipython2",
   "version": "2.7.11"
  }
 },
 "nbformat": 4,
 "nbformat_minor": 2
}
