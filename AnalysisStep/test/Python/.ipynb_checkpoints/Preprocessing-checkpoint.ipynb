{
 "cells": [
  {
   "cell_type": "code",
   "execution_count": 1,
   "metadata": {
    "collapsed": false
   },
   "outputs": [
    {
     "name": "stdout",
     "output_type": "stream",
     "text": [
      "Welcome to JupyROOT 6.10/09\n"
     ]
    }
   ],
   "source": [
    "import pandas as pd\n",
    "import numpy as np\n",
    "from root_numpy import root2array, root2rec, tree2array\n",
    "from trainlib.config import Config\n",
    "from trainlib.Preprocessor import Preprocessor\n",
    "from trainlib.generator import generate_training_data, generate_validation_data\n",
    "import matplotlib.pyplot as plt\n",
    "from sklearn.decomposition import PCA\n",
    "import pickle\n",
    "from trainlib.PCAWhiteningPreprocessor import PCAWhiteningPreprocessor"
   ]
  },
  {
   "cell_type": "code",
   "execution_count": 2,
   "metadata": {
    "collapsed": false
   },
   "outputs": [],
   "source": [
    "H1_data_files = [\"/data_CMS/cms/wind/CJLST_NTuples/VBFH125/ZZ4lAnalysis.root\"]\n",
    "H0_data_files = [\"/data_CMS/cms/wind/CJLST_NTuples/ggH125/ZZ4lAnalysis.root\"]"
   ]
  },
  {
   "cell_type": "code",
   "execution_count": 3,
   "metadata": {
    "collapsed": false
   },
   "outputs": [],
   "source": [
    "processed_columns = [\"PFMET\", \"nCleanedJetsPt30\", \"nCleanedJetsPt30BTagged_bTagSF\", \"nExtraLep\", \"D_VBF2j_ggH_ME\"]\n",
    "cuts = lambda row: row[\"nCleanedJetsPt30\"] >= 2\n",
    "pre = PCAWhiteningPreprocessor(processed_columns = processed_columns, cuts = cuts)"
   ]
  },
  {
   "cell_type": "code",
   "execution_count": 4,
   "metadata": {
    "collapsed": false
   },
   "outputs": [
    {
     "name": "stdout",
     "output_type": "stream",
     "text": [
      "skimming /data_CMS/cms/wind/CJLST_NTuples/VBFH125/ZZ4lAnalysis.root\n",
      "collection set up: 1 files, 62320 entries in total, 31160 of which will be used\n",
      "skimming /data_CMS/cms/wind/CJLST_NTuples/ggH125/ZZ4lAnalysis.root\n",
      "collection set up: 1 files, 110483 entries in total, 55241 of which will be used\n"
     ]
    }
   ],
   "source": [
    "gen = generate_training_data(H1_data_files, H0_data_files, branches = Config.branches, preprocessor = None, training_split = 0.5, as_matrix = False)"
   ]
  },
  {
   "cell_type": "code",
   "execution_count": 5,
   "metadata": {
    "collapsed": false
   },
   "outputs": [
    {
     "name": "stdout",
     "output_type": "stream",
     "text": [
      "H1 contains 31160 entries\n",
      "H0 contains 55241 entries\n",
      "using the following chunk sizes: (31 / 55)\n",
      "setting up PCA whitening on 20038 events\n"
     ]
    }
   ],
   "source": [
    "pre.setup(gen, len_setupdata = 20000)"
   ]
  },
  {
   "cell_type": "code",
   "execution_count": 6,
   "metadata": {
    "collapsed": true
   },
   "outputs": [],
   "source": [
    "pre.save(\"/home/llr/cms/wind/\", \"sample_pre.pkl\")"
   ]
  },
  {
   "cell_type": "code",
   "execution_count": 7,
   "metadata": {
    "collapsed": false
   },
   "outputs": [
    {
     "name": "stdout",
     "output_type": "stream",
     "text": [
      "skimming /data_CMS/cms/wind/CJLST_NTuples/VBFH125/ZZ4lAnalysis.root\n",
      "collection set up: 1 files, 62320 entries in total, 31160 of which will be used\n",
      "skimming /data_CMS/cms/wind/CJLST_NTuples/ggH125/ZZ4lAnalysis.root\n",
      "collection set up: 1 files, 110483 entries in total, 55242 of which will be used\n"
     ]
    }
   ],
   "source": [
    "valgen = generate_validation_data(H1_data_files, H0_data_files, branches = Config.branches, preprocessor = None, training_split = 0.5, as_matrix = False)"
   ]
  },
  {
   "cell_type": "code",
   "execution_count": 8,
   "metadata": {
    "collapsed": false
   },
   "outputs": [
    {
     "name": "stdout",
     "output_type": "stream",
     "text": [
      "H1 contains 31160 entries\n",
      "H0 contains 55242 entries\n",
      "using the following chunk sizes: (31 / 55)\n"
     ]
    }
   ],
   "source": [
    "testdata = []\n",
    "testlength = 0\n",
    "for data in valgen:\n",
    "    testdata.append(data[0])\n",
    "    testlength += len(data[0])\n",
    "    if(testlength > 1000):\n",
    "        break"
   ]
  },
  {
   "cell_type": "code",
   "execution_count": 9,
   "metadata": {
    "collapsed": false
   },
   "outputs": [],
   "source": [
    "testdata = pd.concat(testdata)"
   ]
  },
  {
   "cell_type": "code",
   "execution_count": 10,
   "metadata": {
    "collapsed": false
   },
   "outputs": [],
   "source": [
    "pre2 = PCAWhiteningPreprocessor(processed_columns = processed_columns, cuts = cuts)\n",
    "pre2.load(\"/home/llr/cms/wind/\", \"sample_pre.pkl\")"
   ]
  },
  {
   "cell_type": "code",
   "execution_count": 11,
   "metadata": {
    "collapsed": false
   },
   "outputs": [],
   "source": [
    "postdata = pre2.process(testdata).as_matrix()"
   ]
  },
  {
   "cell_type": "raw",
   "metadata": {},
   "source": [
    "plt.figure()\n",
    "plt.plot(postdata[:,0], postdata[:,1], 'ro')\n",
    "plt.show()"
   ]
  },
  {
   "cell_type": "code",
   "execution_count": 12,
   "metadata": {
    "collapsed": false
   },
   "outputs": [
    {
     "data": {
      "text/plain": [
       "array([ 0.13732255,  0.06829707,  0.01778643, -0.04054737,  0.03826833])"
      ]
     },
     "execution_count": 12,
     "metadata": {},
     "output_type": "execute_result"
    }
   ],
   "source": [
    "np.mean(postdata, axis = 0)"
   ]
  },
  {
   "cell_type": "code",
   "execution_count": 13,
   "metadata": {
    "collapsed": false
   },
   "outputs": [
    {
     "data": {
      "text/plain": [
       "array([ 1.05383876,  1.21147961,  1.03597695,  1.07936523,  1.29402369])"
      ]
     },
     "execution_count": 13,
     "metadata": {},
     "output_type": "execute_result"
    }
   ],
   "source": [
    "np.std(postdata, axis = 0)"
   ]
  },
  {
   "cell_type": "code",
   "execution_count": null,
   "metadata": {
    "collapsed": true
   },
   "outputs": [],
   "source": [
    "# test the preprocessor in place"
   ]
  },
  {
   "cell_type": "code",
   "execution_count": 15,
   "metadata": {
    "collapsed": false
   },
   "outputs": [
    {
     "name": "stdout",
     "output_type": "stream",
     "text": [
      "skimming /data_CMS/cms/wind/CJLST_NTuples/VBFH125/ZZ4lAnalysis.root\n",
      "collection set up: 1 files, 62320 entries in total, 31160 of which will be used\n",
      "skimming /data_CMS/cms/wind/CJLST_NTuples/ggH125/ZZ4lAnalysis.root\n",
      "collection set up: 1 files, 110483 entries in total, 55241 of which will be used\n"
     ]
    }
   ],
   "source": [
    "gen = generate_training_data(H1_data_files, H0_data_files, branches = Config.branches, preprocessor = pre2.process, training_split = 0.5)"
   ]
  },
  {
   "cell_type": "code",
   "execution_count": 16,
   "metadata": {
    "collapsed": false
   },
   "outputs": [
    {
     "name": "stdout",
     "output_type": "stream",
     "text": [
      "H1 contains 31160 entries\n",
      "H0 contains 55241 entries\n",
      "using the following chunk sizes: (31 / 55)\n",
      "(array([[-0.18108239, -0.46363175,  0.11112687, -0.17775785, -0.05357878],\n",
      "       [-0.92059497,  1.24016673,  0.4740526 , -0.29174219, -0.03154706],\n",
      "       [ 0.05292049,  1.19178727,  0.42998214, -0.31867559, -0.01827212],\n",
      "       [-0.06710771,  1.33407242, -1.16503891, -0.4945629 , -0.04397968],\n",
      "       [-0.75816704,  1.36396709, -0.47061209,  3.66050724, -0.13623462],\n",
      "       [-0.76943278, -0.37027093, -0.61506133, -0.24577642, -0.07292402],\n",
      "       [ 1.19741737, -0.61260829,  0.99348644, -0.1101074 , -0.02057219],\n",
      "       [-0.77611334, -0.44186361,  0.22966567, -0.15103868, -0.06031497],\n",
      "       [ 1.05897281,  1.27507191, -1.18033402, -0.52172176, -0.02808769],\n",
      "       [ 0.24239464, -0.52674847,  0.5858957 , -0.13416585, -0.04037536],\n",
      "       [ 0.7170799 , -0.41965226, -0.35897678,  3.8110042 , -0.14059547],\n",
      "       [-0.47549425, -0.37128739, -0.78793152, -0.27177543, -0.07131569],\n",
      "       [-0.50322263, -0.50708378,  0.82380581, -0.09067746, -0.04747215],\n",
      "       [ 1.44295154, -0.64301939,  1.19615365, -0.09296248, -0.01400878],\n",
      "       [ 0.40140404, -0.58043258,  1.11619697, -0.07837948, -0.0301231 ],\n",
      "       [-0.27258429, -0.38020653, -0.8107899 , -0.27892014, -0.06875443],\n",
      "       [-1.24621136, -0.26798845, -1.51614032, -0.33589928, -0.09330226],\n",
      "       [ 0.83838029, -0.54182767,  0.38822583, -0.16976715, -0.03481563],\n",
      "       [-1.31747708, -0.48930268,  1.1269834 , -0.03832986, -0.05456998],\n",
      "       [ 0.44296672,  1.13526831,  0.84830906, -0.28064812, -0.00639622],\n",
      "       [ 0.44786948, -0.46078514, -0.31772554, -0.23999035, -0.05102405]]), array([ 0.,  1.,  1.,  0.,  1.,  0.,  1.,  1.,  1.,  1.,  1.,  1.,  1.,\n",
      "        1.,  1.,  1.,  0.,  1.,  1.,  1.,  0.]))\n"
     ]
    }
   ],
   "source": [
    "for data in gen:\n",
    "    print data\n",
    "    break"
   ]
  },
  {
   "cell_type": "code",
   "execution_count": null,
   "metadata": {
    "collapsed": true
   },
   "outputs": [],
   "source": []
  }
 ],
 "metadata": {
  "kernelspec": {
   "display_name": "Python 2",
   "language": "python",
   "name": "python2"
  },
  "language_info": {
   "codemirror_mode": {
    "name": "ipython",
    "version": 2
   },
   "file_extension": ".py",
   "mimetype": "text/x-python",
   "name": "python",
   "nbconvert_exporter": "python",
   "pygments_lexer": "ipython2",
   "version": "2.7.11"
  }
 },
 "nbformat": 4,
 "nbformat_minor": 2
}
