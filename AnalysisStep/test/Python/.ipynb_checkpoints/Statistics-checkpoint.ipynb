{
 "cells": [
  {
   "cell_type": "code",
   "execution_count": 1,
   "metadata": {
    "collapsed": false
   },
   "outputs": [
    {
     "name": "stderr",
     "output_type": "stream",
     "text": [
      "Using TensorFlow backend.\n"
     ]
    },
    {
     "name": "stdout",
     "output_type": "stream",
     "text": [
      "Welcome to JupyROOT 6.10/09\n"
     ]
    }
   ],
   "source": [
    "import os\n",
    "from trainlib.ConfigFileHandler import ConfigFileHandler\n",
    "from trainlib.ModelCollectionConfigFileHandler import ModelCollectionConfigFileHandler\n",
    "import matplotlib.pyplot as plt\n",
    "import numpy as np\n",
    "import pandas as pd"
   ]
  },
  {
   "cell_type": "code",
   "execution_count": 2,
   "metadata": {
    "collapsed": true
   },
   "outputs": [],
   "source": [
    "campaign_dir=\"/data_CMS/cms/wind/testcampaign/\""
   ]
  },
  {
   "cell_type": "code",
   "execution_count": 3,
   "metadata": {
    "collapsed": true
   },
   "outputs": [],
   "source": [
    "bin_dir = {\"Untagged\": 0,\n",
    "            \"VBF1j\": 1,\n",
    "            \"VBF2j\": 2,\n",
    "            \"VHhadr\": 3}"
   ]
  },
  {
   "cell_type": "code",
   "execution_count": 4,
   "metadata": {
    "collapsed": false
   },
   "outputs": [
    {
     "name": "stdout",
     "output_type": "stream",
     "text": [
      "attempting to load configuration file from /data_CMS/cms/wind/testcampaign/number_layers_1.0_number_neurons_128.0_extraparams_0/settings.conf\n",
      "attempting to load configuration file from /data_CMS/cms/wind/testcampaign/number_layers_1.0_number_neurons_128.0_extraparams_0/comp/Mor18_punzi_comp.conf\n",
      "attempting to load configuration file from /data_CMS/cms/wind/testcampaign/number_layers_1.0_number_neurons_160.0_extraparams_0/settings.conf\n",
      "attempting to load configuration file from /data_CMS/cms/wind/testcampaign/number_layers_1.0_number_neurons_160.0_extraparams_0/comp/Mor18_punzi_comp.conf\n",
      "attempting to load configuration file from /data_CMS/cms/wind/testcampaign/number_layers_2.0_number_neurons_128.0_extraparams_0/settings.conf\n",
      "attempting to load configuration file from /data_CMS/cms/wind/testcampaign/number_layers_2.0_number_neurons_128.0_extraparams_0/comp/Mor18_punzi_comp.conf\n",
      "attempting to load configuration file from /data_CMS/cms/wind/testcampaign/number_layers_2.0_number_neurons_160.0_extraparams_0/settings.conf\n",
      "attempting to load configuration file from /data_CMS/cms/wind/testcampaign/number_layers_2.0_number_neurons_160.0_extraparams_0/comp/Mor18_punzi_comp.conf\n"
     ]
    }
   ],
   "source": [
    "df = pd.DataFrame()\n",
    "\n",
    "for subdir in next(os.walk(campaign_dir))[1]:\n",
    "    if \"statistics\" not in subdir:\n",
    "        punzi_path = campaign_dir + subdir + \"/comp/Mor18_punzi_comp.conf\"\n",
    "        settings_path = campaign_dir + subdir + \"/settings.conf\"\n",
    "    \n",
    "        # first, read back the configuration file for this run\n",
    "        conf = ModelCollectionConfigFileHandler()\n",
    "        conf.LoadConfiguration(settings_path)\n",
    "    \n",
    "        # now select a typical model and read its hyperparameters\n",
    "        typical_model = conf._get_model_list(conf._get_model_collection_list()[0])[0]\n",
    "        hyperparams = conf.GetHyperparameters(typical_model)\n",
    "        hyperparam_dict = {key: [val] for key, val in hyperparams.iteritems()}\n",
    "            \n",
    "        # then read in the results in terms of relative Punzi improvement for each category\n",
    "        conf = ConfigFileHandler()\n",
    "        conf.LoadConfiguration(punzi_path)\n",
    "    \n",
    "        # load the Punzi values for each category\n",
    "        values = {}\n",
    "        for category, bin_number in bin_dir.iteritems():\n",
    "            values[category] = float(conf._get_field(\"Punzi\", category))\n",
    "        \n",
    "        # merge the two dictionaries\n",
    "        values.update(hyperparam_dict)\n",
    "        df = df.append(pd.DataFrame.from_dict(values))"
   ]
  },
  {
   "cell_type": "code",
   "execution_count": 5,
   "metadata": {
    "collapsed": false
   },
   "outputs": [],
   "source": [
    "# all different values of the number of neurons that were used in the sweep\n",
    "number_neurons = set(df['number_neurons'])"
   ]
  },
  {
   "cell_type": "code",
   "execution_count": 7,
   "metadata": {
    "collapsed": false
   },
   "outputs": [
    {
     "data": {
      "image/png": "[encoded data removed]",
      "text/plain": [
       "<matplotlib.figure.Figure at 0x7fc761531750>"
      ]
     },
     "metadata": {},
     "output_type": "display_data"
    },
    {
     "data": {
      "image/png": "[encoded data removed]",
      "text/plain": [
       "<matplotlib.figure.Figure at 0x7fc761354850>"
      ]
     },
     "metadata": {},
     "output_type": "display_data"
    }
   ],
   "source": [
    "for num in number_neurons:\n",
    "    number_layers = df.loc[df[\"number_neurons\"] == num, [\"number_layers\"]].as_matrix().flatten().astype(int)\n",
    "    punzi_data = df.loc[df[\"number_neurons\"] == num, bin_dir.keys()].as_matrix()\n",
    "    \n",
    "    statistics_dir = campaign_dir + \"statistics/\"\n",
    "    if not os.path.exists(statistics_dir):\n",
    "        os.makedirs(statistics_dir)\n",
    "        \n",
    "    plt.figure()\n",
    "    plt.imshow(punzi_data, interpolation = 'none', cmap = 'RdYlGn', aspect = 0.6, vmin = 0.8, vmax = 1.2)\n",
    "    plt.xticks(range(len(bin_dir)), bin_dir.keys())\n",
    "    plt.yticks(range(len(number_layers)), number_layers)\n",
    "    plt.ylabel(\"number hidden layers\")\n",
    "    plt.colorbar()\n",
    "    plt.title(\"Punzi purity ratio [\" + str(int(num)) + \" hidden neurons]\")\n",
    "    plt.show()\n",
    "    #plt.savefig(statistics_dir + \"punzi_\" + str(int(num)) + \"_hidden_neurons.pdf\")"
   ]
  },
  {
   "cell_type": "code",
   "execution_count": null,
   "metadata": {
    "collapsed": true
   },
   "outputs": [],
   "source": []
  }
 ],
 "metadata": {
  "kernelspec": {
   "display_name": "Python 2",
   "language": "python",
   "name": "python2"
  },
  "language_info": {
   "codemirror_mode": {
    "name": "ipython",
    "version": 2
   },
   "file_extension": ".py",
   "mimetype": "text/x-python",
   "name": "python",
   "nbconvert_exporter": "python",
   "pygments_lexer": "ipython2",
   "version": "2.7.11"
  }
 },
 "nbformat": 4,
 "nbformat_minor": 2
}
