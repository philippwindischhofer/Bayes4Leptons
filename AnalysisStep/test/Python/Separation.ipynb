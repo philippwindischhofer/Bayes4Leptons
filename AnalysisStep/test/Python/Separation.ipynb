{
 "cells": [
  {
   "cell_type": "code",
   "execution_count": 1,
   "metadata": {
    "collapsed": false
   },
   "outputs": [
    {
     "name": "stdout",
     "output_type": "stream",
     "text": [
      "Welcome to JupyROOT 6.10/09\n"
     ]
    }
   ],
   "source": [
    "from trainlib.FileCollection import FileCollection\n",
    "from trainlib.config import Config\n",
    "import trainlib.cuts as cuts\n",
    "import numpy as np\n",
    "import matplotlib.pyplot as plt\n",
    "import pandas as pd\n",
    "import copy\n",
    "import re\n",
    "from scipy import interpolate\n",
    "import scipy.integrate as integrate"
   ]
  },
  {
   "cell_type": "code",
   "execution_count": 3,
   "metadata": {
    "collapsed": true
   },
   "outputs": [],
   "source": [
    "def WHhadr0j_cut(row):\n",
    "    return cuts.WHhadr_cut(row) and row[\"nCleanedJetsPt30\"] == 0\n",
    "\n",
    "def WHhadr01j_cut(row):\n",
    "    return cuts.WHhadr_cut(row) and (row[\"nCleanedJetsPt30\"] == 0 or row[\"nCleanedJetsPt30\"] == 1)\n",
    "\n",
    "def WHhadr1j_cut(row):\n",
    "    return cuts.WHhadr_cut(row) and row[\"nCleanedJetsPt30\"] == 1\n",
    "\n",
    "def WHhadr2j_cut(row):\n",
    "    return cuts.WHhadr_cut(row) and row[\"nCleanedJetsPt30\"] >= 2\n",
    "\n",
    "def ZHhadr0j_cut(row):\n",
    "    return cuts.ZHhadr_cut(row) and row[\"nCleanedJetsPt30\"] == 0\n",
    "\n",
    "def ZHhadr01j_cut(row):\n",
    "    return cuts.ZHhadr_cut(row) and (row[\"nCleanedJetsPt30\"] == 0 or row[\"nCleanedJetsPt30\"] == 1)\n",
    "\n",
    "def ZHhadr1j_cut(row):\n",
    "    return cuts.ZHhadr_cut(row) and row[\"nCleanedJetsPt30\"] == 1\n",
    "\n",
    "def ZHhadr2j_cut(row):\n",
    "    return cuts.ZHhadr_cut(row) and row[\"nCleanedJetsPt30\"] >= 2\n",
    "\n",
    "def mZZ0j_cut(row):\n",
    "    return cuts.mZZ_cut(row) and row[\"nCleanedJetsPt30\"] == 0\n",
    "\n",
    "def mZZ01j_cut(row):\n",
    "    return cuts.mZZ_cut(row) and (row[\"nCleanedJetsPt30\"] == 0 or row[\"nCleanedJetsPt30\"] == 1)\n",
    "\n",
    "def mZZ1j_cut(row):\n",
    "    return cuts.mZZ_cut(row) and row[\"nCleanedJetsPt30\"] == 1\n",
    "\n",
    "def mZZ2j_cut(row):\n",
    "    return cuts.mZZ_cut(row) and row[\"nCleanedJetsPt30\"] >= 2"
   ]
  },
  {
   "cell_type": "code",
   "execution_count": 5,
   "metadata": {
    "collapsed": true
   },
   "outputs": [],
   "source": [
    "MC_path = \"/data_CMS/cms/wind/CJLST_NTuples/\"\n"
   ]
  },
  {
   "cell_type": "code",
   "execution_count": 6,
   "metadata": {
    "collapsed": false
   },
   "outputs": [],
   "source": [
    "collections = {\"VBF2j\": {MC_path + \"VBFH125/ZZ4lAnalysis.root\": mZZ2j_cut},\n",
    "            \"VBF1j\": {MC_path + \"VBFH125/ZZ4lAnalysis.root\": mZZ1j_cut},\n",
    "            \"VBF0j\": {MC_path + \"VBFH125/ZZ4lAnalysis.root\": mZZ0j_cut},\n",
    "            \"VBF01j\": {MC_path + \"VBFH125/ZZ4lAnalysis.root\": mZZ01j_cut},\n",
    "            \"VBF\": {MC_path + \"VBFH125/ZZ4lAnalysis.root\": cuts.mZZ_cut},\n",
    "            \"ggH2j\": {MC_path + \"ggH125/ZZ4lAnalysis.root\": mZZ2j_cut},\n",
    "            \"ggH1j\": {MC_path + \"ggH125/ZZ4lAnalysis.root\": mZZ1j_cut},\n",
    "            \"ggH0j\": {MC_path + \"ggH125/ZZ4lAnalysis.root\": mZZ0j_cut},\n",
    "            \"ggH01j\": {MC_path + \"ggH125/ZZ4lAnalysis.root\": mZZ01j_cut},\n",
    "            \"ggH\" : {MC_path + \"ggH125/ZZ4lAnalysis.root\": cuts.mZZ_cut},\n",
    "            \"WHh2j\": {MC_path + \"WplusH125/ZZ4lAnalysis.root\": WHhadr2j_cut, MC_path + \"WminusH125/ZZ4lAnalysis.root\": WHhadr2j_cut},\n",
    "            \"WHh1j\": {MC_path + \"WplusH125/ZZ4lAnalysis.root\": WHhadr1j_cut, MC_path + \"WminusH125/ZZ4lAnalysis.root\": WHhadr1j_cut},\n",
    "            \"WHh0j\": {MC_path + \"WplusH125/ZZ4lAnalysis.root\": WHhadr0j_cut, MC_path + \"WminusH125/ZZ4lAnalysis.root\": WHhadr0j_cut},\n",
    "            \"WHh\": {MC_path + \"WplusH125/ZZ4lAnalysis.root\": cuts.WHhadr_cut, MC_path + \"WminusH125/ZZ4lAnalysis.root\": cuts.WHhadr_cut},\n",
    "            \"WHh01j\": {MC_path + \"WplusH125/ZZ4lAnalysis.root\": WHhadr01j_cut, MC_path + \"WminusH125/ZZ4lAnalysis.root\": WHhadr01j_cut},\n",
    "            \"WHl\": {MC_path + \"WplusH125/ZZ4lAnalysis.root\": cuts.WHlept_cut, MC_path + \"WminusH125/ZZ4lAnalysis.root\": cuts.WHlept_cut},\n",
    "            \"ZHh2j\": {MC_path + \"ZH125/ZZ4lAnalysis.root\": ZHhadr2j_cut},\n",
    "            \"ZHh1j\": {MC_path + \"ZH125/ZZ4lAnalysis.root\": ZHhadr1j_cut},\n",
    "            \"ZHh01j\": {MC_path + \"ZH125/ZZ4lAnalysis.root\": ZHhadr01j_cut},\n",
    "            \"ZHh0j\": {MC_path + \"ZH125/ZZ4lAnalysis.root\": ZHhadr0j_cut},\n",
    "            \"ZHh\": {MC_path + \"ZH125/ZZ4lAnalysis.root\": cuts.ZHhadr_cut},\n",
    "            \"ZHl\": {MC_path + \"ZH125/ZZ4lAnalysis.root\": cuts.ZHlept_cut},\n",
    "            \"ttHh\": {MC_path + \"ttH125/ZZ4lAnalysis.root\": cuts.ttHhadr_cut},\n",
    "            \"ttHl\": {MC_path + \"ttH125/ZZ4lAnalysis.root\": cuts.ttHlept_cut},\n",
    "            \"ZHMET\": {MC_path + \"ZH125/ZZ4lAnalysis.root\": cuts.ZHMET_cut}\n",
    "          }"
   ]
  },
  {
   "cell_type": "code",
   "execution_count": 7,
   "metadata": {
    "collapsed": false
   },
   "outputs": [
    {
     "name": "stdout",
     "output_type": "stream",
     "text": [
      "skimming /data_CMS/cms/wind/CJLST_NTuples/WminusH125/ZZ4lAnalysis.root\n",
      "skimming /data_CMS/cms/wind/CJLST_NTuples/WplusH125/ZZ4lAnalysis.root\n",
      "collection set up: 2 files, 56636 entries in total, 28317 of which will be used\n"
     ]
    }
   ],
   "source": [
    "H1_coll = FileCollection(collections[\"WHh1j\"], 0.0, 0.5)"
   ]
  },
  {
   "cell_type": "code",
   "execution_count": 8,
   "metadata": {
    "collapsed": false
   },
   "outputs": [
    {
     "name": "stdout",
     "output_type": "stream",
     "text": [
      "skimming /data_CMS/cms/wind/CJLST_NTuples/ZH125/ZZ4lAnalysis.root\n",
      "collection set up: 1 files, 61210 entries in total, 30605 of which will be used\n"
     ]
    }
   ],
   "source": [
    "H0_coll = FileCollection(collections[\"ZHh1j\"], 0.0, 0.5)"
   ]
  },
  {
   "cell_type": "code",
   "execution_count": 9,
   "metadata": {
    "collapsed": true
   },
   "outputs": [],
   "source": [
    "candidate_branches = [\"PFMET\", \"nCleanedJetsPt30\", \"nCleanedJetsPt30BTagged_bTagSF\", \"nExtraLep\", \"ZZMass\", \"nExtraZ\", \"Z1Mass\", \"Z2Mass\", \"Z1Pt\", \"Z2Pt\", \"ZZMassErr\", \"ZZPt\", \"ZZEta\", \"ZZPhi\", \"Z1Flav\", \"Z2Flav\", \"costhetastar\", \"helphi\", \"helcosthetaZ1\", \"helcosthetaZ2\", \"phistarZ1\", \"phistarZ2\", \"xi\", \"xistar\"]\n",
    "MELA_branches = [\"D_VBF2j_ggH_ME\", \"D_VBF1j_ggH_ME\", \"D_WHh_ggH_ME\", \"D_ZHh_ggH_ME\", \"D_WHh_ZHh_ME\", \"D_VBF2j_WHh_ME\", \"D_VBF2j_ZHh_ME\"]\n",
    "list_branches = [\"Jet\", \"Lep\", \"ExtraLep\"]"
   ]
  },
  {
   "cell_type": "code",
   "execution_count": 12,
   "metadata": {
    "collapsed": true
   },
   "outputs": [],
   "source": [
    "allbranches = [\"JetPt\", \"JetEta\", \"JetPhi\", \"LepPt\", \"LepEta\", \"LepPhi\", \"ExtraLepPt\", \"ExtraLepEta\", \"ExtraLepPhi\"] + candidate_branches + MELA_branches + [\"LHEAssociatedParticleId\", \"GenAssocLep1Id\", \"GenAssocLep2Id\", \"training_weight\"]"
   ]
  },
  {
   "cell_type": "code",
   "execution_count": 10,
   "metadata": {
    "collapsed": false
   },
   "outputs": [],
   "source": [
    "complete_list_branches = [list_branches + postfix for list_branches in list_branches for postfix in [\"Pt\", \"Eta\", \"Phi\"]]"
   ]
  },
  {
   "cell_type": "code",
   "execution_count": 14,
   "metadata": {
    "collapsed": false
   },
   "outputs": [],
   "source": [
    "H1_df = H1_coll.get_data(allbranches, 0.0, 0.5)\n",
    "H0_df = H0_coll.get_data(allbranches, 0.0, 0.5)"
   ]
  },
  {
   "cell_type": "code",
   "execution_count": 15,
   "metadata": {
    "collapsed": true
   },
   "outputs": [],
   "source": [
    "def get_binned_data(df, branch):\n",
    "    data = df[branch].as_matrix()\n",
    "    weights = df[\"training_weight\"].as_matrix()\n",
    "    \n",
    "    # set the bin width\n",
    "    q75, q25 = np.percentile(data, [75, 25])\n",
    "    bin_width = max(2 * (q75 - q25) / len(data)**0.33, 0.005)\n",
    "\n",
    "    data_max = np.max(data)\n",
    "    data_min = np.min(data)\n",
    "    bins = np.arange(data_min, data_max + bin_width, bin_width)\n",
    "    \n",
    "    weights = weights / (np.sum(weights) * bin_width)\n",
    "    \n",
    "    hist = np.histogram(data, bins = bins, weights = weights)\n",
    "    return hist"
   ]
  },
  {
   "cell_type": "code",
   "execution_count": 34,
   "metadata": {
    "collapsed": true
   },
   "outputs": [],
   "source": [
    "def get_interpolating_function(data, bins):\n",
    "    bin_centers = [np.mean([bins[i], bins[i + 1]]) for i in range(len(bins) - 1)]\n",
    "    intf = interpolate.interp1d(bin_centers, data, kind = \"cubic\")\n",
    "    interpolated_function = lambda x: intf(x) if x > bin_centers[0] and x < bin_centers[-1] else 0\n",
    "    \n",
    "    return interpolated_function"
   ]
  },
  {
   "cell_type": "code",
   "execution_count": 20,
   "metadata": {
    "collapsed": false
   },
   "outputs": [],
   "source": [
    "data_H1, bins_H1 = get_binned_data(H1_df, \"D_VBF1j_ggH_ME\")"
   ]
  },
  {
   "cell_type": "code",
   "execution_count": 21,
   "metadata": {
    "collapsed": true
   },
   "outputs": [],
   "source": [
    "data_H0, bins_H0 = get_binned_data(H0_df, \"D_VBF1j_ggH_ME\")"
   ]
  },
  {
   "cell_type": "code",
   "execution_count": 35,
   "metadata": {
    "collapsed": false
   },
   "outputs": [],
   "source": [
    "H1_func = get_interpolating_function(data_H1, bins_H1)"
   ]
  },
  {
   "cell_type": "code",
   "execution_count": 36,
   "metadata": {
    "collapsed": true
   },
   "outputs": [],
   "source": [
    "H0_func = get_interpolating_function(data_H0, bins_H0)"
   ]
  },
  {
   "cell_type": "code",
   "execution_count": 37,
   "metadata": {
    "collapsed": false
   },
   "outputs": [
    {
     "data": {
      "text/plain": [
       "(0.0, 0.0)"
      ]
     },
     "execution_count": 37,
     "metadata": {},
     "output_type": "execute_result"
    }
   ],
   "source": [
    "integrate.quad(H1_func, 118, 130)"
   ]
  },
  {
   "cell_type": "code",
   "execution_count": 43,
   "metadata": {
    "collapsed": true
   },
   "outputs": [],
   "source": [
    "x = np.arange(0.0, 1.0, 0.01)"
   ]
  },
  {
   "cell_type": "code",
   "execution_count": 44,
   "metadata": {
    "collapsed": true
   },
   "outputs": [],
   "source": [
    "y_H1 = [H1_func(xx) for xx in x]"
   ]
  },
  {
   "cell_type": "code",
   "execution_count": 47,
   "metadata": {
    "collapsed": false
   },
   "outputs": [],
   "source": [
    "y_H0 = [H0_func(xx) for xx in x]"
   ]
  },
  {
   "cell_type": "code",
   "execution_count": 48,
   "metadata": {
    "collapsed": false
   },
   "outputs": [
    {
     "data": {
      "text/plain": [
       "[<matplotlib.lines.Line2D at 0x7f9a2ba3ca10>]"
      ]
     },
     "execution_count": 48,
     "metadata": {},
     "output_type": "execute_result"
    }
   ],
   "source": [
    "plt.plot(x,y_H1, label = \"H1\")"
   ]
  },
  {
   "cell_type": "code",
   "execution_count": 49,
   "metadata": {
    "collapsed": false
   },
   "outputs": [
    {
     "data": {
      "text/plain": [
       "[<matplotlib.lines.Line2D at 0x7f9a32f973d0>]"
      ]
     },
     "execution_count": 49,
     "metadata": {},
     "output_type": "execute_result"
    }
   ],
   "source": [
    "plt.plot(x,y_H0, label = \"H0\")"
   ]
  },
  {
   "cell_type": "code",
   "execution_count": 50,
   "metadata": {
    "collapsed": false
   },
   "outputs": [
    {
     "data": {
      "image/png": "[encoded data removed]",
      "text/plain": [
       "<matplotlib.figure.Figure at 0x7f9a2ba3c6d0>"
      ]
     },
     "metadata": {},
     "output_type": "display_data"
    }
   ],
   "source": [
    "plt.show()"
   ]
  },
  {
   "cell_type": "code",
   "execution_count": 32,
   "metadata": {
    "collapsed": false
   },
   "outputs": [
    {
     "name": "stderr",
     "output_type": "stream",
     "text": [
      "/cvmfs/cms.cern.ch/slc6_amd64_gcc630/external/py2-pippkgs_depscipy/3.0-fmblme3/lib/python2.7/site-packages/scipy/integrate/quadpack.py:364: IntegrationWarning: The maximum number of subdivisions (50) has been achieved.\n",
      "  If increasing the limit yields no improvement it is advised to analyze \n",
      "  the integrand in order to determine the difficulties.  If the position of a \n",
      "  local difficulty can be determined (singularity, discontinuity) one will \n",
      "  probably gain from splitting up the interval and calling the integrator \n",
      "  on the subranges.  Perhaps a special-purpose integrator should be used.\n",
      "  warnings.warn(msg, IntegrationWarning)\n"
     ]
    }
   ],
   "source": [
    "separation_func = lambda x: (H1_func(x) + H0_func(x)) * (H1_func(x) - H0_func(x))**2\n",
    "\n",
    "sep = integrate.quad(separation_func, 0.0, 1.0)"
   ]
  },
  {
   "cell_type": "code",
   "execution_count": 33,
   "metadata": {
    "collapsed": false
   },
   "outputs": [
    {
     "data": {
      "text/plain": [
       "(0.1191775008775731, 0.00022655316460787334)"
      ]
     },
     "execution_count": 33,
     "metadata": {},
     "output_type": "execute_result"
    }
   ],
   "source": [
    "sep"
   ]
  },
  {
   "cell_type": "code",
   "execution_count": null,
   "metadata": {
    "collapsed": true
   },
   "outputs": [],
   "source": []
  }
 ],
 "metadata": {
  "kernelspec": {
   "display_name": "Python 2",
   "language": "python",
   "name": "python2"
  },
  "language_info": {
   "codemirror_mode": {
    "name": "ipython",
    "version": 2
   },
   "file_extension": ".py",
   "mimetype": "text/x-python",
   "name": "python",
   "nbconvert_exporter": "python",
   "pygments_lexer": "ipython2",
   "version": "2.7.11"
  }
 },
 "nbformat": 4,
 "nbformat_minor": 2
}
