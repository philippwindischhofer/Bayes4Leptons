{
 "cells": [
  {
   "cell_type": "code",
   "execution_count": 1,
   "metadata": {
    "collapsed": false
   },
   "outputs": [
    {
     "name": "stderr",
     "output_type": "stream",
     "text": [
      "Using TensorFlow backend.\n"
     ]
    }
   ],
   "source": [
    "import tensorflow as tf\n",
    "from keras import backend as K\n",
    "from keras import optimizers"
   ]
  },
  {
   "cell_type": "code",
   "execution_count": 2,
   "metadata": {
    "collapsed": true
   },
   "outputs": [],
   "source": [
    "from keras.layers import Dense, LSTM, Activation\n",
    "from keras.engine.topology import Input\n",
    "from keras.preprocessing.sequence import pad_sequences\n",
    "import keras.engine.training"
   ]
  },
  {
   "cell_type": "code",
   "execution_count": 3,
   "metadata": {
    "collapsed": true
   },
   "outputs": [],
   "source": [
    "config = tf.ConfigProto(intra_op_parallelism_threads = 10, inter_op_parallelism_threads = 10, allow_soft_placement = True, device_count = {'CPU': 10})\n",
    "session = tf.Session(config = config)\n",
    "K.set_session(session)"
   ]
  },
  {
   "cell_type": "code",
   "execution_count": 4,
   "metadata": {
    "collapsed": false
   },
   "outputs": [
    {
     "name": "stdout",
     "output_type": "stream",
     "text": [
      "Welcome to JupyROOT 6.10/09\n"
     ]
    }
   ],
   "source": [
    "from trainlib_development.FileCollection import FileCollection\n",
    "from trainlib_development.Preprocessor import Preprocessor\n",
    "from trainlib_development.PCAWhiteningPreprocessor import PCAWhiteningPreprocessor\n",
    "from trainlib_development.RNNPreprocessor import RNNPreprocessor\n",
    "from trainlib_development.ListPreprocessor import ListPreprocessor\n",
    "import trainlib_development.cuts\n",
    "import trainlib.cuts as cuts\n",
    "from trainlib.utils import read_data\n",
    "import numpy as np\n",
    "import pandas as pd\n",
    "import math"
   ]
  },
  {
   "cell_type": "code",
   "execution_count": 5,
   "metadata": {
    "collapsed": true
   },
   "outputs": [],
   "source": [
    "# slightly extended version of the numpy-internal one with same name, also handles the case when the entries in the dataframe are actually numpy arrays themselves\n",
    "def as_matrix(df):\n",
    "    return np.array(df.as_matrix().tolist())"
   ]
  },
  {
   "cell_type": "code",
   "execution_count": 6,
   "metadata": {
    "collapsed": false
   },
   "outputs": [
    {
     "name": "stdout",
     "output_type": "stream",
     "text": [
      "skimming /data_CMS/cms/wind/CJLST_NTuples/ggH125/ZZ4lAnalysis.root\n",
      "collection set up: 1 files, 110483 entries in total, 110483 of which will be used\n"
     ]
    }
   ],
   "source": [
    "# read some input data\n",
    "fcoll = FileCollection({\"/data_CMS/cms/wind/CJLST_NTuples/ggH125/ZZ4lAnalysis.root\" : cuts.no_cut}, 0.0, 1.0)\n",
    "setup_data = read_data(fcoll, 0, 10, branches = [\"PFMET\", \"nCleanedJetsPt30\", \"JetPt\", \"JetEta\", \"JetPhi\"])\n",
    "validation_data = read_data(fcoll, 400, 800, branches = [\"PFMET\", \"nCleanedJetsPt30\", \"JetPt\", \"JetEta\", \"JetPhi\"])"
   ]
  },
  {
   "cell_type": "code",
   "execution_count": 7,
   "metadata": {
    "collapsed": false
   },
   "outputs": [],
   "source": [
    "# set up the preprocessor for the RNN\n",
    "nonperiodic_columns = [\"JetPt\", \"JetEta\"]\n",
    "periodic_columns = [\"JetPhi\"]\n",
    "sorted_column = \"JetPt\""
   ]
  },
  {
   "cell_type": "code",
   "execution_count": null,
   "metadata": {
    "collapsed": true
   },
   "outputs": [],
   "source": [
    "pre_rnn = RNNPreprocessor(nonperiodic_columns, periodic_columns, sorted_column, cuts.no_cut, PCAWhiteningPreprocessor)"
   ]
  },
  {
   "cell_type": "code",
   "execution_count": 8,
   "metadata": {
    "collapsed": false
   },
   "outputs": [
    {
     "data": {
      "text/html": [
       "<div>\n",
       "<style>\n",
       "    .dataframe thead tr:only-child th {\n",
       "        text-align: right;\n",
       "    }\n",
       "\n",
       "    .dataframe thead th {\n",
       "        text-align: left;\n",
       "    }\n",
       "\n",
       "    .dataframe tbody tr th {\n",
       "        vertical-align: top;\n",
       "    }\n",
       "</style>\n",
       "<table border=\"1\" class=\"dataframe\">\n",
       "  <thead>\n",
       "    <tr style=\"text-align: right;\">\n",
       "      <th></th>\n",
       "      <th>PFMET</th>\n",
       "      <th>nCleanedJetsPt30</th>\n",
       "      <th>JetPt</th>\n",
       "      <th>JetEta</th>\n",
       "      <th>JetPhi</th>\n",
       "    </tr>\n",
       "  </thead>\n",
       "  <tbody>\n",
       "    <tr>\n",
       "      <th>0</th>\n",
       "      <td>40.490429</td>\n",
       "      <td>1</td>\n",
       "      <td>[53.6443]</td>\n",
       "      <td>[-2.29227]</td>\n",
       "      <td>[2.54869]</td>\n",
       "    </tr>\n",
       "    <tr>\n",
       "      <th>1</th>\n",
       "      <td>40.096920</td>\n",
       "      <td>1</td>\n",
       "      <td>[36.2919, 21.1634]</td>\n",
       "      <td>[0.326643, -0.80063]</td>\n",
       "      <td>[2.83377, 1.15123]</td>\n",
       "    </tr>\n",
       "    <tr>\n",
       "      <th>2</th>\n",
       "      <td>44.240479</td>\n",
       "      <td>0</td>\n",
       "      <td>[]</td>\n",
       "      <td>[]</td>\n",
       "      <td>[]</td>\n",
       "    </tr>\n",
       "    <tr>\n",
       "      <th>3</th>\n",
       "      <td>71.606529</td>\n",
       "      <td>1</td>\n",
       "      <td>[55.005, 28.7824]</td>\n",
       "      <td>[1.21199, -2.61541]</td>\n",
       "      <td>[1.77548, -0.592928]</td>\n",
       "    </tr>\n",
       "    <tr>\n",
       "      <th>4</th>\n",
       "      <td>21.410542</td>\n",
       "      <td>0</td>\n",
       "      <td>[29.372]</td>\n",
       "      <td>[3.82245]</td>\n",
       "      <td>[-2.58757]</td>\n",
       "    </tr>\n",
       "    <tr>\n",
       "      <th>5</th>\n",
       "      <td>21.159580</td>\n",
       "      <td>0</td>\n",
       "      <td>[21.1895]</td>\n",
       "      <td>[-2.82564]</td>\n",
       "      <td>[-1.86381]</td>\n",
       "    </tr>\n",
       "    <tr>\n",
       "      <th>6</th>\n",
       "      <td>28.228645</td>\n",
       "      <td>0</td>\n",
       "      <td>[]</td>\n",
       "      <td>[]</td>\n",
       "      <td>[]</td>\n",
       "    </tr>\n",
       "    <tr>\n",
       "      <th>7</th>\n",
       "      <td>34.765644</td>\n",
       "      <td>0</td>\n",
       "      <td>[21.9638]</td>\n",
       "      <td>[-1.08136]</td>\n",
       "      <td>[-2.47143]</td>\n",
       "    </tr>\n",
       "    <tr>\n",
       "      <th>8</th>\n",
       "      <td>54.827316</td>\n",
       "      <td>1</td>\n",
       "      <td>[81.062]</td>\n",
       "      <td>[3.98602]</td>\n",
       "      <td>[1.68111]</td>\n",
       "    </tr>\n",
       "    <tr>\n",
       "      <th>9</th>\n",
       "      <td>7.474819</td>\n",
       "      <td>1</td>\n",
       "      <td>[31.6878, 28.9569, 27.7632]</td>\n",
       "      <td>[-2.06541, 1.83295, -0.914617]</td>\n",
       "      <td>[1.32394, 0.201612, 2.14285]</td>\n",
       "    </tr>\n",
       "  </tbody>\n",
       "</table>\n",
       "</div>"
      ],
      "text/plain": [
       "       PFMET  nCleanedJetsPt30                        JetPt  \\\n",
       "0  40.490429                 1                    [53.6443]   \n",
       "1  40.096920                 1           [36.2919, 21.1634]   \n",
       "2  44.240479                 0                           []   \n",
       "3  71.606529                 1            [55.005, 28.7824]   \n",
       "4  21.410542                 0                     [29.372]   \n",
       "5  21.159580                 0                    [21.1895]   \n",
       "6  28.228645                 0                           []   \n",
       "7  34.765644                 0                    [21.9638]   \n",
       "8  54.827316                 1                     [81.062]   \n",
       "9   7.474819                 1  [31.6878, 28.9569, 27.7632]   \n",
       "\n",
       "                           JetEta                        JetPhi  \n",
       "0                      [-2.29227]                     [2.54869]  \n",
       "1            [0.326643, -0.80063]            [2.83377, 1.15123]  \n",
       "2                              []                            []  \n",
       "3             [1.21199, -2.61541]          [1.77548, -0.592928]  \n",
       "4                       [3.82245]                    [-2.58757]  \n",
       "5                      [-2.82564]                    [-1.86381]  \n",
       "6                              []                            []  \n",
       "7                      [-1.08136]                    [-2.47143]  \n",
       "8                       [3.98602]                     [1.68111]  \n",
       "9  [-2.06541, 1.83295, -0.914617]  [1.32394, 0.201612, 2.14285]  "
      ]
     },
     "execution_count": 8,
     "metadata": {},
     "output_type": "execute_result"
    }
   ],
   "source": [
    "setup_data"
   ]
  },
  {
   "cell_type": "code",
   "execution_count": 9,
   "metadata": {
    "collapsed": false
   },
   "outputs": [],
   "source": [
    "pre_list = ListPreprocessor(\"listtest\", nonperiodic_columns, cuts.no_cut, PCAWhiteningPreprocessor)"
   ]
  },
  {
   "cell_type": "code",
   "execution_count": 10,
   "metadata": {
    "collapsed": false
   },
   "outputs": [
    {
     "name": "stdout",
     "output_type": "stream",
     "text": [
      "10 remaining after the cuts\n",
      "        JetPt    JetEta\n",
      "0   53.644279 -2.292268\n",
      "1   36.291904  0.326643\n",
      "2   21.163439 -0.800630\n",
      "3   55.005016  1.211992\n",
      "4   28.782440 -2.615411\n",
      "5   29.372034  3.822447\n",
      "6   21.189455 -2.825641\n",
      "7   21.963787 -1.081362\n",
      "8   81.061989  3.986023\n",
      "9   31.687809 -2.065411\n",
      "10  28.956873  1.832949\n",
      "11  27.763235 -0.914617\n",
      "12 remaining after the cuts\n"
     ]
    }
   ],
   "source": [
    "pre_list.setup(setup_data)"
   ]
  },
  {
   "cell_type": "code",
   "execution_count": 42,
   "metadata": {
    "collapsed": false
   },
   "outputs": [],
   "source": [
    "processed_data = pre_list.process(setup_data)"
   ]
  },
  {
   "cell_type": "code",
   "execution_count": 43,
   "metadata": {
    "collapsed": false
   },
   "outputs": [
    {
     "name": "stdout",
     "output_type": "stream",
     "text": [
      "listtest\n"
     ]
    }
   ],
   "source": [
    "for key in processed_data:\n",
    "    print key"
   ]
  },
  {
   "cell_type": "code",
   "execution_count": 44,
   "metadata": {
    "collapsed": false
   },
   "outputs": [],
   "source": [
    "processed_array = processed_data['listtest']"
   ]
  },
  {
   "cell_type": "code",
   "execution_count": 45,
   "metadata": {
    "collapsed": false
   },
   "outputs": [],
   "source": [
    "perm = np.random.permutation(10)"
   ]
  },
  {
   "cell_type": "code",
   "execution_count": 46,
   "metadata": {
    "collapsed": false
   },
   "outputs": [
    {
     "data": {
      "text/plain": [
       "array([6, 9, 8, 0, 2, 4, 3, 5, 7, 1])"
      ]
     },
     "execution_count": 46,
     "metadata": {},
     "output_type": "execute_result"
    }
   ],
   "source": [
    "perm"
   ]
  },
  {
   "cell_type": "code",
   "execution_count": 47,
   "metadata": {
    "collapsed": false
   },
   "outputs": [
    {
     "data": {
      "text/plain": [
       "10"
      ]
     },
     "execution_count": 47,
     "metadata": {},
     "output_type": "execute_result"
    }
   ],
   "source": [
    "np.size(perm, axis = 0)"
   ]
  },
  {
   "cell_type": "code",
   "execution_count": 48,
   "metadata": {
    "collapsed": false
   },
   "outputs": [
    {
     "data": {
      "text/plain": [
       "array([ 1.,  1.,  1.,  1.,  1.,  1.,  1.,  1.,  1.,  1.,  0.,  0.,  0.,\n",
       "        0.,  0.])"
      ]
     },
     "execution_count": 48,
     "metadata": {},
     "output_type": "execute_result"
    }
   ],
   "source": [
    "np.concatenate([np.ones(10), np.zeros(5)])"
   ]
  },
  {
   "cell_type": "code",
   "execution_count": 49,
   "metadata": {
    "collapsed": false
   },
   "outputs": [
    {
     "data": {
      "text/plain": [
       "array([[[ 0.98708069, -1.65421212],\n",
       "        [ 0.        ,  0.        ],\n",
       "        [ 0.        ,  0.        ],\n",
       "        [ 0.        ,  0.        ]],\n",
       "\n",
       "       [[-0.00496914,  0.22699654],\n",
       "        [-0.88267016,  0.15451565],\n",
       "        [ 0.        ,  0.        ],\n",
       "        [ 0.        ,  0.        ]],\n",
       "\n",
       "       [[ 0.        ,  0.        ],\n",
       "        [ 0.        ,  0.        ],\n",
       "        [ 0.        ,  0.        ],\n",
       "        [ 0.        ,  0.        ]],\n",
       "\n",
       "       [[ 1.07879114,  0.06104446],\n",
       "        [-0.44957966, -1.00534427],\n",
       "        [ 0.        ,  0.        ],\n",
       "        [ 0.        ,  0.        ]],\n",
       "\n",
       "       [[-0.39138788,  2.20816612],\n",
       "        [ 0.        ,  0.        ],\n",
       "        [ 0.        ,  0.        ],\n",
       "        [ 0.        ,  0.        ]],\n",
       "\n",
       "       [[-0.8887645 , -0.86318493],\n",
       "        [ 0.        ,  0.        ],\n",
       "        [ 0.        ,  0.        ],\n",
       "        [ 0.        ,  0.        ]],\n",
       "\n",
       "       [[ 0.        ,  0.        ],\n",
       "        [ 0.        ,  0.        ],\n",
       "        [ 0.        ,  0.        ],\n",
       "        [ 0.        ,  0.        ]],\n",
       "\n",
       "       [[-0.83751357, -0.01256469],\n",
       "        [ 0.        ,  0.        ],\n",
       "        [ 0.        ,  0.        ],\n",
       "        [ 0.        ,  0.        ]],\n",
       "\n",
       "       [[ 2.59364891,  0.60388923],\n",
       "        [ 0.        ,  0.        ],\n",
       "        [ 0.        ,  0.        ],\n",
       "        [ 0.        ,  0.        ]],\n",
       "\n",
       "       [[-0.27976915, -0.82395327],\n",
       "        [-0.42282125,  1.22269213],\n",
       "        [-0.50204527, -0.11804488],\n",
       "        [ 0.        ,  0.        ]],\n",
       "\n",
       "       [[ 0.98708069, -1.65421212],\n",
       "        [ 0.        ,  0.        ],\n",
       "        [ 0.        ,  0.        ],\n",
       "        [ 0.        ,  0.        ]],\n",
       "\n",
       "       [[-0.00496914,  0.22699654],\n",
       "        [-0.88267016,  0.15451565],\n",
       "        [ 0.        ,  0.        ],\n",
       "        [ 0.        ,  0.        ]],\n",
       "\n",
       "       [[ 0.        ,  0.        ],\n",
       "        [ 0.        ,  0.        ],\n",
       "        [ 0.        ,  0.        ],\n",
       "        [ 0.        ,  0.        ]],\n",
       "\n",
       "       [[ 1.07879114,  0.06104446],\n",
       "        [-0.44957966, -1.00534427],\n",
       "        [ 0.        ,  0.        ],\n",
       "        [ 0.        ,  0.        ]],\n",
       "\n",
       "       [[-0.39138788,  2.20816612],\n",
       "        [ 0.        ,  0.        ],\n",
       "        [ 0.        ,  0.        ],\n",
       "        [ 0.        ,  0.        ]],\n",
       "\n",
       "       [[-0.8887645 , -0.86318493],\n",
       "        [ 0.        ,  0.        ],\n",
       "        [ 0.        ,  0.        ],\n",
       "        [ 0.        ,  0.        ]],\n",
       "\n",
       "       [[ 0.        ,  0.        ],\n",
       "        [ 0.        ,  0.        ],\n",
       "        [ 0.        ,  0.        ],\n",
       "        [ 0.        ,  0.        ]],\n",
       "\n",
       "       [[-0.83751357, -0.01256469],\n",
       "        [ 0.        ,  0.        ],\n",
       "        [ 0.        ,  0.        ],\n",
       "        [ 0.        ,  0.        ]],\n",
       "\n",
       "       [[ 2.59364891,  0.60388923],\n",
       "        [ 0.        ,  0.        ],\n",
       "        [ 0.        ,  0.        ],\n",
       "        [ 0.        ,  0.        ]],\n",
       "\n",
       "       [[-0.27976915, -0.82395327],\n",
       "        [-0.42282125,  1.22269213],\n",
       "        [-0.50204527, -0.11804488],\n",
       "        [ 0.        ,  0.        ]]], dtype=float32)"
      ]
     },
     "execution_count": 49,
     "metadata": {},
     "output_type": "execute_result"
    }
   ],
   "source": [
    "np.concatenate([processed_array, processed_array], axis = 0)"
   ]
  },
  {
   "cell_type": "code",
   "execution_count": 26,
   "metadata": {
    "collapsed": false
   },
   "outputs": [
    {
     "data": {
      "text/plain": [
       "array([[[ 0.        ,  0.        ],\n",
       "        [ 0.        ,  0.        ],\n",
       "        [ 0.        ,  0.        ],\n",
       "        [ 0.        ,  0.        ]],\n",
       "\n",
       "       [[-0.39138788,  2.20816612],\n",
       "        [ 0.        ,  0.        ],\n",
       "        [ 0.        ,  0.        ],\n",
       "        [ 0.        ,  0.        ]],\n",
       "\n",
       "       [[-0.00496914,  0.22699654],\n",
       "        [-0.88267016,  0.15451565],\n",
       "        [ 0.        ,  0.        ],\n",
       "        [ 0.        ,  0.        ]],\n",
       "\n",
       "       [[ 2.59364891,  0.60388923],\n",
       "        [ 0.        ,  0.        ],\n",
       "        [ 0.        ,  0.        ],\n",
       "        [ 0.        ,  0.        ]],\n",
       "\n",
       "       [[-0.83751357, -0.01256469],\n",
       "        [ 0.        ,  0.        ],\n",
       "        [ 0.        ,  0.        ],\n",
       "        [ 0.        ,  0.        ]],\n",
       "\n",
       "       [[-0.8887645 , -0.86318493],\n",
       "        [ 0.        ,  0.        ],\n",
       "        [ 0.        ,  0.        ],\n",
       "        [ 0.        ,  0.        ]],\n",
       "\n",
       "       [[-0.27976915, -0.82395327],\n",
       "        [-0.42282125,  1.22269213],\n",
       "        [-0.50204527, -0.11804488],\n",
       "        [ 0.        ,  0.        ]],\n",
       "\n",
       "       [[ 1.07879114,  0.06104446],\n",
       "        [-0.44957966, -1.00534427],\n",
       "        [ 0.        ,  0.        ],\n",
       "        [ 0.        ,  0.        ]],\n",
       "\n",
       "       [[ 0.        ,  0.        ],\n",
       "        [ 0.        ,  0.        ],\n",
       "        [ 0.        ,  0.        ],\n",
       "        [ 0.        ,  0.        ]],\n",
       "\n",
       "       [[ 0.98708069, -1.65421212],\n",
       "        [ 0.        ,  0.        ],\n",
       "        [ 0.        ,  0.        ],\n",
       "        [ 0.        ,  0.        ]]], dtype=float32)"
      ]
     },
     "execution_count": 26,
     "metadata": {},
     "output_type": "execute_result"
    }
   ],
   "source": [
    "processed_array[perm]"
   ]
  },
  {
   "cell_type": "code",
   "execution_count": 24,
   "metadata": {
    "collapsed": false
   },
   "outputs": [
    {
     "data": {
      "text/plain": [
       "array([[[ 0.98708069, -1.65421212],\n",
       "        [ 0.        ,  0.        ],\n",
       "        [ 0.        ,  0.        ],\n",
       "        [ 0.        ,  0.        ]],\n",
       "\n",
       "       [[-0.00496914,  0.22699654],\n",
       "        [-0.88267016,  0.15451565],\n",
       "        [ 0.        ,  0.        ],\n",
       "        [ 0.        ,  0.        ]],\n",
       "\n",
       "       [[ 0.        ,  0.        ],\n",
       "        [ 0.        ,  0.        ],\n",
       "        [ 0.        ,  0.        ],\n",
       "        [ 0.        ,  0.        ]],\n",
       "\n",
       "       [[ 1.07879114,  0.06104446],\n",
       "        [-0.44957966, -1.00534427],\n",
       "        [ 0.        ,  0.        ],\n",
       "        [ 0.        ,  0.        ]],\n",
       "\n",
       "       [[-0.39138788,  2.20816612],\n",
       "        [ 0.        ,  0.        ],\n",
       "        [ 0.        ,  0.        ],\n",
       "        [ 0.        ,  0.        ]],\n",
       "\n",
       "       [[-0.8887645 , -0.86318493],\n",
       "        [ 0.        ,  0.        ],\n",
       "        [ 0.        ,  0.        ],\n",
       "        [ 0.        ,  0.        ]],\n",
       "\n",
       "       [[ 0.        ,  0.        ],\n",
       "        [ 0.        ,  0.        ],\n",
       "        [ 0.        ,  0.        ],\n",
       "        [ 0.        ,  0.        ]],\n",
       "\n",
       "       [[-0.83751357, -0.01256469],\n",
       "        [ 0.        ,  0.        ],\n",
       "        [ 0.        ,  0.        ],\n",
       "        [ 0.        ,  0.        ]],\n",
       "\n",
       "       [[ 2.59364891,  0.60388923],\n",
       "        [ 0.        ,  0.        ],\n",
       "        [ 0.        ,  0.        ],\n",
       "        [ 0.        ,  0.        ]],\n",
       "\n",
       "       [[-0.27976915, -0.82395327],\n",
       "        [-0.42282125,  1.22269213],\n",
       "        [-0.50204527, -0.11804488],\n",
       "        [ 0.        ,  0.        ]]], dtype=float32)"
      ]
     },
     "execution_count": 24,
     "metadata": {},
     "output_type": "execute_result"
    }
   ],
   "source": [
    "processed_array"
   ]
  },
  {
   "cell_type": "code",
   "execution_count": 68,
   "metadata": {
    "collapsed": false
   },
   "outputs": [
    {
     "data": {
      "text/html": [
       "<div>\n",
       "<style>\n",
       "    .dataframe thead tr:only-child th {\n",
       "        text-align: right;\n",
       "    }\n",
       "\n",
       "    .dataframe thead th {\n",
       "        text-align: left;\n",
       "    }\n",
       "\n",
       "    .dataframe tbody tr th {\n",
       "        vertical-align: top;\n",
       "    }\n",
       "</style>\n",
       "<table border=\"1\" class=\"dataframe\">\n",
       "  <thead>\n",
       "    <tr style=\"text-align: right;\">\n",
       "      <th></th>\n",
       "      <th>PFMET</th>\n",
       "      <th>nCleanedJetsPt30</th>\n",
       "      <th>JetPt</th>\n",
       "      <th>JetEta</th>\n",
       "      <th>JetPhi</th>\n",
       "    </tr>\n",
       "  </thead>\n",
       "  <tbody>\n",
       "    <tr>\n",
       "      <th>0</th>\n",
       "      <td>40.490429</td>\n",
       "      <td>1</td>\n",
       "      <td>[53.6443]</td>\n",
       "      <td>[-2.29227]</td>\n",
       "      <td>[2.54869]</td>\n",
       "    </tr>\n",
       "    <tr>\n",
       "      <th>1</th>\n",
       "      <td>40.096920</td>\n",
       "      <td>1</td>\n",
       "      <td>[36.2919, 21.1634]</td>\n",
       "      <td>[0.326643, -0.80063]</td>\n",
       "      <td>[2.83377, 1.15123]</td>\n",
       "    </tr>\n",
       "    <tr>\n",
       "      <th>2</th>\n",
       "      <td>44.240479</td>\n",
       "      <td>0</td>\n",
       "      <td>[]</td>\n",
       "      <td>[]</td>\n",
       "      <td>[]</td>\n",
       "    </tr>\n",
       "    <tr>\n",
       "      <th>3</th>\n",
       "      <td>71.606529</td>\n",
       "      <td>1</td>\n",
       "      <td>[55.005, 28.7824]</td>\n",
       "      <td>[1.21199, -2.61541]</td>\n",
       "      <td>[1.77548, -0.592928]</td>\n",
       "    </tr>\n",
       "    <tr>\n",
       "      <th>4</th>\n",
       "      <td>21.410542</td>\n",
       "      <td>0</td>\n",
       "      <td>[29.372]</td>\n",
       "      <td>[3.82245]</td>\n",
       "      <td>[-2.58757]</td>\n",
       "    </tr>\n",
       "    <tr>\n",
       "      <th>5</th>\n",
       "      <td>21.159580</td>\n",
       "      <td>0</td>\n",
       "      <td>[21.1895]</td>\n",
       "      <td>[-2.82564]</td>\n",
       "      <td>[-1.86381]</td>\n",
       "    </tr>\n",
       "    <tr>\n",
       "      <th>6</th>\n",
       "      <td>28.228645</td>\n",
       "      <td>0</td>\n",
       "      <td>[]</td>\n",
       "      <td>[]</td>\n",
       "      <td>[]</td>\n",
       "    </tr>\n",
       "    <tr>\n",
       "      <th>7</th>\n",
       "      <td>34.765644</td>\n",
       "      <td>0</td>\n",
       "      <td>[21.9638]</td>\n",
       "      <td>[-1.08136]</td>\n",
       "      <td>[-2.47143]</td>\n",
       "    </tr>\n",
       "    <tr>\n",
       "      <th>8</th>\n",
       "      <td>54.827316</td>\n",
       "      <td>1</td>\n",
       "      <td>[81.062]</td>\n",
       "      <td>[3.98602]</td>\n",
       "      <td>[1.68111]</td>\n",
       "    </tr>\n",
       "    <tr>\n",
       "      <th>9</th>\n",
       "      <td>7.474819</td>\n",
       "      <td>1</td>\n",
       "      <td>[31.6878, 28.9569, 27.7632]</td>\n",
       "      <td>[-2.06541, 1.83295, -0.914617]</td>\n",
       "      <td>[1.32394, 0.201612, 2.14285]</td>\n",
       "    </tr>\n",
       "  </tbody>\n",
       "</table>\n",
       "</div>"
      ],
      "text/plain": [
       "       PFMET  nCleanedJetsPt30                        JetPt  \\\n",
       "0  40.490429                 1                    [53.6443]   \n",
       "1  40.096920                 1           [36.2919, 21.1634]   \n",
       "2  44.240479                 0                           []   \n",
       "3  71.606529                 1            [55.005, 28.7824]   \n",
       "4  21.410542                 0                     [29.372]   \n",
       "5  21.159580                 0                    [21.1895]   \n",
       "6  28.228645                 0                           []   \n",
       "7  34.765644                 0                    [21.9638]   \n",
       "8  54.827316                 1                     [81.062]   \n",
       "9   7.474819                 1  [31.6878, 28.9569, 27.7632]   \n",
       "\n",
       "                           JetEta                        JetPhi  \n",
       "0                      [-2.29227]                     [2.54869]  \n",
       "1            [0.326643, -0.80063]            [2.83377, 1.15123]  \n",
       "2                              []                            []  \n",
       "3             [1.21199, -2.61541]          [1.77548, -0.592928]  \n",
       "4                       [3.82245]                    [-2.58757]  \n",
       "5                      [-2.82564]                    [-1.86381]  \n",
       "6                              []                            []  \n",
       "7                      [-1.08136]                    [-2.47143]  \n",
       "8                       [3.98602]                     [1.68111]  \n",
       "9  [-2.06541, 1.83295, -0.914617]  [1.32394, 0.201612, 2.14285]  "
      ]
     },
     "execution_count": 68,
     "metadata": {},
     "output_type": "execute_result"
    }
   ],
   "source": [
    "setup_data"
   ]
  },
  {
   "cell_type": "code",
   "execution_count": 59,
   "metadata": {
    "collapsed": true
   },
   "outputs": [],
   "source": [
    "# set up the preprocessor for the remaining fixed-size input variables\n",
    "fixed_size_columns = [\"PFMET\", \"nCleanedJetsPt30\"]\n",
    "pre_fixed = PCAWhiteningPreprocessor(fixed_size_columns, cuts.no_cut)"
   ]
  },
  {
   "cell_type": "code",
   "execution_count": 14,
   "metadata": {
    "collapsed": false
   },
   "outputs": [
    {
     "name": "stdout",
     "output_type": "stream",
     "text": [
      "10 remaining after the cuts\n",
      "12 remaining after the cuts\n"
     ]
    }
   ],
   "source": [
    "pre_rnn.setup(setup_data)"
   ]
  },
  {
   "cell_type": "code",
   "execution_count": 15,
   "metadata": {
    "collapsed": false
   },
   "outputs": [
    {
     "name": "stdout",
     "output_type": "stream",
     "text": [
      "10 remaining after the cuts\n"
     ]
    }
   ],
   "source": [
    "pre_fixed.setup(setup_data)"
   ]
  },
  {
   "cell_type": "code",
   "execution_count": 18,
   "metadata": {
    "collapsed": false
   },
   "outputs": [],
   "source": [
    "processed_rnn = pre_rnn.process(validation_data)"
   ]
  },
  {
   "cell_type": "code",
   "execution_count": 26,
   "metadata": {
    "collapsed": true
   },
   "outputs": [],
   "source": [
    "processed_fixed = pre_fixed.process(validation_data)"
   ]
  },
  {
   "cell_type": "code",
   "execution_count": 27,
   "metadata": {
    "collapsed": false
   },
   "outputs": [
    {
     "data": {
      "text/plain": [
       "array([-0.27069429,  0.32918631])"
      ]
     },
     "execution_count": 27,
     "metadata": {},
     "output_type": "execute_result"
    }
   ],
   "source": [
    "np.mean(processed_fixed, axis = 0)"
   ]
  },
  {
   "cell_type": "code",
   "execution_count": 28,
   "metadata": {
    "collapsed": false
   },
   "outputs": [
    {
     "data": {
      "text/plain": [
       "array([ 1.07572128,  1.95916834])"
      ]
     },
     "execution_count": 28,
     "metadata": {},
     "output_type": "execute_result"
    }
   ],
   "source": [
    "np.std(processed_fixed, axis = 0)"
   ]
  },
  {
   "cell_type": "code",
   "execution_count": 74,
   "metadata": {
    "collapsed": false
   },
   "outputs": [],
   "source": [
    "final = as_matrix(processed_data)"
   ]
  },
  {
   "cell_type": "code",
   "execution_count": 96,
   "metadata": {
    "collapsed": false
   },
   "outputs": [],
   "source": [
    "final = np.swapaxes(final, 1, 2)"
   ]
  },
  {
   "cell_type": "code",
   "execution_count": 98,
   "metadata": {
    "collapsed": false
   },
   "outputs": [
    {
     "data": {
      "text/plain": [
       "array([[[ 0.        ,  0.        ,  0.        ,  0.        ],\n",
       "        [ 0.        ,  0.        ,  0.        ,  0.        ],\n",
       "        [ 0.        ,  0.        ,  0.        ,  0.        ],\n",
       "        [ 0.        ,  0.        ,  0.        ,  0.        ],\n",
       "        [ 0.        ,  0.        ,  0.        ,  0.        ]],\n",
       "\n",
       "       [[ 0.        ,  0.        ,  0.        ,  0.        ],\n",
       "        [ 0.        ,  0.        ,  0.        ,  0.        ],\n",
       "        [ 0.        ,  0.        ,  0.        ,  0.        ],\n",
       "        [ 0.        ,  0.        ,  0.        ,  0.        ],\n",
       "        [ 0.        ,  0.        ,  0.        ,  0.        ]],\n",
       "\n",
       "       [[-0.58775389,  1.85188425, -1.40367889,  0.28947026],\n",
       "        [-0.59278959,  1.81904542, -0.15680805,  1.41542077],\n",
       "        [ 0.        ,  0.        ,  0.        ,  0.        ],\n",
       "        [ 0.        ,  0.        ,  0.        ,  0.        ],\n",
       "        [ 0.        ,  0.        ,  0.        ,  0.        ]],\n",
       "\n",
       "       ..., \n",
       "       [[-0.08938136, -0.91685706,  1.21690023,  0.76261622],\n",
       "        [ 0.        ,  0.        ,  0.        ,  0.        ],\n",
       "        [ 0.        ,  0.        ,  0.        ,  0.        ],\n",
       "        [ 0.        ,  0.        ,  0.        ,  0.        ],\n",
       "        [ 0.        ,  0.        ,  0.        ,  0.        ]],\n",
       "\n",
       "       [[ 0.31362152, -0.58615708, -0.92888057,  1.06443703],\n",
       "        [-0.26364583,  0.08543751,  1.03982377,  0.96421349],\n",
       "        [ 0.        ,  0.        ,  0.        ,  0.        ],\n",
       "        [ 0.        ,  0.        ,  0.        ,  0.        ],\n",
       "        [ 0.        ,  0.        ,  0.        ,  0.        ]],\n",
       "\n",
       "       [[-0.55341446,  0.45504576, -0.77862602,  1.23459733],\n",
       "        [ 0.        ,  0.        ,  0.        ,  0.        ],\n",
       "        [ 0.        ,  0.        ,  0.        ,  0.        ],\n",
       "        [ 0.        ,  0.        ,  0.        ,  0.        ],\n",
       "        [ 0.        ,  0.        ,  0.        ,  0.        ]]])"
      ]
     },
     "execution_count": 98,
     "metadata": {},
     "output_type": "execute_result"
    }
   ],
   "source": [
    "final"
   ]
  },
  {
   "cell_type": "code",
   "execution_count": 83,
   "metadata": {
    "collapsed": true
   },
   "outputs": [],
   "source": [
    "class CombinedModel:\n",
    "    def __init__(self):\n",
    "        self.model = None\n",
    "        \n",
    "    def build(self):\n",
    "        in_layer = Input(shape = (None, 2))\n",
    "        # number units = dimensionality of the output space\n",
    "        lstm = LSTM(units = 16, return_sequences = False)(in_layer)\n",
    "        out_layer = Dense(1, activation = 'tanh')(lstm)\n",
    "        \n",
    "        self.model = keras.engine.training.Model(in_layer, out_layer, name = 'lstm')"
   ]
  },
  {
   "cell_type": "code",
   "execution_count": 84,
   "metadata": {
    "collapsed": false
   },
   "outputs": [],
   "source": [
    "mod = CombinedModel()\n",
    "mod.build()"
   ]
  },
  {
   "cell_type": "code",
   "execution_count": 2,
   "metadata": {
    "collapsed": false
   },
   "outputs": [
    {
     "ename": "NameError",
     "evalue": "name 'processed_data' is not defined",
     "output_type": "error",
     "traceback": [
      "\u001b[0;31m---------------------------------------------------------------------------\u001b[0m",
      "\u001b[0;31mNameError\u001b[0m                                 Traceback (most recent call last)",
      "\u001b[0;32m<ipython-input-2-e757bd14ddfd>\u001b[0m in \u001b[0;36m<module>\u001b[0;34m()\u001b[0m\n\u001b[0;32m----> 1\u001b[0;31m \u001b[0mprocessed_data\u001b[0m\u001b[0;34m\u001b[0m\u001b[0m\n\u001b[0m",
      "\u001b[0;31mNameError\u001b[0m: name 'processed_data' is not defined"
     ]
    }
   ],
   "source": [
    "processed_data"
   ]
  },
  {
   "cell_type": "code",
   "execution_count": 85,
   "metadata": {
    "collapsed": false
   },
   "outputs": [
    {
     "data": {
      "text/plain": [
       "array([[ 0.08889437],\n",
       "       [ 0.11208226],\n",
       "       [ 0.        ],\n",
       "       [ 0.12064432],\n",
       "       [ 0.09134383],\n",
       "       [ 0.07961366],\n",
       "       [ 0.        ],\n",
       "       [ 0.08135621],\n",
       "       [ 0.08613631],\n",
       "       [ 0.20706847]], dtype=float32)"
      ]
     },
     "execution_count": 85,
     "metadata": {},
     "output_type": "execute_result"
    }
   ],
   "source": [
    "mod.model.predict(processed_data)"
   ]
  },
  {
   "cell_type": "code",
   "execution_count": null,
   "metadata": {
    "collapsed": true
   },
   "outputs": [],
   "source": []
  }
 ],
 "metadata": {
  "kernelspec": {
   "display_name": "Python 2",
   "language": "python",
   "name": "python2"
  },
  "language_info": {
   "codemirror_mode": {
    "name": "ipython",
    "version": 2
   },
   "file_extension": ".py",
   "mimetype": "text/x-python",
   "name": "python",
   "nbconvert_exporter": "python",
   "pygments_lexer": "ipython2",
   "version": "2.7.11"
  }
 },
 "nbformat": 4,
 "nbformat_minor": 2
}
