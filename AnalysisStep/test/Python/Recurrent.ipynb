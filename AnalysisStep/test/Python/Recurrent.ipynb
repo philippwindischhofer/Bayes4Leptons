{
 "cells": [
  {
   "cell_type": "code",
   "execution_count": 26,
   "metadata": {
    "collapsed": false
   },
   "outputs": [],
   "source": [
    "import tensorflow as tf\n",
    "from keras import backend as K\n",
    "from keras import optimizers"
   ]
  },
  {
   "cell_type": "code",
   "execution_count": 2,
   "metadata": {
    "collapsed": true
   },
   "outputs": [],
   "source": [
    "from keras.layers import Dense, LSTM, Activation\n",
    "from keras.engine.topology import Input\n",
    "from keras.preprocessing.sequence import pad_sequences\n",
    "import keras.engine.training"
   ]
  },
  {
   "cell_type": "code",
   "execution_count": 3,
   "metadata": {
    "collapsed": true
   },
   "outputs": [],
   "source": [
    "config = tf.ConfigProto(intra_op_parallelism_threads = 10, inter_op_parallelism_threads = 10, allow_soft_placement = True, device_count = {'CPU': 10})\n",
    "session = tf.Session(config = config)\n",
    "K.set_session(session)"
   ]
  },
  {
   "cell_type": "code",
   "execution_count": 6,
   "metadata": {
    "collapsed": false
   },
   "outputs": [],
   "source": [
    "from trainlib.FileCollection import FileCollection\n",
    "from trainlib.Preprocessor import Preprocessor\n",
    "from trainlib.PCAWhiteningPreprocessor import PCAWhiteningPreprocessor\n",
    "from trainlib.RNNPreprocessor import RNNPreprocessor\n",
    "from trainlib.ListPreprocessor import ListPreprocessor\n",
    "from trainlib.generator import Generator\n",
    "import trainlib.cuts\n",
    "import trainlib.cuts as cuts\n",
    "from trainlib.utils import read_data\n",
    "import numpy as np\n",
    "import pandas as pd\n",
    "import math"
   ]
  },
  {
   "cell_type": "code",
   "execution_count": 7,
   "metadata": {
    "collapsed": true
   },
   "outputs": [],
   "source": [
    "# slightly extended version of the numpy-internal one with same name, also handles the case when the entries in the dataframe are actually numpy arrays themselves\n",
    "def as_matrix(df):\n",
    "    return np.array(df.as_matrix().tolist())"
   ]
  },
  {
   "cell_type": "code",
   "execution_count": 8,
   "metadata": {
    "collapsed": true
   },
   "outputs": [],
   "source": [
    "# prepare the generator for tests\n",
    "H1_stream = {\"/data_CMS/cms/wind/CJLST_NTuples/ggH125/ZZ4lAnalysis.root\" : cuts.no_cut}\n",
    "H0_stream = {\"/data_CMS/cms/wind/CJLST_NTuples/VBFH125/ZZ4lAnalysis.root\" : cuts.no_cut}"
   ]
  },
  {
   "cell_type": "code",
   "execution_count": 9,
   "metadata": {
    "collapsed": false
   },
   "outputs": [
    {
     "name": "stdout",
     "output_type": "stream",
     "text": [
      "skimming /data_CMS/cms/wind/CJLST_NTuples/ggH125/ZZ4lAnalysis.root\n",
      "collection set up: 1 files, 110483 entries in total, 110483 of which will be used\n"
     ]
    }
   ],
   "source": [
    "# read some input data\n",
    "fcoll = FileCollection({\"/data_CMS/cms/wind/CJLST_NTuples/ggH125/ZZ4lAnalysis.root\" : cuts.no_cut}, 0.0, 1.0)\n",
    "setup_data = read_data(fcoll, 0, 10, branches = [\"JetPt\", \"JetEta\", \"JetPhi\"])\n",
    "validation_data = read_data(fcoll, 400, 800, branches = [\"JetPt\", \"JetEta\", \"JetPhi\"])"
   ]
  },
  {
   "cell_type": "code",
   "execution_count": 10,
   "metadata": {
    "collapsed": false
   },
   "outputs": [],
   "source": [
    "# set up the preprocessor for the RNN\n",
    "nonperiodic_columns = [\"JetPt\", \"JetEta\"]\n",
    "periodic_columns = [\"JetPhi\"]\n",
    "sorted_column = \"JetPt\""
   ]
  },
  {
   "cell_type": "code",
   "execution_count": 11,
   "metadata": {
    "collapsed": false
   },
   "outputs": [],
   "source": [
    "pre_rnn = RNNPreprocessor('RNN_test', nonperiodic_columns, periodic_columns, sorted_column, cuts.no_cut, PCAWhiteningPreprocessor)"
   ]
  },
  {
   "cell_type": "code",
   "execution_count": 12,
   "metadata": {
    "collapsed": false
   },
   "outputs": [
    {
     "data": {
      "text/html": [
       "<div>\n",
       "<style>\n",
       "    .dataframe thead tr:only-child th {\n",
       "        text-align: right;\n",
       "    }\n",
       "\n",
       "    .dataframe thead th {\n",
       "        text-align: left;\n",
       "    }\n",
       "\n",
       "    .dataframe tbody tr th {\n",
       "        vertical-align: top;\n",
       "    }\n",
       "</style>\n",
       "<table border=\"1\" class=\"dataframe\">\n",
       "  <thead>\n",
       "    <tr style=\"text-align: right;\">\n",
       "      <th></th>\n",
       "      <th>JetPt</th>\n",
       "      <th>JetEta</th>\n",
       "      <th>JetPhi</th>\n",
       "    </tr>\n",
       "  </thead>\n",
       "  <tbody>\n",
       "    <tr>\n",
       "      <th>0</th>\n",
       "      <td>[53.6443]</td>\n",
       "      <td>[-2.29227]</td>\n",
       "      <td>[2.54869]</td>\n",
       "    </tr>\n",
       "    <tr>\n",
       "      <th>1</th>\n",
       "      <td>[36.2919, 21.1634]</td>\n",
       "      <td>[0.326643, -0.80063]</td>\n",
       "      <td>[2.83377, 1.15123]</td>\n",
       "    </tr>\n",
       "    <tr>\n",
       "      <th>2</th>\n",
       "      <td>[]</td>\n",
       "      <td>[]</td>\n",
       "      <td>[]</td>\n",
       "    </tr>\n",
       "    <tr>\n",
       "      <th>3</th>\n",
       "      <td>[55.005, 28.7824]</td>\n",
       "      <td>[1.21199, -2.61541]</td>\n",
       "      <td>[1.77548, -0.592928]</td>\n",
       "    </tr>\n",
       "    <tr>\n",
       "      <th>4</th>\n",
       "      <td>[29.372]</td>\n",
       "      <td>[3.82245]</td>\n",
       "      <td>[-2.58757]</td>\n",
       "    </tr>\n",
       "    <tr>\n",
       "      <th>5</th>\n",
       "      <td>[21.1895]</td>\n",
       "      <td>[-2.82564]</td>\n",
       "      <td>[-1.86381]</td>\n",
       "    </tr>\n",
       "    <tr>\n",
       "      <th>6</th>\n",
       "      <td>[]</td>\n",
       "      <td>[]</td>\n",
       "      <td>[]</td>\n",
       "    </tr>\n",
       "    <tr>\n",
       "      <th>7</th>\n",
       "      <td>[21.9638]</td>\n",
       "      <td>[-1.08136]</td>\n",
       "      <td>[-2.47143]</td>\n",
       "    </tr>\n",
       "    <tr>\n",
       "      <th>8</th>\n",
       "      <td>[81.062]</td>\n",
       "      <td>[3.98602]</td>\n",
       "      <td>[1.68111]</td>\n",
       "    </tr>\n",
       "    <tr>\n",
       "      <th>9</th>\n",
       "      <td>[31.6878, 28.9569, 27.7632]</td>\n",
       "      <td>[-2.06541, 1.83295, -0.914617]</td>\n",
       "      <td>[1.32394, 0.201612, 2.14285]</td>\n",
       "    </tr>\n",
       "  </tbody>\n",
       "</table>\n",
       "</div>"
      ],
      "text/plain": [
       "                         JetPt                          JetEta  \\\n",
       "0                    [53.6443]                      [-2.29227]   \n",
       "1           [36.2919, 21.1634]            [0.326643, -0.80063]   \n",
       "2                           []                              []   \n",
       "3            [55.005, 28.7824]             [1.21199, -2.61541]   \n",
       "4                     [29.372]                       [3.82245]   \n",
       "5                    [21.1895]                      [-2.82564]   \n",
       "6                           []                              []   \n",
       "7                    [21.9638]                      [-1.08136]   \n",
       "8                     [81.062]                       [3.98602]   \n",
       "9  [31.6878, 28.9569, 27.7632]  [-2.06541, 1.83295, -0.914617]   \n",
       "\n",
       "                         JetPhi  \n",
       "0                     [2.54869]  \n",
       "1            [2.83377, 1.15123]  \n",
       "2                            []  \n",
       "3          [1.77548, -0.592928]  \n",
       "4                    [-2.58757]  \n",
       "5                    [-1.86381]  \n",
       "6                            []  \n",
       "7                    [-2.47143]  \n",
       "8                     [1.68111]  \n",
       "9  [1.32394, 0.201612, 2.14285]  "
      ]
     },
     "execution_count": 12,
     "metadata": {},
     "output_type": "execute_result"
    }
   ],
   "source": [
    "setup_data"
   ]
  },
  {
   "cell_type": "code",
   "execution_count": 103,
   "metadata": {
    "collapsed": false
   },
   "outputs": [
    {
     "name": "stdout",
     "output_type": "stream",
     "text": [
      "[array([ 53.64427948], dtype=float32) array([-2.29226828], dtype=float32)\n",
      " array([ 2.54869056], dtype=float32)]\n",
      "(3,)\n",
      "[[ 53.64427948]\n",
      " [ -2.29226828]\n",
      " [  2.54869056]]\n",
      "[[ 53.64427948]\n",
      " [ -2.29226828]\n",
      " [  2.54869056]]\n",
      "[array(53.64427947998047, dtype=float32), array(-2.2922682762145996, dtype=float32), array(2.5486905574798584, dtype=float32)]\n",
      "<type 'list'>\n",
      "[array([ 53.64427948], dtype=float32) array([-2.29226828], dtype=float32)\n",
      " array([ 2.54869056], dtype=float32)]\n",
      "(3,)\n",
      "[[ 53.64427948]\n",
      " [ -2.29226828]\n",
      " [  2.54869056]]\n",
      "[[ 53.64427948]\n",
      " [ -2.29226828]\n",
      " [  2.54869056]]\n",
      "[array(53.64427947998047, dtype=float32), array(-2.2922682762145996, dtype=float32), array(2.5486905574798584, dtype=float32)]\n",
      "<type 'list'>\n"
     ]
    },
    {
     "ename": "TypeError",
     "evalue": "only integer scalar arrays can be converted to a scalar index",
     "output_type": "error",
     "traceback": [
      "\u001b[0;31m\u001b[0m",
      "\u001b[0;31mTypeError\u001b[0mTraceback (most recent call last)",
      "\u001b[0;32m<ipython-input-103-7cbfe39de855>\u001b[0m in \u001b[0;36m<module>\u001b[0;34m()\u001b[0m\n\u001b[0;32m----> 1\u001b[0;31m \u001b[0msetup_data\u001b[0m\u001b[0;34m.\u001b[0m\u001b[0mapply\u001b[0m\u001b[0;34m(\u001b[0m\u001b[0msort_row\u001b[0m\u001b[0;34m,\u001b[0m \u001b[0mraw\u001b[0m \u001b[0;34m=\u001b[0m \u001b[0mTrue\u001b[0m\u001b[0;34m,\u001b[0m \u001b[0maxis\u001b[0m \u001b[0;34m=\u001b[0m \u001b[0;36m1\u001b[0m\u001b[0;34m)\u001b[0m\u001b[0;34m\u001b[0m\u001b[0m\n\u001b[0m",
      "\u001b[0;32m/cvmfs/cms.cern.ch/slc6_amd64_gcc630/external/py2-pippkgs_depscipy/3.0-fmblme3/lib/python2.7/site-packages/pandas/core/frame.pyc\u001b[0m in \u001b[0;36mapply\u001b[0;34m(self, func, axis, broadcast, raw, reduce, args, **kwds)\u001b[0m\n\u001b[1;32m   4253\u001b[0m \u001b[0;34m\u001b[0m\u001b[0m\n\u001b[1;32m   4254\u001b[0m                 \u001b[0;32mif\u001b[0m \u001b[0mraw\u001b[0m \u001b[0;32mand\u001b[0m \u001b[0;32mnot\u001b[0m \u001b[0mself\u001b[0m\u001b[0;34m.\u001b[0m\u001b[0m_is_mixed_type\u001b[0m\u001b[0;34m:\u001b[0m\u001b[0;34m\u001b[0m\u001b[0m\n\u001b[0;32m-> 4255\u001b[0;31m                     \u001b[0;32mreturn\u001b[0m \u001b[0mself\u001b[0m\u001b[0;34m.\u001b[0m\u001b[0m_apply_raw\u001b[0m\u001b[0;34m(\u001b[0m\u001b[0mf\u001b[0m\u001b[0;34m,\u001b[0m \u001b[0maxis\u001b[0m\u001b[0;34m)\u001b[0m\u001b[0;34m\u001b[0m\u001b[0m\n\u001b[0m\u001b[1;32m   4256\u001b[0m                 \u001b[0;32melse\u001b[0m\u001b[0;34m:\u001b[0m\u001b[0;34m\u001b[0m\u001b[0m\n\u001b[1;32m   4257\u001b[0m                     \u001b[0;32mif\u001b[0m \u001b[0mreduce\u001b[0m \u001b[0;32mis\u001b[0m \u001b[0mNone\u001b[0m\u001b[0;34m:\u001b[0m\u001b[0;34m\u001b[0m\u001b[0m\n",
      "\u001b[0;32m/cvmfs/cms.cern.ch/slc6_amd64_gcc630/external/py2-pippkgs_depscipy/3.0-fmblme3/lib/python2.7/site-packages/pandas/core/frame.pyc\u001b[0m in \u001b[0;36m_apply_raw\u001b[0;34m(self, func, axis)\u001b[0m\n\u001b[1;32m   4282\u001b[0m             \u001b[0mresult\u001b[0m \u001b[0;34m=\u001b[0m \u001b[0mlib\u001b[0m\u001b[0;34m.\u001b[0m\u001b[0mreduce\u001b[0m\u001b[0;34m(\u001b[0m\u001b[0mself\u001b[0m\u001b[0;34m.\u001b[0m\u001b[0mvalues\u001b[0m\u001b[0;34m,\u001b[0m \u001b[0mfunc\u001b[0m\u001b[0;34m,\u001b[0m \u001b[0maxis\u001b[0m\u001b[0;34m=\u001b[0m\u001b[0maxis\u001b[0m\u001b[0;34m)\u001b[0m\u001b[0;34m\u001b[0m\u001b[0m\n\u001b[1;32m   4283\u001b[0m         \u001b[0;32mexcept\u001b[0m \u001b[0mException\u001b[0m\u001b[0;34m:\u001b[0m\u001b[0;34m\u001b[0m\u001b[0m\n\u001b[0;32m-> 4284\u001b[0;31m             \u001b[0mresult\u001b[0m \u001b[0;34m=\u001b[0m \u001b[0mnp\u001b[0m\u001b[0;34m.\u001b[0m\u001b[0mapply_along_axis\u001b[0m\u001b[0;34m(\u001b[0m\u001b[0mfunc\u001b[0m\u001b[0;34m,\u001b[0m \u001b[0maxis\u001b[0m\u001b[0;34m,\u001b[0m \u001b[0mself\u001b[0m\u001b[0;34m.\u001b[0m\u001b[0mvalues\u001b[0m\u001b[0;34m)\u001b[0m\u001b[0;34m\u001b[0m\u001b[0m\n\u001b[0m\u001b[1;32m   4285\u001b[0m \u001b[0;34m\u001b[0m\u001b[0m\n\u001b[1;32m   4286\u001b[0m         \u001b[0;31m# TODO: mixed type case\u001b[0m\u001b[0;34m\u001b[0m\u001b[0;34m\u001b[0m\u001b[0m\n",
      "\u001b[0;32m/cvmfs/cms.cern.ch/slc6_amd64_gcc630/external/py2-numpy/1.12.1-fmblme/lib/python2.7/site-packages/numpy-1.12.1-py2.7-linux-x86_64.egg/numpy/lib/shape_base.pyc\u001b[0m in \u001b[0;36mapply_along_axis\u001b[0;34m(func1d, axis, arr, *args, **kwargs)\u001b[0m\n\u001b[1;32m     89\u001b[0m     \u001b[0moutshape\u001b[0m \u001b[0;34m=\u001b[0m \u001b[0masarray\u001b[0m\u001b[0;34m(\u001b[0m\u001b[0marr\u001b[0m\u001b[0;34m.\u001b[0m\u001b[0mshape\u001b[0m\u001b[0;34m)\u001b[0m\u001b[0;34m.\u001b[0m\u001b[0mtake\u001b[0m\u001b[0;34m(\u001b[0m\u001b[0mindlist\u001b[0m\u001b[0;34m)\u001b[0m\u001b[0;34m\u001b[0m\u001b[0m\n\u001b[1;32m     90\u001b[0m     \u001b[0mi\u001b[0m\u001b[0;34m.\u001b[0m\u001b[0mput\u001b[0m\u001b[0;34m(\u001b[0m\u001b[0mindlist\u001b[0m\u001b[0;34m,\u001b[0m \u001b[0mind\u001b[0m\u001b[0;34m)\u001b[0m\u001b[0;34m\u001b[0m\u001b[0m\n\u001b[0;32m---> 91\u001b[0;31m     \u001b[0mres\u001b[0m \u001b[0;34m=\u001b[0m \u001b[0mfunc1d\u001b[0m\u001b[0;34m(\u001b[0m\u001b[0marr\u001b[0m\u001b[0;34m[\u001b[0m\u001b[0mtuple\u001b[0m\u001b[0;34m(\u001b[0m\u001b[0mi\u001b[0m\u001b[0;34m.\u001b[0m\u001b[0mtolist\u001b[0m\u001b[0;34m(\u001b[0m\u001b[0;34m)\u001b[0m\u001b[0;34m)\u001b[0m\u001b[0;34m]\u001b[0m\u001b[0;34m,\u001b[0m \u001b[0;34m*\u001b[0m\u001b[0margs\u001b[0m\u001b[0;34m,\u001b[0m \u001b[0;34m**\u001b[0m\u001b[0mkwargs\u001b[0m\u001b[0;34m)\u001b[0m\u001b[0;34m\u001b[0m\u001b[0m\n\u001b[0m\u001b[1;32m     92\u001b[0m     \u001b[0;31m#  if res is a number, then we have a smaller output array\u001b[0m\u001b[0;34m\u001b[0m\u001b[0;34m\u001b[0m\u001b[0m\n\u001b[1;32m     93\u001b[0m     \u001b[0;32mif\u001b[0m \u001b[0misscalar\u001b[0m\u001b[0;34m(\u001b[0m\u001b[0mres\u001b[0m\u001b[0;34m)\u001b[0m\u001b[0;34m:\u001b[0m\u001b[0;34m\u001b[0m\u001b[0m\n",
      "\u001b[0;32m<ipython-input-102-6b65a0103617>\u001b[0m in \u001b[0;36msort_row\u001b[0;34m(row)\u001b[0m\n\u001b[1;32m     14\u001b[0m     \u001b[0;32mprint\u001b[0m \u001b[0mtype\u001b[0m\u001b[0;34m(\u001b[0m\u001b[0mretval\u001b[0m\u001b[0;34m)\u001b[0m\u001b[0;34m\u001b[0m\u001b[0m\n\u001b[1;32m     15\u001b[0m \u001b[0;34m\u001b[0m\u001b[0m\n\u001b[0;32m---> 16\u001b[0;31m     \u001b[0;32mreturn\u001b[0m \u001b[0mnp\u001b[0m\u001b[0;34m.\u001b[0m\u001b[0mndarray\u001b[0m\u001b[0;34m(\u001b[0m\u001b[0;34m[\u001b[0m\u001b[0mnp\u001b[0m\u001b[0;34m.\u001b[0m\u001b[0marray\u001b[0m\u001b[0;34m(\u001b[0m\u001b[0;34m[\u001b[0m\u001b[0;36m1\u001b[0m\u001b[0;34m]\u001b[0m\u001b[0;34m)\u001b[0m\u001b[0;34m,\u001b[0m \u001b[0mnp\u001b[0m\u001b[0;34m.\u001b[0m\u001b[0marray\u001b[0m\u001b[0;34m(\u001b[0m\u001b[0;34m[\u001b[0m\u001b[0;36m2\u001b[0m\u001b[0;34m]\u001b[0m\u001b[0;34m)\u001b[0m\u001b[0;34m,\u001b[0m \u001b[0mnp\u001b[0m\u001b[0;34m.\u001b[0m\u001b[0marray\u001b[0m\u001b[0;34m(\u001b[0m\u001b[0;34m[\u001b[0m\u001b[0;36m3\u001b[0m\u001b[0;34m]\u001b[0m\u001b[0;34m)\u001b[0m\u001b[0;34m]\u001b[0m\u001b[0;34m)\u001b[0m\u001b[0;34m\u001b[0m\u001b[0m\n\u001b[0m",
      "\u001b[0;31mTypeError\u001b[0m: only integer scalar arrays can be converted to a scalar index"
     ]
    }
   ],
   "source": [
    "setup_data.apply(sort_row, raw = True, axis = 1)"
   ]
  },
  {
   "cell_type": "code",
   "execution_count": 102,
   "metadata": {
    "collapsed": false
   },
   "outputs": [],
   "source": [
    "# sort it according to the first row\n",
    "def sort_row(row):\n",
    "    print row\n",
    "    print np.shape(row)\n",
    "    row_arr = np.stack(row)\n",
    "    print row_arr\n",
    "    sorted_arr = row_arr[:,row_arr[0,:].argsort()]\n",
    "    print sorted_arr\n",
    "    \n",
    "    sorted_arr_list = np.split(sorted_arr, np.size(sorted_arr, axis = 0), axis = 0)\n",
    "    retval = map(np.squeeze, sorted_arr_list)\n",
    "    \n",
    "    print retval\n",
    "    print type(retval)\n",
    "    \n",
    "    return np.ndarray([np.array([1]), np.array([2]), np.array([3])])"
   ]
  },
  {
   "cell_type": "code",
   "execution_count": 30,
   "metadata": {
    "collapsed": false
   },
   "outputs": [],
   "source": [
    "testarr = np.array([[1,3,2],[1,2,3]])"
   ]
  },
  {
   "cell_type": "code",
   "execution_count": 94,
   "metadata": {
    "collapsed": false
   },
   "outputs": [
    {
     "name": "stdout",
     "output_type": "stream",
     "text": [
      "[[1 3 2]\n",
      " [1 2 3]]\n",
      "(2, 3)\n",
      "[[1 3 2]\n",
      " [1 2 3]]\n",
      "[[1 2 3]\n",
      " [1 3 2]]\n",
      "[array([1, 2, 3]), array([1, 3, 2])]\n",
      "<type 'list'>\n"
     ]
    },
    {
     "data": {
      "text/plain": [
       "[array([1, 2, 3]), array([1, 3, 2])]"
      ]
     },
     "execution_count": 94,
     "metadata": {},
     "output_type": "execute_result"
    }
   ],
   "source": [
    "sort_row(testarr)"
   ]
  },
  {
   "cell_type": "code",
   "execution_count": 18,
   "metadata": {
    "collapsed": false
   },
   "outputs": [
    {
     "data": {
      "text/plain": [
       "<function __main__.<lambda>>"
      ]
     },
     "execution_count": 18,
     "metadata": {},
     "output_type": "execute_result"
    }
   ],
   "source": [
    "sortlist = lambda row: "
   ]
  },
  {
   "cell_type": "code",
   "execution_count": 15,
   "metadata": {
    "collapsed": false
   },
   "outputs": [
    {
     "name": "stdout",
     "output_type": "stream",
     "text": [
      "skimming /data_CMS/cms/wind/CJLST_NTuples/ggH125/ZZ4lAnalysis.root\n",
      "collection set up: 1 files, 110483 entries in total, 55241 of which will be used\n",
      "skimming /data_CMS/cms/wind/CJLST_NTuples/VBFH125/ZZ4lAnalysis.root\n",
      "collection set up: 1 files, 62320 entries in total, 31160 of which will be used\n"
     ]
    }
   ],
   "source": [
    "testgen = Generator(H1_stream, H0_stream, nonperiodic_columns + periodic_columns, preprocessor = pre_rnn.process)\n",
    "setup_len = testgen.setup_training_data()"
   ]
  },
  {
   "cell_type": "code",
   "execution_count": 16,
   "metadata": {
    "collapsed": false
   },
   "outputs": [
    {
     "name": "stdout",
     "output_type": "stream",
     "text": [
      "H1 contains 55241 entries\n",
      "H0 contains 31160 entries\n",
      "using the following chunk sizes: (55 / 31)\n",
      "setting up list preprocessor on 86430 events\n",
      "                                               JetPt  \\\n",
      "0                                          [45.3012]   \n",
      "1                                          [111.147]   \n",
      "2                                 [141.323, 50.4588]   \n",
      "3                                            [69.31]   \n",
      "4                                                 []   \n",
      "5                                 [108.344, 82.3163]   \n",
      "6                                          [84.7401]   \n",
      "7                                 [40.9529, 20.7419]   \n",
      "8                                                 []   \n",
      "9                        [315.341, 78.5353, 27.9815]   \n",
      "10                                         [21.9638]   \n",
      "11                                [72.9257, 21.2938]   \n",
      "12                       [31.6878, 28.9569, 27.7632]   \n",
      "13                                                []   \n",
      "14              [110.138, 26.4647, 24.6698, 20.0486]   \n",
      "15                                [62.5715, 22.1172]   \n",
      "16     [47.5266, 47.3162, 30.8068, 25.8683, 20.2691]   \n",
      "17                       [148.837, 79.6462, 29.3922]   \n",
      "18                                         [69.8571]   \n",
      "19                                         [46.0123]   \n",
      "20                         [72.8098, 25.03, 22.8308]   \n",
      "21              [104.232, 89.4831, 31.0538, 24.6778]   \n",
      "22                                  [86.02, 25.3204]   \n",
      "23                                 [25.315, 23.5474]   \n",
      "24                                [135.864, 58.6113]   \n",
      "25                                                []   \n",
      "26                                [84.0708, 29.0759]   \n",
      "27                                [56.1195, 45.4592]   \n",
      "28                                                []   \n",
      "29                                                []   \n",
      "...                                              ...   \n",
      "86400                                             []   \n",
      "86401                              [52.2668, 35.126]   \n",
      "86402                               [86.02, 25.3204]   \n",
      "86403                                       [81.062]   \n",
      "86404            [215.662, 129.376, 78.594, 61.1021]   \n",
      "86405                                      [21.1895]   \n",
      "86406                                      [40.8833]   \n",
      "86407                                             []   \n",
      "86408                                      [82.0506]   \n",
      "86409                                             []   \n",
      "86410                                             []   \n",
      "86411           [159.088, 119.518, 86.9258, 24.2806]   \n",
      "86412                             [84.0708, 29.0759]   \n",
      "86413                                      [45.3012]   \n",
      "86414                                             []   \n",
      "86415                                      [37.6265]   \n",
      "86416                     [67.5976, 61.6372, 21.416]   \n",
      "86417                              [50.1384, 38.774]   \n",
      "86418           [104.232, 89.4831, 31.0538, 24.6778]   \n",
      "86419                                      [90.3783]   \n",
      "86420                                        [69.31]   \n",
      "86421                                       [29.372]   \n",
      "86422                       [58.8517, 23.7648, 20.1]   \n",
      "86423                                      [32.0443]   \n",
      "86424                    [57.2041, 50.6809, 45.7277]   \n",
      "86425                             [27.8578, 22.9268]   \n",
      "86426                             [117.185, 56.9423]   \n",
      "86427                             [56.1195, 45.4592]   \n",
      "86428                    [194.908, 67.4725, 27.2512]   \n",
      "86429                                             []   \n",
      "\n",
      "                                                 JetEta  \\\n",
      "0                                            [0.500078]   \n",
      "1                                             [2.16742]   \n",
      "2                                  [-0.883835, 2.84205]   \n",
      "3                                             [1.48999]   \n",
      "4                                                    []   \n",
      "5                                  [0.627172, -2.05095]   \n",
      "6                                             [2.14392]   \n",
      "7                                    [-1.7137, 4.15106]   \n",
      "8                                                    []   \n",
      "9                          [-1.59233, 3.7964, 0.569561]   \n",
      "10                                           [-1.08136]   \n",
      "11                                  [0.410044, -1.9781]   \n",
      "12                       [-2.06541, 1.83295, -0.914617]   \n",
      "13                                                   []   \n",
      "14               [-2.10694, -1.21046, -3.7365, 3.35351]   \n",
      "15                                 [-2.78456, 0.819414]   \n",
      "16     [1.13042, -3.7801, 1.36138, 0.274836, -0.658589]   \n",
      "17                         [-3.11465, 2.83676, 2.61128]   \n",
      "18                                         [-0.0227012]   \n",
      "19                                           [0.684846]   \n",
      "20                           [-2.84724, 3.149, 2.31421]   \n",
      "21              [0.453287, -0.370101, 1.86575, 1.56994]   \n",
      "22                                 [0.700128, -1.21898]   \n",
      "23                                [0.293881, -0.714188]   \n",
      "24                                  [-1.83942, 3.59113]   \n",
      "25                                                   []   \n",
      "26                                  [0.98396, 0.318868]   \n",
      "27                                 [0.381429, -2.27458]   \n",
      "28                                                   []   \n",
      "29                                                   []   \n",
      "...                                                 ...   \n",
      "86400                                                []   \n",
      "86401                               [-1.13262, 1.99198]   \n",
      "86402                              [0.700128, -1.21898]   \n",
      "86403                                         [3.98602]   \n",
      "86404          [-1.62655, -1.03463, 1.88451, -0.933963]   \n",
      "86405                                        [-2.82564]   \n",
      "86406                                       [-0.283453]   \n",
      "86407                                                []   \n",
      "86408                                        [-3.79669]   \n",
      "86409                                                []   \n",
      "86410                                                []   \n",
      "86411          [-0.508566, -1.20296, -2.5076, -1.42535]   \n",
      "86412                               [0.98396, 0.318868]   \n",
      "86413                                        [0.500078]   \n",
      "86414                                                []   \n",
      "86415                                        [-2.89972]   \n",
      "86416                    [0.830315, -1.23578, -2.80501]   \n",
      "86417                               [2.58417, -3.59327]   \n",
      "86418           [0.453287, -0.370101, 1.86575, 1.56994]   \n",
      "86419                                        [-2.12202]   \n",
      "86420                                         [1.48999]   \n",
      "86421                                         [3.82245]   \n",
      "86422                        [1.0612, 1.24633, 1.95089]   \n",
      "86423                                       [-0.465101]   \n",
      "86424                   [4.14569, -0.749189, -0.177713]   \n",
      "86425                                [0.62656, 1.48763]   \n",
      "86426                              [-3.84218, -1.46553]   \n",
      "86427                              [0.381429, -2.27458]   \n",
      "86428                     [1.56238, -0.453039, 2.61378]   \n",
      "86429                                                []   \n",
      "\n",
      "                                              JetPhi_cos  \\\n",
      "0                                             [0.971223]   \n",
      "1                                             [-0.85982]   \n",
      "2                                [-0.0188911, -0.511969]   \n",
      "3                                             [0.715273]   \n",
      "4                                                     []   \n",
      "5                                   [0.135048, 0.807948]   \n",
      "6                                            [-0.880845]   \n",
      "7                                  [-0.159223, -0.98438]   \n",
      "8                                                     []   \n",
      "9                        [0.417482, 0.954353, -0.547389]   \n",
      "10                                            [-0.78372]   \n",
      "11                                 [-0.866628, 0.339669]   \n",
      "12                       [0.244358, 0.979745, -0.541363]   \n",
      "13                                                    []   \n",
      "14            [-0.24279, -0.613031, -0.893515, 0.993959]   \n",
      "15                                 [0.907535, -0.967924]   \n",
      "16     [-0.15317, -0.33233, 0.599899, -0.999795, 0.11...   \n",
      "17                        [0.548849, 0.777843, 0.999981]   \n",
      "18                                           [0.0614742]   \n",
      "19                                            [0.315116]   \n",
      "20                       [0.968424, -0.219946, 0.501949]   \n",
      "21            [-0.0745305, 0.189514, 0.688876, 0.416267]   \n",
      "22                                 [0.998349, 0.0819841]   \n",
      "23                                 [-0.025499, 0.414455]   \n",
      "24                                 [-0.181705, 0.391079]   \n",
      "25                                                    []   \n",
      "26                                  [0.468922, 0.904561]   \n",
      "27                                [-0.998718, -0.931021]   \n",
      "28                                                    []   \n",
      "29                                                    []   \n",
      "...                                                  ...   \n",
      "86400                                                 []   \n",
      "86401                             [-0.315725, -0.989259]   \n",
      "86402                              [0.998349, 0.0819841]   \n",
      "86403                                        [-0.110088]   \n",
      "86404         [0.316221, 0.995388, -0.999897, -0.972846]   \n",
      "86405                                        [-0.288837]   \n",
      "86406                                        [-0.463322]   \n",
      "86407                                                 []   \n",
      "86408                                          [-0.2692]   \n",
      "86409                                                 []   \n",
      "86410                                                 []   \n",
      "86411          [0.200101, -0.0548972, 0.937993, 0.65862]   \n",
      "86412                               [0.468922, 0.904561]   \n",
      "86413                                         [0.971223]   \n",
      "86414                                                 []   \n",
      "86415                                         [0.481582]   \n",
      "86416                     [0.629943, 0.221259, 0.118739]   \n",
      "86417                              [0.876446, -0.261315]   \n",
      "86418         [-0.0745305, 0.189514, 0.688876, 0.416267]   \n",
      "86419                                        [-0.813039]   \n",
      "86420                                         [0.715273]   \n",
      "86421                                        [-0.850412]   \n",
      "86422                    [-0.456917, 0.396166, 0.646999]   \n",
      "86423                                        [-0.025617]   \n",
      "86424                   [0.999896, -0.866289, -0.998616]   \n",
      "86425                             [-0.740376, -0.481952]   \n",
      "86426                                [0.0912271, 0.6478]   \n",
      "86427                             [-0.998718, -0.931021]   \n",
      "86428                     [0.942425, 0.201589, 0.697958]   \n",
      "86429                                                 []   \n",
      "\n",
      "                                              JetPhi_sin  \n",
      "0                                            [-0.238173]  \n",
      "1                                             [0.510596]  \n",
      "2                                  [-0.999822, 0.859004]  \n",
      "3                                             [0.698845]  \n",
      "4                                                     []  \n",
      "5                                 [-0.990839, -0.589254]  \n",
      "6                                             [0.473404]  \n",
      "7                                   [0.987243, 0.176055]  \n",
      "8                                                     []  \n",
      "9                        [-0.908685, 0.29868, -0.836878]  \n",
      "10                                           [-0.621115]  \n",
      "11                                  [0.498954, 0.940545]  \n",
      "12                        [0.969685, 0.200249, 0.840789]  \n",
      "13                                                    []  \n",
      "14             [0.970079, 0.790059, 0.449033, -0.109753]  \n",
      "15                                  [0.419977, 0.251242]  \n",
      "16     [-0.9882, -0.943163, -0.800076, 0.0202601, 0.9...  \n",
      "17                      [0.835922, 0.628458, 0.00624214]  \n",
      "18                                            [0.998109]  \n",
      "19                                           [-0.949053]  \n",
      "20                     [-0.249309, -0.975512, -0.864897]  \n",
      "21          [-0.997219, -0.981878, -0.724879, -0.909243]  \n",
      "22                                [-0.0574461, 0.996634]  \n",
      "23                                  [-0.999675, 0.91007]  \n",
      "24                                [-0.983353, -0.920357]  \n",
      "25                                                    []  \n",
      "26                                   [0.88324, 0.426344]  \n",
      "27                                 [0.0506165, 0.364967]  \n",
      "28                                                    []  \n",
      "29                                                    []  \n",
      "...                                                  ...  \n",
      "86400                                                 []  \n",
      "86401                             [-0.948851, -0.146176]  \n",
      "86402                             [-0.0574461, 0.996634]  \n",
      "86403                                         [0.993922]  \n",
      "86404         [0.948685, 0.095933, -0.0143541, 0.231455]  \n",
      "86405                                        [-0.957378]  \n",
      "86406                                          [0.88619]  \n",
      "86407                                                 []  \n",
      "86408                                         [0.963084]  \n",
      "86409                                                 []  \n",
      "86410                                                 []  \n",
      "86411         [-0.979775, -0.998492, 0.346655, 0.752476]  \n",
      "86412                                [0.88324, 0.426344]  \n",
      "86413                                        [-0.238173]  \n",
      "86414                                                 []  \n",
      "86415                                        [-0.876401]  \n",
      "86416                     [0.776641, 0.975215, 0.992925]  \n",
      "86417                             [-0.481499, -0.965254]  \n",
      "86418       [-0.997219, -0.981878, -0.724879, -0.909243]  \n",
      "86419                                         [0.582209]  \n",
      "86420                                         [0.698845]  \n",
      "86421                                        [-0.526116]  \n",
      "86422                     [0.889509, 0.918179, 0.762491]  \n",
      "86423                                         [0.999672]  \n",
      "86424                [-0.0144359, -0.499543, -0.0525984]  \n",
      "86425                             [-0.672193, -0.876198]  \n",
      "86426                                [0.99583, 0.761811]  \n",
      "86427                              [0.0506165, 0.364967]  \n",
      "86428                    [0.334418, -0.97947, -0.716139]  \n",
      "86429                                                 []  \n",
      "\n",
      "[86430 rows x 4 columns]\n",
      "86430 remaining after the cuts\n",
      "102669 remaining after the cuts\n",
      "found a maximum list length in the setup data of 9: will pad or truncate to this length from now on\n"
     ]
    }
   ],
   "source": [
    "pre_rnn.setup_generator(testgen.raw_generator_scrambled(), len_setupdata = setup_len)"
   ]
  },
  {
   "cell_type": "code",
   "execution_count": 17,
   "metadata": {
    "collapsed": false
   },
   "outputs": [
    {
     "name": "stdout",
     "output_type": "stream",
     "text": [
      "skimming /data_CMS/cms/wind/CJLST_NTuples/ggH125/ZZ4lAnalysis.root\n",
      "collection set up: 1 files, 110483 entries in total, 55242 of which will be used\n",
      "skimming /data_CMS/cms/wind/CJLST_NTuples/VBFH125/ZZ4lAnalysis.root\n",
      "collection set up: 1 files, 62320 entries in total, 31160 of which will be used\n"
     ]
    },
    {
     "data": {
      "text/plain": [
       "86402"
      ]
     },
     "execution_count": 17,
     "metadata": {},
     "output_type": "execute_result"
    }
   ],
   "source": [
    "valgen = Generator(H1_stream, H0_stream, nonperiodic_columns + periodic_columns, preprocessor = pre_rnn.process)\n",
    "valgen.setup_validation_data()"
   ]
  },
  {
   "cell_type": "code",
   "execution_count": 25,
   "metadata": {
    "collapsed": false
   },
   "outputs": [
    {
     "ename": "NameError",
     "evalue": "name 'valgen' is not defined",
     "output_type": "error",
     "traceback": [
      "\u001b[0;31m\u001b[0m",
      "\u001b[0;31mNameError\u001b[0mTraceback (most recent call last)",
      "\u001b[0;32m<ipython-input-25-c8f14563ecf0>\u001b[0m in \u001b[0;36m<module>\u001b[0;34m()\u001b[0m\n\u001b[0;32m----> 1\u001b[0;31m \u001b[0;32mfor\u001b[0m \u001b[0mdata\u001b[0m \u001b[0;32min\u001b[0m \u001b[0mvalgen\u001b[0m\u001b[0;34m.\u001b[0m\u001b[0mpreprocessed_generator\u001b[0m\u001b[0;34m(\u001b[0m\u001b[0;34m)\u001b[0m\u001b[0;34m:\u001b[0m\u001b[0;34m\u001b[0m\u001b[0m\n\u001b[0m\u001b[1;32m      2\u001b[0m     \u001b[0mpreprocessed_data\u001b[0m \u001b[0;34m=\u001b[0m \u001b[0mdata\u001b[0m\u001b[0;34m\u001b[0m\u001b[0m\n\u001b[1;32m      3\u001b[0m     \u001b[0;32mbreak\u001b[0m\u001b[0;34m\u001b[0m\u001b[0m\n",
      "\u001b[0;31mNameError\u001b[0m: name 'valgen' is not defined"
     ]
    }
   ],
   "source": [
    "for data in valgen.preprocessed_generator():\n",
    "    preprocessed_data = data\n",
    "    break"
   ]
  },
  {
   "cell_type": "code",
   "execution_count": 24,
   "metadata": {
    "collapsed": false
   },
   "outputs": [
    {
     "ename": "NameError",
     "evalue": "name 'preprocessed_data' is not defined",
     "output_type": "error",
     "traceback": [
      "\u001b[0;31m\u001b[0m",
      "\u001b[0;31mNameError\u001b[0mTraceback (most recent call last)",
      "\u001b[0;32m<ipython-input-24-67c2b351f4db>\u001b[0m in \u001b[0;36m<module>\u001b[0;34m()\u001b[0m\n\u001b[0;32m----> 1\u001b[0;31m \u001b[0mprocessed_data\u001b[0m \u001b[0;34m=\u001b[0m \u001b[0mpreprocessed_data\u001b[0m\u001b[0;34m[\u001b[0m\u001b[0;36m0\u001b[0m\u001b[0;34m]\u001b[0m\u001b[0;34m[\u001b[0m\u001b[0;34m'RNN_test'\u001b[0m\u001b[0;34m]\u001b[0m\u001b[0;34m\u001b[0m\u001b[0m\n\u001b[0m",
      "\u001b[0;31mNameError\u001b[0m: name 'preprocessed_data' is not defined"
     ]
    }
   ],
   "source": [
    "processed_data = preprocessed_data[0]['RNN_test']"
   ]
  },
  {
   "cell_type": "code",
   "execution_count": 22,
   "metadata": {
    "collapsed": false
   },
   "outputs": [
    {
     "data": {
      "text/plain": [
       "array([[[-0.02233414, -0.76905417,  0.71278638, -1.22003782],\n",
       "        [-0.64363503,  1.59466064,  0.22980963,  1.38311088],\n",
       "        [-0.67002487, -1.75270104, -0.95927858,  1.05279624],\n",
       "        ..., \n",
       "        [ 0.        ,  0.        ,  0.        ,  0.        ],\n",
       "        [ 0.        ,  0.        ,  0.        ,  0.        ],\n",
       "        [ 0.        ,  0.        ,  0.        ,  0.        ]],\n",
       "\n",
       "       [[-0.08187895,  1.26891649, -1.38891745,  0.18818794],\n",
       "        [ 0.        ,  0.        ,  0.        ,  0.        ],\n",
       "        [ 0.        ,  0.        ,  0.        ,  0.        ],\n",
       "        ..., \n",
       "        [ 0.        ,  0.        ,  0.        ,  0.        ],\n",
       "        [ 0.        ,  0.        ,  0.        ,  0.        ],\n",
       "        [ 0.        ,  0.        ,  0.        ,  0.        ]],\n",
       "\n",
       "       [[ 0.        ,  0.        ,  0.        ,  0.        ],\n",
       "        [ 0.        ,  0.        ,  0.        ,  0.        ],\n",
       "        [ 0.        ,  0.        ,  0.        ,  0.        ],\n",
       "        ..., \n",
       "        [ 0.        ,  0.        ,  0.        ,  0.        ],\n",
       "        [ 0.        ,  0.        ,  0.        ,  0.        ],\n",
       "        [ 0.        ,  0.        ,  0.        ,  0.        ]],\n",
       "\n",
       "       ..., \n",
       "       [[-0.29508126, -1.4122498 ,  1.39955831, -0.05147939],\n",
       "        [ 0.        ,  0.        ,  0.        ,  0.        ],\n",
       "        [ 0.        ,  0.        ,  0.        ,  0.        ],\n",
       "        ..., \n",
       "        [ 0.        ,  0.        ,  0.        ,  0.        ],\n",
       "        [ 0.        ,  0.        ,  0.        ,  0.        ],\n",
       "        [ 0.        ,  0.        ,  0.        ,  0.        ]],\n",
       "\n",
       "       [[ 1.25982106, -1.41953421,  0.21063156, -1.38770819],\n",
       "        [-0.32951406,  0.74464482,  0.36588895,  1.36020374],\n",
       "        [ 0.        ,  0.        ,  0.        ,  0.        ],\n",
       "        ..., \n",
       "        [ 0.        ,  0.        ,  0.        ,  0.        ],\n",
       "        [ 0.        ,  0.        ,  0.        ,  0.        ],\n",
       "        [ 0.        ,  0.        ,  0.        ,  0.        ]],\n",
       "\n",
       "       [[ 0.        ,  0.        ,  0.        ,  0.        ],\n",
       "        [ 0.        ,  0.        ,  0.        ,  0.        ],\n",
       "        [ 0.        ,  0.        ,  0.        ,  0.        ],\n",
       "        ..., \n",
       "        [ 0.        ,  0.        ,  0.        ,  0.        ],\n",
       "        [ 0.        ,  0.        ,  0.        ,  0.        ],\n",
       "        [ 0.        ,  0.        ,  0.        ,  0.        ]]], dtype=float32)"
      ]
     },
     "execution_count": 22,
     "metadata": {},
     "output_type": "execute_result"
    }
   ],
   "source": [
    "processed_data"
   ]
  },
  {
   "cell_type": "code",
   "execution_count": 32,
   "metadata": {
    "collapsed": false
   },
   "outputs": [],
   "source": [
    "# test its whitening quality\n",
    "flattened_data = processed_data[:,:,3].flatten()\n",
    "quality_data = flattened_data[np.nonzero(flattened_data)]"
   ]
  },
  {
   "cell_type": "code",
   "execution_count": 33,
   "metadata": {
    "collapsed": false
   },
   "outputs": [
    {
     "data": {
      "text/plain": [
       "-0.08629901"
      ]
     },
     "execution_count": 33,
     "metadata": {},
     "output_type": "execute_result"
    }
   ],
   "source": [
    "np.mean(quality_data)"
   ]
  },
  {
   "cell_type": "code",
   "execution_count": 34,
   "metadata": {
    "collapsed": false
   },
   "outputs": [
    {
     "data": {
      "text/plain": [
       "1.0268894"
      ]
     },
     "execution_count": 34,
     "metadata": {},
     "output_type": "execute_result"
    }
   ],
   "source": [
    "np.std(quality_data)"
   ]
  },
  {
   "cell_type": "code",
   "execution_count": 10,
   "metadata": {
    "collapsed": false
   },
   "outputs": [],
   "source": [
    "pre_list = ListPreprocessor(\"listtest\", nonperiodic_columns + periodic_columns, cuts.no_cut, PCAWhiteningPreprocessor)"
   ]
  },
  {
   "cell_type": "code",
   "execution_count": 15,
   "metadata": {
    "collapsed": false
   },
   "outputs": [],
   "source": [
    "# test the whitening quality:\n",
    "data = preprocessed_data[0]['listtest']"
   ]
  },
  {
   "cell_type": "code",
   "execution_count": 16,
   "metadata": {
    "collapsed": false
   },
   "outputs": [
    {
     "data": {
      "text/plain": [
       "(86, 9, 3)"
      ]
     },
     "execution_count": 16,
     "metadata": {},
     "output_type": "execute_result"
    }
   ],
   "source": [
    "np.shape(data)"
   ]
  },
  {
   "cell_type": "code",
   "execution_count": 17,
   "metadata": {
    "collapsed": false
   },
   "outputs": [
    {
     "data": {
      "text/plain": [
       "array([[[-0.51350057,  0.7443307 ,  0.64557534],\n",
       "        [-0.70693231,  0.50574839,  0.33523723],\n",
       "        [-0.70693147,  1.48632395,  1.44796491],\n",
       "        ..., \n",
       "        [ 0.        ,  0.        ,  0.        ],\n",
       "        [ 0.        ,  0.        ,  0.        ],\n",
       "        [ 0.        ,  0.        ,  0.        ]],\n",
       "\n",
       "       [[-0.04372877,  0.10874736,  1.48220909],\n",
       "        [-0.47562236,  0.10941769, -0.52878791],\n",
       "        [ 0.        ,  0.        ,  0.        ],\n",
       "        ..., \n",
       "        [ 0.        ,  0.        ,  0.        ],\n",
       "        [ 0.        ,  0.        ,  0.        ],\n",
       "        [ 0.        ,  0.        ,  0.        ]],\n",
       "\n",
       "       [[-0.75590676,  0.89329928, -0.88921976],\n",
       "        [ 0.        ,  0.        ,  0.        ],\n",
       "        [ 0.        ,  0.        ,  0.        ],\n",
       "        ..., \n",
       "        [ 0.        ,  0.        ,  0.        ],\n",
       "        [ 0.        ,  0.        ,  0.        ],\n",
       "        [ 0.        ,  0.        ,  0.        ]],\n",
       "\n",
       "       ..., \n",
       "       [[ 0.        ,  0.        ,  0.        ],\n",
       "        [ 0.        ,  0.        ,  0.        ],\n",
       "        [ 0.        ,  0.        ,  0.        ],\n",
       "        ..., \n",
       "        [ 0.        ,  0.        ,  0.        ],\n",
       "        [ 0.        ,  0.        ,  0.        ],\n",
       "        [ 0.        ,  0.        ,  0.        ]],\n",
       "\n",
       "       [[ 1.67605603, -0.25405949, -0.70687807],\n",
       "        [ 1.30829906,  0.15269856,  0.36219788],\n",
       "        [-0.42306983, -0.18705496,  1.24798894],\n",
       "        ..., \n",
       "        [ 0.        ,  0.        ,  0.        ],\n",
       "        [ 0.        ,  0.        ,  0.        ],\n",
       "        [ 0.        ,  0.        ,  0.        ]],\n",
       "\n",
       "       [[ 0.        ,  0.        ,  0.        ],\n",
       "        [ 0.        ,  0.        ,  0.        ],\n",
       "        [ 0.        ,  0.        ,  0.        ],\n",
       "        ..., \n",
       "        [ 0.        ,  0.        ,  0.        ],\n",
       "        [ 0.        ,  0.        ,  0.        ],\n",
       "        [ 0.        ,  0.        ,  0.        ]]], dtype=float32)"
      ]
     },
     "execution_count": 17,
     "metadata": {},
     "output_type": "execute_result"
    }
   ],
   "source": [
    "data"
   ]
  },
  {
   "cell_type": "code",
   "execution_count": 18,
   "metadata": {
    "collapsed": false
   },
   "outputs": [],
   "source": [
    "first_col = data[:,:,2].flatten()\n",
    "first_col_antipadded = first_col[np.nonzero(first_col)]"
   ]
  },
  {
   "cell_type": "code",
   "execution_count": 19,
   "metadata": {
    "collapsed": false
   },
   "outputs": [
    {
     "data": {
      "text/plain": [
       "0.14932205"
      ]
     },
     "execution_count": 19,
     "metadata": {},
     "output_type": "execute_result"
    }
   ],
   "source": [
    "np.mean(first_col_antipadded)"
   ]
  },
  {
   "cell_type": "code",
   "execution_count": 20,
   "metadata": {
    "collapsed": false
   },
   "outputs": [
    {
     "data": {
      "text/plain": [
       "1.0147306"
      ]
     },
     "execution_count": 20,
     "metadata": {},
     "output_type": "execute_result"
    }
   ],
   "source": [
    "np.std(first_col_antipadded)"
   ]
  },
  {
   "cell_type": "code",
   "execution_count": 21,
   "metadata": {
    "collapsed": false
   },
   "outputs": [
    {
     "ename": "NameError",
     "evalue": "name 'H0_testdata' is not defined",
     "output_type": "error",
     "traceback": [
      "\u001b[0;31m\u001b[0m",
      "\u001b[0;31mNameError\u001b[0mTraceback (most recent call last)",
      "\u001b[0;32m<ipython-input-21-a5e137d2d618>\u001b[0m in \u001b[0;36m<module>\u001b[0;34m()\u001b[0m\n\u001b[0;32m----> 1\u001b[0;31m \u001b[0mH0_testdata\u001b[0m\u001b[0;34m\u001b[0m\u001b[0m\n\u001b[0m",
      "\u001b[0;31mNameError\u001b[0m: name 'H0_testdata' is not defined"
     ]
    }
   ],
   "source": [
    "H0_testdata"
   ]
  },
  {
   "cell_type": "code",
   "execution_count": 12,
   "metadata": {
    "collapsed": false
   },
   "outputs": [
    {
     "data": {
      "text/plain": [
       "<bound method ListPreprocessor.setup_generator of <trainlib_development.ListPreprocessor.ListPreprocessor object at 0x7f4d8f228450>>"
      ]
     },
     "execution_count": 12,
     "metadata": {},
     "output_type": "execute_result"
    }
   ],
   "source": [
    "pre_list.setup_generator"
   ]
  },
  {
   "cell_type": "code",
   "execution_count": null,
   "metadata": {
    "collapsed": true
   },
   "outputs": [],
   "source": []
  },
  {
   "cell_type": "code",
   "execution_count": 11,
   "metadata": {
    "collapsed": false
   },
   "outputs": [
    {
     "name": "stdout",
     "output_type": "stream",
     "text": [
      "10 remaining after the cuts\n",
      "12 remaining after the cuts\n",
      "found a maximum list length in the setup data of 3: will pad or truncate to this length from now on\n"
     ]
    }
   ],
   "source": [
    "pre_list.setup(setup_data)"
   ]
  },
  {
   "cell_type": "code",
   "execution_count": 11,
   "metadata": {
    "collapsed": false
   },
   "outputs": [
    {
     "name": "stdout",
     "output_type": "stream",
     "text": [
      "unpacked:        JetPt    JetEta    JetPhi\n",
      "0  53.644279 -2.292268  2.548691\n",
      "processed: [[ 53.64427948]\n",
      " [ -2.29226828]\n",
      " [  2.54869056]]\n",
      "padded: [[ 53.64427948   0.           0.        ]\n",
      " [ -2.29226828   0.           0.        ]\n",
      " [  2.54869056   0.           0.        ]]\n",
      "unpacked:        JetPt    JetEta    JetPhi\n",
      "0  36.291904  0.326643  2.833765\n",
      "1  21.163439 -0.800630  1.151233\n",
      "processed: [[ 36.29190445  21.1634388 ]\n",
      " [  0.32664341  -0.80063021]\n",
      " [  2.83376527   1.15123296]]\n",
      "padded: [[ 36.29190445  21.1634388    0.        ]\n",
      " [  0.32664341  -0.80063021   0.        ]\n",
      " [  2.83376527   1.15123296   0.        ]]\n",
      "unpacked: Empty DataFrame\n",
      "Columns: [JetPt, JetEta, JetPhi]\n",
      "Index: []\n",
      "processed: [[ 0.]\n",
      " [ 0.]\n",
      " [ 0.]]\n",
      "padded: [[ 0.  0.  0.]\n",
      " [ 0.  0.  0.]\n",
      " [ 0.  0.  0.]]\n",
      "unpacked:        JetPt    JetEta    JetPhi\n",
      "0  55.005016  1.211992  1.775483\n",
      "1  28.782440 -2.615411 -0.592928\n",
      "processed: [[ 55.00501633  28.78244019]\n",
      " [  1.21199214  -2.6154108 ]\n",
      " [  1.77548277  -0.59292841]]\n",
      "padded: [[ 55.00501633  28.78244019   0.        ]\n",
      " [  1.21199214  -2.6154108    0.        ]\n",
      " [  1.77548277  -0.59292841   0.        ]]\n",
      "unpacked:        JetPt    JetEta    JetPhi\n",
      "0  29.372034  3.822447 -2.587565\n",
      "processed: [[ 29.37203407]\n",
      " [  3.82244658]\n",
      " [ -2.58756518]]\n",
      "padded: [[ 29.37203407   0.           0.        ]\n",
      " [  3.82244658   0.           0.        ]\n",
      " [ -2.58756518   0.           0.        ]]\n",
      "unpacked:        JetPt    JetEta    JetPhi\n",
      "0  21.189455 -2.825641 -1.863809\n",
      "processed: [[ 21.18945503]\n",
      " [ -2.82564116]\n",
      " [ -1.86380863]]\n",
      "padded: [[ 21.18945503   0.           0.        ]\n",
      " [ -2.82564116   0.           0.        ]\n",
      " [ -1.86380863   0.           0.        ]]\n",
      "unpacked: Empty DataFrame\n",
      "Columns: [JetPt, JetEta, JetPhi]\n",
      "Index: []\n",
      "processed: [[ 0.]\n",
      " [ 0.]\n",
      " [ 0.]]\n",
      "padded: [[ 0.  0.  0.]\n",
      " [ 0.  0.  0.]\n",
      " [ 0.  0.  0.]]\n",
      "unpacked:        JetPt    JetEta    JetPhi\n",
      "0  21.963787 -1.081362 -2.471428\n",
      "processed: [[ 21.96378708]\n",
      " [ -1.08136213]\n",
      " [ -2.47142839]]\n",
      "padded: [[ 21.96378708   0.           0.        ]\n",
      " [ -1.08136213   0.           0.        ]\n",
      " [ -2.47142839   0.           0.        ]]\n",
      "unpacked:        JetPt    JetEta    JetPhi\n",
      "0  81.061989  3.986023  1.681108\n",
      "processed: [[ 81.06198883]\n",
      " [  3.98602295]\n",
      " [  1.681108  ]]\n",
      "padded: [[ 81.06198883   0.           0.        ]\n",
      " [  3.98602295   0.           0.        ]\n",
      " [  1.681108     0.           0.        ]]\n",
      "unpacked:        JetPt    JetEta    JetPhi\n",
      "0  31.687809 -2.065411  1.323938\n",
      "1  28.956873  1.832949  0.201612\n",
      "2  27.763235 -0.914617  2.142854\n",
      "processed: [[ 31.68780899  28.95687294  27.76323509]\n",
      " [ -2.06541085   1.8329488   -0.91461724]\n",
      " [  1.32393825   0.20161216   2.14285421]]\n",
      "padded: [[ 31.68780899  28.95687294  27.76323509]\n",
      " [ -2.06541085   1.8329488   -0.91461724]\n",
      " [  1.32393825   0.20161216   2.14285421]]\n"
     ]
    }
   ],
   "source": [
    "processed_data = pre_list.process(setup_data)"
   ]
  },
  {
   "cell_type": "code",
   "execution_count": 13,
   "metadata": {
    "collapsed": false
   },
   "outputs": [
    {
     "data": {
      "text/plain": [
       "array([[[ 53.64427948,  -2.29226828,   2.54869056],\n",
       "        [  0.        ,   0.        ,   0.        ],\n",
       "        [  0.        ,   0.        ,   0.        ]],\n",
       "\n",
       "       [[ 36.29190445,   0.32664341,   2.83376527],\n",
       "        [ 21.1634388 ,  -0.80063021,   1.15123296],\n",
       "        [  0.        ,   0.        ,   0.        ]],\n",
       "\n",
       "       [[  0.        ,   0.        ,   0.        ],\n",
       "        [  0.        ,   0.        ,   0.        ],\n",
       "        [  0.        ,   0.        ,   0.        ]],\n",
       "\n",
       "       [[ 55.00501633,   1.21199214,   1.77548277],\n",
       "        [ 28.78244019,  -2.6154108 ,  -0.59292841],\n",
       "        [  0.        ,   0.        ,   0.        ]],\n",
       "\n",
       "       [[ 29.37203407,   3.82244658,  -2.58756518],\n",
       "        [  0.        ,   0.        ,   0.        ],\n",
       "        [  0.        ,   0.        ,   0.        ]],\n",
       "\n",
       "       [[ 21.18945503,  -2.82564116,  -1.86380863],\n",
       "        [  0.        ,   0.        ,   0.        ],\n",
       "        [  0.        ,   0.        ,   0.        ]],\n",
       "\n",
       "       [[  0.        ,   0.        ,   0.        ],\n",
       "        [  0.        ,   0.        ,   0.        ],\n",
       "        [  0.        ,   0.        ,   0.        ]],\n",
       "\n",
       "       [[ 21.96378708,  -1.08136213,  -2.47142839],\n",
       "        [  0.        ,   0.        ,   0.        ],\n",
       "        [  0.        ,   0.        ,   0.        ]],\n",
       "\n",
       "       [[ 81.06198883,   3.98602295,   1.681108  ],\n",
       "        [  0.        ,   0.        ,   0.        ],\n",
       "        [  0.        ,   0.        ,   0.        ]],\n",
       "\n",
       "       [[ 31.68780899,  -2.06541085,   1.32393825],\n",
       "        [ 28.95687294,   1.8329488 ,   0.20161216],\n",
       "        [ 27.76323509,  -0.91461724,   2.14285421]]], dtype=float32)"
      ]
     },
     "execution_count": 13,
     "metadata": {},
     "output_type": "execute_result"
    }
   ],
   "source": [
    "processed_data['listtest']"
   ]
  },
  {
   "cell_type": "code",
   "execution_count": 68,
   "metadata": {
    "collapsed": false
   },
   "outputs": [
    {
     "data": {
      "text/html": [
       "<div>\n",
       "<style>\n",
       "    .dataframe thead tr:only-child th {\n",
       "        text-align: right;\n",
       "    }\n",
       "\n",
       "    .dataframe thead th {\n",
       "        text-align: left;\n",
       "    }\n",
       "\n",
       "    .dataframe tbody tr th {\n",
       "        vertical-align: top;\n",
       "    }\n",
       "</style>\n",
       "<table border=\"1\" class=\"dataframe\">\n",
       "  <thead>\n",
       "    <tr style=\"text-align: right;\">\n",
       "      <th></th>\n",
       "      <th>PFMET</th>\n",
       "      <th>nCleanedJetsPt30</th>\n",
       "      <th>JetPt</th>\n",
       "      <th>JetEta</th>\n",
       "      <th>JetPhi</th>\n",
       "    </tr>\n",
       "  </thead>\n",
       "  <tbody>\n",
       "    <tr>\n",
       "      <th>0</th>\n",
       "      <td>40.490429</td>\n",
       "      <td>1</td>\n",
       "      <td>[53.6443]</td>\n",
       "      <td>[-2.29227]</td>\n",
       "      <td>[2.54869]</td>\n",
       "    </tr>\n",
       "    <tr>\n",
       "      <th>1</th>\n",
       "      <td>40.096920</td>\n",
       "      <td>1</td>\n",
       "      <td>[36.2919, 21.1634]</td>\n",
       "      <td>[0.326643, -0.80063]</td>\n",
       "      <td>[2.83377, 1.15123]</td>\n",
       "    </tr>\n",
       "    <tr>\n",
       "      <th>2</th>\n",
       "      <td>44.240479</td>\n",
       "      <td>0</td>\n",
       "      <td>[]</td>\n",
       "      <td>[]</td>\n",
       "      <td>[]</td>\n",
       "    </tr>\n",
       "    <tr>\n",
       "      <th>3</th>\n",
       "      <td>71.606529</td>\n",
       "      <td>1</td>\n",
       "      <td>[55.005, 28.7824]</td>\n",
       "      <td>[1.21199, -2.61541]</td>\n",
       "      <td>[1.77548, -0.592928]</td>\n",
       "    </tr>\n",
       "    <tr>\n",
       "      <th>4</th>\n",
       "      <td>21.410542</td>\n",
       "      <td>0</td>\n",
       "      <td>[29.372]</td>\n",
       "      <td>[3.82245]</td>\n",
       "      <td>[-2.58757]</td>\n",
       "    </tr>\n",
       "    <tr>\n",
       "      <th>5</th>\n",
       "      <td>21.159580</td>\n",
       "      <td>0</td>\n",
       "      <td>[21.1895]</td>\n",
       "      <td>[-2.82564]</td>\n",
       "      <td>[-1.86381]</td>\n",
       "    </tr>\n",
       "    <tr>\n",
       "      <th>6</th>\n",
       "      <td>28.228645</td>\n",
       "      <td>0</td>\n",
       "      <td>[]</td>\n",
       "      <td>[]</td>\n",
       "      <td>[]</td>\n",
       "    </tr>\n",
       "    <tr>\n",
       "      <th>7</th>\n",
       "      <td>34.765644</td>\n",
       "      <td>0</td>\n",
       "      <td>[21.9638]</td>\n",
       "      <td>[-1.08136]</td>\n",
       "      <td>[-2.47143]</td>\n",
       "    </tr>\n",
       "    <tr>\n",
       "      <th>8</th>\n",
       "      <td>54.827316</td>\n",
       "      <td>1</td>\n",
       "      <td>[81.062]</td>\n",
       "      <td>[3.98602]</td>\n",
       "      <td>[1.68111]</td>\n",
       "    </tr>\n",
       "    <tr>\n",
       "      <th>9</th>\n",
       "      <td>7.474819</td>\n",
       "      <td>1</td>\n",
       "      <td>[31.6878, 28.9569, 27.7632]</td>\n",
       "      <td>[-2.06541, 1.83295, -0.914617]</td>\n",
       "      <td>[1.32394, 0.201612, 2.14285]</td>\n",
       "    </tr>\n",
       "  </tbody>\n",
       "</table>\n",
       "</div>"
      ],
      "text/plain": [
       "       PFMET  nCleanedJetsPt30                        JetPt  \\\n",
       "0  40.490429                 1                    [53.6443]   \n",
       "1  40.096920                 1           [36.2919, 21.1634]   \n",
       "2  44.240479                 0                           []   \n",
       "3  71.606529                 1            [55.005, 28.7824]   \n",
       "4  21.410542                 0                     [29.372]   \n",
       "5  21.159580                 0                    [21.1895]   \n",
       "6  28.228645                 0                           []   \n",
       "7  34.765644                 0                    [21.9638]   \n",
       "8  54.827316                 1                     [81.062]   \n",
       "9   7.474819                 1  [31.6878, 28.9569, 27.7632]   \n",
       "\n",
       "                           JetEta                        JetPhi  \n",
       "0                      [-2.29227]                     [2.54869]  \n",
       "1            [0.326643, -0.80063]            [2.83377, 1.15123]  \n",
       "2                              []                            []  \n",
       "3             [1.21199, -2.61541]          [1.77548, -0.592928]  \n",
       "4                       [3.82245]                    [-2.58757]  \n",
       "5                      [-2.82564]                    [-1.86381]  \n",
       "6                              []                            []  \n",
       "7                      [-1.08136]                    [-2.47143]  \n",
       "8                       [3.98602]                     [1.68111]  \n",
       "9  [-2.06541, 1.83295, -0.914617]  [1.32394, 0.201612, 2.14285]  "
      ]
     },
     "execution_count": 68,
     "metadata": {},
     "output_type": "execute_result"
    }
   ],
   "source": [
    "setup_data"
   ]
  },
  {
   "cell_type": "code",
   "execution_count": 59,
   "metadata": {
    "collapsed": true
   },
   "outputs": [],
   "source": [
    "# set up the preprocessor for the remaining fixed-size input variables\n",
    "fixed_size_columns = [\"PFMET\", \"nCleanedJetsPt30\"]\n",
    "pre_fixed = PCAWhiteningPreprocessor(fixed_size_columns, cuts.no_cut)"
   ]
  },
  {
   "cell_type": "code",
   "execution_count": 14,
   "metadata": {
    "collapsed": false
   },
   "outputs": [
    {
     "name": "stdout",
     "output_type": "stream",
     "text": [
      "10 remaining after the cuts\n",
      "12 remaining after the cuts\n"
     ]
    }
   ],
   "source": [
    "pre_rnn.setup(setup_data)"
   ]
  },
  {
   "cell_type": "code",
   "execution_count": 15,
   "metadata": {
    "collapsed": false
   },
   "outputs": [
    {
     "name": "stdout",
     "output_type": "stream",
     "text": [
      "10 remaining after the cuts\n"
     ]
    }
   ],
   "source": [
    "pre_fixed.setup(setup_data)"
   ]
  },
  {
   "cell_type": "code",
   "execution_count": 18,
   "metadata": {
    "collapsed": false
   },
   "outputs": [],
   "source": [
    "processed_rnn = pre_rnn.process(validation_data)"
   ]
  },
  {
   "cell_type": "code",
   "execution_count": 26,
   "metadata": {
    "collapsed": true
   },
   "outputs": [],
   "source": [
    "processed_fixed = pre_fixed.process(validation_data)"
   ]
  },
  {
   "cell_type": "code",
   "execution_count": 27,
   "metadata": {
    "collapsed": false
   },
   "outputs": [
    {
     "data": {
      "text/plain": [
       "array([-0.27069429,  0.32918631])"
      ]
     },
     "execution_count": 27,
     "metadata": {},
     "output_type": "execute_result"
    }
   ],
   "source": [
    "np.mean(processed_fixed, axis = 0)"
   ]
  },
  {
   "cell_type": "code",
   "execution_count": 28,
   "metadata": {
    "collapsed": false
   },
   "outputs": [
    {
     "data": {
      "text/plain": [
       "array([ 1.07572128,  1.95916834])"
      ]
     },
     "execution_count": 28,
     "metadata": {},
     "output_type": "execute_result"
    }
   ],
   "source": [
    "np.std(processed_fixed, axis = 0)"
   ]
  },
  {
   "cell_type": "code",
   "execution_count": 74,
   "metadata": {
    "collapsed": false
   },
   "outputs": [],
   "source": [
    "final = as_matrix(processed_data)"
   ]
  },
  {
   "cell_type": "code",
   "execution_count": 96,
   "metadata": {
    "collapsed": false
   },
   "outputs": [],
   "source": [
    "final = np.swapaxes(final, 1, 2)"
   ]
  },
  {
   "cell_type": "code",
   "execution_count": 98,
   "metadata": {
    "collapsed": false
   },
   "outputs": [
    {
     "data": {
      "text/plain": [
       "array([[[ 0.        ,  0.        ,  0.        ,  0.        ],\n",
       "        [ 0.        ,  0.        ,  0.        ,  0.        ],\n",
       "        [ 0.        ,  0.        ,  0.        ,  0.        ],\n",
       "        [ 0.        ,  0.        ,  0.        ,  0.        ],\n",
       "        [ 0.        ,  0.        ,  0.        ,  0.        ]],\n",
       "\n",
       "       [[ 0.        ,  0.        ,  0.        ,  0.        ],\n",
       "        [ 0.        ,  0.        ,  0.        ,  0.        ],\n",
       "        [ 0.        ,  0.        ,  0.        ,  0.        ],\n",
       "        [ 0.        ,  0.        ,  0.        ,  0.        ],\n",
       "        [ 0.        ,  0.        ,  0.        ,  0.        ]],\n",
       "\n",
       "       [[-0.58775389,  1.85188425, -1.40367889,  0.28947026],\n",
       "        [-0.59278959,  1.81904542, -0.15680805,  1.41542077],\n",
       "        [ 0.        ,  0.        ,  0.        ,  0.        ],\n",
       "        [ 0.        ,  0.        ,  0.        ,  0.        ],\n",
       "        [ 0.        ,  0.        ,  0.        ,  0.        ]],\n",
       "\n",
       "       ..., \n",
       "       [[-0.08938136, -0.91685706,  1.21690023,  0.76261622],\n",
       "        [ 0.        ,  0.        ,  0.        ,  0.        ],\n",
       "        [ 0.        ,  0.        ,  0.        ,  0.        ],\n",
       "        [ 0.        ,  0.        ,  0.        ,  0.        ],\n",
       "        [ 0.        ,  0.        ,  0.        ,  0.        ]],\n",
       "\n",
       "       [[ 0.31362152, -0.58615708, -0.92888057,  1.06443703],\n",
       "        [-0.26364583,  0.08543751,  1.03982377,  0.96421349],\n",
       "        [ 0.        ,  0.        ,  0.        ,  0.        ],\n",
       "        [ 0.        ,  0.        ,  0.        ,  0.        ],\n",
       "        [ 0.        ,  0.        ,  0.        ,  0.        ]],\n",
       "\n",
       "       [[-0.55341446,  0.45504576, -0.77862602,  1.23459733],\n",
       "        [ 0.        ,  0.        ,  0.        ,  0.        ],\n",
       "        [ 0.        ,  0.        ,  0.        ,  0.        ],\n",
       "        [ 0.        ,  0.        ,  0.        ,  0.        ],\n",
       "        [ 0.        ,  0.        ,  0.        ,  0.        ]]])"
      ]
     },
     "execution_count": 98,
     "metadata": {},
     "output_type": "execute_result"
    }
   ],
   "source": [
    "final"
   ]
  },
  {
   "cell_type": "code",
   "execution_count": 21,
   "metadata": {
    "collapsed": true
   },
   "outputs": [],
   "source": [
    "class CombinedModel:\n",
    "    def __init__(self):\n",
    "        self.model = None\n",
    "        \n",
    "    def build(self):\n",
    "        in_layer = Input(shape = (None, 2))\n",
    "        # number units = dimensionality of the output space\n",
    "        lstm = LSTM(units = 16, return_sequences = False)(in_layer)\n",
    "        out_layer = Dense(1, activation = 'tanh')(lstm)\n",
    "        \n",
    "        self.model = keras.engine.training.Model(in_layer, out_layer, name = 'lstm')"
   ]
  },
  {
   "cell_type": "code",
   "execution_count": 22,
   "metadata": {
    "collapsed": false
   },
   "outputs": [],
   "source": [
    "mod = CombinedModel()\n",
    "mod.build()"
   ]
  },
  {
   "cell_type": "code",
   "execution_count": 23,
   "metadata": {
    "collapsed": false
   },
   "outputs": [
    {
     "ename": "NameError",
     "evalue": "name 'processed_data' is not defined",
     "output_type": "error",
     "traceback": [
      "\u001b[0;31m\u001b[0m",
      "\u001b[0;31mNameError\u001b[0mTraceback (most recent call last)",
      "\u001b[0;32m<ipython-input-23-e757bd14ddfd>\u001b[0m in \u001b[0;36m<module>\u001b[0;34m()\u001b[0m\n\u001b[0;32m----> 1\u001b[0;31m \u001b[0mprocessed_data\u001b[0m\u001b[0;34m\u001b[0m\u001b[0m\n\u001b[0m",
      "\u001b[0;31mNameError\u001b[0m: name 'processed_data' is not defined"
     ]
    }
   ],
   "source": [
    "processed_data"
   ]
  },
  {
   "cell_type": "code",
   "execution_count": 85,
   "metadata": {
    "collapsed": false
   },
   "outputs": [
    {
     "data": {
      "text/plain": [
       "array([[ 0.08889437],\n",
       "       [ 0.11208226],\n",
       "       [ 0.        ],\n",
       "       [ 0.12064432],\n",
       "       [ 0.09134383],\n",
       "       [ 0.07961366],\n",
       "       [ 0.        ],\n",
       "       [ 0.08135621],\n",
       "       [ 0.08613631],\n",
       "       [ 0.20706847]], dtype=float32)"
      ]
     },
     "execution_count": 85,
     "metadata": {},
     "output_type": "execute_result"
    }
   ],
   "source": [
    "mod.model.predict(processed_data)"
   ]
  },
  {
   "cell_type": "code",
   "execution_count": null,
   "metadata": {
    "collapsed": true
   },
   "outputs": [],
   "source": []
  }
 ],
 "metadata": {
  "kernelspec": {
   "display_name": "Python 2",
   "language": "python",
   "name": "python2"
  },
  "language_info": {
   "codemirror_mode": {
    "name": "ipython",
    "version": 2
   },
   "file_extension": ".py",
   "mimetype": "text/x-python",
   "name": "python",
   "nbconvert_exporter": "python",
   "pygments_lexer": "ipython2",
   "version": "2.7.11"
  }
 },
 "nbformat": 4,
 "nbformat_minor": 2
}
