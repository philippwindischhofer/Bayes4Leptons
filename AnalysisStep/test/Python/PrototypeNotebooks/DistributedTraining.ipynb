{
 "cells": [
  {
   "cell_type": "code",
   "execution_count": 1,
   "metadata": {
    "collapsed": false
   },
   "outputs": [
    {
     "name": "stdout",
     "output_type": "stream",
     "text": [
      "Welcome to JupyROOT 6.10/09\n"
     ]
    },
    {
     "name": "stderr",
     "output_type": "stream",
     "text": [
      "Using TensorFlow backend.\n"
     ]
    }
   ],
   "source": [
    "from trainlib.ModelCollection import ModelCollection\n",
    "from trainlib.ModelCollectionConfigFileHandler import ModelCollectionConfigFileHandler\n",
    "from trainlib.ModelFactoryFullCategorySet import ModelFactoryFullCategorySet\n",
    "import os"
   ]
  },
  {
   "cell_type": "code",
   "execution_count": 2,
   "metadata": {
    "collapsed": true
   },
   "outputs": [],
   "source": [
    "run_path = \"/data_CMS/cms/wind/180406_MC_weighting_Adam/input_columns_3/\""
   ]
  },
  {
   "cell_type": "code",
   "execution_count": 3,
   "metadata": {
    "collapsed": false
   },
   "outputs": [
    {
     "name": "stdout",
     "output_type": "stream",
     "text": [
      "attempting to load configuration file from /data_CMS/cms/wind/180406_MC_weighting_Adam/input_columns_3/settings.conf\n"
     ]
    }
   ],
   "source": [
    "# load the configuration that is sitting there\n",
    "confhandler = ModelCollectionConfigFileHandler()\n",
    "confhandler.load_configuration(run_path + \"settings.conf\")"
   ]
  },
  {
   "cell_type": "code",
   "execution_count": 4,
   "metadata": {
    "collapsed": false
   },
   "outputs": [
    {
     "name": "stdout",
     "output_type": "stream",
     "text": [
      "got the following list of hyperparams: {u'number_layers': 2.0}\n",
      "building network with inputs: [u'PFMET', u'nCleanedJetsPt30', u'nCleanedJetsPt30BTagged_bTagSF', u'nExtraLep', u'D_VBF2j_ggH_ME', u'ZZMass', u'Z1Mass', u'Z2Mass']\n",
      "PCA setup for 'D_VBF_ggH_2j_ML_input': [u'PFMET', u'nCleanedJetsPt30', u'nCleanedJetsPt30BTagged_bTagSF', u'nExtraLep', u'D_VBF2j_ggH_ME', u'ZZMass', u'Z1Mass', u'Z2Mass']\n",
      "PCAWhiteningPreprocessor for stream 'D_VBF_ggH_2j_ML_input'\n",
      "got the following list of hyperparams: {u'number_layers': 2.0}\n",
      "building network with inputs: [u'PFMET', u'nCleanedJetsPt30', u'nCleanedJetsPt30BTagged_bTagSF', u'nExtraLep', u'ZZMass', u'Z1Mass', u'Z2Mass']\n",
      "PCA setup for 'D_VBF_ggH_0j_ML_input': [u'PFMET', u'nCleanedJetsPt30', u'nCleanedJetsPt30BTagged_bTagSF', u'nExtraLep', u'ZZMass', u'Z1Mass', u'Z2Mass']\n",
      "PCAWhiteningPreprocessor for stream 'D_VBF_ggH_0j_ML_input'\n",
      "got the following list of hyperparams: {u'number_layers': 2.0}\n",
      "building network with inputs: [u'PFMET', u'nCleanedJetsPt30', u'nCleanedJetsPt30BTagged_bTagSF', u'nExtraLep', u'D_VBF1j_ggH_ME', u'ZZMass', u'Z1Mass', u'Z2Mass']\n",
      "PCA setup for 'D_VBF_ggH_1j_ML_input': [u'PFMET', u'nCleanedJetsPt30', u'nCleanedJetsPt30BTagged_bTagSF', u'nExtraLep', u'D_VBF1j_ggH_ME', u'ZZMass', u'Z1Mass', u'Z2Mass']\n",
      "PCAWhiteningPreprocessor for stream 'D_VBF_ggH_1j_ML_input'\n",
      "got the following list of hyperparams: {u'number_layers': 2.0}\n",
      "building network with inputs: [u'PFMET', u'nCleanedJetsPt30', u'nCleanedJetsPt30BTagged_bTagSF', u'nExtraLep', u'ZZMass', u'Z1Mass', u'Z2Mass']\n",
      "PCA setup for 'D_WHh_ggH_01j_ML_input': [u'PFMET', u'nCleanedJetsPt30', u'nCleanedJetsPt30BTagged_bTagSF', u'nExtraLep', u'ZZMass', u'Z1Mass', u'Z2Mass']\n",
      "PCAWhiteningPreprocessor for stream 'D_WHh_ggH_01j_ML_input'\n",
      "got the following list of hyperparams: {u'number_layers': 2.0}\n",
      "building network with inputs: [u'PFMET', u'nCleanedJetsPt30', u'nCleanedJetsPt30BTagged_bTagSF', u'nExtraLep', u'D_WHh_ggH_ME', u'ZZMass', u'Z1Mass', u'Z2Mass']\n",
      "PCA setup for 'D_WHh_ggH_2j_ML_input': [u'PFMET', u'nCleanedJetsPt30', u'nCleanedJetsPt30BTagged_bTagSF', u'nExtraLep', u'D_WHh_ggH_ME', u'ZZMass', u'Z1Mass', u'Z2Mass']\n",
      "PCAWhiteningPreprocessor for stream 'D_WHh_ggH_2j_ML_input'\n",
      "got the following list of hyperparams: {u'number_layers': 2.0}\n",
      "building network with inputs: [u'PFMET', u'nCleanedJetsPt30', u'nCleanedJetsPt30BTagged_bTagSF', u'nExtraLep', u'D_ZHh_ggH_ME', u'ZZMass', u'Z1Mass', u'Z2Mass']\n",
      "PCA setup for 'D_ZHh_ggH_2j_ML_input': [u'PFMET', u'nCleanedJetsPt30', u'nCleanedJetsPt30BTagged_bTagSF', u'nExtraLep', u'D_ZHh_ggH_ME', u'ZZMass', u'Z1Mass', u'Z2Mass']\n",
      "PCAWhiteningPreprocessor for stream 'D_ZHh_ggH_2j_ML_input'\n",
      "got the following list of hyperparams: {u'number_layers': 2.0}\n",
      "building network with inputs: [u'PFMET', u'nCleanedJetsPt30', u'nCleanedJetsPt30BTagged_bTagSF', u'nExtraLep', u'ZZMass', u'Z1Mass', u'Z2Mass']\n",
      "PCA setup for 'D_ZHh_ggH_01j_ML_input': [u'PFMET', u'nCleanedJetsPt30', u'nCleanedJetsPt30BTagged_bTagSF', u'nExtraLep', u'ZZMass', u'Z1Mass', u'Z2Mass']\n",
      "PCAWhiteningPreprocessor for stream 'D_ZHh_ggH_01j_ML_input'\n",
      "got the following list of hyperparams: {u'number_layers': 2.0}\n",
      "building network with inputs: [u'PFMET', u'nCleanedJetsPt30', u'nCleanedJetsPt30BTagged_bTagSF', u'nExtraLep', u'ZZMass', u'Z1Mass', u'Z2Mass']\n",
      "PCA setup for 'D_WHh_ZHh_01j_ML_input': [u'PFMET', u'nCleanedJetsPt30', u'nCleanedJetsPt30BTagged_bTagSF', u'nExtraLep', u'ZZMass', u'Z1Mass', u'Z2Mass']\n",
      "PCAWhiteningPreprocessor for stream 'D_WHh_ZHh_01j_ML_input'\n",
      "got the following list of hyperparams: {u'number_layers': 2.0}\n",
      "building network with inputs: [u'PFMET', u'nCleanedJetsPt30', u'nCleanedJetsPt30BTagged_bTagSF', u'nExtraLep', u'D_WHh_ZHh_ME', u'ZZMass', u'Z1Mass', u'Z2Mass']\n",
      "PCA setup for 'D_WHh_ZHh_2j_ML_input': [u'PFMET', u'nCleanedJetsPt30', u'nCleanedJetsPt30BTagged_bTagSF', u'nExtraLep', u'D_WHh_ZHh_ME', u'ZZMass', u'Z1Mass', u'Z2Mass']\n",
      "PCAWhiteningPreprocessor for stream 'D_WHh_ZHh_2j_ML_input'\n",
      "got the following list of hyperparams: {u'number_layers': 2.0}\n",
      "building network with inputs: [u'PFMET', u'nCleanedJetsPt30', u'nCleanedJetsPt30BTagged_bTagSF', u'nExtraLep', u'ZZMass', u'Z1Mass', u'Z2Mass']\n",
      "PCA setup for 'D_VBF_WHh_01j_ML_input': [u'PFMET', u'nCleanedJetsPt30', u'nCleanedJetsPt30BTagged_bTagSF', u'nExtraLep', u'ZZMass', u'Z1Mass', u'Z2Mass']\n",
      "PCAWhiteningPreprocessor for stream 'D_VBF_WHh_01j_ML_input'\n",
      "got the following list of hyperparams: {u'number_layers': 2.0}\n",
      "building network with inputs: [u'PFMET', u'nCleanedJetsPt30', u'nCleanedJetsPt30BTagged_bTagSF', u'nExtraLep', u'D_VBF2j_WHh_ME', u'ZZMass', u'Z1Mass', u'Z2Mass']\n",
      "PCA setup for 'D_VBF_WHh_2j_ML_input': [u'PFMET', u'nCleanedJetsPt30', u'nCleanedJetsPt30BTagged_bTagSF', u'nExtraLep', u'D_VBF2j_WHh_ME', u'ZZMass', u'Z1Mass', u'Z2Mass']\n",
      "PCAWhiteningPreprocessor for stream 'D_VBF_WHh_2j_ML_input'\n",
      "got the following list of hyperparams: {u'number_layers': 2.0}\n",
      "building network with inputs: [u'PFMET', u'nCleanedJetsPt30', u'nCleanedJetsPt30BTagged_bTagSF', u'nExtraLep', u'D_VBF2j_ZHh_ME', u'ZZMass', u'Z1Mass', u'Z2Mass']\n",
      "PCA setup for 'D_VBF_ZHh_2j_ML_input': [u'PFMET', u'nCleanedJetsPt30', u'nCleanedJetsPt30BTagged_bTagSF', u'nExtraLep', u'D_VBF2j_ZHh_ME', u'ZZMass', u'Z1Mass', u'Z2Mass']\n",
      "PCAWhiteningPreprocessor for stream 'D_VBF_ZHh_2j_ML_input'\n",
      "got the following list of hyperparams: {u'number_layers': 2.0}\n",
      "building network with inputs: [u'PFMET', u'nCleanedJetsPt30', u'nCleanedJetsPt30BTagged_bTagSF', u'nExtraLep', u'ZZMass', u'Z1Mass', u'Z2Mass']\n",
      "PCA setup for 'D_VBF_ZHh_01j_ML_input': [u'PFMET', u'nCleanedJetsPt30', u'nCleanedJetsPt30BTagged_bTagSF', u'nExtraLep', u'ZZMass', u'Z1Mass', u'Z2Mass']\n",
      "PCAWhiteningPreprocessor for stream 'D_VBF_ZHh_01j_ML_input'\n",
      "got the following list of hyperparams: {u'number_layers': 2.0}\n",
      "building network with inputs: [u'PFMET', u'nCleanedJetsPt30', u'nCleanedJetsPt30BTagged_bTagSF', u'nExtraLep', u'ZZMass', u'Z1Mass', u'Z2Mass']\n",
      "PCA setup for 'D_WHl_ggH_ML_input': [u'PFMET', u'nCleanedJetsPt30', u'nCleanedJetsPt30BTagged_bTagSF', u'nExtraLep', u'ZZMass', u'Z1Mass', u'Z2Mass']\n",
      "PCAWhiteningPreprocessor for stream 'D_WHl_ggH_ML_input'\n",
      "got the following list of hyperparams: {u'number_layers': 2.0}\n",
      "building network with inputs: [u'PFMET', u'nCleanedJetsPt30', u'nCleanedJetsPt30BTagged_bTagSF', u'nExtraLep', u'ZZMass', u'Z1Mass', u'Z2Mass']\n",
      "PCA setup for 'D_WHl_VBF_ML_input': [u'PFMET', u'nCleanedJetsPt30', u'nCleanedJetsPt30BTagged_bTagSF', u'nExtraLep', u'ZZMass', u'Z1Mass', u'Z2Mass']\n",
      "PCAWhiteningPreprocessor for stream 'D_WHl_VBF_ML_input'\n",
      "got the following list of hyperparams: {u'number_layers': 2.0}\n",
      "building network with inputs: [u'PFMET', u'nCleanedJetsPt30', u'nCleanedJetsPt30BTagged_bTagSF', u'nExtraLep', u'ZZMass', u'Z1Mass', u'Z2Mass']\n",
      "PCA setup for 'D_WHl_WHh_ML_input': [u'PFMET', u'nCleanedJetsPt30', u'nCleanedJetsPt30BTagged_bTagSF', u'nExtraLep', u'ZZMass', u'Z1Mass', u'Z2Mass']\n",
      "PCAWhiteningPreprocessor for stream 'D_WHl_WHh_ML_input'\n",
      "got the following list of hyperparams: {u'number_layers': 2.0}\n",
      "building network with inputs: [u'PFMET', u'nCleanedJetsPt30', u'nCleanedJetsPt30BTagged_bTagSF', u'nExtraLep', u'ZZMass', u'Z1Mass', u'Z2Mass']\n",
      "PCA setup for 'D_WHl_ZHh_ML_input': [u'PFMET', u'nCleanedJetsPt30', u'nCleanedJetsPt30BTagged_bTagSF', u'nExtraLep', u'ZZMass', u'Z1Mass', u'Z2Mass']\n",
      "PCAWhiteningPreprocessor for stream 'D_WHl_ZHh_ML_input'\n",
      "got the following list of hyperparams: {u'number_layers': 2.0}\n",
      "building network with inputs: [u'PFMET', u'nCleanedJetsPt30', u'nCleanedJetsPt30BTagged_bTagSF', u'nExtraLep', u'ZZMass', u'Z1Mass', u'Z2Mass']\n",
      "PCA setup for 'D_WHl_ZHl_ML_input': [u'PFMET', u'nCleanedJetsPt30', u'nCleanedJetsPt30BTagged_bTagSF', u'nExtraLep', u'ZZMass', u'Z1Mass', u'Z2Mass']\n",
      "PCAWhiteningPreprocessor for stream 'D_WHl_ZHl_ML_input'\n",
      "got the following list of hyperparams: {u'number_layers': 2.0}\n",
      "building network with inputs: [u'PFMET', u'nCleanedJetsPt30', u'nCleanedJetsPt30BTagged_bTagSF', u'nExtraLep', u'ZZMass', u'Z1Mass', u'Z2Mass']\n",
      "PCA setup for 'D_WHl_ZHMET_ML_input': [u'PFMET', u'nCleanedJetsPt30', u'nCleanedJetsPt30BTagged_bTagSF', u'nExtraLep', u'ZZMass', u'Z1Mass', u'Z2Mass']\n",
      "PCAWhiteningPreprocessor for stream 'D_WHl_ZHMET_ML_input'\n",
      "got the following list of hyperparams: {u'number_layers': 2.0}\n",
      "building network with inputs: [u'PFMET', u'nCleanedJetsPt30', u'nCleanedJetsPt30BTagged_bTagSF', u'nExtraLep', u'ZZMass', u'Z1Mass', u'Z2Mass']\n",
      "PCA setup for 'D_WHl_ttHh_ML_input': [u'PFMET', u'nCleanedJetsPt30', u'nCleanedJetsPt30BTagged_bTagSF', u'nExtraLep', u'ZZMass', u'Z1Mass', u'Z2Mass']\n",
      "PCAWhiteningPreprocessor for stream 'D_WHl_ttHh_ML_input'\n",
      "got the following list of hyperparams: {u'number_layers': 2.0}\n",
      "building network with inputs: [u'PFMET', u'nCleanedJetsPt30', u'nCleanedJetsPt30BTagged_bTagSF', u'nExtraLep', u'ZZMass', u'Z1Mass', u'Z2Mass']\n",
      "PCA setup for 'D_WHl_ttHl_ML_input': [u'PFMET', u'nCleanedJetsPt30', u'nCleanedJetsPt30BTagged_bTagSF', u'nExtraLep', u'ZZMass', u'Z1Mass', u'Z2Mass']\n",
      "PCAWhiteningPreprocessor for stream 'D_WHl_ttHl_ML_input'\n",
      "got the following list of hyperparams: {u'number_layers': 2.0}\n",
      "building network with inputs: [u'PFMET', u'nCleanedJetsPt30', u'nCleanedJetsPt30BTagged_bTagSF', u'nExtraLep', u'ZZMass', u'Z1Mass', u'Z2Mass']\n",
      "PCA setup for 'D_ZHh_ZHl_ML_input': [u'PFMET', u'nCleanedJetsPt30', u'nCleanedJetsPt30BTagged_bTagSF', u'nExtraLep', u'ZZMass', u'Z1Mass', u'Z2Mass']\n",
      "PCAWhiteningPreprocessor for stream 'D_ZHh_ZHl_ML_input'\n",
      "got the following list of hyperparams: {u'number_layers': 2.0}\n",
      "building network with inputs: [u'PFMET', u'nCleanedJetsPt30', u'nCleanedJetsPt30BTagged_bTagSF', u'nExtraLep', u'ZZMass', u'Z1Mass', u'Z2Mass']\n",
      "PCA setup for 'D_ZHh_ZHMET_ML_input': [u'PFMET', u'nCleanedJetsPt30', u'nCleanedJetsPt30BTagged_bTagSF', u'nExtraLep', u'ZZMass', u'Z1Mass', u'Z2Mass']\n",
      "PCAWhiteningPreprocessor for stream 'D_ZHh_ZHMET_ML_input'\n",
      "got the following list of hyperparams: {u'number_layers': 2.0}\n",
      "building network with inputs: [u'PFMET', u'nCleanedJetsPt30', u'nCleanedJetsPt30BTagged_bTagSF', u'nExtraLep', u'ZZMass', u'Z1Mass', u'Z2Mass']\n",
      "PCA setup for 'D_ZHh_ttHh_ML_input': [u'PFMET', u'nCleanedJetsPt30', u'nCleanedJetsPt30BTagged_bTagSF', u'nExtraLep', u'ZZMass', u'Z1Mass', u'Z2Mass']\n",
      "PCAWhiteningPreprocessor for stream 'D_ZHh_ttHh_ML_input'\n",
      "got the following list of hyperparams: {u'number_layers': 2.0}\n",
      "building network with inputs: [u'PFMET', u'nCleanedJetsPt30', u'nCleanedJetsPt30BTagged_bTagSF', u'nExtraLep', u'ZZMass', u'Z1Mass', u'Z2Mass']\n",
      "PCA setup for 'D_ZHh_ttHl_ML_input': [u'PFMET', u'nCleanedJetsPt30', u'nCleanedJetsPt30BTagged_bTagSF', u'nExtraLep', u'ZZMass', u'Z1Mass', u'Z2Mass']\n",
      "PCAWhiteningPreprocessor for stream 'D_ZHh_ttHl_ML_input'\n",
      "got the following list of hyperparams: {u'number_layers': 2.0}\n",
      "building network with inputs: [u'PFMET', u'nCleanedJetsPt30', u'nCleanedJetsPt30BTagged_bTagSF', u'nExtraLep', u'ZZMass', u'Z1Mass', u'Z2Mass']\n",
      "PCA setup for 'D_ZHl_ggH_ML_input': [u'PFMET', u'nCleanedJetsPt30', u'nCleanedJetsPt30BTagged_bTagSF', u'nExtraLep', u'ZZMass', u'Z1Mass', u'Z2Mass']\n",
      "PCAWhiteningPreprocessor for stream 'D_ZHl_ggH_ML_input'\n",
      "got the following list of hyperparams: {u'number_layers': 2.0}\n",
      "building network with inputs: [u'PFMET', u'nCleanedJetsPt30', u'nCleanedJetsPt30BTagged_bTagSF', u'nExtraLep', u'ZZMass', u'Z1Mass', u'Z2Mass']\n",
      "PCA setup for 'D_ZHl_VBF_ML_input': [u'PFMET', u'nCleanedJetsPt30', u'nCleanedJetsPt30BTagged_bTagSF', u'nExtraLep', u'ZZMass', u'Z1Mass', u'Z2Mass']\n",
      "PCAWhiteningPreprocessor for stream 'D_ZHl_VBF_ML_input'\n",
      "got the following list of hyperparams: {u'number_layers': 2.0}\n",
      "building network with inputs: [u'PFMET', u'nCleanedJetsPt30', u'nCleanedJetsPt30BTagged_bTagSF', u'nExtraLep', u'ZZMass', u'Z1Mass', u'Z2Mass']\n",
      "PCA setup for 'D_ZHl_WHh_ML_input': [u'PFMET', u'nCleanedJetsPt30', u'nCleanedJetsPt30BTagged_bTagSF', u'nExtraLep', u'ZZMass', u'Z1Mass', u'Z2Mass']\n",
      "PCAWhiteningPreprocessor for stream 'D_ZHl_WHh_ML_input'\n",
      "got the following list of hyperparams: {u'number_layers': 2.0}\n",
      "building network with inputs: [u'PFMET', u'nCleanedJetsPt30', u'nCleanedJetsPt30BTagged_bTagSF', u'nExtraLep', u'ZZMass', u'Z1Mass', u'Z2Mass']\n",
      "PCA setup for 'D_ZHl_ZHMET_ML_input': [u'PFMET', u'nCleanedJetsPt30', u'nCleanedJetsPt30BTagged_bTagSF', u'nExtraLep', u'ZZMass', u'Z1Mass', u'Z2Mass']\n",
      "PCAWhiteningPreprocessor for stream 'D_ZHl_ZHMET_ML_input'\n",
      "got the following list of hyperparams: {u'number_layers': 2.0}\n",
      "building network with inputs: [u'PFMET', u'nCleanedJetsPt30', u'nCleanedJetsPt30BTagged_bTagSF', u'nExtraLep', u'ZZMass', u'Z1Mass', u'Z2Mass']\n",
      "PCA setup for 'D_ZHl_ttHh_ML_input': [u'PFMET', u'nCleanedJetsPt30', u'nCleanedJetsPt30BTagged_bTagSF', u'nExtraLep', u'ZZMass', u'Z1Mass', u'Z2Mass']\n",
      "PCAWhiteningPreprocessor for stream 'D_ZHl_ttHh_ML_input'\n",
      "got the following list of hyperparams: {u'number_layers': 2.0}\n",
      "building network with inputs: [u'PFMET', u'nCleanedJetsPt30', u'nCleanedJetsPt30BTagged_bTagSF', u'nExtraLep', u'ZZMass', u'Z1Mass', u'Z2Mass']\n",
      "PCA setup for 'D_ZHl_ttHl_ML_input': [u'PFMET', u'nCleanedJetsPt30', u'nCleanedJetsPt30BTagged_bTagSF', u'nExtraLep', u'ZZMass', u'Z1Mass', u'Z2Mass']\n",
      "PCAWhiteningPreprocessor for stream 'D_ZHl_ttHl_ML_input'\n",
      "got the following list of hyperparams: {u'number_layers': 2.0}\n",
      "building network with inputs: [u'PFMET', u'nCleanedJetsPt30', u'nCleanedJetsPt30BTagged_bTagSF', u'nExtraLep', u'ZZMass', u'Z1Mass', u'Z2Mass']\n",
      "PCA setup for 'D_ZHMET_ggH_ML_input': [u'PFMET', u'nCleanedJetsPt30', u'nCleanedJetsPt30BTagged_bTagSF', u'nExtraLep', u'ZZMass', u'Z1Mass', u'Z2Mass']\n",
      "PCAWhiteningPreprocessor for stream 'D_ZHMET_ggH_ML_input'\n",
      "got the following list of hyperparams: {u'number_layers': 2.0}\n",
      "building network with inputs: [u'PFMET', u'nCleanedJetsPt30', u'nCleanedJetsPt30BTagged_bTagSF', u'nExtraLep', u'ZZMass', u'Z1Mass', u'Z2Mass']\n",
      "PCA setup for 'D_ZHMET_VBF_ML_input': [u'PFMET', u'nCleanedJetsPt30', u'nCleanedJetsPt30BTagged_bTagSF', u'nExtraLep', u'ZZMass', u'Z1Mass', u'Z2Mass']\n",
      "PCAWhiteningPreprocessor for stream 'D_ZHMET_VBF_ML_input'\n",
      "got the following list of hyperparams: {u'number_layers': 2.0}\n",
      "building network with inputs: [u'PFMET', u'nCleanedJetsPt30', u'nCleanedJetsPt30BTagged_bTagSF', u'nExtraLep', u'ZZMass', u'Z1Mass', u'Z2Mass']\n",
      "PCA setup for 'D_ZHMET_WHh_ML_input': [u'PFMET', u'nCleanedJetsPt30', u'nCleanedJetsPt30BTagged_bTagSF', u'nExtraLep', u'ZZMass', u'Z1Mass', u'Z2Mass']\n",
      "PCAWhiteningPreprocessor for stream 'D_ZHMET_WHh_ML_input'\n",
      "got the following list of hyperparams: {u'number_layers': 2.0}\n",
      "building network with inputs: [u'PFMET', u'nCleanedJetsPt30', u'nCleanedJetsPt30BTagged_bTagSF', u'nExtraLep', u'ZZMass', u'Z1Mass', u'Z2Mass']\n",
      "PCA setup for 'D_ZHMET_ttHh_ML_input': [u'PFMET', u'nCleanedJetsPt30', u'nCleanedJetsPt30BTagged_bTagSF', u'nExtraLep', u'ZZMass', u'Z1Mass', u'Z2Mass']\n",
      "PCAWhiteningPreprocessor for stream 'D_ZHMET_ttHh_ML_input'\n",
      "got the following list of hyperparams: {u'number_layers': 2.0}\n",
      "building network with inputs: [u'PFMET', u'nCleanedJetsPt30', u'nCleanedJetsPt30BTagged_bTagSF', u'nExtraLep', u'ZZMass', u'Z1Mass', u'Z2Mass']\n",
      "PCA setup for 'D_ZHMET_ttHl_ML_input': [u'PFMET', u'nCleanedJetsPt30', u'nCleanedJetsPt30BTagged_bTagSF', u'nExtraLep', u'ZZMass', u'Z1Mass', u'Z2Mass']\n",
      "PCAWhiteningPreprocessor for stream 'D_ZHMET_ttHl_ML_input'\n",
      "got the following list of hyperparams: {u'number_layers': 2.0}\n",
      "building network with inputs: [u'PFMET', u'nCleanedJetsPt30', u'nCleanedJetsPt30BTagged_bTagSF', u'nExtraLep', u'ZZMass', u'Z1Mass', u'Z2Mass']\n",
      "PCA setup for 'D_ttHh_ggH_ML_input': [u'PFMET', u'nCleanedJetsPt30', u'nCleanedJetsPt30BTagged_bTagSF', u'nExtraLep', u'ZZMass', u'Z1Mass', u'Z2Mass']\n",
      "PCAWhiteningPreprocessor for stream 'D_ttHh_ggH_ML_input'\n",
      "got the following list of hyperparams: {u'number_layers': 2.0}\n",
      "building network with inputs: [u'PFMET', u'nCleanedJetsPt30', u'nCleanedJetsPt30BTagged_bTagSF', u'nExtraLep', u'ZZMass', u'Z1Mass', u'Z2Mass']\n",
      "PCA setup for 'D_ttHh_VBF_ML_input': [u'PFMET', u'nCleanedJetsPt30', u'nCleanedJetsPt30BTagged_bTagSF', u'nExtraLep', u'ZZMass', u'Z1Mass', u'Z2Mass']\n",
      "PCAWhiteningPreprocessor for stream 'D_ttHh_VBF_ML_input'\n",
      "got the following list of hyperparams: {u'number_layers': 2.0}\n",
      "building network with inputs: [u'PFMET', u'nCleanedJetsPt30', u'nCleanedJetsPt30BTagged_bTagSF', u'nExtraLep', u'ZZMass', u'Z1Mass', u'Z2Mass']\n",
      "PCA setup for 'D_ttHh_WHh_ML_input': [u'PFMET', u'nCleanedJetsPt30', u'nCleanedJetsPt30BTagged_bTagSF', u'nExtraLep', u'ZZMass', u'Z1Mass', u'Z2Mass']\n",
      "PCAWhiteningPreprocessor for stream 'D_ttHh_WHh_ML_input'\n",
      "got the following list of hyperparams: {u'number_layers': 2.0}\n",
      "building network with inputs: [u'PFMET', u'nCleanedJetsPt30', u'nCleanedJetsPt30BTagged_bTagSF', u'nExtraLep', u'ZZMass', u'Z1Mass', u'Z2Mass']\n",
      "PCA setup for 'D_ttHh_ttHl_ML_input': [u'PFMET', u'nCleanedJetsPt30', u'nCleanedJetsPt30BTagged_bTagSF', u'nExtraLep', u'ZZMass', u'Z1Mass', u'Z2Mass']\n",
      "PCAWhiteningPreprocessor for stream 'D_ttHh_ttHl_ML_input'\n",
      "got the following list of hyperparams: {u'number_layers': 2.0}\n",
      "building network with inputs: [u'PFMET', u'nCleanedJetsPt30', u'nCleanedJetsPt30BTagged_bTagSF', u'nExtraLep', u'ZZMass', u'Z1Mass', u'Z2Mass']\n",
      "PCA setup for 'D_ttHl_ggH_ML_input': [u'PFMET', u'nCleanedJetsPt30', u'nCleanedJetsPt30BTagged_bTagSF', u'nExtraLep', u'ZZMass', u'Z1Mass', u'Z2Mass']\n",
      "PCAWhiteningPreprocessor for stream 'D_ttHl_ggH_ML_input'\n",
      "got the following list of hyperparams: {u'number_layers': 2.0}\n",
      "building network with inputs: [u'PFMET', u'nCleanedJetsPt30', u'nCleanedJetsPt30BTagged_bTagSF', u'nExtraLep', u'ZZMass', u'Z1Mass', u'Z2Mass']\n",
      "PCA setup for 'D_ttHl_VBF_ML_input': [u'PFMET', u'nCleanedJetsPt30', u'nCleanedJetsPt30BTagged_bTagSF', u'nExtraLep', u'ZZMass', u'Z1Mass', u'Z2Mass']\n",
      "PCAWhiteningPreprocessor for stream 'D_ttHl_VBF_ML_input'\n",
      "got the following list of hyperparams: {u'number_layers': 2.0}\n",
      "building network with inputs: [u'PFMET', u'nCleanedJetsPt30', u'nCleanedJetsPt30BTagged_bTagSF', u'nExtraLep', u'ZZMass', u'Z1Mass', u'Z2Mass']\n",
      "PCA setup for 'D_ttHl_WHh_ML_input': [u'PFMET', u'nCleanedJetsPt30', u'nCleanedJetsPt30BTagged_bTagSF', u'nExtraLep', u'ZZMass', u'Z1Mass', u'Z2Mass']\n",
      "PCAWhiteningPreprocessor for stream 'D_ttHl_WHh_ML_input'\n"
     ]
    }
   ],
   "source": [
    "mcolls = confhandler.GetModelCollection()"
   ]
  },
  {
   "cell_type": "code",
   "execution_count": 5,
   "metadata": {
    "collapsed": true
   },
   "outputs": [],
   "source": [
    "# create the folder holding the settings for the individual models and their training"
   ]
  },
  {
   "cell_type": "code",
   "execution_count": 5,
   "metadata": {
    "collapsed": true
   },
   "outputs": [],
   "source": [
    "settings_dir = run_path + \"settings/\"\n",
    "if not os.path.exists(settings_dir):\n",
    "    os.makedirs(settings_dir)"
   ]
  },
  {
   "cell_type": "code",
   "execution_count": 7,
   "metadata": {
    "collapsed": false
   },
   "outputs": [],
   "source": [
    "# iterate over these models and make a separate config file for each of them\n",
    "for mcoll in mcolls:\n",
    "    training_settings_dir = settings_dir + mcoll.name + \"/\"\n",
    "    \n",
    "    if not os.path.exists(training_settings_dir):\n",
    "        os.makedirs(training_settings_dir)\n",
    "    \n",
    "    outconf = ModelCollectionConfigFileHandler()\n",
    "    outconf.ToConfiguration([mcoll])\n",
    "    outconf.save_configuration(training_settings_dir + \"settings.conf\")"
   ]
  }
 ],
 "metadata": {
  "kernelspec": {
   "display_name": "Python 2",
   "language": "python",
   "name": "python2"
  },
  "language_info": {
   "codemirror_mode": {
    "name": "ipython",
    "version": 2
   },
   "file_extension": ".py",
   "mimetype": "text/x-python",
   "name": "python",
   "nbconvert_exporter": "python",
   "pygments_lexer": "ipython2",
   "version": "2.7.11"
  }
 },
 "nbformat": 4,
 "nbformat_minor": 2
}
