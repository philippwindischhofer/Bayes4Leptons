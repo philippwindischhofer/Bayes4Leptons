{
 "cells": [
  {
   "cell_type": "code",
   "execution_count": 1,
   "metadata": {
    "collapsed": true
   },
   "outputs": [],
   "source": [
    "import warnings\n",
    "warnings.filterwarnings('ignore')"
   ]
  },
  {
   "cell_type": "code",
   "execution_count": 2,
   "metadata": {
    "collapsed": false
   },
   "outputs": [
    {
     "name": "stdout",
     "output_type": "stream",
     "text": [
      "Welcome to JupyROOT 6.10/09\n"
     ]
    }
   ],
   "source": [
    "from trainlib.FileCollection import FileCollection\n",
    "from trainlib.config import Config\n",
    "from trainlib.ConfigFileHandler import ConfigFileHandler\n",
    "from trainlib.ConfigFileUtils import ConfigFileUtils\n",
    "import trainlib.cuts as cuts\n",
    "import numpy as np\n",
    "import matplotlib.pyplot as plt\n",
    "import matplotlib.ticker as ticker\n",
    "import pandas as pd\n",
    "import copy\n",
    "import re\n",
    "from scipy import interpolate\n",
    "import scipy.integrate as integrate\n",
    "import pickle\n",
    "import os"
   ]
  },
  {
   "cell_type": "code",
   "execution_count": 3,
   "metadata": {
    "collapsed": false
   },
   "outputs": [
    {
     "name": "stderr",
     "output_type": "stream",
     "text": [
      "/cvmfs/cms.cern.ch/slc6_amd64_gcc630/external/py2-pippkgs_depscipy/3.0-fmblme3/lib/python2.7/site-packages/sklearn/cross_validation.py:44: DeprecationWarning: This module was deprecated in version 0.18 in favor of the model_selection module into which all the refactored classes and functions are moved. Also note that the interface of the new CV iterators are different from that of this module. This module will be removed in 0.20.\n",
      "  \"This module will be removed in 0.20.\", DeprecationWarning)\n"
     ]
    }
   ],
   "source": [
    "import xgboost as xgb\n",
    "from sklearn.metrics import mean_squared_error"
   ]
  },
  {
   "cell_type": "code",
   "execution_count": 4,
   "metadata": {
    "collapsed": true
   },
   "outputs": [],
   "source": [
    "#candidate_branches = [\"PFMET\", \"nCleanedJetsPt30\", \"nCleanedJetsPt30BTagged_bTagSF\", \"nExtraLep\", \"ZZMass\", \"nExtraZ\", \"Z1Mass\", \"Z2Mass\", \"Z1Pt\", \"Z2Pt\", \"ZZMassErr\", \"ZZPt\", \"ZZEta\", \"ZZPhi\", \"Z1Flav\", \"Z2Flav\", \"costhetastar\", \"helphi\", \"helcosthetaZ1\", \"helcosthetaZ2\", \"phistarZ1\", \"phistarZ2\", \"xi\", \"xistar\"]\n",
    "candidate_branches = [\"PFMET\", \"nCleanedJetsPt30\", \"nCleanedJetsPt30BTagged_bTagSF\", \"nExtraLep\", \"ZZMass_masked\", \"nExtraZ\", \"Z1Mass\", \"Z2Mass\", \"Z1Pt\", \"Z2Pt\", \"ZZMassErr\", \"ZZPt\", \"ZZEta\", \"ZZPhi\", \"Z1Flav\", \"Z2Flav\"]\n",
    "MELA_branches = [\"D_VBF2j_ggH_ME\", \"D_VBF1j_ggH_ME\", \"D_WHh_ggH_ME\", \"D_ZHh_ggH_ME\", \"D_WHh_ZHh_ME\", \"D_VBF2j_WHh_ME\", \"D_VBF2j_ZHh_ME\"]\n",
    "#list_branches = [\"Jet\", \"Lep\", \"ExtraLep\"]\n",
    "list_branches = [\"Jet\", \"ExtraLep\"]\n",
    "pt_limits = [30.0, 0.0, 0.0]"
   ]
  },
  {
   "cell_type": "code",
   "execution_count": 5,
   "metadata": {
    "collapsed": true
   },
   "outputs": [],
   "source": [
    "allbranches = [\"JetPt\", \"JetEta\", \"JetPhi\", \"LepPt\", \"LepEta\", \"LepPhi\", \"ExtraLepPt\", \"ExtraLepEta\", \"ExtraLepPhi\"] + candidate_branches + MELA_branches + [\"LHEAssociatedParticleId\", \"GenAssocLep1Id\", \"GenAssocLep2Id\", \"training_weight\"]"
   ]
  },
  {
   "cell_type": "code",
   "execution_count": 6,
   "metadata": {
    "collapsed": true
   },
   "outputs": [],
   "source": [
    "#MC_path = \"/data_CMS/cms/wind/CJLST_NTuples_randomizeda/\"\n",
    "MC_path = \"/data_CMS/cms/wind/CJLST_NTuples_ZZMask/\""
   ]
  },
  {
   "cell_type": "raw",
   "metadata": {
    "collapsed": true
   },
   "source": [
    "def WHhadr0j_cut(row):\n",
    "    return cuts.WHhadr_cut(row) and row[\"nCleanedJetsPt30\"] == 0\n",
    "\n",
    "def WHhadr01j_cut(row):\n",
    "    return cuts.WHhadr_cut(row) and (row[\"nCleanedJetsPt30\"] == 0 or row[\"nCleanedJetsPt30\"] == 1)\n",
    "\n",
    "def WHhadr1j_cut(row):\n",
    "    return cuts.WHhadr_cut(row) and row[\"nCleanedJetsPt30\"] == 1\n",
    "\n",
    "def WHhadr2j_cut(row):\n",
    "    return cuts.WHhadr_cut(row) and row[\"nCleanedJetsPt30\"] >= 2\n",
    "\n",
    "def ZHhadr0j_cut(row):\n",
    "    return cuts.ZHhadr_cut(row) and row[\"nCleanedJetsPt30\"] == 0\n",
    "\n",
    "def ZHhadr01j_cut(row):\n",
    "    return cuts.ZHhadr_cut(row) and (row[\"nCleanedJetsPt30\"] == 0 or row[\"nCleanedJetsPt30\"] == 1)\n",
    "\n",
    "def ZHhadr1j_cut(row):\n",
    "    return cuts.ZHhadr_cut(row) and row[\"nCleanedJetsPt30\"] == 1\n",
    "\n",
    "def ZHhadr2j_cut(row):\n",
    "    return cuts.ZHhadr_cut(row) and row[\"nCleanedJetsPt30\"] >= 2\n",
    "\n",
    "def mZZ0j_cut(row):\n",
    "    return cuts.mZZ_cut(row) and row[\"nCleanedJetsPt30\"] == 0\n",
    "\n",
    "def mZZ01j_cut(row):\n",
    "    return cuts.mZZ_cut(row) and (row[\"nCleanedJetsPt30\"] == 0 or row[\"nCleanedJetsPt30\"] == 1)\n",
    "\n",
    "def mZZ1j_cut(row):\n",
    "    return cuts.mZZ_cut(row) and row[\"nCleanedJetsPt30\"] == 1\n",
    "\n",
    "def mZZ2j_cut(row):\n",
    "    return cuts.mZZ_cut(row) and row[\"nCleanedJetsPt30\"] >= 2"
   ]
  },
  {
   "cell_type": "code",
   "execution_count": 7,
   "metadata": {
    "collapsed": true
   },
   "outputs": [],
   "source": [
    "# these are the cuts without any m4l restriction imposed\n",
    "def WHhadr0j_cut(row):\n",
    "    return cuts.WHhadr_cut(row) and row[\"nCleanedJetsPt30\"] == 0\n",
    "\n",
    "def WHhadr01j_cut(row):\n",
    "    return cuts.WHhadr_cut(row) and (row[\"nCleanedJetsPt30\"] == 0 or row[\"nCleanedJetsPt30\"] == 1)\n",
    "\n",
    "def WHhadr1j_cut(row):\n",
    "    return cuts.WHhadr_cut(row) and row[\"nCleanedJetsPt30\"] == 1\n",
    "\n",
    "def WHhadr2j_cut(row):\n",
    "    return cuts.WHhadr_cut(row) and row[\"nCleanedJetsPt30\"] >= 2\n",
    "\n",
    "def ZHhadr0j_cut(row):\n",
    "    return cuts.ZHhadr_cut(row) and row[\"nCleanedJetsPt30\"] == 0\n",
    "\n",
    "def ZHhadr01j_cut(row):\n",
    "    return cuts.ZHhadr_cut(row) and (row[\"nCleanedJetsPt30\"] == 0 or row[\"nCleanedJetsPt30\"] == 1)\n",
    "\n",
    "def ZHhadr1j_cut(row):\n",
    "    return cuts.ZHhadr_cut(row) and row[\"nCleanedJetsPt30\"] == 1\n",
    "\n",
    "def ZHhadr2j_cut(row):\n",
    "    return cuts.ZHhadr_cut(row) and row[\"nCleanedJetsPt30\"] >= 2\n",
    "\n",
    "def mZZ0j_cut(row):\n",
    "    return row[\"nCleanedJetsPt30\"] == 0\n",
    "\n",
    "def mZZ01j_cut(row):\n",
    "    return (row[\"nCleanedJetsPt30\"] == 0 or row[\"nCleanedJetsPt30\"] == 1)\n",
    "\n",
    "def mZZ1j_cut(row):\n",
    "    return row[\"nCleanedJetsPt30\"] == 1\n",
    "\n",
    "def mZZ2j_cut(row):\n",
    "    return row[\"nCleanedJetsPt30\"] >= 2"
   ]
  },
  {
   "cell_type": "raw",
   "metadata": {
    "collapsed": false
   },
   "source": [
    "collections = {\"VBF2j\": {MC_path + \"VBFH125/ZZ4lAnalysis.root\": mZZ2j_cut},\n",
    "            \"VBF1j\": {MC_path + \"VBFH125/ZZ4lAnalysis.root\": mZZ1j_cut},\n",
    "            \"VBF0j\": {MC_path + \"VBFH125/ZZ4lAnalysis.root\": mZZ0j_cut},\n",
    "            \"VBF01j\": {MC_path + \"VBFH125/ZZ4lAnalysis.root\": mZZ01j_cut},\n",
    "            \"VBF\": {MC_path + \"VBFH125/ZZ4lAnalysis.root\": cuts.mZZ_cut},\n",
    "            \"ggH2j\": {MC_path + \"ggH125/ZZ4lAnalysis.root\": mZZ2j_cut},\n",
    "            \"ggH1j\": {MC_path + \"ggH125/ZZ4lAnalysis.root\": mZZ1j_cut},\n",
    "            \"ggH0j\": {MC_path + \"ggH125/ZZ4lAnalysis.root\": mZZ0j_cut},\n",
    "            \"ggH01j\": {MC_path + \"ggH125/ZZ4lAnalysis.root\": mZZ01j_cut},\n",
    "            \"ggH\" : {MC_path + \"ggH125/ZZ4lAnalysis.root\": cuts.mZZ_cut},\n",
    "            \"WHh2j\": {MC_path + \"WplusH125/ZZ4lAnalysis.root\": WHhadr2j_cut, MC_path + \"WminusH125/ZZ4lAnalysis.root\": WHhadr2j_cut},\n",
    "            \"WHh1j\": {MC_path + \"WplusH125/ZZ4lAnalysis.root\": WHhadr1j_cut, MC_path + \"WminusH125/ZZ4lAnalysis.root\": WHhadr1j_cut},\n",
    "            \"WHh0j\": {MC_path + \"WplusH125/ZZ4lAnalysis.root\": WHhadr0j_cut, MC_path + \"WminusH125/ZZ4lAnalysis.root\": WHhadr0j_cut},\n",
    "            \"WHh\": {MC_path + \"WplusH125/ZZ4lAnalysis.root\": cuts.WHhadr_cut, MC_path + \"WminusH125/ZZ4lAnalysis.root\": cuts.WHhadr_cut},\n",
    "            \"WHh01j\": {MC_path + \"WplusH125/ZZ4lAnalysis.root\": WHhadr01j_cut, MC_path + \"WminusH125/ZZ4lAnalysis.root\": WHhadr01j_cut},\n",
    "            \"WHl\": {MC_path + \"WplusH125/ZZ4lAnalysis.root\": cuts.WHlept_cut, MC_path + \"WminusH125/ZZ4lAnalysis.root\": cuts.WHlept_cut},\n",
    "            \"ZHh2j\": {MC_path + \"ZH125/ZZ4lAnalysis.root\": ZHhadr2j_cut},\n",
    "            \"ZHh1j\": {MC_path + \"ZH125/ZZ4lAnalysis.root\": ZHhadr1j_cut},\n",
    "            \"ZHh01j\": {MC_path + \"ZH125/ZZ4lAnalysis.root\": ZHhadr01j_cut},\n",
    "            \"ZHh0j\": {MC_path + \"ZH125/ZZ4lAnalysis.root\": ZHhadr0j_cut},\n",
    "            \"ZHh\": {MC_path + \"ZH125/ZZ4lAnalysis.root\": cuts.ZHhadr_cut},\n",
    "            \"ZHl\": {MC_path + \"ZH125/ZZ4lAnalysis.root\": cuts.ZHlept_cut},\n",
    "            \"ttHh\": {MC_path + \"ttH125/ZZ4lAnalysis.root\": cuts.ttHhadr_cut},\n",
    "            \"ttHl\": {MC_path + \"ttH125/ZZ4lAnalysis.root\": cuts.ttHlept_cut},\n",
    "            \"ZHMET\": {MC_path + \"ZH125/ZZ4lAnalysis.root\": cuts.ZHMET_cut}\n",
    "          }"
   ]
  },
  {
   "cell_type": "code",
   "execution_count": 8,
   "metadata": {
    "collapsed": false
   },
   "outputs": [],
   "source": [
    "collections = {\"VBF2j\": {MC_path + \"VBFH125/ZZ4lAnalysis.root\": mZZ2j_cut},\n",
    "            \"VBF1j\": {MC_path + \"VBFH125/ZZ4lAnalysis.root\": mZZ1j_cut},\n",
    "            \"VBF0j\": {MC_path + \"VBFH125/ZZ4lAnalysis.root\": mZZ0j_cut},\n",
    "            \"VBF01j\": {MC_path + \"VBFH125/ZZ4lAnalysis.root\": mZZ01j_cut},\n",
    "            \"VBF\": {MC_path + \"VBFH125/ZZ4lAnalysis.root\": cuts.no_cut},\n",
    "            \"ggH2j\": {MC_path + \"ggH125/ZZ4lAnalysis.root\": mZZ2j_cut},\n",
    "            \"ggH1j\": {MC_path + \"ggH125/ZZ4lAnalysis.root\": mZZ1j_cut},\n",
    "            \"ggH0j\": {MC_path + \"ggH125/ZZ4lAnalysis.root\": mZZ0j_cut},\n",
    "            \"ggH01j\": {MC_path + \"ggH125/ZZ4lAnalysis.root\": mZZ01j_cut},\n",
    "            \"ggH\" : {MC_path + \"ggH125/ZZ4lAnalysis.root\": cuts.no_cut},\n",
    "            \"WHh2j\": {MC_path + \"WplusH125/ZZ4lAnalysis.root\": WHhadr2j_cut, MC_path + \"WminusH125/ZZ4lAnalysis.root\": WHhadr2j_cut},\n",
    "            \"WHh1j\": {MC_path + \"WplusH125/ZZ4lAnalysis.root\": WHhadr1j_cut, MC_path + \"WminusH125/ZZ4lAnalysis.root\": WHhadr1j_cut},\n",
    "            \"WHh0j\": {MC_path + \"WplusH125/ZZ4lAnalysis.root\": WHhadr0j_cut, MC_path + \"WminusH125/ZZ4lAnalysis.root\": WHhadr0j_cut},\n",
    "            \"WHh\": {MC_path + \"WplusH125/ZZ4lAnalysis.root\": cuts.WHhadr_cut, MC_path + \"WminusH125/ZZ4lAnalysis.root\": cuts.WHhadr_cut},\n",
    "            \"WHh01j\": {MC_path + \"WplusH125/ZZ4lAnalysis.root\": WHhadr01j_cut, MC_path + \"WminusH125/ZZ4lAnalysis.root\": WHhadr01j_cut},\n",
    "            \"WHl\": {MC_path + \"WplusH125/ZZ4lAnalysis.root\": cuts.WHlept_cut, MC_path + \"WminusH125/ZZ4lAnalysis.root\": cuts.WHlept_cut},\n",
    "            \"ZHh2j\": {MC_path + \"ZH125/ZZ4lAnalysis.root\": ZHhadr2j_cut},\n",
    "            \"ZHh1j\": {MC_path + \"ZH125/ZZ4lAnalysis.root\": ZHhadr1j_cut},\n",
    "            \"ZHh01j\": {MC_path + \"ZH125/ZZ4lAnalysis.root\": ZHhadr01j_cut},\n",
    "            \"ZHh0j\": {MC_path + \"ZH125/ZZ4lAnalysis.root\": ZHhadr0j_cut},\n",
    "            \"ZHh\": {MC_path + \"ZH125/ZZ4lAnalysis.root\": cuts.ZHhadr_cut},\n",
    "            \"ZHl\": {MC_path + \"ZH125/ZZ4lAnalysis.root\": cuts.ZHlept_cut},\n",
    "            \"ttHh\": {MC_path + \"ttH125/ZZ4lAnalysis.root\": cuts.ttHhadr_cut},\n",
    "            \"ttHl\": {MC_path + \"ttH125/ZZ4lAnalysis.root\": cuts.ttHlept_cut},\n",
    "            \"ZHMET\": {MC_path + \"ZH125/ZZ4lAnalysis.root\": cuts.ZHMET_cut},\n",
    "            \"bck\": {MC_path + \"bck/ZZ4lAnalysis.root\": cuts.no_cut}\n",
    "          }"
   ]
  },
  {
   "cell_type": "code",
   "execution_count": 9,
   "metadata": {
    "collapsed": true
   },
   "outputs": [],
   "source": [
    "# all the model combinations for which neural networks are currently trained\n",
    "discriminant_pairs = [(\"ggH\", \"bck\"), (\"VBF\", \"bck\"), (\"ZHh\", \"bck\"), (\"WHh\", \"bck\"), (\"ZHl\", \"bck\"),\n",
    "                      (\"WHl\", \"bck\"), (\"ZHMET\", \"bck\"), (\"ttHh\", \"bck\"), (\"ttHl\", \"bck\"), \n",
    "                      (\"VBF2j\", \"ggH2j\"), (\"VBF1j\", \"ggH1j\"), (\"VBF0j\", \"ggH0j\"), (\"WHh2j\", \"ggH2j\"), \n",
    "                     (\"WHh1j\", \"ggH1j\"), (\"WHh0j\", \"ggH0j\"), (\"ZHh2j\", \"ggH2j\"), (\"ZHh1j\", \"ggH1j\"), \n",
    "                      (\"ZHh0j\", \"ggH0j\"), (\"WHh2j\", \"ZHh2j\"), (\"WHh01j\", \"ZHh01j\"), (\"VBF2j\", \"WHh2j\"),\n",
    "                     (\"VBF1j\", \"WHh1j\"), (\"VBF0j\", \"WHh0j\"), (\"VBF2j\", \"ZHh2j\"), (\"VBF1j\", \"ZHh1j\"), \n",
    "                      (\"VBF0j\", \"ZHh0h\"), (\"WHl\", \"ggH\"), (\"WHl\", \"VBF\"), (\"WHl\", \"WHh\"), (\"WHl\", \"ZHh\"),\n",
    "                     (\"WHl\", \"ZHl\"), (\"WHl\", \"ZHMET\"), (\"WHl\", \"ttHh\"), (\"WHl\", \"ttHl\"), (\"ZHh\", \"ZHl\"),\n",
    "                     (\"ZHh\", \"ZHMET\"), (\"ZHh\", \"ttHh\"), (\"ZHh\", \"ttHl\"), (\"ZHl\", \"ggH\"), (\"ZHl\", \"VBF\"),\n",
    "                     (\"ZHl\", \"WHh\"), (\"ZHl\", \"ZHMET\"), (\"ZHl\", \"ttHh\"), (\"ZHl\", \"ttHl\"), (\"ZHMET\", \"ggH\"),\n",
    "                     (\"ZHMET\", \"VBF\"), (\"ZHMET\", \"WHh\"), (\"ZHMET\", \"ttHh\"), (\"ZHMET\", \"ttHl\"), (\"ttHh\", \"ggH\"),\n",
    "                      (\"ttHh\", \"VBF\"), (\"ttHh\", \"WHh\"), (\"ttHh\", \"ttHl\"), (\"ttHl\", \"ggH\"), (\"ttHl\", \"VBF\"),\n",
    "                     (\"ttHl\", \"WHh\")]"
   ]
  },
  {
   "cell_type": "code",
   "execution_count": 10,
   "metadata": {
    "collapsed": true
   },
   "outputs": [],
   "source": [
    "def extract_order(df, col_basename, sorted_column, columns, order):\n",
    "    def get_index(row, order, col_basename, sorted_column):\n",
    "        sorted_column = row[col_basename + sorted_column]\n",
    "        if order >= len(sorted_column):\n",
    "            return -1\n",
    "        else:\n",
    "            return np.flipud(np.argsort(sorted_column))[order]\n",
    "    \n",
    "    index_column = pd.DataFrame(df.transform(lambda row: get_index(row, order, col_basename, sorted_column), axis = 1, raw = True))\n",
    "    index_column.columns = [\"index\"]\n",
    "    df_temp = pd.concat([index_column, df], axis = 1)\n",
    "    \n",
    "    def get_element(row, column_name):\n",
    "        if row[\"index\"] == -1:\n",
    "            return 0\n",
    "        else:\n",
    "            return row[column_name][row[\"index\"]]\n",
    "        \n",
    "    extracted_cols = pd.DataFrame()\n",
    "    for column in columns:\n",
    "        extracted_col = pd.DataFrame(df_temp.transform(lambda row: get_element(row, col_basename + column), axis = 1, raw = True))\n",
    "        extracted_col.columns = [col_basename + column + \"(\" + col_basename + \"Pt|\" + str(order) + \")\"]\n",
    "        extracted_cols = pd.concat([extracted_cols, extracted_col], axis = 1)\n",
    "        \n",
    "    return extracted_cols"
   ]
  },
  {
   "cell_type": "code",
   "execution_count": 11,
   "metadata": {
    "collapsed": true
   },
   "outputs": [],
   "source": [
    "def prepare_data(df, col_basenames, sorted_column, columns, orders, pt_limits):\n",
    "    all_extracted = pd.DataFrame()\n",
    "    for col_basename, pt_limit in zip(col_basenames, pt_limits):\n",
    "        for order in orders:\n",
    "            extracted = extract_order(df, col_basename, sorted_column, columns, order)\n",
    "            mask = extracted[col_basename + \"Pt(\" + col_basename + \"Pt|\" + str(order) + \")\"] < pt_limit\n",
    "            extracted[mask] = 0.0\n",
    "\n",
    "            all_extracted = pd.concat([all_extracted, extracted], axis = 1)\n",
    "            \n",
    "    return all_extracted"
   ]
  },
  {
   "cell_type": "code",
   "execution_count": 12,
   "metadata": {
    "collapsed": false
   },
   "outputs": [],
   "source": [
    "def get_data(H1_coll, H0_coll, read_branches, input_branches, list_branches, pt_limits):\n",
    "    H1_df = H1_coll.get_data(read_branches, 0.0, 1.0)\n",
    "    H0_df = H0_coll.get_data(read_branches, 0.0, 1.0)\n",
    "    \n",
    "    H1_list_df = prepare_data(H1_df, list_branches, \"Pt\", [\"Pt\", \"Eta\", \"Phi\"], range(4), pt_limits)\n",
    "    H0_list_df = prepare_data(H0_df, list_branches, \"Pt\", [\"Pt\", \"Eta\", \"Phi\"], range(4), pt_limits)\n",
    "    \n",
    "    list_branches_unrolled = H1_list_df.columns\n",
    "            \n",
    "    H1_df = pd.concat([H1_df, H1_list_df], axis = 1)\n",
    "    H0_df = pd.concat([H0_df, H0_list_df], axis = 1)        \n",
    "    \n",
    "    complete_input_branches = np.concatenate([input_branches, list_branches_unrolled])\n",
    "            \n",
    "    H1_df = H1_df[complete_input_branches]\n",
    "    H0_df = H0_df[complete_input_branches]\n",
    "    \n",
    "    return H1_df, H0_df"
   ]
  },
  {
   "cell_type": "code",
   "execution_count": 13,
   "metadata": {
    "collapsed": true
   },
   "outputs": [],
   "source": [
    "def get_data_dmatrix(H1_coll, H0_coll, read_branches, input_branches, list_branches, pt_limits):\n",
    "    H1_df, H0_df = get_data(H1_coll, H0_coll, read_branches, input_branches, list_branches, pt_limits)\n",
    "    \n",
    "    complete_input_branches = H1_df.columns\n",
    "    print \"number of input variables: \" + str(len(complete_input_branches))\n",
    "    print \"final list of inputs: \" + str(complete_input_branches)\n",
    "    \n",
    "    # try with the same weights as used later in the neural network training, to balance out some (very)\n",
    "    # unbalanced datasets\n",
    "    H1_class_weight = 1.0 + float(len(H0_df)) / float(len(H1_df))\n",
    "    H0_class_weight = 1.0 + float(len(H1_df)) / float(len(H0_df))\n",
    "    \n",
    "    print \"using class weights: \" + str(H1_class_weight) + \" (H1), \" + str(H0_class_weight) + \" (H0)\"\n",
    "    \n",
    "    H1_weights = np.full(len(H1_df), H1_class_weight)\n",
    "    H0_weights = np.full(len(H0_df), H0_class_weight)\n",
    "    \n",
    "    H1_data = H1_df.as_matrix()\n",
    "    H0_data = H0_df.as_matrix()\n",
    "    H1_target = np.ones(np.shape(H1_data)[0])\n",
    "    H0_target = np.zeros(np.shape(H0_data)[0])\n",
    "    \n",
    "    target = np.concatenate([H1_target, H0_target])\n",
    "    data = np.concatenate([H1_data, H0_data])\n",
    "    weights = np.concatenate([H1_weights, H0_weights])\n",
    "    \n",
    "    dmatrix = xgb.DMatrix(data, label = target, feature_names = complete_input_branches, weight = weights)\n",
    "    \n",
    "    return dmatrix"
   ]
  },
  {
   "cell_type": "code",
   "execution_count": 14,
   "metadata": {
    "collapsed": true
   },
   "outputs": [],
   "source": [
    "def get_feature_correlation(source, corr_branches, mandatory_branches, optional_branches, list_branches, pt_limits):    \n",
    "    coll = FileCollection(collections[source], 0.0, 0.5)\n",
    "    \n",
    "    input_branches = [branch for branch in mandatory_branches]\n",
    "    \n",
    "    for optional_branch in optional_branches:\n",
    "        if \"0j\" in source and (\"0j\" in optional_branch):\n",
    "            input_branches.append(optional_branch)\n",
    "            \n",
    "        if \"1j\" in source and (\"1j\" in optional_branch):\n",
    "            input_branches.append(optional_branch)\n",
    "            \n",
    "        if \"2j\" in source and (\"2j\" in optional_branch):\n",
    "            input_branches.append(optional_branch)\n",
    "\n",
    "    df, _ = get_data(coll, coll, allbranches, input_branches, list_branches, pt_limits)\n",
    "\n",
    "    df = df[corr_branches]\n",
    "    \n",
    "    fig = plt.figure(figsize=(10,15))\n",
    "    ax = fig.add_subplot(111)\n",
    "    \n",
    "    cax = ax.matshow(df.corr(), vmin = -1.0, vmax = 1.0, cmap = \"RdBu\")\n",
    "    \n",
    "    fig.colorbar(cax)\n",
    "    \n",
    "    ax.xaxis.set_major_locator(ticker.MultipleLocator(1))\n",
    "    ax.yaxis.set_major_locator(ticker.MultipleLocator(1))\n",
    "    \n",
    "    ax.set_yticklabels([''] + corr_branches)\n",
    "    ax.set_xticklabels([''] + corr_branches, rotation = 'vertical')\n",
    "    \n",
    "    return fig"
   ]
  },
  {
   "cell_type": "code",
   "execution_count": 15,
   "metadata": {
    "collapsed": true
   },
   "outputs": [],
   "source": [
    "def get_interpolating_function(data, bins):\n",
    "    bin_centers = [np.mean([bins[i], bins[i + 1]]) for i in range(len(bins) - 1)]\n",
    "    intf = interpolate.interp1d(bin_centers, data, kind = \"linear\")\n",
    "    interpolated_function = lambda x: intf(x) if x > bin_centers[0] and x < bin_centers[-1] else 0\n",
    "    \n",
    "    return interpolated_function"
   ]
  },
  {
   "cell_type": "code",
   "execution_count": 16,
   "metadata": {
    "collapsed": true
   },
   "outputs": [],
   "source": [
    "def get_binned_data(df, branch):\n",
    "    data = df[branch].as_matrix()\n",
    "    weights = df[\"training_weight\"].as_matrix()\n",
    "    \n",
    "    # set the bin width\n",
    "    q75, q25 = np.percentile(data, [75, 25])\n",
    "    bin_width = max(2 * (q75 - q25) / len(data)**0.33, 0.005)\n",
    "\n",
    "    data_max = np.max(data)\n",
    "    data_min = np.min(data)\n",
    "    bins = np.arange(data_min, data_max + bin_width, bin_width)\n",
    "    \n",
    "    weights = weights / (np.sum(weights) * bin_width)\n",
    "    \n",
    "    hist = np.histogram(data, bins = bins, weights = weights)\n",
    "    return hist"
   ]
  },
  {
   "cell_type": "code",
   "execution_count": 17,
   "metadata": {
    "collapsed": true
   },
   "outputs": [],
   "source": [
    "def get_feature_importance_list_separation(disc_pair, mandatory_branches, optional_branches, list_branches, pt_limits):\n",
    "    H1_name = disc_pair[0]\n",
    "    H0_name = disc_pair[1]\n",
    "    \n",
    "    input_branches = [branch for branch in mandatory_branches]\n",
    "    \n",
    "    for optional_branch in optional_branches:\n",
    "        if (\"0j\" in H1_name or \"0j\" in H0_name) and (\"0j\" in optional_branch):\n",
    "            input_branches.append(optional_branch)  \n",
    "        elif (\"1j\" in H1_name or \"1j\" in H0_name) and (\"1j\" in optional_branch):\n",
    "            input_branches.append(optional_branch)\n",
    "        elif (\"2j\" in H1_name or \"2j\" in H0_name) and not (\"1j\" in optional_branch):\n",
    "            input_branches.append(optional_branch)\n",
    "            \n",
    "    # needed to build the histograms\n",
    "    input_branches.append(\"training_weight\")\n",
    "    \n",
    "    H1_coll = FileCollection(collections[H1_name], 0.0, 0.5)\n",
    "    H0_coll = FileCollection(collections[H0_name], 0.0, 0.5)\n",
    "    \n",
    "    H1_df, H0_df = get_data(H1_coll, H0_coll, allbranches, input_branches, list_branches, pt_limits)\n",
    "    \n",
    "    available_branches = H1_df.columns\n",
    "    \n",
    "    implist = {}\n",
    "    for branch in available_branches:\n",
    "                \n",
    "        if \"training_weight\" not in branch:\n",
    "            data_H1, bins_H1 = get_binned_data(H1_df, branch)\n",
    "            data_H0, bins_H0 = get_binned_data(H0_df, branch)\n",
    "\n",
    "            if(len(data_H1) > 0):\n",
    "                H1_func = get_interpolating_function(data_H1, bins_H1)\n",
    "                H0_func = get_interpolating_function(data_H0, bins_H0)\n",
    "\n",
    "                # compute the separation in this branch\n",
    "                global_min = np.min(np.concatenate([bins_H0, bins_H1]))\n",
    "                global_max = np.max(np.concatenate([bins_H0, bins_H1]))\n",
    "\n",
    "                separation_func = lambda x: (H1_func(x) + H0_func(x)) * (H1_func(x) - H0_func(x))**2\n",
    "\n",
    "                sep = integrate.quad(separation_func, global_min, global_max)[0]\n",
    "            else:\n",
    "                sep = 0.0\n",
    "                \n",
    "            print \"separation for \" + branch + \" = \" + str(sep)\n",
    "            implist[branch] = sep\n",
    "        \n",
    "    # normalize the importance list\n",
    "    impsum = sum([val for key, val in implist.iteritems()])\n",
    "    for key in implist.keys():\n",
    "        implist[key] /= impsum\n",
    "        \n",
    "    return None, None, implist"
   ]
  },
  {
   "cell_type": "code",
   "execution_count": 18,
   "metadata": {
    "collapsed": false
   },
   "outputs": [],
   "source": [
    "def get_feature_importance_list_BDT(disc_pair, mandatory_branches, optional_branches, list_branches, pt_limits):\n",
    "    H1_name = disc_pair[0]\n",
    "    H0_name = disc_pair[1]\n",
    "    \n",
    "    # first assemble the list of branches that can serve as input: it will *always* contain the mandatory branches,\n",
    "    # and *can* contain some of the optional branches, if the name of the categories allows it\n",
    "    input_branches = [branch for branch in mandatory_branches]\n",
    "    \n",
    "    for optional_branch in optional_branches:\n",
    "        if (\"0j\" in H1_name or \"0j\" in H0_name) and (\"0j\" in optional_branch):\n",
    "            input_branches.append(optional_branch)  \n",
    "        elif (\"1j\" in H1_name or \"1j\" in H0_name) and (\"1j\" in optional_branch):\n",
    "            input_branches.append(optional_branch)\n",
    "        elif (\"2j\" in H1_name or \"2j\" in H0_name) and not (\"1j\" in optional_branch):\n",
    "            input_branches.append(optional_branch)\n",
    "            \n",
    "        # the fully inclusive categories (i.e. those with NO \"xxj\" in their name, can not use MELA, since there may\n",
    "        # be events with low number of jets contained)\n",
    "    \n",
    "    # get the training data for the BDT ...\n",
    "    H1_coll_train = FileCollection(collections[H1_name], 0.0, 0.5)\n",
    "    H0_coll_train = FileCollection(collections[H0_name], 0.0, 0.5)\n",
    "    \n",
    "    dtrain = get_data_dmatrix(H1_coll_train, H0_coll_train, allbranches, input_branches, list_branches, pt_limits)\n",
    "    \n",
    "    # ... and the validation data as well\n",
    "    H1_coll_val = FileCollection(collections[H1_name], 0.5, 1.0)\n",
    "    H0_coll_val = FileCollection(collections[H0_name], 0.5, 1.0)\n",
    "    dval = get_data_dmatrix(H1_coll_val, H0_coll_val, allbranches, input_branches, list_branches, pt_limits)\n",
    "    \n",
    "    evallist = [(dtrain, 'train'), (dval, 'eval')]\n",
    "    \n",
    "    # perform the training\n",
    "    # try different tree depths and choose the one that gives the best RMSE (i.e. avoid too deep trees to start with)\n",
    "        \n",
    "    params = {'eta': 0.01, 'silent': 1, 'gamma': 0.5, 'objective': 'binary:logistic'}\n",
    "    params['nthread'] = 4\n",
    "    params['eval_metric'] = 'rmse'\n",
    "    max_num_rounds = 2000\n",
    "    \n",
    "    best_loss = 1e6\n",
    "    best_imp = None\n",
    "    best_params = None\n",
    "    for tree_depth in range(1,8):\n",
    "        params['max_depth'] = tree_depth\n",
    "        \n",
    "        bst = xgb.train(params, dtrain, max_num_rounds, evals = evallist, early_stopping_rounds = 10, verbose_eval = False)\n",
    "    \n",
    "        pred = bst.predict(dval)\n",
    "        cur_loss = np.sqrt(mean_squared_error(pred, dval.get_label()))\n",
    "        cur_imp = bst.get_fscore()\n",
    "\n",
    "        print \"for max_depth = \" + str(params['max_depth']) + \": loss = \" + str(cur_loss)\n",
    "        \n",
    "        if cur_loss < best_loss:\n",
    "            best_loss = cur_loss\n",
    "            best_imp = copy.copy(cur_imp)\n",
    "            best_params = copy.copy(params)\n",
    "            \n",
    "    # normalize the usage score w.r.t. the total score (i.e. sum of all individuals)\n",
    "    score_sum = sum([val for key, val in best_imp.iteritems()])\n",
    "    used_variables = {key: val / float(score_sum) for key, val in sorted(best_imp.iteritems(), key = lambda x: x[1], reverse = True)}           \n",
    "    return best_params, dtrain.feature_names, used_variables"
   ]
  },
  {
   "cell_type": "code",
   "execution_count": 19,
   "metadata": {
    "collapsed": false
   },
   "outputs": [],
   "source": [
    "def get_histogram(df, branch, label):\n",
    "    data = df[branch].as_matrix()\n",
    "    weights = df[\"training_weight\"].as_matrix()\n",
    "    \n",
    "    # set the bin width\n",
    "    q75, q25 = np.percentile(data, [75, 25])\n",
    "    bin_width = max(2 * (q75 - q25) / len(data)**0.33, 0.005)\n",
    "\n",
    "    data_max = np.max(data)\n",
    "    data_min = np.min(data)\n",
    "    bins = np.arange(data_min, data_max + bin_width, bin_width)\n",
    "    \n",
    "    weights = weights / (np.sum(weights) * bin_width)\n",
    "    \n",
    "    fig = plt.hist(data, bins = bins, weights = weights, alpha = 0.5, label = label)\n",
    "    return fig"
   ]
  },
  {
   "cell_type": "code",
   "execution_count": 20,
   "metadata": {
    "collapsed": true
   },
   "outputs": [],
   "source": [
    "def plot_branch(disc_pair, branch, start_fraction = 0.0, end_fraction = 1.0):\n",
    "    H1_name = disc_pair[0]\n",
    "    H0_name = disc_pair[1]\n",
    "    \n",
    "    # get the training data for the BDT ...\n",
    "    H1_coll = FileCollection(collections[H1_name], start_fraction, end_fraction)\n",
    "    H0_coll = FileCollection(collections[H0_name], start_fraction, end_fraction)\n",
    "    \n",
    "    H1_df, H0_df = get_data(H1_coll, H0_coll, allbranches, allbranches, list_branches, pt_limits)\n",
    "    \n",
    "    plt.figure()\n",
    "    H1_hist = get_histogram(H1_df, branch, H1_name)\n",
    "    H0_hist = get_histogram(H0_df, branch, H0_name)\n",
    "    \n",
    "    plt.legend(loc = 'upper right')\n",
    "    plt.show()"
   ]
  },
  {
   "cell_type": "code",
   "execution_count": 21,
   "metadata": {
    "collapsed": false
   },
   "outputs": [],
   "source": [
    "def plot_variables(discs):\n",
    "    plotframe = pd.DataFrame()\n",
    "    \n",
    "    for disc in discs:\n",
    "        _, _, implist = get_feature_importance_list_BDT(disc, candidate_branches, MELA_branches, list_branches, pt_limits)\n",
    "        \n",
    "        # cut the list to select only the 95% most important variables\n",
    "        cutimplist = {key: val for key, val in implist.iteritems() if val > 0.00}\n",
    "        curframe = pd.DataFrame(cutimplist, index = [len(plotframe)])\n",
    "        \n",
    "        plotframe = pd.concat([plotframe, curframe])\n",
    "        \n",
    "    plotframe = plotframe.fillna(0.0)\n",
    "    \n",
    "    print plotframe\n",
    "    print \"number of pre-selected input variables = \" + str(len(plotframe.columns))\n",
    "    \n",
    "    # start the plotting\n",
    "    parameters = plotframe.columns\n",
    "    plotdata = np.transpose(plotframe.as_matrix())\n",
    "    \n",
    "    plt.close('all')\n",
    "    fig = plt.figure(figsize=(10,15))\n",
    "    ax = fig.add_subplot(111)\n",
    "    cax = ax.matshow(plotdata, cmap = 'Blues')\n",
    "    \n",
    "    # make axis labels\n",
    "    disclabels = []\n",
    "    for disc in discs:\n",
    "        if \"0j\" in disc[0] or \"0j\" in disc[1]:\n",
    "            disclabels.append('D_' + re.sub('0j', '', disc[0]) + \"_\" + re.sub('0j', '', disc[1]) + \"_0j\")\n",
    "        elif \"01j\" in disc[0] or \"01j\" in disc[1]:\n",
    "            disclabels.append('D_' + re.sub('01j', '', disc[0]) + \"_\" + re.sub('01j', '', disc[1]) + \"_01j\")\n",
    "        elif \"1j\" in disc[0] or \"1j\" in disc[1]:\n",
    "            disclabels.append('D_' + re.sub('1j', '', disc[0]) + \"_\" + re.sub('1j', '', disc[1]) + \"_1j\")\n",
    "        elif \"2j\" in disc[0] or \"2j\" in disc[1]:\n",
    "            disclabels.append('D_' + re.sub('2j', '', disc[0]) + \"_\" + re.sub('2j', '', disc[1]) + \"_2j\")\n",
    "        else:\n",
    "            disclabels.append('D_' + disc[0] + \"_\" + disc[1] + \"_2j\")\n",
    "            \n",
    "    disclabels = np.concatenate([[''], np.array(disclabels)])\n",
    "    parameters = np.concatenate([[''], np.array(parameters)])\n",
    "        \n",
    "    ax.set_xticklabels(disclabels, rotation = 'vertical')\n",
    "    ax.set_yticklabels(parameters)\n",
    "    \n",
    "    ax.xaxis.set_major_locator(ticker.MultipleLocator(1))\n",
    "    ax.yaxis.set_major_locator(ticker.MultipleLocator(1))\n",
    "    \n",
    "    # sort the used variables according to their importance\n",
    "    sorted_implist = []\n",
    "    for key, val in sorted(cutimplist.iteritems(), key = lambda x: x[1], reverse = True):\n",
    "        sorted_implist.append((key, val))\n",
    "    \n",
    "    return fig, sorted_implist"
   ]
  },
  {
   "cell_type": "code",
   "execution_count": 22,
   "metadata": {
    "collapsed": true
   },
   "outputs": [],
   "source": [
    "def append_variables(confhandler, impdict, threshold_fscore):\n",
    "    confhandler.new_section(impdict[\"discriminant\"])\n",
    "    cur_sec = confhandler.get_section(impdict[\"discriminant\"])\n",
    "\n",
    "    periodic_inputs = []\n",
    "    nonperiodic_inputs = []\n",
    "    for key, val in impdict.iteritems():\n",
    "        if val[0] > threshold_fscore and key is not \"discriminant\":\n",
    "            if \"phi\" in key or \"Phi\" in key:\n",
    "                periodic_inputs.append(key)\n",
    "            else:\n",
    "                nonperiodic_inputs.append(key)\n",
    "    cur_sec[\"nonperiodic_columns\"] = ConfigFileUtils.serialize_list(nonperiodic_inputs, lambda x: x)\n",
    "    cur_sec[\"periodic_columns\"] = ConfigFileUtils.serialize_list(periodic_inputs, lambda x: x)"
   ]
  },
  {
   "cell_type": "code",
   "execution_count": 23,
   "metadata": {
    "collapsed": true
   },
   "outputs": [],
   "source": [
    "def convert_varname(raw):\n",
    "    raw = raw.replace('(', '[')\n",
    "    raw = raw.replace(')', ']')\n",
    "    return raw"
   ]
  },
  {
   "cell_type": "raw",
   "metadata": {
    "collapsed": false
   },
   "source": [
    "corr1 = get_feature_correlation(\"WHh1j\", [\"LepPt_0\", \"LepPt_1\"], candidate_branches, MELA_branches, list_branches, pt_limits)"
   ]
  },
  {
   "cell_type": "raw",
   "metadata": {
    "collapsed": false
   },
   "source": [
    "plt.show()"
   ]
  },
  {
   "cell_type": "code",
   "execution_count": 24,
   "metadata": {
    "collapsed": true
   },
   "outputs": [],
   "source": [
    "df = pd.DataFrame()"
   ]
  },
  {
   "cell_type": "code",
   "execution_count": 25,
   "metadata": {
    "collapsed": false
   },
   "outputs": [],
   "source": [
    "out_dir = \"/data_CMS/cms/wind/InputConfigurations/\"\n",
    "out_path = os.path.join(out_dir, \"background.conf\")\n",
    "threshold_fscore = 0.01"
   ]
  },
  {
   "cell_type": "code",
   "execution_count": 26,
   "metadata": {
    "collapsed": false
   },
   "outputs": [],
   "source": [
    "confhandler = ConfigFileHandler()"
   ]
  },
  {
   "cell_type": "code",
   "execution_count": 27,
   "metadata": {
    "collapsed": false,
    "scrolled": false
   },
   "outputs": [],
   "source": [
    "%%capture\n",
    "fig, implist = plot_variables([(\"ggH\", \"bck\")])"
   ]
  },
  {
   "cell_type": "code",
   "execution_count": 28,
   "metadata": {
    "collapsed": false
   },
   "outputs": [],
   "source": [
    "impdict = {convert_varname(entry[0]): [entry[1]] for entry in implist}\n",
    "impdict[\"discriminant\"] = \"D_ggH_bkg_ML\"\n",
    "df = df.append(pd.DataFrame.from_dict(impdict))"
   ]
  },
  {
   "cell_type": "code",
   "execution_count": 29,
   "metadata": {
    "collapsed": false
   },
   "outputs": [],
   "source": [
    "append_variables(confhandler, impdict, threshold_fscore)"
   ]
  },
  {
   "cell_type": "code",
   "execution_count": 30,
   "metadata": {
    "collapsed": false
   },
   "outputs": [
    {
     "data": {
      "text/plain": [
       "[('D_VBF2j_ggH_ME', 0.06371046625366808),\n",
       " ('JetPt(JetPt|0)', 0.0629496793826758),\n",
       " ('JetPt(JetPt|1)', 0.0549505488533855),\n",
       " ('PFMET', 0.05205955874361482),\n",
       " ('ZZPt', 0.051581349853276816),\n",
       " ('JetEta(JetPt|0)', 0.04684273448538202),\n",
       " ('ZZEta', 0.04406042821432453),\n",
       " ('JetPhi(JetPt|1)', 0.043821323769155526),\n",
       " ('JetEta(JetPt|1)', 0.04288664275622215),\n",
       " ('Z1Pt', 0.04236496033039887),\n",
       " ('ZZPhi', 0.04108249103358331),\n",
       " ('Z2Mass', 0.040778176285186395),\n",
       " ('Z2Pt', 0.04056080860776003),\n",
       " ('Z1Mass', 0.040213020323877836),\n",
       " ('JetEta(JetPt|2)', 0.03977828496902511),\n",
       " ('JetPhi(JetPt|0)', 0.038647973046408),\n",
       " ('D_WHh_ZHh_ME', 0.03851755243995218),\n",
       " ('ZZMassErr', 0.037343766981849796),\n",
       " ('D_WHh_ggH_ME', 0.03219215302684491),\n",
       " ('JetPt(JetPt|2)', 0.02932289968481687),\n",
       " ('D_ZHh_ggH_ME', 0.028170850994457125),\n",
       " ('D_VBF2j_WHh_ME', 0.0232366047168786),\n",
       " ('D_VBF2j_ZHh_ME', 0.022954026736224323),\n",
       " ('JetPhi(JetPt|2)', 0.016824258232800784),\n",
       " ('JetPhi(JetPt|3)', 0.005368981632431258),\n",
       " ('JetPt(JetPt|3)', 0.004760352135637431),\n",
       " ('JetEta(JetPt|3)', 0.0039126181936746),\n",
       " ('Z1Flav', 0.003173568090424954),\n",
       " ('nCleanedJetsPt30', 0.0027823062710574937),\n",
       " ('Z2Flav', 0.0023475709162047603),\n",
       " ('nCleanedJetsPt30BTagged_bTagSF', 0.0014998369742419302),\n",
       " ('ExtraLepPhi(ExtraLepPt|0)', 0.0008477339419628301),\n",
       " ('ExtraLepPt(ExtraLepPt|0)', 0.0003477882838821867),\n",
       " ('nExtraLep', 6.521030322791e-05),\n",
       " ('ExtraLepEta(ExtraLepPt|0)', 4.347353548527334e-05)]"
      ]
     },
     "execution_count": 30,
     "metadata": {},
     "output_type": "execute_result"
    }
   ],
   "source": [
    "implist"
   ]
  },
  {
   "cell_type": "code",
   "execution_count": 27,
   "metadata": {
    "collapsed": false,
    "scrolled": false
   },
   "outputs": [],
   "source": [
    "%%capture\n",
    "fig, implist = plot_variables([(\"VBF\", \"bck\")])"
   ]
  },
  {
   "cell_type": "code",
   "execution_count": 28,
   "metadata": {
    "collapsed": false
   },
   "outputs": [],
   "source": [
    "impdict = {convert_varname(entry[0]): [entry[1]] for entry in implist}\n",
    "impdict[\"discriminant\"] = \"D_VBF_bkg_ML\"\n",
    "df = df.append(pd.DataFrame.from_dict(impdict))"
   ]
  },
  {
   "cell_type": "code",
   "execution_count": 29,
   "metadata": {
    "collapsed": false
   },
   "outputs": [],
   "source": [
    "append_variables(confhandler, impdict, threshold_fscore)"
   ]
  },
  {
   "cell_type": "code",
   "execution_count": 30,
   "metadata": {
    "collapsed": false
   },
   "outputs": [
    {
     "data": {
      "text/plain": [
       "[('D_VBF2j_ggH_ME', 0.06371046625366808),\n",
       " ('JetPt(JetPt|0)', 0.0629496793826758),\n",
       " ('JetPt(JetPt|1)', 0.0549505488533855),\n",
       " ('PFMET', 0.05205955874361482),\n",
       " ('ZZPt', 0.051581349853276816),\n",
       " ('JetEta(JetPt|0)', 0.04684273448538202),\n",
       " ('ZZEta', 0.04406042821432453),\n",
       " ('JetPhi(JetPt|1)', 0.043821323769155526),\n",
       " ('JetEta(JetPt|1)', 0.04288664275622215),\n",
       " ('Z1Pt', 0.04236496033039887),\n",
       " ('ZZPhi', 0.04108249103358331),\n",
       " ('Z2Mass', 0.040778176285186395),\n",
       " ('Z2Pt', 0.04056080860776003),\n",
       " ('Z1Mass', 0.040213020323877836),\n",
       " ('JetEta(JetPt|2)', 0.03977828496902511),\n",
       " ('JetPhi(JetPt|0)', 0.038647973046408),\n",
       " ('D_WHh_ZHh_ME', 0.03851755243995218),\n",
       " ('ZZMassErr', 0.037343766981849796),\n",
       " ('D_WHh_ggH_ME', 0.03219215302684491),\n",
       " ('JetPt(JetPt|2)', 0.02932289968481687),\n",
       " ('D_ZHh_ggH_ME', 0.028170850994457125),\n",
       " ('D_VBF2j_WHh_ME', 0.0232366047168786),\n",
       " ('D_VBF2j_ZHh_ME', 0.022954026736224323),\n",
       " ('JetPhi(JetPt|2)', 0.016824258232800784),\n",
       " ('JetPhi(JetPt|3)', 0.005368981632431258),\n",
       " ('JetPt(JetPt|3)', 0.004760352135637431),\n",
       " ('JetEta(JetPt|3)', 0.0039126181936746),\n",
       " ('Z1Flav', 0.003173568090424954),\n",
       " ('nCleanedJetsPt30', 0.0027823062710574937),\n",
       " ('Z2Flav', 0.0023475709162047603),\n",
       " ('nCleanedJetsPt30BTagged_bTagSF', 0.0014998369742419302),\n",
       " ('ExtraLepPhi(ExtraLepPt|0)', 0.0008477339419628301),\n",
       " ('ExtraLepPt(ExtraLepPt|0)', 0.0003477882838821867),\n",
       " ('nExtraLep', 6.521030322791e-05),\n",
       " ('ExtraLepEta(ExtraLepPt|0)', 4.347353548527334e-05)]"
      ]
     },
     "execution_count": 30,
     "metadata": {},
     "output_type": "execute_result"
    }
   ],
   "source": [
    "implist"
   ]
  },
  {
   "cell_type": "code",
   "execution_count": 27,
   "metadata": {
    "collapsed": false,
    "scrolled": false
   },
   "outputs": [],
   "source": [
    "%%capture\n",
    "fig, implist = plot_variables([(\"ZHl\", \"bck\")])"
   ]
  },
  {
   "cell_type": "code",
   "execution_count": 28,
   "metadata": {
    "collapsed": false
   },
   "outputs": [],
   "source": [
    "impdict = {convert_varname(entry[0]): [entry[1]] for entry in implist}\n",
    "impdict[\"discriminant\"] = \"D_ZHl_bkg_ML\"\n",
    "df = df.append(pd.DataFrame.from_dict(impdict))"
   ]
  },
  {
   "cell_type": "code",
   "execution_count": 29,
   "metadata": {
    "collapsed": false
   },
   "outputs": [],
   "source": [
    "append_variables(confhandler, impdict, threshold_fscore)"
   ]
  },
  {
   "cell_type": "code",
   "execution_count": 30,
   "metadata": {
    "collapsed": false
   },
   "outputs": [
    {
     "data": {
      "text/plain": [
       "[('D_VBF2j_ggH_ME', 0.06371046625366808),\n",
       " ('JetPt(JetPt|0)', 0.0629496793826758),\n",
       " ('JetPt(JetPt|1)', 0.0549505488533855),\n",
       " ('PFMET', 0.05205955874361482),\n",
       " ('ZZPt', 0.051581349853276816),\n",
       " ('JetEta(JetPt|0)', 0.04684273448538202),\n",
       " ('ZZEta', 0.04406042821432453),\n",
       " ('JetPhi(JetPt|1)', 0.043821323769155526),\n",
       " ('JetEta(JetPt|1)', 0.04288664275622215),\n",
       " ('Z1Pt', 0.04236496033039887),\n",
       " ('ZZPhi', 0.04108249103358331),\n",
       " ('Z2Mass', 0.040778176285186395),\n",
       " ('Z2Pt', 0.04056080860776003),\n",
       " ('Z1Mass', 0.040213020323877836),\n",
       " ('JetEta(JetPt|2)', 0.03977828496902511),\n",
       " ('JetPhi(JetPt|0)', 0.038647973046408),\n",
       " ('D_WHh_ZHh_ME', 0.03851755243995218),\n",
       " ('ZZMassErr', 0.037343766981849796),\n",
       " ('D_WHh_ggH_ME', 0.03219215302684491),\n",
       " ('JetPt(JetPt|2)', 0.02932289968481687),\n",
       " ('D_ZHh_ggH_ME', 0.028170850994457125),\n",
       " ('D_VBF2j_WHh_ME', 0.0232366047168786),\n",
       " ('D_VBF2j_ZHh_ME', 0.022954026736224323),\n",
       " ('JetPhi(JetPt|2)', 0.016824258232800784),\n",
       " ('JetPhi(JetPt|3)', 0.005368981632431258),\n",
       " ('JetPt(JetPt|3)', 0.004760352135637431),\n",
       " ('JetEta(JetPt|3)', 0.0039126181936746),\n",
       " ('Z1Flav', 0.003173568090424954),\n",
       " ('nCleanedJetsPt30', 0.0027823062710574937),\n",
       " ('Z2Flav', 0.0023475709162047603),\n",
       " ('nCleanedJetsPt30BTagged_bTagSF', 0.0014998369742419302),\n",
       " ('ExtraLepPhi(ExtraLepPt|0)', 0.0008477339419628301),\n",
       " ('ExtraLepPt(ExtraLepPt|0)', 0.0003477882838821867),\n",
       " ('nExtraLep', 6.521030322791e-05),\n",
       " ('ExtraLepEta(ExtraLepPt|0)', 4.347353548527334e-05)]"
      ]
     },
     "execution_count": 30,
     "metadata": {},
     "output_type": "execute_result"
    }
   ],
   "source": [
    "implist"
   ]
  },
  {
   "cell_type": "code",
   "execution_count": 27,
   "metadata": {
    "collapsed": false,
    "scrolled": false
   },
   "outputs": [],
   "source": [
    "%%capture\n",
    "fig, implist = plot_variables([(\"ZHh\", \"bck\")])"
   ]
  },
  {
   "cell_type": "code",
   "execution_count": 28,
   "metadata": {
    "collapsed": false
   },
   "outputs": [],
   "source": [
    "impdict = {convert_varname(entry[0]): [entry[1]] for entry in implist}\n",
    "impdict[\"discriminant\"] = \"D_ZHh_bkg_ML\"\n",
    "df = df.append(pd.DataFrame.from_dict(impdict))"
   ]
  },
  {
   "cell_type": "code",
   "execution_count": 29,
   "metadata": {
    "collapsed": false
   },
   "outputs": [],
   "source": [
    "append_variables(confhandler, impdict, threshold_fscore)"
   ]
  },
  {
   "cell_type": "code",
   "execution_count": 30,
   "metadata": {
    "collapsed": false
   },
   "outputs": [
    {
     "data": {
      "text/plain": [
       "[('D_VBF2j_ggH_ME', 0.06371046625366808),\n",
       " ('JetPt(JetPt|0)', 0.0629496793826758),\n",
       " ('JetPt(JetPt|1)', 0.0549505488533855),\n",
       " ('PFMET', 0.05205955874361482),\n",
       " ('ZZPt', 0.051581349853276816),\n",
       " ('JetEta(JetPt|0)', 0.04684273448538202),\n",
       " ('ZZEta', 0.04406042821432453),\n",
       " ('JetPhi(JetPt|1)', 0.043821323769155526),\n",
       " ('JetEta(JetPt|1)', 0.04288664275622215),\n",
       " ('Z1Pt', 0.04236496033039887),\n",
       " ('ZZPhi', 0.04108249103358331),\n",
       " ('Z2Mass', 0.040778176285186395),\n",
       " ('Z2Pt', 0.04056080860776003),\n",
       " ('Z1Mass', 0.040213020323877836),\n",
       " ('JetEta(JetPt|2)', 0.03977828496902511),\n",
       " ('JetPhi(JetPt|0)', 0.038647973046408),\n",
       " ('D_WHh_ZHh_ME', 0.03851755243995218),\n",
       " ('ZZMassErr', 0.037343766981849796),\n",
       " ('D_WHh_ggH_ME', 0.03219215302684491),\n",
       " ('JetPt(JetPt|2)', 0.02932289968481687),\n",
       " ('D_ZHh_ggH_ME', 0.028170850994457125),\n",
       " ('D_VBF2j_WHh_ME', 0.0232366047168786),\n",
       " ('D_VBF2j_ZHh_ME', 0.022954026736224323),\n",
       " ('JetPhi(JetPt|2)', 0.016824258232800784),\n",
       " ('JetPhi(JetPt|3)', 0.005368981632431258),\n",
       " ('JetPt(JetPt|3)', 0.004760352135637431),\n",
       " ('JetEta(JetPt|3)', 0.0039126181936746),\n",
       " ('Z1Flav', 0.003173568090424954),\n",
       " ('nCleanedJetsPt30', 0.0027823062710574937),\n",
       " ('Z2Flav', 0.0023475709162047603),\n",
       " ('nCleanedJetsPt30BTagged_bTagSF', 0.0014998369742419302),\n",
       " ('ExtraLepPhi(ExtraLepPt|0)', 0.0008477339419628301),\n",
       " ('ExtraLepPt(ExtraLepPt|0)', 0.0003477882838821867),\n",
       " ('nExtraLep', 6.521030322791e-05),\n",
       " ('ExtraLepEta(ExtraLepPt|0)', 4.347353548527334e-05)]"
      ]
     },
     "execution_count": 30,
     "metadata": {},
     "output_type": "execute_result"
    }
   ],
   "source": [
    "implist"
   ]
  },
  {
   "cell_type": "code",
   "execution_count": 27,
   "metadata": {
    "collapsed": false,
    "scrolled": false
   },
   "outputs": [],
   "source": [
    "%%capture\n",
    "fig, implist = plot_variables([(\"WHl\", \"bck\")])"
   ]
  },
  {
   "cell_type": "code",
   "execution_count": 28,
   "metadata": {
    "collapsed": false
   },
   "outputs": [],
   "source": [
    "impdict = {convert_varname(entry[0]): [entry[1]] for entry in implist}\n",
    "impdict[\"discriminant\"] = \"D_WHl_bkg_ML\"\n",
    "df = df.append(pd.DataFrame.from_dict(impdict))"
   ]
  },
  {
   "cell_type": "code",
   "execution_count": 29,
   "metadata": {
    "collapsed": false
   },
   "outputs": [],
   "source": [
    "append_variables(confhandler, impdict, threshold_fscore)"
   ]
  },
  {
   "cell_type": "code",
   "execution_count": 30,
   "metadata": {
    "collapsed": false
   },
   "outputs": [
    {
     "data": {
      "text/plain": [
       "[('D_VBF2j_ggH_ME', 0.06371046625366808),\n",
       " ('JetPt(JetPt|0)', 0.0629496793826758),\n",
       " ('JetPt(JetPt|1)', 0.0549505488533855),\n",
       " ('PFMET', 0.05205955874361482),\n",
       " ('ZZPt', 0.051581349853276816),\n",
       " ('JetEta(JetPt|0)', 0.04684273448538202),\n",
       " ('ZZEta', 0.04406042821432453),\n",
       " ('JetPhi(JetPt|1)', 0.043821323769155526),\n",
       " ('JetEta(JetPt|1)', 0.04288664275622215),\n",
       " ('Z1Pt', 0.04236496033039887),\n",
       " ('ZZPhi', 0.04108249103358331),\n",
       " ('Z2Mass', 0.040778176285186395),\n",
       " ('Z2Pt', 0.04056080860776003),\n",
       " ('Z1Mass', 0.040213020323877836),\n",
       " ('JetEta(JetPt|2)', 0.03977828496902511),\n",
       " ('JetPhi(JetPt|0)', 0.038647973046408),\n",
       " ('D_WHh_ZHh_ME', 0.03851755243995218),\n",
       " ('ZZMassErr', 0.037343766981849796),\n",
       " ('D_WHh_ggH_ME', 0.03219215302684491),\n",
       " ('JetPt(JetPt|2)', 0.02932289968481687),\n",
       " ('D_ZHh_ggH_ME', 0.028170850994457125),\n",
       " ('D_VBF2j_WHh_ME', 0.0232366047168786),\n",
       " ('D_VBF2j_ZHh_ME', 0.022954026736224323),\n",
       " ('JetPhi(JetPt|2)', 0.016824258232800784),\n",
       " ('JetPhi(JetPt|3)', 0.005368981632431258),\n",
       " ('JetPt(JetPt|3)', 0.004760352135637431),\n",
       " ('JetEta(JetPt|3)', 0.0039126181936746),\n",
       " ('Z1Flav', 0.003173568090424954),\n",
       " ('nCleanedJetsPt30', 0.0027823062710574937),\n",
       " ('Z2Flav', 0.0023475709162047603),\n",
       " ('nCleanedJetsPt30BTagged_bTagSF', 0.0014998369742419302),\n",
       " ('ExtraLepPhi(ExtraLepPt|0)', 0.0008477339419628301),\n",
       " ('ExtraLepPt(ExtraLepPt|0)', 0.0003477882838821867),\n",
       " ('nExtraLep', 6.521030322791e-05),\n",
       " ('ExtraLepEta(ExtraLepPt|0)', 4.347353548527334e-05)]"
      ]
     },
     "execution_count": 30,
     "metadata": {},
     "output_type": "execute_result"
    }
   ],
   "source": [
    "implist"
   ]
  },
  {
   "cell_type": "code",
   "execution_count": 27,
   "metadata": {
    "collapsed": false,
    "scrolled": false
   },
   "outputs": [],
   "source": [
    "%%capture\n",
    "fig, implist = plot_variables([(\"WHh\", \"bck\")])"
   ]
  },
  {
   "cell_type": "code",
   "execution_count": 28,
   "metadata": {
    "collapsed": false
   },
   "outputs": [],
   "source": [
    "impdict = {convert_varname(entry[0]): [entry[1]] for entry in implist}\n",
    "impdict[\"discriminant\"] = \"D_WHh_bkg_ML\"\n",
    "df = df.append(pd.DataFrame.from_dict(impdict))"
   ]
  },
  {
   "cell_type": "code",
   "execution_count": 29,
   "metadata": {
    "collapsed": false
   },
   "outputs": [],
   "source": [
    "append_variables(confhandler, impdict, threshold_fscore)"
   ]
  },
  {
   "cell_type": "code",
   "execution_count": 30,
   "metadata": {
    "collapsed": false
   },
   "outputs": [
    {
     "data": {
      "text/plain": [
       "[('D_VBF2j_ggH_ME', 0.06371046625366808),\n",
       " ('JetPt(JetPt|0)', 0.0629496793826758),\n",
       " ('JetPt(JetPt|1)', 0.0549505488533855),\n",
       " ('PFMET', 0.05205955874361482),\n",
       " ('ZZPt', 0.051581349853276816),\n",
       " ('JetEta(JetPt|0)', 0.04684273448538202),\n",
       " ('ZZEta', 0.04406042821432453),\n",
       " ('JetPhi(JetPt|1)', 0.043821323769155526),\n",
       " ('JetEta(JetPt|1)', 0.04288664275622215),\n",
       " ('Z1Pt', 0.04236496033039887),\n",
       " ('ZZPhi', 0.04108249103358331),\n",
       " ('Z2Mass', 0.040778176285186395),\n",
       " ('Z2Pt', 0.04056080860776003),\n",
       " ('Z1Mass', 0.040213020323877836),\n",
       " ('JetEta(JetPt|2)', 0.03977828496902511),\n",
       " ('JetPhi(JetPt|0)', 0.038647973046408),\n",
       " ('D_WHh_ZHh_ME', 0.03851755243995218),\n",
       " ('ZZMassErr', 0.037343766981849796),\n",
       " ('D_WHh_ggH_ME', 0.03219215302684491),\n",
       " ('JetPt(JetPt|2)', 0.02932289968481687),\n",
       " ('D_ZHh_ggH_ME', 0.028170850994457125),\n",
       " ('D_VBF2j_WHh_ME', 0.0232366047168786),\n",
       " ('D_VBF2j_ZHh_ME', 0.022954026736224323),\n",
       " ('JetPhi(JetPt|2)', 0.016824258232800784),\n",
       " ('JetPhi(JetPt|3)', 0.005368981632431258),\n",
       " ('JetPt(JetPt|3)', 0.004760352135637431),\n",
       " ('JetEta(JetPt|3)', 0.0039126181936746),\n",
       " ('Z1Flav', 0.003173568090424954),\n",
       " ('nCleanedJetsPt30', 0.0027823062710574937),\n",
       " ('Z2Flav', 0.0023475709162047603),\n",
       " ('nCleanedJetsPt30BTagged_bTagSF', 0.0014998369742419302),\n",
       " ('ExtraLepPhi(ExtraLepPt|0)', 0.0008477339419628301),\n",
       " ('ExtraLepPt(ExtraLepPt|0)', 0.0003477882838821867),\n",
       " ('nExtraLep', 6.521030322791e-05),\n",
       " ('ExtraLepEta(ExtraLepPt|0)', 4.347353548527334e-05)]"
      ]
     },
     "execution_count": 30,
     "metadata": {},
     "output_type": "execute_result"
    }
   ],
   "source": [
    "implist"
   ]
  },
  {
   "cell_type": "code",
   "execution_count": 27,
   "metadata": {
    "collapsed": false,
    "scrolled": false
   },
   "outputs": [],
   "source": [
    "%%capture\n",
    "fig, implist = plot_variables([(\"ZHMET\", \"bck\")])"
   ]
  },
  {
   "cell_type": "code",
   "execution_count": 28,
   "metadata": {
    "collapsed": false
   },
   "outputs": [],
   "source": [
    "impdict = {convert_varname(entry[0]): [entry[1]] for entry in implist}\n",
    "impdict[\"discriminant\"] = \"D_ZHMET_bkg_ML\"\n",
    "df = df.append(pd.DataFrame.from_dict(impdict))"
   ]
  },
  {
   "cell_type": "code",
   "execution_count": 29,
   "metadata": {
    "collapsed": false
   },
   "outputs": [],
   "source": [
    "append_variables(confhandler, impdict, threshold_fscore)"
   ]
  },
  {
   "cell_type": "code",
   "execution_count": 30,
   "metadata": {
    "collapsed": false
   },
   "outputs": [
    {
     "data": {
      "text/plain": [
       "[('D_VBF2j_ggH_ME', 0.06371046625366808),\n",
       " ('JetPt(JetPt|0)', 0.0629496793826758),\n",
       " ('JetPt(JetPt|1)', 0.0549505488533855),\n",
       " ('PFMET', 0.05205955874361482),\n",
       " ('ZZPt', 0.051581349853276816),\n",
       " ('JetEta(JetPt|0)', 0.04684273448538202),\n",
       " ('ZZEta', 0.04406042821432453),\n",
       " ('JetPhi(JetPt|1)', 0.043821323769155526),\n",
       " ('JetEta(JetPt|1)', 0.04288664275622215),\n",
       " ('Z1Pt', 0.04236496033039887),\n",
       " ('ZZPhi', 0.04108249103358331),\n",
       " ('Z2Mass', 0.040778176285186395),\n",
       " ('Z2Pt', 0.04056080860776003),\n",
       " ('Z1Mass', 0.040213020323877836),\n",
       " ('JetEta(JetPt|2)', 0.03977828496902511),\n",
       " ('JetPhi(JetPt|0)', 0.038647973046408),\n",
       " ('D_WHh_ZHh_ME', 0.03851755243995218),\n",
       " ('ZZMassErr', 0.037343766981849796),\n",
       " ('D_WHh_ggH_ME', 0.03219215302684491),\n",
       " ('JetPt(JetPt|2)', 0.02932289968481687),\n",
       " ('D_ZHh_ggH_ME', 0.028170850994457125),\n",
       " ('D_VBF2j_WHh_ME', 0.0232366047168786),\n",
       " ('D_VBF2j_ZHh_ME', 0.022954026736224323),\n",
       " ('JetPhi(JetPt|2)', 0.016824258232800784),\n",
       " ('JetPhi(JetPt|3)', 0.005368981632431258),\n",
       " ('JetPt(JetPt|3)', 0.004760352135637431),\n",
       " ('JetEta(JetPt|3)', 0.0039126181936746),\n",
       " ('Z1Flav', 0.003173568090424954),\n",
       " ('nCleanedJetsPt30', 0.0027823062710574937),\n",
       " ('Z2Flav', 0.0023475709162047603),\n",
       " ('nCleanedJetsPt30BTagged_bTagSF', 0.0014998369742419302),\n",
       " ('ExtraLepPhi(ExtraLepPt|0)', 0.0008477339419628301),\n",
       " ('ExtraLepPt(ExtraLepPt|0)', 0.0003477882838821867),\n",
       " ('nExtraLep', 6.521030322791e-05),\n",
       " ('ExtraLepEta(ExtraLepPt|0)', 4.347353548527334e-05)]"
      ]
     },
     "execution_count": 30,
     "metadata": {},
     "output_type": "execute_result"
    }
   ],
   "source": [
    "implist"
   ]
  },
  {
   "cell_type": "code",
   "execution_count": 27,
   "metadata": {
    "collapsed": false,
    "scrolled": false
   },
   "outputs": [],
   "source": [
    "%%capture\n",
    "fig, implist = plot_variables([(\"ttHh\", \"bck\")])"
   ]
  },
  {
   "cell_type": "code",
   "execution_count": 28,
   "metadata": {
    "collapsed": false
   },
   "outputs": [],
   "source": [
    "impdict = {convert_varname(entry[0]): [entry[1]] for entry in implist}\n",
    "impdict[\"discriminant\"] = \"D_ttHh_bkg_ML\"\n",
    "df = df.append(pd.DataFrame.from_dict(impdict))"
   ]
  },
  {
   "cell_type": "code",
   "execution_count": 29,
   "metadata": {
    "collapsed": false
   },
   "outputs": [],
   "source": [
    "append_variables(confhandler, impdict, threshold_fscore)"
   ]
  },
  {
   "cell_type": "code",
   "execution_count": 30,
   "metadata": {
    "collapsed": false
   },
   "outputs": [
    {
     "data": {
      "text/plain": [
       "[('D_VBF2j_ggH_ME', 0.06371046625366808),\n",
       " ('JetPt(JetPt|0)', 0.0629496793826758),\n",
       " ('JetPt(JetPt|1)', 0.0549505488533855),\n",
       " ('PFMET', 0.05205955874361482),\n",
       " ('ZZPt', 0.051581349853276816),\n",
       " ('JetEta(JetPt|0)', 0.04684273448538202),\n",
       " ('ZZEta', 0.04406042821432453),\n",
       " ('JetPhi(JetPt|1)', 0.043821323769155526),\n",
       " ('JetEta(JetPt|1)', 0.04288664275622215),\n",
       " ('Z1Pt', 0.04236496033039887),\n",
       " ('ZZPhi', 0.04108249103358331),\n",
       " ('Z2Mass', 0.040778176285186395),\n",
       " ('Z2Pt', 0.04056080860776003),\n",
       " ('Z1Mass', 0.040213020323877836),\n",
       " ('JetEta(JetPt|2)', 0.03977828496902511),\n",
       " ('JetPhi(JetPt|0)', 0.038647973046408),\n",
       " ('D_WHh_ZHh_ME', 0.03851755243995218),\n",
       " ('ZZMassErr', 0.037343766981849796),\n",
       " ('D_WHh_ggH_ME', 0.03219215302684491),\n",
       " ('JetPt(JetPt|2)', 0.02932289968481687),\n",
       " ('D_ZHh_ggH_ME', 0.028170850994457125),\n",
       " ('D_VBF2j_WHh_ME', 0.0232366047168786),\n",
       " ('D_VBF2j_ZHh_ME', 0.022954026736224323),\n",
       " ('JetPhi(JetPt|2)', 0.016824258232800784),\n",
       " ('JetPhi(JetPt|3)', 0.005368981632431258),\n",
       " ('JetPt(JetPt|3)', 0.004760352135637431),\n",
       " ('JetEta(JetPt|3)', 0.0039126181936746),\n",
       " ('Z1Flav', 0.003173568090424954),\n",
       " ('nCleanedJetsPt30', 0.0027823062710574937),\n",
       " ('Z2Flav', 0.0023475709162047603),\n",
       " ('nCleanedJetsPt30BTagged_bTagSF', 0.0014998369742419302),\n",
       " ('ExtraLepPhi(ExtraLepPt|0)', 0.0008477339419628301),\n",
       " ('ExtraLepPt(ExtraLepPt|0)', 0.0003477882838821867),\n",
       " ('nExtraLep', 6.521030322791e-05),\n",
       " ('ExtraLepEta(ExtraLepPt|0)', 4.347353548527334e-05)]"
      ]
     },
     "execution_count": 30,
     "metadata": {},
     "output_type": "execute_result"
    }
   ],
   "source": [
    "implist"
   ]
  },
  {
   "cell_type": "code",
   "execution_count": 27,
   "metadata": {
    "collapsed": false,
    "scrolled": false
   },
   "outputs": [],
   "source": [
    "%%capture\n",
    "fig, implist = plot_variables([(\"ttHl\", \"bck\")])"
   ]
  },
  {
   "cell_type": "code",
   "execution_count": 28,
   "metadata": {
    "collapsed": false
   },
   "outputs": [],
   "source": [
    "impdict = {convert_varname(entry[0]): [entry[1]] for entry in implist}\n",
    "impdict[\"discriminant\"] = \"D_ttHl_bkg_ML\"\n",
    "df = df.append(pd.DataFrame.from_dict(impdict))"
   ]
  },
  {
   "cell_type": "code",
   "execution_count": 29,
   "metadata": {
    "collapsed": false
   },
   "outputs": [],
   "source": [
    "append_variables(confhandler, impdict, threshold_fscore)"
   ]
  },
  {
   "cell_type": "code",
   "execution_count": 30,
   "metadata": {
    "collapsed": false
   },
   "outputs": [
    {
     "data": {
      "text/plain": [
       "[('D_VBF2j_ggH_ME', 0.06371046625366808),\n",
       " ('JetPt(JetPt|0)', 0.0629496793826758),\n",
       " ('JetPt(JetPt|1)', 0.0549505488533855),\n",
       " ('PFMET', 0.05205955874361482),\n",
       " ('ZZPt', 0.051581349853276816),\n",
       " ('JetEta(JetPt|0)', 0.04684273448538202),\n",
       " ('ZZEta', 0.04406042821432453),\n",
       " ('JetPhi(JetPt|1)', 0.043821323769155526),\n",
       " ('JetEta(JetPt|1)', 0.04288664275622215),\n",
       " ('Z1Pt', 0.04236496033039887),\n",
       " ('ZZPhi', 0.04108249103358331),\n",
       " ('Z2Mass', 0.040778176285186395),\n",
       " ('Z2Pt', 0.04056080860776003),\n",
       " ('Z1Mass', 0.040213020323877836),\n",
       " ('JetEta(JetPt|2)', 0.03977828496902511),\n",
       " ('JetPhi(JetPt|0)', 0.038647973046408),\n",
       " ('D_WHh_ZHh_ME', 0.03851755243995218),\n",
       " ('ZZMassErr', 0.037343766981849796),\n",
       " ('D_WHh_ggH_ME', 0.03219215302684491),\n",
       " ('JetPt(JetPt|2)', 0.02932289968481687),\n",
       " ('D_ZHh_ggH_ME', 0.028170850994457125),\n",
       " ('D_VBF2j_WHh_ME', 0.0232366047168786),\n",
       " ('D_VBF2j_ZHh_ME', 0.022954026736224323),\n",
       " ('JetPhi(JetPt|2)', 0.016824258232800784),\n",
       " ('JetPhi(JetPt|3)', 0.005368981632431258),\n",
       " ('JetPt(JetPt|3)', 0.004760352135637431),\n",
       " ('JetEta(JetPt|3)', 0.0039126181936746),\n",
       " ('Z1Flav', 0.003173568090424954),\n",
       " ('nCleanedJetsPt30', 0.0027823062710574937),\n",
       " ('Z2Flav', 0.0023475709162047603),\n",
       " ('nCleanedJetsPt30BTagged_bTagSF', 0.0014998369742419302),\n",
       " ('ExtraLepPhi(ExtraLepPt|0)', 0.0008477339419628301),\n",
       " ('ExtraLepPt(ExtraLepPt|0)', 0.0003477882838821867),\n",
       " ('nExtraLep', 6.521030322791e-05),\n",
       " ('ExtraLepEta(ExtraLepPt|0)', 4.347353548527334e-05)]"
      ]
     },
     "execution_count": 30,
     "metadata": {},
     "output_type": "execute_result"
    }
   ],
   "source": [
    "implist"
   ]
  },
  {
   "cell_type": "code",
   "execution_count": 27,
   "metadata": {
    "collapsed": false,
    "scrolled": false
   },
   "outputs": [],
   "source": [
    "%%capture\n",
    "fig, implist = plot_variables([(\"VBF2j\", \"ggH2j\")])"
   ]
  },
  {
   "cell_type": "code",
   "execution_count": 28,
   "metadata": {
    "collapsed": false
   },
   "outputs": [],
   "source": [
    "impdict = {convert_varname(entry[0]): [entry[1]] for entry in implist}\n",
    "impdict[\"discriminant\"] = \"D_VBF_ggH_2j_ML\"\n",
    "df = df.append(pd.DataFrame.from_dict(impdict))"
   ]
  },
  {
   "cell_type": "code",
   "execution_count": 29,
   "metadata": {
    "collapsed": false
   },
   "outputs": [],
   "source": [
    "append_variables(confhandler, impdict, threshold_fscore)"
   ]
  },
  {
   "cell_type": "code",
   "execution_count": 30,
   "metadata": {
    "collapsed": false
   },
   "outputs": [
    {
     "data": {
      "text/plain": [
       "[('D_VBF2j_ggH_ME', 0.06371046625366808),\n",
       " ('JetPt(JetPt|0)', 0.0629496793826758),\n",
       " ('JetPt(JetPt|1)', 0.0549505488533855),\n",
       " ('PFMET', 0.05205955874361482),\n",
       " ('ZZPt', 0.051581349853276816),\n",
       " ('JetEta(JetPt|0)', 0.04684273448538202),\n",
       " ('ZZEta', 0.04406042821432453),\n",
       " ('JetPhi(JetPt|1)', 0.043821323769155526),\n",
       " ('JetEta(JetPt|1)', 0.04288664275622215),\n",
       " ('Z1Pt', 0.04236496033039887),\n",
       " ('ZZPhi', 0.04108249103358331),\n",
       " ('Z2Mass', 0.040778176285186395),\n",
       " ('Z2Pt', 0.04056080860776003),\n",
       " ('Z1Mass', 0.040213020323877836),\n",
       " ('JetEta(JetPt|2)', 0.03977828496902511),\n",
       " ('JetPhi(JetPt|0)', 0.038647973046408),\n",
       " ('D_WHh_ZHh_ME', 0.03851755243995218),\n",
       " ('ZZMassErr', 0.037343766981849796),\n",
       " ('D_WHh_ggH_ME', 0.03219215302684491),\n",
       " ('JetPt(JetPt|2)', 0.02932289968481687),\n",
       " ('D_ZHh_ggH_ME', 0.028170850994457125),\n",
       " ('D_VBF2j_WHh_ME', 0.0232366047168786),\n",
       " ('D_VBF2j_ZHh_ME', 0.022954026736224323),\n",
       " ('JetPhi(JetPt|2)', 0.016824258232800784),\n",
       " ('JetPhi(JetPt|3)', 0.005368981632431258),\n",
       " ('JetPt(JetPt|3)', 0.004760352135637431),\n",
       " ('JetEta(JetPt|3)', 0.0039126181936746),\n",
       " ('Z1Flav', 0.003173568090424954),\n",
       " ('nCleanedJetsPt30', 0.0027823062710574937),\n",
       " ('Z2Flav', 0.0023475709162047603),\n",
       " ('nCleanedJetsPt30BTagged_bTagSF', 0.0014998369742419302),\n",
       " ('ExtraLepPhi(ExtraLepPt|0)', 0.0008477339419628301),\n",
       " ('ExtraLepPt(ExtraLepPt|0)', 0.0003477882838821867),\n",
       " ('nExtraLep', 6.521030322791e-05),\n",
       " ('ExtraLepEta(ExtraLepPt|0)', 4.347353548527334e-05)]"
      ]
     },
     "execution_count": 30,
     "metadata": {},
     "output_type": "execute_result"
    }
   ],
   "source": [
    "implist"
   ]
  },
  {
   "cell_type": "code",
   "execution_count": 31,
   "metadata": {
    "collapsed": false,
    "scrolled": false
   },
   "outputs": [],
   "source": [
    "%%capture\n",
    "fig, implist = plot_variables([(\"VBF1j\", \"ggH1j\")])"
   ]
  },
  {
   "cell_type": "code",
   "execution_count": 32,
   "metadata": {
    "collapsed": true
   },
   "outputs": [],
   "source": [
    "impdict = {convert_varname(entry[0]): [entry[1]] for entry in implist}\n",
    "impdict[\"discriminant\"] = \"D_VBF_ggH_1j_ML\"\n",
    "df = df.append(pd.DataFrame.from_dict(impdict))"
   ]
  },
  {
   "cell_type": "code",
   "execution_count": 33,
   "metadata": {
    "collapsed": true
   },
   "outputs": [],
   "source": [
    "append_variables(confhandler, impdict, threshold_fscore)"
   ]
  },
  {
   "cell_type": "code",
   "execution_count": 34,
   "metadata": {
    "collapsed": false
   },
   "outputs": [
    {
     "data": {
      "text/plain": [
       "[('JetEta(JetPt|0)', 0.20724951195061467),\n",
       " ('D_VBF1j_ggH_ME', 0.0985068326913945),\n",
       " ('JetPt(JetPt|0)', 0.09407481665171741),\n",
       " ('ZZPt', 0.08964280061204032),\n",
       " ('ZZEta', 0.08294201445681422),\n",
       " ('PFMET', 0.08067324434126523),\n",
       " ('Z1Pt', 0.056138869835909884),\n",
       " ('Z2Pt', 0.05117923283912837),\n",
       " ('Z1Mass', 0.04843560386218541),\n",
       " ('ZZMassErr', 0.04400358782250831),\n",
       " ('ZZPhi', 0.043423204769693455),\n",
       " ('JetPhi(JetPt|0)', 0.04083786207988181),\n",
       " ('Z2Mass', 0.04052128950561917),\n",
       " ('nCleanedJetsPt30BTagged_bTagSF', 0.00554002004959637),\n",
       " ('Z2Flav', 0.005065161188202396),\n",
       " ('ExtraLepPt(ExtraLepPt|0)', 0.003218487838336939),\n",
       " ('ExtraLepPhi(ExtraLepPt|0)', 0.002954677359784731),\n",
       " ('Z1Flav', 0.002374294306969873),\n",
       " ('ZZMass_masked', 0.001530100775602807),\n",
       " ('ExtraLepEta(ExtraLepPt|0)', 0.001371814488471482),\n",
       " ('nExtraLep', 0.00031657257426264974)]"
      ]
     },
     "execution_count": 34,
     "metadata": {},
     "output_type": "execute_result"
    }
   ],
   "source": [
    "implist"
   ]
  },
  {
   "cell_type": "code",
   "execution_count": 35,
   "metadata": {
    "collapsed": false,
    "scrolled": false
   },
   "outputs": [],
   "source": [
    "%%capture\n",
    "fig, implist = plot_variables([(\"VBF0j\", \"ggH0j\")])"
   ]
  },
  {
   "cell_type": "code",
   "execution_count": 36,
   "metadata": {
    "collapsed": true
   },
   "outputs": [],
   "source": [
    "impdict = {convert_varname(entry[0]): [entry[1]] for entry in implist}\n",
    "impdict[\"discriminant\"] = \"D_VBF_ggH_0j_ML\"\n",
    "df = df.append(pd.DataFrame.from_dict(impdict))"
   ]
  },
  {
   "cell_type": "code",
   "execution_count": 37,
   "metadata": {
    "collapsed": true
   },
   "outputs": [],
   "source": [
    "append_variables(confhandler, impdict, threshold_fscore)"
   ]
  },
  {
   "cell_type": "code",
   "execution_count": 38,
   "metadata": {
    "collapsed": false
   },
   "outputs": [
    {
     "data": {
      "text/plain": [
       "[('ZZPt', 0.17382291975125852),\n",
       " ('PFMET', 0.12652819493210374),\n",
       " ('ZZEta', 0.10647658530394687),\n",
       " ('Z1Pt', 0.10427683066119549),\n",
       " ('Z1Mass', 0.10169634925335251),\n",
       " ('ZZPhi', 0.10051186598417869),\n",
       " ('Z2Pt', 0.09302423960404417),\n",
       " ('Z2Mass', 0.09006303143110961),\n",
       " ('ZZMassErr', 0.08845551842294513),\n",
       " ('Z1Flav', 0.006345446084859765),\n",
       " ('Z2Flav', 0.0043149033377046404),\n",
       " ('ExtraLepEta(ExtraLepPt|0)', 0.0017767249037607344),\n",
       " ('ZZMass_masked', 0.0008883624518803672),\n",
       " ('nExtraLep', 0.0008883624518803672),\n",
       " ('ExtraLepPhi(ExtraLepPt|0)', 0.000803756504082237),\n",
       " ('ExtraLepPt(ExtraLepPt|0)', 0.0001269089216971953)]"
      ]
     },
     "execution_count": 38,
     "metadata": {},
     "output_type": "execute_result"
    }
   ],
   "source": [
    "implist"
   ]
  },
  {
   "cell_type": "code",
   "execution_count": 39,
   "metadata": {
    "collapsed": false,
    "scrolled": false
   },
   "outputs": [],
   "source": [
    "%%capture\n",
    "fig, implist = plot_variables([(\"WHh2j\", \"ggH2j\")])"
   ]
  },
  {
   "cell_type": "code",
   "execution_count": 40,
   "metadata": {
    "collapsed": true
   },
   "outputs": [],
   "source": [
    "impdict = {convert_varname(entry[0]): [entry[1]] for entry in implist}\n",
    "impdict[\"discriminant\"] = \"D_WHh_ggH_2j_ML\"\n",
    "df = df.append(pd.DataFrame.from_dict(impdict))"
   ]
  },
  {
   "cell_type": "code",
   "execution_count": 41,
   "metadata": {
    "collapsed": true
   },
   "outputs": [],
   "source": [
    "append_variables(confhandler, impdict, threshold_fscore)"
   ]
  },
  {
   "cell_type": "code",
   "execution_count": 42,
   "metadata": {
    "collapsed": false
   },
   "outputs": [
    {
     "data": {
      "text/plain": [
       "[('JetPt(JetPt|0)', 0.06072498628518378),\n",
       " ('ZZEta', 0.05551335612102798),\n",
       " ('JetPt(JetPt|1)', 0.055239059796598725),\n",
       " ('PFMET', 0.05243279740051483),\n",
       " ('D_VBF2j_ggH_ME', 0.051820905599864964),\n",
       " ('ZZPt', 0.050913617757522046),\n",
       " ('JetEta(JetPt|0)', 0.05015402793602566),\n",
       " ('D_WHh_ggH_ME', 0.04521669409629911),\n",
       " ('D_WHh_ZHh_ME', 0.04365531501877875),\n",
       " ('ZZPhi', 0.04222053424484112),\n",
       " ('Z1Pt', 0.04184073933409292),\n",
       " ('JetEta(JetPt|2)', 0.040870152339958644),\n",
       " ('JetPhi(JetPt|0)', 0.036797906908047434),\n",
       " ('Z2Pt', 0.03646031143182681),\n",
       " ('ZZMassErr', 0.03641811199729924),\n",
       " ('D_ZHh_ggH_ME', 0.03576402076212179),\n",
       " ('Z1Mass', 0.03485673291977887),\n",
       " ('JetEta(JetPt|1)', 0.034392539139975524),\n",
       " ('Z2Mass', 0.032577963455289696),\n",
       " ('JetPhi(JetPt|1)', 0.02989829936278854),\n",
       " ('JetPhi(JetPt|2)', 0.027113136683968433),\n",
       " ('JetPt(JetPt|2)', 0.025530657889184283),\n",
       " ('D_VBF2j_ZHh_ME', 0.023610583618179515),\n",
       " ('D_VBF2j_WHh_ME', 0.016689876355656833),\n",
       " ('JetEta(JetPt|3)', 0.008271089167405156),\n",
       " ('JetPt(JetPt|3)', 0.007511499345908765),\n",
       " ('JetPhi(JetPt|3)', 0.007300502173270878),\n",
       " ('nCleanedJetsPt30', 0.004241043170021522),\n",
       " ('ZZMass_masked', 0.0035025530657889184),\n",
       " ('Z2Flav', 0.0028695615478752583),\n",
       " ('nCleanedJetsPt30BTagged_bTagSF', 0.002405367768071908),\n",
       " ('Z1Flav', 0.002088872009115078),\n",
       " ('ExtraLepPt(ExtraLepPt|0)', 0.0010338861459256445),\n",
       " ('nExtraLep', 6.3299151791366e-05)]"
      ]
     },
     "execution_count": 42,
     "metadata": {},
     "output_type": "execute_result"
    }
   ],
   "source": [
    "implist"
   ]
  },
  {
   "cell_type": "code",
   "execution_count": 43,
   "metadata": {
    "collapsed": false,
    "scrolled": false
   },
   "outputs": [],
   "source": [
    "%%capture\n",
    "fig, implist = plot_variables([(\"WHh1j\", \"ggH1j\")])"
   ]
  },
  {
   "cell_type": "code",
   "execution_count": 44,
   "metadata": {
    "collapsed": true
   },
   "outputs": [],
   "source": [
    "impdict = {convert_varname(entry[0]): [entry[1]] for entry in implist}\n",
    "impdict[\"discriminant\"] = \"D_WHh_ggH_1j_ML\"\n",
    "df = df.append(pd.DataFrame.from_dict(impdict))"
   ]
  },
  {
   "cell_type": "code",
   "execution_count": 45,
   "metadata": {
    "collapsed": true
   },
   "outputs": [],
   "source": [
    "append_variables(confhandler, impdict, threshold_fscore)"
   ]
  },
  {
   "cell_type": "code",
   "execution_count": 46,
   "metadata": {
    "collapsed": false
   },
   "outputs": [
    {
     "data": {
      "text/plain": [
       "[('JetEta(JetPt|0)', 0.14258555133079848),\n",
       " ('ZZEta', 0.1153041825095057),\n",
       " ('JetPt(JetPt|0)', 0.0969819391634981),\n",
       " ('D_VBF1j_ggH_ME', 0.0783032319391635),\n",
       " ('ZZPt', 0.07412072243346007),\n",
       " ('PFMET', 0.07281368821292776),\n",
       " ('ZZMassErr', 0.06670627376425856),\n",
       " ('Z1Pt', 0.058911596958174904),\n",
       " ('Z2Mass', 0.0587690114068441),\n",
       " ('ZZPhi', 0.05805608365019011),\n",
       " ('Z1Mass', 0.05796102661596958),\n",
       " ('Z2Pt', 0.05432509505703422),\n",
       " ('JetPhi(JetPt|0)', 0.050071292775665396),\n",
       " ('Z2Flav', 0.003873574144486692),\n",
       " ('nCleanedJetsPt30BTagged_bTagSF', 0.0028517110266159697),\n",
       " ('Z1Flav', 0.002756653992395437),\n",
       " ('ExtraLepPt(ExtraLepPt|0)', 0.0025427756653992393),\n",
       " ('ZZMass_masked', 0.001473384030418251),\n",
       " ('ExtraLepEta(ExtraLepPt|0)', 0.0013783269961977185),\n",
       " ('nExtraLep', 0.00021387832699619773)]"
      ]
     },
     "execution_count": 46,
     "metadata": {},
     "output_type": "execute_result"
    }
   ],
   "source": [
    "implist"
   ]
  },
  {
   "cell_type": "code",
   "execution_count": 47,
   "metadata": {
    "collapsed": false,
    "scrolled": false
   },
   "outputs": [],
   "source": [
    "%%capture\n",
    "fig, implist = plot_variables([(\"WHh0j\", \"ggH0j\")])"
   ]
  },
  {
   "cell_type": "code",
   "execution_count": 48,
   "metadata": {
    "collapsed": true
   },
   "outputs": [],
   "source": [
    "impdict = {convert_varname(entry[0]): [entry[1]] for entry in implist}\n",
    "impdict[\"discriminant\"] = \"D_WHh_ggH_0j_ML\"\n",
    "df = df.append(pd.DataFrame.from_dict(impdict))"
   ]
  },
  {
   "cell_type": "code",
   "execution_count": 49,
   "metadata": {
    "collapsed": true
   },
   "outputs": [],
   "source": [
    "append_variables(confhandler, impdict, threshold_fscore)"
   ]
  },
  {
   "cell_type": "code",
   "execution_count": 50,
   "metadata": {
    "collapsed": false
   },
   "outputs": [
    {
     "data": {
      "text/plain": [
       "[('ZZPt', 0.169536),\n",
       " ('ZZEta', 0.122752),\n",
       " ('PFMET', 0.119552),\n",
       " ('ZZMassErr', 0.113792),\n",
       " ('Z2Mass', 0.09472),\n",
       " ('Z1Pt', 0.093376),\n",
       " ('Z1Mass', 0.092416),\n",
       " ('ZZPhi', 0.09216),\n",
       " ('Z2Pt', 0.081408),\n",
       " ('ZZMass_masked', 0.006144),\n",
       " ('Z1Flav', 0.004672),\n",
       " ('Z2Flav', 0.004288),\n",
       " ('ExtraLepPhi(ExtraLepPt|0)', 0.00416),\n",
       " ('ExtraLepPt(ExtraLepPt|0)', 0.000384),\n",
       " ('nExtraLep', 0.00032),\n",
       " ('ExtraLepEta(ExtraLepPt|0)', 0.00032)]"
      ]
     },
     "execution_count": 50,
     "metadata": {},
     "output_type": "execute_result"
    }
   ],
   "source": [
    "implist"
   ]
  },
  {
   "cell_type": "code",
   "execution_count": 51,
   "metadata": {
    "collapsed": false,
    "scrolled": false
   },
   "outputs": [],
   "source": [
    "%%capture\n",
    "fig, implist = plot_variables([(\"ZHh2j\", \"ggH2j\")])"
   ]
  },
  {
   "cell_type": "code",
   "execution_count": 52,
   "metadata": {
    "collapsed": true
   },
   "outputs": [],
   "source": [
    "impdict = {convert_varname(entry[0]): [entry[1]] for entry in implist}\n",
    "impdict[\"discriminant\"] = \"D_ZHh_ggH_2j_ML\"\n",
    "df = df.append(pd.DataFrame.from_dict(impdict))"
   ]
  },
  {
   "cell_type": "code",
   "execution_count": 53,
   "metadata": {
    "collapsed": true
   },
   "outputs": [],
   "source": [
    "append_variables(confhandler, impdict, threshold_fscore)"
   ]
  },
  {
   "cell_type": "code",
   "execution_count": 54,
   "metadata": {
    "collapsed": false
   },
   "outputs": [
    {
     "data": {
      "text/plain": [
       "[('JetPt(JetPt|0)', 0.057621521208159894),\n",
       " ('D_ZHh_ggH_ME', 0.055351061268017476),\n",
       " ('D_VBF2j_ggH_ME', 0.0544566376552341),\n",
       " ('JetPt(JetPt|1)', 0.05339020950153084),\n",
       " ('ZZPt', 0.051945371357803846),\n",
       " ('JetEta(JetPt|0)', 0.048058068733014554),\n",
       " ('ZZEta', 0.047782861467542743),\n",
       " ('Z1Pt', 0.04774846055935877),\n",
       " ('Z2Mass', 0.04255392342357838),\n",
       " ('D_WHh_ZHh_ME', 0.04100588255529946),\n",
       " ('JetEta(JetPt|1)', 0.04031786439161994),\n",
       " ('ZZPhi', 0.03897622897244487),\n",
       " ('JetEta(JetPt|2)', 0.03708417902232619),\n",
       " ('JetPhi(JetPt|0)', 0.03615535450135884),\n",
       " ('PFMET', 0.03553613815404727),\n",
       " ('nCleanedJetsPt30BTagged_bTagSF', 0.03488252089855172),\n",
       " ('D_WHh_ggH_ME', 0.03371289002029654),\n",
       " ('Z2Pt', 0.032680862774777254),\n",
       " ('Z1Mass', 0.0308920155492105),\n",
       " ('JetPhi(JetPt|1)', 0.029240771956379648),\n",
       " ('ZZMassErr', 0.027967938353572534),\n",
       " ('JetPhi(JetPt|2)', 0.026660703842581443),\n",
       " ('JetPt(JetPt|2)', 0.023874230279679384),\n",
       " ('D_VBF2j_WHh_ME', 0.02095015308404142),\n",
       " ('D_VBF2j_ZHh_ME', 0.01606522412191682),\n",
       " ('JetPt(JetPt|3)', 0.012177921497127524),\n",
       " ('JetPhi(JetPt|3)', 0.00897863703601775),\n",
       " ('JetEta(JetPt|3)', 0.0069145825449791875),\n",
       " ('nCleanedJetsPt30', 0.0033368880938456774),\n",
       " ('Z1Flav', 0.002304860848326396),\n",
       " ('Z2Flav', 0.0013760363273590422)]"
      ]
     },
     "execution_count": 54,
     "metadata": {},
     "output_type": "execute_result"
    }
   ],
   "source": [
    "implist"
   ]
  },
  {
   "cell_type": "code",
   "execution_count": 55,
   "metadata": {
    "collapsed": false,
    "scrolled": false
   },
   "outputs": [],
   "source": [
    "%%capture\n",
    "fig, implist = plot_variables([(\"ZHh1j\", \"ggH1j\")])"
   ]
  },
  {
   "cell_type": "code",
   "execution_count": 56,
   "metadata": {
    "collapsed": true
   },
   "outputs": [],
   "source": [
    "impdict = {convert_varname(entry[0]): [entry[1]] for entry in implist}\n",
    "impdict[\"discriminant\"] = \"D_ZHh_ggH_1j_ML\"\n",
    "df = df.append(pd.DataFrame.from_dict(impdict))"
   ]
  },
  {
   "cell_type": "code",
   "execution_count": 57,
   "metadata": {
    "collapsed": true
   },
   "outputs": [],
   "source": [
    "append_variables(confhandler, impdict, threshold_fscore)"
   ]
  },
  {
   "cell_type": "code",
   "execution_count": 58,
   "metadata": {
    "collapsed": false
   },
   "outputs": [
    {
     "data": {
      "text/plain": [
       "[('ZZEta', 0.12199506668338977),\n",
       " ('JetEta(JetPt|0)', 0.1219532589155065),\n",
       " ('D_VBF1j_ggH_ME', 0.0972866758643756),\n",
       " ('JetPt(JetPt|0)', 0.09473640202349597),\n",
       " ('ZZPhi', 0.07638279192273925),\n",
       " ('ZZPt', 0.07425059576069233),\n",
       " ('PFMET', 0.06124837994899452),\n",
       " ('Z1Mass', 0.06024499351979598),\n",
       " ('Z2Mass', 0.05819641289351562),\n",
       " ('ZZMassErr', 0.05552071574898616),\n",
       " ('Z1Pt', 0.052176094318324345),\n",
       " ('JetPhi(JetPt|0)', 0.0497930515489778),\n",
       " ('Z2Pt', 0.0465738534219658),\n",
       " ('nCleanedJetsPt30BTagged_bTagSF', 0.01216606045403236),\n",
       " ('ExtraLepPt(ExtraLepPt|0)', 0.0038045068773778167),\n",
       " ('Z2Flav', 0.0032610058948952716),\n",
       " ('ZZMass_masked', 0.0031355825912454532),\n",
       " ('nExtraLep', 0.002884735983945817),\n",
       " ('ExtraLepPhi(ExtraLepPt|0)', 0.001755926251097454),\n",
       " ('ExtraLepEta(ExtraLepPt|0)', 0.0014214641080312722),\n",
       " ('Z1Flav', 0.0012124252686149086)]"
      ]
     },
     "execution_count": 58,
     "metadata": {},
     "output_type": "execute_result"
    }
   ],
   "source": [
    "implist"
   ]
  },
  {
   "cell_type": "code",
   "execution_count": 59,
   "metadata": {
    "collapsed": false,
    "scrolled": false
   },
   "outputs": [],
   "source": [
    "%%capture\n",
    "fig, implist = plot_variables([(\"ZHh0j\", \"ggH0j\")])"
   ]
  },
  {
   "cell_type": "code",
   "execution_count": 60,
   "metadata": {
    "collapsed": true
   },
   "outputs": [],
   "source": [
    "impdict = {convert_varname(entry[0]): [entry[1]] for entry in implist}\n",
    "impdict[\"discriminant\"] = \"D_ZHh_ggH_0j_ML\"\n",
    "df = df.append(pd.DataFrame.from_dict(impdict))"
   ]
  },
  {
   "cell_type": "code",
   "execution_count": 61,
   "metadata": {
    "collapsed": true
   },
   "outputs": [],
   "source": [
    "append_variables(confhandler, impdict, threshold_fscore)"
   ]
  },
  {
   "cell_type": "code",
   "execution_count": 62,
   "metadata": {
    "collapsed": false
   },
   "outputs": [
    {
     "data": {
      "text/plain": [
       "[('ZZPt', 0.15282898919262555),\n",
       " ('Z2Mass', 0.13337571519389702),\n",
       " ('ZZPhi', 0.11341385886840433),\n",
       " ('Z2Pt', 0.10133502860775588),\n",
       " ('ZZEta', 0.10006357279084552),\n",
       " ('PFMET', 0.09675778766687858),\n",
       " ('ZZMassErr', 0.09548633184996821),\n",
       " ('Z1Pt', 0.09218054672600128),\n",
       " ('Z1Mass', 0.09065479974570884),\n",
       " ('Z1Flav', 0.009663064208518753),\n",
       " ('ExtraLepPt(ExtraLepPt|0)', 0.0052129688493324855),\n",
       " ('Z2Flav', 0.003687221869040051),\n",
       " ('ZZMass_masked', 0.0024157660521296883),\n",
       " ('ExtraLepPhi(ExtraLepPt|0)', 0.001652892561983471),\n",
       " ('ExtraLepEta(ExtraLepPt|0)', 0.0012714558169103624)]"
      ]
     },
     "execution_count": 62,
     "metadata": {},
     "output_type": "execute_result"
    }
   ],
   "source": [
    "implist"
   ]
  },
  {
   "cell_type": "code",
   "execution_count": 63,
   "metadata": {
    "collapsed": false,
    "scrolled": false
   },
   "outputs": [],
   "source": [
    "%%capture\n",
    "fig, implist = plot_variables([(\"WHh2j\", \"ZHh2j\")])"
   ]
  },
  {
   "cell_type": "code",
   "execution_count": 64,
   "metadata": {
    "collapsed": true
   },
   "outputs": [],
   "source": [
    "impdict = {convert_varname(entry[0]): [entry[1]] for entry in implist}\n",
    "impdict[\"discriminant\"] = \"D_WHh_ZHh_2j_ML\"\n",
    "df = df.append(pd.DataFrame.from_dict(impdict))"
   ]
  },
  {
   "cell_type": "code",
   "execution_count": 65,
   "metadata": {
    "collapsed": true
   },
   "outputs": [],
   "source": [
    "append_variables(confhandler, impdict, threshold_fscore)"
   ]
  },
  {
   "cell_type": "code",
   "execution_count": 66,
   "metadata": {
    "collapsed": false
   },
   "outputs": [
    {
     "data": {
      "text/plain": [
       "[('D_WHh_ZHh_ME', 0.07026611720332472),\n",
       " ('JetPhi(JetPt|1)', 0.05448068729482433),\n",
       " ('PFMET', 0.052105888105049944),\n",
       " ('Z2Mass', 0.04931200670531536),\n",
       " ('Z1Mass', 0.04791506600544807),\n",
       " ('D_WHh_ggH_ME', 0.045260878675700215),\n",
       " ('ZZMassErr', 0.045191031640706855),\n",
       " ('JetPt(JetPt|1)', 0.04330516169588601),\n",
       " ('JetEta(JetPt|0)', 0.04302577355591255),\n",
       " ('JetEta(JetPt|1)', 0.040511280296151427),\n",
       " ('JetPhi(JetPt|0)', 0.03981280994621778),\n",
       " ('Z1Pt', 0.039254033666270866),\n",
       " ('Z2Pt', 0.038485716281343854),\n",
       " ('JetPt(JetPt|0)', 0.038415869246350494),\n",
       " ('ZZEta', 0.03813648110637703),\n",
       " ('ZZPhi', 0.033177341621848155),\n",
       " ('JetPhi(JetPt|2)', 0.03219948313194105),\n",
       " ('D_ZHh_ggH_ME', 0.031221624642033947),\n",
       " ('nCleanedJetsPt30BTagged_bTagSF', 0.028427743242299363),\n",
       " ('JetPt(JetPt|2)', 0.027519731787385624),\n",
       " ('ZZPt', 0.027310190682405533),\n",
       " ('D_VBF2j_WHh_ME', 0.025983097017531605),\n",
       " ('D_VBF2j_ggH_ME', 0.024446462247677585),\n",
       " ('D_VBF2j_ZHh_ME', 0.023049521547810297),\n",
       " ('JetEta(JetPt|2)', 0.01711252357337431),\n",
       " ('JetPhi(JetPt|3)', 0.01327093664873926),\n",
       " ('nCleanedJetsPt30', 0.009848431934064398),\n",
       " ('JetEta(JetPt|3)', 0.008591185304183837),\n",
       " ('Z1Flav', 0.006565621289376266),\n",
       " ('JetPt(JetPt|3)', 0.004190822099601872),\n",
       " ('Z2Flav', 0.0013969406998672906),\n",
       " ('ExtraLepPt(ExtraLepPt|0)', 0.0002095411049800936)]"
      ]
     },
     "execution_count": 66,
     "metadata": {},
     "output_type": "execute_result"
    }
   ],
   "source": [
    "implist"
   ]
  },
  {
   "cell_type": "code",
   "execution_count": 67,
   "metadata": {
    "collapsed": false,
    "scrolled": false
   },
   "outputs": [],
   "source": [
    "%%capture\n",
    "fig, implist = plot_variables([(\"WHh1j\", \"ZHh1j\")])"
   ]
  },
  {
   "cell_type": "code",
   "execution_count": 68,
   "metadata": {
    "collapsed": true
   },
   "outputs": [],
   "source": [
    "impdict = {convert_varname(entry[0]): [entry[1]] for entry in implist}\n",
    "impdict[\"discriminant\"] = \"D_WHh_ZHh_1j_ML\"\n",
    "df = df.append(pd.DataFrame.from_dict(impdict))"
   ]
  },
  {
   "cell_type": "code",
   "execution_count": 69,
   "metadata": {
    "collapsed": true
   },
   "outputs": [],
   "source": [
    "append_variables(confhandler, impdict, threshold_fscore)"
   ]
  },
  {
   "cell_type": "code",
   "execution_count": 70,
   "metadata": {
    "collapsed": false
   },
   "outputs": [
    {
     "data": {
      "text/plain": [
       "[('ZZMassErr', 0.09783308302939284),\n",
       " ('Z2Mass', 0.09343488521776443),\n",
       " ('PFMET', 0.09246942716155332),\n",
       " ('ZZEta', 0.0836730315382965),\n",
       " ('JetPt(JetPt|0)', 0.08056211113494958),\n",
       " ('JetEta(JetPt|0)', 0.07294571980261746),\n",
       " ('Z1Mass', 0.07219480798111994),\n",
       " ('JetPhi(JetPt|0)', 0.06994207251662733),\n",
       " ('Z2Pt', 0.06747479081742115),\n",
       " ('ZZPt', 0.06672387899592362),\n",
       " ('ZZPhi', 0.06522205535292856),\n",
       " ('D_VBF1j_ggH_ME', 0.05975112636773225),\n",
       " ('Z1Pt', 0.04644925981549024),\n",
       " ('nCleanedJetsPt30BTagged_bTagSF', 0.018450976185367948),\n",
       " ('ExtraLepPt(ExtraLepPt|0)', 0.0037545591074876635),\n",
       " ('Z1Flav', 0.003325466638060502),\n",
       " ('Z2Flav', 0.003003647285990131),\n",
       " ('ZZMass_masked', 0.0025745548165629693),\n",
       " ('nExtraLep', 0.00010727311735679038),\n",
       " ('ExtraLepPhi(ExtraLepPt|0)', 0.00010727311735679038)]"
      ]
     },
     "execution_count": 70,
     "metadata": {},
     "output_type": "execute_result"
    }
   ],
   "source": [
    "implist"
   ]
  },
  {
   "cell_type": "code",
   "execution_count": 71,
   "metadata": {
    "collapsed": false,
    "scrolled": false
   },
   "outputs": [],
   "source": [
    "%%capture\n",
    "fig, implist = plot_variables([(\"WHh0j\", \"ZHh0j\")])"
   ]
  },
  {
   "cell_type": "code",
   "execution_count": 72,
   "metadata": {
    "collapsed": true
   },
   "outputs": [],
   "source": [
    "impdict = {convert_varname(entry[0]): [entry[1]] for entry in implist}\n",
    "impdict[\"discriminant\"] = \"D_WHh_ZHh_0j_ML\"\n",
    "df = df.append(pd.DataFrame.from_dict(impdict))"
   ]
  },
  {
   "cell_type": "code",
   "execution_count": 73,
   "metadata": {
    "collapsed": true
   },
   "outputs": [],
   "source": [
    "append_variables(confhandler, impdict, threshold_fscore)"
   ]
  },
  {
   "cell_type": "code",
   "execution_count": 74,
   "metadata": {
    "collapsed": false
   },
   "outputs": [
    {
     "data": {
      "text/plain": [
       "[('PFMET', 0.18597560975609756),\n",
       " ('ZZPhi', 0.1524390243902439),\n",
       " ('ZZPt', 0.1402439024390244),\n",
       " ('ZZEta', 0.125),\n",
       " ('Z1Pt', 0.11890243902439024),\n",
       " ('Z2Pt', 0.07926829268292683),\n",
       " ('Z2Mass', 0.07317073170731707),\n",
       " ('Z1Mass', 0.06402439024390244),\n",
       " ('ZZMassErr', 0.04573170731707317),\n",
       " ('nExtraLep', 0.01524390243902439)]"
      ]
     },
     "execution_count": 74,
     "metadata": {},
     "output_type": "execute_result"
    }
   ],
   "source": [
    "implist"
   ]
  },
  {
   "cell_type": "code",
   "execution_count": 75,
   "metadata": {
    "collapsed": false,
    "scrolled": false
   },
   "outputs": [],
   "source": [
    "%%capture\n",
    "fig, implist = plot_variables([(\"VBF2j\", \"WHh2j\")])"
   ]
  },
  {
   "cell_type": "code",
   "execution_count": 76,
   "metadata": {
    "collapsed": true
   },
   "outputs": [],
   "source": [
    "impdict = {convert_varname(entry[0]): [entry[1]] for entry in implist}\n",
    "impdict[\"discriminant\"] = \"D_VBF_WHh_2j_ML\"\n",
    "df = df.append(pd.DataFrame.from_dict(impdict))"
   ]
  },
  {
   "cell_type": "code",
   "execution_count": 77,
   "metadata": {
    "collapsed": true
   },
   "outputs": [],
   "source": [
    "append_variables(confhandler, impdict, threshold_fscore)"
   ]
  },
  {
   "cell_type": "code",
   "execution_count": 78,
   "metadata": {
    "collapsed": false
   },
   "outputs": [
    {
     "data": {
      "text/plain": [
       "[('D_VBF2j_ggH_ME', 0.06844674530514393),\n",
       " ('JetEta(JetPt|2)', 0.06769973767871723),\n",
       " ('JetEta(JetPt|0)', 0.06307871375710092),\n",
       " ('PFMET', 0.05029272275593697),\n",
       " ('JetEta(JetPt|1)', 0.048034327606274865),\n",
       " ('ZZEta', 0.046019144241960984),\n",
       " ('JetPt(JetPt|2)', 0.044316661744523395),\n",
       " ('JetPt(JetPt|0)', 0.04429928947414138),\n",
       " ('D_WHh_ZHh_ME', 0.04363914319962476),\n",
       " ('D_WHh_ggH_ME', 0.04176293799836701),\n",
       " ('JetPt(JetPt|1)', 0.03887914111495231),\n",
       " ('Z2Mass', 0.03781943262164932),\n",
       " ('Z2Pt', 0.0369334468321665),\n",
       " ('ZZPhi', 0.03589111060924552),\n",
       " ('Z1Pt', 0.035647898823897295),\n",
       " ('ZZPt', 0.035005124819762694),\n",
       " ('Z1Mass', 0.03444921216753818),\n",
       " ('JetPhi(JetPt|0)', 0.03417125584142591),\n",
       " ('D_ZHh_ggH_ME', 0.030175633653562184),\n",
       " ('ZZMassErr', 0.030054027760888072),\n",
       " ('JetPhi(JetPt|1)', 0.026492712332574744),\n",
       " ('D_VBF2j_ZHh_ME', 0.024373295345968764),\n",
       " ('D_VBF2j_WHh_ME', 0.019092125149835833),\n",
       " ('JetPhi(JetPt|2)', 0.018397234334555184),\n",
       " ('JetEta(JetPt|3)', 0.010788179907232076),\n",
       " ('JetPt(JetPt|3)', 0.008599273839098032),\n",
       " ('JetPhi(JetPt|3)', 0.007244236749300766),\n",
       " ('nCleanedJetsPt30', 0.0050900752219307545),\n",
       " ('nCleanedJetsPt30BTagged_bTagSF', 0.004586279380852283),\n",
       " ('Z2Flav', 0.003839271754425586),\n",
       " ('ZZMass_masked', 0.0021367892569879956),\n",
       " ('Z1Flav', 0.0015113875232354117),\n",
       " ('ExtraLepPt(ExtraLepPt|0)', 0.0005559126522245192),\n",
       " ('nExtraLep', 0.0002605840557302434),\n",
       " ('ExtraLepPhi(ExtraLepPt|0)', 0.0002605840557302434),\n",
       " ('ExtraLepEta(ExtraLepPt|0)', 0.00015635043343814603)]"
      ]
     },
     "execution_count": 78,
     "metadata": {},
     "output_type": "execute_result"
    }
   ],
   "source": [
    "implist"
   ]
  },
  {
   "cell_type": "code",
   "execution_count": 79,
   "metadata": {
    "collapsed": false,
    "scrolled": false
   },
   "outputs": [],
   "source": [
    "%%capture\n",
    "fig, implist = plot_variables([(\"VBF1j\", \"WHh1j\")])"
   ]
  },
  {
   "cell_type": "code",
   "execution_count": 80,
   "metadata": {
    "collapsed": true
   },
   "outputs": [],
   "source": [
    "impdict = {convert_varname(entry[0]): [entry[1]] for entry in implist}\n",
    "impdict[\"discriminant\"] = \"D_VBF_WHh_1j_ML\"\n",
    "df = df.append(pd.DataFrame.from_dict(impdict))"
   ]
  },
  {
   "cell_type": "code",
   "execution_count": 81,
   "metadata": {
    "collapsed": true
   },
   "outputs": [],
   "source": [
    "append_variables(confhandler, impdict, threshold_fscore)"
   ]
  },
  {
   "cell_type": "code",
   "execution_count": 82,
   "metadata": {
    "collapsed": false
   },
   "outputs": [
    {
     "data": {
      "text/plain": [
       "[('JetEta(JetPt|0)', 0.16556324859756405),\n",
       " ('ZZEta', 0.14683883357760147),\n",
       " ('JetPt(JetPt|0)', 0.10974377116288472),\n",
       " ('PFMET', 0.0697932986304139),\n",
       " ('D_VBF1j_ggH_ME', 0.06446151513620053),\n",
       " ('JetPhi(JetPt|0)', 0.06276848435841714),\n",
       " ('ZZPt', 0.06110072269672007),\n",
       " ('ZZMassErr', 0.055768939202506695),\n",
       " ('ZZPhi', 0.05306514378127053),\n",
       " ('Z2Pt', 0.052130186486076716),\n",
       " ('Z1Pt', 0.05205437913781776),\n",
       " ('Z2Mass', 0.051346843887400816),\n",
       " ('Z1Mass', 0.048819932278768886),\n",
       " ('nCleanedJetsPt30BTagged_bTagSF', 0.002779602769495123),\n",
       " ('Z2Flav', 0.002122605751250821),\n",
       " ('Z1Flav', 0.0014908778490928388),\n",
       " ('ExtraLepPt(ExtraLepPt|0)', 0.0001010764643452772),\n",
       " ('nExtraLep', 5.05382321726386e-05)]"
      ]
     },
     "execution_count": 82,
     "metadata": {},
     "output_type": "execute_result"
    }
   ],
   "source": [
    "implist"
   ]
  },
  {
   "cell_type": "code",
   "execution_count": 83,
   "metadata": {
    "collapsed": false,
    "scrolled": false
   },
   "outputs": [],
   "source": [
    "%%capture\n",
    "fig, implist = plot_variables([(\"VBF0j\", \"WHh0j\")])"
   ]
  },
  {
   "cell_type": "code",
   "execution_count": 84,
   "metadata": {
    "collapsed": true
   },
   "outputs": [],
   "source": [
    "impdict = {convert_varname(entry[0]): [entry[1]] for entry in implist}\n",
    "impdict[\"discriminant\"] = \"D_VBF_WHh_0j_ML\"\n",
    "df = df.append(pd.DataFrame.from_dict(impdict))"
   ]
  },
  {
   "cell_type": "code",
   "execution_count": 85,
   "metadata": {
    "collapsed": true
   },
   "outputs": [],
   "source": [
    "append_variables(confhandler, impdict, threshold_fscore)"
   ]
  },
  {
   "cell_type": "code",
   "execution_count": 86,
   "metadata": {
    "collapsed": false
   },
   "outputs": [
    {
     "data": {
      "text/plain": [
       "[('ZZEta', 0.1443691786621507),\n",
       " ('ZZMassErr', 0.1339260513688964),\n",
       " ('PFMET', 0.13279706463449054),\n",
       " ('ZZPhi', 0.1100762066045724),\n",
       " ('Z1Mass', 0.10556025966694892),\n",
       " ('Z2Mass', 0.09187129551227773),\n",
       " ('Z2Pt', 0.08975444538526672),\n",
       " ('Z1Pt', 0.08947219870166526),\n",
       " ('ZZPt', 0.08763759525825572),\n",
       " ('Z2Flav', 0.006209427039232289),\n",
       " ('nExtraLep', 0.00183460344340954),\n",
       " ('ExtraLepPhi(ExtraLepPt|0)', 0.0015523567598080723),\n",
       " ('ExtraLepEta(ExtraLepPt|0)', 0.0015523567598080723),\n",
       " ('Z1Flav', 0.0014112334180073384),\n",
       " ('ExtraLepPt(ExtraLepPt|0)', 0.0012701100762066045),\n",
       " ('ZZMass_masked', 0.0007056167090036692)]"
      ]
     },
     "execution_count": 86,
     "metadata": {},
     "output_type": "execute_result"
    }
   ],
   "source": [
    "implist"
   ]
  },
  {
   "cell_type": "code",
   "execution_count": 87,
   "metadata": {
    "collapsed": false,
    "scrolled": false
   },
   "outputs": [],
   "source": [
    "%%capture\n",
    "fig, implist = plot_variables([(\"VBF2j\", \"ZHh2j\")])"
   ]
  },
  {
   "cell_type": "code",
   "execution_count": 88,
   "metadata": {
    "collapsed": true
   },
   "outputs": [],
   "source": [
    "impdict = {convert_varname(entry[0]): [entry[1]] for entry in implist}\n",
    "impdict[\"discriminant\"] = \"D_VBF_ZHh_2j_ML\"\n",
    "df = df.append(pd.DataFrame.from_dict(impdict))"
   ]
  },
  {
   "cell_type": "code",
   "execution_count": 89,
   "metadata": {
    "collapsed": true
   },
   "outputs": [],
   "source": [
    "append_variables(confhandler, impdict, threshold_fscore)"
   ]
  },
  {
   "cell_type": "code",
   "execution_count": 90,
   "metadata": {
    "collapsed": false
   },
   "outputs": [
    {
     "data": {
      "text/plain": [
       "[('JetEta(JetPt|2)', 0.07592682531973449),\n",
       " ('D_VBF2j_ggH_ME', 0.06964006259780908),\n",
       " ('JetEta(JetPt|0)', 0.06278668177648265),\n",
       " ('ZZEta', 0.061248718363822785),\n",
       " ('PFMET', 0.047784793049484645),\n",
       " ('D_ZHh_ggH_ME', 0.04454697533862177),\n",
       " ('JetEta(JetPt|1)', 0.042037666612703035),\n",
       " ('D_WHh_ZHh_ME', 0.038934757973126115),\n",
       " ('JetPt(JetPt|2)', 0.038206248988181965),\n",
       " ('Z2Mass', 0.035562031190977283),\n",
       " ('Z1Mass', 0.034131995035346176),\n",
       " ('nCleanedJetsPt30BTagged_bTagSF', 0.03302574065080136),\n",
       " ('D_VBF2j_ZHh_ME', 0.03283686795100103),\n",
       " ('D_VBF2j_WHh_ME', 0.0317575953807134),\n",
       " ('Z2Pt', 0.03154174086665587),\n",
       " ('ZZMassErr', 0.03135286816685554),\n",
       " ('JetPhi(JetPt|0)', 0.030678322810425773),\n",
       " ('JetPhi(JetPt|1)', 0.03011170471102477),\n",
       " ('Z1Pt', 0.02892450488370838),\n",
       " ('JetPt(JetPt|1)', 0.028519777669850522),\n",
       " ('ZZPt', 0.027413523285305705),\n",
       " ('JetPt(JetPt|0)', 0.027062759699962226),\n",
       " ('ZZPhi', 0.025848578058388645),\n",
       " ('D_WHh_ggH_ME', 0.02479628730235821),\n",
       " ('JetPhi(JetPt|2)', 0.021855269548324428),\n",
       " ('JetEta(JetPt|3)', 0.01365279801413847),\n",
       " ('JetPt(JetPt|3)', 0.013248070800280612),\n",
       " ('JetPhi(JetPt|3)', 0.00831039879121472),\n",
       " ('nCleanedJetsPt30', 0.003939344881549836),\n",
       " ('Z1Flav', 0.0026172359829474932),\n",
       " ('Z2Flav', 0.0013760725271167234),\n",
       " ('ExtraLepEta(ExtraLepPt|0)', 0.00032378177108628785)]"
      ]
     },
     "execution_count": 90,
     "metadata": {},
     "output_type": "execute_result"
    }
   ],
   "source": [
    "implist"
   ]
  },
  {
   "cell_type": "code",
   "execution_count": 91,
   "metadata": {
    "collapsed": false,
    "scrolled": false
   },
   "outputs": [],
   "source": [
    "%%capture\n",
    "fig, implist = plot_variables([(\"VBF1j\", \"ZHh1j\")])"
   ]
  },
  {
   "cell_type": "code",
   "execution_count": 92,
   "metadata": {
    "collapsed": true
   },
   "outputs": [],
   "source": [
    "impdict = {convert_varname(entry[0]): [entry[1]] for entry in implist}\n",
    "impdict[\"discriminant\"] = \"D_VBF_ZHh_1j_ML\"\n",
    "df = df.append(pd.DataFrame.from_dict(impdict))"
   ]
  },
  {
   "cell_type": "code",
   "execution_count": 93,
   "metadata": {
    "collapsed": true
   },
   "outputs": [],
   "source": [
    "append_variables(confhandler, impdict, threshold_fscore)"
   ]
  },
  {
   "cell_type": "code",
   "execution_count": 94,
   "metadata": {
    "collapsed": false
   },
   "outputs": [
    {
     "data": {
      "text/plain": [
       "[('ZZEta', 0.15461847389558234),\n",
       " ('JetEta(JetPt|0)', 0.1495547407019382),\n",
       " ('JetPt(JetPt|0)', 0.09493044642337466),\n",
       " ('PFMET', 0.07298760258425005),\n",
       " ('ZZPt', 0.06454804726150981),\n",
       " ('Z2Mass', 0.06364588789942378),\n",
       " ('Z1Mass', 0.061259530877131714),\n",
       " ('D_VBF1j_ggH_ME', 0.06102671555788371),\n",
       " ('ZZMassErr', 0.05951341598277167),\n",
       " ('Z1Pt', 0.04921133810604738),\n",
       " ('ZZPhi', 0.04909493044642337),\n",
       " ('Z2Pt', 0.04528257959373727),\n",
       " ('JetPhi(JetPt|0)', 0.03838542576101508),\n",
       " ('nCleanedJetsPt30BTagged_bTagSF', 0.01682090681566847),\n",
       " ('Z2Flav', 0.008148536173680228),\n",
       " ('ExtraLepPhi(ExtraLepPt|0)', 0.004277981491182119),\n",
       " ('Z1Flav', 0.0018043187241720505),\n",
       " ('ExtraLepEta(ExtraLepPt|0)', 0.0017752168092660496),\n",
       " ('ExtraLepPt(ExtraLepPt|0)', 0.001717012979454048),\n",
       " ('ZZMass_masked', 0.0009312612769920261),\n",
       " ('nExtraLep', 0.00046563063849601303)]"
      ]
     },
     "execution_count": 94,
     "metadata": {},
     "output_type": "execute_result"
    }
   ],
   "source": [
    "implist"
   ]
  },
  {
   "cell_type": "code",
   "execution_count": 95,
   "metadata": {
    "collapsed": false,
    "scrolled": false
   },
   "outputs": [],
   "source": [
    "%%capture\n",
    "fig, implist = plot_variables([(\"VBF0j\", \"ZHh0j\")])"
   ]
  },
  {
   "cell_type": "code",
   "execution_count": 96,
   "metadata": {
    "collapsed": true
   },
   "outputs": [],
   "source": [
    "impdict = {convert_varname(entry[0]): [entry[1]] for entry in implist}\n",
    "impdict[\"discriminant\"] = \"D_VBF_ZHh_0j_ML\"\n",
    "df = df.append(pd.DataFrame.from_dict(impdict))"
   ]
  },
  {
   "cell_type": "code",
   "execution_count": 97,
   "metadata": {
    "collapsed": true
   },
   "outputs": [],
   "source": [
    "append_variables(confhandler, impdict, threshold_fscore)"
   ]
  },
  {
   "cell_type": "code",
   "execution_count": 98,
   "metadata": {
    "collapsed": false
   },
   "outputs": [
    {
     "data": {
      "text/plain": [
       "[('ZZPhi', 0.14727272727272728),\n",
       " ('PFMET', 0.1315151515151515),\n",
       " ('ZZPt', 0.12303030303030303),\n",
       " ('ZZEta', 0.11757575757575757),\n",
       " ('Z2Mass', 0.11393939393939394),\n",
       " ('Z2Pt', 0.11333333333333333),\n",
       " ('Z1Mass', 0.07454545454545454),\n",
       " ('ZZMassErr', 0.07151515151515152),\n",
       " ('Z1Pt', 0.06303030303030303),\n",
       " ('ExtraLepPt(ExtraLepPt|0)', 0.02181818181818182),\n",
       " ('Z1Flav', 0.011515151515151515),\n",
       " ('ExtraLepEta(ExtraLepPt|0)', 0.007272727272727273),\n",
       " ('Z2Flav', 0.0036363636363636364)]"
      ]
     },
     "execution_count": 98,
     "metadata": {},
     "output_type": "execute_result"
    }
   ],
   "source": [
    "implist"
   ]
  },
  {
   "cell_type": "code",
   "execution_count": 99,
   "metadata": {
    "collapsed": false,
    "scrolled": false
   },
   "outputs": [],
   "source": [
    "%%capture\n",
    "fig, implist = plot_variables([(\"WHl\", \"ggH\")])"
   ]
  },
  {
   "cell_type": "code",
   "execution_count": 100,
   "metadata": {
    "collapsed": true
   },
   "outputs": [],
   "source": [
    "impdict = {convert_varname(entry[0]): [entry[1]] for entry in implist}\n",
    "impdict[\"discriminant\"] = \"D_WHl_ggH_ML\"\n",
    "df = df.append(pd.DataFrame.from_dict(impdict))"
   ]
  },
  {
   "cell_type": "code",
   "execution_count": 101,
   "metadata": {
    "collapsed": true
   },
   "outputs": [],
   "source": [
    "append_variables(confhandler, impdict, threshold_fscore)"
   ]
  },
  {
   "cell_type": "code",
   "execution_count": 102,
   "metadata": {
    "collapsed": false
   },
   "outputs": [
    {
     "data": {
      "text/plain": [
       "[('PFMET', 0.1271917505918228),\n",
       " ('Z1Mass', 0.09278578020302532),\n",
       " ('ZZPt', 0.08861292781767845),\n",
       " ('Z2Mass', 0.07069774906712675),\n",
       " ('ZZMassErr', 0.06696625606869157),\n",
       " ('Z1Pt', 0.06389680215062392),\n",
       " ('Z2Pt', 0.06177025237732215),\n",
       " ('JetPt(JetPt|0)', 0.06160975805480881),\n",
       " ('ZZEta', 0.061328892990410465),\n",
       " ('ZZPhi', 0.06050635958752959),\n",
       " ('JetEta(JetPt|0)', 0.04582112907755888),\n",
       " ('JetPhi(JetPt|0)', 0.04086586686995947),\n",
       " ('ExtraLepPt(ExtraLepPt|0)', 0.03488745335633752),\n",
       " ('ZZMass_masked', 0.02816675360109136),\n",
       " ('JetEta(JetPt|1)', 0.012498495365726437),\n",
       " ('JetPhi(JetPt|1)', 0.011415158688761385),\n",
       " ('ExtraLepEta(ExtraLepPt|0)', 0.011154355414677205),\n",
       " ('nCleanedJetsPt30BTagged_bTagSF', 0.010592625285880512),\n",
       " ('JetPt(JetPt|1)', 0.009328732496087951),\n",
       " ('nCleanedJetsPt30', 0.007864221803153713),\n",
       " ('ExtraLepPhi(ExtraLepPt|0)', 0.007763912851582875),\n",
       " ('JetPhi(JetPt|2)', 0.004132728804718533),\n",
       " ('nExtraZ', 0.003811740159691851),\n",
       " ('JetEta(JetPt|2)', 0.0030493921277534807),\n",
       " ('Z2Flav', 0.0030293303374393133),\n",
       " ('nExtraLep', 0.0029290213858684747),\n",
       " ('Z1Flav', 0.0019459936604742608),\n",
       " ('JetPt(JetPt|3)', 0.001645066805761746),\n",
       " ('JetPt(JetPt|2)', 0.001604943225133411),\n",
       " ('ExtraLepPhi(ExtraLepPt|1)', 0.000722224451310035),\n",
       " ('JetPhi(JetPt|3)', 0.000722224451310035),\n",
       " ('JetEta(JetPt|3)', 0.0006821008706816996)]"
      ]
     },
     "execution_count": 102,
     "metadata": {},
     "output_type": "execute_result"
    }
   ],
   "source": [
    "implist"
   ]
  },
  {
   "cell_type": "code",
   "execution_count": 103,
   "metadata": {
    "collapsed": false,
    "scrolled": false
   },
   "outputs": [],
   "source": [
    "%%capture\n",
    "fig, implist = plot_variables([(\"WHl\", \"VBF\")])"
   ]
  },
  {
   "cell_type": "code",
   "execution_count": 104,
   "metadata": {
    "collapsed": true
   },
   "outputs": [],
   "source": [
    "impdict = {convert_varname(entry[0]): [entry[1]] for entry in implist}\n",
    "impdict[\"discriminant\"] = \"D_WHl_VBF_ML\"\n",
    "df = df.append(pd.DataFrame.from_dict(impdict))"
   ]
  },
  {
   "cell_type": "code",
   "execution_count": 105,
   "metadata": {
    "collapsed": true
   },
   "outputs": [],
   "source": [
    "append_variables(confhandler, impdict, threshold_fscore)"
   ]
  },
  {
   "cell_type": "code",
   "execution_count": 106,
   "metadata": {
    "collapsed": false
   },
   "outputs": [
    {
     "data": {
      "text/plain": [
       "[('JetEta(JetPt|0)', 0.1203573997652671),\n",
       " ('PFMET', 0.10733351001400826),\n",
       " ('ZZEta', 0.07163139363192367),\n",
       " ('JetPt(JetPt|0)', 0.06290463029568773),\n",
       " ('Z1Mass', 0.06176882595691516),\n",
       " ('Z2Mass', 0.05482148941808958),\n",
       " ('ZZMassErr', 0.052512020595918675),\n",
       " ('JetEta(JetPt|1)', 0.05084617423238557),\n",
       " ('Z1Pt', 0.04912353765191383),\n",
       " ('ZZPt', 0.04617044637110514),\n",
       " ('ExtraLepEta(ExtraLepPt|0)', 0.045753984780221864),\n",
       " ('Z2Pt', 0.04359595653655397),\n",
       " ('ExtraLepPt(ExtraLepPt|0)', 0.04126755764207019),\n",
       " ('ZZPhi', 0.04045356453261652),\n",
       " ('JetPhi(JetPt|0)', 0.038844508386022034),\n",
       " ('ZZMass_masked', 0.02866012948169462),\n",
       " ('JetPt(JetPt|1)', 0.020539128459470715),\n",
       " ('JetPhi(JetPt|1)', 0.014822246620982093),\n",
       " ('JetEta(JetPt|2)', 0.010411539772081929),\n",
       " ('ExtraLepPhi(ExtraLepPt|0)', 0.009162154999432098),\n",
       " ('nCleanedJetsPt30BTagged_bTagSF', 0.005395070609169727),\n",
       " ('JetPhi(JetPt|2)', 0.0045242872827774205),\n",
       " ('Z2Flav', 0.003956385113391133),\n",
       " ('JetPt(JetPt|2)', 0.0030477416423730736),\n",
       " ('JetPt(JetPt|3)', 0.0026123499791769205),\n",
       " ('nCleanedJetsPt30', 0.0025366296899254157),\n",
       " ('Z1Flav', 0.002233748532919396),\n",
       " ('JetPhi(JetPt|3)', 0.001930867375913376),\n",
       " ('JetEta(JetPt|3)', 0.0014386854957785938),\n",
       " ('nExtraLep', 0.0013440351342142126)]"
      ]
     },
     "execution_count": 106,
     "metadata": {},
     "output_type": "execute_result"
    }
   ],
   "source": [
    "implist"
   ]
  },
  {
   "cell_type": "code",
   "execution_count": 107,
   "metadata": {
    "collapsed": false,
    "scrolled": false
   },
   "outputs": [],
   "source": [
    "%%capture\n",
    "fig, implist = plot_variables([(\"WHl\", \"WHh\")])"
   ]
  },
  {
   "cell_type": "code",
   "execution_count": 108,
   "metadata": {
    "collapsed": true
   },
   "outputs": [],
   "source": [
    "impdict = {convert_varname(entry[0]): [entry[1]] for entry in implist}\n",
    "impdict[\"discriminant\"] = \"D_WHl_WHh_ML\"\n",
    "df = df.append(pd.DataFrame.from_dict(impdict))"
   ]
  },
  {
   "cell_type": "code",
   "execution_count": 109,
   "metadata": {
    "collapsed": true
   },
   "outputs": [],
   "source": [
    "append_variables(confhandler, impdict, threshold_fscore)"
   ]
  },
  {
   "cell_type": "code",
   "execution_count": 110,
   "metadata": {
    "collapsed": false
   },
   "outputs": [
    {
     "data": {
      "text/plain": [
       "[('PFMET', 0.12598595141859278),\n",
       " ('JetPt(JetPt|0)', 0.06857512851705058),\n",
       " ('ZZMassErr', 0.06675038260801318),\n",
       " ('Z1Mass', 0.06669151983675392),\n",
       " ('ZZPt', 0.06500412039398815),\n",
       " ('JetEta(JetPt|0)', 0.06035396146450575),\n",
       " ('Z2Mass', 0.060177373150727936),\n",
       " ('Z2Pt', 0.05805831338539418),\n",
       " ('Z1Pt', 0.055487972373739355),\n",
       " ('ZZPhi', 0.048718753678923206),\n",
       " ('ZZEta', 0.043421104265588824),\n",
       " ('JetPhi(JetPt|0)', 0.042381195306675036),\n",
       " ('ExtraLepPt(ExtraLepPt|0)', 0.04177294667032924),\n",
       " ('ZZMass_masked', 0.03390495624534003),\n",
       " ('JetPt(JetPt|1)', 0.028352234823215475),\n",
       " ('JetEta(JetPt|1)', 0.025723031040301377),\n",
       " ('JetPhi(JetPt|1)', 0.021563395204646233),\n",
       " ('ExtraLepEta(ExtraLepPt|0)', 0.02056272809323863),\n",
       " ('ExtraLepPhi(ExtraLepPt|0)', 0.014048581407212652),\n",
       " ('nCleanedJetsPt30', 0.010222501275360044),\n",
       " ('JetPt(JetPt|2)', 0.008456618137581917),\n",
       " ('JetEta(JetPt|2)', 0.007514813797433583),\n",
       " ('JetPhi(JetPt|2)', 0.006259074677235805),\n",
       " ('nCleanedJetsPt30BTagged_bTagSF', 0.005219165718322019),\n",
       " ('nExtraLep', 0.004041910293136601),\n",
       " ('Z2Flav', 0.003786838284346427),\n",
       " ('Z1Flav', 0.002550720087901738),\n",
       " ('JetPhi(JetPt|3)', 0.0018247459090373975),\n",
       " ('JetEta(JetPt|3)', 0.0015500529764941333),\n",
       " ('JetPt(JetPt|3)', 0.0010399089589137856)]"
      ]
     },
     "execution_count": 110,
     "metadata": {},
     "output_type": "execute_result"
    }
   ],
   "source": [
    "implist"
   ]
  },
  {
   "cell_type": "code",
   "execution_count": 111,
   "metadata": {
    "collapsed": false,
    "scrolled": false
   },
   "outputs": [],
   "source": [
    "%%capture\n",
    "fig, implist = plot_variables([(\"WHl\", \"ZHh\")])"
   ]
  },
  {
   "cell_type": "code",
   "execution_count": 112,
   "metadata": {
    "collapsed": true
   },
   "outputs": [],
   "source": [
    "impdict = {convert_varname(entry[0]): [entry[1]] for entry in implist}\n",
    "impdict[\"discriminant\"] = \"D_WHl_ZHh_ML\"\n",
    "df = df.append(pd.DataFrame.from_dict(impdict))"
   ]
  },
  {
   "cell_type": "code",
   "execution_count": 113,
   "metadata": {
    "collapsed": true
   },
   "outputs": [],
   "source": [
    "append_variables(confhandler, impdict, threshold_fscore)"
   ]
  },
  {
   "cell_type": "code",
   "execution_count": 114,
   "metadata": {
    "collapsed": false
   },
   "outputs": [
    {
     "data": {
      "text/plain": [
       "[('PFMET', 0.16196661539338006),\n",
       " ('nCleanedJetsPt30BTagged_bTagSF', 0.0636358457243776),\n",
       " ('Z2Pt', 0.06095824075656583),\n",
       " ('JetEta(JetPt|0)', 0.059875804705748305),\n",
       " ('JetPt(JetPt|0)', 0.059306101521107504),\n",
       " ('ExtraLepPt(ExtraLepPt|0)', 0.05697031846408022),\n",
       " ('Z1Mass', 0.052184811713097475),\n",
       " ('ZZMass_masked', 0.05167207884692075),\n",
       " ('ZZPhi', 0.04927932547142939),\n",
       " ('JetPhi(JetPt|0)', 0.045918076682048656),\n",
       " ('ZZEta', 0.04517746254201561),\n",
       " ('Z1Pt', 0.04500655158662337),\n",
       " ('ZZMassErr', 0.04500655158662337),\n",
       " ('ZZPt', 0.04170227311570672),\n",
       " ('Z2Mass', 0.03469492394462485),\n",
       " ('JetPt(JetPt|1)', 0.022617216430239846),\n",
       " ('ExtraLepPhi(ExtraLepPt|0)', 0.017831709679257107),\n",
       " ('ExtraLepEta(ExtraLepPt|0)', 0.017148065857688143),\n",
       " ('JetEta(JetPt|1)', 0.014698342163732695),\n",
       " ('nExtraLep', 0.013729846749843332),\n",
       " ('nCleanedJetsPt30', 0.01333105452059477),\n",
       " ('JetPhi(JetPt|1)', 0.008830399361932433),\n",
       " ('JetEta(JetPt|2)', 0.006893408534153706),\n",
       " ('JetPhi(JetPt|2)', 0.004386714521734177),\n",
       " ('Z1Flav', 0.002848515923204011),\n",
       " ('JetPt(JetPt|2)', 0.00262063464934769),\n",
       " ('Z2Flav', 0.000797584458497123),\n",
       " ('JetEta(JetPt|3)', 0.0006266735031048823),\n",
       " ('JetPt(JetPt|3)', 0.00017091095539224064),\n",
       " ('JetPhi(JetPt|3)', 0.00011394063692816042)]"
      ]
     },
     "execution_count": 114,
     "metadata": {},
     "output_type": "execute_result"
    }
   ],
   "source": [
    "implist"
   ]
  },
  {
   "cell_type": "code",
   "execution_count": 115,
   "metadata": {
    "collapsed": false,
    "scrolled": false
   },
   "outputs": [],
   "source": [
    "%%capture\n",
    "fig, implist = plot_variables([(\"WHl\", \"ZHl\")])"
   ]
  },
  {
   "cell_type": "code",
   "execution_count": 116,
   "metadata": {
    "collapsed": true
   },
   "outputs": [],
   "source": [
    "impdict = {convert_varname(entry[0]): [entry[1]] for entry in implist}\n",
    "impdict[\"discriminant\"] = \"D_WHl_ZHl_ML\"\n",
    "df = df.append(pd.DataFrame.from_dict(impdict))"
   ]
  },
  {
   "cell_type": "code",
   "execution_count": 117,
   "metadata": {
    "collapsed": true
   },
   "outputs": [],
   "source": [
    "append_variables(confhandler, impdict, threshold_fscore)"
   ]
  },
  {
   "cell_type": "code",
   "execution_count": 118,
   "metadata": {
    "collapsed": false
   },
   "outputs": [
    {
     "data": {
      "text/plain": [
       "[('PFMET', 0.11522020610511007),\n",
       " ('Z1Mass', 0.10078220614058427),\n",
       " ('Z2Mass', 0.08880966317245784),\n",
       " ('ZZPt', 0.08105855016938932),\n",
       " ('Z2Pt', 0.07353801947533656),\n",
       " ('Z1Pt', 0.07174657230529098),\n",
       " ('ZZEta', 0.05624434629915394),\n",
       " ('ZZMassErr', 0.04590361659483141),\n",
       " ('JetPt(JetPt|0)', 0.04579719399067028),\n",
       " ('ZZMass_masked', 0.04427180333102751),\n",
       " ('ZZPhi', 0.038791039216729634),\n",
       " ('JetEta(JetPt|0)', 0.03123503432128984),\n",
       " ('ExtraLepPt(ExtraLepPt|0)', 0.026091275120168858),\n",
       " ('JetPhi(JetPt|0)', 0.02559463630075028),\n",
       " ('ExtraLepEta(ExtraLepPt|0)', 0.023732240727930613),\n",
       " ('ExtraLepPhi(ExtraLepPt|0)', 0.01979460437396903),\n",
       " ('JetPhi(JetPt|1)', 0.016264921335958426),\n",
       " ('JetPt(JetPt|1)', 0.016069813228329698),\n",
       " ('JetEta(JetPt|1)', 0.012770712499334858),\n",
       " ('nExtraLep', 0.012628815693786693),\n",
       " ('nCleanedJetsPt30BTagged_bTagSF', 0.007467319391972188),\n",
       " ('JetEta(JetPt|2)', 0.006935206371166569),\n",
       " ('nCleanedJetsPt30', 0.006207985242732223),\n",
       " ('ExtraLepPt(ExtraLepPt|1)', 0.00585324322886181),\n",
       " ('nExtraZ', 0.004984125294879299),\n",
       " ('JetPhi(JetPt|2)', 0.004487486475460721),\n",
       " ('Z2Flav', 0.004061796058816226),\n",
       " ('Z1Flav', 0.0033700491317689213),\n",
       " ('ExtraLepEta(ExtraLepPt|1)', 0.003157203923446673),\n",
       " ('JetPt(JetPt|2)', 0.0031217297220596323),\n",
       " ('ExtraLepPhi(ExtraLepPt|1)', 0.002678302204721616),\n",
       " ('JetPhi(JetPt|3)', 0.0006030614235797017),\n",
       " ('JetPt(JetPt|3)', 0.00039021621525745404),\n",
       " ('JetEta(JetPt|3)', 0.0003370049131768921)]"
      ]
     },
     "execution_count": 118,
     "metadata": {},
     "output_type": "execute_result"
    }
   ],
   "source": [
    "implist"
   ]
  },
  {
   "cell_type": "code",
   "execution_count": 119,
   "metadata": {
    "collapsed": false,
    "scrolled": false
   },
   "outputs": [],
   "source": [
    "%%capture\n",
    "fig, implist = plot_variables([(\"WHl\", \"ZHMET\")])"
   ]
  },
  {
   "cell_type": "code",
   "execution_count": 120,
   "metadata": {
    "collapsed": true
   },
   "outputs": [],
   "source": [
    "impdict = {convert_varname(entry[0]): [entry[1]] for entry in implist}\n",
    "impdict[\"discriminant\"] = \"D_WHl_ZHMET_ML\"\n",
    "df = df.append(pd.DataFrame.from_dict(impdict))"
   ]
  },
  {
   "cell_type": "code",
   "execution_count": 121,
   "metadata": {
    "collapsed": true
   },
   "outputs": [],
   "source": [
    "append_variables(confhandler, impdict, threshold_fscore)"
   ]
  },
  {
   "cell_type": "code",
   "execution_count": 122,
   "metadata": {
    "collapsed": false
   },
   "outputs": [
    {
     "data": {
      "text/plain": [
       "[('PFMET', 0.10861504907306434),\n",
       " ('Z1Mass', 0.09581970192657216),\n",
       " ('ZZPt', 0.08447837150127227),\n",
       " ('ZZPhi', 0.07858960378044348),\n",
       " ('Z1Pt', 0.0638313340603417),\n",
       " ('Z2Pt', 0.06346782988004362),\n",
       " ('Z2Mass', 0.06048709560159942),\n",
       " ('ZZEta', 0.05917848055252636),\n",
       " ('ExtraLepPt(ExtraLepPt|0)', 0.05350781533987641),\n",
       " ('JetPt(JetPt|0)', 0.047037440930570704),\n",
       " ('ZZMassErr', 0.04609233006179571),\n",
       " ('ExtraLepEta(ExtraLepPt|0)', 0.04565612504543802),\n",
       " ('JetEta(JetPt|0)', 0.03438749545619774),\n",
       " ('JetPhi(JetPt|0)', 0.032860777898945835),\n",
       " ('ZZMass_masked', 0.02697201017811705),\n",
       " ('JetPhi(JetPt|1)', 0.013231552162849873),\n",
       " ('ExtraLepPhi(ExtraLepPt|1)', 0.013158851326790257),\n",
       " ('nExtraLep', 0.013086150490730643),\n",
       " ('JetPt(JetPt|1)', 0.012940748818611413),\n",
       " ('JetEta(JetPt|1)', 0.009523809523809525),\n",
       " ('JetEta(JetPt|2)', 0.006543075245365322),\n",
       " ('JetPt(JetPt|2)', 0.0057433660487095604),\n",
       " ('nExtraZ', 0.0056706652126499455),\n",
       " ('ExtraLepPhi(ExtraLepPt|0)', 0.005234460196292257),\n",
       " ('ExtraLepEta(ExtraLepPt|1)', 0.005089058524173028),\n",
       " ('JetPhi(JetPt|2)', 0.0023264267539076697),\n",
       " ('Z2Flav', 0.0016721192293711379),\n",
       " ('nCleanedJetsPt30', 0.0013086150490730644),\n",
       " ('JetPhi(JetPt|3)', 0.0012359142130134496),\n",
       " ('nCleanedJetsPt30BTagged_bTagSF', 0.0010178117048346056),\n",
       " ('Z1Flav', 0.000945110868774991),\n",
       " ('JetEta(JetPt|3)', 0.00021810250817884405),\n",
       " ('JetPt(JetPt|3)', 7.270083605961468e-05)]"
      ]
     },
     "execution_count": 122,
     "metadata": {},
     "output_type": "execute_result"
    }
   ],
   "source": [
    "implist"
   ]
  },
  {
   "cell_type": "code",
   "execution_count": 123,
   "metadata": {
    "collapsed": false,
    "scrolled": false
   },
   "outputs": [],
   "source": [
    "%%capture\n",
    "fig, implist = plot_variables([(\"WHl\", \"ttHh\")])"
   ]
  },
  {
   "cell_type": "code",
   "execution_count": 124,
   "metadata": {
    "collapsed": true
   },
   "outputs": [],
   "source": [
    "impdict = {convert_varname(entry[0]): [entry[1]] for entry in implist}\n",
    "impdict[\"discriminant\"] = \"D_WHl_ttHh_ML\"\n",
    "df = df.append(pd.DataFrame.from_dict(impdict))"
   ]
  },
  {
   "cell_type": "code",
   "execution_count": 125,
   "metadata": {
    "collapsed": true
   },
   "outputs": [],
   "source": [
    "append_variables(confhandler, impdict, threshold_fscore)"
   ]
  },
  {
   "cell_type": "code",
   "execution_count": 126,
   "metadata": {
    "collapsed": false
   },
   "outputs": [
    {
     "data": {
      "text/plain": [
       "[('PFMET', 0.12916529198284393),\n",
       " ('JetPt(JetPt|0)', 0.08528538436159683),\n",
       " ('ExtraLepPt(ExtraLepPt|0)', 0.07163477400197954),\n",
       " ('nCleanedJetsPt30BTagged_bTagSF', 0.0575305179808644),\n",
       " ('Z1Mass', 0.05336522599802045),\n",
       " ('ZZMassErr', 0.04981854173540086),\n",
       " ('JetEta(JetPt|1)', 0.04614813592873639),\n",
       " ('JetPt(JetPt|1)', 0.04371494556252062),\n",
       " ('Z2Mass', 0.037570108874958756),\n",
       " ('JetEta(JetPt|0)', 0.036704058066644674),\n",
       " ('ZZEta', 0.03389970306829429),\n",
       " ('ZZPt', 0.031012867040580667),\n",
       " ('JetPt(JetPt|2)', 0.030229297261629824),\n",
       " ('JetPhi(JetPt|0)', 0.029115803365225998),\n",
       " ('Z1Pt', 0.02849719564500165),\n",
       " ('Z2Pt', 0.028290993071593534),\n",
       " ('ZZMass_masked', 0.027961068954140546),\n",
       " ('JetPt(JetPt|3)', 0.026682612999010227),\n",
       " ('ZZPhi', 0.02400197954470472),\n",
       " ('JetEta(JetPt|2)', 0.022970966677664136),\n",
       " ('ExtraLepEta(ExtraLepPt|0)', 0.020125371164632134),\n",
       " ('JetPhi(JetPt|1)', 0.017980864401187728),\n",
       " ('nCleanedJetsPt30', 0.014970306829429231),\n",
       " ('JetEta(JetPt|3)', 0.011423622566809634),\n",
       " ('JetPhi(JetPt|2)', 0.01059881227317717),\n",
       " ('ExtraLepPhi(ExtraLepPt|0)', 0.009856483008907952),\n",
       " ('JetPhi(JetPt|3)', 0.00894919168591224),\n",
       " ('nExtraLep', 0.005856153084790498),\n",
       " ('Z1Flav', 0.004618937644341801),\n",
       " ('Z2Flav', 0.0020207852193995382)]"
      ]
     },
     "execution_count": 126,
     "metadata": {},
     "output_type": "execute_result"
    }
   ],
   "source": [
    "implist"
   ]
  },
  {
   "cell_type": "code",
   "execution_count": 127,
   "metadata": {
    "collapsed": false,
    "scrolled": false
   },
   "outputs": [],
   "source": [
    "%%capture\n",
    "fig, implist = plot_variables([(\"WHl\", \"ttHl\")])"
   ]
  },
  {
   "cell_type": "code",
   "execution_count": 128,
   "metadata": {
    "collapsed": true
   },
   "outputs": [],
   "source": [
    "impdict = {convert_varname(entry[0]): [entry[1]] for entry in implist}\n",
    "impdict[\"discriminant\"] = \"D_WHl_ttHl_ML\"\n",
    "df = df.append(pd.DataFrame.from_dict(impdict))"
   ]
  },
  {
   "cell_type": "code",
   "execution_count": 129,
   "metadata": {
    "collapsed": true
   },
   "outputs": [],
   "source": [
    "append_variables(confhandler, impdict, threshold_fscore)"
   ]
  },
  {
   "cell_type": "code",
   "execution_count": 130,
   "metadata": {
    "collapsed": false
   },
   "outputs": [
    {
     "data": {
      "text/plain": [
       "[('ZZMass_masked', 0.09176644251271117),\n",
       " ('PFMET', 0.07241266196490077),\n",
       " ('nCleanedJetsPt30BTagged_bTagSF', 0.07142857142857142),\n",
       " ('JetPt(JetPt|0)', 0.062407741512219124),\n",
       " ('ZZPt', 0.06109562079711334),\n",
       " ('Z2Pt', 0.060193537805478106),\n",
       " ('ZZEta', 0.0546170247662785),\n",
       " ('JetEta(JetPt|0)', 0.05305888141709037),\n",
       " ('JetPt(JetPt|1)', 0.05035263244218468),\n",
       " ('JetEta(JetPt|1)', 0.04198786288338527),\n",
       " ('Z1Mass', 0.03837953091684435),\n",
       " ('Z2Mass', 0.03632934229949155),\n",
       " ('JetPhi(JetPt|1)', 0.029604723634574382),\n",
       " ('ExtraLepPt(ExtraLepPt|1)', 0.02829260291946859),\n",
       " ('ExtraLepEta(ExtraLepPt|0)', 0.02616040675742168),\n",
       " ('ExtraLepPt(ExtraLepPt|0)', 0.02616040675742168),\n",
       " ('nCleanedJetsPt30', 0.02566836148925701),\n",
       " ('JetPhi(JetPt|0)', 0.025422338855174677),\n",
       " ('Z1Pt', 0.02066590126291619),\n",
       " ('JetPt(JetPt|3)', 0.01853370510086928),\n",
       " ('ZZMassErr', 0.016483516483516484),\n",
       " ('ZZPhi', 0.015663441036575364),\n",
       " ('JetPt(JetPt|2)', 0.01410529768738724),\n",
       " ('nExtraLep', 0.010496965720846317),\n",
       " ('JetEta(JetPt|2)', 0.009594882729211088),\n",
       " ('JetPhi(JetPt|2)', 0.007790716745940627),\n",
       " ('JetEta(JetPt|3)', 0.006396588486140725),\n",
       " ('ExtraLepPhi(ExtraLepPt|0)', 0.006068558307364277),\n",
       " ('Z1Flav', 0.004592422502870264),\n",
       " ('nExtraZ', 0.0038543546006232572),\n",
       " ('ExtraLepEta(ExtraLepPt|1)', 0.00352632442184681),\n",
       " ('JetPhi(JetPt|3)', 0.0033623093324585862),\n",
       " ('Z2Flav', 0.0027062489749056914),\n",
       " ('ExtraLepPhi(ExtraLepPt|1)', 0.0008200754469411186)]"
      ]
     },
     "execution_count": 130,
     "metadata": {},
     "output_type": "execute_result"
    }
   ],
   "source": [
    "implist"
   ]
  },
  {
   "cell_type": "code",
   "execution_count": 131,
   "metadata": {
    "collapsed": false,
    "scrolled": false
   },
   "outputs": [],
   "source": [
    "%%capture\n",
    "fig, implist = plot_variables([(\"ZHh\", \"ZHl\")])"
   ]
  },
  {
   "cell_type": "code",
   "execution_count": 132,
   "metadata": {
    "collapsed": true
   },
   "outputs": [],
   "source": [
    "impdict = {convert_varname(entry[0]): [entry[1]] for entry in implist}\n",
    "impdict[\"discriminant\"] = \"D_ZHh_ZHl_ML\"\n",
    "df = df.append(pd.DataFrame.from_dict(impdict))"
   ]
  },
  {
   "cell_type": "code",
   "execution_count": 133,
   "metadata": {
    "collapsed": true
   },
   "outputs": [],
   "source": [
    "append_variables(confhandler, impdict, threshold_fscore)"
   ]
  },
  {
   "cell_type": "code",
   "execution_count": 134,
   "metadata": {
    "collapsed": false
   },
   "outputs": [
    {
     "data": {
      "text/plain": [
       "[('Z1Mass', 0.13092852371409486),\n",
       " ('Z2Pt', 0.09426545398489286),\n",
       " ('ZZPt', 0.08470787729304763),\n",
       " ('Z1Pt', 0.08403987462103694),\n",
       " ('Z2Mass', 0.08003185858897281),\n",
       " ('PFMET', 0.0754586095267458),\n",
       " ('ZZMassErr', 0.05675453471044654),\n",
       " ('JetPt(JetPt|0)', 0.052900673141154105),\n",
       " ('ZZEta', 0.04606649195827552),\n",
       " ('JetPhi(JetPt|0)', 0.04480756384564),\n",
       " ('ZZPhi', 0.041236318791429014),\n",
       " ('JetEta(JetPt|0)', 0.038718462566157956),\n",
       " ('ZZMass_masked', 0.03792199784183752),\n",
       " ('ExtraLepPt(ExtraLepPt|0)', 0.03008581265094291),\n",
       " ('nCleanedJetsPt30BTagged_bTagSF', 0.017470839114125686),\n",
       " ('JetPhi(JetPt|1)', 0.012743435589126972),\n",
       " ('JetEta(JetPt|1)', 0.01222958737988798),\n",
       " ('JetPt(JetPt|1)', 0.009172190534915985),\n",
       " ('ExtraLepPhi(ExtraLepPt|0)', 0.007604953496737064),\n",
       " ('nExtraLep', 0.006680026720106881),\n",
       " ('ExtraLepEta(ExtraLepPt|0)', 0.005960639227172293),\n",
       " ('JetPhi(JetPt|2)', 0.0058321771748625455),\n",
       " ('JetPt(JetPt|2)', 0.005241251734237706),\n",
       " ('JetEta(JetPt|2)', 0.0045989414726889674),\n",
       " ('Z1Flav', 0.004239247726221674),\n",
       " ('nCleanedJetsPt30', 0.0034427830019012383),\n",
       " ('Z2Flav', 0.0032629361286675915),\n",
       " ('JetPhi(JetPt|3)', 0.001618621859102821),\n",
       " ('JetPt(JetPt|3)', 0.0013616977544833257),\n",
       " ('JetEta(JetPt|3)', 0.000616617851086789)]"
      ]
     },
     "execution_count": 134,
     "metadata": {},
     "output_type": "execute_result"
    }
   ],
   "source": [
    "implist"
   ]
  },
  {
   "cell_type": "code",
   "execution_count": 135,
   "metadata": {
    "collapsed": false,
    "scrolled": false
   },
   "outputs": [],
   "source": [
    "%%capture\n",
    "fig, implist = plot_variables([(\"ZHh\", \"ZHMET\")])"
   ]
  },
  {
   "cell_type": "code",
   "execution_count": 136,
   "metadata": {
    "collapsed": true
   },
   "outputs": [],
   "source": [
    "impdict = {convert_varname(entry[0]): [entry[1]] for entry in implist}\n",
    "impdict[\"discriminant\"] = \"D_ZHh_ZHMET_ML\"\n",
    "df = df.append(pd.DataFrame.from_dict(impdict))"
   ]
  },
  {
   "cell_type": "code",
   "execution_count": 137,
   "metadata": {
    "collapsed": true
   },
   "outputs": [],
   "source": [
    "append_variables(confhandler, impdict, threshold_fscore)"
   ]
  },
  {
   "cell_type": "code",
   "execution_count": 138,
   "metadata": {
    "collapsed": false
   },
   "outputs": [
    {
     "data": {
      "text/plain": [
       "[('PFMET', 0.15495905702640178),\n",
       " ('ZZPt', 0.08460323871773216),\n",
       " ('ZZEta', 0.07244886718319686),\n",
       " ('JetEta(JetPt|0)', 0.07160430360224727),\n",
       " ('Z2Pt', 0.06587595931406749),\n",
       " ('Z1Pt', 0.06370947012815334),\n",
       " ('Z1Mass', 0.062644585613043),\n",
       " ('JetPt(JetPt|0)', 0.06113905922961113),\n",
       " ('ZZPhi', 0.060588256894209234),\n",
       " ('Z2Mass', 0.051298057503763816),\n",
       " ('ZZMassErr', 0.04476186979032791),\n",
       " ('nCleanedJetsPt30BTagged_bTagSF', 0.03954760768185657),\n",
       " ('JetPhi(JetPt|0)', 0.03499430837586751),\n",
       " ('JetPt(JetPt|1)', 0.026805713656225902),\n",
       " ('JetEta(JetPt|1)', 0.022693056218558365),\n",
       " ('JetPhi(JetPt|1)', 0.020159365475709616),\n",
       " ('nCleanedJetsPt30', 0.014431021187529836),\n",
       " ('JetPt(JetPt|2)', 0.013292696361032572),\n",
       " ('JetEta(JetPt|2)', 0.0064260272463555245),\n",
       " ('ZZMass_masked', 0.005618183821099402),\n",
       " ('JetPhi(JetPt|2)', 0.004369698527521756),\n",
       " ('Z2Flav', 0.0034516946351852533),\n",
       " ('ExtraLepPt(ExtraLepPt|0)', 0.0033415341681048726),\n",
       " ('Z1Flav', 0.003157933389637572),\n",
       " ('JetPhi(JetPt|3)', 0.0026805713656225904),\n",
       " ('JetEta(JetPt|3)', 0.002019608563140308),\n",
       " ('JetPt(JetPt|3)', 0.001542246539125326),\n",
       " ('nExtraLep', 0.0008812837366430434),\n",
       " ('ExtraLepEta(ExtraLepPt|0)', 0.0005140821797084419),\n",
       " ('ExtraLepPhi(ExtraLepPt|0)', 0.0004406418683215217)]"
      ]
     },
     "execution_count": 138,
     "metadata": {},
     "output_type": "execute_result"
    }
   ],
   "source": [
    "implist"
   ]
  },
  {
   "cell_type": "code",
   "execution_count": 139,
   "metadata": {
    "collapsed": false,
    "scrolled": false
   },
   "outputs": [],
   "source": [
    "%%capture\n",
    "fig, implist = plot_variables([(\"ZHh\", \"ttHh\")])"
   ]
  },
  {
   "cell_type": "code",
   "execution_count": 140,
   "metadata": {
    "collapsed": true
   },
   "outputs": [],
   "source": [
    "impdict = {convert_varname(entry[0]): [entry[1]] for entry in implist}\n",
    "impdict[\"discriminant\"] = \"D_ZHh_ttHh_ML\"\n",
    "df = df.append(pd.DataFrame.from_dict(impdict))"
   ]
  },
  {
   "cell_type": "code",
   "execution_count": 141,
   "metadata": {
    "collapsed": true
   },
   "outputs": [],
   "source": [
    "append_variables(confhandler, impdict, threshold_fscore)"
   ]
  },
  {
   "cell_type": "code",
   "execution_count": 142,
   "metadata": {
    "collapsed": false
   },
   "outputs": [
    {
     "data": {
      "text/plain": [
       "[('nCleanedJetsPt30BTagged_bTagSF', 0.11302623550945698),\n",
       " ('JetPt(JetPt|1)', 0.08907870652837095),\n",
       " ('JetPt(JetPt|0)', 0.07718120805369127),\n",
       " ('ZZPt', 0.06558877364246492),\n",
       " ('PFMET', 0.06497864551555826),\n",
       " ('nCleanedJetsPt30', 0.0599450884685784),\n",
       " ('JetPt(JetPt|2)', 0.05292861500915192),\n",
       " ('JetEta(JetPt|2)', 0.05079316656497865),\n",
       " ('JetPt(JetPt|3)', 0.038895668090298964),\n",
       " ('Z1Mass', 0.03813300793166565),\n",
       " ('ZZEta', 0.03813300793166565),\n",
       " ('Z1Pt', 0.03737034777303234),\n",
       " ('JetEta(JetPt|1)', 0.03615009151921904),\n",
       " ('Z2Mass', 0.030048810250152533),\n",
       " ('JetEta(JetPt|0)', 0.023794996949359364),\n",
       " ('ExtraLepPt(ExtraLepPt|0)', 0.02303233679072605),\n",
       " ('Z2Pt', 0.02303233679072605),\n",
       " ('ZZMass_masked', 0.0224222086638194),\n",
       " ('JetPhi(JetPt|1)', 0.021354484441732765),\n",
       " ('JetPhi(JetPt|3)', 0.020896888346552775),\n",
       " ('JetEta(JetPt|3)', 0.013575350823672972),\n",
       " ('nExtraLep', 0.013117754728492984),\n",
       " ('JetPhi(JetPt|0)', 0.01235509456985967),\n",
       " ('ZZPhi', 0.012050030506406345),\n",
       " ('ZZMassErr', 0.008999389871873093),\n",
       " ('ExtraLepPhi(ExtraLepPt|0)', 0.006101281269066504),\n",
       " ('JetPhi(JetPt|2)', 0.0047284929835265405),\n",
       " ('ExtraLepEta(ExtraLepPt|0)', 0.0016778523489932886),\n",
       " ('Z2Flav', 0.0006101281269066504)]"
      ]
     },
     "execution_count": 142,
     "metadata": {},
     "output_type": "execute_result"
    }
   ],
   "source": [
    "implist"
   ]
  },
  {
   "cell_type": "code",
   "execution_count": 143,
   "metadata": {
    "collapsed": false,
    "scrolled": false
   },
   "outputs": [],
   "source": [
    "%%capture\n",
    "fig, implist = plot_variables([(\"ZHh\", \"ttHl\")])"
   ]
  },
  {
   "cell_type": "code",
   "execution_count": 144,
   "metadata": {
    "collapsed": true
   },
   "outputs": [],
   "source": [
    "impdict = {convert_varname(entry[0]): [entry[1]] for entry in implist}\n",
    "impdict[\"discriminant\"] = \"D_ZHh_ttHl_ML\"\n",
    "df = df.append(pd.DataFrame.from_dict(impdict))"
   ]
  },
  {
   "cell_type": "code",
   "execution_count": 145,
   "metadata": {
    "collapsed": true
   },
   "outputs": [],
   "source": [
    "append_variables(confhandler, impdict, threshold_fscore)"
   ]
  },
  {
   "cell_type": "code",
   "execution_count": 146,
   "metadata": {
    "collapsed": false
   },
   "outputs": [
    {
     "data": {
      "text/plain": [
       "[('PFMET', 0.12150537634408602),\n",
       " ('Z1Mass', 0.07159498207885305),\n",
       " ('Z2Pt', 0.058393070489844684),\n",
       " ('ZZPt', 0.056959378733572284),\n",
       " ('ExtraLepPt(ExtraLepPt|0)', 0.05328554360812425),\n",
       " ('ZZMass_masked', 0.05104540023894863),\n",
       " ('ZZEta', 0.05065710872162485),\n",
       " ('ZZPhi', 0.04991039426523298),\n",
       " ('Z2Mass', 0.041875746714456395),\n",
       " ('nCleanedJetsPt30', 0.038410991636798085),\n",
       " ('ZZMassErr', 0.03796296296296296),\n",
       " ('JetPt(JetPt|0)', 0.03643966547192354),\n",
       " ('JetEta(JetPt|0)', 0.03608124253285543),\n",
       " ('nCleanedJetsPt30BTagged_bTagSF', 0.035483870967741936),\n",
       " ('JetPhi(JetPt|1)', 0.03181003584229391),\n",
       " ('JetPt(JetPt|1)', 0.030017921146953404),\n",
       " ('Z1Pt', 0.027270011947431304),\n",
       " ('JetPt(JetPt|2)', 0.024283154121863798),\n",
       " ('JetPhi(JetPt|0)', 0.024283154121863798),\n",
       " ('JetPt(JetPt|3)', 0.020400238948626047),\n",
       " ('JetEta(JetPt|1)', 0.018488649940262843),\n",
       " ('JetEta(JetPt|2)', 0.01544205495818399),\n",
       " ('nExtraLep', 0.013112305854241339),\n",
       " ('JetPhi(JetPt|2)', 0.013052568697729989),\n",
       " ('JetPhi(JetPt|3)', 0.010872162485065711),\n",
       " ('ExtraLepEta(ExtraLepPt|0)', 0.009826762246117084),\n",
       " ('JetEta(JetPt|3)', 0.007855436081242532),\n",
       " ('ExtraLepPhi(ExtraLepPt|0)', 0.0059438470728793305),\n",
       " ('Z2Flav', 0.005197132616487455),\n",
       " ('Z1Flav', 0.0025388291517323774)]"
      ]
     },
     "execution_count": 146,
     "metadata": {},
     "output_type": "execute_result"
    }
   ],
   "source": [
    "implist"
   ]
  },
  {
   "cell_type": "code",
   "execution_count": 147,
   "metadata": {
    "collapsed": false,
    "scrolled": false
   },
   "outputs": [],
   "source": [
    "%%capture\n",
    "fig, implist = plot_variables([(\"ZHl\", \"ggH\")])"
   ]
  },
  {
   "cell_type": "code",
   "execution_count": 148,
   "metadata": {
    "collapsed": true
   },
   "outputs": [],
   "source": [
    "impdict = {convert_varname(entry[0]): [entry[1]] for entry in implist}\n",
    "impdict[\"discriminant\"] = \"D_ZHl_ggH_ML\"\n",
    "df = df.append(pd.DataFrame.from_dict(impdict))"
   ]
  },
  {
   "cell_type": "code",
   "execution_count": 149,
   "metadata": {
    "collapsed": true
   },
   "outputs": [],
   "source": [
    "append_variables(confhandler, impdict, threshold_fscore)"
   ]
  },
  {
   "cell_type": "code",
   "execution_count": 150,
   "metadata": {
    "collapsed": false
   },
   "outputs": [
    {
     "data": {
      "text/plain": [
       "[('Z1Mass', 0.10904716918953358),\n",
       " ('Z2Mass', 0.0882637256409693),\n",
       " ('Z2Pt', 0.08551749895643386),\n",
       " ('ZZPt', 0.08514401212733703),\n",
       " ('Z1Pt', 0.08036557769624536),\n",
       " ('PFMET', 0.06597534986927961),\n",
       " ('ZZEta', 0.06545905925258695),\n",
       " ('ZZMassErr', 0.06225146648504954),\n",
       " ('JetEta(JetPt|0)', 0.05914273787815542),\n",
       " ('JetPt(JetPt|0)', 0.05458400158182657),\n",
       " ('ZZPhi', 0.05336467693389283),\n",
       " ('JetPhi(JetPt|0)', 0.03428389392974054),\n",
       " ('JetEta(JetPt|1)', 0.022376255025594833),\n",
       " ('ExtraLepPt(ExtraLepPt|0)', 0.02045389634642002),\n",
       " ('JetPt(JetPt|1)', 0.018707296175055475),\n",
       " ('ZZMass_masked', 0.01814706593141024),\n",
       " ('JetPhi(JetPt|1)', 0.01702660544411978),\n",
       " ('nCleanedJetsPt30BTagged_bTagSF', 0.008963683898323704),\n",
       " ('JetEta(JetPt|2)', 0.008073906452534217),\n",
       " ('JetPt(JetPt|2)', 0.006283366654217105),\n",
       " ('ExtraLepEta(ExtraLepPt|0)', 0.005459498648856471),\n",
       " ('JetPhi(JetPt|2)', 0.004866313684996814),\n",
       " ('ExtraLepPhi(ExtraLepPt|0)', 0.004668585363710262),\n",
       " ('nCleanedJetsPt30', 0.00465760045697212),\n",
       " ('Z2Flav', 0.004569721203066986),\n",
       " ('Z1Flav', 0.0037348682909682097),\n",
       " ('ExtraLepPt(ExtraLepPt|1)', 0.003240547487751829),\n",
       " ('JetPt(JetPt|3)', 0.0019882681196036647),\n",
       " ('JetEta(JetPt|3)', 0.0012632642748863063),\n",
       " ('nExtraLep', 0.0012083397411955972),\n",
       " ('JetPhi(JetPt|3)', 0.0007579585649317837),\n",
       " ('ExtraLepPhi(ExtraLepPt|1)', 0.0001537886943339851)]"
      ]
     },
     "execution_count": 150,
     "metadata": {},
     "output_type": "execute_result"
    }
   ],
   "source": [
    "implist"
   ]
  },
  {
   "cell_type": "code",
   "execution_count": 151,
   "metadata": {
    "collapsed": false,
    "scrolled": false
   },
   "outputs": [],
   "source": [
    "%%capture\n",
    "fig, implist = plot_variables([(\"ZHl\", \"VBF\")])"
   ]
  },
  {
   "cell_type": "code",
   "execution_count": 152,
   "metadata": {
    "collapsed": true
   },
   "outputs": [],
   "source": [
    "impdict = {convert_varname(entry[0]): [entry[1]] for entry in implist}\n",
    "impdict[\"discriminant\"] = \"D_ZHl_VBF_ML\"\n",
    "df = df.append(pd.DataFrame.from_dict(impdict))"
   ]
  },
  {
   "cell_type": "code",
   "execution_count": 153,
   "metadata": {
    "collapsed": true
   },
   "outputs": [],
   "source": [
    "append_variables(confhandler, impdict, threshold_fscore)"
   ]
  },
  {
   "cell_type": "code",
   "execution_count": 154,
   "metadata": {
    "collapsed": false
   },
   "outputs": [
    {
     "data": {
      "text/plain": [
       "[('JetEta(JetPt|0)', 0.0982014297622957),\n",
       " ('Z1Mass', 0.09438704625255766),\n",
       " ('Z1Pt', 0.07060398615707177),\n",
       " ('ZZEta', 0.06920201076110845),\n",
       " ('Z2Mass', 0.06884835930987446),\n",
       " ('ZZPt', 0.06807790436254325),\n",
       " ('PFMET', 0.06440245535150428),\n",
       " ('Z2Pt', 0.06240685073382676),\n",
       " ('ZZMassErr', 0.054891757395104455),\n",
       " ('JetEta(JetPt|1)', 0.054045519993937405),\n",
       " ('JetPt(JetPt|0)', 0.05249197969030237),\n",
       " ('ZZPhi', 0.042387652512188345),\n",
       " ('JetPhi(JetPt|0)', 0.03304114987243287),\n",
       " ('ExtraLepPt(ExtraLepPt|0)', 0.02134539116376588),\n",
       " ('ZZMass_masked', 0.021067522166367748),\n",
       " ('JetPhi(JetPt|1)', 0.018718266097456235),\n",
       " ('ExtraLepEta(ExtraLepPt|0)', 0.018010963194988253),\n",
       " ('JetPt(JetPt|1)', 0.016823704751559854),\n",
       " ('JetEta(JetPt|2)', 0.012920908379013312),\n",
       " ('JetPt(JetPt|2)', 0.01180943238942077),\n",
       " ('JetPhi(JetPt|2)', 0.009005481597494126),\n",
       " ('nCleanedJetsPt30BTagged_bTagSF', 0.008310809103998788),\n",
       " ('nExtraLep', 0.00443327354939753),\n",
       " ('ExtraLepPhi(ExtraLepPt|0)', 0.003902796372546543),\n",
       " ('nCleanedJetsPt30', 0.003827013918710688),\n",
       " ('Z2Flav', 0.0037386010559021902),\n",
       " ('Z1Flav', 0.003246015105969131),\n",
       " ('JetEta(JetPt|3)', 0.0029934069265162805),\n",
       " ('JetPhi(JetPt|3)', 0.0024629297496652942),\n",
       " ('JetPt(JetPt|3)', 0.002336625659938869),\n",
       " ('ExtraLepPt(ExtraLepPt|1)', 0.002058756662540733)]"
      ]
     },
     "execution_count": 154,
     "metadata": {},
     "output_type": "execute_result"
    }
   ],
   "source": [
    "implist"
   ]
  },
  {
   "cell_type": "code",
   "execution_count": 155,
   "metadata": {
    "collapsed": false,
    "scrolled": false
   },
   "outputs": [],
   "source": [
    "%%capture\n",
    "fig, implist = plot_variables([(\"ZHl\", \"WHh\")])"
   ]
  },
  {
   "cell_type": "code",
   "execution_count": 156,
   "metadata": {
    "collapsed": true
   },
   "outputs": [],
   "source": [
    "impdict = {convert_varname(entry[0]): [entry[1]] for entry in implist}\n",
    "impdict[\"discriminant\"] = \"D_ZHl_WHh_ML\"\n",
    "df = df.append(pd.DataFrame.from_dict(impdict))"
   ]
  },
  {
   "cell_type": "code",
   "execution_count": 157,
   "metadata": {
    "collapsed": true
   },
   "outputs": [],
   "source": [
    "append_variables(confhandler, impdict, threshold_fscore)"
   ]
  },
  {
   "cell_type": "code",
   "execution_count": 158,
   "metadata": {
    "collapsed": false
   },
   "outputs": [
    {
     "data": {
      "text/plain": [
       "[('Z1Mass', 0.10751977713887748),\n",
       " ('Z2Pt', 0.08982303255415275),\n",
       " ('Z2Mass', 0.0824836157788532),\n",
       " ('Z1Pt', 0.08003714352042),\n",
       " ('ZZPt', 0.07994785621171807),\n",
       " ('PFMET', 0.07894783835425633),\n",
       " ('ZZMassErr', 0.0709476954945624),\n",
       " ('JetPt(JetPt|0)', 0.05667958356399221),\n",
       " ('ZZPhi', 0.04044715084197932),\n",
       " ('ZZEta', 0.040232861301094665),\n",
       " ('JetEta(JetPt|0)', 0.03657208164431508),\n",
       " ('JetPhi(JetPt|0)', 0.033089876604939374),\n",
       " ('ZZMass_masked', 0.03216128859443919),\n",
       " ('ExtraLepPt(ExtraLepPt|0)', 0.027482633618457472),\n",
       " ('JetPhi(JetPt|1)', 0.023339702494687406),\n",
       " ('JetEta(JetPt|1)', 0.019393203450061607),\n",
       " ('JetPt(JetPt|1)', 0.016571724495080268),\n",
       " ('nCleanedJetsPt30BTagged_bTagSF', 0.01526812978803193),\n",
       " ('JetPhi(JetPt|2)', 0.01185735459561778),\n",
       " ('ExtraLepEta(ExtraLepPt|0)', 0.007607278701405382),\n",
       " ('nExtraLep', 0.007535848854443829),\n",
       " ('ExtraLepPhi(ExtraLepPt|0)', 0.007178699619636065),\n",
       " ('JetPhi(JetPt|3)', 0.007017982463972571),\n",
       " ('JetEta(JetPt|2)', 0.005428668369078019),\n",
       " ('JetEta(JetPt|3)', 0.00471436989946249),\n",
       " ('Z2Flav', 0.0040179288915873496),\n",
       " ('nCleanedJetsPt30', 0.0036250647332988087),\n",
       " ('JetPt(JetPt|2)', 0.003303630421971821),\n",
       " ('Z1Flav', 0.002446472258433186),\n",
       " ('ExtraLepPt(ExtraLepPt|1)', 0.0021964677940677513),\n",
       " ('JetPt(JetPt|3)', 0.0021250379471061983)]"
      ]
     },
     "execution_count": 158,
     "metadata": {},
     "output_type": "execute_result"
    }
   ],
   "source": [
    "implist"
   ]
  },
  {
   "cell_type": "code",
   "execution_count": 159,
   "metadata": {
    "collapsed": false,
    "scrolled": false
   },
   "outputs": [],
   "source": [
    "%%capture\n",
    "fig, implist = plot_variables([(\"ZHl\", \"ZHMET\")])"
   ]
  },
  {
   "cell_type": "code",
   "execution_count": 160,
   "metadata": {
    "collapsed": true
   },
   "outputs": [],
   "source": [
    "impdict = {convert_varname(entry[0]): [entry[1]] for entry in implist}\n",
    "impdict[\"discriminant\"] = \"D_ZHl_ZHMET_ML\"\n",
    "df = df.append(pd.DataFrame.from_dict(impdict))"
   ]
  },
  {
   "cell_type": "code",
   "execution_count": 161,
   "metadata": {
    "collapsed": true
   },
   "outputs": [],
   "source": [
    "append_variables(confhandler, impdict, threshold_fscore)"
   ]
  },
  {
   "cell_type": "code",
   "execution_count": 162,
   "metadata": {
    "collapsed": false
   },
   "outputs": [
    {
     "data": {
      "text/plain": [
       "[('Z1Mass', 0.11281733746130031),\n",
       " ('PFMET', 0.10835913312693499),\n",
       " ('Z2Pt', 0.10030959752321982),\n",
       " ('Z1Pt', 0.09424148606811146),\n",
       " ('ZZPt', 0.08590299277605778),\n",
       " ('Z2Mass', 0.07777089783281733),\n",
       " ('JetPt(JetPt|0)', 0.05824561403508772),\n",
       " ('ZZMass_masked', 0.04982456140350877),\n",
       " ('ZZEta', 0.04416924664602683),\n",
       " ('ZZMassErr', 0.04346749226006192),\n",
       " ('ExtraLepPt(ExtraLepPt|0)', 0.03847265221878225),\n",
       " ('ZZPhi', 0.03678018575851393),\n",
       " ('JetEta(JetPt|0)', 0.02959752321981424),\n",
       " ('JetPhi(JetPt|0)', 0.019896800825593395),\n",
       " ('JetPt(JetPt|1)', 0.015603715170278637),\n",
       " ('JetPhi(JetPt|1)', 0.01523219814241486),\n",
       " ('nExtraLep', 0.013787409700722394),\n",
       " ('JetEta(JetPt|1)', 0.013126934984520123),\n",
       " ('ExtraLepEta(ExtraLepPt|0)', 0.0086687306501548),\n",
       " ('JetPt(JetPt|2)', 0.008503611971104231),\n",
       " ('nCleanedJetsPt30', 0.006769865841073272),\n",
       " ('Z2Flav', 0.00652218782249742),\n",
       " ('nCleanedJetsPt30BTagged_bTagSF', 0.004705882352941176),\n",
       " ('JetEta(JetPt|2)', 0.0025180598555211557),\n",
       " ('ExtraLepPhi(ExtraLepPt|1)', 0.0013209494324045409),\n",
       " ('ExtraLepPhi(ExtraLepPt|0)', 0.0012796697626418988),\n",
       " ('JetPhi(JetPt|2)', 0.0009907120743034056),\n",
       " ('Z1Flav', 0.0005366357069143447),\n",
       " ('JetPhi(JetPt|3)', 0.0004540763673890609),\n",
       " ('JetPt(JetPt|3)', 0.0001238390092879257)]"
      ]
     },
     "execution_count": 162,
     "metadata": {},
     "output_type": "execute_result"
    }
   ],
   "source": [
    "implist"
   ]
  },
  {
   "cell_type": "code",
   "execution_count": 163,
   "metadata": {
    "collapsed": false,
    "scrolled": false
   },
   "outputs": [],
   "source": [
    "%%capture\n",
    "fig, implist = plot_variables([(\"ZHl\", \"ttHh\")])"
   ]
  },
  {
   "cell_type": "code",
   "execution_count": 164,
   "metadata": {
    "collapsed": true
   },
   "outputs": [],
   "source": [
    "impdict = {convert_varname(entry[0]): [entry[1]] for entry in implist}\n",
    "impdict[\"discriminant\"] = \"D_ZHl_ttHh_ML\"\n",
    "df = df.append(pd.DataFrame.from_dict(impdict))"
   ]
  },
  {
   "cell_type": "code",
   "execution_count": 165,
   "metadata": {
    "collapsed": true
   },
   "outputs": [],
   "source": [
    "append_variables(confhandler, impdict, threshold_fscore)"
   ]
  },
  {
   "cell_type": "code",
   "execution_count": 166,
   "metadata": {
    "collapsed": false
   },
   "outputs": [
    {
     "data": {
      "text/plain": [
       "[('Z1Mass', 0.08260994990952243),\n",
       " ('JetPt(JetPt|0)', 0.0792006503894469),\n",
       " ('Z2Mass', 0.07033647163725053),\n",
       " ('ZZMass_masked', 0.06262620964569511),\n",
       " ('Z2Pt', 0.05787941569851302),\n",
       " ('ZZMassErr', 0.05119194356298025),\n",
       " ('PFMET', 0.05014292832603393),\n",
       " ('JetPt(JetPt|1)', 0.047651517138286435),\n",
       " ('nCleanedJetsPt30BTagged_bTagSF', 0.04696965723427133),\n",
       " ('ZZPt', 0.045501035902546484),\n",
       " ('JetPhi(JetPt|0)', 0.033961868296137),\n",
       " ('JetEta(JetPt|1)', 0.03356848758228213),\n",
       " ('Z1Pt', 0.031549133251160474),\n",
       " ('ExtraLepPt(ExtraLepPt|0)', 0.031181977918229263),\n",
       " ('ZZEta', 0.031024625632687316),\n",
       " ('JetPt(JetPt|2)', 0.02680233930397839),\n",
       " ('JetPt(JetPt|3)', 0.02564842254333744),\n",
       " ('ZZPhi', 0.02415357583068894),\n",
       " ('JetEta(JetPt|0)', 0.022186672261414596),\n",
       " ('ExtraLepEta(ExtraLepPt|0)', 0.021688390023865096),\n",
       " ('JetPhi(JetPt|2)', 0.021242558548162913),\n",
       " ('JetPhi(JetPt|1)', 0.02103275550077365),\n",
       " ('JetEta(JetPt|2)', 0.019957514882903673),\n",
       " ('JetPhi(JetPt|3)', 0.01809551283732396),\n",
       " ('nCleanedJetsPt30', 0.011644069130104115),\n",
       " ('JetEta(JetPt|3)', 0.00904775641866198),\n",
       " ('ExtraLepPhi(ExtraLepPt|0)', 0.007788938134326401),\n",
       " ('Z1Flav', 0.0053762030893498725),\n",
       " ('nExtraLep', 0.0049303716136476885),\n",
       " ('Z2Flav', 0.002543861949594818),\n",
       " ('ExtraLepPt(ExtraLepPt|1)', 0.0014161705698775276),\n",
       " ('nExtraZ', 0.0010490152369463167)]"
      ]
     },
     "execution_count": 166,
     "metadata": {},
     "output_type": "execute_result"
    }
   ],
   "source": [
    "implist"
   ]
  },
  {
   "cell_type": "code",
   "execution_count": 167,
   "metadata": {
    "collapsed": false,
    "scrolled": false
   },
   "outputs": [],
   "source": [
    "%%capture\n",
    "fig, implist = plot_variables([(\"ZHl\", \"ttHl\")])"
   ]
  },
  {
   "cell_type": "code",
   "execution_count": 168,
   "metadata": {
    "collapsed": true
   },
   "outputs": [],
   "source": [
    "impdict = {convert_varname(entry[0]): [entry[1]] for entry in implist}\n",
    "impdict[\"discriminant\"] = \"D_ZHl_ttHl_ML\"\n",
    "df = df.append(pd.DataFrame.from_dict(impdict))"
   ]
  },
  {
   "cell_type": "code",
   "execution_count": 169,
   "metadata": {
    "collapsed": true
   },
   "outputs": [],
   "source": [
    "append_variables(confhandler, impdict, threshold_fscore)"
   ]
  },
  {
   "cell_type": "code",
   "execution_count": 170,
   "metadata": {
    "collapsed": false
   },
   "outputs": [
    {
     "data": {
      "text/plain": [
       "[('PFMET', 0.10811606722161143),\n",
       " ('Z2Mass', 0.09030940788440396),\n",
       " ('Z1Mass', 0.08858174964661536),\n",
       " ('Z1Pt', 0.07234568870739752),\n",
       " ('JetPt(JetPt|0)', 0.06547432071619287),\n",
       " ('Z2Pt', 0.06070362808229936),\n",
       " ('ZZPt', 0.05750353384639548),\n",
       " ('ZZEta', 0.04264174650541856),\n",
       " ('ZZMass_masked', 0.04079629338778074),\n",
       " ('JetPt(JetPt|1)', 0.03557405371446521),\n",
       " ('JetEta(JetPt|0)', 0.03461206219569656),\n",
       " ('ZZPhi', 0.03451389979582221),\n",
       " ('ZZMassErr', 0.02913460028270771),\n",
       " ('JetPhi(JetPt|0)', 0.02817260876393906),\n",
       " ('nCleanedJetsPt30BTagged_bTagSF', 0.022341762211402546),\n",
       " ('ExtraLepPt(ExtraLepPt|0)', 0.0212423433328098),\n",
       " ('JetEta(JetPt|1)', 0.019652112454845296),\n",
       " ('nExtraLep', 0.01658944557876551),\n",
       " ('JetPt(JetPt|2)', 0.01615753101931836),\n",
       " ('JetPhi(JetPt|1)', 0.01435134286163028),\n",
       " ('nExtraZ', 0.013762368462384168),\n",
       " ('JetEta(JetPt|2)', 0.011308308465525364),\n",
       " ('ExtraLepEta(ExtraLepPt|0)', 0.011151248625726402),\n",
       " ('JetPhi(JetPt|2)', 0.010483744306580807),\n",
       " ('ExtraLepPhi(ExtraLepPt|0)', 0.009894769907334695),\n",
       " ('JetPt(JetPt|3)', 0.009030940788440396),\n",
       " ('ExtraLepPt(ExtraLepPt|1)', 0.007322915030626669),\n",
       " ('nCleanedJetsPt30', 0.006792838071305167),\n",
       " ('JetEta(JetPt|3)', 0.005811214072561646),\n",
       " ('ExtraLepEta(ExtraLepPt|1)', 0.004770692633893513),\n",
       " ('ExtraLepPhi(ExtraLepPt|1)', 0.003632008795351029),\n",
       " ('JetPhi(JetPt|3)', 0.0029841369561803047),\n",
       " ('Z1Flav', 0.002493324956808544),\n",
       " ('Z2Flav', 0.0017472907177634679)]"
      ]
     },
     "execution_count": 170,
     "metadata": {},
     "output_type": "execute_result"
    }
   ],
   "source": [
    "implist"
   ]
  },
  {
   "cell_type": "code",
   "execution_count": 171,
   "metadata": {
    "collapsed": false,
    "scrolled": false
   },
   "outputs": [],
   "source": [
    "%%capture\n",
    "fig, implist = plot_variables([(\"ZHMET\", \"ggH\")])"
   ]
  },
  {
   "cell_type": "code",
   "execution_count": 172,
   "metadata": {
    "collapsed": true
   },
   "outputs": [],
   "source": [
    "impdict = {convert_varname(entry[0]): [entry[1]] for entry in implist}\n",
    "impdict[\"discriminant\"] = \"D_ZHMET_ggH_ML\"\n",
    "df = df.append(pd.DataFrame.from_dict(impdict))"
   ]
  },
  {
   "cell_type": "code",
   "execution_count": 173,
   "metadata": {
    "collapsed": true
   },
   "outputs": [],
   "source": [
    "append_variables(confhandler, impdict, threshold_fscore)"
   ]
  },
  {
   "cell_type": "code",
   "execution_count": 174,
   "metadata": {
    "collapsed": false
   },
   "outputs": [
    {
     "data": {
      "text/plain": [
       "[('ZZPt', 0.1614072593763071),\n",
       " ('PFMET', 0.155040200771483),\n",
       " ('ZZPhi', 0.08867407166426547),\n",
       " ('JetPt(JetPt|0)', 0.07621880373658038),\n",
       " ('Z1Pt', 0.06989822001208347),\n",
       " ('ZZEta', 0.06947994608913882),\n",
       " ('Z2Pt', 0.06673792814983501),\n",
       " ('Z1Mass', 0.05939489705814008),\n",
       " ('ZZMassErr', 0.05906957289584979),\n",
       " ('Z2Mass', 0.05762885160570712),\n",
       " ('JetEta(JetPt|0)', 0.04368638750755217),\n",
       " ('JetPhi(JetPt|0)', 0.028163777478272995),\n",
       " ('JetPt(JetPt|1)', 0.01412836361946368),\n",
       " ('JetEta(JetPt|1)', 0.012827066970302552),\n",
       " ('nCleanedJetsPt30', 0.011572245201468606),\n",
       " ('JetPhi(JetPt|1)', 0.006599433006460009),\n",
       " ('Z2Flav', 0.005344611237626063),\n",
       " ('JetPt(JetPt|2)', 0.003764465306501836),\n",
       " ('nCleanedJetsPt30BTagged_bTagSF', 0.002602593298322257),\n",
       " ('Z1Flav', 0.0019519449737416927),\n",
       " ('JetEta(JetPt|2)', 0.00176604545243296),\n",
       " ('ZZMass_masked', 0.0015336710507970442),\n",
       " ('JetPhi(JetPt|2)', 0.0013477715294883115),\n",
       " ('JetPhi(JetPt|3)', 0.00046474880327183155),\n",
       " ('JetPt(JetPt|3)', 0.00037179904261746524),\n",
       " ('ExtraLepPhi(ExtraLepPt|0)', 0.00027884928196309893),\n",
       " ('nExtraLep', 4.6474880327183155e-05)]"
      ]
     },
     "execution_count": 174,
     "metadata": {},
     "output_type": "execute_result"
    }
   ],
   "source": [
    "implist"
   ]
  },
  {
   "cell_type": "code",
   "execution_count": 175,
   "metadata": {
    "collapsed": false,
    "scrolled": false
   },
   "outputs": [],
   "source": [
    "%%capture\n",
    "fig, implist = plot_variables([(\"ZHMET\", \"VBF\")])"
   ]
  },
  {
   "cell_type": "code",
   "execution_count": 176,
   "metadata": {
    "collapsed": true
   },
   "outputs": [],
   "source": [
    "impdict = {convert_varname(entry[0]): [entry[1]] for entry in implist}\n",
    "impdict[\"discriminant\"] = \"D_ZHMET_VBF_ML\"\n",
    "df = df.append(pd.DataFrame.from_dict(impdict))"
   ]
  },
  {
   "cell_type": "code",
   "execution_count": 177,
   "metadata": {
    "collapsed": true
   },
   "outputs": [],
   "source": [
    "append_variables(confhandler, impdict, threshold_fscore)"
   ]
  },
  {
   "cell_type": "code",
   "execution_count": 178,
   "metadata": {
    "collapsed": false
   },
   "outputs": [
    {
     "data": {
      "text/plain": [
       "[('JetEta(JetPt|0)', 0.1456776947705443),\n",
       " ('PFMET', 0.14044823906083245),\n",
       " ('ZZPt', 0.08904304517965136),\n",
       " ('JetPt(JetPt|0)', 0.0832443970117396),\n",
       " ('JetEta(JetPt|1)', 0.06602632515119175),\n",
       " ('Z1Pt', 0.06506581287797937),\n",
       " ('ZZEta', 0.06054784774101743),\n",
       " ('ZZPhi', 0.05090715048025614),\n",
       " ('ZZMassErr', 0.04991106367840626),\n",
       " ('Z1Mass', 0.04966204197794379),\n",
       " ('Z2Mass', 0.04702952685876912),\n",
       " ('Z2Pt', 0.039736748488082535),\n",
       " ('JetPhi(JetPt|0)', 0.03635716826752045),\n",
       " ('JetPt(JetPt|1)', 0.018676627534685165),\n",
       " ('JetPhi(JetPt|1)', 0.015795090715048025),\n",
       " ('JetPhi(JetPt|2)', 0.009889718961223764),\n",
       " ('ZZMass_masked', 0.007506225542511562),\n",
       " ('JetEta(JetPt|2)', 0.005407328352899324),\n",
       " ('nCleanedJetsPt30', 0.004695837780149413),\n",
       " ('nCleanedJetsPt30BTagged_bTagSF', 0.004340092493774457),\n",
       " ('Z1Flav', 0.0035930273923870507),\n",
       " ('Z2Flav', 0.002810387762362149),\n",
       " ('JetPt(JetPt|2)', 0.0026325151191746708),\n",
       " ('JetEta(JetPt|3)', 0.0007470651013874066),\n",
       " ('JetPt(JetPt|3)', 0.00021344717182497332),\n",
       " ('ExtraLepEta(ExtraLepPt|0)', 3.5574528637495556e-05)]"
      ]
     },
     "execution_count": 178,
     "metadata": {},
     "output_type": "execute_result"
    }
   ],
   "source": [
    "implist"
   ]
  },
  {
   "cell_type": "code",
   "execution_count": 179,
   "metadata": {
    "collapsed": false,
    "scrolled": false
   },
   "outputs": [],
   "source": [
    "%%capture\n",
    "fig, implist = plot_variables([(\"ZHMET\", \"WHh\")])"
   ]
  },
  {
   "cell_type": "code",
   "execution_count": 180,
   "metadata": {
    "collapsed": true
   },
   "outputs": [],
   "source": [
    "impdict = {convert_varname(entry[0]): [entry[1]] for entry in implist}\n",
    "impdict[\"discriminant\"] = \"D_ZHMET_WHh_ML\"\n",
    "df = df.append(pd.DataFrame.from_dict(impdict))"
   ]
  },
  {
   "cell_type": "code",
   "execution_count": 181,
   "metadata": {
    "collapsed": true
   },
   "outputs": [],
   "source": [
    "append_variables(confhandler, impdict, threshold_fscore)"
   ]
  },
  {
   "cell_type": "code",
   "execution_count": 182,
   "metadata": {
    "collapsed": false
   },
   "outputs": [
    {
     "data": {
      "text/plain": [
       "[('PFMET', 0.15419155831478662),\n",
       " ('ZZPt', 0.0901175276248487),\n",
       " ('Z1Pt', 0.0732107297645543),\n",
       " ('JetPt(JetPt|0)', 0.07282027253914333),\n",
       " ('ZZEta', 0.07235172386865019),\n",
       " ('JetEta(JetPt|0)', 0.06899379173011597),\n",
       " ('ZZPhi', 0.06532349381125298),\n",
       " ('Z2Pt', 0.0606380071063215),\n",
       " ('Z1Mass', 0.057162937800163995),\n",
       " ('Z2Mass', 0.05673343485221194),\n",
       " ('ZZMassErr', 0.0544297372222873),\n",
       " ('JetPhi(JetPt|0)', 0.04095896294560931),\n",
       " ('JetPt(JetPt|1)', 0.0339307328882121),\n",
       " ('JetPhi(JetPt|1)', 0.022060833235719026),\n",
       " ('nCleanedJetsPt30', 0.01811721525906837),\n",
       " ('JetEta(JetPt|1)', 0.01382218577954785),\n",
       " ('JetPt(JetPt|2)', 0.011049939479130062),\n",
       " ('ZZMass_masked', 0.006325407051657491),\n",
       " ('JetPt(JetPt|3)', 0.0060911327164109175),\n",
       " ('Z2Flav', 0.005895904103705439),\n",
       " ('JetPhi(JetPt|2)', 0.005661629768458866),\n",
       " ('Z1Flav', 0.0040607551442739444),\n",
       " ('JetEta(JetPt|2)', 0.003943617976650658),\n",
       " ('nCleanedJetsPt30BTagged_bTagSF', 0.0012885088438561556),\n",
       " ('JetEta(JetPt|3)', 0.0007809144508219124),\n",
       " ('JetPhi(JetPt|3)', 3.904572254109562e-05)]"
      ]
     },
     "execution_count": 182,
     "metadata": {},
     "output_type": "execute_result"
    }
   ],
   "source": [
    "implist"
   ]
  },
  {
   "cell_type": "code",
   "execution_count": 183,
   "metadata": {
    "collapsed": false,
    "scrolled": false
   },
   "outputs": [],
   "source": [
    "%%capture\n",
    "fig, implist = plot_variables([(\"ZHMET\", \"ttHh\")])"
   ]
  },
  {
   "cell_type": "code",
   "execution_count": 184,
   "metadata": {
    "collapsed": true
   },
   "outputs": [],
   "source": [
    "impdict = {convert_varname(entry[0]): [entry[1]] for entry in implist}\n",
    "impdict[\"discriminant\"] = \"D_ZHMET_ttHh_ML\"\n",
    "df = df.append(pd.DataFrame.from_dict(impdict))"
   ]
  },
  {
   "cell_type": "code",
   "execution_count": 185,
   "metadata": {
    "collapsed": true
   },
   "outputs": [],
   "source": [
    "append_variables(confhandler, impdict, threshold_fscore)"
   ]
  },
  {
   "cell_type": "code",
   "execution_count": 186,
   "metadata": {
    "collapsed": false
   },
   "outputs": [
    {
     "data": {
      "text/plain": [
       "[('PFMET', 0.2372835497835498),\n",
       " ('JetPt(JetPt|0)', 0.10849567099567099),\n",
       " ('nCleanedJetsPt30BTagged_bTagSF', 0.08955627705627706),\n",
       " ('nCleanedJetsPt30', 0.07602813852813853),\n",
       " ('JetEta(JetPt|0)', 0.07305194805194805),\n",
       " ('JetPt(JetPt|1)', 0.060064935064935064),\n",
       " ('JetPt(JetPt|2)', 0.058982683982683984),\n",
       " ('ExtraLepPt(ExtraLepPt|0)', 0.03706709956709957),\n",
       " ('ZZMass_masked', 0.035173160173160176),\n",
       " ('Z1Mass', 0.029491341991341992),\n",
       " ('JetEta(JetPt|2)', 0.029491341991341992),\n",
       " ('Z1Pt', 0.02867965367965368),\n",
       " ('JetPt(JetPt|3)', 0.026515151515151516),\n",
       " ('Z2Pt', 0.021374458874458876),\n",
       " ('Z2Mass', 0.019751082251082252),\n",
       " ('JetPhi(JetPt|0)', 0.01893939393939394),\n",
       " ('ZZEta', 0.017586580086580088),\n",
       " ('ZZPt', 0.015422077922077922),\n",
       " ('ZZPhi', 0.007575757575757576),\n",
       " ('nExtraLep', 0.002976190476190476),\n",
       " ('JetEta(JetPt|1)', 0.002435064935064935),\n",
       " ('JetEta(JetPt|3)', 0.0021645021645021645),\n",
       " ('JetPhi(JetPt|1)', 0.0008116883116883117),\n",
       " ('ZZMassErr', 0.0005411255411255411),\n",
       " ('JetPhi(JetPt|3)', 0.0005411255411255411)]"
      ]
     },
     "execution_count": 186,
     "metadata": {},
     "output_type": "execute_result"
    }
   ],
   "source": [
    "implist"
   ]
  },
  {
   "cell_type": "code",
   "execution_count": 187,
   "metadata": {
    "collapsed": false,
    "scrolled": false
   },
   "outputs": [],
   "source": [
    "%%capture\n",
    "fig, implist = plot_variables([(\"ZHMET\", \"ttHl\")])"
   ]
  },
  {
   "cell_type": "code",
   "execution_count": 188,
   "metadata": {
    "collapsed": true
   },
   "outputs": [],
   "source": [
    "impdict = {convert_varname(entry[0]): [entry[1]] for entry in implist}\n",
    "impdict[\"discriminant\"] = \"D_ZHMET_ttHl_ML\"\n",
    "df = df.append(pd.DataFrame.from_dict(impdict))"
   ]
  },
  {
   "cell_type": "code",
   "execution_count": 189,
   "metadata": {
    "collapsed": true
   },
   "outputs": [],
   "source": [
    "append_variables(confhandler, impdict, threshold_fscore)"
   ]
  },
  {
   "cell_type": "code",
   "execution_count": 190,
   "metadata": {
    "collapsed": false
   },
   "outputs": [
    {
     "data": {
      "text/plain": [
       "[('Z1Mass', 0.10904103917611137),\n",
       " ('Z2Mass', 0.08611499249598924),\n",
       " ('PFMET', 0.07452258965999069),\n",
       " ('ZZMass_masked', 0.06846762925011644),\n",
       " ('JetPt(JetPt|0)', 0.060601355897117425),\n",
       " ('ExtraLepPt(ExtraLepPt|0)', 0.05066501060911867),\n",
       " ('ZZPt', 0.04983698183511877),\n",
       " ('Z2Pt', 0.04668012213424416),\n",
       " ('ZZEta', 0.04331625523986959),\n",
       " ('ZZPhi', 0.042332971070744706),\n",
       " ('JetPt(JetPt|3)', 0.041401438699994825),\n",
       " ('nCleanedJetsPt30', 0.03984888474874502),\n",
       " ('ZZMassErr', 0.037778812813745274),\n",
       " ('JetEta(JetPt|0)', 0.03720954303162035),\n",
       " ('nExtraLep', 0.03653676965274543),\n",
       " ('Z1Pt', 0.02665217616312167),\n",
       " ('nCleanedJetsPt30BTagged_bTagSF', 0.022822543083372147),\n",
       " ('JetPt(JetPt|1)', 0.02064896755162242),\n",
       " ('JetPhi(JetPt|0)', 0.019717435180872534),\n",
       " ('JetEta(JetPt|1)', 0.01552553951249806),\n",
       " ('JetPt(JetPt|2)', 0.014438751746623195),\n",
       " ('JetPhi(JetPt|1)', 0.014283496351498214),\n",
       " ('JetEta(JetPt|2)', 0.009211820110748848),\n",
       " ('JetPhi(JetPt|2)', 0.006261967603374217),\n",
       " ('Z2Flav', 0.005951456813124256),\n",
       " ('ExtraLepEta(ExtraLepPt|0)', 0.005847953216374269),\n",
       " ('ExtraLepPhi(ExtraLepPt|0)', 0.005175179837499353),\n",
       " ('ExtraLepPhi(ExtraLepPt|1)', 0.004036640273249495),\n",
       " ('JetEta(JetPt|3)', 0.0020183201366247476),\n",
       " ('Z1Flav', 0.001656057547999793),\n",
       " ('JetPhi(JetPt|3)', 0.0013972985561248254)]"
      ]
     },
     "execution_count": 190,
     "metadata": {},
     "output_type": "execute_result"
    }
   ],
   "source": [
    "implist"
   ]
  },
  {
   "cell_type": "code",
   "execution_count": 191,
   "metadata": {
    "collapsed": false,
    "scrolled": false
   },
   "outputs": [],
   "source": [
    "%%capture\n",
    "fig, implist = plot_variables([(\"ttHh\", \"ggH\")])"
   ]
  },
  {
   "cell_type": "code",
   "execution_count": 192,
   "metadata": {
    "collapsed": true
   },
   "outputs": [],
   "source": [
    "impdict = {convert_varname(entry[0]): [entry[1]] for entry in implist}\n",
    "impdict[\"discriminant\"] = \"D_ttHh_ggH_ML\"\n",
    "df = df.append(pd.DataFrame.from_dict(impdict))"
   ]
  },
  {
   "cell_type": "code",
   "execution_count": 193,
   "metadata": {
    "collapsed": true
   },
   "outputs": [],
   "source": [
    "append_variables(confhandler, impdict, threshold_fscore)"
   ]
  },
  {
   "cell_type": "code",
   "execution_count": 194,
   "metadata": {
    "collapsed": false
   },
   "outputs": [
    {
     "data": {
      "text/plain": [
       "[('JetEta(JetPt|0)', 0.08706655017624197),\n",
       " ('JetEta(JetPt|1)', 0.08375259843943),\n",
       " ('JetPt(JetPt|0)', 0.0835718374356039),\n",
       " ('PFMET', 0.07043653782424004),\n",
       " ('JetPt(JetPt|1)', 0.058747326243485075),\n",
       " ('Z1Pt', 0.056758955201397884),\n",
       " ('ZZPt', 0.05615641852197752),\n",
       " ('nCleanedJetsPt30BTagged_bTagSF', 0.04645557798330974),\n",
       " ('ZZPhi', 0.039707167173801704),\n",
       " ('JetPt(JetPt|2)', 0.03946615250203356),\n",
       " ('ZZEta', 0.03666435694272889),\n",
       " ('JetEta(JetPt|2)', 0.03579067875756937),\n",
       " ('JetPhi(JetPt|1)', 0.03365167354562709),\n",
       " ('JetPhi(JetPt|0)', 0.03259723435664146),\n",
       " ('JetPt(JetPt|3)', 0.03244660018678637),\n",
       " ('Z2Pt', 0.03211520501310517),\n",
       " ('Z2Mass', 0.03124152682794565),\n",
       " ('Z1Mass', 0.027897448257162654),\n",
       " ('ZZMassErr', 0.02494501852800289),\n",
       " ('nCleanedJetsPt30', 0.017112041695538215),\n",
       " ('JetEta(JetPt|3)', 0.015816587834784443),\n",
       " ('ZZMass_masked', 0.011719338414725996),\n",
       " ('JetPhi(JetPt|2)', 0.009188684361160486),\n",
       " ('JetPhi(JetPt|3)', 0.009098303859247432),\n",
       " ('ExtraLepPt(ExtraLepPt|0)', 0.007411201156870425),\n",
       " ('ExtraLepEta(ExtraLepPt|0)', 0.0051818154430150936),\n",
       " ('Z1Flav', 0.005001054439188986),\n",
       " ('nExtraLep', 0.004910673937275931),\n",
       " ('Z2Flav', 0.0030729370650438344),\n",
       " ('ExtraLepPhi(ExtraLepPt|0)', 0.002018497876058205)]"
      ]
     },
     "execution_count": 194,
     "metadata": {},
     "output_type": "execute_result"
    }
   ],
   "source": [
    "implist"
   ]
  },
  {
   "cell_type": "code",
   "execution_count": 195,
   "metadata": {
    "collapsed": false,
    "scrolled": false
   },
   "outputs": [],
   "source": [
    "%%capture\n",
    "fig, implist = plot_variables([(\"ttHh\", \"VBF\")])"
   ]
  },
  {
   "cell_type": "code",
   "execution_count": 196,
   "metadata": {
    "collapsed": true
   },
   "outputs": [],
   "source": [
    "impdict = {convert_varname(entry[0]): [entry[1]] for entry in implist}\n",
    "impdict[\"discriminant\"] = \"D_ttHh_VBF_ML\"\n",
    "df = df.append(pd.DataFrame.from_dict(impdict))"
   ]
  },
  {
   "cell_type": "code",
   "execution_count": 197,
   "metadata": {
    "collapsed": true
   },
   "outputs": [],
   "source": [
    "append_variables(confhandler, impdict, threshold_fscore)"
   ]
  },
  {
   "cell_type": "code",
   "execution_count": 198,
   "metadata": {
    "collapsed": false
   },
   "outputs": [
    {
     "data": {
      "text/plain": [
       "[('JetEta(JetPt|0)', 0.15780433342330627),\n",
       " ('JetEta(JetPt|1)', 0.14668858734326307),\n",
       " ('JetEta(JetPt|2)', 0.08338036463573234),\n",
       " ('JetPt(JetPt|0)', 0.049346060412730354),\n",
       " ('PFMET', 0.044536598532623366),\n",
       " ('ZZEta', 0.0418374107427674),\n",
       " ('JetPt(JetPt|1)', 0.04053689298947317),\n",
       " ('JetPt(JetPt|2)', 0.03661080165877359),\n",
       " ('Z2Mass', 0.032169410840919684),\n",
       " ('Z1Pt', 0.03204672048683532),\n",
       " ('nCleanedJetsPt30BTagged_bTagSF', 0.030010060609034918),\n",
       " ('Z1Mass', 0.02868500478492381),\n",
       " ('JetPhi(JetPt|1)', 0.02797340073123451),\n",
       " ('ZZMassErr', 0.027605329668981424),\n",
       " ('JetPt(JetPt|3)', 0.026378426128137806),\n",
       " ('ZZPhi', 0.025519593649547274),\n",
       " ('ZZPt', 0.025225136799744804),\n",
       " ('JetEta(JetPt|3)', 0.02404730940053493),\n",
       " ('JetPhi(JetPt|0)', 0.02365470026746497),\n",
       " ('nCleanedJetsPt30', 0.021029126690059626),\n",
       " ('Z2Pt', 0.020808284052707775),\n",
       " ('JetPhi(JetPt|2)', 0.014624690206855938),\n",
       " ('ZZMass_masked', 0.008465634431820971),\n",
       " ('JetPhi(JetPt|3)', 0.007901258803032905),\n",
       " ('ExtraLepPt(ExtraLepPt|0)', 0.00785218266139916),\n",
       " ('ExtraLepPhi(ExtraLepPt|0)', 0.005251147154810689),\n",
       " ('ExtraLepEta(ExtraLepPt|0)', 0.003558020268446495),\n",
       " ('nExtraLep', 0.0023556547984197483),\n",
       " ('Z1Flav', 0.0022575025151522587),\n",
       " ('Z2Flav', 0.0018403553112654283)]"
      ]
     },
     "execution_count": 198,
     "metadata": {},
     "output_type": "execute_result"
    }
   ],
   "source": [
    "implist"
   ]
  },
  {
   "cell_type": "code",
   "execution_count": 199,
   "metadata": {
    "collapsed": false,
    "scrolled": false
   },
   "outputs": [],
   "source": [
    "%%capture\n",
    "fig, implist = plot_variables([(\"ttHh\", \"WHh\")])"
   ]
  },
  {
   "cell_type": "code",
   "execution_count": 200,
   "metadata": {
    "collapsed": true
   },
   "outputs": [],
   "source": [
    "impdict = {convert_varname(entry[0]): [entry[1]] for entry in implist}\n",
    "impdict[\"discriminant\"] = \"D_ttHh_WHh_ML\"\n",
    "df = df.append(pd.DataFrame.from_dict(impdict))"
   ]
  },
  {
   "cell_type": "code",
   "execution_count": 201,
   "metadata": {
    "collapsed": true
   },
   "outputs": [],
   "source": [
    "append_variables(confhandler, impdict, threshold_fscore)"
   ]
  },
  {
   "cell_type": "code",
   "execution_count": 202,
   "metadata": {
    "collapsed": false
   },
   "outputs": [
    {
     "data": {
      "text/plain": [
       "[('PFMET', 0.08238682241481401),\n",
       " ('JetPt(JetPt|0)', 0.07956074716046724),\n",
       " ('JetPt(JetPt|1)', 0.06909081121817301),\n",
       " ('ZZPt', 0.06351940571674651),\n",
       " ('Z1Pt', 0.05762502018625182),\n",
       " ('JetEta(JetPt|0)', 0.052161274694514724),\n",
       " ('nCleanedJetsPt30BTagged_bTagSF', 0.044921139042902514),\n",
       " ('ZZMassErr', 0.04478656403079076),\n",
       " ('ZZEta', 0.043440813909673255),\n",
       " ('JetPhi(JetPt|1)', 0.041502933735264036),\n",
       " ('JetEta(JetPt|1)', 0.03854228346880551),\n",
       " ('JetPt(JetPt|2)', 0.03808472842762556),\n",
       " ('Z2Mass', 0.03684663831619745),\n",
       " ('Z1Mass', 0.03663131829681865),\n",
       " ('ZZPhi', 0.036146848253216346),\n",
       " ('JetPhi(JetPt|0)', 0.03461269311514238),\n",
       " ('Z2Pt', 0.034235883081229476),\n",
       " ('JetEta(JetPt|2)', 0.028879797599181783),\n",
       " ('JetPt(JetPt|3)', 0.02309307207837649),\n",
       " ('JetEta(JetPt|3)', 0.022447112020240082),\n",
       " ('nCleanedJetsPt30', 0.01945954675135921),\n",
       " ('JetPhi(JetPt|2)', 0.018948161705334553),\n",
       " ('ZZMass_masked', 0.012784626150616353),\n",
       " ('JetPhi(JetPt|3)', 0.009447165850244927),\n",
       " ('ExtraLepPt(ExtraLepPt|0)', 0.0074285406685686605),\n",
       " ('ExtraLepPhi(ExtraLepPt|0)', 0.0070248156322334065),\n",
       " ('nExtraLep', 0.006890240620121656),\n",
       " ('ExtraLepEta(ExtraLepPt|0)', 0.006459600581364053),\n",
       " ('Z2Flav', 0.0016149001453410132),\n",
       " ('Z1Flav', 0.0014264951283845615)]"
      ]
     },
     "execution_count": 202,
     "metadata": {},
     "output_type": "execute_result"
    }
   ],
   "source": [
    "implist"
   ]
  },
  {
   "cell_type": "code",
   "execution_count": 203,
   "metadata": {
    "collapsed": false,
    "scrolled": false
   },
   "outputs": [],
   "source": [
    "%%capture\n",
    "fig, implist = plot_variables([(\"ttHh\", \"ttHl\")])"
   ]
  },
  {
   "cell_type": "code",
   "execution_count": 204,
   "metadata": {
    "collapsed": true
   },
   "outputs": [],
   "source": [
    "impdict = {convert_varname(entry[0]): [entry[1]] for entry in implist}\n",
    "impdict[\"discriminant\"] = \"D_ttHh_ttHl_ML\"\n",
    "df = df.append(pd.DataFrame.from_dict(impdict))"
   ]
  },
  {
   "cell_type": "code",
   "execution_count": 205,
   "metadata": {
    "collapsed": true
   },
   "outputs": [],
   "source": [
    "append_variables(confhandler, impdict, threshold_fscore)"
   ]
  },
  {
   "cell_type": "code",
   "execution_count": 206,
   "metadata": {
    "collapsed": false
   },
   "outputs": [
    {
     "data": {
      "text/plain": [
       "[('PFMET', 0.09847921421793655),\n",
       " ('Z1Mass', 0.07752673556792244),\n",
       " ('ZZPt', 0.05159900494960634),\n",
       " ('ZZMassErr', 0.04990639345523556),\n",
       " ('JetPt(JetPt|0)', 0.04236657861667479),\n",
       " ('JetPhi(JetPt|0)', 0.042187059215756675),\n",
       " ('Z2Pt', 0.04049444772138589),\n",
       " ('JetPt(JetPt|3)', 0.03975072448901085),\n",
       " ('ZZEta', 0.03949426820198497),\n",
       " ('Z2Mass', 0.038186341138153),\n",
       " ('JetEta(JetPt|0)', 0.034570307491088144),\n",
       " ('JetPt(JetPt|2)', 0.03439078809017003),\n",
       " ('ExtraLepPt(ExtraLepPt|0)', 0.033493191085579466),\n",
       " ('JetPhi(JetPt|2)', 0.03346754545687688),\n",
       " ('ZZPhi', 0.03313415228374324),\n",
       " ('Z1Pt', 0.03308286102633806),\n",
       " ('JetPhi(JetPt|1)', 0.031903162106019026),\n",
       " ('ZZMass_masked', 0.03146718641807504),\n",
       " ('nCleanedJetsPt30', 0.031415895160669866),\n",
       " ('JetEta(JetPt|1)', 0.029082142948734388),\n",
       " ('JetPhi(JetPt|3)', 0.028158900315441233),\n",
       " ('JetEta(JetPt|2)', 0.026081604390531633),\n",
       " ('JetPt(JetPt|1)', 0.024209473495242734),\n",
       " ('JetEta(JetPt|3)', 0.0222091144564409),\n",
       " ('nCleanedJetsPt30BTagged_bTagSF', 0.020413920447259766),\n",
       " ('ExtraLepPhi(ExtraLepPt|0)', 0.014669299617880133),\n",
       " ('ExtraLepEta(ExtraLepPt|0)', 0.00969404764957813),\n",
       " ('Z2Flav', 0.0036160336470648577),\n",
       " ('Z1Flav', 0.002744082271176878),\n",
       " ('ExtraLepEta(ExtraLepPt|1)', 0.0011284076629138563),\n",
       " ('nExtraLep', 0.001077116405508681)]"
      ]
     },
     "execution_count": 206,
     "metadata": {},
     "output_type": "execute_result"
    }
   ],
   "source": [
    "implist"
   ]
  },
  {
   "cell_type": "code",
   "execution_count": 207,
   "metadata": {
    "collapsed": false,
    "scrolled": false
   },
   "outputs": [],
   "source": [
    "%%capture\n",
    "fig, implist = plot_variables([(\"ttHl\", \"ggH\")])"
   ]
  },
  {
   "cell_type": "code",
   "execution_count": 208,
   "metadata": {
    "collapsed": true
   },
   "outputs": [],
   "source": [
    "impdict = {convert_varname(entry[0]): [entry[1]] for entry in implist}\n",
    "impdict[\"discriminant\"] = \"D_ttHl_ggH_ML\"\n",
    "df = df.append(pd.DataFrame.from_dict(impdict))"
   ]
  },
  {
   "cell_type": "code",
   "execution_count": 209,
   "metadata": {
    "collapsed": true
   },
   "outputs": [],
   "source": [
    "append_variables(confhandler, impdict, threshold_fscore)"
   ]
  },
  {
   "cell_type": "code",
   "execution_count": 210,
   "metadata": {
    "collapsed": false
   },
   "outputs": [
    {
     "data": {
      "text/plain": [
       "[('PFMET', 0.13029386866610232),\n",
       " ('Z1Mass', 0.06849679525940258),\n",
       " ('ZZMass_masked', 0.06658604426170033),\n",
       " ('ZZPt', 0.06431249244164954),\n",
       " ('JetPt(JetPt|0)', 0.05623412746402225),\n",
       " ('Z2Pt', 0.04924416495344056),\n",
       " ('ExtraLepPt(ExtraLepPt|0)', 0.04752690772765752),\n",
       " ('Z2Mass', 0.04508404885717741),\n",
       " ('JetEta(JetPt|0)', 0.04329423146692466),\n",
       " ('Z1Pt', 0.04278631031563671),\n",
       " ('ZZMassErr', 0.042423509493288186),\n",
       " ('JetPt(JetPt|1)', 0.04181884145604063),\n",
       " ('ZZPhi', 0.040029024065787885),\n",
       " ('ZZEta', 0.03867456766235337),\n",
       " ('JetEta(JetPt|1)', 0.038481073890434155),\n",
       " ('JetPhi(JetPt|0)', 0.02735518200507921),\n",
       " ('nCleanedJetsPt30BTagged_bTagSF', 0.023606240174144394),\n",
       " ('nCleanedJetsPt30', 0.023219252630305963),\n",
       " ('nExtraLep', 0.019712178014270165),\n",
       " ('JetPt(JetPt|2)', 0.018212601281896237),\n",
       " ('JetEta(JetPt|2)', 0.016229290119724273),\n",
       " ('JetPhi(JetPt|1)', 0.01373805780626436),\n",
       " ('JetPt(JetPt|3)', 0.010085862861289152),\n",
       " ('JetEta(JetPt|3)', 0.008199298585076793),\n",
       " ('ExtraLepEta(ExtraLepPt|0)', 0.00817511186358689),\n",
       " ('JetPhi(JetPt|2)', 0.005393638892248156),\n",
       " ('JetPhi(JetPt|3)', 0.004668037247551094),\n",
       " ('Z1Flav', 0.002200991655581086),\n",
       " ('Z2Flav', 0.002176804934091184),\n",
       " ('ExtraLepPhi(ExtraLepPt|0)', 0.0017414439472729472)]"
      ]
     },
     "execution_count": 210,
     "metadata": {},
     "output_type": "execute_result"
    }
   ],
   "source": [
    "implist"
   ]
  },
  {
   "cell_type": "code",
   "execution_count": 211,
   "metadata": {
    "collapsed": false,
    "scrolled": false
   },
   "outputs": [],
   "source": [
    "%%capture\n",
    "fig, implist = plot_variables([(\"ttHl\", \"VBF\")])"
   ]
  },
  {
   "cell_type": "code",
   "execution_count": 212,
   "metadata": {
    "collapsed": true
   },
   "outputs": [],
   "source": [
    "impdict = {convert_varname(entry[0]): [entry[1]] for entry in implist}\n",
    "impdict[\"discriminant\"] = \"D_ttHl_VBF_ML\"\n",
    "df = df.append(pd.DataFrame.from_dict(impdict))"
   ]
  },
  {
   "cell_type": "code",
   "execution_count": 213,
   "metadata": {
    "collapsed": true
   },
   "outputs": [],
   "source": [
    "append_variables(confhandler, impdict, threshold_fscore)"
   ]
  },
  {
   "cell_type": "code",
   "execution_count": 214,
   "metadata": {
    "collapsed": false
   },
   "outputs": [
    {
     "data": {
      "text/plain": [
       "[('JetEta(JetPt|0)', 0.10585940923832063),\n",
       " ('PFMET', 0.09113419230432115),\n",
       " ('JetEta(JetPt|1)', 0.08228153212376194),\n",
       " ('Z1Mass', 0.06256025944429836),\n",
       " ('ZZMass_masked', 0.047090016653519154),\n",
       " ('ZZEta', 0.046301165746340606),\n",
       " ('ZZPt', 0.042422648786046104),\n",
       " ('ZZMassErr', 0.04191866070645981),\n",
       " ('Z2Mass', 0.04106407222368306),\n",
       " ('ExtraLepPt(ExtraLepPt|0)', 0.04045052151809975),\n",
       " ('JetPt(JetPt|0)', 0.03806205627136471),\n",
       " ('JetEta(JetPt|2)', 0.03560785344903147),\n",
       " ('JetPt(JetPt|1)', 0.035169602945043385),\n",
       " ('Z2Pt', 0.033548076080287495),\n",
       " ('JetPt(JetPt|2)', 0.032079936891927424),\n",
       " ('Z1Pt', 0.03186081163993339),\n",
       " ('ZZPhi', 0.027061968621263914),\n",
       " ('JetPhi(JetPt|0)', 0.023599789639758086),\n",
       " ('nCleanedJetsPt30BTagged_bTagSF', 0.02329301428696643),\n",
       " ('nCleanedJetsPt30', 0.021715312472609345),\n",
       " ('JetPhi(JetPt|1)', 0.020093785607853448),\n",
       " ('ExtraLepEta(ExtraLepPt|0)', 0.019787010255061792),\n",
       " ('JetPt(JetPt|3)', 0.014659479358401261),\n",
       " ('JetEta(JetPt|3)', 0.008962222806556227),\n",
       " ('nExtraLep', 0.008567797352966956),\n",
       " ('JetPhi(JetPt|3)', 0.007033920589008678),\n",
       " ('JetPhi(JetPt|2)', 0.006595670085020598),\n",
       " ('Z1Flav', 0.005500043825050399),\n",
       " ('ExtraLepPhi(ExtraLepPt|0)', 0.0034183539311070208),\n",
       " ('Z2Flav', 0.0019502147427469542),\n",
       " ('ExtraLepPt(ExtraLepPt|1)', 0.00035060040319046367)]"
      ]
     },
     "execution_count": 214,
     "metadata": {},
     "output_type": "execute_result"
    }
   ],
   "source": [
    "implist"
   ]
  },
  {
   "cell_type": "code",
   "execution_count": 215,
   "metadata": {
    "collapsed": false,
    "scrolled": false
   },
   "outputs": [],
   "source": [
    "%%capture\n",
    "fig, implist = plot_variables([(\"ttHl\", \"WHh\")])"
   ]
  },
  {
   "cell_type": "code",
   "execution_count": 216,
   "metadata": {
    "collapsed": true
   },
   "outputs": [],
   "source": [
    "impdict = {convert_varname(entry[0]): [entry[1]] for entry in implist}\n",
    "impdict[\"discriminant\"] = \"D_ttHl_WHh_ML\"\n",
    "df = df.append(pd.DataFrame.from_dict(impdict))"
   ]
  },
  {
   "cell_type": "code",
   "execution_count": 217,
   "metadata": {
    "collapsed": true
   },
   "outputs": [],
   "source": [
    "append_variables(confhandler, impdict, threshold_fscore)"
   ]
  },
  {
   "cell_type": "code",
   "execution_count": 218,
   "metadata": {
    "collapsed": false
   },
   "outputs": [
    {
     "data": {
      "text/plain": [
       "[('PFMET', 0.14763102510138082),\n",
       " ('ZZMass_masked', 0.0859812124634259),\n",
       " ('ExtraLepPt(ExtraLepPt|0)', 0.07150556952928494),\n",
       " ('ZZPt', 0.06842564550074431),\n",
       " ('Z1Mass', 0.061136491966531495),\n",
       " ('JetPt(JetPt|0)', 0.059750526153688206),\n",
       " ('nCleanedJetsPt30BTagged_bTagSF', 0.04660951696524819),\n",
       " ('ZZMassErr', 0.04183563472101021),\n",
       " ('Z2Mass', 0.038499050356757866),\n",
       " ('Z2Pt', 0.03629177146963708),\n",
       " ('JetPt(JetPt|1)', 0.03136389302397208),\n",
       " ('JetPt(JetPt|2)', 0.03023458754684051),\n",
       " ('JetEta(JetPt|0)', 0.025563369436887223),\n",
       " ('Z1Pt', 0.025358041168317847),\n",
       " ('JetEta(JetPt|1)', 0.025204044966890816),\n",
       " ('ZZEta', 0.02340742261690878),\n",
       " ('JetPhi(JetPt|1)', 0.022791437811200656),\n",
       " ('ZZPhi', 0.022637441609773625),\n",
       " ('nCleanedJetsPt30', 0.021456804065499716),\n",
       " ('JetPt(JetPt|3)', 0.0182742159026744),\n",
       " ('nExtraLep', 0.015296956008418459),\n",
       " ('JetPhi(JetPt|3)', 0.014732303269852677),\n",
       " ('ExtraLepEta(ExtraLepPt|0)', 0.013243673322724706),\n",
       " ('JetPhi(JetPt|2)', 0.01262768851701658),\n",
       " ('JetPhi(JetPt|0)', 0.011652379241312048),\n",
       " ('ExtraLepPhi(ExtraLepPt|0)', 0.009650428622760639),\n",
       " ('JetEta(JetPt|2)', 0.007135157332785792),\n",
       " ('JetEta(JetPt|3)', 0.005133206714234382),\n",
       " ('Z1Flav', 0.004414557774241569),\n",
       " ('Z2Flav', 0.0021559468199784403)]"
      ]
     },
     "execution_count": 218,
     "metadata": {},
     "output_type": "execute_result"
    }
   ],
   "source": [
    "implist"
   ]
  },
  {
   "cell_type": "code",
   "execution_count": 219,
   "metadata": {
    "collapsed": true
   },
   "outputs": [],
   "source": [
    "# save the variable configuration\n",
    "confhandler.save_configuration(out_path)"
   ]
  },
  {
   "cell_type": "code",
   "execution_count": 220,
   "metadata": {
    "collapsed": false
   },
   "outputs": [],
   "source": [
    "df = df.fillna(0.0)"
   ]
  },
  {
   "cell_type": "code",
   "execution_count": 221,
   "metadata": {
    "collapsed": false
   },
   "outputs": [],
   "source": [
    "df.to_csv(\"input_parameters_table_ZZMask.csv\")"
   ]
  },
  {
   "cell_type": "code",
   "execution_count": 222,
   "metadata": {
    "collapsed": false
   },
   "outputs": [],
   "source": [
    "# now plot the data contained in the table to have a global picture of the relevant input variables\n",
    "datacol_labels = [col for col in df.columns.tolist() if col != \"discriminant\"]\n",
    "variable_data = df[datacol_labels].as_matrix().transpose()\n",
    "datacol_labels = np.concatenate([[''], np.array(datacol_labels)])"
   ]
  },
  {
   "cell_type": "code",
   "execution_count": 223,
   "metadata": {
    "collapsed": true
   },
   "outputs": [],
   "source": [
    "discriminant_labels = np.concatenate([[''], df[\"discriminant\"].as_matrix()])"
   ]
  },
  {
   "cell_type": "code",
   "execution_count": 224,
   "metadata": {
    "collapsed": false
   },
   "outputs": [],
   "source": [
    "fig = plt.figure(figsize = (15, 10))\n",
    "ax = fig.add_subplot(111)\n",
    "cax = ax.matshow(variable_data, interpolation = 'nearest', cmap = 'Blues', vmin = np.min(variable_data), vmax = np.max(variable_data))\n",
    "ax.set_xticklabels(discriminant_labels, rotation = 'vertical')\n",
    "ax.set_yticklabels(datacol_labels)\n",
    "ax.xaxis.set_major_locator(ticker.MultipleLocator(1))\n",
    "ax.yaxis.set_major_locator(ticker.MultipleLocator(1))"
   ]
  },
  {
   "cell_type": "code",
   "execution_count": 225,
   "metadata": {
    "collapsed": false
   },
   "outputs": [],
   "source": [
    "plt.tight_layout()\n",
    "plt.savefig(os.path.join(out_dir, \"input_variables_exclusive_fullmassrange_ZZMask.pdf\"))"
   ]
  }
 ],
 "metadata": {
  "kernelspec": {
   "display_name": "Python 2",
   "language": "python",
   "name": "python2"
  },
  "language_info": {
   "codemirror_mode": {
    "name": "ipython",
    "version": 2
   },
   "file_extension": ".py",
   "mimetype": "text/x-python",
   "name": "python",
   "nbconvert_exporter": "python",
   "pygments_lexer": "ipython2",
   "version": "2.7.11"
  }
 },
 "nbformat": 4,
 "nbformat_minor": 2
}
