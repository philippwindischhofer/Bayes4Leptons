{
 "cells": [
  {
   "cell_type": "code",
   "execution_count": 1,
   "metadata": {
    "collapsed": false
   },
   "outputs": [],
   "source": [
    "import configparser\n",
    "import numpy as np\n",
    "import os\n",
    "import copy"
   ]
  },
  {
   "cell_type": "code",
   "execution_count": 2,
   "metadata": {
    "collapsed": false
   },
   "outputs": [
    {
     "name": "stderr",
     "output_type": "stream",
     "text": [
      "Using TensorFlow backend.\n"
     ]
    },
    {
     "name": "stdout",
     "output_type": "stream",
     "text": [
      "Welcome to JupyROOT 6.10/09\n"
     ]
    }
   ],
   "source": [
    "from trainlib.config import Config\n",
    "from trainlib.SimpleModel import SimpleModel\n",
    "from trainlib.ModelFactory import ModelFactory\n",
    "from trainlib.ConfigFileHandler import ConfigFileHandler\n",
    "from trainlib.ModelCollectionConfigFileHandler import ModelCollectionConfigFileHandler"
   ]
  },
  {
   "cell_type": "code",
   "execution_count": 3,
   "metadata": {
    "collapsed": true
   },
   "outputs": [],
   "source": [
    "def dict_to_dirname(in_dict):\n",
    "    dirname = \"\"\n",
    "    for key, val in in_dict.iteritems():\n",
    "        dirname += str(key) + \"_\" + str(val) + \"_\"\n",
    "        \n",
    "    return dirname[:-1]"
   ]
  },
  {
   "cell_type": "code",
   "execution_count": 4,
   "metadata": {
    "collapsed": false
   },
   "outputs": [],
   "source": [
    "def augment_config(mcoll, hyperparams, inputs_to_add, parent_dir):\n",
    "    mconfhandler = ModelCollectionConfigFileHandler()\n",
    "    mconfhandler.ToConfiguration(mcoll)\n",
    "    \n",
    "    # augment the original config\n",
    "    mconfhandler.SetHyperparametersGlobally(hyperparams)\n",
    "    \n",
    "    added_params = 0\n",
    "    # are there any input variables to add?\n",
    "    for input_to_add in inputs_to_add:\n",
    "        if input_to_add:\n",
    "            added_params += 1\n",
    "            mconfhandler.AddInputParameterGlobally(input_to_add)\n",
    "        \n",
    "    # convert to directory name\n",
    "    dirname = dict_to_dirname(hyperparams) + \"_extraparams_\" + str(added_params)\n",
    "     \n",
    "    # make directory of that name\n",
    "    confdir = parent_dir + dirname + \"/\"\n",
    "    print confdir\n",
    "    #if not os.path.exists(confdir):\n",
    "    #    os.makedirs(confdir)\n",
    "    \n",
    "    # save the config file there\n",
    "    #mconfhandler.SaveConfiguration(confdir + \"settings.conf\")"
   ]
  },
  {
   "cell_type": "code",
   "execution_count": 5,
   "metadata": {
    "collapsed": true
   },
   "outputs": [],
   "source": [
    "# performs a dynamic number of nested iterations\n",
    "def iterate(start, end, step, fixed, callback):\n",
    "    if len(start) == 0:\n",
    "        return\n",
    "    \n",
    "    if len(start) > 1:\n",
    "        # truncate the dict and keep going on the smaller one\n",
    "        new_keys = start.keys()[1:]\n",
    "        new_start = {key: start[key] for key in new_keys}\n",
    "        new_end = {key: end[key] for key in new_keys}\n",
    "        new_step = {key: step[key] for key in new_keys}\n",
    "        \n",
    "        new_fixed_key = start.keys()[0]\n",
    "        \n",
    "        for x in np.arange(start[new_fixed_key], end[new_fixed_key], step[new_fixed_key]):\n",
    "            new_fixed = fixed\n",
    "            new_fixed[new_fixed_key] = x\n",
    "        \n",
    "            iterate(new_start, new_end, new_step, new_fixed, callback)\n",
    "    else:\n",
    "        # only have one dimension left along which to iterate\n",
    "        dimension = start.keys()[0]\n",
    "        \n",
    "        for x in np.arange(start[dimension], end[dimension], step[dimension]):\n",
    "            allvars = fixed\n",
    "            allvars[dimension] = x\n",
    "            callback(allvars)"
   ]
  },
  {
   "cell_type": "code",
   "execution_count": 6,
   "metadata": {
    "collapsed": true
   },
   "outputs": [],
   "source": [
    "campaign_dir = \"/data_CMS/cms/wind/testcampaign/\""
   ]
  },
  {
   "cell_type": "code",
   "execution_count": 7,
   "metadata": {
    "collapsed": true
   },
   "outputs": [],
   "source": [
    "confhandler = ConfigFileHandler()"
   ]
  },
  {
   "cell_type": "code",
   "execution_count": 22,
   "metadata": {
    "collapsed": false
   },
   "outputs": [
    {
     "name": "stdout",
     "output_type": "stream",
     "text": [
      "attempting to load configuration file from /data_CMS/cms/wind/testcampaign/campaign.conf\n"
     ]
    }
   ],
   "source": [
    "confhandler.LoadConfiguration(campaign_dir + \"campaign.conf\")"
   ]
  },
  {
   "cell_type": "code",
   "execution_count": 9,
   "metadata": {
    "collapsed": false
   },
   "outputs": [],
   "source": [
    "available_sections = confhandler._get_sections()"
   ]
  },
  {
   "cell_type": "code",
   "execution_count": 10,
   "metadata": {
    "collapsed": false
   },
   "outputs": [
    {
     "name": "stdout",
     "output_type": "stream",
     "text": [
      "got the following list of hyperparams: {'number_layers': 2}\n",
      "building network with inputs: ['PFMET', 'nCleanedJetsPt30', 'nCleanedJetsPt30BTagged_bTagSF', 'nExtraLep', 'D_VBF2j_ggH_ME']\n",
      "got the following list of hyperparams: {'number_layers': 2}\n",
      "building network with inputs: ['PFMET', 'nCleanedJetsPt30', 'nCleanedJetsPt30BTagged_bTagSF', 'nExtraLep', 'D_VBF1j_ggH_ME']\n",
      "got the following list of hyperparams: {'number_layers': 2}\n",
      "building network with inputs: ['PFMET', 'nCleanedJetsPt30', 'nCleanedJetsPt30BTagged_bTagSF', 'nExtraLep', 'D_WHh_ggH_ME']\n",
      "got the following list of hyperparams: {'number_layers': 2}\n",
      "building network with inputs: ['PFMET', 'nCleanedJetsPt30', 'nCleanedJetsPt30BTagged_bTagSF', 'nExtraLep', 'D_ZHh_ggH_ME']\n",
      "got the following list of hyperparams: {'number_layers': 2}\n",
      "building network with inputs: ['PFMET', 'nCleanedJetsPt30', 'nCleanedJetsPt30BTagged_bTagSF', 'nExtraLep', 'D_WHh_ZHh_ME']\n",
      "got the following list of hyperparams: {'number_layers': 2}\n",
      "building network with inputs: ['PFMET', 'nCleanedJetsPt30', 'nCleanedJetsPt30BTagged_bTagSF', 'nExtraLep', 'D_VBF2j_WHh_ME']\n",
      "got the following list of hyperparams: {'number_layers': 2}\n",
      "building network with inputs: ['PFMET', 'nCleanedJetsPt30', 'nCleanedJetsPt30BTagged_bTagSF', 'nExtraLep', 'D_VBF2j_ZHh_ME']\n"
     ]
    }
   ],
   "source": [
    "# build the standard configuration from which to start\n",
    "mcoll = ModelFactory.GenerateStandardModelCollections(SimpleModel, \"/data_CMS/cms/wind/CJLST_NTuples/\")"
   ]
  },
  {
   "cell_type": "code",
   "execution_count": 23,
   "metadata": {
    "collapsed": false
   },
   "outputs": [],
   "source": [
    "# load the sweep parameters\n",
    "start_dict = confhandler._process_dict(confhandler._get_field('hyperparameters', 'start'), lambda x: float(x))\n",
    "end_dict = confhandler._process_dict(confhandler._get_field('hyperparameters', 'end'), lambda x: float(x))\n",
    "step_dict = confhandler._process_dict(confhandler._get_field('hyperparameters', 'step'), lambda x: float(x))"
   ]
  },
  {
   "cell_type": "code",
   "execution_count": 24,
   "metadata": {
    "collapsed": true
   },
   "outputs": [],
   "source": [
    "# load the parameters\n",
    "start_params = confhandler._process_list(confhandler._get_field('input_columns', 'start'), lambda x: x)\n",
    "end_params = confhandler._process_list(confhandler._get_field('input_columns', 'end'), lambda x: x)"
   ]
  },
  {
   "cell_type": "code",
   "execution_count": 25,
   "metadata": {
    "collapsed": false
   },
   "outputs": [],
   "source": [
    "params_to_add = [param for param in end_params if param not in start_params]"
   ]
  },
  {
   "cell_type": "code",
   "execution_count": 26,
   "metadata": {
    "collapsed": false
   },
   "outputs": [
    {
     "name": "stdout",
     "output_type": "stream",
     "text": [
      "/data_CMS/cms/wind/testcampaign/number_layers_1.0_number_neurons_128.0_extraparams_0/\n",
      "/data_CMS/cms/wind/testcampaign/number_layers_2.0_number_neurons_128.0_extraparams_0/\n",
      "/data_CMS/cms/wind/testcampaign/number_layers_3.0_number_neurons_128.0_extraparams_0/\n",
      "/data_CMS/cms/wind/testcampaign/number_layers_4.0_number_neurons_128.0_extraparams_0/\n",
      "/data_CMS/cms/wind/testcampaign/number_layers_5.0_number_neurons_128.0_extraparams_0/\n"
     ]
    }
   ],
   "source": [
    "params = start_params\n",
    "iterate(start_dict, end_dict, step_dict, {}, lambda hyperparams: augment_config(mcoll, hyperparams, params, campaign_dir))\n",
    "for param_to_add in params_to_add:\n",
    "    params.append(param_to_add)\n",
    "    iterate(start_dict, end_dict, step_dict, {}, lambda hyperparams: augment_config(mcoll, hyperparams, params, campaign_dir))"
   ]
  }
 ],
 "metadata": {
  "kernelspec": {
   "display_name": "Python 2",
   "language": "python",
   "name": "python2"
  },
  "language_info": {
   "codemirror_mode": {
    "name": "ipython",
    "version": 2
   },
   "file_extension": ".py",
   "mimetype": "text/x-python",
   "name": "python",
   "nbconvert_exporter": "python",
   "pygments_lexer": "ipython2",
   "version": "2.7.11"
  }
 },
 "nbformat": 4,
 "nbformat_minor": 2
}
