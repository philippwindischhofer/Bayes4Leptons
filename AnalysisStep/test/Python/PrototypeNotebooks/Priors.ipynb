{
 "cells": [
  {
   "cell_type": "code",
   "execution_count": 33,
   "metadata": {
    "collapsed": false
   },
   "outputs": [],
   "source": [
    "from trainlib.FileCollection import FileCollection\n",
    "from trainlib.config import Config\n",
    "import trainlib.cuts as cuts\n",
    "import numpy as np"
   ]
  },
  {
   "cell_type": "code",
   "execution_count": 44,
   "metadata": {
    "collapsed": true
   },
   "outputs": [],
   "source": [
    "MC_path = \"/data_CMS/cms/wind/CJLST_NTuples/\""
   ]
  },
  {
   "cell_type": "code",
   "execution_count": 45,
   "metadata": {
    "collapsed": false
   },
   "outputs": [],
   "source": [
    "collections = {\"VBF\": {MC_path + \"VBFH125/ZZ4lAnalysis.root\": cuts.mZZ_cut},\n",
    "                \"ggH\": {MC_path + \"ggH125/ZZ4lAnalysis.root\": cuts.mZZ_cut},\n",
    "                \"WHhadr\": {MC_path + \"WplusH125/ZZ4lAnalysis.root\": cuts.WHhadr_cut, MC_path + \"WminusH125/ZZ4lAnalysis.root\": cuts.WHhadr_cut},\n",
    "                \"WHlept\": {MC_path + \"WplusH125/ZZ4lAnalysis.root\": cuts.WHlept_cut, MC_path + \"WminusH125/ZZ4lAnalysis.root\": cuts.WHlept_cut},\n",
    "                \"ZHhadr\": {MC_path + \"ZH125/ZZ4lAnalysis.root\": cuts.ZHhadr_cut},\n",
    "                \"ZHlept\": {MC_path + \"ZH125/ZZ4lAnalysis.root\": cuts.ZHlept_cut},\n",
    "                \"ttHhadr\": {MC_path + \"ttH125/ZZ4lAnalysis.root\": cuts.ttHhadr_cut},\n",
    "                \"ttHlept\": {MC_path + \"ttH125/ZZ4lAnalysis.root\": cuts.ttHlept_cut},\n",
    "                \"ZHMET\": {MC_path + \"ZH125/ZZ4lAnalysis.root\": cuts.ZHMET_cut}}"
   ]
  },
  {
   "cell_type": "code",
   "execution_count": 46,
   "metadata": {
    "collapsed": false,
    "scrolled": true
   },
   "outputs": [
    {
     "name": "stdout",
     "output_type": "stream",
     "text": [
      "skimming /data_CMS/cms/wind/CJLST_NTuples/WminusH125/ZZ4lAnalysis.root\n",
      "skimming /data_CMS/cms/wind/CJLST_NTuples/WplusH125/ZZ4lAnalysis.root\n",
      "collection set up: 2 files, 56636 entries in total, 28317 of which will be used\n",
      "skimming /data_CMS/cms/wind/CJLST_NTuples/VBFH125/ZZ4lAnalysis.root\n",
      "collection set up: 1 files, 62320 entries in total, 31160 of which will be used\n",
      "skimming /data_CMS/cms/wind/CJLST_NTuples/WminusH125/ZZ4lAnalysis.root\n",
      "skimming /data_CMS/cms/wind/CJLST_NTuples/WplusH125/ZZ4lAnalysis.root\n",
      "collection set up: 2 files, 56636 entries in total, 28317 of which will be used\n",
      "skimming /data_CMS/cms/wind/CJLST_NTuples/ZH125/ZZ4lAnalysis.root\n",
      "collection set up: 1 files, 61210 entries in total, 30605 of which will be used\n",
      "skimming /data_CMS/cms/wind/CJLST_NTuples/ttH125/ZZ4lAnalysis.root\n",
      "collection set up: 1 files, 39490 entries in total, 19745 of which will be used\n",
      "skimming /data_CMS/cms/wind/CJLST_NTuples/ZH125/ZZ4lAnalysis.root\n",
      "collection set up: 1 files, 61210 entries in total, 30605 of which will be used\n",
      "skimming /data_CMS/cms/wind/CJLST_NTuples/ttH125/ZZ4lAnalysis.root\n",
      "collection set up: 1 files, 39490 entries in total, 19745 of which will be used\n",
      "skimming /data_CMS/cms/wind/CJLST_NTuples/ggH125/ZZ4lAnalysis.root\n",
      "collection set up: 1 files, 110483 entries in total, 55241 of which will be used\n",
      "skimming /data_CMS/cms/wind/CJLST_NTuples/ZH125/ZZ4lAnalysis.root\n",
      "collection set up: 1 files, 61210 entries in total, 30605 of which will be used\n"
     ]
    }
   ],
   "source": [
    "number_events = {}\n",
    "event_weight = {}\n",
    "\n",
    "for source_name, stream in collections.iteritems():\n",
    "    coll = FileCollection(stream, 0.0, 0.5)\n",
    "    data = coll.get_data(Config.branches, 0.0, 1.0)\n",
    "    \n",
    "    number_events[source_name] = len(data)\n",
    "    event_weight[source_name] = sum(data[\"training_weight\"])"
   ]
  },
  {
   "cell_type": "code",
   "execution_count": 47,
   "metadata": {
    "collapsed": false
   },
   "outputs": [
    {
     "data": {
      "text/plain": [
       "{'VBF': 28654,\n",
       " 'WHhadr': 15784,\n",
       " 'WHlept': 7816,\n",
       " 'ZHMET': 1911,\n",
       " 'ZHhadr': 6044,\n",
       " 'ZHlept': 1815,\n",
       " 'ggH': 50785,\n",
       " 'ttHhadr': 4161,\n",
       " 'ttHlept': 5599}"
      ]
     },
     "execution_count": 47,
     "metadata": {},
     "output_type": "execute_result"
    }
   ],
   "source": [
    "number_events"
   ]
  },
  {
   "cell_type": "code",
   "execution_count": 48,
   "metadata": {
    "collapsed": false
   },
   "outputs": [
    {
     "data": {
      "text/plain": [
       "{'VBF': 6.2456212421870173e-05,\n",
       " 'WHhadr': 1.2498331379086607e-05,\n",
       " 'WHlept': 6.1124404126538948e-06,\n",
       " 'ZHMET': 2.620879349759294e-06,\n",
       " 'ZHhadr': 8.1936902339772681e-06,\n",
       " 'ZHlept': 2.495364772581209e-06,\n",
       " 'ggH': 0.00071163933570325341,\n",
       " 'ttHhadr': 3.2708423073657975e-06,\n",
       " 'ttHlept': 4.3732025490081719e-06}"
      ]
     },
     "execution_count": 48,
     "metadata": {},
     "output_type": "execute_result"
    }
   ],
   "source": [
    "event_weight"
   ]
  },
  {
   "cell_type": "code",
   "execution_count": 49,
   "metadata": {
    "collapsed": true
   },
   "outputs": [],
   "source": [
    "norm_value = float(number_events[\"VBF\"])\n",
    "for source_name, value in number_events.iteritems():\n",
    "    number_events[source_name] /= norm_value"
   ]
  },
  {
   "cell_type": "code",
   "execution_count": 50,
   "metadata": {
    "collapsed": true
   },
   "outputs": [],
   "source": [
    "norm_value = event_weight[\"VBF\"]\n",
    "for source_name, value in event_weight.iteritems():\n",
    "    event_weight[source_name] /= norm_value"
   ]
  },
  {
   "cell_type": "code",
   "execution_count": 51,
   "metadata": {
    "collapsed": false
   },
   "outputs": [
    {
     "data": {
      "text/plain": [
       "{'VBF': 1.0,\n",
       " 'WHhadr': 0.5508480491379912,\n",
       " 'WHlept': 0.2727716898164305,\n",
       " 'ZHMET': 0.06669225937041949,\n",
       " 'ZHhadr': 0.21093041111188665,\n",
       " 'ZHlept': 0.063341941788232,\n",
       " 'ggH': 1.772352900118657,\n",
       " 'ttHhadr': 0.14521532770293852,\n",
       " 'ttHlept': 0.19540029315278845}"
      ]
     },
     "execution_count": 51,
     "metadata": {},
     "output_type": "execute_result"
    }
   ],
   "source": [
    "number_events"
   ]
  },
  {
   "cell_type": "code",
   "execution_count": 52,
   "metadata": {
    "collapsed": false
   },
   "outputs": [
    {
     "data": {
      "text/plain": [
       "{'VBF': 1.0,\n",
       " 'WHhadr': 0.2001135018349286,\n",
       " 'WHlept': 0.097867612774314078,\n",
       " 'ZHMET': 0.041963469255166454,\n",
       " 'ZHhadr': 0.13119095629161301,\n",
       " 'ZHlept': 0.03995382806318578,\n",
       " 'ggH': 11.394212170542382,\n",
       " 'ttHhadr': 0.052370167522685904,\n",
       " 'ttHlept': 0.070020297091804046}"
      ]
     },
     "execution_count": 52,
     "metadata": {},
     "output_type": "execute_result"
    }
   ],
   "source": [
    "event_weight"
   ]
  },
  {
   "cell_type": "code",
   "execution_count": null,
   "metadata": {
    "collapsed": true
   },
   "outputs": [],
   "source": []
  }
 ],
 "metadata": {
  "kernelspec": {
   "display_name": "Python 2",
   "language": "python",
   "name": "python2"
  },
  "language_info": {
   "codemirror_mode": {
    "name": "ipython",
    "version": 2
   },
   "file_extension": ".py",
   "mimetype": "text/x-python",
   "name": "python",
   "nbconvert_exporter": "python",
   "pygments_lexer": "ipython2",
   "version": "2.7.11"
  }
 },
 "nbformat": 4,
 "nbformat_minor": 2
}
