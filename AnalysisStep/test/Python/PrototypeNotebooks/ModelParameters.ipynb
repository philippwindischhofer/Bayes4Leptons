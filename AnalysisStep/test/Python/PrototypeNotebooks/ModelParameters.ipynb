{
 "cells": [
  {
   "cell_type": "code",
   "execution_count": 1,
   "metadata": {
    "collapsed": false
   },
   "outputs": [
    {
     "name": "stderr",
     "output_type": "stream",
     "text": [
      "Using TensorFlow backend.\n"
     ]
    }
   ],
   "source": [
    "from trainlib.SimpleModel import SimpleModel\n",
    "from trainlib.CombinedModel import CombinedModel"
   ]
  },
  {
   "cell_type": "code",
   "execution_count": 17,
   "metadata": {
    "collapsed": false
   },
   "outputs": [
    {
     "name": "stdout",
     "output_type": "stream",
     "text": [
      "got the following list of hyperparams: {'number_layers': 2, 'number_neurons': 64}\n",
      "building network with 3 inputs\n"
     ]
    }
   ],
   "source": [
    "sm = SimpleModel(\"test\", 3, {'number_neurons': 64, 'number_layers': 2})"
   ]
  },
  {
   "cell_type": "code",
   "execution_count": 18,
   "metadata": {
    "collapsed": false
   },
   "outputs": [
    {
     "name": "stdout",
     "output_type": "stream",
     "text": [
      "_________________________________________________________________\n",
      "Layer (type)                 Output Shape              Param #   \n",
      "=================================================================\n",
      "test_input (InputLayer)      (None, 3)                 0         \n",
      "_________________________________________________________________\n",
      "dense_29 (Dense)             (None, 128)               512       \n",
      "_________________________________________________________________\n",
      "batch_normalization_29 (Batc (None, 128)               512       \n",
      "_________________________________________________________________\n",
      "activation_29 (Activation)   (None, 128)               0         \n",
      "_________________________________________________________________\n",
      "dropout_29 (Dropout)         (None, 128)               0         \n",
      "_________________________________________________________________\n",
      "dense_30 (Dense)             (None, 64)                8256      \n",
      "_________________________________________________________________\n",
      "batch_normalization_30 (Batc (None, 64)                256       \n",
      "_________________________________________________________________\n",
      "activation_30 (Activation)   (None, 64)                0         \n",
      "_________________________________________________________________\n",
      "dropout_30 (Dropout)         (None, 64)                0         \n",
      "_________________________________________________________________\n",
      "dense_31 (Dense)             (None, 64)                4160      \n",
      "_________________________________________________________________\n",
      "batch_normalization_31 (Batc (None, 64)                256       \n",
      "_________________________________________________________________\n",
      "activation_31 (Activation)   (None, 64)                0         \n",
      "_________________________________________________________________\n",
      "dropout_31 (Dropout)         (None, 64)                0         \n",
      "_________________________________________________________________\n",
      "target (Dense)               (None, 1)                 65        \n",
      "=================================================================\n",
      "Total params: 14,017\n",
      "Trainable params: 13,505\n",
      "Non-trainable params: 512\n",
      "_________________________________________________________________\n"
     ]
    }
   ],
   "source": [
    "sm.get_keras_model().summary()"
   ]
  },
  {
   "cell_type": "code",
   "execution_count": 13,
   "metadata": {
    "collapsed": false
   },
   "outputs": [
    {
     "name": "stdout",
     "output_type": "stream",
     "text": [
      "Lep\n",
      "['Pt', 'Eta', 'Phi']\n",
      "ExtraLep\n",
      "['Pt', 'Eta', 'Phi']\n",
      "Jet\n",
      "['Pt', 'Eta', 'Phi']\n"
     ]
    }
   ],
   "source": [
    "cm = CombinedModel(\"test\", [\"a\", \"b\", \"c\", \"d\", \"e\", \"f\"], {\"Jet\": [\"Pt\", \"Eta\", \"Phi\"], \n",
    "                   \"Lep\": [\"Pt\", \"Eta\", \"Phi\"], \"ExtraLep\": [\"Pt\", \"Eta\", \"Phi\"]}, \n",
    "                   {'number_dense_layers': 2, 'number_dense_neurons': 64, 'LSTM_units': 16,\n",
    "                   'LSTM_output_size': 5})"
   ]
  },
  {
   "cell_type": "code",
   "execution_count": 14,
   "metadata": {
    "collapsed": false
   },
   "outputs": [
    {
     "name": "stdout",
     "output_type": "stream",
     "text": [
      "____________________________________________________________________________________________________\n",
      "Layer (type)                     Output Shape          Param #     Connected to                     \n",
      "====================================================================================================\n",
      "test_Lep (InputLayer)            (None, None, 4)       0                                            \n",
      "____________________________________________________________________________________________________\n",
      "test_ExtraLep (InputLayer)       (None, None, 4)       0                                            \n",
      "____________________________________________________________________________________________________\n",
      "test_Jet (InputLayer)            (None, None, 4)       0                                            \n",
      "____________________________________________________________________________________________________\n",
      "lstm_4 (LSTM)                    (None, 16)            1344        test_Lep[0][0]                   \n",
      "____________________________________________________________________________________________________\n",
      "lstm_5 (LSTM)                    (None, 16)            1344        test_ExtraLep[0][0]              \n",
      "____________________________________________________________________________________________________\n",
      "lstm_6 (LSTM)                    (None, 16)            1344        test_Jet[0][0]                   \n",
      "____________________________________________________________________________________________________\n",
      "dense_16 (Dense)                 (None, 5)             85          lstm_4[0][0]                     \n",
      "____________________________________________________________________________________________________\n",
      "dense_17 (Dense)                 (None, 5)             85          lstm_5[0][0]                     \n",
      "____________________________________________________________________________________________________\n",
      "dense_18 (Dense)                 (None, 5)             85          lstm_6[0][0]                     \n",
      "____________________________________________________________________________________________________\n",
      "test_scalar_inputs (InputLayer)  (None, 6)             0                                            \n",
      "____________________________________________________________________________________________________\n",
      "concatenate_2 (Concatenate)      (None, 21)            0           dense_16[0][0]                   \n",
      "                                                                   dense_17[0][0]                   \n",
      "                                                                   dense_18[0][0]                   \n",
      "                                                                   test_scalar_inputs[0][0]         \n",
      "____________________________________________________________________________________________________\n",
      "dense_19 (Dense)                 (None, 64)            1408        concatenate_2[0][0]              \n",
      "____________________________________________________________________________________________________\n",
      "dense_20 (Dense)                 (None, 64)            4160        dense_19[0][0]                   \n",
      "____________________________________________________________________________________________________\n",
      "dense_21 (Dense)                 (None, 64)            4160        dense_20[0][0]                   \n",
      "____________________________________________________________________________________________________\n",
      "dense_22 (Dense)                 (None, 64)            4160        dense_21[0][0]                   \n",
      "____________________________________________________________________________________________________\n",
      "target (Dense)                   (None, 1)             65          dense_22[0][0]                   \n",
      "====================================================================================================\n",
      "Total params: 18,240\n",
      "Trainable params: 18,240\n",
      "Non-trainable params: 0\n",
      "____________________________________________________________________________________________________\n"
     ]
    }
   ],
   "source": [
    "cm.get_keras_model().summary()"
   ]
  },
  {
   "cell_type": "code",
   "execution_count": null,
   "metadata": {
    "collapsed": true
   },
   "outputs": [],
   "source": []
  }
 ],
 "metadata": {
  "kernelspec": {
   "display_name": "Python 2",
   "language": "python",
   "name": "python2"
  },
  "language_info": {
   "codemirror_mode": {
    "name": "ipython",
    "version": 2
   },
   "file_extension": ".py",
   "mimetype": "text/x-python",
   "name": "python",
   "nbconvert_exporter": "python",
   "pygments_lexer": "ipython2",
   "version": "2.7.11"
  }
 },
 "nbformat": 4,
 "nbformat_minor": 2
}
