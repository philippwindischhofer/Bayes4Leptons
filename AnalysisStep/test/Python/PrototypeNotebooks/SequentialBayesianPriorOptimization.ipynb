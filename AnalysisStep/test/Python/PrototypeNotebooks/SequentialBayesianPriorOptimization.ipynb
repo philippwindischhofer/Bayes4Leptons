{
 "cells": [
  {
   "cell_type": "code",
   "execution_count": 1,
   "metadata": {
    "collapsed": false
   },
   "outputs": [],
   "source": [
    "import sys\n",
    "sys.path.insert(0, '/home/llr/cms/wind/.local/lib/python2.7/site-packages/')"
   ]
  },
  {
   "cell_type": "code",
   "execution_count": 2,
   "metadata": {
    "collapsed": true
   },
   "outputs": [],
   "source": [
    "from bayes_opt import BayesianOptimization\n",
    "from sklearn.gaussian_process.kernels import Matern\n",
    "from subprocess import check_output\n",
    "\n",
    "import numpy as np\n",
    "import matplotlib.pyplot as plt\n",
    "from matplotlib import gridspec\n",
    "import os\n",
    "import math\n",
    "import re\n",
    "\n",
    "from trainlib.ConfigFileHandler import ConfigFileHandler"
   ]
  },
  {
   "cell_type": "code",
   "execution_count": 3,
   "metadata": {
    "collapsed": true
   },
   "outputs": [],
   "source": [
    "run_dir = \"/data_CMS/cms/wind/180424_sequential_prior_optimization/number_layers_2.0_number_neurons_64.0/\"\n",
    "engine = \"tree\"\n",
    "out_dir = \"/data_CMS/cms/wind/180424_sequential_prior_optimization/number_layers_2.0_number_neurons_64.0/priors_tree/\"\n",
    "punzi_file = \"Mor18_punzi_S_comp.conf\""
   ]
  },
  {
   "cell_type": "code",
   "execution_count": 4,
   "metadata": {
    "collapsed": true
   },
   "outputs": [],
   "source": [
    "ggh_prior_best = 1.0\n",
    "vbf_prior_best = 1.0\n",
    "whhadr_prior_best = 1.0\n",
    "zhhadr_prior_best = 1.0\n",
    "whlept_prior_best = 1.0\n",
    "zhlept_prior_best = 1.0\n",
    "tthhadr_prior_best = 1.0\n",
    "tthlept_prior_best = 1.0\n",
    "zhmet_prior_best = 1.0"
   ]
  },
  {
   "cell_type": "code",
   "execution_count": 5,
   "metadata": {
    "collapsed": true
   },
   "outputs": [],
   "source": [
    "evalcnt = 0"
   ]
  },
  {
   "cell_type": "code",
   "execution_count": 6,
   "metadata": {
    "collapsed": true
   },
   "outputs": [],
   "source": [
    "def xi_scheduler(iteration, max_iterations):\n",
    "    return 0.001 + 0.19 * np.exp(-2.0 * float(iteration) / float(max_iterations))"
   ]
  },
  {
   "cell_type": "code",
   "execution_count": 7,
   "metadata": {
    "collapsed": false
   },
   "outputs": [],
   "source": [
    "def punzi_target(priors, relevant_classes):\n",
    "    bin_dir = \"/home/llr/cms/wind/cmssw/CMSSW_9_4_2/bin/slc6_amd64_gcc630/\"\n",
    "    cost_function_evaluator = \"run_prior_evaluator\"\n",
    "    \n",
    "    output = check_output([bin_dir + cost_function_evaluator, run_dir, out_dir, engine, str(priors[\"ggh_prior\"]), str(priors[\"whhadr_prior\"]), \n",
    "              str(priors[\"zhhadr_prior\"]), str(priors[\"whlept_prior\"]), str(priors[\"zhlept_prior\"]), str(priors[\"zhmet_prior\"]), \n",
    "              str(priors[\"tthhadr_prior\"]), str(priors[\"tthlept_prior\"])])\n",
    "    \n",
    "    # read directly the configuration file containing the relative Punzi improvements w.r.t. the reference \n",
    "    # (the one with flat priors)\n",
    "    punzihandler = ConfigFileHandler()\n",
    "    punzihandler.load_configuration(os.path.join(out_dir, punzi_file))\n",
    "    \n",
    "    costval = 0.0\n",
    "    \n",
    "    # compute the utility function over the categories that were specified\n",
    "    for relevant_class in relevant_classes:\n",
    "        costval += (float(punzihandler.get_field('Punzi', relevant_class)) - 1.0)\n",
    " \n",
    "    return costval"
   ]
  },
  {
   "cell_type": "code",
   "execution_count": 8,
   "metadata": {
    "collapsed": true
   },
   "outputs": [],
   "source": [
    "def save_params(out_path, params, evalcnt):\n",
    "    confhandler = ConfigFileHandler()\n",
    "    \n",
    "    if os.path.exists(out_path):\n",
    "        confhandler.load_configuration(out_path)\n",
    "    \n",
    "    section_name = 'evaluation_' + str(evalcnt)\n",
    "    confhandler.new_section(section_name)\n",
    "    \n",
    "    for key, value in params.iteritems():\n",
    "        confhandler.set_field(section_name, key, str(value))\n",
    "     \n",
    "    confhandler.save_configuration(out_path)"
   ]
  },
  {
   "cell_type": "code",
   "execution_count": 9,
   "metadata": {
    "collapsed": true
   },
   "outputs": [],
   "source": [
    "def punzi_target_ggH(ggh_prior):\n",
    "    global evalcnt\n",
    "\n",
    "    priors = {}\n",
    "    priors[\"ggh_prior\"] = ggh_prior\n",
    "    priors[\"whhadr_prior\"] = whhadr_prior_best\n",
    "    priors[\"zhhadr_prior\"] = zhhadr_prior_best\n",
    "    priors[\"whlept_prior\"] = whlept_prior_best\n",
    "    priors[\"zhlept_prior\"] = zhlept_prior_best\n",
    "    priors[\"zhmet_prior\"] = zhmet_prior_best\n",
    "    priors[\"tthhadr_prior\"] = tthhadr_prior_best\n",
    "    priors[\"tthlept_prior\"] = tthlept_prior_best\n",
    "    \n",
    "    costval = punzi_target(priors, [\"VBF1j\", \"VBF2j\"])\n",
    "    priors[\"target\"] = costval\n",
    "    \n",
    "    save_params(os.path.join(out_dir, 'evaluations_ggH.txt'), priors, evalcnt)\n",
    "         \n",
    "    evalcnt += 1\n",
    "    return costval"
   ]
  },
  {
   "cell_type": "code",
   "execution_count": 10,
   "metadata": {
    "collapsed": true
   },
   "outputs": [],
   "source": [
    "def punzi_target_ttH(tthhadr_prior, tthlept_prior):\n",
    "    global evalcnt\n",
    "    \n",
    "    priors = {}\n",
    "    priors[\"ggh_prior\"] = ggh_prior_best\n",
    "    priors[\"whhadr_prior\"] = whhadr_prior_best\n",
    "    priors[\"zhhadr_prior\"] = zhhadr_prior_best\n",
    "    priors[\"whlept_prior\"] = whlept_prior_best\n",
    "    priors[\"zhlept_prior\"] = zhlept_prior_best\n",
    "    priors[\"zhmet_prior\"] = zhmet_prior_best\n",
    "    priors[\"tthhadr_prior\"] = tthhadr_prior\n",
    "    priors[\"tthlept_prior\"] = tthlept_prior\n",
    "    \n",
    "    costval = punzi_target(priors, [\"ttHlept\", \"ttHhadr\"])\n",
    "    priors[\"target\"] = costval\n",
    "    \n",
    "    save_params(os.path.join(out_dir, 'evaluations_ttH.txt'), priors, evalcnt)\n",
    "             \n",
    "    evalcnt += 1\n",
    "    return costval"
   ]
  },
  {
   "cell_type": "code",
   "execution_count": 11,
   "metadata": {
    "collapsed": true
   },
   "outputs": [],
   "source": [
    "def punzi_target_VHlept(zhlept_prior, whlept_prior):\n",
    "    global evalcnt\n",
    "        \n",
    "    priors = {}\n",
    "    priors[\"ggh_prior\"] = ggh_prior_best\n",
    "    priors[\"whhadr_prior\"] = whhadr_prior_best\n",
    "    priors[\"zhhadr_prior\"] = zhhadr_prior_best\n",
    "    priors[\"whlept_prior\"] = whlept_prior\n",
    "    priors[\"zhlept_prior\"] = zhlept_prior\n",
    "    priors[\"zhmet_prior\"] = zhmet_prior_best\n",
    "    priors[\"tthhadr_prior\"] = tthhadr_prior_best\n",
    "    priors[\"tthlept_prior\"] = tthlept_prior_best\n",
    "    \n",
    "    costval = punzi_target(priors, [\"VHlept\"])\n",
    "    priors[\"target\"] = costval\n",
    "    \n",
    "    save_params(os.path.join(out_dir, 'evaluations_VHlept.txt'), priors, evalcnt)\n",
    "         \n",
    "    evalcnt += 1\n",
    "    return costval"
   ]
  },
  {
   "cell_type": "code",
   "execution_count": 12,
   "metadata": {
    "collapsed": true
   },
   "outputs": [],
   "source": [
    "def punzi_target_VHhadr(zhhadr_prior, whhadr_prior):\n",
    "    global evalcnt\n",
    " \n",
    "    priors = {}\n",
    "    priors[\"ggh_prior\"] = ggh_prior_best\n",
    "    priors[\"whhadr_prior\"] = whhadr_prior\n",
    "    priors[\"zhhadr_prior\"] = zhhadr_prior\n",
    "    priors[\"whlept_prior\"] = whlept_prior_best\n",
    "    priors[\"zhlept_prior\"] = zhlept_prior_best\n",
    "    priors[\"zhmet_prior\"] = zhmet_prior_best\n",
    "    priors[\"tthhadr_prior\"] = tthhadr_prior_best\n",
    "    priors[\"tthlept_prior\"] = tthlept_prior_best\n",
    "\n",
    "    costval = punzi_target(priors, [\"VHhadr\"])\n",
    "    priors[\"target\"] = costval\n",
    "    \n",
    "    save_params(os.path.join(out_dir, 'evaluations_VHhadr.txt'), priors, evalcnt)\n",
    "         \n",
    "    evalcnt += 1\n",
    "    return costval"
   ]
  },
  {
   "cell_type": "code",
   "execution_count": 13,
   "metadata": {
    "collapsed": true
   },
   "outputs": [],
   "source": [
    "def punzi_target_ZHMET(zhmet_prior):\n",
    "    global evalcnt\n",
    "    \n",
    "    priors = {}\n",
    "    priors[\"ggh_prior\"] = ggh_prior_best\n",
    "    priors[\"whhadr_prior\"] = whhadr_prior_best\n",
    "    priors[\"zhhadr_prior\"] = zhhadr_prior_best\n",
    "    priors[\"whlept_prior\"] = whlept_prior_best\n",
    "    priors[\"zhlept_prior\"] = zhlept_prior_best\n",
    "    priors[\"zhmet_prior\"] = zhmet_prior\n",
    "    priors[\"tthhadr_prior\"] = tthhadr_prior_best\n",
    "    priors[\"tthlept_prior\"] = tthlept_prior_best\n",
    "\n",
    "    costval = punzi_target(priors, [\"VHMET\"])  \n",
    "    priors[\"target\"] = costval\n",
    "    \n",
    "    save_params(os.path.join(out_dir, 'evaluations_VHMET.txt'), priors, evalcnt)\n",
    "         \n",
    "    evalcnt += 1\n",
    "    return costval"
   ]
  },
  {
   "cell_type": "code",
   "execution_count": 14,
   "metadata": {
    "collapsed": true
   },
   "outputs": [],
   "source": [
    "def run_bayesian_optimization(name, eval_file, target, var_ranges, init_points, max_iterations, patience):\n",
    "    global evalcnt\n",
    "    evalcnt = 0\n",
    "    \n",
    "    # change the kernel to have a length scale more appropriate to this function\n",
    "    # alpha ... corresponds to the value added to the diagonal elements of the covariance matrix <-> the approximate noise level in the observations\n",
    "    gp_params = {'kernel': 1.0 * Matern(length_scale = 0.01, length_scale_bounds = (1e-5, 1e5), nu = 1.5),\n",
    "                 'alpha': 1e-4}\n",
    "\n",
    "    bo = BayesianOptimization(target, var_ranges)\n",
    "    \n",
    "    # check if a file with previous evaluations of this utility function already exists, if so, use it for initialization\n",
    "    evaluations_path = os.path.join(out_dir, eval_file)\n",
    "    \n",
    "    if os.path.exists(evaluations_path):\n",
    "        confhandler = ConfigFileHandler()\n",
    "        confhandler.load_configuration(evaluations_path)\n",
    "        \n",
    "        init_dict = {}\n",
    "        \n",
    "        for section_name in confhandler.get_sections():\n",
    "            cur_section = confhandler.get_section(section_name)\n",
    "            \n",
    "            for key, value in cur_section.iteritems():\n",
    "                if key not in init_dict:\n",
    "                    init_dict[key] = []\n",
    "                    \n",
    "                init_dict[key].append(float(value))\n",
    "                \n",
    "        evalcnt = int(re.sub('evaluation_', '', confhandler.get_sections()[-1])) + 1\n",
    "        print \"resuming \" + name + \" at evaluation \" + str(evalcnt)\n",
    "        \n",
    "        print init_dict\n",
    "        \n",
    "        bo.initialize(init_dict)\n",
    "        bo.maximize(init_points = init_points, n_iter = 0, acq = 'poi', kappa = 3, xi = xi_scheduler(0.0, max_iterations), **gp_params)\n",
    "    else:\n",
    "        bo.maximize(init_points = init_points, n_iter = 0, acq = 'poi', kappa = 3, xi = xi_scheduler(0.0, max_iterations), **gp_params)\n",
    "    \n",
    "    cur_iteration = 1\n",
    "    patience_cnt = 0\n",
    "    best_cost = -7.0\n",
    "    \n",
    "    for it in range(max_iterations):\n",
    "        cur_iteration += 1\n",
    "        \n",
    "        cur_xi = xi_scheduler(cur_iteration, max_iterations)\n",
    "        print \"using xi = \" + str(cur_xi)\n",
    "        \n",
    "        bo.maximize(init_points = 2, n_iter = 1, acq = 'poi', kappa = 3, xi = cur_xi, **gp_params)\n",
    "\n",
    "        # evaluate the current maximum\n",
    "        curval = bo.res['max']\n",
    "        cost = curval['max_val']\n",
    "        curparams = curval['max_params']\n",
    "    \n",
    "        confhandler = ConfigFileHandler()\n",
    "        confhandler.config.optionxform = str\n",
    "        confhandler.new_section(name)\n",
    "        confhandler.set_field(name, 'target', str(cost))\n",
    "        \n",
    "        for key, val in curparams.iteritems():\n",
    "            confhandler.set_field(name, key, str(val))\n",
    "        \n",
    "        confhandler.save_configuration(os.path.join(out_dir, name + '.txt'))\n",
    "        \n",
    "        # check if it is time to stop this optimization\n",
    "        if(cost > best_cost):\n",
    "            best_cost = cost\n",
    "            patience_cnt = 0\n",
    "            \n",
    "        patience_cnt += 1\n",
    "        \n",
    "        if(patience_cnt > patience):\n",
    "            break\n",
    "            \n",
    "    return curparams"
   ]
  },
  {
   "cell_type": "code",
   "execution_count": 15,
   "metadata": {
    "collapsed": true
   },
   "outputs": [],
   "source": [
    "eps = 1e-2\n",
    "delta = 0.2"
   ]
  },
  {
   "cell_type": "code",
   "execution_count": 16,
   "metadata": {
    "collapsed": false,
    "scrolled": false
   },
   "outputs": [
    {
     "name": "stdout",
     "output_type": "stream",
     "text": [
      "\u001b[31mInitialization\u001b[0m\n",
      "\u001b[94m-------------------------------------------\u001b[0m\n",
      " Step |   Time |      Value |   ggh_prior | \n",
      "attempting to load configuration file from /data_CMS/cms/wind/180424_sequential_prior_optimization/number_layers_2.0_number_neurons_64.0/priors_tree/Mor18_punzi_S_comp.conf\n",
      "    1 | 02m36s | \u001b[35m   0.01562\u001b[0m | \u001b[32m     1.4890\u001b[0m | \n",
      "\u001b[31mBayesian Optimization\u001b[0m\n",
      "\u001b[94m-------------------------------------------\u001b[0m\n",
      " Step |   Time |      Value |   ggh_prior | \n",
      "using xi = 0.00447997138886\n",
      "\u001b[31mBayesian Optimization\u001b[0m\n",
      "\u001b[94m-------------------------------------------\u001b[0m\n",
      " Step |   Time |      Value |   ggh_prior | \n",
      "attempting to load configuration file from /data_CMS/cms/wind/180424_sequential_prior_optimization/number_layers_2.0_number_neurons_64.0/priors_tree/Mor18_punzi_S_comp.conf\n",
      "attempting to load configuration file from /data_CMS/cms/wind/180424_sequential_prior_optimization/number_layers_2.0_number_neurons_64.0/priors_tree/evaluations_ggH.txt\n",
      "    2 | 02m41s |    0.00186 |      1.0000 | \n"
     ]
    }
   ],
   "source": [
    "# start by fixing the ggH_prior by optimizing Punzi in the two VBF categories\n",
    "res = run_bayesian_optimization(\"ggH\", \"evaluations_ggH.txt\", punzi_target_ggH, {'ggh_prior': (1.0, 1.7)}, \n",
    "                                init_points = 1, max_iterations = 1, patience = 11)"
   ]
  },
  {
   "cell_type": "code",
   "execution_count": 17,
   "metadata": {
    "collapsed": true
   },
   "outputs": [],
   "source": [
    "ggH_prior_best = res[\"ggh_prior\"]"
   ]
  },
  {
   "cell_type": "code",
   "execution_count": 18,
   "metadata": {
    "collapsed": false,
    "scrolled": false
   },
   "outputs": [
    {
     "name": "stdout",
     "output_type": "stream",
     "text": [
      "\u001b[31mInitialization\u001b[0m\n",
      "\u001b[94m-----------------------------------------------------------------\u001b[0m\n",
      " Step |   Time |      Value |   tthhadr_prior |   tthlept_prior | \n",
      "attempting to load configuration file from /data_CMS/cms/wind/180424_sequential_prior_optimization/number_layers_2.0_number_neurons_64.0/priors_tree/Mor18_punzi_S_comp.conf\n",
      "    1 | 02m42s | \u001b[35m   0.07246\u001b[0m | \u001b[32m         0.0650\u001b[0m | \u001b[32m         0.1650\u001b[0m | \n",
      "\u001b[31mBayesian Optimization\u001b[0m\n",
      "\u001b[94m-----------------------------------------------------------------\u001b[0m\n",
      " Step |   Time |      Value |   tthhadr_prior |   tthlept_prior | \n",
      "using xi = 0.00447997138886\n",
      "\u001b[31mBayesian Optimization\u001b[0m\n",
      "\u001b[94m-----------------------------------------------------------------\u001b[0m\n",
      " Step |   Time |      Value |   tthhadr_prior |   tthlept_prior | \n",
      "attempting to load configuration file from /data_CMS/cms/wind/180424_sequential_prior_optimization/number_layers_2.0_number_neurons_64.0/priors_tree/Mor18_punzi_S_comp.conf\n",
      "attempting to load configuration file from /data_CMS/cms/wind/180424_sequential_prior_optimization/number_layers_2.0_number_neurons_64.0/priors_tree/evaluations_ttH.txt\n",
      "    2 | 02m42s | \u001b[35m   0.16685\u001b[0m | \u001b[32m         0.2315\u001b[0m | \u001b[32m         0.0466\u001b[0m | \n"
     ]
    }
   ],
   "source": [
    "# continue with the next ones to be fixed: ttHh and ttHl\n",
    "res = run_bayesian_optimization(\"ttH\", \"evaluations_ttH.txt\", punzi_target_ttH, {'tthhadr_prior': (eps, 0.3), \n",
    "                                                                                 'tthlept_prior': (eps, 0.3)}, \n",
    "                                init_points = 1, max_iterations = 1, patience = 1)"
   ]
  },
  {
   "cell_type": "code",
   "execution_count": 19,
   "metadata": {
    "collapsed": false
   },
   "outputs": [],
   "source": [
    "tthhadr_prior_best = res[\"tthhadr_prior\"]\n",
    "tthlept_prior_best = res[\"tthlept_prior\"]"
   ]
  },
  {
   "cell_type": "code",
   "execution_count": 20,
   "metadata": {
    "collapsed": false
   },
   "outputs": [
    {
     "name": "stdout",
     "output_type": "stream",
     "text": [
      "\u001b[31mInitialization\u001b[0m\n",
      "\u001b[94m---------------------------------------------------------------\u001b[0m\n",
      " Step |   Time |      Value |   whlept_prior |   zhlept_prior | \n",
      "attempting to load configuration file from /data_CMS/cms/wind/180424_sequential_prior_optimization/number_layers_2.0_number_neurons_64.0/priors_tree/Mor18_punzi_S_comp.conf\n",
      "    1 | 02m36s | \u001b[35m   1.24636\u001b[0m | \u001b[32m        0.0930\u001b[0m | \u001b[32m        0.1721\u001b[0m | \n",
      "\u001b[31mBayesian Optimization\u001b[0m\n",
      "\u001b[94m---------------------------------------------------------------\u001b[0m\n",
      " Step |   Time |      Value |   whlept_prior |   zhlept_prior | \n",
      "using xi = 0.00447997138886\n",
      "\u001b[31mBayesian Optimization\u001b[0m\n",
      "\u001b[94m---------------------------------------------------------------\u001b[0m\n",
      " Step |   Time |      Value |   whlept_prior |   zhlept_prior | \n",
      "attempting to load configuration file from /data_CMS/cms/wind/180424_sequential_prior_optimization/number_layers_2.0_number_neurons_64.0/priors_tree/Mor18_punzi_S_comp.conf\n",
      "attempting to load configuration file from /data_CMS/cms/wind/180424_sequential_prior_optimization/number_layers_2.0_number_neurons_64.0/priors_tree/evaluations_VHlept.txt\n",
      "    2 | 02m36s | \u001b[35m   1.69901\u001b[0m | \u001b[32m        0.3000\u001b[0m | \u001b[32m        0.0100\u001b[0m | \n"
     ]
    }
   ],
   "source": [
    "# then proceed with ZHlept and WHlept\n",
    "res = run_bayesian_optimization(\"VHlept\", \"evaluations_VHlept.txt\", punzi_target_VHlept, {'zhlept_prior': (eps, 0.3),\n",
    "                                                                                          'whlept_prior': (eps, 0.3)}, \n",
    "                                init_points = 1, max_iterations = 1, patience = 1)"
   ]
  },
  {
   "cell_type": "code",
   "execution_count": 21,
   "metadata": {
    "collapsed": false
   },
   "outputs": [
    {
     "ename": "KeyError",
     "evalue": "'zhhadr_prior'",
     "output_type": "error",
     "traceback": [
      "\u001b[0;31m---------------------------------------------------------------------------\u001b[0m",
      "\u001b[0;31mKeyError\u001b[0m                                  Traceback (most recent call last)",
      "\u001b[0;32m<ipython-input-21-6720985dfe08>\u001b[0m in \u001b[0;36m<module>\u001b[0;34m()\u001b[0m\n\u001b[0;32m----> 1\u001b[0;31m \u001b[0mzhhadr_prior_best\u001b[0m \u001b[0;34m=\u001b[0m \u001b[0mres\u001b[0m\u001b[0;34m[\u001b[0m\u001b[0;34m\"zhhadr_prior\"\u001b[0m\u001b[0;34m]\u001b[0m\u001b[0;34m\u001b[0m\u001b[0m\n\u001b[0m\u001b[1;32m      2\u001b[0m \u001b[0mwhhadr_prior_best\u001b[0m \u001b[0;34m=\u001b[0m \u001b[0mres\u001b[0m\u001b[0;34m[\u001b[0m\u001b[0;34m\"whhadr_prior\"\u001b[0m\u001b[0;34m]\u001b[0m\u001b[0;34m\u001b[0m\u001b[0m\n",
      "\u001b[0;31mKeyError\u001b[0m: 'zhhadr_prior'"
     ]
    }
   ],
   "source": [
    "zhhadr_prior_best = res[\"zhhadr_prior\"]\n",
    "whhadr_prior_best = res[\"whhadr_prior\"]"
   ]
  },
  {
   "cell_type": "code",
   "execution_count": null,
   "metadata": {
    "collapsed": false
   },
   "outputs": [],
   "source": [
    "# then finish off with ZHMET\n",
    "res = run_bayesian_optimization(\"VHMET\", \"evaluations_VHMET.txt\", punzi_target_ZHMET, {'zhmet_prior': (eps, 0.3)}, \n",
    "                                init_points = 1, max_iterations = 1, patience = 1)"
   ]
  },
  {
   "cell_type": "code",
   "execution_count": null,
   "metadata": {
    "collapsed": true
   },
   "outputs": [],
   "source": [
    "zhlept_prior_best = res[\"zhlept_prior\"]\n",
    "whlept_prior_best = res[\"whlept_prior\"]"
   ]
  },
  {
   "cell_type": "code",
   "execution_count": null,
   "metadata": {
    "collapsed": false
   },
   "outputs": [],
   "source": [
    "# then proceed with ZHhadr and WHhadr\n",
    "res = run_bayesian_optimization(\"VHhadr\", \"evaluations_VHhadr.txt\", punzi_target_VHhadr, {'zhhadr_prior': (eps, 0.3),\n",
    "                                                                                          'whhadr_prior': (eps, 0.3)}, \n",
    "                                init_points = 1, max_iterations = 1, patience = 1)"
   ]
  },
  {
   "cell_type": "code",
   "execution_count": null,
   "metadata": {
    "collapsed": true
   },
   "outputs": [],
   "source": [
    "zhmet_prior_best = res[\"zhmet_prior\"]"
   ]
  },
  {
   "cell_type": "code",
   "execution_count": null,
   "metadata": {
    "collapsed": true
   },
   "outputs": [],
   "source": [
    "# combine all the results into the final prior\n",
    "confhandler = ConfigFileHandler()\n",
    "confhandler.config.optionxform = str\n",
    "confhandler.new_section('Priors')\n",
    "confhandler.set_field('Priors', 'VBF_prior', str(1.0))\n",
    "confhandler.set_field('Priors', 'ggH_prior', str(ggh_prior_best))\n",
    "confhandler.set_field('Priors', 'ttHlept_prior', str(tthlept_prior_best))\n",
    "confhandler.set_field('Priors', 'ttHhadr_prior', str(tthhadr_prior_best))\n",
    "confhandler.set_field('Priors', 'ZHlept_prior', str(zhlept_prior_best))\n",
    "confhandler.set_field('Priors', 'WHlept_prior', str(whlept_prior_best))\n",
    "confhandler.set_field('Priors', 'ZHhadr_prior', str(zhhadr_prior_best))\n",
    "confhandler.set_field('Priors', 'WHhadr_prior', str(whhadr_prior_best))\n",
    "confhandler.set_field('Priors', 'ZHMET_prior', str(zhmet_prior_best))"
   ]
  },
  {
   "cell_type": "code",
   "execution_count": null,
   "metadata": {
    "collapsed": true
   },
   "outputs": [],
   "source": [
    "confhandler.save_configuration(os.path.join(out_dir, 'priors.txt'))"
   ]
  },
  {
   "cell_type": "code",
   "execution_count": null,
   "metadata": {
    "collapsed": true
   },
   "outputs": [],
   "source": []
  }
 ],
 "metadata": {
  "kernelspec": {
   "display_name": "Python 2",
   "language": "python",
   "name": "python2"
  },
  "language_info": {
   "codemirror_mode": {
    "name": "ipython",
    "version": 2
   },
   "file_extension": ".py",
   "mimetype": "text/x-python",
   "name": "python",
   "nbconvert_exporter": "python",
   "pygments_lexer": "ipython2",
   "version": "2.7.11"
  }
 },
 "nbformat": 4,
 "nbformat_minor": 2
}
