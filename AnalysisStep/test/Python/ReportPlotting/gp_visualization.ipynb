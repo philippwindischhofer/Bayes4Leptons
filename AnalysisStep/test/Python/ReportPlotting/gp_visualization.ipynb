{
 "cells": [
  {
   "cell_type": "code",
   "execution_count": 1,
   "metadata": {
    "collapsed": false
   },
   "outputs": [],
   "source": [
    "from bayes_opt import BayesianOptimization\n",
    "import numpy as np\n",
    "from sklearn.gaussian_process.kernels import Matern\n",
    "import matplotlib.pyplot as plt\n",
    "from matplotlib import gridspec\n",
    "\n",
    "import sys\n",
    "sys.path.insert(0, '/home/llr/cms/wind/cmssw/CMSSW_9_4_2/src/ZZAnalysis/AnalysisStep/test/Python/')\n",
    "\n",
    "from trainlib.ConfigFileHandler import ConfigFileHandler"
   ]
  },
  {
   "cell_type": "code",
   "execution_count": 2,
   "metadata": {
    "collapsed": true
   },
   "outputs": [],
   "source": [
    "def load_file(path, keys):\n",
    "    confhandler = ConfigFileHandler()\n",
    "    confhandler.load_configuration(path)\n",
    "    \n",
    "    retval = {}\n",
    "    \n",
    "    for section_name in confhandler.get_sections():\n",
    "        cur_section = confhandler.get_section(section_name)\n",
    "        \n",
    "        for key in keys:\n",
    "            if not key in retval:\n",
    "                retval[key] = []\n",
    "                \n",
    "            retval[key].append(float(cur_section[key]))\n",
    "            \n",
    "    return retval"
   ]
  },
  {
   "cell_type": "code",
   "execution_count": 20,
   "metadata": {
    "collapsed": false
   },
   "outputs": [],
   "source": [
    "def posterior(bo, x):\n",
    "    bo.gp.fit(bo.X, bo.Y)\n",
    "    mu, sigma = bo.gp.predict(x, return_std=True)\n",
    "    return mu, sigma\n",
    "\n",
    "def plot_gp(bo, x):\n",
    "    \n",
    "    fig = plt.figure()\n",
    "    axis = plt.subplot(111)\n",
    "    \n",
    "    mu, sigma = posterior(bo, x)\n",
    "    axis.plot(bo.X.flatten(), bo.Y, 's', markersize=3, label=u'observations', color='black')\n",
    "    axis.plot(x, mu, '--', color='black', label='gaussian process mean')\n",
    "\n",
    "    axis.fill(np.concatenate([x, x[::-1]]), \n",
    "              np.concatenate([mu - 1.9600 * sigma, (mu + 1.9600 * sigma)[::-1]]),\n",
    "        alpha=.6, fc='lightblue', ec='None', label='95% confidence interval')\n",
    "    \n",
    "    axis.set_xlim((min(x), max(x)))\n",
    "    axis.set_ylim((None, None))\n",
    "    axis.set_ylabel(r'$u$')\n",
    "    axis.set_xlabel(r'$p(\\mathrm{ggH})/p(\\mathrm{VBF})$')\n",
    "    \n",
    "    axis.legend(loc = 3)\n",
    "    \n",
    "    return fig"
   ]
  },
  {
   "cell_type": "code",
   "execution_count": 4,
   "metadata": {
    "collapsed": false
   },
   "outputs": [
    {
     "name": "stdout",
     "output_type": "stream",
     "text": [
      "attempting to load configuration file from /data_CMS/cms/wind/180528_optimized_hyperparameters_selvars_leading_jets_metfix_merged/optimized/priors_tree/evaluations_ggH.txt\n"
     ]
    }
   ],
   "source": [
    "init_dict = load_file(\"/data_CMS/cms/wind/180528_optimized_hyperparameters_selvars_leading_jets_metfix_merged/optimized/priors_tree/evaluations_ggH.txt\", [\"target\", \"ggh_prior\"])"
   ]
  },
  {
   "cell_type": "code",
   "execution_count": 5,
   "metadata": {
    "collapsed": true
   },
   "outputs": [],
   "source": [
    "gp_params = {'kernel': 1.0 * Matern(length_scale = 0.01, length_scale_bounds = (1e-5, 1e5), nu = 1.5),\n",
    "             'alpha':1.5e-6}"
   ]
  },
  {
   "cell_type": "code",
   "execution_count": 6,
   "metadata": {
    "collapsed": true
   },
   "outputs": [],
   "source": [
    "target = lambda x: x"
   ]
  },
  {
   "cell_type": "code",
   "execution_count": 7,
   "metadata": {
    "collapsed": false
   },
   "outputs": [],
   "source": [
    "x = np.linspace(1.0, 3.0, 1000).reshape(-1,1)"
   ]
  },
  {
   "cell_type": "code",
   "execution_count": 8,
   "metadata": {
    "collapsed": false
   },
   "outputs": [],
   "source": [
    "bo = BayesianOptimization(target, {'ggh_prior': (1.0, 3.0)})"
   ]
  },
  {
   "cell_type": "code",
   "execution_count": 9,
   "metadata": {
    "collapsed": false
   },
   "outputs": [],
   "source": [
    "bo.initialize(init_dict)"
   ]
  },
  {
   "cell_type": "code",
   "execution_count": 14,
   "metadata": {
    "collapsed": false
   },
   "outputs": [
    {
     "name": "stdout",
     "output_type": "stream",
     "text": [
      "\u001b[31mBayesian Optimization\u001b[0m\n",
      "\u001b[94m-------------------------------------------\u001b[0m\n",
      " Step |   Time |      Value |   ggh_prior | \n"
     ]
    }
   ],
   "source": [
    "bo.maximize(init_points=0, n_iter=0, acq='poi', kappa=5, xi = 0.1, **gp_params)"
   ]
  },
  {
   "cell_type": "code",
   "execution_count": 21,
   "metadata": {
    "collapsed": false
   },
   "outputs": [],
   "source": [
    "fig = plot_gp(bo, x)"
   ]
  },
  {
   "cell_type": "code",
   "execution_count": 22,
   "metadata": {
    "collapsed": false
   },
   "outputs": [],
   "source": [
    "plt.savefig(\"/data_CMS/cms/wind/Plots/ggH_prior_optimization_tree_180531.pdf\")"
   ]
  },
  {
   "cell_type": "code",
   "execution_count": null,
   "metadata": {
    "collapsed": true
   },
   "outputs": [],
   "source": []
  }
 ],
 "metadata": {
  "kernelspec": {
   "display_name": "Python 2",
   "language": "python",
   "name": "python2"
  },
  "language_info": {
   "codemirror_mode": {
    "name": "ipython",
    "version": 2
   },
   "file_extension": ".py",
   "mimetype": "text/x-python",
   "name": "python",
   "nbconvert_exporter": "python",
   "pygments_lexer": "ipython2",
   "version": "2.7.11"
  }
 },
 "nbformat": 4,
 "nbformat_minor": 0
}
