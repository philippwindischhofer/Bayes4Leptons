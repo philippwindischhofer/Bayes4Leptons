{
 "cells": [
  {
   "cell_type": "code",
   "execution_count": 3,
   "metadata": {
    "collapsed": false
   },
   "outputs": [],
   "source": [
    "from bayes_opt import BayesianOptimization\n",
    "import numpy as np\n",
    "from sklearn.gaussian_process.kernels import Matern\n",
    "import matplotlib.pyplot as plt\n",
    "from matplotlib import gridspec\n",
    "\n",
    "import sys\n",
    "sys.path.insert(0, '/home/llr/cms/wind/cmssw/CMSSW_9_4_2/src/ZZAnalysis/AnalysisStep/test/Python/')\n",
    "\n",
    "from trainlib.ConfigFileHandler import ConfigFileHandler"
   ]
  },
  {
   "cell_type": "code",
   "execution_count": 4,
   "metadata": {
    "collapsed": true
   },
   "outputs": [],
   "source": [
    "def load_file(path, keys):\n",
    "    confhandler = ConfigFileHandler()\n",
    "    confhandler.load_configuration(path)\n",
    "    \n",
    "    retval = {}\n",
    "    \n",
    "    for section_name in confhandler.get_sections():\n",
    "        cur_section = confhandler.get_section(section_name)\n",
    "        \n",
    "        for key in keys:\n",
    "            if not key in retval:\n",
    "                retval[key] = []\n",
    "                \n",
    "            retval[key].append(float(cur_section[key]))\n",
    "            \n",
    "    return retval"
   ]
  },
  {
   "cell_type": "code",
   "execution_count": 5,
   "metadata": {
    "collapsed": false
   },
   "outputs": [],
   "source": [
    "def posterior(bo, x):\n",
    "    bo.gp.fit(bo.X, bo.Y)\n",
    "    mu, sigma = bo.gp.predict(x, return_std=True)\n",
    "    return mu, sigma\n",
    "\n",
    "def plot_gp(bo, x):\n",
    "    \n",
    "    fig = plt.figure()\n",
    "    axis = plt.subplot(111)\n",
    "    \n",
    "    mu, sigma = posterior(bo, x)\n",
    "    axis.plot(bo.X.flatten(), bo.Y, 's', markersize=3, label=u'observations', color='black')\n",
    "    axis.plot(x, mu, '--', color='black', label='gaussian process mean')\n",
    "\n",
    "    axis.fill(np.concatenate([x, x[::-1]]), \n",
    "              np.concatenate([mu - 1.9600 * sigma, (mu + 1.9600 * sigma)[::-1]]),\n",
    "        alpha=.6, fc='lightblue', ec='None', label='95% confidence interval')\n",
    "    \n",
    "    axis.set_xlim((min(x), max(x)))\n",
    "    axis.set_ylim((None, None))\n",
    "    axis.set_ylabel('utility')\n",
    "    axis.set_xlabel('ggH prior')\n",
    "    \n",
    "    axis.legend(loc = 3)\n",
    "    \n",
    "    return fig"
   ]
  },
  {
   "cell_type": "code",
   "execution_count": 15,
   "metadata": {
    "collapsed": false
   },
   "outputs": [
    {
     "name": "stdout",
     "output_type": "stream",
     "text": [
      "attempting to load configuration file from /data_CMS/cms/wind/180510_bkg_cat_ZXonly_013/number_layers_2.0_number_neurons_64.0/priors_tree/evaluations_ggH.txt\n"
     ]
    }
   ],
   "source": [
    "init_dict = load_file(\"/data_CMS/cms/wind/180510_bkg_cat_ZXonly_013/number_layers_2.0_number_neurons_64.0/priors_tree/evaluations_ggH.txt\", [\"target\", \"ggh_prior\"])"
   ]
  },
  {
   "cell_type": "code",
   "execution_count": 16,
   "metadata": {
    "collapsed": true
   },
   "outputs": [],
   "source": [
    "gp_params = {'kernel': 1.0 * Matern(length_scale = 0.01, length_scale_bounds = (1e-5, 1e5), nu = 1.5),\n",
    "             'alpha':1.5e-6}"
   ]
  },
  {
   "cell_type": "code",
   "execution_count": 17,
   "metadata": {
    "collapsed": true
   },
   "outputs": [],
   "source": [
    "target = lambda x: x"
   ]
  },
  {
   "cell_type": "code",
   "execution_count": 18,
   "metadata": {
    "collapsed": false
   },
   "outputs": [],
   "source": [
    "x = np.linspace(1.0, 3.0, 1000).reshape(-1,1)"
   ]
  },
  {
   "cell_type": "code",
   "execution_count": 19,
   "metadata": {
    "collapsed": false
   },
   "outputs": [],
   "source": [
    "bo = BayesianOptimization(target, {'ggh_prior': (1.0, 3.0)})"
   ]
  },
  {
   "cell_type": "code",
   "execution_count": 20,
   "metadata": {
    "collapsed": false
   },
   "outputs": [],
   "source": [
    "bo.initialize(init_dict)"
   ]
  },
  {
   "cell_type": "code",
   "execution_count": 21,
   "metadata": {
    "collapsed": false
   },
   "outputs": [
    {
     "name": "stdout",
     "output_type": "stream",
     "text": [
      "\u001b[31mInitialization\u001b[0m\n",
      "\u001b[94m-------------------------------------------\u001b[0m\n",
      " Step |   Time |      Value |   ggh_prior | \n",
      "    1 | 00m00s | \u001b[35m   0.01907\u001b[0m | \u001b[32m     1.5297\u001b[0m | \n",
      "    2 | 00m00s | \u001b[35m   0.01960\u001b[0m | \u001b[32m     2.0621\u001b[0m | \n",
      "    3 | 00m00s |    0.01909 |      2.2188 | \n",
      "    4 | 00m00s |    0.01935 |      1.4528 | \n",
      "    5 | 00m00s | \u001b[35m   0.01999\u001b[0m | \u001b[32m     1.5173\u001b[0m | \n",
      "    6 | 00m00s |   -0.01820 |      2.9707 | \n",
      "    7 | 00m00s |    0.01574 |      1.0000 | \n",
      "    8 | 00m00s |    0.01353 |      2.5882 | \n",
      "    9 | 00m00s |    0.01947 |      1.7970 | \n",
      "   10 | 00m00s |   -0.00589 |      2.7295 | \n",
      "   11 | 00m00s |    0.01773 |      1.2168 | \n",
      "   12 | 00m00s |    0.01850 |      2.4029 | \n",
      "   13 | 00m00s |    0.01768 |      1.2248 | \n",
      "   14 | 00m00s |    0.01800 |      1.2460 | \n",
      "   15 | 00m00s |    0.01901 |      2.2527 | \n",
      "   16 | 00m00s |   -0.01721 |      2.9658 | \n",
      "   17 | 00m00s |    0.01964 |      2.0321 | \n",
      "   18 | 00m00s |    0.01580 |      1.1645 | \n",
      "   19 | 00m00s |    0.01984 |      1.6663 | \n",
      "   20 | 00m00s |    0.01919 |      1.7688 | \n",
      "   21 | 00m00s |    0.01602 |      1.0565 | \n",
      "   22 | 00m00s |    0.01923 |      2.3411 | \n",
      "   23 | 00m00s |    0.01989 |      1.8892 | \n",
      "   24 | 00m00s |    0.01897 |      1.5400 | \n",
      "   25 | 00m00s |    0.01857 |      2.4199 | \n",
      "   26 | 00m00s |   -0.01458 |      2.8784 | \n",
      "   27 | 00m00s |    0.01960 |      1.9817 | \n",
      "   28 | 00m00s |    0.01848 |      1.3561 | \n",
      "   29 | 00m00s |    0.01934 |      1.7790 | \n",
      "   30 | 00m00s |    0.01401 |      1.0900 | \n",
      "   31 | 00m00s |    0.01901 |      2.3617 | \n",
      "   32 | 00m00s |    0.01953 |      1.8093 | \n",
      "   33 | 00m00s |    0.01837 |      2.5060 | \n",
      "   34 | 00m00s |    0.01978 |      2.1405 | \n",
      "   35 | 00m00s |    0.01955 |      1.6225 | \n",
      "   36 | 00m00s |    0.01865 |      1.3558 | \n",
      "   37 | 00m00s |    0.01547 |      1.0000 | \n",
      "   38 | 00m00s |    0.01991 |      1.9283 | \n",
      "   39 | 00m00s |    0.01943 |      1.7017 | \n",
      "   40 | 00m00s |    0.01912 |      2.1256 | \n",
      "   41 | 00m00s |    0.01915 |      1.4198 | \n",
      "   42 | 00m00s |    0.01851 |      2.4838 | \n",
      "\u001b[31mBayesian Optimization\u001b[0m\n",
      "\u001b[94m-------------------------------------------\u001b[0m\n",
      " Step |   Time |      Value |   ggh_prior | \n"
     ]
    }
   ],
   "source": [
    "bo.maximize(init_points=0, n_iter=0, acq='poi', kappa=5, xi = 0.1, **gp_params)"
   ]
  },
  {
   "cell_type": "code",
   "execution_count": 22,
   "metadata": {
    "collapsed": false
   },
   "outputs": [],
   "source": [
    "fig = plot_gp(bo, x)"
   ]
  },
  {
   "cell_type": "code",
   "execution_count": 23,
   "metadata": {
    "collapsed": false
   },
   "outputs": [],
   "source": [
    "plt.savefig(\"/data_CMS/cms/wind/Plots/ggH_prior_optimization_tree.pdf\")"
   ]
  },
  {
   "cell_type": "code",
   "execution_count": null,
   "metadata": {
    "collapsed": true
   },
   "outputs": [],
   "source": []
  }
 ],
 "metadata": {
  "kernelspec": {
   "display_name": "Python 2",
   "language": "python",
   "name": "python2"
  },
  "language_info": {
   "codemirror_mode": {
    "name": "ipython",
    "version": 2
   },
   "file_extension": ".py",
   "mimetype": "text/x-python",
   "name": "python",
   "nbconvert_exporter": "python",
   "pygments_lexer": "ipython2",
   "version": "2.7.11"
  }
 },
 "nbformat": 4,
 "nbformat_minor": 0
}
