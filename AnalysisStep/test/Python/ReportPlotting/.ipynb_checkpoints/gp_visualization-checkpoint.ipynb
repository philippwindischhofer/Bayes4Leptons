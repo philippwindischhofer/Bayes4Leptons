{
 "cells": [
  {
   "cell_type": "code",
   "execution_count": 1,
   "metadata": {
    "collapsed": false
   },
   "outputs": [],
   "source": [
    "from bayes_opt import BayesianOptimization\n",
    "import numpy as np\n",
    "from sklearn.gaussian_process.kernels import Matern\n",
    "import matplotlib.pyplot as plt\n",
    "from matplotlib import gridspec\n",
    "\n",
    "import sys\n",
    "sys.path.insert(0, '/home/llr/cms/wind/cmssw/CMSSW_9_4_2/src/ZZAnalysis/AnalysisStep/test/Python/')\n",
    "\n",
    "from trainlib.ConfigFileHandler import ConfigFileHandler"
   ]
  },
  {
   "cell_type": "code",
   "execution_count": 2,
   "metadata": {
    "collapsed": true
   },
   "outputs": [],
   "source": [
    "def load_file(path, keys):\n",
    "    confhandler = ConfigFileHandler()\n",
    "    confhandler.load_configuration(path)\n",
    "    \n",
    "    retval = {}\n",
    "    \n",
    "    for section_name in confhandler.get_sections():\n",
    "        cur_section = confhandler.get_section(section_name)\n",
    "        \n",
    "        for key in keys:\n",
    "            if not key in retval:\n",
    "                retval[key] = []\n",
    "                \n",
    "            retval[key].append(float(cur_section[key]))\n",
    "            \n",
    "    return retval"
   ]
  },
  {
   "cell_type": "code",
   "execution_count": 3,
   "metadata": {
    "collapsed": false
   },
   "outputs": [],
   "source": [
    "def posterior(bo, x):\n",
    "    bo.gp.fit(bo.X, bo.Y)\n",
    "    mu, sigma = bo.gp.predict(x, return_std=True)\n",
    "    return mu, sigma\n",
    "\n",
    "def plot_gp(bo, x):\n",
    "    \n",
    "    fig = plt.figure()\n",
    "    axis = plt.subplot(111)\n",
    "    \n",
    "    mu, sigma = posterior(bo, x)\n",
    "    axis.plot(bo.X.flatten(), bo.Y, 's', markersize=3, label=u'observations', color='black')\n",
    "    axis.plot(x, mu, '--', color='black', label='gaussian process mean')\n",
    "\n",
    "    axis.fill(np.concatenate([x, x[::-1]]), \n",
    "              np.concatenate([mu - 1.9600 * sigma, (mu + 1.9600 * sigma)[::-1]]),\n",
    "        alpha=.6, fc='lightblue', ec='None', label='95% confidence interval')\n",
    "    \n",
    "    axis.set_xlim((min(x), max(x)))\n",
    "    axis.set_ylim((None, None))\n",
    "    axis.set_ylabel(r'$u(\\mathbf{\\Delta\\mathcal{P}})$')\n",
    "    axis.set_xlabel(r'$p(ggH)/p(\\mathrm{VBF})$')\n",
    "    \n",
    "    axis.legend(loc = 3)\n",
    "    \n",
    "    return fig"
   ]
  },
  {
   "cell_type": "code",
   "execution_count": 4,
   "metadata": {
    "collapsed": false
   },
   "outputs": [
    {
     "name": "stdout",
     "output_type": "stream",
     "text": [
      "attempting to load configuration file from /data_CMS/cms/wind/180528_optimized_hyperparameters_selvars_leading_jets_metfix_merged/optimized/priors_tree/evaluations_ggH.txt\n"
     ]
    }
   ],
   "source": [
    "init_dict = load_file(\"/data_CMS/cms/wind/180528_optimized_hyperparameters_selvars_leading_jets_metfix_merged/optimized/priors_tree/evaluations_ggH.txt\", [\"target\", \"ggh_prior\"])"
   ]
  },
  {
   "cell_type": "code",
   "execution_count": 5,
   "metadata": {
    "collapsed": true
   },
   "outputs": [],
   "source": [
    "gp_params = {'kernel': 1.0 * Matern(length_scale = 0.01, length_scale_bounds = (1e-5, 1e5), nu = 1.5),\n",
    "             'alpha':1.5e-6}"
   ]
  },
  {
   "cell_type": "code",
   "execution_count": 6,
   "metadata": {
    "collapsed": true
   },
   "outputs": [],
   "source": [
    "target = lambda x: x"
   ]
  },
  {
   "cell_type": "code",
   "execution_count": 7,
   "metadata": {
    "collapsed": false
   },
   "outputs": [],
   "source": [
    "x = np.linspace(1.0, 3.0, 1000).reshape(-1,1)"
   ]
  },
  {
   "cell_type": "code",
   "execution_count": 8,
   "metadata": {
    "collapsed": false
   },
   "outputs": [],
   "source": [
    "bo = BayesianOptimization(target, {'ggh_prior': (1.0, 3.0)})"
   ]
  },
  {
   "cell_type": "code",
   "execution_count": 9,
   "metadata": {
    "collapsed": false
   },
   "outputs": [],
   "source": [
    "bo.initialize(init_dict)"
   ]
  },
  {
   "cell_type": "code",
   "execution_count": 10,
   "metadata": {
    "collapsed": false
   },
   "outputs": [
    {
     "name": "stdout",
     "output_type": "stream",
     "text": [
      "\u001b[31mInitialization\u001b[0m\n",
      "\u001b[94m-------------------------------------------\u001b[0m\n",
      " Step |   Time |      Value |   ggh_prior | \n",
      "    1 | 00m00s | \u001b[35m   0.01570\u001b[0m | \u001b[32m     2.5448\u001b[0m | \n",
      "    2 | 00m00s | \u001b[35m   0.02005\u001b[0m | \u001b[32m     1.8231\u001b[0m | \n",
      "    3 | 00m00s |    0.01408 |      2.5895 | \n",
      "    4 | 00m00s |    0.01547 |      1.0000 | \n",
      "    5 | 00m00s |    0.01754 |      2.3658 | \n",
      "    6 | 00m00s |    0.01795 |      1.1343 | \n",
      "    7 | 00m00s | \u001b[35m   0.02008\u001b[0m | \u001b[32m     1.7055\u001b[0m | \n",
      "    8 | 00m00s |    0.01382 |      2.7197 | \n",
      "    9 | 00m00s |    0.01904 |      2.2099 | \n",
      "   10 | 00m00s |    0.01735 |      1.0850 | \n",
      "   11 | 00m00s |    0.01956 |      1.4631 | \n",
      "   12 | 00m00s |    0.01961 |      1.7946 | \n",
      "   13 | 00m00s |    0.01763 |      1.2216 | \n",
      "   14 | 00m00s |    0.01771 |      1.2748 | \n",
      "   15 | 00m00s |    0.01807 |      2.4175 | \n",
      "   16 | 00m00s |    0.01102 |      2.7483 | \n",
      "   17 | 00m00s |    0.01763 |      1.0915 | \n",
      "   18 | 00m00s |    0.02000 |      1.5564 | \n",
      "   19 | 00m00s |    0.01786 |      1.2665 | \n",
      "   20 | 00m00s |    0.01949 |      1.9880 | \n",
      "   21 | 00m00s | \u001b[35m   0.02016\u001b[0m | \u001b[32m     1.8957\u001b[0m | \n",
      "   22 | 00m00s |   -0.00889 |      2.9058 | \n",
      "   23 | 00m00s |   -0.01061 |      3.0000 | \n",
      "   24 | 00m00s |    0.01932 |      2.0984 | \n",
      "   25 | 00m00s |    0.02009 |      1.7501 | \n",
      "   26 | 00m00s |    0.01983 |      1.8258 | \n",
      "   27 | 00m00s |    0.01798 |      1.2247 | \n",
      "   28 | 00m00s |    0.01901 |      1.3771 | \n",
      "   29 | 00m00s |    0.01871 |      1.3693 | \n",
      "   30 | 00m00s |    0.01937 |      2.0225 | \n",
      "   31 | 00m00s |    0.01900 |      2.2839 | \n",
      "   32 | 00m00s |    0.01994 |      1.6277 | \n",
      "   33 | 00m00s |    0.02015 |      1.7525 | \n",
      "   34 | 00m00s |    0.01675 |      1.0676 | \n",
      "   35 | 00m00s |    0.01894 |      2.1536 | \n",
      "   36 | 00m00s |    0.01493 |      2.4767 | \n",
      "   37 | 00m00s |    0.01532 |      1.0000 | \n",
      "   38 | 00m00s |    0.01972 |      1.5100 | \n",
      "   39 | 00m00s |    0.01465 |      2.6491 | \n",
      "   40 | 00m00s |    0.02010 |      1.9351 | \n",
      "   41 | 00m00s | \u001b[35m   0.02029\u001b[0m | \u001b[32m     1.6485\u001b[0m | \n",
      "   42 | 00m00s |    0.01844 |      2.3105 | \n",
      "\u001b[31mBayesian Optimization\u001b[0m\n",
      "\u001b[94m-------------------------------------------\u001b[0m\n",
      " Step |   Time |      Value |   ggh_prior | \n"
     ]
    }
   ],
   "source": [
    "bo.maximize(init_points=0, n_iter=0, acq='poi', kappa=5, xi = 0.1, **gp_params)"
   ]
  },
  {
   "cell_type": "code",
   "execution_count": 11,
   "metadata": {
    "collapsed": false
   },
   "outputs": [],
   "source": [
    "fig = plot_gp(bo, x)"
   ]
  },
  {
   "cell_type": "code",
   "execution_count": 12,
   "metadata": {
    "collapsed": false
   },
   "outputs": [],
   "source": [
    "plt.savefig(\"/data_CMS/cms/wind/Plots/ggH_prior_optimization_tree_180531.pdf\")"
   ]
  },
  {
   "cell_type": "code",
   "execution_count": null,
   "metadata": {
    "collapsed": true
   },
   "outputs": [],
   "source": []
  }
 ],
 "metadata": {
  "kernelspec": {
   "display_name": "Python 2",
   "language": "python",
   "name": "python2"
  },
  "language_info": {
   "codemirror_mode": {
    "name": "ipython",
    "version": 2
   },
   "file_extension": ".py",
   "mimetype": "text/x-python",
   "name": "python",
   "nbconvert_exporter": "python",
   "pygments_lexer": "ipython2",
   "version": "2.7.11"
  }
 },
 "nbformat": 4,
 "nbformat_minor": 0
}
