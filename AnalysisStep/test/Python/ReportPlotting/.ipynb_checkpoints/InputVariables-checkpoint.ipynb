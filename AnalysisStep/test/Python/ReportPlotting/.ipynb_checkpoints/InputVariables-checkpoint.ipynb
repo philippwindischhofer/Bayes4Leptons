{
 "cells": [
  {
   "cell_type": "code",
   "execution_count": 1,
   "metadata": {
    "collapsed": true
   },
   "outputs": [],
   "source": [
    "import matplotlib.pyplot as plt\n",
    "import matplotlib.ticker as ticker\n",
    "import numpy as np\n",
    "import pandas as pd\n",
    "import sys"
   ]
  },
  {
   "cell_type": "code",
   "execution_count": 2,
   "metadata": {
    "collapsed": false
   },
   "outputs": [],
   "source": [
    "sys.path.insert(0, '/home/llr/cms/wind/cmssw/CMSSW_9_4_2/src/ZZAnalysis/AnalysisStep/test/Python/')"
   ]
  },
  {
   "cell_type": "code",
   "execution_count": 3,
   "metadata": {
    "collapsed": false
   },
   "outputs": [],
   "source": [
    "from trainlib.ConfigFileHandler import ConfigFileHandler\n",
    "from trainlib.ConfigFileUtils import ConfigFileUtils"
   ]
  },
  {
   "cell_type": "code",
   "execution_count": 4,
   "metadata": {
    "collapsed": false
   },
   "outputs": [],
   "source": [
    "variable_pretty_names = {\n",
    "    \"D_VBF1j_ggH_ME\": r'$\\mathcal{D}_{\\mathrm{VBF-1j, ggH}}$',\n",
    "    \"D_VBF2j_ggH_ME\": r'$\\mathcal{D}_{\\mathrm{VBF-2j, ggH}}$',\n",
    "    \"D_VBF2j_WHh_ME\": r'$\\mathcal{D}_{\\mathrm{VBF-2j, WH-hadr}}$',\n",
    "    \"D_VBF2j_ZHh_ME\": r'$\\mathcal{D}_{\\mathrm{VBF-2j, ZH-hadr}}$',\n",
    "    \"D_WHh_ZHh_ME\": r'$\\mathcal{D}_{\\mathrm{WH-hadr, ZH-hadr}}$',\n",
    "    \"D_WHh_ggH_ME\": r'$\\mathcal{D}_{\\mathrm{WH-hadr, ggH}}$',\n",
    "    \"D_ZHh_ggH_ME\": r'$\\mathcal{D}_{\\mathrm{ZH-hadr, ggH}}$',\n",
    "    \"D_bkg_ME\": r'$\\mathcal{D}_{\\mathrm{bkg}}$',\n",
    "    \n",
    "    \"ExtraLepEta[ExtraLepPt|0]\": r'$\\eta(e\\ell_{(1)})$',\n",
    "    \"ExtraLepEta[ExtraLepPt|1]\": r'$\\eta(e\\ell_{(2)})$',\n",
    "    \"ExtraLepEta[ExtraLepPt|2]\": r'$\\eta(e\\ell_{(3)})$',\n",
    "    \"ExtraLepPhi[ExtraLepPt|0]\": r'$\\phi(e\\ell_{(1)})$',\n",
    "    \"ExtraLepPhi[ExtraLepPt|1]\": r'$\\phi(e\\ell_{(2)})$',\n",
    "    \"ExtraLepPt[ExtraLepPt|0]\": r'$p_T(e\\ell_{(1)})$',\n",
    "    \"ExtraLepPt[ExtraLepPt|1]\": r'$p_T(e\\ell_{(2)})$',\n",
    "    \"ExtraLepPt[ExtraLepPt|2]\": r'$p_T(e\\ell_{(3)})$',\n",
    "\n",
    "    \"JetEta[JetPt|0]\": r'$\\eta(j_{(1)})$',\n",
    "    \"JetEta[JetPt|1]\": r'$\\eta(j_{(2)})$',\n",
    "    \"JetEta[JetPt|2]\": r'$\\eta(j_{(3)})$',\n",
    "    \"JetEta[JetPt|3]\": r'$\\eta(j_{(4)})$',\n",
    "    \n",
    "    \"JetPhi[JetPt|0]\": r'$\\phi(j_{(1)})$',\n",
    "    \"JetPhi[JetPt|1]\": r'$\\phi(j_{(2)})$',\n",
    "    \"JetPhi[JetPt|2]\": r'$\\phi(j_{(3)})$',\n",
    "    \"JetPhi[JetPt|3]\": r'$\\phi(j_{(4)})$',\n",
    "    \n",
    "    \"JetPt[JetPt|0]\": r'$p_T(j_{(1)})$',\n",
    "    \"JetPt[JetPt|1]\": r'$p_T(j_{(2)})$',\n",
    "    \"JetPt[JetPt|2]\": r'$p_T(j_{(3)})$',\n",
    "    \"JetPt[JetPt|3]\": r'$p_T(j_{(4)})$',\n",
    "    \n",
    "    \"PFMET\": \"MET\",\n",
    "    \n",
    "    \"Z1Mass\": r'$m(Z_1)$',\n",
    "    \"Z2Mass\": r'$m(Z_2)$',\n",
    "    \"Z1Pt\": r'$p_T(Z_1)$',\n",
    "    \"Z2Pt\": r'$p_T(Z_2)$',\n",
    "    \"Z1Flav\": r'$\\mathfrak{f}(Z_1)$',\n",
    "    \"Z2Flav\": r'$\\mathfrak{f}(Z_2)$',\n",
    "    \n",
    "    \"ZZEta\": r'$\\eta(ZZ)$',\n",
    "    \"ZZMassErr\": r'$\\sigma(m(ZZ))$',\n",
    "    \"ZZMass_masked\": r'$m(ZZ)$',\n",
    "    \"ZZPhi\": r'$\\phi(ZZ)$',\n",
    "    \"ZZPt\": r'$p_T(ZZ)$',\n",
    "    \"costhetastar\": r'$\\mathrm{cos}(\\theta^{*})$',\n",
    "    \"helcosthetaZ1\": r'$\\mathrm{cos}(\\theta_1)$',\n",
    "    \"helcosthetaZ2\": r'$\\mathrm{cos}(\\theta_2)$',\n",
    "    \"helphi\": r'$\\Phi$',\n",
    "    \"phistarZ1\": r'$\\Phi_1$',\n",
    "    \n",
    "    \"nCleanedJetsPt30\": r'$n(j)$',\n",
    "    \"nCleanedJetsPt30BTagged_bTagSF\": r'$n(j_b)$',\n",
    "    \"nExtraZ\": r'$n(eZ)$',\n",
    "    \"nExtraLep\": r'$n(e\\ell)$',\n",
    "    \"xistar\": r'$\\xi^{*}$',\n",
    "    \"xi\": r'$\\xi$'\n",
    "\n",
    "}"
   ]
  },
  {
   "cell_type": "code",
   "execution_count": 5,
   "metadata": {
    "collapsed": true
   },
   "outputs": [],
   "source": [
    "discriminant_pretty_names = {\n",
    "    \"D_VBF_ggH_2j_ML\": \"D_VBF-2j_ggH_ML\",\n",
    "    \"D_VBF_ggH_1j_ML\": \"D_VBF-1j_ggH_ML\",\n",
    "    \"D_VBF_ggH_0j_ML\": \"D_VBF-0j_ggH_ML\"\n",
    "}"
   ]
  },
  {
   "cell_type": "code",
   "execution_count": 6,
   "metadata": {
    "collapsed": true
   },
   "outputs": [],
   "source": [
    "def convert_model_label(raw):\n",
    "    retval = discriminant_pretty_names.get(raw, raw)\n",
    "    \n",
    "    retval = retval.replace('D_', '')\n",
    "    retval = retval.replace('_ML', '')\n",
    "    retval = retval.replace('_', ', ')\n",
    "    \n",
    "    # get rid of the abbreviated forms\n",
    "    retval = retval.replace('qq', r'$q\\bar{q}\\rightarrow ZZ$')\n",
    "    retval = retval.replace('ZX', r'$Z+X$')\n",
    "    retval = retval.replace('ZHl', r'$ZH$-lept')\n",
    "    retval = retval.replace('ZHh', r'$ZH$-hadr')\n",
    "    retval = retval.replace('WHl', r'$WH$-lept')\n",
    "    retval = retval.replace('WHh', r'$WH$-hadr')\n",
    "    retval = retval.replace('ZX', 'Z+X')\n",
    "    retval = retval.replace('ttHh', r'$t\\bar{t}H$-hadr')\n",
    "    retval = retval.replace('ttHl', r'$t\\bar{t}H$-lept')\n",
    "    retval = retval.replace('ggH', r'$ggH$')\n",
    "    retval = retval.replace('ZHMET', r'$VH$-MET')\n",
    "    \n",
    "    return retval"
   ]
  },
  {
   "cell_type": "code",
   "execution_count": 7,
   "metadata": {
    "collapsed": true
   },
   "outputs": [],
   "source": [
    "def convert_variable_name(raw):\n",
    "    return variable_pretty_names.get(raw, raw)"
   ]
  },
  {
   "cell_type": "code",
   "execution_count": 8,
   "metadata": {
    "collapsed": true
   },
   "outputs": [],
   "source": [
    "def make_input_plot(input_file):\n",
    "    confhandler = ConfigFileHandler()\n",
    "    confhandler.load_configuration(input_file)\n",
    "    models = confhandler.get_sections()\n",
    "    \n",
    "    df = pd.DataFrame()\n",
    "\n",
    "    for model in models:\n",
    "        cur_sect = confhandler.get_section(model)\n",
    "\n",
    "        used_nonperiodic_vars = filter(None, ConfigFileUtils.parse_list(cur_sect[\"nonperiodic_columns\"], lambda x: x))\n",
    "        used_periodic_vars = filter(None, ConfigFileUtils.parse_list(cur_sect[\"periodic_columns\"], lambda x: x))\n",
    "\n",
    "        used_vars = used_nonperiodic_vars + used_periodic_vars\n",
    "        var_dict = {col: [1.0] for col in used_vars}\n",
    "        var_dict[\"model\"] = model\n",
    "\n",
    "        row_df = pd.DataFrame.from_dict(var_dict)\n",
    "\n",
    "        df = pd.concat([df, row_df], axis = 0)\n",
    "\n",
    "    df = df.fillna(0.0)\n",
    "    \n",
    "    datacols = [col for col in df.columns if col is not \"model\"]\n",
    "    plot_data = df[datacols].as_matrix()\n",
    "    \n",
    "    y_label = [convert_variable_name(name) for name in np.array(datacols)]\n",
    "    x_label = [convert_model_label(label) for label in df[\"model\"].as_matrix()]\n",
    "    \n",
    "    fig = plt.figure(figsize = (12, 10))\n",
    "    \n",
    "    ax = fig.add_subplot(111)\n",
    "    \n",
    "    cax = ax.matshow(plot_data.transpose(), cmap = 'Blues', vmin = 0, vmax = 1)\n",
    "    ax.set_xticklabels(np.concatenate([[''], x_label]), rotation = 'vertical', fontsize = 8)\n",
    "    ax.set_yticklabels(np.concatenate([[''], y_label]), fontsize = 8)\n",
    "    ax.xaxis.set_label_position(\"top\")\n",
    "    ax.xaxis.set_major_locator(ticker.MultipleLocator(1))\n",
    "    ax.yaxis.set_major_locator(ticker.MultipleLocator(1))\n",
    "    \n",
    "    plt.tight_layout()\n",
    "    \n",
    "    return fig"
   ]
  },
  {
   "cell_type": "code",
   "execution_count": 9,
   "metadata": {
    "collapsed": false
   },
   "outputs": [],
   "source": [
    "def make_fscore_plot(input_file):\n",
    "    df = pd.DataFrame.from_csv(input_file)\n",
    "    \n",
    "    cols = [col for col in df[\"discriminant\"]]\n",
    "    \n",
    "    df = df.loc[df[\"discriminant\"].isin(cols)]\n",
    "    \n",
    "    df = df.fillna(0.0)\n",
    "        \n",
    "    # now plot the data contained in the table to have a global picture of the relevant input variables\n",
    "    datacol_labels = [col for col in df.columns.tolist() if col != \"discriminant\"]\n",
    "    variable_data = df[datacol_labels].as_matrix().transpose()\n",
    "    \n",
    "    datacol_labels = [convert_variable_name(name) for name in datacol_labels]\n",
    "    datacol_labels = np.concatenate([[''], np.array(datacol_labels)])\n",
    "    \n",
    "    discriminant_labels = [convert_model_label(col) for col in df[\"discriminant\"]]\n",
    "    discriminant_labels = np.concatenate([[''], discriminant_labels])\n",
    "    \n",
    "    fig = plt.figure(figsize = (12, 10))\n",
    "    ax = fig.add_subplot(111)\n",
    "    cax = ax.matshow(variable_data, interpolation = 'nearest', cmap = 'Blues', vmin = np.min(variable_data), vmax = np.max(variable_data))\n",
    "    ax.set_xticklabels(discriminant_labels, rotation = 'vertical')\n",
    "    ax.set_yticklabels(datacol_labels)\n",
    "    ax.xaxis.set_major_locator(ticker.MultipleLocator(1))\n",
    "    ax.yaxis.set_major_locator(ticker.MultipleLocator(1))\n",
    "    \n",
    "    plt.tight_layout()\n",
    "    \n",
    "    return fig"
   ]
  },
  {
   "cell_type": "code",
   "execution_count": 142,
   "metadata": {
    "collapsed": false
   },
   "outputs": [
    {
     "name": "stdout",
     "output_type": "stream",
     "text": [
      "attempting to load configuration file from /data_CMS/cms/wind/InputConfigurations2.0/combined_99_inputs.conf\n"
     ]
    }
   ],
   "source": [
    "fig = make_input_plot(\"/data_CMS/cms/wind/InputConfigurations2.0/combined_99_inputs.conf\")"
   ]
  },
  {
   "cell_type": "code",
   "execution_count": 143,
   "metadata": {
    "collapsed": false
   },
   "outputs": [],
   "source": [
    "plt.savefig(\"/data_CMS/cms/wind/InputConfigurations2.0/combined_99_inputs_selected.pdf\")"
   ]
  },
  {
   "cell_type": "code",
   "execution_count": 150,
   "metadata": {
    "collapsed": false
   },
   "outputs": [],
   "source": [
    "fig = make_fscore_plot(\"/data_CMS/cms/wind/InputConfigurations2.0/combined_99_fscore_table.csv\")"
   ]
  },
  {
   "cell_type": "code",
   "execution_count": 151,
   "metadata": {
    "collapsed": false
   },
   "outputs": [],
   "source": [
    "plt.savefig(\"/data_CMS/cms/wind/InputConfigurations2.0/combined_99_inputs_fscore.pdf\")"
   ]
  },
  {
   "cell_type": "code",
   "execution_count": 152,
   "metadata": {
    "collapsed": false
   },
   "outputs": [
    {
     "name": "stdout",
     "output_type": "stream",
     "text": [
      "attempting to load configuration file from /data_CMS/cms/wind/InputConfigurations2.0/combined_99_nomela_inputs.conf\n"
     ]
    }
   ],
   "source": [
    "fig = make_input_plot(\"/data_CMS/cms/wind/InputConfigurations2.0/combined_99_nomela_inputs.conf\")"
   ]
  },
  {
   "cell_type": "code",
   "execution_count": 153,
   "metadata": {
    "collapsed": false
   },
   "outputs": [],
   "source": [
    "plt.savefig(\"/data_CMS/cms/wind/InputConfigurations2.0/combined_99_nomela_inputs_selected.pdf\")"
   ]
  },
  {
   "cell_type": "code",
   "execution_count": 154,
   "metadata": {
    "collapsed": false
   },
   "outputs": [],
   "source": [
    "fig = make_fscore_plot(\"/data_CMS/cms/wind/InputConfigurations2.0/combined_99_nomela_fscore_table.csv\")"
   ]
  },
  {
   "cell_type": "code",
   "execution_count": 155,
   "metadata": {
    "collapsed": false
   },
   "outputs": [],
   "source": [
    "plt.savefig(\"/data_CMS/cms/wind/InputConfigurations2.0/combined_99_nomela_inputs_fscore.pdf\")"
   ]
  },
  {
   "cell_type": "markdown",
   "metadata": {},
   "source": [
    "these are for the input variable selection using only the two leading jets"
   ]
  },
  {
   "cell_type": "code",
   "execution_count": 10,
   "metadata": {
    "collapsed": false
   },
   "outputs": [
    {
     "name": "stdout",
     "output_type": "stream",
     "text": [
      "attempting to load configuration file from /data_CMS/cms/wind/InputConfigurations2.0_leading_jets/combined_99_inputs.conf\n"
     ]
    }
   ],
   "source": [
    "fig = make_input_plot(\"/data_CMS/cms/wind/InputConfigurations2.0_leading_jets/combined_99_inputs.conf\")"
   ]
  },
  {
   "cell_type": "code",
   "execution_count": 11,
   "metadata": {
    "collapsed": false
   },
   "outputs": [],
   "source": [
    "plt.savefig(\"/data_CMS/cms/wind/InputConfigurations2.0_leading_jets/combined_99_inputs_selected.pdf\")"
   ]
  },
  {
   "cell_type": "code",
   "execution_count": 12,
   "metadata": {
    "collapsed": false
   },
   "outputs": [
    {
     "name": "stdout",
     "output_type": "stream",
     "text": [
      "attempting to load configuration file from /data_CMS/cms/wind/InputConfigurations2.0_leading_jets/combined_99_all_inputs.conf\n"
     ]
    }
   ],
   "source": [
    "fig = make_input_plot(\"/data_CMS/cms/wind/InputConfigurations2.0_leading_jets/combined_99_all_inputs.conf\")"
   ]
  },
  {
   "cell_type": "code",
   "execution_count": 13,
   "metadata": {
    "collapsed": false
   },
   "outputs": [],
   "source": [
    "plt.savefig(\"/data_CMS/cms/wind/InputConfigurations2.0_leading_jets/combined_99_inputs_selected.pdf\")"
   ]
  },
  {
   "cell_type": "markdown",
   "metadata": {
    "collapsed": true
   },
   "source": [
    "these are for the input variable selection using only the two leading jets and no PFMET for data / MC pairs"
   ]
  },
  {
   "cell_type": "code",
   "execution_count": 32,
   "metadata": {
    "collapsed": false
   },
   "outputs": [
    {
     "name": "stdout",
     "output_type": "stream",
     "text": [
      "attempting to load configuration file from /data_CMS/cms/wind/InputConfigurations2.0_leading_jets/combined_99_inputs_metfix.conf\n"
     ]
    }
   ],
   "source": [
    "fig = make_input_plot(\"/data_CMS/cms/wind/InputConfigurations2.0_leading_jets/combined_99_inputs_metfix.conf\")"
   ]
  },
  {
   "cell_type": "code",
   "execution_count": 33,
   "metadata": {
    "collapsed": false
   },
   "outputs": [],
   "source": [
    "plt.savefig(\"/data_CMS/cms/wind/InputConfigurations2.0_leading_jets/combined_99_inputs_selected_metfix.pdf\")"
   ]
  },
  {
   "cell_type": "code",
   "execution_count": 34,
   "metadata": {
    "collapsed": false
   },
   "outputs": [
    {
     "name": "stdout",
     "output_type": "stream",
     "text": [
      "attempting to load configuration file from /data_CMS/cms/wind/InputConfigurations2.0_leading_jets/combined_99_all_inputs_metfix.conf\n"
     ]
    }
   ],
   "source": [
    "fig = make_input_plot(\"/data_CMS/cms/wind/InputConfigurations2.0_leading_jets/combined_99_all_inputs_metfix.conf\")"
   ]
  },
  {
   "cell_type": "code",
   "execution_count": 35,
   "metadata": {
    "collapsed": false
   },
   "outputs": [],
   "source": [
    "plt.savefig(\"/data_CMS/cms/wind/InputConfigurations2.0_leading_jets/combined_99_all_inputs_selected_metfix.pdf\")"
   ]
  },
  {
   "cell_type": "markdown",
   "metadata": {
    "collapsed": true
   },
   "source": [
    "Cumulative selections"
   ]
  },
  {
   "cell_type": "code",
   "execution_count": 10,
   "metadata": {
    "collapsed": false
   },
   "outputs": [
    {
     "name": "stdout",
     "output_type": "stream",
     "text": [
      "attempting to load configuration file from /data_CMS/cms/wind/InputConfigurations2.0_cumulative/cumulative_80_inputs.conf\n"
     ]
    }
   ],
   "source": [
    "fig = make_input_plot(\"/data_CMS/cms/wind/InputConfigurations2.0_cumulative/cumulative_80_inputs.conf\")\n",
    "plt.savefig(\"/data_CMS/cms/wind/InputConfigurations2.0_cumulative/cumulative_80_inputs.pdf\")"
   ]
  },
  {
   "cell_type": "code",
   "execution_count": 11,
   "metadata": {
    "collapsed": false
   },
   "outputs": [
    {
     "name": "stdout",
     "output_type": "stream",
     "text": [
      "attempting to load configuration file from /data_CMS/cms/wind/InputConfigurations2.0_cumulative/cumulative_85_inputs.conf\n"
     ]
    }
   ],
   "source": [
    "fig = make_input_plot(\"/data_CMS/cms/wind/InputConfigurations2.0_cumulative/cumulative_85_inputs.conf\")\n",
    "plt.savefig(\"/data_CMS/cms/wind/InputConfigurations2.0_cumulative/cumulative_85_inputs.pdf\")"
   ]
  },
  {
   "cell_type": "code",
   "execution_count": 10,
   "metadata": {
    "collapsed": false
   },
   "outputs": [
    {
     "name": "stdout",
     "output_type": "stream",
     "text": [
      "attempting to load configuration file from /data_CMS/cms/wind/InputConfigurations2.0_cumulative/cumulative_90_inputs.conf\n"
     ]
    }
   ],
   "source": [
    "fig = make_input_plot(\"/data_CMS/cms/wind/InputConfigurations2.0_cumulative/cumulative_90_inputs.conf\")\n",
    "plt.savefig(\"/data_CMS/cms/wind/InputConfigurations2.0_cumulative/cumulative_90_inputs.pdf\")"
   ]
  },
  {
   "cell_type": "code",
   "execution_count": 11,
   "metadata": {
    "collapsed": false
   },
   "outputs": [
    {
     "name": "stdout",
     "output_type": "stream",
     "text": [
      "attempting to load configuration file from /data_CMS/cms/wind/InputConfigurations2.0_cumulative/cumulative_95_inputs.conf\n"
     ]
    }
   ],
   "source": [
    "fig = make_input_plot(\"/data_CMS/cms/wind/InputConfigurations2.0_cumulative/cumulative_95_inputs.conf\")\n",
    "plt.savefig(\"/data_CMS/cms/wind/InputConfigurations2.0_cumulative/cumulative_95_inputs.pdf\")"
   ]
  },
  {
   "cell_type": "code",
   "execution_count": 12,
   "metadata": {
    "collapsed": false
   },
   "outputs": [
    {
     "name": "stdout",
     "output_type": "stream",
     "text": [
      "attempting to load configuration file from /data_CMS/cms/wind/InputConfigurations2.0_cumulative/cumulative_99_inputs.conf\n"
     ]
    }
   ],
   "source": [
    "fig = make_input_plot(\"/data_CMS/cms/wind/InputConfigurations2.0_cumulative/cumulative_99_inputs.conf\")\n",
    "plt.savefig(\"/data_CMS/cms/wind/InputConfigurations2.0_cumulative/cumulative_99_inputs.pdf\")"
   ]
  },
  {
   "cell_type": "code",
   "execution_count": null,
   "metadata": {
    "collapsed": true
   },
   "outputs": [],
   "source": []
  }
 ],
 "metadata": {
  "kernelspec": {
   "display_name": "Python 2",
   "language": "python",
   "name": "python2"
  },
  "language_info": {
   "codemirror_mode": {
    "name": "ipython",
    "version": 2
   },
   "file_extension": ".py",
   "mimetype": "text/x-python",
   "name": "python",
   "nbconvert_exporter": "python",
   "pygments_lexer": "ipython2",
   "version": "2.7.11"
  }
 },
 "nbformat": 4,
 "nbformat_minor": 2
}
