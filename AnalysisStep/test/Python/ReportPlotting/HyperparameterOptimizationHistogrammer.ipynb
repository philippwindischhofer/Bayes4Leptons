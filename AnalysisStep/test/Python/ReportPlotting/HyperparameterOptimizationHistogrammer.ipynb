{
 "cells": [
  {
   "cell_type": "code",
   "execution_count": 1,
   "metadata": {
    "collapsed": true
   },
   "outputs": [],
   "source": [
    "import sys, os\n",
    "sys.path.insert(0, '/home/llr/cms/wind/cmssw/CMSSW_9_4_2/src/ZZAnalysis/AnalysisStep/test/Python/')"
   ]
  },
  {
   "cell_type": "code",
   "execution_count": 2,
   "metadata": {
    "collapsed": true
   },
   "outputs": [],
   "source": [
    "import pandas as pd\n",
    "import numpy as np\n",
    "import matplotlib.pyplot as plt"
   ]
  },
  {
   "cell_type": "code",
   "execution_count": 3,
   "metadata": {
    "collapsed": false
   },
   "outputs": [
    {
     "name": "stdout",
     "output_type": "stream",
     "text": [
      "Welcome to JupyROOT 6.10/09\n"
     ]
    },
    {
     "name": "stderr",
     "output_type": "stream",
     "text": [
      "Using TensorFlow backend.\n"
     ]
    }
   ],
   "source": [
    "from trainlib.ConfigFileHandler import ConfigFileHandler\n",
    "from trainlib.ModelCollectionConfigFileHandler import ModelCollectionConfigFileHandler"
   ]
  },
  {
   "cell_type": "code",
   "execution_count": 4,
   "metadata": {
    "collapsed": true
   },
   "outputs": [],
   "source": [
    "import ROOT"
   ]
  },
  {
   "cell_type": "code",
   "execution_count": 5,
   "metadata": {
    "collapsed": true
   },
   "outputs": [],
   "source": [
    "campaign_workspace = \"/data_CMS/cms/wind/\""
   ]
  },
  {
   "cell_type": "code",
   "execution_count": 6,
   "metadata": {
    "collapsed": true
   },
   "outputs": [],
   "source": [
    "def get_loss(run, mcoll, model):\n",
    "    confhandler = ConfigFileHandler()\n",
    "    confhandler.load_configuration(os.path.join(campaign_workspace, run, \"training\", mcoll, \"model_benchmark.txt\"))\n",
    "    return float(confhandler.get_field(model, 'val_loss'))"
   ]
  },
  {
   "cell_type": "code",
   "execution_count": 7,
   "metadata": {
    "collapsed": true
   },
   "outputs": [],
   "source": [
    "def index_translation_dict(df, column):\n",
    "    slist = sorted(list(set(df[column])))\n",
    "    print slist\n",
    "    return {val: index for index, val in enumerate(slist)}"
   ]
  },
  {
   "cell_type": "code",
   "execution_count": 8,
   "metadata": {
    "collapsed": true
   },
   "outputs": [],
   "source": [
    "def convert_to_matshow(df, keys, plotcol):\n",
    "    translations = []\n",
    "    for key in keys:\n",
    "        translations.append(index_translation_dict(df, key))\n",
    "                \n",
    "    plot_data = np.zeros((len(translations[0]), len(translations[1]))) \n",
    "        \n",
    "    for index, row in df.iterrows():\n",
    "        i = translations[0][row[keys[0]]]\n",
    "        j = translations[1][row[keys[1]]]\n",
    "\n",
    "        plot_data[i,j] = row[plotcol]\n",
    "       \n",
    "    return plot_data, np.array(sorted(translations[0].keys())), np.array(sorted(translations[1].keys()))"
   ]
  },
  {
   "cell_type": "code",
   "execution_count": 9,
   "metadata": {
    "collapsed": true
   },
   "outputs": [],
   "source": [
    "input_runs = [\"180525_hyperparameter_sweep_selvars_leading_jets_1/number_neurons_16.0number_layers_0.0\",\n",
    "              \"180525_hyperparameter_sweep_selvars_leading_jets_1/number_neurons_16.0number_layers_1.0\",\n",
    "              \"180525_hyperparameter_sweep_selvars_leading_jets_1/number_neurons_16.0number_layers_2.0\",\n",
    "              \"180525_hyperparameter_sweep_selvars_leading_jets_1/number_neurons_16.0number_layers_3.0\",\n",
    "              \"180525_hyperparameter_sweep_selvars_leading_jets_1/number_neurons_32.0number_layers_0.0\",\n",
    "              \"180525_hyperparameter_sweep_selvars_leading_jets_1/number_neurons_32.0number_layers_1.0\",\n",
    "              \"180525_hyperparameter_sweep_selvars_leading_jets_1/number_neurons_32.0number_layers_2.0\",\n",
    "              \"180525_hyperparameter_sweep_selvars_leading_jets_1/number_neurons_32.0number_layers_3.0\",\n",
    "              \"180525_hyperparameter_sweep_selvars_leading_jets_2/number_neurons_48.0number_layers_0.0\",\n",
    "              \"180525_hyperparameter_sweep_selvars_leading_jets_2/number_neurons_48.0number_layers_1.0\",\n",
    "              \"180525_hyperparameter_sweep_selvars_leading_jets_2/number_neurons_48.0number_layers_2.0\",\n",
    "              \"180525_hyperparameter_sweep_selvars_leading_jets_2/number_neurons_48.0number_layers_3.0\",\n",
    "              \"180525_hyperparameter_sweep_selvars_leading_jets_2/number_neurons_64.0number_layers_0.0\",\n",
    "              \"180525_hyperparameter_sweep_selvars_leading_jets_2/number_neurons_64.0number_layers_1.0\",\n",
    "              \"180525_hyperparameter_sweep_selvars_leading_jets_2/number_neurons_64.0number_layers_2.0\",\n",
    "              \"180525_hyperparameter_sweep_selvars_leading_jets_2/number_neurons_64.0number_layers_3.0\"]"
   ]
  },
  {
   "cell_type": "raw",
   "metadata": {
    "collapsed": true
   },
   "source": [
    "input_runs = [\"180515_hyperparameter_sweep/number_neurons_16.0number_layers_0.0\",\n",
    "              \"180515_hyperparameter_sweep/number_neurons_16.0number_layers_1.0\",\n",
    "              \"180515_hyperparameter_sweep/number_neurons_16.0number_layers_2.0\",\n",
    "              \"180515_hyperparameter_sweep/number_neurons_16.0number_layers_3.0\",\n",
    "              \"180515_hyperparameter_sweep/number_neurons_32.0number_layers_0.0\",\n",
    "              \"180515_hyperparameter_sweep/number_neurons_32.0number_layers_1.0\",\n",
    "              \"180515_hyperparameter_sweep/number_neurons_32.0number_layers_2.0\",\n",
    "              \"180515_hyperparameter_sweep/number_neurons_32.0number_layers_3.0\",\n",
    "              \"180516_hyperparameter_sweep/number_neurons_48.0number_layers_0.0\",\n",
    "              \"180516_hyperparameter_sweep/number_neurons_48.0number_layers_1.0\",\n",
    "              \"180516_hyperparameter_sweep/number_neurons_48.0number_layers_2.0\",\n",
    "              \"180516_hyperparameter_sweep/number_neurons_48.0number_layers_3.0\",\n",
    "              \"180516_hyperparameter_sweep/number_neurons_64.0number_layers_0.0\",\n",
    "              \"180516_hyperparameter_sweep/number_neurons_64.0number_layers_1.0\",\n",
    "              \"180516_hyperparameter_sweep/number_neurons_64.0number_layers_2.0\",\n",
    "              \"180516_hyperparameter_sweep/number_neurons_64.0number_layers_3.0\"]"
   ]
  },
  {
   "cell_type": "raw",
   "metadata": {
    "collapsed": true
   },
   "source": [
    "mcoll_name = \"D_ZHl_ggH_ML\"\n",
    "model_name = \"D_ZHl_ggH_ML\"\n",
    "pretty_name = r'$s_{\\mathrm{ZH-lept, ggH}}$'"
   ]
  },
  {
   "cell_type": "code",
   "execution_count": 10,
   "metadata": {
    "collapsed": true
   },
   "outputs": [],
   "source": [
    "mcoll_name = \"D_ggH_qq_ML\"\n",
    "model_name = \"D_ggH_qq_ML\"\n",
    "pretty_name = r'$s_{\\mathrm{ggH, qq}}$'"
   ]
  },
  {
   "cell_type": "code",
   "execution_count": 11,
   "metadata": {
    "collapsed": false
   },
   "outputs": [
    {
     "name": "stdout",
     "output_type": "stream",
     "text": [
      "attempting to load configuration file from /data_CMS/cms/wind/180525_hyperparameter_sweep_selvars_leading_jets_1/number_neurons_16.0number_layers_0.0/settings_training/D_ggH_qq_ML/settings.conf\n",
      "got the following list of hyperparams: {u'number_layers': 0.0, u'number_neurons': 16.0}\n",
      "building network with 26 inputs\n",
      "FlexiblePCAPreprocessor set up for 26 inputs\n",
      "attempting to load configuration file from /data_CMS/cms/wind/180525_hyperparameter_sweep_selvars_leading_jets_1/number_neurons_16.0number_layers_0.0/training/D_ggH_qq_ML/model_benchmark.txt\n",
      "attempting to load configuration file from /data_CMS/cms/wind/180525_hyperparameter_sweep_selvars_leading_jets_1/number_neurons_16.0number_layers_1.0/settings_training/D_ggH_qq_ML/settings.conf\n",
      "got the following list of hyperparams: {u'number_layers': 1.0, u'number_neurons': 16.0}\n",
      "building network with 26 inputs\n",
      "FlexiblePCAPreprocessor set up for 26 inputs\n",
      "attempting to load configuration file from /data_CMS/cms/wind/180525_hyperparameter_sweep_selvars_leading_jets_1/number_neurons_16.0number_layers_1.0/training/D_ggH_qq_ML/model_benchmark.txt\n",
      "attempting to load configuration file from /data_CMS/cms/wind/180525_hyperparameter_sweep_selvars_leading_jets_1/number_neurons_16.0number_layers_2.0/settings_training/D_ggH_qq_ML/settings.conf\n",
      "got the following list of hyperparams: {u'number_layers': 2.0, u'number_neurons': 16.0}\n",
      "building network with 26 inputs\n",
      "FlexiblePCAPreprocessor set up for 26 inputs\n",
      "attempting to load configuration file from /data_CMS/cms/wind/180525_hyperparameter_sweep_selvars_leading_jets_1/number_neurons_16.0number_layers_2.0/training/D_ggH_qq_ML/model_benchmark.txt\n",
      "attempting to load configuration file from /data_CMS/cms/wind/180525_hyperparameter_sweep_selvars_leading_jets_1/number_neurons_16.0number_layers_3.0/settings_training/D_ggH_qq_ML/settings.conf\n",
      "got the following list of hyperparams: {u'number_layers': 3.0, u'number_neurons': 16.0}\n",
      "building network with 26 inputs\n",
      "FlexiblePCAPreprocessor set up for 26 inputs\n",
      "attempting to load configuration file from /data_CMS/cms/wind/180525_hyperparameter_sweep_selvars_leading_jets_1/number_neurons_16.0number_layers_3.0/training/D_ggH_qq_ML/model_benchmark.txt\n",
      "attempting to load configuration file from /data_CMS/cms/wind/180525_hyperparameter_sweep_selvars_leading_jets_1/number_neurons_32.0number_layers_0.0/settings_training/D_ggH_qq_ML/settings.conf\n",
      "got the following list of hyperparams: {u'number_layers': 0.0, u'number_neurons': 32.0}\n",
      "building network with 26 inputs\n",
      "FlexiblePCAPreprocessor set up for 26 inputs\n",
      "attempting to load configuration file from /data_CMS/cms/wind/180525_hyperparameter_sweep_selvars_leading_jets_1/number_neurons_32.0number_layers_0.0/training/D_ggH_qq_ML/model_benchmark.txt\n",
      "attempting to load configuration file from /data_CMS/cms/wind/180525_hyperparameter_sweep_selvars_leading_jets_1/number_neurons_32.0number_layers_1.0/settings_training/D_ggH_qq_ML/settings.conf\n",
      "got the following list of hyperparams: {u'number_layers': 1.0, u'number_neurons': 32.0}\n",
      "building network with 26 inputs\n",
      "FlexiblePCAPreprocessor set up for 26 inputs\n",
      "attempting to load configuration file from /data_CMS/cms/wind/180525_hyperparameter_sweep_selvars_leading_jets_1/number_neurons_32.0number_layers_1.0/training/D_ggH_qq_ML/model_benchmark.txt\n",
      "attempting to load configuration file from /data_CMS/cms/wind/180525_hyperparameter_sweep_selvars_leading_jets_1/number_neurons_32.0number_layers_2.0/settings_training/D_ggH_qq_ML/settings.conf\n",
      "got the following list of hyperparams: {u'number_layers': 2.0, u'number_neurons': 32.0}\n",
      "building network with 26 inputs\n",
      "FlexiblePCAPreprocessor set up for 26 inputs\n",
      "attempting to load configuration file from /data_CMS/cms/wind/180525_hyperparameter_sweep_selvars_leading_jets_1/number_neurons_32.0number_layers_2.0/training/D_ggH_qq_ML/model_benchmark.txt\n",
      "attempting to load configuration file from /data_CMS/cms/wind/180525_hyperparameter_sweep_selvars_leading_jets_1/number_neurons_32.0number_layers_3.0/settings_training/D_ggH_qq_ML/settings.conf\n",
      "got the following list of hyperparams: {u'number_layers': 3.0, u'number_neurons': 32.0}\n",
      "building network with 26 inputs\n",
      "FlexiblePCAPreprocessor set up for 26 inputs\n",
      "attempting to load configuration file from /data_CMS/cms/wind/180525_hyperparameter_sweep_selvars_leading_jets_1/number_neurons_32.0number_layers_3.0/training/D_ggH_qq_ML/model_benchmark.txt\n",
      "attempting to load configuration file from /data_CMS/cms/wind/180525_hyperparameter_sweep_selvars_leading_jets_2/number_neurons_48.0number_layers_0.0/settings_training/D_ggH_qq_ML/settings.conf\n",
      "got the following list of hyperparams: {u'number_layers': 0.0, u'number_neurons': 48.0}\n",
      "building network with 26 inputs\n",
      "FlexiblePCAPreprocessor set up for 26 inputs\n",
      "attempting to load configuration file from /data_CMS/cms/wind/180525_hyperparameter_sweep_selvars_leading_jets_2/number_neurons_48.0number_layers_0.0/training/D_ggH_qq_ML/model_benchmark.txt\n",
      "attempting to load configuration file from /data_CMS/cms/wind/180525_hyperparameter_sweep_selvars_leading_jets_2/number_neurons_48.0number_layers_1.0/settings_training/D_ggH_qq_ML/settings.conf\n",
      "got the following list of hyperparams: {u'number_layers': 1.0, u'number_neurons': 48.0}\n",
      "building network with 26 inputs\n",
      "FlexiblePCAPreprocessor set up for 26 inputs\n",
      "attempting to load configuration file from /data_CMS/cms/wind/180525_hyperparameter_sweep_selvars_leading_jets_2/number_neurons_48.0number_layers_1.0/training/D_ggH_qq_ML/model_benchmark.txt\n",
      "attempting to load configuration file from /data_CMS/cms/wind/180525_hyperparameter_sweep_selvars_leading_jets_2/number_neurons_48.0number_layers_2.0/settings_training/D_ggH_qq_ML/settings.conf\n",
      "got the following list of hyperparams: {u'number_layers': 2.0, u'number_neurons': 48.0}\n",
      "building network with 26 inputs\n",
      "FlexiblePCAPreprocessor set up for 26 inputs\n",
      "attempting to load configuration file from /data_CMS/cms/wind/180525_hyperparameter_sweep_selvars_leading_jets_2/number_neurons_48.0number_layers_2.0/training/D_ggH_qq_ML/model_benchmark.txt\n",
      "attempting to load configuration file from /data_CMS/cms/wind/180525_hyperparameter_sweep_selvars_leading_jets_2/number_neurons_48.0number_layers_3.0/settings_training/D_ggH_qq_ML/settings.conf\n",
      "got the following list of hyperparams: {u'number_layers': 3.0, u'number_neurons': 48.0}\n",
      "building network with 26 inputs\n",
      "FlexiblePCAPreprocessor set up for 26 inputs\n",
      "attempting to load configuration file from /data_CMS/cms/wind/180525_hyperparameter_sweep_selvars_leading_jets_2/number_neurons_48.0number_layers_3.0/training/D_ggH_qq_ML/model_benchmark.txt\n",
      "attempting to load configuration file from /data_CMS/cms/wind/180525_hyperparameter_sweep_selvars_leading_jets_2/number_neurons_64.0number_layers_0.0/settings_training/D_ggH_qq_ML/settings.conf\n",
      "got the following list of hyperparams: {u'number_layers': 0.0, u'number_neurons': 64.0}\n",
      "building network with 26 inputs\n",
      "FlexiblePCAPreprocessor set up for 26 inputs\n",
      "attempting to load configuration file from /data_CMS/cms/wind/180525_hyperparameter_sweep_selvars_leading_jets_2/number_neurons_64.0number_layers_0.0/training/D_ggH_qq_ML/model_benchmark.txt\n",
      "attempting to load configuration file from /data_CMS/cms/wind/180525_hyperparameter_sweep_selvars_leading_jets_2/number_neurons_64.0number_layers_1.0/settings_training/D_ggH_qq_ML/settings.conf\n",
      "got the following list of hyperparams: {u'number_layers': 1.0, u'number_neurons': 64.0}\n",
      "building network with 26 inputs\n",
      "FlexiblePCAPreprocessor set up for 26 inputs\n",
      "attempting to load configuration file from /data_CMS/cms/wind/180525_hyperparameter_sweep_selvars_leading_jets_2/number_neurons_64.0number_layers_1.0/training/D_ggH_qq_ML/model_benchmark.txt\n",
      "attempting to load configuration file from /data_CMS/cms/wind/180525_hyperparameter_sweep_selvars_leading_jets_2/number_neurons_64.0number_layers_2.0/settings_training/D_ggH_qq_ML/settings.conf\n",
      "got the following list of hyperparams: {u'number_layers': 2.0, u'number_neurons': 64.0}\n",
      "building network with 26 inputs\n",
      "FlexiblePCAPreprocessor set up for 26 inputs\n",
      "attempting to load configuration file from /data_CMS/cms/wind/180525_hyperparameter_sweep_selvars_leading_jets_2/number_neurons_64.0number_layers_2.0/training/D_ggH_qq_ML/model_benchmark.txt\n",
      "attempting to load configuration file from /data_CMS/cms/wind/180525_hyperparameter_sweep_selvars_leading_jets_2/number_neurons_64.0number_layers_3.0/settings_training/D_ggH_qq_ML/settings.conf\n",
      "got the following list of hyperparams: {u'number_layers': 3.0, u'number_neurons': 64.0}\n",
      "building network with 26 inputs\n",
      "FlexiblePCAPreprocessor set up for 26 inputs\n",
      "attempting to load configuration file from /data_CMS/cms/wind/180525_hyperparameter_sweep_selvars_leading_jets_2/number_neurons_64.0number_layers_3.0/training/D_ggH_qq_ML/model_benchmark.txt\n"
     ]
    }
   ],
   "source": [
    "df = pd.DataFrame()\n",
    "\n",
    "for run in input_runs:\n",
    "    mconfhandler = ModelCollectionConfigFileHandler()\n",
    "    mconfhandler.load_configuration(os.path.join(campaign_workspace, run, \"settings_training\", mcoll_name, \"settings.conf\"))\n",
    "    mcolls = mconfhandler.GetModelCollection()\n",
    "    \n",
    "    row_dict = {}\n",
    "    for mcoll in mcolls:\n",
    "        if mcoll.name == mcoll_name:\n",
    "            row_dict = dict(mcoll.model_dict[model_name].hyperparameters)\n",
    "            break\n",
    "    \n",
    "    loss = get_loss(run, mcoll_name, model_name)\n",
    "    row_dict[\"loss\"] = loss\n",
    "    \n",
    "    df = df.append(row_dict, ignore_index = True)"
   ]
  },
  {
   "cell_type": "code",
   "execution_count": 12,
   "metadata": {
    "collapsed": false
   },
   "outputs": [
    {
     "name": "stdout",
     "output_type": "stream",
     "text": [
      "[0.0, 1.0, 2.0, 3.0]\n",
      "[16.0, 32.0, 48.0, 64.0]\n"
     ]
    }
   ],
   "source": [
    "data, x_label, y_label = convert_to_matshow(df, [\"number_layers\", \"number_neurons\"], \"loss\")"
   ]
  },
  {
   "cell_type": "code",
   "execution_count": 13,
   "metadata": {
    "collapsed": false
   },
   "outputs": [],
   "source": [
    "fig = plt.figure(figsize=(5,5))\n",
    "ax = fig.add_subplot(111)\n",
    "cax = ax.matshow(data.transpose(), interpolation = 'nearest', cmap = 'RdYlGn_r', vmin = np.min(data), vmax = np.max(data))\n",
    "ax.set_xticklabels(np.concatenate([[''], x_label.astype(int) + 1]))\n",
    "ax.set_yticklabels(np.concatenate([[''], y_label.astype(int)]))\n",
    "ax.xaxis.set_label_position(\"bottom\")\n",
    "ax.xaxis.tick_bottom()\n",
    "ax.set_xlabel(\"hidden layers\")\n",
    "ax.set_ylabel(\"neurons / hidden layer\")\n",
    "ax.set_title(pretty_name, fontsize = 15)\n",
    "\n",
    "for cur in np.ndenumerate(data):\n",
    "    coords = cur[0]\n",
    "    val = cur[1]\n",
    "    \n",
    "    if val > 0.053:\n",
    "        color = 'black'\n",
    "    else:\n",
    "        color = 'white'\n",
    "    \n",
    "    ax.text(coords[0], coords[1], \"{:4.4f}\".format(val), va = 'center', ha = 'center', color = color, weight = 'bold')\n",
    "    \n",
    "plt.tight_layout()"
   ]
  },
  {
   "cell_type": "code",
   "execution_count": 18,
   "metadata": {
    "collapsed": true
   },
   "outputs": [],
   "source": [
    "def root_matshow(data, x_ticklabels, y_ticklabels, x_axislabel, y_axislabel, show_values, outfile):\n",
    "    c = ROOT.TCanvas(\"canv\", \"canv\", 800, 800)\n",
    "    \n",
    "    rows = np.shape(data)[0]\n",
    "    cols = np.shape(data)[1]\n",
    "    \n",
    "    num_colors = 3;\n",
    "                            \n",
    "    reds = np.array([0.0, 0.99992310650208416, 0.64705884456634521])\n",
    "    greens = np.array([0.40784314274787903, 0.99761630156460934, 0.0])\n",
    "    blues = np.array([0.21568627655506134, 0.74502116091111126, 0.14901961386203766])\n",
    "    stops = np.array([0.0, 0.5, 1.0])\n",
    "    \n",
    "    num_internal_colors = 150;\n",
    "    ROOT.TColor.CreateGradientColorTable(num_colors, stops, reds, greens, blues, num_internal_colors);\n",
    "    \n",
    "    hist = ROOT.TH2F(\"matshow\", \"s_{ggH, q#bar{q}#rightarrow ZZ}\", rows, -0.5, rows - 0.5, cols, -0.5, cols - 0.5)\n",
    "    ROOT.gStyle.SetOptStat(0)\n",
    "\n",
    "    for row in range(rows):\n",
    "        for col in range(cols):\n",
    "            hist.Fill(row, col, data[row, col])\n",
    "            \n",
    "    # do the axis tick labels and axis labels\n",
    "    hist.GetXaxis().SetLabelOffset(100)\n",
    "    hist.GetYaxis().SetLabelOffset(100)\n",
    "    \n",
    "    c.cd()\n",
    "    c.SetLeftMargin(0.15)\n",
    "    c.SetBottomMargin(0.15)\n",
    "    hist.Draw(\"col\")\n",
    "    \n",
    "    t = ROOT.TLatex()\n",
    "    t.SetTextAlign(22)\n",
    "    t.SetTextSize(0.035)\n",
    "        \n",
    "    y = ROOT.gPad.GetUymin() - 0.7 * hist.GetYaxis().GetBinWidth(1)\n",
    "    for i, label in enumerate(x_ticklabels):\n",
    "        x = hist.GetXaxis().GetBinCenter(i + 1)\n",
    "        t.DrawLatex(x, y, label)\n",
    "        \n",
    "    t.SetTextSize(0.035)\n",
    "    t.DrawLatex(0.5 * hist.GetXaxis().GetBinCenter(rows), y - 0.3 * hist.GetYaxis().GetBinWidth(1), x_axislabel)\n",
    "    t.SetTextSize(0.035)\n",
    "\n",
    "    x = ROOT.gPad.GetUxmin() - 0.7 * hist.GetXaxis().GetBinWidth(1)\n",
    "    for i, label in enumerate(y_ticklabels):\n",
    "        y = hist.GetYaxis().GetBinCenter(i + 1)\n",
    "        t.DrawLatex(x, y, label)\n",
    "        \n",
    "    t.SetTextSize(0.035)\n",
    "    t.SetTextAngle(90)\n",
    "    t.SetTextAlign(22)\n",
    "    t.DrawLatex(x - 0.3 * hist.GetXaxis().GetBinWidth(1), 0.5 * hist.GetYaxis().GetBinCenter(rows), y_axislabel)\n",
    "    t.SetTextSize(0.035)\n",
    "    \n",
    "    t.SetTextAngle(0)\n",
    "    if show_values:\n",
    "        for row in range(rows):\n",
    "            for col in range(cols):\n",
    "                x = hist.GetXaxis().GetBinCenter(col + 1)\n",
    "                y = hist.GetYaxis().GetBinCenter(row + 1)\n",
    "                if hist.GetBinContent(col + 1, row + 1) < 0.048 or hist.GetBinContent(col + 1, row + 1) > 0.05:\n",
    "                    t.SetTextColor(ROOT.kWhite)\n",
    "                else:\n",
    "                    t.SetTextColor(ROOT.kBlack)\n",
    "                t.DrawLatex(x, y, str(\"{0:.4f}\".format(hist.GetBinContent(col + 1, row + 1))))\n",
    "                \n",
    "    ROOT.gPad.RedrawAxis()\n",
    "    c.SetTicks(1,1)\n",
    "    c.Update()\n",
    "        \n",
    "    c.SaveAs(outfile)"
   ]
  },
  {
   "cell_type": "code",
   "execution_count": 19,
   "metadata": {
    "collapsed": false
   },
   "outputs": [],
   "source": [
    "plt.savefig(\"/data_CMS/cms/wind/HyperparameterPlots/ggH_qq.pdf\")\n",
    "#plt.show()"
   ]
  },
  {
   "cell_type": "code",
   "execution_count": 20,
   "metadata": {
    "collapsed": true
   },
   "outputs": [],
   "source": [
    "x_ticklabels = (x_label + 1).astype(int).astype(str)\n",
    "y_ticklabels = y_label.astype(int).astype(str)"
   ]
  },
  {
   "cell_type": "code",
   "execution_count": 21,
   "metadata": {
    "collapsed": false
   },
   "outputs": [
    {
     "name": "stderr",
     "output_type": "stream",
     "text": [
      "Warning in <TCanvas::Constructor>: Deleting canvas with same name: canv\n",
      "Info in <TCanvas::Print>: pdf file /data_CMS/cms/wind/HyperparameterPlots/ggH_qq_rootstyle.pdf has been created\n"
     ]
    }
   ],
   "source": [
    "root_matshow(np.fliplr(data), x_ticklabels, np.flipud(y_ticklabels), \"hidden layers\", \"hidden neurons / layer\", True, \"/data_CMS/cms/wind/HyperparameterPlots/ggH_qq_rootstyle.pdf\")"
   ]
  },
  {
   "cell_type": "code",
   "execution_count": null,
   "metadata": {
    "collapsed": true
   },
   "outputs": [],
   "source": []
  }
 ],
 "metadata": {
  "kernelspec": {
   "display_name": "Python 2",
   "language": "python",
   "name": "python2"
  },
  "language_info": {
   "codemirror_mode": {
    "name": "ipython",
    "version": 2
   },
   "file_extension": ".py",
   "mimetype": "text/x-python",
   "name": "python",
   "nbconvert_exporter": "python",
   "pygments_lexer": "ipython2",
   "version": "2.7.11"
  }
 },
 "nbformat": 4,
 "nbformat_minor": 2
}
