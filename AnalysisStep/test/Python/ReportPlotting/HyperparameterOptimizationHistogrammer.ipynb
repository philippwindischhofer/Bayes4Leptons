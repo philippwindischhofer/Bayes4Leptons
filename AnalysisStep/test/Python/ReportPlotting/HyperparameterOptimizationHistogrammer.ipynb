{
 "cells": [
  {
   "cell_type": "code",
   "execution_count": 1,
   "metadata": {
    "collapsed": true
   },
   "outputs": [],
   "source": [
    "import sys, os\n",
    "sys.path.insert(0, '/home/llr/cms/wind/cmssw/CMSSW_9_4_2/src/ZZAnalysis/AnalysisStep/test/Python/')"
   ]
  },
  {
   "cell_type": "code",
   "execution_count": 2,
   "metadata": {
    "collapsed": true
   },
   "outputs": [],
   "source": [
    "import pandas as pd\n",
    "import numpy as np\n",
    "import matplotlib.pyplot as plt"
   ]
  },
  {
   "cell_type": "code",
   "execution_count": 3,
   "metadata": {
    "collapsed": false
   },
   "outputs": [
    {
     "name": "stdout",
     "output_type": "stream",
     "text": [
      "Welcome to JupyROOT 6.10/09\n"
     ]
    },
    {
     "name": "stderr",
     "output_type": "stream",
     "text": [
      "Using TensorFlow backend.\n"
     ]
    }
   ],
   "source": [
    "from trainlib.ConfigFileHandler import ConfigFileHandler\n",
    "from trainlib.ModelCollectionConfigFileHandler import ModelCollectionConfigFileHandler"
   ]
  },
  {
   "cell_type": "code",
   "execution_count": 8,
   "metadata": {
    "collapsed": true
   },
   "outputs": [],
   "source": [
    "campaign_workspace = \"/data_CMS/cms/wind/\""
   ]
  },
  {
   "cell_type": "code",
   "execution_count": 9,
   "metadata": {
    "collapsed": true
   },
   "outputs": [],
   "source": [
    "def get_loss(run, mcoll, model):\n",
    "    confhandler = ConfigFileHandler()\n",
    "    confhandler.load_configuration(os.path.join(campaign_workspace, run, \"training\", mcoll, \"model_benchmark.txt\"))\n",
    "    return float(confhandler.get_field(model, 'val_loss'))"
   ]
  },
  {
   "cell_type": "code",
   "execution_count": 51,
   "metadata": {
    "collapsed": true
   },
   "outputs": [],
   "source": [
    "def index_translation_dict(df, column):\n",
    "    slist = sorted(list(set(df[column])))\n",
    "    print slist\n",
    "    return {val: index for index, val in enumerate(slist)}"
   ]
  },
  {
   "cell_type": "code",
   "execution_count": 52,
   "metadata": {
    "collapsed": true
   },
   "outputs": [],
   "source": [
    "def convert_to_matshow(df, keys, plotcol):\n",
    "    translations = []\n",
    "    for key in keys:\n",
    "        translations.append(index_translation_dict(df, key))\n",
    "                \n",
    "    plot_data = np.zeros((len(translations[0]), len(translations[1]))) \n",
    "        \n",
    "    for index, row in df.iterrows():\n",
    "        i = translations[0][row[keys[0]]]\n",
    "        j = translations[1][row[keys[1]]]\n",
    "\n",
    "        plot_data[i,j] = row[plotcol]\n",
    "       \n",
    "    return plot_data, np.array(sorted(translations[0].keys())), np.array(sorted(translations[1].keys()))"
   ]
  },
  {
   "cell_type": "code",
   "execution_count": 10,
   "metadata": {
    "collapsed": true
   },
   "outputs": [],
   "source": [
    "input_runs = [\"180515_hyperparameter_sweep/number_neurons_16.0number_layers_0.0\",\n",
    "              \"180515_hyperparameter_sweep/number_neurons_16.0number_layers_1.0\",\n",
    "              \"180515_hyperparameter_sweep/number_neurons_16.0number_layers_2.0\",\n",
    "              \"180515_hyperparameter_sweep/number_neurons_16.0number_layers_3.0\",\n",
    "              \"180515_hyperparameter_sweep/number_neurons_32.0number_layers_0.0\",\n",
    "              \"180515_hyperparameter_sweep/number_neurons_32.0number_layers_1.0\",\n",
    "              \"180515_hyperparameter_sweep/number_neurons_32.0number_layers_2.0\",\n",
    "              \"180515_hyperparameter_sweep/number_neurons_32.0number_layers_3.0\",\n",
    "              \"180516_hyperparameter_sweep/number_neurons_48.0number_layers_0.0\",\n",
    "              \"180516_hyperparameter_sweep/number_neurons_48.0number_layers_1.0\",\n",
    "              \"180516_hyperparameter_sweep/number_neurons_48.0number_layers_2.0\",\n",
    "              \"180516_hyperparameter_sweep/number_neurons_48.0number_layers_3.0\",\n",
    "              \"180516_hyperparameter_sweep/number_neurons_64.0number_layers_0.0\",\n",
    "              \"180516_hyperparameter_sweep/number_neurons_64.0number_layers_1.0\",\n",
    "              \"180516_hyperparameter_sweep/number_neurons_64.0number_layers_2.0\",\n",
    "              \"180516_hyperparameter_sweep/number_neurons_64.0number_layers_3.0\"]"
   ]
  },
  {
   "cell_type": "code",
   "execution_count": 97,
   "metadata": {
    "collapsed": true
   },
   "outputs": [],
   "source": [
    "mcoll_name = \"D_ZHl_ggH_ML\"\n",
    "model_name = \"D_ZHl_ggH_ML\"\n",
    "pretty_name = r'$s_{\\mathrm{ZH-lept, ggH}}$'"
   ]
  },
  {
   "cell_type": "code",
   "execution_count": 98,
   "metadata": {
    "collapsed": false
   },
   "outputs": [
    {
     "name": "stdout",
     "output_type": "stream",
     "text": [
      "attempting to load configuration file from /data_CMS/cms/wind/180515_hyperparameter_sweep/number_neurons_16.0number_layers_0.0/settings_training/D_ZHl_ggH_ML/settings.conf\n",
      "got the following list of hyperparams: {u'number_layers': 0.0, u'number_neurons': 16.0}\n",
      "building network with 24 inputs\n",
      "FlexiblePCAPreprocessor set up for 24 inputs\n",
      "attempting to load configuration file from /data_CMS/cms/wind/180515_hyperparameter_sweep/number_neurons_16.0number_layers_0.0/training/D_ZHl_ggH_ML/model_benchmark.txt\n",
      "attempting to load configuration file from /data_CMS/cms/wind/180515_hyperparameter_sweep/number_neurons_16.0number_layers_1.0/settings_training/D_ZHl_ggH_ML/settings.conf\n",
      "got the following list of hyperparams: {u'number_layers': 1.0, u'number_neurons': 16.0}\n",
      "building network with 24 inputs\n",
      "FlexiblePCAPreprocessor set up for 24 inputs\n",
      "attempting to load configuration file from /data_CMS/cms/wind/180515_hyperparameter_sweep/number_neurons_16.0number_layers_1.0/training/D_ZHl_ggH_ML/model_benchmark.txt\n",
      "attempting to load configuration file from /data_CMS/cms/wind/180515_hyperparameter_sweep/number_neurons_16.0number_layers_2.0/settings_training/D_ZHl_ggH_ML/settings.conf\n",
      "got the following list of hyperparams: {u'number_layers': 2.0, u'number_neurons': 16.0}\n",
      "building network with 24 inputs\n",
      "FlexiblePCAPreprocessor set up for 24 inputs\n",
      "attempting to load configuration file from /data_CMS/cms/wind/180515_hyperparameter_sweep/number_neurons_16.0number_layers_2.0/training/D_ZHl_ggH_ML/model_benchmark.txt\n",
      "attempting to load configuration file from /data_CMS/cms/wind/180515_hyperparameter_sweep/number_neurons_16.0number_layers_3.0/settings_training/D_ZHl_ggH_ML/settings.conf\n",
      "got the following list of hyperparams: {u'number_layers': 3.0, u'number_neurons': 16.0}\n",
      "building network with 24 inputs\n",
      "FlexiblePCAPreprocessor set up for 24 inputs\n",
      "attempting to load configuration file from /data_CMS/cms/wind/180515_hyperparameter_sweep/number_neurons_16.0number_layers_3.0/training/D_ZHl_ggH_ML/model_benchmark.txt\n",
      "attempting to load configuration file from /data_CMS/cms/wind/180515_hyperparameter_sweep/number_neurons_32.0number_layers_0.0/settings_training/D_ZHl_ggH_ML/settings.conf\n",
      "got the following list of hyperparams: {u'number_layers': 0.0, u'number_neurons': 32.0}\n",
      "building network with 24 inputs\n",
      "FlexiblePCAPreprocessor set up for 24 inputs\n",
      "attempting to load configuration file from /data_CMS/cms/wind/180515_hyperparameter_sweep/number_neurons_32.0number_layers_0.0/training/D_ZHl_ggH_ML/model_benchmark.txt\n",
      "attempting to load configuration file from /data_CMS/cms/wind/180515_hyperparameter_sweep/number_neurons_32.0number_layers_1.0/settings_training/D_ZHl_ggH_ML/settings.conf\n",
      "got the following list of hyperparams: {u'number_layers': 1.0, u'number_neurons': 32.0}\n",
      "building network with 24 inputs\n",
      "FlexiblePCAPreprocessor set up for 24 inputs\n",
      "attempting to load configuration file from /data_CMS/cms/wind/180515_hyperparameter_sweep/number_neurons_32.0number_layers_1.0/training/D_ZHl_ggH_ML/model_benchmark.txt\n",
      "attempting to load configuration file from /data_CMS/cms/wind/180515_hyperparameter_sweep/number_neurons_32.0number_layers_2.0/settings_training/D_ZHl_ggH_ML/settings.conf\n",
      "got the following list of hyperparams: {u'number_layers': 2.0, u'number_neurons': 32.0}\n",
      "building network with 24 inputs\n",
      "FlexiblePCAPreprocessor set up for 24 inputs\n",
      "attempting to load configuration file from /data_CMS/cms/wind/180515_hyperparameter_sweep/number_neurons_32.0number_layers_2.0/training/D_ZHl_ggH_ML/model_benchmark.txt\n",
      "attempting to load configuration file from /data_CMS/cms/wind/180515_hyperparameter_sweep/number_neurons_32.0number_layers_3.0/settings_training/D_ZHl_ggH_ML/settings.conf\n",
      "got the following list of hyperparams: {u'number_layers': 3.0, u'number_neurons': 32.0}\n",
      "building network with 24 inputs\n",
      "FlexiblePCAPreprocessor set up for 24 inputs\n",
      "attempting to load configuration file from /data_CMS/cms/wind/180515_hyperparameter_sweep/number_neurons_32.0number_layers_3.0/training/D_ZHl_ggH_ML/model_benchmark.txt\n",
      "attempting to load configuration file from /data_CMS/cms/wind/180516_hyperparameter_sweep/number_neurons_48.0number_layers_0.0/settings_training/D_ZHl_ggH_ML/settings.conf\n",
      "got the following list of hyperparams: {u'number_layers': 0.0, u'number_neurons': 48.0}\n",
      "building network with 24 inputs\n",
      "FlexiblePCAPreprocessor set up for 24 inputs\n",
      "attempting to load configuration file from /data_CMS/cms/wind/180516_hyperparameter_sweep/number_neurons_48.0number_layers_0.0/training/D_ZHl_ggH_ML/model_benchmark.txt\n",
      "attempting to load configuration file from /data_CMS/cms/wind/180516_hyperparameter_sweep/number_neurons_48.0number_layers_1.0/settings_training/D_ZHl_ggH_ML/settings.conf\n",
      "got the following list of hyperparams: {u'number_layers': 1.0, u'number_neurons': 48.0}\n",
      "building network with 24 inputs\n",
      "FlexiblePCAPreprocessor set up for 24 inputs\n",
      "attempting to load configuration file from /data_CMS/cms/wind/180516_hyperparameter_sweep/number_neurons_48.0number_layers_1.0/training/D_ZHl_ggH_ML/model_benchmark.txt\n",
      "attempting to load configuration file from /data_CMS/cms/wind/180516_hyperparameter_sweep/number_neurons_48.0number_layers_2.0/settings_training/D_ZHl_ggH_ML/settings.conf\n",
      "got the following list of hyperparams: {u'number_layers': 2.0, u'number_neurons': 48.0}\n",
      "building network with 24 inputs\n",
      "FlexiblePCAPreprocessor set up for 24 inputs\n",
      "attempting to load configuration file from /data_CMS/cms/wind/180516_hyperparameter_sweep/number_neurons_48.0number_layers_2.0/training/D_ZHl_ggH_ML/model_benchmark.txt\n",
      "attempting to load configuration file from /data_CMS/cms/wind/180516_hyperparameter_sweep/number_neurons_48.0number_layers_3.0/settings_training/D_ZHl_ggH_ML/settings.conf\n",
      "got the following list of hyperparams: {u'number_layers': 3.0, u'number_neurons': 48.0}\n",
      "building network with 24 inputs\n",
      "FlexiblePCAPreprocessor set up for 24 inputs\n",
      "attempting to load configuration file from /data_CMS/cms/wind/180516_hyperparameter_sweep/number_neurons_48.0number_layers_3.0/training/D_ZHl_ggH_ML/model_benchmark.txt\n",
      "attempting to load configuration file from /data_CMS/cms/wind/180516_hyperparameter_sweep/number_neurons_64.0number_layers_0.0/settings_training/D_ZHl_ggH_ML/settings.conf\n",
      "got the following list of hyperparams: {u'number_layers': 0.0, u'number_neurons': 64.0}\n",
      "building network with 24 inputs\n",
      "FlexiblePCAPreprocessor set up for 24 inputs\n",
      "attempting to load configuration file from /data_CMS/cms/wind/180516_hyperparameter_sweep/number_neurons_64.0number_layers_0.0/training/D_ZHl_ggH_ML/model_benchmark.txt\n",
      "attempting to load configuration file from /data_CMS/cms/wind/180516_hyperparameter_sweep/number_neurons_64.0number_layers_1.0/settings_training/D_ZHl_ggH_ML/settings.conf\n",
      "got the following list of hyperparams: {u'number_layers': 1.0, u'number_neurons': 64.0}\n",
      "building network with 24 inputs\n",
      "FlexiblePCAPreprocessor set up for 24 inputs\n",
      "attempting to load configuration file from /data_CMS/cms/wind/180516_hyperparameter_sweep/number_neurons_64.0number_layers_1.0/training/D_ZHl_ggH_ML/model_benchmark.txt\n",
      "attempting to load configuration file from /data_CMS/cms/wind/180516_hyperparameter_sweep/number_neurons_64.0number_layers_2.0/settings_training/D_ZHl_ggH_ML/settings.conf\n",
      "got the following list of hyperparams: {u'number_layers': 2.0, u'number_neurons': 64.0}\n",
      "building network with 24 inputs\n",
      "FlexiblePCAPreprocessor set up for 24 inputs\n",
      "attempting to load configuration file from /data_CMS/cms/wind/180516_hyperparameter_sweep/number_neurons_64.0number_layers_2.0/training/D_ZHl_ggH_ML/model_benchmark.txt\n",
      "attempting to load configuration file from /data_CMS/cms/wind/180516_hyperparameter_sweep/number_neurons_64.0number_layers_3.0/settings_training/D_ZHl_ggH_ML/settings.conf\n",
      "got the following list of hyperparams: {u'number_layers': 3.0, u'number_neurons': 64.0}\n",
      "building network with 24 inputs\n",
      "FlexiblePCAPreprocessor set up for 24 inputs\n",
      "attempting to load configuration file from /data_CMS/cms/wind/180516_hyperparameter_sweep/number_neurons_64.0number_layers_3.0/training/D_ZHl_ggH_ML/model_benchmark.txt\n"
     ]
    }
   ],
   "source": [
    "df = pd.DataFrame()\n",
    "\n",
    "for run in input_runs:\n",
    "    mconfhandler = ModelCollectionConfigFileHandler()\n",
    "    mconfhandler.load_configuration(os.path.join(campaign_workspace, run, \"settings_training\", mcoll_name, \"settings.conf\"))\n",
    "    mcolls = mconfhandler.GetModelCollection()\n",
    "    \n",
    "    row_dict = {}\n",
    "    for mcoll in mcolls:\n",
    "        if mcoll.name == mcoll_name:\n",
    "            row_dict = dict(mcoll.model_dict[model_name].hyperparameters)\n",
    "            break\n",
    "    \n",
    "    loss = get_loss(run, mcoll_name, model_name)\n",
    "    row_dict[\"loss\"] = loss\n",
    "    \n",
    "    df = df.append(row_dict, ignore_index = True)"
   ]
  },
  {
   "cell_type": "code",
   "execution_count": 99,
   "metadata": {
    "collapsed": false
   },
   "outputs": [
    {
     "name": "stdout",
     "output_type": "stream",
     "text": [
      "[0.0, 1.0, 2.0, 3.0]\n",
      "[16.0, 32.0, 48.0, 64.0]\n"
     ]
    }
   ],
   "source": [
    "data, x_label, y_label = convert_to_matshow(df, [\"number_layers\", \"number_neurons\"], \"loss\")"
   ]
  },
  {
   "cell_type": "code",
   "execution_count": 100,
   "metadata": {
    "collapsed": false
   },
   "outputs": [],
   "source": [
    "fig = plt.figure(figsize=(5,5))\n",
    "ax = fig.add_subplot(111)\n",
    "cax = ax.matshow(data.transpose(), interpolation = 'nearest', cmap = 'RdYlGn_r', vmin = np.min(data), vmax = np.max(data))\n",
    "ax.set_xticklabels(np.concatenate([[''], x_label.astype(int) + 1]))\n",
    "ax.set_yticklabels(np.concatenate([[''], y_label.astype(int)]))\n",
    "ax.xaxis.set_label_position(\"bottom\")\n",
    "ax.xaxis.tick_bottom()\n",
    "ax.set_xlabel(\"hidden layers\")\n",
    "ax.set_ylabel(\"neurons / hidden layer\")\n",
    "ax.set_title(pretty_name, fontsize = 15)\n",
    "\n",
    "for cur in np.ndenumerate(data):\n",
    "    coords = cur[0]\n",
    "    val = cur[1]\n",
    "    \n",
    "    if val > 0.053:\n",
    "        color = 'black'\n",
    "    else:\n",
    "        color = 'white'\n",
    "    \n",
    "    ax.text(coords[0], coords[1], \"{:4.4f}\".format(val), va = 'center', ha = 'center', color = color, weight = 'bold')\n",
    "    \n",
    "plt.tight_layout()"
   ]
  },
  {
   "cell_type": "code",
   "execution_count": 101,
   "metadata": {
    "collapsed": false
   },
   "outputs": [],
   "source": [
    "plt.savefig(\"/data_CMS/cms/wind/HyperparameterPlots/ZHl_ggH.pdf\")\n",
    "#plt.show()"
   ]
  },
  {
   "cell_type": "code",
   "execution_count": null,
   "metadata": {
    "collapsed": true
   },
   "outputs": [],
   "source": []
  }
 ],
 "metadata": {
  "kernelspec": {
   "display_name": "Python 2",
   "language": "python",
   "name": "python2"
  },
  "language_info": {
   "codemirror_mode": {
    "name": "ipython",
    "version": 2
   },
   "file_extension": ".py",
   "mimetype": "text/x-python",
   "name": "python",
   "nbconvert_exporter": "python",
   "pygments_lexer": "ipython2",
   "version": "2.7.11"
  }
 },
 "nbformat": 4,
 "nbformat_minor": 2
}
