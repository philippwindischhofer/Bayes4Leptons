{
 "cells": [
  {
   "cell_type": "code",
   "execution_count": 1,
   "metadata": {
    "collapsed": false
   },
   "outputs": [],
   "source": [
    "from bayes_opt import BayesianOptimization\n",
    "import numpy as np\n",
    "from sklearn.gaussian_process.kernels import Matern\n",
    "import matplotlib.pyplot as plt\n",
    "from matplotlib import gridspec\n",
    "\n",
    "from trainlib.ConfigFileHandler import ConfigFileHandler"
   ]
  },
  {
   "cell_type": "code",
   "execution_count": 2,
   "metadata": {
    "collapsed": true
   },
   "outputs": [],
   "source": [
    "def load_file(path, keys):\n",
    "    confhandler = ConfigFileHandler()\n",
    "    confhandler.load_configuration(path)\n",
    "    \n",
    "    retval = {}\n",
    "    \n",
    "    for section_name in confhandler.get_sections():\n",
    "        cur_section = confhandler.get_section(section_name)\n",
    "        \n",
    "        for key in keys:\n",
    "            if not key in retval:\n",
    "                retval[key] = []\n",
    "                \n",
    "            retval[key].append(float(cur_section[key]))\n",
    "            \n",
    "    return retval"
   ]
  },
  {
   "cell_type": "code",
   "execution_count": 3,
   "metadata": {
    "collapsed": false
   },
   "outputs": [],
   "source": [
    "def posterior(bo, x):\n",
    "    bo.gp.fit(bo.X, bo.Y)\n",
    "    mu, sigma = bo.gp.predict(x, return_std=True)\n",
    "    return mu, sigma\n",
    "\n",
    "def plot_gp(bo, x):\n",
    "    \n",
    "    fig = plt.figure(figsize=(16, 10))\n",
    "    axis = plt.subplot(111)\n",
    "    \n",
    "    mu, sigma = posterior(bo, x)\n",
    "    axis.plot(bo.X.flatten(), bo.Y, 's', markersize=8, label=u'observations', color='black')\n",
    "    axis.plot(x, mu, '--', color='black', label='gaussian process mean')\n",
    "\n",
    "    axis.fill(np.concatenate([x, x[::-1]]), \n",
    "              np.concatenate([mu - 1.9600 * sigma, (mu + 1.9600 * sigma)[::-1]]),\n",
    "        alpha=.6, fc='lightblue', ec='None', label='95% confidence interval')\n",
    "    \n",
    "    axis.set_xlim((min(x), max(x)))\n",
    "    axis.set_ylim((None, None))\n",
    "    axis.set_ylabel('utility', fontdict={'size':20})\n",
    "    axis.set_xlabel('ggH prior', fontdict={'size':20})\n",
    "    \n",
    "    axis.legend(loc = 3)\n",
    "    \n",
    "    return fig"
   ]
  },
  {
   "cell_type": "code",
   "execution_count": 4,
   "metadata": {
    "collapsed": false
   },
   "outputs": [
    {
     "name": "stdout",
     "output_type": "stream",
     "text": [
      "attempting to load configuration file from /data_CMS/cms/wind/180427_combined_optimized_inputs/number_layers_2.0_number_neurons_64.0/priors_tree/evaluations_ggH.txt\n"
     ]
    }
   ],
   "source": [
    "init_dict = load_file(\"/data_CMS/cms/wind/180427_combined_optimized_inputs/number_layers_2.0_number_neurons_64.0/priors_tree/evaluations_ggH.txt\", [\"target\", \"ggh_prior\"])"
   ]
  },
  {
   "cell_type": "code",
   "execution_count": 6,
   "metadata": {
    "collapsed": true
   },
   "outputs": [],
   "source": [
    "gp_params = {'kernel': 1.0 * Matern(length_scale = 0.01, length_scale_bounds = (1e-5, 1e5), nu = 1.5),\n",
    "             'alpha':1.5e-6}"
   ]
  },
  {
   "cell_type": "code",
   "execution_count": 7,
   "metadata": {
    "collapsed": true
   },
   "outputs": [],
   "source": [
    "target = lambda x: x"
   ]
  },
  {
   "cell_type": "code",
   "execution_count": 11,
   "metadata": {
    "collapsed": false
   },
   "outputs": [],
   "source": [
    "x = np.linspace(1.0, 3.0, 1000).reshape(-1,1)"
   ]
  },
  {
   "cell_type": "code",
   "execution_count": 12,
   "metadata": {
    "collapsed": false
   },
   "outputs": [],
   "source": [
    "bo = BayesianOptimization(target, {'ggh_prior': (1.0, 3.0)})"
   ]
  },
  {
   "cell_type": "code",
   "execution_count": 13,
   "metadata": {
    "collapsed": false
   },
   "outputs": [],
   "source": [
    "bo.initialize(init_dict)"
   ]
  },
  {
   "cell_type": "code",
   "execution_count": 14,
   "metadata": {
    "collapsed": false
   },
   "outputs": [
    {
     "name": "stdout",
     "output_type": "stream",
     "text": [
      "\u001b[31mInitialization\u001b[0m\n",
      "\u001b[94m-------------------------------------------\u001b[0m\n",
      " Step |   Time |      Value |   ggh_prior | \n",
      "    1 | 00m00s | \u001b[35m  -0.00440\u001b[0m | \u001b[32m     2.8029\u001b[0m | \n",
      "    2 | 00m00s | \u001b[35m   0.01713\u001b[0m | \u001b[32m     1.4256\u001b[0m | \n",
      "    3 | 00m00s | \u001b[35m   0.01757\u001b[0m | \u001b[32m     1.4287\u001b[0m | \n",
      "    4 | 00m00s | \u001b[35m   0.01898\u001b[0m | \u001b[32m     2.0435\u001b[0m | \n",
      "    5 | 00m00s |    0.01597 |      1.0000 | \n",
      "    6 | 00m00s |    0.01774 |      1.3472 | \n",
      "    7 | 00m00s |    0.00534 |      2.6094 | \n",
      "    8 | 00m00s |    0.01724 |      1.5516 | \n",
      "    9 | 00m00s |    0.01726 |      1.1984 | \n",
      "   10 | 00m00s |    0.01812 |      1.2680 | \n",
      "   11 | 00m00s |    0.01792 |      1.7238 | \n",
      "   12 | 00m00s |    0.00612 |      2.6118 | \n",
      "   13 | 00m00s |    0.01519 |      2.1811 | \n",
      "   14 | 00m00s |   -0.01159 |      2.9733 | \n",
      "   15 | 00m00s |    0.01479 |      2.1885 | \n",
      "   16 | 00m00s |    0.01822 |      1.5799 | \n",
      "   17 | 00m00s |    0.01766 |      1.7530 | \n",
      "   18 | 00m00s |    0.01817 |      2.0919 | \n",
      "   19 | 00m00s |    0.01469 |      2.2500 | \n",
      "   20 | 00m00s |    0.00448 |      2.6014 | \n",
      "   21 | 00m00s |    0.01821 |      1.6092 | \n",
      "   22 | 00m00s |    0.00029 |      2.6586 | \n",
      "   23 | 00m00s |    0.01770 |      1.8473 | \n",
      "   24 | 00m00s |    0.01659 |      1.0811 | \n",
      "   25 | 00m00s |    0.01770 |      1.2461 | \n",
      "   26 | 00m00s |    0.01718 |      1.4494 | \n",
      "   27 | 00m00s |   -0.00541 |      2.8146 | \n",
      "   28 | 00m00s |    0.01793 |      1.4738 | \n",
      "   29 | 00m00s |    0.01874 |      1.9306 | \n",
      "   30 | 00m00s |    0.00028 |      2.6862 | \n",
      "   31 | 00m00s |   -0.00980 |      2.9149 | \n",
      "   32 | 00m00s |   -0.00778 |      2.9056 | \n",
      "   33 | 00m00s |    0.01711 |      1.3971 | \n",
      "   34 | 00m00s |   -0.00185 |      2.7622 | \n",
      "\u001b[31mBayesian Optimization\u001b[0m\n",
      "\u001b[94m-------------------------------------------\u001b[0m\n",
      " Step |   Time |      Value |   ggh_prior | \n"
     ]
    }
   ],
   "source": [
    "bo.maximize(init_points=0, n_iter=0, acq='poi', kappa=5, xi = 0.1, **gp_params)"
   ]
  },
  {
   "cell_type": "code",
   "execution_count": 15,
   "metadata": {
    "collapsed": false
   },
   "outputs": [],
   "source": [
    "fig = plot_gp(bo, x)"
   ]
  },
  {
   "cell_type": "code",
   "execution_count": 16,
   "metadata": {
    "collapsed": false
   },
   "outputs": [],
   "source": [
    "plt.savefig(\"gaussian_process.pdf\")"
   ]
  },
  {
   "cell_type": "code",
   "execution_count": null,
   "metadata": {
    "collapsed": true
   },
   "outputs": [],
   "source": []
  }
 ],
 "metadata": {
  "kernelspec": {
   "display_name": "Python 2",
   "language": "python",
   "name": "python2"
  },
  "language_info": {
   "codemirror_mode": {
    "name": "ipython",
    "version": 2
   },
   "file_extension": ".py",
   "mimetype": "text/x-python",
   "name": "python",
   "nbconvert_exporter": "python",
   "pygments_lexer": "ipython2",
   "version": "2.7.11"
  }
 },
 "nbformat": 4,
 "nbformat_minor": 0
}
