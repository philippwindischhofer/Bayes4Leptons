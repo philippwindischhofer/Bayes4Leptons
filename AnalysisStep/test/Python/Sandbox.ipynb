{
 "cells": [
  {
   "cell_type": "code",
   "execution_count": 1,
   "metadata": {
    "collapsed": false
   },
   "outputs": [
    {
     "name": "stdout",
     "output_type": "stream",
     "text": [
      "Welcome to JupyROOT 6.10/09\n"
     ]
    }
   ],
   "source": [
    "from ROOT import TFile\n",
    "from root_numpy import root2array, root2rec, tree2array\n",
    "import numpy as np\n",
    "import pandas as pd"
   ]
  },
  {
   "cell_type": "code",
   "execution_count": 193,
   "metadata": {
    "collapsed": true
   },
   "outputs": [],
   "source": [
    "def get_size(filepath):\n",
    "    print \"skimming \" + filepath\n",
    "    f = TFile.Open(filepath)\n",
    "    size = f.Get(\"ZZTree/candTree\").GetEntries()\n",
    "    f.Close()\n",
    "\n",
    "    return size"
   ]
  },
  {
   "cell_type": "code",
   "execution_count": 207,
   "metadata": {
    "collapsed": false
   },
   "outputs": [],
   "source": [
    "# this simulates a single ROOT file that is actually distributed over multiple \"physical\" ROOT trees. From each file in the list,\n",
    "# only the portion between start_fraction and end_fraction is considered\n",
    "class FileCollection:\n",
    "    def __init__(self, files, start_fraction, end_fraction):\n",
    "        self.files = files\n",
    "        self.start_fraction = start_fraction\n",
    "        self.end_fraction = end_fraction\n",
    "\n",
    "        # the number of entries in each file, and the local start- and endpositions\n",
    "        self.lengths = [get_size(file_path) for file_path in files]\n",
    "        self.minpos = [int(length * start_fraction) for length in self.lengths]\n",
    "        self.maxpos = [int(length * end_fraction) for length in self.lengths]\n",
    "        \n",
    "        self.used_lengths = [end - beginning for (end, beginning) in zip(self.maxpos, self.minpos)]\n",
    "                \n",
    "        self.total_length = sum(self.lengths)\n",
    "        self.used_length = sum(self.used_lengths)\n",
    "        \n",
    "        print \"collection set up: \" + str(len(files)) + \" files, \" + str(self.total_length) + \" entries in total, \" + str(self.used_length) + \" of which will be used\"\n",
    "        \n",
    "    def get_length(self):\n",
    "        return self.used_length\n",
    "    \n",
    "    # returns some data from this file collection\n",
    "    def get_data(self, branches, start_index, end_index):\n",
    "        # now need to translate between a global index, and a filepath and its corresponding local index\n",
    "        return 0\n",
    "        \n",
    "    def transform_index(self, global_index):\n",
    "        if global_index >= self.get_length():\n",
    "            raise IndexError(\"global index out of range\")\n",
    "        \n",
    "        # first determine which file in the list is needed to read this index\n",
    "        max_local_indices = np.array(self.used_lengths) - 1  # all works by 0-indexing\n",
    "        cum_lengths = np.cumsum(self.used_lengths)\n",
    "        \n",
    "        needed_file = 0\n",
    "        while global_index > cum_lengths[needed_file] - 1:\n",
    "            needed_file += 1\n",
    "            \n",
    "        # then determine the corresponding local index within this file\n",
    "        local_minpos = np.append(0, cum_lengths)\n",
    "                \n",
    "        local_index = global_index - local_minpos[needed_file]\n",
    "        \n",
    "        # up to now, all these indices are relative w.r.t. the used slice in each file. the beginning of these slices can be shifted w.r.t. the beginning of the file itself\n",
    "        local_index += self.minpos[needed_file]\n",
    "            \n",
    "        return self.files[needed_file], local_index\n",
    "    \n",
    "    def transform_index_range(self, global_start_index, global_end_index):\n",
    "        if global_start_index >= self.get_length() or global_end_index >= self.get_length():\n",
    "            raise IndexError(\"global index out of range\")\n",
    "        if global_end_index < global_start_index:\n",
    "            raise IndexError(\"end ought to come after beginning\")\n",
    "            \n",
    "        local_coords = [self.transform_index(global_index) for global_index in range(global_start_index, global_end_index)]\n",
    "        needed_files = set([local_coord[0] for local_coord in local_coords])\n",
    "        \n",
    "        retval = []\n",
    "        # now look at each needed file in turn and determine the relevant index range in this local file\n",
    "        for needed_file in needed_files:\n",
    "            needed_local_indices = [local_coord[1] for local_coord in local_coords if local_coord[0] == needed_file ]\n",
    "            needed_min_index = min(needed_local_indices)\n",
    "            needed_max_index = max(needed_local_indices)\n",
    "            \n",
    "            retval += (needed_file, needed_min_index, needed_max_index)\n",
    "        \n",
    "        return retval"
   ]
  },
  {
   "cell_type": "code",
   "execution_count": 208,
   "metadata": {
    "collapsed": false
   },
   "outputs": [],
   "source": [
    "inpath = \"/data_CMS/cms/wind/CJLST_NTuples/\"\n",
    "filename = \"/ZZ4lAnalysis.root\"\n",
    "filelist = [\"ggH125\", \"VBFH125\", \"WplusH125\"]"
   ]
  },
  {
   "cell_type": "code",
   "execution_count": 209,
   "metadata": {
    "collapsed": true
   },
   "outputs": [],
   "source": [
    "pathlist = [inpath + cur_file + filename for cur_file in filelist]"
   ]
  },
  {
   "cell_type": "code",
   "execution_count": 210,
   "metadata": {
    "collapsed": false
   },
   "outputs": [
    {
     "name": "stdout",
     "output_type": "stream",
     "text": [
      "skimming /data_CMS/cms/wind/CJLST_NTuples/ggH125/ZZ4lAnalysis.root\n",
      "skimming /data_CMS/cms/wind/CJLST_NTuples/VBFH125/ZZ4lAnalysis.root\n",
      "skimming /data_CMS/cms/wind/CJLST_NTuples/WplusH125/ZZ4lAnalysis.root\n",
      "collection set up: 3 files, 205204 entries in total, 20520 of which will be used\n"
     ]
    }
   ],
   "source": [
    "coll = FileCollection(pathlist, 0.1, 0.2)"
   ]
  },
  {
   "cell_type": "code",
   "execution_count": 216,
   "metadata": {
    "collapsed": false
   },
   "outputs": [
    {
     "data": {
      "text/plain": [
       "['/data_CMS/cms/wind/CJLST_NTuples/ggH125/ZZ4lAnalysis.root',\n",
       " 12048,\n",
       " 22095,\n",
       " '/data_CMS/cms/wind/CJLST_NTuples/VBFH125/ZZ4lAnalysis.root',\n",
       " 6232,\n",
       " 12463,\n",
       " '/data_CMS/cms/wind/CJLST_NTuples/WplusH125/ZZ4lAnalysis.root',\n",
       " 3240,\n",
       " 5959]"
      ]
     },
     "execution_count": 216,
     "metadata": {},
     "output_type": "execute_result"
    }
   ],
   "source": [
    "coll.transform_index_range(1000, 20000)"
   ]
  },
  {
   "cell_type": "code",
   "execution_count": null,
   "metadata": {
    "collapsed": true
   },
   "outputs": [],
   "source": []
  }
 ],
 "metadata": {
  "kernelspec": {
   "display_name": "Python 2",
   "language": "python",
   "name": "python2"
  },
  "language_info": {
   "codemirror_mode": {
    "name": "ipython",
    "version": 2
   },
   "file_extension": ".py",
   "mimetype": "text/x-python",
   "name": "python",
   "nbconvert_exporter": "python",
   "pygments_lexer": "ipython2",
   "version": "2.7.11"
  }
 },
 "nbformat": 4,
 "nbformat_minor": 2
}
