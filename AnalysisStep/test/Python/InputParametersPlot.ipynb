{
 "cells": [
  {
   "cell_type": "code",
   "execution_count": 1,
   "metadata": {
    "collapsed": true
   },
   "outputs": [],
   "source": [
    "import matplotlib.pyplot as plt\n",
    "import pandas as pd\n",
    "import numpy as np\n",
    "import matplotlib.ticker as ticker\n",
    "from trainlib.ConfigFileHandler import ConfigFileHandler\n",
    "from trainlib.ConfigFileUtils import ConfigFileUtils"
   ]
  },
  {
   "cell_type": "code",
   "execution_count": 2,
   "metadata": {
    "collapsed": true
   },
   "outputs": [],
   "source": [
    "# plots the finally selected input variables, irrespective of their weighting"
   ]
  },
  {
   "cell_type": "code",
   "execution_count": 3,
   "metadata": {
    "collapsed": true
   },
   "outputs": [],
   "source": [
    "def convert_model_label(raw):\n",
    "    retval = raw.replace('D_', '')\n",
    "    retval = retval.replace('_ML', '')\n",
    "    retval = retval.replace('_', '-')\n",
    "    return retval"
   ]
  },
  {
   "cell_type": "code",
   "execution_count": 16,
   "metadata": {
    "collapsed": true
   },
   "outputs": [],
   "source": [
    "def make_input_plot(input_file):\n",
    "    confhandler = ConfigFileHandler()\n",
    "    confhandler.load_configuration(input_file)\n",
    "    models = confhandler.get_sections()\n",
    "    \n",
    "    df = pd.DataFrame()\n",
    "\n",
    "    for model in models:\n",
    "        cur_sect = confhandler.get_section(model)\n",
    "\n",
    "        used_nonperiodic_vars = filter(None, ConfigFileUtils.parse_list(cur_sect[\"nonperiodic_columns\"], lambda x: x))\n",
    "        used_periodic_vars = filter(None, ConfigFileUtils.parse_list(cur_sect[\"periodic_columns\"], lambda x: x))\n",
    "\n",
    "        used_vars = used_nonperiodic_vars + used_periodic_vars\n",
    "        var_dict = {col: [1.0] for col in used_vars}\n",
    "        var_dict[\"model\"] = model\n",
    "\n",
    "        row_df = pd.DataFrame.from_dict(var_dict)\n",
    "\n",
    "        df = pd.concat([df, row_df], axis = 0)\n",
    "\n",
    "    df = df.fillna(0.0)\n",
    "    \n",
    "    datacols = [col for col in df.columns if col is not \"model\"]\n",
    "    plot_data = df[datacols].as_matrix()\n",
    "    \n",
    "    y_label = np.array(datacols)\n",
    "    x_label = [convert_model_label(label) for label in df[\"model\"].as_matrix()]\n",
    "    \n",
    "    fig = plt.figure(figsize = (12, 10))\n",
    "    \n",
    "    ax = fig.add_subplot(111)\n",
    "    \n",
    "    cax = ax.matshow(plot_data.transpose(), cmap = 'Blues', vmin = 0, vmax = 1)\n",
    "    ax.set_xticklabels(np.concatenate([[''], x_label]), rotation = 'vertical')\n",
    "    ax.set_yticklabels(np.concatenate([[''], y_label]))\n",
    "    ax.xaxis.set_label_position(\"top\")\n",
    "    ax.xaxis.set_major_locator(ticker.MultipleLocator(1))\n",
    "    ax.yaxis.set_major_locator(ticker.MultipleLocator(1))\n",
    "    \n",
    "    plt.tight_layout()\n",
    "    \n",
    "    return fig"
   ]
  },
  {
   "cell_type": "code",
   "execution_count": 80,
   "metadata": {
    "collapsed": true
   },
   "outputs": [],
   "source": [
    "def make_fscore_plot_combined(input_file_inclusive, input_file_exclusive):\n",
    "    df_exclusive = pd.DataFrame.from_csv(input_file_exclusive)\n",
    "    df_inclusive = pd.DataFrame.from_csv(input_file_inclusive)\n",
    "    \n",
    "    cols_inclusive = [col for col in df_inclusive[\"discriminant\"] if \"D_VBF_ggH\" not in col]\n",
    "    cols_exclusive = [\"D_VBF_ggH_2j_ML\", \"D_VBF_ggH_1j_ML\", \"D_VBF_ggH_0j_ML\"]\n",
    "    \n",
    "    df_exclusive = df_exclusive.loc[df_exclusive[\"discriminant\"].isin(cols_exclusive)]\n",
    "    df_inclusive = df_inclusive.loc[df_inclusive[\"discriminant\"].isin(cols_inclusive)]\n",
    "    \n",
    "    df = pd.concat([df_exclusive, df_inclusive])\n",
    "    \n",
    "    # now plot the data contained in the table to have a global picture of the relevant input variables\n",
    "    datacol_labels = [col for col in df.columns.tolist() if col != \"discriminant\"]\n",
    "    variable_data = df[datacol_labels].as_matrix().transpose()\n",
    "    datacol_labels = np.concatenate([[''], np.array(datacol_labels)])\n",
    "    \n",
    "    discriminant_labels = [convert_model_label(col) for col in df[\"discriminant\"]]\n",
    "    \n",
    "    discriminant_labels = np.concatenate([[''], discriminant_labels])\n",
    "    \n",
    "    fig = plt.figure(figsize = (12, 10))\n",
    "    ax = fig.add_subplot(111)\n",
    "    cax = ax.matshow(variable_data, interpolation = 'nearest', cmap = 'Blues', vmin = np.min(variable_data), vmax = np.max(variable_data))\n",
    "    ax.set_xticklabels(discriminant_labels, rotation = 'vertical')\n",
    "    ax.set_yticklabels(datacol_labels)\n",
    "    ax.xaxis.set_major_locator(ticker.MultipleLocator(1))\n",
    "    ax.yaxis.set_major_locator(ticker.MultipleLocator(1))\n",
    "    \n",
    "    plt.tight_layout()\n",
    "    \n",
    "    return fig"
   ]
  },
  {
   "cell_type": "code",
   "execution_count": 20,
   "metadata": {
    "collapsed": false
   },
   "outputs": [],
   "source": [
    "%%capture\n",
    "fig = make_input_plot(\"/data_CMS/cms/wind/InputConfigurations/inclusive_99.conf\")"
   ]
  },
  {
   "cell_type": "code",
   "execution_count": 21,
   "metadata": {
    "collapsed": false
   },
   "outputs": [],
   "source": [
    "plt.savefig(\"/data_CMS/cms/wind/InputConfigurations/inclusive_variables_selected.pdf\")"
   ]
  },
  {
   "cell_type": "code",
   "execution_count": 22,
   "metadata": {
    "collapsed": false
   },
   "outputs": [],
   "source": [
    "%%capture\n",
    "fig = make_input_plot(\"/data_CMS/cms/wind/InputConfigurations/exclusive_99.conf\")"
   ]
  },
  {
   "cell_type": "code",
   "execution_count": 23,
   "metadata": {
    "collapsed": false
   },
   "outputs": [],
   "source": [
    "plt.savefig(\"/data_CMS/cms/wind/InputConfigurations/exclusive_variables_selected.pdf\")"
   ]
  },
  {
   "cell_type": "code",
   "execution_count": 24,
   "metadata": {
    "collapsed": false
   },
   "outputs": [],
   "source": [
    "%%capture\n",
    "fig = make_input_plot(\"/data_CMS/cms/wind/InputConfigurations/inclusive_99_fullmassrange.conf\")"
   ]
  },
  {
   "cell_type": "code",
   "execution_count": 25,
   "metadata": {
    "collapsed": false
   },
   "outputs": [],
   "source": [
    "plt.savefig(\"/data_CMS/cms/wind/InputConfigurations/inclusive_variables_selected_fullmassrange.pdf\")"
   ]
  },
  {
   "cell_type": "code",
   "execution_count": 26,
   "metadata": {
    "collapsed": false
   },
   "outputs": [],
   "source": [
    "%%capture\n",
    "fig = make_input_plot(\"/data_CMS/cms/wind/InputConfigurations/exclusive_99_fullmassrange.conf\")"
   ]
  },
  {
   "cell_type": "code",
   "execution_count": 27,
   "metadata": {
    "collapsed": false
   },
   "outputs": [],
   "source": [
    "plt.savefig(\"/data_CMS/cms/wind/InputConfigurations/exclusive_variables_selected_fullmassrange.pdf\")"
   ]
  },
  {
   "cell_type": "code",
   "execution_count": 28,
   "metadata": {
    "collapsed": false
   },
   "outputs": [],
   "source": [
    "%%capture\n",
    "fig = make_input_plot(\"/data_CMS/cms/wind/InputConfigurations/combined_99.conf\")"
   ]
  },
  {
   "cell_type": "code",
   "execution_count": 29,
   "metadata": {
    "collapsed": false
   },
   "outputs": [],
   "source": [
    "plt.savefig(\"/data_CMS/cms/wind/InputConfigurations/combined_variables_selected.pdf\")"
   ]
  },
  {
   "cell_type": "code",
   "execution_count": 30,
   "metadata": {
    "collapsed": false
   },
   "outputs": [],
   "source": [
    "%%capture\n",
    "fig = make_input_plot(\"/data_CMS/cms/wind/InputConfigurations/combined_99_fullmassrange.conf\")"
   ]
  },
  {
   "cell_type": "code",
   "execution_count": 31,
   "metadata": {
    "collapsed": false
   },
   "outputs": [],
   "source": [
    "plt.savefig(\"/data_CMS/cms/wind/InputConfigurations/combined_variables_selected_fullmassrange.pdf\")"
   ]
  },
  {
   "cell_type": "code",
   "execution_count": 17,
   "metadata": {
    "collapsed": false
   },
   "outputs": [],
   "source": [
    "%%capture\n",
    "fig = make_input_plot(\"/data_CMS/cms/wind/InputConfigurations/combined_99_fullmassrange_ZZMask.conf\")"
   ]
  },
  {
   "cell_type": "code",
   "execution_count": 18,
   "metadata": {
    "collapsed": false
   },
   "outputs": [],
   "source": [
    "plt.savefig(\"/data_CMS/cms/wind/InputConfigurations/combined_variables_selected_fullmassrange_ZZMask.pdf\")"
   ]
  },
  {
   "cell_type": "code",
   "execution_count": 81,
   "metadata": {
    "collapsed": true
   },
   "outputs": [],
   "source": [
    "%%capture\n",
    "fig = make_fscore_plot_combined(\"/data_CMS/cms/wind/InputConfigurations/input_parameters_table_inclusive_ZZMask.csv\",\n",
    "                               \"/data_CMS/cms/wind/InputConfigurations/input_parameters_table_ZZMask.csv\")"
   ]
  },
  {
   "cell_type": "code",
   "execution_count": 82,
   "metadata": {
    "collapsed": false
   },
   "outputs": [],
   "source": [
    "plt.savefig(\"/data_CMS/cms/wind/InputConfigurations/combined_variables_fullmassrange_ZZMask.pdf\")"
   ]
  },
  {
   "cell_type": "code",
   "execution_count": null,
   "metadata": {
    "collapsed": true
   },
   "outputs": [],
   "source": []
  }
 ],
 "metadata": {
  "kernelspec": {
   "display_name": "Python 2",
   "language": "python",
   "name": "python2"
  },
  "language_info": {
   "codemirror_mode": {
    "name": "ipython",
    "version": 2
   },
   "file_extension": ".py",
   "mimetype": "text/x-python",
   "name": "python",
   "nbconvert_exporter": "python",
   "pygments_lexer": "ipython2",
   "version": "2.7.11"
  }
 },
 "nbformat": 4,
 "nbformat_minor": 2
}
