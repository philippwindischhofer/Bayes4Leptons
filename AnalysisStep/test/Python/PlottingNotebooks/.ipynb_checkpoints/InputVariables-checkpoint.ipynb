{
 "cells": [
  {
   "cell_type": "code",
   "execution_count": 1,
   "metadata": {
    "collapsed": true
   },
   "outputs": [],
   "source": [
    "import matplotlib.pyplot as plt\n",
    "import matplotlib.ticker as ticker\n",
    "import numpy as np\n",
    "import pandas as pd\n",
    "import sys"
   ]
  },
  {
   "cell_type": "code",
   "execution_count": 2,
   "metadata": {
    "collapsed": false
   },
   "outputs": [],
   "source": [
    "sys.path.insert(0, '/home/llr/cms/wind/cmssw/CMSSW_9_4_2/src/ZZAnalysis/AnalysisStep/test/Python/')"
   ]
  },
  {
   "cell_type": "code",
   "execution_count": 3,
   "metadata": {
    "collapsed": false
   },
   "outputs": [],
   "source": [
    "from trainlib.ConfigFileHandler import ConfigFileHandler\n",
    "from trainlib.ConfigFileUtils import ConfigFileUtils"
   ]
  },
  {
   "cell_type": "code",
   "execution_count": 4,
   "metadata": {
    "collapsed": false
   },
   "outputs": [],
   "source": [
    "variable_pretty_names = {\n",
    "    \"D_VBF1j_ggH_ME\": r'$\\mathcal{D}_{\\mathrm{VBF-1j}, ggH}$',\n",
    "    \"D_VBF2j_ggH_ME\": r'$\\mathcal{D}_{\\mathrm{VBF-2j}, ggH}$',\n",
    "    \"D_VBF2j_WHh_ME\": r'$\\mathcal{D}_{\\mathrm{VBF-2j}, WH\\mathrm{-hadr}}$',\n",
    "    \"D_VBF2j_ZHh_ME\": r'$\\mathcal{D}_{\\mathrm{VBF-2j}, ZH\\mathrm{-hadr}}$',\n",
    "    \"D_WHh_ZHh_ME\": r'$\\mathcal{D}_{WH\\mathrm{-hadr}, ZH\\mathrm{-hadr}}$',\n",
    "    \"D_WHh_ggH_ME\": r'$\\mathcal{D}_{WH\\mathrm{-hadr}, ggH}$',\n",
    "    \"D_ZHh_ggH_ME\": r'$\\mathcal{D}_{ZH\\mathrm{-hadr}, ggH}$',\n",
    "    \"D_bkg_ME\": r'$\\mathcal{D}_{\\mathrm{bkg}}$',\n",
    "    \n",
    "    \"ExtraLepEta[ExtraLepPt|0]\": r'$\\eta(e\\ell_{(1)})$',\n",
    "    \"ExtraLepEta[ExtraLepPt|1]\": r'$\\eta(e\\ell_{(2)})$',\n",
    "    \"ExtraLepEta[ExtraLepPt|2]\": r'$\\eta(e\\ell_{(3)})$',\n",
    "    \"ExtraLepPhi[ExtraLepPt|0]\": r'$\\phi(e\\ell_{(1)})$',\n",
    "    \"ExtraLepPhi[ExtraLepPt|1]\": r'$\\phi(e\\ell_{(2)})$',\n",
    "    \"ExtraLepPt[ExtraLepPt|0]\": r'$p_T(e\\ell_{(1)})$',\n",
    "    \"ExtraLepPt[ExtraLepPt|1]\": r'$p_T(e\\ell_{(2)})$',\n",
    "    \"ExtraLepPt[ExtraLepPt|2]\": r'$p_T(e\\ell_{(3)})$',\n",
    "\n",
    "    \"JetEta[JetPt|0]\": r'$\\eta(j_{(1)})$',\n",
    "    \"JetEta[JetPt|1]\": r'$\\eta(j_{(2)})$',\n",
    "    \"JetEta[JetPt|2]\": r'$\\eta(j_{(3)})$',\n",
    "    \"JetEta[JetPt|3]\": r'$\\eta(j_{(4)})$',\n",
    "    \n",
    "    \"JetPhi[JetPt|0]\": r'$\\phi(j_{(1)})$',\n",
    "    \"JetPhi[JetPt|1]\": r'$\\phi(j_{(2)})$',\n",
    "    \"JetPhi[JetPt|2]\": r'$\\phi(j_{(3)})$',\n",
    "    \"JetPhi[JetPt|3]\": r'$\\phi(j_{(4)})$',\n",
    "    \n",
    "    \"JetPt[JetPt|0]\": r'$p_T(j_{(1)})$',\n",
    "    \"JetPt[JetPt|1]\": r'$p_T(j_{(2)})$',\n",
    "    \"JetPt[JetPt|2]\": r'$p_T(j_{(3)})$',\n",
    "    \"JetPt[JetPt|3]\": r'$p_T(j_{(4)})$',\n",
    "    \n",
    "    \"PFMET\": \"MET\",\n",
    "    \n",
    "    \"Z1Mass\": r'$m(Z_1)$',\n",
    "    \"Z2Mass\": r'$m(Z_2)$',\n",
    "    \"Z1Pt\": r'$p_T(Z_1)$',\n",
    "    \"Z2Pt\": r'$p_T(Z_2)$',\n",
    "    \"Z1Flav\": r'$\\mathfrak{f}(Z_1)$',\n",
    "    \"Z2Flav\": r'$\\mathfrak{f}(Z_2)$',\n",
    "    \n",
    "    \"ZZEta\": r'$\\eta(ZZ)$',\n",
    "    \"ZZMassErr\": r'$\\sigma(m(ZZ))$',\n",
    "    \"ZZMass_masked\": r'$m(ZZ)$',\n",
    "    \"ZZPhi\": r'$\\phi(ZZ)$',\n",
    "    \"ZZPt\": r'$p_T(ZZ)$',\n",
    "    \"costhetastar\": r'$\\mathrm{cos}(\\theta^{*})$',\n",
    "    \"helcosthetaZ1\": r'$\\mathrm{cos}(\\theta_1)$',\n",
    "    \"helcosthetaZ2\": r'$\\mathrm{cos}(\\theta_2)$',\n",
    "    \"helphi\": r'$\\Phi$',\n",
    "    \"phistarZ1\": r'$\\Phi_1$',\n",
    "    \n",
    "    \"nCleanedJetsPt30\": r'$n(j)$',\n",
    "    \"nCleanedJetsPt30BTagged_bTagSF\": r'$n(j_b)$',\n",
    "    \"nExtraZ\": r'$n(eZ)$',\n",
    "    \"nExtraLep\": r'$n(e\\ell)$',\n",
    "    \"xistar\": r'$\\xi^{*}$',\n",
    "    \"xi\": r'$\\xi$'\n",
    "\n",
    "}"
   ]
  },
  {
   "cell_type": "code",
   "execution_count": 5,
   "metadata": {
    "collapsed": true
   },
   "outputs": [],
   "source": [
    "discriminant_pretty_names = {\n",
    "    \"D_VBF_ggH_2j_ML\": \"D_VBF-2j_ggH_ML\",\n",
    "    \"D_VBF_ggH_1j_ML\": \"D_VBF-1j_ggH_ML\",\n",
    "    \"D_VBF_ggH_0j_ML\": \"D_VBF-0j_ggH_ML\"\n",
    "}"
   ]
  },
  {
   "cell_type": "code",
   "execution_count": 6,
   "metadata": {
    "collapsed": false
   },
   "outputs": [],
   "source": [
    "def convert_model_label(raw):\n",
    "    retval = discriminant_pretty_names.get(raw, raw)\n",
    "    \n",
    "    retval = retval.replace('D_', '')\n",
    "    retval = retval.replace('_ML', '')\n",
    "    retval = retval.replace('_', ', ')\n",
    "    \n",
    "    # get rid of the abbreviated forms\n",
    "    retval = retval.replace('qq', r'q\\bar{q}\\rightarrow ZZ')\n",
    "    retval = retval.replace('ZX', r'Z+X')\n",
    "    retval = retval.replace('ZHl', r'ZH\\mathrm{-lept}')\n",
    "    retval = retval.replace('ZHh', r'ZH\\mathrm{-hadr}')\n",
    "    retval = retval.replace('WHl', r'WH\\mathrm{-lept}')\n",
    "    retval = retval.replace('WHh', r'WH\\mathrm{-hadr}')\n",
    "    retval = retval.replace('ZX', 'Z+X')\n",
    "    retval = retval.replace('ttHh', r't\\bar{t}H\\mathrm{-hadr}')\n",
    "    retval = retval.replace('ttHl', r't\\bar{t}H\\mathrm{-lept}')\n",
    "    retval = retval.replace('ggH', r'ggH')\n",
    "    retval = retval.replace('ZHMET', r'VH\\mathrm{-MET}')\n",
    "    \n",
    "    retval = r'$s_{' + retval + r'}$'\n",
    "    \n",
    "    # have special ones for the different jet-number components\n",
    "    if \"VBF-2j\" in retval:\n",
    "        retval = r'$s_{\\mathrm{VBF}, ggH}\\,\\,\\, [n(j) \\geq 2]$'\n",
    "    elif \"VBF-1j\" in retval:\n",
    "        retval = r'$s_{\\mathrm{VBF}, ggH}\\,\\,\\, [n(j) = 1]$'\n",
    "    elif \"VBF-0j\" in retval:\n",
    "        retval = r'$s_{\\mathrm{VBF}, ggH}\\,\\,\\, [n(j) = 0]$'\n",
    "    \n",
    "    return retval"
   ]
  },
  {
   "cell_type": "code",
   "execution_count": 7,
   "metadata": {
    "collapsed": true
   },
   "outputs": [],
   "source": [
    "def convert_variable_name(raw):\n",
    "    return variable_pretty_names.get(raw, raw)"
   ]
  },
  {
   "cell_type": "code",
   "execution_count": 8,
   "metadata": {
    "collapsed": true
   },
   "outputs": [],
   "source": [
    "def make_input_plot(input_file):\n",
    "    confhandler = ConfigFileHandler()\n",
    "    confhandler.load_configuration(input_file)\n",
    "    models = confhandler.get_sections()\n",
    "    \n",
    "    df = pd.DataFrame()\n",
    "\n",
    "    for model in models:\n",
    "        cur_sect = confhandler.get_section(model)\n",
    "\n",
    "        used_nonperiodic_vars = filter(None, ConfigFileUtils.parse_list(cur_sect[\"nonperiodic_columns\"], lambda x: x))\n",
    "        used_periodic_vars = filter(None, ConfigFileUtils.parse_list(cur_sect[\"periodic_columns\"], lambda x: x))\n",
    "\n",
    "        used_vars = used_nonperiodic_vars + used_periodic_vars\n",
    "        var_dict = {col: [1.0] for col in used_vars}\n",
    "        var_dict[\"model\"] = model\n",
    "\n",
    "        row_df = pd.DataFrame.from_dict(var_dict)\n",
    "\n",
    "        df = pd.concat([df, row_df], axis = 0)\n",
    "\n",
    "    df = df.fillna(0.0)\n",
    "    \n",
    "    datacols = [col for col in df.columns if col is not \"model\"]\n",
    "    plot_data = df[datacols].as_matrix()\n",
    "    \n",
    "    y_label = [convert_variable_name(name) for name in np.array(datacols)]\n",
    "    x_label = [convert_model_label(label) for label in df[\"model\"].as_matrix()]\n",
    "    \n",
    "    fig = plt.figure(figsize = (12, 10))\n",
    "    \n",
    "    ax = fig.add_subplot(111)\n",
    "    \n",
    "    cax = ax.matshow(plot_data.transpose(), cmap = 'Blues', vmin = 0, vmax = 1)\n",
    "    ax.set_xticklabels(np.concatenate([[''], x_label]), rotation = 'vertical', fontsize = 11)\n",
    "    ax.set_yticklabels(np.concatenate([[''], y_label]), fontsize = 10)\n",
    "    ax.xaxis.set_label_position(\"top\")\n",
    "    ax.xaxis.set_major_locator(ticker.MultipleLocator(1))\n",
    "    ax.yaxis.set_major_locator(ticker.MultipleLocator(1))\n",
    "    \n",
    "    plt.tight_layout()\n",
    "    \n",
    "    return fig"
   ]
  },
  {
   "cell_type": "code",
   "execution_count": 9,
   "metadata": {
    "collapsed": false
   },
   "outputs": [],
   "source": [
    "def make_fscore_plot(input_file):\n",
    "    df = pd.DataFrame.from_csv(input_file)\n",
    "    \n",
    "    cols = [col for col in df[\"discriminant\"]]\n",
    "    \n",
    "    df = df.loc[df[\"discriminant\"].isin(cols)]\n",
    "    \n",
    "    df = df.fillna(0.0)\n",
    "        \n",
    "    # now plot the data contained in the table to have a global picture of the relevant input variables\n",
    "    datacol_labels = [col for col in df.columns.tolist() if col != \"discriminant\"]\n",
    "    variable_data = df[datacol_labels].as_matrix().transpose()\n",
    "    \n",
    "    datacol_labels = [convert_variable_name(name) for name in datacol_labels]\n",
    "    datacol_labels = np.concatenate([[''], np.array(datacol_labels)])\n",
    "    \n",
    "    discriminant_labels = [convert_model_label(col) for col in df[\"discriminant\"]]\n",
    "    discriminant_labels = np.concatenate([[''], discriminant_labels])\n",
    "    \n",
    "    fig = plt.figure(figsize = (12, 10))\n",
    "    ax = fig.add_subplot(111)\n",
    "    cax = ax.matshow(variable_data, interpolation = 'nearest', cmap = 'Blues', vmin = np.min(variable_data), vmax = np.max(variable_data))\n",
    "    ax.set_xticklabels(discriminant_labels, rotation = 'vertical')\n",
    "    ax.set_yticklabels(datacol_labels)\n",
    "    ax.xaxis.set_major_locator(ticker.MultipleLocator(1))\n",
    "    ax.yaxis.set_major_locator(ticker.MultipleLocator(1))\n",
    "    \n",
    "    plt.tight_layout()\n",
    "    \n",
    "    return fig"
   ]
  },
  {
   "cell_type": "code",
   "execution_count": 142,
   "metadata": {
    "collapsed": false
   },
   "outputs": [
    {
     "name": "stdout",
     "output_type": "stream",
     "text": [
      "attempting to load configuration file from /data_CMS/cms/wind/InputConfigurations2.0/combined_99_inputs.conf\n"
     ]
    }
   ],
   "source": [
    "fig = make_input_plot(\"/data_CMS/cms/wind/InputConfigurations2.0/combined_99_inputs.conf\")"
   ]
  },
  {
   "cell_type": "code",
   "execution_count": 143,
   "metadata": {
    "collapsed": false
   },
   "outputs": [],
   "source": [
    "plt.savefig(\"/data_CMS/cms/wind/InputConfigurations2.0/combined_99_inputs_selected.pdf\")"
   ]
  },
  {
   "cell_type": "code",
   "execution_count": 150,
   "metadata": {
    "collapsed": false
   },
   "outputs": [],
   "source": [
    "fig = make_fscore_plot(\"/data_CMS/cms/wind/InputConfigurations2.0/combined_99_fscore_table.csv\")"
   ]
  },
  {
   "cell_type": "code",
   "execution_count": 151,
   "metadata": {
    "collapsed": false
   },
   "outputs": [],
   "source": [
    "plt.savefig(\"/data_CMS/cms/wind/InputConfigurations2.0/combined_99_inputs_fscore.pdf\")"
   ]
  },
  {
   "cell_type": "code",
   "execution_count": 152,
   "metadata": {
    "collapsed": false
   },
   "outputs": [
    {
     "name": "stdout",
     "output_type": "stream",
     "text": [
      "attempting to load configuration file from /data_CMS/cms/wind/InputConfigurations2.0/combined_99_nomela_inputs.conf\n"
     ]
    }
   ],
   "source": [
    "fig = make_input_plot(\"/data_CMS/cms/wind/InputConfigurations2.0/combined_99_nomela_inputs.conf\")"
   ]
  },
  {
   "cell_type": "code",
   "execution_count": 153,
   "metadata": {
    "collapsed": false
   },
   "outputs": [],
   "source": [
    "plt.savefig(\"/data_CMS/cms/wind/InputConfigurations2.0/combined_99_nomela_inputs_selected.pdf\")"
   ]
  },
  {
   "cell_type": "code",
   "execution_count": 154,
   "metadata": {
    "collapsed": false
   },
   "outputs": [],
   "source": [
    "fig = make_fscore_plot(\"/data_CMS/cms/wind/InputConfigurations2.0/combined_99_nomela_fscore_table.csv\")"
   ]
  },
  {
   "cell_type": "code",
   "execution_count": 155,
   "metadata": {
    "collapsed": false
   },
   "outputs": [],
   "source": [
    "plt.savefig(\"/data_CMS/cms/wind/InputConfigurations2.0/combined_99_nomela_inputs_fscore.pdf\")"
   ]
  },
  {
   "cell_type": "markdown",
   "metadata": {},
   "source": [
    "these are for the input variable selection using only the two leading jets"
   ]
  },
  {
   "cell_type": "code",
   "execution_count": 36,
   "metadata": {
    "collapsed": false
   },
   "outputs": [
    {
     "name": "stdout",
     "output_type": "stream",
     "text": [
      "attempting to load configuration file from /data_CMS/cms/wind/InputConfigurations2.0_leading_jets/combined_99_inputs.conf\n"
     ]
    }
   ],
   "source": [
    "fig = make_input_plot(\"/data_CMS/cms/wind/InputConfigurations2.0_leading_jets/combined_99_inputs.conf\")"
   ]
  },
  {
   "cell_type": "code",
   "execution_count": 37,
   "metadata": {
    "collapsed": false
   },
   "outputs": [],
   "source": [
    "plt.savefig(\"/data_CMS/cms/wind/InputConfigurations2.0_leading_jets/combined_99_inputs_selected.pdf\")"
   ]
  },
  {
   "cell_type": "code",
   "execution_count": 12,
   "metadata": {
    "collapsed": false
   },
   "outputs": [
    {
     "name": "stdout",
     "output_type": "stream",
     "text": [
      "attempting to load configuration file from /data_CMS/cms/wind/InputConfigurations2.0_leading_jets/combined_99_all_inputs.conf\n"
     ]
    }
   ],
   "source": [
    "fig = make_input_plot(\"/data_CMS/cms/wind/InputConfigurations2.0_leading_jets/combined_99_all_inputs.conf\")"
   ]
  },
  {
   "cell_type": "code",
   "execution_count": 13,
   "metadata": {
    "collapsed": false
   },
   "outputs": [],
   "source": [
    "plt.savefig(\"/data_CMS/cms/wind/InputConfigurations2.0_leading_jets/combined_99_inputs_selected.pdf\")"
   ]
  },
  {
   "cell_type": "markdown",
   "metadata": {
    "collapsed": true
   },
   "source": [
    "these are for the input variable selection using only the two leading jets and no PFMET for data / MC pairs"
   ]
  },
  {
   "cell_type": "code",
   "execution_count": 10,
   "metadata": {
    "collapsed": false
   },
   "outputs": [
    {
     "name": "stdout",
     "output_type": "stream",
     "text": [
      "attempting to load configuration file from /data_CMS/cms/wind/InputConfigurations2.0_leading_jets/combined_99_inputs_metfix.conf\n"
     ]
    },
    {
     "ename": "ValueError",
     "evalue": "\n\\mathcal{D}_{\\mathrm{WH-hadr, ZH\\mathrm{-hadr}}\n                                               ^\nExpected {snowflake | accent | symbol | c_over_c | function | group | frac | stackrel | binom | genfrac | sqrt | overline | operatorname} (at char 47), (line:1, col:48)",
     "output_type": "error",
     "traceback": [
      "\u001b[0;31m---------------------------------------------------------------------------\u001b[0m",
      "\u001b[0;31mValueError\u001b[0m                                Traceback (most recent call last)",
      "\u001b[0;32m<ipython-input-10-4144bc126742>\u001b[0m in \u001b[0;36m<module>\u001b[0;34m()\u001b[0m\n\u001b[0;32m----> 1\u001b[0;31m \u001b[0mfig\u001b[0m \u001b[0;34m=\u001b[0m \u001b[0mmake_input_plot\u001b[0m\u001b[0;34m(\u001b[0m\u001b[0;34m\"/data_CMS/cms/wind/InputConfigurations2.0_leading_jets/combined_99_inputs_metfix.conf\"\u001b[0m\u001b[0;34m)\u001b[0m\u001b[0;34m\u001b[0m\u001b[0m\n\u001b[0m",
      "\u001b[0;32m<ipython-input-8-d887548769b8>\u001b[0m in \u001b[0;36mmake_input_plot\u001b[0;34m(input_file)\u001b[0m\n\u001b[1;32m     39\u001b[0m     \u001b[0max\u001b[0m\u001b[0;34m.\u001b[0m\u001b[0myaxis\u001b[0m\u001b[0;34m.\u001b[0m\u001b[0mset_major_locator\u001b[0m\u001b[0;34m(\u001b[0m\u001b[0mticker\u001b[0m\u001b[0;34m.\u001b[0m\u001b[0mMultipleLocator\u001b[0m\u001b[0;34m(\u001b[0m\u001b[0;36m1\u001b[0m\u001b[0;34m)\u001b[0m\u001b[0;34m)\u001b[0m\u001b[0;34m\u001b[0m\u001b[0m\n\u001b[1;32m     40\u001b[0m \u001b[0;34m\u001b[0m\u001b[0m\n\u001b[0;32m---> 41\u001b[0;31m     \u001b[0mplt\u001b[0m\u001b[0;34m.\u001b[0m\u001b[0mtight_layout\u001b[0m\u001b[0;34m(\u001b[0m\u001b[0;34m)\u001b[0m\u001b[0;34m\u001b[0m\u001b[0m\n\u001b[0m\u001b[1;32m     42\u001b[0m \u001b[0;34m\u001b[0m\u001b[0m\n\u001b[1;32m     43\u001b[0m     \u001b[0;32mreturn\u001b[0m \u001b[0mfig\u001b[0m\u001b[0;34m\u001b[0m\u001b[0m\n",
      "\u001b[0;32m/cvmfs/cms.cern.ch/slc6_amd64_gcc630/external/py2-matplotlib/1.5.2-fmblme/lib/python2.7/site-packages/matplotlib/pyplot.pyc\u001b[0m in \u001b[0;36mtight_layout\u001b[0;34m(pad, h_pad, w_pad, rect)\u001b[0m\n\u001b[1;32m   1377\u001b[0m \u001b[0;34m\u001b[0m\u001b[0m\n\u001b[1;32m   1378\u001b[0m     \u001b[0mfig\u001b[0m \u001b[0;34m=\u001b[0m \u001b[0mgcf\u001b[0m\u001b[0;34m(\u001b[0m\u001b[0;34m)\u001b[0m\u001b[0;34m\u001b[0m\u001b[0m\n\u001b[0;32m-> 1379\u001b[0;31m     \u001b[0mfig\u001b[0m\u001b[0;34m.\u001b[0m\u001b[0mtight_layout\u001b[0m\u001b[0;34m(\u001b[0m\u001b[0mpad\u001b[0m\u001b[0;34m=\u001b[0m\u001b[0mpad\u001b[0m\u001b[0;34m,\u001b[0m \u001b[0mh_pad\u001b[0m\u001b[0;34m=\u001b[0m\u001b[0mh_pad\u001b[0m\u001b[0;34m,\u001b[0m \u001b[0mw_pad\u001b[0m\u001b[0;34m=\u001b[0m\u001b[0mw_pad\u001b[0m\u001b[0;34m,\u001b[0m \u001b[0mrect\u001b[0m\u001b[0;34m=\u001b[0m\u001b[0mrect\u001b[0m\u001b[0;34m)\u001b[0m\u001b[0;34m\u001b[0m\u001b[0m\n\u001b[0m\u001b[1;32m   1380\u001b[0m \u001b[0;34m\u001b[0m\u001b[0m\n\u001b[1;32m   1381\u001b[0m \u001b[0;34m\u001b[0m\u001b[0m\n",
      "\u001b[0;32m/cvmfs/cms.cern.ch/slc6_amd64_gcc630/external/py2-matplotlib/1.5.2-fmblme/lib/python2.7/site-packages/matplotlib/figure.pyc\u001b[0m in \u001b[0;36mtight_layout\u001b[0;34m(self, renderer, pad, h_pad, w_pad, rect)\u001b[0m\n\u001b[1;32m   1750\u001b[0m                                          \u001b[0mrenderer\u001b[0m\u001b[0;34m,\u001b[0m\u001b[0;34m\u001b[0m\u001b[0m\n\u001b[1;32m   1751\u001b[0m                                          \u001b[0mpad\u001b[0m\u001b[0;34m=\u001b[0m\u001b[0mpad\u001b[0m\u001b[0;34m,\u001b[0m \u001b[0mh_pad\u001b[0m\u001b[0;34m=\u001b[0m\u001b[0mh_pad\u001b[0m\u001b[0;34m,\u001b[0m \u001b[0mw_pad\u001b[0m\u001b[0;34m=\u001b[0m\u001b[0mw_pad\u001b[0m\u001b[0;34m,\u001b[0m\u001b[0;34m\u001b[0m\u001b[0m\n\u001b[0;32m-> 1752\u001b[0;31m                                          rect=rect)\n\u001b[0m\u001b[1;32m   1753\u001b[0m \u001b[0;34m\u001b[0m\u001b[0m\n\u001b[1;32m   1754\u001b[0m         \u001b[0mself\u001b[0m\u001b[0;34m.\u001b[0m\u001b[0msubplots_adjust\u001b[0m\u001b[0;34m(\u001b[0m\u001b[0;34m**\u001b[0m\u001b[0mkwargs\u001b[0m\u001b[0;34m)\u001b[0m\u001b[0;34m\u001b[0m\u001b[0m\n",
      "\u001b[0;32m/cvmfs/cms.cern.ch/slc6_amd64_gcc630/external/py2-matplotlib/1.5.2-fmblme/lib/python2.7/site-packages/matplotlib/tight_layout.pyc\u001b[0m in \u001b[0;36mget_tight_layout_figure\u001b[0;34m(fig, axes_list, subplotspec_list, renderer, pad, h_pad, w_pad, rect)\u001b[0m\n\u001b[1;32m    347\u001b[0m                                      \u001b[0msubplot_list\u001b[0m\u001b[0;34m=\u001b[0m\u001b[0msubplot_list\u001b[0m\u001b[0;34m,\u001b[0m\u001b[0;34m\u001b[0m\u001b[0m\n\u001b[1;32m    348\u001b[0m                                      \u001b[0max_bbox_list\u001b[0m\u001b[0;34m=\u001b[0m\u001b[0max_bbox_list\u001b[0m\u001b[0;34m,\u001b[0m\u001b[0;34m\u001b[0m\u001b[0m\n\u001b[0;32m--> 349\u001b[0;31m                                      pad=pad, h_pad=h_pad, w_pad=w_pad)\n\u001b[0m\u001b[1;32m    350\u001b[0m \u001b[0;34m\u001b[0m\u001b[0m\n\u001b[1;32m    351\u001b[0m     \u001b[0;32mif\u001b[0m \u001b[0mrect\u001b[0m \u001b[0;32mis\u001b[0m \u001b[0;32mnot\u001b[0m \u001b[0mNone\u001b[0m\u001b[0;34m:\u001b[0m\u001b[0;34m\u001b[0m\u001b[0m\n",
      "\u001b[0;32m/cvmfs/cms.cern.ch/slc6_amd64_gcc630/external/py2-matplotlib/1.5.2-fmblme/lib/python2.7/site-packages/matplotlib/tight_layout.pyc\u001b[0m in \u001b[0;36mauto_adjust_subplotpars\u001b[0;34m(fig, renderer, nrows_ncols, num1num2_list, subplot_list, ax_bbox_list, pad, h_pad, w_pad, rect)\u001b[0m\n\u001b[1;32m    124\u001b[0m                                                \u001b[0max_bbox_list\u001b[0m\u001b[0;34m,\u001b[0m\u001b[0;34m\u001b[0m\u001b[0m\n\u001b[1;32m    125\u001b[0m                                                num1num2_list):\n\u001b[0;32m--> 126\u001b[0;31m         \u001b[0mtight_bbox_raw\u001b[0m \u001b[0;34m=\u001b[0m \u001b[0munion\u001b[0m\u001b[0;34m(\u001b[0m\u001b[0;34m[\u001b[0m\u001b[0max\u001b[0m\u001b[0;34m.\u001b[0m\u001b[0mget_tightbbox\u001b[0m\u001b[0;34m(\u001b[0m\u001b[0mrenderer\u001b[0m\u001b[0;34m)\u001b[0m \u001b[0;32mfor\u001b[0m \u001b[0max\u001b[0m \u001b[0;32min\u001b[0m \u001b[0msubplots\u001b[0m\u001b[0;34m]\u001b[0m\u001b[0;34m)\u001b[0m\u001b[0;34m\u001b[0m\u001b[0m\n\u001b[0m\u001b[1;32m    127\u001b[0m         tight_bbox = TransformedBbox(tight_bbox_raw,\n\u001b[1;32m    128\u001b[0m                                      fig.transFigure.inverted())\n",
      "\u001b[0;32m/cvmfs/cms.cern.ch/slc6_amd64_gcc630/external/py2-matplotlib/1.5.2-fmblme/lib/python2.7/site-packages/matplotlib/axes/_base.pyc\u001b[0m in \u001b[0;36mget_tightbbox\u001b[0;34m(self, renderer, call_axes_locator)\u001b[0m\n\u001b[1;32m   3676\u001b[0m             \u001b[0mbb\u001b[0m\u001b[0;34m.\u001b[0m\u001b[0mappend\u001b[0m\u001b[0;34m(\u001b[0m\u001b[0mbb_xaxis\u001b[0m\u001b[0;34m)\u001b[0m\u001b[0;34m\u001b[0m\u001b[0m\n\u001b[1;32m   3677\u001b[0m \u001b[0;34m\u001b[0m\u001b[0m\n\u001b[0;32m-> 3678\u001b[0;31m         \u001b[0mbb_yaxis\u001b[0m \u001b[0;34m=\u001b[0m \u001b[0mself\u001b[0m\u001b[0;34m.\u001b[0m\u001b[0myaxis\u001b[0m\u001b[0;34m.\u001b[0m\u001b[0mget_tightbbox\u001b[0m\u001b[0;34m(\u001b[0m\u001b[0mrenderer\u001b[0m\u001b[0;34m)\u001b[0m\u001b[0;34m\u001b[0m\u001b[0m\n\u001b[0m\u001b[1;32m   3679\u001b[0m         \u001b[0;32mif\u001b[0m \u001b[0mbb_yaxis\u001b[0m\u001b[0;34m:\u001b[0m\u001b[0;34m\u001b[0m\u001b[0m\n\u001b[1;32m   3680\u001b[0m             \u001b[0mbb\u001b[0m\u001b[0;34m.\u001b[0m\u001b[0mappend\u001b[0m\u001b[0;34m(\u001b[0m\u001b[0mbb_yaxis\u001b[0m\u001b[0;34m)\u001b[0m\u001b[0;34m\u001b[0m\u001b[0m\n",
      "\u001b[0;32m/cvmfs/cms.cern.ch/slc6_amd64_gcc630/external/py2-matplotlib/1.5.2-fmblme/lib/python2.7/site-packages/matplotlib/axis.pyc\u001b[0m in \u001b[0;36mget_tightbbox\u001b[0;34m(self, renderer)\u001b[0m\n\u001b[1;32m   1075\u001b[0m         \u001b[0mticks_to_draw\u001b[0m \u001b[0;34m=\u001b[0m \u001b[0mself\u001b[0m\u001b[0;34m.\u001b[0m\u001b[0m_update_ticks\u001b[0m\u001b[0;34m(\u001b[0m\u001b[0mrenderer\u001b[0m\u001b[0;34m)\u001b[0m\u001b[0;34m\u001b[0m\u001b[0m\n\u001b[1;32m   1076\u001b[0m         ticklabelBoxes, ticklabelBoxes2 = self._get_tick_bboxes(ticks_to_draw,\n\u001b[0;32m-> 1077\u001b[0;31m                                                                 renderer)\n\u001b[0m\u001b[1;32m   1078\u001b[0m \u001b[0;34m\u001b[0m\u001b[0m\n\u001b[1;32m   1079\u001b[0m         \u001b[0mself\u001b[0m\u001b[0;34m.\u001b[0m\u001b[0m_update_label_position\u001b[0m\u001b[0;34m(\u001b[0m\u001b[0mticklabelBoxes\u001b[0m\u001b[0;34m,\u001b[0m \u001b[0mticklabelBoxes2\u001b[0m\u001b[0;34m)\u001b[0m\u001b[0;34m\u001b[0m\u001b[0m\n",
      "\u001b[0;32m/cvmfs/cms.cern.ch/slc6_amd64_gcc630/external/py2-matplotlib/1.5.2-fmblme/lib/python2.7/site-packages/matplotlib/axis.pyc\u001b[0m in \u001b[0;36m_get_tick_bboxes\u001b[0;34m(self, ticks, renderer)\u001b[0m\n\u001b[1;32m   1058\u001b[0m         \u001b[0;32mfor\u001b[0m \u001b[0mtick\u001b[0m \u001b[0;32min\u001b[0m \u001b[0mticks\u001b[0m\u001b[0;34m:\u001b[0m\u001b[0;34m\u001b[0m\u001b[0m\n\u001b[1;32m   1059\u001b[0m             \u001b[0;32mif\u001b[0m \u001b[0mtick\u001b[0m\u001b[0;34m.\u001b[0m\u001b[0mlabel1On\u001b[0m \u001b[0;32mand\u001b[0m \u001b[0mtick\u001b[0m\u001b[0;34m.\u001b[0m\u001b[0mlabel1\u001b[0m\u001b[0;34m.\u001b[0m\u001b[0mget_visible\u001b[0m\u001b[0;34m(\u001b[0m\u001b[0;34m)\u001b[0m\u001b[0;34m:\u001b[0m\u001b[0;34m\u001b[0m\u001b[0m\n\u001b[0;32m-> 1060\u001b[0;31m                 \u001b[0mextent\u001b[0m \u001b[0;34m=\u001b[0m \u001b[0mtick\u001b[0m\u001b[0;34m.\u001b[0m\u001b[0mlabel1\u001b[0m\u001b[0;34m.\u001b[0m\u001b[0mget_window_extent\u001b[0m\u001b[0;34m(\u001b[0m\u001b[0mrenderer\u001b[0m\u001b[0;34m)\u001b[0m\u001b[0;34m\u001b[0m\u001b[0m\n\u001b[0m\u001b[1;32m   1061\u001b[0m                 \u001b[0mticklabelBoxes\u001b[0m\u001b[0;34m.\u001b[0m\u001b[0mappend\u001b[0m\u001b[0;34m(\u001b[0m\u001b[0mextent\u001b[0m\u001b[0;34m)\u001b[0m\u001b[0;34m\u001b[0m\u001b[0m\n\u001b[1;32m   1062\u001b[0m             \u001b[0;32mif\u001b[0m \u001b[0mtick\u001b[0m\u001b[0;34m.\u001b[0m\u001b[0mlabel2On\u001b[0m \u001b[0;32mand\u001b[0m \u001b[0mtick\u001b[0m\u001b[0;34m.\u001b[0m\u001b[0mlabel2\u001b[0m\u001b[0;34m.\u001b[0m\u001b[0mget_visible\u001b[0m\u001b[0;34m(\u001b[0m\u001b[0;34m)\u001b[0m\u001b[0;34m:\u001b[0m\u001b[0;34m\u001b[0m\u001b[0m\n",
      "\u001b[0;32m/cvmfs/cms.cern.ch/slc6_amd64_gcc630/external/py2-matplotlib/1.5.2-fmblme/lib/python2.7/site-packages/matplotlib/text.pyc\u001b[0m in \u001b[0;36mget_window_extent\u001b[0;34m(self, renderer, dpi)\u001b[0m\n\u001b[1;32m    959\u001b[0m             \u001b[0;32mraise\u001b[0m \u001b[0mRuntimeError\u001b[0m\u001b[0;34m(\u001b[0m\u001b[0;34m'Cannot get window extent w/o renderer'\u001b[0m\u001b[0;34m)\u001b[0m\u001b[0;34m\u001b[0m\u001b[0m\n\u001b[1;32m    960\u001b[0m \u001b[0;34m\u001b[0m\u001b[0m\n\u001b[0;32m--> 961\u001b[0;31m         \u001b[0mbbox\u001b[0m\u001b[0;34m,\u001b[0m \u001b[0minfo\u001b[0m\u001b[0;34m,\u001b[0m \u001b[0mdescent\u001b[0m \u001b[0;34m=\u001b[0m \u001b[0mself\u001b[0m\u001b[0;34m.\u001b[0m\u001b[0m_get_layout\u001b[0m\u001b[0;34m(\u001b[0m\u001b[0mself\u001b[0m\u001b[0;34m.\u001b[0m\u001b[0m_renderer\u001b[0m\u001b[0;34m)\u001b[0m\u001b[0;34m\u001b[0m\u001b[0m\n\u001b[0m\u001b[1;32m    962\u001b[0m         \u001b[0mx\u001b[0m\u001b[0;34m,\u001b[0m \u001b[0my\u001b[0m \u001b[0;34m=\u001b[0m \u001b[0mself\u001b[0m\u001b[0;34m.\u001b[0m\u001b[0mget_unitless_position\u001b[0m\u001b[0;34m(\u001b[0m\u001b[0;34m)\u001b[0m\u001b[0;34m\u001b[0m\u001b[0m\n\u001b[1;32m    963\u001b[0m         \u001b[0mx\u001b[0m\u001b[0;34m,\u001b[0m \u001b[0my\u001b[0m \u001b[0;34m=\u001b[0m \u001b[0mself\u001b[0m\u001b[0;34m.\u001b[0m\u001b[0mget_transform\u001b[0m\u001b[0;34m(\u001b[0m\u001b[0;34m)\u001b[0m\u001b[0;34m.\u001b[0m\u001b[0mtransform_point\u001b[0m\u001b[0;34m(\u001b[0m\u001b[0;34m(\u001b[0m\u001b[0mx\u001b[0m\u001b[0;34m,\u001b[0m \u001b[0my\u001b[0m\u001b[0;34m)\u001b[0m\u001b[0;34m)\u001b[0m\u001b[0;34m\u001b[0m\u001b[0m\n",
      "\u001b[0;32m/cvmfs/cms.cern.ch/slc6_amd64_gcc630/external/py2-matplotlib/1.5.2-fmblme/lib/python2.7/site-packages/matplotlib/text.pyc\u001b[0m in \u001b[0;36m_get_layout\u001b[0;34m(self, renderer)\u001b[0m\n\u001b[1;32m    359\u001b[0m                 w, h, d = renderer.get_text_width_height_descent(clean_line,\n\u001b[1;32m    360\u001b[0m                                                         \u001b[0mself\u001b[0m\u001b[0;34m.\u001b[0m\u001b[0m_fontproperties\u001b[0m\u001b[0;34m,\u001b[0m\u001b[0;34m\u001b[0m\u001b[0m\n\u001b[0;32m--> 361\u001b[0;31m                                                         ismath=ismath)\n\u001b[0m\u001b[1;32m    362\u001b[0m             \u001b[0;32melse\u001b[0m\u001b[0;34m:\u001b[0m\u001b[0;34m\u001b[0m\u001b[0m\n\u001b[1;32m    363\u001b[0m                 \u001b[0mw\u001b[0m\u001b[0;34m,\u001b[0m \u001b[0mh\u001b[0m\u001b[0;34m,\u001b[0m \u001b[0md\u001b[0m \u001b[0;34m=\u001b[0m \u001b[0;36m0\u001b[0m\u001b[0;34m,\u001b[0m \u001b[0;36m0\u001b[0m\u001b[0;34m,\u001b[0m \u001b[0;36m0\u001b[0m\u001b[0;34m\u001b[0m\u001b[0m\n",
      "\u001b[0;32m/cvmfs/cms.cern.ch/slc6_amd64_gcc630/external/py2-matplotlib/1.5.2-fmblme/lib/python2.7/site-packages/matplotlib/backends/backend_agg.pyc\u001b[0m in \u001b[0;36mget_text_width_height_descent\u001b[0;34m(self, s, prop, ismath)\u001b[0m\n\u001b[1;32m    232\u001b[0m         \u001b[0;32mif\u001b[0m \u001b[0mismath\u001b[0m\u001b[0;34m:\u001b[0m\u001b[0;34m\u001b[0m\u001b[0m\n\u001b[1;32m    233\u001b[0m             \u001b[0mox\u001b[0m\u001b[0;34m,\u001b[0m \u001b[0moy\u001b[0m\u001b[0;34m,\u001b[0m \u001b[0mwidth\u001b[0m\u001b[0;34m,\u001b[0m \u001b[0mheight\u001b[0m\u001b[0;34m,\u001b[0m \u001b[0mdescent\u001b[0m\u001b[0;34m,\u001b[0m \u001b[0mfonts\u001b[0m\u001b[0;34m,\u001b[0m \u001b[0mused_characters\u001b[0m \u001b[0;34m=\u001b[0m\u001b[0;31m \u001b[0m\u001b[0;31m\\\u001b[0m\u001b[0;34m\u001b[0m\u001b[0m\n\u001b[0;32m--> 234\u001b[0;31m                 \u001b[0mself\u001b[0m\u001b[0;34m.\u001b[0m\u001b[0mmathtext_parser\u001b[0m\u001b[0;34m.\u001b[0m\u001b[0mparse\u001b[0m\u001b[0;34m(\u001b[0m\u001b[0ms\u001b[0m\u001b[0;34m,\u001b[0m \u001b[0mself\u001b[0m\u001b[0;34m.\u001b[0m\u001b[0mdpi\u001b[0m\u001b[0;34m,\u001b[0m \u001b[0mprop\u001b[0m\u001b[0;34m)\u001b[0m\u001b[0;34m\u001b[0m\u001b[0m\n\u001b[0m\u001b[1;32m    235\u001b[0m             \u001b[0;32mreturn\u001b[0m \u001b[0mwidth\u001b[0m\u001b[0;34m,\u001b[0m \u001b[0mheight\u001b[0m\u001b[0;34m,\u001b[0m \u001b[0mdescent\u001b[0m\u001b[0;34m\u001b[0m\u001b[0m\n\u001b[1;32m    236\u001b[0m \u001b[0;34m\u001b[0m\u001b[0m\n",
      "\u001b[0;32m/cvmfs/cms.cern.ch/slc6_amd64_gcc630/external/py2-matplotlib/1.5.2-fmblme/lib/python2.7/site-packages/matplotlib/mathtext.pyc\u001b[0m in \u001b[0;36mparse\u001b[0;34m(self, s, dpi, prop)\u001b[0m\n\u001b[1;32m   3124\u001b[0m             \u001b[0mself\u001b[0m\u001b[0;34m.\u001b[0m\u001b[0m__class__\u001b[0m\u001b[0;34m.\u001b[0m\u001b[0m_parser\u001b[0m \u001b[0;34m=\u001b[0m \u001b[0mParser\u001b[0m\u001b[0;34m(\u001b[0m\u001b[0;34m)\u001b[0m\u001b[0;34m\u001b[0m\u001b[0m\n\u001b[1;32m   3125\u001b[0m \u001b[0;34m\u001b[0m\u001b[0m\n\u001b[0;32m-> 3126\u001b[0;31m         \u001b[0mbox\u001b[0m \u001b[0;34m=\u001b[0m \u001b[0mself\u001b[0m\u001b[0;34m.\u001b[0m\u001b[0m_parser\u001b[0m\u001b[0;34m.\u001b[0m\u001b[0mparse\u001b[0m\u001b[0;34m(\u001b[0m\u001b[0ms\u001b[0m\u001b[0;34m,\u001b[0m \u001b[0mfont_output\u001b[0m\u001b[0;34m,\u001b[0m \u001b[0mfontsize\u001b[0m\u001b[0;34m,\u001b[0m \u001b[0mdpi\u001b[0m\u001b[0;34m)\u001b[0m\u001b[0;34m\u001b[0m\u001b[0m\n\u001b[0m\u001b[1;32m   3127\u001b[0m         \u001b[0mfont_output\u001b[0m\u001b[0;34m.\u001b[0m\u001b[0mset_canvas_size\u001b[0m\u001b[0;34m(\u001b[0m\u001b[0mbox\u001b[0m\u001b[0;34m.\u001b[0m\u001b[0mwidth\u001b[0m\u001b[0;34m,\u001b[0m \u001b[0mbox\u001b[0m\u001b[0;34m.\u001b[0m\u001b[0mheight\u001b[0m\u001b[0;34m,\u001b[0m \u001b[0mbox\u001b[0m\u001b[0;34m.\u001b[0m\u001b[0mdepth\u001b[0m\u001b[0;34m)\u001b[0m\u001b[0;34m\u001b[0m\u001b[0m\n\u001b[1;32m   3128\u001b[0m         \u001b[0mresult\u001b[0m \u001b[0;34m=\u001b[0m \u001b[0mfont_output\u001b[0m\u001b[0;34m.\u001b[0m\u001b[0mget_results\u001b[0m\u001b[0;34m(\u001b[0m\u001b[0mbox\u001b[0m\u001b[0;34m)\u001b[0m\u001b[0;34m\u001b[0m\u001b[0m\n",
      "\u001b[0;32m/cvmfs/cms.cern.ch/slc6_amd64_gcc630/external/py2-matplotlib/1.5.2-fmblme/lib/python2.7/site-packages/matplotlib/mathtext.pyc\u001b[0m in \u001b[0;36mparse\u001b[0;34m(self, s, fonts_object, fontsize, dpi)\u001b[0m\n\u001b[1;32m   2372\u001b[0m                         \u001b[0merr\u001b[0m\u001b[0;34m.\u001b[0m\u001b[0mline\u001b[0m\u001b[0;34m,\u001b[0m\u001b[0;34m\u001b[0m\u001b[0m\n\u001b[1;32m   2373\u001b[0m                         \u001b[0;34m\" \"\u001b[0m \u001b[0;34m*\u001b[0m \u001b[0;34m(\u001b[0m\u001b[0merr\u001b[0m\u001b[0;34m.\u001b[0m\u001b[0mcolumn\u001b[0m \u001b[0;34m-\u001b[0m \u001b[0;36m1\u001b[0m\u001b[0;34m)\u001b[0m \u001b[0;34m+\u001b[0m \u001b[0;34m\"^\"\u001b[0m\u001b[0;34m,\u001b[0m\u001b[0;34m\u001b[0m\u001b[0m\n\u001b[0;32m-> 2374\u001b[0;31m                         six.text_type(err)]))\n\u001b[0m\u001b[1;32m   2375\u001b[0m         \u001b[0mself\u001b[0m\u001b[0;34m.\u001b[0m\u001b[0m_state_stack\u001b[0m \u001b[0;34m=\u001b[0m \u001b[0mNone\u001b[0m\u001b[0;34m\u001b[0m\u001b[0m\n\u001b[1;32m   2376\u001b[0m         \u001b[0mself\u001b[0m\u001b[0;34m.\u001b[0m\u001b[0m_em_width_cache\u001b[0m \u001b[0;34m=\u001b[0m \u001b[0;34m{\u001b[0m\u001b[0;34m}\u001b[0m\u001b[0;34m\u001b[0m\u001b[0m\n",
      "\u001b[0;31mValueError\u001b[0m: \n\\mathcal{D}_{\\mathrm{WH-hadr, ZH\\mathrm{-hadr}}\n                                               ^\nExpected {snowflake | accent | symbol | c_over_c | function | group | frac | stackrel | binom | genfrac | sqrt | overline | operatorname} (at char 47), (line:1, col:48)"
     ]
    }
   ],
   "source": [
    "fig = make_input_plot(\"/data_CMS/cms/wind/InputConfigurations2.0_leading_jets/combined_99_inputs_metfix.conf\")"
   ]
  },
  {
   "cell_type": "code",
   "execution_count": null,
   "metadata": {
    "collapsed": false
   },
   "outputs": [],
   "source": [
    "plt.savefig(\"/data_CMS/cms/wind/InputConfigurations2.0_leading_jets/combined_99_inputs_selected_metfix.pdf\")"
   ]
  },
  {
   "cell_type": "code",
   "execution_count": 34,
   "metadata": {
    "collapsed": false
   },
   "outputs": [
    {
     "name": "stdout",
     "output_type": "stream",
     "text": [
      "attempting to load configuration file from /data_CMS/cms/wind/InputConfigurations2.0_leading_jets/combined_99_all_inputs_metfix.conf\n"
     ]
    }
   ],
   "source": [
    "fig = make_input_plot(\"/data_CMS/cms/wind/InputConfigurations2.0_leading_jets/combined_99_all_inputs_metfix.conf\")"
   ]
  },
  {
   "cell_type": "code",
   "execution_count": 35,
   "metadata": {
    "collapsed": false
   },
   "outputs": [],
   "source": [
    "plt.savefig(\"/data_CMS/cms/wind/InputConfigurations2.0_leading_jets/combined_99_all_inputs_selected_metfix.pdf\")"
   ]
  },
  {
   "cell_type": "markdown",
   "metadata": {
    "collapsed": true
   },
   "source": [
    "Cumulative selections"
   ]
  },
  {
   "cell_type": "code",
   "execution_count": 10,
   "metadata": {
    "collapsed": false
   },
   "outputs": [
    {
     "name": "stdout",
     "output_type": "stream",
     "text": [
      "attempting to load configuration file from /data_CMS/cms/wind/InputConfigurations2.0_cumulative/cumulative_80_inputs.conf\n"
     ]
    }
   ],
   "source": [
    "fig = make_input_plot(\"/data_CMS/cms/wind/InputConfigurations2.0_cumulative/cumulative_80_inputs.conf\")\n",
    "plt.savefig(\"/data_CMS/cms/wind/InputConfigurations2.0_cumulative/cumulative_80_inputs.pdf\")"
   ]
  },
  {
   "cell_type": "code",
   "execution_count": 11,
   "metadata": {
    "collapsed": false
   },
   "outputs": [
    {
     "name": "stdout",
     "output_type": "stream",
     "text": [
      "attempting to load configuration file from /data_CMS/cms/wind/InputConfigurations2.0_cumulative/cumulative_85_inputs.conf\n"
     ]
    }
   ],
   "source": [
    "fig = make_input_plot(\"/data_CMS/cms/wind/InputConfigurations2.0_cumulative/cumulative_85_inputs.conf\")\n",
    "plt.savefig(\"/data_CMS/cms/wind/InputConfigurations2.0_cumulative/cumulative_85_inputs.pdf\")"
   ]
  },
  {
   "cell_type": "code",
   "execution_count": 10,
   "metadata": {
    "collapsed": false
   },
   "outputs": [
    {
     "name": "stdout",
     "output_type": "stream",
     "text": [
      "attempting to load configuration file from /data_CMS/cms/wind/InputConfigurations2.0_cumulative/cumulative_90_inputs.conf\n"
     ]
    }
   ],
   "source": [
    "fig = make_input_plot(\"/data_CMS/cms/wind/InputConfigurations2.0_cumulative/cumulative_90_inputs.conf\")\n",
    "plt.savefig(\"/data_CMS/cms/wind/InputConfigurations2.0_cumulative/cumulative_90_inputs.pdf\")"
   ]
  },
  {
   "cell_type": "code",
   "execution_count": 11,
   "metadata": {
    "collapsed": false
   },
   "outputs": [
    {
     "name": "stdout",
     "output_type": "stream",
     "text": [
      "attempting to load configuration file from /data_CMS/cms/wind/InputConfigurations2.0_cumulative/cumulative_95_inputs.conf\n"
     ]
    }
   ],
   "source": [
    "fig = make_input_plot(\"/data_CMS/cms/wind/InputConfigurations2.0_cumulative/cumulative_95_inputs.conf\")\n",
    "plt.savefig(\"/data_CMS/cms/wind/InputConfigurations2.0_cumulative/cumulative_95_inputs.pdf\")"
   ]
  },
  {
   "cell_type": "code",
   "execution_count": 12,
   "metadata": {
    "collapsed": false
   },
   "outputs": [
    {
     "name": "stdout",
     "output_type": "stream",
     "text": [
      "attempting to load configuration file from /data_CMS/cms/wind/InputConfigurations2.0_cumulative/cumulative_99_inputs.conf\n"
     ]
    }
   ],
   "source": [
    "fig = make_input_plot(\"/data_CMS/cms/wind/InputConfigurations2.0_cumulative/cumulative_99_inputs.conf\")\n",
    "plt.savefig(\"/data_CMS/cms/wind/InputConfigurations2.0_cumulative/cumulative_99_inputs.pdf\")"
   ]
  },
  {
   "cell_type": "code",
   "execution_count": 10,
   "metadata": {
    "collapsed": false
   },
   "outputs": [
    {
     "name": "stdout",
     "output_type": "stream",
     "text": [
      "attempting to load configuration file from /data_CMS/cms/wind/InputConfigurations2.0_cumulative/cumulative_97_inputs.conf\n"
     ]
    }
   ],
   "source": [
    "fig = make_input_plot(\"/data_CMS/cms/wind/InputConfigurations2.0_cumulative/cumulative_97_inputs.conf\")\n",
    "plt.savefig(\"/data_CMS/cms/wind/InputConfigurations2.0_cumulative/cumulative_97_inputs.pdf\")"
   ]
  },
  {
   "cell_type": "code",
   "execution_count": null,
   "metadata": {
    "collapsed": true
   },
   "outputs": [],
   "source": []
  }
 ],
 "metadata": {
  "kernelspec": {
   "display_name": "Python 2",
   "language": "python",
   "name": "python2"
  },
  "language_info": {
   "codemirror_mode": {
    "name": "ipython",
    "version": 2
   },
   "file_extension": ".py",
   "mimetype": "text/x-python",
   "name": "python",
   "nbconvert_exporter": "python",
   "pygments_lexer": "ipython2",
   "version": "2.7.11"
  }
 },
 "nbformat": 4,
 "nbformat_minor": 2
}
