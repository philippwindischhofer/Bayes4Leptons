{
 "cells": [
  {
   "cell_type": "code",
   "execution_count": 1,
   "metadata": {
    "collapsed": false
   },
   "outputs": [
    {
     "name": "stdout",
     "output_type": "stream",
     "text": [
      "Welcome to JupyROOT 6.10/09\n"
     ]
    }
   ],
   "source": [
    "import ROOT\n",
    "import matplotlib.pyplot as plt\n",
    "import numpy as np"
   ]
  },
  {
   "cell_type": "code",
   "execution_count": 25,
   "metadata": {
    "collapsed": true
   },
   "outputs": [],
   "source": [
    "def root_matshow(data, x_ticklabels, y_ticklabels, x_axislabel, y_axislabel, outfile):\n",
    "    c = ROOT.TCanvas()\n",
    "    \n",
    "    rows = np.shape(data)[0]\n",
    "    cols = np.shape(data)[1]\n",
    "    \n",
    "    hist = ROOT.TH2F(\"matshow\", \"matshow\", rows, -0.5, rows - 0.5, cols, 0, cols - 0.5)\n",
    "    ROOT.gStyle.SetOptStat(0)\n",
    "    \n",
    "    for row in range(rows):\n",
    "        for col in range(cols):\n",
    "            hist.Fill(row, col, data[row, col])\n",
    "            \n",
    "    # do the axis labels\n",
    "    hist.GetXaxis().SetLabelOffset(100)\n",
    "    hist.GetYaxis().SetLabelOffset(100)\n",
    "            \n",
    "    c.cd()\n",
    "    hist.Draw(\"colz\")\n",
    "    \n",
    "    c.SaveAs(outfile)"
   ]
  },
  {
   "cell_type": "code",
   "execution_count": 26,
   "metadata": {
    "collapsed": true
   },
   "outputs": [],
   "source": [
    "testdata = np.identity(3)"
   ]
  },
  {
   "cell_type": "code",
   "execution_count": null,
   "metadata": {
    "collapsed": true
   },
   "outputs": [],
   "source": [
    "x_ticklabels = "
   ]
  },
  {
   "cell_type": "code",
   "execution_count": 27,
   "metadata": {
    "collapsed": false
   },
   "outputs": [
    {
     "ename": "TypeError",
     "evalue": "root_matshow() takes exactly 6 arguments (2 given)",
     "output_type": "error",
     "traceback": [
      "\u001b[0;31m\u001b[0m",
      "\u001b[0;31mTypeError\u001b[0mTraceback (most recent call last)",
      "\u001b[0;32m<ipython-input-27-ac0a019c4004>\u001b[0m in \u001b[0;36m<module>\u001b[0;34m()\u001b[0m\n\u001b[0;32m----> 1\u001b[0;31m \u001b[0mcanv\u001b[0m \u001b[0;34m=\u001b[0m \u001b[0mroot_matshow\u001b[0m\u001b[0;34m(\u001b[0m\u001b[0mtestdata\u001b[0m\u001b[0;34m,\u001b[0m \u001b[0;34m\"roottest.pdf\"\u001b[0m\u001b[0;34m)\u001b[0m\u001b[0;34m\u001b[0m\u001b[0m\n\u001b[0m",
      "\u001b[0;31mTypeError\u001b[0m: root_matshow() takes exactly 6 arguments (2 given)"
     ]
    }
   ],
   "source": [
    "canv = root_matshow(testdata,  \"roottest.pdf\")"
   ]
  },
  {
   "cell_type": "code",
   "execution_count": null,
   "metadata": {
    "collapsed": true
   },
   "outputs": [],
   "source": []
  }
 ],
 "metadata": {
  "kernelspec": {
   "display_name": "Python 2",
   "language": "python",
   "name": "python2"
  },
  "language_info": {
   "codemirror_mode": {
    "name": "ipython",
    "version": 2
   },
   "file_extension": ".py",
   "mimetype": "text/x-python",
   "name": "python",
   "nbconvert_exporter": "python",
   "pygments_lexer": "ipython2",
   "version": "2.7.11"
  }
 },
 "nbformat": 4,
 "nbformat_minor": 2
}
