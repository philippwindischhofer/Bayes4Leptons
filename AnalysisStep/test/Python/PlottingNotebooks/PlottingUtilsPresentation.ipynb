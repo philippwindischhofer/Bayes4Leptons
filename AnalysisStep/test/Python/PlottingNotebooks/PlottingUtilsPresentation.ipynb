{
 "cells": [
  {
   "cell_type": "code",
   "execution_count": 2,
   "metadata": {
    "collapsed": true
   },
   "outputs": [],
   "source": [
    "# can plot 2d histograms of arbitrary variables stored in the tree"
   ]
  },
  {
   "cell_type": "code",
   "execution_count": 3,
   "metadata": {
    "collapsed": false
   },
   "outputs": [],
   "source": [
    "import sys\n",
    "sys.path.insert(0, '/home/llr/cms/wind/cmssw/CMSSW_9_4_2/src/ZZAnalysis/AnalysisStep/test/Python/')"
   ]
  },
  {
   "cell_type": "code",
   "execution_count": 4,
   "metadata": {
    "collapsed": false
   },
   "outputs": [
    {
     "name": "stdout",
     "output_type": "stream",
     "text": [
      "Welcome to JupyROOT 6.10/09\n"
     ]
    }
   ],
   "source": [
    "from trainlib.FileCollection import FileCollection\n",
    "import trainlib.cuts as cuts\n",
    "from trainlib.utils import read_data\n",
    "from trainlib.config import Config\n",
    "import matplotlib.pyplot as plt\n",
    "from matplotlib.colors import LogNorm\n",
    "import re\n",
    "import pandas as pd\n",
    "import numpy as np"
   ]
  },
  {
   "cell_type": "code",
   "execution_count": 5,
   "metadata": {
    "collapsed": true
   },
   "outputs": [],
   "source": [
    "def extract_column(df, colstring):\n",
    "    if '[' in colstring and ']' in colstring:\n",
    "        col, sorted_col_order, _ = re.split('[\\[\\]]', colstring)\n",
    "        sorted_col, order = re.split('\\|', sorted_col_order)\n",
    "        cf = extract_order_filtered(df, sorted_col, [col], int(order))\n",
    "    else:\n",
    "        cf = df[[colstring]]\n",
    "    return cf"
   ]
  },
  {
   "cell_type": "code",
   "execution_count": 6,
   "metadata": {
    "collapsed": true
   },
   "outputs": [],
   "source": [
    "def extract_order_filtered(df, sorted_column, columns, order):\n",
    "    extracted_raw = extract_order(df, sorted_column, columns, order)\n",
    "\n",
    "    if any(\"Jet\" in col for col in extracted_raw.columns):\n",
    "        # apply the jet-pt cut\n",
    "        mask_column = extract_order(df, \"JetPt\", [\"JetPt\"], order)\n",
    "        mask = mask_column < 30.0\n",
    "        extracted_raw[mask.as_matrix()] = 0.0\n",
    "\n",
    "    return extracted_raw"
   ]
  },
  {
   "cell_type": "code",
   "execution_count": 7,
   "metadata": {
    "collapsed": true
   },
   "outputs": [],
   "source": [
    "def extract_order(df, sorted_column, columns, order):\n",
    "    def get_index(row, order, sorted_column):\n",
    "        sorted_column = row[sorted_column]\n",
    "        if order >= len(sorted_column):\n",
    "            return -1\n",
    "        else:\n",
    "            return np.flipud(np.argsort(sorted_column))[order]\n",
    "\n",
    "    index_column = pd.DataFrame(df.transform(lambda row: get_index(row, order, sorted_column), axis = 1, raw = True))\n",
    "    index_column.columns = [\"index\"]\n",
    "    df_temp = pd.concat([index_column, df], axis = 1)\n",
    "\n",
    "    def get_element(row, column_name):\n",
    "        if row[\"index\"] == -1:\n",
    "            return 0\n",
    "        else:\n",
    "            return row[column_name][row[\"index\"]]\n",
    "\n",
    "    extracted_cols = pd.DataFrame()\n",
    "    for column in columns:\n",
    "        extracted_col = pd.DataFrame(df_temp.transform(lambda row: get_element(row, column), axis = 1, raw = True))\n",
    "        extracted_col.columns = [column + \"_\" + str(order)]\n",
    "        extracted_cols = pd.concat([extracted_cols, extracted_col], axis = 1)\n",
    "\n",
    "    return extracted_cols"
   ]
  },
  {
   "cell_type": "code",
   "execution_count": 8,
   "metadata": {
    "collapsed": false
   },
   "outputs": [],
   "source": [
    "def plot_2d_histogram(df, x_var, y_var, x_range, y_range, x_label, y_label, log_scale = True):\n",
    "    x_data = extract_column(df, x_var).as_matrix().flatten()\n",
    "    y_data = extract_column(df, y_var).as_matrix().flatten()\n",
    "    \n",
    "    print str(np.corrcoef(x_data, y_data))\n",
    "    \n",
    "    x_edges = np.linspace(x_range[0], x_range[1], x_range[2])\n",
    "    y_edges = np.linspace(y_range[0], y_range[1], y_range[2])\n",
    "    \n",
    "    weights = np.full(len(x_data), 1.0 / len(x_data))\n",
    "    \n",
    "    H, x_edges, y_edges = np.histogram2d(x_data, y_data, bins = (x_edges, y_edges), weights = weights)\n",
    "    \n",
    "    return plot_2d_raw(H.transpose(), x_edges, y_edges, x_label, y_label, log_scale = log_scale), H"
   ]
  },
  {
   "cell_type": "code",
   "execution_count": 9,
   "metadata": {
    "collapsed": false
   },
   "outputs": [],
   "source": [
    "def plot_2d_histogram_relative(df, x_var, y_var, x_range, y_range, x_label, y_label, log_scale = True):\n",
    "    x_data = extract_column(df, x_var).as_matrix().flatten()\n",
    "    y_data = extract_column(df, y_var).as_matrix().flatten()\n",
    "    \n",
    "    y_data = y_data / x_data\n",
    "    \n",
    "    x_edges = np.linspace(x_range[0], x_range[1], x_range[2])\n",
    "    y_edges = np.linspace(y_range[0], y_range[1], y_range[2])\n",
    "    \n",
    "    weights = np.full(len(x_data), 1.0 / len(x_data))\n",
    "    \n",
    "    H, x_edges, y_edges = np.histogram2d(x_data, y_data, bins = (x_edges, y_edges), weights = weights)\n",
    "    \n",
    "    return plot_2d_raw(H.transpose(), x_edges, y_edges, x_label, y_label, log_scale = log_scale), H"
   ]
  },
  {
   "cell_type": "code",
   "execution_count": 68,
   "metadata": {
    "collapsed": true
   },
   "outputs": [],
   "source": [
    "def plot_1d_histogram(dfs, x_vars, data_labels, x_range, x_label, y_label = \"\", log_scale = True):\n",
    "    \n",
    "    fig = plt.figure(figsize = (8,5))\n",
    "    ax = fig.add_subplot(111)\n",
    "    \n",
    "    for df, x_var, data_label in zip(dfs, x_vars, data_labels):\n",
    "        x_data = extract_column(df, x_var).as_matrix().flatten()\n",
    "\n",
    "        x_edges = np.linspace(x_range[0], x_range[1], x_range[2])\n",
    "        bin_width = (x_range[1] - x_range[0]) / (x_range[2] - 1)\n",
    "        \n",
    "        MC_weights = extract_column(df, \"training_weight\").as_matrix().flatten()\n",
    "        total_MC_weights = sum(MC_weights)\n",
    "        \n",
    "        weights = np.full(len(x_data), 1.0 / (bin_width * total_MC_weights))\n",
    "        weights = np.multiply(weights, MC_weights)\n",
    "                                \n",
    "        H, x_edges = np.histogram(x_data, bins = x_edges, weights = weights)\n",
    "\n",
    "        cax = ax.hist(x_data, bins = x_edges, log = log_scale, weights = weights, histtype = 'step', label = data_label)\n",
    "        ax.set_xlabel(x_label, fontsize = 15)\n",
    "        ax.set_ylabel(y_label, fontsize = 12)\n",
    "        #ax.set_xlim([x_range[0], x_range[1] - 0.01])\n",
    "        \n",
    "    ax.legend(loc = 'lower left')\n",
    "        \n",
    "    return fig, H"
   ]
  },
  {
   "cell_type": "code",
   "execution_count": 11,
   "metadata": {
    "collapsed": true
   },
   "outputs": [],
   "source": [
    "def plot_2d_raw(H, x_edges, y_edges, x_label, y_label, log_scale = True):\n",
    "    fig = plt.figure(figsize=(5,5))\n",
    "    ax = fig.add_subplot(111)\n",
    "        \n",
    "    if log_scale:\n",
    "        cax = ax.imshow(H, interpolation = \"nearest\", cmap = \"hot\", origin = \"low\", aspect = 'auto',\n",
    "                        extent=[x_edges[0], x_edges[-1], y_edges[0], y_edges[-1]],\n",
    "                       norm = LogNorm(vmin = 0.0001, vmax = 1))\n",
    "    else:\n",
    "        cax = ax.imshow(H, interpolation = \"nearest\", cmap = \"hot\", origin = \"low\", aspect = 'auto',\n",
    "                extent=[x_edges[0], x_edges[-1], y_edges[0], y_edges[-1]])\n",
    "    \n",
    "    ax.set_xlabel(x_label, fontsize = 15)\n",
    "    ax.set_ylabel(y_label, fontsize = 15)\n",
    "        \n",
    "    return fig"
   ]
  },
  {
   "cell_type": "code",
   "execution_count": 12,
   "metadata": {
    "collapsed": true
   },
   "outputs": [],
   "source": [
    "j2cut = lambda row: row[\"nCleanedJetsPt30\"] >= 2"
   ]
  },
  {
   "cell_type": "code",
   "execution_count": 13,
   "metadata": {
    "collapsed": true
   },
   "outputs": [],
   "source": [
    "j0cut = lambda row: row[\"nCleanedJetsPt30\"] == 0"
   ]
  },
  {
   "cell_type": "code",
   "execution_count": 14,
   "metadata": {
    "collapsed": true
   },
   "outputs": [],
   "source": [
    "j1cut = lambda row: row[\"nCleanedJetsPt30\"] == 1"
   ]
  },
  {
   "cell_type": "code",
   "execution_count": 15,
   "metadata": {
    "collapsed": true
   },
   "outputs": [],
   "source": [
    "whhadr_2jcut = lambda row: cuts.WHhadr_cut(row) and j2cut(row)"
   ]
  },
  {
   "cell_type": "code",
   "execution_count": 16,
   "metadata": {
    "collapsed": true
   },
   "outputs": [],
   "source": [
    "zhhadr_2jcut = lambda row: cuts.ZHhadr_cut(row) and j2cut(row)"
   ]
  },
  {
   "cell_type": "code",
   "execution_count": 17,
   "metadata": {
    "collapsed": true
   },
   "outputs": [],
   "source": [
    "zhlept_2jcut = lambda row: cuts.ZHlept_cut(row) and j2cut(row)"
   ]
  },
  {
   "cell_type": "code",
   "execution_count": 18,
   "metadata": {
    "collapsed": true
   },
   "outputs": [],
   "source": [
    "zhlept_mass_cut = lambda row: cuts.ZHlept_cut(row) and cuts.mZZ_cut(row)\n",
    "whlept_mass_cut = lambda row: cuts.WHlept_cut(row) and cuts.mZZ_cut(row)"
   ]
  },
  {
   "cell_type": "code",
   "execution_count": 19,
   "metadata": {
    "collapsed": true
   },
   "outputs": [],
   "source": [
    "local_mass_cut = lambda row: row[\"ZZMass\"] < 140 and row[\"ZZMass\"] > 105"
   ]
  },
  {
   "cell_type": "code",
   "execution_count": 20,
   "metadata": {
    "collapsed": false
   },
   "outputs": [],
   "source": [
    "input_stream_VBF_0j = {\"/data_CMS/cms/wind/CJLST_NTuples_prepared/VBFH125/ZZ4lAnalysis.root\" : j0cut}\n",
    "input_stream_ggH_0j = {\"/data_CMS/cms/wind/CJLST_NTuples_prepared/ggH125/ZZ4lAnalysis.root\" : j0cut}\n",
    "input_stream_VBF_1j = {\"/data_CMS/cms/wind/CJLST_NTuples_prepared/VBFH125/ZZ4lAnalysis.root\" : j1cut}\n",
    "input_stream_ggH_1j = {\"/data_CMS/cms/wind/CJLST_NTuples_prepared/ggH125/ZZ4lAnalysis.root\" : j1cut}\n",
    "input_stream_VBF_2j = {\"/data_CMS/cms/wind/CJLST_NTuples_prepared/VBFH125/ZZ4lAnalysis.root\" : j2cut}\n",
    "input_stream_ggH_2j = {\"/data_CMS/cms/wind/CJLST_NTuples_prepared/ggH125/ZZ4lAnalysis.root\" : j2cut}\n",
    "\n",
    "input_stream_VBF = {\"/data_CMS/cms/wind/CJLST_NTuples_prepared/VBFH125/ZZ4lAnalysis.root\" : cuts.no_cut}\n",
    "input_stream_ggH = {\"/data_CMS/cms/wind/CJLST_NTuples_prepared/ggH125/ZZ4lAnalysis.root\" : cuts.no_cut}\n",
    "\n",
    "input_stream_ttHl = {\"/data_CMS/cms/wind/CJLST_NTuples_prepared/ttH125/ZZ4lAnalysis.root\": cuts.ttHlept_cut}\n",
    "input_stream_ttHh = {\"/data_CMS/cms/wind/CJLST_NTuples_prepared/ttH125/ZZ4lAnalysis.root\": cuts.ttHhadr_cut}\n",
    "\n",
    "input_stream_bbH = {\"/data_CMS/cms/wind/CJLST_NTuples_prepared/bbH125/ZZ4lAnalysis.root\": cuts.no_cut}\n",
    "input_stream_bbH_0j = {\"/data_CMS/cms/wind/CJLST_NTuples_prepared/bbH125/ZZ4lAnalysis.root\": j0cut}\n",
    "input_stream_bbH_1j = {\"/data_CMS/cms/wind/CJLST_NTuples_prepared/bbH125/ZZ4lAnalysis.root\": j1cut}\n",
    "input_stream_bbH_2j = {\"/data_CMS/cms/wind/CJLST_NTuples_prepared/bbH125/ZZ4lAnalysis.root\": j2cut}"
   ]
  },
  {
   "cell_type": "code",
   "execution_count": 21,
   "metadata": {
    "collapsed": false
   },
   "outputs": [
    {
     "name": "stdout",
     "output_type": "stream",
     "text": [
      "skimming /data_CMS/cms/wind/CJLST_NTuples_prepared/ttH125/ZZ4lAnalysis.root\n",
      "collection set up: 1 files, 39490 entries in total, 39490 of which will be used\n"
     ]
    }
   ],
   "source": [
    "fcoll = FileCollection(input_stream_ttHl, 0.0, 1.0)\n",
    "plot_data_ttHl = read_data(fcoll, 0, 39000, branches = Config.branches)"
   ]
  },
  {
   "cell_type": "code",
   "execution_count": 22,
   "metadata": {
    "collapsed": false
   },
   "outputs": [
    {
     "name": "stdout",
     "output_type": "stream",
     "text": [
      "skimming /data_CMS/cms/wind/CJLST_NTuples_prepared/ttH125/ZZ4lAnalysis.root\n",
      "collection set up: 1 files, 39490 entries in total, 39490 of which will be used\n"
     ]
    }
   ],
   "source": [
    "fcoll = FileCollection(input_stream_ttHh, 0.0, 1.0)\n",
    "plot_data_ttHh = read_data(fcoll, 0, 39000, branches = Config.branches)"
   ]
  },
  {
   "cell_type": "code",
   "execution_count": 23,
   "metadata": {
    "collapsed": false
   },
   "outputs": [
    {
     "name": "stdout",
     "output_type": "stream",
     "text": [
      "skimming /data_CMS/cms/wind/CJLST_NTuples_prepared/VBFH125/ZZ4lAnalysis.root\n",
      "collection set up: 1 files, 62320 entries in total, 62320 of which will be used\n"
     ]
    }
   ],
   "source": [
    "fcoll = FileCollection(input_stream_VBF_0j, 0.0, 1.0)\n",
    "plot_data_VBF_0j = read_data(fcoll, 0, 15000, branches = Config.branches)"
   ]
  },
  {
   "cell_type": "code",
   "execution_count": 24,
   "metadata": {
    "collapsed": false
   },
   "outputs": [
    {
     "name": "stdout",
     "output_type": "stream",
     "text": [
      "skimming /data_CMS/cms/wind/CJLST_NTuples_prepared/ggH125/ZZ4lAnalysis.root\n",
      "collection set up: 1 files, 110483 entries in total, 110483 of which will be used\n"
     ]
    }
   ],
   "source": [
    "fcoll = FileCollection(input_stream_ggH_0j, 0.0, 1.0)\n",
    "plot_data_ggH_0j = read_data(fcoll, 0, 15000, branches = Config.branches)"
   ]
  },
  {
   "cell_type": "code",
   "execution_count": 25,
   "metadata": {
    "collapsed": false
   },
   "outputs": [
    {
     "name": "stdout",
     "output_type": "stream",
     "text": [
      "skimming /data_CMS/cms/wind/CJLST_NTuples_prepared/VBFH125/ZZ4lAnalysis.root\n",
      "collection set up: 1 files, 62320 entries in total, 62320 of which will be used\n"
     ]
    }
   ],
   "source": [
    "fcoll = FileCollection(input_stream_VBF_1j, 0.0, 1.0)\n",
    "plot_data_VBF_1j = read_data(fcoll, 0, 62000, branches = Config.branches)"
   ]
  },
  {
   "cell_type": "code",
   "execution_count": 26,
   "metadata": {
    "collapsed": false
   },
   "outputs": [
    {
     "name": "stdout",
     "output_type": "stream",
     "text": [
      "skimming /data_CMS/cms/wind/CJLST_NTuples_prepared/ggH125/ZZ4lAnalysis.root\n",
      "collection set up: 1 files, 110483 entries in total, 110483 of which will be used\n"
     ]
    }
   ],
   "source": [
    "fcoll = FileCollection(input_stream_ggH_1j, 0.0, 1.0)\n",
    "plot_data_ggH_1j = read_data(fcoll, 0, 110000, branches = Config.branches)"
   ]
  },
  {
   "cell_type": "code",
   "execution_count": 27,
   "metadata": {
    "collapsed": false
   },
   "outputs": [
    {
     "name": "stdout",
     "output_type": "stream",
     "text": [
      "skimming /data_CMS/cms/wind/CJLST_NTuples_prepared/VBFH125/ZZ4lAnalysis.root\n",
      "collection set up: 1 files, 62320 entries in total, 62320 of which will be used\n"
     ]
    }
   ],
   "source": [
    "fcoll = FileCollection(input_stream_VBF_2j, 0.0, 1.0)\n",
    "plot_data_VBF_2j = read_data(fcoll, 0, 62000, branches = Config.branches)"
   ]
  },
  {
   "cell_type": "code",
   "execution_count": 28,
   "metadata": {
    "collapsed": false
   },
   "outputs": [
    {
     "name": "stdout",
     "output_type": "stream",
     "text": [
      "skimming /data_CMS/cms/wind/CJLST_NTuples_prepared/ggH125/ZZ4lAnalysis.root\n",
      "collection set up: 1 files, 110483 entries in total, 110483 of which will be used\n"
     ]
    }
   ],
   "source": [
    "fcoll = FileCollection(input_stream_ggH_2j, 0.0, 1.0)\n",
    "plot_data_ggH_2j = read_data(fcoll, 0, 110000, branches = Config.branches)"
   ]
  },
  {
   "cell_type": "code",
   "execution_count": 29,
   "metadata": {
    "collapsed": false
   },
   "outputs": [
    {
     "name": "stdout",
     "output_type": "stream",
     "text": [
      "skimming /data_CMS/cms/wind/CJLST_NTuples_prepared/VBFH125/ZZ4lAnalysis.root\n",
      "collection set up: 1 files, 62320 entries in total, 62320 of which will be used\n"
     ]
    }
   ],
   "source": [
    "fcoll = FileCollection(input_stream_VBF, 0.0, 1.0)\n",
    "plot_data_VBF = read_data(fcoll, 0, 62000, branches = Config.branches)"
   ]
  },
  {
   "cell_type": "code",
   "execution_count": 30,
   "metadata": {
    "collapsed": false
   },
   "outputs": [
    {
     "name": "stdout",
     "output_type": "stream",
     "text": [
      "skimming /data_CMS/cms/wind/CJLST_NTuples_prepared/ggH125/ZZ4lAnalysis.root\n",
      "collection set up: 1 files, 110483 entries in total, 110483 of which will be used\n"
     ]
    }
   ],
   "source": [
    "fcoll = FileCollection(input_stream_ggH, 0.0, 1.0)\n",
    "plot_data_ggH = read_data(fcoll, 0, 110000, branches = Config.branches)"
   ]
  },
  {
   "cell_type": "code",
   "execution_count": 77,
   "metadata": {
    "collapsed": false
   },
   "outputs": [
    {
     "name": "stdout",
     "output_type": "stream",
     "text": [
      "skimming /data_CMS/cms/wind/CJLST_NTuples_prepared/bbH125/ZZ4lAnalysis.root\n",
      "collection set up: 1 files, 62503 entries in total, 62503 of which will be used\n"
     ]
    }
   ],
   "source": [
    "fcoll = FileCollection(input_stream_bbH, 0.0, 1.0)\n",
    "plot_data_bbH = read_data(fcoll, 0, 62000, branches = Config.branches)"
   ]
  },
  {
   "cell_type": "code",
   "execution_count": 99,
   "metadata": {
    "collapsed": false
   },
   "outputs": [
    {
     "name": "stdout",
     "output_type": "stream",
     "text": [
      "skimming /data_CMS/cms/wind/CJLST_NTuples_prepared/bbH125/ZZ4lAnalysis.root\n",
      "collection set up: 1 files, 62503 entries in total, 62503 of which will be used\n"
     ]
    }
   ],
   "source": [
    "fcoll = FileCollection(input_stream_bbH_2j, 0.0, 1.0)\n",
    "plot_data_bbH_2j = read_data(fcoll, 0, 62000, branches = Config.branches)"
   ]
  },
  {
   "cell_type": "code",
   "execution_count": 71,
   "metadata": {
    "collapsed": false
   },
   "outputs": [
    {
     "name": "stderr",
     "output_type": "stream",
     "text": [
      "/cvmfs/cms.cern.ch/slc6_amd64_gcc630/external/py2-pippkgs/6.0-fmblme/lib/python2.7/site-packages/ipykernel_launcher.py:9: DeprecationWarning: object of type <type 'float'> cannot be safely interpreted as an integer.\n",
      "  if __name__ == '__main__':\n"
     ]
    },
    {
     "data": {
      "image/png": "[encoded data removed]",
      "text/plain": [
       "<matplotlib.figure.Figure at 0x7f2da4515f90>"
      ]
     },
     "metadata": {},
     "output_type": "display_data"
    }
   ],
   "source": [
    "fig, H_ZX = plot_1d_histogram([plot_data_VBF_2j, plot_data_VBF_1j], \n",
    "                              [\"JetEta[JetPt|0]\", \"JetEta[JetPt|0]\"], \n",
    "                              [\"VBF 2j\", \"VBF 1j\"], (-4.7, 4.7, 100.), 'JetEta[JetPt|0]', \"normalized to 1\", log_scale = False)\n",
    "plt.show()"
   ]
  },
  {
   "cell_type": "code",
   "execution_count": 70,
   "metadata": {
    "collapsed": false
   },
   "outputs": [
    {
     "name": "stderr",
     "output_type": "stream",
     "text": [
      "/cvmfs/cms.cern.ch/slc6_amd64_gcc630/external/py2-pippkgs/6.0-fmblme/lib/python2.7/site-packages/ipykernel_launcher.py:9: DeprecationWarning: object of type <type 'float'> cannot be safely interpreted as an integer.\n",
      "  if __name__ == '__main__':\n"
     ]
    },
    {
     "data": {
      "image/png": "[encoded data removed]",
      "text/plain": [
       "<matplotlib.figure.Figure at 0x7f2da44c7690>"
      ]
     },
     "metadata": {},
     "output_type": "display_data"
    }
   ],
   "source": [
    "fig, H_ZX = plot_1d_histogram([plot_data_VBF, plot_data_VBF], \n",
    "                              [\"nCleanedJetsPt30\", \"nCleanedJetsPt30\"], \n",
    "                              [\"VBF 2j\", \"VBF 1j\"], (0, 7, 8.), 'nCleanedJetsPt30', \"normalized to 1\", log_scale = False)\n",
    "plt.show()"
   ]
  },
  {
   "cell_type": "code",
   "execution_count": 87,
   "metadata": {
    "collapsed": false
   },
   "outputs": [
    {
     "data": {
      "image/png": "[encoded data removed]",
      "text/plain": [
       "<matplotlib.figure.Figure at 0x7f2d9ffe4950>"
      ]
     },
     "metadata": {},
     "output_type": "display_data"
    }
   ],
   "source": [
    "fig, H_ZX = plot_1d_histogram([plot_data_bbH, plot_data_ggH], \n",
    "                              [\"nCleanedJetsPt30\", \"nCleanedJetsPt30\"], \n",
    "                              [\"bbH\", \"ttHh\"], (0, 7, 8), 'ZZEta', \"normalized to 1\", log_scale = False)\n",
    "#plt.savefig(\"ZX_ZHl_Zhl_ggH.pdf\")\n",
    "plt.show()"
   ]
  },
  {
   "cell_type": "code",
   "execution_count": 93,
   "metadata": {
    "collapsed": false
   },
   "outputs": [
    {
     "data": {
      "image/png": "[encoded data removed]",
      "text/plain": [
       "<matplotlib.figure.Figure at 0x7f2d9f8b3a50>"
      ]
     },
     "metadata": {},
     "output_type": "display_data"
    }
   ],
   "source": [
    "fig, H_ZX = plot_1d_histogram([plot_data_bbH, plot_data_ttHl], \n",
    "                              [\"nCleanedJetsPt30BTagged_bTagSF\", \"nCleanedJetsPt30BTagged_bTagSF\"], \n",
    "                              [\"bbH\", \"ggH\"], (0, 7, 8), 'ZZEta', \"normalized to 1\", log_scale = False)\n",
    "#plt.savefig(\"ZX_ZHl_Zhl_ggH.pdf\")\n",
    "plt.show()"
   ]
  },
  {
   "cell_type": "code",
   "execution_count": 98,
   "metadata": {
    "collapsed": false
   },
   "outputs": [
    {
     "data": {
      "image/png": "[encoded data removed]",
      "text/plain": [
       "<matplotlib.figure.Figure at 0x7f2d9fd27110>"
      ]
     },
     "metadata": {},
     "output_type": "display_data"
    }
   ],
   "source": [
    "fig, H_ZX = plot_1d_histogram([plot_data_bbH, plot_data_ttHl], \n",
    "                              [\"PFMET\", \"PFMET\"], \n",
    "                              [\"bbH\", \"ttH\"], (0, 200, 50), 'ZZEta', \"normalized to 1\", log_scale = False)\n",
    "#plt.savefig(\"ZX_ZHl_Zhl_ggH.pdf\")\n",
    "plt.show()"
   ]
  },
  {
   "cell_type": "code",
   "execution_count": 123,
   "metadata": {
    "collapsed": false
   },
   "outputs": [
    {
     "data": {
      "image/png": "[encoded data removed]",
      "text/plain": [
       "<matplotlib.figure.Figure at 0x7f2d9fad5f10>"
      ]
     },
     "metadata": {},
     "output_type": "display_data"
    }
   ],
   "source": [
    "fig, H_ZX = plot_1d_histogram([plot_data_bbH, plot_data_ttHl], \n",
    "                              [\"ZZPt\", \"ZZPt\"], \n",
    "                              [\"bbH\", \"ttH\"], (0, 300, 50), 'ZZPt', \"normalized to 1\", log_scale = False)\n",
    "#plt.savefig(\"ZX_ZHl_Zhl_ggH.pdf\")\n",
    "plt.show()"
   ]
  },
  {
   "cell_type": "code",
   "execution_count": 124,
   "metadata": {
    "collapsed": false
   },
   "outputs": [
    {
     "data": {
      "image/png": "[encoded data removed]",
      "text/plain": [
       "<matplotlib.figure.Figure at 0x7f2d9eb38f90>"
      ]
     },
     "metadata": {},
     "output_type": "display_data"
    }
   ],
   "source": [
    "fig, H_ZX = plot_1d_histogram([plot_data_bbH, plot_data_ttHh], \n",
    "                              [\"ZZEta\", \"ZZEta\"], \n",
    "                              [\"bbH\", \"ttH\"], (-4.7, 4.7, 50), 'ZZPt', \"normalized to 1\", log_scale = False)\n",
    "#plt.savefig(\"ZX_ZHl_Zhl_ggH.pdf\")\n",
    "plt.show()"
   ]
  },
  {
   "cell_type": "code",
   "execution_count": 24,
   "metadata": {
    "collapsed": false
   },
   "outputs": [
    {
     "name": "stderr",
     "output_type": "stream",
     "text": [
      "/cvmfs/cms.cern.ch/slc6_amd64_gcc630/external/py2-pippkgs/6.0-fmblme/lib/python2.7/site-packages/ipykernel_launcher.py:9: DeprecationWarning: object of type <type 'float'> cannot be safely interpreted as an integer.\n",
      "  if __name__ == '__main__':\n"
     ]
    },
    {
     "data": {
      "image/png": "[encoded data removed]",
      "text/plain": [
       "<matplotlib.figure.Figure at 0x7fefa2555190>"
      ]
     },
     "metadata": {},
     "output_type": "display_data"
    }
   ],
   "source": [
    "fig, H_ZX = plot_1d_histogram([plot_data_VBF, plot_data_ggH], \n",
    "                              [\"ZZEta\", \"ZZEta\"], \n",
    "                              [\"VBF\", \"ggH\"], (-4, 4, 100.), 'ZZEta', \"normalized to 1\", log_scale = False)\n",
    "#plt.savefig(\"ZX_ZHl_Zhl_ggH.pdf\")\n",
    "plt.show()"
   ]
  },
  {
   "cell_type": "code",
   "execution_count": 73,
   "metadata": {
    "collapsed": false
   },
   "outputs": [
    {
     "name": "stdout",
     "output_type": "stream",
     "text": [
      "[[ 1.          0.00750284]\n",
      " [ 0.00750284  1.        ]]\n"
     ]
    }
   ],
   "source": [
    "fig, H_VBF = plot_2d_histogram(plot_data_VBF_2j, \"JetPt[JetPt|0]\", \"JetEta[JetPt|0]\", (30, 500, 10), (-4.7, 4.7, 10), \"Pt\", \"Eta\")"
   ]
  },
  {
   "cell_type": "code",
   "execution_count": 74,
   "metadata": {
    "collapsed": false
   },
   "outputs": [
    {
     "data": {
      "image/png": "[encoded data removed]",
      "text/plain": [
       "<matplotlib.figure.Figure at 0x7f2da43de410>"
      ]
     },
     "metadata": {},
     "output_type": "display_data"
    }
   ],
   "source": [
    "plt.show()"
   ]
  },
  {
   "cell_type": "code",
   "execution_count": null,
   "metadata": {
    "collapsed": true
   },
   "outputs": [],
   "source": []
  }
 ],
 "metadata": {
  "kernelspec": {
   "display_name": "Python 2",
   "language": "python",
   "name": "python2"
  },
  "language_info": {
   "codemirror_mode": {
    "name": "ipython",
    "version": 2
   },
   "file_extension": ".py",
   "mimetype": "text/x-python",
   "name": "python",
   "nbconvert_exporter": "python",
   "pygments_lexer": "ipython2",
   "version": "2.7.11"
  }
 },
 "nbformat": 4,
 "nbformat_minor": 2
}
