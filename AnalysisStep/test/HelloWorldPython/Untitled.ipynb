{
 "cells": [
  {
   "cell_type": "code",
   "execution_count": 18,
   "metadata": {
    "collapsed": false
   },
   "outputs": [],
   "source": [
    "from ROOT import TFile\n",
    "import array"
   ]
  },
  {
   "cell_type": "code",
   "execution_count": 19,
   "metadata": {
    "collapsed": true
   },
   "outputs": [],
   "source": [
    "def process_file(inpath, outpath, file):\n",
    "    filename = \"/ZZ4lAnalysis.root\"\n",
    "    f = TFile.Open(inpath + file + filename)\n",
    "    counters = f.Get(\"ZZTree/Counters\")\n",
    "    tree = f.Get(\"ZZTree/candTree\")\n",
    "    newfile = TFile(outpath + file + filename, \"RECREATE\")\n",
    "    newfile.mkdir(\"ZZTree\")\n",
    "    newfile.cd(\"ZZTree\")\n",
    "    \n",
    "    newtree = tree.CloneTree(0)\n",
    "    \n",
    "    # add definition of computation result here\n",
    "    leaves = \"testval/D\"\n",
    "    leafValues = array.array(\"f\", [0.0])\n",
    "    \n",
    "    newBranch = newtree.Branch(\"testval\", leafValues, leaves)\n",
    "    \n",
    "    for i in range(tree.GetEntries()):\n",
    "        tree.GetEntry(i)\n",
    "        \n",
    "        # add own computation here\n",
    "        leafValues[0] = 2.0 * tree.PFMET\n",
    "    \n",
    "        newtree.Fill()\n",
    "        \n",
    "    newtree.Write()\n",
    "    counters.Write()\n",
    "    newfile.Close()"
   ]
  },
  {
   "cell_type": "code",
   "execution_count": 22,
   "metadata": {
    "collapsed": true
   },
   "outputs": [],
   "source": [
    "inpath = \"/data_CMS/cms/tsculac/CJLST_NTuples/\"\n",
    "outpath = \"/home/llr/cms/wind/CJLST_NTuples/\"\n",
    "files = [\"ggH125\"]"
   ]
  },
  {
   "cell_type": "code",
   "execution_count": 23,
   "metadata": {
    "collapsed": false
   },
   "outputs": [],
   "source": [
    "for file in files:\n",
    "    process_file(inpath, outpath, file)"
   ]
  },
  {
   "cell_type": "code",
   "execution_count": null,
   "metadata": {
    "collapsed": true
   },
   "outputs": [],
   "source": []
  }
 ],
 "metadata": {
  "kernelspec": {
   "display_name": "Python 2",
   "language": "python",
   "name": "python2"
  },
  "language_info": {
   "codemirror_mode": {
    "name": "ipython",
    "version": 2
   },
   "file_extension": ".py",
   "mimetype": "text/x-python",
   "name": "python",
   "nbconvert_exporter": "python",
   "pygments_lexer": "ipython2",
   "version": "2.7.11"
  }
 },
 "nbformat": 4,
 "nbformat_minor": 2
}
